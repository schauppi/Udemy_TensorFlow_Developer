{
  "nbformat": 4,
  "nbformat_minor": 0,
  "metadata": {
    "colab": {
      "name": "10_time_series_forecasting_with_tensorflow.ipynb",
      "provenance": [],
      "collapsed_sections": [],
      "authorship_tag": "ABX9TyO1rCDDzHegdP9aQa03w2TO",
      "include_colab_link": true
    },
    "kernelspec": {
      "name": "python3",
      "display_name": "Python 3"
    },
    "language_info": {
      "name": "python"
    },
    "accelerator": "GPU"
  },
  "cells": [
    {
      "cell_type": "markdown",
      "metadata": {
        "id": "view-in-github",
        "colab_type": "text"
      },
      "source": [
        "<a href=\"https://colab.research.google.com/github/schauppi/Udemy_TensorFlow_Developer/blob/main/Abschnit_10_Time_series_fundamentals_in_TensorFlow/10_time_series_forecasting_with_tensorflow.ipynb\" target=\"_parent\"><img src=\"https://colab.research.google.com/assets/colab-badge.svg\" alt=\"Open In Colab\"/></a>"
      ]
    },
    {
      "cell_type": "markdown",
      "metadata": {
        "id": "O3OMWyGE88jj"
      },
      "source": [
        "## Time series forecasting fundamentals with TensorFlow + Milestone Project 3: BitPredict"
      ]
    },
    {
      "cell_type": "markdown",
      "metadata": {
        "id": "dRotsBwM9K1T"
      },
      "source": [
        "## Get data\n",
        "\n",
        "We´re going to be using the historical price data of Bitcoin to try to predict the future price of Bitcoin."
      ]
    },
    {
      "cell_type": "code",
      "metadata": {
        "colab": {
          "base_uri": "https://localhost:8080/"
        },
        "id": "NcI8Vm8Q9lo6",
        "outputId": "7d418e15-2a1c-46db-d272-3e63de2e8aa4"
      },
      "source": [
        "!wget https://raw.githubusercontent.com/mrdbourke/tensorflow-deep-learning/main/extras/BTC_USD_2013-10-01_2021-05-18-CoinDesk.csv"
      ],
      "execution_count": 1,
      "outputs": [
        {
          "output_type": "stream",
          "text": [
            "--2021-08-25 16:42:24--  https://raw.githubusercontent.com/mrdbourke/tensorflow-deep-learning/main/extras/BTC_USD_2013-10-01_2021-05-18-CoinDesk.csv\n",
            "Resolving raw.githubusercontent.com (raw.githubusercontent.com)... 185.199.108.133, 185.199.109.133, 185.199.110.133, ...\n",
            "Connecting to raw.githubusercontent.com (raw.githubusercontent.com)|185.199.108.133|:443... connected.\n",
            "HTTP request sent, awaiting response... 200 OK\n",
            "Length: 178509 (174K) [text/plain]\n",
            "Saving to: ‘BTC_USD_2013-10-01_2021-05-18-CoinDesk.csv’\n",
            "\n",
            "\r          BTC_USD_2   0%[                    ]       0  --.-KB/s               \rBTC_USD_2013-10-01_ 100%[===================>] 174.33K  --.-KB/s    in 0.02s   \n",
            "\n",
            "2021-08-25 16:42:24 (7.51 MB/s) - ‘BTC_USD_2013-10-01_2021-05-18-CoinDesk.csv’ saved [178509/178509]\n",
            "\n"
          ],
          "name": "stdout"
        }
      ]
    },
    {
      "cell_type": "markdown",
      "metadata": {
        "id": "0IwAoX1M-P0V"
      },
      "source": [
        "## Importing time series with pandas"
      ]
    },
    {
      "cell_type": "code",
      "metadata": {
        "id": "ekq0KjVO-aOM"
      },
      "source": [
        "# Import with pandas\n",
        "import pandas as pd\n",
        "# Read in our Bitcoin data and parse the dates\n",
        "df = pd.read_csv(\"/content/BTC_USD_2013-10-01_2021-05-18-CoinDesk.csv\",\n",
        "                 parse_dates=[\"Date\"],\n",
        "                 index_col=[\"Date\"]) #Parse the date column and tell pandas column 1 is a datetime"
      ],
      "execution_count": 2,
      "outputs": []
    },
    {
      "cell_type": "code",
      "metadata": {
        "colab": {
          "base_uri": "https://localhost:8080/",
          "height": 236
        },
        "id": "EDRjPx8H_Ier",
        "outputId": "50c0a492-e568-44b2-e74f-3e153ea8d91e"
      },
      "source": [
        "df.head()"
      ],
      "execution_count": 3,
      "outputs": [
        {
          "output_type": "execute_result",
          "data": {
            "text/html": [
              "<div>\n",
              "<style scoped>\n",
              "    .dataframe tbody tr th:only-of-type {\n",
              "        vertical-align: middle;\n",
              "    }\n",
              "\n",
              "    .dataframe tbody tr th {\n",
              "        vertical-align: top;\n",
              "    }\n",
              "\n",
              "    .dataframe thead th {\n",
              "        text-align: right;\n",
              "    }\n",
              "</style>\n",
              "<table border=\"1\" class=\"dataframe\">\n",
              "  <thead>\n",
              "    <tr style=\"text-align: right;\">\n",
              "      <th></th>\n",
              "      <th>Currency</th>\n",
              "      <th>Closing Price (USD)</th>\n",
              "      <th>24h Open (USD)</th>\n",
              "      <th>24h High (USD)</th>\n",
              "      <th>24h Low (USD)</th>\n",
              "    </tr>\n",
              "    <tr>\n",
              "      <th>Date</th>\n",
              "      <th></th>\n",
              "      <th></th>\n",
              "      <th></th>\n",
              "      <th></th>\n",
              "      <th></th>\n",
              "    </tr>\n",
              "  </thead>\n",
              "  <tbody>\n",
              "    <tr>\n",
              "      <th>2013-10-01</th>\n",
              "      <td>BTC</td>\n",
              "      <td>123.65499</td>\n",
              "      <td>124.30466</td>\n",
              "      <td>124.75166</td>\n",
              "      <td>122.56349</td>\n",
              "    </tr>\n",
              "    <tr>\n",
              "      <th>2013-10-02</th>\n",
              "      <td>BTC</td>\n",
              "      <td>125.45500</td>\n",
              "      <td>123.65499</td>\n",
              "      <td>125.75850</td>\n",
              "      <td>123.63383</td>\n",
              "    </tr>\n",
              "    <tr>\n",
              "      <th>2013-10-03</th>\n",
              "      <td>BTC</td>\n",
              "      <td>108.58483</td>\n",
              "      <td>125.45500</td>\n",
              "      <td>125.66566</td>\n",
              "      <td>83.32833</td>\n",
              "    </tr>\n",
              "    <tr>\n",
              "      <th>2013-10-04</th>\n",
              "      <td>BTC</td>\n",
              "      <td>118.67466</td>\n",
              "      <td>108.58483</td>\n",
              "      <td>118.67500</td>\n",
              "      <td>107.05816</td>\n",
              "    </tr>\n",
              "    <tr>\n",
              "      <th>2013-10-05</th>\n",
              "      <td>BTC</td>\n",
              "      <td>121.33866</td>\n",
              "      <td>118.67466</td>\n",
              "      <td>121.93633</td>\n",
              "      <td>118.00566</td>\n",
              "    </tr>\n",
              "  </tbody>\n",
              "</table>\n",
              "</div>"
            ],
            "text/plain": [
              "           Currency  Closing Price (USD)  ...  24h High (USD)  24h Low (USD)\n",
              "Date                                      ...                               \n",
              "2013-10-01      BTC            123.65499  ...       124.75166      122.56349\n",
              "2013-10-02      BTC            125.45500  ...       125.75850      123.63383\n",
              "2013-10-03      BTC            108.58483  ...       125.66566       83.32833\n",
              "2013-10-04      BTC            118.67466  ...       118.67500      107.05816\n",
              "2013-10-05      BTC            121.33866  ...       121.93633      118.00566\n",
              "\n",
              "[5 rows x 5 columns]"
            ]
          },
          "metadata": {},
          "execution_count": 3
        }
      ]
    },
    {
      "cell_type": "code",
      "metadata": {
        "colab": {
          "base_uri": "https://localhost:8080/"
        },
        "id": "gkLprH5t_MId",
        "outputId": "fdb3919e-5ba9-42bc-ea4e-91d5e3b417e2"
      },
      "source": [
        "df.info()"
      ],
      "execution_count": 4,
      "outputs": [
        {
          "output_type": "stream",
          "text": [
            "<class 'pandas.core.frame.DataFrame'>\n",
            "DatetimeIndex: 2787 entries, 2013-10-01 to 2021-05-18\n",
            "Data columns (total 5 columns):\n",
            " #   Column               Non-Null Count  Dtype  \n",
            "---  ------               --------------  -----  \n",
            " 0   Currency             2787 non-null   object \n",
            " 1   Closing Price (USD)  2787 non-null   float64\n",
            " 2   24h Open (USD)       2787 non-null   float64\n",
            " 3   24h High (USD)       2787 non-null   float64\n",
            " 4   24h Low (USD)        2787 non-null   float64\n",
            "dtypes: float64(4), object(1)\n",
            "memory usage: 130.6+ KB\n"
          ],
          "name": "stdout"
        }
      ]
    },
    {
      "cell_type": "code",
      "metadata": {
        "colab": {
          "base_uri": "https://localhost:8080/"
        },
        "id": "W3ZhdHw4_RD0",
        "outputId": "2af7cec8-6844-4574-beb8-b0b8efb6e12e"
      },
      "source": [
        "# How many samples do we have?\n",
        "len(df)"
      ],
      "execution_count": 5,
      "outputs": [
        {
          "output_type": "execute_result",
          "data": {
            "text/plain": [
              "2787"
            ]
          },
          "metadata": {},
          "execution_count": 5
        }
      ]
    },
    {
      "cell_type": "code",
      "metadata": {
        "colab": {
          "base_uri": "https://localhost:8080/",
          "height": 236
        },
        "id": "Y2qQs02w_gAU",
        "outputId": "fe676417-a218-47dc-ecdf-89ad32aa3358"
      },
      "source": [
        "df.tail()"
      ],
      "execution_count": 6,
      "outputs": [
        {
          "output_type": "execute_result",
          "data": {
            "text/html": [
              "<div>\n",
              "<style scoped>\n",
              "    .dataframe tbody tr th:only-of-type {\n",
              "        vertical-align: middle;\n",
              "    }\n",
              "\n",
              "    .dataframe tbody tr th {\n",
              "        vertical-align: top;\n",
              "    }\n",
              "\n",
              "    .dataframe thead th {\n",
              "        text-align: right;\n",
              "    }\n",
              "</style>\n",
              "<table border=\"1\" class=\"dataframe\">\n",
              "  <thead>\n",
              "    <tr style=\"text-align: right;\">\n",
              "      <th></th>\n",
              "      <th>Currency</th>\n",
              "      <th>Closing Price (USD)</th>\n",
              "      <th>24h Open (USD)</th>\n",
              "      <th>24h High (USD)</th>\n",
              "      <th>24h Low (USD)</th>\n",
              "    </tr>\n",
              "    <tr>\n",
              "      <th>Date</th>\n",
              "      <th></th>\n",
              "      <th></th>\n",
              "      <th></th>\n",
              "      <th></th>\n",
              "      <th></th>\n",
              "    </tr>\n",
              "  </thead>\n",
              "  <tbody>\n",
              "    <tr>\n",
              "      <th>2021-05-14</th>\n",
              "      <td>BTC</td>\n",
              "      <td>49764.132082</td>\n",
              "      <td>49596.778891</td>\n",
              "      <td>51448.798576</td>\n",
              "      <td>46294.720180</td>\n",
              "    </tr>\n",
              "    <tr>\n",
              "      <th>2021-05-15</th>\n",
              "      <td>BTC</td>\n",
              "      <td>50032.693137</td>\n",
              "      <td>49717.354353</td>\n",
              "      <td>51578.312545</td>\n",
              "      <td>48944.346536</td>\n",
              "    </tr>\n",
              "    <tr>\n",
              "      <th>2021-05-16</th>\n",
              "      <td>BTC</td>\n",
              "      <td>47885.625255</td>\n",
              "      <td>49926.035067</td>\n",
              "      <td>50690.802950</td>\n",
              "      <td>47005.102292</td>\n",
              "    </tr>\n",
              "    <tr>\n",
              "      <th>2021-05-17</th>\n",
              "      <td>BTC</td>\n",
              "      <td>45604.615754</td>\n",
              "      <td>46805.537852</td>\n",
              "      <td>49670.414174</td>\n",
              "      <td>43868.638969</td>\n",
              "    </tr>\n",
              "    <tr>\n",
              "      <th>2021-05-18</th>\n",
              "      <td>BTC</td>\n",
              "      <td>43144.471291</td>\n",
              "      <td>46439.336570</td>\n",
              "      <td>46622.853437</td>\n",
              "      <td>42102.346430</td>\n",
              "    </tr>\n",
              "  </tbody>\n",
              "</table>\n",
              "</div>"
            ],
            "text/plain": [
              "           Currency  Closing Price (USD)  ...  24h High (USD)  24h Low (USD)\n",
              "Date                                      ...                               \n",
              "2021-05-14      BTC         49764.132082  ...    51448.798576   46294.720180\n",
              "2021-05-15      BTC         50032.693137  ...    51578.312545   48944.346536\n",
              "2021-05-16      BTC         47885.625255  ...    50690.802950   47005.102292\n",
              "2021-05-17      BTC         45604.615754  ...    49670.414174   43868.638969\n",
              "2021-05-18      BTC         43144.471291  ...    46622.853437   42102.346430\n",
              "\n",
              "[5 rows x 5 columns]"
            ]
          },
          "metadata": {},
          "execution_count": 6
        }
      ]
    },
    {
      "cell_type": "code",
      "metadata": {
        "colab": {
          "base_uri": "https://localhost:8080/",
          "height": 236
        },
        "id": "9nw9rYnn_kYK",
        "outputId": "63b276bf-36b8-4615-9865-38e9a0a32d11"
      },
      "source": [
        "#Only want closing price for each day\n",
        "bitcoin_prices = pd.DataFrame(df[\"Closing Price (USD)\"]).rename(columns={\"Closing Price (USD)\": \"Price\"})\n",
        "bitcoin_prices.head()"
      ],
      "execution_count": 7,
      "outputs": [
        {
          "output_type": "execute_result",
          "data": {
            "text/html": [
              "<div>\n",
              "<style scoped>\n",
              "    .dataframe tbody tr th:only-of-type {\n",
              "        vertical-align: middle;\n",
              "    }\n",
              "\n",
              "    .dataframe tbody tr th {\n",
              "        vertical-align: top;\n",
              "    }\n",
              "\n",
              "    .dataframe thead th {\n",
              "        text-align: right;\n",
              "    }\n",
              "</style>\n",
              "<table border=\"1\" class=\"dataframe\">\n",
              "  <thead>\n",
              "    <tr style=\"text-align: right;\">\n",
              "      <th></th>\n",
              "      <th>Price</th>\n",
              "    </tr>\n",
              "    <tr>\n",
              "      <th>Date</th>\n",
              "      <th></th>\n",
              "    </tr>\n",
              "  </thead>\n",
              "  <tbody>\n",
              "    <tr>\n",
              "      <th>2013-10-01</th>\n",
              "      <td>123.65499</td>\n",
              "    </tr>\n",
              "    <tr>\n",
              "      <th>2013-10-02</th>\n",
              "      <td>125.45500</td>\n",
              "    </tr>\n",
              "    <tr>\n",
              "      <th>2013-10-03</th>\n",
              "      <td>108.58483</td>\n",
              "    </tr>\n",
              "    <tr>\n",
              "      <th>2013-10-04</th>\n",
              "      <td>118.67466</td>\n",
              "    </tr>\n",
              "    <tr>\n",
              "      <th>2013-10-05</th>\n",
              "      <td>121.33866</td>\n",
              "    </tr>\n",
              "  </tbody>\n",
              "</table>\n",
              "</div>"
            ],
            "text/plain": [
              "                Price\n",
              "Date                 \n",
              "2013-10-01  123.65499\n",
              "2013-10-02  125.45500\n",
              "2013-10-03  108.58483\n",
              "2013-10-04  118.67466\n",
              "2013-10-05  121.33866"
            ]
          },
          "metadata": {},
          "execution_count": 7
        }
      ]
    },
    {
      "cell_type": "code",
      "metadata": {
        "colab": {
          "base_uri": "https://localhost:8080/",
          "height": 477
        },
        "id": "rekWMqwjG6kQ",
        "outputId": "00f55b0c-b6c1-4a0b-fd82-bc9ddf1ac060"
      },
      "source": [
        "import matplotlib.pyplot as plt\n",
        "\n",
        "bitcoin_prices.plot(figsize=(10,7))\n",
        "plt.ylabel(\"BTC Price\")\n",
        "plt.title(\"Price of Bitcoin from 1 Oct 2013 to 18 May 2021\", fontsize=16)\n",
        "plt.legend(fontsize=14)"
      ],
      "execution_count": 8,
      "outputs": [
        {
          "output_type": "execute_result",
          "data": {
            "text/plain": [
              "<matplotlib.legend.Legend at 0x7faa3ab429d0>"
            ]
          },
          "metadata": {},
          "execution_count": 8
        },
        {
          "output_type": "display_data",
          "data": {
            "image/png": "[encoded data removed]",
            "text/plain": [
              "<Figure size 720x504 with 1 Axes>"
            ]
          },
          "metadata": {
            "needs_background": "light"
          }
        }
      ]
    },
    {
      "cell_type": "markdown",
      "metadata": {
        "id": "vrkJQxFqHXRL"
      },
      "source": [
        "## Import time series data with Python´s CSV module"
      ]
    },
    {
      "cell_type": "code",
      "metadata": {
        "colab": {
          "base_uri": "https://localhost:8080/"
        },
        "id": "ea_1ma6pKCdu",
        "outputId": "70ef3ef1-da5a-4616-b3f3-bb1261e20277"
      },
      "source": [
        "# Importing and formatting historical Bitcoin data with Python\n",
        "import csv\n",
        "from datetime import datetime\n",
        "\n",
        "timesteps = []\n",
        "btc_price = []\n",
        "with open(\"/content/BTC_USD_2013-10-01_2021-05-18-CoinDesk.csv\", \"r\") as f:\n",
        "  csv_reader = csv.reader(f, delimiter=\",\")\n",
        "  next(csv_reader) #Skip first line (gets rid of the column titles)\n",
        "  for line in csv_reader:\n",
        "    timesteps.append(datetime.strptime(line[1], \"%Y-%m-%d\")) #get the dates as dates (not as string)\n",
        "    btc_price.append(float(line[2]))\n",
        "\n",
        "#View first 10 of each\n",
        "timesteps[:10], btc_price[:10]"
      ],
      "execution_count": 9,
      "outputs": [
        {
          "output_type": "execute_result",
          "data": {
            "text/plain": [
              "([datetime.datetime(2013, 10, 1, 0, 0),\n",
              "  datetime.datetime(2013, 10, 2, 0, 0),\n",
              "  datetime.datetime(2013, 10, 3, 0, 0),\n",
              "  datetime.datetime(2013, 10, 4, 0, 0),\n",
              "  datetime.datetime(2013, 10, 5, 0, 0),\n",
              "  datetime.datetime(2013, 10, 6, 0, 0),\n",
              "  datetime.datetime(2013, 10, 7, 0, 0),\n",
              "  datetime.datetime(2013, 10, 8, 0, 0),\n",
              "  datetime.datetime(2013, 10, 9, 0, 0),\n",
              "  datetime.datetime(2013, 10, 10, 0, 0)],\n",
              " [123.65499,\n",
              "  125.455,\n",
              "  108.58483,\n",
              "  118.67466,\n",
              "  121.33866,\n",
              "  120.65533,\n",
              "  121.795,\n",
              "  123.033,\n",
              "  124.049,\n",
              "  125.96116])"
            ]
          },
          "metadata": {},
          "execution_count": 9
        }
      ]
    },
    {
      "cell_type": "code",
      "metadata": {
        "colab": {
          "base_uri": "https://localhost:8080/",
          "height": 481
        },
        "id": "j5azAm2dLmj7",
        "outputId": "92774353-de22-4c4f-ec89-d46fcf953214"
      },
      "source": [
        "#Plot from CSV\n",
        "import matplotlib.pyplot as plt\n",
        "import numpy as np\n",
        "plt.figure(figsize=(10,7))\n",
        "plt.plot(timesteps, btc_price)\n",
        "plt.ylabel(\"BTC Price\")\n",
        "plt.title(\"Price of Bitcoin from 1 Oct 2013 to 18 May 2021\", fontsize=16)\n",
        "plt.legend(fontsize=14)"
      ],
      "execution_count": 10,
      "outputs": [
        {
          "output_type": "stream",
          "text": [
            "No handles with labels found to put in legend.\n"
          ],
          "name": "stderr"
        },
        {
          "output_type": "execute_result",
          "data": {
            "text/plain": [
              "<matplotlib.legend.Legend at 0x7faa3a6d0b50>"
            ]
          },
          "metadata": {},
          "execution_count": 10
        },
        {
          "output_type": "display_data",
          "data": {
            "image/png": "[encoded data removed]",
            "text/plain": [
              "<Figure size 720x504 with 1 Axes>"
            ]
          },
          "metadata": {
            "needs_background": "light"
          }
        }
      ]
    },
    {
      "cell_type": "markdown",
      "metadata": {
        "id": "oGuxX2LbMPrE"
      },
      "source": [
        "## Format data part 1: Create train and test sets of our time series data"
      ]
    },
    {
      "cell_type": "markdown",
      "metadata": {
        "id": "fUsY0_YtaN8J"
      },
      "source": [
        "### Creating train and test sets with tume series data"
      ]
    },
    {
      "cell_type": "code",
      "metadata": {
        "colab": {
          "base_uri": "https://localhost:8080/"
        },
        "id": "QvvGhCdWaQV5",
        "outputId": "1ca5841c-e4c9-439b-e78d-acef68bd5da6"
      },
      "source": [
        "# Get bitcoin data array\n",
        "timesteps = bitcoin_prices.index.to_numpy()\n",
        "prices = bitcoin_prices[\"Price\"].to_numpy()\n",
        "\n",
        "timesteps[:10], prices[:10]"
      ],
      "execution_count": 11,
      "outputs": [
        {
          "output_type": "execute_result",
          "data": {
            "text/plain": [
              "(array(['2013-10-01T00:00:00.000000000', '2013-10-02T00:00:00.000000000',\n",
              "        '2013-10-03T00:00:00.000000000', '2013-10-04T00:00:00.000000000',\n",
              "        '2013-10-05T00:00:00.000000000', '2013-10-06T00:00:00.000000000',\n",
              "        '2013-10-07T00:00:00.000000000', '2013-10-08T00:00:00.000000000',\n",
              "        '2013-10-09T00:00:00.000000000', '2013-10-10T00:00:00.000000000'],\n",
              "       dtype='datetime64[ns]'),\n",
              " array([123.65499, 125.455  , 108.58483, 118.67466, 121.33866, 120.65533,\n",
              "        121.795  , 123.033  , 124.049  , 125.96116]))"
            ]
          },
          "metadata": {},
          "execution_count": 11
        }
      ]
    },
    {
      "cell_type": "markdown",
      "metadata": {
        "id": "7-5xMOTqa-_n"
      },
      "source": [
        "### Create train & test sets for time series"
      ]
    },
    {
      "cell_type": "code",
      "metadata": {
        "id": "sMqk9fOayaxO",
        "colab": {
          "base_uri": "https://localhost:8080/"
        },
        "outputId": "81bb0e4e-8ded-4d07-d580-c2ffd04d95f3"
      },
      "source": [
        "# Create train and test splits for time series data\n",
        "split_size = int(0.8*len(prices)) #80% train, 20% test\n",
        "\n",
        "#Create train data splits (everything before the split)\n",
        "x_train, y_train = timesteps[:split_size], prices[:split_size]\n",
        "\n",
        "#Create test data splits (everything beyond the split)\n",
        "x_test, y_test = timesteps[split_size:], prices[split_size:]\n",
        "\n",
        "len(x_train), len(y_train), len(x_test), len(y_test)"
      ],
      "execution_count": 12,
      "outputs": [
        {
          "output_type": "execute_result",
          "data": {
            "text/plain": [
              "(2229, 2229, 558, 558)"
            ]
          },
          "metadata": {},
          "execution_count": 12
        }
      ]
    },
    {
      "cell_type": "code",
      "metadata": {
        "id": "XNJJnJ2Dzh_w",
        "colab": {
          "base_uri": "https://localhost:8080/",
          "height": 442
        },
        "outputId": "26a1e117-e92b-4917-ca23-91e809834c56"
      },
      "source": [
        "# plot train and test set\n",
        "plt.figure(figsize=(10,7))\n",
        "plt.scatter(x_train, y_train, s=5, label=\"Train data\")\n",
        "plt.scatter(x_test, y_test, s=5, label=\"Test data\")\n",
        "plt.xlabel(\"Date\")\n",
        "plt.ylabel(\"BTC Price\")\n",
        "plt.legend(fontsize=14)\n",
        "plt.show()"
      ],
      "execution_count": 13,
      "outputs": [
        {
          "output_type": "display_data",
          "data": {
            "image/png": "[encoded data removed]",
            "text/plain": [
              "<Figure size 720x504 with 1 Axes>"
            ]
          },
          "metadata": {
            "needs_background": "light"
          }
        }
      ]
    },
    {
      "cell_type": "markdown",
      "metadata": {
        "id": "1tMyAMQFOD7p"
      },
      "source": [
        "## Create a plotting function"
      ]
    },
    {
      "cell_type": "code",
      "metadata": {
        "id": "v2g-Unj8OH3g"
      },
      "source": [
        "# Create a function to plot time series data\n",
        "def plot_time_series(timesteps, values, format=\".\", start=0, end=None, label=None):\n",
        "  \"\"\"\n",
        "  Plots timesteps (a series of points in time) against values (a series of values across timestimps)\n",
        "  Parameters:\n",
        "    timestamps: array of timestep values\n",
        "    values: array of values across time\n",
        "    format: style of plot, default \".\"\n",
        "    start: where to start the plot (setting a value will index from start of timesteps)\n",
        "    end: where to end the plot (similar to start but for the end)\n",
        "    label: label to show on plot about values, default None\n",
        "  \"\"\"\n",
        "  plt.plot(timesteps[start:end], values[start:end], format, label=label)\n",
        "  plt.xlabel(\"Time\")\n",
        "  plt.ylabel(\"BTC Price\")\n",
        "  if label:\n",
        "    plt.legend(fontsize=14) #make label bigger\n",
        "  plt.grid(True)"
      ],
      "execution_count": 14,
      "outputs": []
    },
    {
      "cell_type": "code",
      "metadata": {
        "id": "RFFE1I2oPSYY",
        "colab": {
          "base_uri": "https://localhost:8080/",
          "height": 442
        },
        "outputId": "5c88056d-917c-466d-8075-b7817cdf3cb1"
      },
      "source": [
        "#Test out plotting function\n",
        "plt.figure(figsize=(10,7))\n",
        "plot_time_series(timesteps=x_train, values=y_train, label=\"Train data\")\n",
        "plot_time_series(timesteps=x_test, values=y_test, label=\"Test data\")"
      ],
      "execution_count": 15,
      "outputs": [
        {
          "output_type": "display_data",
          "data": {
            "image/png": "[encoded data removed]",
            "text/plain": [
              "<Figure size 720x504 with 1 Axes>"
            ]
          },
          "metadata": {
            "needs_background": "light"
          }
        }
      ]
    },
    {
      "cell_type": "markdown",
      "metadata": {
        "id": "cRZjRNgVPge1"
      },
      "source": [
        "## Modelling Experiments\n",
        "\n"
      ]
    },
    {
      "cell_type": "code",
      "metadata": {
        "id": "xmXYQdQhSd-i"
      },
      "source": [
        "naive_forecast = y_test[:-1]"
      ],
      "execution_count": 16,
      "outputs": []
    },
    {
      "cell_type": "code",
      "metadata": {
        "id": "Uxz3GEABvhpb",
        "colab": {
          "base_uri": "https://localhost:8080/"
        },
        "outputId": "69711c56-adc4-41e4-c1aa-f0deef8a14e8"
      },
      "source": [
        "naive_forecast[-10:]"
      ],
      "execution_count": 17,
      "outputs": [
        {
          "output_type": "execute_result",
          "data": {
            "text/plain": [
              "array([57107.12067189, 58788.20967893, 58102.19142623, 55715.54665129,\n",
              "       56573.5554719 , 52147.82118698, 49764.1320816 , 50032.69313676,\n",
              "       47885.62525472, 45604.61575361])"
            ]
          },
          "metadata": {},
          "execution_count": 17
        }
      ]
    },
    {
      "cell_type": "code",
      "metadata": {
        "id": "4MTSybyUvitF",
        "colab": {
          "base_uri": "https://localhost:8080/",
          "height": 442
        },
        "outputId": "c46bc4cd-57cc-4524-8f7f-0c0b66fe7db5"
      },
      "source": [
        "plt.figure(figsize=(10,7))\n",
        "plot_time_series(timesteps=x_test, values=y_test, start=350, format=\"-\", label=\"Test data\")\n",
        "plot_time_series(timesteps=x_test[1:], values=naive_forecast, start=350, format=\"-\", label=\"Naive Forecast\")"
      ],
      "execution_count": 18,
      "outputs": [
        {
          "output_type": "display_data",
          "data": {
            "image/png": "[encoded data removed]",
            "text/plain": [
              "<Figure size 720x504 with 1 Axes>"
            ]
          },
          "metadata": {
            "needs_background": "light"
          }
        }
      ]
    },
    {
      "cell_type": "markdown",
      "metadata": {
        "id": "iMcSGvj8vnoo"
      },
      "source": [
        "## Evaluating a time series model - Evaluation metrics\n",
        "\n",
        "We´re predicting a number - so that means we have a form of a regression problem.\n",
        "\n",
        "Because we´re working on a regression problem, we´ll need some a regression-like metrics.\n",
        "\n",
        "A few comoon regression metrics (which can also be used for time series forecasting)\n",
        "* MAE - mean absolute error\n",
        "* MSE - mean squarred error\n",
        "\n",
        "For all of the above metrics, lower is better, for example, an MAE of 0 that is better than an MAE of 100.\n",
        "\n",
        "The main thing we´re evaluating here is: how do our model´s forecast (y_pred) compare against the actual values (y_true or ground truth values)"
      ]
    },
    {
      "cell_type": "code",
      "metadata": {
        "id": "b0bf8SZGwWQL"
      },
      "source": [
        "import tensorflow as tf\n",
        "\n",
        "# MASE implementation\n",
        "def mean_absolute_scaled_error(y_true, y_pred):\n",
        "  \"\"\"\n",
        "  Implement MASE (assuming no seasonality of data).\n",
        "  \"\"\"\n",
        "  mae = tf.reduce_mean(tf.abs(y_true-y_pred))\n",
        "\n",
        "  # Find MAE of naive forecat (no seasonality)\n",
        "  mae_naive_no_season = tf.reduce_mean(tf.abs(y_true[1:]-y_true[:-1])) #our seasonality is 1 day (hence the shift is 1)\n",
        "\n",
        "  return mae / mae_naive_no_season"
      ],
      "execution_count": 19,
      "outputs": []
    },
    {
      "cell_type": "code",
      "metadata": {
        "id": "Y3RNPYo3vvaQ",
        "colab": {
          "base_uri": "https://localhost:8080/"
        },
        "outputId": "3b4986fe-5018-4b65-e4dc-dbb964038138"
      },
      "source": [
        "mean_absolute_scaled_error(y_true = y_test[1:], y_pred=naive_forecast).numpy()\n"
      ],
      "execution_count": 20,
      "outputs": [
        {
          "output_type": "execute_result",
          "data": {
            "text/plain": [
              "0.9995699939182624"
            ]
          },
          "metadata": {},
          "execution_count": 20
        }
      ]
    },
    {
      "cell_type": "code",
      "metadata": {
        "id": "YUeocVFEw5jM"
      },
      "source": [
        "# Create a function to take in model prediction an truth values and return evaluation metrics\n",
        "def evaluate_preds(y_true, y_pred):\n",
        "  # Make sure float32 datatype (for metric calculations)\n",
        "  y_true = tf.cast(y_true, dtype=tf.float32)\n",
        "  y_pred = tf.cast(y_pred, dtype=tf.float32)\n",
        "\n",
        "  #Calculate various evaluation metrics\n",
        "  mae = tf.keras.metrics.mean_absolute_error(y_true, y_pred)\n",
        "  mse = tf.keras.metrics.mean_squared_error(y_true, y_pred)\n",
        "  rmse = tf.sqrt(mse)\n",
        "  mape = tf.keras.metrics.mean_absolute_percentage_error(y_true, y_pred)\n",
        "  mase = mean_absolute_scaled_error(y_true, y_pred)\n",
        "\n",
        "  return {\"mae\": mae.numpy(),\n",
        "          \"mse\": mse.numpy(),\n",
        "          \"rmse\": rmse.numpy(),\n",
        "          \"mape\": mape.numpy(),\n",
        "          \"mase\": mase.numpy()}"
      ],
      "execution_count": 21,
      "outputs": []
    },
    {
      "cell_type": "code",
      "metadata": {
        "id": "-GckDgohzf8O"
      },
      "source": [
        "naive_results = evaluate_preds(y_true=y_test[1:], y_pred=naive_forecast)"
      ],
      "execution_count": 22,
      "outputs": []
    },
    {
      "cell_type": "code",
      "metadata": {
        "id": "bGBC6kRdzoQe",
        "colab": {
          "base_uri": "https://localhost:8080/"
        },
        "outputId": "d247a285-4c1e-492c-9a45-c48e9fc06898"
      },
      "source": [
        "naive_results"
      ],
      "execution_count": 23,
      "outputs": [
        {
          "output_type": "execute_result",
          "data": {
            "text/plain": [
              "{'mae': 567.9802,\n",
              " 'mape': 2.516525,\n",
              " 'mase': 0.99957,\n",
              " 'mse': 1147547.0,\n",
              " 'rmse': 1071.2362}"
            ]
          },
          "metadata": {},
          "execution_count": 23
        }
      ]
    },
    {
      "cell_type": "markdown",
      "metadata": {
        "id": "LpSyliR7zsWP"
      },
      "source": [
        "## Other models you can use for baselines and for actual forecasts\n",
        "\n",
        "In this notebook, we´re focused on TensorFlow and deep learning models.\n",
        "\n",
        "However there are plenty of other styles of time series forecasting models."
      ]
    },
    {
      "cell_type": "markdown",
      "metadata": {
        "id": "9i-Nigco1Vpy"
      },
      "source": [
        "## Format Data Part 2: Windowing our data\n",
        "\n",
        "Why do we window?\n",
        "\n",
        "We window our time series dataset to turn our data in a supervised learning problem.\n",
        "\n",
        "Windowing for one week\n",
        "[0, 1, 2, 3, 4, 5] - > [6]\n",
        "[1, 2, 3, 4, 5, 6] -> [7]\n",
        "[2, 3, 4, 5, 6, 7] -> [8]"
      ]
    },
    {
      "cell_type": "code",
      "metadata": {
        "id": "ySAVoruz2e9m",
        "colab": {
          "base_uri": "https://localhost:8080/"
        },
        "outputId": "d0c20c79-934b-40eb-8bdc-5cd27e9c573c"
      },
      "source": [
        "len(y_train)"
      ],
      "execution_count": 24,
      "outputs": [
        {
          "output_type": "execute_result",
          "data": {
            "text/plain": [
              "2229"
            ]
          },
          "metadata": {},
          "execution_count": 24
        }
      ]
    },
    {
      "cell_type": "code",
      "metadata": {
        "id": "5YnGNQoV2jTY",
        "colab": {
          "base_uri": "https://localhost:8080/"
        },
        "outputId": "114c0ce4-6b73-4893-9ab3-5ac711b70ffa"
      },
      "source": [
        "#What we want to do with our Bitcoin data\n",
        "print(f\"We want to use: {btc_price[:7]} to predict {btc_price[7]}\")"
      ],
      "execution_count": 25,
      "outputs": [
        {
          "output_type": "stream",
          "text": [
            "We want to use: [123.65499, 125.455, 108.58483, 118.67466, 121.33866, 120.65533, 121.795] to predict 123.033\n"
          ],
          "name": "stdout"
        }
      ]
    },
    {
      "cell_type": "code",
      "metadata": {
        "id": "IEmW-vB62m48"
      },
      "source": [
        "#Let´s setup global variables for window and horizon size\n",
        "HORIZON = 1 #predict next 1 day\n",
        "WINDOW_SIZE = 7 #use the past week of bitcoin data to make the prediction"
      ],
      "execution_count": 26,
      "outputs": []
    },
    {
      "cell_type": "code",
      "metadata": {
        "id": "akxhiqNx3Vj5"
      },
      "source": [
        "#Create function to label windowed data\n",
        "def get_labelled_windows(x, horizon=HORIZON):\n",
        "  \"\"\"\n",
        "  Creates labels for windowed dataset.\n",
        "\n",
        "  E.g. if horizon = 1\n",
        "  Input: [0, 1, 2, 3, 4, 5, 6, 7] -> Output: ([0, 1, 2, 3, 4, 5, 6], [7])\n",
        "  \"\"\"\n",
        "  return x[:, :-horizon], x[:, -horizon:]"
      ],
      "execution_count": 27,
      "outputs": []
    },
    {
      "cell_type": "code",
      "metadata": {
        "id": "AJufaN_l4N-Q",
        "colab": {
          "base_uri": "https://localhost:8080/"
        },
        "outputId": "3779ab67-ed1b-4697-a3a3-ee1b5a3cdc6d"
      },
      "source": [
        "#Test out the window labelling function\n",
        "test_window, test_label = get_labelled_windows(tf.expand_dims(tf.range(8), axis=0))\n",
        "print(f\"Window: {tf.squeeze(test_window).numpy()} -> Label: {tf.squeeze(test_label).numpy()}\")"
      ],
      "execution_count": 28,
      "outputs": [
        {
          "output_type": "stream",
          "text": [
            "Window: [0 1 2 3 4 5 6] -> Label: 7\n"
          ],
          "name": "stdout"
        }
      ]
    },
    {
      "cell_type": "markdown",
      "metadata": {
        "id": "7TTr8tAOFYBZ"
      },
      "source": [
        "We´ve got a wa to label our windowd data. \n",
        "\n",
        "This only works on a small scale. \n",
        "\n",
        "We need a way to do the above across entire time series.\n",
        "\n",
        "We could do this with Python foor loops, however, for large time series this is quite slow. To speed things up, we´ll lerverage NumPy´s array indexing.\n",
        "\n",
        "Our function will:\n",
        "1. Create a window step of specific window size (e.g. [0, 1, 2, 3, 4, 5, 6])\n",
        "2. Use NumPy indexing to create a 2D array of multiple window steps, for example:\n",
        "\n",
        "```\n",
        "[[0, 1, 2, 3, 4, 5, 6],\n",
        "[1, 2, 3, 4, 5, 6, 7],\n",
        "[2, 3, 4, 5, 6, 7, 8]]\n",
        "```\n",
        "2. Uses the 2D array of multiple window steps (form 2.) to index on a target series (e.g. the historical price of Bitcoin)\n",
        "4. Uses our 'get_labelled_windows()` function we created above to turn the window steps into windows with a specified horizon.\n",
        "\n",
        "https://towardsdatascience.com/fast-and-robust-sliding-window-vectorization-with-numpy-3ad950ed62f5"
      ]
    },
    {
      "cell_type": "code",
      "metadata": {
        "id": "wxO8mwLFFfhx"
      },
      "source": [
        "import numpy as np\n",
        "#Create function to view NumPy arrays as windows\n",
        "def make_windows(x, window_size=WINDOW_SIZE, horizon=HORIZON):\n",
        "  \"\"\"\n",
        "  Turn a 1D array into a 2D array of sequential labelled windows of window_size with horizon size labels\n",
        "  \"\"\"\n",
        "  # 1. Create a window of specific window_size (add the horizon on the end for labelling later)\n",
        "  window_step = np.expand_dims(np.arange(window_size+horizon), axis=0)\n",
        "\n",
        "  # 2. Create a 2D array of multiple window steps (minus 1 to account for 0 indexing)\n",
        "  window_indexes = window_step + np.expand_dims(np.arange(len(x) - (window_size+horizon-1)), axis=0).T #create 2D array of windows of size window_size\n",
        "\n",
        "  # 3. Index on the target array ( a time series) with 2D array of multiple window steps\n",
        "  windowed_array = x[window_indexes]\n",
        "\n",
        "  # 5 Get the labelled windows\n",
        "  windows, labels = get_labelled_windows(windowed_array, horizon=horizon)\n",
        "  return windows, labels"
      ],
      "execution_count": 29,
      "outputs": []
    },
    {
      "cell_type": "code",
      "metadata": {
        "id": "zWHT4CCTIPTv"
      },
      "source": [
        "full_windows, full_labels = make_windows(prices)"
      ],
      "execution_count": 30,
      "outputs": []
    },
    {
      "cell_type": "code",
      "metadata": {
        "id": "ftipEUPOJMgv",
        "colab": {
          "base_uri": "https://localhost:8080/"
        },
        "outputId": "f8c8e1c5-3969-466b-91cc-0fb76beaf75a"
      },
      "source": [
        "len(full_windows), len(full_labels)"
      ],
      "execution_count": 31,
      "outputs": [
        {
          "output_type": "execute_result",
          "data": {
            "text/plain": [
              "(2780, 2780)"
            ]
          },
          "metadata": {},
          "execution_count": 31
        }
      ]
    },
    {
      "cell_type": "code",
      "metadata": {
        "id": "xx15O7HHK7VO",
        "colab": {
          "base_uri": "https://localhost:8080/"
        },
        "outputId": "d1726948-6d1c-4a8f-fb87-cb42ea7ede18"
      },
      "source": [
        "#View the first 3 windows/labels\n",
        "for i in range(3):\n",
        "  print(f\"Window: {full_windows[i]} -> Label {full_labels[i]}\")"
      ],
      "execution_count": 32,
      "outputs": [
        {
          "output_type": "stream",
          "text": [
            "Window: [123.65499 125.455   108.58483 118.67466 121.33866 120.65533 121.795  ] -> Label [123.033]\n",
            "Window: [125.455   108.58483 118.67466 121.33866 120.65533 121.795   123.033  ] -> Label [124.049]\n",
            "Window: [108.58483 118.67466 121.33866 120.65533 121.795   123.033   124.049  ] -> Label [125.96116]\n"
          ],
          "name": "stdout"
        }
      ]
    },
    {
      "cell_type": "markdown",
      "metadata": {
        "id": "Du-R6UxcLIBJ"
      },
      "source": [
        "##Turning windows into training an test sets"
      ]
    },
    {
      "cell_type": "code",
      "metadata": {
        "id": "rQIcmORXb1-u"
      },
      "source": [
        "# Make the train/test splits\n",
        "def make_train_test_splits(windows, labels, test_split=0.2):\n",
        "  \"\"\"\n",
        "  Splits matching pairs of windows and labels into train and test splits\n",
        "  \"\"\"\n",
        "  split_size =  int(len(windows) * (1-test_split)) #this will default to 80% train and 20% test split\n",
        "  train_labels = labels[:split_size]\n",
        "  test_labels = labels[split_size:]\n",
        "  train_windows = windows[:split_size]\n",
        "  test_windows = windows[split_size:]\n",
        "  return train_windows, test_windows, train_labels, test_labels"
      ],
      "execution_count": 33,
      "outputs": []
    },
    {
      "cell_type": "code",
      "metadata": {
        "id": "7Qh7FrDRdt9Z",
        "outputId": "bf79b574-20b9-4e95-92f1-ca4871ff5e7d",
        "colab": {
          "base_uri": "https://localhost:8080/"
        }
      },
      "source": [
        "train_windows, test_windows, train_labels, test_labels = make_train_test_splits(full_windows, full_labels)\n",
        "len(train_windows), len(train_labels), len(test_windows), len(test_labels)"
      ],
      "execution_count": 34,
      "outputs": [
        {
          "output_type": "execute_result",
          "data": {
            "text/plain": [
              "(2224, 2224, 556, 556)"
            ]
          },
          "metadata": {},
          "execution_count": 34
        }
      ]
    },
    {
      "cell_type": "code",
      "metadata": {
        "id": "VtrCUgVteBxd",
        "outputId": "f997159b-6a4b-49bd-cf5c-8bb1aec995db",
        "colab": {
          "base_uri": "https://localhost:8080/"
        }
      },
      "source": [
        "train_windows[:5], train_labels[5:]"
      ],
      "execution_count": 35,
      "outputs": [
        {
          "output_type": "execute_result",
          "data": {
            "text/plain": [
              "(array([[123.65499, 125.455  , 108.58483, 118.67466, 121.33866, 120.65533,\n",
              "         121.795  ],\n",
              "        [125.455  , 108.58483, 118.67466, 121.33866, 120.65533, 121.795  ,\n",
              "         123.033  ],\n",
              "        [108.58483, 118.67466, 121.33866, 120.65533, 121.795  , 123.033  ,\n",
              "         124.049  ],\n",
              "        [118.67466, 121.33866, 120.65533, 121.795  , 123.033  , 124.049  ,\n",
              "         125.96116],\n",
              "        [121.33866, 120.65533, 121.795  , 123.033  , 124.049  , 125.96116,\n",
              "         125.27966]]), array([[ 126.38333   ],\n",
              "        [ 135.24199   ],\n",
              "        [ 133.20333   ],\n",
              "        ...,\n",
              "        [9335.75240233],\n",
              "        [9226.48582088],\n",
              "        [8794.35864452]]))"
            ]
          },
          "metadata": {},
          "execution_count": 35
        }
      ]
    },
    {
      "cell_type": "markdown",
      "metadata": {
        "id": "xZm62NzCePs1"
      },
      "source": [
        "## Make a modelling checkpoint\n",
        "\n",
        "Because our model´s performance will fluctuate from experiment to experiment, we´re going to write a model checkpoint so we can compare apples to apples.\n",
        "\n",
        "More specifically, we want to compare each of our model´s best performances against the other model´s best performances.\n",
        "\n",
        "For example if our model performs the best on epoch 55 (but we´re training for 100 epochs), we want to load and evaluate the model saved on epoch 55."
      ]
    },
    {
      "cell_type": "code",
      "metadata": {
        "id": "Gq0DIdEsfIvG"
      },
      "source": [
        "import os\n",
        "\n",
        "#Create a function to implement a ModelCheckpoint callback with a specific filename\n",
        "def create_model_checkpoint(model_name, save_path=\"model_experiments\"):\n",
        "  return tf.keras.callbacks.ModelCheckpoint(filepath=os.path.join(save_path, model_name),\n",
        "                                            verbose=0, #only output a limited amount of text\n",
        "                                            save_best_only=True)"
      ],
      "execution_count": 36,
      "outputs": []
    },
    {
      "cell_type": "markdown",
      "metadata": {
        "id": "v0FDJ7Ibgqix"
      },
      "source": [
        "## Model 1: Dense model (window = 7, horizon = 1)\n",
        "\n",
        "Our first deep model is going to be a simple dense model:\n",
        "* A single dense layer with 128 hidden units ans Relu\n",
        "* An output layer with linear activation (no activation)\n",
        "* Adam optimizer and MAE loss function\n",
        "* Batch size of 128 (previously we´ve used 32)\n",
        "* 100 epochs\n",
        "\n",
        "* Hyperparameters = values a machine learning practitioner can adjust themselves\n",
        "* Parameters = values a model learns on its own"
      ]
    },
    {
      "cell_type": "code",
      "metadata": {
        "id": "wuQDR33phPRI"
      },
      "source": [
        "import tensorflow as tf\n",
        "from tensorflow.keras import layers\n",
        "\n",
        "#Set random seed\n",
        "tf.random.set_seed(42)\n",
        "\n",
        "# Build the model\n",
        "model_1 = tf.keras.Sequential([\n",
        "                               layers.Dense(128, activation=\"relu\"),\n",
        "                               layers.Dense(HORIZON, activation=\"linear\") #linear = no activation\n",
        "], name=\"model_1_dense\")"
      ],
      "execution_count": 37,
      "outputs": []
    },
    {
      "cell_type": "code",
      "metadata": {
        "id": "7t1Z7RzTi1xB"
      },
      "source": [
        "#Compile the model\n",
        "model_1.compile(loss=\"mae\",\n",
        "                optimizer=\"Adam\",\n",
        "                metrics=[\"mae\", \"mse\"])"
      ],
      "execution_count": 38,
      "outputs": []
    },
    {
      "cell_type": "code",
      "metadata": {
        "id": "gt6tvW4ZjOCi",
        "outputId": "53781cac-bd29-4468-db10-7550b31ea6c2",
        "colab": {
          "base_uri": "https://localhost:8080/"
        }
      },
      "source": [
        "#Fit the model \n",
        "model_1.fit(train_windows, train_labels,\n",
        "            epochs=100, verbose=1,\n",
        "            batch_size=128, validation_data=(test_windows, test_labels),\n",
        "            callbacks=[create_model_checkpoint(model_1.name)])"
      ],
      "execution_count": 39,
      "outputs": [
        {
          "output_type": "stream",
          "text": [
            "Epoch 1/100\n",
            "18/18 [==============================] - 3s 15ms/step - loss: 780.3455 - mae: 780.3455 - mse: 2312725.7500 - val_loss: 2279.6526 - val_mae: 2279.6526 - val_mse: 12772728.0000\n",
            "INFO:tensorflow:Assets written to: model_experiments/model_1_dense/assets\n",
            "Epoch 2/100\n",
            "18/18 [==============================] - 0s 6ms/step - loss: 247.6756 - mae: 247.6756 - mse: 285481.1875 - val_loss: 1005.9991 - val_mae: 1005.9991 - val_mse: 3441833.5000\n",
            "INFO:tensorflow:Assets written to: model_experiments/model_1_dense/assets\n",
            "Epoch 3/100\n",
            "18/18 [==============================] - 0s 5ms/step - loss: 188.4116 - mae: 188.4116 - mse: 171891.5625 - val_loss: 923.2862 - val_mae: 923.2862 - val_mse: 2868220.5000\n",
            "INFO:tensorflow:Assets written to: model_experiments/model_1_dense/assets\n",
            "Epoch 4/100\n",
            "18/18 [==============================] - 0s 5ms/step - loss: 169.4340 - mae: 169.4340 - mse: 151700.5625 - val_loss: 900.5872 - val_mae: 900.5872 - val_mse: 2683715.2500\n",
            "INFO:tensorflow:Assets written to: model_experiments/model_1_dense/assets\n",
            "Epoch 5/100\n",
            "18/18 [==============================] - 0s 5ms/step - loss: 165.0895 - mae: 165.0895 - mse: 145490.7969 - val_loss: 895.2238 - val_mae: 895.2238 - val_mse: 2564574.0000\n",
            "INFO:tensorflow:Assets written to: model_experiments/model_1_dense/assets\n",
            "Epoch 6/100\n",
            "18/18 [==============================] - 0s 5ms/step - loss: 158.5210 - mae: 158.5210 - mse: 133817.7344 - val_loss: 855.1982 - val_mae: 855.1982 - val_mse: 2481872.7500\n",
            "INFO:tensorflow:Assets written to: model_experiments/model_1_dense/assets\n",
            "Epoch 7/100\n",
            "18/18 [==============================] - 0s 5ms/step - loss: 151.3566 - mae: 151.3566 - mse: 123446.9609 - val_loss: 840.9168 - val_mae: 840.9168 - val_mse: 2276452.2500\n",
            "INFO:tensorflow:Assets written to: model_experiments/model_1_dense/assets\n",
            "Epoch 8/100\n",
            "18/18 [==============================] - 0s 5ms/step - loss: 145.2560 - mae: 145.2560 - mse: 117694.4922 - val_loss: 803.5956 - val_mae: 803.5956 - val_mse: 2140573.5000\n",
            "INFO:tensorflow:Assets written to: model_experiments/model_1_dense/assets\n",
            "Epoch 9/100\n",
            "18/18 [==============================] - 0s 6ms/step - loss: 144.3546 - mae: 144.3546 - mse: 115269.3047 - val_loss: 799.5455 - val_mae: 799.5455 - val_mse: 2049207.7500\n",
            "INFO:tensorflow:Assets written to: model_experiments/model_1_dense/assets\n",
            "Epoch 10/100\n",
            "18/18 [==============================] - 0s 5ms/step - loss: 141.2943 - mae: 141.2943 - mse: 112394.6016 - val_loss: 763.5010 - val_mae: 763.5010 - val_mse: 1933140.7500\n",
            "INFO:tensorflow:Assets written to: model_experiments/model_1_dense/assets\n",
            "Epoch 11/100\n",
            "18/18 [==============================] - 0s 5ms/step - loss: 135.6595 - mae: 135.6595 - mse: 104118.2656 - val_loss: 771.3357 - val_mae: 771.3357 - val_mse: 1885850.0000\n",
            "Epoch 12/100\n",
            "18/18 [==============================] - 0s 5ms/step - loss: 134.1700 - mae: 134.1700 - mse: 101780.8750 - val_loss: 782.8079 - val_mae: 782.8079 - val_mse: 1881727.7500\n",
            "Epoch 13/100\n",
            "18/18 [==============================] - 0s 5ms/step - loss: 134.6015 - mae: 134.6015 - mse: 102345.2266 - val_loss: 784.4449 - val_mae: 784.4449 - val_mse: 1860996.7500\n",
            "Epoch 14/100\n",
            "18/18 [==============================] - 0s 5ms/step - loss: 130.6127 - mae: 130.6127 - mse: 96225.1406 - val_loss: 751.3234 - val_mae: 751.3234 - val_mse: 1749609.3750\n",
            "INFO:tensorflow:Assets written to: model_experiments/model_1_dense/assets\n",
            "Epoch 15/100\n",
            "18/18 [==============================] - 0s 6ms/step - loss: 128.8347 - mae: 128.8347 - mse: 94307.0078 - val_loss: 696.5757 - val_mae: 696.5757 - val_mse: 1606352.6250\n",
            "INFO:tensorflow:Assets written to: model_experiments/model_1_dense/assets\n",
            "Epoch 16/100\n",
            "18/18 [==============================] - 0s 5ms/step - loss: 124.7739 - mae: 124.7739 - mse: 90394.9297 - val_loss: 702.4698 - val_mae: 702.4698 - val_mse: 1592416.0000\n",
            "Epoch 17/100\n",
            "18/18 [==============================] - 0s 5ms/step - loss: 123.4474 - mae: 123.4474 - mse: 89247.6797 - val_loss: 704.9241 - val_mae: 704.9241 - val_mse: 1580783.5000\n",
            "Epoch 18/100\n",
            "18/18 [==============================] - 0s 6ms/step - loss: 122.2105 - mae: 122.2105 - mse: 87607.6016 - val_loss: 667.9725 - val_mae: 667.9725 - val_mse: 1498882.0000\n",
            "INFO:tensorflow:Assets written to: model_experiments/model_1_dense/assets\n",
            "Epoch 19/100\n",
            "18/18 [==============================] - 0s 5ms/step - loss: 121.7263 - mae: 121.7263 - mse: 86632.2656 - val_loss: 718.8797 - val_mae: 718.8797 - val_mse: 1589299.6250\n",
            "Epoch 20/100\n",
            "18/18 [==============================] - 0s 5ms/step - loss: 119.2420 - mae: 119.2420 - mse: 84334.3438 - val_loss: 657.0667 - val_mae: 657.0667 - val_mse: 1447500.8750\n",
            "INFO:tensorflow:Assets written to: model_experiments/model_1_dense/assets\n",
            "Epoch 21/100\n",
            "18/18 [==============================] - 0s 5ms/step - loss: 121.2275 - mae: 121.2275 - mse: 85743.3672 - val_loss: 637.0330 - val_mae: 637.0330 - val_mse: 1401773.5000\n",
            "INFO:tensorflow:Assets written to: model_experiments/model_1_dense/assets\n",
            "Epoch 22/100\n",
            "18/18 [==============================] - 0s 5ms/step - loss: 119.9544 - mae: 119.9544 - mse: 84050.1250 - val_loss: 671.2490 - val_mae: 671.2490 - val_mse: 1447896.6250\n",
            "Epoch 23/100\n",
            "18/18 [==============================] - 0s 5ms/step - loss: 121.9248 - mae: 121.9248 - mse: 83746.1328 - val_loss: 633.3593 - val_mae: 633.3593 - val_mse: 1367377.8750\n",
            "INFO:tensorflow:Assets written to: model_experiments/model_1_dense/assets\n",
            "Epoch 24/100\n",
            "18/18 [==============================] - 0s 5ms/step - loss: 116.3666 - mae: 116.3666 - mse: 81446.6641 - val_loss: 624.4852 - val_mae: 624.4852 - val_mse: 1348960.3750\n",
            "INFO:tensorflow:Assets written to: model_experiments/model_1_dense/assets\n",
            "Epoch 25/100\n",
            "18/18 [==============================] - 0s 5ms/step - loss: 114.6816 - mae: 114.6816 - mse: 78912.8438 - val_loss: 619.7571 - val_mae: 619.7571 - val_mse: 1351089.8750\n",
            "INFO:tensorflow:Assets written to: model_experiments/model_1_dense/assets\n",
            "Epoch 26/100\n",
            "18/18 [==============================] - 0s 5ms/step - loss: 116.4455 - mae: 116.4455 - mse: 79365.5625 - val_loss: 615.6364 - val_mae: 615.6364 - val_mse: 1321514.3750\n",
            "INFO:tensorflow:Assets written to: model_experiments/model_1_dense/assets\n",
            "Epoch 27/100\n",
            "18/18 [==============================] - 0s 5ms/step - loss: 116.5868 - mae: 116.5868 - mse: 78672.9141 - val_loss: 615.9631 - val_mae: 615.9631 - val_mse: 1313077.8750\n",
            "Epoch 28/100\n",
            "18/18 [==============================] - 0s 5ms/step - loss: 113.4691 - mae: 113.4691 - mse: 77440.0703 - val_loss: 608.0920 - val_mae: 608.0920 - val_mse: 1309775.3750\n",
            "INFO:tensorflow:Assets written to: model_experiments/model_1_dense/assets\n",
            "Epoch 29/100\n",
            "18/18 [==============================] - 0s 5ms/step - loss: 113.7598 - mae: 113.7598 - mse: 78506.9531 - val_loss: 621.9306 - val_mae: 621.9306 - val_mse: 1313325.7500\n",
            "Epoch 30/100\n",
            "18/18 [==============================] - 0s 5ms/step - loss: 116.8613 - mae: 116.8613 - mse: 79236.4766 - val_loss: 604.4056 - val_mae: 604.4056 - val_mse: 1283407.7500\n",
            "INFO:tensorflow:Assets written to: model_experiments/model_1_dense/assets\n",
            "Epoch 31/100\n",
            "18/18 [==============================] - 0s 6ms/step - loss: 111.9375 - mae: 111.9375 - mse: 74849.0625 - val_loss: 609.3882 - val_mae: 609.3882 - val_mse: 1284506.2500\n",
            "Epoch 32/100\n",
            "18/18 [==============================] - 0s 5ms/step - loss: 112.4175 - mae: 112.4175 - mse: 77178.5938 - val_loss: 603.0588 - val_mae: 603.0588 - val_mse: 1273059.2500\n",
            "INFO:tensorflow:Assets written to: model_experiments/model_1_dense/assets\n",
            "Epoch 33/100\n",
            "18/18 [==============================] - 0s 5ms/step - loss: 112.6697 - mae: 112.6697 - mse: 75787.9766 - val_loss: 645.6975 - val_mae: 645.6975 - val_mse: 1353256.2500\n",
            "Epoch 34/100\n",
            "18/18 [==============================] - 0s 5ms/step - loss: 111.9867 - mae: 111.9867 - mse: 77245.7031 - val_loss: 604.7632 - val_mae: 604.7632 - val_mse: 1289359.7500\n",
            "Epoch 35/100\n",
            "18/18 [==============================] - 0s 5ms/step - loss: 110.9451 - mae: 110.9451 - mse: 75301.8047 - val_loss: 593.4648 - val_mae: 593.4648 - val_mse: 1250491.7500\n",
            "INFO:tensorflow:Assets written to: model_experiments/model_1_dense/assets\n",
            "Epoch 36/100\n",
            "18/18 [==============================] - 0s 6ms/step - loss: 114.4816 - mae: 114.4816 - mse: 76138.5391 - val_loss: 608.0073 - val_mae: 608.0073 - val_mse: 1269271.2500\n",
            "Epoch 37/100\n",
            "18/18 [==============================] - 0s 5ms/step - loss: 110.2017 - mae: 110.2017 - mse: 74635.3047 - val_loss: 597.2309 - val_mae: 597.2309 - val_mse: 1248474.3750\n",
            "Epoch 38/100\n",
            "18/18 [==============================] - 0s 5ms/step - loss: 112.2372 - mae: 112.2372 - mse: 75821.7344 - val_loss: 637.9797 - val_mae: 637.9797 - val_mse: 1366130.2500\n",
            "Epoch 39/100\n",
            "18/18 [==============================] - 0s 5ms/step - loss: 115.1289 - mae: 115.1289 - mse: 76339.6562 - val_loss: 587.4679 - val_mae: 587.4679 - val_mse: 1233512.2500\n",
            "INFO:tensorflow:Assets written to: model_experiments/model_1_dense/assets\n",
            "Epoch 40/100\n",
            "18/18 [==============================] - 0s 5ms/step - loss: 110.0854 - mae: 110.0854 - mse: 73528.4844 - val_loss: 592.7117 - val_mae: 592.7117 - val_mse: 1251474.1250\n",
            "Epoch 41/100\n",
            "18/18 [==============================] - 0s 5ms/step - loss: 110.6343 - mae: 110.6343 - mse: 73528.7969 - val_loss: 593.8997 - val_mae: 593.8997 - val_mse: 1253678.2500\n",
            "Epoch 42/100\n",
            "18/18 [==============================] - 0s 6ms/step - loss: 113.5762 - mae: 113.5762 - mse: 77076.7031 - val_loss: 636.3674 - val_mae: 636.3674 - val_mse: 1317283.3750\n",
            "Epoch 43/100\n",
            "18/18 [==============================] - 0s 6ms/step - loss: 116.2286 - mae: 116.2286 - mse: 74712.2188 - val_loss: 662.9264 - val_mae: 662.9264 - val_mse: 1419202.3750\n",
            "Epoch 44/100\n",
            "18/18 [==============================] - 0s 6ms/step - loss: 120.0192 - mae: 120.0192 - mse: 80971.8906 - val_loss: 635.6360 - val_mae: 635.6360 - val_mse: 1345999.3750\n",
            "Epoch 45/100\n",
            "18/18 [==============================] - 0s 5ms/step - loss: 110.9675 - mae: 110.9675 - mse: 74941.2891 - val_loss: 601.9926 - val_mae: 601.9926 - val_mse: 1244816.7500\n",
            "Epoch 46/100\n",
            "18/18 [==============================] - 0s 5ms/step - loss: 111.6012 - mae: 111.6012 - mse: 74565.5859 - val_loss: 593.3531 - val_mae: 593.3531 - val_mse: 1248764.3750\n",
            "Epoch 47/100\n",
            "18/18 [==============================] - 0s 5ms/step - loss: 109.6161 - mae: 109.6161 - mse: 74190.7109 - val_loss: 637.0014 - val_mae: 637.0014 - val_mse: 1314970.3750\n",
            "Epoch 48/100\n",
            "18/18 [==============================] - 0s 5ms/step - loss: 109.1368 - mae: 109.1368 - mse: 72792.5547 - val_loss: 598.4199 - val_mae: 598.4199 - val_mse: 1234610.1250\n",
            "Epoch 49/100\n",
            "18/18 [==============================] - 0s 5ms/step - loss: 112.4355 - mae: 112.4355 - mse: 73980.3281 - val_loss: 579.7040 - val_mae: 579.7040 - val_mse: 1208301.3750\n",
            "INFO:tensorflow:Assets written to: model_experiments/model_1_dense/assets\n",
            "Epoch 50/100\n",
            "18/18 [==============================] - 0s 5ms/step - loss: 110.2108 - mae: 110.2108 - mse: 72939.6953 - val_loss: 639.2326 - val_mae: 639.2326 - val_mse: 1347994.2500\n",
            "Epoch 51/100\n",
            "18/18 [==============================] - 0s 5ms/step - loss: 111.0958 - mae: 111.0958 - mse: 73281.8906 - val_loss: 597.3575 - val_mae: 597.3575 - val_mse: 1229791.8750\n",
            "Epoch 52/100\n",
            "18/18 [==============================] - 0s 4ms/step - loss: 110.7351 - mae: 110.7351 - mse: 74529.6328 - val_loss: 580.7227 - val_mae: 580.7227 - val_mse: 1215477.3750\n",
            "Epoch 53/100\n",
            "18/18 [==============================] - 0s 5ms/step - loss: 111.1785 - mae: 111.1785 - mse: 74149.4688 - val_loss: 648.3588 - val_mae: 648.3588 - val_mse: 1336951.8750\n",
            "Epoch 54/100\n",
            "18/18 [==============================] - 0s 6ms/step - loss: 114.0832 - mae: 114.0832 - mse: 74815.0781 - val_loss: 593.2007 - val_mae: 593.2007 - val_mse: 1220661.3750\n",
            "Epoch 55/100\n",
            "18/18 [==============================] - 0s 5ms/step - loss: 110.4910 - mae: 110.4910 - mse: 74711.2266 - val_loss: 579.5065 - val_mae: 579.5065 - val_mse: 1211579.7500\n",
            "INFO:tensorflow:Assets written to: model_experiments/model_1_dense/assets\n",
            "Epoch 56/100\n",
            "18/18 [==============================] - 0s 5ms/step - loss: 108.0489 - mae: 108.0489 - mse: 71844.1484 - val_loss: 807.3851 - val_mae: 807.3851 - val_mse: 1859291.8750\n",
            "Epoch 57/100\n",
            "18/18 [==============================] - 0s 5ms/step - loss: 125.0614 - mae: 125.0614 - mse: 84025.2578 - val_loss: 674.1654 - val_mae: 674.1654 - val_mse: 1437686.2500\n",
            "Epoch 58/100\n",
            "18/18 [==============================] - 0s 5ms/step - loss: 115.4340 - mae: 115.4340 - mse: 73710.7188 - val_loss: 582.2698 - val_mae: 582.2698 - val_mse: 1202679.8750\n",
            "Epoch 59/100\n",
            "18/18 [==============================] - 0s 5ms/step - loss: 110.0881 - mae: 110.0881 - mse: 72845.1016 - val_loss: 606.7637 - val_mae: 606.7637 - val_mse: 1267543.0000\n",
            "Epoch 60/100\n",
            "18/18 [==============================] - 0s 6ms/step - loss: 108.7156 - mae: 108.7156 - mse: 72675.7500 - val_loss: 602.3102 - val_mae: 602.3102 - val_mse: 1234690.2500\n",
            "Epoch 61/100\n",
            "18/18 [==============================] - 0s 5ms/step - loss: 108.1525 - mae: 108.1525 - mse: 72252.0781 - val_loss: 573.9990 - val_mae: 573.9990 - val_mse: 1189583.1250\n",
            "INFO:tensorflow:Assets written to: model_experiments/model_1_dense/assets\n",
            "Epoch 62/100\n",
            "18/18 [==============================] - 0s 5ms/step - loss: 107.3727 - mae: 107.3727 - mse: 70822.7891 - val_loss: 581.7012 - val_mae: 581.7012 - val_mse: 1214006.5000\n",
            "Epoch 63/100\n",
            "18/18 [==============================] - 0s 5ms/step - loss: 110.7667 - mae: 110.7667 - mse: 73178.4297 - val_loss: 637.5252 - val_mae: 637.5252 - val_mse: 1311204.0000\n",
            "Epoch 64/100\n",
            "18/18 [==============================] - 0s 5ms/step - loss: 110.1539 - mae: 110.1539 - mse: 72588.2031 - val_loss: 586.6601 - val_mae: 586.6601 - val_mse: 1207116.8750\n",
            "Epoch 65/100\n",
            "18/18 [==============================] - 0s 5ms/step - loss: 108.2325 - mae: 108.2325 - mse: 71962.0469 - val_loss: 573.5620 - val_mae: 573.5620 - val_mse: 1188986.7500\n",
            "INFO:tensorflow:Assets written to: model_experiments/model_1_dense/assets\n",
            "Epoch 66/100\n",
            "18/18 [==============================] - 0s 5ms/step - loss: 108.6825 - mae: 108.6825 - mse: 71026.3359 - val_loss: 572.2206 - val_mae: 572.2206 - val_mse: 1187818.0000\n",
            "INFO:tensorflow:Assets written to: model_experiments/model_1_dense/assets\n",
            "Epoch 67/100\n",
            "18/18 [==============================] - 0s 6ms/step - loss: 106.6371 - mae: 106.6371 - mse: 70166.2500 - val_loss: 646.6349 - val_mae: 646.6349 - val_mse: 1356390.5000\n",
            "Epoch 68/100\n",
            "18/18 [==============================] - 0s 6ms/step - loss: 114.1603 - mae: 114.1603 - mse: 71297.2969 - val_loss: 681.8561 - val_mae: 681.8561 - val_mse: 1455427.1250\n",
            "Epoch 69/100\n",
            "18/18 [==============================] - 0s 5ms/step - loss: 124.5514 - mae: 124.5514 - mse: 81238.9297 - val_loss: 655.9885 - val_mae: 655.9885 - val_mse: 1383322.8750\n",
            "Epoch 70/100\n",
            "18/18 [==============================] - 0s 5ms/step - loss: 125.0235 - mae: 125.0235 - mse: 83058.2109 - val_loss: 601.0032 - val_mae: 601.0032 - val_mse: 1256962.2500\n",
            "Epoch 71/100\n",
            "18/18 [==============================] - 0s 5ms/step - loss: 110.3652 - mae: 110.3652 - mse: 71691.4844 - val_loss: 595.3962 - val_mae: 595.3962 - val_mse: 1222772.2500\n",
            "Epoch 72/100\n",
            "18/18 [==============================] - 0s 5ms/step - loss: 107.9285 - mae: 107.9285 - mse: 71745.5156 - val_loss: 573.7085 - val_mae: 573.7085 - val_mse: 1192818.0000\n",
            "Epoch 73/100\n",
            "18/18 [==============================] - 0s 6ms/step - loss: 109.5085 - mae: 109.5085 - mse: 71691.1016 - val_loss: 580.4180 - val_mae: 580.4180 - val_mse: 1211316.7500\n",
            "Epoch 74/100\n",
            "18/18 [==============================] - 0s 5ms/step - loss: 108.7380 - mae: 108.7380 - mse: 72051.0469 - val_loss: 576.1211 - val_mae: 576.1211 - val_mse: 1199669.5000\n",
            "Epoch 75/100\n",
            "18/18 [==============================] - 0s 5ms/step - loss: 107.9404 - mae: 107.9404 - mse: 71043.1328 - val_loss: 591.1477 - val_mae: 591.1477 - val_mse: 1211108.6250\n",
            "Epoch 76/100\n",
            "18/18 [==============================] - 0s 5ms/step - loss: 109.4232 - mae: 109.4232 - mse: 72295.0234 - val_loss: 597.8605 - val_mae: 597.8605 - val_mse: 1243935.2500\n",
            "Epoch 77/100\n",
            "18/18 [==============================] - 0s 5ms/step - loss: 107.5879 - mae: 107.5879 - mse: 70333.8203 - val_loss: 571.9299 - val_mae: 571.9299 - val_mse: 1186829.7500\n",
            "INFO:tensorflow:Assets written to: model_experiments/model_1_dense/assets\n",
            "Epoch 78/100\n",
            "18/18 [==============================] - 0s 5ms/step - loss: 108.1598 - mae: 108.1598 - mse: 70200.0625 - val_loss: 575.2383 - val_mae: 575.2383 - val_mse: 1195317.1250\n",
            "Epoch 79/100\n",
            "18/18 [==============================] - 0s 5ms/step - loss: 107.9175 - mae: 107.9175 - mse: 72451.5781 - val_loss: 617.3071 - val_mae: 617.3071 - val_mse: 1285509.7500\n",
            "Epoch 80/100\n",
            "18/18 [==============================] - 0s 6ms/step - loss: 108.9510 - mae: 108.9510 - mse: 72158.7500 - val_loss: 583.4847 - val_mae: 583.4847 - val_mse: 1194358.2500\n",
            "Epoch 81/100\n",
            "18/18 [==============================] - 0s 5ms/step - loss: 106.0505 - mae: 106.0505 - mse: 69690.8828 - val_loss: 570.0802 - val_mae: 570.0802 - val_mse: 1177238.0000\n",
            "INFO:tensorflow:Assets written to: model_experiments/model_1_dense/assets\n",
            "Epoch 82/100\n",
            "18/18 [==============================] - 0s 5ms/step - loss: 115.6827 - mae: 115.6827 - mse: 76903.4531 - val_loss: 575.7382 - val_mae: 575.7382 - val_mse: 1194661.5000\n",
            "Epoch 83/100\n",
            "18/18 [==============================] - 0s 5ms/step - loss: 110.9379 - mae: 110.9379 - mse: 72968.2891 - val_loss: 659.6570 - val_mae: 659.6570 - val_mse: 1388827.8750\n",
            "Epoch 84/100\n",
            "18/18 [==============================] - 0s 5ms/step - loss: 111.4836 - mae: 111.4836 - mse: 73017.8984 - val_loss: 570.1959 - val_mae: 570.1959 - val_mse: 1177492.1250\n",
            "Epoch 85/100\n",
            "18/18 [==============================] - 0s 5ms/step - loss: 107.5948 - mae: 107.5948 - mse: 70728.1797 - val_loss: 601.5945 - val_mae: 601.5945 - val_mse: 1228452.5000\n",
            "Epoch 86/100\n",
            "18/18 [==============================] - 0s 5ms/step - loss: 108.9426 - mae: 108.9426 - mse: 70066.7500 - val_loss: 592.8107 - val_mae: 592.8107 - val_mse: 1209681.6250\n",
            "Epoch 87/100\n",
            "18/18 [==============================] - 0s 5ms/step - loss: 105.7717 - mae: 105.7717 - mse: 68382.3438 - val_loss: 603.6169 - val_mae: 603.6169 - val_mse: 1252408.8750\n",
            "Epoch 88/100\n",
            "18/18 [==============================] - 0s 5ms/step - loss: 107.9217 - mae: 107.9217 - mse: 71668.0156 - val_loss: 569.0500 - val_mae: 569.0500 - val_mse: 1174588.2500\n",
            "INFO:tensorflow:Assets written to: model_experiments/model_1_dense/assets\n",
            "Epoch 89/100\n",
            "18/18 [==============================] - 0s 5ms/step - loss: 106.0344 - mae: 106.0344 - mse: 68979.1328 - val_loss: 568.9512 - val_mae: 568.9512 - val_mse: 1171744.1250\n",
            "INFO:tensorflow:Assets written to: model_experiments/model_1_dense/assets\n",
            "Epoch 90/100\n",
            "18/18 [==============================] - 0s 6ms/step - loss: 105.4977 - mae: 105.4977 - mse: 67516.5000 - val_loss: 581.7681 - val_mae: 581.7681 - val_mse: 1190161.7500\n",
            "Epoch 91/100\n",
            "18/18 [==============================] - 0s 6ms/step - loss: 108.8468 - mae: 108.8468 - mse: 71112.3203 - val_loss: 573.6023 - val_mae: 573.6023 - val_mse: 1185215.3750\n",
            "Epoch 92/100\n",
            "18/18 [==============================] - 0s 6ms/step - loss: 110.8884 - mae: 110.8884 - mse: 73287.8203 - val_loss: 576.8247 - val_mae: 576.8247 - val_mse: 1181629.3750\n",
            "Epoch 93/100\n",
            "18/18 [==============================] - 0s 5ms/step - loss: 113.8781 - mae: 113.8781 - mse: 75236.4062 - val_loss: 608.3018 - val_mae: 608.3018 - val_mse: 1264205.6250\n",
            "Epoch 94/100\n",
            "18/18 [==============================] - 0s 4ms/step - loss: 110.5763 - mae: 110.5763 - mse: 72590.8672 - val_loss: 601.6047 - val_mae: 601.6047 - val_mse: 1229106.1250\n",
            "Epoch 95/100\n",
            "18/18 [==============================] - 0s 5ms/step - loss: 106.5906 - mae: 106.5906 - mse: 68612.3125 - val_loss: 570.3652 - val_mae: 570.3652 - val_mse: 1175759.6250\n",
            "Epoch 96/100\n",
            "18/18 [==============================] - 0s 6ms/step - loss: 116.9515 - mae: 116.9515 - mse: 75082.1172 - val_loss: 615.2581 - val_mae: 615.2581 - val_mse: 1277123.7500\n",
            "Epoch 97/100\n",
            "18/18 [==============================] - 0s 5ms/step - loss: 108.0739 - mae: 108.0739 - mse: 71321.4141 - val_loss: 580.3073 - val_mae: 580.3073 - val_mse: 1202621.8750\n",
            "Epoch 98/100\n",
            "18/18 [==============================] - 0s 5ms/step - loss: 108.7102 - mae: 108.7102 - mse: 70248.0781 - val_loss: 586.6512 - val_mae: 586.6512 - val_mse: 1200831.3750\n",
            "Epoch 99/100\n",
            "18/18 [==============================] - 0s 5ms/step - loss: 109.0488 - mae: 109.0488 - mse: 70913.1484 - val_loss: 570.0629 - val_mae: 570.0629 - val_mse: 1177064.5000\n",
            "Epoch 100/100\n",
            "18/18 [==============================] - 0s 5ms/step - loss: 106.1845 - mae: 106.1845 - mse: 68681.7031 - val_loss: 585.9763 - val_mae: 585.9763 - val_mse: 1197803.1250\n"
          ],
          "name": "stdout"
        },
        {
          "output_type": "execute_result",
          "data": {
            "text/plain": [
              "<keras.callbacks.History at 0x7faa39fe3ad0>"
            ]
          },
          "metadata": {},
          "execution_count": 39
        }
      ]
    },
    {
      "cell_type": "code",
      "metadata": {
        "id": "PeDXLKCcjoSv",
        "outputId": "de5127ca-7288-44d2-8d1c-516967472b97",
        "colab": {
          "base_uri": "https://localhost:8080/"
        }
      },
      "source": [
        "# Evaluate model on test data\n",
        "model_1.evaluate(test_windows, test_labels)"
      ],
      "execution_count": 40,
      "outputs": [
        {
          "output_type": "stream",
          "text": [
            "18/18 [==============================] - 0s 2ms/step - loss: 585.9762 - mae: 585.9762 - mse: 1197803.1250\n"
          ],
          "name": "stdout"
        },
        {
          "output_type": "execute_result",
          "data": {
            "text/plain": [
              "[585.9761962890625, 585.9761962890625, 1197803.125]"
            ]
          },
          "metadata": {},
          "execution_count": 40
        }
      ]
    },
    {
      "cell_type": "code",
      "metadata": {
        "id": "LATYhEOUkcKi",
        "outputId": "0c8a798d-3c0c-4376-836a-414d8b5a3e6f",
        "colab": {
          "base_uri": "https://localhost:8080/"
        }
      },
      "source": [
        "# Load in the saved best perfoming model_1 and evaluate it on test data\n",
        "model_1 = tf.keras.models.load_model(\"model_experiments/model_1_dense/\")\n",
        "model_1.evaluate(test_windows, test_labels)"
      ],
      "execution_count": 41,
      "outputs": [
        {
          "output_type": "stream",
          "text": [
            "18/18 [==============================] - 0s 2ms/step - loss: 568.9512 - mae: 568.9512 - mse: 1171744.0000\n"
          ],
          "name": "stdout"
        },
        {
          "output_type": "execute_result",
          "data": {
            "text/plain": [
              "[568.951171875, 568.951171875, 1171744.0]"
            ]
          },
          "metadata": {},
          "execution_count": 41
        }
      ]
    },
    {
      "cell_type": "markdown",
      "metadata": {
        "id": "vKdsCxZJMTvi"
      },
      "source": [
        "## Making forecasts with a model (on the test dataset)\n",
        "\n",
        "To make \"forecasts\" on the test dataset (note: these won´t be actual forecasts, they´re only pseudo forecasts because actual forecasts are into the future), let´s write a function to:\n",
        "\n",
        "1. Take in a train model \n",
        "2. Takes in some input data (same kind of data the model was trained on)\n",
        "3. Passes the input data to the model predict() method\n",
        "4. Return the predictions"
      ]
    },
    {
      "cell_type": "code",
      "metadata": {
        "id": "QEr9RU8FOHQb"
      },
      "source": [
        "def make_preds(model, input_data):\n",
        "  \"\"\"\n",
        "  Uses model to make predictions on input_data\n",
        "  \"\"\"\n",
        "  forecast = model.predict(input_data)\n",
        "  return tf.squeeze(forecast) #return 1D array of predictions"
      ],
      "execution_count": 42,
      "outputs": []
    },
    {
      "cell_type": "code",
      "metadata": {
        "id": "y8ZR85lyO5jP",
        "outputId": "8668dd18-77b0-4edf-c775-bfbddf333d46",
        "colab": {
          "base_uri": "https://localhost:8080/"
        }
      },
      "source": [
        "# Make predictions using model_1 on the test dataset \n",
        "model_1_preds = make_preds(model_1, test_windows)\n",
        "len(model_1_preds), model_1_preds[:10]"
      ],
      "execution_count": 43,
      "outputs": [
        {
          "output_type": "execute_result",
          "data": {
            "text/plain": [
              "(556, <tf.Tensor: shape=(10,), dtype=float32, numpy=\n",
              " array([8861.711, 8769.886, 9015.71 , 8795.517, 8723.809, 8730.11 ,\n",
              "        8691.95 , 8502.054, 8460.961, 8516.547], dtype=float32)>)"
            ]
          },
          "metadata": {},
          "execution_count": 43
        }
      ]
    },
    {
      "cell_type": "code",
      "metadata": {
        "id": "-_5xYl0jPfqU",
        "outputId": "c43f51ef-775c-468c-f66d-f4f320d3ee52",
        "colab": {
          "base_uri": "https://localhost:8080/"
        }
      },
      "source": [
        "# Evaluate preds\n",
        "model_1_results = evaluate_preds(tf.squeeze(test_labels), model_1_preds)\n",
        "model_1_results"
      ],
      "execution_count": 45,
      "outputs": [
        {
          "output_type": "execute_result",
          "data": {
            "text/plain": [
              "{'mae': 568.95123,\n",
              " 'mape': 2.5448983,\n",
              " 'mase': 0.9994897,\n",
              " 'mse': 1171744.0,\n",
              " 'rmse': 1082.4712}"
            ]
          },
          "metadata": {},
          "execution_count": 45
        }
      ]
    },
    {
      "cell_type": "code",
      "metadata": {
        "id": "zPAdA6N1Pr-K",
        "outputId": "1f27f691-d588-47a5-83cf-9a5baf71a5ed",
        "colab": {
          "base_uri": "https://localhost:8080/",
          "height": 442
        }
      },
      "source": [
        "# Let´s plot our model 1 predictions\n",
        "offset = 300\n",
        "plt.figure(figsize=(10,7))\n",
        "# Account for the test_window offset and index into test_labels to ensure correct plottting\n",
        "plot_time_series(x_test[-len(test_windows):], test_labels[:, 0], start=offset, label=\"Test Data\")\n",
        "plot_time_series(x_test[-len(test_windows):], model_1_preds, start=offset, format=\"-\", label=\"model_1_preds\")"
      ],
      "execution_count": 48,
      "outputs": [
        {
          "output_type": "display_data",
          "data": {
            "image/png": "[encoded data removed]",
            "text/plain": [
              "<Figure size 720x504 with 1 Axes>"
            ]
          },
          "metadata": {
            "needs_background": "light"
          }
        }
      ]
    },
    {
      "cell_type": "markdown",
      "metadata": {
        "id": "lUAzCmDSR8_x"
      },
      "source": [
        "## Model 2: Dense (window=30, horizon=1)"
      ]
    },
    {
      "cell_type": "code",
      "metadata": {
        "id": "nmwrf6Y-TLKA"
      },
      "source": [
        "HORIZON = 1 #predict one time step at a time\n",
        "WINDOW_SIZE = 30 #use 30 timesteps in the pas"
      ],
      "execution_count": 56,
      "outputs": []
    },
    {
      "cell_type": "code",
      "metadata": {
        "id": "XQpTzh1YTWWz",
        "outputId": "addc90c6-cf45-467f-ad44-8ddb04230af0",
        "colab": {
          "base_uri": "https://localhost:8080/"
        }
      },
      "source": [
        "# Make windowed data with appropriate horizon and window size\n",
        "full_windows, full_labels = make_windows(prices, WINDOW_SIZE, HORIZON)\n",
        "len(full_windows), len(full_labels)"
      ],
      "execution_count": 57,
      "outputs": [
        {
          "output_type": "execute_result",
          "data": {
            "text/plain": [
              "(2757, 2757)"
            ]
          },
          "metadata": {},
          "execution_count": 57
        }
      ]
    },
    {
      "cell_type": "code",
      "metadata": {
        "id": "JL19N7RIT3_d",
        "outputId": "7822a2e5-15a5-4da9-9f64-4e05807bc487",
        "colab": {
          "base_uri": "https://localhost:8080/"
        }
      },
      "source": [
        "# Make train and testing windows\n",
        "train_windows, test_windows, train_labels, test_labels = make_train_test_splits(full_windows, full_labels, test_split=0.2)\n",
        "len(train_windows), len(train_labels), len(test_windows), len(test_labels)"
      ],
      "execution_count": 58,
      "outputs": [
        {
          "output_type": "execute_result",
          "data": {
            "text/plain": [
              "(2205, 2205, 552, 552)"
            ]
          },
          "metadata": {},
          "execution_count": 58
        }
      ]
    },
    {
      "cell_type": "code",
      "metadata": {
        "id": "3jzDjKgaURCP",
        "outputId": "10532fe7-e9ff-4957-ab30-9b15df35aab4",
        "colab": {
          "base_uri": "https://localhost:8080/"
        }
      },
      "source": [
        "train_windows[:3]"
      ],
      "execution_count": 59,
      "outputs": [
        {
          "output_type": "execute_result",
          "data": {
            "text/plain": [
              "array([[123.65499, 125.455  , 108.58483, 118.67466, 121.33866, 120.65533,\n",
              "        121.795  , 123.033  , 124.049  , 125.96116, 125.27966, 125.9275 ,\n",
              "        126.38333, 135.24199, 133.20333, 142.76333, 137.92333, 142.95166,\n",
              "        152.55183, 160.33883, 164.31499, 177.63333, 188.29716, 200.70166,\n",
              "        180.355  , 175.03166, 177.6965 , 187.15983, 192.75666, 197.4    ],\n",
              "       [125.455  , 108.58483, 118.67466, 121.33866, 120.65533, 121.795  ,\n",
              "        123.033  , 124.049  , 125.96116, 125.27966, 125.9275 , 126.38333,\n",
              "        135.24199, 133.20333, 142.76333, 137.92333, 142.95166, 152.55183,\n",
              "        160.33883, 164.31499, 177.63333, 188.29716, 200.70166, 180.355  ,\n",
              "        175.03166, 177.6965 , 187.15983, 192.75666, 197.4    , 196.02499],\n",
              "       [108.58483, 118.67466, 121.33866, 120.65533, 121.795  , 123.033  ,\n",
              "        124.049  , 125.96116, 125.27966, 125.9275 , 126.38333, 135.24199,\n",
              "        133.20333, 142.76333, 137.92333, 142.95166, 152.55183, 160.33883,\n",
              "        164.31499, 177.63333, 188.29716, 200.70166, 180.355  , 175.03166,\n",
              "        177.6965 , 187.15983, 192.75666, 197.4    , 196.02499, 198.04883]])"
            ]
          },
          "metadata": {},
          "execution_count": 59
        }
      ]
    },
    {
      "cell_type": "code",
      "metadata": {
        "id": "mLEoU8d3U8qB",
        "outputId": "f8a824cb-3822-4474-d82c-1edfd02900da",
        "colab": {
          "base_uri": "https://localhost:8080/"
        }
      },
      "source": [
        "train_labels[:3]"
      ],
      "execution_count": 60,
      "outputs": [
        {
          "output_type": "execute_result",
          "data": {
            "text/plain": [
              "array([[196.02499],\n",
              "       [198.04883],\n",
              "       [198.93233]])"
            ]
          },
          "metadata": {},
          "execution_count": 60
        }
      ]
    },
    {
      "cell_type": "code",
      "metadata": {
        "id": "UNsBT5cDVAei"
      },
      "source": [
        "#Set random seed\n",
        "tf.random.set_seed(42)\n",
        "\n",
        "#Build the model \n",
        "model_2 = tf.keras.Sequential([\n",
        "                               layers.Dense(128, activation=\"relu\"),\n",
        "                               layers.Dense(HORIZON)\n",
        "], name=\"model_2_dense\")"
      ],
      "execution_count": 61,
      "outputs": []
    },
    {
      "cell_type": "code",
      "metadata": {
        "id": "zdgSfm7ZVWj1"
      },
      "source": [
        "#Compile the model \n",
        "model_2.compile(loss=\"mae\", optimizer=\"Adam\", metrics=[\"mae\", \"mse\"])"
      ],
      "execution_count": 62,
      "outputs": []
    },
    {
      "cell_type": "code",
      "metadata": {
        "id": "MsGL0VwdVlIZ",
        "outputId": "902080b2-bc86-4fa4-885b-00e9812a8bcc",
        "colab": {
          "base_uri": "https://localhost:8080/"
        }
      },
      "source": [
        "#Fit the model \n",
        "model_2.fit(train_windows, train_labels,\n",
        "            epochs=100, batch_size=128, \n",
        "            validation_data=(test_windows, test_labels),\n",
        "            verbose=0, \n",
        "            callbacks=[create_model_checkpoint(model_2.name)])"
      ],
      "execution_count": 63,
      "outputs": [
        {
          "output_type": "stream",
          "text": [
            "INFO:tensorflow:Assets written to: model_experiments/model_2_dense/assets\n",
            "INFO:tensorflow:Assets written to: model_experiments/model_2_dense/assets\n",
            "INFO:tensorflow:Assets written to: model_experiments/model_2_dense/assets\n",
            "INFO:tensorflow:Assets written to: model_experiments/model_2_dense/assets\n",
            "INFO:tensorflow:Assets written to: model_experiments/model_2_dense/assets\n",
            "INFO:tensorflow:Assets written to: model_experiments/model_2_dense/assets\n",
            "INFO:tensorflow:Assets written to: model_experiments/model_2_dense/assets\n",
            "INFO:tensorflow:Assets written to: model_experiments/model_2_dense/assets\n",
            "INFO:tensorflow:Assets written to: model_experiments/model_2_dense/assets\n",
            "INFO:tensorflow:Assets written to: model_experiments/model_2_dense/assets\n",
            "INFO:tensorflow:Assets written to: model_experiments/model_2_dense/assets\n",
            "INFO:tensorflow:Assets written to: model_experiments/model_2_dense/assets\n",
            "INFO:tensorflow:Assets written to: model_experiments/model_2_dense/assets\n",
            "INFO:tensorflow:Assets written to: model_experiments/model_2_dense/assets\n",
            "INFO:tensorflow:Assets written to: model_experiments/model_2_dense/assets\n",
            "INFO:tensorflow:Assets written to: model_experiments/model_2_dense/assets\n",
            "INFO:tensorflow:Assets written to: model_experiments/model_2_dense/assets\n",
            "INFO:tensorflow:Assets written to: model_experiments/model_2_dense/assets\n",
            "INFO:tensorflow:Assets written to: model_experiments/model_2_dense/assets\n",
            "INFO:tensorflow:Assets written to: model_experiments/model_2_dense/assets\n",
            "INFO:tensorflow:Assets written to: model_experiments/model_2_dense/assets\n",
            "INFO:tensorflow:Assets written to: model_experiments/model_2_dense/assets\n",
            "INFO:tensorflow:Assets written to: model_experiments/model_2_dense/assets\n",
            "INFO:tensorflow:Assets written to: model_experiments/model_2_dense/assets\n",
            "INFO:tensorflow:Assets written to: model_experiments/model_2_dense/assets\n",
            "INFO:tensorflow:Assets written to: model_experiments/model_2_dense/assets\n",
            "INFO:tensorflow:Assets written to: model_experiments/model_2_dense/assets\n"
          ],
          "name": "stdout"
        },
        {
          "output_type": "execute_result",
          "data": {
            "text/plain": [
              "<keras.callbacks.History at 0x7fa9a5706bd0>"
            ]
          },
          "metadata": {},
          "execution_count": 63
        }
      ]
    },
    {
      "cell_type": "code",
      "metadata": {
        "id": "oOBiI-OqV62m",
        "outputId": "bcbb0272-2b36-4287-8164-5feaf357bd49",
        "colab": {
          "base_uri": "https://localhost:8080/"
        }
      },
      "source": [
        "#Evaluate model 2 on test data\n",
        "model_2.evaluate(test_windows, test_labels)"
      ],
      "execution_count": 64,
      "outputs": [
        {
          "output_type": "stream",
          "text": [
            "18/18 [==============================] - 0s 2ms/step - loss: 608.9615 - mae: 608.9615 - mse: 1281438.8750\n"
          ],
          "name": "stdout"
        },
        {
          "output_type": "execute_result",
          "data": {
            "text/plain": [
              "[608.9614868164062, 608.9614868164062, 1281438.875]"
            ]
          },
          "metadata": {},
          "execution_count": 64
        }
      ]
    },
    {
      "cell_type": "code",
      "metadata": {
        "id": "wEdF2-pAWL9b",
        "outputId": "96fedc8f-1f58-48e0-9720-56e7eb0f7d3c",
        "colab": {
          "base_uri": "https://localhost:8080/"
        }
      },
      "source": [
        "# Load in best performing model\n",
        "model_2 = tf.keras.models.load_model(\"model_experiments/model_2_dense/\")\n",
        "model_2.evaluate(test_windows, test_labels)"
      ],
      "execution_count": 66,
      "outputs": [
        {
          "output_type": "stream",
          "text": [
            "18/18 [==============================] - 0s 2ms/step - loss: 608.9615 - mae: 608.9615 - mse: 1281438.8750\n"
          ],
          "name": "stdout"
        },
        {
          "output_type": "execute_result",
          "data": {
            "text/plain": [
              "[608.9614868164062, 608.9614868164062, 1281438.875]"
            ]
          },
          "metadata": {},
          "execution_count": 66
        }
      ]
    },
    {
      "cell_type": "code",
      "metadata": {
        "id": "hR3Kq2xaWZVH"
      },
      "source": [
        "#Get forecast predictions\n",
        "model_2_preds = make_preds(model_2, test_windows)"
      ],
      "execution_count": 67,
      "outputs": []
    },
    {
      "cell_type": "code",
      "metadata": {
        "id": "cPthsW07Wxk1",
        "outputId": "f615cb41-c21d-4d98-e492-e45fea7bf5ee",
        "colab": {
          "base_uri": "https://localhost:8080/"
        }
      },
      "source": [
        "print(test_labels.shape)\n",
        "print(tf.squeeze(test_labels).shape)\n",
        "print(model_2_preds.shape)"
      ],
      "execution_count": 70,
      "outputs": [
        {
          "output_type": "stream",
          "text": [
            "(552, 1)\n",
            "(552,)\n",
            "(552,)\n"
          ],
          "name": "stdout"
        }
      ]
    },
    {
      "cell_type": "code",
      "metadata": {
        "id": "Jvgiy9QTWhvB",
        "outputId": "c1aec7ac-3889-4fa1-d945-aaf7a35e76ce",
        "colab": {
          "base_uri": "https://localhost:8080/"
        }
      },
      "source": [
        "# Evaluate results for model 2 predictions\n",
        "model_2_results = evaluate_preds(tf.squeeze(test_labels), model_2_preds)\n",
        "model_2_results"
      ],
      "execution_count": 68,
      "outputs": [
        {
          "output_type": "execute_result",
          "data": {
            "text/plain": [
              "{'mae': 608.9615,\n",
              " 'mape': 2.7693388,\n",
              " 'mase': 1.0644706,\n",
              " 'mse': 1281438.9,\n",
              " 'rmse': 1132.0066}"
            ]
          },
          "metadata": {},
          "execution_count": 68
        }
      ]
    },
    {
      "cell_type": "code",
      "metadata": {
        "id": "TDSadUuWW-v_",
        "outputId": "79026397-fda5-4dd0-f94c-32fe9df6ce66",
        "colab": {
          "base_uri": "https://localhost:8080/",
          "height": 442
        }
      },
      "source": [
        "offset = 300\n",
        "plt.figure(figsize=(10,7))\n",
        "plot_time_series(x_test[-len(test_windows):], test_labels[:, 0], start=offset, label=\"Test data\")\n",
        "plot_time_series(x_test[-len(test_windows):], model_2_preds, start=offset,format=\"-\", label=\"model_2_preds\")"
      ],
      "execution_count": 73,
      "outputs": [
        {
          "output_type": "display_data",
          "data": {
            "image/png": "[encoded data removed]",
            "text/plain": [
              "<Figure size 720x504 with 1 Axes>"
            ]
          },
          "metadata": {
            "needs_background": "light"
          }
        }
      ]
    },
    {
      "cell_type": "code",
      "metadata": {
        "id": "dfUl6g5HXemr"
      },
      "source": [
        ""
      ],
      "execution_count": null,
      "outputs": []
    }
  ]
}