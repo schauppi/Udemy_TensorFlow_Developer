{
  "nbformat": 4,
  "nbformat_minor": 0,
  "metadata": {
    "colab": {
      "name": "10_time_series_forecasting_with_tensorflow.ipynb",
      "provenance": [],
      "collapsed_sections": [],
      "authorship_tag": "ABX9TyMuA52L54HGgx0R0nH+pKKG",
      "include_colab_link": true
    },
    "kernelspec": {
      "name": "python3",
      "display_name": "Python 3"
    },
    "language_info": {
      "name": "python"
    },
    "accelerator": "GPU"
  },
  "cells": [
    {
      "cell_type": "markdown",
      "metadata": {
        "id": "view-in-github",
        "colab_type": "text"
      },
      "source": [
        "<a href=\"https://colab.research.google.com/github/schauppi/Udemy_TensorFlow_Developer/blob/main/Abschnit_10_Time_series_fundamentals_in_TensorFlow/10_time_series_forecasting_with_tensorflow.ipynb\" target=\"_parent\"><img src=\"https://colab.research.google.com/assets/colab-badge.svg\" alt=\"Open In Colab\"/></a>"
      ]
    },
    {
      "cell_type": "markdown",
      "metadata": {
        "id": "O3OMWyGE88jj"
      },
      "source": [
        "## Time series forecasting fundamentals with TensorFlow + Milestone Project 3: BitPredict"
      ]
    },
    {
      "cell_type": "markdown",
      "metadata": {
        "id": "dRotsBwM9K1T"
      },
      "source": [
        "## Get data\n",
        "\n",
        "We´re going to be using the historical price data of Bitcoin to try to predict the future price of Bitcoin."
      ]
    },
    {
      "cell_type": "code",
      "metadata": {
        "colab": {
          "base_uri": "https://localhost:8080/"
        },
        "id": "NcI8Vm8Q9lo6",
        "outputId": "649bfc1e-728d-4703-cadc-4306cd23d71f"
      },
      "source": [
        "!wget https://raw.githubusercontent.com/mrdbourke/tensorflow-deep-learning/main/extras/BTC_USD_2013-10-01_2021-05-18-CoinDesk.csv"
      ],
      "execution_count": 132,
      "outputs": [
        {
          "output_type": "stream",
          "text": [
            "--2021-08-27 12:48:25--  https://raw.githubusercontent.com/mrdbourke/tensorflow-deep-learning/main/extras/BTC_USD_2013-10-01_2021-05-18-CoinDesk.csv\n",
            "Resolving raw.githubusercontent.com (raw.githubusercontent.com)... 185.199.108.133, 185.199.109.133, 185.199.110.133, ...\n",
            "Connecting to raw.githubusercontent.com (raw.githubusercontent.com)|185.199.108.133|:443... connected.\n",
            "HTTP request sent, awaiting response... 200 OK\n",
            "Length: 178509 (174K) [text/plain]\n",
            "Saving to: ‘BTC_USD_2013-10-01_2021-05-18-CoinDesk.csv.1’\n",
            "\n",
            "\r          BTC_USD_2   0%[                    ]       0  --.-KB/s               \rBTC_USD_2013-10-01_ 100%[===================>] 174.33K  --.-KB/s    in 0.02s   \n",
            "\n",
            "2021-08-27 12:48:25 (7.05 MB/s) - ‘BTC_USD_2013-10-01_2021-05-18-CoinDesk.csv.1’ saved [178509/178509]\n",
            "\n"
          ],
          "name": "stdout"
        }
      ]
    },
    {
      "cell_type": "markdown",
      "metadata": {
        "id": "0IwAoX1M-P0V"
      },
      "source": [
        "## Importing time series with pandas"
      ]
    },
    {
      "cell_type": "code",
      "metadata": {
        "id": "ekq0KjVO-aOM"
      },
      "source": [
        "# Import with pandas\n",
        "import pandas as pd\n",
        "# Read in our Bitcoin data and parse the dates\n",
        "df = pd.read_csv(\"/content/BTC_USD_2013-10-01_2021-05-18-CoinDesk.csv\",\n",
        "                 parse_dates=[\"Date\"],\n",
        "                 index_col=[\"Date\"]) #Parse the date column and tell pandas column 1 is a datetime"
      ],
      "execution_count": 133,
      "outputs": []
    },
    {
      "cell_type": "code",
      "metadata": {
        "colab": {
          "base_uri": "https://localhost:8080/",
          "height": 236
        },
        "id": "EDRjPx8H_Ier",
        "outputId": "bbbc853a-e672-4ade-a68b-bd3202375e83"
      },
      "source": [
        "df.head()"
      ],
      "execution_count": 134,
      "outputs": [
        {
          "output_type": "execute_result",
          "data": {
            "text/html": [
              "<div>\n",
              "<style scoped>\n",
              "    .dataframe tbody tr th:only-of-type {\n",
              "        vertical-align: middle;\n",
              "    }\n",
              "\n",
              "    .dataframe tbody tr th {\n",
              "        vertical-align: top;\n",
              "    }\n",
              "\n",
              "    .dataframe thead th {\n",
              "        text-align: right;\n",
              "    }\n",
              "</style>\n",
              "<table border=\"1\" class=\"dataframe\">\n",
              "  <thead>\n",
              "    <tr style=\"text-align: right;\">\n",
              "      <th></th>\n",
              "      <th>Currency</th>\n",
              "      <th>Closing Price (USD)</th>\n",
              "      <th>24h Open (USD)</th>\n",
              "      <th>24h High (USD)</th>\n",
              "      <th>24h Low (USD)</th>\n",
              "    </tr>\n",
              "    <tr>\n",
              "      <th>Date</th>\n",
              "      <th></th>\n",
              "      <th></th>\n",
              "      <th></th>\n",
              "      <th></th>\n",
              "      <th></th>\n",
              "    </tr>\n",
              "  </thead>\n",
              "  <tbody>\n",
              "    <tr>\n",
              "      <th>2013-10-01</th>\n",
              "      <td>BTC</td>\n",
              "      <td>123.65499</td>\n",
              "      <td>124.30466</td>\n",
              "      <td>124.75166</td>\n",
              "      <td>122.56349</td>\n",
              "    </tr>\n",
              "    <tr>\n",
              "      <th>2013-10-02</th>\n",
              "      <td>BTC</td>\n",
              "      <td>125.45500</td>\n",
              "      <td>123.65499</td>\n",
              "      <td>125.75850</td>\n",
              "      <td>123.63383</td>\n",
              "    </tr>\n",
              "    <tr>\n",
              "      <th>2013-10-03</th>\n",
              "      <td>BTC</td>\n",
              "      <td>108.58483</td>\n",
              "      <td>125.45500</td>\n",
              "      <td>125.66566</td>\n",
              "      <td>83.32833</td>\n",
              "    </tr>\n",
              "    <tr>\n",
              "      <th>2013-10-04</th>\n",
              "      <td>BTC</td>\n",
              "      <td>118.67466</td>\n",
              "      <td>108.58483</td>\n",
              "      <td>118.67500</td>\n",
              "      <td>107.05816</td>\n",
              "    </tr>\n",
              "    <tr>\n",
              "      <th>2013-10-05</th>\n",
              "      <td>BTC</td>\n",
              "      <td>121.33866</td>\n",
              "      <td>118.67466</td>\n",
              "      <td>121.93633</td>\n",
              "      <td>118.00566</td>\n",
              "    </tr>\n",
              "  </tbody>\n",
              "</table>\n",
              "</div>"
            ],
            "text/plain": [
              "           Currency  Closing Price (USD)  ...  24h High (USD)  24h Low (USD)\n",
              "Date                                      ...                               \n",
              "2013-10-01      BTC            123.65499  ...       124.75166      122.56349\n",
              "2013-10-02      BTC            125.45500  ...       125.75850      123.63383\n",
              "2013-10-03      BTC            108.58483  ...       125.66566       83.32833\n",
              "2013-10-04      BTC            118.67466  ...       118.67500      107.05816\n",
              "2013-10-05      BTC            121.33866  ...       121.93633      118.00566\n",
              "\n",
              "[5 rows x 5 columns]"
            ]
          },
          "metadata": {},
          "execution_count": 134
        }
      ]
    },
    {
      "cell_type": "code",
      "metadata": {
        "colab": {
          "base_uri": "https://localhost:8080/"
        },
        "id": "gkLprH5t_MId",
        "outputId": "0f330cd7-a10a-4dd7-b654-10fdb423b067"
      },
      "source": [
        "df.info()"
      ],
      "execution_count": 135,
      "outputs": [
        {
          "output_type": "stream",
          "text": [
            "<class 'pandas.core.frame.DataFrame'>\n",
            "DatetimeIndex: 2787 entries, 2013-10-01 to 2021-05-18\n",
            "Data columns (total 5 columns):\n",
            " #   Column               Non-Null Count  Dtype  \n",
            "---  ------               --------------  -----  \n",
            " 0   Currency             2787 non-null   object \n",
            " 1   Closing Price (USD)  2787 non-null   float64\n",
            " 2   24h Open (USD)       2787 non-null   float64\n",
            " 3   24h High (USD)       2787 non-null   float64\n",
            " 4   24h Low (USD)        2787 non-null   float64\n",
            "dtypes: float64(4), object(1)\n",
            "memory usage: 130.6+ KB\n"
          ],
          "name": "stdout"
        }
      ]
    },
    {
      "cell_type": "code",
      "metadata": {
        "colab": {
          "base_uri": "https://localhost:8080/"
        },
        "id": "W3ZhdHw4_RD0",
        "outputId": "b7d6c567-b609-45a5-cd5f-adba14366059"
      },
      "source": [
        "# How many samples do we have?\n",
        "len(df)"
      ],
      "execution_count": 136,
      "outputs": [
        {
          "output_type": "execute_result",
          "data": {
            "text/plain": [
              "2787"
            ]
          },
          "metadata": {},
          "execution_count": 136
        }
      ]
    },
    {
      "cell_type": "code",
      "metadata": {
        "colab": {
          "base_uri": "https://localhost:8080/",
          "height": 236
        },
        "id": "Y2qQs02w_gAU",
        "outputId": "0cec267d-7468-42bf-a081-40c2a2f304d2"
      },
      "source": [
        "df.tail()"
      ],
      "execution_count": 137,
      "outputs": [
        {
          "output_type": "execute_result",
          "data": {
            "text/html": [
              "<div>\n",
              "<style scoped>\n",
              "    .dataframe tbody tr th:only-of-type {\n",
              "        vertical-align: middle;\n",
              "    }\n",
              "\n",
              "    .dataframe tbody tr th {\n",
              "        vertical-align: top;\n",
              "    }\n",
              "\n",
              "    .dataframe thead th {\n",
              "        text-align: right;\n",
              "    }\n",
              "</style>\n",
              "<table border=\"1\" class=\"dataframe\">\n",
              "  <thead>\n",
              "    <tr style=\"text-align: right;\">\n",
              "      <th></th>\n",
              "      <th>Currency</th>\n",
              "      <th>Closing Price (USD)</th>\n",
              "      <th>24h Open (USD)</th>\n",
              "      <th>24h High (USD)</th>\n",
              "      <th>24h Low (USD)</th>\n",
              "    </tr>\n",
              "    <tr>\n",
              "      <th>Date</th>\n",
              "      <th></th>\n",
              "      <th></th>\n",
              "      <th></th>\n",
              "      <th></th>\n",
              "      <th></th>\n",
              "    </tr>\n",
              "  </thead>\n",
              "  <tbody>\n",
              "    <tr>\n",
              "      <th>2021-05-14</th>\n",
              "      <td>BTC</td>\n",
              "      <td>49764.132082</td>\n",
              "      <td>49596.778891</td>\n",
              "      <td>51448.798576</td>\n",
              "      <td>46294.720180</td>\n",
              "    </tr>\n",
              "    <tr>\n",
              "      <th>2021-05-15</th>\n",
              "      <td>BTC</td>\n",
              "      <td>50032.693137</td>\n",
              "      <td>49717.354353</td>\n",
              "      <td>51578.312545</td>\n",
              "      <td>48944.346536</td>\n",
              "    </tr>\n",
              "    <tr>\n",
              "      <th>2021-05-16</th>\n",
              "      <td>BTC</td>\n",
              "      <td>47885.625255</td>\n",
              "      <td>49926.035067</td>\n",
              "      <td>50690.802950</td>\n",
              "      <td>47005.102292</td>\n",
              "    </tr>\n",
              "    <tr>\n",
              "      <th>2021-05-17</th>\n",
              "      <td>BTC</td>\n",
              "      <td>45604.615754</td>\n",
              "      <td>46805.537852</td>\n",
              "      <td>49670.414174</td>\n",
              "      <td>43868.638969</td>\n",
              "    </tr>\n",
              "    <tr>\n",
              "      <th>2021-05-18</th>\n",
              "      <td>BTC</td>\n",
              "      <td>43144.471291</td>\n",
              "      <td>46439.336570</td>\n",
              "      <td>46622.853437</td>\n",
              "      <td>42102.346430</td>\n",
              "    </tr>\n",
              "  </tbody>\n",
              "</table>\n",
              "</div>"
            ],
            "text/plain": [
              "           Currency  Closing Price (USD)  ...  24h High (USD)  24h Low (USD)\n",
              "Date                                      ...                               \n",
              "2021-05-14      BTC         49764.132082  ...    51448.798576   46294.720180\n",
              "2021-05-15      BTC         50032.693137  ...    51578.312545   48944.346536\n",
              "2021-05-16      BTC         47885.625255  ...    50690.802950   47005.102292\n",
              "2021-05-17      BTC         45604.615754  ...    49670.414174   43868.638969\n",
              "2021-05-18      BTC         43144.471291  ...    46622.853437   42102.346430\n",
              "\n",
              "[5 rows x 5 columns]"
            ]
          },
          "metadata": {},
          "execution_count": 137
        }
      ]
    },
    {
      "cell_type": "code",
      "metadata": {
        "colab": {
          "base_uri": "https://localhost:8080/",
          "height": 236
        },
        "id": "9nw9rYnn_kYK",
        "outputId": "2c3dc66a-6977-44ca-f703-27d628724ad0"
      },
      "source": [
        "#Only want closing price for each day\n",
        "bitcoin_prices = pd.DataFrame(df[\"Closing Price (USD)\"]).rename(columns={\"Closing Price (USD)\": \"Price\"})\n",
        "bitcoin_prices.head()"
      ],
      "execution_count": 138,
      "outputs": [
        {
          "output_type": "execute_result",
          "data": {
            "text/html": [
              "<div>\n",
              "<style scoped>\n",
              "    .dataframe tbody tr th:only-of-type {\n",
              "        vertical-align: middle;\n",
              "    }\n",
              "\n",
              "    .dataframe tbody tr th {\n",
              "        vertical-align: top;\n",
              "    }\n",
              "\n",
              "    .dataframe thead th {\n",
              "        text-align: right;\n",
              "    }\n",
              "</style>\n",
              "<table border=\"1\" class=\"dataframe\">\n",
              "  <thead>\n",
              "    <tr style=\"text-align: right;\">\n",
              "      <th></th>\n",
              "      <th>Price</th>\n",
              "    </tr>\n",
              "    <tr>\n",
              "      <th>Date</th>\n",
              "      <th></th>\n",
              "    </tr>\n",
              "  </thead>\n",
              "  <tbody>\n",
              "    <tr>\n",
              "      <th>2013-10-01</th>\n",
              "      <td>123.65499</td>\n",
              "    </tr>\n",
              "    <tr>\n",
              "      <th>2013-10-02</th>\n",
              "      <td>125.45500</td>\n",
              "    </tr>\n",
              "    <tr>\n",
              "      <th>2013-10-03</th>\n",
              "      <td>108.58483</td>\n",
              "    </tr>\n",
              "    <tr>\n",
              "      <th>2013-10-04</th>\n",
              "      <td>118.67466</td>\n",
              "    </tr>\n",
              "    <tr>\n",
              "      <th>2013-10-05</th>\n",
              "      <td>121.33866</td>\n",
              "    </tr>\n",
              "  </tbody>\n",
              "</table>\n",
              "</div>"
            ],
            "text/plain": [
              "                Price\n",
              "Date                 \n",
              "2013-10-01  123.65499\n",
              "2013-10-02  125.45500\n",
              "2013-10-03  108.58483\n",
              "2013-10-04  118.67466\n",
              "2013-10-05  121.33866"
            ]
          },
          "metadata": {},
          "execution_count": 138
        }
      ]
    },
    {
      "cell_type": "code",
      "metadata": {
        "colab": {
          "base_uri": "https://localhost:8080/",
          "height": 477
        },
        "id": "rekWMqwjG6kQ",
        "outputId": "c65a9957-3575-41f5-ff10-5f4ce968ba89"
      },
      "source": [
        "import matplotlib.pyplot as plt\n",
        "\n",
        "bitcoin_prices.plot(figsize=(10,7))\n",
        "plt.ylabel(\"BTC Price\")\n",
        "plt.title(\"Price of Bitcoin from 1 Oct 2013 to 18 May 2021\", fontsize=16)\n",
        "plt.legend(fontsize=14)"
      ],
      "execution_count": 139,
      "outputs": [
        {
          "output_type": "execute_result",
          "data": {
            "text/plain": [
              "<matplotlib.legend.Legend at 0x7fbda0eb8290>"
            ]
          },
          "metadata": {},
          "execution_count": 139
        },
        {
          "output_type": "display_data",
          "data": {
            "image/png": "[encoded data removed]",
            "text/plain": [
              "<Figure size 720x504 with 1 Axes>"
            ]
          },
          "metadata": {
            "needs_background": "light"
          }
        }
      ]
    },
    {
      "cell_type": "markdown",
      "metadata": {
        "id": "vrkJQxFqHXRL"
      },
      "source": [
        "## Import time series data with Python´s CSV module"
      ]
    },
    {
      "cell_type": "code",
      "metadata": {
        "colab": {
          "base_uri": "https://localhost:8080/"
        },
        "id": "ea_1ma6pKCdu",
        "outputId": "1901c3b7-dcb2-4dae-a36a-ff0b38d3f479"
      },
      "source": [
        "# Importing and formatting historical Bitcoin data with Python\n",
        "import csv\n",
        "from datetime import datetime\n",
        "\n",
        "timesteps = []\n",
        "btc_price = []\n",
        "with open(\"/content/BTC_USD_2013-10-01_2021-05-18-CoinDesk.csv\", \"r\") as f:\n",
        "  csv_reader = csv.reader(f, delimiter=\",\")\n",
        "  next(csv_reader) #Skip first line (gets rid of the column titles)\n",
        "  for line in csv_reader:\n",
        "    timesteps.append(datetime.strptime(line[1], \"%Y-%m-%d\")) #get the dates as dates (not as string)\n",
        "    btc_price.append(float(line[2]))\n",
        "\n",
        "#View first 10 of each\n",
        "timesteps[:10], btc_price[:10]"
      ],
      "execution_count": 140,
      "outputs": [
        {
          "output_type": "execute_result",
          "data": {
            "text/plain": [
              "([datetime.datetime(2013, 10, 1, 0, 0),\n",
              "  datetime.datetime(2013, 10, 2, 0, 0),\n",
              "  datetime.datetime(2013, 10, 3, 0, 0),\n",
              "  datetime.datetime(2013, 10, 4, 0, 0),\n",
              "  datetime.datetime(2013, 10, 5, 0, 0),\n",
              "  datetime.datetime(2013, 10, 6, 0, 0),\n",
              "  datetime.datetime(2013, 10, 7, 0, 0),\n",
              "  datetime.datetime(2013, 10, 8, 0, 0),\n",
              "  datetime.datetime(2013, 10, 9, 0, 0),\n",
              "  datetime.datetime(2013, 10, 10, 0, 0)],\n",
              " [123.65499,\n",
              "  125.455,\n",
              "  108.58483,\n",
              "  118.67466,\n",
              "  121.33866,\n",
              "  120.65533,\n",
              "  121.795,\n",
              "  123.033,\n",
              "  124.049,\n",
              "  125.96116])"
            ]
          },
          "metadata": {},
          "execution_count": 140
        }
      ]
    },
    {
      "cell_type": "code",
      "metadata": {
        "colab": {
          "base_uri": "https://localhost:8080/",
          "height": 481
        },
        "id": "j5azAm2dLmj7",
        "outputId": "c0a9f3ae-ef8b-49ed-b5c1-1374add09dbb"
      },
      "source": [
        "#Plot from CSV\n",
        "import matplotlib.pyplot as plt\n",
        "import numpy as np\n",
        "plt.figure(figsize=(10,7))\n",
        "plt.plot(timesteps, btc_price)\n",
        "plt.ylabel(\"BTC Price\")\n",
        "plt.title(\"Price of Bitcoin from 1 Oct 2013 to 18 May 2021\", fontsize=16)\n",
        "plt.legend(fontsize=14)"
      ],
      "execution_count": 141,
      "outputs": [
        {
          "output_type": "stream",
          "text": [
            "No handles with labels found to put in legend.\n"
          ],
          "name": "stderr"
        },
        {
          "output_type": "execute_result",
          "data": {
            "text/plain": [
              "<matplotlib.legend.Legend at 0x7fbda0e8e3d0>"
            ]
          },
          "metadata": {},
          "execution_count": 141
        },
        {
          "output_type": "display_data",
          "data": {
            "image/png": "[encoded data removed]",
            "text/plain": [
              "<Figure size 720x504 with 1 Axes>"
            ]
          },
          "metadata": {
            "needs_background": "light"
          }
        }
      ]
    },
    {
      "cell_type": "markdown",
      "metadata": {
        "id": "oGuxX2LbMPrE"
      },
      "source": [
        "## Format data part 1: Create train and test sets of our time series data"
      ]
    },
    {
      "cell_type": "markdown",
      "metadata": {
        "id": "fUsY0_YtaN8J"
      },
      "source": [
        "### Creating train and test sets with tume series data"
      ]
    },
    {
      "cell_type": "code",
      "metadata": {
        "colab": {
          "base_uri": "https://localhost:8080/"
        },
        "id": "QvvGhCdWaQV5",
        "outputId": "f2af3365-6095-4178-fc8a-689932264c5d"
      },
      "source": [
        "# Get bitcoin data array\n",
        "timesteps = bitcoin_prices.index.to_numpy()\n",
        "prices = bitcoin_prices[\"Price\"].to_numpy()\n",
        "\n",
        "timesteps[:10], prices[:10]"
      ],
      "execution_count": 142,
      "outputs": [
        {
          "output_type": "execute_result",
          "data": {
            "text/plain": [
              "(array(['2013-10-01T00:00:00.000000000', '2013-10-02T00:00:00.000000000',\n",
              "        '2013-10-03T00:00:00.000000000', '2013-10-04T00:00:00.000000000',\n",
              "        '2013-10-05T00:00:00.000000000', '2013-10-06T00:00:00.000000000',\n",
              "        '2013-10-07T00:00:00.000000000', '2013-10-08T00:00:00.000000000',\n",
              "        '2013-10-09T00:00:00.000000000', '2013-10-10T00:00:00.000000000'],\n",
              "       dtype='datetime64[ns]'),\n",
              " array([123.65499, 125.455  , 108.58483, 118.67466, 121.33866, 120.65533,\n",
              "        121.795  , 123.033  , 124.049  , 125.96116]))"
            ]
          },
          "metadata": {},
          "execution_count": 142
        }
      ]
    },
    {
      "cell_type": "markdown",
      "metadata": {
        "id": "7-5xMOTqa-_n"
      },
      "source": [
        "### Create train & test sets for time series"
      ]
    },
    {
      "cell_type": "code",
      "metadata": {
        "id": "sMqk9fOayaxO",
        "colab": {
          "base_uri": "https://localhost:8080/"
        },
        "outputId": "b332d71e-db09-487b-9794-7611801e1088"
      },
      "source": [
        "# Create train and test splits for time series data\n",
        "split_size = int(0.8*len(prices)) #80% train, 20% test\n",
        "\n",
        "#Create train data splits (everything before the split)\n",
        "x_train, y_train = timesteps[:split_size], prices[:split_size]\n",
        "\n",
        "#Create test data splits (everything beyond the split)\n",
        "x_test, y_test = timesteps[split_size:], prices[split_size:]\n",
        "\n",
        "len(x_train), len(y_train), len(x_test), len(y_test)"
      ],
      "execution_count": 143,
      "outputs": [
        {
          "output_type": "execute_result",
          "data": {
            "text/plain": [
              "(2229, 2229, 558, 558)"
            ]
          },
          "metadata": {},
          "execution_count": 143
        }
      ]
    },
    {
      "cell_type": "code",
      "metadata": {
        "id": "XNJJnJ2Dzh_w",
        "colab": {
          "base_uri": "https://localhost:8080/",
          "height": 442
        },
        "outputId": "425d3012-8549-4585-daac-169cb88b7073"
      },
      "source": [
        "# plot train and test set\n",
        "plt.figure(figsize=(10,7))\n",
        "plt.scatter(x_train, y_train, s=5, label=\"Train data\")\n",
        "plt.scatter(x_test, y_test, s=5, label=\"Test data\")\n",
        "plt.xlabel(\"Date\")\n",
        "plt.ylabel(\"BTC Price\")\n",
        "plt.legend(fontsize=14)\n",
        "plt.show()"
      ],
      "execution_count": 144,
      "outputs": [
        {
          "output_type": "display_data",
          "data": {
            "image/png": "[encoded data removed]",
            "text/plain": [
              "<Figure size 720x504 with 1 Axes>"
            ]
          },
          "metadata": {
            "needs_background": "light"
          }
        }
      ]
    },
    {
      "cell_type": "markdown",
      "metadata": {
        "id": "1tMyAMQFOD7p"
      },
      "source": [
        "## Create a plotting function"
      ]
    },
    {
      "cell_type": "code",
      "metadata": {
        "id": "v2g-Unj8OH3g"
      },
      "source": [
        "# Create a function to plot time series data\n",
        "def plot_time_series(timesteps, values, format=\".\", start=0, end=None, label=None):\n",
        "  \"\"\"\n",
        "  Plots timesteps (a series of points in time) against values (a series of values across timestimps)\n",
        "  Parameters:\n",
        "    timestamps: array of timestep values\n",
        "    values: array of values across time\n",
        "    format: style of plot, default \".\"\n",
        "    start: where to start the plot (setting a value will index from start of timesteps)\n",
        "    end: where to end the plot (similar to start but for the end)\n",
        "    label: label to show on plot about values, default None\n",
        "  \"\"\"\n",
        "  plt.plot(timesteps[start:end], values[start:end], format, label=label)\n",
        "  plt.xlabel(\"Time\")\n",
        "  plt.ylabel(\"BTC Price\")\n",
        "  if label:\n",
        "    plt.legend(fontsize=14) #make label bigger\n",
        "  plt.grid(True)"
      ],
      "execution_count": 145,
      "outputs": []
    },
    {
      "cell_type": "code",
      "metadata": {
        "id": "RFFE1I2oPSYY",
        "colab": {
          "base_uri": "https://localhost:8080/",
          "height": 442
        },
        "outputId": "fd80ce06-b55d-4bb1-d3c1-734ad28e41b5"
      },
      "source": [
        "#Test out plotting function\n",
        "plt.figure(figsize=(10,7))\n",
        "plot_time_series(timesteps=x_train, values=y_train, label=\"Train data\")\n",
        "plot_time_series(timesteps=x_test, values=y_test, label=\"Test data\")"
      ],
      "execution_count": 146,
      "outputs": [
        {
          "output_type": "display_data",
          "data": {
            "image/png": "[encoded data removed]",
            "text/plain": [
              "<Figure size 720x504 with 1 Axes>"
            ]
          },
          "metadata": {
            "needs_background": "light"
          }
        }
      ]
    },
    {
      "cell_type": "markdown",
      "metadata": {
        "id": "cRZjRNgVPge1"
      },
      "source": [
        "## Modelling Experiments\n",
        "\n"
      ]
    },
    {
      "cell_type": "code",
      "metadata": {
        "id": "xmXYQdQhSd-i"
      },
      "source": [
        "naive_forecast = y_test[:-1]"
      ],
      "execution_count": 147,
      "outputs": []
    },
    {
      "cell_type": "code",
      "metadata": {
        "id": "Uxz3GEABvhpb",
        "colab": {
          "base_uri": "https://localhost:8080/"
        },
        "outputId": "cdba4858-361b-4715-f1a5-148edc3b704d"
      },
      "source": [
        "naive_forecast[-10:]"
      ],
      "execution_count": 148,
      "outputs": [
        {
          "output_type": "execute_result",
          "data": {
            "text/plain": [
              "array([57107.12067189, 58788.20967893, 58102.19142623, 55715.54665129,\n",
              "       56573.5554719 , 52147.82118698, 49764.1320816 , 50032.69313676,\n",
              "       47885.62525472, 45604.61575361])"
            ]
          },
          "metadata": {},
          "execution_count": 148
        }
      ]
    },
    {
      "cell_type": "code",
      "metadata": {
        "id": "4MTSybyUvitF",
        "colab": {
          "base_uri": "https://localhost:8080/",
          "height": 442
        },
        "outputId": "1ea2f895-8102-4753-fa3d-0ac12e5907b4"
      },
      "source": [
        "plt.figure(figsize=(10,7))\n",
        "plot_time_series(timesteps=x_test, values=y_test, start=350, format=\"-\", label=\"Test data\")\n",
        "plot_time_series(timesteps=x_test[1:], values=naive_forecast, start=350, format=\"-\", label=\"Naive Forecast\")"
      ],
      "execution_count": 149,
      "outputs": [
        {
          "output_type": "display_data",
          "data": {
            "image/png": "[encoded data removed]",
            "text/plain": [
              "<Figure size 720x504 with 1 Axes>"
            ]
          },
          "metadata": {
            "needs_background": "light"
          }
        }
      ]
    },
    {
      "cell_type": "markdown",
      "metadata": {
        "id": "iMcSGvj8vnoo"
      },
      "source": [
        "## Evaluating a time series model - Evaluation metrics\n",
        "\n",
        "We´re predicting a number - so that means we have a form of a regression problem.\n",
        "\n",
        "Because we´re working on a regression problem, we´ll need some a regression-like metrics.\n",
        "\n",
        "A few comoon regression metrics (which can also be used for time series forecasting)\n",
        "* MAE - mean absolute error\n",
        "* MSE - mean squarred error\n",
        "\n",
        "For all of the above metrics, lower is better, for example, an MAE of 0 that is better than an MAE of 100.\n",
        "\n",
        "The main thing we´re evaluating here is: how do our model´s forecast (y_pred) compare against the actual values (y_true or ground truth values)"
      ]
    },
    {
      "cell_type": "code",
      "metadata": {
        "id": "b0bf8SZGwWQL"
      },
      "source": [
        "import tensorflow as tf\n",
        "\n",
        "# MASE implementation\n",
        "def mean_absolute_scaled_error(y_true, y_pred):\n",
        "  \"\"\"\n",
        "  Implement MASE (assuming no seasonality of data).\n",
        "  \"\"\"\n",
        "  mae = tf.reduce_mean(tf.abs(y_true-y_pred))\n",
        "\n",
        "  # Find MAE of naive forecat (no seasonality)\n",
        "  mae_naive_no_season = tf.reduce_mean(tf.abs(y_true[1:]-y_true[:-1])) #our seasonality is 1 day (hence the shift is 1)\n",
        "\n",
        "  return mae / mae_naive_no_season"
      ],
      "execution_count": 150,
      "outputs": []
    },
    {
      "cell_type": "code",
      "metadata": {
        "id": "Y3RNPYo3vvaQ",
        "colab": {
          "base_uri": "https://localhost:8080/"
        },
        "outputId": "6c5c3437-faf6-42dd-8f8b-bb1fa318d560"
      },
      "source": [
        "mean_absolute_scaled_error(y_true = y_test[1:], y_pred=naive_forecast).numpy()\n"
      ],
      "execution_count": 151,
      "outputs": [
        {
          "output_type": "execute_result",
          "data": {
            "text/plain": [
              "0.9995699939182624"
            ]
          },
          "metadata": {},
          "execution_count": 151
        }
      ]
    },
    {
      "cell_type": "code",
      "metadata": {
        "id": "YUeocVFEw5jM"
      },
      "source": [
        "# Create a function to take in model prediction an truth values and return evaluation metrics\n",
        "def evaluate_preds(y_true, y_pred):\n",
        "  # Make sure float32 datatype (for metric calculations)\n",
        "  y_true = tf.cast(y_true, dtype=tf.float32)\n",
        "  y_pred = tf.cast(y_pred, dtype=tf.float32)\n",
        "\n",
        "  #Calculate various evaluation metrics\n",
        "  mae = tf.keras.metrics.mean_absolute_error(y_true, y_pred)\n",
        "  mse = tf.keras.metrics.mean_squared_error(y_true, y_pred)\n",
        "  rmse = tf.sqrt(mse)\n",
        "  mape = tf.keras.metrics.mean_absolute_percentage_error(y_true, y_pred)\n",
        "  mase = mean_absolute_scaled_error(y_true, y_pred)\n",
        "\n",
        "  return {\"mae\": mae.numpy(),\n",
        "          \"mse\": mse.numpy(),\n",
        "          \"rmse\": rmse.numpy(),\n",
        "          \"mape\": mape.numpy(),\n",
        "          \"mase\": mase.numpy()}"
      ],
      "execution_count": 152,
      "outputs": []
    },
    {
      "cell_type": "code",
      "metadata": {
        "id": "-GckDgohzf8O"
      },
      "source": [
        "naive_results = evaluate_preds(y_true=y_test[1:], y_pred=naive_forecast)"
      ],
      "execution_count": 153,
      "outputs": []
    },
    {
      "cell_type": "code",
      "metadata": {
        "id": "bGBC6kRdzoQe",
        "colab": {
          "base_uri": "https://localhost:8080/"
        },
        "outputId": "65bb53b8-bb55-4c4a-8033-55ab745bd419"
      },
      "source": [
        "naive_results"
      ],
      "execution_count": 154,
      "outputs": [
        {
          "output_type": "execute_result",
          "data": {
            "text/plain": [
              "{'mae': 567.9802,\n",
              " 'mape': 2.516525,\n",
              " 'mase': 0.99957,\n",
              " 'mse': 1147547.0,\n",
              " 'rmse': 1071.2362}"
            ]
          },
          "metadata": {},
          "execution_count": 154
        }
      ]
    },
    {
      "cell_type": "markdown",
      "metadata": {
        "id": "LpSyliR7zsWP"
      },
      "source": [
        "## Other models you can use for baselines and for actual forecasts\n",
        "\n",
        "In this notebook, we´re focused on TensorFlow and deep learning models.\n",
        "\n",
        "However there are plenty of other styles of time series forecasting models."
      ]
    },
    {
      "cell_type": "markdown",
      "metadata": {
        "id": "9i-Nigco1Vpy"
      },
      "source": [
        "## Format Data Part 2: Windowing our data\n",
        "\n",
        "Why do we window?\n",
        "\n",
        "We window our time series dataset to turn our data in a supervised learning problem.\n",
        "\n",
        "Windowing for one week\n",
        "[0, 1, 2, 3, 4, 5] - > [6]\n",
        "[1, 2, 3, 4, 5, 6] -> [7]\n",
        "[2, 3, 4, 5, 6, 7] -> [8]"
      ]
    },
    {
      "cell_type": "code",
      "metadata": {
        "id": "ySAVoruz2e9m",
        "colab": {
          "base_uri": "https://localhost:8080/"
        },
        "outputId": "eb5e8e6a-8f6b-424c-812a-d33018497dee"
      },
      "source": [
        "len(y_train)"
      ],
      "execution_count": 155,
      "outputs": [
        {
          "output_type": "execute_result",
          "data": {
            "text/plain": [
              "2229"
            ]
          },
          "metadata": {},
          "execution_count": 155
        }
      ]
    },
    {
      "cell_type": "code",
      "metadata": {
        "id": "5YnGNQoV2jTY",
        "colab": {
          "base_uri": "https://localhost:8080/"
        },
        "outputId": "16ae8ec3-8f6a-43d6-be5e-8c3fa4e80100"
      },
      "source": [
        "#What we want to do with our Bitcoin data\n",
        "print(f\"We want to use: {btc_price[:7]} to predict {btc_price[7]}\")"
      ],
      "execution_count": 156,
      "outputs": [
        {
          "output_type": "stream",
          "text": [
            "We want to use: [123.65499, 125.455, 108.58483, 118.67466, 121.33866, 120.65533, 121.795] to predict 123.033\n"
          ],
          "name": "stdout"
        }
      ]
    },
    {
      "cell_type": "code",
      "metadata": {
        "id": "IEmW-vB62m48"
      },
      "source": [
        "#Let´s setup global variables for window and horizon size\n",
        "HORIZON = 1 #predict next 1 day\n",
        "WINDOW_SIZE = 7 #use the past week of bitcoin data to make the prediction"
      ],
      "execution_count": 157,
      "outputs": []
    },
    {
      "cell_type": "code",
      "metadata": {
        "id": "akxhiqNx3Vj5"
      },
      "source": [
        "#Create function to label windowed data\n",
        "def get_labelled_windows(x, horizon=HORIZON):\n",
        "  \"\"\"\n",
        "  Creates labels for windowed dataset.\n",
        "\n",
        "  E.g. if horizon = 1\n",
        "  Input: [0, 1, 2, 3, 4, 5, 6, 7] -> Output: ([0, 1, 2, 3, 4, 5, 6], [7])\n",
        "  \"\"\"\n",
        "  return x[:, :-horizon], x[:, -horizon:]"
      ],
      "execution_count": 158,
      "outputs": []
    },
    {
      "cell_type": "code",
      "metadata": {
        "id": "AJufaN_l4N-Q",
        "colab": {
          "base_uri": "https://localhost:8080/"
        },
        "outputId": "3b05dad3-188a-433b-d681-2fdb9e4ef560"
      },
      "source": [
        "#Test out the window labelling function\n",
        "test_window, test_label = get_labelled_windows(tf.expand_dims(tf.range(8), axis=0))\n",
        "print(f\"Window: {tf.squeeze(test_window).numpy()} -> Label: {tf.squeeze(test_label).numpy()}\")"
      ],
      "execution_count": 159,
      "outputs": [
        {
          "output_type": "stream",
          "text": [
            "Window: [0 1 2 3 4 5 6] -> Label: 7\n"
          ],
          "name": "stdout"
        }
      ]
    },
    {
      "cell_type": "markdown",
      "metadata": {
        "id": "7TTr8tAOFYBZ"
      },
      "source": [
        "We´ve got a wa to label our windowd data. \n",
        "\n",
        "This only works on a small scale. \n",
        "\n",
        "We need a way to do the above across entire time series.\n",
        "\n",
        "We could do this with Python foor loops, however, for large time series this is quite slow. To speed things up, we´ll lerverage NumPy´s array indexing.\n",
        "\n",
        "Our function will:\n",
        "1. Create a window step of specific window size (e.g. [0, 1, 2, 3, 4, 5, 6])\n",
        "2. Use NumPy indexing to create a 2D array of multiple window steps, for example:\n",
        "\n",
        "```\n",
        "[[0, 1, 2, 3, 4, 5, 6],\n",
        "[1, 2, 3, 4, 5, 6, 7],\n",
        "[2, 3, 4, 5, 6, 7, 8]]\n",
        "```\n",
        "2. Uses the 2D array of multiple window steps (form 2.) to index on a target series (e.g. the historical price of Bitcoin)\n",
        "4. Uses our 'get_labelled_windows()` function we created above to turn the window steps into windows with a specified horizon.\n",
        "\n",
        "https://towardsdatascience.com/fast-and-robust-sliding-window-vectorization-with-numpy-3ad950ed62f5"
      ]
    },
    {
      "cell_type": "code",
      "metadata": {
        "id": "wxO8mwLFFfhx"
      },
      "source": [
        "import numpy as np\n",
        "#Create function to view NumPy arrays as windows\n",
        "def make_windows(x, window_size=WINDOW_SIZE, horizon=HORIZON):\n",
        "  \"\"\"\n",
        "  Turn a 1D array into a 2D array of sequential labelled windows of window_size with horizon size labels\n",
        "  \"\"\"\n",
        "  # 1. Create a window of specific window_size (add the horizon on the end for labelling later)\n",
        "  window_step = np.expand_dims(np.arange(window_size+horizon), axis=0)\n",
        "\n",
        "  # 2. Create a 2D array of multiple window steps (minus 1 to account for 0 indexing)\n",
        "  window_indexes = window_step + np.expand_dims(np.arange(len(x) - (window_size+horizon-1)), axis=0).T #create 2D array of windows of size window_size\n",
        "\n",
        "  # 3. Index on the target array ( a time series) with 2D array of multiple window steps\n",
        "  windowed_array = x[window_indexes]\n",
        "\n",
        "  # 5 Get the labelled windows\n",
        "  windows, labels = get_labelled_windows(windowed_array, horizon=horizon)\n",
        "  return windows, labels"
      ],
      "execution_count": 160,
      "outputs": []
    },
    {
      "cell_type": "code",
      "metadata": {
        "id": "zWHT4CCTIPTv"
      },
      "source": [
        "full_windows, full_labels = make_windows(prices)"
      ],
      "execution_count": 161,
      "outputs": []
    },
    {
      "cell_type": "code",
      "metadata": {
        "id": "ftipEUPOJMgv",
        "colab": {
          "base_uri": "https://localhost:8080/"
        },
        "outputId": "5de6e844-2b7f-4f3e-8915-6cc93c7e06a1"
      },
      "source": [
        "len(full_windows), len(full_labels)"
      ],
      "execution_count": 162,
      "outputs": [
        {
          "output_type": "execute_result",
          "data": {
            "text/plain": [
              "(2780, 2780)"
            ]
          },
          "metadata": {},
          "execution_count": 162
        }
      ]
    },
    {
      "cell_type": "code",
      "metadata": {
        "id": "xx15O7HHK7VO",
        "colab": {
          "base_uri": "https://localhost:8080/"
        },
        "outputId": "e5ebe1e1-50ad-48b9-967b-8a065ae687bb"
      },
      "source": [
        "#View the first 3 windows/labels\n",
        "for i in range(3):\n",
        "  print(f\"Window: {full_windows[i]} -> Label {full_labels[i]}\")"
      ],
      "execution_count": 163,
      "outputs": [
        {
          "output_type": "stream",
          "text": [
            "Window: [123.65499 125.455   108.58483 118.67466 121.33866 120.65533 121.795  ] -> Label [123.033]\n",
            "Window: [125.455   108.58483 118.67466 121.33866 120.65533 121.795   123.033  ] -> Label [124.049]\n",
            "Window: [108.58483 118.67466 121.33866 120.65533 121.795   123.033   124.049  ] -> Label [125.96116]\n"
          ],
          "name": "stdout"
        }
      ]
    },
    {
      "cell_type": "markdown",
      "metadata": {
        "id": "Du-R6UxcLIBJ"
      },
      "source": [
        "##Turning windows into training an test sets"
      ]
    },
    {
      "cell_type": "code",
      "metadata": {
        "id": "rQIcmORXb1-u"
      },
      "source": [
        "# Make the train/test splits\n",
        "def make_train_test_splits(windows, labels, test_split=0.2):\n",
        "  \"\"\"\n",
        "  Splits matching pairs of windows and labels into train and test splits\n",
        "  \"\"\"\n",
        "  split_size =  int(len(windows) * (1-test_split)) #this will default to 80% train and 20% test split\n",
        "  train_labels = labels[:split_size]\n",
        "  test_labels = labels[split_size:]\n",
        "  train_windows = windows[:split_size]\n",
        "  test_windows = windows[split_size:]\n",
        "  return train_windows, test_windows, train_labels, test_labels"
      ],
      "execution_count": 164,
      "outputs": []
    },
    {
      "cell_type": "code",
      "metadata": {
        "id": "7Qh7FrDRdt9Z",
        "colab": {
          "base_uri": "https://localhost:8080/"
        },
        "outputId": "65d43281-017d-4dd7-ac81-9eed749a42d5"
      },
      "source": [
        "train_windows, test_windows, train_labels, test_labels = make_train_test_splits(full_windows, full_labels)\n",
        "len(train_windows), len(train_labels), len(test_windows), len(test_labels)"
      ],
      "execution_count": 165,
      "outputs": [
        {
          "output_type": "execute_result",
          "data": {
            "text/plain": [
              "(2224, 2224, 556, 556)"
            ]
          },
          "metadata": {},
          "execution_count": 165
        }
      ]
    },
    {
      "cell_type": "code",
      "metadata": {
        "id": "VtrCUgVteBxd",
        "colab": {
          "base_uri": "https://localhost:8080/"
        },
        "outputId": "3c555b44-aa9f-4cc3-bbb0-c453212853a1"
      },
      "source": [
        "train_windows[:5], train_labels[5:]"
      ],
      "execution_count": 166,
      "outputs": [
        {
          "output_type": "execute_result",
          "data": {
            "text/plain": [
              "(array([[123.65499, 125.455  , 108.58483, 118.67466, 121.33866, 120.65533,\n",
              "         121.795  ],\n",
              "        [125.455  , 108.58483, 118.67466, 121.33866, 120.65533, 121.795  ,\n",
              "         123.033  ],\n",
              "        [108.58483, 118.67466, 121.33866, 120.65533, 121.795  , 123.033  ,\n",
              "         124.049  ],\n",
              "        [118.67466, 121.33866, 120.65533, 121.795  , 123.033  , 124.049  ,\n",
              "         125.96116],\n",
              "        [121.33866, 120.65533, 121.795  , 123.033  , 124.049  , 125.96116,\n",
              "         125.27966]]), array([[ 126.38333   ],\n",
              "        [ 135.24199   ],\n",
              "        [ 133.20333   ],\n",
              "        ...,\n",
              "        [9335.75240233],\n",
              "        [9226.48582088],\n",
              "        [8794.35864452]]))"
            ]
          },
          "metadata": {},
          "execution_count": 166
        }
      ]
    },
    {
      "cell_type": "markdown",
      "metadata": {
        "id": "xZm62NzCePs1"
      },
      "source": [
        "## Make a modelling checkpoint\n",
        "\n",
        "Because our model´s performance will fluctuate from experiment to experiment, we´re going to write a model checkpoint so we can compare apples to apples.\n",
        "\n",
        "More specifically, we want to compare each of our model´s best performances against the other model´s best performances.\n",
        "\n",
        "For example if our model performs the best on epoch 55 (but we´re training for 100 epochs), we want to load and evaluate the model saved on epoch 55."
      ]
    },
    {
      "cell_type": "code",
      "metadata": {
        "id": "Gq0DIdEsfIvG"
      },
      "source": [
        "import os\n",
        "\n",
        "#Create a function to implement a ModelCheckpoint callback with a specific filename\n",
        "def create_model_checkpoint(model_name, save_path=\"model_experiments\"):\n",
        "  return tf.keras.callbacks.ModelCheckpoint(filepath=os.path.join(save_path, model_name),\n",
        "                                            verbose=0, #only output a limited amount of text\n",
        "                                            save_best_only=True)"
      ],
      "execution_count": 167,
      "outputs": []
    },
    {
      "cell_type": "markdown",
      "metadata": {
        "id": "v0FDJ7Ibgqix"
      },
      "source": [
        "## Model 1: Dense model (window = 7, horizon = 1)\n",
        "\n",
        "Our first deep model is going to be a simple dense model:\n",
        "* A single dense layer with 128 hidden units ans Relu\n",
        "* An output layer with linear activation (no activation)\n",
        "* Adam optimizer and MAE loss function\n",
        "* Batch size of 128 (previously we´ve used 32)\n",
        "* 100 epochs\n",
        "\n",
        "* Hyperparameters = values a machine learning practitioner can adjust themselves\n",
        "* Parameters = values a model learns on its own"
      ]
    },
    {
      "cell_type": "code",
      "metadata": {
        "id": "wuQDR33phPRI"
      },
      "source": [
        "import tensorflow as tf\n",
        "from tensorflow.keras import layers\n",
        "\n",
        "#Set random seed\n",
        "tf.random.set_seed(42)\n",
        "\n",
        "# Build the model\n",
        "model_1 = tf.keras.Sequential([\n",
        "                               layers.Dense(128, activation=\"relu\"),\n",
        "                               layers.Dense(HORIZON, activation=\"linear\") #linear = no activation\n",
        "], name=\"model_1_dense\")"
      ],
      "execution_count": 168,
      "outputs": []
    },
    {
      "cell_type": "code",
      "metadata": {
        "id": "7t1Z7RzTi1xB"
      },
      "source": [
        "#Compile the model\n",
        "model_1.compile(loss=\"mae\",\n",
        "                optimizer=\"Adam\",\n",
        "                metrics=[\"mae\", \"mse\"])"
      ],
      "execution_count": 169,
      "outputs": []
    },
    {
      "cell_type": "code",
      "metadata": {
        "id": "gt6tvW4ZjOCi",
        "colab": {
          "base_uri": "https://localhost:8080/"
        },
        "outputId": "d1e66b3c-a20c-4f18-ebf9-3dc860c0177b"
      },
      "source": [
        "#Fit the model \n",
        "model_1.fit(train_windows, train_labels,\n",
        "            epochs=100, verbose=1,\n",
        "            batch_size=128, validation_data=(test_windows, test_labels),\n",
        "            callbacks=[create_model_checkpoint(model_1.name)])"
      ],
      "execution_count": 170,
      "outputs": [
        {
          "output_type": "stream",
          "text": [
            "Epoch 1/100\n",
            "18/18 [==============================] - 1s 41ms/step - loss: 780.3469 - mae: 780.3469 - mse: 2312739.0000 - val_loss: 2279.5828 - val_mae: 2279.5828 - val_mse: 12772095.0000\n",
            "INFO:tensorflow:Assets written to: model_experiments/model_1_dense/assets\n",
            "Epoch 2/100\n",
            "18/18 [==============================] - 0s 5ms/step - loss: 247.6765 - mae: 247.6765 - mse: 285480.9375 - val_loss: 1005.9864 - val_mae: 1005.9864 - val_mse: 3441759.2500\n",
            "INFO:tensorflow:Assets written to: model_experiments/model_1_dense/assets\n",
            "Epoch 3/100\n",
            "18/18 [==============================] - 0s 5ms/step - loss: 188.4107 - mae: 188.4107 - mse: 171890.0312 - val_loss: 923.2859 - val_mae: 923.2859 - val_mse: 2868195.0000\n",
            "INFO:tensorflow:Assets written to: model_experiments/model_1_dense/assets\n",
            "Epoch 4/100\n",
            "18/18 [==============================] - 0s 4ms/step - loss: 169.4334 - mae: 169.4334 - mse: 151699.4375 - val_loss: 900.5932 - val_mae: 900.5932 - val_mse: 2683713.7500\n",
            "INFO:tensorflow:Assets written to: model_experiments/model_1_dense/assets\n",
            "Epoch 5/100\n",
            "18/18 [==============================] - 0s 6ms/step - loss: 165.0899 - mae: 165.0899 - mse: 145490.8594 - val_loss: 895.2405 - val_mae: 895.2405 - val_mse: 2564606.2500\n",
            "INFO:tensorflow:Assets written to: model_experiments/model_1_dense/assets\n",
            "Epoch 6/100\n",
            "18/18 [==============================] - 0s 4ms/step - loss: 158.5206 - mae: 158.5206 - mse: 133816.7969 - val_loss: 855.1868 - val_mae: 855.1868 - val_mse: 2481815.5000\n",
            "INFO:tensorflow:Assets written to: model_experiments/model_1_dense/assets\n",
            "Epoch 7/100\n",
            "18/18 [==============================] - 0s 4ms/step - loss: 151.3568 - mae: 151.3568 - mse: 123446.8047 - val_loss: 840.9290 - val_mae: 840.9290 - val_mse: 2276476.2500\n",
            "INFO:tensorflow:Assets written to: model_experiments/model_1_dense/assets\n",
            "Epoch 8/100\n",
            "18/18 [==============================] - 0s 4ms/step - loss: 145.2560 - mae: 145.2560 - mse: 117694.1797 - val_loss: 803.6005 - val_mae: 803.6005 - val_mse: 2140566.2500\n",
            "INFO:tensorflow:Assets written to: model_experiments/model_1_dense/assets\n",
            "Epoch 9/100\n",
            "18/18 [==============================] - 0s 5ms/step - loss: 144.3546 - mae: 144.3546 - mse: 115269.0859 - val_loss: 799.5592 - val_mae: 799.5592 - val_mse: 2049233.7500\n",
            "INFO:tensorflow:Assets written to: model_experiments/model_1_dense/assets\n",
            "Epoch 10/100\n",
            "18/18 [==============================] - 0s 5ms/step - loss: 141.2944 - mae: 141.2944 - mse: 112394.1953 - val_loss: 763.5060 - val_mae: 763.5060 - val_mse: 1933137.0000\n",
            "INFO:tensorflow:Assets written to: model_experiments/model_1_dense/assets\n",
            "Epoch 11/100\n",
            "18/18 [==============================] - 0s 5ms/step - loss: 135.6591 - mae: 135.6591 - mse: 104117.6016 - val_loss: 771.3525 - val_mae: 771.3525 - val_mse: 1885888.2500\n",
            "Epoch 12/100\n",
            "18/18 [==============================] - 0s 4ms/step - loss: 134.1702 - mae: 134.1702 - mse: 101780.5156 - val_loss: 782.8326 - val_mae: 782.8325 - val_mse: 1881791.6250\n",
            "Epoch 13/100\n",
            "18/18 [==============================] - 0s 5ms/step - loss: 134.6014 - mae: 134.6014 - mse: 102344.3516 - val_loss: 784.4728 - val_mae: 784.4728 - val_mse: 1861070.5000\n",
            "Epoch 14/100\n",
            "18/18 [==============================] - 0s 5ms/step - loss: 130.6125 - mae: 130.6125 - mse: 96224.3594 - val_loss: 751.3470 - val_mae: 751.3470 - val_mse: 1749667.6250\n",
            "INFO:tensorflow:Assets written to: model_experiments/model_1_dense/assets\n",
            "Epoch 15/100\n",
            "18/18 [==============================] - 0s 4ms/step - loss: 128.8352 - mae: 128.8352 - mse: 94306.8672 - val_loss: 696.5837 - val_mae: 696.5837 - val_mse: 1606358.6250\n",
            "INFO:tensorflow:Assets written to: model_experiments/model_1_dense/assets\n",
            "Epoch 16/100\n",
            "18/18 [==============================] - 0s 4ms/step - loss: 124.8667 - mae: 124.8667 - mse: 90498.6250 - val_loss: 707.2988 - val_mae: 707.2988 - val_mse: 1602364.3750\n",
            "Epoch 17/100\n",
            "18/18 [==============================] - 0s 5ms/step - loss: 123.6096 - mae: 123.6096 - mse: 89226.7422 - val_loss: 714.2291 - val_mae: 714.2291 - val_mse: 1601816.6250\n",
            "Epoch 18/100\n",
            "18/18 [==============================] - 0s 5ms/step - loss: 122.3023 - mae: 122.3023 - mse: 87726.4766 - val_loss: 669.1414 - val_mae: 669.1414 - val_mse: 1498631.3750\n",
            "INFO:tensorflow:Assets written to: model_experiments/model_1_dense/assets\n",
            "Epoch 19/100\n",
            "18/18 [==============================] - 0s 4ms/step - loss: 121.4932 - mae: 121.4932 - mse: 86447.8828 - val_loss: 721.5452 - val_mae: 721.5452 - val_mse: 1595832.0000\n",
            "Epoch 20/100\n",
            "18/18 [==============================] - 0s 4ms/step - loss: 119.2384 - mae: 119.2384 - mse: 84250.7500 - val_loss: 658.0786 - val_mae: 658.0786 - val_mse: 1448095.1250\n",
            "INFO:tensorflow:Assets written to: model_experiments/model_1_dense/assets\n",
            "Epoch 21/100\n",
            "18/18 [==============================] - 0s 4ms/step - loss: 121.5293 - mae: 121.5293 - mse: 85926.5547 - val_loss: 638.3386 - val_mae: 638.3386 - val_mse: 1397797.1250\n",
            "INFO:tensorflow:Assets written to: model_experiments/model_1_dense/assets\n",
            "Epoch 22/100\n",
            "18/18 [==============================] - 0s 4ms/step - loss: 119.3422 - mae: 119.3422 - mse: 83495.1953 - val_loss: 678.8881 - val_mae: 678.8881 - val_mse: 1465750.7500\n",
            "Epoch 23/100\n",
            "18/18 [==============================] - 0s 5ms/step - loss: 122.8203 - mae: 122.8203 - mse: 84656.3828 - val_loss: 651.8512 - val_mae: 651.8512 - val_mse: 1401081.1250\n",
            "Epoch 24/100\n",
            "18/18 [==============================] - 0s 5ms/step - loss: 117.0774 - mae: 117.0774 - mse: 81069.2031 - val_loss: 623.5611 - val_mae: 623.5611 - val_mse: 1362704.7500\n",
            "INFO:tensorflow:Assets written to: model_experiments/model_1_dense/assets\n",
            "Epoch 25/100\n",
            "18/18 [==============================] - 0s 6ms/step - loss: 115.1816 - mae: 115.1816 - mse: 79065.0469 - val_loss: 618.5576 - val_mae: 618.5576 - val_mse: 1342634.1250\n",
            "INFO:tensorflow:Assets written to: model_experiments/model_1_dense/assets\n",
            "Epoch 26/100\n",
            "18/18 [==============================] - 0s 4ms/step - loss: 115.0673 - mae: 115.0673 - mse: 78886.6484 - val_loss: 616.4918 - val_mae: 616.4918 - val_mse: 1321327.3750\n",
            "INFO:tensorflow:Assets written to: model_experiments/model_1_dense/assets\n",
            "Epoch 27/100\n",
            "18/18 [==============================] - 0s 5ms/step - loss: 116.6431 - mae: 116.6431 - mse: 79058.1172 - val_loss: 619.0472 - val_mae: 619.0472 - val_mse: 1316206.5000\n",
            "Epoch 28/100\n",
            "18/18 [==============================] - 0s 5ms/step - loss: 114.0328 - mae: 114.0328 - mse: 77953.4609 - val_loss: 610.3879 - val_mae: 610.3879 - val_mse: 1316937.5000\n",
            "INFO:tensorflow:Assets written to: model_experiments/model_1_dense/assets\n",
            "Epoch 29/100\n",
            "18/18 [==============================] - 0s 4ms/step - loss: 113.4892 - mae: 113.4892 - mse: 78513.0859 - val_loss: 617.2401 - val_mae: 617.2401 - val_mse: 1304227.6250\n",
            "Epoch 30/100\n",
            "18/18 [==============================] - 0s 4ms/step - loss: 116.4094 - mae: 116.4094 - mse: 78943.1562 - val_loss: 603.6490 - val_mae: 603.6490 - val_mse: 1283177.8750\n",
            "INFO:tensorflow:Assets written to: model_experiments/model_1_dense/assets\n",
            "Epoch 31/100\n",
            "18/18 [==============================] - 0s 5ms/step - loss: 112.3454 - mae: 112.3454 - mse: 74879.3203 - val_loss: 623.4434 - val_mae: 623.4434 - val_mse: 1311036.7500\n",
            "Epoch 32/100\n",
            "18/18 [==============================] - 0s 5ms/step - loss: 113.2056 - mae: 113.2056 - mse: 77898.5000 - val_loss: 600.0261 - val_mae: 600.0261 - val_mse: 1271945.6250\n",
            "INFO:tensorflow:Assets written to: model_experiments/model_1_dense/assets\n",
            "Epoch 33/100\n",
            "18/18 [==============================] - 0s 5ms/step - loss: 112.9528 - mae: 112.9528 - mse: 76235.3906 - val_loss: 653.0604 - val_mae: 653.0604 - val_mse: 1369885.5000\n",
            "Epoch 34/100\n",
            "18/18 [==============================] - 0s 4ms/step - loss: 112.1157 - mae: 112.1157 - mse: 77267.7500 - val_loss: 594.7913 - val_mae: 594.7913 - val_mse: 1263628.2500\n",
            "INFO:tensorflow:Assets written to: model_experiments/model_1_dense/assets\n",
            "Epoch 35/100\n",
            "18/18 [==============================] - 0s 5ms/step - loss: 110.7447 - mae: 110.7447 - mse: 75067.1562 - val_loss: 592.7401 - val_mae: 592.7401 - val_mse: 1250752.6250\n",
            "INFO:tensorflow:Assets written to: model_experiments/model_1_dense/assets\n",
            "Epoch 36/100\n",
            "18/18 [==============================] - 0s 6ms/step - loss: 116.3301 - mae: 116.3301 - mse: 77425.8047 - val_loss: 592.4697 - val_mae: 592.4697 - val_mse: 1246067.6250\n",
            "INFO:tensorflow:Assets written to: model_experiments/model_1_dense/assets\n",
            "Epoch 37/100\n",
            "18/18 [==============================] - 0s 4ms/step - loss: 110.7676 - mae: 110.7676 - mse: 75596.7188 - val_loss: 618.5350 - val_mae: 618.5350 - val_mse: 1286741.7500\n",
            "Epoch 38/100\n",
            "18/18 [==============================] - 0s 4ms/step - loss: 112.5935 - mae: 112.5935 - mse: 75636.7109 - val_loss: 613.9557 - val_mae: 613.9557 - val_mse: 1306248.2500\n",
            "Epoch 39/100\n",
            "18/18 [==============================] - 0s 4ms/step - loss: 110.1321 - mae: 110.1321 - mse: 74271.7969 - val_loss: 586.6888 - val_mae: 586.6888 - val_mse: 1231217.3750\n",
            "INFO:tensorflow:Assets written to: model_experiments/model_1_dense/assets\n",
            "Epoch 40/100\n",
            "18/18 [==============================] - 0s 4ms/step - loss: 109.4753 - mae: 109.4753 - mse: 73257.0078 - val_loss: 593.9153 - val_mae: 593.9153 - val_mse: 1256532.0000\n",
            "Epoch 41/100\n",
            "18/18 [==============================] - 0s 4ms/step - loss: 110.1777 - mae: 110.1777 - mse: 73581.0234 - val_loss: 586.4465 - val_mae: 586.4465 - val_mse: 1229670.8750\n",
            "INFO:tensorflow:Assets written to: model_experiments/model_1_dense/assets\n",
            "Epoch 42/100\n",
            "18/18 [==============================] - 0s 5ms/step - loss: 111.5192 - mae: 111.5192 - mse: 76049.7500 - val_loss: 649.3650 - val_mae: 649.3650 - val_mse: 1345896.2500\n",
            "Epoch 43/100\n",
            "18/18 [==============================] - 0s 5ms/step - loss: 115.8939 - mae: 115.8939 - mse: 74405.6172 - val_loss: 686.8293 - val_mae: 686.8293 - val_mse: 1486392.8750\n",
            "Epoch 44/100\n",
            "18/18 [==============================] - 0s 5ms/step - loss: 123.0945 - mae: 123.0945 - mse: 83366.2891 - val_loss: 661.1304 - val_mae: 661.1304 - val_mse: 1411199.7500\n",
            "Epoch 45/100\n",
            "18/18 [==============================] - 0s 4ms/step - loss: 113.8169 - mae: 113.8169 - mse: 77100.1719 - val_loss: 626.8177 - val_mae: 626.8177 - val_mse: 1293826.5000\n",
            "Epoch 46/100\n",
            "18/18 [==============================] - 0s 4ms/step - loss: 114.0971 - mae: 114.0971 - mse: 76079.4453 - val_loss: 588.7769 - val_mae: 588.7769 - val_mse: 1238327.0000\n",
            "Epoch 47/100\n",
            "18/18 [==============================] - 0s 4ms/step - loss: 108.9936 - mae: 108.9936 - mse: 73660.3125 - val_loss: 636.0583 - val_mae: 636.0583 - val_mse: 1312960.0000\n",
            "Epoch 48/100\n",
            "18/18 [==============================] - 0s 5ms/step - loss: 109.2967 - mae: 109.2967 - mse: 73079.0781 - val_loss: 604.1586 - val_mae: 604.1586 - val_mse: 1245050.2500\n",
            "Epoch 49/100\n",
            "18/18 [==============================] - 0s 5ms/step - loss: 111.7787 - mae: 111.7787 - mse: 73888.9062 - val_loss: 591.5096 - val_mae: 591.5096 - val_mse: 1222480.7500\n",
            "Epoch 50/100\n",
            "18/18 [==============================] - 0s 4ms/step - loss: 111.7319 - mae: 111.7319 - mse: 73875.1641 - val_loss: 636.4677 - val_mae: 636.4677 - val_mse: 1341626.7500\n",
            "Epoch 51/100\n",
            "18/18 [==============================] - 0s 5ms/step - loss: 110.7498 - mae: 110.7498 - mse: 73830.9141 - val_loss: 589.2878 - val_mae: 589.2878 - val_mse: 1216414.1250\n",
            "Epoch 52/100\n",
            "18/18 [==============================] - 0s 4ms/step - loss: 111.5193 - mae: 111.5193 - mse: 75446.6797 - val_loss: 609.5289 - val_mae: 609.5289 - val_mse: 1277468.7500\n",
            "Epoch 53/100\n",
            "18/18 [==============================] - 0s 5ms/step - loss: 113.9868 - mae: 113.9868 - mse: 75752.9766 - val_loss: 584.7471 - val_mae: 584.7471 - val_mse: 1209497.2500\n",
            "INFO:tensorflow:Assets written to: model_experiments/model_1_dense/assets\n",
            "Epoch 54/100\n",
            "18/18 [==============================] - 0s 4ms/step - loss: 110.1075 - mae: 110.1075 - mse: 72728.5625 - val_loss: 578.7416 - val_mae: 578.7416 - val_mse: 1200865.6250\n",
            "INFO:tensorflow:Assets written to: model_experiments/model_1_dense/assets\n",
            "Epoch 55/100\n",
            "18/18 [==============================] - 0s 5ms/step - loss: 110.6423 - mae: 110.6423 - mse: 75084.4141 - val_loss: 581.5333 - val_mae: 581.5333 - val_mse: 1218268.7500\n",
            "Epoch 56/100\n",
            "18/18 [==============================] - 0s 5ms/step - loss: 107.6537 - mae: 107.6537 - mse: 71568.1328 - val_loss: 759.0189 - val_mae: 759.0189 - val_mse: 1698484.5000\n",
            "Epoch 57/100\n",
            "18/18 [==============================] - 0s 5ms/step - loss: 119.2012 - mae: 119.2012 - mse: 79652.9531 - val_loss: 603.5953 - val_mae: 603.5953 - val_mse: 1262626.6250\n",
            "Epoch 58/100\n",
            "18/18 [==============================] - 0s 4ms/step - loss: 116.4417 - mae: 116.4417 - mse: 75122.8828 - val_loss: 583.7296 - val_mae: 583.7296 - val_mse: 1206719.0000\n",
            "Epoch 59/100\n",
            "18/18 [==============================] - 0s 4ms/step - loss: 109.9014 - mae: 109.9014 - mse: 72680.9766 - val_loss: 592.8416 - val_mae: 592.8416 - val_mse: 1240090.3750\n",
            "Epoch 60/100\n",
            "18/18 [==============================] - 0s 4ms/step - loss: 107.7859 - mae: 107.7859 - mse: 72220.4922 - val_loss: 593.4969 - val_mae: 593.4969 - val_mse: 1220786.7500\n",
            "Epoch 61/100\n",
            "18/18 [==============================] - 0s 4ms/step - loss: 107.6960 - mae: 107.6960 - mse: 72155.8516 - val_loss: 575.5123 - val_mae: 575.5123 - val_mse: 1194018.5000\n",
            "INFO:tensorflow:Assets written to: model_experiments/model_1_dense/assets\n",
            "Epoch 62/100\n",
            "18/18 [==============================] - 0s 4ms/step - loss: 107.1257 - mae: 107.1257 - mse: 70836.3516 - val_loss: 580.2645 - val_mae: 580.2645 - val_mse: 1213138.3750\n",
            "Epoch 63/100\n",
            "18/18 [==============================] - 0s 4ms/step - loss: 111.8451 - mae: 111.8451 - mse: 73612.9375 - val_loss: 654.6143 - val_mae: 654.6143 - val_mse: 1348994.2500\n",
            "Epoch 64/100\n",
            "18/18 [==============================] - 0s 6ms/step - loss: 110.3121 - mae: 110.3121 - mse: 72546.6641 - val_loss: 610.7810 - val_mae: 610.7810 - val_mse: 1251885.3750\n",
            "Epoch 65/100\n",
            "18/18 [==============================] - 0s 4ms/step - loss: 109.7098 - mae: 109.7098 - mse: 72575.1016 - val_loss: 573.9960 - val_mae: 573.9960 - val_mse: 1190387.3750\n",
            "INFO:tensorflow:Assets written to: model_experiments/model_1_dense/assets\n",
            "Epoch 66/100\n",
            "18/18 [==============================] - 0s 5ms/step - loss: 106.8139 - mae: 106.8139 - mse: 70554.2734 - val_loss: 572.9989 - val_mae: 572.9989 - val_mse: 1187547.5000\n",
            "INFO:tensorflow:Assets written to: model_experiments/model_1_dense/assets\n",
            "Epoch 67/100\n",
            "18/18 [==============================] - 0s 4ms/step - loss: 106.1394 - mae: 106.1394 - mse: 70026.4219 - val_loss: 602.1524 - val_mae: 602.1524 - val_mse: 1255793.1250\n",
            "Epoch 68/100\n",
            "18/18 [==============================] - 0s 4ms/step - loss: 112.9245 - mae: 112.9245 - mse: 70779.4219 - val_loss: 687.6375 - val_mae: 687.6375 - val_mse: 1476286.1250\n",
            "Epoch 69/100\n",
            "18/18 [==============================] - 0s 4ms/step - loss: 126.9916 - mae: 126.9916 - mse: 82712.0156 - val_loss: 664.9473 - val_mae: 664.9473 - val_mse: 1413700.8750\n",
            "Epoch 70/100\n",
            "18/18 [==============================] - 0s 6ms/step - loss: 124.8734 - mae: 124.8734 - mse: 83039.0547 - val_loss: 619.6686 - val_mae: 619.6686 - val_mse: 1298640.7500\n",
            "Epoch 71/100\n",
            "18/18 [==============================] - 0s 6ms/step - loss: 109.8522 - mae: 109.8522 - mse: 71643.5000 - val_loss: 582.3637 - val_mae: 582.3637 - val_mse: 1201057.1250\n",
            "Epoch 72/100\n",
            "18/18 [==============================] - 0s 4ms/step - loss: 107.6717 - mae: 107.6717 - mse: 71406.7734 - val_loss: 573.4947 - val_mae: 573.4947 - val_mse: 1192645.7500\n",
            "Epoch 73/100\n",
            "18/18 [==============================] - 0s 5ms/step - loss: 109.6036 - mae: 109.6036 - mse: 71761.6250 - val_loss: 583.9045 - val_mae: 583.9045 - val_mse: 1218967.3750\n",
            "Epoch 74/100\n",
            "18/18 [==============================] - 0s 4ms/step - loss: 107.7049 - mae: 107.7049 - mse: 71542.6172 - val_loss: 572.9933 - val_mae: 572.9933 - val_mse: 1189806.3750\n",
            "INFO:tensorflow:Assets written to: model_experiments/model_1_dense/assets\n",
            "Epoch 75/100\n",
            "18/18 [==============================] - 0s 5ms/step - loss: 108.1179 - mae: 108.1179 - mse: 70535.8047 - val_loss: 583.9372 - val_mae: 583.9372 - val_mse: 1199156.5000\n",
            "Epoch 76/100\n",
            "18/18 [==============================] - 0s 5ms/step - loss: 109.5447 - mae: 109.5447 - mse: 71991.1328 - val_loss: 592.8235 - val_mae: 592.8235 - val_mse: 1234671.6250\n",
            "Epoch 77/100\n",
            "18/18 [==============================] - 0s 6ms/step - loss: 108.3639 - mae: 108.3639 - mse: 70784.8203 - val_loss: 575.4260 - val_mae: 575.4260 - val_mse: 1197659.8750\n",
            "Epoch 78/100\n",
            "18/18 [==============================] - 0s 4ms/step - loss: 108.0055 - mae: 108.0055 - mse: 70093.0234 - val_loss: 574.3941 - val_mae: 574.3941 - val_mse: 1193026.1250\n",
            "Epoch 79/100\n",
            "18/18 [==============================] - 0s 6ms/step - loss: 107.3223 - mae: 107.3223 - mse: 71654.6562 - val_loss: 597.2478 - val_mae: 597.2478 - val_mse: 1242042.0000\n",
            "Epoch 80/100\n",
            "18/18 [==============================] - 0s 4ms/step - loss: 108.1452 - mae: 108.1452 - mse: 71775.7266 - val_loss: 586.6866 - val_mae: 586.6866 - val_mse: 1199789.2500\n",
            "Epoch 81/100\n",
            "18/18 [==============================] - 0s 6ms/step - loss: 106.1153 - mae: 106.1153 - mse: 69995.2422 - val_loss: 575.1765 - val_mae: 575.1765 - val_mse: 1195805.5000\n",
            "Epoch 82/100\n",
            "18/18 [==============================] - 0s 6ms/step - loss: 116.6344 - mae: 116.6344 - mse: 77928.7344 - val_loss: 575.4340 - val_mae: 575.4340 - val_mse: 1192046.3750\n",
            "Epoch 83/100\n",
            "18/18 [==============================] - 0s 4ms/step - loss: 110.8731 - mae: 110.8731 - mse: 72825.0703 - val_loss: 654.5366 - val_mae: 654.5366 - val_mse: 1375390.8750\n",
            "Epoch 84/100\n",
            "18/18 [==============================] - 0s 4ms/step - loss: 111.9106 - mae: 111.9106 - mse: 73183.8438 - val_loss: 572.3373 - val_mae: 572.3373 - val_mse: 1176463.6250\n",
            "INFO:tensorflow:Assets written to: model_experiments/model_1_dense/assets\n",
            "Epoch 85/100\n",
            "18/18 [==============================] - 0s 6ms/step - loss: 106.6154 - mae: 106.6154 - mse: 70752.4375 - val_loss: 574.2833 - val_mae: 574.2833 - val_mse: 1178176.7500\n",
            "Epoch 86/100\n",
            "18/18 [==============================] - 0s 5ms/step - loss: 108.4299 - mae: 108.4299 - mse: 70129.7266 - val_loss: 583.3530 - val_mae: 583.3530 - val_mse: 1191900.3750\n",
            "Epoch 87/100\n",
            "18/18 [==============================] - 0s 4ms/step - loss: 105.7481 - mae: 105.7481 - mse: 68589.9453 - val_loss: 593.0121 - val_mae: 593.0121 - val_mse: 1230071.7500\n",
            "Epoch 88/100\n",
            "18/18 [==============================] - 0s 5ms/step - loss: 107.2604 - mae: 107.2604 - mse: 70897.3281 - val_loss: 571.7658 - val_mae: 571.7658 - val_mse: 1182082.7500\n",
            "INFO:tensorflow:Assets written to: model_experiments/model_1_dense/assets\n",
            "Epoch 89/100\n",
            "18/18 [==============================] - 0s 4ms/step - loss: 106.7823 - mae: 106.7823 - mse: 69118.5625 - val_loss: 568.6370 - val_mae: 568.6370 - val_mse: 1174329.7500\n",
            "INFO:tensorflow:Assets written to: model_experiments/model_1_dense/assets\n",
            "Epoch 90/100\n",
            "18/18 [==============================] - 0s 4ms/step - loss: 105.8682 - mae: 105.8682 - mse: 67370.6953 - val_loss: 602.9690 - val_mae: 602.9690 - val_mse: 1230767.2500\n",
            "Epoch 91/100\n",
            "18/18 [==============================] - 0s 5ms/step - loss: 110.6365 - mae: 110.6365 - mse: 72148.0391 - val_loss: 605.6947 - val_mae: 605.6947 - val_mse: 1257883.8750\n",
            "Epoch 92/100\n",
            "18/18 [==============================] - 0s 5ms/step - loss: 109.4668 - mae: 109.4668 - mse: 72193.7734 - val_loss: 572.4370 - val_mae: 572.4370 - val_mse: 1183753.2500\n",
            "Epoch 93/100\n",
            "18/18 [==============================] - 0s 6ms/step - loss: 113.0063 - mae: 113.0063 - mse: 73147.9609 - val_loss: 617.3001 - val_mae: 617.3001 - val_mse: 1284326.5000\n",
            "Epoch 94/100\n",
            "18/18 [==============================] - 0s 4ms/step - loss: 112.4903 - mae: 112.4903 - mse: 73928.3047 - val_loss: 599.9803 - val_mae: 599.9803 - val_mse: 1225950.7500\n",
            "Epoch 95/100\n",
            "18/18 [==============================] - 0s 4ms/step - loss: 106.0053 - mae: 106.0053 - mse: 68764.8672 - val_loss: 570.6210 - val_mae: 570.6210 - val_mse: 1175398.2500\n",
            "Epoch 96/100\n",
            "18/18 [==============================] - 0s 4ms/step - loss: 109.5910 - mae: 109.5910 - mse: 70458.2500 - val_loss: 676.3395 - val_mae: 676.3395 - val_mse: 1426408.5000\n",
            "Epoch 97/100\n",
            "18/18 [==============================] - 0s 4ms/step - loss: 110.2213 - mae: 110.2213 - mse: 72762.1250 - val_loss: 574.2988 - val_mae: 574.2988 - val_mse: 1177002.1250\n",
            "Epoch 98/100\n",
            "18/18 [==============================] - 0s 5ms/step - loss: 106.7290 - mae: 106.7290 - mse: 69964.2578 - val_loss: 576.7734 - val_mae: 576.7734 - val_mse: 1192501.1250\n",
            "Epoch 99/100\n",
            "18/18 [==============================] - 0s 5ms/step - loss: 106.9889 - mae: 106.9889 - mse: 70740.1953 - val_loss: 568.5499 - val_mae: 568.5499 - val_mse: 1172587.7500\n",
            "INFO:tensorflow:Assets written to: model_experiments/model_1_dense/assets\n",
            "Epoch 100/100\n",
            "18/18 [==============================] - 0s 4ms/step - loss: 117.7622 - mae: 117.7622 - mse: 73195.7656 - val_loss: 662.5322 - val_mae: 662.5322 - val_mse: 1358191.8750\n"
          ],
          "name": "stdout"
        },
        {
          "output_type": "execute_result",
          "data": {
            "text/plain": [
              "<keras.callbacks.History at 0x7fbd9dca1b10>"
            ]
          },
          "metadata": {},
          "execution_count": 170
        }
      ]
    },
    {
      "cell_type": "code",
      "metadata": {
        "id": "PeDXLKCcjoSv",
        "colab": {
          "base_uri": "https://localhost:8080/"
        },
        "outputId": "849e86f7-db5f-4296-bc4f-09aabca194ab"
      },
      "source": [
        "# Evaluate model on test data\n",
        "model_1.evaluate(test_windows, test_labels)"
      ],
      "execution_count": 171,
      "outputs": [
        {
          "output_type": "stream",
          "text": [
            "18/18 [==============================] - 0s 2ms/step - loss: 662.5322 - mae: 662.5322 - mse: 1358192.1250\n"
          ],
          "name": "stdout"
        },
        {
          "output_type": "execute_result",
          "data": {
            "text/plain": [
              "[662.5322265625, 662.5322265625, 1358192.125]"
            ]
          },
          "metadata": {},
          "execution_count": 171
        }
      ]
    },
    {
      "cell_type": "code",
      "metadata": {
        "id": "LATYhEOUkcKi",
        "colab": {
          "base_uri": "https://localhost:8080/"
        },
        "outputId": "7444d352-ed79-41c4-ed91-97e9edb89583"
      },
      "source": [
        "# Load in the saved best perfoming model_1 and evaluate it on test data\n",
        "model_1 = tf.keras.models.load_model(\"model_experiments/model_1_dense/\")\n",
        "model_1.evaluate(test_windows, test_labels)"
      ],
      "execution_count": 172,
      "outputs": [
        {
          "output_type": "stream",
          "text": [
            "18/18 [==============================] - 0s 2ms/step - loss: 568.5499 - mae: 568.5499 - mse: 1172587.7500\n"
          ],
          "name": "stdout"
        },
        {
          "output_type": "execute_result",
          "data": {
            "text/plain": [
              "[568.5498657226562, 568.5498657226562, 1172587.75]"
            ]
          },
          "metadata": {},
          "execution_count": 172
        }
      ]
    },
    {
      "cell_type": "markdown",
      "metadata": {
        "id": "vKdsCxZJMTvi"
      },
      "source": [
        "## Making forecasts with a model (on the test dataset)\n",
        "\n",
        "To make \"forecasts\" on the test dataset (note: these won´t be actual forecasts, they´re only pseudo forecasts because actual forecasts are into the future), let´s write a function to:\n",
        "\n",
        "1. Take in a train model \n",
        "2. Takes in some input data (same kind of data the model was trained on)\n",
        "3. Passes the input data to the model predict() method\n",
        "4. Return the predictions"
      ]
    },
    {
      "cell_type": "code",
      "metadata": {
        "id": "QEr9RU8FOHQb"
      },
      "source": [
        "def make_preds(model, input_data):\n",
        "  \"\"\"\n",
        "  Uses model to make predictions on input_data\n",
        "  \"\"\"\n",
        "  forecast = model.predict(input_data)\n",
        "  return tf.squeeze(forecast) #return 1D array of predictions"
      ],
      "execution_count": 173,
      "outputs": []
    },
    {
      "cell_type": "code",
      "metadata": {
        "id": "y8ZR85lyO5jP",
        "colab": {
          "base_uri": "https://localhost:8080/"
        },
        "outputId": "7ea7f605-7ba0-404c-f015-a2f4e51369a1"
      },
      "source": [
        "# Make predictions using model_1 on the test dataset \n",
        "model_1_preds = make_preds(model_1, test_windows)\n",
        "len(model_1_preds), model_1_preds[:10]"
      ],
      "execution_count": 174,
      "outputs": [
        {
          "output_type": "execute_result",
          "data": {
            "text/plain": [
              "(556, <tf.Tensor: shape=(10,), dtype=float32, numpy=\n",
              " array([8874.493, 8789.944, 9040.986, 8804.829, 8741.21 , 8749.835,\n",
              "        8705.865, 8513.171, 8478.415, 8536.302], dtype=float32)>)"
            ]
          },
          "metadata": {},
          "execution_count": 174
        }
      ]
    },
    {
      "cell_type": "code",
      "metadata": {
        "id": "-_5xYl0jPfqU",
        "colab": {
          "base_uri": "https://localhost:8080/"
        },
        "outputId": "4fa0e474-6515-4844-d787-e1fc8d9ece17"
      },
      "source": [
        "# Evaluate preds\n",
        "model_1_results = evaluate_preds(tf.squeeze(test_labels), model_1_preds)\n",
        "model_1_results"
      ],
      "execution_count": 175,
      "outputs": [
        {
          "output_type": "execute_result",
          "data": {
            "text/plain": [
              "{'mae': 568.5498,\n",
              " 'mape': 2.549229,\n",
              " 'mase': 0.99878454,\n",
              " 'mse': 1172587.6,\n",
              " 'rmse': 1082.8608}"
            ]
          },
          "metadata": {},
          "execution_count": 175
        }
      ]
    },
    {
      "cell_type": "code",
      "metadata": {
        "id": "zPAdA6N1Pr-K",
        "colab": {
          "base_uri": "https://localhost:8080/",
          "height": 442
        },
        "outputId": "ff62f2f1-166f-4008-ba8d-5e930f8815bc"
      },
      "source": [
        "# Let´s plot our model 1 predictions\n",
        "offset = 300\n",
        "plt.figure(figsize=(10,7))\n",
        "# Account for the test_window offset and index into test_labels to ensure correct plottting\n",
        "plot_time_series(x_test[-len(test_windows):], test_labels[:, 0], start=offset, label=\"Test Data\")\n",
        "plot_time_series(x_test[-len(test_windows):], model_1_preds, start=offset, format=\"-\", label=\"model_1_preds\")"
      ],
      "execution_count": 176,
      "outputs": [
        {
          "output_type": "display_data",
          "data": {
            "image/png": "[encoded data removed]",
            "text/plain": [
              "<Figure size 720x504 with 1 Axes>"
            ]
          },
          "metadata": {
            "needs_background": "light"
          }
        }
      ]
    },
    {
      "cell_type": "markdown",
      "metadata": {
        "id": "lUAzCmDSR8_x"
      },
      "source": [
        "## Model 2: Dense (window=30, horizon=1)"
      ]
    },
    {
      "cell_type": "code",
      "metadata": {
        "id": "nmwrf6Y-TLKA"
      },
      "source": [
        "HORIZON = 1 #predict one time step at a time\n",
        "WINDOW_SIZE = 30 #use 30 timesteps in the pas"
      ],
      "execution_count": 177,
      "outputs": []
    },
    {
      "cell_type": "code",
      "metadata": {
        "id": "XQpTzh1YTWWz",
        "colab": {
          "base_uri": "https://localhost:8080/"
        },
        "outputId": "422c0fa4-bd3d-4787-bbca-a4ed6e3e91b5"
      },
      "source": [
        "# Make windowed data with appropriate horizon and window size\n",
        "full_windows, full_labels = make_windows(prices, WINDOW_SIZE, HORIZON)\n",
        "len(full_windows), len(full_labels)"
      ],
      "execution_count": 178,
      "outputs": [
        {
          "output_type": "execute_result",
          "data": {
            "text/plain": [
              "(2757, 2757)"
            ]
          },
          "metadata": {},
          "execution_count": 178
        }
      ]
    },
    {
      "cell_type": "code",
      "metadata": {
        "id": "JL19N7RIT3_d",
        "colab": {
          "base_uri": "https://localhost:8080/"
        },
        "outputId": "d5baab1b-4cc7-452e-c3b9-d91ef375e626"
      },
      "source": [
        "# Make train and testing windows\n",
        "train_windows, test_windows, train_labels, test_labels = make_train_test_splits(full_windows, full_labels, test_split=0.2)\n",
        "len(train_windows), len(train_labels), len(test_windows), len(test_labels)"
      ],
      "execution_count": 179,
      "outputs": [
        {
          "output_type": "execute_result",
          "data": {
            "text/plain": [
              "(2205, 2205, 552, 552)"
            ]
          },
          "metadata": {},
          "execution_count": 179
        }
      ]
    },
    {
      "cell_type": "code",
      "metadata": {
        "id": "3jzDjKgaURCP",
        "colab": {
          "base_uri": "https://localhost:8080/"
        },
        "outputId": "d71cee72-478e-461f-b082-eec7ee3acfee"
      },
      "source": [
        "train_windows[:3]"
      ],
      "execution_count": 180,
      "outputs": [
        {
          "output_type": "execute_result",
          "data": {
            "text/plain": [
              "array([[123.65499, 125.455  , 108.58483, 118.67466, 121.33866, 120.65533,\n",
              "        121.795  , 123.033  , 124.049  , 125.96116, 125.27966, 125.9275 ,\n",
              "        126.38333, 135.24199, 133.20333, 142.76333, 137.92333, 142.95166,\n",
              "        152.55183, 160.33883, 164.31499, 177.63333, 188.29716, 200.70166,\n",
              "        180.355  , 175.03166, 177.6965 , 187.15983, 192.75666, 197.4    ],\n",
              "       [125.455  , 108.58483, 118.67466, 121.33866, 120.65533, 121.795  ,\n",
              "        123.033  , 124.049  , 125.96116, 125.27966, 125.9275 , 126.38333,\n",
              "        135.24199, 133.20333, 142.76333, 137.92333, 142.95166, 152.55183,\n",
              "        160.33883, 164.31499, 177.63333, 188.29716, 200.70166, 180.355  ,\n",
              "        175.03166, 177.6965 , 187.15983, 192.75666, 197.4    , 196.02499],\n",
              "       [108.58483, 118.67466, 121.33866, 120.65533, 121.795  , 123.033  ,\n",
              "        124.049  , 125.96116, 125.27966, 125.9275 , 126.38333, 135.24199,\n",
              "        133.20333, 142.76333, 137.92333, 142.95166, 152.55183, 160.33883,\n",
              "        164.31499, 177.63333, 188.29716, 200.70166, 180.355  , 175.03166,\n",
              "        177.6965 , 187.15983, 192.75666, 197.4    , 196.02499, 198.04883]])"
            ]
          },
          "metadata": {},
          "execution_count": 180
        }
      ]
    },
    {
      "cell_type": "code",
      "metadata": {
        "id": "mLEoU8d3U8qB",
        "colab": {
          "base_uri": "https://localhost:8080/"
        },
        "outputId": "5e590137-3b4d-4b3e-9c04-6ee335bdf390"
      },
      "source": [
        "train_labels[:3]"
      ],
      "execution_count": 181,
      "outputs": [
        {
          "output_type": "execute_result",
          "data": {
            "text/plain": [
              "array([[196.02499],\n",
              "       [198.04883],\n",
              "       [198.93233]])"
            ]
          },
          "metadata": {},
          "execution_count": 181
        }
      ]
    },
    {
      "cell_type": "code",
      "metadata": {
        "id": "UNsBT5cDVAei"
      },
      "source": [
        "#Set random seed\n",
        "tf.random.set_seed(42)\n",
        "\n",
        "#Build the model \n",
        "model_2 = tf.keras.Sequential([\n",
        "                               layers.Dense(128, activation=\"relu\"),\n",
        "                               layers.Dense(HORIZON)\n",
        "], name=\"model_2_dense\")"
      ],
      "execution_count": 182,
      "outputs": []
    },
    {
      "cell_type": "code",
      "metadata": {
        "id": "zdgSfm7ZVWj1"
      },
      "source": [
        "#Compile the model \n",
        "model_2.compile(loss=\"mae\", optimizer=\"Adam\", metrics=[\"mae\", \"mse\"])"
      ],
      "execution_count": 183,
      "outputs": []
    },
    {
      "cell_type": "code",
      "metadata": {
        "id": "MsGL0VwdVlIZ",
        "colab": {
          "base_uri": "https://localhost:8080/"
        },
        "outputId": "ab008d6d-f605-4c34-a989-fe13b88cb01d"
      },
      "source": [
        "#Fit the model \n",
        "model_2.fit(train_windows, train_labels,\n",
        "            epochs=100, batch_size=128, \n",
        "            validation_data=(test_windows, test_labels),\n",
        "            verbose=0, \n",
        "            callbacks=[create_model_checkpoint(model_2.name)])"
      ],
      "execution_count": 184,
      "outputs": [
        {
          "output_type": "stream",
          "text": [
            "INFO:tensorflow:Assets written to: model_experiments/model_2_dense/assets\n",
            "INFO:tensorflow:Assets written to: model_experiments/model_2_dense/assets\n",
            "INFO:tensorflow:Assets written to: model_experiments/model_2_dense/assets\n",
            "INFO:tensorflow:Assets written to: model_experiments/model_2_dense/assets\n",
            "INFO:tensorflow:Assets written to: model_experiments/model_2_dense/assets\n",
            "INFO:tensorflow:Assets written to: model_experiments/model_2_dense/assets\n",
            "INFO:tensorflow:Assets written to: model_experiments/model_2_dense/assets\n",
            "INFO:tensorflow:Assets written to: model_experiments/model_2_dense/assets\n",
            "INFO:tensorflow:Assets written to: model_experiments/model_2_dense/assets\n",
            "INFO:tensorflow:Assets written to: model_experiments/model_2_dense/assets\n",
            "INFO:tensorflow:Assets written to: model_experiments/model_2_dense/assets\n",
            "INFO:tensorflow:Assets written to: model_experiments/model_2_dense/assets\n",
            "INFO:tensorflow:Assets written to: model_experiments/model_2_dense/assets\n",
            "INFO:tensorflow:Assets written to: model_experiments/model_2_dense/assets\n",
            "INFO:tensorflow:Assets written to: model_experiments/model_2_dense/assets\n",
            "INFO:tensorflow:Assets written to: model_experiments/model_2_dense/assets\n",
            "INFO:tensorflow:Assets written to: model_experiments/model_2_dense/assets\n",
            "INFO:tensorflow:Assets written to: model_experiments/model_2_dense/assets\n",
            "INFO:tensorflow:Assets written to: model_experiments/model_2_dense/assets\n",
            "INFO:tensorflow:Assets written to: model_experiments/model_2_dense/assets\n",
            "INFO:tensorflow:Assets written to: model_experiments/model_2_dense/assets\n",
            "INFO:tensorflow:Assets written to: model_experiments/model_2_dense/assets\n",
            "INFO:tensorflow:Assets written to: model_experiments/model_2_dense/assets\n",
            "INFO:tensorflow:Assets written to: model_experiments/model_2_dense/assets\n",
            "INFO:tensorflow:Assets written to: model_experiments/model_2_dense/assets\n",
            "INFO:tensorflow:Assets written to: model_experiments/model_2_dense/assets\n",
            "INFO:tensorflow:Assets written to: model_experiments/model_2_dense/assets\n",
            "INFO:tensorflow:Assets written to: model_experiments/model_2_dense/assets\n",
            "INFO:tensorflow:Assets written to: model_experiments/model_2_dense/assets\n",
            "INFO:tensorflow:Assets written to: model_experiments/model_2_dense/assets\n"
          ],
          "name": "stdout"
        },
        {
          "output_type": "execute_result",
          "data": {
            "text/plain": [
              "<keras.callbacks.History at 0x7fbda0faffd0>"
            ]
          },
          "metadata": {},
          "execution_count": 184
        }
      ]
    },
    {
      "cell_type": "code",
      "metadata": {
        "id": "oOBiI-OqV62m",
        "colab": {
          "base_uri": "https://localhost:8080/"
        },
        "outputId": "afae61f7-d559-420c-eee2-ed694fdf9b15"
      },
      "source": [
        "#Evaluate model 2 on test data\n",
        "model_2.evaluate(test_windows, test_labels)"
      ],
      "execution_count": 185,
      "outputs": [
        {
          "output_type": "stream",
          "text": [
            "18/18 [==============================] - 0s 2ms/step - loss: 658.0289 - mae: 658.0289 - mse: 1417080.8750\n"
          ],
          "name": "stdout"
        },
        {
          "output_type": "execute_result",
          "data": {
            "text/plain": [
              "[658.0288696289062, 658.0288696289062, 1417080.875]"
            ]
          },
          "metadata": {},
          "execution_count": 185
        }
      ]
    },
    {
      "cell_type": "code",
      "metadata": {
        "id": "wEdF2-pAWL9b",
        "colab": {
          "base_uri": "https://localhost:8080/"
        },
        "outputId": "433bfba4-77a3-40a9-c5e8-4577ccfe0dd8"
      },
      "source": [
        "# Load in best performing model\n",
        "model_2 = tf.keras.models.load_model(\"model_experiments/model_2_dense/\")\n",
        "model_2.evaluate(test_windows, test_labels)"
      ],
      "execution_count": 186,
      "outputs": [
        {
          "output_type": "stream",
          "text": [
            "18/18 [==============================] - 0s 2ms/step - loss: 608.8480 - mae: 608.8480 - mse: 1284314.3750\n"
          ],
          "name": "stdout"
        },
        {
          "output_type": "execute_result",
          "data": {
            "text/plain": [
              "[608.8480224609375, 608.8480224609375, 1284314.375]"
            ]
          },
          "metadata": {},
          "execution_count": 186
        }
      ]
    },
    {
      "cell_type": "code",
      "metadata": {
        "id": "hR3Kq2xaWZVH"
      },
      "source": [
        "#Get forecast predictions\n",
        "model_2_preds = make_preds(model_2, test_windows)"
      ],
      "execution_count": 187,
      "outputs": []
    },
    {
      "cell_type": "code",
      "metadata": {
        "id": "cPthsW07Wxk1",
        "colab": {
          "base_uri": "https://localhost:8080/"
        },
        "outputId": "bbe72d26-b7f8-48a7-e3ac-bcfcba7d9c61"
      },
      "source": [
        "print(test_labels.shape)\n",
        "print(tf.squeeze(test_labels).shape)\n",
        "print(model_2_preds.shape)"
      ],
      "execution_count": 188,
      "outputs": [
        {
          "output_type": "stream",
          "text": [
            "(552, 1)\n",
            "(552,)\n",
            "(552,)\n"
          ],
          "name": "stdout"
        }
      ]
    },
    {
      "cell_type": "code",
      "metadata": {
        "id": "Jvgiy9QTWhvB",
        "colab": {
          "base_uri": "https://localhost:8080/"
        },
        "outputId": "30ccfed8-c01f-4817-bbc3-31cc529325a2"
      },
      "source": [
        "# Evaluate results for model 2 predictions\n",
        "model_2_results = evaluate_preds(tf.squeeze(test_labels), model_2_preds)\n",
        "model_2_results"
      ],
      "execution_count": 189,
      "outputs": [
        {
          "output_type": "execute_result",
          "data": {
            "text/plain": [
              "{'mae': 608.8481,\n",
              " 'mape': 2.7680666,\n",
              " 'mase': 1.0642723,\n",
              " 'mse': 1284314.4,\n",
              " 'rmse': 1133.276}"
            ]
          },
          "metadata": {},
          "execution_count": 189
        }
      ]
    },
    {
      "cell_type": "code",
      "metadata": {
        "id": "TDSadUuWW-v_",
        "colab": {
          "base_uri": "https://localhost:8080/",
          "height": 442
        },
        "outputId": "c5e457c4-a095-437a-dc7b-9777bb5beace"
      },
      "source": [
        "offset = 300\n",
        "plt.figure(figsize=(10,7))\n",
        "plot_time_series(x_test[-len(test_windows):], test_labels[:, 0], start=offset, label=\"Test data\")\n",
        "plot_time_series(x_test[-len(test_windows):], model_2_preds, start=offset,format=\"-\", label=\"model_2_preds\")"
      ],
      "execution_count": 190,
      "outputs": [
        {
          "output_type": "display_data",
          "data": {
            "image/png": "[encoded data removed]",
            "text/plain": [
              "<Figure size 720x504 with 1 Axes>"
            ]
          },
          "metadata": {
            "needs_background": "light"
          }
        }
      ]
    },
    {
      "cell_type": "markdown",
      "metadata": {
        "id": "dfUl6g5HXemr"
      },
      "source": [
        "## Model 3: Dense (window=30, horizon=7)"
      ]
    },
    {
      "cell_type": "code",
      "metadata": {
        "id": "cL5-jM54dzpM"
      },
      "source": [
        "HORIZON = 7\n",
        "WINDOW_SIZE = 30\n",
        "\n",
        "full_windows, full_labels = make_windows(prices, WINDOW_SIZE, HORIZON)"
      ],
      "execution_count": 191,
      "outputs": []
    },
    {
      "cell_type": "code",
      "metadata": {
        "id": "FuuXj5hcd2V2",
        "colab": {
          "base_uri": "https://localhost:8080/"
        },
        "outputId": "30c353ba-fd79-4136-e5d8-a9d18c306051"
      },
      "source": [
        "len(full_windows), len(full_labels)"
      ],
      "execution_count": 192,
      "outputs": [
        {
          "output_type": "execute_result",
          "data": {
            "text/plain": [
              "(2751, 2751)"
            ]
          },
          "metadata": {},
          "execution_count": 192
        }
      ]
    },
    {
      "cell_type": "code",
      "metadata": {
        "id": "VcY2jHkQd_fQ"
      },
      "source": [
        "train_windows, test_windows, train_labels, test_labels = make_train_test_splits(full_windows, full_labels)"
      ],
      "execution_count": 193,
      "outputs": []
    },
    {
      "cell_type": "code",
      "metadata": {
        "id": "8IM8nd7GeNXR",
        "colab": {
          "base_uri": "https://localhost:8080/"
        },
        "outputId": "6f80f000-60d2-4fd5-bc0d-75074e671e43"
      },
      "source": [
        "len(train_windows), len(train_labels), len(test_windows), len(test_labels)"
      ],
      "execution_count": 194,
      "outputs": [
        {
          "output_type": "execute_result",
          "data": {
            "text/plain": [
              "(2200, 2200, 551, 551)"
            ]
          },
          "metadata": {},
          "execution_count": 194
        }
      ]
    },
    {
      "cell_type": "code",
      "metadata": {
        "id": "qF8uoQvkeY8g"
      },
      "source": [
        "tf.random.set_seed(42)\n",
        "\n",
        "#Build the model\n",
        "model_3 = tf.keras.Sequential([\n",
        "                               layers.Dense(128, activation=\"relu\"),\n",
        "                               layers.Dense(HORIZON)\n",
        "], name=\"model_3_dense\")"
      ],
      "execution_count": 195,
      "outputs": []
    },
    {
      "cell_type": "code",
      "metadata": {
        "id": "cFsspoiGevhQ"
      },
      "source": [
        "#Compile the model\n",
        "model_3.compile(loss=\"mae\", optimizer=\"Adam\", metrics=[\"mae\", \"mse\"])"
      ],
      "execution_count": 196,
      "outputs": []
    },
    {
      "cell_type": "code",
      "metadata": {
        "id": "r5Mk88Z6e_2k",
        "colab": {
          "base_uri": "https://localhost:8080/"
        },
        "outputId": "3307bcbe-4d60-4ca1-9a49-436bbecfca50"
      },
      "source": [
        "#Fit the model\n",
        "model_3.fit(train_windows, train_labels,\n",
        "            batch_size=128,\n",
        "            epochs=100,\n",
        "            verbose=0,\n",
        "            validation_data=(test_windows, test_labels),\n",
        "            callbacks=[create_model_checkpoint(model_3.name)])"
      ],
      "execution_count": 197,
      "outputs": [
        {
          "output_type": "stream",
          "text": [
            "INFO:tensorflow:Assets written to: model_experiments/model_3_dense/assets\n",
            "INFO:tensorflow:Assets written to: model_experiments/model_3_dense/assets\n",
            "INFO:tensorflow:Assets written to: model_experiments/model_3_dense/assets\n",
            "INFO:tensorflow:Assets written to: model_experiments/model_3_dense/assets\n",
            "INFO:tensorflow:Assets written to: model_experiments/model_3_dense/assets\n",
            "INFO:tensorflow:Assets written to: model_experiments/model_3_dense/assets\n",
            "INFO:tensorflow:Assets written to: model_experiments/model_3_dense/assets\n",
            "INFO:tensorflow:Assets written to: model_experiments/model_3_dense/assets\n",
            "INFO:tensorflow:Assets written to: model_experiments/model_3_dense/assets\n",
            "INFO:tensorflow:Assets written to: model_experiments/model_3_dense/assets\n",
            "INFO:tensorflow:Assets written to: model_experiments/model_3_dense/assets\n",
            "INFO:tensorflow:Assets written to: model_experiments/model_3_dense/assets\n",
            "INFO:tensorflow:Assets written to: model_experiments/model_3_dense/assets\n",
            "INFO:tensorflow:Assets written to: model_experiments/model_3_dense/assets\n",
            "INFO:tensorflow:Assets written to: model_experiments/model_3_dense/assets\n",
            "INFO:tensorflow:Assets written to: model_experiments/model_3_dense/assets\n",
            "INFO:tensorflow:Assets written to: model_experiments/model_3_dense/assets\n",
            "INFO:tensorflow:Assets written to: model_experiments/model_3_dense/assets\n",
            "INFO:tensorflow:Assets written to: model_experiments/model_3_dense/assets\n",
            "INFO:tensorflow:Assets written to: model_experiments/model_3_dense/assets\n",
            "INFO:tensorflow:Assets written to: model_experiments/model_3_dense/assets\n",
            "INFO:tensorflow:Assets written to: model_experiments/model_3_dense/assets\n",
            "INFO:tensorflow:Assets written to: model_experiments/model_3_dense/assets\n"
          ],
          "name": "stdout"
        },
        {
          "output_type": "execute_result",
          "data": {
            "text/plain": [
              "<keras.callbacks.History at 0x7fbd9f3dc590>"
            ]
          },
          "metadata": {},
          "execution_count": 197
        }
      ]
    },
    {
      "cell_type": "code",
      "metadata": {
        "id": "rKH2Zz2jfYmu",
        "colab": {
          "base_uri": "https://localhost:8080/"
        },
        "outputId": "04e95b5f-2542-4402-8821-d06e25853659"
      },
      "source": [
        "# Evaluate the model on the test data\n",
        "model_3.evaluate(test_windows, test_labels)"
      ],
      "execution_count": 198,
      "outputs": [
        {
          "output_type": "stream",
          "text": [
            "18/18 [==============================] - 0s 1ms/step - loss: 1322.7781 - mae: 1322.7781 - mse: 5710234.5000\n"
          ],
          "name": "stdout"
        },
        {
          "output_type": "execute_result",
          "data": {
            "text/plain": [
              "[1322.778076171875, 1322.778076171875, 5710234.5]"
            ]
          },
          "metadata": {},
          "execution_count": 198
        }
      ]
    },
    {
      "cell_type": "code",
      "metadata": {
        "id": "cdWW8f_ogt8Z",
        "colab": {
          "base_uri": "https://localhost:8080/"
        },
        "outputId": "90d84848-e350-4101-baee-6c8b1e928897"
      },
      "source": [
        "# Load in best version of model 3\n",
        "model_3 = tf.keras.models.load_model(\"model_experiments/model_3_dense/\")\n",
        "model_3.evaluate(test_windows, test_labels)"
      ],
      "execution_count": 199,
      "outputs": [
        {
          "output_type": "stream",
          "text": [
            "18/18 [==============================] - 0s 2ms/step - loss: 1228.1417 - mae: 1228.1417 - mse: 5323686.5000\n"
          ],
          "name": "stdout"
        },
        {
          "output_type": "execute_result",
          "data": {
            "text/plain": [
              "[1228.1417236328125, 1228.1417236328125, 5323686.5]"
            ]
          },
          "metadata": {},
          "execution_count": 199
        }
      ]
    },
    {
      "cell_type": "code",
      "metadata": {
        "id": "ibSDsLPrjTpH",
        "colab": {
          "base_uri": "https://localhost:8080/"
        },
        "outputId": "05518369-5eea-491c-aed4-2fdda9d04c99"
      },
      "source": [
        "# Make predictions with model 3\n",
        "model_3_preds = make_preds(model_3, test_windows)\n",
        "model_3_preds[:5]"
      ],
      "execution_count": 200,
      "outputs": [
        {
          "output_type": "execute_result",
          "data": {
            "text/plain": [
              "<tf.Tensor: shape=(5, 7), dtype=float32, numpy=\n",
              "array([[9233.328 , 9332.702 , 9363.651 , 9442.775 , 9401.978 , 9414.001 ,\n",
              "        9280.01  ],\n",
              "       [8911.084 , 9065.984 , 9113.08  , 9026.601 , 8990.093 , 9000.148 ,\n",
              "        9053.433 ],\n",
              "       [8848.506 , 9018.2295, 9006.146 , 8934.578 , 8929.888 , 8856.351 ,\n",
              "        8958.367 ],\n",
              "       [9048.449 , 9058.819 , 8966.749 , 9127.248 , 8982.123 , 9056.629 ,\n",
              "        9002.575 ],\n",
              "       [8958.309 , 9008.146 , 8827.891 , 8995.736 , 9129.433 , 9099.142 ,\n",
              "        8881.021 ]], dtype=float32)>"
            ]
          },
          "metadata": {},
          "execution_count": 200
        }
      ]
    },
    {
      "cell_type": "code",
      "metadata": {
        "id": "Dxj23brzjfk5",
        "colab": {
          "base_uri": "https://localhost:8080/"
        },
        "outputId": "7a65f3e0-f58c-4141-fe72-dbd1eb5cd4c0"
      },
      "source": [
        "#Evaluate model_3 results\n",
        "model_3_results = evaluate_preds(tf.squeeze(test_labels), model_3_preds)\n",
        "model_3_results"
      ],
      "execution_count": 201,
      "outputs": [
        {
          "output_type": "execute_result",
          "data": {
            "text/plain": [
              "{'mae': array([  559.42004 ,   276.0053  ,   298.20258 ,   408.06152 ,\n",
              "          431.32047 ,   526.28064 ,   542.41644 ,   459.79108 ,\n",
              "          490.63736 ,   631.6582  ,   802.51654 ,   731.79333 ,\n",
              "          684.06476 ,   789.71857 ,   563.4593  ,   271.9013  ,\n",
              "          231.86858 ,   258.64767 ,   277.65277 ,   291.5478  ,\n",
              "          105.425575,   132.63156 ,   205.97643 ,   262.20816 ,\n",
              "          169.8651  ,   165.05127 ,   110.21959 ,    83.64655 ,\n",
              "          115.86182 ,   152.87025 ,   279.98862 ,   380.96127 ,\n",
              "          280.21414 ,   271.9101  ,   264.43088 ,   261.91315 ,\n",
              "          330.29108 ,   242.21861 ,   253.72746 ,   245.38596 ,\n",
              "          412.562   ,   128.63539 ,    88.56452 ,    92.15639 ,\n",
              "          100.39704 ,   102.41455 ,    74.52804 ,    94.00349 ,\n",
              "           84.86837 ,    76.64781 ,   108.49679 ,   144.869   ,\n",
              "          187.69133 ,   162.5261  ,   265.83133 ,   391.21323 ,\n",
              "          552.2943  ,   541.77313 ,   522.20886 ,   523.98157 ,\n",
              "          430.13052 ,   276.80893 ,   263.94058 ,   346.60178 ,\n",
              "          449.3755  ,   494.68695 ,   524.3805  ,   532.446   ,\n",
              "          147.137   ,   232.74303 ,   213.22754 ,   407.64008 ,\n",
              "          528.1755  ,   381.76352 ,   288.17203 ,   365.8348  ,\n",
              "          332.32047 ,   393.45953 ,   525.2578  ,   656.50446 ,\n",
              "          811.64105 ,   640.2487  ,   293.96652 ,   163.34152 ,\n",
              "          214.56223 ,   211.33469 ,   237.02092 ,   322.86914 ,\n",
              "          365.69547 ,   561.3761  ,   439.0353  ,   436.3436  ,\n",
              "          359.31528 ,   248.87918 ,   167.8086  ,   263.49414 ,\n",
              "          310.0152  ,   507.3171  ,   621.88586 ,   777.44714 ,\n",
              "          512.9869  ,   292.40332 ,   202.28111 ,   327.75348 ,\n",
              "          356.55942 ,   364.2507  ,   453.20215 ,   574.33777 ,\n",
              "          966.9287  ,   940.8019  ,   871.2143  ,   374.3736  ,\n",
              "          174.17635 ,   241.6317  ,   192.01842 ,   354.8773  ,\n",
              "          305.95822 ,   407.91135 ,   562.78625 ,  1000.76465 ,\n",
              "         1604.6038  ,  2171.9666  ,  1956.6292  ,  2101.5525  ,\n",
              "         2263.4653  ,  2644.0884  ,  1284.6072  ,   680.17303 ,\n",
              "          450.15256 ,   391.20877 ,   514.96826 ,   414.87408 ,\n",
              "          485.30225 ,   301.8972  ,   314.97287 ,   298.2189  ,\n",
              "          351.74908 ,   286.78683 ,   316.8676  ,   322.0376  ,\n",
              "          342.37445 ,   373.64133 ,   283.48422 ,   587.4204  ,\n",
              "          666.5479  ,   415.29117 ,   351.52155 ,   228.57352 ,\n",
              "          281.31793 ,   207.98508 ,   233.22957 ,   522.5366  ,\n",
              "          344.37173 ,   535.6847  ,   403.58908 ,   351.62738 ,\n",
              "          196.2786  ,   204.0111  ,   210.801   ,   162.25252 ,\n",
              "          284.53592 ,   245.85555 ,   225.53348 ,   272.62347 ,\n",
              "          321.16434 ,   365.74408 ,   523.12604 ,   706.972   ,\n",
              "          516.4347  ,   604.03156 ,   827.5575  ,   887.2248  ,\n",
              "          991.22644 ,  1084.594   ,   499.86246 ,   265.87973 ,\n",
              "          353.98926 ,   401.75015 ,   416.3312  ,   392.2098  ,\n",
              "          466.42563 ,   458.61328 ,   622.09735 ,   973.6868  ,\n",
              "          865.1095  ,   278.56168 ,   516.1124  ,   737.87164 ,\n",
              "          363.9961  ,   231.46066 ,   265.72015 ,   234.37752 ,\n",
              "          366.99582 ,   436.41098 ,   645.9733  ,   610.24457 ,\n",
              "          342.28433 ,   262.02386 ,   323.00375 ,   306.09793 ,\n",
              "          523.2842  ,   736.6734  ,   707.1592  ,   451.09836 ,\n",
              "          301.78976 ,   144.70912 ,   199.37123 ,   336.74512 ,\n",
              "          146.3319  ,   138.04367 ,   307.15137 ,   179.54256 ,\n",
              "          165.28293 ,   204.35352 ,   271.4813  ,   372.5491  ,\n",
              "          525.0003  ,   147.24805 ,   107.68108 ,   150.50168 ,\n",
              "          137.84389 ,   209.29674 ,   181.5173  ,   185.5844  ,\n",
              "          145.70578 ,   140.22517 ,   158.3178  ,   177.3323  ,\n",
              "          274.27832 ,   572.3242  ,   270.27078 ,   279.54477 ,\n",
              "          133.47781 ,    55.439594,    81.092636,    68.80943 ,\n",
              "          103.634346,   153.1716  ,   149.0791  ,   168.81125 ,\n",
              "           74.92425 ,   162.96986 ,    56.424107,    93.80176 ,\n",
              "          210.05315 ,   146.7373  ,   143.01674 ,    74.46889 ,\n",
              "           83.6822  ,   123.72587 ,   171.18959 ,   152.87207 ,\n",
              "          176.66936 ,   192.75906 ,   269.69754 ,   310.21527 ,\n",
              "          603.6744  ,   699.2436  ,   812.1265  ,   911.0148  ,\n",
              "         1125.0621  ,  1342.5162  ,  1313.9249  ,   521.97644 ,\n",
              "          205.17201 ,   259.8019  ,   227.63268 ,   301.16617 ,\n",
              "          385.06558 ,   150.06682 ,   131.36873 ,   206.08928 ,\n",
              "          130.17215 ,   285.26996 ,   290.4891  ,   284.52246 ,\n",
              "          233.101   ,   336.17328 ,   216.41406 ,   185.488   ,\n",
              "          164.74861 ,   193.0219  ,   168.33244 ,   244.41086 ,\n",
              "          427.41226 ,   597.6722  ,   279.71664 ,   304.67145 ,\n",
              "          176.03697 ,   239.18875 ,   355.67758 ,   290.50726 ,\n",
              "          171.10756 ,   184.33385 ,   261.0728  ,   350.27106 ,\n",
              "          577.03156 ,   771.4784  ,  1050.9551  ,  1481.2781  ,\n",
              "         1378.0541  ,   883.13226 ,   572.96063 ,   130.63058 ,\n",
              "          206.059   ,   197.40959 ,   295.65317 ,   404.69308 ,\n",
              "          398.2896  ,   417.95145 ,   438.75586 ,   388.33496 ,\n",
              "          214.90555 ,   105.01005 ,   325.9368  ,   447.4184  ,\n",
              "          361.00977 ,   496.7426  ,   307.85727 ,   158.863   ,\n",
              "          169.79129 ,   313.21262 ,   134.87863 ,   118.55971 ,\n",
              "          148.13351 ,   215.45215 ,   311.0682  ,   274.3397  ,\n",
              "          205.59319 ,   154.73787 ,   170.1815  ,   233.73215 ,\n",
              "          328.0646  ,   456.9986  ,   544.226   ,   657.4069  ,\n",
              "          596.3923  ,   493.66547 ,   158.6808  ,    92.03822 ,\n",
              "          306.65457 ,   252.29018 ,   425.00195 ,   607.69196 ,\n",
              "          757.7344  ,  1028.1162  ,  1196.5586  ,  1187.6671  ,\n",
              "         1222.1669  ,   399.41867 ,   264.33035 ,   223.53445 ,\n",
              "          348.61246 ,   267.4036  ,   292.8566  ,   226.46219 ,\n",
              "          163.67912 ,   388.74594 ,   616.5091  ,   715.7144  ,\n",
              "          884.2673  ,  1118.2787  ,  1178.191   ,  1176.8744  ,\n",
              "          447.41656 ,   517.2567  ,   402.29672 ,   321.86285 ,\n",
              "          541.6454  ,   816.1635  ,   814.1642  ,   806.601   ,\n",
              "         1098.4758  ,  1303.5609  ,  1819.226   ,  1520.301   ,\n",
              "          975.065   ,   500.0745  ,   451.08258 ,   624.44836 ,\n",
              "          932.54913 ,  1119.5061  ,  1098.8876  ,  1111.4788  ,\n",
              "          981.3917  ,   774.1716  ,  1216.6174  ,  1347.8223  ,\n",
              "         1275.0948  ,   297.71875 ,   200.9509  ,   508.31027 ,\n",
              "          814.637   ,   605.5293  ,   654.36163 ,   563.6462  ,\n",
              "          596.4467  ,   581.3574  ,   830.5762  ,  1476.597   ,\n",
              "         2502.964   ,  2741.3472  ,  3085.4458  ,  3333.7878  ,\n",
              "         3539.5178  ,  2340.6372  ,   909.3376  ,   490.21567 ,\n",
              "          972.10657 ,  1305.3005  ,  1392.7361  ,  1755.094   ,\n",
              "         2546.695   ,  3059.948   ,  3003.2554  ,  2345.634   ,\n",
              "         2578.2778  ,  2814.2083  ,  3490.5386  ,  3260.6985  ,\n",
              "         4013.9187  ,  4978.504   ,  4385.956   ,  4103.263   ,\n",
              "         4391.792   ,  3081.4644  ,  2669.2148  ,  2414.4084  ,\n",
              "         4396.1475  ,  5788.4326  ,  5140.9053  ,  1273.4592  ,\n",
              "         1228.788   ,   701.4922  ,  2658.4453  ,  3027.572   ,\n",
              "         3027.8152  ,  3052.0781  ,  3045.396   ,  3537.386   ,\n",
              "         3745.5918  ,   900.0968  ,  1300.6917  ,  1302.6451  ,\n",
              "         1263.2556  ,  1302.2109  ,  2369.464   ,  3758.8523  ,\n",
              "         3492.7053  ,  2445.4978  ,  2877.3337  ,  3181.6016  ,\n",
              "         4807.9404  ,  5343.167   ,  4497.2007  ,  4869.027   ,\n",
              "         6087.3286  ,  6035.864   ,  8042.9697  ,  4592.853   ,\n",
              "         1518.462   ,  1500.4481  ,  1698.0397  ,  2548.5916  ,\n",
              "         2541.6692  ,  3393.869   ,  2871.6948  ,  3457.3716  ,\n",
              "         2717.7974  ,  3099.4827  ,  5651.3228  ,  6983.054   ,\n",
              "        10184.632   ,  8898.209   ,  4790.104   ,  2860.8967  ,\n",
              "         2013.5424  ,  1576.1022  ,  2593.8655  ,  3928.4883  ,\n",
              "         2703.8203  ,  2768.889   ,  3018.4146  ,  3906.845   ,\n",
              "         5233.6826  ,  6350.7373  ,  6068.0386  ,  5488.909   ,\n",
              "         4320.8374  ,  2024.2377  ,  1894.8945  ,  1482.7812  ,\n",
              "         1518.4553  ,  2880.513   ,  1606.4152  ,  1566.9939  ,\n",
              "         2957.5447  ,  4173.5615  ,  5676.796   ,  5417.197   ,\n",
              "         5249.5586  ,  1434.1613  ,  2133.1199  ,  2881.859   ,\n",
              "         3821.452   ,  4351.3306  ,  2311.1194  ,  2531.862   ,\n",
              "         1582.3064  ,   743.0675  ,   740.6685  ,   830.79297 ,\n",
              "          862.8683  ,   569.9665  ,  1134.5519  ,  1382.0139  ,\n",
              "         1559.6451  ,  2509.4558  ,  3264.3242  ,  3508.3386  ,\n",
              "         2416.577   ,  2335.6223  ,  2526.2778  ,  3310.1401  ,\n",
              "         5526.7583  ,  7300.811   ,  8667.999   ,  8214.251   ,\n",
              "         6219.2544  ,  4510.4214  ,  4505.271   ,  2656.5486  ,\n",
              "         1991.4564  ,  3071.716   ,  4366.595   ,  6207.0596  ,\n",
              "         3825.3962  ,  1774.5725  ,  2043.5586  ,  2223.3137  ,\n",
              "         1501.3549  ,  1830.9236  ,  1363.1423  ,  2061.2495  ,\n",
              "         2064.8828  ,  1645.9509  ,  2415.7795  ,  3431.0178  ,\n",
              "         5687.66    ,  7175.9517  ,  7918.8955  ], dtype=float32),\n",
              " 'mape': array([ 6.383133  ,  3.1873055 ,  3.4441986 ,  4.7474217 ,  5.087393  ,\n",
              "         6.2807307 ,  6.541848  ,  5.720405  ,  6.363076  ,  8.315235  ,\n",
              "        10.800634  , 10.020564  ,  9.454184  , 10.886435  ,  7.8023076 ,\n",
              "         3.7682526 ,  3.155776  ,  3.437866  ,  3.6989737 ,  3.8828704 ,\n",
              "         1.3986939 ,  1.7881403 ,  2.8099759 ,  3.586232  ,  2.3180187 ,\n",
              "         2.242667  ,  1.4899626 ,  1.1336712 ,  1.5688592 ,  2.1066084 ,\n",
              "         3.8841438 ,  5.2990785 ,  3.9507866 ,  3.9636142 ,  3.8526888 ,\n",
              "         3.8195531 ,  4.802899  ,  3.5313706 ,  3.6780703 ,  3.46592   ,\n",
              "         5.6844716 ,  1.781396  ,  1.2288109 ,  1.2746593 ,  1.3930616 ,\n",
              "         1.4077994 ,  1.0244621 ,  1.2907869 ,  1.1759014 ,  1.0764247 ,\n",
              "         1.5163736 ,  2.0254838 ,  2.6292856 ,  2.2210493 ,  3.4710693 ,\n",
              "         5.017667  ,  7.0700006 ,  6.8297133 ,  6.527853  ,  6.520673  ,\n",
              "         5.3245935 ,  3.3024843 ,  3.071215  ,  3.98927   ,  5.1149187 ,\n",
              "         5.61996   ,  5.953922  ,  6.0512958 ,  1.6630603 ,  2.6762862 ,\n",
              "         2.4792778 ,  4.7584987 ,  6.204536  ,  4.5032034 ,  3.402323  ,\n",
              "         4.296131  ,  3.8193192 ,  4.302126  ,  5.675283  ,  7.0431447 ,\n",
              "         8.695885  ,  6.8402886 ,  3.1351395 ,  1.7247756 ,  2.2906337 ,\n",
              "         2.239771  ,  2.4867249 ,  3.3104722 ,  3.7112315 ,  5.63722   ,\n",
              "         4.333159  ,  4.287891  ,  3.5142124 ,  2.4285538 ,  1.6611431 ,\n",
              "         2.6178567 ,  3.1315804 ,  5.1447906 ,  6.353043  ,  7.9626427 ,\n",
              "         5.287782  ,  3.019717  ,  2.0546832 ,  3.4092698 ,  3.8586323 ,\n",
              "         4.0400887 ,  5.076718  ,  6.4802604 , 11.007784  , 10.7414465 ,\n",
              "         9.975953  ,  4.3021564 ,  1.9976255 ,  2.7215734 ,  2.1505435 ,\n",
              "         4.012396  ,  3.618029  ,  4.9309316 ,  6.8522887 , 14.579784  ,\n",
              "        24.689518  , 35.3894    , 34.018784  , 38.566185  , 41.93856   ,\n",
              "        49.170227  , 23.934246  , 12.76731   ,  8.060933  ,  6.7705026 ,\n",
              "         8.406375  ,  6.574843  ,  7.4993    ,  4.5726724 ,  5.019635  ,\n",
              "         4.6231947 ,  5.3266654 ,  4.374331  ,  5.0321302 ,  5.182704  ,\n",
              "         5.5057526 ,  5.9565516 ,  4.374629  ,  8.735546  ,  9.690324  ,\n",
              "         5.9229927 ,  4.960857  ,  3.2358913 ,  3.916653  ,  2.960389  ,\n",
              "         3.2594497 ,  7.427887  ,  4.961269  ,  7.767851  ,  5.8759427 ,\n",
              "         5.0899153 ,  2.7828124 ,  2.8943253 ,  2.9632704 ,  2.2983522 ,\n",
              "         3.979706  ,  3.4080956 ,  3.0998034 ,  3.7605264 ,  4.432523  ,\n",
              "         4.82497   ,  6.85255   ,  8.808609  ,  6.1029444 ,  6.961776  ,\n",
              "         9.447651  , 10.045695  , 11.199372  , 12.213851  ,  5.522779  ,\n",
              "         2.7715328 ,  3.6357415 ,  4.1950994 ,  4.3852634 ,  4.1972456 ,\n",
              "         4.983673  ,  5.084654  ,  7.0168824 , 10.815913  ,  9.642549  ,\n",
              "         3.1320593 ,  5.3848643 ,  7.675372  ,  3.774346  ,  2.4561572 ,\n",
              "         2.8501215 ,  2.5092413 ,  3.9920144 ,  4.77418   ,  7.1354446 ,\n",
              "         6.7556424 ,  3.8018935 ,  2.8637733 ,  3.509565  ,  3.2845404 ,\n",
              "         5.372305  ,  7.5835423 ,  7.2673955 ,  4.5891204 ,  3.0293348 ,\n",
              "         1.4613218 ,  1.9975586 ,  3.4842055 ,  1.5093697 ,  1.4179296 ,\n",
              "         3.2048676 ,  1.8887612 ,  1.7362866 ,  2.1689427 ,  2.8873942 ,\n",
              "         3.9644148 ,  5.5802307 ,  1.5622852 ,  1.149674  ,  1.6047982 ,\n",
              "         1.4754645 ,  2.231686  ,  1.9317787 ,  1.9744525 ,  1.5439414 ,\n",
              "         1.4976854 ,  1.6820679 ,  1.897119  ,  2.9943423 ,  6.2459874 ,\n",
              "         2.953745  ,  3.064406  ,  1.4674717 ,  0.60568035,  0.8881008 ,\n",
              "         0.74896526,  1.1339073 ,  1.6680954 ,  1.608187  ,  1.8191533 ,\n",
              "         0.8100192 ,  1.7489618 ,  0.6075544 ,  1.0088054 ,  2.2717352 ,\n",
              "         1.5915908 ,  1.5513337 ,  0.80798715,  0.91097534,  1.3482684 ,\n",
              "         1.8638477 ,  1.6469681 ,  1.8685368 ,  2.02392   ,  2.8186364 ,\n",
              "         3.1947546 ,  5.8327208 ,  6.557446  ,  7.4054317 ,  8.245705  ,\n",
              "        10.09411   , 11.89811   , 11.6254015 ,  4.5898523 ,  1.7863373 ,\n",
              "         2.2723162 ,  1.9803488 ,  2.6221123 ,  3.3960602 ,  1.3109515 ,\n",
              "         1.1341455 ,  1.759563  ,  1.128492  ,  2.4649835 ,  2.5131893 ,\n",
              "         2.4598405 ,  2.0161705 ,  2.8633106 ,  1.7830117 ,  1.5193297 ,\n",
              "         1.3595337 ,  1.614378  ,  1.4105192 ,  2.059183  ,  3.6486063 ,\n",
              "         5.1331215 ,  2.424635  ,  2.6510155 ,  1.5341433 ,  2.09643   ,\n",
              "         3.1137257 ,  2.539438  ,  1.4683777 ,  1.568614  ,  2.2879937 ,\n",
              "         3.1728706 ,  5.3861685 ,  7.392792  , 10.086266  , 14.331542  ,\n",
              "        13.409384  ,  8.636568  ,  5.616763  ,  1.2732922 ,  1.9986842 ,\n",
              "         1.8976632 ,  2.7845583 ,  3.754111  ,  3.6711032 ,  3.8447108 ,\n",
              "         4.0184684 ,  3.5524209 ,  1.9625986 ,  0.98632026,  3.0846426 ,\n",
              "         4.236171  ,  3.4315605 ,  4.7224817 ,  2.9343495 ,  1.5163301 ,\n",
              "         1.5953581 ,  2.9111507 ,  1.2543285 ,  1.1071885 ,  1.3919702 ,\n",
              "         2.0292516 ,  2.9253087 ,  2.5853817 ,  1.9386241 ,  1.4526908 ,\n",
              "         1.5694046 ,  2.1026871 ,  2.9367437 ,  4.04099   ,  4.7796817 ,\n",
              "         5.770069  ,  5.2124357 ,  4.3052373 ,  1.3792781 ,  0.8005689 ,\n",
              "         2.684975  ,  2.188901  ,  3.448495  ,  4.792791  ,  5.909497  ,\n",
              "         7.955139  ,  9.233251  ,  9.119957  ,  9.261035  ,  2.9975643 ,\n",
              "         1.9903    ,  1.6718756 ,  2.58726   ,  1.9542675 ,  2.1405175 ,\n",
              "         1.6731445 ,  1.178066  ,  2.6046596 ,  4.0535207 ,  4.755552  ,\n",
              "         5.835533  ,  7.3285947 ,  7.6915874 ,  7.6137385 ,  2.8398395 ,\n",
              "         3.3314493 ,  2.5113592 ,  2.0298178 ,  3.3189912 ,  4.8585114 ,\n",
              "         4.7158113 ,  4.6272564 ,  6.2273393 ,  7.223699  ,  9.988826  ,\n",
              "         8.288783  ,  5.237044  ,  2.6687312 ,  2.4694824 ,  3.5809126 ,\n",
              "         5.3039985 ,  6.3736773 ,  6.23859   ,  6.344448  ,  5.5967784 ,\n",
              "         4.148265  ,  6.354063  ,  7.0523105 ,  6.644291  ,  1.5557402 ,\n",
              "         1.0602225 ,  2.6997712 ,  4.3472815 ,  3.2732253 ,  3.5330117 ,\n",
              "         3.0514553 ,  3.2215595 ,  3.1218312 ,  4.204726  ,  6.9420166 ,\n",
              "        11.60342   , 12.176869  , 13.453348  , 14.439218  , 15.278827  ,\n",
              "        10.020564  ,  3.8659077 ,  2.0333557 ,  3.9704196 ,  5.2561073 ,\n",
              "         5.4017196 ,  6.697758  ,  9.399555  , 11.09861   , 10.672504  ,\n",
              "         7.815193  ,  8.272939  ,  8.983307  , 10.819359  ,  9.587128  ,\n",
              "        11.14034   , 13.304127  , 11.300749  , 10.6548    , 11.274142  ,\n",
              "         7.8193297 ,  6.9860325 ,  6.769106  , 12.204499  , 16.113087  ,\n",
              "        14.353757  ,  3.5346606 ,  3.313356  ,  1.8951993 ,  7.7469826 ,\n",
              "         9.033199  ,  9.231903  ,  9.467803  ,  9.404374  , 11.023445  ,\n",
              "        11.800318  ,  2.8124304 ,  4.0199337 ,  3.950694  ,  3.7909858 ,\n",
              "         3.9367132 ,  6.9262767 , 10.6855    ,  9.707618  ,  6.670374  ,\n",
              "         7.674061  ,  8.309083  , 11.966503  , 12.519148  , 10.110762  ,\n",
              "        10.707312  , 13.19876   , 12.978641  , 17.091331  ,  9.630076  ,\n",
              "         3.1794276 ,  2.9887314 ,  3.3808594 ,  4.881789  ,  4.761776  ,\n",
              "         6.241043  ,  5.2421517 ,  6.347189  ,  5.175462  ,  6.029026  ,\n",
              "        11.695898  , 14.624441  , 21.540733  , 18.883375  , 10.238024  ,\n",
              "         6.1705375 ,  4.2898383 ,  3.2523804 ,  5.2908754 ,  7.9320273 ,\n",
              "         5.3697076 ,  5.336057  ,  5.5906935 ,  7.074054  ,  9.375492  ,\n",
              "        11.086345  , 10.371183  ,  9.408301  ,  7.407569  ,  3.3996441 ,\n",
              "         3.2378588 ,  2.5028694 ,  2.6447754 ,  5.0076265 ,  2.8739963 ,\n",
              "         2.8070548 ,  5.404184  ,  7.739886  , 10.505011  , 10.031975  ,\n",
              "         9.742052  ,  2.6674068 ,  3.8989453 ,  5.0200095 ,  6.615648  ,\n",
              "         7.476633  ,  3.9717202 ,  4.3323865 ,  2.6973286 ,  1.2728416 ,\n",
              "         1.2849373 ,  1.4467553 ,  1.4952526 ,  0.98913246,  1.9539042 ,\n",
              "         2.3853426 ,  2.5916712 ,  4.069341  ,  5.2415066 ,  5.630094  ,\n",
              "         3.8688655 ,  3.7874763 ,  4.2134275 ,  5.7756824 ,  9.770691  ,\n",
              "        13.159069  , 16.036814  , 15.505876  , 12.111253  ,  8.840368  ,\n",
              "         8.823597  ,  5.2454715 ,  3.878957  ,  5.697788  ,  7.8928275 ,\n",
              "        11.124117  ,  6.7739263 ,  3.14318   ,  3.6283498 ,  3.892282  ,\n",
              "         2.6967316 ,  3.2670074 ,  2.4376302 ,  3.6690652 ,  3.585248  ,\n",
              "         2.9584897 ,  4.53231   ,  6.682528  , 11.290611  , 14.65142   ,\n",
              "        16.85183   ], dtype=float32),\n",
              " 'mase': 2.1854093,\n",
              " 'mse': array([3.33394000e+05, 1.03724445e+05, 9.75477734e+04, 1.80555578e+05,\n",
              "        2.26793469e+05, 3.19683781e+05, 3.31785156e+05, 2.79899312e+05,\n",
              "        3.70252281e+05, 5.32036625e+05, 7.95682000e+05, 6.82951375e+05,\n",
              "        5.56032125e+05, 6.60285000e+05, 3.52380906e+05, 1.16671945e+05,\n",
              "        8.00336719e+04, 9.34664531e+04, 9.21393672e+04, 1.04041875e+05,\n",
              "        1.96615488e+04, 2.64791699e+04, 6.18707188e+04, 1.02955797e+05,\n",
              "        4.36306016e+04, 3.45583516e+04, 1.73448262e+04, 1.06492334e+04,\n",
              "        1.50544912e+04, 3.00173652e+04, 9.54852891e+04, 1.50687219e+05,\n",
              "        9.55566953e+04, 1.24640773e+05, 1.22260398e+05, 1.22192852e+05,\n",
              "        1.64926156e+05, 1.04291938e+05, 1.04716102e+05, 7.14317812e+04,\n",
              "        1.85622641e+05, 2.40555898e+04, 1.04443379e+04, 1.08766943e+04,\n",
              "        1.81710645e+04, 1.34194131e+04, 7.59755225e+03, 1.30255479e+04,\n",
              "        9.67257910e+03, 1.21373447e+04, 1.71709180e+04, 2.91904902e+04,\n",
              "        5.34009375e+04, 4.30802227e+04, 1.54338922e+05, 2.63090000e+05,\n",
              "        3.92752844e+05, 3.85401812e+05, 3.42097688e+05, 3.03134500e+05,\n",
              "        2.02138109e+05, 1.61282828e+05, 1.68757281e+05, 2.24789250e+05,\n",
              "        3.34351000e+05, 3.17256219e+05, 3.24330469e+05, 2.94770938e+05,\n",
              "        3.21403379e+04, 7.15406328e+04, 6.01047383e+04, 1.94125781e+05,\n",
              "        2.96338000e+05, 1.73771594e+05, 1.10524422e+05, 1.69625984e+05,\n",
              "        1.34109234e+05, 2.44139016e+05, 3.85172812e+05, 5.37043375e+05,\n",
              "        6.99801562e+05, 4.24303656e+05, 9.64800000e+04, 4.17386289e+04,\n",
              "        5.79252109e+04, 5.76000039e+04, 7.16003516e+04, 1.40586828e+05,\n",
              "        1.72043281e+05, 3.53915438e+05, 2.63749906e+05, 2.47050219e+05,\n",
              "        1.52179578e+05, 8.25143125e+04, 3.97282109e+04, 7.46978125e+04,\n",
              "        1.56581328e+05, 3.18724781e+05, 4.61892062e+05, 6.32013812e+05,\n",
              "        3.03695938e+05, 1.08098164e+05, 5.32101680e+04, 1.21410133e+05,\n",
              "        2.14644328e+05, 2.69117562e+05, 3.37814000e+05, 4.53375344e+05,\n",
              "        1.08349212e+06, 9.69460000e+05, 7.77834312e+05, 1.66238922e+05,\n",
              "        4.37044336e+04, 7.97520547e+04, 5.02197266e+04, 1.45318984e+05,\n",
              "        1.32896734e+05, 2.33199766e+05, 3.67667812e+05, 1.87499225e+06,\n",
              "        3.82544675e+06, 6.11114400e+06, 5.20348900e+06, 5.72459100e+06,\n",
              "        5.94761650e+06, 7.06636100e+06, 1.77607712e+06, 5.71786875e+05,\n",
              "        2.38541328e+05, 1.96971125e+05, 3.72253031e+05, 2.90039969e+05,\n",
              "        3.16406531e+05, 1.58819891e+05, 1.78927250e+05, 1.23254617e+05,\n",
              "        1.53376625e+05, 1.07515883e+05, 1.52277422e+05, 1.95200203e+05,\n",
              "        2.03025844e+05, 2.16209500e+05, 1.07583070e+05, 4.19026469e+05,\n",
              "        5.16380344e+05, 2.37964578e+05, 1.60922766e+05, 6.32510664e+04,\n",
              "        1.01699102e+05, 6.11560195e+04, 5.93905352e+04, 3.07242906e+05,\n",
              "        1.51582078e+05, 3.16971906e+05, 2.01775000e+05, 1.35609594e+05,\n",
              "        4.69756445e+04, 5.22583164e+04, 6.42655742e+04, 3.81848828e+04,\n",
              "        1.08177227e+05, 9.06808047e+04, 6.81520859e+04, 8.95860234e+04,\n",
              "        1.13006180e+05, 1.79956609e+05, 3.22909750e+05, 7.15943688e+05,\n",
              "        5.49820938e+05, 6.98467312e+05, 1.05350462e+06, 1.06671038e+06,\n",
              "        1.13801400e+06, 1.18490050e+06, 3.22156281e+05, 2.08278234e+05,\n",
              "        2.85719562e+05, 2.43085984e+05, 2.06137266e+05, 2.00610203e+05,\n",
              "        2.55878719e+05, 3.12861438e+05, 6.31455375e+05, 1.10615862e+06,\n",
              "        9.01712938e+05, 1.76444016e+05, 3.40770812e+05, 5.88025688e+05,\n",
              "        1.55192500e+05, 7.37252344e+04, 1.07882586e+05, 7.47378125e+04,\n",
              "        2.11414594e+05, 2.25098469e+05, 4.67451500e+05, 3.93355188e+05,\n",
              "        1.56228234e+05, 8.65428203e+04, 1.18756789e+05, 1.16208570e+05,\n",
              "        4.17561219e+05, 6.82756562e+05, 5.77383688e+05, 2.78386688e+05,\n",
              "        1.91040875e+05, 4.51314023e+04, 9.66046719e+04, 1.35987234e+05,\n",
              "        3.46512305e+04, 2.73080371e+04, 1.20861430e+05, 5.39484766e+04,\n",
              "        4.05714727e+04, 7.52649922e+04, 9.88261641e+04, 1.81728578e+05,\n",
              "        2.87719406e+05, 3.26745312e+04, 1.88171465e+04, 3.13027598e+04,\n",
              "        3.67352773e+04, 5.45493164e+04, 4.20905508e+04, 3.76223359e+04,\n",
              "        2.50840273e+04, 3.01902812e+04, 3.87692148e+04, 4.62195898e+04,\n",
              "        9.53595703e+04, 3.34977250e+05, 8.52137344e+04, 8.93841406e+04,\n",
              "        2.57094395e+04, 4.94461572e+03, 8.79626367e+03, 8.49029102e+03,\n",
              "        1.57091475e+04, 3.55610195e+04, 3.16384863e+04, 3.69771133e+04,\n",
              "        6.76249902e+03, 3.62076914e+04, 4.05944751e+03, 1.35008799e+04,\n",
              "        4.68076211e+04, 2.68615254e+04, 2.30234590e+04, 7.54533350e+03,\n",
              "        9.36424023e+03, 1.82010156e+04, 3.38128711e+04, 2.85906777e+04,\n",
              "        5.20125000e+04, 6.49524297e+04, 1.04471016e+05, 1.46007438e+05,\n",
              "        7.14144688e+05, 9.58125312e+05, 1.22509600e+06, 1.29478712e+06,\n",
              "        1.68467775e+06, 2.08443112e+06, 1.80137138e+06, 3.43922781e+05,\n",
              "        8.38062969e+04, 8.79114766e+04, 6.41988086e+04, 1.04314453e+05,\n",
              "        2.05045047e+05, 3.14043750e+04, 2.54131523e+04, 4.96176289e+04,\n",
              "        3.26739727e+04, 1.10487914e+05, 1.30131867e+05, 1.24735758e+05,\n",
              "        9.50999453e+04, 1.58834859e+05, 9.33186641e+04, 9.37423594e+04,\n",
              "        5.72294297e+04, 5.36821914e+04, 4.13911602e+04, 7.44215391e+04,\n",
              "        2.05739219e+05, 3.66187438e+05, 1.16855016e+05, 1.17204914e+05,\n",
              "        4.12653633e+04, 9.10168750e+04, 1.75218281e+05, 1.09306273e+05,\n",
              "        5.18959297e+04, 9.13076484e+04, 1.20695414e+05, 2.13619031e+05,\n",
              "        4.99358281e+05, 9.10010562e+05, 1.38975025e+06, 2.40428150e+06,\n",
              "        1.95363112e+06, 8.23527188e+05, 3.59575312e+05, 2.67775332e+04,\n",
              "        4.69525234e+04, 7.13935547e+04, 1.49703359e+05, 2.84783344e+05,\n",
              "        2.56093453e+05, 2.42521719e+05, 2.33469703e+05, 1.67033984e+05,\n",
              "        5.82417461e+04, 2.51238906e+04, 1.46595703e+05, 2.57371109e+05,\n",
              "        1.79850125e+05, 3.15337250e+05, 1.43075406e+05, 5.45757695e+04,\n",
              "        4.02590859e+04, 1.04498383e+05, 2.46403535e+04, 1.82447305e+04,\n",
              "        3.22257832e+04, 7.33687812e+04, 1.17344664e+05, 9.29680547e+04,\n",
              "        5.05981641e+04, 3.16992832e+04, 4.74245938e+04, 1.20601891e+05,\n",
              "        1.93126094e+05, 3.08337844e+05, 4.02318344e+05, 4.99645938e+05,\n",
              "        3.91438750e+05, 2.66566938e+05, 3.88146797e+04, 1.24275049e+04,\n",
              "        1.16664797e+05, 7.14946953e+04, 3.96406812e+05, 7.48489312e+05,\n",
              "        9.75264562e+05, 1.51613375e+06, 1.74917412e+06, 1.57698800e+06,\n",
              "        1.58133600e+06, 2.45576719e+05, 9.23140078e+04, 6.55380859e+04,\n",
              "        1.31787750e+05, 1.15113414e+05, 1.02307930e+05, 7.25379219e+04,\n",
              "        5.40419141e+04, 5.24896812e+05, 9.50770125e+05, 9.26232125e+05,\n",
              "        1.11365888e+06, 1.60103862e+06, 1.57692200e+06, 1.47775112e+06,\n",
              "        3.83324469e+05, 3.69744031e+05, 2.38819047e+05, 1.43169625e+05,\n",
              "        4.32763156e+05, 1.06803788e+06, 1.17400338e+06, 1.00694612e+06,\n",
              "        1.58363538e+06, 2.21012875e+06, 3.77491825e+06, 2.50035525e+06,\n",
              "        1.18956588e+06, 3.58880188e+05, 3.03592812e+05, 8.44406500e+05,\n",
              "        1.34112062e+06, 1.83813462e+06, 1.75363200e+06, 1.99065762e+06,\n",
              "        1.55192062e+06, 7.54376062e+05, 1.98689962e+06, 1.98100862e+06,\n",
              "        1.75947562e+06, 1.28232172e+05, 5.40807266e+04, 3.39730281e+05,\n",
              "        7.68867188e+05, 5.17358750e+05, 5.58042312e+05, 4.50932219e+05,\n",
              "        4.61642469e+05, 4.06037281e+05, 1.20640425e+06, 4.41879750e+06,\n",
              "        9.13147900e+06, 1.13353390e+07, 1.30212570e+07, 1.33741100e+07,\n",
              "        1.30366630e+07, 5.69693500e+06, 1.04668162e+06, 5.55939375e+05,\n",
              "        1.45060125e+06, 2.21110100e+06, 2.93645750e+06, 4.17465325e+06,\n",
              "        8.86809600e+06, 1.12878900e+07, 1.06687820e+07, 9.75505400e+06,\n",
              "        1.13975120e+07, 1.14823420e+07, 1.65296480e+07, 1.71318060e+07,\n",
              "        2.64630180e+07, 3.67715960e+07, 2.96931160e+07, 2.13515460e+07,\n",
              "        2.45664100e+07, 1.40850790e+07, 7.98280700e+06, 1.00049820e+07,\n",
              "        2.39863500e+07, 3.69922320e+07, 2.79343300e+07, 2.16239375e+06,\n",
              "        1.95902162e+06, 9.66099125e+05, 8.49763400e+06, 1.26890310e+07,\n",
              "        1.31594640e+07, 1.40178720e+07, 1.10246220e+07, 1.47196250e+07,\n",
              "        1.47363250e+07, 1.04302138e+06, 2.51192675e+06, 2.82747050e+06,\n",
              "        2.01651562e+06, 2.33862700e+06, 6.62512800e+06, 1.67676470e+07,\n",
              "        1.61179680e+07, 8.83295300e+06, 1.08211450e+07, 1.35291040e+07,\n",
              "        3.16443400e+07, 4.43336120e+07, 3.55703480e+07, 3.59946480e+07,\n",
              "        4.78694120e+07, 4.24167600e+07, 6.63626600e+07, 2.33264860e+07,\n",
              "        3.14468200e+06, 4.87435350e+06, 4.78159750e+06, 1.07451600e+07,\n",
              "        1.08128370e+07, 1.72822160e+07, 1.14444390e+07, 1.49543870e+07,\n",
              "        8.87318500e+06, 1.16514550e+07, 4.61954440e+07, 6.23508280e+07,\n",
              "        1.12169384e+08, 8.19101200e+07, 2.64749020e+07, 1.25423810e+07,\n",
              "        5.62378700e+06, 3.60028975e+06, 7.83456250e+06, 1.69358820e+07,\n",
              "        1.06481170e+07, 1.23299020e+07, 1.75144200e+07, 2.47907220e+07,\n",
              "        3.78497200e+07, 5.26399120e+07, 4.78895560e+07, 3.45402760e+07,\n",
              "        2.01211540e+07, 7.52182800e+06, 4.23857350e+06, 3.06185050e+06,\n",
              "        3.44073350e+06, 9.38222300e+06, 5.84576100e+06, 4.33842200e+06,\n",
              "        1.37386530e+07, 2.51135820e+07, 3.83723960e+07, 3.33786180e+07,\n",
              "        3.01767680e+07, 3.73629075e+06, 6.47484450e+06, 1.15425380e+07,\n",
              "        1.68360760e+07, 2.10577000e+07, 5.81830550e+06, 6.72836650e+06,\n",
              "        3.22983575e+06, 6.79807688e+05, 7.93674000e+05, 1.18572462e+06,\n",
              "        9.69263312e+05, 6.35788812e+05, 1.58890925e+06, 2.93819975e+06,\n",
              "        4.41733200e+06, 1.04396230e+07, 1.59341440e+07, 1.58365250e+07,\n",
              "        8.02327050e+06, 6.90858150e+06, 7.81497500e+06, 1.88693180e+07,\n",
              "        4.18421640e+07, 6.20995120e+07, 8.48631200e+07, 7.41613920e+07,\n",
              "        4.62633920e+07, 2.55688940e+07, 2.45755620e+07, 1.02823180e+07,\n",
              "        5.33402050e+06, 1.16097650e+07, 2.34686680e+07, 4.12730560e+07,\n",
              "        1.70490560e+07, 3.89742050e+06, 4.65160700e+06, 6.30977050e+06,\n",
              "        3.60876825e+06, 4.55321650e+06, 3.40397625e+06, 5.22099650e+06,\n",
              "        5.63631050e+06, 4.36895950e+06, 9.38240800e+06, 2.11363800e+07,\n",
              "        4.66035280e+07, 6.60825960e+07, 8.01464320e+07], dtype=float32),\n",
              " 'rmse': array([  577.4028  ,   322.0628  ,   312.32635 ,   424.9183  ,\n",
              "          476.2284  ,   565.4059  ,   576.00793 ,   529.05505 ,\n",
              "          608.4836  ,   729.4084  ,   892.01    ,   826.4087  ,\n",
              "          745.67566 ,   812.5792  ,   593.6168  ,   341.57275 ,\n",
              "          282.90222 ,   305.72284 ,   303.54468 ,   322.55524 ,\n",
              "          140.21965 ,   162.72421 ,   248.73827 ,   320.86728 ,\n",
              "          208.87941 ,   185.89874 ,   131.69975 ,   103.195114,\n",
              "          122.69674 ,   173.2552  ,   309.00693 ,   388.18454 ,\n",
              "          309.12244 ,   353.045   ,   349.65756 ,   349.56097 ,\n",
              "          406.11105 ,   322.94263 ,   323.59863 ,   267.26724 ,\n",
              "          430.83945 ,   155.09865 ,   102.19755 ,   104.29139 ,\n",
              "          134.8001  ,   115.84219 ,    87.16393 ,   114.129524,\n",
              "           98.349266,   110.16961 ,   131.03784 ,   170.85223 ,\n",
              "          231.08643 ,   207.55775 ,   392.8599  ,   512.92303 ,\n",
              "          626.7     ,   620.80743 ,   584.8912  ,   550.5765  ,\n",
              "          449.59775 ,   401.60034 ,   410.80078 ,   474.11948 ,\n",
              "          578.23083 ,   563.255   ,   569.5002  ,   542.92816 ,\n",
              "          179.27727 ,   267.4708  ,   245.16267 ,   440.59705 ,\n",
              "          544.3694  ,   416.85922 ,   332.45215 ,   411.85672 ,\n",
              "          366.20926 ,   494.10425 ,   620.623   ,   732.83234 ,\n",
              "          836.54144 ,   651.3859  ,   310.6123  ,   204.30034 ,\n",
              "          240.67656 ,   239.99997 ,   267.58243 ,   374.9491  ,\n",
              "          414.78098 ,   594.9079  ,   513.56586 ,   497.04144 ,\n",
              "          390.102   ,   287.25305 ,   199.31937 ,   273.309   ,\n",
              "          395.70358 ,   564.5571  ,   679.62646 ,   794.9929  ,\n",
              "          551.0861  ,   328.78287 ,   230.6733  ,   348.43958 ,\n",
              "          463.29724 ,   518.76544 ,   581.2177  ,   673.3315  ,\n",
              "         1040.9092  ,   984.61163 ,   881.9492  ,   407.7241  ,\n",
              "          209.05605 ,   282.40405 ,   224.09758 ,   381.20724 ,\n",
              "          364.55005 ,   482.90762 ,   606.3562  ,  1369.3035  ,\n",
              "         1955.875   ,  2472.0725  ,  2281.1157  ,  2392.6116  ,\n",
              "         2438.7737  ,  2658.263   ,  1332.6954  ,   756.1659  ,\n",
              "          488.4069  ,   443.81427 ,   610.1254  ,   538.5535  ,\n",
              "          562.5002  ,   398.52213 ,   422.99796 ,   351.07635 ,\n",
              "          391.63327 ,   327.89615 ,   390.2274  ,   441.81464 ,\n",
              "          450.58386 ,   464.98334 ,   327.99857 ,   647.3225  ,\n",
              "          718.596   ,   487.81613 ,   401.15176 ,   251.49767 ,\n",
              "          318.90295 ,   247.29744 ,   243.70172 ,   554.295   ,\n",
              "          389.33542 ,   563.00256 ,   449.1937  ,   368.2521  ,\n",
              "          216.73863 ,   228.60077 ,   253.50656 ,   195.40953 ,\n",
              "          328.90305 ,   301.13254 ,   261.05954 ,   299.30923 ,\n",
              "          336.1639  ,   424.21292 ,   568.2515  ,   846.1345  ,\n",
              "          741.4991  ,   835.74347 ,  1026.4037  ,  1032.8168  ,\n",
              "         1066.7773  ,  1088.5314  ,   567.58813 ,   456.37512 ,\n",
              "          534.5274  ,   493.03748 ,   454.0234  ,   447.89532 ,\n",
              "          505.8445  ,   559.34015 ,   794.6417  ,  1051.7407  ,\n",
              "          949.5857  ,   420.0524  ,   583.75574 ,   766.8283  ,\n",
              "          393.9448  ,   271.5239  ,   328.45486 ,   273.38217 ,\n",
              "          459.79843 ,   474.44547 ,   683.7042  ,   627.1803  ,\n",
              "          395.25717 ,   294.1816  ,   344.61108 ,   340.8938  ,\n",
              "          646.18976 ,   826.29083 ,   759.8577  ,   527.62366 ,\n",
              "          437.08224 ,   212.44153 ,   310.81293 ,   368.76447 ,\n",
              "          186.14839 ,   165.25143 ,   347.65128 ,   232.26811 ,\n",
              "          201.4236  ,   274.34467 ,   314.36627 ,   426.29636 ,\n",
              "          536.3948  ,   180.76097 ,   137.17561 ,   176.92586 ,\n",
              "          191.66447 ,   233.55795 ,   205.15982 ,   193.96477 ,\n",
              "          158.37938 ,   173.75351 ,   196.899   ,   214.98743 ,\n",
              "          308.80344 ,   578.7722  ,   291.9139  ,   298.9718  ,\n",
              "          160.34163 ,    70.31796 ,    93.7884  ,    92.14277 ,\n",
              "          125.336136,   188.57628 ,   177.87212 ,   192.29436 ,\n",
              "           82.23441 ,   190.28319 ,    63.71379 ,   116.19328 ,\n",
              "          216.35071 ,   163.89487 ,   151.73482 ,    86.863884,\n",
              "           96.769005,   134.91113 ,   183.88277 ,   169.08778 ,\n",
              "          228.06248 ,   254.85767 ,   323.2198  ,   382.1092  ,\n",
              "          845.0708  ,   978.83875 ,  1106.8406  ,  1137.8871  ,\n",
              "         1297.9513  ,  1443.756   ,  1342.1517  ,   586.4493  ,\n",
              "          289.49316 ,   296.49872 ,   253.37482 ,   322.97748 ,\n",
              "          452.819   ,   177.2128  ,   159.41504 ,   222.75017 ,\n",
              "          180.75943 ,   332.39722 ,   360.73795 ,   353.17947 ,\n",
              "          308.38278 ,   398.5409  ,   305.48105 ,   306.17374 ,\n",
              "          239.22673 ,   231.69418 ,   203.4482  ,   272.8031  ,\n",
              "          453.58484 ,   605.1342  ,   341.84064 ,   342.35202 ,\n",
              "          203.13878 ,   301.69    ,   418.59082 ,   330.615   ,\n",
              "          227.8068  ,   302.17157 ,   347.41245 ,   462.18936 ,\n",
              "          706.6529  ,   953.94476 ,  1178.8766  ,  1550.5745  ,\n",
              "         1397.7235  ,   907.484   ,   599.64594 ,   163.63843 ,\n",
              "          216.6853  ,   267.19574 ,   386.9152  ,   533.65094 ,\n",
              "          506.05673 ,   492.46497 ,   483.18704 ,   408.6979  ,\n",
              "          241.33325 ,   158.50517 ,   382.8782  ,   507.31757 ,\n",
              "          424.08734 ,   561.549   ,   378.2531  ,   233.61456 ,\n",
              "          200.64667 ,   323.2621  ,   156.97244 ,   135.07304 ,\n",
              "          179.51541 ,   270.8667  ,   342.5561  ,   304.90665 ,\n",
              "          224.94034 ,   178.04294 ,   217.77187 ,   347.27786 ,\n",
              "          439.46112 ,   555.2818  ,   634.2857  ,   706.8563  ,\n",
              "          625.65063 ,   516.3012  ,   197.0144  ,   111.47874 ,\n",
              "          341.5623  ,   267.38492 ,   629.60846 ,   865.1527  ,\n",
              "          987.55475 ,  1231.3138  ,  1322.5634  ,  1255.7819  ,\n",
              "         1257.5118  ,   495.557   ,   303.8322  ,   256.00403 ,\n",
              "          363.02582 ,   339.28366 ,   319.8561  ,   269.32864 ,\n",
              "          232.46918 ,   724.49756 ,   975.0744  ,   962.40955 ,\n",
              "         1055.3004  ,  1265.3215  ,  1255.7555  ,  1215.6279  ,\n",
              "          619.132   ,   608.0658  ,   488.69116 ,   378.37762 ,\n",
              "          657.84735 ,  1033.4591  ,  1083.5144  ,  1003.4671  ,\n",
              "         1258.4258  ,  1486.6501  ,  1942.9149  ,  1581.2511  ,\n",
              "         1090.6722  ,   599.0661  ,   550.99255 ,   918.9159  ,\n",
              "         1158.0676  ,  1355.7782  ,  1324.2477  ,  1410.9067  ,\n",
              "         1245.7611  ,   868.5482  ,  1409.5743  ,  1407.4832  ,\n",
              "         1326.4523  ,   358.0952  ,   232.55263 ,   582.8639  ,\n",
              "          876.85065 ,   719.2765  ,   747.0222  ,   671.51483 ,\n",
              "          679.44275 ,   637.2106  ,  1098.3644  ,  2102.0935  ,\n",
              "         3021.8337  ,  3366.7996  ,  3608.4978  ,  3657.063   ,\n",
              "         3610.6318  ,  2386.8252  ,  1023.07465 ,   745.6134  ,\n",
              "         1204.409   ,  1486.9772  ,  1713.6095  ,  2043.1968  ,\n",
              "         2977.9348  ,  3359.7454  ,  3266.3103  ,  3123.308   ,\n",
              "         3376.0203  ,  3388.5605  ,  4065.6672  ,  4139.0586  ,\n",
              "         5144.2217  ,  6063.9585  ,  5449.139   ,  4620.7734  ,\n",
              "         4956.4517  ,  3753.0093  ,  2825.3862  ,  3163.0654  ,\n",
              "         4897.586   ,  6082.1235  ,  5285.2935  ,  1470.5078  ,\n",
              "         1399.6504  ,   982.9033  ,  2915.0703  ,  3562.1665  ,\n",
              "         3627.598   ,  3744.0452  ,  3320.3347  ,  3836.6165  ,\n",
              "         3838.7922  ,  1021.2842  ,  1584.906   ,  1681.5083  ,\n",
              "         1420.0408  ,  1529.257   ,  2573.9324  ,  4094.8315  ,\n",
              "         4014.719   ,  2972.0286  ,  3289.5508  ,  3678.1934  ,\n",
              "         5625.3306  ,  6658.349   ,  5964.0884  ,  5999.554   ,\n",
              "         6918.7725  ,  6512.815   ,  8146.3286  ,  4829.75    ,\n",
              "         1773.3251  ,  2207.7937  ,  2186.6865  ,  3277.9807  ,\n",
              "         3288.2878  ,  4157.1885  ,  3382.9626  ,  3867.0903  ,\n",
              "         2978.789   ,  3413.4229  ,  6796.723   ,  7896.2534  ,\n",
              "        10591.005   ,  9050.421   ,  5145.3765  ,  3541.5222  ,\n",
              "         2371.4524  ,  1897.4427  ,  2799.0288  ,  4115.3228  ,\n",
              "         3263.1453  ,  3511.3958  ,  4185.023   ,  4979.0283  ,\n",
              "         6152.212   ,  7255.3374  ,  6920.228   ,  5877.097   ,\n",
              "         4485.6606  ,  2742.5952  ,  2058.7795  ,  1749.8142  ,\n",
              "         1854.9214  ,  3063.0415  ,  2417.8008  ,  2082.8877  ,\n",
              "         3706.5693  ,  5011.345   ,  6194.545   ,  5777.4233  ,\n",
              "         5493.339   ,  1932.9486  ,  2544.5715  ,  3397.431   ,\n",
              "         4103.1787  ,  4588.8667  ,  2412.1162  ,  2593.9094  ,\n",
              "         1797.1744  ,   824.5045  ,   890.88385 ,  1088.9098  ,\n",
              "          984.5117  ,   797.36365 ,  1260.5194  ,  1714.1178  ,\n",
              "         2101.745   ,  3231.0405  ,  3991.7598  ,  3979.513   ,\n",
              "         2832.5378  ,  2628.4182  ,  2795.5276  ,  4343.883   ,\n",
              "         6468.552   ,  7880.3247  ,  9212.118   ,  8611.701   ,\n",
              "         6801.7197  ,  5056.5693  ,  4957.374   ,  3206.6055  ,\n",
              "         2309.5498  ,  3407.3103  ,  4844.4473  ,  6424.411   ,\n",
              "         4129.0503  ,  1974.1885  ,  2156.7583  ,  2511.9255  ,\n",
              "         1899.6758  ,  2133.827   ,  1844.9868  ,  2284.95    ,\n",
              "         2374.0916  ,  2090.2056  ,  3063.0718  ,  4597.432   ,\n",
              "         6826.6777  ,  8129.12    ,  8952.454   ], dtype=float32)}"
            ]
          },
          "metadata": {},
          "execution_count": 201
        }
      ]
    },
    {
      "cell_type": "code",
      "metadata": {
        "id": "0_K_MFZLlKFk",
        "colab": {
          "base_uri": "https://localhost:8080/"
        },
        "outputId": "af71b8be-ac74-4738-ce13-71f54cc15957"
      },
      "source": [
        "print(model_3_results[\"mae\"].shape)\n",
        "print(model_3_results[\"mae\"].ndim)\n",
        "print(model_2_results[\"mae\"].ndim)"
      ],
      "execution_count": 202,
      "outputs": [
        {
          "output_type": "stream",
          "text": [
            "(551,)\n",
            "1\n",
            "0\n"
          ],
          "name": "stdout"
        }
      ]
    },
    {
      "cell_type": "markdown",
      "metadata": {
        "id": "GKAU6kD1kDUd"
      },
      "source": [
        "## Make our evaluation function work for larger horizons"
      ]
    },
    {
      "cell_type": "code",
      "metadata": {
        "id": "6Uk3NLDWk4VF"
      },
      "source": [
        "def evaluate_preds(y_true, y_pred):\n",
        "  # Make sure float32 datatype (for metric calculations)\n",
        "  y_true = tf.cast(y_true, dtype=tf.float32)\n",
        "  y_pred = tf.cast(y_pred, dtype=tf.float32)\n",
        "\n",
        "  #Calculate various evaluation metrics\n",
        "  mae = tf.keras.metrics.mean_absolute_error(y_true, y_pred)\n",
        "  mse = tf.keras.metrics.mean_squared_error(y_true, y_pred)\n",
        "  rmse = tf.sqrt(mse)\n",
        "  mape = tf.keras.metrics.mean_absolute_percentage_error(y_true, y_pred)\n",
        "  mase = mean_absolute_scaled_error(y_true, y_pred)\n",
        "\n",
        "  #Account for different sized metrics (longer horizons - we want to reduce to a single value)\n",
        "  if mae.ndim > 0:\n",
        "    mae = tf.reduce_mean(mae)\n",
        "    mse = tf.reduce_mean(mse)\n",
        "    rmse = tf.reduce_mean(rmse)\n",
        "    mape = tf.reduce_mean(mape)\n",
        "    mase = tf.reduce_mean(mase)\n",
        "\n",
        "  return {\"mae\": mae.numpy(),\n",
        "          \"mse\": mse.numpy(),\n",
        "          \"rmse\": rmse.numpy(),\n",
        "          \"mape\": mape.numpy(),\n",
        "          \"mase\": mase.numpy()}"
      ],
      "execution_count": 203,
      "outputs": []
    },
    {
      "cell_type": "code",
      "metadata": {
        "id": "K9cE6UoGmAyH",
        "colab": {
          "base_uri": "https://localhost:8080/"
        },
        "outputId": "f5a367f3-f7e5-49ed-89db-363814dd5878"
      },
      "source": [
        "model_3_results = evaluate_preds(tf.squeeze(test_labels), model_3_preds)\n",
        "model_3_results"
      ],
      "execution_count": 204,
      "outputs": [
        {
          "output_type": "execute_result",
          "data": {
            "text/plain": [
              "{'mae': 1228.1416,\n",
              " 'mape': 5.4698334,\n",
              " 'mase': 2.1854093,\n",
              " 'mse': 5323686.5,\n",
              " 'rmse': 1412.9114}"
            ]
          },
          "metadata": {},
          "execution_count": 204
        }
      ]
    },
    {
      "cell_type": "markdown",
      "metadata": {
        "id": "TMpmTyohmIjG"
      },
      "source": [
        "We´ve made an evaluated predictions with model_3, let´s visualize!"
      ]
    },
    {
      "cell_type": "code",
      "metadata": {
        "id": "Rhwm3GUtmkBE",
        "colab": {
          "base_uri": "https://localhost:8080/",
          "height": 442
        },
        "outputId": "ff90325e-e6f0-4bc6-8472-b57395ee65c3"
      },
      "source": [
        "offset = 300\n",
        "plt.figure(figsize=(10,7))\n",
        "plot_time_series(timesteps=x_test[-len(test_windows):], values=test_labels[:, 0], start=offset,format=\"-\", label=\"test data\")\n",
        "plot_time_series(timesteps=x_test[-len(test_windows):], values=model_3_preds, start=offset,  label=\"model_3_preds\")"
      ],
      "execution_count": 205,
      "outputs": [
        {
          "output_type": "display_data",
          "data": {
            "image/png": "[encoded data removed]",
            "text/plain": [
              "<Figure size 720x504 with 1 Axes>"
            ]
          },
          "metadata": {
            "needs_background": "light"
          }
        }
      ]
    },
    {
      "cell_type": "code",
      "metadata": {
        "id": "1jJZTDwUnA9V",
        "colab": {
          "base_uri": "https://localhost:8080/",
          "height": 442
        },
        "outputId": "acf0d9dd-f659-4ad0-af1d-5f8b0eb4dcf1"
      },
      "source": [
        "offset = 300\n",
        "plt.figure(figsize=(10,7))\n",
        "plot_time_series(timesteps=x_test[-len(test_windows):], values=test_labels[:, 0], start=offset, label=\"test data\")\n",
        "plot_time_series(timesteps=x_test[-len(test_windows):], values=tf.reduce_mean(model_3_preds, axis=1), start=offset, format=\"-\",  label=\"model_3_preds\")"
      ],
      "execution_count": 206,
      "outputs": [
        {
          "output_type": "display_data",
          "data": {
            "image/png": "[encoded data removed]",
            "text/plain": [
              "<Figure size 720x504 with 1 Axes>"
            ]
          },
          "metadata": {
            "needs_background": "light"
          }
        }
      ]
    },
    {
      "cell_type": "markdown",
      "metadata": {
        "id": "RRJrHEeGnbI8"
      },
      "source": [
        "## Which of our model is performing the best so far?"
      ]
    },
    {
      "cell_type": "code",
      "metadata": {
        "id": "zttUEhe0qHKc",
        "colab": {
          "base_uri": "https://localhost:8080/",
          "height": 457
        },
        "outputId": "75779761-50ba-42ed-8223-add4b0eb2327"
      },
      "source": [
        "pd.DataFrame({\"naive\": naive_results[\"mae\"],\n",
        "              \"horizon_1_window_7\": model_1_results[\"mae\"],\n",
        "              \"horizon_1_window_30\": model_2_results[\"mae\"],\n",
        "              \"horizon_7_window_30\": model_3_results[\"mae\"]}, index=[\"mae\"]).plot(figsize=(10,7),kind=\"bar\" )"
      ],
      "execution_count": 207,
      "outputs": [
        {
          "output_type": "execute_result",
          "data": {
            "text/plain": [
              "<matplotlib.axes._subplots.AxesSubplot at 0x7fbd9a2c8a50>"
            ]
          },
          "metadata": {},
          "execution_count": 207
        },
        {
          "output_type": "display_data",
          "data": {
            "image/png": "[encoded data removed]",
            "text/plain": [
              "<Figure size 720x504 with 1 Axes>"
            ]
          },
          "metadata": {
            "needs_background": "light"
          }
        }
      ]
    },
    {
      "cell_type": "markdown",
      "metadata": {
        "id": "VGh5YoYXqtTH"
      },
      "source": [
        "## Model 4: Conv1D"
      ]
    },
    {
      "cell_type": "code",
      "metadata": {
        "id": "hEgZfckCtQ70"
      },
      "source": [
        "HORIZON = 1\n",
        "WINDOW_SIZE = 7"
      ],
      "execution_count": 208,
      "outputs": []
    },
    {
      "cell_type": "code",
      "metadata": {
        "id": "JQw-m1W3tgmO",
        "colab": {
          "base_uri": "https://localhost:8080/"
        },
        "outputId": "a216e418-8ea5-47d3-df2d-224f6c477001"
      },
      "source": [
        "#Create windowed data\n",
        "full_windows, full_labels = make_windows(prices, WINDOW_SIZE, HORIZON)\n",
        "len(full_windows), len(full_labels)"
      ],
      "execution_count": 209,
      "outputs": [
        {
          "output_type": "execute_result",
          "data": {
            "text/plain": [
              "(2780, 2780)"
            ]
          },
          "metadata": {},
          "execution_count": 209
        }
      ]
    },
    {
      "cell_type": "code",
      "metadata": {
        "id": "yD_-Av5ltqzS",
        "colab": {
          "base_uri": "https://localhost:8080/"
        },
        "outputId": "c7063584-3674-4cfe-8937-0373087a68d2"
      },
      "source": [
        "#Create train/test set\n",
        "train_windows, test_windows, train_labels, test_labels = make_train_test_splits(full_windows, full_labels)\n",
        "len(train_windows), len(train_labels), len(test_windows), len(test_labels)"
      ],
      "execution_count": 210,
      "outputs": [
        {
          "output_type": "execute_result",
          "data": {
            "text/plain": [
              "(2224, 2224, 556, 556)"
            ]
          },
          "metadata": {},
          "execution_count": 210
        }
      ]
    },
    {
      "cell_type": "markdown",
      "metadata": {
        "id": "2og493Sst3kV"
      },
      "source": [
        "We need an input shape of: (batch_size, timesteps, input_dim) for Conv1D layer."
      ]
    },
    {
      "cell_type": "code",
      "metadata": {
        "id": "PiQVnsiVuQ07",
        "colab": {
          "base_uri": "https://localhost:8080/"
        },
        "outputId": "159ca992-507d-4341-f027-48e3e1fb9339"
      },
      "source": [
        "#Check data input shape\n",
        "train_windows[0].shape #return (WINDOW_SIZE,)"
      ],
      "execution_count": 211,
      "outputs": [
        {
          "output_type": "execute_result",
          "data": {
            "text/plain": [
              "(7,)"
            ]
          },
          "metadata": {},
          "execution_count": 211
        }
      ]
    },
    {
      "cell_type": "code",
      "metadata": {
        "id": "Jwj990ZpuVDS",
        "colab": {
          "base_uri": "https://localhost:8080/"
        },
        "outputId": "6aa0828f-b0a7-4950-e7bb-b36a45fe0171"
      },
      "source": [
        "# Before we pass our data to a Conv1D layer, we have to reshape it in order it works\n",
        "x = tf.constant(train_windows[0])\n",
        "x"
      ],
      "execution_count": 212,
      "outputs": [
        {
          "output_type": "execute_result",
          "data": {
            "text/plain": [
              "<tf.Tensor: shape=(7,), dtype=float64, numpy=\n",
              "array([123.65499, 125.455  , 108.58483, 118.67466, 121.33866, 120.65533,\n",
              "       121.795  ])>"
            ]
          },
          "metadata": {},
          "execution_count": 212
        }
      ]
    },
    {
      "cell_type": "code",
      "metadata": {
        "id": "O_K5Kfwuuvac"
      },
      "source": [
        "expand_dims_layer = layers.Lambda(lambda x: tf.expand_dims(x, axis=1)) #add an extra dimension for \"input_dim\""
      ],
      "execution_count": 213,
      "outputs": []
    },
    {
      "cell_type": "code",
      "metadata": {
        "id": "H9YDUXWPu9s2",
        "colab": {
          "base_uri": "https://localhost:8080/"
        },
        "outputId": "4c7f7167-dc2a-4858-ff9f-e121ae604cb4"
      },
      "source": [
        "# Test out our lambda layer\n",
        "print(f\"Original shape: {x.shape}\") #WINDOW_SIZE\n",
        "print(f\"Expanded shape: {expand_dims_layer(x).shape}\") # output = 7,1\n",
        "print(f\"Original values with expanded shape:\\n {expand_dims_layer(x)}\")"
      ],
      "execution_count": 214,
      "outputs": [
        {
          "output_type": "stream",
          "text": [
            "Original shape: (7,)\n",
            "Expanded shape: (7, 1)\n",
            "Original values with expanded shape:\n",
            " [[123.65499]\n",
            " [125.455  ]\n",
            " [108.58483]\n",
            " [118.67466]\n",
            " [121.33866]\n",
            " [120.65533]\n",
            " [121.795  ]]\n"
          ],
          "name": "stdout"
        }
      ]
    },
    {
      "cell_type": "code",
      "metadata": {
        "id": "kONLoorWvb2m"
      },
      "source": [
        "tf.random.set_seed(42)\n",
        "\n",
        "#Build the model\n",
        "model_4 = tf.keras.Sequential([\n",
        "                               layers.Lambda(lambda x: tf.expand_dims(x, axis=1)),\n",
        "                               layers.Conv1D(filters=128, kernel_size=WINDOW_SIZE, strides=1, padding=\"causal\", activation=\"relu\"),\n",
        "                               layers.Dense(HORIZON)\n",
        "                               \n",
        "], name=\"model_4_conv1D\")"
      ],
      "execution_count": 215,
      "outputs": []
    },
    {
      "cell_type": "code",
      "metadata": {
        "id": "38-NpWmtx3RL"
      },
      "source": [
        "#Compile the model\n",
        "model_4.compile(loss=\"mae\", optimizer=\"Adam\", metrics=[\"mae\", \"mse\"])"
      ],
      "execution_count": 216,
      "outputs": []
    },
    {
      "cell_type": "code",
      "metadata": {
        "id": "0r6b631Szjhg",
        "colab": {
          "base_uri": "https://localhost:8080/"
        },
        "outputId": "24b0ed97-c4bc-4cf7-d5c6-c6c20fad5529"
      },
      "source": [
        "#Fit the model \n",
        "model_4.fit(train_windows, train_labels,\n",
        "            batch_size=128,\n",
        "            epochs=100,\n",
        "            verbose=0,\n",
        "            validation_data=(test_windows, test_labels),\n",
        "            callbacks=[create_model_checkpoint(model_4.name)])"
      ],
      "execution_count": 217,
      "outputs": [
        {
          "output_type": "stream",
          "text": [
            "INFO:tensorflow:Assets written to: model_experiments/model_4_conv1D/assets\n",
            "INFO:tensorflow:Assets written to: model_experiments/model_4_conv1D/assets\n",
            "INFO:tensorflow:Assets written to: model_experiments/model_4_conv1D/assets\n",
            "INFO:tensorflow:Assets written to: model_experiments/model_4_conv1D/assets\n",
            "INFO:tensorflow:Assets written to: model_experiments/model_4_conv1D/assets\n",
            "INFO:tensorflow:Assets written to: model_experiments/model_4_conv1D/assets\n",
            "INFO:tensorflow:Assets written to: model_experiments/model_4_conv1D/assets\n",
            "INFO:tensorflow:Assets written to: model_experiments/model_4_conv1D/assets\n",
            "INFO:tensorflow:Assets written to: model_experiments/model_4_conv1D/assets\n",
            "INFO:tensorflow:Assets written to: model_experiments/model_4_conv1D/assets\n",
            "INFO:tensorflow:Assets written to: model_experiments/model_4_conv1D/assets\n",
            "INFO:tensorflow:Assets written to: model_experiments/model_4_conv1D/assets\n",
            "INFO:tensorflow:Assets written to: model_experiments/model_4_conv1D/assets\n",
            "INFO:tensorflow:Assets written to: model_experiments/model_4_conv1D/assets\n",
            "INFO:tensorflow:Assets written to: model_experiments/model_4_conv1D/assets\n",
            "INFO:tensorflow:Assets written to: model_experiments/model_4_conv1D/assets\n",
            "INFO:tensorflow:Assets written to: model_experiments/model_4_conv1D/assets\n",
            "INFO:tensorflow:Assets written to: model_experiments/model_4_conv1D/assets\n",
            "INFO:tensorflow:Assets written to: model_experiments/model_4_conv1D/assets\n",
            "INFO:tensorflow:Assets written to: model_experiments/model_4_conv1D/assets\n",
            "INFO:tensorflow:Assets written to: model_experiments/model_4_conv1D/assets\n",
            "INFO:tensorflow:Assets written to: model_experiments/model_4_conv1D/assets\n",
            "INFO:tensorflow:Assets written to: model_experiments/model_4_conv1D/assets\n",
            "INFO:tensorflow:Assets written to: model_experiments/model_4_conv1D/assets\n",
            "INFO:tensorflow:Assets written to: model_experiments/model_4_conv1D/assets\n",
            "INFO:tensorflow:Assets written to: model_experiments/model_4_conv1D/assets\n",
            "INFO:tensorflow:Assets written to: model_experiments/model_4_conv1D/assets\n",
            "INFO:tensorflow:Assets written to: model_experiments/model_4_conv1D/assets\n",
            "INFO:tensorflow:Assets written to: model_experiments/model_4_conv1D/assets\n",
            "INFO:tensorflow:Assets written to: model_experiments/model_4_conv1D/assets\n",
            "INFO:tensorflow:Assets written to: model_experiments/model_4_conv1D/assets\n",
            "INFO:tensorflow:Assets written to: model_experiments/model_4_conv1D/assets\n",
            "INFO:tensorflow:Assets written to: model_experiments/model_4_conv1D/assets\n",
            "INFO:tensorflow:Assets written to: model_experiments/model_4_conv1D/assets\n",
            "INFO:tensorflow:Assets written to: model_experiments/model_4_conv1D/assets\n",
            "INFO:tensorflow:Assets written to: model_experiments/model_4_conv1D/assets\n",
            "INFO:tensorflow:Assets written to: model_experiments/model_4_conv1D/assets\n",
            "INFO:tensorflow:Assets written to: model_experiments/model_4_conv1D/assets\n",
            "INFO:tensorflow:Assets written to: model_experiments/model_4_conv1D/assets\n",
            "INFO:tensorflow:Assets written to: model_experiments/model_4_conv1D/assets\n",
            "INFO:tensorflow:Assets written to: model_experiments/model_4_conv1D/assets\n",
            "INFO:tensorflow:Assets written to: model_experiments/model_4_conv1D/assets\n",
            "INFO:tensorflow:Assets written to: model_experiments/model_4_conv1D/assets\n",
            "INFO:tensorflow:Assets written to: model_experiments/model_4_conv1D/assets\n",
            "INFO:tensorflow:Assets written to: model_experiments/model_4_conv1D/assets\n",
            "INFO:tensorflow:Assets written to: model_experiments/model_4_conv1D/assets\n",
            "INFO:tensorflow:Assets written to: model_experiments/model_4_conv1D/assets\n",
            "INFO:tensorflow:Assets written to: model_experiments/model_4_conv1D/assets\n"
          ],
          "name": "stdout"
        },
        {
          "output_type": "execute_result",
          "data": {
            "text/plain": [
              "<keras.callbacks.History at 0x7fbdf1541190>"
            ]
          },
          "metadata": {},
          "execution_count": 217
        }
      ]
    },
    {
      "cell_type": "code",
      "metadata": {
        "id": "Y4t7ezSPz2RM",
        "colab": {
          "base_uri": "https://localhost:8080/"
        },
        "outputId": "18b92954-3cfc-478e-e49c-8c3cf5d14b8b"
      },
      "source": [
        "model_4.summary()"
      ],
      "execution_count": 218,
      "outputs": [
        {
          "output_type": "stream",
          "text": [
            "Model: \"model_4_conv1D\"\n",
            "_________________________________________________________________\n",
            "Layer (type)                 Output Shape              Param #   \n",
            "=================================================================\n",
            "lambda_4 (Lambda)            (None, 1, 7)              0         \n",
            "_________________________________________________________________\n",
            "conv1d_1 (Conv1D)            (None, 1, 128)            6400      \n",
            "_________________________________________________________________\n",
            "dense_20 (Dense)             (None, 1, 1)              129       \n",
            "=================================================================\n",
            "Total params: 6,529\n",
            "Trainable params: 6,529\n",
            "Non-trainable params: 0\n",
            "_________________________________________________________________\n"
          ],
          "name": "stdout"
        }
      ]
    },
    {
      "cell_type": "code",
      "metadata": {
        "id": "i6npYbXy0MLB",
        "colab": {
          "base_uri": "https://localhost:8080/"
        },
        "outputId": "99b74e72-b333-498f-e54c-1fe08da21f37"
      },
      "source": [
        "#Evaluate model\n",
        "model_4.evaluate(test_windows, test_labels)"
      ],
      "execution_count": 219,
      "outputs": [
        {
          "output_type": "stream",
          "text": [
            "18/18 [==============================] - 0s 2ms/step - loss: 609.9927 - mae: 609.9927 - mse: 1255053.2500\n"
          ],
          "name": "stdout"
        },
        {
          "output_type": "execute_result",
          "data": {
            "text/plain": [
              "[609.99267578125, 609.99267578125, 1255053.25]"
            ]
          },
          "metadata": {},
          "execution_count": 219
        }
      ]
    },
    {
      "cell_type": "code",
      "metadata": {
        "id": "mtw1uMGv0XQ_",
        "colab": {
          "base_uri": "https://localhost:8080/"
        },
        "outputId": "551c9a04-6201-4487-d06f-2218605d7af6"
      },
      "source": [
        "model_4 = tf.keras.models.load_model(\"model_experiments/model_4_conv1D/\")\n",
        "model_4.evaluate(test_windows, test_labels)"
      ],
      "execution_count": 220,
      "outputs": [
        {
          "output_type": "stream",
          "text": [
            "18/18 [==============================] - 0s 2ms/step - loss: 570.3994 - mae: 570.3994 - mse: 1182763.1250\n"
          ],
          "name": "stdout"
        },
        {
          "output_type": "execute_result",
          "data": {
            "text/plain": [
              "[570.3993530273438, 570.3993530273438, 1182763.125]"
            ]
          },
          "metadata": {},
          "execution_count": 220
        }
      ]
    },
    {
      "cell_type": "code",
      "metadata": {
        "id": "tlWm3ZeN0gFm",
        "colab": {
          "base_uri": "https://localhost:8080/"
        },
        "outputId": "ef91f6d7-9156-4ba7-d51a-3f56c5fe264b"
      },
      "source": [
        "# Make predictions\n",
        "model_4_preds = make_preds(model_4, test_windows)\n",
        "model_4_preds[:10]"
      ],
      "execution_count": 221,
      "outputs": [
        {
          "output_type": "execute_result",
          "data": {
            "text/plain": [
              "<tf.Tensor: shape=(10,), dtype=float32, numpy=\n",
              "array([8897.537 , 8793.336 , 9025.615 , 8800.965 , 8748.348 , 8769.1875,\n",
              "       8684.735 , 8543.161 , 8480.019 , 8531.297 ], dtype=float32)>"
            ]
          },
          "metadata": {},
          "execution_count": 221
        }
      ]
    },
    {
      "cell_type": "code",
      "metadata": {
        "id": "TSbyvg_E1GY8",
        "colab": {
          "base_uri": "https://localhost:8080/"
        },
        "outputId": "c2e6829f-dfdb-4e79-88c9-e4b194ca0a0c"
      },
      "source": [
        "# Evaluate predictions\n",
        "model_4_results = evaluate_preds(tf.squeeze(test_labels), model_4_preds)\n",
        "model_4_results"
      ],
      "execution_count": 222,
      "outputs": [
        {
          "output_type": "execute_result",
          "data": {
            "text/plain": [
              "{'mae': 570.39935,\n",
              " 'mape': 2.5455723,\n",
              " 'mase': 1.0020337,\n",
              " 'mse': 1182763.1,\n",
              " 'rmse': 1087.5492}"
            ]
          },
          "metadata": {},
          "execution_count": 222
        }
      ]
    },
    {
      "cell_type": "markdown",
      "metadata": {
        "id": "I7VB8YMfHFO7"
      },
      "source": [
        "## Model 5: RNN (LSTM)"
      ]
    },
    {
      "cell_type": "code",
      "metadata": {
        "id": "mnAyMTqbHKeG"
      },
      "source": [
        "tf.random.set_seed(42)\n",
        "\n",
        "#Build the model \n",
        "inputs = layers.Input(shape=WINDOW_SIZE)\n",
        "x = layers.Lambda(lambda x: tf.expand_dims(x, axis=1))(inputs)\n",
        "#x = layers.LSTM(128, return_sequences=True)(x)\n",
        "x = layers.LSTM(128, activation=\"relu\")(x)\n",
        "#x = layers.Dense(32, activation=\"relu\")(x)\n",
        "output = layers.Dense(HORIZON)(x)\n",
        "model_5 = tf.keras.Model(inputs, output, name=\"model_5_LSTM\")"
      ],
      "execution_count": 223,
      "outputs": []
    },
    {
      "cell_type": "code",
      "metadata": {
        "id": "Ge3tHzUPIeYf"
      },
      "source": [
        "#Compile the model\n",
        "model_5.compile(loss=\"mae\", optimizer=\"Adam\", metrics=[\"mae\", \"mse\"])"
      ],
      "execution_count": 224,
      "outputs": []
    },
    {
      "cell_type": "code",
      "metadata": {
        "id": "0T55pnyNIoWu",
        "colab": {
          "base_uri": "https://localhost:8080/"
        },
        "outputId": "5ce3080b-d894-4240-ed99-4d2ecea0d62e"
      },
      "source": [
        "#Fit the model \n",
        "model_5.fit(train_windows, train_labels,\n",
        "            epochs=100, verbose=1,\n",
        "            batch_size=128,\n",
        "            validation_data=(test_windows, test_labels),\n",
        "            callbacks=[create_model_checkpoint(model_5.name)])"
      ],
      "execution_count": 225,
      "outputs": [
        {
          "output_type": "stream",
          "text": [
            "Epoch 1/100\n",
            "18/18 [==============================] - 2s 24ms/step - loss: 2323.6123 - mae: 2323.6123 - mse: 13451195.0000 - val_loss: 9224.3506 - val_mae: 9224.3506 - val_mse: 150612624.0000\n",
            "INFO:tensorflow:Assets written to: model_experiments/model_5_LSTM/assets\n",
            "Epoch 2/100\n",
            "18/18 [==============================] - 0s 9ms/step - loss: 695.4956 - mae: 695.4956 - mse: 1664444.5000 - val_loss: 1485.8942 - val_mae: 1485.8942 - val_mse: 6265326.5000\n",
            "INFO:tensorflow:Assets written to: model_experiments/model_5_LSTM/assets\n",
            "Epoch 3/100\n",
            "18/18 [==============================] - 0s 8ms/step - loss: 237.3010 - mae: 237.3010 - mse: 238377.8125 - val_loss: 1298.9435 - val_mae: 1298.9435 - val_mse: 4395031.0000\n",
            "INFO:tensorflow:Assets written to: model_experiments/model_5_LSTM/assets\n",
            "Epoch 4/100\n",
            "18/18 [==============================] - 0s 9ms/step - loss: 181.9182 - mae: 181.9182 - mse: 168792.6406 - val_loss: 966.6407 - val_mae: 966.6407 - val_mse: 3159430.5000\n",
            "INFO:tensorflow:Assets written to: model_experiments/model_5_LSTM/assets\n",
            "Epoch 5/100\n",
            "18/18 [==============================] - 0s 8ms/step - loss: 173.4021 - mae: 173.4021 - mse: 159026.6406 - val_loss: 970.9384 - val_mae: 970.9384 - val_mse: 3095521.2500\n",
            "Epoch 6/100\n",
            "18/18 [==============================] - 0s 9ms/step - loss: 172.3319 - mae: 172.3319 - mse: 152150.4531 - val_loss: 891.5209 - val_mae: 891.5209 - val_mse: 2602961.7500\n",
            "INFO:tensorflow:Assets written to: model_experiments/model_5_LSTM/assets\n",
            "Epoch 7/100\n",
            "18/18 [==============================] - 0s 9ms/step - loss: 168.9708 - mae: 168.9708 - mse: 152397.4375 - val_loss: 968.6377 - val_mae: 968.6377 - val_mse: 3035696.0000\n",
            "Epoch 8/100\n",
            "18/18 [==============================] - 0s 9ms/step - loss: 169.5317 - mae: 169.5317 - mse: 155016.0625 - val_loss: 963.4456 - val_mae: 963.4456 - val_mse: 2995692.0000\n",
            "Epoch 9/100\n",
            "18/18 [==============================] - 0s 9ms/step - loss: 167.5760 - mae: 167.5760 - mse: 152354.9688 - val_loss: 956.5829 - val_mae: 956.5829 - val_mse: 2950433.5000\n",
            "Epoch 10/100\n",
            "18/18 [==============================] - 0s 9ms/step - loss: 166.3443 - mae: 166.3443 - mse: 150088.2656 - val_loss: 936.8956 - val_mae: 936.8956 - val_mse: 2879181.0000\n",
            "Epoch 11/100\n",
            "18/18 [==============================] - 0s 10ms/step - loss: 165.4762 - mae: 165.4762 - mse: 147729.3594 - val_loss: 909.1110 - val_mae: 909.1110 - val_mse: 2764840.2500\n",
            "Epoch 12/100\n",
            "18/18 [==============================] - 0s 9ms/step - loss: 169.9951 - mae: 169.9951 - mse: 147637.1875 - val_loss: 891.2327 - val_mae: 891.2327 - val_mse: 2706192.5000\n",
            "INFO:tensorflow:Assets written to: model_experiments/model_5_LSTM/assets\n",
            "Epoch 13/100\n",
            "18/18 [==============================] - 0s 9ms/step - loss: 160.3806 - mae: 160.3806 - mse: 140003.5469 - val_loss: 898.5595 - val_mae: 898.5595 - val_mse: 2637121.5000\n",
            "Epoch 14/100\n",
            "18/18 [==============================] - 0s 9ms/step - loss: 157.6484 - mae: 157.6484 - mse: 136488.7500 - val_loss: 927.9266 - val_mae: 927.9266 - val_mse: 2667881.0000\n",
            "Epoch 15/100\n",
            "18/18 [==============================] - 0s 9ms/step - loss: 167.6508 - mae: 167.6508 - mse: 138822.2344 - val_loss: 982.9256 - val_mae: 982.9256 - val_mse: 2806797.7500\n",
            "Epoch 16/100\n",
            "18/18 [==============================] - 0s 9ms/step - loss: 160.4521 - mae: 160.4521 - mse: 134404.2969 - val_loss: 916.0458 - val_mae: 916.0458 - val_mse: 2585958.7500\n",
            "Epoch 17/100\n",
            "18/18 [==============================] - 0s 9ms/step - loss: 153.8805 - mae: 153.8805 - mse: 128999.6953 - val_loss: 928.6927 - val_mae: 928.6927 - val_mse: 2595920.0000\n",
            "Epoch 18/100\n",
            "18/18 [==============================] - 0s 9ms/step - loss: 152.1556 - mae: 152.1556 - mse: 128083.0078 - val_loss: 865.6219 - val_mae: 865.6219 - val_mse: 2406026.5000\n",
            "INFO:tensorflow:Assets written to: model_experiments/model_5_LSTM/assets\n",
            "Epoch 19/100\n",
            "18/18 [==============================] - 0s 9ms/step - loss: 148.8319 - mae: 148.8319 - mse: 123034.7656 - val_loss: 876.9328 - val_mae: 876.9328 - val_mse: 2402670.5000\n",
            "Epoch 20/100\n",
            "18/18 [==============================] - 0s 8ms/step - loss: 149.6801 - mae: 149.6801 - mse: 122674.5312 - val_loss: 831.2376 - val_mae: 831.2376 - val_mse: 2272233.5000\n",
            "INFO:tensorflow:Assets written to: model_experiments/model_5_LSTM/assets\n",
            "Epoch 21/100\n",
            "18/18 [==============================] - 0s 9ms/step - loss: 145.7330 - mae: 145.7330 - mse: 118703.9141 - val_loss: 821.0629 - val_mae: 821.0629 - val_mse: 2216353.2500\n",
            "INFO:tensorflow:Assets written to: model_experiments/model_5_LSTM/assets\n",
            "Epoch 22/100\n",
            "18/18 [==============================] - 0s 9ms/step - loss: 143.9433 - mae: 143.9433 - mse: 115809.5859 - val_loss: 821.2911 - val_mae: 821.2911 - val_mse: 2184856.2500\n",
            "Epoch 23/100\n",
            "18/18 [==============================] - 0s 9ms/step - loss: 143.1268 - mae: 143.1268 - mse: 114206.4766 - val_loss: 837.1895 - val_mae: 837.1895 - val_mse: 2194862.0000\n",
            "Epoch 24/100\n",
            "18/18 [==============================] - 0s 8ms/step - loss: 141.0378 - mae: 141.0378 - mse: 110673.4219 - val_loss: 808.0547 - val_mae: 808.0547 - val_mse: 2100054.0000\n",
            "INFO:tensorflow:Assets written to: model_experiments/model_5_LSTM/assets\n",
            "Epoch 25/100\n",
            "18/18 [==============================] - 0s 9ms/step - loss: 139.0068 - mae: 139.0068 - mse: 109256.6406 - val_loss: 787.0112 - val_mae: 787.0112 - val_mse: 2025798.5000\n",
            "INFO:tensorflow:Assets written to: model_experiments/model_5_LSTM/assets\n",
            "Epoch 26/100\n",
            "18/18 [==============================] - 0s 8ms/step - loss: 137.9395 - mae: 137.9395 - mse: 107124.0703 - val_loss: 769.2203 - val_mae: 769.2203 - val_mse: 1967463.6250\n",
            "INFO:tensorflow:Assets written to: model_experiments/model_5_LSTM/assets\n",
            "Epoch 27/100\n",
            "18/18 [==============================] - 0s 9ms/step - loss: 136.4498 - mae: 136.4498 - mse: 105955.5078 - val_loss: 772.5977 - val_mae: 772.5977 - val_mse: 1942624.2500\n",
            "Epoch 28/100\n",
            "18/18 [==============================] - 0s 9ms/step - loss: 135.2745 - mae: 135.2745 - mse: 104425.7969 - val_loss: 751.0115 - val_mae: 751.0115 - val_mse: 1922041.3750\n",
            "INFO:tensorflow:Assets written to: model_experiments/model_5_LSTM/assets\n",
            "Epoch 29/100\n",
            "18/18 [==============================] - 0s 9ms/step - loss: 135.5958 - mae: 135.5958 - mse: 103278.9844 - val_loss: 759.8718 - val_mae: 759.8718 - val_mse: 1868214.5000\n",
            "Epoch 30/100\n",
            "18/18 [==============================] - 0s 10ms/step - loss: 138.2377 - mae: 138.2377 - mse: 104877.9297 - val_loss: 789.2983 - val_mae: 789.2983 - val_mse: 1929213.5000\n",
            "Epoch 31/100\n",
            "18/18 [==============================] - 0s 9ms/step - loss: 133.4514 - mae: 133.4514 - mse: 101714.1719 - val_loss: 730.3293 - val_mae: 730.3293 - val_mse: 1770725.1250\n",
            "INFO:tensorflow:Assets written to: model_experiments/model_5_LSTM/assets\n",
            "Epoch 32/100\n",
            "18/18 [==============================] - 0s 9ms/step - loss: 129.2459 - mae: 129.2459 - mse: 96228.4219 - val_loss: 730.9674 - val_mae: 730.9674 - val_mse: 1749561.5000\n",
            "Epoch 33/100\n",
            "18/18 [==============================] - 0s 10ms/step - loss: 128.6682 - mae: 128.6682 - mse: 94173.9688 - val_loss: 726.6902 - val_mae: 726.6902 - val_mse: 1723561.2500\n",
            "INFO:tensorflow:Assets written to: model_experiments/model_5_LSTM/assets\n",
            "Epoch 34/100\n",
            "18/18 [==============================] - 0s 9ms/step - loss: 128.9641 - mae: 128.9641 - mse: 95842.9609 - val_loss: 708.2340 - val_mae: 708.2340 - val_mse: 1681400.6250\n",
            "INFO:tensorflow:Assets written to: model_experiments/model_5_LSTM/assets\n",
            "Epoch 35/100\n",
            "18/18 [==============================] - 0s 9ms/step - loss: 126.4375 - mae: 126.4375 - mse: 93119.0078 - val_loss: 702.6016 - val_mae: 702.6016 - val_mse: 1651518.1250\n",
            "INFO:tensorflow:Assets written to: model_experiments/model_5_LSTM/assets\n",
            "Epoch 36/100\n",
            "18/18 [==============================] - 0s 9ms/step - loss: 125.8648 - mae: 125.8648 - mse: 92560.2266 - val_loss: 696.0234 - val_mae: 696.0234 - val_mse: 1624830.2500\n",
            "INFO:tensorflow:Assets written to: model_experiments/model_5_LSTM/assets\n",
            "Epoch 37/100\n",
            "18/18 [==============================] - 0s 9ms/step - loss: 124.2744 - mae: 124.2744 - mse: 90867.5391 - val_loss: 692.3998 - val_mae: 692.3998 - val_mse: 1599747.8750\n",
            "INFO:tensorflow:Assets written to: model_experiments/model_5_LSTM/assets\n",
            "Epoch 38/100\n",
            "18/18 [==============================] - 0s 10ms/step - loss: 123.4617 - mae: 123.4617 - mse: 89710.9609 - val_loss: 682.3129 - val_mae: 682.3129 - val_mse: 1576203.6250\n",
            "INFO:tensorflow:Assets written to: model_experiments/model_5_LSTM/assets\n",
            "Epoch 39/100\n",
            "18/18 [==============================] - 0s 9ms/step - loss: 124.4908 - mae: 124.4908 - mse: 89771.4375 - val_loss: 689.1117 - val_mae: 689.1116 - val_mse: 1631202.7500\n",
            "Epoch 40/100\n",
            "18/18 [==============================] - 0s 9ms/step - loss: 123.6601 - mae: 123.6601 - mse: 88698.3594 - val_loss: 688.7414 - val_mae: 688.7414 - val_mse: 1555468.8750\n",
            "Epoch 41/100\n",
            "18/18 [==============================] - 0s 9ms/step - loss: 121.6996 - mae: 121.6996 - mse: 87982.4922 - val_loss: 673.3080 - val_mae: 673.3080 - val_mse: 1518590.3750\n",
            "INFO:tensorflow:Assets written to: model_experiments/model_5_LSTM/assets\n",
            "Epoch 42/100\n",
            "18/18 [==============================] - 0s 9ms/step - loss: 121.2662 - mae: 121.2662 - mse: 87524.9844 - val_loss: 665.5682 - val_mae: 665.5682 - val_mse: 1499123.1250\n",
            "INFO:tensorflow:Assets written to: model_experiments/model_5_LSTM/assets\n",
            "Epoch 43/100\n",
            "18/18 [==============================] - 0s 9ms/step - loss: 121.1914 - mae: 121.1914 - mse: 84982.7344 - val_loss: 663.4371 - val_mae: 663.4371 - val_mse: 1485010.3750\n",
            "INFO:tensorflow:Assets written to: model_experiments/model_5_LSTM/assets\n",
            "Epoch 44/100\n",
            "18/18 [==============================] - 0s 9ms/step - loss: 121.3492 - mae: 121.3492 - mse: 86541.5938 - val_loss: 666.4625 - val_mae: 666.4625 - val_mse: 1482262.2500\n",
            "Epoch 45/100\n",
            "18/18 [==============================] - 0s 11ms/step - loss: 119.4222 - mae: 119.4222 - mse: 84183.4375 - val_loss: 653.1441 - val_mae: 653.1441 - val_mse: 1459760.1250\n",
            "INFO:tensorflow:Assets written to: model_experiments/model_5_LSTM/assets\n",
            "Epoch 46/100\n",
            "18/18 [==============================] - 0s 10ms/step - loss: 119.1475 - mae: 119.1475 - mse: 84614.6562 - val_loss: 649.3669 - val_mae: 649.3669 - val_mse: 1446045.3750\n",
            "INFO:tensorflow:Assets written to: model_experiments/model_5_LSTM/assets\n",
            "Epoch 47/100\n",
            "18/18 [==============================] - 0s 9ms/step - loss: 119.5113 - mae: 119.5113 - mse: 84545.4844 - val_loss: 650.3450 - val_mae: 650.3450 - val_mse: 1436870.1250\n",
            "Epoch 48/100\n",
            "18/18 [==============================] - 0s 9ms/step - loss: 117.9849 - mae: 117.9849 - mse: 82766.6797 - val_loss: 643.7015 - val_mae: 643.7015 - val_mse: 1425270.3750\n",
            "INFO:tensorflow:Assets written to: model_experiments/model_5_LSTM/assets\n",
            "Epoch 49/100\n",
            "18/18 [==============================] - 0s 9ms/step - loss: 117.3458 - mae: 117.3458 - mse: 82512.3359 - val_loss: 649.1431 - val_mae: 649.1431 - val_mse: 1424914.3750\n",
            "Epoch 50/100\n",
            "18/18 [==============================] - 0s 9ms/step - loss: 119.0112 - mae: 119.0112 - mse: 82478.6094 - val_loss: 658.5665 - val_mae: 658.5665 - val_mse: 1492391.8750\n",
            "Epoch 51/100\n",
            "18/18 [==============================] - 0s 9ms/step - loss: 118.3833 - mae: 118.3833 - mse: 80386.8438 - val_loss: 673.2418 - val_mae: 673.2418 - val_mse: 1474981.8750\n",
            "Epoch 52/100\n",
            "18/18 [==============================] - 0s 9ms/step - loss: 118.0016 - mae: 118.0016 - mse: 83151.7734 - val_loss: 644.5724 - val_mae: 644.5724 - val_mse: 1405601.1250\n",
            "Epoch 53/100\n",
            "18/18 [==============================] - 0s 9ms/step - loss: 117.5012 - mae: 117.5012 - mse: 82660.4141 - val_loss: 632.1457 - val_mae: 632.1457 - val_mse: 1383292.0000\n",
            "INFO:tensorflow:Assets written to: model_experiments/model_5_LSTM/assets\n",
            "Epoch 54/100\n",
            "18/18 [==============================] - 0s 9ms/step - loss: 117.3330 - mae: 117.3330 - mse: 82099.7266 - val_loss: 637.2055 - val_mae: 637.2055 - val_mse: 1384945.0000\n",
            "Epoch 55/100\n",
            "18/18 [==============================] - 0s 9ms/step - loss: 115.8615 - mae: 115.8615 - mse: 80785.6094 - val_loss: 627.7058 - val_mae: 627.7058 - val_mse: 1370222.3750\n",
            "INFO:tensorflow:Assets written to: model_experiments/model_5_LSTM/assets\n",
            "Epoch 56/100\n",
            "18/18 [==============================] - 0s 10ms/step - loss: 117.1814 - mae: 117.1814 - mse: 82216.8984 - val_loss: 648.4813 - val_mae: 648.4813 - val_mse: 1447201.3750\n",
            "Epoch 57/100\n",
            "18/18 [==============================] - 0s 9ms/step - loss: 125.8361 - mae: 125.8361 - mse: 87137.2031 - val_loss: 648.9831 - val_mae: 648.9831 - val_mse: 1403978.1250\n",
            "Epoch 58/100\n",
            "18/18 [==============================] - 0s 10ms/step - loss: 115.4787 - mae: 115.4787 - mse: 80934.1562 - val_loss: 630.3375 - val_mae: 630.3375 - val_mse: 1361636.6250\n",
            "Epoch 59/100\n",
            "18/18 [==============================] - 0s 10ms/step - loss: 114.6559 - mae: 114.6559 - mse: 80221.0625 - val_loss: 628.4244 - val_mae: 628.4244 - val_mse: 1375380.5000\n",
            "Epoch 60/100\n",
            "18/18 [==============================] - 0s 9ms/step - loss: 114.8021 - mae: 114.8021 - mse: 79452.5000 - val_loss: 620.0607 - val_mae: 620.0607 - val_mse: 1344477.0000\n",
            "INFO:tensorflow:Assets written to: model_experiments/model_5_LSTM/assets\n",
            "Epoch 61/100\n",
            "18/18 [==============================] - 0s 9ms/step - loss: 114.3845 - mae: 114.3845 - mse: 80067.7578 - val_loss: 633.4195 - val_mae: 633.4195 - val_mse: 1362554.7500\n",
            "Epoch 62/100\n",
            "18/18 [==============================] - 0s 9ms/step - loss: 114.7735 - mae: 114.7735 - mse: 77100.8750 - val_loss: 653.0529 - val_mae: 653.0529 - val_mse: 1452427.2500\n",
            "Epoch 63/100\n",
            "18/18 [==============================] - 0s 9ms/step - loss: 118.5447 - mae: 118.5447 - mse: 82479.2266 - val_loss: 622.3017 - val_mae: 622.3017 - val_mse: 1353211.8750\n",
            "Epoch 64/100\n",
            "18/18 [==============================] - 0s 9ms/step - loss: 113.3439 - mae: 113.3439 - mse: 78564.9141 - val_loss: 646.4648 - val_mae: 646.4648 - val_mse: 1387588.1250\n",
            "Epoch 65/100\n",
            "18/18 [==============================] - 0s 9ms/step - loss: 115.5774 - mae: 115.5774 - mse: 80956.4297 - val_loss: 621.8207 - val_mae: 621.8207 - val_mse: 1332287.7500\n",
            "Epoch 66/100\n",
            "18/18 [==============================] - 0s 9ms/step - loss: 113.5758 - mae: 113.5758 - mse: 79003.8984 - val_loss: 625.8535 - val_mae: 625.8535 - val_mse: 1339128.0000\n",
            "Epoch 67/100\n",
            "18/18 [==============================] - 0s 9ms/step - loss: 114.3274 - mae: 114.3274 - mse: 79336.4688 - val_loss: 618.1777 - val_mae: 618.1777 - val_mse: 1338389.3750\n",
            "INFO:tensorflow:Assets written to: model_experiments/model_5_LSTM/assets\n",
            "Epoch 68/100\n",
            "18/18 [==============================] - 0s 9ms/step - loss: 115.8874 - mae: 115.8874 - mse: 79901.2500 - val_loss: 610.0667 - val_mae: 610.0667 - val_mse: 1310280.6250\n",
            "INFO:tensorflow:Assets written to: model_experiments/model_5_LSTM/assets\n",
            "Epoch 69/100\n",
            "18/18 [==============================] - 0s 9ms/step - loss: 118.1946 - mae: 118.1946 - mse: 80457.4453 - val_loss: 630.6259 - val_mae: 630.6259 - val_mse: 1376693.0000\n",
            "Epoch 70/100\n",
            "18/18 [==============================] - 0s 10ms/step - loss: 117.6780 - mae: 117.6780 - mse: 81153.6875 - val_loss: 613.6976 - val_mae: 613.6976 - val_mse: 1322942.1250\n",
            "Epoch 71/100\n",
            "18/18 [==============================] - 0s 9ms/step - loss: 112.6891 - mae: 112.6891 - mse: 77197.3203 - val_loss: 628.7469 - val_mae: 628.7469 - val_mse: 1338327.7500\n",
            "Epoch 72/100\n",
            "18/18 [==============================] - 0s 9ms/step - loss: 115.3159 - mae: 115.3159 - mse: 78293.2656 - val_loss: 613.3113 - val_mae: 613.3113 - val_mse: 1321537.2500\n",
            "Epoch 73/100\n",
            "18/18 [==============================] - 0s 9ms/step - loss: 112.2513 - mae: 112.2513 - mse: 77433.4688 - val_loss: 607.5436 - val_mae: 607.5436 - val_mse: 1302660.8750\n",
            "INFO:tensorflow:Assets written to: model_experiments/model_5_LSTM/assets\n",
            "Epoch 74/100\n",
            "18/18 [==============================] - 0s 10ms/step - loss: 113.5405 - mae: 113.5405 - mse: 78341.6797 - val_loss: 612.9193 - val_mae: 612.9193 - val_mse: 1303909.2500\n",
            "Epoch 75/100\n",
            "18/18 [==============================] - 0s 10ms/step - loss: 114.6243 - mae: 114.6243 - mse: 77500.5703 - val_loss: 680.9974 - val_mae: 680.9974 - val_mse: 1451610.7500\n",
            "Epoch 76/100\n",
            "18/18 [==============================] - 0s 9ms/step - loss: 114.3978 - mae: 114.3978 - mse: 78096.3828 - val_loss: 627.7791 - val_mae: 627.7791 - val_mse: 1329714.8750\n",
            "Epoch 77/100\n",
            "18/18 [==============================] - 0s 9ms/step - loss: 115.0701 - mae: 115.0701 - mse: 77072.1328 - val_loss: 677.3135 - val_mae: 677.3135 - val_mse: 1440429.6250\n",
            "Epoch 78/100\n",
            "18/18 [==============================] - 0s 9ms/step - loss: 115.6408 - mae: 115.6408 - mse: 78854.5859 - val_loss: 638.9863 - val_mae: 638.9863 - val_mse: 1352780.3750\n",
            "Epoch 79/100\n",
            "18/18 [==============================] - 0s 9ms/step - loss: 113.8102 - mae: 113.8102 - mse: 78172.8828 - val_loss: 603.6312 - val_mae: 603.6312 - val_mse: 1281636.3750\n",
            "INFO:tensorflow:Assets written to: model_experiments/model_5_LSTM/assets\n",
            "Epoch 80/100\n",
            "18/18 [==============================] - 0s 10ms/step - loss: 111.6164 - mae: 111.6164 - mse: 76200.7422 - val_loss: 621.9382 - val_mae: 621.9382 - val_mse: 1313763.2500\n",
            "Epoch 81/100\n",
            "18/18 [==============================] - 0s 9ms/step - loss: 111.7110 - mae: 111.7110 - mse: 75441.6797 - val_loss: 620.0795 - val_mae: 620.0795 - val_mse: 1309029.8750\n",
            "Epoch 82/100\n",
            "18/18 [==============================] - 0s 10ms/step - loss: 114.4341 - mae: 114.4341 - mse: 79156.2344 - val_loss: 598.3356 - val_mae: 598.3356 - val_mse: 1271494.8750\n",
            "INFO:tensorflow:Assets written to: model_experiments/model_5_LSTM/assets\n",
            "Epoch 83/100\n",
            "18/18 [==============================] - 0s 10ms/step - loss: 112.8585 - mae: 112.8585 - mse: 76594.0312 - val_loss: 607.5803 - val_mae: 607.5803 - val_mse: 1299874.1250\n",
            "Epoch 84/100\n",
            "18/18 [==============================] - 0s 9ms/step - loss: 111.8406 - mae: 111.8406 - mse: 75349.6016 - val_loss: 602.6411 - val_mae: 602.6411 - val_mse: 1275017.7500\n",
            "Epoch 85/100\n",
            "18/18 [==============================] - 0s 10ms/step - loss: 111.2613 - mae: 111.2613 - mse: 75789.5078 - val_loss: 627.6544 - val_mae: 627.6544 - val_mse: 1321810.1250\n",
            "Epoch 86/100\n",
            "18/18 [==============================] - 0s 10ms/step - loss: 113.9645 - mae: 113.9645 - mse: 77221.5391 - val_loss: 619.5224 - val_mae: 619.5224 - val_mse: 1303913.5000\n",
            "Epoch 87/100\n",
            "18/18 [==============================] - 0s 10ms/step - loss: 113.8286 - mae: 113.8286 - mse: 77269.7422 - val_loss: 598.2933 - val_mae: 598.2933 - val_mse: 1265102.0000\n",
            "INFO:tensorflow:Assets written to: model_experiments/model_5_LSTM/assets\n",
            "Epoch 88/100\n",
            "18/18 [==============================] - 0s 10ms/step - loss: 110.8448 - mae: 110.8448 - mse: 75275.2266 - val_loss: 596.0640 - val_mae: 596.0640 - val_mse: 1261574.2500\n",
            "INFO:tensorflow:Assets written to: model_experiments/model_5_LSTM/assets\n",
            "Epoch 89/100\n",
            "18/18 [==============================] - 0s 9ms/step - loss: 111.0922 - mae: 111.0922 - mse: 74298.5938 - val_loss: 630.6047 - val_mae: 630.6047 - val_mse: 1325125.6250\n",
            "Epoch 90/100\n",
            "18/18 [==============================] - 0s 10ms/step - loss: 115.8214 - mae: 115.8214 - mse: 79444.9141 - val_loss: 680.3810 - val_mae: 680.3810 - val_mse: 1438233.8750\n",
            "Epoch 91/100\n",
            "18/18 [==============================] - 0s 10ms/step - loss: 116.0425 - mae: 116.0425 - mse: 79598.5312 - val_loss: 632.1270 - val_mae: 632.1270 - val_mse: 1356811.8750\n",
            "Epoch 92/100\n",
            "18/18 [==============================] - 0s 10ms/step - loss: 111.9858 - mae: 111.9858 - mse: 76417.5469 - val_loss: 596.0399 - val_mae: 596.0399 - val_mse: 1257540.5000\n",
            "INFO:tensorflow:Assets written to: model_experiments/model_5_LSTM/assets\n",
            "Epoch 93/100\n",
            "18/18 [==============================] - 0s 10ms/step - loss: 111.9554 - mae: 111.9554 - mse: 76856.9141 - val_loss: 601.6699 - val_mae: 601.6699 - val_mse: 1279335.8750\n",
            "Epoch 94/100\n",
            "18/18 [==============================] - 0s 10ms/step - loss: 110.7805 - mae: 110.7805 - mse: 75505.2188 - val_loss: 605.7480 - val_mae: 605.7480 - val_mse: 1289132.0000\n",
            "Epoch 95/100\n",
            "18/18 [==============================] - 0s 9ms/step - loss: 110.1889 - mae: 110.1889 - mse: 74598.8672 - val_loss: 594.1672 - val_mae: 594.1672 - val_mse: 1251937.3750\n",
            "INFO:tensorflow:Assets written to: model_experiments/model_5_LSTM/assets\n",
            "Epoch 96/100\n",
            "18/18 [==============================] - 0s 10ms/step - loss: 112.3372 - mae: 112.3372 - mse: 76275.0547 - val_loss: 601.4485 - val_mae: 601.4485 - val_mse: 1261862.8750\n",
            "Epoch 97/100\n",
            "18/18 [==============================] - 0s 9ms/step - loss: 110.8521 - mae: 110.8521 - mse: 73814.1484 - val_loss: 625.3636 - val_mae: 625.3636 - val_mse: 1335053.8750\n",
            "Epoch 98/100\n",
            "18/18 [==============================] - 0s 9ms/step - loss: 110.8161 - mae: 110.8161 - mse: 74860.9297 - val_loss: 594.1018 - val_mae: 594.1018 - val_mse: 1257917.5000\n",
            "INFO:tensorflow:Assets written to: model_experiments/model_5_LSTM/assets\n",
            "Epoch 99/100\n",
            "18/18 [==============================] - 0s 9ms/step - loss: 109.7159 - mae: 109.7159 - mse: 74761.2578 - val_loss: 591.6655 - val_mae: 591.6655 - val_mse: 1250831.5000\n",
            "INFO:tensorflow:Assets written to: model_experiments/model_5_LSTM/assets\n",
            "Epoch 100/100\n",
            "18/18 [==============================] - 0s 9ms/step - loss: 112.6171 - mae: 112.6171 - mse: 75116.6641 - val_loss: 594.9865 - val_mae: 594.9865 - val_mse: 1259465.0000\n"
          ],
          "name": "stdout"
        },
        {
          "output_type": "execute_result",
          "data": {
            "text/plain": [
              "<keras.callbacks.History at 0x7fbdf15e6fd0>"
            ]
          },
          "metadata": {},
          "execution_count": 225
        }
      ]
    },
    {
      "cell_type": "code",
      "metadata": {
        "id": "-ty3p84SI7mU",
        "colab": {
          "base_uri": "https://localhost:8080/"
        },
        "outputId": "6a3bd8cd-81e6-4996-cdf0-a9f2b48a498c"
      },
      "source": [
        "model_5 = tf.keras.models.load_model(\"model_experiments/model_5_LSTM/\")\n",
        "model_5.evaluate(test_windows, test_labels)"
      ],
      "execution_count": 226,
      "outputs": [
        {
          "output_type": "stream",
          "text": [
            "18/18 [==============================] - 0s 2ms/step - loss: 591.6655 - mae: 591.6655 - mse: 1250831.6250\n"
          ],
          "name": "stdout"
        },
        {
          "output_type": "execute_result",
          "data": {
            "text/plain": [
              "[591.6654663085938, 591.6654663085938, 1250831.625]"
            ]
          },
          "metadata": {},
          "execution_count": 226
        }
      ]
    },
    {
      "cell_type": "code",
      "metadata": {
        "id": "cyFyxdXDJFR1",
        "colab": {
          "base_uri": "https://localhost:8080/"
        },
        "outputId": "c5283bf9-0eff-48c8-8062-a7900e932122"
      },
      "source": [
        "# Make predictions\n",
        "model_5_preds = make_preds(model_5, test_windows)\n",
        "model_5_preds[:5]"
      ],
      "execution_count": 227,
      "outputs": [
        {
          "output_type": "execute_result",
          "data": {
            "text/plain": [
              "<tf.Tensor: shape=(5,), dtype=float32, numpy=array([8970.957, 8815.352, 9026.793, 8831.478, 8736.686], dtype=float32)>"
            ]
          },
          "metadata": {},
          "execution_count": 227
        }
      ]
    },
    {
      "cell_type": "code",
      "metadata": {
        "id": "658IZF9PKvU0",
        "colab": {
          "base_uri": "https://localhost:8080/"
        },
        "outputId": "7b6014f9-4cd0-4b07-bbf6-6318ba9defe7"
      },
      "source": [
        "#Evaluate preds\n",
        "model_5_results = evaluate_preds(tf.squeeze(test_labels), model_5_preds)\n",
        "model_5_results"
      ],
      "execution_count": 228,
      "outputs": [
        {
          "output_type": "execute_result",
          "data": {
            "text/plain": [
              "{'mae': 591.6655,\n",
              " 'mape': 2.66558,\n",
              " 'mase': 1.0393925,\n",
              " 'mse': 1250831.6,\n",
              " 'rmse': 1118.4059}"
            ]
          },
          "metadata": {},
          "execution_count": 228
        }
      ]
    },
    {
      "cell_type": "markdown",
      "metadata": {
        "id": "4z70AU4GK4Dc"
      },
      "source": [
        "## Make a multivariate time series dataset\n",
        "\n",
        "Before we add a feature to out time series, what is a feature we can use? \n",
        "\n",
        "One feature we could add is whether or not Elon Musk tweeted on that day...\n",
        "\n",
        "* day 1 - 0\n",
        "* day 2 - 1\n",
        "* day 3 - 0\n",
        "\n",
        "What´s a better feature to use? \n",
        "\n",
        "How about the bitcoin halving events? "
      ]
    },
    {
      "cell_type": "code",
      "metadata": {
        "id": "tF9CBfcAMA49",
        "colab": {
          "base_uri": "https://localhost:8080/",
          "height": 236
        },
        "outputId": "111941b2-ff19-4d85-9527-8c05c0d35354"
      },
      "source": [
        "# Let´s make a multivariate time series\n",
        "bitcoin_prices.head()"
      ],
      "execution_count": 229,
      "outputs": [
        {
          "output_type": "execute_result",
          "data": {
            "text/html": [
              "<div>\n",
              "<style scoped>\n",
              "    .dataframe tbody tr th:only-of-type {\n",
              "        vertical-align: middle;\n",
              "    }\n",
              "\n",
              "    .dataframe tbody tr th {\n",
              "        vertical-align: top;\n",
              "    }\n",
              "\n",
              "    .dataframe thead th {\n",
              "        text-align: right;\n",
              "    }\n",
              "</style>\n",
              "<table border=\"1\" class=\"dataframe\">\n",
              "  <thead>\n",
              "    <tr style=\"text-align: right;\">\n",
              "      <th></th>\n",
              "      <th>Price</th>\n",
              "    </tr>\n",
              "    <tr>\n",
              "      <th>Date</th>\n",
              "      <th></th>\n",
              "    </tr>\n",
              "  </thead>\n",
              "  <tbody>\n",
              "    <tr>\n",
              "      <th>2013-10-01</th>\n",
              "      <td>123.65499</td>\n",
              "    </tr>\n",
              "    <tr>\n",
              "      <th>2013-10-02</th>\n",
              "      <td>125.45500</td>\n",
              "    </tr>\n",
              "    <tr>\n",
              "      <th>2013-10-03</th>\n",
              "      <td>108.58483</td>\n",
              "    </tr>\n",
              "    <tr>\n",
              "      <th>2013-10-04</th>\n",
              "      <td>118.67466</td>\n",
              "    </tr>\n",
              "    <tr>\n",
              "      <th>2013-10-05</th>\n",
              "      <td>121.33866</td>\n",
              "    </tr>\n",
              "  </tbody>\n",
              "</table>\n",
              "</div>"
            ],
            "text/plain": [
              "                Price\n",
              "Date                 \n",
              "2013-10-01  123.65499\n",
              "2013-10-02  125.45500\n",
              "2013-10-03  108.58483\n",
              "2013-10-04  118.67466\n",
              "2013-10-05  121.33866"
            ]
          },
          "metadata": {},
          "execution_count": 229
        }
      ]
    },
    {
      "cell_type": "code",
      "metadata": {
        "id": "uybkbfJSNVTg"
      },
      "source": [
        "# Let´s add bitcoin halving events to our dataset\n",
        "block_reward_1 = 50 # 3 January 2009 - this block reward isn´t in our dataset (it starts from 01 October 2013)\n",
        "block_reward_2 = 25 # 8 November 2012\n",
        "block_reward_3 = 12.5 # 9 July 2016\n",
        "block_reward_4 = 6.25 # 18 May 2020\n",
        "\n",
        "# Block reward dates\n",
        "block_reward_2_datetime = np.datetime64(\"2021-11-28\")\n",
        "block_reward_3_datetime = np.datetime64(\"2016-07-09\")\n",
        "block_reward_4_datetime = np.datetime64(\"2020-05-18\")"
      ],
      "execution_count": 230,
      "outputs": []
    },
    {
      "cell_type": "code",
      "metadata": {
        "id": "JuRHhDoqONqk"
      },
      "source": [
        "# Create date ranges of where specific block_reward values should be\n",
        "block_reward_2_days = (block_reward_3_datetime - bitcoin_prices.index[0]).days\n",
        "block_reward_3_days = (block_reward_4_datetime - bitcoin_prices.index[0]).days"
      ],
      "execution_count": 231,
      "outputs": []
    },
    {
      "cell_type": "code",
      "metadata": {
        "id": "XthB4o1gOPAo"
      },
      "source": [
        "# Add in block_reward column\n",
        "bitcoin_prices_block = bitcoin_prices.copy()\n",
        "bitcoin_prices_block[\"block_reward\"] = None\n",
        "# Add in block_reward values as a feature to our dataframe\n",
        "bitcoin_prices_block.iloc[:block_reward_2_days, -1] =  block_reward_2 #-1 is for columns\n",
        "bitcoin_prices_block.iloc[block_reward_2_days:block_reward_3_days, -1] = block_reward_3\n",
        "bitcoin_prices_block.iloc[block_reward_3_days:, -1] = block_reward_4"
      ],
      "execution_count": 232,
      "outputs": []
    },
    {
      "cell_type": "code",
      "metadata": {
        "id": "y-8SPDauP6vh",
        "colab": {
          "base_uri": "https://localhost:8080/",
          "height": 236
        },
        "outputId": "6d2d63b2-4463-4063-8134-e7625a876409"
      },
      "source": [
        "bitcoin_prices_block.head()"
      ],
      "execution_count": 233,
      "outputs": [
        {
          "output_type": "execute_result",
          "data": {
            "text/html": [
              "<div>\n",
              "<style scoped>\n",
              "    .dataframe tbody tr th:only-of-type {\n",
              "        vertical-align: middle;\n",
              "    }\n",
              "\n",
              "    .dataframe tbody tr th {\n",
              "        vertical-align: top;\n",
              "    }\n",
              "\n",
              "    .dataframe thead th {\n",
              "        text-align: right;\n",
              "    }\n",
              "</style>\n",
              "<table border=\"1\" class=\"dataframe\">\n",
              "  <thead>\n",
              "    <tr style=\"text-align: right;\">\n",
              "      <th></th>\n",
              "      <th>Price</th>\n",
              "      <th>block_reward</th>\n",
              "    </tr>\n",
              "    <tr>\n",
              "      <th>Date</th>\n",
              "      <th></th>\n",
              "      <th></th>\n",
              "    </tr>\n",
              "  </thead>\n",
              "  <tbody>\n",
              "    <tr>\n",
              "      <th>2013-10-01</th>\n",
              "      <td>123.65499</td>\n",
              "      <td>25</td>\n",
              "    </tr>\n",
              "    <tr>\n",
              "      <th>2013-10-02</th>\n",
              "      <td>125.45500</td>\n",
              "      <td>25</td>\n",
              "    </tr>\n",
              "    <tr>\n",
              "      <th>2013-10-03</th>\n",
              "      <td>108.58483</td>\n",
              "      <td>25</td>\n",
              "    </tr>\n",
              "    <tr>\n",
              "      <th>2013-10-04</th>\n",
              "      <td>118.67466</td>\n",
              "      <td>25</td>\n",
              "    </tr>\n",
              "    <tr>\n",
              "      <th>2013-10-05</th>\n",
              "      <td>121.33866</td>\n",
              "      <td>25</td>\n",
              "    </tr>\n",
              "  </tbody>\n",
              "</table>\n",
              "</div>"
            ],
            "text/plain": [
              "                Price block_reward\n",
              "Date                              \n",
              "2013-10-01  123.65499           25\n",
              "2013-10-02  125.45500           25\n",
              "2013-10-03  108.58483           25\n",
              "2013-10-04  118.67466           25\n",
              "2013-10-05  121.33866           25"
            ]
          },
          "metadata": {},
          "execution_count": 233
        }
      ]
    },
    {
      "cell_type": "code",
      "metadata": {
        "id": "UZxIs1LZQf2k",
        "colab": {
          "base_uri": "https://localhost:8080/",
          "height": 236
        },
        "outputId": "41ecd990-0202-4230-986a-8f883de8eb4d"
      },
      "source": [
        "bitcoin_prices_block.tail()"
      ],
      "execution_count": 234,
      "outputs": [
        {
          "output_type": "execute_result",
          "data": {
            "text/html": [
              "<div>\n",
              "<style scoped>\n",
              "    .dataframe tbody tr th:only-of-type {\n",
              "        vertical-align: middle;\n",
              "    }\n",
              "\n",
              "    .dataframe tbody tr th {\n",
              "        vertical-align: top;\n",
              "    }\n",
              "\n",
              "    .dataframe thead th {\n",
              "        text-align: right;\n",
              "    }\n",
              "</style>\n",
              "<table border=\"1\" class=\"dataframe\">\n",
              "  <thead>\n",
              "    <tr style=\"text-align: right;\">\n",
              "      <th></th>\n",
              "      <th>Price</th>\n",
              "      <th>block_reward</th>\n",
              "    </tr>\n",
              "    <tr>\n",
              "      <th>Date</th>\n",
              "      <th></th>\n",
              "      <th></th>\n",
              "    </tr>\n",
              "  </thead>\n",
              "  <tbody>\n",
              "    <tr>\n",
              "      <th>2021-05-14</th>\n",
              "      <td>49764.132082</td>\n",
              "      <td>6.25</td>\n",
              "    </tr>\n",
              "    <tr>\n",
              "      <th>2021-05-15</th>\n",
              "      <td>50032.693137</td>\n",
              "      <td>6.25</td>\n",
              "    </tr>\n",
              "    <tr>\n",
              "      <th>2021-05-16</th>\n",
              "      <td>47885.625255</td>\n",
              "      <td>6.25</td>\n",
              "    </tr>\n",
              "    <tr>\n",
              "      <th>2021-05-17</th>\n",
              "      <td>45604.615754</td>\n",
              "      <td>6.25</td>\n",
              "    </tr>\n",
              "    <tr>\n",
              "      <th>2021-05-18</th>\n",
              "      <td>43144.471291</td>\n",
              "      <td>6.25</td>\n",
              "    </tr>\n",
              "  </tbody>\n",
              "</table>\n",
              "</div>"
            ],
            "text/plain": [
              "                   Price block_reward\n",
              "Date                                 \n",
              "2021-05-14  49764.132082         6.25\n",
              "2021-05-15  50032.693137         6.25\n",
              "2021-05-16  47885.625255         6.25\n",
              "2021-05-17  45604.615754         6.25\n",
              "2021-05-18  43144.471291         6.25"
            ]
          },
          "metadata": {},
          "execution_count": 234
        }
      ]
    },
    {
      "cell_type": "code",
      "metadata": {
        "id": "SNv5LMQAQhh0",
        "colab": {
          "base_uri": "https://localhost:8080/",
          "height": 459
        },
        "outputId": "710c871e-b51b-475a-8019-1d9471d37610"
      },
      "source": [
        "#Plot the block reward vs price over time\n",
        "from sklearn.preprocessing import minmax_scale\n",
        "scaled_price_block_df = pd.DataFrame(minmax_scale(bitcoin_prices_block[[\"Price\", \"block_reward\"]]), columns=bitcoin_prices_block.columns,\n",
        "                                     index=bitcoin_prices_block.index)\n",
        "scaled_price_block_df.plot(figsize=(10,7))"
      ],
      "execution_count": 235,
      "outputs": [
        {
          "output_type": "execute_result",
          "data": {
            "text/plain": [
              "<matplotlib.axes._subplots.AxesSubplot at 0x7fbd93d84a90>"
            ]
          },
          "metadata": {},
          "execution_count": 235
        },
        {
          "output_type": "display_data",
          "data": {
            "image/png": "[encoded data removed]",
            "text/plain": [
              "<Figure size 720x504 with 1 Axes>"
            ]
          },
          "metadata": {
            "needs_background": "light"
          }
        }
      ]
    },
    {
      "cell_type": "markdown",
      "metadata": {
        "id": "z9ywAT20YhCP"
      },
      "source": [
        "## Making a windowd dataset with pandas\n",
        "\n",
        "Previously, we´ve turned our univariate time series into windowed dataset using the helper functions above. \n",
        "\n",
        "However, since we´ve got multivariate data, these functions won´t work. \n",
        "\n",
        "We can use the pandas.DataFrame.shift() method to window our multivariate data."
      ]
    },
    {
      "cell_type": "code",
      "metadata": {
        "id": "wgAM4nbuYkCl"
      },
      "source": [
        "HORIZON = 1\n",
        "WINDOW_SIZE = 7"
      ],
      "execution_count": 236,
      "outputs": []
    },
    {
      "cell_type": "code",
      "metadata": {
        "id": "KUYPolxAZA7b",
        "colab": {
          "base_uri": "https://localhost:8080/",
          "height": 585
        },
        "outputId": "fd8b67df-66dd-445d-a6c1-c91f7ed497e7"
      },
      "source": [
        "# Make a copy of Bitcoin historical data with block reward feature\n",
        "bitcoin_prices_windowed = bitcoin_prices_block.copy()\n",
        "\n",
        "#Add windowed columns\n",
        "for i in range(WINDOW_SIZE): #shift values for each step in WINDOW_SIE\n",
        "  bitcoin_prices_windowed[f\"Price+{i+1}\"] = bitcoin_prices_windowed[\"Price\"].shift(periods=i+1)\n",
        "bitcoin_prices_windowed.head(10)"
      ],
      "execution_count": 237,
      "outputs": [
        {
          "output_type": "execute_result",
          "data": {
            "text/html": [
              "<div>\n",
              "<style scoped>\n",
              "    .dataframe tbody tr th:only-of-type {\n",
              "        vertical-align: middle;\n",
              "    }\n",
              "\n",
              "    .dataframe tbody tr th {\n",
              "        vertical-align: top;\n",
              "    }\n",
              "\n",
              "    .dataframe thead th {\n",
              "        text-align: right;\n",
              "    }\n",
              "</style>\n",
              "<table border=\"1\" class=\"dataframe\">\n",
              "  <thead>\n",
              "    <tr style=\"text-align: right;\">\n",
              "      <th></th>\n",
              "      <th>Price</th>\n",
              "      <th>block_reward</th>\n",
              "      <th>Price+1</th>\n",
              "      <th>Price+2</th>\n",
              "      <th>Price+3</th>\n",
              "      <th>Price+4</th>\n",
              "      <th>Price+5</th>\n",
              "      <th>Price+6</th>\n",
              "      <th>Price+7</th>\n",
              "    </tr>\n",
              "    <tr>\n",
              "      <th>Date</th>\n",
              "      <th></th>\n",
              "      <th></th>\n",
              "      <th></th>\n",
              "      <th></th>\n",
              "      <th></th>\n",
              "      <th></th>\n",
              "      <th></th>\n",
              "      <th></th>\n",
              "      <th></th>\n",
              "    </tr>\n",
              "  </thead>\n",
              "  <tbody>\n",
              "    <tr>\n",
              "      <th>2013-10-01</th>\n",
              "      <td>123.65499</td>\n",
              "      <td>25</td>\n",
              "      <td>NaN</td>\n",
              "      <td>NaN</td>\n",
              "      <td>NaN</td>\n",
              "      <td>NaN</td>\n",
              "      <td>NaN</td>\n",
              "      <td>NaN</td>\n",
              "      <td>NaN</td>\n",
              "    </tr>\n",
              "    <tr>\n",
              "      <th>2013-10-02</th>\n",
              "      <td>125.45500</td>\n",
              "      <td>25</td>\n",
              "      <td>123.65499</td>\n",
              "      <td>NaN</td>\n",
              "      <td>NaN</td>\n",
              "      <td>NaN</td>\n",
              "      <td>NaN</td>\n",
              "      <td>NaN</td>\n",
              "      <td>NaN</td>\n",
              "    </tr>\n",
              "    <tr>\n",
              "      <th>2013-10-03</th>\n",
              "      <td>108.58483</td>\n",
              "      <td>25</td>\n",
              "      <td>125.45500</td>\n",
              "      <td>123.65499</td>\n",
              "      <td>NaN</td>\n",
              "      <td>NaN</td>\n",
              "      <td>NaN</td>\n",
              "      <td>NaN</td>\n",
              "      <td>NaN</td>\n",
              "    </tr>\n",
              "    <tr>\n",
              "      <th>2013-10-04</th>\n",
              "      <td>118.67466</td>\n",
              "      <td>25</td>\n",
              "      <td>108.58483</td>\n",
              "      <td>125.45500</td>\n",
              "      <td>123.65499</td>\n",
              "      <td>NaN</td>\n",
              "      <td>NaN</td>\n",
              "      <td>NaN</td>\n",
              "      <td>NaN</td>\n",
              "    </tr>\n",
              "    <tr>\n",
              "      <th>2013-10-05</th>\n",
              "      <td>121.33866</td>\n",
              "      <td>25</td>\n",
              "      <td>118.67466</td>\n",
              "      <td>108.58483</td>\n",
              "      <td>125.45500</td>\n",
              "      <td>123.65499</td>\n",
              "      <td>NaN</td>\n",
              "      <td>NaN</td>\n",
              "      <td>NaN</td>\n",
              "    </tr>\n",
              "    <tr>\n",
              "      <th>2013-10-06</th>\n",
              "      <td>120.65533</td>\n",
              "      <td>25</td>\n",
              "      <td>121.33866</td>\n",
              "      <td>118.67466</td>\n",
              "      <td>108.58483</td>\n",
              "      <td>125.45500</td>\n",
              "      <td>123.65499</td>\n",
              "      <td>NaN</td>\n",
              "      <td>NaN</td>\n",
              "    </tr>\n",
              "    <tr>\n",
              "      <th>2013-10-07</th>\n",
              "      <td>121.79500</td>\n",
              "      <td>25</td>\n",
              "      <td>120.65533</td>\n",
              "      <td>121.33866</td>\n",
              "      <td>118.67466</td>\n",
              "      <td>108.58483</td>\n",
              "      <td>125.45500</td>\n",
              "      <td>123.65499</td>\n",
              "      <td>NaN</td>\n",
              "    </tr>\n",
              "    <tr>\n",
              "      <th>2013-10-08</th>\n",
              "      <td>123.03300</td>\n",
              "      <td>25</td>\n",
              "      <td>121.79500</td>\n",
              "      <td>120.65533</td>\n",
              "      <td>121.33866</td>\n",
              "      <td>118.67466</td>\n",
              "      <td>108.58483</td>\n",
              "      <td>125.45500</td>\n",
              "      <td>123.65499</td>\n",
              "    </tr>\n",
              "    <tr>\n",
              "      <th>2013-10-09</th>\n",
              "      <td>124.04900</td>\n",
              "      <td>25</td>\n",
              "      <td>123.03300</td>\n",
              "      <td>121.79500</td>\n",
              "      <td>120.65533</td>\n",
              "      <td>121.33866</td>\n",
              "      <td>118.67466</td>\n",
              "      <td>108.58483</td>\n",
              "      <td>125.45500</td>\n",
              "    </tr>\n",
              "    <tr>\n",
              "      <th>2013-10-10</th>\n",
              "      <td>125.96116</td>\n",
              "      <td>25</td>\n",
              "      <td>124.04900</td>\n",
              "      <td>123.03300</td>\n",
              "      <td>121.79500</td>\n",
              "      <td>120.65533</td>\n",
              "      <td>121.33866</td>\n",
              "      <td>118.67466</td>\n",
              "      <td>108.58483</td>\n",
              "    </tr>\n",
              "  </tbody>\n",
              "</table>\n",
              "</div>"
            ],
            "text/plain": [
              "                Price block_reward    Price+1  ...    Price+5    Price+6    Price+7\n",
              "Date                                           ...                                 \n",
              "2013-10-01  123.65499           25        NaN  ...        NaN        NaN        NaN\n",
              "2013-10-02  125.45500           25  123.65499  ...        NaN        NaN        NaN\n",
              "2013-10-03  108.58483           25  125.45500  ...        NaN        NaN        NaN\n",
              "2013-10-04  118.67466           25  108.58483  ...        NaN        NaN        NaN\n",
              "2013-10-05  121.33866           25  118.67466  ...        NaN        NaN        NaN\n",
              "2013-10-06  120.65533           25  121.33866  ...  123.65499        NaN        NaN\n",
              "2013-10-07  121.79500           25  120.65533  ...  125.45500  123.65499        NaN\n",
              "2013-10-08  123.03300           25  121.79500  ...  108.58483  125.45500  123.65499\n",
              "2013-10-09  124.04900           25  123.03300  ...  118.67466  108.58483  125.45500\n",
              "2013-10-10  125.96116           25  124.04900  ...  121.33866  118.67466  108.58483\n",
              "\n",
              "[10 rows x 9 columns]"
            ]
          },
          "metadata": {},
          "execution_count": 237
        }
      ]
    },
    {
      "cell_type": "markdown",
      "metadata": {
        "id": "QCpf3p8cZva0"
      },
      "source": [
        "What we´ve done is created a way to window our dataset directly from a pandas dataframe.\n",
        "````\n",
        "[0, 1, 2, 3, 4, 5, 6, block_reward] -> [7]\n",
        "[1, 2, 3, 4, 5, 6, 7, block_reward] -> [8]\n",
        "[2, 3, 4, 5, 6, 7, 8 block_reward] -> [9]\n",
        "````"
      ]
    },
    {
      "cell_type": "code",
      "metadata": {
        "id": "GU7d31f3acWb",
        "colab": {
          "base_uri": "https://localhost:8080/",
          "height": 343
        },
        "outputId": "c61df64b-7fce-4339-8a8c-f093cfda2671"
      },
      "source": [
        "# Create x (windows) and y (horizon) features\n",
        "x = bitcoin_prices_windowed.dropna().drop(\"Price\", axis=1).astype(np.float32)\n",
        "y = bitcoin_prices_windowed.dropna()[\"Price\"].astype(np.float32)\n",
        "x.head()"
      ],
      "execution_count": 238,
      "outputs": [
        {
          "output_type": "execute_result",
          "data": {
            "text/html": [
              "<div>\n",
              "<style scoped>\n",
              "    .dataframe tbody tr th:only-of-type {\n",
              "        vertical-align: middle;\n",
              "    }\n",
              "\n",
              "    .dataframe tbody tr th {\n",
              "        vertical-align: top;\n",
              "    }\n",
              "\n",
              "    .dataframe thead th {\n",
              "        text-align: right;\n",
              "    }\n",
              "</style>\n",
              "<table border=\"1\" class=\"dataframe\">\n",
              "  <thead>\n",
              "    <tr style=\"text-align: right;\">\n",
              "      <th></th>\n",
              "      <th>block_reward</th>\n",
              "      <th>Price+1</th>\n",
              "      <th>Price+2</th>\n",
              "      <th>Price+3</th>\n",
              "      <th>Price+4</th>\n",
              "      <th>Price+5</th>\n",
              "      <th>Price+6</th>\n",
              "      <th>Price+7</th>\n",
              "    </tr>\n",
              "    <tr>\n",
              "      <th>Date</th>\n",
              "      <th></th>\n",
              "      <th></th>\n",
              "      <th></th>\n",
              "      <th></th>\n",
              "      <th></th>\n",
              "      <th></th>\n",
              "      <th></th>\n",
              "      <th></th>\n",
              "    </tr>\n",
              "  </thead>\n",
              "  <tbody>\n",
              "    <tr>\n",
              "      <th>2013-10-08</th>\n",
              "      <td>25.0</td>\n",
              "      <td>121.794998</td>\n",
              "      <td>120.655327</td>\n",
              "      <td>121.338661</td>\n",
              "      <td>118.674660</td>\n",
              "      <td>108.584831</td>\n",
              "      <td>125.455002</td>\n",
              "      <td>123.654991</td>\n",
              "    </tr>\n",
              "    <tr>\n",
              "      <th>2013-10-09</th>\n",
              "      <td>25.0</td>\n",
              "      <td>123.032997</td>\n",
              "      <td>121.794998</td>\n",
              "      <td>120.655327</td>\n",
              "      <td>121.338661</td>\n",
              "      <td>118.674660</td>\n",
              "      <td>108.584831</td>\n",
              "      <td>125.455002</td>\n",
              "    </tr>\n",
              "    <tr>\n",
              "      <th>2013-10-10</th>\n",
              "      <td>25.0</td>\n",
              "      <td>124.049004</td>\n",
              "      <td>123.032997</td>\n",
              "      <td>121.794998</td>\n",
              "      <td>120.655327</td>\n",
              "      <td>121.338661</td>\n",
              "      <td>118.674660</td>\n",
              "      <td>108.584831</td>\n",
              "    </tr>\n",
              "    <tr>\n",
              "      <th>2013-10-11</th>\n",
              "      <td>25.0</td>\n",
              "      <td>125.961159</td>\n",
              "      <td>124.049004</td>\n",
              "      <td>123.032997</td>\n",
              "      <td>121.794998</td>\n",
              "      <td>120.655327</td>\n",
              "      <td>121.338661</td>\n",
              "      <td>118.674660</td>\n",
              "    </tr>\n",
              "    <tr>\n",
              "      <th>2013-10-12</th>\n",
              "      <td>25.0</td>\n",
              "      <td>125.279663</td>\n",
              "      <td>125.961159</td>\n",
              "      <td>124.049004</td>\n",
              "      <td>123.032997</td>\n",
              "      <td>121.794998</td>\n",
              "      <td>120.655327</td>\n",
              "      <td>121.338661</td>\n",
              "    </tr>\n",
              "  </tbody>\n",
              "</table>\n",
              "</div>"
            ],
            "text/plain": [
              "            block_reward     Price+1  ...     Price+6     Price+7\n",
              "Date                                  ...                        \n",
              "2013-10-08          25.0  121.794998  ...  125.455002  123.654991\n",
              "2013-10-09          25.0  123.032997  ...  108.584831  125.455002\n",
              "2013-10-10          25.0  124.049004  ...  118.674660  108.584831\n",
              "2013-10-11          25.0  125.961159  ...  121.338661  118.674660\n",
              "2013-10-12          25.0  125.279663  ...  120.655327  121.338661\n",
              "\n",
              "[5 rows x 8 columns]"
            ]
          },
          "metadata": {},
          "execution_count": 238
        }
      ]
    },
    {
      "cell_type": "code",
      "metadata": {
        "id": "Qqne9UryazjZ",
        "colab": {
          "base_uri": "https://localhost:8080/"
        },
        "outputId": "c7939cbf-c722-465a-cfcb-0d9c04aa05a1"
      },
      "source": [
        "y.head()"
      ],
      "execution_count": 239,
      "outputs": [
        {
          "output_type": "execute_result",
          "data": {
            "text/plain": [
              "Date\n",
              "2013-10-08    123.032997\n",
              "2013-10-09    124.049004\n",
              "2013-10-10    125.961159\n",
              "2013-10-11    125.279663\n",
              "2013-10-12    125.927498\n",
              "Name: Price, dtype: float32"
            ]
          },
          "metadata": {},
          "execution_count": 239
        }
      ]
    },
    {
      "cell_type": "code",
      "metadata": {
        "id": "PYeZ2v2Ja8H_",
        "colab": {
          "base_uri": "https://localhost:8080/"
        },
        "outputId": "faef69bd-0678-4c86-a9c0-b22821d040b7"
      },
      "source": [
        "# Make train and test sets using indexing\n",
        "split_size = int(len(x)*0.8)\n",
        "x_train, y_train = x[:split_size], y[:split_size]\n",
        "x_test, y_test = x[split_size:], y[split_size:]\n",
        "len(x_train), len(y_train), len(x_test), len(y_test)"
      ],
      "execution_count": 240,
      "outputs": [
        {
          "output_type": "execute_result",
          "data": {
            "text/plain": [
              "(2224, 2224, 556, 556)"
            ]
          },
          "metadata": {},
          "execution_count": 240
        }
      ]
    },
    {
      "cell_type": "markdown",
      "metadata": {
        "id": "lI99-oQDcLwU"
      },
      "source": [
        "## Model 6: Dense (multivariate time series)"
      ]
    },
    {
      "cell_type": "code",
      "metadata": {
        "id": "sAd-2uolcpzF"
      },
      "source": [
        "tf.random.set_seed(42)\n",
        "\n",
        "#Build the model \n",
        "model_6 = tf.keras.Sequential([\n",
        "                               layers.Dense(128, activation=\"relu\"),\n",
        "                               layers.Dense(HORIZON)\n",
        "], name=\"model_6_dense_multivariate\")"
      ],
      "execution_count": 241,
      "outputs": []
    },
    {
      "cell_type": "code",
      "metadata": {
        "id": "JPArJccRc-wH"
      },
      "source": [
        "#Compile the model\n",
        "model_6.compile(loss=\"mae\", optimizer=\"Adam\", metrics=[\"mae\", \"mse\"])"
      ],
      "execution_count": 242,
      "outputs": []
    },
    {
      "cell_type": "code",
      "metadata": {
        "id": "j53scmaBdKK2",
        "colab": {
          "base_uri": "https://localhost:8080/"
        },
        "outputId": "256610cf-1e7e-4903-c366-3ce1c8627af3"
      },
      "source": [
        "#Fit the model \n",
        "model_6.fit(x_train, y_train, \n",
        "            epochs=100, batch_size=128,\n",
        "            verbose=1,\n",
        "            validation_data=(x_test, y_test),\n",
        "            callbacks=[create_model_checkpoint(model_6.name)])"
      ],
      "execution_count": 243,
      "outputs": [
        {
          "output_type": "stream",
          "text": [
            "Epoch 1/100\n",
            "18/18 [==============================] - 1s 13ms/step - loss: 1234.6880 - mae: 1234.6880 - mse: 5282050.0000 - val_loss: 2061.8428 - val_mae: 2061.8428 - val_mse: 11377038.0000\n",
            "INFO:tensorflow:Assets written to: model_experiments/model_6_dense_multivariate/assets\n",
            "Epoch 2/100\n",
            "18/18 [==============================] - 0s 4ms/step - loss: 351.5003 - mae: 351.5003 - mse: 499344.8750 - val_loss: 1908.7257 - val_mae: 1908.7257 - val_mse: 8719859.0000\n",
            "INFO:tensorflow:Assets written to: model_experiments/model_6_dense_multivariate/assets\n",
            "Epoch 3/100\n",
            "18/18 [==============================] - 0s 4ms/step - loss: 235.4110 - mae: 235.4110 - mse: 275999.5938 - val_loss: 1329.5310 - val_mae: 1329.5310 - val_mse: 4993977.0000\n",
            "INFO:tensorflow:Assets written to: model_experiments/model_6_dense_multivariate/assets\n",
            "Epoch 4/100\n",
            "18/18 [==============================] - 0s 4ms/step - loss: 208.6456 - mae: 208.6456 - mse: 219543.2344 - val_loss: 1102.0128 - val_mae: 1102.0128 - val_mse: 3934337.0000\n",
            "INFO:tensorflow:Assets written to: model_experiments/model_6_dense_multivariate/assets\n",
            "Epoch 5/100\n",
            "18/18 [==============================] - 0s 4ms/step - loss: 196.5595 - mae: 196.5595 - mse: 204270.5000 - val_loss: 1108.6157 - val_mae: 1108.6157 - val_mse: 3824640.5000\n",
            "Epoch 6/100\n",
            "18/18 [==============================] - 0s 4ms/step - loss: 187.2317 - mae: 187.2317 - mse: 185756.2812 - val_loss: 1035.9969 - val_mae: 1035.9969 - val_mse: 3600834.7500\n",
            "INFO:tensorflow:Assets written to: model_experiments/model_6_dense_multivariate/assets\n",
            "Epoch 7/100\n",
            "18/18 [==============================] - 0s 3ms/step - loss: 182.0119 - mae: 182.0119 - mse: 177458.8125 - val_loss: 1019.2738 - val_mae: 1019.2738 - val_mse: 3334010.0000\n",
            "INFO:tensorflow:Assets written to: model_experiments/model_6_dense_multivariate/assets\n",
            "Epoch 8/100\n",
            "18/18 [==============================] - 0s 5ms/step - loss: 175.6998 - mae: 175.6998 - mse: 166072.8750 - val_loss: 977.7345 - val_mae: 977.7345 - val_mse: 3113923.7500\n",
            "INFO:tensorflow:Assets written to: model_experiments/model_6_dense_multivariate/assets\n",
            "Epoch 9/100\n",
            "18/18 [==============================] - 0s 4ms/step - loss: 170.1650 - mae: 170.1650 - mse: 157907.2812 - val_loss: 953.9047 - val_mae: 953.9047 - val_mse: 2928807.2500\n",
            "INFO:tensorflow:Assets written to: model_experiments/model_6_dense_multivariate/assets\n",
            "Epoch 10/100\n",
            "18/18 [==============================] - 0s 5ms/step - loss: 164.3849 - mae: 164.3849 - mse: 149551.0000 - val_loss: 912.1832 - val_mae: 912.1832 - val_mse: 2722488.0000\n",
            "INFO:tensorflow:Assets written to: model_experiments/model_6_dense_multivariate/assets\n",
            "Epoch 11/100\n",
            "18/18 [==============================] - 0s 3ms/step - loss: 158.0432 - mae: 158.0432 - mse: 137419.4062 - val_loss: 871.2955 - val_mae: 871.2955 - val_mse: 2498150.7500\n",
            "INFO:tensorflow:Assets written to: model_experiments/model_6_dense_multivariate/assets\n",
            "Epoch 12/100\n",
            "18/18 [==============================] - 0s 4ms/step - loss: 151.8589 - mae: 151.8589 - mse: 128140.1172 - val_loss: 853.0025 - val_mae: 853.0025 - val_mse: 2363184.0000\n",
            "INFO:tensorflow:Assets written to: model_experiments/model_6_dense_multivariate/assets\n",
            "Epoch 13/100\n",
            "18/18 [==============================] - 0s 5ms/step - loss: 150.1562 - mae: 150.1562 - mse: 124871.9297 - val_loss: 899.1047 - val_mae: 899.1047 - val_mse: 2411405.2500\n",
            "Epoch 14/100\n",
            "18/18 [==============================] - 0s 4ms/step - loss: 147.8199 - mae: 147.8199 - mse: 117972.5391 - val_loss: 845.0212 - val_mae: 845.0212 - val_mse: 2213577.7500\n",
            "INFO:tensorflow:Assets written to: model_experiments/model_6_dense_multivariate/assets\n",
            "Epoch 15/100\n",
            "18/18 [==============================] - 0s 3ms/step - loss: 142.5173 - mae: 142.5173 - mse: 113603.7734 - val_loss: 788.1892 - val_mae: 788.1892 - val_mse: 2021010.0000\n",
            "INFO:tensorflow:Assets written to: model_experiments/model_6_dense_multivariate/assets\n",
            "Epoch 16/100\n",
            "18/18 [==============================] - 0s 5ms/step - loss: 137.1697 - mae: 137.1697 - mse: 106446.8125 - val_loss: 770.6404 - val_mae: 770.6404 - val_mse: 1932612.3750\n",
            "INFO:tensorflow:Assets written to: model_experiments/model_6_dense_multivariate/assets\n",
            "Epoch 17/100\n",
            "18/18 [==============================] - 0s 5ms/step - loss: 136.0208 - mae: 136.0208 - mse: 104429.5703 - val_loss: 763.1682 - val_mae: 763.1682 - val_mse: 1875624.2500\n",
            "INFO:tensorflow:Assets written to: model_experiments/model_6_dense_multivariate/assets\n",
            "Epoch 18/100\n",
            "18/18 [==============================] - 0s 5ms/step - loss: 135.4696 - mae: 135.4696 - mse: 103320.6406 - val_loss: 753.5217 - val_mae: 753.5217 - val_mse: 1817786.1250\n",
            "INFO:tensorflow:Assets written to: model_experiments/model_6_dense_multivariate/assets\n",
            "Epoch 19/100\n",
            "18/18 [==============================] - 0s 3ms/step - loss: 130.7954 - mae: 130.7954 - mse: 96697.9531 - val_loss: 758.8008 - val_mae: 758.8008 - val_mse: 1803595.7500\n",
            "Epoch 20/100\n",
            "18/18 [==============================] - 0s 4ms/step - loss: 128.6773 - mae: 128.6773 - mse: 93932.2031 - val_loss: 703.7003 - val_mae: 703.7003 - val_mse: 1685281.5000\n",
            "INFO:tensorflow:Assets written to: model_experiments/model_6_dense_multivariate/assets\n",
            "Epoch 21/100\n",
            "18/18 [==============================] - 0s 4ms/step - loss: 129.2461 - mae: 129.2461 - mse: 95772.7969 - val_loss: 693.4249 - val_mae: 693.4249 - val_mse: 1604999.1250\n",
            "INFO:tensorflow:Assets written to: model_experiments/model_6_dense_multivariate/assets\n",
            "Epoch 22/100\n",
            "18/18 [==============================] - 0s 5ms/step - loss: 125.8202 - mae: 125.8202 - mse: 91148.3516 - val_loss: 703.4455 - val_mae: 703.4455 - val_mse: 1602358.5000\n",
            "Epoch 23/100\n",
            "18/18 [==============================] - 0s 6ms/step - loss: 127.8713 - mae: 127.8713 - mse: 92208.8594 - val_loss: 698.5743 - val_mae: 698.5743 - val_mse: 1577815.0000\n",
            "Epoch 24/100\n",
            "18/18 [==============================] - 0s 6ms/step - loss: 122.4124 - mae: 122.4124 - mse: 86325.8984 - val_loss: 672.5024 - val_mae: 672.5024 - val_mse: 1502179.8750\n",
            "INFO:tensorflow:Assets written to: model_experiments/model_6_dense_multivariate/assets\n",
            "Epoch 25/100\n",
            "18/18 [==============================] - 0s 4ms/step - loss: 121.3311 - mae: 121.3311 - mse: 84655.7656 - val_loss: 666.3888 - val_mae: 666.3888 - val_mse: 1535735.5000\n",
            "INFO:tensorflow:Assets written to: model_experiments/model_6_dense_multivariate/assets\n",
            "Epoch 26/100\n",
            "18/18 [==============================] - 0s 5ms/step - loss: 127.9873 - mae: 127.9873 - mse: 87865.1172 - val_loss: 693.5915 - val_mae: 693.5915 - val_mse: 1619565.1250\n",
            "Epoch 27/100\n",
            "18/18 [==============================] - 0s 5ms/step - loss: 124.8371 - mae: 124.8371 - mse: 87765.9141 - val_loss: 645.3121 - val_mae: 645.3121 - val_mse: 1444357.2500\n",
            "INFO:tensorflow:Assets written to: model_experiments/model_6_dense_multivariate/assets\n",
            "Epoch 28/100\n",
            "18/18 [==============================] - 0s 4ms/step - loss: 119.8579 - mae: 119.8579 - mse: 82617.5391 - val_loss: 641.3582 - val_mae: 641.3582 - val_mse: 1400302.5000\n",
            "INFO:tensorflow:Assets written to: model_experiments/model_6_dense_multivariate/assets\n",
            "Epoch 29/100\n",
            "18/18 [==============================] - 0s 4ms/step - loss: 121.2880 - mae: 121.2880 - mse: 84083.4844 - val_loss: 665.6819 - val_mae: 665.6819 - val_mse: 1450774.6250\n",
            "Epoch 30/100\n",
            "18/18 [==============================] - 0s 4ms/step - loss: 121.1822 - mae: 121.1822 - mse: 82763.6250 - val_loss: 640.8664 - val_mae: 640.8664 - val_mse: 1387470.6250\n",
            "INFO:tensorflow:Assets written to: model_experiments/model_6_dense_multivariate/assets\n",
            "Epoch 31/100\n",
            "18/18 [==============================] - 0s 4ms/step - loss: 120.4115 - mae: 120.4115 - mse: 80479.9531 - val_loss: 667.9379 - val_mae: 667.9379 - val_mse: 1448050.1250\n",
            "Epoch 32/100\n",
            "18/18 [==============================] - 0s 4ms/step - loss: 118.3126 - mae: 118.3126 - mse: 82307.6016 - val_loss: 618.9241 - val_mae: 618.9241 - val_mse: 1338883.5000\n",
            "INFO:tensorflow:Assets written to: model_experiments/model_6_dense_multivariate/assets\n",
            "Epoch 33/100\n",
            "18/18 [==============================] - 0s 4ms/step - loss: 115.8836 - mae: 115.8836 - mse: 79019.8203 - val_loss: 621.7647 - val_mae: 621.7647 - val_mse: 1334119.7500\n",
            "Epoch 34/100\n",
            "18/18 [==============================] - 0s 4ms/step - loss: 114.9744 - mae: 114.9744 - mse: 79310.5703 - val_loss: 611.1620 - val_mae: 611.1620 - val_mse: 1313138.8750\n",
            "INFO:tensorflow:Assets written to: model_experiments/model_6_dense_multivariate/assets\n",
            "Epoch 35/100\n",
            "18/18 [==============================] - 0s 5ms/step - loss: 112.5883 - mae: 112.5883 - mse: 77038.6641 - val_loss: 615.9453 - val_mae: 615.9453 - val_mse: 1334109.6250\n",
            "Epoch 36/100\n",
            "18/18 [==============================] - 0s 4ms/step - loss: 115.2489 - mae: 115.2489 - mse: 76446.9219 - val_loss: 616.3082 - val_mae: 616.3082 - val_mse: 1308276.2500\n",
            "Epoch 37/100\n",
            "18/18 [==============================] - 0s 6ms/step - loss: 114.1561 - mae: 114.1561 - mse: 77623.8750 - val_loss: 612.4215 - val_mae: 612.4215 - val_mse: 1318221.8750\n",
            "Epoch 38/100\n",
            "18/18 [==============================] - 0s 4ms/step - loss: 111.4725 - mae: 111.4725 - mse: 75819.2344 - val_loss: 602.2148 - val_mae: 602.2148 - val_mse: 1287851.2500\n",
            "INFO:tensorflow:Assets written to: model_experiments/model_6_dense_multivariate/assets\n",
            "Epoch 39/100\n",
            "18/18 [==============================] - 0s 5ms/step - loss: 113.2853 - mae: 113.2853 - mse: 75405.0156 - val_loss: 597.4948 - val_mae: 597.4948 - val_mse: 1273443.0000\n",
            "INFO:tensorflow:Assets written to: model_experiments/model_6_dense_multivariate/assets\n",
            "Epoch 40/100\n",
            "18/18 [==============================] - 0s 3ms/step - loss: 109.8442 - mae: 109.8442 - mse: 73324.2266 - val_loss: 594.1258 - val_mae: 594.1258 - val_mse: 1262873.3750\n",
            "INFO:tensorflow:Assets written to: model_experiments/model_6_dense_multivariate/assets\n",
            "Epoch 41/100\n",
            "18/18 [==============================] - 0s 4ms/step - loss: 110.6678 - mae: 110.6678 - mse: 73703.0312 - val_loss: 618.8127 - val_mae: 618.8127 - val_mse: 1322828.3750\n",
            "Epoch 42/100\n",
            "18/18 [==============================] - 0s 5ms/step - loss: 115.6730 - mae: 115.6730 - mse: 77966.6641 - val_loss: 597.8893 - val_mae: 597.8893 - val_mse: 1253117.2500\n",
            "Epoch 43/100\n",
            "18/18 [==============================] - 0s 5ms/step - loss: 110.8469 - mae: 110.8469 - mse: 72742.2266 - val_loss: 598.7606 - val_mae: 598.7606 - val_mse: 1267855.6250\n",
            "Epoch 44/100\n",
            "18/18 [==============================] - 0s 5ms/step - loss: 109.6574 - mae: 109.6574 - mse: 72236.6484 - val_loss: 589.3675 - val_mae: 589.3675 - val_mse: 1234226.5000\n",
            "INFO:tensorflow:Assets written to: model_experiments/model_6_dense_multivariate/assets\n",
            "Epoch 45/100\n",
            "18/18 [==============================] - 0s 4ms/step - loss: 108.7725 - mae: 108.7725 - mse: 72433.4141 - val_loss: 611.4677 - val_mae: 611.4677 - val_mse: 1300958.2500\n",
            "Epoch 46/100\n",
            "18/18 [==============================] - 0s 4ms/step - loss: 109.6011 - mae: 109.6011 - mse: 72150.5547 - val_loss: 587.5851 - val_mae: 587.5851 - val_mse: 1227366.6250\n",
            "INFO:tensorflow:Assets written to: model_experiments/model_6_dense_multivariate/assets\n",
            "Epoch 47/100\n",
            "18/18 [==============================] - 0s 3ms/step - loss: 110.3633 - mae: 110.3633 - mse: 73703.0938 - val_loss: 634.5783 - val_mae: 634.5783 - val_mse: 1320041.0000\n",
            "Epoch 48/100\n",
            "18/18 [==============================] - 0s 4ms/step - loss: 109.3613 - mae: 109.3613 - mse: 73046.9453 - val_loss: 641.6937 - val_mae: 641.6937 - val_mse: 1335586.0000\n",
            "Epoch 49/100\n",
            "18/18 [==============================] - 0s 4ms/step - loss: 112.7560 - mae: 112.7560 - mse: 72875.9297 - val_loss: 581.5450 - val_mae: 581.5450 - val_mse: 1217599.2500\n",
            "INFO:tensorflow:Assets written to: model_experiments/model_6_dense_multivariate/assets\n",
            "Epoch 50/100\n",
            "18/18 [==============================] - 0s 3ms/step - loss: 108.7167 - mae: 108.7167 - mse: 72105.1562 - val_loss: 645.5009 - val_mae: 645.5009 - val_mse: 1374906.8750\n",
            "Epoch 51/100\n",
            "18/18 [==============================] - 0s 3ms/step - loss: 110.1508 - mae: 110.1508 - mse: 71991.9922 - val_loss: 601.1287 - val_mae: 601.1287 - val_mse: 1244263.7500\n",
            "Epoch 52/100\n",
            "18/18 [==============================] - 0s 4ms/step - loss: 111.2310 - mae: 111.2310 - mse: 74396.3203 - val_loss: 604.3257 - val_mae: 604.3257 - val_mse: 1269128.1250\n",
            "Epoch 53/100\n",
            "18/18 [==============================] - 0s 5ms/step - loss: 111.7207 - mae: 111.7207 - mse: 73800.9297 - val_loss: 637.5742 - val_mae: 637.5742 - val_mse: 1322578.8750\n",
            "Epoch 54/100\n",
            "18/18 [==============================] - 0s 5ms/step - loss: 113.4848 - mae: 113.4848 - mse: 73711.8359 - val_loss: 598.4409 - val_mae: 598.4409 - val_mse: 1237099.3750\n",
            "Epoch 55/100\n",
            "18/18 [==============================] - 0s 4ms/step - loss: 109.9909 - mae: 109.9909 - mse: 73432.2656 - val_loss: 575.7907 - val_mae: 575.7907 - val_mse: 1199471.2500\n",
            "INFO:tensorflow:Assets written to: model_experiments/model_6_dense_multivariate/assets\n",
            "Epoch 56/100\n",
            "18/18 [==============================] - 0s 4ms/step - loss: 108.7174 - mae: 108.7174 - mse: 71424.2578 - val_loss: 778.8625 - val_mae: 778.8625 - val_mse: 1773976.3750\n",
            "Epoch 57/100\n",
            "18/18 [==============================] - 0s 5ms/step - loss: 124.3417 - mae: 124.3417 - mse: 82416.2266 - val_loss: 684.9153 - val_mae: 684.9153 - val_mse: 1475673.7500\n",
            "Epoch 58/100\n",
            "18/18 [==============================] - 0s 6ms/step - loss: 113.7253 - mae: 113.7253 - mse: 72274.9219 - val_loss: 578.1130 - val_mae: 578.1130 - val_mse: 1198507.0000\n",
            "Epoch 59/100\n",
            "18/18 [==============================] - 0s 5ms/step - loss: 106.6669 - mae: 106.6669 - mse: 70464.3750 - val_loss: 587.5096 - val_mae: 587.5096 - val_mse: 1228943.0000\n",
            "Epoch 60/100\n",
            "18/18 [==============================] - 0s 5ms/step - loss: 107.3718 - mae: 107.3718 - mse: 71633.9766 - val_loss: 604.5571 - val_mae: 604.5571 - val_mse: 1244550.0000\n",
            "Epoch 61/100\n",
            "18/18 [==============================] - 0s 6ms/step - loss: 107.3551 - mae: 107.3551 - mse: 71162.2891 - val_loss: 579.4926 - val_mae: 579.4926 - val_mse: 1194421.3750\n",
            "Epoch 62/100\n",
            "18/18 [==============================] - 0s 4ms/step - loss: 107.1465 - mae: 107.1465 - mse: 69938.1953 - val_loss: 590.5033 - val_mae: 590.5033 - val_mse: 1231675.8750\n",
            "Epoch 63/100\n",
            "18/18 [==============================] - 0s 4ms/step - loss: 110.3243 - mae: 110.3243 - mse: 72281.5625 - val_loss: 656.7147 - val_mae: 656.7147 - val_mse: 1358047.2500\n",
            "Epoch 64/100\n",
            "18/18 [==============================] - 0s 4ms/step - loss: 111.4401 - mae: 111.4401 - mse: 72135.3203 - val_loss: 695.9143 - val_mae: 695.9143 - val_mse: 1451957.8750\n",
            "Epoch 65/100\n",
            "18/18 [==============================] - 0s 5ms/step - loss: 112.8277 - mae: 112.8277 - mse: 73845.6641 - val_loss: 571.7211 - val_mae: 571.7211 - val_mse: 1183742.6250\n",
            "INFO:tensorflow:Assets written to: model_experiments/model_6_dense_multivariate/assets\n",
            "Epoch 66/100\n",
            "18/18 [==============================] - 0s 5ms/step - loss: 111.0755 - mae: 111.0755 - mse: 71181.4531 - val_loss: 586.5437 - val_mae: 586.5437 - val_mse: 1218338.3750\n",
            "Epoch 67/100\n",
            "18/18 [==============================] - 0s 5ms/step - loss: 106.8978 - mae: 106.8978 - mse: 69632.9922 - val_loss: 605.0884 - val_mae: 605.0884 - val_mse: 1260862.5000\n",
            "Epoch 68/100\n",
            "18/18 [==============================] - 0s 4ms/step - loss: 112.7144 - mae: 112.7144 - mse: 70660.8750 - val_loss: 721.4471 - val_mae: 721.4471 - val_mse: 1565413.2500\n",
            "Epoch 69/100\n",
            "18/18 [==============================] - 0s 5ms/step - loss: 125.0427 - mae: 125.0427 - mse: 81517.9531 - val_loss: 675.2717 - val_mae: 675.2717 - val_mse: 1431834.2500\n",
            "Epoch 70/100\n",
            "18/18 [==============================] - 0s 4ms/step - loss: 120.6351 - mae: 120.6351 - mse: 78973.5859 - val_loss: 583.3199 - val_mae: 583.3199 - val_mse: 1212215.5000\n",
            "Epoch 71/100\n",
            "18/18 [==============================] - 0s 5ms/step - loss: 110.7660 - mae: 110.7660 - mse: 71761.7500 - val_loss: 617.2175 - val_mae: 617.2175 - val_mse: 1266721.3750\n",
            "Epoch 72/100\n",
            "18/18 [==============================] - 0s 4ms/step - loss: 107.5005 - mae: 107.5005 - mse: 70355.2031 - val_loss: 573.3948 - val_mae: 573.3948 - val_mse: 1178899.3750\n",
            "Epoch 73/100\n",
            "18/18 [==============================] - 0s 4ms/step - loss: 109.0864 - mae: 109.0864 - mse: 70905.5234 - val_loss: 598.6362 - val_mae: 598.6362 - val_mse: 1246067.1250\n",
            "Epoch 74/100\n",
            "18/18 [==============================] - 0s 4ms/step - loss: 106.1097 - mae: 106.1097 - mse: 70079.0469 - val_loss: 585.1651 - val_mae: 585.1651 - val_mse: 1214755.7500\n",
            "Epoch 75/100\n",
            "18/18 [==============================] - 0s 5ms/step - loss: 108.0799 - mae: 108.0799 - mse: 70711.2656 - val_loss: 595.4968 - val_mae: 595.4968 - val_mse: 1219115.2500\n",
            "Epoch 76/100\n",
            "18/18 [==============================] - 0s 5ms/step - loss: 106.6665 - mae: 106.6665 - mse: 69752.8516 - val_loss: 572.6196 - val_mae: 572.6196 - val_mse: 1182537.0000\n",
            "Epoch 77/100\n",
            "18/18 [==============================] - 0s 5ms/step - loss: 106.8613 - mae: 106.8613 - mse: 69524.9922 - val_loss: 569.7401 - val_mae: 569.7401 - val_mse: 1173944.0000\n",
            "INFO:tensorflow:Assets written to: model_experiments/model_6_dense_multivariate/assets\n",
            "Epoch 78/100\n",
            "18/18 [==============================] - 0s 4ms/step - loss: 106.2962 - mae: 106.2962 - mse: 68716.6875 - val_loss: 569.5538 - val_mae: 569.5538 - val_mse: 1173603.8750\n",
            "INFO:tensorflow:Assets written to: model_experiments/model_6_dense_multivariate/assets\n",
            "Epoch 79/100\n",
            "18/18 [==============================] - 0s 4ms/step - loss: 105.4122 - mae: 105.4122 - mse: 69722.0234 - val_loss: 587.1070 - val_mae: 587.1070 - val_mse: 1215949.6250\n",
            "Epoch 80/100\n",
            "18/18 [==============================] - 0s 4ms/step - loss: 106.3550 - mae: 106.3550 - mse: 70086.5781 - val_loss: 575.5290 - val_mae: 575.5290 - val_mse: 1179261.3750\n",
            "Epoch 81/100\n",
            "18/18 [==============================] - 0s 4ms/step - loss: 105.4703 - mae: 105.4703 - mse: 69177.1875 - val_loss: 573.0557 - val_mae: 573.0557 - val_mse: 1181966.5000\n",
            "Epoch 82/100\n",
            "18/18 [==============================] - 0s 4ms/step - loss: 111.8128 - mae: 111.8128 - mse: 73886.2344 - val_loss: 569.2513 - val_mae: 569.2513 - val_mse: 1171635.8750\n",
            "INFO:tensorflow:Assets written to: model_experiments/model_6_dense_multivariate/assets\n",
            "Epoch 83/100\n",
            "18/18 [==============================] - 0s 4ms/step - loss: 110.6720 - mae: 110.6720 - mse: 72096.4609 - val_loss: 643.0087 - val_mae: 643.0087 - val_mse: 1340923.1250\n",
            "Epoch 84/100\n",
            "18/18 [==============================] - 0s 5ms/step - loss: 110.1933 - mae: 110.1933 - mse: 71278.3750 - val_loss: 578.6856 - val_mae: 578.6856 - val_mse: 1197213.3750\n",
            "Epoch 85/100\n",
            "18/18 [==============================] - 0s 4ms/step - loss: 105.9973 - mae: 105.9973 - mse: 69371.0000 - val_loss: 580.7695 - val_mae: 580.7695 - val_mse: 1184941.2500\n",
            "Epoch 86/100\n",
            "18/18 [==============================] - 0s 5ms/step - loss: 106.2998 - mae: 106.2998 - mse: 68593.2969 - val_loss: 574.9779 - val_mae: 574.9779 - val_mse: 1175416.5000\n",
            "Epoch 87/100\n",
            "18/18 [==============================] - 0s 4ms/step - loss: 104.6251 - mae: 104.6251 - mse: 67828.4141 - val_loss: 579.1241 - val_mae: 579.1241 - val_mse: 1193116.6250\n",
            "Epoch 88/100\n",
            "18/18 [==============================] - 0s 5ms/step - loss: 105.5786 - mae: 105.5786 - mse: 69725.0078 - val_loss: 578.4373 - val_mae: 578.4373 - val_mse: 1195784.8750\n",
            "Epoch 89/100\n",
            "18/18 [==============================] - 0s 4ms/step - loss: 106.2337 - mae: 106.2337 - mse: 68354.6484 - val_loss: 568.6227 - val_mae: 568.6227 - val_mse: 1169309.6250\n",
            "INFO:tensorflow:Assets written to: model_experiments/model_6_dense_multivariate/assets\n",
            "Epoch 90/100\n",
            "18/18 [==============================] - 0s 3ms/step - loss: 104.4805 - mae: 104.4805 - mse: 66735.9375 - val_loss: 603.5798 - val_mae: 603.5798 - val_mse: 1229115.2500\n",
            "Epoch 91/100\n",
            "18/18 [==============================] - 0s 4ms/step - loss: 107.7674 - mae: 107.7674 - mse: 70261.0938 - val_loss: 609.6341 - val_mae: 609.6341 - val_mse: 1266757.5000\n",
            "Epoch 92/100\n",
            "18/18 [==============================] - 0s 5ms/step - loss: 107.0758 - mae: 107.0758 - mse: 69793.9531 - val_loss: 578.5632 - val_mae: 578.5632 - val_mse: 1195611.3750\n",
            "Epoch 93/100\n",
            "18/18 [==============================] - 0s 4ms/step - loss: 113.8534 - mae: 113.8534 - mse: 73303.8125 - val_loss: 660.6237 - val_mae: 660.6237 - val_mse: 1382419.5000\n",
            "Epoch 94/100\n",
            "18/18 [==============================] - 0s 4ms/step - loss: 110.9860 - mae: 110.9860 - mse: 72691.5000 - val_loss: 569.0581 - val_mae: 569.0581 - val_mse: 1165801.1250\n",
            "Epoch 95/100\n",
            "18/18 [==============================] - 0s 4ms/step - loss: 106.0804 - mae: 106.0804 - mse: 69131.0156 - val_loss: 591.7418 - val_mae: 591.7418 - val_mse: 1202696.5000\n",
            "Epoch 96/100\n",
            "18/18 [==============================] - 0s 5ms/step - loss: 114.2290 - mae: 114.2290 - mse: 73379.3672 - val_loss: 611.8512 - val_mae: 611.8512 - val_mse: 1270329.3750\n",
            "Epoch 97/100\n",
            "18/18 [==============================] - 0s 5ms/step - loss: 107.7527 - mae: 107.7527 - mse: 70572.7266 - val_loss: 584.7686 - val_mae: 584.7686 - val_mse: 1210021.3750\n",
            "Epoch 98/100\n",
            "18/18 [==============================] - 0s 5ms/step - loss: 107.8530 - mae: 107.8530 - mse: 69715.1562 - val_loss: 583.5021 - val_mae: 583.5021 - val_mse: 1187392.7500\n",
            "Epoch 99/100\n",
            "18/18 [==============================] - 0s 5ms/step - loss: 108.0866 - mae: 108.0866 - mse: 69757.5156 - val_loss: 568.3345 - val_mae: 568.3345 - val_mse: 1164859.1250\n",
            "INFO:tensorflow:Assets written to: model_experiments/model_6_dense_multivariate/assets\n",
            "Epoch 100/100\n",
            "18/18 [==============================] - 0s 5ms/step - loss: 108.8599 - mae: 108.8599 - mse: 68655.1641 - val_loss: 645.7142 - val_mae: 645.7142 - val_mse: 1322403.2500\n"
          ],
          "name": "stdout"
        },
        {
          "output_type": "execute_result",
          "data": {
            "text/plain": [
              "<keras.callbacks.History at 0x7fbd9d97ec90>"
            ]
          },
          "metadata": {},
          "execution_count": 243
        }
      ]
    },
    {
      "cell_type": "code",
      "metadata": {
        "id": "bM6IcGGFddJy",
        "colab": {
          "base_uri": "https://localhost:8080/"
        },
        "outputId": "8cebde1b-bae2-4d6d-c2f1-602a9eaf3af2"
      },
      "source": [
        "#Evaluate\n",
        "model_6.evaluate(x_test, y_test)"
      ],
      "execution_count": 244,
      "outputs": [
        {
          "output_type": "stream",
          "text": [
            "18/18 [==============================] - 0s 2ms/step - loss: 645.7142 - mae: 645.7142 - mse: 1322403.3750\n"
          ],
          "name": "stdout"
        },
        {
          "output_type": "execute_result",
          "data": {
            "text/plain": [
              "[645.7142333984375, 645.7142333984375, 1322403.375]"
            ]
          },
          "metadata": {},
          "execution_count": 244
        }
      ]
    },
    {
      "cell_type": "code",
      "metadata": {
        "id": "UTdhV5p6dkRb",
        "colab": {
          "base_uri": "https://localhost:8080/"
        },
        "outputId": "5d3e9e8e-b13c-43f0-dc4f-a54122072069"
      },
      "source": [
        "#Load and evaluate best performing model\n",
        "model_6 = tf.keras.models.load_model(\"model_experiments/model_6_dense_multivariate/\")\n",
        "model_6.evaluate(x_test, y_test)"
      ],
      "execution_count": 245,
      "outputs": [
        {
          "output_type": "stream",
          "text": [
            "18/18 [==============================] - 0s 2ms/step - loss: 568.3345 - mae: 568.3345 - mse: 1164859.0000\n"
          ],
          "name": "stdout"
        },
        {
          "output_type": "execute_result",
          "data": {
            "text/plain": [
              "[568.33447265625, 568.33447265625, 1164859.0]"
            ]
          },
          "metadata": {},
          "execution_count": 245
        }
      ]
    },
    {
      "cell_type": "code",
      "metadata": {
        "id": "HWV817qRdvIp",
        "colab": {
          "base_uri": "https://localhost:8080/"
        },
        "outputId": "38eef17b-7475-4166-d1f7-39a8ea3106a8"
      },
      "source": [
        "#Make predictions\n",
        "model_6_preds = tf.squeeze(model_6.predict(x_test))\n",
        "model_6_preds[:10]"
      ],
      "execution_count": 246,
      "outputs": [
        {
          "output_type": "execute_result",
          "data": {
            "text/plain": [
              "<tf.Tensor: shape=(10,), dtype=float32, numpy=\n",
              "array([8845.381 , 8769.115 , 9044.852 , 8745.515 , 8727.0625, 8773.182 ,\n",
              "       8669.289 , 8502.578 , 8469.248 , 8527.997 ], dtype=float32)>"
            ]
          },
          "metadata": {},
          "execution_count": 246
        }
      ]
    },
    {
      "cell_type": "code",
      "metadata": {
        "id": "yJDCVfFDd5xU",
        "colab": {
          "base_uri": "https://localhost:8080/"
        },
        "outputId": "0a021135-3471-43ff-ddd8-23547716e0b3"
      },
      "source": [
        "#Evaluate predictions\n",
        "model_6_results = evaluate_preds(y_test, model_6_preds)\n",
        "model_6_results"
      ],
      "execution_count": 247,
      "outputs": [
        {
          "output_type": "execute_result",
          "data": {
            "text/plain": [
              "{'mae': 568.33435,\n",
              " 'mape': 2.5493023,\n",
              " 'mase': 0.99840605,\n",
              " 'mse': 1164858.9,\n",
              " 'rmse': 1079.2863}"
            ]
          },
          "metadata": {},
          "execution_count": 247
        }
      ]
    },
    {
      "cell_type": "markdown",
      "metadata": {
        "id": "ePq_7umqeD8s"
      },
      "source": [
        "## Model 7: N-BEATS algorithm\n",
        "\n",
        "Paper: https://arxiv.org/pdf/1905.10437.pdf"
      ]
    },
    {
      "cell_type": "markdown",
      "metadata": {
        "id": "CF-XPRrWhS7T"
      },
      "source": [
        "### Building and testing the N-Beats block layer\n",
        "\n",
        "Because the N-BEATS block layer doesn´t exist in TensorFlow, we´ve got to create it.\n",
        "\n",
        "To create custom layers and models in Tensorflow we can use subclassing.\n",
        "\n",
        "https://www.tensorflow.org/guide/keras/custom_layers_and_models"
      ]
    },
    {
      "cell_type": "code",
      "metadata": {
        "id": "6ICG5NBdkvrn"
      },
      "source": [
        "# Create NBeatBlock custom layer\n",
        "class NBeatsBlock(tf.keras.layers.Layer):\n",
        "  def __init__(self, \n",
        "               input_size: int,\n",
        "               theta_size: int,\n",
        "               horizon: int,\n",
        "               n_neurons: int,\n",
        "               n_layers: int,\n",
        "               **kwargs): #kwarg: keyword arguments takes care about all default arguments\n",
        "    super().__init__(**kwargs)\n",
        "    self.input_size = input_size\n",
        "    self.theta_size = theta_size\n",
        "    self.horizon = horizon\n",
        "    self.n_neurons = n_neurons\n",
        "    self.n_layers = n_layers\n",
        "\n",
        "    # Block contains stack of 4 fully connected layers each has ReLU activation\n",
        "    self.hidden = [tf.keras.layers.Dense(n_neurons, activation=\"relu\") for _ in range(n_layers)]\n",
        "    # Output of block is a theta layer with linear activation\n",
        "    self.theta_layer = tf.keras.layers.Dense(theta_size, activation=\"linear\", name=\"linear\")\n",
        "\n",
        "  def call(self, inputs):\n",
        "    x = inputs\n",
        "    for layer in self.hidden:\n",
        "      x = layer(x)\n",
        "    theta = self.theta_layer(x)\n",
        "    #Output the backcast and the forecast from theta\n",
        "    #Indexing first elements and last elements of theta output\n",
        "    backcast, forecast = theta[:, :self.input_size], theta[:, -self.horizon]\n",
        "    return backcast, forecast"
      ],
      "execution_count": 248,
      "outputs": []
    },
    {
      "cell_type": "markdown",
      "metadata": {
        "id": "vmxLD312pTHB"
      },
      "source": [
        "Let´s test our NBeatsBlock class"
      ]
    },
    {
      "cell_type": "code",
      "metadata": {
        "id": "_TdH2U-dsKrU"
      },
      "source": [
        "#Setup dummy NBeatsBlock\n",
        "dummy_nbeats_block_layer = NBeatsBlock(input_size=WINDOW_SIZE,\n",
        "                                       theta_size=WINDOW_SIZE+HORIZON,\n",
        "                                       horizon=HORIZON,\n",
        "                                       n_neurons=128,\n",
        "                                       n_layers=4)"
      ],
      "execution_count": 249,
      "outputs": []
    },
    {
      "cell_type": "code",
      "metadata": {
        "id": "-DZew_1hsp9f",
        "colab": {
          "base_uri": "https://localhost:8080/"
        },
        "outputId": "67230539-95de-496c-e306-aec694f4b3dd"
      },
      "source": [
        "# Create dummy inputs (have to have same size as input_size)\n",
        "dummy_inputs = tf.expand_dims(tf.range(WINDOW_SIZE) + 1, axis=0)\n",
        "dummy_inputs"
      ],
      "execution_count": 250,
      "outputs": [
        {
          "output_type": "execute_result",
          "data": {
            "text/plain": [
              "<tf.Tensor: shape=(1, 7), dtype=int32, numpy=array([[1, 2, 3, 4, 5, 6, 7]], dtype=int32)>"
            ]
          },
          "metadata": {},
          "execution_count": 250
        }
      ]
    },
    {
      "cell_type": "code",
      "metadata": {
        "id": "71wv9aKysrSw",
        "colab": {
          "base_uri": "https://localhost:8080/"
        },
        "outputId": "b752682a-af1d-4fff-99d5-8836bd80c20e"
      },
      "source": [
        "# Pass dummy inputs to dummy NBeatsBlock layer\n",
        "backcast, forecast = dummy_nbeats_block_layer(dummy_inputs)\n",
        "print(f\"Backcast: {tf.squeeze(backcast.numpy())}\")\n",
        "print(f\"Forecast: {tf.squeeze(forecast.numpy())}\")"
      ],
      "execution_count": 251,
      "outputs": [
        {
          "output_type": "stream",
          "text": [
            "Backcast: [ 0.19014983  0.8379835  -0.32870027  0.25159904 -0.47540277 -0.7783665\n",
            " -0.5299448 ]\n",
            "Forecast: -0.7554212808609009\n"
          ],
          "name": "stdout"
        }
      ]
    },
    {
      "cell_type": "markdown",
      "metadata": {
        "id": "ca4jRl0r4ClY"
      },
      "source": [
        "### Preparing data for the N-Beats algorithm using `tf.data`"
      ]
    },
    {
      "cell_type": "code",
      "metadata": {
        "id": "hK91GQk1t7x8"
      },
      "source": [
        "HORIZON = 1 # how far to predict forward\n",
        "WINDOW_SIZE = 7 # how far to lookback"
      ],
      "execution_count": 283,
      "outputs": []
    },
    {
      "cell_type": "code",
      "metadata": {
        "id": "o23y7CEj4tMM",
        "colab": {
          "base_uri": "https://localhost:8080/",
          "height": 236
        },
        "outputId": "907f391f-3e3d-4c77-83ec-e66b1e6a9313"
      },
      "source": [
        "#Crteate NBEATS data inputs (N-BEATS works with univariate data)\n",
        "bitcoin_prices.head()"
      ],
      "execution_count": 284,
      "outputs": [
        {
          "output_type": "execute_result",
          "data": {
            "text/html": [
              "<div>\n",
              "<style scoped>\n",
              "    .dataframe tbody tr th:only-of-type {\n",
              "        vertical-align: middle;\n",
              "    }\n",
              "\n",
              "    .dataframe tbody tr th {\n",
              "        vertical-align: top;\n",
              "    }\n",
              "\n",
              "    .dataframe thead th {\n",
              "        text-align: right;\n",
              "    }\n",
              "</style>\n",
              "<table border=\"1\" class=\"dataframe\">\n",
              "  <thead>\n",
              "    <tr style=\"text-align: right;\">\n",
              "      <th></th>\n",
              "      <th>Price</th>\n",
              "    </tr>\n",
              "    <tr>\n",
              "      <th>Date</th>\n",
              "      <th></th>\n",
              "    </tr>\n",
              "  </thead>\n",
              "  <tbody>\n",
              "    <tr>\n",
              "      <th>2013-10-01</th>\n",
              "      <td>123.65499</td>\n",
              "    </tr>\n",
              "    <tr>\n",
              "      <th>2013-10-02</th>\n",
              "      <td>125.45500</td>\n",
              "    </tr>\n",
              "    <tr>\n",
              "      <th>2013-10-03</th>\n",
              "      <td>108.58483</td>\n",
              "    </tr>\n",
              "    <tr>\n",
              "      <th>2013-10-04</th>\n",
              "      <td>118.67466</td>\n",
              "    </tr>\n",
              "    <tr>\n",
              "      <th>2013-10-05</th>\n",
              "      <td>121.33866</td>\n",
              "    </tr>\n",
              "  </tbody>\n",
              "</table>\n",
              "</div>"
            ],
            "text/plain": [
              "                Price\n",
              "Date                 \n",
              "2013-10-01  123.65499\n",
              "2013-10-02  125.45500\n",
              "2013-10-03  108.58483\n",
              "2013-10-04  118.67466\n",
              "2013-10-05  121.33866"
            ]
          },
          "metadata": {},
          "execution_count": 284
        }
      ]
    },
    {
      "cell_type": "code",
      "metadata": {
        "id": "5z1mrMwF40R8",
        "colab": {
          "base_uri": "https://localhost:8080/",
          "height": 236
        },
        "outputId": "cf6d9824-b15b-4b6e-9391-46009deb956b"
      },
      "source": [
        "#Add window columns\n",
        "bitcoin_prices_nbeats = bitcoin_prices.copy()\n",
        "for i in range(WINDOW_SIZE):\n",
        "  bitcoin_prices_nbeats[f\"Price+{i+1}\"] = bitcoin_prices_nbeats[\"Price\"].shift(periods=1+i)\n",
        "bitcoin_prices_nbeats.head()"
      ],
      "execution_count": 285,
      "outputs": [
        {
          "output_type": "execute_result",
          "data": {
            "text/html": [
              "<div>\n",
              "<style scoped>\n",
              "    .dataframe tbody tr th:only-of-type {\n",
              "        vertical-align: middle;\n",
              "    }\n",
              "\n",
              "    .dataframe tbody tr th {\n",
              "        vertical-align: top;\n",
              "    }\n",
              "\n",
              "    .dataframe thead th {\n",
              "        text-align: right;\n",
              "    }\n",
              "</style>\n",
              "<table border=\"1\" class=\"dataframe\">\n",
              "  <thead>\n",
              "    <tr style=\"text-align: right;\">\n",
              "      <th></th>\n",
              "      <th>Price</th>\n",
              "      <th>Price+1</th>\n",
              "      <th>Price+2</th>\n",
              "      <th>Price+3</th>\n",
              "      <th>Price+4</th>\n",
              "      <th>Price+5</th>\n",
              "      <th>Price+6</th>\n",
              "      <th>Price+7</th>\n",
              "    </tr>\n",
              "    <tr>\n",
              "      <th>Date</th>\n",
              "      <th></th>\n",
              "      <th></th>\n",
              "      <th></th>\n",
              "      <th></th>\n",
              "      <th></th>\n",
              "      <th></th>\n",
              "      <th></th>\n",
              "      <th></th>\n",
              "    </tr>\n",
              "  </thead>\n",
              "  <tbody>\n",
              "    <tr>\n",
              "      <th>2013-10-01</th>\n",
              "      <td>123.65499</td>\n",
              "      <td>NaN</td>\n",
              "      <td>NaN</td>\n",
              "      <td>NaN</td>\n",
              "      <td>NaN</td>\n",
              "      <td>NaN</td>\n",
              "      <td>NaN</td>\n",
              "      <td>NaN</td>\n",
              "    </tr>\n",
              "    <tr>\n",
              "      <th>2013-10-02</th>\n",
              "      <td>125.45500</td>\n",
              "      <td>123.65499</td>\n",
              "      <td>NaN</td>\n",
              "      <td>NaN</td>\n",
              "      <td>NaN</td>\n",
              "      <td>NaN</td>\n",
              "      <td>NaN</td>\n",
              "      <td>NaN</td>\n",
              "    </tr>\n",
              "    <tr>\n",
              "      <th>2013-10-03</th>\n",
              "      <td>108.58483</td>\n",
              "      <td>125.45500</td>\n",
              "      <td>123.65499</td>\n",
              "      <td>NaN</td>\n",
              "      <td>NaN</td>\n",
              "      <td>NaN</td>\n",
              "      <td>NaN</td>\n",
              "      <td>NaN</td>\n",
              "    </tr>\n",
              "    <tr>\n",
              "      <th>2013-10-04</th>\n",
              "      <td>118.67466</td>\n",
              "      <td>108.58483</td>\n",
              "      <td>125.45500</td>\n",
              "      <td>123.65499</td>\n",
              "      <td>NaN</td>\n",
              "      <td>NaN</td>\n",
              "      <td>NaN</td>\n",
              "      <td>NaN</td>\n",
              "    </tr>\n",
              "    <tr>\n",
              "      <th>2013-10-05</th>\n",
              "      <td>121.33866</td>\n",
              "      <td>118.67466</td>\n",
              "      <td>108.58483</td>\n",
              "      <td>125.45500</td>\n",
              "      <td>123.65499</td>\n",
              "      <td>NaN</td>\n",
              "      <td>NaN</td>\n",
              "      <td>NaN</td>\n",
              "    </tr>\n",
              "  </tbody>\n",
              "</table>\n",
              "</div>"
            ],
            "text/plain": [
              "                Price    Price+1    Price+2  ...  Price+5  Price+6  Price+7\n",
              "Date                                         ...                           \n",
              "2013-10-01  123.65499        NaN        NaN  ...      NaN      NaN      NaN\n",
              "2013-10-02  125.45500  123.65499        NaN  ...      NaN      NaN      NaN\n",
              "2013-10-03  108.58483  125.45500  123.65499  ...      NaN      NaN      NaN\n",
              "2013-10-04  118.67466  108.58483  125.45500  ...      NaN      NaN      NaN\n",
              "2013-10-05  121.33866  118.67466  108.58483  ...      NaN      NaN      NaN\n",
              "\n",
              "[5 rows x 8 columns]"
            ]
          },
          "metadata": {},
          "execution_count": 285
        }
      ]
    },
    {
      "cell_type": "code",
      "metadata": {
        "id": "HKRSACgn5PUV",
        "colab": {
          "base_uri": "https://localhost:8080/"
        },
        "outputId": "5d275824-b437-48a0-da7c-9476f0004380"
      },
      "source": [
        "# Make features and labels\n",
        "x = bitcoin_prices_nbeats.dropna().drop(\"Price\", axis=1)\n",
        "y = bitcoin_prices_nbeats.dropna()[\"Price\"]\n",
        "\n",
        "#Make train and test sets\n",
        "split_size = int(len(x)*0.8)\n",
        "x_train, y_train = x[:split_size], y[:split_size]\n",
        "x_test, y_test = x[split_size:], y[split_size:]\n",
        "len(x_train), len(x_test), len(y_train), len(y_test)"
      ],
      "execution_count": 286,
      "outputs": [
        {
          "output_type": "execute_result",
          "data": {
            "text/plain": [
              "(2224, 556, 2224, 556)"
            ]
          },
          "metadata": {},
          "execution_count": 286
        }
      ]
    },
    {
      "cell_type": "code",
      "metadata": {
        "id": "PxEjHf9x51Re"
      },
      "source": [
        "# Time to make our dataset perfomant using tf.data API\n",
        "train_features_dataset = tf.data.Dataset.from_tensor_slices(x_train)\n",
        "train_labels_dataset = tf.data.Dataset.from_tensor_slices(y_train)\n",
        "\n",
        "test_features_dataset = tf.data.Dataset.from_tensor_slices(x_test)\n",
        "test_labels_dataset = tf.data.Dataset.from_tensor_slices(y_test)"
      ],
      "execution_count": 287,
      "outputs": []
    },
    {
      "cell_type": "code",
      "metadata": {
        "id": "1MUxtIAJ6WZ4"
      },
      "source": [
        "#Combine labels and features by zipping together\n",
        "train_dataset = tf.data.Dataset.zip((train_features_dataset, train_labels_dataset))\n",
        "test_dataset = tf.data.Dataset.zip((test_features_dataset, test_labels_dataset))"
      ],
      "execution_count": 288,
      "outputs": []
    },
    {
      "cell_type": "code",
      "metadata": {
        "id": "QlBSXc056lBc"
      },
      "source": [
        "#Batch and prefetch \n",
        "BATCH_SIZE = 1024\n",
        "train_dataset = train_dataset.batch(BATCH_SIZE).prefetch(tf.data.AUTOTUNE)\n",
        "test_dataset = test_dataset.batch(BATCH_SIZE).prefetch(tf.data.AUTOTUNE)"
      ],
      "execution_count": 289,
      "outputs": []
    },
    {
      "cell_type": "code",
      "metadata": {
        "id": "yqKqZZUZ7dna",
        "colab": {
          "base_uri": "https://localhost:8080/"
        },
        "outputId": "d24e3f0f-4f47-4de2-b982-0404505d3746"
      },
      "source": [
        "train_dataset, test_dataset "
      ],
      "execution_count": 290,
      "outputs": [
        {
          "output_type": "execute_result",
          "data": {
            "text/plain": [
              "(<PrefetchDataset shapes: ((None, 7), (None,)), types: (tf.float64, tf.float64)>,\n",
              " <PrefetchDataset shapes: ((None, 7), (None,)), types: (tf.float64, tf.float64)>)"
            ]
          },
          "metadata": {},
          "execution_count": 290
        }
      ]
    },
    {
      "cell_type": "markdown",
      "metadata": {
        "id": "G75EZW0M7fkk"
      },
      "source": [
        "### Setting up hyperparameters for N-BEATS algorithm\n"
      ]
    },
    {
      "cell_type": "code",
      "metadata": {
        "id": "hI1lq80y8viN"
      },
      "source": [
        "#Values from N-BEATS paper\n",
        "N_EPOCHS = 5000\n",
        "N_NEURONS = 512\n",
        "N_LAYERS = 4\n",
        "N_STACKS = 30\n",
        "INPUT_SIZE = WINDOW_SIZE * HORIZON\n",
        "THETA_SIZE = INPUT_SIZE + HORIZON "
      ],
      "execution_count": 306,
      "outputs": []
    },
    {
      "cell_type": "code",
      "metadata": {
        "id": "54eL2NLHwPTj",
        "outputId": "26a2f0a7-815c-42ae-dfe8-e81581f22dab",
        "colab": {
          "base_uri": "https://localhost:8080/"
        }
      },
      "source": [
        "INPUT_SIZE"
      ],
      "execution_count": 292,
      "outputs": [
        {
          "output_type": "execute_result",
          "data": {
            "text/plain": [
              "7"
            ]
          },
          "metadata": {},
          "execution_count": 292
        }
      ]
    },
    {
      "cell_type": "markdown",
      "metadata": {
        "id": "kPpfBTq_-KkG"
      },
      "source": [
        "### Getting ready for residual connections\n",
        "\n",
        "Before we can craft our N-BEATS model, we need two layers for the residual connections (substract and add)."
      ]
    },
    {
      "cell_type": "code",
      "metadata": {
        "id": "syRKqHc2-KKM",
        "colab": {
          "base_uri": "https://localhost:8080/"
        },
        "outputId": "7b522214-3946-42bf-ea2c-bd869027bf7d"
      },
      "source": [
        "#Make tensors\n",
        "tensor_1 = tf.range(10) + 10\n",
        "tensor_2 = tf.range(10)\n",
        "\n",
        "#Subtract\n",
        "subtracted = layers.subtract([tensor_1, tensor_2])\n",
        "\n",
        "#Add\n",
        "added = layers.add([tensor_1, tensor_2])\n",
        "\n",
        "#Get outputs\n",
        "print(f\"Input tensors: {tensor_1.numpy()} & {tensor_2.numpy()}\")\n",
        "print(f\"Subtracted: {subtracted.numpy()}\")\n",
        "print(f\"Added: {added.numpy()}\")"
      ],
      "execution_count": 293,
      "outputs": [
        {
          "output_type": "stream",
          "text": [
            "Input tensors: [10 11 12 13 14 15 16 17 18 19] & [0 1 2 3 4 5 6 7 8 9]\n",
            "Subtracted: [10 10 10 10 10 10 10 10 10 10]\n",
            "Added: [10 12 14 16 18 20 22 24 26 28]\n"
          ],
          "name": "stdout"
        }
      ]
    },
    {
      "cell_type": "markdown",
      "metadata": {
        "id": "xjmB5qE-l2mt"
      },
      "source": [
        "### Building, compiling and fitting the N-BEATS algorithm\n",
        "\n",
        "1. Setup and instance of the N-BEATS block layer using `NBeatsBlock` (thes will bei the initial block used for the network, the rest will be created as part of stacks)\n",
        "2. Create an input layer for the N-BEATS stack (we´ll be using the Keras functional API)\n",
        "3. Make the initial backcast and forecasts for the model with the layer created in(1)\n",
        "4. Use for loop to create stacks of block layers\n",
        "5. Use the`NBeatsBlock` class within the for loop in (4) to create blocks which return backcasts and block-level forecasts\n",
        "6. Create the double residual stacking using subtract and add layers\n",
        "7. Put the model inputs and outputs together using `tf.keras.Model()`\n",
        "8. Compile the model with MAE loss (the paper uses multiple losses but we´ll use MAE to keep it inline with our other models) and Adam optimizer with the default settings.\n",
        "9. Fit the N-BEATS model for 5000 epochs and since it´s fitting for so many epochs, we´ll use a couple of callbacks:\n",
        "* Early Stopping\n",
        "* Reduce LR on Plateau - if a model stops improving, try lowering the learning rate to reduce the amount it updates its weights time"
      ]
    },
    {
      "cell_type": "code",
      "metadata": {
        "id": "zUJh4-Ykqgty"
      },
      "source": [
        "tf.random.set_seed(42)\n",
        "\n",
        "# 1. Setup an instance of NBeatsBlock\n",
        "nbeats_block_layer = NBeatsBlock(input_size=INPUT_SIZE,\n",
        "                                 theta_size=THETA_SIZE,\n",
        "                                 horizon=HORIZON,\n",
        "                                 n_neurons=N_NEURONS,\n",
        "                                 n_layers=N_LAYERS,\n",
        "                                 name=\"InitialBlock\")"
      ],
      "execution_count": 294,
      "outputs": []
    },
    {
      "cell_type": "code",
      "metadata": {
        "id": "JddZiipKrAyi"
      },
      "source": [
        "# 2. Create input to stacks\n",
        "stack_input = layers.Input(shape=(INPUT_SIZE), name=\"stack_input\")"
      ],
      "execution_count": 295,
      "outputs": []
    },
    {
      "cell_type": "code",
      "metadata": {
        "id": "E7obcrofrwiu"
      },
      "source": [
        "# 3. Create initial backcast and forecast input (backwards prediction + horizon prediction)\n",
        "residuals, forecast = nbeats_block_layer(stack_input)"
      ],
      "execution_count": 296,
      "outputs": []
    },
    {
      "cell_type": "code",
      "metadata": {
        "id": "41McD1EZsZrT"
      },
      "source": [
        "# 4. Create stacks of blocks\n",
        "for i, _ in enumerate(range(N_STACKS-1)): # first stack is already creted in (3)\n",
        "\n",
        "  # 5. Use the NBeatsBlock to calculate the backcast as well as block forecast\n",
        "  backcast, block_forecast = NBeatsBlock(\n",
        "      input_size=INPUT_SIZE,\n",
        "      theta_size=THETA_SIZE,\n",
        "      horizon=HORIZON,\n",
        "      n_neurons=N_NEURONS,\n",
        "      n_layers=N_LAYERS,\n",
        "      name=f\"NBeatsBlock_{i}\"\n",
        "  )(residuals) # pass it in residuals (the backcast)\n",
        "\n",
        "  # 6. Create the double residual stacking\n",
        "  residuals = layers.subtract([residuals, backcast], name=f\"subtract_{i}\") \n",
        "  forecast = layers.add([forecast, block_forecast], name=f\"add_{i}\")"
      ],
      "execution_count": 297,
      "outputs": []
    },
    {
      "cell_type": "code",
      "metadata": {
        "id": "V491yRkUtibz"
      },
      "source": [
        "# 7. Put theb stack model together\n",
        "model_7 = tf.keras.Model(stack_input, forecast, name=\"model_7_NBEATS\")"
      ],
      "execution_count": 298,
      "outputs": []
    },
    {
      "cell_type": "code",
      "metadata": {
        "id": "Z6npBUyyud7X"
      },
      "source": [
        "# 8. Compile the model\n",
        "model_7.compile(loss=\"mae\", optimizer=\"Adam\", metrics=[\"mae\", \"mse\"])"
      ],
      "execution_count": 299,
      "outputs": []
    },
    {
      "cell_type": "code",
      "metadata": {
        "id": "ciu-Rvq1vD0Y",
        "outputId": "d6a45e63-764f-4250-e126-4af84fffba8d",
        "colab": {
          "base_uri": "https://localhost:8080/"
        }
      },
      "source": [
        "# 9. Fit the model with callbacks\n",
        "model_7.fit(train_dataset,\n",
        "            epochs=N_EPOCHS,\n",
        "            validation_data=test_dataset,\n",
        "            verbose=0,\n",
        "            callbacks=[tf.keras.callbacks.EarlyStopping(monitor=\"val_loss\", patience=200, restore_best_weights=True),\n",
        "                       tf.keras.callbacks.ReduceLROnPlateau(monitor=\"val_loss\", patience=100, verbose=1)])"
      ],
      "execution_count": 300,
      "outputs": [
        {
          "output_type": "stream",
          "text": [
            "\n",
            "Epoch 00588: ReduceLROnPlateau reducing learning rate to 0.00010000000474974513.\n",
            "\n",
            "Epoch 00754: ReduceLROnPlateau reducing learning rate to 1.0000000474974514e-05.\n",
            "\n",
            "Epoch 00854: ReduceLROnPlateau reducing learning rate to 1.0000000656873453e-06.\n"
          ],
          "name": "stdout"
        },
        {
          "output_type": "execute_result",
          "data": {
            "text/plain": [
              "<keras.callbacks.History at 0x7fbd90eacb50>"
            ]
          },
          "metadata": {},
          "execution_count": 300
        }
      ]
    },
    {
      "cell_type": "code",
      "metadata": {
        "id": "JYj35RmBwklS",
        "outputId": "db598f3f-c1ae-435a-87b8-071cd6527f41",
        "colab": {
          "base_uri": "https://localhost:8080/"
        }
      },
      "source": [
        "# Evaluate N-Beats model on the test dataset\n",
        "model_7.evaluate(test_dataset)"
      ],
      "execution_count": 301,
      "outputs": [
        {
          "output_type": "stream",
          "text": [
            "1/1 [==============================] - 0s 82ms/step - loss: 572.7659 - mae: 572.7659 - mse: 1168511.3750\n"
          ],
          "name": "stdout"
        },
        {
          "output_type": "execute_result",
          "data": {
            "text/plain": [
              "[572.7659301757812, 572.7659301757812, 1168511.375]"
            ]
          },
          "metadata": {},
          "execution_count": 301
        }
      ]
    },
    {
      "cell_type": "code",
      "metadata": {
        "id": "PU8jzGOUwrdz",
        "outputId": "68838362-c477-48e0-8c8d-0d78583552be",
        "colab": {
          "base_uri": "https://localhost:8080/"
        }
      },
      "source": [
        "# Make predictions with N-BEATS model\n",
        "model_7_preds = make_preds(model_7, test_dataset)\n",
        "model_7_preds[:10]"
      ],
      "execution_count": 302,
      "outputs": [
        {
          "output_type": "execute_result",
          "data": {
            "text/plain": [
              "<tf.Tensor: shape=(10,), dtype=float32, numpy=\n",
              "array([8847.181, 8771.862, 9006.783, 8761.096, 8746.197, 8727.11 ,\n",
              "       8656.257, 8495.142, 8464.81 , 8501.47 ], dtype=float32)>"
            ]
          },
          "metadata": {},
          "execution_count": 302
        }
      ]
    },
    {
      "cell_type": "code",
      "metadata": {
        "id": "tx2cmTQIw00Q",
        "outputId": "0e6c9f51-6b35-4682-d1f0-dd758792e37b",
        "colab": {
          "base_uri": "https://localhost:8080/"
        }
      },
      "source": [
        "# Evaluate N-BEATS model preds\n",
        "model_7_results = evaluate_preds(y_test, model_7_preds)\n",
        "model_7_results"
      ],
      "execution_count": 303,
      "outputs": [
        {
          "output_type": "execute_result",
          "data": {
            "text/plain": [
              "{'mae': 572.7659,\n",
              " 'mape': 2.585374,\n",
              " 'mase': 1.0061911,\n",
              " 'mse': 1168511.4,\n",
              " 'rmse': 1080.977}"
            ]
          },
          "metadata": {},
          "execution_count": 303
        }
      ]
    },
    {
      "cell_type": "markdown",
      "metadata": {
        "id": "85KxR2Pt0fo3"
      },
      "source": [
        "### Plotting the N-BEATS architecture we´ve created"
      ]
    },
    {
      "cell_type": "code",
      "metadata": {
        "id": "F9Yp1Y23w-G3",
        "outputId": "35ec0aac-2d82-416b-8c23-c051603f009d",
        "colab": {
          "base_uri": "https://localhost:8080/",
          "height": 758
        }
      },
      "source": [
        "#Plot the N-Beats model and inspect the architecture\n",
        "from tensorflow.keras.utils import plot_model\n",
        "plot_model(model_7)"
      ],
      "execution_count": 305,
      "outputs": [
        {
          "output_type": "execute_result",
          "data": {
            "image/png": "[encoded data removed]",
            "text/plain": [
              "<IPython.core.display.Image object>"
            ]
          },
          "metadata": {},
          "execution_count": 305
        }
      ]
    },
    {
      "cell_type": "markdown",
      "metadata": {
        "id": "50nDHtvf2OaP"
      },
      "source": [
        "### Model 8: Creating an ensemble (stacking different model together)"
      ]
    }
  ]
}