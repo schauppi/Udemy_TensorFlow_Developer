{
  "nbformat": 4,
  "nbformat_minor": 0,
  "metadata": {
    "colab": {
      "name": "nlp_imdb_sentiment_analysis.ipynb",
      "provenance": [],
      "authorship_tag": "ABX9TyNdUMnTBtbiH6cN4devUGLv",
      "include_colab_link": true
    },
    "kernelspec": {
      "display_name": "Python 3",
      "name": "python3"
    },
    "language_info": {
      "name": "python"
    },
    "accelerator": "GPU"
  },
  "cells": [
    {
      "cell_type": "markdown",
      "metadata": {
        "id": "view-in-github",
        "colab_type": "text"
      },
      "source": [
        "<a href=\"https://colab.research.google.com/github/schauppi/Udemy_TensorFlow_Developer/blob/main/Exam_preparation/nlp_imdb_sentiment_analysis.ipynb\" target=\"_parent\"><img src=\"https://colab.research.google.com/assets/colab-badge.svg\" alt=\"Open In Colab\"/></a>"
      ]
    },
    {
      "cell_type": "markdown",
      "metadata": {
        "id": "l-pyqmSXXeYR"
      },
      "source": [
        "# IMDb reviews sentiment analysis"
      ]
    },
    {
      "cell_type": "markdown",
      "metadata": {
        "id": "kfoSXmqTc6sN"
      },
      "source": [
        "## Data preparation"
      ]
    },
    {
      "cell_type": "code",
      "metadata": {
        "colab": {
          "base_uri": "https://localhost:8080/"
        },
        "id": "nKyTwiFeXo43",
        "outputId": "3124831c-cf11-47f8-c25c-d3ac9d092ab5"
      },
      "source": [
        "# Download Dataset \n",
        "!wget \"https://raw.githubusercontent.com/schauppi/Udemy_TensorFlow_Developer/main/Exam_preparation/Datasets/IMDB%20Dataset.csv\""
      ],
      "execution_count": 224,
      "outputs": [
        {
          "output_type": "stream",
          "name": "stdout",
          "text": [
            "--2021-09-09 12:05:05--  https://raw.githubusercontent.com/schauppi/Udemy_TensorFlow_Developer/main/Exam_preparation/Datasets/IMDB%20Dataset.csv\n",
            "Resolving raw.githubusercontent.com (raw.githubusercontent.com)... 185.199.108.133, 185.199.109.133, 185.199.110.133, ...\n",
            "Connecting to raw.githubusercontent.com (raw.githubusercontent.com)|185.199.108.133|:443... connected.\n",
            "HTTP request sent, awaiting response... 200 OK\n",
            "Length: 66212309 (63M) [text/plain]\n",
            "Saving to: ‘IMDB Dataset.csv.1’\n",
            "\n",
            "IMDB Dataset.csv.1  100%[===================>]  63.14M   158MB/s    in 0.4s    \n",
            "\n",
            "2021-09-09 12:05:17 (158 MB/s) - ‘IMDB Dataset.csv.1’ saved [66212309/66212309]\n",
            "\n"
          ]
        }
      ]
    },
    {
      "cell_type": "code",
      "metadata": {
        "colab": {
          "base_uri": "https://localhost:8080/",
          "height": 205
        },
        "id": "2F8T3VaadBwP",
        "outputId": "644277e5-85e6-423a-98ae-86a94aea1211"
      },
      "source": [
        "#Load in the dataset \n",
        "import pandas as pd\n",
        "df = pd.read_csv(\"/content/IMDB Dataset.csv\")\n",
        "df.head()"
      ],
      "execution_count": 225,
      "outputs": [
        {
          "output_type": "execute_result",
          "data": {
            "text/html": [
              "<div>\n",
              "<style scoped>\n",
              "    .dataframe tbody tr th:only-of-type {\n",
              "        vertical-align: middle;\n",
              "    }\n",
              "\n",
              "    .dataframe tbody tr th {\n",
              "        vertical-align: top;\n",
              "    }\n",
              "\n",
              "    .dataframe thead th {\n",
              "        text-align: right;\n",
              "    }\n",
              "</style>\n",
              "<table border=\"1\" class=\"dataframe\">\n",
              "  <thead>\n",
              "    <tr style=\"text-align: right;\">\n",
              "      <th></th>\n",
              "      <th>review</th>\n",
              "      <th>sentiment</th>\n",
              "    </tr>\n",
              "  </thead>\n",
              "  <tbody>\n",
              "    <tr>\n",
              "      <th>0</th>\n",
              "      <td>One of the other reviewers has mentioned that ...</td>\n",
              "      <td>positive</td>\n",
              "    </tr>\n",
              "    <tr>\n",
              "      <th>1</th>\n",
              "      <td>A wonderful little production. &lt;br /&gt;&lt;br /&gt;The...</td>\n",
              "      <td>positive</td>\n",
              "    </tr>\n",
              "    <tr>\n",
              "      <th>2</th>\n",
              "      <td>I thought this was a wonderful way to spend ti...</td>\n",
              "      <td>positive</td>\n",
              "    </tr>\n",
              "    <tr>\n",
              "      <th>3</th>\n",
              "      <td>Basically there's a family where a little boy ...</td>\n",
              "      <td>negative</td>\n",
              "    </tr>\n",
              "    <tr>\n",
              "      <th>4</th>\n",
              "      <td>Petter Mattei's \"Love in the Time of Money\" is...</td>\n",
              "      <td>positive</td>\n",
              "    </tr>\n",
              "  </tbody>\n",
              "</table>\n",
              "</div>"
            ],
            "text/plain": [
              "                                              review sentiment\n",
              "0  One of the other reviewers has mentioned that ...  positive\n",
              "1  A wonderful little production. <br /><br />The...  positive\n",
              "2  I thought this was a wonderful way to spend ti...  positive\n",
              "3  Basically there's a family where a little boy ...  negative\n",
              "4  Petter Mattei's \"Love in the Time of Money\" is...  positive"
            ]
          },
          "metadata": {},
          "execution_count": 225
        }
      ]
    },
    {
      "cell_type": "code",
      "metadata": {
        "colab": {
          "base_uri": "https://localhost:8080/"
        },
        "id": "xb8oq6NKdLpK",
        "outputId": "7e86a970-ad70-4fff-a4f9-a2b9cc24ea76"
      },
      "source": [
        "df.info()"
      ],
      "execution_count": 226,
      "outputs": [
        {
          "output_type": "stream",
          "name": "stdout",
          "text": [
            "<class 'pandas.core.frame.DataFrame'>\n",
            "RangeIndex: 50000 entries, 0 to 49999\n",
            "Data columns (total 2 columns):\n",
            " #   Column     Non-Null Count  Dtype \n",
            "---  ------     --------------  ----- \n",
            " 0   review     50000 non-null  object\n",
            " 1   sentiment  50000 non-null  object\n",
            "dtypes: object(2)\n",
            "memory usage: 781.4+ KB\n"
          ]
        }
      ]
    },
    {
      "cell_type": "code",
      "metadata": {
        "colab": {
          "base_uri": "https://localhost:8080/"
        },
        "id": "Rfm70Y11dRbU",
        "outputId": "d62fb042-4e89-49e2-9b7a-287559c70212"
      },
      "source": [
        "#Visualize some random examples\n",
        "import random\n",
        "random_index = random.randint(0, len(df)-5)\n",
        "for row in df[[\"review\", \"sentiment\"]][random_index:random_index+5].itertuples():\n",
        "  _, review, sentiment = row\n",
        "  print(f\"Text: {review}\")\n",
        "  print(f\"Sentiment: {sentiment}\\n\")"
      ],
      "execution_count": 227,
      "outputs": [
        {
          "output_type": "stream",
          "name": "stdout",
          "text": [
            "Text: Truly a great leap forward in the perfection of painful cinema.<br /><br />Everything about this film is bad. Acting (if it can be called that), lighting, sound, script (if there was one), editing, direction, camera work, it is all atrocious. There is not a single element that is done well. If I thought that this was intentional then I might give the film some credit but I can not believe people would set out to make such a horendous film.<br /><br />This film is worth buying and screening to your worst enemies.\n",
            "Sentiment: negative\n",
            "\n",
            "Text: A nicely done thriller with plenty of sex in it. I saw it on late night TV. There are two hardcore stars in it, Lauen Montgomery and Venus. Thankfully, Gabriella Hall has just a small part.\n",
            "Sentiment: positive\n",
            "\n",
            "Text: Vidor shines as Judith, the only truly strong and compassionate member of a strictly patriarchal family. Her brother, David, is so downtrodden by their father that it's a surprise he's able even to tie his shoes, rather than asking Dad to do it for him.<br /><br />Other reviewers have already outlined the plot, so I won't rehash it; I will, however, point out that Nan, who is pregnant by David, is also married to him. This is not an out-of-wedlock pregnancy, which would have been horrific by 1921 standards. The two are secretly married, but Nan's father, having been paid by David's father, tears up their marriage certificate.<br /><br />Nan's death scene, with Judith in attendance, is a truly heart-rending experience, and highly charged with emotion. This scene alone is worth watching the movie for, but there's far more to the plot than that; why on earth aren't modern movies made with the same attention to the story?\n",
            "Sentiment: positive\n",
            "\n",
            "Text: Deeply emotional. It can't leave you neutral.<br /><br />Yes it's a love story between 2 18 years old boys. But it's only the body of this movie. And it's been removed. You only feel what happened with these boys. You feel the soul of the movie. With of course some action, some sex, but this is no pornography, too many feelings.<br /><br />It was only a summer \"story\", and it became, from love to hate, almost to death, the most important time of their lives. I loved it, you will too, whatever your feelings are.\n",
            "Sentiment: positive\n",
            "\n",
            "Text: I have to preface this by saying that I LOVE watching bad movies that are entertaining. This movie delivers 100%. It is hands down the worst movie I have ever seen. It is full of crappy stock footage of random stuff in a city (people walking, traffic, the skyline, etc.) that doesn't tie into anything. Then there are the overly long 'sex scenes.' These involve lots of petting and frequent rubbing of socks on each other's bodies. These are in no way erotic and are the closest thing to horror you will find in this movie. This is especially true for the shower scene where two of the so called 'barely legal' girls who couldn't be a day over 40 are spraying each other with blood but there is also a crew member squirting blood in the from the outside while one of the girls keeps smiling at him. No one had to memorize any lines for this movie, if they aren't clearly reading cards then they have a magazine in front of them they keep glancing at while they struggle through awkward dialogue. Then there's Mr Creepo. He throws Ed Wood's name around like he can somehow compare, but he is far far from anything of that quality. He walks around a cemetery babbling about random things that went wrong in the movie which really helps the complete lack of flow the movie already had going on. We couldn't stop laughing during this movie (except during the sex scenes where we were grossed out and occasionally horrified)<br /><br />I give this movie a 1/10 for going so far above and beyond all my expectations for a horrible movie.\n",
            "Sentiment: negative\n",
            "\n"
          ]
        }
      ]
    },
    {
      "cell_type": "code",
      "metadata": {
        "colab": {
          "base_uri": "https://localhost:8080/"
        },
        "id": "Ymr2DO0RdfLY",
        "outputId": "dd3db7ec-cf6f-4fc5-84c0-5be7c5e0f3d2"
      },
      "source": [
        "#Check if null data is in datset  \n",
        "df.isna().sum()"
      ],
      "execution_count": 228,
      "outputs": [
        {
          "output_type": "execute_result",
          "data": {
            "text/plain": [
              "review       0\n",
              "sentiment    0\n",
              "dtype: int64"
            ]
          },
          "metadata": {},
          "execution_count": 228
        }
      ]
    },
    {
      "cell_type": "markdown",
      "metadata": {
        "id": "IgY_rAVaklut"
      },
      "source": [
        "### Clean data"
      ]
    },
    {
      "cell_type": "code",
      "metadata": {
        "id": "Yo1DttyQeGge"
      },
      "source": [
        "#Preprocessing function\n",
        "import re\n",
        "def preprocessing_text(texts):\n",
        "    texts = re.sub(r'<.*?>', '', texts)\n",
        "    texts = re.sub(r'[^a-zA-Z]', ' ', texts)\n",
        "    return ' '.join(x.lower() for x in texts.split())"
      ],
      "execution_count": 229,
      "outputs": []
    },
    {
      "cell_type": "code",
      "metadata": {
        "id": "KqfYvHGjedtC"
      },
      "source": [
        "df[\"cleaned\"] = df[\"review\"].apply(lambda x: preprocessing_text(x))"
      ],
      "execution_count": 230,
      "outputs": []
    },
    {
      "cell_type": "code",
      "metadata": {
        "colab": {
          "base_uri": "https://localhost:8080/",
          "height": 205
        },
        "id": "CEQg2TaAelaL",
        "outputId": "bbff6036-dcce-4b0c-82b3-b1d348fa03b0"
      },
      "source": [
        "df.head()"
      ],
      "execution_count": 231,
      "outputs": [
        {
          "output_type": "execute_result",
          "data": {
            "text/html": [
              "<div>\n",
              "<style scoped>\n",
              "    .dataframe tbody tr th:only-of-type {\n",
              "        vertical-align: middle;\n",
              "    }\n",
              "\n",
              "    .dataframe tbody tr th {\n",
              "        vertical-align: top;\n",
              "    }\n",
              "\n",
              "    .dataframe thead th {\n",
              "        text-align: right;\n",
              "    }\n",
              "</style>\n",
              "<table border=\"1\" class=\"dataframe\">\n",
              "  <thead>\n",
              "    <tr style=\"text-align: right;\">\n",
              "      <th></th>\n",
              "      <th>review</th>\n",
              "      <th>sentiment</th>\n",
              "      <th>cleaned</th>\n",
              "    </tr>\n",
              "  </thead>\n",
              "  <tbody>\n",
              "    <tr>\n",
              "      <th>0</th>\n",
              "      <td>One of the other reviewers has mentioned that ...</td>\n",
              "      <td>positive</td>\n",
              "      <td>one of the other reviewers has mentioned that ...</td>\n",
              "    </tr>\n",
              "    <tr>\n",
              "      <th>1</th>\n",
              "      <td>A wonderful little production. &lt;br /&gt;&lt;br /&gt;The...</td>\n",
              "      <td>positive</td>\n",
              "      <td>a wonderful little production the filming tech...</td>\n",
              "    </tr>\n",
              "    <tr>\n",
              "      <th>2</th>\n",
              "      <td>I thought this was a wonderful way to spend ti...</td>\n",
              "      <td>positive</td>\n",
              "      <td>i thought this was a wonderful way to spend ti...</td>\n",
              "    </tr>\n",
              "    <tr>\n",
              "      <th>3</th>\n",
              "      <td>Basically there's a family where a little boy ...</td>\n",
              "      <td>negative</td>\n",
              "      <td>basically there s a family where a little boy ...</td>\n",
              "    </tr>\n",
              "    <tr>\n",
              "      <th>4</th>\n",
              "      <td>Petter Mattei's \"Love in the Time of Money\" is...</td>\n",
              "      <td>positive</td>\n",
              "      <td>petter mattei s love in the time of money is a...</td>\n",
              "    </tr>\n",
              "  </tbody>\n",
              "</table>\n",
              "</div>"
            ],
            "text/plain": [
              "                                              review  ...                                            cleaned\n",
              "0  One of the other reviewers has mentioned that ...  ...  one of the other reviewers has mentioned that ...\n",
              "1  A wonderful little production. <br /><br />The...  ...  a wonderful little production the filming tech...\n",
              "2  I thought this was a wonderful way to spend ti...  ...  i thought this was a wonderful way to spend ti...\n",
              "3  Basically there's a family where a little boy ...  ...  basically there s a family where a little boy ...\n",
              "4  Petter Mattei's \"Love in the Time of Money\" is...  ...  petter mattei s love in the time of money is a...\n",
              "\n",
              "[5 rows x 3 columns]"
            ]
          },
          "metadata": {},
          "execution_count": 231
        }
      ]
    },
    {
      "cell_type": "code",
      "metadata": {
        "colab": {
          "base_uri": "https://localhost:8080/"
        },
        "id": "_Jp6A2kiep5s",
        "outputId": "860d86bc-dfeb-4332-843c-73a8fe5ef5da"
      },
      "source": [
        "#Visualize some random examples cleaned vs uncleaned\n",
        "import random\n",
        "random_index = random.randint(0, len(df)-5)\n",
        "for row in df[[\"review\", \"sentiment\", \"cleaned\"]][random_index:random_index+5].itertuples():\n",
        "  _, review, sentiment, cleaned = row\n",
        "  print(f\"Text: {review}\")\n",
        "  print(f\"Text cleaned: {cleaned}\")\n",
        "  print(f\"Sentiment: {sentiment}\\n\")"
      ],
      "execution_count": 232,
      "outputs": [
        {
          "output_type": "stream",
          "name": "stdout",
          "text": [
            "Text: This film was nothing more than exploitative gay cheesecake. It was not an \"art\" movie; just an excuse to show several gratuitous, exploitative, over-the-top scenes with extensive male genital nudity. There was a locker room scene involving over a dozen naked men. The camera zooms in on the men's asses and penises as they are portrayed for several minutes with their dicks in full screen view. There are several scenes in this film showing penis after penis. It gets redundant REAL fast and makes it impossible to take this film seriously. I was wondering if I was watching a Playgirl video by mistake. If these same scenes were filmed using women (ex: totally naked and showing their vaginas repeatedly) it would be quickly dismissed as just softcore porn and an excuse to show a lot of eye candy...which is all that this film is. Any artistic merit got flushed down the drain of the gay ghetto mentality. The themes of class distinction, homosexuality, longing-desire, etc. were simple and superficial; no more developed than what one would expect from a first year philosophy student. Just cut to the chase and rent a gay porn instead.\n",
            "Text cleaned: this film was nothing more than exploitative gay cheesecake it was not an art movie just an excuse to show several gratuitous exploitative over the top scenes with extensive male genital nudity there was a locker room scene involving over a dozen naked men the camera zooms in on the men s asses and penises as they are portrayed for several minutes with their dicks in full screen view there are several scenes in this film showing penis after penis it gets redundant real fast and makes it impossible to take this film seriously i was wondering if i was watching a playgirl video by mistake if these same scenes were filmed using women ex totally naked and showing their vaginas repeatedly it would be quickly dismissed as just softcore porn and an excuse to show a lot of eye candy which is all that this film is any artistic merit got flushed down the drain of the gay ghetto mentality the themes of class distinction homosexuality longing desire etc were simple and superficial no more developed than what one would expect from a first year philosophy student just cut to the chase and rent a gay porn instead\n",
            "Sentiment: negative\n",
            "\n",
            "Text: The explosion of TV channels must be eternally grateful to the Randolph Scott Western production line, because any any moment there must be one of what seems like a hundred Randolph Scott movies playing on at least one no-budget station.<br /><br />\"Man Behind The Gun\" is a typical early 1950's period melodrama with pre-WWII production values that relies on a historically-topical murder mystery plot peppered with action scenes to disguise the script's complete absence of character development, and thus lack of suspense. In years to come the role of these films would be taken over by TV shows like 'Gunsmoke', 'Bonanza', etc - and these actually did the job better. Randolph Scott, looking particularly grizzled in this, is the good guy, struggling against the bad guys against whom he will eventually prevail. There's no more interest in what he goes through emotionally than in what his horse is feeling, unless you count wondering whether he'll sort out the initial misunderstanding with the female lead by the end. The music is a stronger indication of the emotional state of the 'characters' than the acting is. But it's fine if that floats your boat; and I wouldn't berate you for enjoying 'Diagnosis, Murder', either.<br /><br />Workmanlike, pedestrian, and ageing rapidly. 3 stars for being competently put together; 0 for artistic endeavour.\n",
            "Text cleaned: the explosion of tv channels must be eternally grateful to the randolph scott western production line because any any moment there must be one of what seems like a hundred randolph scott movies playing on at least one no budget station man behind the gun is a typical early s period melodrama with pre wwii production values that relies on a historically topical murder mystery plot peppered with action scenes to disguise the script s complete absence of character development and thus lack of suspense in years to come the role of these films would be taken over by tv shows like gunsmoke bonanza etc and these actually did the job better randolph scott looking particularly grizzled in this is the good guy struggling against the bad guys against whom he will eventually prevail there s no more interest in what he goes through emotionally than in what his horse is feeling unless you count wondering whether he ll sort out the initial misunderstanding with the female lead by the end the music is a stronger indication of the emotional state of the characters than the acting is but it s fine if that floats your boat and i wouldn t berate you for enjoying diagnosis murder either workmanlike pedestrian and ageing rapidly stars for being competently put together for artistic endeavour\n",
            "Sentiment: negative\n",
            "\n",
            "Text: This show is a great history story. It's has everything from slavery,the way they were treated, religion, the ways Jews were sent into hiding,the inquisition, the belief in the Orisha the African gods, the way women were treated,including the daughters. Even down to homosexuality. The way the characters are intertwined and that Violante, that character saddens me. She is so desperate to be loved that she destroys everyone around her.I am so glad they decided to re-release it to t.v. again. Although I would love to see the unedited version. Xica has become my Heroine. I look up to the way she uses her power to help all who seek it. I love all the characters and have found that they can relate to many people now in this century. I look forward to my Xica every night. It would be great to dub it in English so the Americans can love her too.\n",
            "Text cleaned: this show is a great history story it s has everything from slavery the way they were treated religion the ways jews were sent into hiding the inquisition the belief in the orisha the african gods the way women were treated including the daughters even down to homosexuality the way the characters are intertwined and that violante that character saddens me she is so desperate to be loved that she destroys everyone around her i am so glad they decided to re release it to t v again although i would love to see the unedited version xica has become my heroine i look up to the way she uses her power to help all who seek it i love all the characters and have found that they can relate to many people now in this century i look forward to my xica every night it would be great to dub it in english so the americans can love her too\n",
            "Sentiment: positive\n",
            "\n",
            "Text: Not finding the right words is everybody's problem in this vaudeville-type urban comedy. They don't know what to say, and they don't know how to say it, which is why they embark on the potentially humiliating enterprise of pre-arranged speed dating. Unfortunately, they all come across as cardboard characters rather than real people. The story follows a conventional three-act structure: getting to know the sizable cast in their sorry single lives, the actual dating circuit, and a final stretch of romantic fallout, showcasing some of the new-found couples' follies. Because it's all so predictable, I'd say that as a narrative, \"Shoppen\" is a failure. As a comedy, most of the time it's too goofy to be really funny. Thumbs up to Kathrin von Steinburg. She stands out from the soap opera crowd as the aloof, independently wealthy Miriam. Great makeup on her too (Verena Weißert): Heavy eye shadow meets skin-tone lip gloss, creating a brooding and bohemian, yet girlish effect. Thumbs up also to Stefan Zinner as the Bavarian love machine and Tanja Schleiff as the hot nutritionist. They bypass the communication challenge by way of the timeless body language of copulation.\n",
            "Text cleaned: not finding the right words is everybody s problem in this vaudeville type urban comedy they don t know what to say and they don t know how to say it which is why they embark on the potentially humiliating enterprise of pre arranged speed dating unfortunately they all come across as cardboard characters rather than real people the story follows a conventional three act structure getting to know the sizable cast in their sorry single lives the actual dating circuit and a final stretch of romantic fallout showcasing some of the new found couples follies because it s all so predictable i d say that as a narrative shoppen is a failure as a comedy most of the time it s too goofy to be really funny thumbs up to kathrin von steinburg she stands out from the soap opera crowd as the aloof independently wealthy miriam great makeup on her too verena wei ert heavy eye shadow meets skin tone lip gloss creating a brooding and bohemian yet girlish effect thumbs up also to stefan zinner as the bavarian love machine and tanja schleiff as the hot nutritionist they bypass the communication challenge by way of the timeless body language of copulation\n",
            "Sentiment: negative\n",
            "\n",
            "Text: This movie is great. Best acting i have ever seen in my life. Ingvar E Sigurðsson is the best Icelandic actor, and of course Hilmir Snær and Bjorn jörundur. Great music and sound. Cold hard reality about a struggle of a man that has a lot of problems and the people in his life. Black humor mixed with great acting and this European art movies style, it works, it comes together in a the best Icelandic movie ever made. I say to you.\" See this film, you will not regret it\". I gave it 9 stars. If you see one Icelandic film in your life...See this one\n",
            "Text cleaned: this movie is great best acting i have ever seen in my life ingvar e sigur sson is the best icelandic actor and of course hilmir sn r and bjorn j rundur great music and sound cold hard reality about a struggle of a man that has a lot of problems and the people in his life black humor mixed with great acting and this european art movies style it works it comes together in a the best icelandic movie ever made i say to you see this film you will not regret it i gave it stars if you see one icelandic film in your life see this one\n",
            "Sentiment: positive\n",
            "\n"
          ]
        }
      ]
    },
    {
      "cell_type": "markdown",
      "metadata": {
        "id": "NZ2UCz3Xe1OZ"
      },
      "source": [
        "### Remove stopwords"
      ]
    },
    {
      "cell_type": "code",
      "metadata": {
        "colab": {
          "base_uri": "https://localhost:8080/"
        },
        "id": "6zeBl3k3kskH",
        "outputId": "fa035bfc-3c88-44ae-d88b-9b1f64e424cd"
      },
      "source": [
        "import nltk\n",
        "nltk.download('stopwords')\n",
        "from nltk.corpus import stopwords\n",
        "STOPWORDS = set(stopwords.words('english'))"
      ],
      "execution_count": 233,
      "outputs": [
        {
          "output_type": "stream",
          "name": "stdout",
          "text": [
            "[nltk_data] Downloading package stopwords to /root/nltk_data...\n",
            "[nltk_data]   Package stopwords is already up-to-date!\n"
          ]
        }
      ]
    },
    {
      "cell_type": "code",
      "metadata": {
        "id": "_wxuoukpku3H"
      },
      "source": [
        "df[\"cleaned_without_stopwords\"] = df[\"cleaned\"].apply(lambda x: ' '.join([word for word in x.split() if word not in (STOPWORDS)]))"
      ],
      "execution_count": 234,
      "outputs": []
    },
    {
      "cell_type": "code",
      "metadata": {
        "colab": {
          "base_uri": "https://localhost:8080/"
        },
        "id": "RmCsdfOxk74h",
        "outputId": "914f9641-c4ef-4c1c-9bfd-0ba53dced356"
      },
      "source": [
        "#Visualize some random examples after removing stop words\n",
        "import random\n",
        "random_index = random.randint(0, len(df)-5)\n",
        "for row in df[[\"cleaned_without_stopwords\", \"cleaned\", \"sentiment\"]][random_index:random_index+5].itertuples():\n",
        "  _, cleaned_without_stopwords, cleaned, sentiment = row\n",
        "  print(f\"Text with stopwords: {cleaned}\")\n",
        "  print(f\"Text without stopwords: {cleaned_without_stopwords}\")\n",
        "  print(f\"Sentiment: {sentiment}\\n\")"
      ],
      "execution_count": 235,
      "outputs": [
        {
          "output_type": "stream",
          "name": "stdout",
          "text": [
            "Text with stopwords: the name frau of the main character is the german word for woman i don t know if that was intentional or not but if sure got some giggles from the german audience at the fantasy film festival last year when it was shown but those were the only giggles the movie got not that it was aiming for giggles it s a horrible movie for heaven s sake a horrible movie in more than one meaning it s a shame that a premise like that was wasted with horrible even unbearable moments for the viewer definetely not for the faint of heart and it wasn t even necessary to show all the things that are shown i m not even going into a moral obligation because movies don t really have that kind of task or function discussion of what is shown here but this is a new low on the whole torture movement that has grown in the last few years\n",
            "Text without stopwords: name frau main character german word woman know intentional sure got giggles german audience fantasy film festival last year shown giggles movie got aiming giggles horrible movie heaven sake horrible movie one meaning shame premise like wasted horrible even unbearable moments viewer definetely faint heart even necessary show things shown even going moral obligation movies really kind task function discussion shown new low whole torture movement grown last years\n",
            "Sentiment: negative\n",
            "\n",
            "Text with stopwords: ah the classic genre of s sex comedies this is set on two beaches one a nude beach featuring myriad fully unclothed women the plot something about a bunch of dimwits attempting to get laid the usual fans of gratuitous t a and p should hunt this one down\n",
            "Text without stopwords: ah classic genre sex comedies set two beaches one nude beach featuring myriad fully unclothed women plot something bunch dimwits attempting get laid usual fans gratuitous p hunt one\n",
            "Sentiment: negative\n",
            "\n",
            "Text with stopwords: it s unbelievable but the fourth is better than the second and the third after the third that was awful it s incredible how they could have an unexpected sequel with new ideas chuck is the same nasty doll of the previous movies interesting the final that lets know that a fifth can be done\n",
            "Text without stopwords: unbelievable fourth better second third third awful incredible could unexpected sequel new ideas chuck nasty doll previous movies interesting final lets know fifth done\n",
            "Sentiment: positive\n",
            "\n",
            "Text with stopwords: yes said title line does actually appear in this movie why i m not sure when the line was actually being said didn t somebody in the crew filming at some point laugh i would have liked to see the outtakes from this movie mostly because i think they would be more entertaining than the movie itself helmed by director jim gillespie i know what you did last summer comes a teen slasher movie that seems to assume we haven t ever seen a teen slasher movie before of course he s not to be given all the blame there are also three writers responsible and this is somehow based on a video game that s still in production the title of said game is backwater but upon looking for information on it i came up with absolutely nothing and so we begin the movie i would like to say before i continue that i wasn t expecting this to win an oscar when i am in the right mindset i enjoy a fun horror movie to pass the time i think there exists an opportunity for an effective original and smart slasher movie venom is not this movie there is almost no character development at all that s fine you don t expect a whole lot however instead of a well knit cast of a few this movie decides to introduce us to the following many horror movie clich characters the final girl she has just broken up for her boyfriend this means that at some point in the movie when they are in peril they will decide to get back together again which more than likely means he will die and she will be the last remaining survivor of the movie eden is played by agnes bruckner without much enthusiasm i might add the boyfriend he s just around to co exist with the final girl until his demise sure he can save her but he s doomed and we know it eric is played by jonathan jackson the bimbos usually horror movies only feel the need for one of these but here we have two they shoplift they steal they might show their breasts not in this case or they might possibly be alcoholics a staple of the genre they also wander around in dimly lit areas all on their lonesome usually saying things like hello is there anybody there tammy and patty suitably named are played by bijou phillips and davetta sherwood the jackass sure he looks pretty but he s the idiot in the movie that s inserted purely to be an idiot he says stupid things does stupid things has obviously never seen a horror movie and is one of enjoyable kills you watch this kind of thing for sean is played by d j cotrona the girlfriend she loves the jackass even though pretty much nobody else does and she s usually the one left alive for a while so she can scream and cry until she starts tripping and gets left behind rachel is played by laura ramsey the creepy janitor in this case the creepy gas station attendant enough said ray is played by rick cramer i could continue but i think you get the picture the remaining characters aren t so much common as they are equally killable there s the gay guy pawel szajda as ricky who definitely got robbed as far as screen time is concerned and the one who knows what s going on of course none of that matters because at first everyone always thinks that one s crazy cece is played by meagan good there are a couple other characters namely a deputy played by method man but he and others are killed off pretty quickly and get even less character development than the following clich s so you re probably thinking why does this movie require such a deep analysis it s just a summer horror flick for cryin out loud based on that question does it deliver the goods yes and no the acting isn t particularly convincing even given the amount of talent involved bijou phillips was hailed for her performance in larry clark s bully and agnes bruckner has been an up and coming talent for a while now so what about the gore there s some that s really about it a lot of the juiciest bits are cut aways namely a scene involving somebody s face and a sandblaster used to remove paint from cars to the filmmaker s credit there are a couple interesting scenes i liked the bit where part of a house was literally ripped off so that the unstoppable villain could get to the characters if this had all been centered around a smarter screenplay in which the characters didn t make the same dumb mistakes literally hundreds of horror movie characters had made before them it might have made for a more enjoyable experience all of the most interesting characters are immediately killed off in the first third of the movie and then it just becomes a not particularly interesting countdown until we know it s just the creepy janitor and the final girl i suppose i must be a little jaded but as a horror film fan i m left wondering why i should have bothered when i could easily have written a better screenplay myself i won t even mention the numerous instances of terrible cgi\n",
            "Text without stopwords: yes said title line actually appear movie sure line actually said somebody crew filming point laugh would liked see outtakes movie mostly think would entertaining movie helmed director jim gillespie know last summer comes teen slasher movie seems assume ever seen teen slasher movie course given blame also three writers responsible somehow based video game still production title said game backwater upon looking information came absolutely nothing begin movie would like say continue expecting win oscar right mindset enjoy fun horror movie pass time think exists opportunity effective original smart slasher movie venom movie almost character development fine expect whole lot however instead well knit cast movie decides introduce us following many horror movie clich characters final girl broken boyfriend means point movie peril decide get back together likely means die last remaining survivor movie eden played agnes bruckner without much enthusiasm might add boyfriend around co exist final girl demise sure save doomed know eric played jonathan jackson bimbos usually horror movies feel need one two shoplift steal might show breasts case might possibly alcoholics staple genre also wander around dimly lit areas lonesome usually saying things like hello anybody tammy patty suitably named played bijou phillips davetta sherwood jackass sure looks pretty idiot movie inserted purely idiot says stupid things stupid things obviously never seen horror movie one enjoyable kills watch kind thing sean played j cotrona girlfriend loves jackass even though pretty much nobody else usually one left alive scream cry starts tripping gets left behind rachel played laura ramsey creepy janitor case creepy gas station attendant enough said ray played rick cramer could continue think get picture remaining characters much common equally killable gay guy pawel szajda ricky definitely got robbed far screen time concerned one knows going course none matters first everyone always thinks one crazy cece played meagan good couple characters namely deputy played method man others killed pretty quickly get even less character development following clich probably thinking movie require deep analysis summer horror flick cryin loud based question deliver goods yes acting particularly convincing even given amount talent involved bijou phillips hailed performance larry clark bully agnes bruckner coming talent gore really lot juiciest bits cut aways namely scene involving somebody face sandblaster used remove paint cars filmmaker credit couple interesting scenes liked bit part house literally ripped unstoppable villain could get characters centered around smarter screenplay characters make dumb mistakes literally hundreds horror movie characters made might made enjoyable experience interesting characters immediately killed first third movie becomes particularly interesting countdown know creepy janitor final girl suppose must little jaded horror film fan left wondering bothered could easily written better screenplay even mention numerous instances terrible cgi\n",
            "Sentiment: negative\n",
            "\n",
            "Text with stopwords: the script was very weak w o enough character arcs to make you care one bit about the characters or what happens to them the script is way too talky and not enough gore or action to even call it slow paced the story gets to the point that you just want everyone to shut up and die as quickly as possible so you don t have to listen to them talk this very muted stiff dialogue on a technical note the music mix is way to high and makes it hard to understand what is being said most times then again this could be called a blessing overall this same story could have better been told in a short film w a running time under minutes the obvious in your face homages to sam raimi and evil dead would have been good had they been more subtle but here they seem more like a bald faced rip off c mon this kind of mm budget and this is the best that could be done still the cinematography lighting design and shots were very well done indeed\n",
            "Text without stopwords: script weak w enough character arcs make care one bit characters happens script way talky enough gore action even call slow paced story gets point want everyone shut die quickly possible listen talk muted stiff dialogue technical note music mix way high makes hard understand said times could called blessing overall story could better told short film w running time minutes obvious face homages sam raimi evil dead would good subtle seem like bald faced rip c mon kind mm budget best could done still cinematography lighting design shots well done indeed\n",
            "Sentiment: negative\n",
            "\n"
          ]
        }
      ]
    },
    {
      "cell_type": "markdown",
      "metadata": {
        "id": "EFlmhZZvqCMb"
      },
      "source": [
        "### Encode the labels"
      ]
    },
    {
      "cell_type": "code",
      "metadata": {
        "id": "-wx4TkxcmECb"
      },
      "source": [
        "from sklearn.preprocessing import LabelBinarizer\n",
        "\n",
        "lb = LabelBinarizer()\n",
        "df[\"sentiment_label_bin\"] = lb.fit_transform(df[\"sentiment\"])"
      ],
      "execution_count": 236,
      "outputs": []
    },
    {
      "cell_type": "code",
      "metadata": {
        "colab": {
          "base_uri": "https://localhost:8080/",
          "height": 292
        },
        "id": "sncomi-sqmVo",
        "outputId": "4315cea8-51bf-44c3-b67e-4caff678d133"
      },
      "source": [
        "df.head()"
      ],
      "execution_count": 237,
      "outputs": [
        {
          "output_type": "execute_result",
          "data": {
            "text/html": [
              "<div>\n",
              "<style scoped>\n",
              "    .dataframe tbody tr th:only-of-type {\n",
              "        vertical-align: middle;\n",
              "    }\n",
              "\n",
              "    .dataframe tbody tr th {\n",
              "        vertical-align: top;\n",
              "    }\n",
              "\n",
              "    .dataframe thead th {\n",
              "        text-align: right;\n",
              "    }\n",
              "</style>\n",
              "<table border=\"1\" class=\"dataframe\">\n",
              "  <thead>\n",
              "    <tr style=\"text-align: right;\">\n",
              "      <th></th>\n",
              "      <th>review</th>\n",
              "      <th>sentiment</th>\n",
              "      <th>cleaned</th>\n",
              "      <th>cleaned_without_stopwords</th>\n",
              "      <th>sentiment_label_bin</th>\n",
              "    </tr>\n",
              "  </thead>\n",
              "  <tbody>\n",
              "    <tr>\n",
              "      <th>0</th>\n",
              "      <td>One of the other reviewers has mentioned that ...</td>\n",
              "      <td>positive</td>\n",
              "      <td>one of the other reviewers has mentioned that ...</td>\n",
              "      <td>one reviewers mentioned watching oz episode ho...</td>\n",
              "      <td>1</td>\n",
              "    </tr>\n",
              "    <tr>\n",
              "      <th>1</th>\n",
              "      <td>A wonderful little production. &lt;br /&gt;&lt;br /&gt;The...</td>\n",
              "      <td>positive</td>\n",
              "      <td>a wonderful little production the filming tech...</td>\n",
              "      <td>wonderful little production filming technique ...</td>\n",
              "      <td>1</td>\n",
              "    </tr>\n",
              "    <tr>\n",
              "      <th>2</th>\n",
              "      <td>I thought this was a wonderful way to spend ti...</td>\n",
              "      <td>positive</td>\n",
              "      <td>i thought this was a wonderful way to spend ti...</td>\n",
              "      <td>thought wonderful way spend time hot summer we...</td>\n",
              "      <td>1</td>\n",
              "    </tr>\n",
              "    <tr>\n",
              "      <th>3</th>\n",
              "      <td>Basically there's a family where a little boy ...</td>\n",
              "      <td>negative</td>\n",
              "      <td>basically there s a family where a little boy ...</td>\n",
              "      <td>basically family little boy jake thinks zombie...</td>\n",
              "      <td>0</td>\n",
              "    </tr>\n",
              "    <tr>\n",
              "      <th>4</th>\n",
              "      <td>Petter Mattei's \"Love in the Time of Money\" is...</td>\n",
              "      <td>positive</td>\n",
              "      <td>petter mattei s love in the time of money is a...</td>\n",
              "      <td>petter mattei love time money visually stunnin...</td>\n",
              "      <td>1</td>\n",
              "    </tr>\n",
              "  </tbody>\n",
              "</table>\n",
              "</div>"
            ],
            "text/plain": [
              "                                              review  ... sentiment_label_bin\n",
              "0  One of the other reviewers has mentioned that ...  ...                   1\n",
              "1  A wonderful little production. <br /><br />The...  ...                   1\n",
              "2  I thought this was a wonderful way to spend ti...  ...                   1\n",
              "3  Basically there's a family where a little boy ...  ...                   0\n",
              "4  Petter Mattei's \"Love in the Time of Money\" is...  ...                   1\n",
              "\n",
              "[5 rows x 5 columns]"
            ]
          },
          "metadata": {},
          "execution_count": 237
        }
      ]
    },
    {
      "cell_type": "markdown",
      "metadata": {
        "id": "5L6VpACKlkQl"
      },
      "source": [
        "### Split dataset and create dataframes"
      ]
    },
    {
      "cell_type": "code",
      "metadata": {
        "id": "qPc6gSFxlN8e"
      },
      "source": [
        "import numpy as np\n",
        "np.random.seed(42)\n",
        "perm = np.random.permutation(df.index)\n",
        "m = len(df)\n",
        "train_end = int(0.6 * m)\n",
        "validate_end = int(0.2 * m) + train_end\n",
        "train = df.iloc[perm[:train_end]]\n",
        "validate = df.iloc[perm[train_end:validate_end]]\n",
        "test = df.iloc[perm[validate_end:]]"
      ],
      "execution_count": 238,
      "outputs": []
    },
    {
      "cell_type": "code",
      "metadata": {
        "colab": {
          "base_uri": "https://localhost:8080/"
        },
        "id": "QkS3JSXXlpHp",
        "outputId": "d06d3538-6e46-4de5-a501-f85c4d7c8c0e"
      },
      "source": [
        "len(train), len(validate), len(test)"
      ],
      "execution_count": 239,
      "outputs": [
        {
          "output_type": "execute_result",
          "data": {
            "text/plain": [
              "(30000, 10000, 10000)"
            ]
          },
          "metadata": {},
          "execution_count": 239
        }
      ]
    },
    {
      "cell_type": "code",
      "metadata": {
        "colab": {
          "base_uri": "https://localhost:8080/"
        },
        "id": "Un9g_lvClrEk",
        "outputId": "e8eec82c-005e-4bb6-f0e6-51f404b8e302"
      },
      "source": [
        "#Turn dataframes into numpy arrays \n",
        "train_sentences = train[\"cleaned_without_stopwords\"].to_numpy()\n",
        "train_labels = train[\"sentiment_label_bin\"].to_numpy()\n",
        "val_sentences = validate[\"cleaned_without_stopwords\"].to_numpy()\n",
        "val_labels = validate[\"sentiment_label_bin\"].to_numpy()\n",
        "test_sentences = test[\"cleaned_without_stopwords\"].to_numpy()\n",
        "test_labels = test[\"sentiment_label_bin\"].to_numpy()\n",
        "train_sentences.shape, val_sentences.shape, test_sentences.shape"
      ],
      "execution_count": 240,
      "outputs": [
        {
          "output_type": "execute_result",
          "data": {
            "text/plain": [
              "((30000,), (10000,), (10000,))"
            ]
          },
          "metadata": {},
          "execution_count": 240
        }
      ]
    },
    {
      "cell_type": "code",
      "metadata": {
        "colab": {
          "base_uri": "https://localhost:8080/"
        },
        "id": "-58ZZSw1rp2o",
        "outputId": "9e2ad3a8-e1e3-4819-e974-7571855dd2ab"
      },
      "source": [
        "train_sentences[:10], train_labels[:10]"
      ],
      "execution_count": 241,
      "outputs": [
        {
          "output_type": "execute_result",
          "data": {
            "text/plain": [
              "(array(['really liked summerslam due look arena curtains look overall interesting reason anyways could one best summerslam ever wwf lex luger main event yokozuna time ok huge fat man vs strong man glad times changed terrible main event like every match luger terrible matches card razor ramon vs ted dibiase steiner brothers vs heavenly bodies shawn michaels vs curt hening event shawn named big monster body guard diesel irs vs kid bret hart first takes doink takes jerry lawler stuff harts lawler always interesting ludvig borga destroyed marty jannetty undertaker took giant gonzalez another terrible match smoking gunns tatanka took bam bam bigelow headshrinkers yokozuna defended world title lex luger match boring terrible ending however deserves',\n",
              "        'many television shows appeal quite many different kinds fans like farscape know youngsters years old fans male female many different countries think adore v miniseries elements found almost every show v character driven drama could australian soap opera yet episode science fact fiction would give even hardiest trekkie run money brainbender stakes wormhole theory time travel true equational form magnificent embraces cultures map possibilities endless multiple stars therefore thousands planets choose broad scope would expected nothing would able keep illusion long farscape really comes element succeeds others failed especially likes star trek universe practically zero kaos element ran ideas pretty quickly kept rehashing course seasons manage keep audience attention using good continuity constant character evolution multiple threads every episode unique personal touches camera specific certain character groups within whole structure allows extremely large area subject matter loyalties forged broken many ways many many issues happened see pilot premiere passing keep tuning see crichton would ever get girl seeing television delighted see available dvd admit thing kept sane whilst hour night shift developed chronic insomnia farscape thing get extremely long nights favour watch pilot see mean farscape comet',\n",
              "        'film quickly gets major chase scene ever increasing destruction first really bad thing guy hijacking steven seagal would beaten pulp seagal driving probably would ended whole premise movie seems like decided make kinds changes movie plot plan enjoy action expect coherent plot turn sense logic may reduce chance getting headache give hope steven seagal trying move back towards type characters portrayed popular movies',\n",
              "        'jane austen would definitely approve one gwyneth paltrow awesome job capturing attitude emma funny without excessively silly yet elegant puts convincing british accent british maybe best judge fooled also excellent sliding doors sometimes forget american also brilliant jeremy northam sophie thompson phyllida law emma thompson sister mother bates women nearly steal show ms law even lines highly recommended',\n",
              "        'expectations somewhat high went see movie thought steve carell could wrong coming great movies like anchorman year old virgin little miss sunshine boy wrong start right movie certain points steve carell allowed steve carell handful moments film made laugh due almost entirely given wiggle room thing undoubtedly talented individual shame signed turned opinion total train wreck way discuss went horrifyingly wrong film begins dan burns widower three girls considered nationally syndicated advice column prepares girls family reunion extended relatives gather time family high atop list things make awful movie family behaves like almost transported pleasantville leave beaver caricature think family reaches point become obnoxious simply frustrating touch football crossword puzzle competitions family bowling talent shows actual people behave almost sickening another big flaw woman carell supposed falling observing first scene steve carell like watching stroke victim trying rehabilitated imagine supposed unique original woman comes mildly retarded makes think movie taking place another planet left theater wondering saw thinking think much',\n",
              "        'watched movie fairly regular basis life never gets old snide remarks insults mostly david spade tommy boy giant heart keeps movie funny years tommy callahan chris farley son big tom callahan brian dennehy master car parts salesman ridden life died dies wedding day tommy learns company debt bought ray zalinsky dan akroyd owner huge car parts company order save company tommy go road sell company new brake pads along ride though choice richard hayden david spade former classmate tommy big tom right hand man movie rides chemistry two snl stars real life best friends chris farley david spade duo enough comic energy going power world big dumb guy versus smart little guy works scenes unforgettably funny farley spade actually decent dramatic actors well although film primarily comedy fair share drama spade especially farley good making audience laugh forgive talk chris farley little read biography chris farley show biography three acts anyone cares understanding chris real life made movie special chris farley genuinely good person struggled ultimately failed conquer addictions although first movie major role best film really showed much talent knowing chris story adds another layer movie although make less funny farley spade matched good screen cast rob lowe suitably slimy tommy new brother bo derek solid step mother brian dennehy great big tom dennehy makes easy believe father son big tom crazy son although smarter mature dan akroyd gives one best performances zalinsky giving tommy hard truth behind advertising julie warner also good tommy love interest michelle peter segal one great comedy directors keeps pace quick energetic importantly knows make comedy funny belabor jokes understands funny actors know allows segal goes step gives tommy boy friendly almost nostalgic tone tugs heartstrings genuinely tickles funnybone critics like tommy boy shame movie super sophisticated subversively intellectual funny god forbid farley spade forced muted comedy la office great movie one time favorites',\n",
              "        'story hope highlighted tragic reality youth face favela rising draws one scary unsafe unfair world shows beautiful color moving music one man dedicated friends choose accept world change action art entertaining interesting emotional aesthetically beautiful film showed film numerous high school students well live neighborhoods poverty gun violence enamored anderson protagonist recommend film ages due subtitles images death backgrounds',\n",
              "        'okay get purgatory thing first time watched episode seemed like something significant going put finger time costa mesa fires tv really caught attention helped writing essay inferno let see discussed yet twop review mentioned tony flights stairs go broken elevator yeah significant number lots reasons especially religious one ya hunch consulted wikipedia guess dante divided levels purgatorio excluding ante purgatory paradise stuff bottom stairs tony get allegedly random monk slap scene soon monks appeared fit perfectly place tony trying get purgatory tell got worried christian commercial death disease sin came getting desperate christian heaven looking kinda iffy time meets monks thinking hey maybe guys help sounds like contemplating religions e g buddhism wondering path could take salvation tony necessarily literally thinking becoming buddhist appears finnerty tried messed slap face basically tells tony quick fix suddenly embrace buddhism get tony initially concerned getting heaven conference entrance realizes going easy first saw name vs driver license problem tony led sort double life killing people sleeping around kept secret people feels free affair quasi melfi kevin finnerty figures fool people kf cards like hotel receptionists get purgatory helicopters helicopters heaven keeping track everything reading theories infinnerty though seems like kf identity reminder infinite different paths tony could taken life possibly along car joke involving infiniti made sense otherwise aaaand point brain fizzles',\n",
              "        'disappointed series lots cool graphics level detail went minimal always got feeling audience patronized lot seemed extremely cool going explain detail get anyway let show pretty pictures entertain host would drop interesting sounding words sparticles super symmetry without attempt explaining look wikipedia furthermore know quite bit superstrings layman found explanations convoluted could much better could chosen much better examples explain concepts instead examples used confusing obscured subject additionally got sick repetitiveness could easily condensed series one episode cut repetition must shown clips quantum caf times host kept saying things remember many times said universe made tiny little vibrating strings like trying brainwash us accepting superstrings best thing since sliced bread finally show ended unpleasant sense competition fermilab cern clearly biased towards fermilab supposed educational program quantum physics whether us better europe vice versa also felt part patronizing audiences need see conflict remain interested please give little credit overall thumbs',\n",
              "        'first minutes tinseltown finger teetering remote poised flick around watch something else premise two writers luck living self storage space bin mildly amusing painfully bland introduction character played joe pantoliano big deal movie guy lives park sleeps lavatory offered hope decided give minutes kristy swansons introduction budding film director borderline nymphomaniac added bit spice solid acting performance raised presence beyond welcome eye candy inclusion ultimately obvious low budget impacts film poorly shot scenes stuttured pace slapstick handling certain moments favourite movies time low budget whithnail one also deals guys dream luck however money actors save tinseltown terrible movie archives nudges could cult movie archives laughed loud scenes involving joe pantoliano character particular penultimate scenes terribly clich still funny rich screwed characters house story unravels towards final moments see tinseltown great stage play film makers best translate celluloid simply work laughed loud scenes one liners think first minutes dulled senses expectations degree would laughed anything unless stuck novelty coffee coaster pick see bargain bucket'],\n",
              "       dtype=object), array([1, 1, 0, 1, 0, 1, 1, 1, 0, 0]))"
            ]
          },
          "metadata": {},
          "execution_count": 241
        }
      ]
    },
    {
      "cell_type": "markdown",
      "metadata": {
        "id": "_3Wy1yEkqqdw"
      },
      "source": [
        "### Create TensorFlow Datasets"
      ]
    },
    {
      "cell_type": "code",
      "metadata": {
        "id": "1aIPwXfGrJ1W"
      },
      "source": [
        "#Turn data into TensorFlow Dataset\n",
        "import tensorflow as tf\n",
        "train_dataset = tf.data.Dataset.from_tensor_slices((train_sentences, train_labels)).batch(32).prefetch(tf.data.AUTOTUNE)\n",
        "val_dataset = tf.data.Dataset.from_tensor_slices((val_sentences, val_labels)).batch(32).prefetch(tf.data.AUTOTUNE)\n",
        "test_dataset = tf.data.Dataset.from_tensor_slices((test_sentences, test_labels)).batch(32).prefetch(tf.data.AUTOTUNE)"
      ],
      "execution_count": 242,
      "outputs": []
    },
    {
      "cell_type": "code",
      "metadata": {
        "colab": {
          "base_uri": "https://localhost:8080/"
        },
        "id": "dxY7h8W4sAeR",
        "outputId": "d8454bd4-b62b-4f77-d43d-72c4378a5b15"
      },
      "source": [
        "train_dataset, val_dataset, test_dataset"
      ],
      "execution_count": 243,
      "outputs": [
        {
          "output_type": "execute_result",
          "data": {
            "text/plain": [
              "(<PrefetchDataset shapes: ((None,), (None,)), types: (tf.string, tf.int64)>,\n",
              " <PrefetchDataset shapes: ((None,), (None,)), types: (tf.string, tf.int64)>,\n",
              " <PrefetchDataset shapes: ((None,), (None,)), types: (tf.string, tf.int64)>)"
            ]
          },
          "metadata": {},
          "execution_count": 243
        }
      ]
    },
    {
      "cell_type": "markdown",
      "metadata": {
        "id": "IIJ3vg3isH35"
      },
      "source": [
        "## Create Text Vectorization layer\n"
      ]
    },
    {
      "cell_type": "code",
      "metadata": {
        "colab": {
          "base_uri": "https://localhost:8080/"
        },
        "id": "PpAnPmGFtETA",
        "outputId": "aee27366-43a6-4575-a263-39140efab6b6"
      },
      "source": [
        "#Find average number of words in training sentences\n",
        "sent_len = [len(sentence.split()) for sentence in train_sentences]\n",
        "avg_sent_len = np.mean(sent_len)\n",
        "avg_sent_len"
      ],
      "execution_count": 244,
      "outputs": [
        {
          "output_type": "execute_result",
          "data": {
            "text/plain": [
              "118.65736666666666"
            ]
          },
          "metadata": {},
          "execution_count": 244
        }
      ]
    },
    {
      "cell_type": "code",
      "metadata": {
        "colab": {
          "base_uri": "https://localhost:8080/",
          "height": 515
        },
        "id": "N4KiSzLVtGuB",
        "outputId": "54987cfd-a731-4226-f3b9-08edea1a20a3"
      },
      "source": [
        "import matplotlib.pyplot as plt\n",
        "plt.figure(figsize=(10,7))\n",
        "plt.hist(sent_len, bins=7)"
      ],
      "execution_count": 245,
      "outputs": [
        {
          "output_type": "execute_result",
          "data": {
            "text/plain": [
              "(array([2.4173e+04, 4.6100e+03, 1.0500e+03, 1.6100e+02, 2.0000e+00,\n",
              "        1.0000e+00, 3.0000e+00]),\n",
              " array([   3.        ,  167.42857143,  331.85714286,  496.28571429,\n",
              "         660.71428571,  825.14285714,  989.57142857, 1154.        ]),\n",
              " <a list of 7 Patch objects>)"
            ]
          },
          "metadata": {},
          "execution_count": 245
        },
        {
          "output_type": "display_data",
          "data": {
            "image/png": "[encoded data removed]",
            "text/plain": [
              "<Figure size 720x504 with 1 Axes>"
            ]
          },
          "metadata": {
            "needs_background": "light"
          }
        }
      ]
    },
    {
      "cell_type": "code",
      "metadata": {
        "colab": {
          "base_uri": "https://localhost:8080/"
        },
        "id": "sALjRVsKtI_P",
        "outputId": "4be3fee1-238a-4697-d240-0f9a1c1ea639"
      },
      "source": [
        "# How long of a sentence covers 95% of the lengths?\n",
        "output_seq_len = int(np.percentile(sent_len, 95))\n",
        "output_seq_len"
      ],
      "execution_count": 246,
      "outputs": [
        {
          "output_type": "execute_result",
          "data": {
            "text/plain": [
              "307"
            ]
          },
          "metadata": {},
          "execution_count": 246
        }
      ]
    },
    {
      "cell_type": "code",
      "metadata": {
        "id": "lTTvP93CtNUy"
      },
      "source": [
        "from tensorflow.keras.layers.experimental.preprocessing import TextVectorization\n",
        "\n",
        "max_vocab_length = 5000\n",
        "max_length = output_seq_len\n",
        "max_length = 100\n",
        "\n",
        "text_vectorizer = TextVectorization(max_tokens=max_vocab_length,\n",
        "                                    output_mode=\"int\",\n",
        "                                    output_sequence_length=max_length)"
      ],
      "execution_count": 250,
      "outputs": []
    },
    {
      "cell_type": "code",
      "metadata": {
        "id": "XOsY56P0tQ_K"
      },
      "source": [
        "#Fit vectorizer to train sentences\n",
        "text_vectorizer.adapt(train_sentences)"
      ],
      "execution_count": 251,
      "outputs": []
    },
    {
      "cell_type": "markdown",
      "metadata": {
        "id": "nvF85nIOtTFU"
      },
      "source": [
        "## Create Embedding layer"
      ]
    },
    {
      "cell_type": "code",
      "metadata": {
        "id": "ZAykUKpLtgP6"
      },
      "source": [
        "from tensorflow.keras import layers\n",
        "\n",
        "embedding = layers.Embedding(input_dim=max_vocab_length,\n",
        "                             output_dim=64,\n",
        "                             embeddings_initializer=\"uniform\",\n",
        "                             input_length=max_length)"
      ],
      "execution_count": 252,
      "outputs": []
    },
    {
      "cell_type": "markdown",
      "metadata": {
        "id": "FUXuwaOUtpSG"
      },
      "source": [
        "## Modelling experiments"
      ]
    },
    {
      "cell_type": "code",
      "metadata": {
        "colab": {
          "base_uri": "https://localhost:8080/"
        },
        "id": "e9aw66YytxQ0",
        "outputId": "fd38489b-a706-48ae-e156-6861b5ea9bb1"
      },
      "source": [
        "!wget !wget https://raw.githubusercontent.com/schauppi/Udemy_TensorFlow_Developer/main/Exam_preparation/helper_functions.py"
      ],
      "execution_count": 27,
      "outputs": [
        {
          "output_type": "stream",
          "name": "stdout",
          "text": [
            "--2021-09-09 09:43:34--  http://!wget/\n",
            "Resolving !wget (!wget)... failed: Name or service not known.\n",
            "wget: unable to resolve host address ‘!wget’\n",
            "--2021-09-09 09:43:34--  https://raw.githubusercontent.com/schauppi/Udemy_TensorFlow_Developer/main/Exam_preparation/helper_functions.py\n",
            "Resolving raw.githubusercontent.com (raw.githubusercontent.com)... 185.199.108.133, 185.199.110.133, 185.199.111.133, ...\n",
            "Connecting to raw.githubusercontent.com (raw.githubusercontent.com)|185.199.108.133|:443... connected.\n",
            "HTTP request sent, awaiting response... 200 OK\n",
            "Length: 5005 (4.9K) [text/plain]\n",
            "Saving to: ‘helper_functions.py’\n",
            "\n",
            "helper_functions.py 100%[===================>]   4.89K  --.-KB/s    in 0s      \n",
            "\n",
            "2021-09-09 09:43:35 (48.1 MB/s) - ‘helper_functions.py’ saved [5005/5005]\n",
            "\n",
            "FINISHED --2021-09-09 09:43:35--\n",
            "Total wall clock time: 0.5s\n",
            "Downloaded: 1 files, 4.9K in 0s (48.1 MB/s)\n"
          ]
        }
      ]
    },
    {
      "cell_type": "code",
      "metadata": {
        "id": "hizw4Cfmt3GY"
      },
      "source": [
        "from helper_functions import plot_training_curve"
      ],
      "execution_count": 253,
      "outputs": []
    },
    {
      "cell_type": "markdown",
      "metadata": {
        "id": "6lyUH8K5tsP5"
      },
      "source": [
        "### Model 1: Dense"
      ]
    },
    {
      "cell_type": "code",
      "metadata": {
        "id": "2iIUYLoktver"
      },
      "source": [
        "tf.random.set_seed(42)\n",
        "\n",
        "#Build the model \n",
        "inputs = layers.Input(shape=(1,), dtype=\"string\")\n",
        "x = text_vectorizer(inputs)\n",
        "x = embedding(x)\n",
        "x = layers.Dropout(0.5)(x)\n",
        "x = layers.GlobalAveragePooling1D()(x)\n",
        "x = layers.Dropout(0.5)(x)\n",
        "outputs = layers.Dense(1, activation=\"sigmoid\")(x)\n",
        "model_1 = tf.keras.Model(inputs, outputs)"
      ],
      "execution_count": 254,
      "outputs": []
    },
    {
      "cell_type": "code",
      "metadata": {
        "id": "R2-m34FLun5c"
      },
      "source": [
        "#Compile the model \n",
        "model_1.compile(loss=\"binary_crossentropy\", optimizer=\"Adam\", metrics=\"accuracy\")"
      ],
      "execution_count": 255,
      "outputs": []
    },
    {
      "cell_type": "code",
      "metadata": {
        "colab": {
          "base_uri": "https://localhost:8080/"
        },
        "id": "wUpi6dM4uwct",
        "outputId": "02681be7-47ca-4c3b-86f8-db9af8db2192"
      },
      "source": [
        "#Fit the model \n",
        "history_model_1 = model_1.fit(train_dataset,\n",
        "                              epochs=100,\n",
        "                              batch_size=128,\n",
        "                              validation_data=val_dataset,\n",
        "                              callbacks=[tf.keras.callbacks.ReduceLROnPlateau(monitor=\"val_loss\", patience=5, verbose=1),\n",
        "                                         tf.keras.callbacks.EarlyStopping(monitor=\"val_loss\", patience=10, restore_best_weights=True, verbose=1)])"
      ],
      "execution_count": 256,
      "outputs": [
        {
          "output_type": "stream",
          "name": "stdout",
          "text": [
            "Epoch 1/100\n",
            "938/938 [==============================] - 9s 9ms/step - loss: 0.5675 - accuracy: 0.7655 - val_loss: 0.4286 - val_accuracy: 0.8380\n",
            "Epoch 2/100\n",
            "938/938 [==============================] - 8s 8ms/step - loss: 0.3672 - accuracy: 0.8567 - val_loss: 0.3460 - val_accuracy: 0.8579\n",
            "Epoch 3/100\n",
            "938/938 [==============================] - 8s 8ms/step - loss: 0.3109 - accuracy: 0.8749 - val_loss: 0.3243 - val_accuracy: 0.8617\n",
            "Epoch 4/100\n",
            "938/938 [==============================] - 8s 9ms/step - loss: 0.2868 - accuracy: 0.8846 - val_loss: 0.3168 - val_accuracy: 0.8657\n",
            "Epoch 5/100\n",
            "938/938 [==============================] - 8s 8ms/step - loss: 0.2713 - accuracy: 0.8905 - val_loss: 0.3155 - val_accuracy: 0.8666\n",
            "Epoch 6/100\n",
            "938/938 [==============================] - 8s 8ms/step - loss: 0.2614 - accuracy: 0.8950 - val_loss: 0.3163 - val_accuracy: 0.8674\n",
            "Epoch 7/100\n",
            "938/938 [==============================] - 8s 9ms/step - loss: 0.2520 - accuracy: 0.8979 - val_loss: 0.3188 - val_accuracy: 0.8665\n",
            "Epoch 8/100\n",
            "938/938 [==============================] - 8s 8ms/step - loss: 0.2471 - accuracy: 0.9012 - val_loss: 0.3222 - val_accuracy: 0.8646\n",
            "Epoch 9/100\n",
            "938/938 [==============================] - 8s 8ms/step - loss: 0.2413 - accuracy: 0.9042 - val_loss: 0.3264 - val_accuracy: 0.8631\n",
            "Epoch 10/100\n",
            "938/938 [==============================] - 8s 8ms/step - loss: 0.2382 - accuracy: 0.9051 - val_loss: 0.3307 - val_accuracy: 0.8624\n",
            "\n",
            "Epoch 00010: ReduceLROnPlateau reducing learning rate to 0.00010000000474974513.\n",
            "Epoch 11/100\n",
            "938/938 [==============================] - 8s 8ms/step - loss: 0.2276 - accuracy: 0.9106 - val_loss: 0.3306 - val_accuracy: 0.8623\n",
            "Epoch 12/100\n",
            "938/938 [==============================] - 8s 9ms/step - loss: 0.2269 - accuracy: 0.9116 - val_loss: 0.3311 - val_accuracy: 0.8629\n",
            "Epoch 13/100\n",
            "938/938 [==============================] - 8s 8ms/step - loss: 0.2255 - accuracy: 0.9116 - val_loss: 0.3316 - val_accuracy: 0.8623\n",
            "Epoch 14/100\n",
            "938/938 [==============================] - 8s 8ms/step - loss: 0.2262 - accuracy: 0.9114 - val_loss: 0.3321 - val_accuracy: 0.8623\n",
            "Epoch 15/100\n",
            "938/938 [==============================] - 8s 8ms/step - loss: 0.2243 - accuracy: 0.9131 - val_loss: 0.3326 - val_accuracy: 0.8622\n",
            "\n",
            "Epoch 00015: ReduceLROnPlateau reducing learning rate to 1.0000000474974514e-05.\n",
            "Restoring model weights from the end of the best epoch.\n",
            "Epoch 00015: early stopping\n"
          ]
        }
      ]
    },
    {
      "cell_type": "code",
      "metadata": {
        "colab": {
          "base_uri": "https://localhost:8080/"
        },
        "id": "rtgcfJD4u4Dp",
        "outputId": "9a4f51a8-d531-4e3d-b398-4b529c42ea18"
      },
      "source": [
        "#Evaluate\n",
        "model_1.evaluate(test_dataset)"
      ],
      "execution_count": 257,
      "outputs": [
        {
          "output_type": "stream",
          "name": "stdout",
          "text": [
            "313/313 [==============================] - 4s 11ms/step - loss: 0.3191 - accuracy: 0.8678\n"
          ]
        },
        {
          "output_type": "execute_result",
          "data": {
            "text/plain": [
              "[0.3190637230873108, 0.8677999973297119]"
            ]
          },
          "metadata": {},
          "execution_count": 257
        }
      ]
    },
    {
      "cell_type": "code",
      "metadata": {
        "colab": {
          "base_uri": "https://localhost:8080/",
          "height": 444
        },
        "id": "saQppkf7vxst",
        "outputId": "5e9e8edc-0b3b-40f6-974d-95dcb9400f47"
      },
      "source": [
        "#Plot model history\n",
        "plot_training_curve(history_model_1)"
      ],
      "execution_count": 258,
      "outputs": [
        {
          "output_type": "display_data",
          "data": {
            "image/png": "[encoded data removed]",
            "text/plain": [
              "<Figure size 720x504 with 1 Axes>"
            ]
          },
          "metadata": {
            "needs_background": "light"
          }
        }
      ]
    },
    {
      "cell_type": "markdown",
      "metadata": {
        "id": "dsY_qXun8oa2"
      },
      "source": [
        "### Model 2: Conv1D"
      ]
    },
    {
      "cell_type": "code",
      "metadata": {
        "id": "-9WHHi2o8sla"
      },
      "source": [
        "tf.random.set_seed(42)\n",
        "\n",
        "#Build the model\n",
        "inputs = layers.Input(shape=(1,), dtype=\"string\")\n",
        "x = text_vectorizer(inputs)\n",
        "x = embedding(x)\n",
        "x = layers.SpatialDropout1D(0.5)(x)\n",
        "x = layers.Conv1D(8, 2, activation=\"relu\", kernel_regularizer=tf.keras.regularizers.l2(0.001), activity_regularizer=tf.keras.regularizers.l1(0.001))(x)\n",
        "x = layers.GlobalAveragePooling1D()(x)\n",
        "x = layers.Dropout(0.5)(x)\n",
        "outputs = layers.Dense(1, activation=\"sigmoid\")(x)\n",
        "model_2 = tf.keras.Model(inputs, outputs)"
      ],
      "execution_count": 206,
      "outputs": []
    },
    {
      "cell_type": "code",
      "metadata": {
        "id": "wov4iYp79E5Q"
      },
      "source": [
        "#Compile the model \n",
        "model_2.compile(loss=\"binary_crossentropy\", optimizer=\"Adam\", metrics=\"accuracy\")"
      ],
      "execution_count": 207,
      "outputs": []
    },
    {
      "cell_type": "code",
      "metadata": {
        "colab": {
          "base_uri": "https://localhost:8080/"
        },
        "id": "6g4d30779MLF",
        "outputId": "c5a3ef10-a43d-4cba-ea23-7170a574608f"
      },
      "source": [
        "#Fit the model \n",
        "history_model_2 = model_2.fit(train_dataset,\n",
        "                              epochs=20,\n",
        "                              batch_size=128,\n",
        "                              validation_data=val_dataset,\n",
        "                              callbacks=[tf.keras.callbacks.ReduceLROnPlateau(monitor=\"val_loss\", patience=5, verbose=1),\n",
        "                                         tf.keras.callbacks.EarlyStopping(monitor=\"val_loss\", patience=10, restore_best_weights=True, verbose=1)])"
      ],
      "execution_count": 208,
      "outputs": [
        {
          "output_type": "stream",
          "name": "stdout",
          "text": [
            "Epoch 1/20\n",
            "938/938 [==============================] - 10s 10ms/step - loss: 0.6729 - accuracy: 0.6794 - val_loss: 0.6109 - val_accuracy: 0.8553\n",
            "Epoch 2/20\n",
            "938/938 [==============================] - 9s 10ms/step - loss: 0.6084 - accuracy: 0.7341 - val_loss: 0.5557 - val_accuracy: 0.8470\n",
            "Epoch 3/20\n",
            "938/938 [==============================] - 9s 9ms/step - loss: 0.5782 - accuracy: 0.7577 - val_loss: 0.5278 - val_accuracy: 0.8415\n",
            "Epoch 4/20\n",
            "938/938 [==============================] - 8s 9ms/step - loss: 0.5569 - accuracy: 0.7716 - val_loss: 0.5080 - val_accuracy: 0.8380\n",
            "Epoch 5/20\n",
            "938/938 [==============================] - 9s 10ms/step - loss: 0.5466 - accuracy: 0.7718 - val_loss: 0.4996 - val_accuracy: 0.8312\n",
            "Epoch 6/20\n",
            "938/938 [==============================] - 9s 9ms/step - loss: 0.5333 - accuracy: 0.7785 - val_loss: 0.4879 - val_accuracy: 0.8295\n",
            "Epoch 7/20\n",
            "938/938 [==============================] - 9s 9ms/step - loss: 0.5266 - accuracy: 0.7840 - val_loss: 0.4855 - val_accuracy: 0.8261\n",
            "Epoch 8/20\n",
            "938/938 [==============================] - 9s 9ms/step - loss: 0.5167 - accuracy: 0.7855 - val_loss: 0.4708 - val_accuracy: 0.8309\n",
            "Epoch 9/20\n",
            "938/938 [==============================] - 9s 9ms/step - loss: 0.5136 - accuracy: 0.7861 - val_loss: 0.4750 - val_accuracy: 0.8257\n",
            "Epoch 10/20\n",
            "938/938 [==============================] - 9s 9ms/step - loss: 0.5043 - accuracy: 0.7924 - val_loss: 0.4614 - val_accuracy: 0.8306\n",
            "Epoch 11/20\n",
            "938/938 [==============================] - 9s 9ms/step - loss: 0.5020 - accuracy: 0.7905 - val_loss: 0.4638 - val_accuracy: 0.8259\n",
            "Epoch 12/20\n",
            "938/938 [==============================] - 8s 9ms/step - loss: 0.4960 - accuracy: 0.7942 - val_loss: 0.4531 - val_accuracy: 0.8292\n",
            "Epoch 13/20\n",
            "938/938 [==============================] - 9s 9ms/step - loss: 0.4952 - accuracy: 0.7938 - val_loss: 0.4557 - val_accuracy: 0.8255\n",
            "Epoch 14/20\n",
            "938/938 [==============================] - 9s 9ms/step - loss: 0.4901 - accuracy: 0.7946 - val_loss: 0.4550 - val_accuracy: 0.8259\n",
            "Epoch 15/20\n",
            "938/938 [==============================] - 9s 9ms/step - loss: 0.4849 - accuracy: 0.7979 - val_loss: 0.4552 - val_accuracy: 0.8250\n",
            "Epoch 16/20\n",
            "938/938 [==============================] - 9s 10ms/step - loss: 0.4820 - accuracy: 0.7998 - val_loss: 0.4511 - val_accuracy: 0.8242\n",
            "Epoch 17/20\n",
            "938/938 [==============================] - 9s 9ms/step - loss: 0.4764 - accuracy: 0.8043 - val_loss: 0.4447 - val_accuracy: 0.8243\n",
            "Epoch 18/20\n",
            "938/938 [==============================] - 9s 9ms/step - loss: 0.4773 - accuracy: 0.8003 - val_loss: 0.4468 - val_accuracy: 0.8230\n",
            "Epoch 19/20\n",
            "938/938 [==============================] - 9s 9ms/step - loss: 0.4684 - accuracy: 0.8067 - val_loss: 0.4431 - val_accuracy: 0.8246\n",
            "Epoch 20/20\n",
            "938/938 [==============================] - 9s 10ms/step - loss: 0.4708 - accuracy: 0.8065 - val_loss: 0.4448 - val_accuracy: 0.8230\n"
          ]
        }
      ]
    },
    {
      "cell_type": "code",
      "metadata": {
        "colab": {
          "base_uri": "https://localhost:8080/"
        },
        "id": "GJUB1s2y9POl",
        "outputId": "771090a5-c08b-4385-c1bc-ea2ec132a162"
      },
      "source": [
        "#Evaluate\n",
        "model_2.evaluate(test_dataset)"
      ],
      "execution_count": 209,
      "outputs": [
        {
          "output_type": "stream",
          "name": "stdout",
          "text": [
            "313/313 [==============================] - 1s 4ms/step - loss: 0.4440 - accuracy: 0.8264\n"
          ]
        },
        {
          "output_type": "execute_result",
          "data": {
            "text/plain": [
              "[0.4440321922302246, 0.8263999819755554]"
            ]
          },
          "metadata": {},
          "execution_count": 209
        }
      ]
    },
    {
      "cell_type": "code",
      "metadata": {
        "colab": {
          "base_uri": "https://localhost:8080/",
          "height": 444
        },
        "id": "V2bZrtlm9SrN",
        "outputId": "f25f1833-4b50-4538-e325-ccabc430abef"
      },
      "source": [
        "#Plot model history\n",
        "plot_training_curve(history_model_2)"
      ],
      "execution_count": 210,
      "outputs": [
        {
          "output_type": "display_data",
          "data": {
            "image/png": "[encoded data removed]",
            "text/plain": [
              "<Figure size 720x504 with 1 Axes>"
            ]
          },
          "metadata": {
            "needs_background": "light"
          }
        }
      ]
    },
    {
      "cell_type": "markdown",
      "metadata": {
        "id": "oxiNL3HFHeW8"
      },
      "source": [
        "### Model 3: LSTM"
      ]
    },
    {
      "cell_type": "code",
      "metadata": {
        "id": "1kEesMT6HgHz"
      },
      "source": [
        "tf.random.set_seed(42)\n",
        "\n",
        "#Build the model\n",
        "inputs = layers.Input(shape=(1,), dtype=\"string\")\n",
        "x = text_vectorizer(inputs)\n",
        "x = embedding(x)\n",
        "x = layers.Dropout(0.4)(x)\n",
        "x = layers.LSTM(8, kernel_regularizer=tf.keras.regularizers.l2(0.001), activity_regularizer=tf.keras.regularizers.l1(0.001))(x)\n",
        "x = layers.Dropout(0.4)(x)\n",
        "x = layers.Dense(8, kernel_regularizer=tf.keras.regularizers.l2(0.001), activity_regularizer=tf.keras.regularizers.l1(0.001))(x)\n",
        "outputs = layers.Dense(1, activation=\"sigmoid\")(x)\n",
        "model_3 = tf.keras.Model(inputs, outputs)"
      ],
      "execution_count": 211,
      "outputs": []
    },
    {
      "cell_type": "code",
      "metadata": {
        "id": "OjZbBY0VH1rF"
      },
      "source": [
        "#Compile the model \n",
        "model_3.compile(loss=\"binary_crossentropy\", optimizer=\"Adam\", metrics=\"accuracy\")"
      ],
      "execution_count": 212,
      "outputs": []
    },
    {
      "cell_type": "code",
      "metadata": {
        "colab": {
          "base_uri": "https://localhost:8080/"
        },
        "id": "Ai3NYVJhH-KC",
        "outputId": "ca46724b-504c-4cef-d6d0-ff0de8028be5"
      },
      "source": [
        "#Fit the model \n",
        "history_model_3 = model_3.fit(train_dataset,\n",
        "                              epochs=10,\n",
        "                              batch_size=128,\n",
        "                              validation_data=val_dataset)"
      ],
      "execution_count": 213,
      "outputs": [
        {
          "output_type": "stream",
          "name": "stdout",
          "text": [
            "Epoch 1/10\n",
            "938/938 [==============================] - 25s 24ms/step - loss: 0.4383 - accuracy: 0.8472 - val_loss: 0.4226 - val_accuracy: 0.8553\n",
            "Epoch 2/10\n",
            "938/938 [==============================] - 22s 24ms/step - loss: 0.3116 - accuracy: 0.8996 - val_loss: 0.3743 - val_accuracy: 0.8669\n",
            "Epoch 3/10\n",
            "938/938 [==============================] - 22s 24ms/step - loss: 0.2664 - accuracy: 0.9183 - val_loss: 0.3975 - val_accuracy: 0.8611\n",
            "Epoch 4/10\n",
            "938/938 [==============================] - 22s 24ms/step - loss: 0.2424 - accuracy: 0.9244 - val_loss: 0.3851 - val_accuracy: 0.8666\n",
            "Epoch 5/10\n",
            "938/938 [==============================] - 22s 24ms/step - loss: 0.2217 - accuracy: 0.9325 - val_loss: 0.3989 - val_accuracy: 0.8588\n",
            "Epoch 6/10\n",
            "938/938 [==============================] - 22s 24ms/step - loss: 0.2040 - accuracy: 0.9392 - val_loss: 0.4381 - val_accuracy: 0.8612\n",
            "Epoch 7/10\n",
            "938/938 [==============================] - 22s 24ms/step - loss: 0.1923 - accuracy: 0.9410 - val_loss: 0.4195 - val_accuracy: 0.8609\n",
            "Epoch 8/10\n",
            "938/938 [==============================] - 22s 24ms/step - loss: 0.1840 - accuracy: 0.9451 - val_loss: 0.4531 - val_accuracy: 0.8596\n",
            "Epoch 9/10\n",
            "938/938 [==============================] - 22s 24ms/step - loss: 0.1739 - accuracy: 0.9501 - val_loss: 0.4699 - val_accuracy: 0.8600\n",
            "Epoch 10/10\n",
            "938/938 [==============================] - 22s 24ms/step - loss: 0.1659 - accuracy: 0.9514 - val_loss: 0.4944 - val_accuracy: 0.8603\n"
          ]
        }
      ]
    },
    {
      "cell_type": "code",
      "metadata": {
        "colab": {
          "base_uri": "https://localhost:8080/"
        },
        "id": "2puc4cWWIC7E",
        "outputId": "c2aedde1-8492-4d63-e2b2-75f4dd2fefe7"
      },
      "source": [
        "#Evaluate\n",
        "model_3.evaluate(test_dataset)"
      ],
      "execution_count": 214,
      "outputs": [
        {
          "output_type": "stream",
          "name": "stdout",
          "text": [
            "313/313 [==============================] - 3s 10ms/step - loss: 0.4919 - accuracy: 0.8585\n"
          ]
        },
        {
          "output_type": "execute_result",
          "data": {
            "text/plain": [
              "[0.49187085032463074, 0.8585000038146973]"
            ]
          },
          "metadata": {},
          "execution_count": 214
        }
      ]
    },
    {
      "cell_type": "code",
      "metadata": {
        "colab": {
          "base_uri": "https://localhost:8080/",
          "height": 444
        },
        "id": "iVds42QjIFea",
        "outputId": "467973c7-df46-4903-9bf3-ffcc5e4f7520"
      },
      "source": [
        "#Plot model history\n",
        "plot_training_curve(history_model_3)"
      ],
      "execution_count": 215,
      "outputs": [
        {
          "output_type": "display_data",
          "data": {
            "image/png": "[encoded data removed]",
            "text/plain": [
              "<Figure size 720x504 with 1 Axes>"
            ]
          },
          "metadata": {
            "needs_background": "light"
          }
        }
      ]
    },
    {
      "cell_type": "markdown",
      "metadata": {
        "id": "FKXSPFDKIIRI"
      },
      "source": [
        "### Model 4: Bi-LSTM"
      ]
    },
    {
      "cell_type": "code",
      "metadata": {
        "id": "G3cco8ZMM61_"
      },
      "source": [
        "tf.random.set_seed(42)\n",
        "\n",
        "#Build the model\n",
        "inputs = layers.Input(shape=(1,), dtype=\"string\")\n",
        "x = text_vectorizer(inputs)\n",
        "x = embedding(x)\n",
        "x = layers.Dropout(0.4)(x)\n",
        "x = layers.Bidirectional(layers.LSTM(4, kernel_regularizer=tf.keras.regularizers.l2(0.001),  activity_regularizer=tf.keras.regularizers.l1(0.001)))(x)\n",
        "x = layers.Dropout(0.4)(x)\n",
        "outputs = layers.Dense(1, activation=\"sigmoid\")(x)\n",
        "model_4 = tf.keras.Model(inputs, outputs)"
      ],
      "execution_count": 216,
      "outputs": []
    },
    {
      "cell_type": "code",
      "metadata": {
        "id": "STQtzJPeNJpV"
      },
      "source": [
        "#Compile the model \n",
        "model_4.compile(loss=\"binary_crossentropy\", optimizer=\"Adam\", metrics=\"accuracy\")"
      ],
      "execution_count": 217,
      "outputs": []
    },
    {
      "cell_type": "code",
      "metadata": {
        "colab": {
          "base_uri": "https://localhost:8080/"
        },
        "id": "vEUS4slHNN-g",
        "outputId": "9e0eee27-038f-44e8-d8be-86c1260c19aa"
      },
      "source": [
        "#Fit the model \n",
        "history_model_4 = model_4.fit(train_dataset,\n",
        "                              epochs=5,\n",
        "                              batch_size=128,\n",
        "                              validation_data=val_dataset)"
      ],
      "execution_count": 218,
      "outputs": [
        {
          "output_type": "stream",
          "name": "stdout",
          "text": [
            "Epoch 1/5\n",
            "938/938 [==============================] - 86s 45ms/step - loss: 0.3693 - accuracy: 0.8685 - val_loss: 0.4103 - val_accuracy: 0.8555\n",
            "Epoch 2/5\n",
            "938/938 [==============================] - 41s 44ms/step - loss: 0.2476 - accuracy: 0.9225 - val_loss: 0.4198 - val_accuracy: 0.8627\n",
            "Epoch 3/5\n",
            "938/938 [==============================] - 41s 44ms/step - loss: 0.1940 - accuracy: 0.9466 - val_loss: 0.4395 - val_accuracy: 0.8587\n",
            "Epoch 4/5\n",
            "938/938 [==============================] - 41s 44ms/step - loss: 0.1636 - accuracy: 0.9568 - val_loss: 0.4919 - val_accuracy: 0.8579\n",
            "Epoch 5/5\n",
            "938/938 [==============================] - 41s 44ms/step - loss: 0.1495 - accuracy: 0.9605 - val_loss: 0.5028 - val_accuracy: 0.8584\n"
          ]
        }
      ]
    },
    {
      "cell_type": "code",
      "metadata": {
        "colab": {
          "base_uri": "https://localhost:8080/"
        },
        "id": "GrAQeeQzNSoA",
        "outputId": "79367479-61a9-44bc-b0d9-c2c900234463"
      },
      "source": [
        "#Evaluate\n",
        "model_4.evaluate(test_dataset)"
      ],
      "execution_count": 219,
      "outputs": [
        {
          "output_type": "stream",
          "name": "stdout",
          "text": [
            "313/313 [==============================] - 5s 17ms/step - loss: 0.4961 - accuracy: 0.8611\n"
          ]
        },
        {
          "output_type": "execute_result",
          "data": {
            "text/plain": [
              "[0.49606406688690186, 0.8611000180244446]"
            ]
          },
          "metadata": {},
          "execution_count": 219
        }
      ]
    },
    {
      "cell_type": "code",
      "metadata": {
        "colab": {
          "base_uri": "https://localhost:8080/",
          "height": 444
        },
        "id": "cmAP5eHsNUsv",
        "outputId": "79a6eddc-f305-40ff-efef-ea8b88a31de9"
      },
      "source": [
        "#Plot model history\n",
        "plot_training_curve(history_model_4)"
      ],
      "execution_count": 220,
      "outputs": [
        {
          "output_type": "display_data",
          "data": {
            "image/png": "[encoded data removed]",
            "text/plain": [
              "<Figure size 720x504 with 1 Axes>"
            ]
          },
          "metadata": {
            "needs_background": "light"
          }
        }
      ]
    },
    {
      "cell_type": "markdown",
      "metadata": {
        "id": "piCspkd-WZ3i"
      },
      "source": [
        "### Model 5: Feature Extraction"
      ]
    },
    {
      "cell_type": "code",
      "metadata": {
        "id": "a7MuFLFGWc-z"
      },
      "source": [
        "import tensorflow_hub as hub\n",
        "tf_hub_embedding_layer = hub.KerasLayer(\"https://tfhub.dev/google/universal-sentence-encoder/4\",\n",
        "                                        trainable=False,\n",
        "                                        name=\"universal_sentence_encoder\")"
      ],
      "execution_count": 259,
      "outputs": []
    },
    {
      "cell_type": "code",
      "metadata": {
        "id": "GdXh_ZCtWfwx"
      },
      "source": [
        "tf.random.set_seed(42)\n",
        "\n",
        "#Build the model\n",
        "inputs = layers.Input(shape=[], dtype=tf.string)\n",
        "pretrained_embedding = tf_hub_embedding_layer(inputs)\n",
        "x = layers.Lambda(lambda x: tf.expand_dims(x, axis=1))(pretrained_embedding)\n",
        "x = layers.GRU(128)(x)\n",
        "x = layers.Dropout(0.5)(x)\n",
        "x = layers.Dense(64, activation=\"relu\")(x)\n",
        "x = layers.Dropout(0.5)(pretrained_embedding)\n",
        "x = layers.Dense(32, activation=\"relu\")(x)\n",
        "x = layers.Dropout(0.5)(x)\n",
        "x = layers.Dense(16, activation=\"relu\")(x)\n",
        "x = layers.Dropout(0.5)(x)\n",
        "outputs = layers.Dense(1, activation=\"sigmoid\")(x)\n",
        "model_5 = tf.keras.Model(inputs, outputs)"
      ],
      "execution_count": 285,
      "outputs": []
    },
    {
      "cell_type": "code",
      "metadata": {
        "id": "l7GM0tITWman"
      },
      "source": [
        "#Compile the model \n",
        "model_5.compile(loss=\"binary_crossentropy\", optimizer=\"Adam\", metrics=\"accuracy\")"
      ],
      "execution_count": 286,
      "outputs": []
    },
    {
      "cell_type": "code",
      "metadata": {
        "colab": {
          "base_uri": "https://localhost:8080/"
        },
        "id": "ZuBz9rwTWqws",
        "outputId": "10bab6a3-a274-442b-9fc3-a4881797af3e"
      },
      "source": [
        "#Fit the model \n",
        "history_model_5 = model_5.fit(train_dataset,\n",
        "                              epochs=5,\n",
        "                              batch_size=128,\n",
        "                              validation_data=val_dataset)"
      ],
      "execution_count": 287,
      "outputs": [
        {
          "output_type": "stream",
          "name": "stdout",
          "text": [
            "Epoch 1/5\n",
            "938/938 [==============================] - 41s 42ms/step - loss: 0.5542 - accuracy: 0.7109 - val_loss: 0.4161 - val_accuracy: 0.8167\n",
            "Epoch 2/5\n",
            "938/938 [==============================] - 39s 42ms/step - loss: 0.4887 - accuracy: 0.7704 - val_loss: 0.4073 - val_accuracy: 0.8227\n",
            "Epoch 3/5\n",
            "938/938 [==============================] - 39s 41ms/step - loss: 0.4796 - accuracy: 0.7791 - val_loss: 0.4044 - val_accuracy: 0.8202\n",
            "Epoch 4/5\n",
            "938/938 [==============================] - 38s 40ms/step - loss: 0.4747 - accuracy: 0.7783 - val_loss: 0.3977 - val_accuracy: 0.8266\n",
            "Epoch 5/5\n",
            "938/938 [==============================] - 38s 41ms/step - loss: 0.4715 - accuracy: 0.7815 - val_loss: 0.3977 - val_accuracy: 0.8256\n"
          ]
        }
      ]
    },
    {
      "cell_type": "code",
      "metadata": {
        "colab": {
          "base_uri": "https://localhost:8080/"
        },
        "id": "2FQSWtvPddMf",
        "outputId": "c2faa21c-b294-4f76-857a-2b238f93c404"
      },
      "source": [
        "#Evaluate\n",
        "model_5.evaluate(test_dataset)"
      ],
      "execution_count": 288,
      "outputs": [
        {
          "output_type": "stream",
          "name": "stdout",
          "text": [
            "313/313 [==============================] - 9s 30ms/step - loss: 0.3934 - accuracy: 0.8308\n"
          ]
        },
        {
          "output_type": "execute_result",
          "data": {
            "text/plain": [
              "[0.39342793822288513, 0.8307999968528748]"
            ]
          },
          "metadata": {},
          "execution_count": 288
        }
      ]
    },
    {
      "cell_type": "code",
      "metadata": {
        "colab": {
          "base_uri": "https://localhost:8080/",
          "height": 444
        },
        "id": "O4Mf5-eBd_gr",
        "outputId": "4f0fafb4-620b-4917-abcc-1f00ce66c028"
      },
      "source": [
        "#Plot model history\n",
        "plot_training_curve(history_model_5)"
      ],
      "execution_count": 289,
      "outputs": [
        {
          "output_type": "display_data",
          "data": {
            "image/png": "[encoded data removed]",
            "text/plain": [
              "<Figure size 720x504 with 1 Axes>"
            ]
          },
          "metadata": {
            "needs_background": "light"
          }
        }
      ]
    },
    {
      "cell_type": "markdown",
      "metadata": {
        "id": "V7ZmqYNnlVWW"
      },
      "source": [
        "### Model 6: GRU"
      ]
    },
    {
      "cell_type": "code",
      "metadata": {
        "id": "B8tdV2iClWyB"
      },
      "source": [
        "tf.random.set_seed(42)\n",
        "\n",
        "#Build the model\n",
        "inputs = layers.Input(shape=(1,), dtype=\"string\")\n",
        "x = text_vectorizer(inputs)\n",
        "x = embedding(x)\n",
        "x = layers.Dropout(0.5)(x)\n",
        "x = layers.GRU(2, kernel_regularizer=tf.keras.regularizers.l2(0.001))(x)\n",
        "x = layers.Dropout(0.5)(x)\n",
        "outputs = layers.Dense(1, activation=\"sigmoid\")(x)\n",
        "model_6 = tf.keras.Model(inputs, outputs)"
      ],
      "execution_count": 334,
      "outputs": []
    },
    {
      "cell_type": "code",
      "metadata": {
        "id": "ioZX5W7Eloca"
      },
      "source": [
        "#Compile the model \n",
        "model_6.compile(loss=\"binary_crossentropy\", optimizer=\"Adam\", metrics=\"accuracy\")"
      ],
      "execution_count": 335,
      "outputs": []
    },
    {
      "cell_type": "code",
      "metadata": {
        "colab": {
          "base_uri": "https://localhost:8080/"
        },
        "id": "3V20OTNIlq0B",
        "outputId": "5494090e-c27a-4b06-8104-5e0a5313d1a7"
      },
      "source": [
        "#Fit the model \n",
        "history_model_6 = model_6.fit(train_dataset,\n",
        "                              epochs=5,\n",
        "                              batch_size=128,\n",
        "                              validation_data=val_dataset)"
      ],
      "execution_count": 336,
      "outputs": [
        {
          "output_type": "stream",
          "name": "stdout",
          "text": [
            "Epoch 1/5\n",
            "938/938 [==============================] - 25s 24ms/step - loss: 0.6893 - accuracy: 0.5325 - val_loss: 0.6829 - val_accuracy: 0.5496\n",
            "Epoch 2/5\n",
            "938/938 [==============================] - 22s 23ms/step - loss: 0.5622 - accuracy: 0.6666 - val_loss: 0.4023 - val_accuracy: 0.8403\n",
            "Epoch 3/5\n",
            "938/938 [==============================] - 21s 23ms/step - loss: 0.3360 - accuracy: 0.8288 - val_loss: 0.3985 - val_accuracy: 0.8423\n",
            "Epoch 4/5\n",
            "938/938 [==============================] - 22s 23ms/step - loss: 0.3063 - accuracy: 0.8372 - val_loss: 0.4029 - val_accuracy: 0.8444\n",
            "Epoch 5/5\n",
            "938/938 [==============================] - 22s 23ms/step - loss: 0.2887 - accuracy: 0.8410 - val_loss: 0.4102 - val_accuracy: 0.8450\n"
          ]
        }
      ]
    },
    {
      "cell_type": "code",
      "metadata": {
        "colab": {
          "base_uri": "https://localhost:8080/"
        },
        "id": "ntULnk-nltwr",
        "outputId": "a6c1fd27-b578-4173-f956-b7fdd5b4e8ac"
      },
      "source": [
        "#Evaluate\n",
        "model_6.evaluate(test_dataset)"
      ],
      "execution_count": 337,
      "outputs": [
        {
          "output_type": "stream",
          "name": "stdout",
          "text": [
            "313/313 [==============================] - 3s 9ms/step - loss: 0.4146 - accuracy: 0.8454\n"
          ]
        },
        {
          "output_type": "execute_result",
          "data": {
            "text/plain": [
              "[0.4146472215652466, 0.8453999757766724]"
            ]
          },
          "metadata": {},
          "execution_count": 337
        }
      ]
    },
    {
      "cell_type": "code",
      "metadata": {
        "colab": {
          "base_uri": "https://localhost:8080/",
          "height": 444
        },
        "id": "m9nqbQ1Dl1jX",
        "outputId": "56d0b704-c0aa-4055-9f32-895d1ee705ba"
      },
      "source": [
        "#Plot model history\n",
        "plot_training_curve(history_model_6)"
      ],
      "execution_count": 338,
      "outputs": [
        {
          "output_type": "display_data",
          "data": {
            "image/png": "[encoded data removed]",
            "text/plain": [
              "<Figure size 720x504 with 1 Axes>"
            ]
          },
          "metadata": {
            "needs_background": "light"
          }
        }
      ]
    }
  ]
}