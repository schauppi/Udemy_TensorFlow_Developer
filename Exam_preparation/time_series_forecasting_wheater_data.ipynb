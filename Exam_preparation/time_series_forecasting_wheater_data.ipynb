{
  "nbformat": 4,
  "nbformat_minor": 0,
  "metadata": {
    "colab": {
      "name": "time_series_forecasting_wheater_data.ipynb",
      "provenance": [],
      "authorship_tag": "ABX9TyMRBciNsYoAClyI7t6O+zsD",
      "include_colab_link": true
    },
    "kernelspec": {
      "name": "python3",
      "display_name": "Python 3"
    },
    "language_info": {
      "name": "python"
    }
  },
  "cells": [
    {
      "cell_type": "markdown",
      "metadata": {
        "id": "view-in-github",
        "colab_type": "text"
      },
      "source": [
        "<a href=\"https://colab.research.google.com/github/schauppi/Udemy_TensorFlow_Developer/blob/main/Exam_preparation/time_series_forecasting_wheater_data.ipynb\" target=\"_parent\"><img src=\"https://colab.research.google.com/assets/colab-badge.svg\" alt=\"Open In Colab\"/></a>"
      ]
    },
    {
      "cell_type": "code",
      "metadata": {
        "colab": {
          "base_uri": "https://localhost:8080/"
        },
        "id": "3y491KcomWlC",
        "outputId": "5d9dbc9b-ba30-43dd-9325-10eff6ea1327"
      },
      "source": [
        "!wget https://storage.googleapis.com/tensorflow/tf-keras-datasets/jena_climate_2009_2016.csv.zip"
      ],
      "execution_count": 1,
      "outputs": [
        {
          "output_type": "stream",
          "name": "stdout",
          "text": [
            "--2021-09-15 08:36:54--  https://storage.googleapis.com/tensorflow/tf-keras-datasets/jena_climate_2009_2016.csv.zip\n",
            "Resolving storage.googleapis.com (storage.googleapis.com)... 142.250.141.128, 142.251.2.128, 74.125.137.128, ...\n",
            "Connecting to storage.googleapis.com (storage.googleapis.com)|142.250.141.128|:443... connected.\n",
            "HTTP request sent, awaiting response... 200 OK\n",
            "Length: 13568290 (13M) [application/zip]\n",
            "Saving to: ‘jena_climate_2009_2016.csv.zip’\n",
            "\n",
            "jena_climate_2009_2 100%[===================>]  12.94M  --.-KB/s    in 0.1s    \n",
            "\n",
            "2021-09-15 08:36:54 (94.1 MB/s) - ‘jena_climate_2009_2016.csv.zip’ saved [13568290/13568290]\n",
            "\n"
          ]
        }
      ]
    },
    {
      "cell_type": "code",
      "metadata": {
        "id": "ZNfczBKJmeRF"
      },
      "source": [
        "#Extract the Zipfile\n",
        "import zipfile\n",
        "with zipfile.ZipFile(\"/content/jena_climate_2009_2016.csv.zip\", 'r') as zip_ref:\n",
        "    zip_ref.extractall()"
      ],
      "execution_count": 4,
      "outputs": []
    },
    {
      "cell_type": "code",
      "metadata": {
        "colab": {
          "base_uri": "https://localhost:8080/",
          "height": 340
        },
        "id": "K4u5nL_bmwZ1",
        "outputId": "0a3e7e37-d9f2-4345-f8a8-4d7e97df182b"
      },
      "source": [
        "import pandas as pd\n",
        "df = pd.read_csv(\"/content/jena_climate_2009_2016.csv\", index_col=[\"Date Time\"])\n",
        "df.head()"
      ],
      "execution_count": 8,
      "outputs": [
        {
          "output_type": "execute_result",
          "data": {
            "text/html": [
              "<div>\n",
              "<style scoped>\n",
              "    .dataframe tbody tr th:only-of-type {\n",
              "        vertical-align: middle;\n",
              "    }\n",
              "\n",
              "    .dataframe tbody tr th {\n",
              "        vertical-align: top;\n",
              "    }\n",
              "\n",
              "    .dataframe thead th {\n",
              "        text-align: right;\n",
              "    }\n",
              "</style>\n",
              "<table border=\"1\" class=\"dataframe\">\n",
              "  <thead>\n",
              "    <tr style=\"text-align: right;\">\n",
              "      <th></th>\n",
              "      <th>p (mbar)</th>\n",
              "      <th>T (degC)</th>\n",
              "      <th>Tpot (K)</th>\n",
              "      <th>Tdew (degC)</th>\n",
              "      <th>rh (%)</th>\n",
              "      <th>VPmax (mbar)</th>\n",
              "      <th>VPact (mbar)</th>\n",
              "      <th>VPdef (mbar)</th>\n",
              "      <th>sh (g/kg)</th>\n",
              "      <th>H2OC (mmol/mol)</th>\n",
              "      <th>rho (g/m**3)</th>\n",
              "      <th>wv (m/s)</th>\n",
              "      <th>max. wv (m/s)</th>\n",
              "      <th>wd (deg)</th>\n",
              "    </tr>\n",
              "    <tr>\n",
              "      <th>Date Time</th>\n",
              "      <th></th>\n",
              "      <th></th>\n",
              "      <th></th>\n",
              "      <th></th>\n",
              "      <th></th>\n",
              "      <th></th>\n",
              "      <th></th>\n",
              "      <th></th>\n",
              "      <th></th>\n",
              "      <th></th>\n",
              "      <th></th>\n",
              "      <th></th>\n",
              "      <th></th>\n",
              "      <th></th>\n",
              "    </tr>\n",
              "  </thead>\n",
              "  <tbody>\n",
              "    <tr>\n",
              "      <th>01.01.2009 00:10:00</th>\n",
              "      <td>996.52</td>\n",
              "      <td>-8.02</td>\n",
              "      <td>265.40</td>\n",
              "      <td>-8.90</td>\n",
              "      <td>93.3</td>\n",
              "      <td>3.33</td>\n",
              "      <td>3.11</td>\n",
              "      <td>0.22</td>\n",
              "      <td>1.94</td>\n",
              "      <td>3.12</td>\n",
              "      <td>1307.75</td>\n",
              "      <td>1.03</td>\n",
              "      <td>1.75</td>\n",
              "      <td>152.3</td>\n",
              "    </tr>\n",
              "    <tr>\n",
              "      <th>01.01.2009 00:20:00</th>\n",
              "      <td>996.57</td>\n",
              "      <td>-8.41</td>\n",
              "      <td>265.01</td>\n",
              "      <td>-9.28</td>\n",
              "      <td>93.4</td>\n",
              "      <td>3.23</td>\n",
              "      <td>3.02</td>\n",
              "      <td>0.21</td>\n",
              "      <td>1.89</td>\n",
              "      <td>3.03</td>\n",
              "      <td>1309.80</td>\n",
              "      <td>0.72</td>\n",
              "      <td>1.50</td>\n",
              "      <td>136.1</td>\n",
              "    </tr>\n",
              "    <tr>\n",
              "      <th>01.01.2009 00:30:00</th>\n",
              "      <td>996.53</td>\n",
              "      <td>-8.51</td>\n",
              "      <td>264.91</td>\n",
              "      <td>-9.31</td>\n",
              "      <td>93.9</td>\n",
              "      <td>3.21</td>\n",
              "      <td>3.01</td>\n",
              "      <td>0.20</td>\n",
              "      <td>1.88</td>\n",
              "      <td>3.02</td>\n",
              "      <td>1310.24</td>\n",
              "      <td>0.19</td>\n",
              "      <td>0.63</td>\n",
              "      <td>171.6</td>\n",
              "    </tr>\n",
              "    <tr>\n",
              "      <th>01.01.2009 00:40:00</th>\n",
              "      <td>996.51</td>\n",
              "      <td>-8.31</td>\n",
              "      <td>265.12</td>\n",
              "      <td>-9.07</td>\n",
              "      <td>94.2</td>\n",
              "      <td>3.26</td>\n",
              "      <td>3.07</td>\n",
              "      <td>0.19</td>\n",
              "      <td>1.92</td>\n",
              "      <td>3.08</td>\n",
              "      <td>1309.19</td>\n",
              "      <td>0.34</td>\n",
              "      <td>0.50</td>\n",
              "      <td>198.0</td>\n",
              "    </tr>\n",
              "    <tr>\n",
              "      <th>01.01.2009 00:50:00</th>\n",
              "      <td>996.51</td>\n",
              "      <td>-8.27</td>\n",
              "      <td>265.15</td>\n",
              "      <td>-9.04</td>\n",
              "      <td>94.1</td>\n",
              "      <td>3.27</td>\n",
              "      <td>3.08</td>\n",
              "      <td>0.19</td>\n",
              "      <td>1.92</td>\n",
              "      <td>3.09</td>\n",
              "      <td>1309.00</td>\n",
              "      <td>0.32</td>\n",
              "      <td>0.63</td>\n",
              "      <td>214.3</td>\n",
              "    </tr>\n",
              "  </tbody>\n",
              "</table>\n",
              "</div>"
            ],
            "text/plain": [
              "                     p (mbar)  T (degC)  ...  max. wv (m/s)  wd (deg)\n",
              "Date Time                                ...                         \n",
              "01.01.2009 00:10:00    996.52     -8.02  ...           1.75     152.3\n",
              "01.01.2009 00:20:00    996.57     -8.41  ...           1.50     136.1\n",
              "01.01.2009 00:30:00    996.53     -8.51  ...           0.63     171.6\n",
              "01.01.2009 00:40:00    996.51     -8.31  ...           0.50     198.0\n",
              "01.01.2009 00:50:00    996.51     -8.27  ...           0.63     214.3\n",
              "\n",
              "[5 rows x 14 columns]"
            ]
          },
          "metadata": {},
          "execution_count": 8
        }
      ]
    },
    {
      "cell_type": "code",
      "metadata": {
        "colab": {
          "base_uri": "https://localhost:8080/"
        },
        "id": "olZJ5WT5nPNG",
        "outputId": "be8aebd7-5a87-4c4d-878c-0d0a54f33153"
      },
      "source": [
        "df.info()"
      ],
      "execution_count": 9,
      "outputs": [
        {
          "output_type": "stream",
          "name": "stdout",
          "text": [
            "<class 'pandas.core.frame.DataFrame'>\n",
            "Index: 420551 entries, 01.01.2009 00:10:00 to 01.01.2017 00:00:00\n",
            "Data columns (total 14 columns):\n",
            " #   Column           Non-Null Count   Dtype  \n",
            "---  ------           --------------   -----  \n",
            " 0   p (mbar)         420551 non-null  float64\n",
            " 1   T (degC)         420551 non-null  float64\n",
            " 2   Tpot (K)         420551 non-null  float64\n",
            " 3   Tdew (degC)      420551 non-null  float64\n",
            " 4   rh (%)           420551 non-null  float64\n",
            " 5   VPmax (mbar)     420551 non-null  float64\n",
            " 6   VPact (mbar)     420551 non-null  float64\n",
            " 7   VPdef (mbar)     420551 non-null  float64\n",
            " 8   sh (g/kg)        420551 non-null  float64\n",
            " 9   H2OC (mmol/mol)  420551 non-null  float64\n",
            " 10  rho (g/m**3)     420551 non-null  float64\n",
            " 11  wv (m/s)         420551 non-null  float64\n",
            " 12  max. wv (m/s)    420551 non-null  float64\n",
            " 13  wd (deg)         420551 non-null  float64\n",
            "dtypes: float64(14)\n",
            "memory usage: 48.1+ MB\n"
          ]
        }
      ]
    },
    {
      "cell_type": "code",
      "metadata": {
        "colab": {
          "base_uri": "https://localhost:8080/",
          "height": 236
        },
        "id": "9LSen2yenhb_",
        "outputId": "d63ca61c-178e-4a57-a4f4-20115c89fcc8"
      },
      "source": [
        "temperature_data = pd.DataFrame(df[\"T (degC)\"]).rename(columns={\"T (degC)\": \"Temperature\"})\n",
        "temperature_data.head()"
      ],
      "execution_count": 10,
      "outputs": [
        {
          "output_type": "execute_result",
          "data": {
            "text/html": [
              "<div>\n",
              "<style scoped>\n",
              "    .dataframe tbody tr th:only-of-type {\n",
              "        vertical-align: middle;\n",
              "    }\n",
              "\n",
              "    .dataframe tbody tr th {\n",
              "        vertical-align: top;\n",
              "    }\n",
              "\n",
              "    .dataframe thead th {\n",
              "        text-align: right;\n",
              "    }\n",
              "</style>\n",
              "<table border=\"1\" class=\"dataframe\">\n",
              "  <thead>\n",
              "    <tr style=\"text-align: right;\">\n",
              "      <th></th>\n",
              "      <th>Temperature</th>\n",
              "    </tr>\n",
              "    <tr>\n",
              "      <th>Date Time</th>\n",
              "      <th></th>\n",
              "    </tr>\n",
              "  </thead>\n",
              "  <tbody>\n",
              "    <tr>\n",
              "      <th>01.01.2009 00:10:00</th>\n",
              "      <td>-8.02</td>\n",
              "    </tr>\n",
              "    <tr>\n",
              "      <th>01.01.2009 00:20:00</th>\n",
              "      <td>-8.41</td>\n",
              "    </tr>\n",
              "    <tr>\n",
              "      <th>01.01.2009 00:30:00</th>\n",
              "      <td>-8.51</td>\n",
              "    </tr>\n",
              "    <tr>\n",
              "      <th>01.01.2009 00:40:00</th>\n",
              "      <td>-8.31</td>\n",
              "    </tr>\n",
              "    <tr>\n",
              "      <th>01.01.2009 00:50:00</th>\n",
              "      <td>-8.27</td>\n",
              "    </tr>\n",
              "  </tbody>\n",
              "</table>\n",
              "</div>"
            ],
            "text/plain": [
              "                     Temperature\n",
              "Date Time                       \n",
              "01.01.2009 00:10:00        -8.02\n",
              "01.01.2009 00:20:00        -8.41\n",
              "01.01.2009 00:30:00        -8.51\n",
              "01.01.2009 00:40:00        -8.31\n",
              "01.01.2009 00:50:00        -8.27"
            ]
          },
          "metadata": {},
          "execution_count": 10
        }
      ]
    },
    {
      "cell_type": "code",
      "metadata": {
        "colab": {
          "base_uri": "https://localhost:8080/",
          "height": 462
        },
        "id": "BUY6ftrvoAD8",
        "outputId": "a43770cf-bcb3-447c-957a-a2d68a2578eb"
      },
      "source": [
        "import matplotlib.pyplot as plt\n",
        "temperature_data.plot(figsize=(10,7))\n",
        "plt.ylabel(\"Temperature\")"
      ],
      "execution_count": 11,
      "outputs": [
        {
          "output_type": "execute_result",
          "data": {
            "text/plain": [
              "Text(0, 0.5, 'Temperature')"
            ]
          },
          "metadata": {},
          "execution_count": 11
        },
        {
          "output_type": "display_data",
          "data": {
            "image/png": "[encoded data removed]",
            "text/plain": [
              "<Figure size 720x504 with 1 Axes>"
            ]
          },
          "metadata": {
            "needs_background": "light"
          }
        }
      ]
    },
    {
      "cell_type": "code",
      "metadata": {
        "id": "deHt8cjpoI_d"
      },
      "source": [
        "timesteps = temperature_data.index.to_numpy()\n",
        "temperature = temperature_data[\"Temperature\"].to_numpy()"
      ],
      "execution_count": 12,
      "outputs": []
    },
    {
      "cell_type": "code",
      "metadata": {
        "colab": {
          "base_uri": "https://localhost:8080/"
        },
        "id": "N4Sf-9kiodFk",
        "outputId": "699090a0-c8e3-42fa-c822-d68947889894"
      },
      "source": [
        "timesteps[:10], temperature[:10]"
      ],
      "execution_count": 13,
      "outputs": [
        {
          "output_type": "execute_result",
          "data": {
            "text/plain": [
              "(array(['01.01.2009 00:10:00', '01.01.2009 00:20:00',\n",
              "        '01.01.2009 00:30:00', '01.01.2009 00:40:00',\n",
              "        '01.01.2009 00:50:00', '01.01.2009 01:00:00',\n",
              "        '01.01.2009 01:10:00', '01.01.2009 01:20:00',\n",
              "        '01.01.2009 01:30:00', '01.01.2009 01:40:00'], dtype=object),\n",
              " array([-8.02, -8.41, -8.51, -8.31, -8.27, -8.05, -7.62, -7.62, -7.91,\n",
              "        -8.43]))"
            ]
          },
          "metadata": {},
          "execution_count": 13
        }
      ]
    },
    {
      "cell_type": "code",
      "metadata": {
        "id": "LbTxjZQbogTh"
      },
      "source": [
        "temperature = temperature.reshape(-1, 1)"
      ],
      "execution_count": 14,
      "outputs": []
    },
    {
      "cell_type": "code",
      "metadata": {
        "colab": {
          "base_uri": "https://localhost:8080/"
        },
        "id": "Vcqy4eKBooZh",
        "outputId": "5f2f5302-8485-4415-89e6-8c60972eb672"
      },
      "source": [
        "from sklearn.preprocessing import MinMaxScaler\n",
        "\n",
        "scaler = MinMaxScaler(feature_range=(0,1))\n",
        "scaled_temperature = scaler.fit_transform(temperature)\n",
        "scaled_temperature[:10]"
      ],
      "execution_count": 15,
      "outputs": [
        {
          "output_type": "execute_result",
          "data": {
            "text/plain": [
              "array([[0.24863161],\n",
              "       [0.24216288],\n",
              "       [0.24050423],\n",
              "       [0.24382153],\n",
              "       [0.24448499],\n",
              "       [0.24813402],\n",
              "       [0.25526621],\n",
              "       [0.25526621],\n",
              "       [0.25045613],\n",
              "       [0.24183115]])"
            ]
          },
          "metadata": {},
          "execution_count": 15
        }
      ]
    },
    {
      "cell_type": "code",
      "metadata": {
        "id": "TDKh94zto9V5"
      },
      "source": [
        "import numpy as np\n",
        "scaled_temperature = np.squeeze(scaled_temperature, axis=1)"
      ],
      "execution_count": 16,
      "outputs": []
    },
    {
      "cell_type": "code",
      "metadata": {
        "colab": {
          "base_uri": "https://localhost:8080/",
          "height": 445
        },
        "id": "H_q7zp4bpGI6",
        "outputId": "83060b1d-32ac-4306-bbc5-fa7a49f9c8e6"
      },
      "source": [
        "plt.figure(figsize=(10,7))\n",
        "plt.plot(scaled_temperature)\n",
        "plt.ylabel(\"Temperature\")"
      ],
      "execution_count": 17,
      "outputs": [
        {
          "output_type": "execute_result",
          "data": {
            "text/plain": [
              "Text(0, 0.5, 'Temperature')"
            ]
          },
          "metadata": {},
          "execution_count": 17
        },
        {
          "output_type": "display_data",
          "data": {
            "image/png": "[encoded data removed]",
            "text/plain": [
              "<Figure size 720x504 with 1 Axes>"
            ]
          },
          "metadata": {
            "needs_background": "light"
          }
        }
      ]
    },
    {
      "cell_type": "code",
      "metadata": {
        "id": "BmbpUOyQpUMJ"
      },
      "source": [
        "def make_windows(x, window_size=7, horizon=1):\n",
        "  \"\"\"\n",
        "  Turn a 1D array into a 2D array of sequential windows of window_size\n",
        "  \"\"\"\n",
        "  # 1. Create a window of specific window_size (add the horizon on the end for later labelling)\n",
        "  window_step = np.expand_dims(np.arange(window_size + horizon), axis=0)\n",
        "\n",
        "  # 2. Create 2D array of multiple window steps (minus 1 to account for indexing)\n",
        "  window_indexes = window_step + np.expand_dims(np.arange(len(x)-(window_size+horizon-1)), axis=0).T #create 2D array of windows of size window_size\n",
        "\n",
        "  # 3. Index on the target array (time series) with 2D array of multiple window steps\n",
        "  windowed_array = x[window_indexes]\n",
        "\n",
        "  # Get the labelled windows\n",
        "  windows, labels = windowed_array[:, :-horizon], windowed_array[:, -horizon:]\n",
        "\n",
        "  return windows, labels\n",
        "\n",
        "def make_train_test_splits(windows, labels, test_split=0.2):\n",
        "  \"\"\"\n",
        "  Splits matching pairs of windows and labels into train and test splits\n",
        "  \"\"\"\n",
        "  split_size = int(len(windows) * (1 - test_split))\n",
        "  train_windows = windows[:split_size]\n",
        "  train_labels = labels[:split_size]\n",
        "  test_windows = windows[split_size:]\n",
        "  test_labels = labels[split_size:]\n",
        "  return train_windows, test_windows, train_labels, test_labels"
      ],
      "execution_count": 19,
      "outputs": []
    },
    {
      "cell_type": "code",
      "metadata": {
        "id": "iyT7eUe2phWB"
      },
      "source": [
        "windows_7, labels_7 = make_windows(scaled_temperature, window_size=7, horizon=1)"
      ],
      "execution_count": 20,
      "outputs": []
    },
    {
      "cell_type": "code",
      "metadata": {
        "id": "akAuFeeNprqx"
      },
      "source": [
        "train_windows_7, test_windows_7, train_labels_7, test_labels_7 = make_train_test_splits(windows_7, labels_7)"
      ],
      "execution_count": 21,
      "outputs": []
    },
    {
      "cell_type": "code",
      "metadata": {
        "id": "RWeO0QLYp803"
      },
      "source": [
        "import tensorflow as tf\n",
        "from tensorflow.keras import layers\n",
        "\n",
        "window_size = 7 \n",
        "horizon = 1\n",
        "\n",
        "tf.random.set_seed(42)\n",
        "\n",
        "#Build the model \n",
        "inputs = layers.Input(shape=window_size)\n",
        "x = layers.Dense(128, activation=\"relu\")(inputs)\n",
        "outputs = layers.Dense(horizon)(x)\n",
        "model_1 = tf.keras.Model(inputs, outputs)"
      ],
      "execution_count": 28,
      "outputs": []
    },
    {
      "cell_type": "code",
      "metadata": {
        "id": "oNJRwt1CqVVq"
      },
      "source": [
        "#Compile the model \n",
        "model_1.compile(loss=\"mae\", optimizer=\"Adam\", metrics=[\"mae\",\"mse\"])"
      ],
      "execution_count": 29,
      "outputs": []
    },
    {
      "cell_type": "code",
      "metadata": {
        "id": "MG4ClkPGqa7Q"
      },
      "source": [
        "#Fit the model \n",
        "history_model_1 = model_1.fit(train_windows_7, train_labels_7,\n",
        "                              epochs=500,\n",
        "                              batch_size=128,\n",
        "                              verbose=1,\n",
        "                              validation_data = (test_windows_7, test_labels_7),\n",
        "                              callbacks=[tf.keras.callbacks.ReduceLROnPlateau(monitor=\"val_loss\", patience=5, verbose=0),\n",
        "                                         tf.keras.callbacks.EarlyStopping(monitor=\"val_loss\", patience=10, restore_best_weights=True)])"
      ],
      "execution_count": null,
      "outputs": []
    },
    {
      "cell_type": "code",
      "metadata": {
        "colab": {
          "base_uri": "https://localhost:8080/"
        },
        "id": "vOfVwESgqhbJ",
        "outputId": "b5ccbd15-f80a-441b-cac4-632ca20462bf"
      },
      "source": [
        "model_1.evaluate(test_windows_7, test_labels_7)"
      ],
      "execution_count": 31,
      "outputs": [
        {
          "output_type": "stream",
          "name": "stdout",
          "text": [
            "2629/2629 [==============================] - 3s 1ms/step - loss: 0.0023 - mae: 0.0023 - mse: 1.2675e-05\n"
          ]
        },
        {
          "output_type": "execute_result",
          "data": {
            "text/plain": [
              "[0.0022572011221200228, 0.0022572011221200228, 1.2675475772994105e-05]"
            ]
          },
          "metadata": {},
          "execution_count": 31
        }
      ]
    },
    {
      "cell_type": "code",
      "metadata": {
        "colab": {
          "base_uri": "https://localhost:8080/",
          "height": 461
        },
        "id": "et3PV_3fqr8w",
        "outputId": "39a29542-527c-4576-a2c1-66643a2aa95c"
      },
      "source": [
        "loss = history_model_1.history[\"loss\"]\n",
        "val_loss = history_model_1.history[\"val_loss\"]\n",
        "\n",
        "plt.figure(figsize=(10, 7))\n",
        "plt.plot(loss, label=\"loss\")\n",
        "plt.plot(val_loss, label=\"val_loss\")\n",
        "plt.title(\"train vs validation loss\")\n",
        "plt.legend()"
      ],
      "execution_count": 32,
      "outputs": [
        {
          "output_type": "execute_result",
          "data": {
            "text/plain": [
              "<matplotlib.legend.Legend at 0x7f4aa1665650>"
            ]
          },
          "metadata": {},
          "execution_count": 32
        },
        {
          "output_type": "display_data",
          "data": {
            "image/png": "[encoded data removed]",
            "text/plain": [
              "<Figure size 720x504 with 1 Axes>"
            ]
          },
          "metadata": {
            "needs_background": "light"
          }
        }
      ]
    },
    {
      "cell_type": "code",
      "metadata": {
        "id": "A1mWCkwXqxG7"
      },
      "source": [
        "def make_preds(model, input_data):\n",
        "  \"\"\"\n",
        "  Uses model to make predictions on input_data.\n",
        "  Parameters\n",
        "  ----------\n",
        "  model: trained model\n",
        "  input_data: windowed input data (same kind of data model was trained on)\n",
        "  Returns model predictions on input_data.\n",
        "  \"\"\"\n",
        "  forecast = model.predict(input_data)\n",
        "  return tf.squeeze(forecast) # return 1D array of predictions\n",
        "\n",
        "def evaluate_preds(y_true, y_pred):\n",
        "  # Make sure float32 (for metric calculations)\n",
        "  y_true = tf.cast(y_true, dtype=tf.float32)\n",
        "  y_pred = tf.cast(y_pred, dtype=tf.float32)\n",
        "\n",
        "  # Calculate various metrics\n",
        "  mae = tf.keras.metrics.mean_absolute_error(y_true, y_pred)\n",
        "  mse = tf.keras.metrics.mean_squared_error(y_true, y_pred)\n",
        "  rmse = tf.sqrt(mse)\n",
        "  mape = tf.keras.metrics.mean_absolute_percentage_error(y_true, y_pred)\n",
        "\n",
        "  # Account for different sized metrics (for longer horizons, reduce to single number)\n",
        "  if mae.ndim > 0: # if mae isn't already a scalar, reduce it to one by aggregating tensors to mean\n",
        "    mae = tf.reduce_mean(mae)\n",
        "    mse = tf.reduce_mean(mse)\n",
        "    rmse = tf.reduce_mean(rmse)\n",
        "    mape = tf.reduce_mean(mape)\n",
        "\n",
        "  return {\"mae\": mae.numpy(),\n",
        "          \"mse\": mse.numpy(),\n",
        "          \"rmse\": rmse.numpy(),\n",
        "          \"mape\": mape.numpy()}"
      ],
      "execution_count": 34,
      "outputs": []
    },
    {
      "cell_type": "code",
      "metadata": {
        "colab": {
          "base_uri": "https://localhost:8080/"
        },
        "id": "-NsOyiFJru0_",
        "outputId": "bce89635-dbef-4a9c-b634-6137545d656d"
      },
      "source": [
        "model_1_preds = make_preds(model_1, test_windows_7)\n",
        "model_1_results = evaluate_preds(tf.squeeze(test_labels_7),model_1_preds)\n",
        "model_1_results"
      ],
      "execution_count": 35,
      "outputs": [
        {
          "output_type": "execute_result",
          "data": {
            "text/plain": [
              "{'mae': 0.0022571986,\n",
              " 'mape': 0.40067035,\n",
              " 'mse': 1.2675466e-05,\n",
              " 'rmse': 0.003560262}"
            ]
          },
          "metadata": {},
          "execution_count": 35
        }
      ]
    },
    {
      "cell_type": "code",
      "metadata": {
        "id": "7FMi0FjNsQGp"
      },
      "source": [
        ""
      ],
      "execution_count": null,
      "outputs": []
    }
  ]
}