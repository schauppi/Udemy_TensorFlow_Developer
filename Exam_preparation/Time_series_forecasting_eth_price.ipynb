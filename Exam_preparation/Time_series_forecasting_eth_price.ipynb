{
  "nbformat": 4,
  "nbformat_minor": 0,
  "metadata": {
    "colab": {
      "name": "Time_series_forecasting_eth_price.ipynb",
      "provenance": [],
      "toc_visible": true,
      "authorship_tag": "ABX9TyNiMA212TQN31O1d1S01G+g",
      "include_colab_link": true
    },
    "kernelspec": {
      "name": "python3",
      "display_name": "Python 3"
    },
    "language_info": {
      "name": "python"
    },
    "accelerator": "GPU"
  },
  "cells": [
    {
      "cell_type": "markdown",
      "metadata": {
        "id": "view-in-github",
        "colab_type": "text"
      },
      "source": [
        "<a href=\"https://colab.research.google.com/github/schauppi/Udemy_TensorFlow_Developer/blob/main/Exam_preparation/Time_series_forecasting_eth_price.ipynb\" target=\"_parent\"><img src=\"https://colab.research.google.com/assets/colab-badge.svg\" alt=\"Open In Colab\"/></a>"
      ]
    },
    {
      "cell_type": "code",
      "metadata": {
        "colab": {
          "base_uri": "https://localhost:8080/"
        },
        "id": "ENpaax5qrjbI",
        "outputId": "afa04ff0-26c3-48c0-fb58-fef553f55bdd"
      },
      "source": [
        "#Download ETH dataset\n",
        "!wget https://raw.githubusercontent.com/schauppi/Udemy_TensorFlow_Developer/main/Exam_preparation/Datasets/ETH_Coindesk.csv"
      ],
      "execution_count": 1,
      "outputs": [
        {
          "output_type": "stream",
          "name": "stdout",
          "text": [
            "--2021-09-01 10:06:31--  https://raw.githubusercontent.com/schauppi/Udemy_TensorFlow_Developer/main/Exam_preparation/Datasets/ETH_Coindesk.csv\n",
            "Resolving raw.githubusercontent.com (raw.githubusercontent.com)... 185.199.108.133, 185.199.110.133, 185.199.111.133, ...\n",
            "Connecting to raw.githubusercontent.com (raw.githubusercontent.com)|185.199.108.133|:443... connected.\n",
            "HTTP request sent, awaiting response... 200 OK\n",
            "Length: 115669 (113K) [text/plain]\n",
            "Saving to: ‘ETH_Coindesk.csv’\n",
            "\n",
            "ETH_Coindesk.csv    100%[===================>] 112.96K  --.-KB/s    in 0.02s   \n",
            "\n",
            "2021-09-01 10:06:32 (5.61 MB/s) - ‘ETH_Coindesk.csv’ saved [115669/115669]\n",
            "\n"
          ]
        }
      ]
    },
    {
      "cell_type": "code",
      "metadata": {
        "colab": {
          "base_uri": "https://localhost:8080/",
          "height": 236
        },
        "id": "JGrTnVkqr1qC",
        "outputId": "a6413c0a-5c9b-422c-e1d9-ed2b065d1f79"
      },
      "source": [
        "#Import Data\n",
        "import pandas as pd\n",
        "df = pd.read_csv(\"/content/ETH_Coindesk.csv\", parse_dates=[\"Date\"], index_col=[\"Date\"])\n",
        "df.head()"
      ],
      "execution_count": 2,
      "outputs": [
        {
          "output_type": "execute_result",
          "data": {
            "text/html": [
              "<div>\n",
              "<style scoped>\n",
              "    .dataframe tbody tr th:only-of-type {\n",
              "        vertical-align: middle;\n",
              "    }\n",
              "\n",
              "    .dataframe tbody tr th {\n",
              "        vertical-align: top;\n",
              "    }\n",
              "\n",
              "    .dataframe thead th {\n",
              "        text-align: right;\n",
              "    }\n",
              "</style>\n",
              "<table border=\"1\" class=\"dataframe\">\n",
              "  <thead>\n",
              "    <tr style=\"text-align: right;\">\n",
              "      <th></th>\n",
              "      <th>Currency</th>\n",
              "      <th>Closing Price (USD)</th>\n",
              "      <th>24h Open (USD)</th>\n",
              "      <th>24h High (USD)</th>\n",
              "      <th>24h Low (USD)</th>\n",
              "    </tr>\n",
              "    <tr>\n",
              "      <th>Date</th>\n",
              "      <th></th>\n",
              "      <th></th>\n",
              "      <th></th>\n",
              "      <th></th>\n",
              "      <th></th>\n",
              "    </tr>\n",
              "  </thead>\n",
              "  <tbody>\n",
              "    <tr>\n",
              "      <th>2016-12-15</th>\n",
              "      <td>ETH</td>\n",
              "      <td>8.195936</td>\n",
              "      <td>8.394537</td>\n",
              "      <td>8.440725</td>\n",
              "      <td>8.044697</td>\n",
              "    </tr>\n",
              "    <tr>\n",
              "      <th>2016-12-16</th>\n",
              "      <td>ETH</td>\n",
              "      <td>7.836525</td>\n",
              "      <td>8.195936</td>\n",
              "      <td>8.206139</td>\n",
              "      <td>7.694463</td>\n",
              "    </tr>\n",
              "    <tr>\n",
              "      <th>2016-12-17</th>\n",
              "      <td>ETH</td>\n",
              "      <td>7.709642</td>\n",
              "      <td>7.836525</td>\n",
              "      <td>7.892591</td>\n",
              "      <td>7.699776</td>\n",
              "    </tr>\n",
              "    <tr>\n",
              "      <th>2016-12-18</th>\n",
              "      <td>ETH</td>\n",
              "      <td>7.813304</td>\n",
              "      <td>7.709642</td>\n",
              "      <td>7.939579</td>\n",
              "      <td>7.495653</td>\n",
              "    </tr>\n",
              "    <tr>\n",
              "      <th>2016-12-19</th>\n",
              "      <td>ETH</td>\n",
              "      <td>7.735086</td>\n",
              "      <td>7.813304</td>\n",
              "      <td>7.926575</td>\n",
              "      <td>7.690697</td>\n",
              "    </tr>\n",
              "  </tbody>\n",
              "</table>\n",
              "</div>"
            ],
            "text/plain": [
              "           Currency  Closing Price (USD)  ...  24h High (USD)  24h Low (USD)\n",
              "Date                                      ...                               \n",
              "2016-12-15      ETH             8.195936  ...        8.440725       8.044697\n",
              "2016-12-16      ETH             7.836525  ...        8.206139       7.694463\n",
              "2016-12-17      ETH             7.709642  ...        7.892591       7.699776\n",
              "2016-12-18      ETH             7.813304  ...        7.939579       7.495653\n",
              "2016-12-19      ETH             7.735086  ...        7.926575       7.690697\n",
              "\n",
              "[5 rows x 5 columns]"
            ]
          },
          "metadata": {},
          "execution_count": 2
        }
      ]
    },
    {
      "cell_type": "code",
      "metadata": {
        "colab": {
          "base_uri": "https://localhost:8080/"
        },
        "id": "g2KfFOx8snZH",
        "outputId": "92abc9a0-fa41-4259-fe8c-dbbd08c7585f"
      },
      "source": [
        "#Get more info about the data\n",
        "df.info()"
      ],
      "execution_count": 3,
      "outputs": [
        {
          "output_type": "stream",
          "name": "stdout",
          "text": [
            "<class 'pandas.core.frame.DataFrame'>\n",
            "DatetimeIndex: 1706 entries, 2016-12-15 to 2021-08-31\n",
            "Data columns (total 5 columns):\n",
            " #   Column               Non-Null Count  Dtype  \n",
            "---  ------               --------------  -----  \n",
            " 0   Currency             1706 non-null   object \n",
            " 1   Closing Price (USD)  1706 non-null   float64\n",
            " 2   24h Open (USD)       1706 non-null   float64\n",
            " 3   24h High (USD)       1706 non-null   float64\n",
            " 4   24h Low (USD)        1706 non-null   float64\n",
            "dtypes: float64(4), object(1)\n",
            "memory usage: 80.0+ KB\n"
          ]
        }
      ]
    },
    {
      "cell_type": "code",
      "metadata": {
        "colab": {
          "base_uri": "https://localhost:8080/"
        },
        "id": "vrUQd3g0r-2E",
        "outputId": "1d223c83-9ca6-4216-8fa5-f3c1330f928c"
      },
      "source": [
        "#How many samples in the datset\n",
        "len(df)"
      ],
      "execution_count": 4,
      "outputs": [
        {
          "output_type": "execute_result",
          "data": {
            "text/plain": [
              "1706"
            ]
          },
          "metadata": {},
          "execution_count": 4
        }
      ]
    },
    {
      "cell_type": "code",
      "metadata": {
        "colab": {
          "base_uri": "https://localhost:8080/",
          "height": 236
        },
        "id": "EPKTO-cUsLE6",
        "outputId": "d814106f-e0cd-4474-8677-352289f7d1e7"
      },
      "source": [
        "#Use only the ETH closing price and rename columns\n",
        "ether_price = pd.DataFrame(df['Closing Price (USD)']).rename(columns={\"Closing Price (USD)\": \"Price\"})\n",
        "ether_price.head()"
      ],
      "execution_count": 5,
      "outputs": [
        {
          "output_type": "execute_result",
          "data": {
            "text/html": [
              "<div>\n",
              "<style scoped>\n",
              "    .dataframe tbody tr th:only-of-type {\n",
              "        vertical-align: middle;\n",
              "    }\n",
              "\n",
              "    .dataframe tbody tr th {\n",
              "        vertical-align: top;\n",
              "    }\n",
              "\n",
              "    .dataframe thead th {\n",
              "        text-align: right;\n",
              "    }\n",
              "</style>\n",
              "<table border=\"1\" class=\"dataframe\">\n",
              "  <thead>\n",
              "    <tr style=\"text-align: right;\">\n",
              "      <th></th>\n",
              "      <th>Price</th>\n",
              "    </tr>\n",
              "    <tr>\n",
              "      <th>Date</th>\n",
              "      <th></th>\n",
              "    </tr>\n",
              "  </thead>\n",
              "  <tbody>\n",
              "    <tr>\n",
              "      <th>2016-12-15</th>\n",
              "      <td>8.195936</td>\n",
              "    </tr>\n",
              "    <tr>\n",
              "      <th>2016-12-16</th>\n",
              "      <td>7.836525</td>\n",
              "    </tr>\n",
              "    <tr>\n",
              "      <th>2016-12-17</th>\n",
              "      <td>7.709642</td>\n",
              "    </tr>\n",
              "    <tr>\n",
              "      <th>2016-12-18</th>\n",
              "      <td>7.813304</td>\n",
              "    </tr>\n",
              "    <tr>\n",
              "      <th>2016-12-19</th>\n",
              "      <td>7.735086</td>\n",
              "    </tr>\n",
              "  </tbody>\n",
              "</table>\n",
              "</div>"
            ],
            "text/plain": [
              "               Price\n",
              "Date                \n",
              "2016-12-15  8.195936\n",
              "2016-12-16  7.836525\n",
              "2016-12-17  7.709642\n",
              "2016-12-18  7.813304\n",
              "2016-12-19  7.735086"
            ]
          },
          "metadata": {},
          "execution_count": 5
        }
      ]
    },
    {
      "cell_type": "code",
      "metadata": {
        "colab": {
          "base_uri": "https://localhost:8080/",
          "height": 451
        },
        "id": "5EwZfCpXtWgq",
        "outputId": "56bc7f7a-6058-4763-c218-eed3240ceae3"
      },
      "source": [
        "#Plot Ether price\n",
        "import matplotlib.pyplot as plt\n",
        "ether_price.plot(figsize=(10,7))\n",
        "plt.ylabel(\"ETH Price\")\n",
        "plt.title(\"Ethereum Historical Price Chart\", fontsize=16)\n",
        "plt.legend(fontsize=14)"
      ],
      "execution_count": 6,
      "outputs": [
        {
          "output_type": "execute_result",
          "data": {
            "text/plain": [
              "<matplotlib.legend.Legend at 0x7ff263b1a410>"
            ]
          },
          "metadata": {},
          "execution_count": 6
        },
        {
          "output_type": "display_data",
          "data": {
            "image/png": "[encoded data removed]",
            "text/plain": [
              "<Figure size 720x504 with 1 Axes>"
            ]
          },
          "metadata": {
            "needs_background": "light"
          }
        }
      ]
    },
    {
      "cell_type": "code",
      "metadata": {
        "colab": {
          "base_uri": "https://localhost:8080/"
        },
        "id": "9ERbncFB3dJx",
        "outputId": "aa582102-95f2-4d1a-b7d2-50a857f79309"
      },
      "source": [
        "#Get ETH price and date array\n",
        "timesteps = ether_price.index.to_numpy()\n",
        "prices = ether_price[\"Price\"].to_numpy()\n",
        "timesteps[:10], prices[:10]"
      ],
      "execution_count": 7,
      "outputs": [
        {
          "output_type": "execute_result",
          "data": {
            "text/plain": [
              "(array(['2016-12-15T00:00:00.000000000', '2016-12-16T00:00:00.000000000',\n",
              "        '2016-12-17T00:00:00.000000000', '2016-12-18T00:00:00.000000000',\n",
              "        '2016-12-19T00:00:00.000000000', '2016-12-20T00:00:00.000000000',\n",
              "        '2016-12-21T00:00:00.000000000', '2016-12-22T00:00:00.000000000',\n",
              "        '2016-12-23T00:00:00.000000000', '2016-12-24T00:00:00.000000000'],\n",
              "       dtype='datetime64[ns]'),\n",
              " array([8.195936, 7.836525, 7.709642, 7.813304, 7.735086, 7.601047,\n",
              "        7.675313, 7.569866, 7.601819, 7.221961]))"
            ]
          },
          "metadata": {},
          "execution_count": 7
        }
      ]
    },
    {
      "cell_type": "code",
      "metadata": {
        "colab": {
          "base_uri": "https://localhost:8080/"
        },
        "id": "zAPw5KSH3vc8",
        "outputId": "88673d47-aad5-4855-c56b-0bfb9d7531be"
      },
      "source": [
        "#Create train and test sets\n",
        "split_size = int(0.8 * len(prices))\n",
        "y_train, x_train = prices[:split_size], timesteps[:split_size]\n",
        "y_test, x_test = prices[split_size:], timesteps[split_size:]\n",
        "len(x_train), len(x_test), len(y_train), len(y_test)"
      ],
      "execution_count": 8,
      "outputs": [
        {
          "output_type": "execute_result",
          "data": {
            "text/plain": [
              "(1364, 342, 1364, 342)"
            ]
          },
          "metadata": {},
          "execution_count": 8
        }
      ]
    },
    {
      "cell_type": "code",
      "metadata": {
        "colab": {
          "base_uri": "https://localhost:8080/",
          "height": 459
        },
        "id": "iqyJNTAB4hqo",
        "outputId": "b2300aad-1905-4103-c00b-21d726cdbfdb"
      },
      "source": [
        "#Plot the train and test split\n",
        "plt.figure(figsize=(10,7))\n",
        "plt.scatter(x_train, y_train, label=\"Train data\")\n",
        "plt.scatter(x_test, y_test, label=\"Test data\")\n",
        "plt.xlabel(\"Date\")\n",
        "plt.ylabel(\"ETH Price\")\n",
        "plt.legend()"
      ],
      "execution_count": 9,
      "outputs": [
        {
          "output_type": "execute_result",
          "data": {
            "text/plain": [
              "<matplotlib.legend.Legend at 0x7ff2674293d0>"
            ]
          },
          "metadata": {},
          "execution_count": 9
        },
        {
          "output_type": "display_data",
          "data": {
            "image/png": "[encoded data removed]",
            "text/plain": [
              "<Figure size 720x504 with 1 Axes>"
            ]
          },
          "metadata": {
            "needs_background": "light"
          }
        }
      ]
    },
    {
      "cell_type": "code",
      "metadata": {
        "id": "DoIHBVEI43xK"
      },
      "source": [
        "def plot_time_series(timesteps, values, format=\".\", start=0, end=None, label=None):\n",
        "  \"\"\"\n",
        "  Plots timesteps against values\n",
        "  Parameters\n",
        "  ----------\n",
        "  timesteps: array of timesteps\n",
        "  values: array of values across time\n",
        "  format: style of plot, default \".\"\n",
        "  start: where to start the plot (setting a value will index from start of timesteps & values)\n",
        "  ende: where to ende the plot (setting a value will index from end of timesteps & values)\n",
        "  label: label to show on plot of values\n",
        "  \"\"\"\n",
        "  plt.plot(timesteps[start:end], values[start:end], format, label=label)\n",
        "  plt.xlabel(\"Time\")\n",
        "  plt.ylabel(\"Values\")\n",
        "  if label:\n",
        "    plt.legend(fontsize=14)\n",
        "  plt.grid(True)"
      ],
      "execution_count": 10,
      "outputs": []
    },
    {
      "cell_type": "code",
      "metadata": {
        "colab": {
          "base_uri": "https://localhost:8080/",
          "height": 442
        },
        "id": "ghVCWjlL9F0O",
        "outputId": "90efc145-405f-4d6e-edaf-330638172cab"
      },
      "source": [
        "plt.figure(figsize=(10,7))\n",
        "plot_time_series(x_train, y_train, label=\"Train Data\")\n",
        "plot_time_series(x_test, y_test, label=\"Test Data\")"
      ],
      "execution_count": 11,
      "outputs": [
        {
          "output_type": "display_data",
          "data": {
            "image/png": "[encoded data removed]",
            "text/plain": [
              "<Figure size 720x504 with 1 Axes>"
            ]
          },
          "metadata": {
            "needs_background": "light"
          }
        }
      ]
    },
    {
      "cell_type": "code",
      "metadata": {
        "id": "3mCZoK-T_PUx"
      },
      "source": [
        "import numpy as np\n",
        "\n",
        "def make_windows(x, window_size=7, horizon=1):\n",
        "  \"\"\"\n",
        "  Turn a 1D array into a 2D array of sequential windows of window_size\n",
        "  \"\"\"\n",
        "  # 1. Create a window of specific window_size (add the horizon on the end for later labelling)\n",
        "  window_step = np.expand_dims(np.arange(window_size + horizon), axis=0)\n",
        "\n",
        "  # 2. Create 2D array of multiple window steps (minus 1 to account for indexing)\n",
        "  window_indexes = window_step + np.expand_dims(np.arange(len(x)-(window_size+horizon-1)), axis=0).T #create 2D array of windows of size window_size\n",
        "\n",
        "  # 3. Index on the target array (time series) with 2D array of multiple window steps\n",
        "  windowed_array = x[window_indexes]\n",
        "\n",
        "  # Get the labelled windows\n",
        "  windows, labels = windowed_array[:, :-horizon], windowed_array[:, -horizon:]\n",
        "\n",
        "  return windows, labels"
      ],
      "execution_count": 12,
      "outputs": []
    },
    {
      "cell_type": "code",
      "metadata": {
        "colab": {
          "base_uri": "https://localhost:8080/"
        },
        "id": "zV3_BxfqAxWA",
        "outputId": "b7b0dcc3-9414-4490-a842-6618783c052c"
      },
      "source": [
        "prices[:10], timesteps[:10]"
      ],
      "execution_count": 13,
      "outputs": [
        {
          "output_type": "execute_result",
          "data": {
            "text/plain": [
              "(array([8.195936, 7.836525, 7.709642, 7.813304, 7.735086, 7.601047,\n",
              "        7.675313, 7.569866, 7.601819, 7.221961]),\n",
              " array(['2016-12-15T00:00:00.000000000', '2016-12-16T00:00:00.000000000',\n",
              "        '2016-12-17T00:00:00.000000000', '2016-12-18T00:00:00.000000000',\n",
              "        '2016-12-19T00:00:00.000000000', '2016-12-20T00:00:00.000000000',\n",
              "        '2016-12-21T00:00:00.000000000', '2016-12-22T00:00:00.000000000',\n",
              "        '2016-12-23T00:00:00.000000000', '2016-12-24T00:00:00.000000000'],\n",
              "       dtype='datetime64[ns]'))"
            ]
          },
          "metadata": {},
          "execution_count": 13
        }
      ]
    },
    {
      "cell_type": "code",
      "metadata": {
        "colab": {
          "base_uri": "https://localhost:8080/"
        },
        "id": "y11_Sr1qA2PI",
        "outputId": "0c13b107-6985-442f-f437-73a37b5b5528"
      },
      "source": [
        "HORIZON = 1\n",
        "WINDOW_SIZE = 7\n",
        "full_windows, full_labels = make_windows(prices, window_size=WINDOW_SIZE, horizon=HORIZON)\n",
        "len(full_windows), len(full_labels)"
      ],
      "execution_count": 14,
      "outputs": [
        {
          "output_type": "execute_result",
          "data": {
            "text/plain": [
              "(1699, 1699)"
            ]
          },
          "metadata": {},
          "execution_count": 14
        }
      ]
    },
    {
      "cell_type": "code",
      "metadata": {
        "colab": {
          "base_uri": "https://localhost:8080/"
        },
        "id": "oWnT-x0oBC_r",
        "outputId": "86221476-6b19-48b6-ee5e-b891993c7224"
      },
      "source": [
        "for i in range(5):\n",
        "  print(f\"WIndow: {full_windows[i]}, Label: {full_labels[i]}\")"
      ],
      "execution_count": 15,
      "outputs": [
        {
          "output_type": "stream",
          "name": "stdout",
          "text": [
            "WIndow: [8.195936 7.836525 7.709642 7.813304 7.735086 7.601047 7.675313], Label: [7.569866]\n",
            "WIndow: [7.836525 7.709642 7.813304 7.735086 7.601047 7.675313 7.569866], Label: [7.601819]\n",
            "WIndow: [7.709642 7.813304 7.735086 7.601047 7.675313 7.569866 7.601819], Label: [7.221961]\n",
            "WIndow: [7.813304 7.735086 7.601047 7.675313 7.569866 7.601819 7.221961], Label: [7.256569]\n",
            "WIndow: [7.735086 7.601047 7.675313 7.569866 7.601819 7.221961 7.256569], Label: [7.260191]\n"
          ]
        }
      ]
    },
    {
      "cell_type": "code",
      "metadata": {
        "id": "WHATzR0QCHYl"
      },
      "source": [
        "#Function for creating train and test splits\n",
        "def make_train_test_splits(windows, labels, test_split=0.2):\n",
        "  \"\"\"\n",
        "  Splits matching pairs of windows and labels into train and test splits\n",
        "  \"\"\"\n",
        "  split_size = int(len(windows) * (1 - test_split))\n",
        "  train_windows = windows[:split_size]\n",
        "  train_labels = labels[:split_size]\n",
        "  test_windows = windows[split_size:]\n",
        "  test_labels = labels[split_size:]\n",
        "  return train_windows, test_windows, train_labels, test_labels"
      ],
      "execution_count": 16,
      "outputs": []
    },
    {
      "cell_type": "code",
      "metadata": {
        "colab": {
          "base_uri": "https://localhost:8080/"
        },
        "id": "UfsB3HbODHdk",
        "outputId": "953b889a-411c-4d4f-c75b-ca7dbe9d1ec8"
      },
      "source": [
        "train_windows, test_windows, train_labels, test_labels = make_train_test_splits(full_windows, full_labels)\n",
        "len(train_windows), len(test_windows), len(train_labels), len(test_labels) "
      ],
      "execution_count": 17,
      "outputs": [
        {
          "output_type": "execute_result",
          "data": {
            "text/plain": [
              "(1359, 340, 1359, 340)"
            ]
          },
          "metadata": {},
          "execution_count": 17
        }
      ]
    },
    {
      "cell_type": "code",
      "metadata": {
        "id": "Tu19eQAEDqfd"
      },
      "source": [
        "import tensorflow as tf\n",
        "import os\n",
        "#Function for implementing a model checkpoint\n",
        "def create_model_checkpoint(model_name, save_path=\"model_experiments\"):\n",
        "  return tf.keras.callbacks.ModelCheckpoint(filepath=os.path.join(save_path, model_name), # create filepath to save model\n",
        "                                              verbose=0, # only output a limited amount of text\n",
        "                                              save_best_only=True) # save only the best model to file"
      ],
      "execution_count": 18,
      "outputs": []
    },
    {
      "cell_type": "code",
      "metadata": {
        "id": "UhseR5SsEQUV"
      },
      "source": [
        "#Create an evaluation function\n",
        "def evaluate_preds(y_true, y_pred):\n",
        "  y_true = tf.cast(y_true, dtype=tf.float32)\n",
        "  y_pred = tf.cast(y_pred, dtype=tf.float32)\n",
        "\n",
        "  mae = tf.keras.metrics.mean_absolute_error(y_true, y_pred)\n",
        "  mse = tf.keras.metrics.mean_squared_error(y_true, y_pred)\n",
        "  rmse = tf.sqrt(mse)\n",
        "  mape = tf.keras.metrics.mean_absolute_error(y_true, y_pred)\n",
        "\n",
        "  if mae.ndim > 0:\n",
        "    mae = tf.reduce_mean(mae)\n",
        "    mse = tf.reduce_mean(mse)\n",
        "    rmse = tf.reduce_mean(rmse)\n",
        "    mape = tf.reduce_mean(mape)\n",
        "\n",
        "  return {\"mae\": mae.numpy(),\n",
        "          \"mse\": mse.numpy(),\n",
        "          \"rmse\": rmse.numpy(),\n",
        "          \"mape\": mape.numpy()}"
      ],
      "execution_count": 19,
      "outputs": []
    },
    {
      "cell_type": "code",
      "metadata": {
        "id": "mScf8E5GI0uU"
      },
      "source": [
        "import tensorflow as tf\n",
        "from tensorflow.keras import layers\n",
        "tf.random.set_seed(42)"
      ],
      "execution_count": 20,
      "outputs": []
    },
    {
      "cell_type": "markdown",
      "metadata": {
        "id": "lb0Nomw3bfqB"
      },
      "source": [
        "## Model 1: Dense model - W30/H1"
      ]
    },
    {
      "cell_type": "code",
      "metadata": {
        "id": "sBW66ai_IAFK"
      },
      "source": [
        "#Build the model\n",
        "\n",
        "model_1 = tf.keras.Sequential([\n",
        "                               layers.Dense(128, activation=\"relu\"),\n",
        "                               layers.Dense(HORIZON)\n",
        "                               \n",
        "], name=\"model_1_dense\")"
      ],
      "execution_count": 21,
      "outputs": []
    },
    {
      "cell_type": "code",
      "metadata": {
        "id": "RCI29sT9JLUG"
      },
      "source": [
        "#Compile the model\n",
        "model_1.compile(loss=\"mae\", optimizer=\"Adam\", metrics=[\"mae\", \"mse\"])"
      ],
      "execution_count": 22,
      "outputs": []
    },
    {
      "cell_type": "code",
      "metadata": {
        "colab": {
          "base_uri": "https://localhost:8080/"
        },
        "id": "UnLZwRbTJaqh",
        "outputId": "ffa283bf-9993-49e2-f261-97de1df15e9c"
      },
      "source": [
        "#Fit the model\n",
        "history_model_1 = model_1.fit(train_windows, train_labels,\n",
        "                              epochs=100,\n",
        "                              batch_size=128,\n",
        "                              verbose=0,\n",
        "                              validation_data=(test_windows, test_labels),\n",
        "                              callbacks=[create_model_checkpoint(model_1.name)])"
      ],
      "execution_count": 23,
      "outputs": [
        {
          "output_type": "stream",
          "name": "stdout",
          "text": [
            "INFO:tensorflow:Assets written to: model_experiments/model_1_dense/assets\n",
            "INFO:tensorflow:Assets written to: model_experiments/model_1_dense/assets\n",
            "INFO:tensorflow:Assets written to: model_experiments/model_1_dense/assets\n",
            "INFO:tensorflow:Assets written to: model_experiments/model_1_dense/assets\n",
            "INFO:tensorflow:Assets written to: model_experiments/model_1_dense/assets\n",
            "INFO:tensorflow:Assets written to: model_experiments/model_1_dense/assets\n",
            "INFO:tensorflow:Assets written to: model_experiments/model_1_dense/assets\n",
            "INFO:tensorflow:Assets written to: model_experiments/model_1_dense/assets\n",
            "INFO:tensorflow:Assets written to: model_experiments/model_1_dense/assets\n",
            "INFO:tensorflow:Assets written to: model_experiments/model_1_dense/assets\n",
            "INFO:tensorflow:Assets written to: model_experiments/model_1_dense/assets\n",
            "INFO:tensorflow:Assets written to: model_experiments/model_1_dense/assets\n",
            "INFO:tensorflow:Assets written to: model_experiments/model_1_dense/assets\n",
            "INFO:tensorflow:Assets written to: model_experiments/model_1_dense/assets\n",
            "INFO:tensorflow:Assets written to: model_experiments/model_1_dense/assets\n",
            "INFO:tensorflow:Assets written to: model_experiments/model_1_dense/assets\n",
            "INFO:tensorflow:Assets written to: model_experiments/model_1_dense/assets\n",
            "INFO:tensorflow:Assets written to: model_experiments/model_1_dense/assets\n",
            "INFO:tensorflow:Assets written to: model_experiments/model_1_dense/assets\n",
            "INFO:tensorflow:Assets written to: model_experiments/model_1_dense/assets\n",
            "INFO:tensorflow:Assets written to: model_experiments/model_1_dense/assets\n",
            "INFO:tensorflow:Assets written to: model_experiments/model_1_dense/assets\n",
            "INFO:tensorflow:Assets written to: model_experiments/model_1_dense/assets\n",
            "INFO:tensorflow:Assets written to: model_experiments/model_1_dense/assets\n",
            "INFO:tensorflow:Assets written to: model_experiments/model_1_dense/assets\n",
            "INFO:tensorflow:Assets written to: model_experiments/model_1_dense/assets\n",
            "INFO:tensorflow:Assets written to: model_experiments/model_1_dense/assets\n",
            "INFO:tensorflow:Assets written to: model_experiments/model_1_dense/assets\n",
            "INFO:tensorflow:Assets written to: model_experiments/model_1_dense/assets\n",
            "INFO:tensorflow:Assets written to: model_experiments/model_1_dense/assets\n",
            "INFO:tensorflow:Assets written to: model_experiments/model_1_dense/assets\n",
            "INFO:tensorflow:Assets written to: model_experiments/model_1_dense/assets\n",
            "INFO:tensorflow:Assets written to: model_experiments/model_1_dense/assets\n",
            "INFO:tensorflow:Assets written to: model_experiments/model_1_dense/assets\n"
          ]
        }
      ]
    },
    {
      "cell_type": "code",
      "metadata": {
        "colab": {
          "base_uri": "https://localhost:8080/"
        },
        "id": "B5owYRSEJ3mn",
        "outputId": "8efb612a-822b-4377-f682-ee5bcdaea0ad"
      },
      "source": [
        "#Evaluate the model\n",
        "model_1.evaluate(test_windows, test_labels)"
      ],
      "execution_count": 24,
      "outputs": [
        {
          "output_type": "stream",
          "name": "stdout",
          "text": [
            "11/11 [==============================] - 0s 3ms/step - loss: 72.2932 - mae: 72.2932 - mse: 12865.1953\n"
          ]
        },
        {
          "output_type": "execute_result",
          "data": {
            "text/plain": [
              "[72.293212890625, 72.293212890625, 12865.1953125]"
            ]
          },
          "metadata": {},
          "execution_count": 24
        }
      ]
    },
    {
      "cell_type": "code",
      "metadata": {
        "colab": {
          "base_uri": "https://localhost:8080/"
        },
        "id": "SHf3yt7vKFT7",
        "outputId": "0ae130be-8915-4e82-d9ec-8d9d5f6616a9"
      },
      "source": [
        "#Load the best model\n",
        "model_1 = tf.keras.models.load_model(\"model_experiments/model_1_dense/\")\n",
        "model_1.evaluate(test_windows, test_labels)"
      ],
      "execution_count": 25,
      "outputs": [
        {
          "output_type": "stream",
          "name": "stdout",
          "text": [
            "11/11 [==============================] - 0s 5ms/step - loss: 71.7637 - mae: 71.7637 - mse: 12543.5137\n"
          ]
        },
        {
          "output_type": "execute_result",
          "data": {
            "text/plain": [
              "[71.76368713378906, 71.76368713378906, 12543.513671875]"
            ]
          },
          "metadata": {},
          "execution_count": 25
        }
      ]
    },
    {
      "cell_type": "code",
      "metadata": {
        "id": "m3vQ39dpKTFc"
      },
      "source": [
        "def make_preds(model, input_data):\n",
        "  \"\"\"\n",
        "  Uses model to make predictions on input_data.\n",
        "\n",
        "  Parameters\n",
        "  --------\n",
        "  model: trained model\n",
        "  input_data: windowd input data (same kind of data model was trained on)\n",
        "\n",
        "  Returns model predictions on input data.\n",
        "  \"\"\"\n",
        "  forecast = model.predict(input_data)\n",
        "  return tf.squeeze(forecast)"
      ],
      "execution_count": 26,
      "outputs": []
    },
    {
      "cell_type": "code",
      "metadata": {
        "colab": {
          "base_uri": "https://localhost:8080/"
        },
        "id": "kYmcGQ9LKqrD",
        "outputId": "054e09c6-ef12-4e54-e25b-4a1825b588a2"
      },
      "source": [
        "#make predictions\n",
        "model_1_preds = make_preds(model_1, test_windows)\n",
        "model_1_preds[:10]"
      ],
      "execution_count": 27,
      "outputs": [
        {
          "output_type": "execute_result",
          "data": {
            "text/plain": [
              "<tf.Tensor: shape=(10,), dtype=float32, numpy=\n",
              "array([342.98212, 353.40063, 355.5383 , 354.8855 , 364.09125, 360.7897 ,\n",
              "       360.01868, 354.64923, 348.13687, 347.51245], dtype=float32)>"
            ]
          },
          "metadata": {},
          "execution_count": 27
        }
      ]
    },
    {
      "cell_type": "code",
      "metadata": {
        "colab": {
          "base_uri": "https://localhost:8080/"
        },
        "id": "IuC8z9WgKzRf",
        "outputId": "aebf9eab-b37d-45f4-fade-3736a561b2c8"
      },
      "source": [
        "# Evaluate preds\n",
        "model_1_results = evaluate_preds(y_true=tf.squeeze(test_labels), y_pred=model_1_preds)\n",
        "model_1_results"
      ],
      "execution_count": 28,
      "outputs": [
        {
          "output_type": "execute_result",
          "data": {
            "text/plain": [
              "{'mae': 71.76369, 'mape': 71.76369, 'mse': 12543.515, 'rmse': 111.99783}"
            ]
          },
          "metadata": {},
          "execution_count": 28
        }
      ]
    },
    {
      "cell_type": "markdown",
      "metadata": {
        "id": "ICTaMXZiLwIs"
      },
      "source": [
        "## Model 1: Dense model - W15/H1"
      ]
    },
    {
      "cell_type": "code",
      "metadata": {
        "id": "dlH_z0utbvz7",
        "colab": {
          "base_uri": "https://localhost:8080/"
        },
        "outputId": "3205bf69-78aa-4b56-9c65-66d7935aef03"
      },
      "source": [
        "#Window data\n",
        "HORIZON = 1\n",
        "WINDOW_SIZE = 15\n",
        "full_windows, full_labels = make_windows(prices, window_size=WINDOW_SIZE, horizon=HORIZON)\n",
        "len(full_windows), len(full_labels)"
      ],
      "execution_count": 29,
      "outputs": [
        {
          "output_type": "execute_result",
          "data": {
            "text/plain": [
              "(1691, 1691)"
            ]
          },
          "metadata": {},
          "execution_count": 29
        }
      ]
    },
    {
      "cell_type": "code",
      "metadata": {
        "id": "MKvXENLsb2E6",
        "colab": {
          "base_uri": "https://localhost:8080/"
        },
        "outputId": "a1d43549-1d8c-4a9a-83f8-b66194e48a84"
      },
      "source": [
        "#Split data into train and test sets\n",
        "train_windows, test_windows, train_labels, test_labels = make_train_test_splits(full_windows, full_labels)\n",
        "len(train_windows), len(test_windows), len(train_labels), len(test_labels) "
      ],
      "execution_count": 30,
      "outputs": [
        {
          "output_type": "execute_result",
          "data": {
            "text/plain": [
              "(1352, 339, 1352, 339)"
            ]
          },
          "metadata": {},
          "execution_count": 30
        }
      ]
    },
    {
      "cell_type": "code",
      "metadata": {
        "id": "QwC2swwLb6IY"
      },
      "source": [
        "#Build the model \n",
        "tf.random.set_seed(42)\n",
        "\n",
        "model_2 = tf.keras.Sequential([\n",
        "                               layers.Dense(128, activation=\"relu\"),\n",
        "                               layers.Dense(HORIZON)\n",
        "], name=\"model_2_dense\")"
      ],
      "execution_count": 31,
      "outputs": []
    },
    {
      "cell_type": "code",
      "metadata": {
        "id": "bWd_HNLxcBKM"
      },
      "source": [
        "#Compile the model\n",
        "model_2.compile(loss=\"mse\", optimizer=\"Adam\", metrics=[\"mse\", \"mae\"])"
      ],
      "execution_count": 32,
      "outputs": []
    },
    {
      "cell_type": "code",
      "metadata": {
        "id": "T7kjb28aceDE",
        "colab": {
          "base_uri": "https://localhost:8080/"
        },
        "outputId": "519927d7-0369-48d1-8e79-3d1fc5591feb"
      },
      "source": [
        "#Fit the model \n",
        "history_model_2 = model_2.fit(train_windows, train_labels, \n",
        "                              epochs=100,\n",
        "                              batch_size=128,\n",
        "                              verbose=0,\n",
        "                              validation_data=(test_windows, test_labels),\n",
        "                              callbacks=[create_model_checkpoint(model_2.name)])"
      ],
      "execution_count": 33,
      "outputs": [
        {
          "output_type": "stream",
          "name": "stdout",
          "text": [
            "INFO:tensorflow:Assets written to: model_experiments/model_2_dense/assets\n",
            "INFO:tensorflow:Assets written to: model_experiments/model_2_dense/assets\n",
            "INFO:tensorflow:Assets written to: model_experiments/model_2_dense/assets\n",
            "INFO:tensorflow:Assets written to: model_experiments/model_2_dense/assets\n",
            "INFO:tensorflow:Assets written to: model_experiments/model_2_dense/assets\n",
            "INFO:tensorflow:Assets written to: model_experiments/model_2_dense/assets\n",
            "INFO:tensorflow:Assets written to: model_experiments/model_2_dense/assets\n",
            "INFO:tensorflow:Assets written to: model_experiments/model_2_dense/assets\n",
            "INFO:tensorflow:Assets written to: model_experiments/model_2_dense/assets\n",
            "INFO:tensorflow:Assets written to: model_experiments/model_2_dense/assets\n",
            "INFO:tensorflow:Assets written to: model_experiments/model_2_dense/assets\n",
            "INFO:tensorflow:Assets written to: model_experiments/model_2_dense/assets\n",
            "INFO:tensorflow:Assets written to: model_experiments/model_2_dense/assets\n",
            "INFO:tensorflow:Assets written to: model_experiments/model_2_dense/assets\n",
            "INFO:tensorflow:Assets written to: model_experiments/model_2_dense/assets\n",
            "INFO:tensorflow:Assets written to: model_experiments/model_2_dense/assets\n",
            "INFO:tensorflow:Assets written to: model_experiments/model_2_dense/assets\n",
            "INFO:tensorflow:Assets written to: model_experiments/model_2_dense/assets\n",
            "INFO:tensorflow:Assets written to: model_experiments/model_2_dense/assets\n",
            "INFO:tensorflow:Assets written to: model_experiments/model_2_dense/assets\n",
            "INFO:tensorflow:Assets written to: model_experiments/model_2_dense/assets\n",
            "INFO:tensorflow:Assets written to: model_experiments/model_2_dense/assets\n",
            "INFO:tensorflow:Assets written to: model_experiments/model_2_dense/assets\n",
            "INFO:tensorflow:Assets written to: model_experiments/model_2_dense/assets\n",
            "INFO:tensorflow:Assets written to: model_experiments/model_2_dense/assets\n",
            "INFO:tensorflow:Assets written to: model_experiments/model_2_dense/assets\n",
            "INFO:tensorflow:Assets written to: model_experiments/model_2_dense/assets\n",
            "INFO:tensorflow:Assets written to: model_experiments/model_2_dense/assets\n",
            "INFO:tensorflow:Assets written to: model_experiments/model_2_dense/assets\n",
            "INFO:tensorflow:Assets written to: model_experiments/model_2_dense/assets\n",
            "INFO:tensorflow:Assets written to: model_experiments/model_2_dense/assets\n",
            "INFO:tensorflow:Assets written to: model_experiments/model_2_dense/assets\n",
            "INFO:tensorflow:Assets written to: model_experiments/model_2_dense/assets\n",
            "INFO:tensorflow:Assets written to: model_experiments/model_2_dense/assets\n",
            "INFO:tensorflow:Assets written to: model_experiments/model_2_dense/assets\n",
            "INFO:tensorflow:Assets written to: model_experiments/model_2_dense/assets\n",
            "INFO:tensorflow:Assets written to: model_experiments/model_2_dense/assets\n",
            "INFO:tensorflow:Assets written to: model_experiments/model_2_dense/assets\n",
            "INFO:tensorflow:Assets written to: model_experiments/model_2_dense/assets\n",
            "INFO:tensorflow:Assets written to: model_experiments/model_2_dense/assets\n"
          ]
        }
      ]
    },
    {
      "cell_type": "code",
      "metadata": {
        "id": "70U6N0XVczZE",
        "colab": {
          "base_uri": "https://localhost:8080/"
        },
        "outputId": "c4e3d803-6d3d-492f-fa17-fa19cd0d3bf2"
      },
      "source": [
        "#Evaluate the model \n",
        "model_2.evaluate(test_windows, test_labels)"
      ],
      "execution_count": 34,
      "outputs": [
        {
          "output_type": "stream",
          "name": "stdout",
          "text": [
            "11/11 [==============================] - 0s 3ms/step - loss: 13628.0371 - mse: 13628.0371 - mae: 81.1907\n"
          ]
        },
        {
          "output_type": "execute_result",
          "data": {
            "text/plain": [
              "[13628.037109375, 13628.037109375, 81.19066619873047]"
            ]
          },
          "metadata": {},
          "execution_count": 34
        }
      ]
    },
    {
      "cell_type": "code",
      "metadata": {
        "id": "XomxZ0OsdDOm",
        "colab": {
          "base_uri": "https://localhost:8080/"
        },
        "outputId": "6434159c-715c-4bfa-94e1-6b90d772cfb0"
      },
      "source": [
        "#Load best performing model \n",
        "model_2 = tf.keras.models.load_model(\"model_experiments/model_2_dense/\")\n",
        "model_2.evaluate(test_windows, test_labels)"
      ],
      "execution_count": 35,
      "outputs": [
        {
          "output_type": "stream",
          "name": "stdout",
          "text": [
            "11/11 [==============================] - 0s 3ms/step - loss: 13208.0029 - mse: 13208.0029 - mae: 75.6301\n"
          ]
        },
        {
          "output_type": "execute_result",
          "data": {
            "text/plain": [
              "[13208.0029296875, 13208.0029296875, 75.63007354736328]"
            ]
          },
          "metadata": {},
          "execution_count": 35
        }
      ]
    },
    {
      "cell_type": "code",
      "metadata": {
        "id": "vvDDub0xdSrA"
      },
      "source": [
        "#Get forecast predictions\n",
        "model_2_preds = make_preds(model_2, test_windows)"
      ],
      "execution_count": 36,
      "outputs": []
    },
    {
      "cell_type": "code",
      "metadata": {
        "id": "Z4q8gh_ZdtsA",
        "colab": {
          "base_uri": "https://localhost:8080/"
        },
        "outputId": "d36eebf4-a119-4ca3-b26e-617233e60b28"
      },
      "source": [
        "#Evaluate results\n",
        "model_2_results = evaluate_preds(tf.squeeze(test_labels), model_2_preds)\n",
        "model_2_results"
      ],
      "execution_count": 37,
      "outputs": [
        {
          "output_type": "execute_result",
          "data": {
            "text/plain": [
              "{'mae': 75.630066, 'mape': 75.630066, 'mse': 13208.003, 'rmse': 114.92608}"
            ]
          },
          "metadata": {},
          "execution_count": 37
        }
      ]
    },
    {
      "cell_type": "markdown",
      "metadata": {
        "id": "Euc8AnjLd3lc"
      },
      "source": [
        "## Model 3: Conv1D - W30/H1"
      ]
    },
    {
      "cell_type": "code",
      "metadata": {
        "id": "s-e_3OXpe70n",
        "colab": {
          "base_uri": "https://localhost:8080/"
        },
        "outputId": "9aa4b403-c20e-4791-9858-129dae7b7260"
      },
      "source": [
        "#Window data\n",
        "HORIZON = 1\n",
        "WINDOW_SIZE = 30\n",
        "full_windows, full_labels = make_windows(prices, window_size=WINDOW_SIZE, horizon=HORIZON)\n",
        "len(full_windows), len(full_labels)"
      ],
      "execution_count": 38,
      "outputs": [
        {
          "output_type": "execute_result",
          "data": {
            "text/plain": [
              "(1676, 1676)"
            ]
          },
          "metadata": {},
          "execution_count": 38
        }
      ]
    },
    {
      "cell_type": "code",
      "metadata": {
        "id": "DUEi190Fe_Ag",
        "colab": {
          "base_uri": "https://localhost:8080/"
        },
        "outputId": "49b3662c-453b-4f55-afc5-a956462731a8"
      },
      "source": [
        "#Split data into train and test sets\n",
        "train_windows, test_windows, train_labels, test_labels = make_train_test_splits(full_windows, full_labels)\n",
        "len(train_windows), len(test_windows), len(train_labels), len(test_labels) "
      ],
      "execution_count": 39,
      "outputs": [
        {
          "output_type": "execute_result",
          "data": {
            "text/plain": [
              "(1340, 336, 1340, 336)"
            ]
          },
          "metadata": {},
          "execution_count": 39
        }
      ]
    },
    {
      "cell_type": "code",
      "metadata": {
        "id": "SB8f1BH0fBzx"
      },
      "source": [
        "#Build the model \n",
        "tf.random.set_seed(42)\n",
        "\n",
        "model_3 = tf.keras.Sequential([\n",
        "                               layers.Lambda(lambda x: tf.expand_dims(x, axis=1)),\n",
        "                               layers.Conv1D(filters=128, kernel_size=5, padding=\"causal\", activation=\"relu\"),\n",
        "                               layers.Dense(HORIZON)\n",
        "], name=\"model_3_Conv1D\")"
      ],
      "execution_count": 40,
      "outputs": []
    },
    {
      "cell_type": "code",
      "metadata": {
        "id": "8OwEmD23fkxg"
      },
      "source": [
        "#Compile the model\n",
        "model_3.compile(loss=\"mse\", optimizer=\"Adam\", metrics=[\"mse\", \"mae\"])"
      ],
      "execution_count": 41,
      "outputs": []
    },
    {
      "cell_type": "code",
      "metadata": {
        "id": "qwSK_sfbfuEO",
        "colab": {
          "base_uri": "https://localhost:8080/"
        },
        "outputId": "9b7a3446-cbdd-4667-97bf-2254a080b6c1"
      },
      "source": [
        "#Fit the model\n",
        "history_model_3 = model_3.fit(train_windows, train_labels,\n",
        "                              epochs=100,\n",
        "                              verbose=0,\n",
        "                              batch_size=128,\n",
        "                              validation_data=(test_windows, test_labels),\n",
        "                              callbacks=[create_model_checkpoint(model_3.name)])"
      ],
      "execution_count": 42,
      "outputs": [
        {
          "output_type": "stream",
          "name": "stdout",
          "text": [
            "INFO:tensorflow:Assets written to: model_experiments/model_3_Conv1D/assets\n",
            "INFO:tensorflow:Assets written to: model_experiments/model_3_Conv1D/assets\n",
            "INFO:tensorflow:Assets written to: model_experiments/model_3_Conv1D/assets\n",
            "INFO:tensorflow:Assets written to: model_experiments/model_3_Conv1D/assets\n",
            "INFO:tensorflow:Assets written to: model_experiments/model_3_Conv1D/assets\n",
            "INFO:tensorflow:Assets written to: model_experiments/model_3_Conv1D/assets\n",
            "INFO:tensorflow:Assets written to: model_experiments/model_3_Conv1D/assets\n",
            "INFO:tensorflow:Assets written to: model_experiments/model_3_Conv1D/assets\n",
            "INFO:tensorflow:Assets written to: model_experiments/model_3_Conv1D/assets\n",
            "INFO:tensorflow:Assets written to: model_experiments/model_3_Conv1D/assets\n",
            "INFO:tensorflow:Assets written to: model_experiments/model_3_Conv1D/assets\n",
            "INFO:tensorflow:Assets written to: model_experiments/model_3_Conv1D/assets\n",
            "INFO:tensorflow:Assets written to: model_experiments/model_3_Conv1D/assets\n",
            "INFO:tensorflow:Assets written to: model_experiments/model_3_Conv1D/assets\n",
            "INFO:tensorflow:Assets written to: model_experiments/model_3_Conv1D/assets\n",
            "INFO:tensorflow:Assets written to: model_experiments/model_3_Conv1D/assets\n",
            "INFO:tensorflow:Assets written to: model_experiments/model_3_Conv1D/assets\n",
            "INFO:tensorflow:Assets written to: model_experiments/model_3_Conv1D/assets\n",
            "INFO:tensorflow:Assets written to: model_experiments/model_3_Conv1D/assets\n",
            "INFO:tensorflow:Assets written to: model_experiments/model_3_Conv1D/assets\n",
            "INFO:tensorflow:Assets written to: model_experiments/model_3_Conv1D/assets\n",
            "INFO:tensorflow:Assets written to: model_experiments/model_3_Conv1D/assets\n",
            "INFO:tensorflow:Assets written to: model_experiments/model_3_Conv1D/assets\n",
            "INFO:tensorflow:Assets written to: model_experiments/model_3_Conv1D/assets\n",
            "INFO:tensorflow:Assets written to: model_experiments/model_3_Conv1D/assets\n",
            "INFO:tensorflow:Assets written to: model_experiments/model_3_Conv1D/assets\n",
            "INFO:tensorflow:Assets written to: model_experiments/model_3_Conv1D/assets\n",
            "INFO:tensorflow:Assets written to: model_experiments/model_3_Conv1D/assets\n",
            "INFO:tensorflow:Assets written to: model_experiments/model_3_Conv1D/assets\n",
            "INFO:tensorflow:Assets written to: model_experiments/model_3_Conv1D/assets\n",
            "INFO:tensorflow:Assets written to: model_experiments/model_3_Conv1D/assets\n",
            "INFO:tensorflow:Assets written to: model_experiments/model_3_Conv1D/assets\n",
            "INFO:tensorflow:Assets written to: model_experiments/model_3_Conv1D/assets\n",
            "INFO:tensorflow:Assets written to: model_experiments/model_3_Conv1D/assets\n",
            "INFO:tensorflow:Assets written to: model_experiments/model_3_Conv1D/assets\n",
            "INFO:tensorflow:Assets written to: model_experiments/model_3_Conv1D/assets\n"
          ]
        }
      ]
    },
    {
      "cell_type": "code",
      "metadata": {
        "id": "zUk9LFsHgAlh",
        "colab": {
          "base_uri": "https://localhost:8080/"
        },
        "outputId": "02f03ce2-f973-4b95-d9ec-fe1c62db96f7"
      },
      "source": [
        "#Evaluate the model\n",
        "model_3.evaluate(test_windows, test_labels)"
      ],
      "execution_count": 43,
      "outputs": [
        {
          "output_type": "stream",
          "name": "stdout",
          "text": [
            "11/11 [==============================] - 0s 8ms/step - loss: 26031.2500 - mse: 26031.2500 - mae: 119.2315\n"
          ]
        },
        {
          "output_type": "execute_result",
          "data": {
            "text/plain": [
              "[26031.25, 26031.25, 119.23152923583984]"
            ]
          },
          "metadata": {},
          "execution_count": 43
        }
      ]
    },
    {
      "cell_type": "code",
      "metadata": {
        "id": "ZVX44P3XgNnM",
        "colab": {
          "base_uri": "https://localhost:8080/"
        },
        "outputId": "1a5d78e8-45f7-411b-e0b1-7b31dfaca907"
      },
      "source": [
        "#Load best performing model \n",
        "model_3 = tf.keras.models.load_model(\"model_experiments/model_3_Conv1D/\")\n",
        "model_3.evaluate(test_windows, test_labels)"
      ],
      "execution_count": 44,
      "outputs": [
        {
          "output_type": "stream",
          "name": "stdout",
          "text": [
            "11/11 [==============================] - 0s 9ms/step - loss: 16576.9473 - mse: 16576.9473 - mae: 84.9421\n"
          ]
        },
        {
          "output_type": "execute_result",
          "data": {
            "text/plain": [
              "[16576.947265625, 16576.947265625, 84.94210052490234]"
            ]
          },
          "metadata": {},
          "execution_count": 44
        }
      ]
    },
    {
      "cell_type": "code",
      "metadata": {
        "id": "lgo4DySdgbev"
      },
      "source": [
        "#Get forecast predictions\n",
        "model_3_preds = make_preds(model_3, test_windows)"
      ],
      "execution_count": 45,
      "outputs": []
    },
    {
      "cell_type": "code",
      "metadata": {
        "id": "vxJrjWaCgnKH",
        "colab": {
          "base_uri": "https://localhost:8080/"
        },
        "outputId": "c93f7755-74ca-4edf-ecb0-0d81ace0079b"
      },
      "source": [
        "#Evaluate results\n",
        "model_3_results = evaluate_preds(tf.squeeze(test_labels), model_3_preds)\n",
        "model_3_results"
      ],
      "execution_count": 46,
      "outputs": [
        {
          "output_type": "execute_result",
          "data": {
            "text/plain": [
              "{'mae': 84.9421, 'mape': 84.9421, 'mse': 16576.947, 'rmse': 128.7515}"
            ]
          },
          "metadata": {},
          "execution_count": 46
        }
      ]
    },
    {
      "cell_type": "markdown",
      "metadata": {
        "id": "57qzht9ZgzjO"
      },
      "source": [
        "## Model 4: LSTM - W30/H1"
      ]
    },
    {
      "cell_type": "code",
      "metadata": {
        "id": "wV9NjarvhbtP",
        "outputId": "9d432658-fce3-4b42-ed4c-f6501e3f3b3f",
        "colab": {
          "base_uri": "https://localhost:8080/"
        }
      },
      "source": [
        "#Build the model \n",
        "tf.random.set_seed(42)\n",
        "\n",
        "model_4 = tf.keras.Sequential([\n",
        "                               layers.Lambda(lambda x: tf.expand_dims(x, axis=1)),\n",
        "                               layers.LSTM(128, activation=\"relu\"),\n",
        "                               layers.Dense(HORIZON)\n",
        "], name=\"model_4_LSTM\")"
      ],
      "execution_count": 47,
      "outputs": [
        {
          "output_type": "stream",
          "name": "stdout",
          "text": [
            "WARNING:tensorflow:Layer lstm will not use cuDNN kernels since it doesn't meet the criteria. It will use a generic GPU kernel as fallback when running on GPU.\n"
          ]
        }
      ]
    },
    {
      "cell_type": "code",
      "metadata": {
        "id": "VH_FBrmlh1uX"
      },
      "source": [
        "#Compile the model \n",
        "model_4.compile(loss=\"mse\", optimizer=\"Adam\", metrics=[\"mse\", \"mae\"])"
      ],
      "execution_count": 48,
      "outputs": []
    },
    {
      "cell_type": "code",
      "metadata": {
        "id": "5ELUdhuOh99u",
        "colab": {
          "base_uri": "https://localhost:8080/"
        },
        "outputId": "d7ea9c88-ba14-4e46-a44a-60e82ffae66f"
      },
      "source": [
        "#Fit the model \n",
        "history_model_4 = model_4.fit(train_windows, train_labels, \n",
        "                              epochs=100,\n",
        "                              batch_size=128,\n",
        "                              verbose=0,\n",
        "                              validation_data=(test_windows, test_labels),\n",
        "                              callbacks=[create_model_checkpoint(model_4.name)])"
      ],
      "execution_count": 49,
      "outputs": [
        {
          "output_type": "stream",
          "name": "stdout",
          "text": [
            "INFO:tensorflow:Assets written to: model_experiments/model_4_LSTM/assets\n",
            "INFO:tensorflow:Assets written to: model_experiments/model_4_LSTM/assets\n",
            "INFO:tensorflow:Assets written to: model_experiments/model_4_LSTM/assets\n",
            "INFO:tensorflow:Assets written to: model_experiments/model_4_LSTM/assets\n",
            "INFO:tensorflow:Assets written to: model_experiments/model_4_LSTM/assets\n",
            "INFO:tensorflow:Assets written to: model_experiments/model_4_LSTM/assets\n",
            "INFO:tensorflow:Assets written to: model_experiments/model_4_LSTM/assets\n",
            "INFO:tensorflow:Assets written to: model_experiments/model_4_LSTM/assets\n",
            "INFO:tensorflow:Assets written to: model_experiments/model_4_LSTM/assets\n",
            "INFO:tensorflow:Assets written to: model_experiments/model_4_LSTM/assets\n",
            "INFO:tensorflow:Assets written to: model_experiments/model_4_LSTM/assets\n",
            "INFO:tensorflow:Assets written to: model_experiments/model_4_LSTM/assets\n",
            "INFO:tensorflow:Assets written to: model_experiments/model_4_LSTM/assets\n",
            "INFO:tensorflow:Assets written to: model_experiments/model_4_LSTM/assets\n",
            "INFO:tensorflow:Assets written to: model_experiments/model_4_LSTM/assets\n",
            "INFO:tensorflow:Assets written to: model_experiments/model_4_LSTM/assets\n",
            "INFO:tensorflow:Assets written to: model_experiments/model_4_LSTM/assets\n",
            "INFO:tensorflow:Assets written to: model_experiments/model_4_LSTM/assets\n",
            "INFO:tensorflow:Assets written to: model_experiments/model_4_LSTM/assets\n",
            "INFO:tensorflow:Assets written to: model_experiments/model_4_LSTM/assets\n",
            "INFO:tensorflow:Assets written to: model_experiments/model_4_LSTM/assets\n",
            "INFO:tensorflow:Assets written to: model_experiments/model_4_LSTM/assets\n",
            "INFO:tensorflow:Assets written to: model_experiments/model_4_LSTM/assets\n"
          ]
        }
      ]
    },
    {
      "cell_type": "code",
      "metadata": {
        "id": "yS1CmH6miOQP",
        "colab": {
          "base_uri": "https://localhost:8080/"
        },
        "outputId": "e6f49b99-8dad-4d30-eece-4453e4a55f9c"
      },
      "source": [
        "#Evaluate the model \n",
        "model_4.evaluate(test_windows, test_labels)"
      ],
      "execution_count": 50,
      "outputs": [
        {
          "output_type": "stream",
          "name": "stdout",
          "text": [
            "11/11 [==============================] - 0s 6ms/step - loss: 19426.4219 - mse: 19426.4219 - mae: 91.0380\n"
          ]
        },
        {
          "output_type": "execute_result",
          "data": {
            "text/plain": [
              "[19426.421875, 19426.421875, 91.03800201416016]"
            ]
          },
          "metadata": {},
          "execution_count": 50
        }
      ]
    },
    {
      "cell_type": "code",
      "metadata": {
        "id": "XIy_l8gPiVGd",
        "colab": {
          "base_uri": "https://localhost:8080/"
        },
        "outputId": "4d93ce75-8748-412a-a025-537d4470da9b"
      },
      "source": [
        "#Load best model \n",
        "model_4 = tf.keras.models.load_model(\"model_experiments/model_4_LSTM/\")\n",
        "model_4.evaluate(test_windows, test_labels)"
      ],
      "execution_count": 51,
      "outputs": [
        {
          "output_type": "stream",
          "name": "stdout",
          "text": [
            "WARNING:tensorflow:Layer lstm will not use cuDNN kernels since it doesn't meet the criteria. It will use a generic GPU kernel as fallback when running on GPU.\n",
            "11/11 [==============================] - 1s 6ms/step - loss: 19426.4219 - mse: 19426.4219 - mae: 91.0380\n"
          ]
        },
        {
          "output_type": "execute_result",
          "data": {
            "text/plain": [
              "[19426.421875, 19426.421875, 91.03800201416016]"
            ]
          },
          "metadata": {},
          "execution_count": 51
        }
      ]
    },
    {
      "cell_type": "code",
      "metadata": {
        "id": "dXl_wRT6idnA"
      },
      "source": [
        "#Get forecast predictions\n",
        "model_4_preds = make_preds(model_4, test_windows)"
      ],
      "execution_count": 52,
      "outputs": []
    },
    {
      "cell_type": "code",
      "metadata": {
        "id": "4ZHrdF2vimh8",
        "colab": {
          "base_uri": "https://localhost:8080/"
        },
        "outputId": "e79026ad-0d53-4b68-dfb7-0e4aeeb4b1e8"
      },
      "source": [
        "#Evaluate on forecast predictions\n",
        "model_4_results = evaluate_preds(tf.squeeze(test_labels), model_4_preds)\n",
        "model_4_results"
      ],
      "execution_count": 53,
      "outputs": [
        {
          "output_type": "execute_result",
          "data": {
            "text/plain": [
              "{'mae': 91.038, 'mape': 91.038, 'mse': 19426.422, 'rmse': 139.3787}"
            ]
          },
          "metadata": {},
          "execution_count": 53
        }
      ]
    },
    {
      "cell_type": "markdown",
      "metadata": {
        "id": "GtHNp4uviwkz"
      },
      "source": [
        "## Compare Experiments"
      ]
    },
    {
      "cell_type": "code",
      "metadata": {
        "id": "R1ZQRX6gi6oO",
        "colab": {
          "base_uri": "https://localhost:8080/",
          "height": 175
        },
        "outputId": "b4f1cb51-bc4b-4564-d881-b31e8f7a4797"
      },
      "source": [
        "model_results = pd.DataFrame({\"model_1_dense_w30_h1\": model_1_results,\n",
        "                              \"model_2_dense_w15_h1\": model_2_results,\n",
        "                              \"model_3_Conv1D_w30_h1\": model_3_results,\n",
        "                              \"model_4_LSTM_w30_h1\": model_4_results}).T\n",
        "model_results"
      ],
      "execution_count": 54,
      "outputs": [
        {
          "output_type": "execute_result",
          "data": {
            "text/html": [
              "<div>\n",
              "<style scoped>\n",
              "    .dataframe tbody tr th:only-of-type {\n",
              "        vertical-align: middle;\n",
              "    }\n",
              "\n",
              "    .dataframe tbody tr th {\n",
              "        vertical-align: top;\n",
              "    }\n",
              "\n",
              "    .dataframe thead th {\n",
              "        text-align: right;\n",
              "    }\n",
              "</style>\n",
              "<table border=\"1\" class=\"dataframe\">\n",
              "  <thead>\n",
              "    <tr style=\"text-align: right;\">\n",
              "      <th></th>\n",
              "      <th>mae</th>\n",
              "      <th>mse</th>\n",
              "      <th>rmse</th>\n",
              "      <th>mape</th>\n",
              "    </tr>\n",
              "  </thead>\n",
              "  <tbody>\n",
              "    <tr>\n",
              "      <th>model_1_dense_w30_h1</th>\n",
              "      <td>71.763687</td>\n",
              "      <td>12543.514648</td>\n",
              "      <td>111.997833</td>\n",
              "      <td>71.763687</td>\n",
              "    </tr>\n",
              "    <tr>\n",
              "      <th>model_2_dense_w15_h1</th>\n",
              "      <td>75.630066</td>\n",
              "      <td>13208.002930</td>\n",
              "      <td>114.926079</td>\n",
              "      <td>75.630066</td>\n",
              "    </tr>\n",
              "    <tr>\n",
              "      <th>model_3_Conv1D_w30_h1</th>\n",
              "      <td>84.942101</td>\n",
              "      <td>16576.947266</td>\n",
              "      <td>128.751495</td>\n",
              "      <td>84.942101</td>\n",
              "    </tr>\n",
              "    <tr>\n",
              "      <th>model_4_LSTM_w30_h1</th>\n",
              "      <td>91.038002</td>\n",
              "      <td>19426.421875</td>\n",
              "      <td>139.378693</td>\n",
              "      <td>91.038002</td>\n",
              "    </tr>\n",
              "  </tbody>\n",
              "</table>\n",
              "</div>"
            ],
            "text/plain": [
              "                             mae           mse        rmse       mape\n",
              "model_1_dense_w30_h1   71.763687  12543.514648  111.997833  71.763687\n",
              "model_2_dense_w15_h1   75.630066  13208.002930  114.926079  75.630066\n",
              "model_3_Conv1D_w30_h1  84.942101  16576.947266  128.751495  84.942101\n",
              "model_4_LSTM_w30_h1    91.038002  19426.421875  139.378693  91.038002"
            ]
          },
          "metadata": {},
          "execution_count": 54
        }
      ]
    },
    {
      "cell_type": "code",
      "metadata": {
        "id": "dsPSp3nrjQoX",
        "colab": {
          "base_uri": "https://localhost:8080/",
          "height": 175
        },
        "outputId": "f56c72da-cc8c-40c6-aa9d-0507a9b985b8"
      },
      "source": [
        "model_results[[\"mae\"]].sort_values(by=\"mae\")"
      ],
      "execution_count": 55,
      "outputs": [
        {
          "output_type": "execute_result",
          "data": {
            "text/html": [
              "<div>\n",
              "<style scoped>\n",
              "    .dataframe tbody tr th:only-of-type {\n",
              "        vertical-align: middle;\n",
              "    }\n",
              "\n",
              "    .dataframe tbody tr th {\n",
              "        vertical-align: top;\n",
              "    }\n",
              "\n",
              "    .dataframe thead th {\n",
              "        text-align: right;\n",
              "    }\n",
              "</style>\n",
              "<table border=\"1\" class=\"dataframe\">\n",
              "  <thead>\n",
              "    <tr style=\"text-align: right;\">\n",
              "      <th></th>\n",
              "      <th>mae</th>\n",
              "    </tr>\n",
              "  </thead>\n",
              "  <tbody>\n",
              "    <tr>\n",
              "      <th>model_1_dense_w30_h1</th>\n",
              "      <td>71.763687</td>\n",
              "    </tr>\n",
              "    <tr>\n",
              "      <th>model_2_dense_w15_h1</th>\n",
              "      <td>75.630066</td>\n",
              "    </tr>\n",
              "    <tr>\n",
              "      <th>model_3_Conv1D_w30_h1</th>\n",
              "      <td>84.942101</td>\n",
              "    </tr>\n",
              "    <tr>\n",
              "      <th>model_4_LSTM_w30_h1</th>\n",
              "      <td>91.038002</td>\n",
              "    </tr>\n",
              "  </tbody>\n",
              "</table>\n",
              "</div>"
            ],
            "text/plain": [
              "                             mae\n",
              "model_1_dense_w30_h1   71.763687\n",
              "model_2_dense_w15_h1   75.630066\n",
              "model_3_Conv1D_w30_h1  84.942101\n",
              "model_4_LSTM_w30_h1    91.038002"
            ]
          },
          "metadata": {},
          "execution_count": 55
        }
      ]
    },
    {
      "cell_type": "markdown",
      "metadata": {
        "id": "hz0qfXQ1z197"
      },
      "source": [
        "## Model 5: Conv1D_Advanced - W30/H1"
      ]
    },
    {
      "cell_type": "code",
      "metadata": {
        "id": "XdiLiejQ0d56"
      },
      "source": [
        "tf.random.set_seed(42)\n",
        "\n",
        "#Build the model \n",
        "\n",
        "model_5 = tf.keras.Sequential([\n",
        "                               layers.Lambda(lambda x: tf.expand_dims(x, axis=1)),\n",
        "                               layers.Conv1D(filters=32, kernel_size=2, activation=\"relu\", padding=\"causal\"),\n",
        "                               layers.Dropout(0.2),\n",
        "                               layers.Conv1D(filters=16, kernel_size=2, activation=\"relu\", padding=\"causal\"),\n",
        "                               layers.Dropout(0.2),\n",
        "                               layers.MaxPooling1D(2, padding=\"same\"),\n",
        "                               layers.Flatten(),\n",
        "                               layers.Dense(HORIZON) \n",
        "], name=\"model_5_Conv1D_Advanced\")"
      ],
      "execution_count": 56,
      "outputs": []
    },
    {
      "cell_type": "code",
      "metadata": {
        "id": "tiir5iiR0hQZ"
      },
      "source": [
        "#Compile the model \n",
        "model_5.compile(loss=\"mse\", optimizer=\"Adam\", metrics=[\"mse\", \"mae\"])"
      ],
      "execution_count": 57,
      "outputs": []
    },
    {
      "cell_type": "code",
      "metadata": {
        "id": "BnqJVygo1vEm",
        "colab": {
          "base_uri": "https://localhost:8080/"
        },
        "outputId": "71780ada-eff3-45d2-9792-36f69eaeacc4"
      },
      "source": [
        "#Fit the model \n",
        "history_model_5 = model_5.fit(train_windows, train_labels, \n",
        "                              epochs=100, \n",
        "                              batch_size=128, \n",
        "                              verbose=0,\n",
        "                              validation_data=(test_windows, test_labels),\n",
        "                              callbacks=[create_model_checkpoint(model_5.name)])"
      ],
      "execution_count": 58,
      "outputs": [
        {
          "output_type": "stream",
          "name": "stdout",
          "text": [
            "INFO:tensorflow:Assets written to: model_experiments/model_5_Conv1D_Advanced/assets\n",
            "INFO:tensorflow:Assets written to: model_experiments/model_5_Conv1D_Advanced/assets\n",
            "INFO:tensorflow:Assets written to: model_experiments/model_5_Conv1D_Advanced/assets\n",
            "INFO:tensorflow:Assets written to: model_experiments/model_5_Conv1D_Advanced/assets\n",
            "INFO:tensorflow:Assets written to: model_experiments/model_5_Conv1D_Advanced/assets\n",
            "INFO:tensorflow:Assets written to: model_experiments/model_5_Conv1D_Advanced/assets\n",
            "INFO:tensorflow:Assets written to: model_experiments/model_5_Conv1D_Advanced/assets\n",
            "INFO:tensorflow:Assets written to: model_experiments/model_5_Conv1D_Advanced/assets\n",
            "INFO:tensorflow:Assets written to: model_experiments/model_5_Conv1D_Advanced/assets\n",
            "INFO:tensorflow:Assets written to: model_experiments/model_5_Conv1D_Advanced/assets\n",
            "INFO:tensorflow:Assets written to: model_experiments/model_5_Conv1D_Advanced/assets\n",
            "INFO:tensorflow:Assets written to: model_experiments/model_5_Conv1D_Advanced/assets\n",
            "INFO:tensorflow:Assets written to: model_experiments/model_5_Conv1D_Advanced/assets\n",
            "INFO:tensorflow:Assets written to: model_experiments/model_5_Conv1D_Advanced/assets\n",
            "INFO:tensorflow:Assets written to: model_experiments/model_5_Conv1D_Advanced/assets\n",
            "INFO:tensorflow:Assets written to: model_experiments/model_5_Conv1D_Advanced/assets\n",
            "INFO:tensorflow:Assets written to: model_experiments/model_5_Conv1D_Advanced/assets\n",
            "INFO:tensorflow:Assets written to: model_experiments/model_5_Conv1D_Advanced/assets\n",
            "INFO:tensorflow:Assets written to: model_experiments/model_5_Conv1D_Advanced/assets\n",
            "INFO:tensorflow:Assets written to: model_experiments/model_5_Conv1D_Advanced/assets\n",
            "INFO:tensorflow:Assets written to: model_experiments/model_5_Conv1D_Advanced/assets\n",
            "INFO:tensorflow:Assets written to: model_experiments/model_5_Conv1D_Advanced/assets\n",
            "INFO:tensorflow:Assets written to: model_experiments/model_5_Conv1D_Advanced/assets\n"
          ]
        }
      ]
    },
    {
      "cell_type": "code",
      "metadata": {
        "id": "7pyWP5y92yoy",
        "colab": {
          "base_uri": "https://localhost:8080/"
        },
        "outputId": "5be8e537-6b26-4960-84ce-e583ab2a2934"
      },
      "source": [
        "#Evaluate the model \n",
        "model_5.evaluate(test_windows, test_labels)"
      ],
      "execution_count": 59,
      "outputs": [
        {
          "output_type": "stream",
          "name": "stdout",
          "text": [
            "11/11 [==============================] - 0s 8ms/step - loss: 29534.3652 - mse: 29534.3652 - mae: 127.3453\n"
          ]
        },
        {
          "output_type": "execute_result",
          "data": {
            "text/plain": [
              "[29534.365234375, 29534.365234375, 127.34525299072266]"
            ]
          },
          "metadata": {},
          "execution_count": 59
        }
      ]
    },
    {
      "cell_type": "code",
      "metadata": {
        "id": "8pb9O0Le3uYO",
        "colab": {
          "base_uri": "https://localhost:8080/"
        },
        "outputId": "2e4f1294-0863-4ed4-8f6b-3738c084df37"
      },
      "source": [
        "#Load best model \n",
        "model_5 = tf.keras.models.load_model(\"model_experiments/model_5_Conv1D_Advanced/\")\n",
        "model_5.evaluate(test_windows, test_labels)"
      ],
      "execution_count": 60,
      "outputs": [
        {
          "output_type": "stream",
          "name": "stdout",
          "text": [
            "11/11 [==============================] - 0s 7ms/step - loss: 23535.0957 - mse: 23535.0957 - mae: 105.5046\n"
          ]
        },
        {
          "output_type": "execute_result",
          "data": {
            "text/plain": [
              "[23535.095703125, 23535.095703125, 105.504638671875]"
            ]
          },
          "metadata": {},
          "execution_count": 60
        }
      ]
    },
    {
      "cell_type": "code",
      "metadata": {
        "id": "tzQKcGiM37H-"
      },
      "source": [
        "#Make future predictions\n",
        "model_5_preds = make_preds(model_5, test_windows)"
      ],
      "execution_count": 61,
      "outputs": []
    },
    {
      "cell_type": "code",
      "metadata": {
        "id": "QmyJiOyG4JC1",
        "colab": {
          "base_uri": "https://localhost:8080/"
        },
        "outputId": "3264b426-9750-4e1a-e7ac-2fa2c9b15f2d"
      },
      "source": [
        "#Evaluate on forecast predictions\n",
        "model_5_results = evaluate_preds(tf.squeeze(test_labels), model_5_preds)\n",
        "model_5_results"
      ],
      "execution_count": 62,
      "outputs": [
        {
          "output_type": "execute_result",
          "data": {
            "text/plain": [
              "{'mae': 105.50462, 'mape': 105.50462, 'mse': 23535.098, 'rmse': 153.41153}"
            ]
          },
          "metadata": {},
          "execution_count": 62
        }
      ]
    },
    {
      "cell_type": "code",
      "metadata": {
        "id": "l8J959pd7saG"
      },
      "source": [
        "def plot_mae_loss_curves(history):\n",
        "  loss = history.history[\"loss\"]\n",
        "  val_loss = history.history[\"val_loss\"]\n",
        "  mae = history.history[\"mae\"]\n",
        "  val_mae = history.history[\"val_mae\"]\n",
        "  plt.figure(figsize=(10,7))\n",
        "  plt.plot(loss, label=\"train_loss\")\n",
        "  plt.plot(val_loss, label=\"val_loss\")\n",
        "  plt.title(\"Train vs validation loss\")\n",
        "  plt.grid()\n",
        "  plt.legend()\n",
        "  plt.figure(figsize=(10, 7))\n",
        "  plt.plot(mae, label=\"mae\")\n",
        "  plt.plot(val_mae, label=\"val_mae\")\n",
        "  plt.title(\"Mae vs Validation mae\")\n",
        "  plt.grid()\n",
        "  plt.legend()"
      ],
      "execution_count": 63,
      "outputs": []
    },
    {
      "cell_type": "code",
      "metadata": {
        "id": "z2rkBoj88OFW",
        "colab": {
          "base_uri": "https://localhost:8080/",
          "height": 871
        },
        "outputId": "bb66e430-6023-4274-dc44-8081e0f0e689"
      },
      "source": [
        "plot_mae_loss_curves(history_model_5)"
      ],
      "execution_count": 64,
      "outputs": [
        {
          "output_type": "display_data",
          "data": {
            "image/png": "[encoded data removed]",
            "text/plain": [
              "<Figure size 720x504 with 1 Axes>"
            ]
          },
          "metadata": {
            "needs_background": "light"
          }
        },
        {
          "output_type": "display_data",
          "data": {
            "image/png": "[encoded data removed]",
            "text/plain": [
              "<Figure size 720x504 with 1 Axes>"
            ]
          },
          "metadata": {
            "needs_background": "light"
          }
        }
      ]
    },
    {
      "cell_type": "markdown",
      "metadata": {
        "id": "c6KmmWax02sm"
      },
      "source": [
        "##Model 6: GRU - W10/H1"
      ]
    },
    {
      "cell_type": "code",
      "metadata": {
        "id": "zq1FYuwa076T",
        "outputId": "7a82b0bc-1e59-40fb-8cf2-947267734ca0",
        "colab": {
          "base_uri": "https://localhost:8080/"
        }
      },
      "source": [
        "#Window data\n",
        "HORIZON = 1\n",
        "WINDOW_SIZE = 10\n",
        "full_windows, full_labels = make_windows(prices, window_size=WINDOW_SIZE, horizon=HORIZON)\n",
        "len(full_windows), len(full_labels)"
      ],
      "execution_count": 65,
      "outputs": [
        {
          "output_type": "execute_result",
          "data": {
            "text/plain": [
              "(1696, 1696)"
            ]
          },
          "metadata": {},
          "execution_count": 65
        }
      ]
    },
    {
      "cell_type": "code",
      "metadata": {
        "id": "SEdbbJ_31BVL",
        "outputId": "45185b98-a290-4feb-ab25-75c642880686",
        "colab": {
          "base_uri": "https://localhost:8080/"
        }
      },
      "source": [
        "#Split data into train and test sets\n",
        "train_windows, test_windows, train_labels, test_labels = make_train_test_splits(full_windows, full_labels)\n",
        "len(train_windows), len(test_windows), len(train_labels), len(test_labels) "
      ],
      "execution_count": 66,
      "outputs": [
        {
          "output_type": "execute_result",
          "data": {
            "text/plain": [
              "(1356, 340, 1356, 340)"
            ]
          },
          "metadata": {},
          "execution_count": 66
        }
      ]
    },
    {
      "cell_type": "code",
      "metadata": {
        "id": "61jvbvBd1GZ5"
      },
      "source": [
        "tf.random.set_seed(42)\n",
        "\n",
        "#Build the model \n",
        "model_6 = tf.keras.Sequential([\n",
        "                               layers.Lambda(lambda x: tf.expand_dims(x, axis=1)),\n",
        "                               layers.GRU(20, return_sequences=True),\n",
        "                               layers.GRU(20),\n",
        "                               layers.Dropout(0.2),\n",
        "                               layers.Dense(HORIZON)                          \n",
        "], name=\"model_6_GRU\")"
      ],
      "execution_count": 83,
      "outputs": []
    },
    {
      "cell_type": "code",
      "metadata": {
        "id": "qyUACOf62nTT"
      },
      "source": [
        "#Compile the model\n",
        "model_6.compile(loss=\"mse\", optimizer=\"Adam\", metrics=[\"mse\", \"mae\"])"
      ],
      "execution_count": 84,
      "outputs": []
    },
    {
      "cell_type": "code",
      "metadata": {
        "id": "IF9DTS7425he"
      },
      "source": [
        "#Fit the model \n",
        "history_model_6 = model_6.fit(train_windows, train_labels, \n",
        "                              epochs=100, \n",
        "                              batch_size=128,\n",
        "                              verbose=0,\n",
        "                              validation_data=(test_windows, test_labels))"
      ],
      "execution_count": 86,
      "outputs": []
    },
    {
      "cell_type": "code",
      "metadata": {
        "id": "AlZAFE1h3QRa",
        "outputId": "40174b5a-b7da-4bc4-bc36-1ea5b090e940",
        "colab": {
          "base_uri": "https://localhost:8080/"
        }
      },
      "source": [
        "#Evaluate the model \n",
        "model_6.evaluate(test_windows, test_labels)"
      ],
      "execution_count": 87,
      "outputs": [
        {
          "output_type": "stream",
          "name": "stdout",
          "text": [
            "11/11 [==============================] - 0s 4ms/step - loss: 3699703.7500 - mse: 3699703.7500 - mae: 1656.8215\n"
          ]
        },
        {
          "output_type": "execute_result",
          "data": {
            "text/plain": [
              "[3699703.75, 3699703.75, 1656.821533203125]"
            ]
          },
          "metadata": {},
          "execution_count": 87
        }
      ]
    },
    {
      "cell_type": "code",
      "metadata": {
        "id": "-yI75X6K4NsW"
      },
      "source": [
        "#Make future predictions\n",
        "model_6_preds = make_preds(model_6, test_windows)"
      ],
      "execution_count": 88,
      "outputs": []
    },
    {
      "cell_type": "code",
      "metadata": {
        "id": "5e3t5MoY4XZU",
        "outputId": "b4058a88-4688-4de6-aa0f-e933ed9e9e49",
        "colab": {
          "base_uri": "https://localhost:8080/"
        }
      },
      "source": [
        "#Evaluate on future predictions\n",
        "model_6_results = evaluate_preds(tf.squeeze(test_labels), model_6_preds)\n",
        "model_6_results"
      ],
      "execution_count": 89,
      "outputs": [
        {
          "output_type": "execute_result",
          "data": {
            "text/plain": [
              "{'mae': 1656.8215, 'mape': 1656.8215, 'mse': 3699703.8, 'rmse': 1923.4614}"
            ]
          },
          "metadata": {},
          "execution_count": 89
        }
      ]
    },
    {
      "cell_type": "code",
      "metadata": {
        "id": "Q8qND-XF4h8z",
        "outputId": "85b139f4-e825-432c-d416-1d2d03d876dc",
        "colab": {
          "base_uri": "https://localhost:8080/",
          "height": 871
        }
      },
      "source": [
        "#Plot the learning curve\n",
        "plot_mae_loss_curves(history_model_6)"
      ],
      "execution_count": 90,
      "outputs": [
        {
          "output_type": "display_data",
          "data": {
            "image/png": "[encoded data removed]",
            "text/plain": [
              "<Figure size 720x504 with 1 Axes>"
            ]
          },
          "metadata": {
            "needs_background": "light"
          }
        },
        {
          "output_type": "display_data",
          "data": {
            "image/png": "[encoded data removed]",
            "text/plain": [
              "<Figure size 720x504 with 1 Axes>"
            ]
          },
          "metadata": {
            "needs_background": "light"
          }
        }
      ]
    },
    {
      "cell_type": "markdown",
      "metadata": {
        "id": "ARZWD9L14mu7"
      },
      "source": [
        "## Model 7: GRU - W30/H1"
      ]
    },
    {
      "cell_type": "code",
      "metadata": {
        "id": "3kPuV4e1-8jW",
        "outputId": "a5963ac6-d447-4911-cdb7-e1c92587e259",
        "colab": {
          "base_uri": "https://localhost:8080/"
        }
      },
      "source": [
        "#Window data\n",
        "HORIZON = 1\n",
        "WINDOW_SIZE = 30\n",
        "full_windows, full_labels = make_windows(prices, window_size=WINDOW_SIZE, horizon=HORIZON)\n",
        "#Split data into train and test sets\n",
        "train_windows, test_windows, train_labels, test_labels = make_train_test_splits(full_windows, full_labels)\n",
        "len(train_windows), len(test_windows), len(train_labels), len(test_labels)"
      ],
      "execution_count": 91,
      "outputs": [
        {
          "output_type": "execute_result",
          "data": {
            "text/plain": [
              "(1340, 336, 1340, 336)"
            ]
          },
          "metadata": {},
          "execution_count": 91
        }
      ]
    },
    {
      "cell_type": "code",
      "metadata": {
        "id": "uoZXG058_CUz"
      },
      "source": [
        "tf.random.set_seed(42)\n",
        "\n",
        "#Build the model \n",
        "model_7 = tf.keras.Sequential([\n",
        "                               layers.Lambda(lambda x: tf.expand_dims(x, axis=1)),\n",
        "                               layers.GRU(20),\n",
        "                               layers.Dropout(0.2),\n",
        "                               layers.Dense(HORIZON)                          \n",
        "], name=\"model_7_GRU\")"
      ],
      "execution_count": 101,
      "outputs": []
    },
    {
      "cell_type": "code",
      "metadata": {
        "id": "0Hf5dL5P_IX0"
      },
      "source": [
        "# Compile the model\n",
        "model_7.compile(loss=\"mse\", optimizer=\"Adam\", metrics=[\"mse\", \"mae\"])"
      ],
      "execution_count": 102,
      "outputs": []
    },
    {
      "cell_type": "code",
      "metadata": {
        "id": "Vgbah-P1_OsP"
      },
      "source": [
        "#Fit the model \n",
        "history_model_7 = model_7.fit(train_windows, train_labels, \n",
        "                              epochs=100, \n",
        "                              batch_size=128,\n",
        "                              verbose=0,\n",
        "                              validation_data=(test_windows, test_labels))"
      ],
      "execution_count": 103,
      "outputs": []
    },
    {
      "cell_type": "code",
      "metadata": {
        "id": "xEcx9vbh_SOB",
        "outputId": "f59a5aeb-b27e-4b39-94d3-786dd0555960",
        "colab": {
          "base_uri": "https://localhost:8080/"
        }
      },
      "source": [
        "#Evaluate the model \n",
        "model_7.evaluate(test_windows, test_labels)"
      ],
      "execution_count": 104,
      "outputs": [
        {
          "output_type": "stream",
          "name": "stdout",
          "text": [
            "11/11 [==============================] - 0s 5ms/step - loss: 3840595.7500 - mse: 3840595.7500 - mae: 1701.9460\n"
          ]
        },
        {
          "output_type": "execute_result",
          "data": {
            "text/plain": [
              "[3840595.75, 3840595.75, 1701.946044921875]"
            ]
          },
          "metadata": {},
          "execution_count": 104
        }
      ]
    },
    {
      "cell_type": "code",
      "metadata": {
        "id": "6ry3gxcy_Vlx",
        "outputId": "2521f3bc-14a5-4de1-fbb4-ed7ff24bc6b9",
        "colab": {
          "base_uri": "https://localhost:8080/"
        }
      },
      "source": [
        "#Make future predictions\n",
        "model_7_preds = make_preds(model_7, test_windows)\n",
        "\n",
        "#Evaluate on future predictions\n",
        "model_7_results = evaluate_preds(tf.squeeze(test_labels), model_7_preds)\n",
        "model_7_results"
      ],
      "execution_count": 105,
      "outputs": [
        {
          "output_type": "execute_result",
          "data": {
            "text/plain": [
              "{'mae': 1701.946, 'mape': 1701.946, 'mse': 3840595.8, 'rmse': 1959.7438}"
            ]
          },
          "metadata": {},
          "execution_count": 105
        }
      ]
    },
    {
      "cell_type": "code",
      "metadata": {
        "id": "d8TPvyAG_Zs1",
        "outputId": "410536a6-ca83-407d-d320-778cda7e34e5",
        "colab": {
          "base_uri": "https://localhost:8080/",
          "height": 871
        }
      },
      "source": [
        "#Plot the learning curve\n",
        "plot_mae_loss_curves(history_model_7)"
      ],
      "execution_count": 106,
      "outputs": [
        {
          "output_type": "display_data",
          "data": {
            "image/png": "[encoded data removed]",
            "text/plain": [
              "<Figure size 720x504 with 1 Axes>"
            ]
          },
          "metadata": {
            "needs_background": "light"
          }
        },
        {
          "output_type": "display_data",
          "data": {
            "image/png": "[encoded data removed]",
            "text/plain": [
              "<Figure size 720x504 with 1 Axes>"
            ]
          },
          "metadata": {
            "needs_background": "light"
          }
        }
      ]
    },
    {
      "cell_type": "markdown",
      "metadata": {
        "id": "u60TX2vZBwyF"
      },
      "source": [
        "## Model 8: Dense model_advanced - W30/H1"
      ]
    },
    {
      "cell_type": "code",
      "metadata": {
        "id": "jMCay3XnB19b"
      },
      "source": [
        "HORIZON = 1\n",
        "WINDOW_SIZE = 30\n",
        "\n",
        "tf.random.set_seed(42)\n",
        "\n",
        "#Build the model \n",
        "model_8 = tf.keras.Sequential([\n",
        "                               layers.Dense(128, activation=\"relu\"),\n",
        "                               layers.Dropout(0.2),\n",
        "                               layers.BatchNormalization(),\n",
        "                               layers.Dense(64, activation=\"relu\"),\n",
        "                               layers.Dropout(0.2),\n",
        "                               layers.BatchNormalization(),                              \n",
        "                               layers.Dense(HORIZON)\n",
        "], name=\"model_8_dense_advanced\")"
      ],
      "execution_count": 215,
      "outputs": []
    },
    {
      "cell_type": "code",
      "metadata": {
        "id": "rI8szSg6CQuZ"
      },
      "source": [
        "#Compile the model \n",
        "model_8.compile(loss=\"mae\", optimizer=\"Adam\", metrics=[\"mse\", \"mae\"])"
      ],
      "execution_count": 216,
      "outputs": []
    },
    {
      "cell_type": "code",
      "metadata": {
        "id": "UlYZi-nMCZdU"
      },
      "source": [
        "#Fit the model \n",
        "history_model_8 = model_8.fit(train_windows, train_labels, \n",
        "            verbose=0,\n",
        "            epochs=250,\n",
        "            batch_size=128,\n",
        "            validation_data=(test_windows, test_labels))"
      ],
      "execution_count": 217,
      "outputs": []
    },
    {
      "cell_type": "code",
      "metadata": {
        "id": "84jxxfbUCh3d",
        "outputId": "68d3e9c5-96f4-4bff-86c1-1e8cecc0bc7e",
        "colab": {
          "base_uri": "https://localhost:8080/"
        }
      },
      "source": [
        "model_8.evaluate(test_windows, test_labels)"
      ],
      "execution_count": 218,
      "outputs": [
        {
          "output_type": "stream",
          "name": "stdout",
          "text": [
            "11/11 [==============================] - 0s 3ms/step - loss: 79.3743 - mse: 15912.6650 - mae: 79.3743\n"
          ]
        },
        {
          "output_type": "execute_result",
          "data": {
            "text/plain": [
              "[79.37428283691406, 15912.6650390625, 79.37428283691406]"
            ]
          },
          "metadata": {},
          "execution_count": 218
        }
      ]
    },
    {
      "cell_type": "code",
      "metadata": {
        "id": "6RcM5GceCkiv",
        "outputId": "0d6cc4f3-deb2-4dbb-fad4-d3b4222c5426",
        "colab": {
          "base_uri": "https://localhost:8080/"
        }
      },
      "source": [
        "#Make future predictions\n",
        "model_8_preds = make_preds(model_8, test_windows)\n",
        "\n",
        "#Evaluate on future predictions\n",
        "model_8_results = evaluate_preds(tf.squeeze(test_labels), model_8_preds)\n",
        "model_8_results"
      ],
      "execution_count": 219,
      "outputs": [
        {
          "output_type": "execute_result",
          "data": {
            "text/plain": [
              "{'mae': 79.37428, 'mape': 79.37428, 'mse': 15912.665, 'rmse': 126.14541}"
            ]
          },
          "metadata": {},
          "execution_count": 219
        }
      ]
    },
    {
      "cell_type": "code",
      "metadata": {
        "id": "AsjFwV4lDLK6",
        "outputId": "1bd57049-5da0-467e-a885-6f278b5a42f8",
        "colab": {
          "base_uri": "https://localhost:8080/",
          "height": 871
        }
      },
      "source": [
        "#Plot the learning curve\n",
        "plot_mae_loss_curves(history_model_8)"
      ],
      "execution_count": 220,
      "outputs": [
        {
          "output_type": "display_data",
          "data": {
            "image/png": "[encoded data removed]",
            "text/plain": [
              "<Figure size 720x504 with 1 Axes>"
            ]
          },
          "metadata": {
            "needs_background": "light"
          }
        },
        {
          "output_type": "display_data",
          "data": {
            "image/png": "[encoded data removed]",
            "text/plain": [
              "<Figure size 720x504 with 1 Axes>"
            ]
          },
          "metadata": {
            "needs_background": "light"
          }
        }
      ]
    },
    {
      "cell_type": "markdown",
      "metadata": {
        "id": "vbdvIskVDOU9"
      },
      "source": [
        "## Model 9: Bidirectional LSTM W30/H1"
      ]
    },
    {
      "cell_type": "code",
      "metadata": {
        "id": "649mFvHCIc4t"
      },
      "source": [
        "tf.random.set_seed(42)\n",
        "\n",
        "#Build the model \n",
        "model_9 = tf.keras.Sequential([\n",
        "                               layers.Lambda(lambda x: tf.expand_dims(x, axis=1)),\n",
        "                               layers.Bidirectional(layers.LSTM(128, dropout=0.2, return_sequences=True)),\n",
        "                               layers.Dropout(0.2),\n",
        "                               layers.BatchNormalization(),\n",
        "                               layers.Bidirectional(layers.LSTM(128, dropout=0.2)),\n",
        "                               layers.Dropout(0.2),\n",
        "                               layers.BatchNormalization(),\n",
        "                               layers.Dense(HORIZON)\n",
        "], name=\"model_9_bi_lstm\")"
      ],
      "execution_count": 308,
      "outputs": []
    },
    {
      "cell_type": "code",
      "metadata": {
        "id": "7mD-xOKpI57f"
      },
      "source": [
        "#Compile the model\n",
        "model_9.compile(loss=\"mae\", optimizer=\"Adam\", metrics=[\"mae\", \"mse\"])"
      ],
      "execution_count": 309,
      "outputs": []
    },
    {
      "cell_type": "code",
      "metadata": {
        "id": "226TMllQJZSk"
      },
      "source": [
        "#Fit the model \n",
        "history_model_9 = model_9.fit(train_windows, train_labels,\n",
        "                              verbose=0,\n",
        "                              epochs=1000,\n",
        "                              batch_size=128,\n",
        "                              validation_data=(test_windows, test_labels))"
      ],
      "execution_count": 310,
      "outputs": []
    },
    {
      "cell_type": "code",
      "metadata": {
        "id": "48-28wmhJpC5",
        "outputId": "a419d0d2-143f-471c-ce75-c9590e6483a5",
        "colab": {
          "base_uri": "https://localhost:8080/"
        }
      },
      "source": [
        "#Evaluate\n",
        "model_9.evaluate(test_windows, test_labels)"
      ],
      "execution_count": 311,
      "outputs": [
        {
          "output_type": "stream",
          "name": "stdout",
          "text": [
            "11/11 [==============================] - 0s 6ms/step - loss: 1372.7240 - mae: 1372.7240 - mse: 2818557.2500\n"
          ]
        },
        {
          "output_type": "execute_result",
          "data": {
            "text/plain": [
              "[1372.7239990234375, 1372.7239990234375, 2818557.25]"
            ]
          },
          "metadata": {},
          "execution_count": 311
        }
      ]
    },
    {
      "cell_type": "code",
      "metadata": {
        "id": "QIctx9uUJlmG",
        "outputId": "c516d989-c867-40e8-834c-92bcb307da6e",
        "colab": {
          "base_uri": "https://localhost:8080/"
        }
      },
      "source": [
        "#Make future predictions\n",
        "model_9_preds = make_preds(model_9, test_windows)\n",
        "\n",
        "#Evaluate on future predictions\n",
        "model_9_results = evaluate_preds(tf.squeeze(test_labels), model_9_preds)\n",
        "model_9_results"
      ],
      "execution_count": 312,
      "outputs": [
        {
          "output_type": "execute_result",
          "data": {
            "text/plain": [
              "{'mae': 1372.7241, 'mape': 1372.7241, 'mse': 2818557.2, 'rmse': 1678.856}"
            ]
          },
          "metadata": {},
          "execution_count": 312
        }
      ]
    },
    {
      "cell_type": "code",
      "metadata": {
        "id": "jH1lU2iMPeEd"
      },
      "source": [
        "def predict_evaluate_plot(model, test_windows, test_labels, history):\n",
        "  \"\"\"\n",
        "  Function for evaluation the trained model and plotting the training curve\n",
        "  Parameters\n",
        "  ---------\n",
        "  model: trained model\n",
        "  test_windows: test windows for validating the model\n",
        "  test_labels: labels for validating the model\n",
        "  history: model training history\n",
        "  \n",
        "  Returns dictionary with varius evaluation metrics\n",
        "  \"\"\"\n",
        "  model_preds = make_preds(model, test_windows)\n",
        "  model_results = evaluate_preds(tf.squeeze(test_labels), model_preds)\n",
        "  plot_mae_loss_curves(history)\n",
        "  return model_results"
      ],
      "execution_count": 316,
      "outputs": []
    },
    {
      "cell_type": "code",
      "metadata": {
        "id": "32cyiSIdQB3O",
        "outputId": "06c0e61e-729b-48a5-a299-80ecd205c49e",
        "colab": {
          "base_uri": "https://localhost:8080/",
          "height": 888
        }
      },
      "source": [
        "model_9_results = predict_evaluate_plot(model_9, test_windows, test_labels, history_model_9)\n",
        "model_9_results"
      ],
      "execution_count": 317,
      "outputs": [
        {
          "output_type": "execute_result",
          "data": {
            "text/plain": [
              "{'mae': 1372.7241, 'mape': 1372.7241, 'mse': 2818557.2, 'rmse': 1678.856}"
            ]
          },
          "metadata": {},
          "execution_count": 317
        },
        {
          "output_type": "display_data",
          "data": {
            "image/png": "[encoded data removed]",
            "text/plain": [
              "<Figure size 720x504 with 1 Axes>"
            ]
          },
          "metadata": {
            "needs_background": "light"
          }
        },
        {
          "output_type": "display_data",
          "data": {
            "image/png": "[encoded data removed]",
            "text/plain": [
              "<Figure size 720x504 with 1 Axes>"
            ]
          },
          "metadata": {
            "needs_background": "light"
          }
        }
      ]
    },
    {
      "cell_type": "code",
      "metadata": {
        "id": "76lkTE1IJvlv",
        "outputId": "ed4c85f2-89d8-4aba-81ba-6eef6f4a265d",
        "colab": {
          "base_uri": "https://localhost:8080/",
          "height": 871
        }
      },
      "source": [
        "#Plot the learning curve\n",
        "plot_mae_loss_curves(history_model_9)"
      ],
      "execution_count": 313,
      "outputs": [
        {
          "output_type": "display_data",
          "data": {
            "image/png": "[encoded data removed]",
            "text/plain": [
              "<Figure size 720x504 with 1 Axes>"
            ]
          },
          "metadata": {
            "needs_background": "light"
          }
        },
        {
          "output_type": "display_data",
          "data": {
            "image/png": "[encoded data removed]",
            "text/plain": [
              "<Figure size 720x504 with 1 Axes>"
            ]
          },
          "metadata": {
            "needs_background": "light"
          }
        }
      ]
    },
    {
      "cell_type": "code",
      "metadata": {
        "id": "RPFoJI0SOhn8"
      },
      "source": [
        ""
      ],
      "execution_count": null,
      "outputs": []
    }
  ]
}