{
  "nbformat": 4,
  "nbformat_minor": 0,
  "metadata": {
    "colab": {
      "name": "Time_series_forecasting_eth_price.ipynb",
      "provenance": [],
      "authorship_tag": "ABX9TyOJtzRD/lYCztcfkhcLlJ1e",
      "include_colab_link": true
    },
    "kernelspec": {
      "name": "python3",
      "display_name": "Python 3"
    },
    "language_info": {
      "name": "python"
    }
  },
  "cells": [
    {
      "cell_type": "markdown",
      "metadata": {
        "id": "view-in-github",
        "colab_type": "text"
      },
      "source": [
        "<a href=\"https://colab.research.google.com/github/schauppi/Udemy_TensorFlow_Developer/blob/main/Exam_preparation/Time_series_forecasting_eth_price.ipynb\" target=\"_parent\"><img src=\"https://colab.research.google.com/assets/colab-badge.svg\" alt=\"Open In Colab\"/></a>"
      ]
    },
    {
      "cell_type": "code",
      "metadata": {
        "colab": {
          "base_uri": "https://localhost:8080/"
        },
        "id": "ENpaax5qrjbI",
        "outputId": "abc0dff8-ab29-4c72-8bc1-5b66a845b6e0"
      },
      "source": [
        "#Download ETH dataset\n",
        "!wget https://raw.githubusercontent.com/schauppi/Udemy_TensorFlow_Developer/main/Exam_preparation/Datasets/ETH_Coindesk.csv"
      ],
      "execution_count": 1,
      "outputs": [
        {
          "output_type": "stream",
          "name": "stdout",
          "text": [
            "--2021-08-31 13:37:21--  https://raw.githubusercontent.com/schauppi/Udemy_TensorFlow_Developer/main/Exam_preparation/Datasets/ETH_Coindesk.csv\n",
            "Resolving raw.githubusercontent.com (raw.githubusercontent.com)... 185.199.108.133, 185.199.110.133, 185.199.111.133, ...\n",
            "Connecting to raw.githubusercontent.com (raw.githubusercontent.com)|185.199.108.133|:443... connected.\n",
            "HTTP request sent, awaiting response... 200 OK\n",
            "Length: 115669 (113K) [text/plain]\n",
            "Saving to: ‘ETH_Coindesk.csv’\n",
            "\n",
            "ETH_Coindesk.csv    100%[===================>] 112.96K  --.-KB/s    in 0.02s   \n",
            "\n",
            "2021-08-31 13:37:21 (5.22 MB/s) - ‘ETH_Coindesk.csv’ saved [115669/115669]\n",
            "\n"
          ]
        }
      ]
    },
    {
      "cell_type": "code",
      "metadata": {
        "colab": {
          "base_uri": "https://localhost:8080/",
          "height": 236
        },
        "id": "JGrTnVkqr1qC",
        "outputId": "235b3478-ab3a-410d-d6cf-452ddd22752e"
      },
      "source": [
        "#Import Data\n",
        "import pandas as pd\n",
        "df = pd.read_csv(\"/content/ETH_Coindesk.csv\", parse_dates=[\"Date\"], index_col=[\"Date\"])\n",
        "df.head()"
      ],
      "execution_count": 2,
      "outputs": [
        {
          "output_type": "execute_result",
          "data": {
            "text/html": [
              "<div>\n",
              "<style scoped>\n",
              "    .dataframe tbody tr th:only-of-type {\n",
              "        vertical-align: middle;\n",
              "    }\n",
              "\n",
              "    .dataframe tbody tr th {\n",
              "        vertical-align: top;\n",
              "    }\n",
              "\n",
              "    .dataframe thead th {\n",
              "        text-align: right;\n",
              "    }\n",
              "</style>\n",
              "<table border=\"1\" class=\"dataframe\">\n",
              "  <thead>\n",
              "    <tr style=\"text-align: right;\">\n",
              "      <th></th>\n",
              "      <th>Currency</th>\n",
              "      <th>Closing Price (USD)</th>\n",
              "      <th>24h Open (USD)</th>\n",
              "      <th>24h High (USD)</th>\n",
              "      <th>24h Low (USD)</th>\n",
              "    </tr>\n",
              "    <tr>\n",
              "      <th>Date</th>\n",
              "      <th></th>\n",
              "      <th></th>\n",
              "      <th></th>\n",
              "      <th></th>\n",
              "      <th></th>\n",
              "    </tr>\n",
              "  </thead>\n",
              "  <tbody>\n",
              "    <tr>\n",
              "      <th>2016-12-15</th>\n",
              "      <td>ETH</td>\n",
              "      <td>8.195936</td>\n",
              "      <td>8.394537</td>\n",
              "      <td>8.440725</td>\n",
              "      <td>8.044697</td>\n",
              "    </tr>\n",
              "    <tr>\n",
              "      <th>2016-12-16</th>\n",
              "      <td>ETH</td>\n",
              "      <td>7.836525</td>\n",
              "      <td>8.195936</td>\n",
              "      <td>8.206139</td>\n",
              "      <td>7.694463</td>\n",
              "    </tr>\n",
              "    <tr>\n",
              "      <th>2016-12-17</th>\n",
              "      <td>ETH</td>\n",
              "      <td>7.709642</td>\n",
              "      <td>7.836525</td>\n",
              "      <td>7.892591</td>\n",
              "      <td>7.699776</td>\n",
              "    </tr>\n",
              "    <tr>\n",
              "      <th>2016-12-18</th>\n",
              "      <td>ETH</td>\n",
              "      <td>7.813304</td>\n",
              "      <td>7.709642</td>\n",
              "      <td>7.939579</td>\n",
              "      <td>7.495653</td>\n",
              "    </tr>\n",
              "    <tr>\n",
              "      <th>2016-12-19</th>\n",
              "      <td>ETH</td>\n",
              "      <td>7.735086</td>\n",
              "      <td>7.813304</td>\n",
              "      <td>7.926575</td>\n",
              "      <td>7.690697</td>\n",
              "    </tr>\n",
              "  </tbody>\n",
              "</table>\n",
              "</div>"
            ],
            "text/plain": [
              "           Currency  Closing Price (USD)  ...  24h High (USD)  24h Low (USD)\n",
              "Date                                      ...                               \n",
              "2016-12-15      ETH             8.195936  ...        8.440725       8.044697\n",
              "2016-12-16      ETH             7.836525  ...        8.206139       7.694463\n",
              "2016-12-17      ETH             7.709642  ...        7.892591       7.699776\n",
              "2016-12-18      ETH             7.813304  ...        7.939579       7.495653\n",
              "2016-12-19      ETH             7.735086  ...        7.926575       7.690697\n",
              "\n",
              "[5 rows x 5 columns]"
            ]
          },
          "metadata": {},
          "execution_count": 2
        }
      ]
    },
    {
      "cell_type": "code",
      "metadata": {
        "colab": {
          "base_uri": "https://localhost:8080/"
        },
        "id": "g2KfFOx8snZH",
        "outputId": "abcfba54-86c6-486b-d4f7-b2bb39ecb3fe"
      },
      "source": [
        "#Get more info about the data\n",
        "df.info()"
      ],
      "execution_count": 3,
      "outputs": [
        {
          "output_type": "stream",
          "name": "stdout",
          "text": [
            "<class 'pandas.core.frame.DataFrame'>\n",
            "DatetimeIndex: 1706 entries, 2016-12-15 to 2021-08-31\n",
            "Data columns (total 5 columns):\n",
            " #   Column               Non-Null Count  Dtype  \n",
            "---  ------               --------------  -----  \n",
            " 0   Currency             1706 non-null   object \n",
            " 1   Closing Price (USD)  1706 non-null   float64\n",
            " 2   24h Open (USD)       1706 non-null   float64\n",
            " 3   24h High (USD)       1706 non-null   float64\n",
            " 4   24h Low (USD)        1706 non-null   float64\n",
            "dtypes: float64(4), object(1)\n",
            "memory usage: 80.0+ KB\n"
          ]
        }
      ]
    },
    {
      "cell_type": "code",
      "metadata": {
        "colab": {
          "base_uri": "https://localhost:8080/"
        },
        "id": "vrUQd3g0r-2E",
        "outputId": "88cfbf84-688f-4d4b-9807-8409b38f2003"
      },
      "source": [
        "#How many samples in the datset\n",
        "len(df)"
      ],
      "execution_count": 4,
      "outputs": [
        {
          "output_type": "execute_result",
          "data": {
            "text/plain": [
              "1706"
            ]
          },
          "metadata": {},
          "execution_count": 4
        }
      ]
    },
    {
      "cell_type": "code",
      "metadata": {
        "colab": {
          "base_uri": "https://localhost:8080/",
          "height": 236
        },
        "id": "EPKTO-cUsLE6",
        "outputId": "d3e6b5ee-1017-4e70-df19-c3275bc6d387"
      },
      "source": [
        "#Use only the ETH closing price and rename columns\n",
        "ether_price = pd.DataFrame(df['Closing Price (USD)']).rename(columns={\"Closing Price (USD)\": \"Price\"})\n",
        "ether_price.head()"
      ],
      "execution_count": 5,
      "outputs": [
        {
          "output_type": "execute_result",
          "data": {
            "text/html": [
              "<div>\n",
              "<style scoped>\n",
              "    .dataframe tbody tr th:only-of-type {\n",
              "        vertical-align: middle;\n",
              "    }\n",
              "\n",
              "    .dataframe tbody tr th {\n",
              "        vertical-align: top;\n",
              "    }\n",
              "\n",
              "    .dataframe thead th {\n",
              "        text-align: right;\n",
              "    }\n",
              "</style>\n",
              "<table border=\"1\" class=\"dataframe\">\n",
              "  <thead>\n",
              "    <tr style=\"text-align: right;\">\n",
              "      <th></th>\n",
              "      <th>Price</th>\n",
              "    </tr>\n",
              "    <tr>\n",
              "      <th>Date</th>\n",
              "      <th></th>\n",
              "    </tr>\n",
              "  </thead>\n",
              "  <tbody>\n",
              "    <tr>\n",
              "      <th>2016-12-15</th>\n",
              "      <td>8.195936</td>\n",
              "    </tr>\n",
              "    <tr>\n",
              "      <th>2016-12-16</th>\n",
              "      <td>7.836525</td>\n",
              "    </tr>\n",
              "    <tr>\n",
              "      <th>2016-12-17</th>\n",
              "      <td>7.709642</td>\n",
              "    </tr>\n",
              "    <tr>\n",
              "      <th>2016-12-18</th>\n",
              "      <td>7.813304</td>\n",
              "    </tr>\n",
              "    <tr>\n",
              "      <th>2016-12-19</th>\n",
              "      <td>7.735086</td>\n",
              "    </tr>\n",
              "  </tbody>\n",
              "</table>\n",
              "</div>"
            ],
            "text/plain": [
              "               Price\n",
              "Date                \n",
              "2016-12-15  8.195936\n",
              "2016-12-16  7.836525\n",
              "2016-12-17  7.709642\n",
              "2016-12-18  7.813304\n",
              "2016-12-19  7.735086"
            ]
          },
          "metadata": {},
          "execution_count": 5
        }
      ]
    },
    {
      "cell_type": "code",
      "metadata": {
        "colab": {
          "base_uri": "https://localhost:8080/",
          "height": 451
        },
        "id": "5EwZfCpXtWgq",
        "outputId": "d38029dc-15f6-44a6-ba39-57bc0bc8dde4"
      },
      "source": [
        "#Plot Ether price\n",
        "import matplotlib.pyplot as plt\n",
        "ether_price.plot(figsize=(10,7))\n",
        "plt.ylabel(\"ETH Price\")\n",
        "plt.title(\"Ethereum Historical Price Chart\", fontsize=16)\n",
        "plt.legend(fontsize=14)"
      ],
      "execution_count": 6,
      "outputs": [
        {
          "output_type": "execute_result",
          "data": {
            "text/plain": [
              "<matplotlib.legend.Legend at 0x7f6047aa0a10>"
            ]
          },
          "metadata": {},
          "execution_count": 6
        },
        {
          "output_type": "display_data",
          "data": {
            "image/png": "[encoded data removed]",
            "text/plain": [
              "<Figure size 720x504 with 1 Axes>"
            ]
          },
          "metadata": {
            "needs_background": "light"
          }
        }
      ]
    },
    {
      "cell_type": "code",
      "metadata": {
        "colab": {
          "base_uri": "https://localhost:8080/"
        },
        "id": "9ERbncFB3dJx",
        "outputId": "a64e2e00-b9ee-4e5f-b767-2d490f35a12c"
      },
      "source": [
        "#Get ETH price and date array\n",
        "timesteps = ether_price.index.to_numpy()\n",
        "prices = ether_price[\"Price\"].to_numpy()\n",
        "timesteps[:10], prices[:10]"
      ],
      "execution_count": 7,
      "outputs": [
        {
          "output_type": "execute_result",
          "data": {
            "text/plain": [
              "(array(['2016-12-15T00:00:00.000000000', '2016-12-16T00:00:00.000000000',\n",
              "        '2016-12-17T00:00:00.000000000', '2016-12-18T00:00:00.000000000',\n",
              "        '2016-12-19T00:00:00.000000000', '2016-12-20T00:00:00.000000000',\n",
              "        '2016-12-21T00:00:00.000000000', '2016-12-22T00:00:00.000000000',\n",
              "        '2016-12-23T00:00:00.000000000', '2016-12-24T00:00:00.000000000'],\n",
              "       dtype='datetime64[ns]'),\n",
              " array([8.195936, 7.836525, 7.709642, 7.813304, 7.735086, 7.601047,\n",
              "        7.675313, 7.569866, 7.601819, 7.221961]))"
            ]
          },
          "metadata": {},
          "execution_count": 7
        }
      ]
    },
    {
      "cell_type": "code",
      "metadata": {
        "colab": {
          "base_uri": "https://localhost:8080/"
        },
        "id": "zAPw5KSH3vc8",
        "outputId": "f87dda5d-d5f3-4643-d9d1-91009d77b4a3"
      },
      "source": [
        "#Create train and test sets\n",
        "split_size = int(0.8 * len(prices))\n",
        "y_train, x_train = prices[:split_size], timesteps[:split_size]\n",
        "y_test, x_test = prices[split_size:], timesteps[split_size:]\n",
        "len(x_train), len(x_test), len(y_train), len(y_test)"
      ],
      "execution_count": 8,
      "outputs": [
        {
          "output_type": "execute_result",
          "data": {
            "text/plain": [
              "(1364, 342, 1364, 342)"
            ]
          },
          "metadata": {},
          "execution_count": 8
        }
      ]
    },
    {
      "cell_type": "code",
      "metadata": {
        "colab": {
          "base_uri": "https://localhost:8080/",
          "height": 459
        },
        "id": "iqyJNTAB4hqo",
        "outputId": "29123a79-c06e-4896-c2e7-94ab2b707a5d"
      },
      "source": [
        "#Plot the train and test split\n",
        "plt.figure(figsize=(10,7))\n",
        "plt.scatter(x_train, y_train, label=\"Train data\")\n",
        "plt.scatter(x_test, y_test, label=\"Test data\")\n",
        "plt.xlabel(\"Date\")\n",
        "plt.ylabel(\"ETH Price\")\n",
        "plt.legend()"
      ],
      "execution_count": 9,
      "outputs": [
        {
          "output_type": "execute_result",
          "data": {
            "text/plain": [
              "<matplotlib.legend.Legend at 0x7f6051ff5850>"
            ]
          },
          "metadata": {},
          "execution_count": 9
        },
        {
          "output_type": "display_data",
          "data": {
            "image/png": "[encoded data removed]",
            "text/plain": [
              "<Figure size 720x504 with 1 Axes>"
            ]
          },
          "metadata": {
            "needs_background": "light"
          }
        }
      ]
    },
    {
      "cell_type": "code",
      "metadata": {
        "id": "DoIHBVEI43xK"
      },
      "source": [
        "def plot_time_series(timesteps, values, format=\".\", start=0, end=None, label=None):\n",
        "  \"\"\"\n",
        "  Plots timesteps against values\n",
        "  Parameters\n",
        "  ----------\n",
        "  timesteps: array of timesteps\n",
        "  values: array of values across time\n",
        "  format: style of plot, default \".\"\n",
        "  start: where to start the plot (setting a value will index from start of timesteps & values)\n",
        "  ende: where to ende the plot (setting a value will index from end of timesteps & values)\n",
        "  label: label to show on plot of values\n",
        "  \"\"\"\n",
        "  plt.plot(timesteps[start:end], values[start:end], format, label=label)\n",
        "  plt.xlabel(\"Time\")\n",
        "  plt.ylabel(\"Values\")\n",
        "  if label:\n",
        "    plt.legend(fontsize=14)\n",
        "  plt.grid(True)"
      ],
      "execution_count": 10,
      "outputs": []
    },
    {
      "cell_type": "code",
      "metadata": {
        "colab": {
          "base_uri": "https://localhost:8080/",
          "height": 442
        },
        "id": "ghVCWjlL9F0O",
        "outputId": "2b1a2387-01ab-477e-f574-e14b1dbec578"
      },
      "source": [
        "plt.figure(figsize=(10,7))\n",
        "plot_time_series(x_train, y_train, label=\"Train Data\")\n",
        "plot_time_series(x_test, y_test, label=\"Test Data\")"
      ],
      "execution_count": 11,
      "outputs": [
        {
          "output_type": "display_data",
          "data": {
            "image/png": "[encoded data removed]",
            "text/plain": [
              "<Figure size 720x504 with 1 Axes>"
            ]
          },
          "metadata": {
            "needs_background": "light"
          }
        }
      ]
    },
    {
      "cell_type": "code",
      "metadata": {
        "id": "3mCZoK-T_PUx"
      },
      "source": [
        "import numpy as np\n",
        "\n",
        "def make_windows(x, window_size=7, horizon=1):\n",
        "  \"\"\"\n",
        "  Turn a 1D array into a 2D array of sequential windows of window_size\n",
        "  \"\"\"\n",
        "  # 1. Create a window of specific window_size (add the horizon on the end for later labelling)\n",
        "  window_step = np.expand_dims(np.arange(window_size + horizon), axis=0)\n",
        "\n",
        "  # 2. Create 2D array of multiple window steps (minus 1 to account for indexing)\n",
        "  window_indexes = window_step + np.expand_dims(np.arange(len(x)-(window_size+horizon-1)), axis=0).T #create 2D array of windows of size window_size\n",
        "\n",
        "  # 3. Index on the target array (time series) with 2D array of multiple window steps\n",
        "  windowed_array = x[window_indexes]\n",
        "\n",
        "  # Get the labelled windows\n",
        "  windows, labels = windowed_array[:, :-horizon], windowed_array[:, -horizon:]\n",
        "\n",
        "  return windows, labels"
      ],
      "execution_count": 12,
      "outputs": []
    },
    {
      "cell_type": "code",
      "metadata": {
        "colab": {
          "base_uri": "https://localhost:8080/"
        },
        "id": "zV3_BxfqAxWA",
        "outputId": "cdb64bd1-c72c-4a86-f726-cdb2571ff4ef"
      },
      "source": [
        "prices[:10], timesteps[:10]"
      ],
      "execution_count": 13,
      "outputs": [
        {
          "output_type": "execute_result",
          "data": {
            "text/plain": [
              "(array([8.195936, 7.836525, 7.709642, 7.813304, 7.735086, 7.601047,\n",
              "        7.675313, 7.569866, 7.601819, 7.221961]),\n",
              " array(['2016-12-15T00:00:00.000000000', '2016-12-16T00:00:00.000000000',\n",
              "        '2016-12-17T00:00:00.000000000', '2016-12-18T00:00:00.000000000',\n",
              "        '2016-12-19T00:00:00.000000000', '2016-12-20T00:00:00.000000000',\n",
              "        '2016-12-21T00:00:00.000000000', '2016-12-22T00:00:00.000000000',\n",
              "        '2016-12-23T00:00:00.000000000', '2016-12-24T00:00:00.000000000'],\n",
              "       dtype='datetime64[ns]'))"
            ]
          },
          "metadata": {},
          "execution_count": 13
        }
      ]
    },
    {
      "cell_type": "code",
      "metadata": {
        "colab": {
          "base_uri": "https://localhost:8080/"
        },
        "id": "y11_Sr1qA2PI",
        "outputId": "6bc88bf4-3f67-4ee8-ffd7-693e4225b0f9"
      },
      "source": [
        "HORIZON = 1\n",
        "WINDOW_SIZE = 7\n",
        "full_windows, full_labels = make_windows(prices, window_size=WINDOW_SIZE, horizon=HORIZON)\n",
        "len(full_windows), len(full_labels)"
      ],
      "execution_count": 14,
      "outputs": [
        {
          "output_type": "execute_result",
          "data": {
            "text/plain": [
              "(1699, 1699)"
            ]
          },
          "metadata": {},
          "execution_count": 14
        }
      ]
    },
    {
      "cell_type": "code",
      "metadata": {
        "colab": {
          "base_uri": "https://localhost:8080/"
        },
        "id": "oWnT-x0oBC_r",
        "outputId": "5e92a4a9-ff23-40ca-e363-ca2cfecc59d3"
      },
      "source": [
        "for i in range(5):\n",
        "  print(f\"WIndow: {full_windows[i]}, Label: {full_labels[i]}\")"
      ],
      "execution_count": 15,
      "outputs": [
        {
          "output_type": "stream",
          "name": "stdout",
          "text": [
            "WIndow: [8.195936 7.836525 7.709642 7.813304 7.735086 7.601047 7.675313], Label: [7.569866]\n",
            "WIndow: [7.836525 7.709642 7.813304 7.735086 7.601047 7.675313 7.569866], Label: [7.601819]\n",
            "WIndow: [7.709642 7.813304 7.735086 7.601047 7.675313 7.569866 7.601819], Label: [7.221961]\n",
            "WIndow: [7.813304 7.735086 7.601047 7.675313 7.569866 7.601819 7.221961], Label: [7.256569]\n",
            "WIndow: [7.735086 7.601047 7.675313 7.569866 7.601819 7.221961 7.256569], Label: [7.260191]\n"
          ]
        }
      ]
    },
    {
      "cell_type": "code",
      "metadata": {
        "id": "WHATzR0QCHYl"
      },
      "source": [
        "#Function for creating train and test splits\n",
        "def make_train_test_splits(windows, labels, test_split=0.2):\n",
        "  \"\"\"\n",
        "  Splits matching pairs of windows and labels into train and test splits\n",
        "  \"\"\"\n",
        "  split_size = int(len(windows) * (1 - test_split))\n",
        "  train_windows = windows[:split_size]\n",
        "  train_labels = labels[:split_size]\n",
        "  test_windows = windows[split_size:]\n",
        "  test_labels = labels[split_size:]\n",
        "  return train_windows, test_windows, train_labels, test_labels"
      ],
      "execution_count": 16,
      "outputs": []
    },
    {
      "cell_type": "code",
      "metadata": {
        "colab": {
          "base_uri": "https://localhost:8080/"
        },
        "id": "UfsB3HbODHdk",
        "outputId": "f64cf54a-7e14-43c0-8040-ae5449088b7b"
      },
      "source": [
        "train_windows, test_windows, train_labels, test_labels = make_train_test_splits(full_windows, full_labels)\n",
        "len(train_windows), len(test_windows), len(train_labels), len(test_labels) "
      ],
      "execution_count": 17,
      "outputs": [
        {
          "output_type": "execute_result",
          "data": {
            "text/plain": [
              "(1359, 340, 1359, 340)"
            ]
          },
          "metadata": {},
          "execution_count": 17
        }
      ]
    },
    {
      "cell_type": "code",
      "metadata": {
        "id": "Tu19eQAEDqfd"
      },
      "source": [
        "import tensorflow as tf\n",
        "import os\n",
        "#Function for implementing a model checkpoint\n",
        "def create_model_checkpoint(model_name, save_path=\"model_experiments\"):\n",
        "  return tf.keras.callbacks.ModelCheckpoint(filepath=os.path.join(save_path, model_name), # create filepath to save model\n",
        "                                              verbose=0, # only output a limited amount of text\n",
        "                                              save_best_only=True) # save only the best model to file"
      ],
      "execution_count": 18,
      "outputs": []
    },
    {
      "cell_type": "code",
      "metadata": {
        "id": "UhseR5SsEQUV"
      },
      "source": [
        "#Create an evaluation function\n",
        "def evaluate_preds(y_true, y_pred):\n",
        "  y_true = tf.cast(y_true, dtype=tf.float32)\n",
        "  y_pred = tf.cast(y_pred, dtype=tf.float32)\n",
        "\n",
        "  mae = tf.keras.metrics.mean_absolute_error(y_true, y_pred)\n",
        "  mse = tf.keras.metrics.mean_squared_error(y_true, y_pred)\n",
        "  rmse = tf.sqrt(mse)\n",
        "  mape = tf.keras.metrics.mean_absolute_error(y_true, y_pred)\n",
        "\n",
        "  if mae.ndim > 0:\n",
        "    mae = tf.reduce_mean(mae)\n",
        "    mse = tf.reduce_mean(mse)\n",
        "    rmse = tf.reduce_mean(rmse)\n",
        "    mape = tf.reduce_mean(mape)\n",
        "\n",
        "  return {\"mae\": mae.numpy(),\n",
        "          \"mse\": mse.numpy(),\n",
        "          \"rmse\": rmse.numpy(),\n",
        "          \"mape\": mape.numpy()}"
      ],
      "execution_count": 19,
      "outputs": []
    },
    {
      "cell_type": "code",
      "metadata": {
        "id": "mScf8E5GI0uU"
      },
      "source": [
        "import tensorflow as tf\n",
        "from tensorflow.keras import layers\n",
        "tf.random.set_seed(42)"
      ],
      "execution_count": 20,
      "outputs": []
    },
    {
      "cell_type": "markdown",
      "metadata": {
        "id": "lb0Nomw3bfqB"
      },
      "source": [
        "## Model 1: Dense model - W30/H1"
      ]
    },
    {
      "cell_type": "code",
      "metadata": {
        "id": "sBW66ai_IAFK"
      },
      "source": [
        "#Build the model\n",
        "\n",
        "model_1 = tf.keras.Sequential([\n",
        "                               layers.Dense(128, activation=\"relu\"),\n",
        "                               layers.Dense(HORIZON)\n",
        "                               \n",
        "], name=\"model_1_dense\")"
      ],
      "execution_count": 21,
      "outputs": []
    },
    {
      "cell_type": "code",
      "metadata": {
        "id": "RCI29sT9JLUG"
      },
      "source": [
        "#Compile the model\n",
        "model_1.compile(loss=\"mae\", optimizer=\"Adam\", metrics=[\"mae\", \"mse\"])"
      ],
      "execution_count": 22,
      "outputs": []
    },
    {
      "cell_type": "code",
      "metadata": {
        "colab": {
          "base_uri": "https://localhost:8080/"
        },
        "id": "UnLZwRbTJaqh",
        "outputId": "db0556ed-c003-4831-8464-e74511307a70"
      },
      "source": [
        "#Fit the model\n",
        "history_model_1 = model_1.fit(train_windows, train_labels,\n",
        "                              epochs=100,\n",
        "                              batch_size=128,\n",
        "                              verbose=0,\n",
        "                              validation_data=(test_windows, test_labels),\n",
        "                              callbacks=[create_model_checkpoint(model_1.name)])"
      ],
      "execution_count": 23,
      "outputs": [
        {
          "output_type": "stream",
          "name": "stdout",
          "text": [
            "INFO:tensorflow:Assets written to: model_experiments/model_1_dense/assets\n",
            "INFO:tensorflow:Assets written to: model_experiments/model_1_dense/assets\n",
            "INFO:tensorflow:Assets written to: model_experiments/model_1_dense/assets\n",
            "INFO:tensorflow:Assets written to: model_experiments/model_1_dense/assets\n",
            "INFO:tensorflow:Assets written to: model_experiments/model_1_dense/assets\n",
            "INFO:tensorflow:Assets written to: model_experiments/model_1_dense/assets\n",
            "INFO:tensorflow:Assets written to: model_experiments/model_1_dense/assets\n",
            "INFO:tensorflow:Assets written to: model_experiments/model_1_dense/assets\n",
            "INFO:tensorflow:Assets written to: model_experiments/model_1_dense/assets\n",
            "INFO:tensorflow:Assets written to: model_experiments/model_1_dense/assets\n",
            "INFO:tensorflow:Assets written to: model_experiments/model_1_dense/assets\n",
            "INFO:tensorflow:Assets written to: model_experiments/model_1_dense/assets\n",
            "INFO:tensorflow:Assets written to: model_experiments/model_1_dense/assets\n",
            "INFO:tensorflow:Assets written to: model_experiments/model_1_dense/assets\n",
            "INFO:tensorflow:Assets written to: model_experiments/model_1_dense/assets\n",
            "INFO:tensorflow:Assets written to: model_experiments/model_1_dense/assets\n",
            "INFO:tensorflow:Assets written to: model_experiments/model_1_dense/assets\n",
            "INFO:tensorflow:Assets written to: model_experiments/model_1_dense/assets\n",
            "INFO:tensorflow:Assets written to: model_experiments/model_1_dense/assets\n",
            "INFO:tensorflow:Assets written to: model_experiments/model_1_dense/assets\n",
            "INFO:tensorflow:Assets written to: model_experiments/model_1_dense/assets\n",
            "INFO:tensorflow:Assets written to: model_experiments/model_1_dense/assets\n",
            "INFO:tensorflow:Assets written to: model_experiments/model_1_dense/assets\n",
            "INFO:tensorflow:Assets written to: model_experiments/model_1_dense/assets\n",
            "INFO:tensorflow:Assets written to: model_experiments/model_1_dense/assets\n",
            "INFO:tensorflow:Assets written to: model_experiments/model_1_dense/assets\n",
            "INFO:tensorflow:Assets written to: model_experiments/model_1_dense/assets\n",
            "INFO:tensorflow:Assets written to: model_experiments/model_1_dense/assets\n",
            "INFO:tensorflow:Assets written to: model_experiments/model_1_dense/assets\n",
            "INFO:tensorflow:Assets written to: model_experiments/model_1_dense/assets\n",
            "INFO:tensorflow:Assets written to: model_experiments/model_1_dense/assets\n",
            "INFO:tensorflow:Assets written to: model_experiments/model_1_dense/assets\n",
            "INFO:tensorflow:Assets written to: model_experiments/model_1_dense/assets\n",
            "INFO:tensorflow:Assets written to: model_experiments/model_1_dense/assets\n",
            "INFO:tensorflow:Assets written to: model_experiments/model_1_dense/assets\n"
          ]
        }
      ]
    },
    {
      "cell_type": "code",
      "metadata": {
        "colab": {
          "base_uri": "https://localhost:8080/"
        },
        "id": "B5owYRSEJ3mn",
        "outputId": "023c31d5-69e3-43d7-f82f-505327037fc4"
      },
      "source": [
        "#Evaluate the model\n",
        "model_1.evaluate(test_windows, test_labels)"
      ],
      "execution_count": 24,
      "outputs": [
        {
          "output_type": "stream",
          "name": "stdout",
          "text": [
            "11/11 [==============================] - 0s 3ms/step - loss: 71.7704 - mae: 71.7704 - mse: 12601.7363\n"
          ]
        },
        {
          "output_type": "execute_result",
          "data": {
            "text/plain": [
              "[71.77035522460938, 71.77035522460938, 12601.736328125]"
            ]
          },
          "metadata": {},
          "execution_count": 24
        }
      ]
    },
    {
      "cell_type": "code",
      "metadata": {
        "colab": {
          "base_uri": "https://localhost:8080/"
        },
        "id": "SHf3yt7vKFT7",
        "outputId": "ed12106a-8b56-4efb-d932-dde7cce42cea"
      },
      "source": [
        "#Load the best model\n",
        "model_1 = tf.keras.models.load_model(\"model_experiments/model_1_dense/\")\n",
        "model_1.evaluate(test_windows, test_labels)"
      ],
      "execution_count": 25,
      "outputs": [
        {
          "output_type": "stream",
          "name": "stdout",
          "text": [
            "11/11 [==============================] - 0s 3ms/step - loss: 71.7704 - mae: 71.7704 - mse: 12601.7363\n"
          ]
        },
        {
          "output_type": "execute_result",
          "data": {
            "text/plain": [
              "[71.77035522460938, 71.77035522460938, 12601.736328125]"
            ]
          },
          "metadata": {},
          "execution_count": 25
        }
      ]
    },
    {
      "cell_type": "code",
      "metadata": {
        "id": "m3vQ39dpKTFc"
      },
      "source": [
        "def make_preds(model, input_data):\n",
        "  \"\"\"\n",
        "  Uses model to make predictions on input_data.\n",
        "\n",
        "  Parameters\n",
        "  --------\n",
        "  model: trained model\n",
        "  input_data: windowd input data (same kind of data model was trained on)\n",
        "\n",
        "  Returns model predictions on input data.\n",
        "  \"\"\"\n",
        "  forecast = model.predict(input_data)\n",
        "  return tf.squeeze(forecast)"
      ],
      "execution_count": 26,
      "outputs": []
    },
    {
      "cell_type": "code",
      "metadata": {
        "colab": {
          "base_uri": "https://localhost:8080/"
        },
        "id": "kYmcGQ9LKqrD",
        "outputId": "73772ad0-578f-416d-a93b-f4b9a3fbe6ae"
      },
      "source": [
        "#make predictions\n",
        "model_1_preds = make_preds(model_1, test_windows)\n",
        "model_1_preds[:10]"
      ],
      "execution_count": 27,
      "outputs": [
        {
          "output_type": "execute_result",
          "data": {
            "text/plain": [
              "<tf.Tensor: shape=(10,), dtype=float32, numpy=\n",
              "array([344.25397, 354.5401 , 356.65387, 355.977  , 365.21753, 361.94168,\n",
              "       361.16486, 355.70856, 349.1869 , 348.62198], dtype=float32)>"
            ]
          },
          "metadata": {},
          "execution_count": 27
        }
      ]
    },
    {
      "cell_type": "code",
      "metadata": {
        "colab": {
          "base_uri": "https://localhost:8080/"
        },
        "id": "IuC8z9WgKzRf",
        "outputId": "d7123de6-124b-47e5-f44a-e0888e6c9f3a"
      },
      "source": [
        "# Evaluate preds\n",
        "model_1_results = evaluate_preds(y_true=tf.squeeze(test_labels), y_pred=model_1_preds)\n",
        "model_1_results"
      ],
      "execution_count": 28,
      "outputs": [
        {
          "output_type": "execute_result",
          "data": {
            "text/plain": [
              "{'mae': 71.77035, 'mape': 71.77035, 'mse': 12601.738, 'rmse': 112.25746}"
            ]
          },
          "metadata": {},
          "execution_count": 28
        }
      ]
    },
    {
      "cell_type": "markdown",
      "metadata": {
        "id": "ICTaMXZiLwIs"
      },
      "source": [
        "## Model 1: Dense model - W15/H1"
      ]
    },
    {
      "cell_type": "code",
      "metadata": {
        "id": "dlH_z0utbvz7",
        "outputId": "fff4b35e-1409-49a5-a204-37d6db1c5aac",
        "colab": {
          "base_uri": "https://localhost:8080/"
        }
      },
      "source": [
        "#Window data\n",
        "HORIZON = 1\n",
        "WINDOW_SIZE = 15\n",
        "full_windows, full_labels = make_windows(prices, window_size=WINDOW_SIZE, horizon=HORIZON)\n",
        "len(full_windows), len(full_labels)"
      ],
      "execution_count": 29,
      "outputs": [
        {
          "output_type": "execute_result",
          "data": {
            "text/plain": [
              "(1691, 1691)"
            ]
          },
          "metadata": {},
          "execution_count": 29
        }
      ]
    },
    {
      "cell_type": "code",
      "metadata": {
        "id": "MKvXENLsb2E6",
        "outputId": "6de06d34-2aec-4b60-fb6f-7f8458c6def1",
        "colab": {
          "base_uri": "https://localhost:8080/"
        }
      },
      "source": [
        "#Split data into train and test sets\n",
        "train_windows, test_windows, train_labels, test_labels = make_train_test_splits(full_windows, full_labels)\n",
        "len(train_windows), len(test_windows), len(train_labels), len(test_labels) "
      ],
      "execution_count": 31,
      "outputs": [
        {
          "output_type": "execute_result",
          "data": {
            "text/plain": [
              "(1352, 339, 1352, 339)"
            ]
          },
          "metadata": {},
          "execution_count": 31
        }
      ]
    },
    {
      "cell_type": "code",
      "metadata": {
        "id": "QwC2swwLb6IY"
      },
      "source": [
        "#Build the model \n",
        "tf.random.set_seed(42)\n",
        "\n",
        "model_2 = tf.keras.Sequential([\n",
        "                               layers.Dense(128, activation=\"relu\"),\n",
        "                               layers.Dense(HORIZON)\n",
        "], name=\"model_2_dense\")"
      ],
      "execution_count": 34,
      "outputs": []
    },
    {
      "cell_type": "code",
      "metadata": {
        "id": "bWd_HNLxcBKM"
      },
      "source": [
        "#Compile the model\n",
        "model_2.compile(loss=\"mse\", optimizer=\"Adam\", metrics=[\"mse\", \"mae\"])"
      ],
      "execution_count": 35,
      "outputs": []
    },
    {
      "cell_type": "code",
      "metadata": {
        "id": "T7kjb28aceDE",
        "outputId": "316b2fae-9205-4e1e-892a-fe567b0b9d19",
        "colab": {
          "base_uri": "https://localhost:8080/"
        }
      },
      "source": [
        "#Fit the model \n",
        "history_model_2 = model_2.fit(train_windows, train_labels, \n",
        "                              epochs=100,\n",
        "                              batch_size=128,\n",
        "                              verbose=0,\n",
        "                              validation_data=(test_windows, test_labels),\n",
        "                              callbacks=[create_model_checkpoint(model_2.name)])"
      ],
      "execution_count": 37,
      "outputs": [
        {
          "output_type": "stream",
          "name": "stdout",
          "text": [
            "INFO:tensorflow:Assets written to: model_experiments/model_2_dense/assets\n",
            "INFO:tensorflow:Assets written to: model_experiments/model_2_dense/assets\n",
            "INFO:tensorflow:Assets written to: model_experiments/model_2_dense/assets\n",
            "INFO:tensorflow:Assets written to: model_experiments/model_2_dense/assets\n",
            "INFO:tensorflow:Assets written to: model_experiments/model_2_dense/assets\n",
            "INFO:tensorflow:Assets written to: model_experiments/model_2_dense/assets\n",
            "INFO:tensorflow:Assets written to: model_experiments/model_2_dense/assets\n",
            "INFO:tensorflow:Assets written to: model_experiments/model_2_dense/assets\n",
            "INFO:tensorflow:Assets written to: model_experiments/model_2_dense/assets\n",
            "INFO:tensorflow:Assets written to: model_experiments/model_2_dense/assets\n",
            "INFO:tensorflow:Assets written to: model_experiments/model_2_dense/assets\n"
          ]
        }
      ]
    },
    {
      "cell_type": "code",
      "metadata": {
        "id": "70U6N0XVczZE",
        "outputId": "6158ec3e-c7cb-479d-eedd-e951807b28bf",
        "colab": {
          "base_uri": "https://localhost:8080/"
        }
      },
      "source": [
        "#Evaluate the model \n",
        "model_2.evaluate(test_windows, test_labels)"
      ],
      "execution_count": 38,
      "outputs": [
        {
          "output_type": "stream",
          "name": "stdout",
          "text": [
            "11/11 [==============================] - 0s 2ms/step - loss: 12349.6396 - mse: 12349.6396 - mae: 72.7869\n"
          ]
        },
        {
          "output_type": "execute_result",
          "data": {
            "text/plain": [
              "[12349.6396484375, 12349.6396484375, 72.78694915771484]"
            ]
          },
          "metadata": {},
          "execution_count": 38
        }
      ]
    },
    {
      "cell_type": "code",
      "metadata": {
        "id": "XomxZ0OsdDOm",
        "outputId": "4d379d2a-629f-45ca-ef7f-cfa02258b4da",
        "colab": {
          "base_uri": "https://localhost:8080/"
        }
      },
      "source": [
        "#Load best performing model \n",
        "model_2 = tf.keras.models.load_model(\"model_experiments/model_2_dense/\")\n",
        "model_2.evaluate(test_windows, test_labels)"
      ],
      "execution_count": 39,
      "outputs": [
        {
          "output_type": "stream",
          "name": "stdout",
          "text": [
            "11/11 [==============================] - 0s 3ms/step - loss: 12183.8574 - mse: 12183.8574 - mae: 73.1006\n"
          ]
        },
        {
          "output_type": "execute_result",
          "data": {
            "text/plain": [
              "[12183.857421875, 12183.857421875, 73.10057067871094]"
            ]
          },
          "metadata": {},
          "execution_count": 39
        }
      ]
    },
    {
      "cell_type": "code",
      "metadata": {
        "id": "vvDDub0xdSrA"
      },
      "source": [
        "#Get forecast predictions\n",
        "model_2_preds = make_preds(model_2, test_windows)"
      ],
      "execution_count": 40,
      "outputs": []
    },
    {
      "cell_type": "code",
      "metadata": {
        "id": "Z4q8gh_ZdtsA",
        "outputId": "9d034df4-55a5-4f2f-904e-f5af53360610",
        "colab": {
          "base_uri": "https://localhost:8080/"
        }
      },
      "source": [
        "#Evaluate results\n",
        "model_2_results = evaluate_preds(tf.squeeze(test_labels), model_2_preds)\n",
        "model_2_results"
      ],
      "execution_count": 41,
      "outputs": [
        {
          "output_type": "execute_result",
          "data": {
            "text/plain": [
              "{'mae': 73.10057, 'mape': 73.10057, 'mse': 12183.859, 'rmse': 110.38052}"
            ]
          },
          "metadata": {},
          "execution_count": 41
        }
      ]
    },
    {
      "cell_type": "markdown",
      "metadata": {
        "id": "Euc8AnjLd3lc"
      },
      "source": [
        "## Model 3: Conv1D - W30/H1"
      ]
    },
    {
      "cell_type": "code",
      "metadata": {
        "id": "s-e_3OXpe70n",
        "outputId": "bcedd336-f1a6-41f6-baeb-38f6012dd06f",
        "colab": {
          "base_uri": "https://localhost:8080/"
        }
      },
      "source": [
        "#Window data\n",
        "HORIZON = 1\n",
        "WINDOW_SIZE = 30\n",
        "full_windows, full_labels = make_windows(prices, window_size=WINDOW_SIZE, horizon=HORIZON)\n",
        "len(full_windows), len(full_labels)"
      ],
      "execution_count": 42,
      "outputs": [
        {
          "output_type": "execute_result",
          "data": {
            "text/plain": [
              "(1676, 1676)"
            ]
          },
          "metadata": {},
          "execution_count": 42
        }
      ]
    },
    {
      "cell_type": "code",
      "metadata": {
        "id": "DUEi190Fe_Ag",
        "outputId": "93d7a45b-e70a-4ca8-9175-69700b43e483",
        "colab": {
          "base_uri": "https://localhost:8080/"
        }
      },
      "source": [
        "#Split data into train and test sets\n",
        "train_windows, test_windows, train_labels, test_labels = make_train_test_splits(full_windows, full_labels)\n",
        "len(train_windows), len(test_windows), len(train_labels), len(test_labels) "
      ],
      "execution_count": 43,
      "outputs": [
        {
          "output_type": "execute_result",
          "data": {
            "text/plain": [
              "(1340, 336, 1340, 336)"
            ]
          },
          "metadata": {},
          "execution_count": 43
        }
      ]
    },
    {
      "cell_type": "code",
      "metadata": {
        "id": "SB8f1BH0fBzx"
      },
      "source": [
        "#Build the model \n",
        "tf.random.set_seed(42)\n",
        "\n",
        "model_3 = tf.keras.Sequential([\n",
        "                               layers.Lambda(lambda x: tf.expand_dims(x, axis=1)),\n",
        "                               layers.Conv1D(filters=128, kernel_size=5, padding=\"causal\", activation=\"relu\"),\n",
        "                               layers.Dense(HORIZON)\n",
        "], name=\"model_3_Conv1D\")"
      ],
      "execution_count": 44,
      "outputs": []
    },
    {
      "cell_type": "code",
      "metadata": {
        "id": "8OwEmD23fkxg"
      },
      "source": [
        "#Compile the model\n",
        "model_3.compile(loss=\"mse\", optimizer=\"Adam\", metrics=[\"mse\", \"mae\"])"
      ],
      "execution_count": 45,
      "outputs": []
    },
    {
      "cell_type": "code",
      "metadata": {
        "id": "qwSK_sfbfuEO",
        "outputId": "c39519f2-cb1d-4634-892e-1eec1ee4248b",
        "colab": {
          "base_uri": "https://localhost:8080/"
        }
      },
      "source": [
        "#Fit the model\n",
        "history_model_3 = model_3.fit(train_windows, train_labels,\n",
        "                              epochs=100,\n",
        "                              verbose=0,\n",
        "                              batch_size=128,\n",
        "                              validation_data=(test_windows, test_labels),\n",
        "                              callbacks=[create_model_checkpoint(model_3.name)])"
      ],
      "execution_count": 46,
      "outputs": [
        {
          "output_type": "stream",
          "name": "stdout",
          "text": [
            "INFO:tensorflow:Assets written to: model_experiments/model_3_Conv1D/assets\n",
            "INFO:tensorflow:Assets written to: model_experiments/model_3_Conv1D/assets\n",
            "INFO:tensorflow:Assets written to: model_experiments/model_3_Conv1D/assets\n",
            "INFO:tensorflow:Assets written to: model_experiments/model_3_Conv1D/assets\n",
            "INFO:tensorflow:Assets written to: model_experiments/model_3_Conv1D/assets\n",
            "INFO:tensorflow:Assets written to: model_experiments/model_3_Conv1D/assets\n",
            "INFO:tensorflow:Assets written to: model_experiments/model_3_Conv1D/assets\n",
            "INFO:tensorflow:Assets written to: model_experiments/model_3_Conv1D/assets\n",
            "INFO:tensorflow:Assets written to: model_experiments/model_3_Conv1D/assets\n",
            "INFO:tensorflow:Assets written to: model_experiments/model_3_Conv1D/assets\n",
            "INFO:tensorflow:Assets written to: model_experiments/model_3_Conv1D/assets\n",
            "INFO:tensorflow:Assets written to: model_experiments/model_3_Conv1D/assets\n",
            "INFO:tensorflow:Assets written to: model_experiments/model_3_Conv1D/assets\n",
            "INFO:tensorflow:Assets written to: model_experiments/model_3_Conv1D/assets\n",
            "INFO:tensorflow:Assets written to: model_experiments/model_3_Conv1D/assets\n",
            "INFO:tensorflow:Assets written to: model_experiments/model_3_Conv1D/assets\n",
            "INFO:tensorflow:Assets written to: model_experiments/model_3_Conv1D/assets\n",
            "INFO:tensorflow:Assets written to: model_experiments/model_3_Conv1D/assets\n",
            "INFO:tensorflow:Assets written to: model_experiments/model_3_Conv1D/assets\n",
            "INFO:tensorflow:Assets written to: model_experiments/model_3_Conv1D/assets\n",
            "INFO:tensorflow:Assets written to: model_experiments/model_3_Conv1D/assets\n",
            "INFO:tensorflow:Assets written to: model_experiments/model_3_Conv1D/assets\n",
            "INFO:tensorflow:Assets written to: model_experiments/model_3_Conv1D/assets\n",
            "INFO:tensorflow:Assets written to: model_experiments/model_3_Conv1D/assets\n",
            "INFO:tensorflow:Assets written to: model_experiments/model_3_Conv1D/assets\n",
            "INFO:tensorflow:Assets written to: model_experiments/model_3_Conv1D/assets\n",
            "INFO:tensorflow:Assets written to: model_experiments/model_3_Conv1D/assets\n",
            "INFO:tensorflow:Assets written to: model_experiments/model_3_Conv1D/assets\n",
            "INFO:tensorflow:Assets written to: model_experiments/model_3_Conv1D/assets\n",
            "INFO:tensorflow:Assets written to: model_experiments/model_3_Conv1D/assets\n",
            "INFO:tensorflow:Assets written to: model_experiments/model_3_Conv1D/assets\n",
            "INFO:tensorflow:Assets written to: model_experiments/model_3_Conv1D/assets\n",
            "INFO:tensorflow:Assets written to: model_experiments/model_3_Conv1D/assets\n",
            "INFO:tensorflow:Assets written to: model_experiments/model_3_Conv1D/assets\n",
            "INFO:tensorflow:Assets written to: model_experiments/model_3_Conv1D/assets\n",
            "INFO:tensorflow:Assets written to: model_experiments/model_3_Conv1D/assets\n",
            "INFO:tensorflow:Assets written to: model_experiments/model_3_Conv1D/assets\n",
            "INFO:tensorflow:Assets written to: model_experiments/model_3_Conv1D/assets\n",
            "INFO:tensorflow:Assets written to: model_experiments/model_3_Conv1D/assets\n"
          ]
        }
      ]
    },
    {
      "cell_type": "code",
      "metadata": {
        "id": "zUk9LFsHgAlh",
        "outputId": "03e42068-32b5-493a-dacc-89c5d913305e",
        "colab": {
          "base_uri": "https://localhost:8080/"
        }
      },
      "source": [
        "#Evaluate the model\n",
        "model_3.evaluate(test_windows, test_labels)"
      ],
      "execution_count": 47,
      "outputs": [
        {
          "output_type": "stream",
          "name": "stdout",
          "text": [
            "11/11 [==============================] - 0s 3ms/step - loss: 25464.5527 - mse: 25464.5527 - mae: 117.7481\n"
          ]
        },
        {
          "output_type": "execute_result",
          "data": {
            "text/plain": [
              "[25464.552734375, 25464.552734375, 117.74813842773438]"
            ]
          },
          "metadata": {},
          "execution_count": 47
        }
      ]
    },
    {
      "cell_type": "code",
      "metadata": {
        "id": "ZVX44P3XgNnM",
        "outputId": "b77f7bd6-94b1-4ffb-95c6-dd042032ac5c",
        "colab": {
          "base_uri": "https://localhost:8080/"
        }
      },
      "source": [
        "#Load best performing model \n",
        "model_3 = tf.keras.models.load_model(\"model_experiments/model_3_Conv1D/\")\n",
        "model_3.evaluate(test_windows, test_labels)"
      ],
      "execution_count": 48,
      "outputs": [
        {
          "output_type": "stream",
          "name": "stdout",
          "text": [
            "11/11 [==============================] - 0s 3ms/step - loss: 16603.8965 - mse: 16603.8965 - mae: 87.4547\n"
          ]
        },
        {
          "output_type": "execute_result",
          "data": {
            "text/plain": [
              "[16603.896484375, 16603.896484375, 87.45471954345703]"
            ]
          },
          "metadata": {},
          "execution_count": 48
        }
      ]
    },
    {
      "cell_type": "code",
      "metadata": {
        "id": "lgo4DySdgbev"
      },
      "source": [
        "#Get forecast predictions\n",
        "model_3_preds = make_preds(model_3, test_windows)"
      ],
      "execution_count": 49,
      "outputs": []
    },
    {
      "cell_type": "code",
      "metadata": {
        "id": "vxJrjWaCgnKH",
        "outputId": "365fd8d7-8da2-4731-a791-1d41a5187f51",
        "colab": {
          "base_uri": "https://localhost:8080/"
        }
      },
      "source": [
        "#Evaluate results\n",
        "model_3_results = evaluate_preds(tf.squeeze(test_labels), model_3_preds)\n",
        "model_3_results"
      ],
      "execution_count": 50,
      "outputs": [
        {
          "output_type": "execute_result",
          "data": {
            "text/plain": [
              "{'mae': 87.45472, 'mape': 87.45472, 'mse': 16603.896, 'rmse': 128.85611}"
            ]
          },
          "metadata": {},
          "execution_count": 50
        }
      ]
    },
    {
      "cell_type": "markdown",
      "metadata": {
        "id": "57qzht9ZgzjO"
      },
      "source": [
        "## Model 4: LSTM - W30/H1"
      ]
    },
    {
      "cell_type": "code",
      "metadata": {
        "id": "wV9NjarvhbtP"
      },
      "source": [
        "#Build the model \n",
        "tf.random.set_seed(42)\n",
        "\n",
        "model_4 = tf.keras.Sequential([\n",
        "                               layers.Lambda(lambda x: tf.expand_dims(x, axis=1)),\n",
        "                               layers.LSTM(128, activation=\"relu\"),\n",
        "                               layers.Dense(HORIZON)\n",
        "], name=\"model_4_LSTM\")"
      ],
      "execution_count": 51,
      "outputs": []
    },
    {
      "cell_type": "code",
      "metadata": {
        "id": "VH_FBrmlh1uX"
      },
      "source": [
        "#Compile the model \n",
        "model_4.compile(loss=\"mse\", optimizer=\"Adam\", metrics=[\"mse\", \"mae\"])"
      ],
      "execution_count": 52,
      "outputs": []
    },
    {
      "cell_type": "code",
      "metadata": {
        "id": "5ELUdhuOh99u",
        "outputId": "0c816d8c-c88f-42de-f380-a0399b8e0611",
        "colab": {
          "base_uri": "https://localhost:8080/"
        }
      },
      "source": [
        "#Fit the model \n",
        "history_model_4 = model_4.fit(train_windows, train_labels, \n",
        "                              epochs=100,\n",
        "                              batch_size=128,\n",
        "                              verbose=0,\n",
        "                              validation_data=(test_windows, test_labels),\n",
        "                              callbacks=[create_model_checkpoint(model_4.name)])"
      ],
      "execution_count": 53,
      "outputs": [
        {
          "output_type": "stream",
          "name": "stdout",
          "text": [
            "INFO:tensorflow:Assets written to: model_experiments/model_4_LSTM/assets\n",
            "INFO:tensorflow:Assets written to: model_experiments/model_4_LSTM/assets\n",
            "INFO:tensorflow:Assets written to: model_experiments/model_4_LSTM/assets\n",
            "INFO:tensorflow:Assets written to: model_experiments/model_4_LSTM/assets\n",
            "INFO:tensorflow:Assets written to: model_experiments/model_4_LSTM/assets\n",
            "INFO:tensorflow:Assets written to: model_experiments/model_4_LSTM/assets\n",
            "INFO:tensorflow:Assets written to: model_experiments/model_4_LSTM/assets\n",
            "INFO:tensorflow:Assets written to: model_experiments/model_4_LSTM/assets\n",
            "INFO:tensorflow:Assets written to: model_experiments/model_4_LSTM/assets\n",
            "INFO:tensorflow:Assets written to: model_experiments/model_4_LSTM/assets\n",
            "INFO:tensorflow:Assets written to: model_experiments/model_4_LSTM/assets\n",
            "INFO:tensorflow:Assets written to: model_experiments/model_4_LSTM/assets\n",
            "INFO:tensorflow:Assets written to: model_experiments/model_4_LSTM/assets\n",
            "INFO:tensorflow:Assets written to: model_experiments/model_4_LSTM/assets\n",
            "INFO:tensorflow:Assets written to: model_experiments/model_4_LSTM/assets\n",
            "INFO:tensorflow:Assets written to: model_experiments/model_4_LSTM/assets\n",
            "INFO:tensorflow:Assets written to: model_experiments/model_4_LSTM/assets\n",
            "INFO:tensorflow:Assets written to: model_experiments/model_4_LSTM/assets\n",
            "INFO:tensorflow:Assets written to: model_experiments/model_4_LSTM/assets\n",
            "INFO:tensorflow:Assets written to: model_experiments/model_4_LSTM/assets\n",
            "INFO:tensorflow:Assets written to: model_experiments/model_4_LSTM/assets\n",
            "INFO:tensorflow:Assets written to: model_experiments/model_4_LSTM/assets\n",
            "INFO:tensorflow:Assets written to: model_experiments/model_4_LSTM/assets\n",
            "INFO:tensorflow:Assets written to: model_experiments/model_4_LSTM/assets\n",
            "INFO:tensorflow:Assets written to: model_experiments/model_4_LSTM/assets\n",
            "INFO:tensorflow:Assets written to: model_experiments/model_4_LSTM/assets\n",
            "INFO:tensorflow:Assets written to: model_experiments/model_4_LSTM/assets\n",
            "INFO:tensorflow:Assets written to: model_experiments/model_4_LSTM/assets\n",
            "INFO:tensorflow:Assets written to: model_experiments/model_4_LSTM/assets\n"
          ]
        }
      ]
    },
    {
      "cell_type": "code",
      "metadata": {
        "id": "yS1CmH6miOQP",
        "outputId": "c8735e5b-b818-46c3-a410-93f6ba700430",
        "colab": {
          "base_uri": "https://localhost:8080/"
        }
      },
      "source": [
        "#Evaluate the model \n",
        "model_4.evaluate(test_windows, test_labels)"
      ],
      "execution_count": 54,
      "outputs": [
        {
          "output_type": "stream",
          "name": "stdout",
          "text": [
            "11/11 [==============================] - 0s 4ms/step - loss: 19675.0098 - mse: 19675.0098 - mae: 94.2710\n"
          ]
        },
        {
          "output_type": "execute_result",
          "data": {
            "text/plain": [
              "[19675.009765625, 19675.009765625, 94.2710189819336]"
            ]
          },
          "metadata": {},
          "execution_count": 54
        }
      ]
    },
    {
      "cell_type": "code",
      "metadata": {
        "id": "XIy_l8gPiVGd",
        "outputId": "1227bf9f-c814-438e-9570-a1f389ae61bb",
        "colab": {
          "base_uri": "https://localhost:8080/"
        }
      },
      "source": [
        "#Load best model \n",
        "model_4 = tf.keras.models.load_model(\"model_experiments/model_4_LSTM/\")\n",
        "model_4.evaluate(test_windows, test_labels)"
      ],
      "execution_count": 55,
      "outputs": [
        {
          "output_type": "stream",
          "name": "stdout",
          "text": [
            "11/11 [==============================] - 0s 3ms/step - loss: 18709.8535 - mse: 18709.8535 - mae: 87.6190\n"
          ]
        },
        {
          "output_type": "execute_result",
          "data": {
            "text/plain": [
              "[18709.853515625, 18709.853515625, 87.61897277832031]"
            ]
          },
          "metadata": {},
          "execution_count": 55
        }
      ]
    },
    {
      "cell_type": "code",
      "metadata": {
        "id": "dXl_wRT6idnA"
      },
      "source": [
        "#Get forecast predictions\n",
        "model_4_preds = make_preds(model_4, test_windows)"
      ],
      "execution_count": 56,
      "outputs": []
    },
    {
      "cell_type": "code",
      "metadata": {
        "id": "4ZHrdF2vimh8",
        "outputId": "5abcf242-b714-4642-f962-091d987337d0",
        "colab": {
          "base_uri": "https://localhost:8080/"
        }
      },
      "source": [
        "#Evaluate on forecast predictions\n",
        "model_4_results = evaluate_preds(tf.squeeze(test_labels), model_4_preds)\n",
        "model_4_results"
      ],
      "execution_count": 57,
      "outputs": [
        {
          "output_type": "execute_result",
          "data": {
            "text/plain": [
              "{'mae': 87.61898, 'mape': 87.61898, 'mse': 18709.855, 'rmse': 136.78398}"
            ]
          },
          "metadata": {},
          "execution_count": 57
        }
      ]
    },
    {
      "cell_type": "markdown",
      "metadata": {
        "id": "GtHNp4uviwkz"
      },
      "source": [
        "## Compare Experiments"
      ]
    },
    {
      "cell_type": "code",
      "metadata": {
        "id": "R1ZQRX6gi6oO",
        "outputId": "b3d05a35-557f-40ca-f7f3-653999652d63",
        "colab": {
          "base_uri": "https://localhost:8080/",
          "height": 175
        }
      },
      "source": [
        "model_results = pd.DataFrame({\"model_1_dense_w30_h1\": model_1_results,\n",
        "                              \"model_2_dense_w15_h1\": model_2_results,\n",
        "                              \"model_3_Conv1D_w30_h1\": model_3_results,\n",
        "                              \"model_4_LSTM_w30_h1\": model_4_results}).T\n",
        "model_results"
      ],
      "execution_count": 58,
      "outputs": [
        {
          "output_type": "execute_result",
          "data": {
            "text/html": [
              "<div>\n",
              "<style scoped>\n",
              "    .dataframe tbody tr th:only-of-type {\n",
              "        vertical-align: middle;\n",
              "    }\n",
              "\n",
              "    .dataframe tbody tr th {\n",
              "        vertical-align: top;\n",
              "    }\n",
              "\n",
              "    .dataframe thead th {\n",
              "        text-align: right;\n",
              "    }\n",
              "</style>\n",
              "<table border=\"1\" class=\"dataframe\">\n",
              "  <thead>\n",
              "    <tr style=\"text-align: right;\">\n",
              "      <th></th>\n",
              "      <th>mae</th>\n",
              "      <th>mse</th>\n",
              "      <th>rmse</th>\n",
              "      <th>mape</th>\n",
              "    </tr>\n",
              "  </thead>\n",
              "  <tbody>\n",
              "    <tr>\n",
              "      <th>model_1_dense_w30_h1</th>\n",
              "      <td>71.770348</td>\n",
              "      <td>12601.738281</td>\n",
              "      <td>112.257462</td>\n",
              "      <td>71.770348</td>\n",
              "    </tr>\n",
              "    <tr>\n",
              "      <th>model_2_dense_w15_h1</th>\n",
              "      <td>73.100571</td>\n",
              "      <td>12183.859375</td>\n",
              "      <td>110.380524</td>\n",
              "      <td>73.100571</td>\n",
              "    </tr>\n",
              "    <tr>\n",
              "      <th>model_3_Conv1D_w30_h1</th>\n",
              "      <td>87.454720</td>\n",
              "      <td>16603.896484</td>\n",
              "      <td>128.856110</td>\n",
              "      <td>87.454720</td>\n",
              "    </tr>\n",
              "    <tr>\n",
              "      <th>model_4_LSTM_w30_h1</th>\n",
              "      <td>87.618980</td>\n",
              "      <td>18709.855469</td>\n",
              "      <td>136.783981</td>\n",
              "      <td>87.618980</td>\n",
              "    </tr>\n",
              "  </tbody>\n",
              "</table>\n",
              "</div>"
            ],
            "text/plain": [
              "                             mae           mse        rmse       mape\n",
              "model_1_dense_w30_h1   71.770348  12601.738281  112.257462  71.770348\n",
              "model_2_dense_w15_h1   73.100571  12183.859375  110.380524  73.100571\n",
              "model_3_Conv1D_w30_h1  87.454720  16603.896484  128.856110  87.454720\n",
              "model_4_LSTM_w30_h1    87.618980  18709.855469  136.783981  87.618980"
            ]
          },
          "metadata": {},
          "execution_count": 58
        }
      ]
    },
    {
      "cell_type": "code",
      "metadata": {
        "id": "dsPSp3nrjQoX",
        "outputId": "0e54435d-d5ce-4122-845c-0444a1c0fa87",
        "colab": {
          "base_uri": "https://localhost:8080/",
          "height": 175
        }
      },
      "source": [
        "model_results[[\"mae\"]].sort_values(by=\"mae\")"
      ],
      "execution_count": 60,
      "outputs": [
        {
          "output_type": "execute_result",
          "data": {
            "text/html": [
              "<div>\n",
              "<style scoped>\n",
              "    .dataframe tbody tr th:only-of-type {\n",
              "        vertical-align: middle;\n",
              "    }\n",
              "\n",
              "    .dataframe tbody tr th {\n",
              "        vertical-align: top;\n",
              "    }\n",
              "\n",
              "    .dataframe thead th {\n",
              "        text-align: right;\n",
              "    }\n",
              "</style>\n",
              "<table border=\"1\" class=\"dataframe\">\n",
              "  <thead>\n",
              "    <tr style=\"text-align: right;\">\n",
              "      <th></th>\n",
              "      <th>mae</th>\n",
              "    </tr>\n",
              "  </thead>\n",
              "  <tbody>\n",
              "    <tr>\n",
              "      <th>model_1_dense_w30_h1</th>\n",
              "      <td>71.770348</td>\n",
              "    </tr>\n",
              "    <tr>\n",
              "      <th>model_2_dense_w15_h1</th>\n",
              "      <td>73.100571</td>\n",
              "    </tr>\n",
              "    <tr>\n",
              "      <th>model_3_Conv1D_w30_h1</th>\n",
              "      <td>87.454720</td>\n",
              "    </tr>\n",
              "    <tr>\n",
              "      <th>model_4_LSTM_w30_h1</th>\n",
              "      <td>87.618980</td>\n",
              "    </tr>\n",
              "  </tbody>\n",
              "</table>\n",
              "</div>"
            ],
            "text/plain": [
              "                             mae\n",
              "model_1_dense_w30_h1   71.770348\n",
              "model_2_dense_w15_h1   73.100571\n",
              "model_3_Conv1D_w30_h1  87.454720\n",
              "model_4_LSTM_w30_h1    87.618980"
            ]
          },
          "metadata": {},
          "execution_count": 60
        }
      ]
    },
    {
      "cell_type": "markdown",
      "metadata": {
        "id": "oa_EN5MCjje8"
      },
      "source": [
        "## Scaling data"
      ]
    }
  ]
}