{
  "nbformat": 4,
  "nbformat_minor": 0,
  "metadata": {
    "colab": {
      "name": "Time_series_forecasting_eth_price.ipynb",
      "provenance": [],
      "toc_visible": true,
      "authorship_tag": "ABX9TyPokXVjxoeX9MoEGxGDFvLL",
      "include_colab_link": true
    },
    "kernelspec": {
      "name": "python3",
      "display_name": "Python 3"
    },
    "language_info": {
      "name": "python"
    }
  },
  "cells": [
    {
      "cell_type": "markdown",
      "metadata": {
        "id": "view-in-github",
        "colab_type": "text"
      },
      "source": [
        "<a href=\"https://colab.research.google.com/github/schauppi/Udemy_TensorFlow_Developer/blob/main/Exam_preparation/Time_series_forecasting_eth_price.ipynb\" target=\"_parent\"><img src=\"https://colab.research.google.com/assets/colab-badge.svg\" alt=\"Open In Colab\"/></a>"
      ]
    },
    {
      "cell_type": "code",
      "metadata": {
        "colab": {
          "base_uri": "https://localhost:8080/"
        },
        "id": "ENpaax5qrjbI",
        "outputId": "ab9800cd-3741-4d5d-b098-07f56e4dd05d"
      },
      "source": [
        "#Download ETH dataset\n",
        "!wget https://raw.githubusercontent.com/schauppi/Udemy_TensorFlow_Developer/main/Exam_preparation/Datasets/ETH_Coindesk.csv"
      ],
      "execution_count": 1,
      "outputs": [
        {
          "output_type": "stream",
          "name": "stdout",
          "text": [
            "--2021-08-31 15:17:59--  https://raw.githubusercontent.com/schauppi/Udemy_TensorFlow_Developer/main/Exam_preparation/Datasets/ETH_Coindesk.csv\n",
            "Resolving raw.githubusercontent.com (raw.githubusercontent.com)... 185.199.109.133, 185.199.110.133, 185.199.111.133, ...\n",
            "Connecting to raw.githubusercontent.com (raw.githubusercontent.com)|185.199.109.133|:443... connected.\n",
            "HTTP request sent, awaiting response... 200 OK\n",
            "Length: 115669 (113K) [text/plain]\n",
            "Saving to: ‘ETH_Coindesk.csv’\n",
            "\n",
            "\rETH_Coindesk.csv      0%[                    ]       0  --.-KB/s               \rETH_Coindesk.csv    100%[===================>] 112.96K  --.-KB/s    in 0.02s   \n",
            "\n",
            "2021-08-31 15:17:59 (5.31 MB/s) - ‘ETH_Coindesk.csv’ saved [115669/115669]\n",
            "\n"
          ]
        }
      ]
    },
    {
      "cell_type": "code",
      "metadata": {
        "colab": {
          "base_uri": "https://localhost:8080/",
          "height": 236
        },
        "id": "JGrTnVkqr1qC",
        "outputId": "dce1e01f-873b-4967-a70a-7343b1d72ffe"
      },
      "source": [
        "#Import Data\n",
        "import pandas as pd\n",
        "df = pd.read_csv(\"/content/ETH_Coindesk.csv\", parse_dates=[\"Date\"], index_col=[\"Date\"])\n",
        "df.head()"
      ],
      "execution_count": 2,
      "outputs": [
        {
          "output_type": "execute_result",
          "data": {
            "text/html": [
              "<div>\n",
              "<style scoped>\n",
              "    .dataframe tbody tr th:only-of-type {\n",
              "        vertical-align: middle;\n",
              "    }\n",
              "\n",
              "    .dataframe tbody tr th {\n",
              "        vertical-align: top;\n",
              "    }\n",
              "\n",
              "    .dataframe thead th {\n",
              "        text-align: right;\n",
              "    }\n",
              "</style>\n",
              "<table border=\"1\" class=\"dataframe\">\n",
              "  <thead>\n",
              "    <tr style=\"text-align: right;\">\n",
              "      <th></th>\n",
              "      <th>Currency</th>\n",
              "      <th>Closing Price (USD)</th>\n",
              "      <th>24h Open (USD)</th>\n",
              "      <th>24h High (USD)</th>\n",
              "      <th>24h Low (USD)</th>\n",
              "    </tr>\n",
              "    <tr>\n",
              "      <th>Date</th>\n",
              "      <th></th>\n",
              "      <th></th>\n",
              "      <th></th>\n",
              "      <th></th>\n",
              "      <th></th>\n",
              "    </tr>\n",
              "  </thead>\n",
              "  <tbody>\n",
              "    <tr>\n",
              "      <th>2016-12-15</th>\n",
              "      <td>ETH</td>\n",
              "      <td>8.195936</td>\n",
              "      <td>8.394537</td>\n",
              "      <td>8.440725</td>\n",
              "      <td>8.044697</td>\n",
              "    </tr>\n",
              "    <tr>\n",
              "      <th>2016-12-16</th>\n",
              "      <td>ETH</td>\n",
              "      <td>7.836525</td>\n",
              "      <td>8.195936</td>\n",
              "      <td>8.206139</td>\n",
              "      <td>7.694463</td>\n",
              "    </tr>\n",
              "    <tr>\n",
              "      <th>2016-12-17</th>\n",
              "      <td>ETH</td>\n",
              "      <td>7.709642</td>\n",
              "      <td>7.836525</td>\n",
              "      <td>7.892591</td>\n",
              "      <td>7.699776</td>\n",
              "    </tr>\n",
              "    <tr>\n",
              "      <th>2016-12-18</th>\n",
              "      <td>ETH</td>\n",
              "      <td>7.813304</td>\n",
              "      <td>7.709642</td>\n",
              "      <td>7.939579</td>\n",
              "      <td>7.495653</td>\n",
              "    </tr>\n",
              "    <tr>\n",
              "      <th>2016-12-19</th>\n",
              "      <td>ETH</td>\n",
              "      <td>7.735086</td>\n",
              "      <td>7.813304</td>\n",
              "      <td>7.926575</td>\n",
              "      <td>7.690697</td>\n",
              "    </tr>\n",
              "  </tbody>\n",
              "</table>\n",
              "</div>"
            ],
            "text/plain": [
              "           Currency  Closing Price (USD)  ...  24h High (USD)  24h Low (USD)\n",
              "Date                                      ...                               \n",
              "2016-12-15      ETH             8.195936  ...        8.440725       8.044697\n",
              "2016-12-16      ETH             7.836525  ...        8.206139       7.694463\n",
              "2016-12-17      ETH             7.709642  ...        7.892591       7.699776\n",
              "2016-12-18      ETH             7.813304  ...        7.939579       7.495653\n",
              "2016-12-19      ETH             7.735086  ...        7.926575       7.690697\n",
              "\n",
              "[5 rows x 5 columns]"
            ]
          },
          "metadata": {},
          "execution_count": 2
        }
      ]
    },
    {
      "cell_type": "code",
      "metadata": {
        "colab": {
          "base_uri": "https://localhost:8080/"
        },
        "id": "g2KfFOx8snZH",
        "outputId": "9f72f3f2-320e-41df-9192-c7fda96f1616"
      },
      "source": [
        "#Get more info about the data\n",
        "df.info()"
      ],
      "execution_count": 3,
      "outputs": [
        {
          "output_type": "stream",
          "name": "stdout",
          "text": [
            "<class 'pandas.core.frame.DataFrame'>\n",
            "DatetimeIndex: 1706 entries, 2016-12-15 to 2021-08-31\n",
            "Data columns (total 5 columns):\n",
            " #   Column               Non-Null Count  Dtype  \n",
            "---  ------               --------------  -----  \n",
            " 0   Currency             1706 non-null   object \n",
            " 1   Closing Price (USD)  1706 non-null   float64\n",
            " 2   24h Open (USD)       1706 non-null   float64\n",
            " 3   24h High (USD)       1706 non-null   float64\n",
            " 4   24h Low (USD)        1706 non-null   float64\n",
            "dtypes: float64(4), object(1)\n",
            "memory usage: 80.0+ KB\n"
          ]
        }
      ]
    },
    {
      "cell_type": "code",
      "metadata": {
        "colab": {
          "base_uri": "https://localhost:8080/"
        },
        "id": "vrUQd3g0r-2E",
        "outputId": "bcd77388-42a4-4412-c0b1-27e7ff76550a"
      },
      "source": [
        "#How many samples in the datset\n",
        "len(df)"
      ],
      "execution_count": 4,
      "outputs": [
        {
          "output_type": "execute_result",
          "data": {
            "text/plain": [
              "1706"
            ]
          },
          "metadata": {},
          "execution_count": 4
        }
      ]
    },
    {
      "cell_type": "code",
      "metadata": {
        "colab": {
          "base_uri": "https://localhost:8080/",
          "height": 236
        },
        "id": "EPKTO-cUsLE6",
        "outputId": "51c4c9df-2ad7-404b-a433-6dae59d4ef15"
      },
      "source": [
        "#Use only the ETH closing price and rename columns\n",
        "ether_price = pd.DataFrame(df['Closing Price (USD)']).rename(columns={\"Closing Price (USD)\": \"Price\"})\n",
        "ether_price.head()"
      ],
      "execution_count": 5,
      "outputs": [
        {
          "output_type": "execute_result",
          "data": {
            "text/html": [
              "<div>\n",
              "<style scoped>\n",
              "    .dataframe tbody tr th:only-of-type {\n",
              "        vertical-align: middle;\n",
              "    }\n",
              "\n",
              "    .dataframe tbody tr th {\n",
              "        vertical-align: top;\n",
              "    }\n",
              "\n",
              "    .dataframe thead th {\n",
              "        text-align: right;\n",
              "    }\n",
              "</style>\n",
              "<table border=\"1\" class=\"dataframe\">\n",
              "  <thead>\n",
              "    <tr style=\"text-align: right;\">\n",
              "      <th></th>\n",
              "      <th>Price</th>\n",
              "    </tr>\n",
              "    <tr>\n",
              "      <th>Date</th>\n",
              "      <th></th>\n",
              "    </tr>\n",
              "  </thead>\n",
              "  <tbody>\n",
              "    <tr>\n",
              "      <th>2016-12-15</th>\n",
              "      <td>8.195936</td>\n",
              "    </tr>\n",
              "    <tr>\n",
              "      <th>2016-12-16</th>\n",
              "      <td>7.836525</td>\n",
              "    </tr>\n",
              "    <tr>\n",
              "      <th>2016-12-17</th>\n",
              "      <td>7.709642</td>\n",
              "    </tr>\n",
              "    <tr>\n",
              "      <th>2016-12-18</th>\n",
              "      <td>7.813304</td>\n",
              "    </tr>\n",
              "    <tr>\n",
              "      <th>2016-12-19</th>\n",
              "      <td>7.735086</td>\n",
              "    </tr>\n",
              "  </tbody>\n",
              "</table>\n",
              "</div>"
            ],
            "text/plain": [
              "               Price\n",
              "Date                \n",
              "2016-12-15  8.195936\n",
              "2016-12-16  7.836525\n",
              "2016-12-17  7.709642\n",
              "2016-12-18  7.813304\n",
              "2016-12-19  7.735086"
            ]
          },
          "metadata": {},
          "execution_count": 5
        }
      ]
    },
    {
      "cell_type": "code",
      "metadata": {
        "colab": {
          "base_uri": "https://localhost:8080/",
          "height": 451
        },
        "id": "5EwZfCpXtWgq",
        "outputId": "19a78ad5-3d64-4140-b953-5dc7dfbd67ce"
      },
      "source": [
        "#Plot Ether price\n",
        "import matplotlib.pyplot as plt\n",
        "ether_price.plot(figsize=(10,7))\n",
        "plt.ylabel(\"ETH Price\")\n",
        "plt.title(\"Ethereum Historical Price Chart\", fontsize=16)\n",
        "plt.legend(fontsize=14)"
      ],
      "execution_count": 6,
      "outputs": [
        {
          "output_type": "execute_result",
          "data": {
            "text/plain": [
              "<matplotlib.legend.Legend at 0x7fb7a1785ad0>"
            ]
          },
          "metadata": {},
          "execution_count": 6
        },
        {
          "output_type": "display_data",
          "data": {
            "image/png": "[encoded data removed]",
            "text/plain": [
              "<Figure size 720x504 with 1 Axes>"
            ]
          },
          "metadata": {
            "needs_background": "light"
          }
        }
      ]
    },
    {
      "cell_type": "code",
      "metadata": {
        "colab": {
          "base_uri": "https://localhost:8080/"
        },
        "id": "9ERbncFB3dJx",
        "outputId": "6ba55434-89d3-4e86-d56a-b2f8588bf909"
      },
      "source": [
        "#Get ETH price and date array\n",
        "timesteps = ether_price.index.to_numpy()\n",
        "prices = ether_price[\"Price\"].to_numpy()\n",
        "timesteps[:10], prices[:10]"
      ],
      "execution_count": 7,
      "outputs": [
        {
          "output_type": "execute_result",
          "data": {
            "text/plain": [
              "(array(['2016-12-15T00:00:00.000000000', '2016-12-16T00:00:00.000000000',\n",
              "        '2016-12-17T00:00:00.000000000', '2016-12-18T00:00:00.000000000',\n",
              "        '2016-12-19T00:00:00.000000000', '2016-12-20T00:00:00.000000000',\n",
              "        '2016-12-21T00:00:00.000000000', '2016-12-22T00:00:00.000000000',\n",
              "        '2016-12-23T00:00:00.000000000', '2016-12-24T00:00:00.000000000'],\n",
              "       dtype='datetime64[ns]'),\n",
              " array([8.195936, 7.836525, 7.709642, 7.813304, 7.735086, 7.601047,\n",
              "        7.675313, 7.569866, 7.601819, 7.221961]))"
            ]
          },
          "metadata": {},
          "execution_count": 7
        }
      ]
    },
    {
      "cell_type": "code",
      "metadata": {
        "colab": {
          "base_uri": "https://localhost:8080/"
        },
        "id": "zAPw5KSH3vc8",
        "outputId": "bc5f6216-3a04-4dd9-d453-967406a5eff5"
      },
      "source": [
        "#Create train and test sets\n",
        "split_size = int(0.8 * len(prices))\n",
        "y_train, x_train = prices[:split_size], timesteps[:split_size]\n",
        "y_test, x_test = prices[split_size:], timesteps[split_size:]\n",
        "len(x_train), len(x_test), len(y_train), len(y_test)"
      ],
      "execution_count": 8,
      "outputs": [
        {
          "output_type": "execute_result",
          "data": {
            "text/plain": [
              "(1364, 342, 1364, 342)"
            ]
          },
          "metadata": {},
          "execution_count": 8
        }
      ]
    },
    {
      "cell_type": "code",
      "metadata": {
        "colab": {
          "base_uri": "https://localhost:8080/",
          "height": 459
        },
        "id": "iqyJNTAB4hqo",
        "outputId": "79b70161-4e5c-4ef3-a993-bb2061dfcba4"
      },
      "source": [
        "#Plot the train and test split\n",
        "plt.figure(figsize=(10,7))\n",
        "plt.scatter(x_train, y_train, label=\"Train data\")\n",
        "plt.scatter(x_test, y_test, label=\"Test data\")\n",
        "plt.xlabel(\"Date\")\n",
        "plt.ylabel(\"ETH Price\")\n",
        "plt.legend()"
      ],
      "execution_count": 9,
      "outputs": [
        {
          "output_type": "execute_result",
          "data": {
            "text/plain": [
              "<matplotlib.legend.Legend at 0x7fb7a1158150>"
            ]
          },
          "metadata": {},
          "execution_count": 9
        },
        {
          "output_type": "display_data",
          "data": {
            "image/png": "[encoded data removed]",
            "text/plain": [
              "<Figure size 720x504 with 1 Axes>"
            ]
          },
          "metadata": {
            "needs_background": "light"
          }
        }
      ]
    },
    {
      "cell_type": "code",
      "metadata": {
        "id": "DoIHBVEI43xK"
      },
      "source": [
        "def plot_time_series(timesteps, values, format=\".\", start=0, end=None, label=None):\n",
        "  \"\"\"\n",
        "  Plots timesteps against values\n",
        "  Parameters\n",
        "  ----------\n",
        "  timesteps: array of timesteps\n",
        "  values: array of values across time\n",
        "  format: style of plot, default \".\"\n",
        "  start: where to start the plot (setting a value will index from start of timesteps & values)\n",
        "  ende: where to ende the plot (setting a value will index from end of timesteps & values)\n",
        "  label: label to show on plot of values\n",
        "  \"\"\"\n",
        "  plt.plot(timesteps[start:end], values[start:end], format, label=label)\n",
        "  plt.xlabel(\"Time\")\n",
        "  plt.ylabel(\"Values\")\n",
        "  if label:\n",
        "    plt.legend(fontsize=14)\n",
        "  plt.grid(True)"
      ],
      "execution_count": 10,
      "outputs": []
    },
    {
      "cell_type": "code",
      "metadata": {
        "colab": {
          "base_uri": "https://localhost:8080/",
          "height": 442
        },
        "id": "ghVCWjlL9F0O",
        "outputId": "d6dedabe-cd98-4ef0-b478-69c01af06060"
      },
      "source": [
        "plt.figure(figsize=(10,7))\n",
        "plot_time_series(x_train, y_train, label=\"Train Data\")\n",
        "plot_time_series(x_test, y_test, label=\"Test Data\")"
      ],
      "execution_count": 11,
      "outputs": [
        {
          "output_type": "display_data",
          "data": {
            "image/png": "[encoded data removed]",
            "text/plain": [
              "<Figure size 720x504 with 1 Axes>"
            ]
          },
          "metadata": {
            "needs_background": "light"
          }
        }
      ]
    },
    {
      "cell_type": "code",
      "metadata": {
        "id": "3mCZoK-T_PUx"
      },
      "source": [
        "import numpy as np\n",
        "\n",
        "def make_windows(x, window_size=7, horizon=1):\n",
        "  \"\"\"\n",
        "  Turn a 1D array into a 2D array of sequential windows of window_size\n",
        "  \"\"\"\n",
        "  # 1. Create a window of specific window_size (add the horizon on the end for later labelling)\n",
        "  window_step = np.expand_dims(np.arange(window_size + horizon), axis=0)\n",
        "\n",
        "  # 2. Create 2D array of multiple window steps (minus 1 to account for indexing)\n",
        "  window_indexes = window_step + np.expand_dims(np.arange(len(x)-(window_size+horizon-1)), axis=0).T #create 2D array of windows of size window_size\n",
        "\n",
        "  # 3. Index on the target array (time series) with 2D array of multiple window steps\n",
        "  windowed_array = x[window_indexes]\n",
        "\n",
        "  # Get the labelled windows\n",
        "  windows, labels = windowed_array[:, :-horizon], windowed_array[:, -horizon:]\n",
        "\n",
        "  return windows, labels"
      ],
      "execution_count": 12,
      "outputs": []
    },
    {
      "cell_type": "code",
      "metadata": {
        "colab": {
          "base_uri": "https://localhost:8080/"
        },
        "id": "zV3_BxfqAxWA",
        "outputId": "6221dba4-6126-4fcf-d644-c6a0ae523816"
      },
      "source": [
        "prices[:10], timesteps[:10]"
      ],
      "execution_count": 13,
      "outputs": [
        {
          "output_type": "execute_result",
          "data": {
            "text/plain": [
              "(array([8.195936, 7.836525, 7.709642, 7.813304, 7.735086, 7.601047,\n",
              "        7.675313, 7.569866, 7.601819, 7.221961]),\n",
              " array(['2016-12-15T00:00:00.000000000', '2016-12-16T00:00:00.000000000',\n",
              "        '2016-12-17T00:00:00.000000000', '2016-12-18T00:00:00.000000000',\n",
              "        '2016-12-19T00:00:00.000000000', '2016-12-20T00:00:00.000000000',\n",
              "        '2016-12-21T00:00:00.000000000', '2016-12-22T00:00:00.000000000',\n",
              "        '2016-12-23T00:00:00.000000000', '2016-12-24T00:00:00.000000000'],\n",
              "       dtype='datetime64[ns]'))"
            ]
          },
          "metadata": {},
          "execution_count": 13
        }
      ]
    },
    {
      "cell_type": "code",
      "metadata": {
        "colab": {
          "base_uri": "https://localhost:8080/"
        },
        "id": "y11_Sr1qA2PI",
        "outputId": "35747299-2203-412a-f4d6-69538bbcfb5c"
      },
      "source": [
        "HORIZON = 1\n",
        "WINDOW_SIZE = 7\n",
        "full_windows, full_labels = make_windows(prices, window_size=WINDOW_SIZE, horizon=HORIZON)\n",
        "len(full_windows), len(full_labels)"
      ],
      "execution_count": 14,
      "outputs": [
        {
          "output_type": "execute_result",
          "data": {
            "text/plain": [
              "(1699, 1699)"
            ]
          },
          "metadata": {},
          "execution_count": 14
        }
      ]
    },
    {
      "cell_type": "code",
      "metadata": {
        "colab": {
          "base_uri": "https://localhost:8080/"
        },
        "id": "oWnT-x0oBC_r",
        "outputId": "7a2da12a-ab00-4ff9-d5f3-ffa01a3228ab"
      },
      "source": [
        "for i in range(5):\n",
        "  print(f\"WIndow: {full_windows[i]}, Label: {full_labels[i]}\")"
      ],
      "execution_count": 15,
      "outputs": [
        {
          "output_type": "stream",
          "name": "stdout",
          "text": [
            "WIndow: [8.195936 7.836525 7.709642 7.813304 7.735086 7.601047 7.675313], Label: [7.569866]\n",
            "WIndow: [7.836525 7.709642 7.813304 7.735086 7.601047 7.675313 7.569866], Label: [7.601819]\n",
            "WIndow: [7.709642 7.813304 7.735086 7.601047 7.675313 7.569866 7.601819], Label: [7.221961]\n",
            "WIndow: [7.813304 7.735086 7.601047 7.675313 7.569866 7.601819 7.221961], Label: [7.256569]\n",
            "WIndow: [7.735086 7.601047 7.675313 7.569866 7.601819 7.221961 7.256569], Label: [7.260191]\n"
          ]
        }
      ]
    },
    {
      "cell_type": "code",
      "metadata": {
        "id": "WHATzR0QCHYl"
      },
      "source": [
        "#Function for creating train and test splits\n",
        "def make_train_test_splits(windows, labels, test_split=0.2):\n",
        "  \"\"\"\n",
        "  Splits matching pairs of windows and labels into train and test splits\n",
        "  \"\"\"\n",
        "  split_size = int(len(windows) * (1 - test_split))\n",
        "  train_windows = windows[:split_size]\n",
        "  train_labels = labels[:split_size]\n",
        "  test_windows = windows[split_size:]\n",
        "  test_labels = labels[split_size:]\n",
        "  return train_windows, test_windows, train_labels, test_labels"
      ],
      "execution_count": 16,
      "outputs": []
    },
    {
      "cell_type": "code",
      "metadata": {
        "colab": {
          "base_uri": "https://localhost:8080/"
        },
        "id": "UfsB3HbODHdk",
        "outputId": "98b602aa-58b6-498d-ff7b-ba6a736b1399"
      },
      "source": [
        "train_windows, test_windows, train_labels, test_labels = make_train_test_splits(full_windows, full_labels)\n",
        "len(train_windows), len(test_windows), len(train_labels), len(test_labels) "
      ],
      "execution_count": 17,
      "outputs": [
        {
          "output_type": "execute_result",
          "data": {
            "text/plain": [
              "(1359, 340, 1359, 340)"
            ]
          },
          "metadata": {},
          "execution_count": 17
        }
      ]
    },
    {
      "cell_type": "code",
      "metadata": {
        "id": "Tu19eQAEDqfd"
      },
      "source": [
        "import tensorflow as tf\n",
        "import os\n",
        "#Function for implementing a model checkpoint\n",
        "def create_model_checkpoint(model_name, save_path=\"model_experiments\"):\n",
        "  return tf.keras.callbacks.ModelCheckpoint(filepath=os.path.join(save_path, model_name), # create filepath to save model\n",
        "                                              verbose=0, # only output a limited amount of text\n",
        "                                              save_best_only=True) # save only the best model to file"
      ],
      "execution_count": 18,
      "outputs": []
    },
    {
      "cell_type": "code",
      "metadata": {
        "id": "UhseR5SsEQUV"
      },
      "source": [
        "#Create an evaluation function\n",
        "def evaluate_preds(y_true, y_pred):\n",
        "  y_true = tf.cast(y_true, dtype=tf.float32)\n",
        "  y_pred = tf.cast(y_pred, dtype=tf.float32)\n",
        "\n",
        "  mae = tf.keras.metrics.mean_absolute_error(y_true, y_pred)\n",
        "  mse = tf.keras.metrics.mean_squared_error(y_true, y_pred)\n",
        "  rmse = tf.sqrt(mse)\n",
        "  mape = tf.keras.metrics.mean_absolute_error(y_true, y_pred)\n",
        "\n",
        "  if mae.ndim > 0:\n",
        "    mae = tf.reduce_mean(mae)\n",
        "    mse = tf.reduce_mean(mse)\n",
        "    rmse = tf.reduce_mean(rmse)\n",
        "    mape = tf.reduce_mean(mape)\n",
        "\n",
        "  return {\"mae\": mae.numpy(),\n",
        "          \"mse\": mse.numpy(),\n",
        "          \"rmse\": rmse.numpy(),\n",
        "          \"mape\": mape.numpy()}"
      ],
      "execution_count": 19,
      "outputs": []
    },
    {
      "cell_type": "code",
      "metadata": {
        "id": "mScf8E5GI0uU"
      },
      "source": [
        "import tensorflow as tf\n",
        "from tensorflow.keras import layers\n",
        "tf.random.set_seed(42)"
      ],
      "execution_count": 20,
      "outputs": []
    },
    {
      "cell_type": "markdown",
      "metadata": {
        "id": "lb0Nomw3bfqB"
      },
      "source": [
        "## Model 1: Dense model - W30/H1"
      ]
    },
    {
      "cell_type": "code",
      "metadata": {
        "id": "sBW66ai_IAFK"
      },
      "source": [
        "#Build the model\n",
        "\n",
        "model_1 = tf.keras.Sequential([\n",
        "                               layers.Dense(128, activation=\"relu\"),\n",
        "                               layers.Dense(HORIZON)\n",
        "                               \n",
        "], name=\"model_1_dense\")"
      ],
      "execution_count": 21,
      "outputs": []
    },
    {
      "cell_type": "code",
      "metadata": {
        "id": "RCI29sT9JLUG"
      },
      "source": [
        "#Compile the model\n",
        "model_1.compile(loss=\"mae\", optimizer=\"Adam\", metrics=[\"mae\", \"mse\"])"
      ],
      "execution_count": 22,
      "outputs": []
    },
    {
      "cell_type": "code",
      "metadata": {
        "colab": {
          "base_uri": "https://localhost:8080/"
        },
        "id": "UnLZwRbTJaqh",
        "outputId": "2df264b1-f1a5-4e03-833f-349cbc268a4a"
      },
      "source": [
        "#Fit the model\n",
        "history_model_1 = model_1.fit(train_windows, train_labels,\n",
        "                              epochs=100,\n",
        "                              batch_size=128,\n",
        "                              verbose=0,\n",
        "                              validation_data=(test_windows, test_labels),\n",
        "                              callbacks=[create_model_checkpoint(model_1.name)])"
      ],
      "execution_count": 23,
      "outputs": [
        {
          "output_type": "stream",
          "name": "stdout",
          "text": [
            "INFO:tensorflow:Assets written to: model_experiments/model_1_dense/assets\n",
            "INFO:tensorflow:Assets written to: model_experiments/model_1_dense/assets\n",
            "INFO:tensorflow:Assets written to: model_experiments/model_1_dense/assets\n",
            "INFO:tensorflow:Assets written to: model_experiments/model_1_dense/assets\n",
            "INFO:tensorflow:Assets written to: model_experiments/model_1_dense/assets\n",
            "INFO:tensorflow:Assets written to: model_experiments/model_1_dense/assets\n",
            "INFO:tensorflow:Assets written to: model_experiments/model_1_dense/assets\n",
            "INFO:tensorflow:Assets written to: model_experiments/model_1_dense/assets\n",
            "INFO:tensorflow:Assets written to: model_experiments/model_1_dense/assets\n",
            "INFO:tensorflow:Assets written to: model_experiments/model_1_dense/assets\n",
            "INFO:tensorflow:Assets written to: model_experiments/model_1_dense/assets\n",
            "INFO:tensorflow:Assets written to: model_experiments/model_1_dense/assets\n",
            "INFO:tensorflow:Assets written to: model_experiments/model_1_dense/assets\n",
            "INFO:tensorflow:Assets written to: model_experiments/model_1_dense/assets\n",
            "INFO:tensorflow:Assets written to: model_experiments/model_1_dense/assets\n",
            "INFO:tensorflow:Assets written to: model_experiments/model_1_dense/assets\n",
            "INFO:tensorflow:Assets written to: model_experiments/model_1_dense/assets\n",
            "INFO:tensorflow:Assets written to: model_experiments/model_1_dense/assets\n",
            "INFO:tensorflow:Assets written to: model_experiments/model_1_dense/assets\n",
            "INFO:tensorflow:Assets written to: model_experiments/model_1_dense/assets\n",
            "INFO:tensorflow:Assets written to: model_experiments/model_1_dense/assets\n",
            "INFO:tensorflow:Assets written to: model_experiments/model_1_dense/assets\n",
            "INFO:tensorflow:Assets written to: model_experiments/model_1_dense/assets\n",
            "INFO:tensorflow:Assets written to: model_experiments/model_1_dense/assets\n",
            "INFO:tensorflow:Assets written to: model_experiments/model_1_dense/assets\n",
            "INFO:tensorflow:Assets written to: model_experiments/model_1_dense/assets\n",
            "INFO:tensorflow:Assets written to: model_experiments/model_1_dense/assets\n",
            "INFO:tensorflow:Assets written to: model_experiments/model_1_dense/assets\n",
            "INFO:tensorflow:Assets written to: model_experiments/model_1_dense/assets\n",
            "INFO:tensorflow:Assets written to: model_experiments/model_1_dense/assets\n",
            "INFO:tensorflow:Assets written to: model_experiments/model_1_dense/assets\n",
            "INFO:tensorflow:Assets written to: model_experiments/model_1_dense/assets\n",
            "INFO:tensorflow:Assets written to: model_experiments/model_1_dense/assets\n",
            "INFO:tensorflow:Assets written to: model_experiments/model_1_dense/assets\n",
            "INFO:tensorflow:Assets written to: model_experiments/model_1_dense/assets\n"
          ]
        }
      ]
    },
    {
      "cell_type": "code",
      "metadata": {
        "colab": {
          "base_uri": "https://localhost:8080/"
        },
        "id": "B5owYRSEJ3mn",
        "outputId": "7662b52b-08e1-4ba0-d7c0-5dd00ad53cd2"
      },
      "source": [
        "#Evaluate the model\n",
        "model_1.evaluate(test_windows, test_labels)"
      ],
      "execution_count": 24,
      "outputs": [
        {
          "output_type": "stream",
          "name": "stdout",
          "text": [
            "11/11 [==============================] - 0s 1ms/step - loss: 71.7704 - mae: 71.7704 - mse: 12601.7363\n"
          ]
        },
        {
          "output_type": "execute_result",
          "data": {
            "text/plain": [
              "[71.77035522460938, 71.77035522460938, 12601.736328125]"
            ]
          },
          "metadata": {},
          "execution_count": 24
        }
      ]
    },
    {
      "cell_type": "code",
      "metadata": {
        "colab": {
          "base_uri": "https://localhost:8080/"
        },
        "id": "SHf3yt7vKFT7",
        "outputId": "ffc97b25-1288-4279-8fc0-0f393866761f"
      },
      "source": [
        "#Load the best model\n",
        "model_1 = tf.keras.models.load_model(\"model_experiments/model_1_dense/\")\n",
        "model_1.evaluate(test_windows, test_labels)"
      ],
      "execution_count": 25,
      "outputs": [
        {
          "output_type": "stream",
          "name": "stdout",
          "text": [
            "11/11 [==============================] - 0s 1ms/step - loss: 71.7704 - mae: 71.7704 - mse: 12601.7363\n"
          ]
        },
        {
          "output_type": "execute_result",
          "data": {
            "text/plain": [
              "[71.77035522460938, 71.77035522460938, 12601.736328125]"
            ]
          },
          "metadata": {},
          "execution_count": 25
        }
      ]
    },
    {
      "cell_type": "code",
      "metadata": {
        "id": "m3vQ39dpKTFc"
      },
      "source": [
        "def make_preds(model, input_data):\n",
        "  \"\"\"\n",
        "  Uses model to make predictions on input_data.\n",
        "\n",
        "  Parameters\n",
        "  --------\n",
        "  model: trained model\n",
        "  input_data: windowd input data (same kind of data model was trained on)\n",
        "\n",
        "  Returns model predictions on input data.\n",
        "  \"\"\"\n",
        "  forecast = model.predict(input_data)\n",
        "  return tf.squeeze(forecast)"
      ],
      "execution_count": 26,
      "outputs": []
    },
    {
      "cell_type": "code",
      "metadata": {
        "colab": {
          "base_uri": "https://localhost:8080/"
        },
        "id": "kYmcGQ9LKqrD",
        "outputId": "21857e7a-bdfb-41a8-e351-ecd4eab13ebf"
      },
      "source": [
        "#make predictions\n",
        "model_1_preds = make_preds(model_1, test_windows)\n",
        "model_1_preds[:10]"
      ],
      "execution_count": 27,
      "outputs": [
        {
          "output_type": "execute_result",
          "data": {
            "text/plain": [
              "<tf.Tensor: shape=(10,), dtype=float32, numpy=\n",
              "array([344.25397, 354.5401 , 356.65387, 355.977  , 365.21753, 361.94168,\n",
              "       361.16486, 355.70856, 349.1869 , 348.62198], dtype=float32)>"
            ]
          },
          "metadata": {},
          "execution_count": 27
        }
      ]
    },
    {
      "cell_type": "code",
      "metadata": {
        "colab": {
          "base_uri": "https://localhost:8080/"
        },
        "id": "IuC8z9WgKzRf",
        "outputId": "42b8c307-2ac4-413c-b141-07c96e99aa63"
      },
      "source": [
        "# Evaluate preds\n",
        "model_1_results = evaluate_preds(y_true=tf.squeeze(test_labels), y_pred=model_1_preds)\n",
        "model_1_results"
      ],
      "execution_count": 28,
      "outputs": [
        {
          "output_type": "execute_result",
          "data": {
            "text/plain": [
              "{'mae': 71.77035, 'mape': 71.77035, 'mse': 12601.738, 'rmse': 112.25746}"
            ]
          },
          "metadata": {},
          "execution_count": 28
        }
      ]
    },
    {
      "cell_type": "markdown",
      "metadata": {
        "id": "ICTaMXZiLwIs"
      },
      "source": [
        "## Model 1: Dense model - W15/H1"
      ]
    },
    {
      "cell_type": "code",
      "metadata": {
        "id": "dlH_z0utbvz7",
        "colab": {
          "base_uri": "https://localhost:8080/"
        },
        "outputId": "28e3047b-1b50-4089-a8ae-35e4325d53b3"
      },
      "source": [
        "#Window data\n",
        "HORIZON = 1\n",
        "WINDOW_SIZE = 15\n",
        "full_windows, full_labels = make_windows(prices, window_size=WINDOW_SIZE, horizon=HORIZON)\n",
        "len(full_windows), len(full_labels)"
      ],
      "execution_count": 29,
      "outputs": [
        {
          "output_type": "execute_result",
          "data": {
            "text/plain": [
              "(1691, 1691)"
            ]
          },
          "metadata": {},
          "execution_count": 29
        }
      ]
    },
    {
      "cell_type": "code",
      "metadata": {
        "id": "MKvXENLsb2E6",
        "colab": {
          "base_uri": "https://localhost:8080/"
        },
        "outputId": "0664953d-409e-41fe-c6b4-95bfaefb0d48"
      },
      "source": [
        "#Split data into train and test sets\n",
        "train_windows, test_windows, train_labels, test_labels = make_train_test_splits(full_windows, full_labels)\n",
        "len(train_windows), len(test_windows), len(train_labels), len(test_labels) "
      ],
      "execution_count": 30,
      "outputs": [
        {
          "output_type": "execute_result",
          "data": {
            "text/plain": [
              "(1352, 339, 1352, 339)"
            ]
          },
          "metadata": {},
          "execution_count": 30
        }
      ]
    },
    {
      "cell_type": "code",
      "metadata": {
        "id": "QwC2swwLb6IY"
      },
      "source": [
        "#Build the model \n",
        "tf.random.set_seed(42)\n",
        "\n",
        "model_2 = tf.keras.Sequential([\n",
        "                               layers.Dense(128, activation=\"relu\"),\n",
        "                               layers.Dense(HORIZON)\n",
        "], name=\"model_2_dense\")"
      ],
      "execution_count": 31,
      "outputs": []
    },
    {
      "cell_type": "code",
      "metadata": {
        "id": "bWd_HNLxcBKM"
      },
      "source": [
        "#Compile the model\n",
        "model_2.compile(loss=\"mse\", optimizer=\"Adam\", metrics=[\"mse\", \"mae\"])"
      ],
      "execution_count": 32,
      "outputs": []
    },
    {
      "cell_type": "code",
      "metadata": {
        "id": "T7kjb28aceDE",
        "colab": {
          "base_uri": "https://localhost:8080/"
        },
        "outputId": "55c7c591-2fdc-42c1-e053-31642fd5c812"
      },
      "source": [
        "#Fit the model \n",
        "history_model_2 = model_2.fit(train_windows, train_labels, \n",
        "                              epochs=100,\n",
        "                              batch_size=128,\n",
        "                              verbose=0,\n",
        "                              validation_data=(test_windows, test_labels),\n",
        "                              callbacks=[create_model_checkpoint(model_2.name)])"
      ],
      "execution_count": 33,
      "outputs": [
        {
          "output_type": "stream",
          "name": "stdout",
          "text": [
            "INFO:tensorflow:Assets written to: model_experiments/model_2_dense/assets\n",
            "INFO:tensorflow:Assets written to: model_experiments/model_2_dense/assets\n",
            "INFO:tensorflow:Assets written to: model_experiments/model_2_dense/assets\n",
            "INFO:tensorflow:Assets written to: model_experiments/model_2_dense/assets\n",
            "INFO:tensorflow:Assets written to: model_experiments/model_2_dense/assets\n",
            "INFO:tensorflow:Assets written to: model_experiments/model_2_dense/assets\n",
            "INFO:tensorflow:Assets written to: model_experiments/model_2_dense/assets\n",
            "INFO:tensorflow:Assets written to: model_experiments/model_2_dense/assets\n",
            "INFO:tensorflow:Assets written to: model_experiments/model_2_dense/assets\n",
            "INFO:tensorflow:Assets written to: model_experiments/model_2_dense/assets\n",
            "INFO:tensorflow:Assets written to: model_experiments/model_2_dense/assets\n",
            "INFO:tensorflow:Assets written to: model_experiments/model_2_dense/assets\n",
            "INFO:tensorflow:Assets written to: model_experiments/model_2_dense/assets\n",
            "INFO:tensorflow:Assets written to: model_experiments/model_2_dense/assets\n",
            "INFO:tensorflow:Assets written to: model_experiments/model_2_dense/assets\n",
            "INFO:tensorflow:Assets written to: model_experiments/model_2_dense/assets\n",
            "INFO:tensorflow:Assets written to: model_experiments/model_2_dense/assets\n",
            "INFO:tensorflow:Assets written to: model_experiments/model_2_dense/assets\n",
            "INFO:tensorflow:Assets written to: model_experiments/model_2_dense/assets\n",
            "INFO:tensorflow:Assets written to: model_experiments/model_2_dense/assets\n",
            "INFO:tensorflow:Assets written to: model_experiments/model_2_dense/assets\n",
            "INFO:tensorflow:Assets written to: model_experiments/model_2_dense/assets\n",
            "INFO:tensorflow:Assets written to: model_experiments/model_2_dense/assets\n",
            "INFO:tensorflow:Assets written to: model_experiments/model_2_dense/assets\n",
            "INFO:tensorflow:Assets written to: model_experiments/model_2_dense/assets\n",
            "INFO:tensorflow:Assets written to: model_experiments/model_2_dense/assets\n",
            "INFO:tensorflow:Assets written to: model_experiments/model_2_dense/assets\n",
            "INFO:tensorflow:Assets written to: model_experiments/model_2_dense/assets\n",
            "INFO:tensorflow:Assets written to: model_experiments/model_2_dense/assets\n",
            "INFO:tensorflow:Assets written to: model_experiments/model_2_dense/assets\n",
            "INFO:tensorflow:Assets written to: model_experiments/model_2_dense/assets\n",
            "INFO:tensorflow:Assets written to: model_experiments/model_2_dense/assets\n",
            "INFO:tensorflow:Assets written to: model_experiments/model_2_dense/assets\n",
            "INFO:tensorflow:Assets written to: model_experiments/model_2_dense/assets\n",
            "INFO:tensorflow:Assets written to: model_experiments/model_2_dense/assets\n",
            "INFO:tensorflow:Assets written to: model_experiments/model_2_dense/assets\n",
            "INFO:tensorflow:Assets written to: model_experiments/model_2_dense/assets\n",
            "INFO:tensorflow:Assets written to: model_experiments/model_2_dense/assets\n",
            "INFO:tensorflow:Assets written to: model_experiments/model_2_dense/assets\n",
            "INFO:tensorflow:Assets written to: model_experiments/model_2_dense/assets\n"
          ]
        }
      ]
    },
    {
      "cell_type": "code",
      "metadata": {
        "id": "70U6N0XVczZE",
        "colab": {
          "base_uri": "https://localhost:8080/"
        },
        "outputId": "52aa2ae8-2688-4f31-934f-9569ba69abb3"
      },
      "source": [
        "#Evaluate the model \n",
        "model_2.evaluate(test_windows, test_labels)"
      ],
      "execution_count": 34,
      "outputs": [
        {
          "output_type": "stream",
          "name": "stdout",
          "text": [
            "11/11 [==============================] - 0s 1ms/step - loss: 13628.0557 - mse: 13628.0557 - mae: 81.1908\n"
          ]
        },
        {
          "output_type": "execute_result",
          "data": {
            "text/plain": [
              "[13628.0556640625, 13628.0556640625, 81.1907958984375]"
            ]
          },
          "metadata": {},
          "execution_count": 34
        }
      ]
    },
    {
      "cell_type": "code",
      "metadata": {
        "id": "XomxZ0OsdDOm",
        "colab": {
          "base_uri": "https://localhost:8080/"
        },
        "outputId": "82da29ad-a960-4053-a1f9-6c03c964bf02"
      },
      "source": [
        "#Load best performing model \n",
        "model_2 = tf.keras.models.load_model(\"model_experiments/model_2_dense/\")\n",
        "model_2.evaluate(test_windows, test_labels)"
      ],
      "execution_count": 35,
      "outputs": [
        {
          "output_type": "stream",
          "name": "stdout",
          "text": [
            "11/11 [==============================] - 0s 2ms/step - loss: 13208.0059 - mse: 13208.0059 - mae: 75.6301\n"
          ]
        },
        {
          "output_type": "execute_result",
          "data": {
            "text/plain": [
              "[13208.005859375, 13208.005859375, 75.63008880615234]"
            ]
          },
          "metadata": {},
          "execution_count": 35
        }
      ]
    },
    {
      "cell_type": "code",
      "metadata": {
        "id": "vvDDub0xdSrA"
      },
      "source": [
        "#Get forecast predictions\n",
        "model_2_preds = make_preds(model_2, test_windows)"
      ],
      "execution_count": 36,
      "outputs": []
    },
    {
      "cell_type": "code",
      "metadata": {
        "id": "Z4q8gh_ZdtsA",
        "colab": {
          "base_uri": "https://localhost:8080/"
        },
        "outputId": "a7c910db-469d-442b-ce68-dce1b14f6888"
      },
      "source": [
        "#Evaluate results\n",
        "model_2_results = evaluate_preds(tf.squeeze(test_labels), model_2_preds)\n",
        "model_2_results"
      ],
      "execution_count": 37,
      "outputs": [
        {
          "output_type": "execute_result",
          "data": {
            "text/plain": [
              "{'mae': 75.63008, 'mape': 75.63008, 'mse': 13208.009, 'rmse': 114.9261}"
            ]
          },
          "metadata": {},
          "execution_count": 37
        }
      ]
    },
    {
      "cell_type": "markdown",
      "metadata": {
        "id": "Euc8AnjLd3lc"
      },
      "source": [
        "## Model 3: Conv1D - W30/H1"
      ]
    },
    {
      "cell_type": "code",
      "metadata": {
        "id": "s-e_3OXpe70n",
        "colab": {
          "base_uri": "https://localhost:8080/"
        },
        "outputId": "ce379172-4e6c-4a28-ce3f-ed3ddc3f1a02"
      },
      "source": [
        "#Window data\n",
        "HORIZON = 1\n",
        "WINDOW_SIZE = 30\n",
        "full_windows, full_labels = make_windows(prices, window_size=WINDOW_SIZE, horizon=HORIZON)\n",
        "len(full_windows), len(full_labels)"
      ],
      "execution_count": 38,
      "outputs": [
        {
          "output_type": "execute_result",
          "data": {
            "text/plain": [
              "(1676, 1676)"
            ]
          },
          "metadata": {},
          "execution_count": 38
        }
      ]
    },
    {
      "cell_type": "code",
      "metadata": {
        "id": "DUEi190Fe_Ag",
        "colab": {
          "base_uri": "https://localhost:8080/"
        },
        "outputId": "10e6ece8-e148-4243-9b28-6933ad5fb030"
      },
      "source": [
        "#Split data into train and test sets\n",
        "train_windows, test_windows, train_labels, test_labels = make_train_test_splits(full_windows, full_labels)\n",
        "len(train_windows), len(test_windows), len(train_labels), len(test_labels) "
      ],
      "execution_count": 39,
      "outputs": [
        {
          "output_type": "execute_result",
          "data": {
            "text/plain": [
              "(1340, 336, 1340, 336)"
            ]
          },
          "metadata": {},
          "execution_count": 39
        }
      ]
    },
    {
      "cell_type": "code",
      "metadata": {
        "id": "SB8f1BH0fBzx"
      },
      "source": [
        "#Build the model \n",
        "tf.random.set_seed(42)\n",
        "\n",
        "model_3 = tf.keras.Sequential([\n",
        "                               layers.Lambda(lambda x: tf.expand_dims(x, axis=1)),\n",
        "                               layers.Conv1D(filters=128, kernel_size=5, padding=\"causal\", activation=\"relu\"),\n",
        "                               layers.Dense(HORIZON)\n",
        "], name=\"model_3_Conv1D\")"
      ],
      "execution_count": 40,
      "outputs": []
    },
    {
      "cell_type": "code",
      "metadata": {
        "id": "8OwEmD23fkxg"
      },
      "source": [
        "#Compile the model\n",
        "model_3.compile(loss=\"mse\", optimizer=\"Adam\", metrics=[\"mse\", \"mae\"])"
      ],
      "execution_count": 41,
      "outputs": []
    },
    {
      "cell_type": "code",
      "metadata": {
        "id": "qwSK_sfbfuEO",
        "colab": {
          "base_uri": "https://localhost:8080/"
        },
        "outputId": "9cfb703b-6f79-4234-f656-68e396914713"
      },
      "source": [
        "#Fit the model\n",
        "history_model_3 = model_3.fit(train_windows, train_labels,\n",
        "                              epochs=100,\n",
        "                              verbose=0,\n",
        "                              batch_size=128,\n",
        "                              validation_data=(test_windows, test_labels),\n",
        "                              callbacks=[create_model_checkpoint(model_3.name)])"
      ],
      "execution_count": 42,
      "outputs": [
        {
          "output_type": "stream",
          "name": "stdout",
          "text": [
            "INFO:tensorflow:Assets written to: model_experiments/model_3_Conv1D/assets\n",
            "INFO:tensorflow:Assets written to: model_experiments/model_3_Conv1D/assets\n",
            "INFO:tensorflow:Assets written to: model_experiments/model_3_Conv1D/assets\n",
            "INFO:tensorflow:Assets written to: model_experiments/model_3_Conv1D/assets\n",
            "INFO:tensorflow:Assets written to: model_experiments/model_3_Conv1D/assets\n",
            "INFO:tensorflow:Assets written to: model_experiments/model_3_Conv1D/assets\n",
            "INFO:tensorflow:Assets written to: model_experiments/model_3_Conv1D/assets\n",
            "INFO:tensorflow:Assets written to: model_experiments/model_3_Conv1D/assets\n",
            "INFO:tensorflow:Assets written to: model_experiments/model_3_Conv1D/assets\n",
            "INFO:tensorflow:Assets written to: model_experiments/model_3_Conv1D/assets\n",
            "INFO:tensorflow:Assets written to: model_experiments/model_3_Conv1D/assets\n",
            "INFO:tensorflow:Assets written to: model_experiments/model_3_Conv1D/assets\n",
            "INFO:tensorflow:Assets written to: model_experiments/model_3_Conv1D/assets\n",
            "INFO:tensorflow:Assets written to: model_experiments/model_3_Conv1D/assets\n",
            "INFO:tensorflow:Assets written to: model_experiments/model_3_Conv1D/assets\n",
            "INFO:tensorflow:Assets written to: model_experiments/model_3_Conv1D/assets\n",
            "INFO:tensorflow:Assets written to: model_experiments/model_3_Conv1D/assets\n",
            "INFO:tensorflow:Assets written to: model_experiments/model_3_Conv1D/assets\n",
            "INFO:tensorflow:Assets written to: model_experiments/model_3_Conv1D/assets\n",
            "INFO:tensorflow:Assets written to: model_experiments/model_3_Conv1D/assets\n",
            "INFO:tensorflow:Assets written to: model_experiments/model_3_Conv1D/assets\n",
            "INFO:tensorflow:Assets written to: model_experiments/model_3_Conv1D/assets\n",
            "INFO:tensorflow:Assets written to: model_experiments/model_3_Conv1D/assets\n",
            "INFO:tensorflow:Assets written to: model_experiments/model_3_Conv1D/assets\n",
            "INFO:tensorflow:Assets written to: model_experiments/model_3_Conv1D/assets\n",
            "INFO:tensorflow:Assets written to: model_experiments/model_3_Conv1D/assets\n",
            "INFO:tensorflow:Assets written to: model_experiments/model_3_Conv1D/assets\n",
            "INFO:tensorflow:Assets written to: model_experiments/model_3_Conv1D/assets\n",
            "INFO:tensorflow:Assets written to: model_experiments/model_3_Conv1D/assets\n",
            "INFO:tensorflow:Assets written to: model_experiments/model_3_Conv1D/assets\n",
            "INFO:tensorflow:Assets written to: model_experiments/model_3_Conv1D/assets\n",
            "INFO:tensorflow:Assets written to: model_experiments/model_3_Conv1D/assets\n",
            "INFO:tensorflow:Assets written to: model_experiments/model_3_Conv1D/assets\n",
            "INFO:tensorflow:Assets written to: model_experiments/model_3_Conv1D/assets\n",
            "INFO:tensorflow:Assets written to: model_experiments/model_3_Conv1D/assets\n",
            "INFO:tensorflow:Assets written to: model_experiments/model_3_Conv1D/assets\n",
            "INFO:tensorflow:Assets written to: model_experiments/model_3_Conv1D/assets\n",
            "INFO:tensorflow:Assets written to: model_experiments/model_3_Conv1D/assets\n",
            "INFO:tensorflow:Assets written to: model_experiments/model_3_Conv1D/assets\n"
          ]
        }
      ]
    },
    {
      "cell_type": "code",
      "metadata": {
        "id": "zUk9LFsHgAlh",
        "colab": {
          "base_uri": "https://localhost:8080/"
        },
        "outputId": "a021e444-5561-4ed1-e147-5aecc6f91f78"
      },
      "source": [
        "#Evaluate the model\n",
        "model_3.evaluate(test_windows, test_labels)"
      ],
      "execution_count": 43,
      "outputs": [
        {
          "output_type": "stream",
          "name": "stdout",
          "text": [
            "11/11 [==============================] - 0s 1ms/step - loss: 25464.5527 - mse: 25464.5527 - mae: 117.7481\n"
          ]
        },
        {
          "output_type": "execute_result",
          "data": {
            "text/plain": [
              "[25464.552734375, 25464.552734375, 117.74813842773438]"
            ]
          },
          "metadata": {},
          "execution_count": 43
        }
      ]
    },
    {
      "cell_type": "code",
      "metadata": {
        "id": "ZVX44P3XgNnM",
        "colab": {
          "base_uri": "https://localhost:8080/"
        },
        "outputId": "66230a79-7810-48c1-a64d-825e9e397f0e"
      },
      "source": [
        "#Load best performing model \n",
        "model_3 = tf.keras.models.load_model(\"model_experiments/model_3_Conv1D/\")\n",
        "model_3.evaluate(test_windows, test_labels)"
      ],
      "execution_count": 44,
      "outputs": [
        {
          "output_type": "stream",
          "name": "stdout",
          "text": [
            "11/11 [==============================] - 0s 2ms/step - loss: 16603.8965 - mse: 16603.8965 - mae: 87.4547\n"
          ]
        },
        {
          "output_type": "execute_result",
          "data": {
            "text/plain": [
              "[16603.896484375, 16603.896484375, 87.45471954345703]"
            ]
          },
          "metadata": {},
          "execution_count": 44
        }
      ]
    },
    {
      "cell_type": "code",
      "metadata": {
        "id": "lgo4DySdgbev"
      },
      "source": [
        "#Get forecast predictions\n",
        "model_3_preds = make_preds(model_3, test_windows)"
      ],
      "execution_count": 45,
      "outputs": []
    },
    {
      "cell_type": "code",
      "metadata": {
        "id": "vxJrjWaCgnKH",
        "colab": {
          "base_uri": "https://localhost:8080/"
        },
        "outputId": "b0f26244-b2d5-454e-dfff-5af7ba40c98c"
      },
      "source": [
        "#Evaluate results\n",
        "model_3_results = evaluate_preds(tf.squeeze(test_labels), model_3_preds)\n",
        "model_3_results"
      ],
      "execution_count": 46,
      "outputs": [
        {
          "output_type": "execute_result",
          "data": {
            "text/plain": [
              "{'mae': 87.45472, 'mape': 87.45472, 'mse': 16603.896, 'rmse': 128.85611}"
            ]
          },
          "metadata": {},
          "execution_count": 46
        }
      ]
    },
    {
      "cell_type": "markdown",
      "metadata": {
        "id": "57qzht9ZgzjO"
      },
      "source": [
        "## Model 4: LSTM - W30/H1"
      ]
    },
    {
      "cell_type": "code",
      "metadata": {
        "id": "wV9NjarvhbtP"
      },
      "source": [
        "#Build the model \n",
        "tf.random.set_seed(42)\n",
        "\n",
        "model_4 = tf.keras.Sequential([\n",
        "                               layers.Lambda(lambda x: tf.expand_dims(x, axis=1)),\n",
        "                               layers.LSTM(128, activation=\"relu\"),\n",
        "                               layers.Dense(HORIZON)\n",
        "], name=\"model_4_LSTM\")"
      ],
      "execution_count": 47,
      "outputs": []
    },
    {
      "cell_type": "code",
      "metadata": {
        "id": "VH_FBrmlh1uX"
      },
      "source": [
        "#Compile the model \n",
        "model_4.compile(loss=\"mse\", optimizer=\"Adam\", metrics=[\"mse\", \"mae\"])"
      ],
      "execution_count": 48,
      "outputs": []
    },
    {
      "cell_type": "code",
      "metadata": {
        "id": "5ELUdhuOh99u",
        "colab": {
          "base_uri": "https://localhost:8080/"
        },
        "outputId": "01ea448d-d5e7-4057-9331-2639974aeb3c"
      },
      "source": [
        "#Fit the model \n",
        "history_model_4 = model_4.fit(train_windows, train_labels, \n",
        "                              epochs=100,\n",
        "                              batch_size=128,\n",
        "                              verbose=0,\n",
        "                              validation_data=(test_windows, test_labels),\n",
        "                              callbacks=[create_model_checkpoint(model_4.name)])"
      ],
      "execution_count": 49,
      "outputs": [
        {
          "output_type": "stream",
          "name": "stdout",
          "text": [
            "INFO:tensorflow:Assets written to: model_experiments/model_4_LSTM/assets\n",
            "INFO:tensorflow:Assets written to: model_experiments/model_4_LSTM/assets\n",
            "INFO:tensorflow:Assets written to: model_experiments/model_4_LSTM/assets\n",
            "INFO:tensorflow:Assets written to: model_experiments/model_4_LSTM/assets\n",
            "INFO:tensorflow:Assets written to: model_experiments/model_4_LSTM/assets\n",
            "INFO:tensorflow:Assets written to: model_experiments/model_4_LSTM/assets\n",
            "INFO:tensorflow:Assets written to: model_experiments/model_4_LSTM/assets\n",
            "INFO:tensorflow:Assets written to: model_experiments/model_4_LSTM/assets\n",
            "INFO:tensorflow:Assets written to: model_experiments/model_4_LSTM/assets\n",
            "INFO:tensorflow:Assets written to: model_experiments/model_4_LSTM/assets\n",
            "INFO:tensorflow:Assets written to: model_experiments/model_4_LSTM/assets\n",
            "INFO:tensorflow:Assets written to: model_experiments/model_4_LSTM/assets\n",
            "INFO:tensorflow:Assets written to: model_experiments/model_4_LSTM/assets\n",
            "INFO:tensorflow:Assets written to: model_experiments/model_4_LSTM/assets\n",
            "INFO:tensorflow:Assets written to: model_experiments/model_4_LSTM/assets\n",
            "INFO:tensorflow:Assets written to: model_experiments/model_4_LSTM/assets\n",
            "INFO:tensorflow:Assets written to: model_experiments/model_4_LSTM/assets\n",
            "INFO:tensorflow:Assets written to: model_experiments/model_4_LSTM/assets\n",
            "INFO:tensorflow:Assets written to: model_experiments/model_4_LSTM/assets\n",
            "INFO:tensorflow:Assets written to: model_experiments/model_4_LSTM/assets\n",
            "INFO:tensorflow:Assets written to: model_experiments/model_4_LSTM/assets\n",
            "INFO:tensorflow:Assets written to: model_experiments/model_4_LSTM/assets\n",
            "INFO:tensorflow:Assets written to: model_experiments/model_4_LSTM/assets\n",
            "INFO:tensorflow:Assets written to: model_experiments/model_4_LSTM/assets\n",
            "INFO:tensorflow:Assets written to: model_experiments/model_4_LSTM/assets\n",
            "INFO:tensorflow:Assets written to: model_experiments/model_4_LSTM/assets\n",
            "INFO:tensorflow:Assets written to: model_experiments/model_4_LSTM/assets\n",
            "INFO:tensorflow:Assets written to: model_experiments/model_4_LSTM/assets\n",
            "INFO:tensorflow:Assets written to: model_experiments/model_4_LSTM/assets\n"
          ]
        }
      ]
    },
    {
      "cell_type": "code",
      "metadata": {
        "id": "yS1CmH6miOQP",
        "colab": {
          "base_uri": "https://localhost:8080/"
        },
        "outputId": "6af04494-ad27-48ba-9549-13076073e452"
      },
      "source": [
        "#Evaluate the model \n",
        "model_4.evaluate(test_windows, test_labels)"
      ],
      "execution_count": 50,
      "outputs": [
        {
          "output_type": "stream",
          "name": "stdout",
          "text": [
            "11/11 [==============================] - 0s 2ms/step - loss: 19675.0098 - mse: 19675.0098 - mae: 94.2710\n"
          ]
        },
        {
          "output_type": "execute_result",
          "data": {
            "text/plain": [
              "[19675.009765625, 19675.009765625, 94.2710189819336]"
            ]
          },
          "metadata": {},
          "execution_count": 50
        }
      ]
    },
    {
      "cell_type": "code",
      "metadata": {
        "id": "XIy_l8gPiVGd",
        "colab": {
          "base_uri": "https://localhost:8080/"
        },
        "outputId": "38de5f41-b2ec-4d3b-ae0d-eebf813fd01c"
      },
      "source": [
        "#Load best model \n",
        "model_4 = tf.keras.models.load_model(\"model_experiments/model_4_LSTM/\")\n",
        "model_4.evaluate(test_windows, test_labels)"
      ],
      "execution_count": 51,
      "outputs": [
        {
          "output_type": "stream",
          "name": "stdout",
          "text": [
            "11/11 [==============================] - 0s 2ms/step - loss: 18709.8535 - mse: 18709.8535 - mae: 87.6190\n"
          ]
        },
        {
          "output_type": "execute_result",
          "data": {
            "text/plain": [
              "[18709.853515625, 18709.853515625, 87.61897277832031]"
            ]
          },
          "metadata": {},
          "execution_count": 51
        }
      ]
    },
    {
      "cell_type": "code",
      "metadata": {
        "id": "dXl_wRT6idnA"
      },
      "source": [
        "#Get forecast predictions\n",
        "model_4_preds = make_preds(model_4, test_windows)"
      ],
      "execution_count": 52,
      "outputs": []
    },
    {
      "cell_type": "code",
      "metadata": {
        "id": "4ZHrdF2vimh8",
        "colab": {
          "base_uri": "https://localhost:8080/"
        },
        "outputId": "5e209cc2-2d67-4f5b-8ea3-4d2b4c31757d"
      },
      "source": [
        "#Evaluate on forecast predictions\n",
        "model_4_results = evaluate_preds(tf.squeeze(test_labels), model_4_preds)\n",
        "model_4_results"
      ],
      "execution_count": 53,
      "outputs": [
        {
          "output_type": "execute_result",
          "data": {
            "text/plain": [
              "{'mae': 87.61898, 'mape': 87.61898, 'mse': 18709.855, 'rmse': 136.78398}"
            ]
          },
          "metadata": {},
          "execution_count": 53
        }
      ]
    },
    {
      "cell_type": "markdown",
      "metadata": {
        "id": "GtHNp4uviwkz"
      },
      "source": [
        "## Compare Experiments"
      ]
    },
    {
      "cell_type": "code",
      "metadata": {
        "id": "R1ZQRX6gi6oO",
        "colab": {
          "base_uri": "https://localhost:8080/",
          "height": 175
        },
        "outputId": "ad345795-0623-442d-cc59-1bef979a94ea"
      },
      "source": [
        "model_results = pd.DataFrame({\"model_1_dense_w30_h1\": model_1_results,\n",
        "                              \"model_2_dense_w15_h1\": model_2_results,\n",
        "                              \"model_3_Conv1D_w30_h1\": model_3_results,\n",
        "                              \"model_4_LSTM_w30_h1\": model_4_results}).T\n",
        "model_results"
      ],
      "execution_count": 54,
      "outputs": [
        {
          "output_type": "execute_result",
          "data": {
            "text/html": [
              "<div>\n",
              "<style scoped>\n",
              "    .dataframe tbody tr th:only-of-type {\n",
              "        vertical-align: middle;\n",
              "    }\n",
              "\n",
              "    .dataframe tbody tr th {\n",
              "        vertical-align: top;\n",
              "    }\n",
              "\n",
              "    .dataframe thead th {\n",
              "        text-align: right;\n",
              "    }\n",
              "</style>\n",
              "<table border=\"1\" class=\"dataframe\">\n",
              "  <thead>\n",
              "    <tr style=\"text-align: right;\">\n",
              "      <th></th>\n",
              "      <th>mae</th>\n",
              "      <th>mse</th>\n",
              "      <th>rmse</th>\n",
              "      <th>mape</th>\n",
              "    </tr>\n",
              "  </thead>\n",
              "  <tbody>\n",
              "    <tr>\n",
              "      <th>model_1_dense_w30_h1</th>\n",
              "      <td>71.770348</td>\n",
              "      <td>12601.738281</td>\n",
              "      <td>112.257462</td>\n",
              "      <td>71.770348</td>\n",
              "    </tr>\n",
              "    <tr>\n",
              "      <th>model_2_dense_w15_h1</th>\n",
              "      <td>75.630081</td>\n",
              "      <td>13208.008789</td>\n",
              "      <td>114.926102</td>\n",
              "      <td>75.630081</td>\n",
              "    </tr>\n",
              "    <tr>\n",
              "      <th>model_3_Conv1D_w30_h1</th>\n",
              "      <td>87.454720</td>\n",
              "      <td>16603.896484</td>\n",
              "      <td>128.856110</td>\n",
              "      <td>87.454720</td>\n",
              "    </tr>\n",
              "    <tr>\n",
              "      <th>model_4_LSTM_w30_h1</th>\n",
              "      <td>87.618980</td>\n",
              "      <td>18709.855469</td>\n",
              "      <td>136.783981</td>\n",
              "      <td>87.618980</td>\n",
              "    </tr>\n",
              "  </tbody>\n",
              "</table>\n",
              "</div>"
            ],
            "text/plain": [
              "                             mae           mse        rmse       mape\n",
              "model_1_dense_w30_h1   71.770348  12601.738281  112.257462  71.770348\n",
              "model_2_dense_w15_h1   75.630081  13208.008789  114.926102  75.630081\n",
              "model_3_Conv1D_w30_h1  87.454720  16603.896484  128.856110  87.454720\n",
              "model_4_LSTM_w30_h1    87.618980  18709.855469  136.783981  87.618980"
            ]
          },
          "metadata": {},
          "execution_count": 54
        }
      ]
    },
    {
      "cell_type": "code",
      "metadata": {
        "id": "dsPSp3nrjQoX",
        "colab": {
          "base_uri": "https://localhost:8080/",
          "height": 175
        },
        "outputId": "467b5905-6db1-4b78-baed-7d770d43b1df"
      },
      "source": [
        "model_results[[\"mae\"]].sort_values(by=\"mae\")"
      ],
      "execution_count": 55,
      "outputs": [
        {
          "output_type": "execute_result",
          "data": {
            "text/html": [
              "<div>\n",
              "<style scoped>\n",
              "    .dataframe tbody tr th:only-of-type {\n",
              "        vertical-align: middle;\n",
              "    }\n",
              "\n",
              "    .dataframe tbody tr th {\n",
              "        vertical-align: top;\n",
              "    }\n",
              "\n",
              "    .dataframe thead th {\n",
              "        text-align: right;\n",
              "    }\n",
              "</style>\n",
              "<table border=\"1\" class=\"dataframe\">\n",
              "  <thead>\n",
              "    <tr style=\"text-align: right;\">\n",
              "      <th></th>\n",
              "      <th>mae</th>\n",
              "    </tr>\n",
              "  </thead>\n",
              "  <tbody>\n",
              "    <tr>\n",
              "      <th>model_1_dense_w30_h1</th>\n",
              "      <td>71.770348</td>\n",
              "    </tr>\n",
              "    <tr>\n",
              "      <th>model_2_dense_w15_h1</th>\n",
              "      <td>75.630081</td>\n",
              "    </tr>\n",
              "    <tr>\n",
              "      <th>model_3_Conv1D_w30_h1</th>\n",
              "      <td>87.454720</td>\n",
              "    </tr>\n",
              "    <tr>\n",
              "      <th>model_4_LSTM_w30_h1</th>\n",
              "      <td>87.618980</td>\n",
              "    </tr>\n",
              "  </tbody>\n",
              "</table>\n",
              "</div>"
            ],
            "text/plain": [
              "                             mae\n",
              "model_1_dense_w30_h1   71.770348\n",
              "model_2_dense_w15_h1   75.630081\n",
              "model_3_Conv1D_w30_h1  87.454720\n",
              "model_4_LSTM_w30_h1    87.618980"
            ]
          },
          "metadata": {},
          "execution_count": 55
        }
      ]
    },
    {
      "cell_type": "markdown",
      "metadata": {
        "id": "hz0qfXQ1z197"
      },
      "source": [
        "## Model 5: Conv1D_Advanced - W30/H1"
      ]
    },
    {
      "cell_type": "code",
      "metadata": {
        "id": "XdiLiejQ0d56"
      },
      "source": [
        "tf.random.set_seed(42)\n",
        "\n",
        "#Build the model \n",
        "\n",
        "model_5 = tf.keras.Sequential([\n",
        "                               layers.Lambda(lambda x: tf.expand_dims(x, axis=1)),\n",
        "                               layers.Conv1D(filters=32, kernel_size=2, activation=\"relu\", padding=\"causal\"),\n",
        "                               layers.Dropout(0.2),\n",
        "                               layers.Conv1D(filters=16, kernel_size=2, activation=\"relu\", padding=\"causal\"),\n",
        "                               layers.Dropout(0.2),\n",
        "                               layers.MaxPooling1D(2, padding=\"same\"),\n",
        "                               layers.Flatten(),\n",
        "                               layers.Dense(HORIZON) \n",
        "], name=\"model_5_Conv1D_Advanced\")"
      ],
      "execution_count": 130,
      "outputs": []
    },
    {
      "cell_type": "code",
      "metadata": {
        "id": "tiir5iiR0hQZ"
      },
      "source": [
        "#Compile the model \n",
        "model_5.compile(loss=\"mse\", optimizer=\"Adam\", metrics=[\"mse\", \"mae\"])"
      ],
      "execution_count": 131,
      "outputs": []
    },
    {
      "cell_type": "code",
      "metadata": {
        "id": "BnqJVygo1vEm",
        "outputId": "b36cc5b5-33d2-4bfc-a1f3-7029cb6d0a1a",
        "colab": {
          "base_uri": "https://localhost:8080/"
        }
      },
      "source": [
        "#Fit the model \n",
        "history_model_5 = model_5.fit(train_windows, train_labels, \n",
        "                              epochs=100, \n",
        "                              batch_size=128, \n",
        "                              verbose=0,\n",
        "                              validation_data=(test_windows, test_labels),\n",
        "                              callbacks=[create_model_checkpoint(model_5.name)])"
      ],
      "execution_count": 132,
      "outputs": [
        {
          "output_type": "stream",
          "name": "stdout",
          "text": [
            "INFO:tensorflow:Assets written to: model_experiments/model_5_Conv1D_Advanced/assets\n",
            "INFO:tensorflow:Assets written to: model_experiments/model_5_Conv1D_Advanced/assets\n",
            "INFO:tensorflow:Assets written to: model_experiments/model_5_Conv1D_Advanced/assets\n",
            "INFO:tensorflow:Assets written to: model_experiments/model_5_Conv1D_Advanced/assets\n",
            "INFO:tensorflow:Assets written to: model_experiments/model_5_Conv1D_Advanced/assets\n",
            "INFO:tensorflow:Assets written to: model_experiments/model_5_Conv1D_Advanced/assets\n",
            "INFO:tensorflow:Assets written to: model_experiments/model_5_Conv1D_Advanced/assets\n",
            "INFO:tensorflow:Assets written to: model_experiments/model_5_Conv1D_Advanced/assets\n",
            "INFO:tensorflow:Assets written to: model_experiments/model_5_Conv1D_Advanced/assets\n",
            "INFO:tensorflow:Assets written to: model_experiments/model_5_Conv1D_Advanced/assets\n",
            "INFO:tensorflow:Assets written to: model_experiments/model_5_Conv1D_Advanced/assets\n",
            "INFO:tensorflow:Assets written to: model_experiments/model_5_Conv1D_Advanced/assets\n",
            "INFO:tensorflow:Assets written to: model_experiments/model_5_Conv1D_Advanced/assets\n",
            "INFO:tensorflow:Assets written to: model_experiments/model_5_Conv1D_Advanced/assets\n",
            "INFO:tensorflow:Assets written to: model_experiments/model_5_Conv1D_Advanced/assets\n",
            "INFO:tensorflow:Assets written to: model_experiments/model_5_Conv1D_Advanced/assets\n",
            "INFO:tensorflow:Assets written to: model_experiments/model_5_Conv1D_Advanced/assets\n",
            "INFO:tensorflow:Assets written to: model_experiments/model_5_Conv1D_Advanced/assets\n",
            "INFO:tensorflow:Assets written to: model_experiments/model_5_Conv1D_Advanced/assets\n",
            "INFO:tensorflow:Assets written to: model_experiments/model_5_Conv1D_Advanced/assets\n",
            "INFO:tensorflow:Assets written to: model_experiments/model_5_Conv1D_Advanced/assets\n",
            "INFO:tensorflow:Assets written to: model_experiments/model_5_Conv1D_Advanced/assets\n",
            "INFO:tensorflow:Assets written to: model_experiments/model_5_Conv1D_Advanced/assets\n"
          ]
        }
      ]
    },
    {
      "cell_type": "code",
      "metadata": {
        "id": "7pyWP5y92yoy",
        "outputId": "2e2bc0a2-1b43-48e1-9018-c9828fb64da4",
        "colab": {
          "base_uri": "https://localhost:8080/"
        }
      },
      "source": [
        "#Evaluate the model \n",
        "model_5.evaluate(test_windows, test_labels)"
      ],
      "execution_count": 133,
      "outputs": [
        {
          "output_type": "stream",
          "name": "stdout",
          "text": [
            "11/11 [==============================] - 0s 2ms/step - loss: 29534.3711 - mse: 29534.3711 - mae: 127.3453\n"
          ]
        },
        {
          "output_type": "execute_result",
          "data": {
            "text/plain": [
              "[29534.37109375, 29534.37109375, 127.34528350830078]"
            ]
          },
          "metadata": {},
          "execution_count": 133
        }
      ]
    },
    {
      "cell_type": "code",
      "metadata": {
        "id": "8pb9O0Le3uYO",
        "outputId": "076725cd-1414-4d2c-a032-a8b8d5912a71",
        "colab": {
          "base_uri": "https://localhost:8080/"
        }
      },
      "source": [
        "#Load best model \n",
        "model_5 = tf.keras.models.load_model(\"model_experiments/model_5_Conv1D_Advanced/\")\n",
        "model_5.evaluate(test_windows, test_labels)"
      ],
      "execution_count": 134,
      "outputs": [
        {
          "output_type": "stream",
          "name": "stdout",
          "text": [
            "11/11 [==============================] - 0s 2ms/step - loss: 23535.0996 - mse: 23535.0996 - mae: 105.5046\n"
          ]
        },
        {
          "output_type": "execute_result",
          "data": {
            "text/plain": [
              "[23535.099609375, 23535.099609375, 105.5046157836914]"
            ]
          },
          "metadata": {},
          "execution_count": 134
        }
      ]
    },
    {
      "cell_type": "code",
      "metadata": {
        "id": "tzQKcGiM37H-"
      },
      "source": [
        "#Make future predictions\n",
        "model_5_preds = make_preds(model_5, test_windows)"
      ],
      "execution_count": 135,
      "outputs": []
    },
    {
      "cell_type": "code",
      "metadata": {
        "id": "QmyJiOyG4JC1",
        "outputId": "7c9e90ac-43d3-4bca-8004-38c1d2db2b4b",
        "colab": {
          "base_uri": "https://localhost:8080/"
        }
      },
      "source": [
        "#Evaluate on forecast predictions\n",
        "model_5_results = evaluate_preds(tf.squeeze(test_labels), model_5_preds)\n",
        "model_5_results"
      ],
      "execution_count": 136,
      "outputs": [
        {
          "output_type": "execute_result",
          "data": {
            "text/plain": [
              "{'mae': 105.504616, 'mape': 105.504616, 'mse': 23535.1, 'rmse': 153.41153}"
            ]
          },
          "metadata": {},
          "execution_count": 136
        }
      ]
    },
    {
      "cell_type": "code",
      "metadata": {
        "id": "l8J959pd7saG"
      },
      "source": [
        "def plot_mae_loss_curves(history):\n",
        "  loss = history.history[\"loss\"]\n",
        "  val_loss = history.history[\"val_loss\"]\n",
        "  mae = history.history[\"mae\"]\n",
        "  val_mae = history.history[\"val_mae\"]\n",
        "  plt.figure(figsize=(10,7))\n",
        "  plt.plot(loss, label=\"train_loss\")\n",
        "  plt.plot(val_loss, label=\"val_loss\")\n",
        "  plt.title(\"Train vs validation loss\")\n",
        "  plt.grid()\n",
        "  plt.legend()\n",
        "  plt.figure(figsize=(10, 7))\n",
        "  plt.plot(mae, label=\"mae\")\n",
        "  plt.plot(val_mae, label=\"val_mae\")\n",
        "  plt.title(\"Mae vs Validation mae\")\n",
        "  plt.grid()\n",
        "  plt.legend()"
      ],
      "execution_count": 146,
      "outputs": []
    },
    {
      "cell_type": "code",
      "metadata": {
        "id": "z2rkBoj88OFW",
        "outputId": "be120857-0be2-43ec-875e-da1155d22ab5",
        "colab": {
          "base_uri": "https://localhost:8080/",
          "height": 871
        }
      },
      "source": [
        "plot_mae_loss_curves(history_model_5)"
      ],
      "execution_count": 147,
      "outputs": [
        {
          "output_type": "display_data",
          "data": {
            "image/png": "[encoded data removed]",
            "text/plain": [
              "<Figure size 720x504 with 1 Axes>"
            ]
          },
          "metadata": {
            "needs_background": "light"
          }
        },
        {
          "output_type": "display_data",
          "data": {
            "image/png": "[encoded data removed]",
            "text/plain": [
              "<Figure size 720x504 with 1 Axes>"
            ]
          },
          "metadata": {
            "needs_background": "light"
          }
        }
      ]
    }
  ]
}