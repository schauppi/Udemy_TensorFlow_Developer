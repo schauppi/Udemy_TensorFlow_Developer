{
  "nbformat": 4,
  "nbformat_minor": 0,
  "metadata": {
    "colab": {
      "name": "nlp_us_airline_tweets.ipynb",
      "provenance": [],
      "toc_visible": true,
      "authorship_tag": "ABX9TyNQYvWN0odeCt06r1d9LyVZ",
      "include_colab_link": true
    },
    "kernelspec": {
      "name": "python3",
      "display_name": "Python 3"
    },
    "language_info": {
      "name": "python"
    },
    "accelerator": "GPU"
  },
  "cells": [
    {
      "cell_type": "markdown",
      "metadata": {
        "id": "view-in-github",
        "colab_type": "text"
      },
      "source": [
        "<a href=\"https://colab.research.google.com/github/schauppi/Udemy_TensorFlow_Developer/blob/main/Exam_preparation/nlp_us_airline_tweets.ipynb\" target=\"_parent\"><img src=\"https://colab.research.google.com/assets/colab-badge.svg\" alt=\"Open In Colab\"/></a>"
      ]
    },
    {
      "cell_type": "markdown",
      "metadata": {
        "id": "M3ykxe4YGN21"
      },
      "source": [
        "# US Airline Tweets text classification"
      ]
    },
    {
      "cell_type": "code",
      "metadata": {
        "colab": {
          "base_uri": "https://localhost:8080/"
        },
        "id": "rSgftKddGgUO",
        "outputId": "3beffe3d-0ec2-49ed-81a7-6cc2bc476456"
      },
      "source": [
        "#Download helper functions file\n",
        "!wget https://raw.githubusercontent.com/schauppi/Udemy_TensorFlow_Developer/main/Exam_preparation/helper_functions.py"
      ],
      "execution_count": 1,
      "outputs": [
        {
          "output_type": "stream",
          "name": "stdout",
          "text": [
            "--2021-09-08 09:05:12--  https://raw.githubusercontent.com/schauppi/Udemy_TensorFlow_Developer/main/Exam_preparation/helper_functions.py\n",
            "Resolving raw.githubusercontent.com (raw.githubusercontent.com)... 185.199.108.133, 185.199.109.133, 185.199.110.133, ...\n",
            "Connecting to raw.githubusercontent.com (raw.githubusercontent.com)|185.199.108.133|:443... connected.\n",
            "HTTP request sent, awaiting response... 200 OK\n",
            "Length: 5005 (4.9K) [text/plain]\n",
            "Saving to: ‘helper_functions.py’\n",
            "\n",
            "\rhelper_functions.py   0%[                    ]       0  --.-KB/s               \rhelper_functions.py 100%[===================>]   4.89K  --.-KB/s    in 0s      \n",
            "\n",
            "2021-09-08 09:05:12 (36.2 MB/s) - ‘helper_functions.py’ saved [5005/5005]\n",
            "\n"
          ]
        }
      ]
    },
    {
      "cell_type": "markdown",
      "metadata": {
        "id": "Fydf_DrTGpOo"
      },
      "source": [
        "## Data preparation"
      ]
    },
    {
      "cell_type": "code",
      "metadata": {
        "colab": {
          "base_uri": "https://localhost:8080/"
        },
        "id": "QewRfbMbGzFh",
        "outputId": "a253fed8-4860-42db-d7da-187cf3f0bbc5"
      },
      "source": [
        "#Download dataset \n",
        "!wget https://raw.githubusercontent.com/schauppi/Udemy_TensorFlow_Developer/main/Exam_preparation/Datasets/Tweets.csv"
      ],
      "execution_count": 2,
      "outputs": [
        {
          "output_type": "stream",
          "name": "stdout",
          "text": [
            "--2021-09-08 09:05:13--  https://raw.githubusercontent.com/schauppi/Udemy_TensorFlow_Developer/main/Exam_preparation/Datasets/Tweets.csv\n",
            "Resolving raw.githubusercontent.com (raw.githubusercontent.com)... 185.199.108.133, 185.199.109.133, 185.199.111.133, ...\n",
            "Connecting to raw.githubusercontent.com (raw.githubusercontent.com)|185.199.108.133|:443... connected.\n",
            "HTTP request sent, awaiting response... 200 OK\n",
            "Length: 3421431 (3.3M) [text/plain]\n",
            "Saving to: ‘Tweets.csv’\n",
            "\n",
            "Tweets.csv          100%[===================>]   3.26M  --.-KB/s    in 0.07s   \n",
            "\n",
            "2021-09-08 09:05:13 (46.8 MB/s) - ‘Tweets.csv’ saved [3421431/3421431]\n",
            "\n"
          ]
        }
      ]
    },
    {
      "cell_type": "code",
      "metadata": {
        "colab": {
          "base_uri": "https://localhost:8080/",
          "height": 450
        },
        "id": "7eU-yZ1-G4ga",
        "outputId": "72ff9e7d-bd69-476f-d5d8-a4f3082ee691"
      },
      "source": [
        "# Load in the dataset \n",
        "import pandas as pd\n",
        "df = pd.read_csv(\"/content/Tweets.csv\")\n",
        "df.head()"
      ],
      "execution_count": 3,
      "outputs": [
        {
          "output_type": "execute_result",
          "data": {
            "text/html": [
              "<div>\n",
              "<style scoped>\n",
              "    .dataframe tbody tr th:only-of-type {\n",
              "        vertical-align: middle;\n",
              "    }\n",
              "\n",
              "    .dataframe tbody tr th {\n",
              "        vertical-align: top;\n",
              "    }\n",
              "\n",
              "    .dataframe thead th {\n",
              "        text-align: right;\n",
              "    }\n",
              "</style>\n",
              "<table border=\"1\" class=\"dataframe\">\n",
              "  <thead>\n",
              "    <tr style=\"text-align: right;\">\n",
              "      <th></th>\n",
              "      <th>tweet_id</th>\n",
              "      <th>airline_sentiment</th>\n",
              "      <th>airline_sentiment_confidence</th>\n",
              "      <th>negativereason</th>\n",
              "      <th>negativereason_confidence</th>\n",
              "      <th>airline</th>\n",
              "      <th>airline_sentiment_gold</th>\n",
              "      <th>name</th>\n",
              "      <th>negativereason_gold</th>\n",
              "      <th>retweet_count</th>\n",
              "      <th>text</th>\n",
              "      <th>tweet_coord</th>\n",
              "      <th>tweet_created</th>\n",
              "      <th>tweet_location</th>\n",
              "      <th>user_timezone</th>\n",
              "    </tr>\n",
              "  </thead>\n",
              "  <tbody>\n",
              "    <tr>\n",
              "      <th>0</th>\n",
              "      <td>570306133677760513</td>\n",
              "      <td>neutral</td>\n",
              "      <td>1.0000</td>\n",
              "      <td>NaN</td>\n",
              "      <td>NaN</td>\n",
              "      <td>Virgin America</td>\n",
              "      <td>NaN</td>\n",
              "      <td>cairdin</td>\n",
              "      <td>NaN</td>\n",
              "      <td>0</td>\n",
              "      <td>@VirginAmerica What @dhepburn said.</td>\n",
              "      <td>NaN</td>\n",
              "      <td>2015-02-24 11:35:52 -0800</td>\n",
              "      <td>NaN</td>\n",
              "      <td>Eastern Time (US &amp; Canada)</td>\n",
              "    </tr>\n",
              "    <tr>\n",
              "      <th>1</th>\n",
              "      <td>570301130888122368</td>\n",
              "      <td>positive</td>\n",
              "      <td>0.3486</td>\n",
              "      <td>NaN</td>\n",
              "      <td>0.0000</td>\n",
              "      <td>Virgin America</td>\n",
              "      <td>NaN</td>\n",
              "      <td>jnardino</td>\n",
              "      <td>NaN</td>\n",
              "      <td>0</td>\n",
              "      <td>@VirginAmerica plus you've added commercials t...</td>\n",
              "      <td>NaN</td>\n",
              "      <td>2015-02-24 11:15:59 -0800</td>\n",
              "      <td>NaN</td>\n",
              "      <td>Pacific Time (US &amp; Canada)</td>\n",
              "    </tr>\n",
              "    <tr>\n",
              "      <th>2</th>\n",
              "      <td>570301083672813571</td>\n",
              "      <td>neutral</td>\n",
              "      <td>0.6837</td>\n",
              "      <td>NaN</td>\n",
              "      <td>NaN</td>\n",
              "      <td>Virgin America</td>\n",
              "      <td>NaN</td>\n",
              "      <td>yvonnalynn</td>\n",
              "      <td>NaN</td>\n",
              "      <td>0</td>\n",
              "      <td>@VirginAmerica I didn't today... Must mean I n...</td>\n",
              "      <td>NaN</td>\n",
              "      <td>2015-02-24 11:15:48 -0800</td>\n",
              "      <td>Lets Play</td>\n",
              "      <td>Central Time (US &amp; Canada)</td>\n",
              "    </tr>\n",
              "    <tr>\n",
              "      <th>3</th>\n",
              "      <td>570301031407624196</td>\n",
              "      <td>negative</td>\n",
              "      <td>1.0000</td>\n",
              "      <td>Bad Flight</td>\n",
              "      <td>0.7033</td>\n",
              "      <td>Virgin America</td>\n",
              "      <td>NaN</td>\n",
              "      <td>jnardino</td>\n",
              "      <td>NaN</td>\n",
              "      <td>0</td>\n",
              "      <td>@VirginAmerica it's really aggressive to blast...</td>\n",
              "      <td>NaN</td>\n",
              "      <td>2015-02-24 11:15:36 -0800</td>\n",
              "      <td>NaN</td>\n",
              "      <td>Pacific Time (US &amp; Canada)</td>\n",
              "    </tr>\n",
              "    <tr>\n",
              "      <th>4</th>\n",
              "      <td>570300817074462722</td>\n",
              "      <td>negative</td>\n",
              "      <td>1.0000</td>\n",
              "      <td>Can't Tell</td>\n",
              "      <td>1.0000</td>\n",
              "      <td>Virgin America</td>\n",
              "      <td>NaN</td>\n",
              "      <td>jnardino</td>\n",
              "      <td>NaN</td>\n",
              "      <td>0</td>\n",
              "      <td>@VirginAmerica and it's a really big bad thing...</td>\n",
              "      <td>NaN</td>\n",
              "      <td>2015-02-24 11:14:45 -0800</td>\n",
              "      <td>NaN</td>\n",
              "      <td>Pacific Time (US &amp; Canada)</td>\n",
              "    </tr>\n",
              "  </tbody>\n",
              "</table>\n",
              "</div>"
            ],
            "text/plain": [
              "             tweet_id  ...               user_timezone\n",
              "0  570306133677760513  ...  Eastern Time (US & Canada)\n",
              "1  570301130888122368  ...  Pacific Time (US & Canada)\n",
              "2  570301083672813571  ...  Central Time (US & Canada)\n",
              "3  570301031407624196  ...  Pacific Time (US & Canada)\n",
              "4  570300817074462722  ...  Pacific Time (US & Canada)\n",
              "\n",
              "[5 rows x 15 columns]"
            ]
          },
          "metadata": {},
          "execution_count": 3
        }
      ]
    },
    {
      "cell_type": "code",
      "metadata": {
        "colab": {
          "base_uri": "https://localhost:8080/"
        },
        "id": "5Q4QGPLkHECi",
        "outputId": "12b6ba5f-0397-4ee9-a06a-15b94d005289"
      },
      "source": [
        "#How many different sentiments\n",
        "df.airline_sentiment.value_counts()"
      ],
      "execution_count": 4,
      "outputs": [
        {
          "output_type": "execute_result",
          "data": {
            "text/plain": [
              "negative    9178\n",
              "neutral     3099\n",
              "positive    2363\n",
              "Name: airline_sentiment, dtype: int64"
            ]
          },
          "metadata": {},
          "execution_count": 4
        }
      ]
    },
    {
      "cell_type": "code",
      "metadata": {
        "colab": {
          "base_uri": "https://localhost:8080/"
        },
        "id": "iUamC50kHSkC",
        "outputId": "bb420251-1d42-4cf1-dd51-17d6e8434eef"
      },
      "source": [
        "#Visualize some random examples\n",
        "import random\n",
        "random_index = random.randint(0, len(df)-5)\n",
        "for row in df[[\"text\", \"airline_sentiment\"]][random_index:random_index+5].itertuples():\n",
        "  _, text, sentiment = row\n",
        "  print(f\"Text: {text}\")\n",
        "  print(f\"Rating: {sentiment}\\n\")"
      ],
      "execution_count": 5,
      "outputs": [
        {
          "output_type": "stream",
          "name": "stdout",
          "text": [
            "Text: @AmericanAir thanks for keeping us safe\n",
            "Rating: positive\n",
            "\n",
            "Text: @AmericanAir There was no one from #AA at the #woase2015 event @HelsinkiAirport\n",
            "Lots of info available of #winterops\n",
            "Rating: negative\n",
            "\n",
            "Text: @AmericanAir is that the \"record locator\"?\n",
            "Rating: neutral\n",
            "\n",
            "Text: @AmericanAir you keep returning my call and hanging up when I answer? Help reFlight Booking Problems a flight!\n",
            "Rating: negative\n",
            "\n",
            "Text: @AmericanAir been calling for over 24hrs now and getting no where but told to call back by the automated system is extremely frustrating\n",
            "Rating: negative\n",
            "\n"
          ]
        }
      ]
    },
    {
      "cell_type": "markdown",
      "metadata": {
        "id": "ImQ2i4gvV3q_"
      },
      "source": [
        "## Remove different strings"
      ]
    },
    {
      "cell_type": "code",
      "metadata": {
        "colab": {
          "base_uri": "https://localhost:8080/"
        },
        "id": "PSN9YT7IH2wL",
        "outputId": "65bcbdac-e1ae-45ca-ce58-a03d4d38bd51"
      },
      "source": [
        "# Remove Smileys, @, # and links\n",
        "import re\n",
        "emoji_pattern = re.compile(\"[\"\n",
        "        u\"\\U0001F600-\\U0001F64F\"  # emoticons\n",
        "        u\"\\U0001F300-\\U0001F5FF\"  # symbols & pictographs\n",
        "        u\"\\U0001F680-\\U0001F6FF\"  # transport & map symbols\n",
        "        u\"\\U0001F1E0-\\U0001F1FF\"  # flags (iOS)\n",
        "                           \"]+\", flags=re.UNICODE)\n",
        "\n",
        "for index, row in enumerate(df[\"text\"]):\n",
        "  row = re.sub(r'http\\S+', '', row)\n",
        "  row = re.sub(r'@', '', row)\n",
        "  row = re.sub(r'#', '', row)\n",
        "  row = emoji_pattern.sub(r'', row)\n",
        "  df[\"text\"][index] = row"
      ],
      "execution_count": 6,
      "outputs": [
        {
          "output_type": "stream",
          "name": "stderr",
          "text": [
            "/usr/local/lib/python3.7/dist-packages/ipykernel_launcher.py:15: SettingWithCopyWarning: \n",
            "A value is trying to be set on a copy of a slice from a DataFrame\n",
            "\n",
            "See the caveats in the documentation: https://pandas.pydata.org/pandas-docs/stable/user_guide/indexing.html#returning-a-view-versus-a-copy\n",
            "  from ipykernel import kernelapp as app\n"
          ]
        }
      ]
    },
    {
      "cell_type": "code",
      "metadata": {
        "colab": {
          "base_uri": "https://localhost:8080/"
        },
        "id": "o7mV9x76MOCg",
        "outputId": "aca2c70e-affd-4a81-818a-4a6dac4bddc2"
      },
      "source": [
        "#Visualize some random examples after cleaning\n",
        "import random\n",
        "random_index = random.randint(0, len(df)-5)\n",
        "for row in df[[\"text\", \"airline_sentiment\"]][random_index:random_index+5].itertuples():\n",
        "  _, text, sentiment = row\n",
        "  print(f\"Text: {text}\")\n",
        "  print(f\"Rating: {sentiment}\\n\")"
      ],
      "execution_count": 7,
      "outputs": [
        {
          "output_type": "stream",
          "name": "stdout",
          "text": [
            "Text: USAirways why is it impossible to change / buy preferred seats via your app?\n",
            "Rating: negative\n",
            "\n",
            "Text: USAirways I am good. I just did not understand the terminology.  but the merger brings new verbiage\n",
            "Rating: neutral\n",
            "\n",
            "Text: USAirways can you priv chat to help chairman reroute\n",
            "Rating: neutral\n",
            "\n",
            "Text: USAirways New marketing song?  let us know what you think? \n",
            "Rating: neutral\n",
            "\n",
            "Text: USAirways why are your customer service department so intent on ignoring my emails and queries? badservice usairways\n",
            "Rating: negative\n",
            "\n"
          ]
        }
      ]
    },
    {
      "cell_type": "markdown",
      "metadata": {
        "id": "WQh8eUXaWLpX"
      },
      "source": [
        "## Remove stopwords"
      ]
    },
    {
      "cell_type": "code",
      "metadata": {
        "colab": {
          "base_uri": "https://localhost:8080/"
        },
        "id": "0JSKAa6GWQM-",
        "outputId": "51c3dc4f-2a7c-45fe-a6e4-7e6a29befcca"
      },
      "source": [
        "import nltk\n",
        "nltk.download('stopwords')\n",
        "from nltk.corpus import stopwords\n",
        "STOPWORDS = set(stopwords.words('english'))"
      ],
      "execution_count": 8,
      "outputs": [
        {
          "output_type": "stream",
          "name": "stdout",
          "text": [
            "[nltk_data] Downloading package stopwords to /root/nltk_data...\n",
            "[nltk_data]   Unzipping corpora/stopwords.zip.\n"
          ]
        }
      ]
    },
    {
      "cell_type": "code",
      "metadata": {
        "id": "DYI8KvtBWZHB"
      },
      "source": [
        "df[\"text_stopwords\"] = df[\"text\"].apply(lambda x: ' '.join([word for word in x.split() if word not in (STOPWORDS)]))"
      ],
      "execution_count": 9,
      "outputs": []
    },
    {
      "cell_type": "code",
      "metadata": {
        "colab": {
          "base_uri": "https://localhost:8080/"
        },
        "id": "WpcX2QI7WnhL",
        "outputId": "d42772fe-a6ff-4a2d-a278-b81f3e93d127"
      },
      "source": [
        "#Visualize some random examples after removing stop words\n",
        "import random\n",
        "random_index = random.randint(0, len(df)-5)\n",
        "for row in df[[\"text_stopwords\", \"airline_sentiment\"]][random_index:random_index+5].itertuples():\n",
        "  _, text, sentiment = row\n",
        "  print(f\"Text: {text}\")\n",
        "  print(f\"Rating: {sentiment}\\n\")"
      ],
      "execution_count": 10,
      "outputs": [
        {
          "output_type": "stream",
          "name": "stdout",
          "text": [
            "Text: AmericanAir called back put hold. It's midnight. Literally want know I'm getting home I'm getting help\n",
            "Rating: negative\n",
            "\n",
            "Text: AmericanAir Flight 2390 delayed 14 hours!! No one AmericanAirlines counter tell husband flight! Help???\n",
            "Rating: negative\n",
            "\n",
            "Text: AmericanAir happens many times. It's upsetting see poorly airline treats customers\n",
            "Rating: negative\n",
            "\n",
            "Text: AmericanAir seriously, reps available take phone calls? Even platinum?\n",
            "Rating: negative\n",
            "\n",
            "Text: AmericanAir overall lack attention foresight managing flights.\n",
            "Rating: negative\n",
            "\n"
          ]
        }
      ]
    },
    {
      "cell_type": "markdown",
      "metadata": {
        "id": "KmiPo-VoXAY9"
      },
      "source": [
        "## Split dataset"
      ]
    },
    {
      "cell_type": "code",
      "metadata": {
        "id": "n99nDZAZVArl"
      },
      "source": [
        "import numpy as np\n",
        "np.random.seed(42)\n",
        "perm = np.random.permutation(df.index)\n",
        "m = len(df)\n",
        "train_end = int(0.6 * m)\n",
        "validate_end = int(0.2 * m) + train_end\n",
        "train = df.iloc[perm[:train_end]]\n",
        "validate = df.iloc[perm[train_end:validate_end]]\n",
        "test = df.iloc[perm[validate_end:]]"
      ],
      "execution_count": 11,
      "outputs": []
    },
    {
      "cell_type": "code",
      "metadata": {
        "colab": {
          "base_uri": "https://localhost:8080/"
        },
        "id": "5KAGB8MtXJIY",
        "outputId": "a4bdb42e-8f2d-4d18-a372-6f3605840769"
      },
      "source": [
        "len(train), len(validate), len(test)"
      ],
      "execution_count": 12,
      "outputs": [
        {
          "output_type": "execute_result",
          "data": {
            "text/plain": [
              "(8784, 2928, 2928)"
            ]
          },
          "metadata": {},
          "execution_count": 12
        }
      ]
    },
    {
      "cell_type": "code",
      "metadata": {
        "colab": {
          "base_uri": "https://localhost:8080/"
        },
        "id": "R4up4EsAXPDb",
        "outputId": "09615404-7fdc-47e9-a85e-6cc60280657f"
      },
      "source": [
        "#Turn dataframes into numpy arrays\n",
        "train_sentences = train[\"text_stopwords\"].to_numpy()\n",
        "train_labels = train[\"airline_sentiment\"].to_numpy()\n",
        "val_sentences = validate[\"text_stopwords\"].to_numpy()\n",
        "val_labels = validate[\"airline_sentiment\"].to_numpy()\n",
        "test_sentences = test[\"text_stopwords\"].to_numpy()\n",
        "test_labels = test[\"airline_sentiment\"].to_numpy()\n",
        "train_sentences.shape, val_sentences.shape, test_sentences.shape"
      ],
      "execution_count": 13,
      "outputs": [
        {
          "output_type": "execute_result",
          "data": {
            "text/plain": [
              "((8784,), (2928,), (2928,))"
            ]
          },
          "metadata": {},
          "execution_count": 13
        }
      ]
    },
    {
      "cell_type": "markdown",
      "metadata": {
        "id": "3Z3zjzG5b_jT"
      },
      "source": [
        "## One-hot encode labels"
      ]
    },
    {
      "cell_type": "code",
      "metadata": {
        "id": "l6i4pSF9a5qr"
      },
      "source": [
        "from sklearn.preprocessing import OneHotEncoder\n",
        "one_hot_encoder = OneHotEncoder(sparse=False)\n",
        "train_labels_one_hot = one_hot_encoder.fit_transform(train_labels.reshape(-1, 1))\n",
        "test_labels_one_hot = one_hot_encoder.fit_transform(test_labels.reshape(-1, 1))\n",
        "val_labels_one_hot = one_hot_encoder.fit_transform(val_labels.reshape(-1, 1))"
      ],
      "execution_count": 14,
      "outputs": []
    },
    {
      "cell_type": "code",
      "metadata": {
        "colab": {
          "base_uri": "https://localhost:8080/"
        },
        "id": "gO9BmWJLcDJj",
        "outputId": "9cc9b597-5873-47c7-9549-903a8233e686"
      },
      "source": [
        "train_labels_one_hot[:10]"
      ],
      "execution_count": 15,
      "outputs": [
        {
          "output_type": "execute_result",
          "data": {
            "text/plain": [
              "array([[0., 0., 1.],\n",
              "       [1., 0., 0.],\n",
              "       [1., 0., 0.],\n",
              "       [0., 1., 0.],\n",
              "       [1., 0., 0.],\n",
              "       [1., 0., 0.],\n",
              "       [1., 0., 0.],\n",
              "       [0., 1., 0.],\n",
              "       [1., 0., 0.],\n",
              "       [0., 0., 1.]])"
            ]
          },
          "metadata": {},
          "execution_count": 15
        }
      ]
    },
    {
      "cell_type": "code",
      "metadata": {
        "id": "OiIbxVHaXbma"
      },
      "source": [
        "import tensorflow as tf\n",
        "#Turn data into TensorFlow Datasets\n",
        "train_dataset = tf.data.Dataset.from_tensor_slices((train_sentences, train_labels_one_hot))\n",
        "val_dataset = tf.data.Dataset.from_tensor_slices((val_sentences, val_labels_one_hot))\n",
        "test_dataset = tf.data.Dataset.from_tensor_slices((test_sentences, test_labels_one_hot))\n",
        "\n",
        "#Prefetch dataset\n",
        "train_dataset = train_dataset.batch(32).prefetch(tf.data.AUTOTUNE)\n",
        "val_dataset = val_dataset.batch(32).prefetch(tf.data.AUTOTUNE)\n",
        "test_dataset = test_dataset.batch(32).prefetch(tf.data.AUTOTUNE)"
      ],
      "execution_count": 16,
      "outputs": []
    },
    {
      "cell_type": "code",
      "metadata": {
        "colab": {
          "base_uri": "https://localhost:8080/"
        },
        "id": "B9SO2cv4oNWV",
        "outputId": "d9d74ffa-8dfb-438d-c4b9-8f026cf542d9"
      },
      "source": [
        "train_dataset"
      ],
      "execution_count": 17,
      "outputs": [
        {
          "output_type": "execute_result",
          "data": {
            "text/plain": [
              "<PrefetchDataset shapes: ((None,), (None, 3)), types: (tf.string, tf.float64)>"
            ]
          },
          "metadata": {},
          "execution_count": 17
        }
      ]
    },
    {
      "cell_type": "markdown",
      "metadata": {
        "id": "8BClSIace565"
      },
      "source": [
        "## Create Text Vectorization layers"
      ]
    },
    {
      "cell_type": "code",
      "metadata": {
        "colab": {
          "base_uri": "https://localhost:8080/"
        },
        "id": "bLwc_L3mZl5T",
        "outputId": "123ba17b-7868-45a8-852b-0c1d30d6ebee"
      },
      "source": [
        "#Find average number of words in training sentences\n",
        "sent_len = [len(sentence.split()) for sentence in train_sentences]\n",
        "avg_sent_len = np.mean(sent_len)\n",
        "avg_sent_len"
      ],
      "execution_count": 18,
      "outputs": [
        {
          "output_type": "execute_result",
          "data": {
            "text/plain": [
              "11.504895264116575"
            ]
          },
          "metadata": {},
          "execution_count": 18
        }
      ]
    },
    {
      "cell_type": "code",
      "metadata": {
        "colab": {
          "base_uri": "https://localhost:8080/",
          "height": 480
        },
        "id": "V03Kru84fKFU",
        "outputId": "5267a5b0-fecf-472d-911e-1b8c478ed526"
      },
      "source": [
        "import matplotlib.pyplot as plt\n",
        "plt.figure(figsize=(10,7))\n",
        "plt.hist(sent_len, bins=7)"
      ],
      "execution_count": 19,
      "outputs": [
        {
          "output_type": "execute_result",
          "data": {
            "text/plain": [
              "(array([ 688., 1704., 2360., 2927., 1021.,   81.,    3.]),\n",
              " array([ 1.,  5.,  9., 13., 17., 21., 25., 29.]),\n",
              " <a list of 7 Patch objects>)"
            ]
          },
          "metadata": {},
          "execution_count": 19
        },
        {
          "output_type": "display_data",
          "data": {
            "image/png": "[encoded data removed]",
            "text/plain": [
              "<Figure size 720x504 with 1 Axes>"
            ]
          },
          "metadata": {
            "needs_background": "light"
          }
        }
      ]
    },
    {
      "cell_type": "code",
      "metadata": {
        "colab": {
          "base_uri": "https://localhost:8080/"
        },
        "id": "gGV-6fpjfbnW",
        "outputId": "c3e92dc6-52af-4c19-faa8-42aab601bea1"
      },
      "source": [
        "# How long of a sentence covers 95% of the lengths?\n",
        "output_seq_len = int(np.percentile(sent_len, 95))\n",
        "output_seq_len"
      ],
      "execution_count": 20,
      "outputs": [
        {
          "output_type": "execute_result",
          "data": {
            "text/plain": [
              "18"
            ]
          },
          "metadata": {},
          "execution_count": 20
        }
      ]
    },
    {
      "cell_type": "code",
      "metadata": {
        "id": "Y1u1epcvft5_"
      },
      "source": [
        "from tensorflow.keras.layers.experimental.preprocessing import TextVectorization\n",
        "\n",
        "max_vocab_length = 10000\n",
        "max_length = output_seq_len\n",
        "\n",
        "text_vectorizer = TextVectorization(max_tokens=max_vocab_length,\n",
        "                                    output_mode=\"int\",\n",
        "                                    output_sequence_length=max_length)"
      ],
      "execution_count": 27,
      "outputs": []
    },
    {
      "cell_type": "code",
      "metadata": {
        "id": "ev48GDi_qRWi"
      },
      "source": [
        "#Fit vectorizer to train sentences\n",
        "text_vectorizer.adapt(train_sentences)"
      ],
      "execution_count": 31,
      "outputs": []
    },
    {
      "cell_type": "markdown",
      "metadata": {
        "id": "CGsQmRJHlwMy"
      },
      "source": [
        "## Create Embedding layer"
      ]
    },
    {
      "cell_type": "code",
      "metadata": {
        "id": "Au6SGuJDko6T"
      },
      "source": [
        "from tensorflow.keras import layers\n",
        "\n",
        "embedding = layers.Embedding(input_dim=max_vocab_length,\n",
        "                             output_dim=128,\n",
        "                             embeddings_initializer=\"uniform\",\n",
        "                             input_length=max_length)"
      ],
      "execution_count": 22,
      "outputs": []
    },
    {
      "cell_type": "markdown",
      "metadata": {
        "id": "KKIglvFQmB2R"
      },
      "source": [
        "## Modelling experiments"
      ]
    },
    {
      "cell_type": "code",
      "metadata": {
        "id": "r0wp7YbqmVgr"
      },
      "source": [
        "from helper_functions import plot_training_curve"
      ],
      "execution_count": 23,
      "outputs": []
    },
    {
      "cell_type": "markdown",
      "metadata": {
        "id": "W9d1v72fmRDv"
      },
      "source": [
        "### Model 1: Dense"
      ]
    },
    {
      "cell_type": "code",
      "metadata": {
        "id": "dEq-2Q6hmSR0"
      },
      "source": [
        "# Build the model \n",
        "inputs = layers.Input(shape=(1,), dtype=\"string\")\n",
        "x = text_vectorizer(inputs)\n",
        "x = embedding(x)\n",
        "x = layers.GlobalAveragePooling1D()(x)\n",
        "outputs = layers.Dense(3, activation=\"softmax\")(x)\n",
        "model_1 = tf.keras.Model(inputs, outputs)"
      ],
      "execution_count": 33,
      "outputs": []
    },
    {
      "cell_type": "code",
      "metadata": {
        "id": "AVGsCtoWm4Xz"
      },
      "source": [
        "# Compile the model \n",
        "model_1.compile(loss=\"categorical_crossentropy\", optimizer=\"Adam\", metrics=[\"accuracy\"])"
      ],
      "execution_count": 34,
      "outputs": []
    },
    {
      "cell_type": "code",
      "metadata": {
        "colab": {
          "base_uri": "https://localhost:8080/"
        },
        "id": "v6RDF3DGngmF",
        "outputId": "40717221-143b-4872-81de-3795634c82f7"
      },
      "source": [
        "%%time\n",
        "history_model_1 = model_1.fit(train_dataset,\n",
        "                              epochs=10,\n",
        "                              verbose=1,\n",
        "                              validation_data=val_dataset)"
      ],
      "execution_count": 35,
      "outputs": [
        {
          "output_type": "stream",
          "name": "stdout",
          "text": [
            "Epoch 1/10\n",
            "275/275 [==============================] - 5s 9ms/step - loss: 0.8334 - accuracy: 0.6516 - val_loss: 0.7300 - val_accuracy: 0.6759\n",
            "Epoch 2/10\n",
            "275/275 [==============================] - 2s 8ms/step - loss: 0.5846 - accuracy: 0.7768 - val_loss: 0.6133 - val_accuracy: 0.7558\n",
            "Epoch 3/10\n",
            "275/275 [==============================] - 2s 8ms/step - loss: 0.4470 - accuracy: 0.8421 - val_loss: 0.5649 - val_accuracy: 0.7715\n",
            "Epoch 4/10\n",
            "275/275 [==============================] - 2s 8ms/step - loss: 0.3569 - accuracy: 0.8784 - val_loss: 0.5530 - val_accuracy: 0.7773\n",
            "Epoch 5/10\n",
            "275/275 [==============================] - 2s 8ms/step - loss: 0.2944 - accuracy: 0.8997 - val_loss: 0.5585 - val_accuracy: 0.7783\n",
            "Epoch 6/10\n",
            "275/275 [==============================] - 2s 8ms/step - loss: 0.2476 - accuracy: 0.9192 - val_loss: 0.5740 - val_accuracy: 0.7804\n",
            "Epoch 7/10\n",
            "275/275 [==============================] - 2s 8ms/step - loss: 0.2113 - accuracy: 0.9336 - val_loss: 0.5957 - val_accuracy: 0.7804\n",
            "Epoch 8/10\n",
            "275/275 [==============================] - 2s 8ms/step - loss: 0.1824 - accuracy: 0.9436 - val_loss: 0.6218 - val_accuracy: 0.7766\n",
            "Epoch 9/10\n",
            "275/275 [==============================] - 2s 8ms/step - loss: 0.1590 - accuracy: 0.9530 - val_loss: 0.6511 - val_accuracy: 0.7702\n",
            "Epoch 10/10\n",
            "275/275 [==============================] - 2s 8ms/step - loss: 0.1399 - accuracy: 0.9584 - val_loss: 0.6830 - val_accuracy: 0.7654\n",
            "CPU times: user 28.1 s, sys: 4.2 s, total: 32.3 s\n",
            "Wall time: 27.1 s\n"
          ]
        }
      ]
    },
    {
      "cell_type": "code",
      "metadata": {
        "colab": {
          "base_uri": "https://localhost:8080/"
        },
        "id": "3DcKXgjcnthg",
        "outputId": "a05ec91b-5048-4d32-f861-4838adfadfbe"
      },
      "source": [
        "#Evaluate\n",
        "model_1.evaluate(test_dataset)"
      ],
      "execution_count": 36,
      "outputs": [
        {
          "output_type": "stream",
          "name": "stdout",
          "text": [
            "92/92 [==============================] - 0s 4ms/step - loss: 0.6732 - accuracy: 0.7688\n"
          ]
        },
        {
          "output_type": "execute_result",
          "data": {
            "text/plain": [
              "[0.6732238531112671, 0.7687841653823853]"
            ]
          },
          "metadata": {},
          "execution_count": 36
        }
      ]
    },
    {
      "cell_type": "code",
      "metadata": {
        "colab": {
          "base_uri": "https://localhost:8080/",
          "height": 444
        },
        "id": "vXHaAZPIqilF",
        "outputId": "3ffc7999-80a6-448a-8ef0-67eb836b9759"
      },
      "source": [
        "#Plot training curves\n",
        "plot_training_curve(history_model_1)"
      ],
      "execution_count": 37,
      "outputs": [
        {
          "output_type": "display_data",
          "data": {
            "image/png": "[encoded data removed]",
            "text/plain": [
              "<Figure size 720x504 with 1 Axes>"
            ]
          },
          "metadata": {
            "needs_background": "light"
          }
        }
      ]
    },
    {
      "cell_type": "markdown",
      "metadata": {
        "id": "hSbO7aVNrGf4"
      },
      "source": [
        "### Model 2: Conv1D"
      ]
    },
    {
      "cell_type": "code",
      "metadata": {
        "id": "qEqiPU7IrJ5C"
      },
      "source": [
        "# Build the model \n",
        "inputs = layers.Input(shape=(1,), dtype=tf.string)\n",
        "x = text_vectorizer(inputs)\n",
        "x = embedding(x)\n",
        "x = layers.Conv1D(filters=8, kernel_size=2, padding=\"same\", activation=\"relu\")(x)\n",
        "x = layers.Dropout(0.5)(x)\n",
        "x = layers.GlobalAveragePooling1D()(x)\n",
        "x = layers.Dropout(0.5)(x)\n",
        "outputs = layers.Dense(3, activation=\"softmax\")(x)\n",
        "model_2 = tf.keras.Model(inputs, outputs)"
      ],
      "execution_count": 95,
      "outputs": []
    },
    {
      "cell_type": "code",
      "metadata": {
        "id": "3ZevP1rGru1r"
      },
      "source": [
        "# Compile the model \n",
        "model_2.compile(loss=\"categorical_crossentropy\", optimizer=\"Adam\", metrics=[\"accuracy\"])"
      ],
      "execution_count": 96,
      "outputs": []
    },
    {
      "cell_type": "code",
      "metadata": {
        "colab": {
          "base_uri": "https://localhost:8080/"
        },
        "id": "LVTnf9rTt0Wf",
        "outputId": "5ab15e25-c667-4374-c74a-b501a1f8fed4"
      },
      "source": [
        "%%time\n",
        "history_model_2 = model_2.fit(train_dataset,\n",
        "                              epochs=500,\n",
        "                              verbose=1,\n",
        "                              validation_data=val_dataset,\n",
        "                              callbacks=[tf.keras.callbacks.ReduceLROnPlateau(monitor=\"val_loss\", patience=5, verbose=1),\n",
        "                                         tf.keras.callbacks.EarlyStopping(monitor=\"val_loss\", patience=10, restore_best_weights=True, verbose=1)])"
      ],
      "execution_count": 97,
      "outputs": [
        {
          "output_type": "stream",
          "name": "stdout",
          "text": [
            "Epoch 1/500\n",
            "275/275 [==============================] - 3s 10ms/step - loss: 0.6160 - accuracy: 0.7021 - val_loss: 0.7484 - val_accuracy: 0.6991\n",
            "Epoch 2/500\n",
            "275/275 [==============================] - 2s 9ms/step - loss: 0.4859 - accuracy: 0.7853 - val_loss: 0.7726 - val_accuracy: 0.7025\n",
            "Epoch 3/500\n",
            "275/275 [==============================] - 2s 9ms/step - loss: 0.4647 - accuracy: 0.7994 - val_loss: 0.8141 - val_accuracy: 0.7005\n",
            "Epoch 4/500\n",
            "275/275 [==============================] - 2s 9ms/step - loss: 0.4463 - accuracy: 0.8081 - val_loss: 0.8487 - val_accuracy: 0.6988\n",
            "Epoch 5/500\n",
            "275/275 [==============================] - 2s 9ms/step - loss: 0.4352 - accuracy: 0.8173 - val_loss: 0.8947 - val_accuracy: 0.7039\n",
            "Epoch 6/500\n",
            "275/275 [==============================] - 2s 9ms/step - loss: 0.4179 - accuracy: 0.8279 - val_loss: 0.9167 - val_accuracy: 0.6988\n",
            "\n",
            "Epoch 00006: ReduceLROnPlateau reducing learning rate to 0.00010000000474974513.\n",
            "Epoch 7/500\n",
            "275/275 [==============================] - 2s 9ms/step - loss: 0.4144 - accuracy: 0.8279 - val_loss: 0.9197 - val_accuracy: 0.6998\n",
            "Epoch 8/500\n",
            "275/275 [==============================] - 2s 9ms/step - loss: 0.4153 - accuracy: 0.8267 - val_loss: 0.9163 - val_accuracy: 0.6998\n",
            "Epoch 9/500\n",
            "275/275 [==============================] - 2s 9ms/step - loss: 0.4180 - accuracy: 0.8260 - val_loss: 0.9217 - val_accuracy: 0.6998\n",
            "Epoch 10/500\n",
            "275/275 [==============================] - 2s 9ms/step - loss: 0.4163 - accuracy: 0.8264 - val_loss: 0.9232 - val_accuracy: 0.6998\n",
            "Epoch 11/500\n",
            "275/275 [==============================] - 2s 9ms/step - loss: 0.4132 - accuracy: 0.8295 - val_loss: 0.9260 - val_accuracy: 0.6995\n",
            "\n",
            "Epoch 00011: ReduceLROnPlateau reducing learning rate to 1.0000000474974514e-05.\n",
            "Restoring model weights from the end of the best epoch.\n",
            "Epoch 00011: early stopping\n",
            "CPU times: user 31.8 s, sys: 4.74 s, total: 36.5 s\n",
            "Wall time: 30.6 s\n"
          ]
        }
      ]
    },
    {
      "cell_type": "code",
      "metadata": {
        "colab": {
          "base_uri": "https://localhost:8080/"
        },
        "id": "xDgJY1pir1cQ",
        "outputId": "d69c1f85-97a5-4d27-a2e5-566d9fdab87f"
      },
      "source": [
        "#Evaluate\n",
        "model_2.evaluate(test_dataset)"
      ],
      "execution_count": 98,
      "outputs": [
        {
          "output_type": "stream",
          "name": "stdout",
          "text": [
            "92/92 [==============================] - 0s 4ms/step - loss: 0.7158 - accuracy: 0.7141\n"
          ]
        },
        {
          "output_type": "execute_result",
          "data": {
            "text/plain": [
              "[0.7157864570617676, 0.7141393423080444]"
            ]
          },
          "metadata": {},
          "execution_count": 98
        }
      ]
    },
    {
      "cell_type": "code",
      "metadata": {
        "colab": {
          "base_uri": "https://localhost:8080/",
          "height": 444
        },
        "id": "z-LYsFqir6ba",
        "outputId": "f3e8fe0f-4a8f-4f52-af48-4a26acd9d4c6"
      },
      "source": [
        "#Plot training curves\n",
        "plot_training_curve(history_model_2)"
      ],
      "execution_count": 99,
      "outputs": [
        {
          "output_type": "display_data",
          "data": {
            "image/png": "[encoded data removed]",
            "text/plain": [
              "<Figure size 720x504 with 1 Axes>"
            ]
          },
          "metadata": {
            "needs_background": "light"
          }
        }
      ]
    },
    {
      "cell_type": "markdown",
      "metadata": {
        "id": "LY9gjqs1ujdZ"
      },
      "source": [
        "### Model 3: LSTM"
      ]
    },
    {
      "cell_type": "code",
      "metadata": {
        "id": "wzrKlMpor8qu"
      },
      "source": [
        "# Build the model \n",
        "inputs = layers.Input(shape=(1,), dtype=tf.string)\n",
        "x = text_vectorizer(inputs)\n",
        "x = embedding(x)\n",
        "x = layers.LSTM(8)(x)\n",
        "x = layers.Dropout(0.5)(x)\n",
        "outputs = layers.Dense(3, activation=\"softmax\")(x)\n",
        "model_3 = tf.keras.Model(inputs, outputs)"
      ],
      "execution_count": 110,
      "outputs": []
    },
    {
      "cell_type": "code",
      "metadata": {
        "id": "_dk_qMZNu3QS"
      },
      "source": [
        "# Compile the model \n",
        "model_3.compile(loss=\"categorical_crossentropy\", optimizer=\"Adam\", metrics=[\"accuracy\"])"
      ],
      "execution_count": 111,
      "outputs": []
    },
    {
      "cell_type": "code",
      "metadata": {
        "colab": {
          "base_uri": "https://localhost:8080/"
        },
        "id": "BZHQsfLSu58O",
        "outputId": "1a791266-f55b-4ff7-a55d-630269319a7e"
      },
      "source": [
        "%%time\n",
        "history_model_3 = model_3.fit(train_dataset,\n",
        "                              epochs=500,\n",
        "                              verbose=1,\n",
        "                              validation_data=val_dataset,\n",
        "                              callbacks=[tf.keras.callbacks.ReduceLROnPlateau(monitor=\"val_loss\", patience=5, verbose=1),\n",
        "                                         tf.keras.callbacks.EarlyStopping(monitor=\"val_loss\", patience=10, restore_best_weights=True, verbose=1)])"
      ],
      "execution_count": 112,
      "outputs": [
        {
          "output_type": "stream",
          "name": "stdout",
          "text": [
            "Epoch 1/500\n",
            "275/275 [==============================] - 6s 14ms/step - loss: 0.4908 - accuracy: 0.8241 - val_loss: 0.8150 - val_accuracy: 0.7456\n",
            "Epoch 2/500\n",
            "275/275 [==============================] - 3s 12ms/step - loss: 0.2269 - accuracy: 0.9406 - val_loss: 0.9163 - val_accuracy: 0.7305\n",
            "Epoch 3/500\n",
            "275/275 [==============================] - 3s 12ms/step - loss: 0.1717 - accuracy: 0.9565 - val_loss: 1.0358 - val_accuracy: 0.7370\n",
            "Epoch 4/500\n",
            "275/275 [==============================] - 3s 12ms/step - loss: 0.1459 - accuracy: 0.9644 - val_loss: 1.1697 - val_accuracy: 0.7374\n",
            "Epoch 5/500\n",
            "275/275 [==============================] - 3s 12ms/step - loss: 0.1307 - accuracy: 0.9671 - val_loss: 1.2101 - val_accuracy: 0.7435\n",
            "Epoch 6/500\n",
            "275/275 [==============================] - 3s 12ms/step - loss: 0.1186 - accuracy: 0.9720 - val_loss: 1.2645 - val_accuracy: 0.7312\n",
            "\n",
            "Epoch 00006: ReduceLROnPlateau reducing learning rate to 0.00010000000474974513.\n",
            "Epoch 7/500\n",
            "275/275 [==============================] - 3s 12ms/step - loss: 0.1031 - accuracy: 0.9745 - val_loss: 1.3089 - val_accuracy: 0.7398\n",
            "Epoch 8/500\n",
            "275/275 [==============================] - 3s 12ms/step - loss: 0.0961 - accuracy: 0.9744 - val_loss: 1.3494 - val_accuracy: 0.7387\n",
            "Epoch 9/500\n",
            "275/275 [==============================] - 3s 12ms/step - loss: 0.0891 - accuracy: 0.9783 - val_loss: 1.3587 - val_accuracy: 0.7377\n",
            "Epoch 10/500\n",
            "275/275 [==============================] - 3s 12ms/step - loss: 0.0907 - accuracy: 0.9775 - val_loss: 1.3724 - val_accuracy: 0.7367\n",
            "Epoch 11/500\n",
            "275/275 [==============================] - 3s 12ms/step - loss: 0.0877 - accuracy: 0.9793 - val_loss: 1.4026 - val_accuracy: 0.7350\n",
            "\n",
            "Epoch 00011: ReduceLROnPlateau reducing learning rate to 1.0000000474974514e-05.\n",
            "Restoring model weights from the end of the best epoch.\n",
            "Epoch 00011: early stopping\n",
            "CPU times: user 41 s, sys: 5.32 s, total: 46.3 s\n",
            "Wall time: 43.3 s\n"
          ]
        }
      ]
    },
    {
      "cell_type": "code",
      "metadata": {
        "colab": {
          "base_uri": "https://localhost:8080/"
        },
        "id": "9d-Z-QKXu9aZ",
        "outputId": "9b7cf07e-7987-447a-af3c-fe98bf5641a9"
      },
      "source": [
        "#Evaluate\n",
        "model_3.evaluate(test_dataset)"
      ],
      "execution_count": 113,
      "outputs": [
        {
          "output_type": "stream",
          "name": "stdout",
          "text": [
            "92/92 [==============================] - 0s 5ms/step - loss: 0.8038 - accuracy: 0.7439\n"
          ]
        },
        {
          "output_type": "execute_result",
          "data": {
            "text/plain": [
              "[0.8038120865821838, 0.743852436542511]"
            ]
          },
          "metadata": {},
          "execution_count": 113
        }
      ]
    },
    {
      "cell_type": "code",
      "metadata": {
        "colab": {
          "base_uri": "https://localhost:8080/",
          "height": 444
        },
        "id": "SYzb7DpuvAtJ",
        "outputId": "85d3a179-071b-405e-bdcc-a4f898140ebe"
      },
      "source": [
        "#Plot training curves\n",
        "plot_training_curve(history_model_3)"
      ],
      "execution_count": 114,
      "outputs": [
        {
          "output_type": "display_data",
          "data": {
            "image/png": "[encoded data removed]",
            "text/plain": [
              "<Figure size 720x504 with 1 Axes>"
            ]
          },
          "metadata": {
            "needs_background": "light"
          }
        }
      ]
    }
  ]
}