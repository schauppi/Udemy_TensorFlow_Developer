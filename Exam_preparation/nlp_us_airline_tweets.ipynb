{
  "nbformat": 4,
  "nbformat_minor": 0,
  "metadata": {
    "colab": {
      "name": "nlp_us_airline_tweets.ipynb",
      "provenance": [],
      "toc_visible": true,
      "authorship_tag": "ABX9TyNoGfNLaC9rfmJvZJqbiFqY",
      "include_colab_link": true
    },
    "kernelspec": {
      "name": "python3",
      "display_name": "Python 3"
    },
    "language_info": {
      "name": "python"
    },
    "accelerator": "GPU"
  },
  "cells": [
    {
      "cell_type": "markdown",
      "metadata": {
        "id": "view-in-github",
        "colab_type": "text"
      },
      "source": [
        "<a href=\"https://colab.research.google.com/github/schauppi/Udemy_TensorFlow_Developer/blob/main/Exam_preparation/nlp_us_airline_tweets.ipynb\" target=\"_parent\"><img src=\"https://colab.research.google.com/assets/colab-badge.svg\" alt=\"Open In Colab\"/></a>"
      ]
    },
    {
      "cell_type": "markdown",
      "metadata": {
        "id": "M3ykxe4YGN21"
      },
      "source": [
        "# US Airline Tweets text classification"
      ]
    },
    {
      "cell_type": "code",
      "metadata": {
        "colab": {
          "base_uri": "https://localhost:8080/"
        },
        "id": "rSgftKddGgUO",
        "outputId": "a2933426-3cb5-419a-b5b1-4c6ece2db7c1"
      },
      "source": [
        "#Download helper functions file\n",
        "!wget https://raw.githubusercontent.com/schauppi/Udemy_TensorFlow_Developer/main/Exam_preparation/helper_functions.py"
      ],
      "execution_count": 1,
      "outputs": [
        {
          "output_type": "stream",
          "name": "stdout",
          "text": [
            "--2021-09-08 15:36:15--  https://raw.githubusercontent.com/schauppi/Udemy_TensorFlow_Developer/main/Exam_preparation/helper_functions.py\n",
            "Resolving raw.githubusercontent.com (raw.githubusercontent.com)... 185.199.111.133, 185.199.109.133, 185.199.110.133, ...\n",
            "Connecting to raw.githubusercontent.com (raw.githubusercontent.com)|185.199.111.133|:443... connected.\n",
            "HTTP request sent, awaiting response... 200 OK\n",
            "Length: 5005 (4.9K) [text/plain]\n",
            "Saving to: ‘helper_functions.py’\n",
            "\n",
            "\rhelper_functions.py   0%[                    ]       0  --.-KB/s               \rhelper_functions.py 100%[===================>]   4.89K  --.-KB/s    in 0s      \n",
            "\n",
            "2021-09-08 15:36:15 (78.1 MB/s) - ‘helper_functions.py’ saved [5005/5005]\n",
            "\n"
          ]
        }
      ]
    },
    {
      "cell_type": "markdown",
      "metadata": {
        "id": "Fydf_DrTGpOo"
      },
      "source": [
        "## Data preparation"
      ]
    },
    {
      "cell_type": "code",
      "metadata": {
        "colab": {
          "base_uri": "https://localhost:8080/"
        },
        "id": "QewRfbMbGzFh",
        "outputId": "f6268b1f-1ef9-4553-89a9-e9a3c0934901"
      },
      "source": [
        "#Download dataset \n",
        "!wget https://raw.githubusercontent.com/schauppi/Udemy_TensorFlow_Developer/main/Exam_preparation/Datasets/Tweets.csv"
      ],
      "execution_count": 2,
      "outputs": [
        {
          "output_type": "stream",
          "name": "stdout",
          "text": [
            "--2021-09-08 15:36:16--  https://raw.githubusercontent.com/schauppi/Udemy_TensorFlow_Developer/main/Exam_preparation/Datasets/Tweets.csv\n",
            "Resolving raw.githubusercontent.com (raw.githubusercontent.com)... 185.199.108.133, 185.199.109.133, 185.199.110.133, ...\n",
            "Connecting to raw.githubusercontent.com (raw.githubusercontent.com)|185.199.108.133|:443... connected.\n",
            "HTTP request sent, awaiting response... 200 OK\n",
            "Length: 3421431 (3.3M) [text/plain]\n",
            "Saving to: ‘Tweets.csv’\n",
            "\n",
            "Tweets.csv          100%[===================>]   3.26M  --.-KB/s    in 0.07s   \n",
            "\n",
            "2021-09-08 15:36:17 (46.5 MB/s) - ‘Tweets.csv’ saved [3421431/3421431]\n",
            "\n"
          ]
        }
      ]
    },
    {
      "cell_type": "code",
      "metadata": {
        "colab": {
          "base_uri": "https://localhost:8080/",
          "height": 450
        },
        "id": "7eU-yZ1-G4ga",
        "outputId": "adbc60b3-0776-47be-f8ec-a5a5eb085c10"
      },
      "source": [
        "# Load in the dataset \n",
        "import pandas as pd\n",
        "df = pd.read_csv(\"/content/Tweets.csv\")\n",
        "df.head()"
      ],
      "execution_count": 3,
      "outputs": [
        {
          "output_type": "execute_result",
          "data": {
            "text/html": [
              "<div>\n",
              "<style scoped>\n",
              "    .dataframe tbody tr th:only-of-type {\n",
              "        vertical-align: middle;\n",
              "    }\n",
              "\n",
              "    .dataframe tbody tr th {\n",
              "        vertical-align: top;\n",
              "    }\n",
              "\n",
              "    .dataframe thead th {\n",
              "        text-align: right;\n",
              "    }\n",
              "</style>\n",
              "<table border=\"1\" class=\"dataframe\">\n",
              "  <thead>\n",
              "    <tr style=\"text-align: right;\">\n",
              "      <th></th>\n",
              "      <th>tweet_id</th>\n",
              "      <th>airline_sentiment</th>\n",
              "      <th>airline_sentiment_confidence</th>\n",
              "      <th>negativereason</th>\n",
              "      <th>negativereason_confidence</th>\n",
              "      <th>airline</th>\n",
              "      <th>airline_sentiment_gold</th>\n",
              "      <th>name</th>\n",
              "      <th>negativereason_gold</th>\n",
              "      <th>retweet_count</th>\n",
              "      <th>text</th>\n",
              "      <th>tweet_coord</th>\n",
              "      <th>tweet_created</th>\n",
              "      <th>tweet_location</th>\n",
              "      <th>user_timezone</th>\n",
              "    </tr>\n",
              "  </thead>\n",
              "  <tbody>\n",
              "    <tr>\n",
              "      <th>0</th>\n",
              "      <td>570306133677760513</td>\n",
              "      <td>neutral</td>\n",
              "      <td>1.0000</td>\n",
              "      <td>NaN</td>\n",
              "      <td>NaN</td>\n",
              "      <td>Virgin America</td>\n",
              "      <td>NaN</td>\n",
              "      <td>cairdin</td>\n",
              "      <td>NaN</td>\n",
              "      <td>0</td>\n",
              "      <td>@VirginAmerica What @dhepburn said.</td>\n",
              "      <td>NaN</td>\n",
              "      <td>2015-02-24 11:35:52 -0800</td>\n",
              "      <td>NaN</td>\n",
              "      <td>Eastern Time (US &amp; Canada)</td>\n",
              "    </tr>\n",
              "    <tr>\n",
              "      <th>1</th>\n",
              "      <td>570301130888122368</td>\n",
              "      <td>positive</td>\n",
              "      <td>0.3486</td>\n",
              "      <td>NaN</td>\n",
              "      <td>0.0000</td>\n",
              "      <td>Virgin America</td>\n",
              "      <td>NaN</td>\n",
              "      <td>jnardino</td>\n",
              "      <td>NaN</td>\n",
              "      <td>0</td>\n",
              "      <td>@VirginAmerica plus you've added commercials t...</td>\n",
              "      <td>NaN</td>\n",
              "      <td>2015-02-24 11:15:59 -0800</td>\n",
              "      <td>NaN</td>\n",
              "      <td>Pacific Time (US &amp; Canada)</td>\n",
              "    </tr>\n",
              "    <tr>\n",
              "      <th>2</th>\n",
              "      <td>570301083672813571</td>\n",
              "      <td>neutral</td>\n",
              "      <td>0.6837</td>\n",
              "      <td>NaN</td>\n",
              "      <td>NaN</td>\n",
              "      <td>Virgin America</td>\n",
              "      <td>NaN</td>\n",
              "      <td>yvonnalynn</td>\n",
              "      <td>NaN</td>\n",
              "      <td>0</td>\n",
              "      <td>@VirginAmerica I didn't today... Must mean I n...</td>\n",
              "      <td>NaN</td>\n",
              "      <td>2015-02-24 11:15:48 -0800</td>\n",
              "      <td>Lets Play</td>\n",
              "      <td>Central Time (US &amp; Canada)</td>\n",
              "    </tr>\n",
              "    <tr>\n",
              "      <th>3</th>\n",
              "      <td>570301031407624196</td>\n",
              "      <td>negative</td>\n",
              "      <td>1.0000</td>\n",
              "      <td>Bad Flight</td>\n",
              "      <td>0.7033</td>\n",
              "      <td>Virgin America</td>\n",
              "      <td>NaN</td>\n",
              "      <td>jnardino</td>\n",
              "      <td>NaN</td>\n",
              "      <td>0</td>\n",
              "      <td>@VirginAmerica it's really aggressive to blast...</td>\n",
              "      <td>NaN</td>\n",
              "      <td>2015-02-24 11:15:36 -0800</td>\n",
              "      <td>NaN</td>\n",
              "      <td>Pacific Time (US &amp; Canada)</td>\n",
              "    </tr>\n",
              "    <tr>\n",
              "      <th>4</th>\n",
              "      <td>570300817074462722</td>\n",
              "      <td>negative</td>\n",
              "      <td>1.0000</td>\n",
              "      <td>Can't Tell</td>\n",
              "      <td>1.0000</td>\n",
              "      <td>Virgin America</td>\n",
              "      <td>NaN</td>\n",
              "      <td>jnardino</td>\n",
              "      <td>NaN</td>\n",
              "      <td>0</td>\n",
              "      <td>@VirginAmerica and it's a really big bad thing...</td>\n",
              "      <td>NaN</td>\n",
              "      <td>2015-02-24 11:14:45 -0800</td>\n",
              "      <td>NaN</td>\n",
              "      <td>Pacific Time (US &amp; Canada)</td>\n",
              "    </tr>\n",
              "  </tbody>\n",
              "</table>\n",
              "</div>"
            ],
            "text/plain": [
              "             tweet_id  ...               user_timezone\n",
              "0  570306133677760513  ...  Eastern Time (US & Canada)\n",
              "1  570301130888122368  ...  Pacific Time (US & Canada)\n",
              "2  570301083672813571  ...  Central Time (US & Canada)\n",
              "3  570301031407624196  ...  Pacific Time (US & Canada)\n",
              "4  570300817074462722  ...  Pacific Time (US & Canada)\n",
              "\n",
              "[5 rows x 15 columns]"
            ]
          },
          "metadata": {},
          "execution_count": 3
        }
      ]
    },
    {
      "cell_type": "code",
      "metadata": {
        "colab": {
          "base_uri": "https://localhost:8080/"
        },
        "id": "5Q4QGPLkHECi",
        "outputId": "6350d53c-dbf1-442f-d314-255b4897eeaa"
      },
      "source": [
        "#How many different sentiments\n",
        "df.airline_sentiment.value_counts()"
      ],
      "execution_count": 4,
      "outputs": [
        {
          "output_type": "execute_result",
          "data": {
            "text/plain": [
              "negative    9178\n",
              "neutral     3099\n",
              "positive    2363\n",
              "Name: airline_sentiment, dtype: int64"
            ]
          },
          "metadata": {},
          "execution_count": 4
        }
      ]
    },
    {
      "cell_type": "code",
      "metadata": {
        "colab": {
          "base_uri": "https://localhost:8080/"
        },
        "id": "iUamC50kHSkC",
        "outputId": "78c5aeb5-c044-46dd-abc1-19d622340058"
      },
      "source": [
        "#Visualize some random examples\n",
        "import random\n",
        "random_index = random.randint(0, len(df)-5)\n",
        "for row in df[[\"text\", \"airline_sentiment\"]][random_index:random_index+5].itertuples():\n",
        "  _, text, sentiment = row\n",
        "  print(f\"Text: {text}\")\n",
        "  print(f\"Rating: {sentiment}\\n\")"
      ],
      "execution_count": 5,
      "outputs": [
        {
          "output_type": "stream",
          "name": "stdout",
          "text": [
            "Text: @virginamerica What is your phone number. I can't find who to call about a flight reservation.\n",
            "Rating: negative\n",
            "\n",
            "Text: @VirginAmerica is anyone doing anything there today?  Website is useless and no one is answering the phone.\n",
            "Rating: negative\n",
            "\n",
            "Text: @VirginAmerica trying to add my boy Prince to my ressie. SF this Thursday @VirginAmerica from LAX http://t.co/GsB2J3c4gM\n",
            "Rating: neutral\n",
            "\n",
            "Text: @VirginAmerica why must a traveler miss a flight to Late Flight check a bag?  I missed my morning appointments and you lost my business. #sfo2lax\n",
            "Rating: negative\n",
            "\n",
            "Text: @VirginAmerica check out new music http://t.co/maRcnOCWzn\n",
            "Rating: neutral\n",
            "\n"
          ]
        }
      ]
    },
    {
      "cell_type": "markdown",
      "metadata": {
        "id": "ImQ2i4gvV3q_"
      },
      "source": [
        "## Remove different strings"
      ]
    },
    {
      "cell_type": "code",
      "metadata": {
        "colab": {
          "base_uri": "https://localhost:8080/"
        },
        "id": "PSN9YT7IH2wL",
        "outputId": "d6d0cc36-8002-4f40-80ad-072ee118a98b"
      },
      "source": [
        "# Remove Smileys, @, # and links\n",
        "import re\n",
        "emoji_pattern = re.compile(\"[\"\n",
        "        u\"\\U0001F600-\\U0001F64F\"  # emoticons\n",
        "        u\"\\U0001F300-\\U0001F5FF\"  # symbols & pictographs\n",
        "        u\"\\U0001F680-\\U0001F6FF\"  # transport & map symbols\n",
        "        u\"\\U0001F1E0-\\U0001F1FF\"  # flags (iOS)\n",
        "                           \"]+\", flags=re.UNICODE)\n",
        "\n",
        "for index, row in enumerate(df[\"text\"]):\n",
        "  row = re.sub(r'http\\S+', '', row)\n",
        "  row = re.sub(r'@', '', row)\n",
        "  row = re.sub(r'#', '', row)\n",
        "  row = emoji_pattern.sub(r'', row)\n",
        "  df[\"text\"][index] = row"
      ],
      "execution_count": 6,
      "outputs": [
        {
          "output_type": "stream",
          "name": "stderr",
          "text": [
            "/usr/local/lib/python3.7/dist-packages/ipykernel_launcher.py:15: SettingWithCopyWarning: \n",
            "A value is trying to be set on a copy of a slice from a DataFrame\n",
            "\n",
            "See the caveats in the documentation: https://pandas.pydata.org/pandas-docs/stable/user_guide/indexing.html#returning-a-view-versus-a-copy\n",
            "  from ipykernel import kernelapp as app\n"
          ]
        }
      ]
    },
    {
      "cell_type": "code",
      "metadata": {
        "colab": {
          "base_uri": "https://localhost:8080/"
        },
        "id": "o7mV9x76MOCg",
        "outputId": "ef5c6d40-62c2-4c34-f0ab-e7af8f25dc32"
      },
      "source": [
        "#Visualize some random examples after cleaning\n",
        "import random\n",
        "random_index = random.randint(0, len(df)-5)\n",
        "for row in df[[\"text\", \"airline_sentiment\"]][random_index:random_index+5].itertuples():\n",
        "  _, text, sentiment = row\n",
        "  print(f\"Text: {text}\")\n",
        "  print(f\"Rating: {sentiment}\\n\")"
      ],
      "execution_count": 7,
      "outputs": [
        {
          "output_type": "stream",
          "name": "stdout",
          "text": [
            "Text: AmericanAir thanks!\n",
            "Rating: positive\n",
            "\n",
            "Text: AmericanAir well Done all of you xx\n",
            "Rating: positive\n",
            "\n",
            "Text: AmericanAir Thanks. Having issues checking in for flight, please check our DM convo for more info.\n",
            "Rating: positive\n",
            "\n",
            "Text: AmericanAir You don't care about keeping your customers safe or at least you didn't care about my sister\n",
            "Rating: negative\n",
            "\n",
            "Text: AmericanAir maybe you should stop tweeting and start calling. Or make it available for people to wait on-hold instead of hanging up on us.\n",
            "Rating: negative\n",
            "\n"
          ]
        }
      ]
    },
    {
      "cell_type": "markdown",
      "metadata": {
        "id": "WQh8eUXaWLpX"
      },
      "source": [
        "## Remove stopwords"
      ]
    },
    {
      "cell_type": "code",
      "metadata": {
        "colab": {
          "base_uri": "https://localhost:8080/"
        },
        "id": "0JSKAa6GWQM-",
        "outputId": "e3a5f831-f484-4e10-fb63-7f128fa41d48"
      },
      "source": [
        "import nltk\n",
        "nltk.download('stopwords')\n",
        "from nltk.corpus import stopwords\n",
        "STOPWORDS = set(stopwords.words('english'))"
      ],
      "execution_count": 8,
      "outputs": [
        {
          "output_type": "stream",
          "name": "stdout",
          "text": [
            "[nltk_data] Downloading package stopwords to /root/nltk_data...\n",
            "[nltk_data]   Unzipping corpora/stopwords.zip.\n"
          ]
        }
      ]
    },
    {
      "cell_type": "code",
      "metadata": {
        "id": "DYI8KvtBWZHB"
      },
      "source": [
        "df[\"text_stopwords\"] = df[\"text\"].apply(lambda x: ' '.join([word for word in x.split() if word not in (STOPWORDS)]))"
      ],
      "execution_count": 9,
      "outputs": []
    },
    {
      "cell_type": "code",
      "metadata": {
        "colab": {
          "base_uri": "https://localhost:8080/"
        },
        "id": "WpcX2QI7WnhL",
        "outputId": "8fb763ed-d15f-474e-86b6-fe202111a30d"
      },
      "source": [
        "#Visualize some random examples after removing stop words\n",
        "import random\n",
        "random_index = random.randint(0, len(df)-5)\n",
        "for row in df[[\"text_stopwords\", \"text\", \"airline_sentiment\"]][random_index:random_index+5].itertuples():\n",
        "  _, text_without_stopwords, text, sentiment = row\n",
        "  print(f\"Text with stopwords: {text}\")\n",
        "  print(f\"Text without stopwords: {text_without_stopwords}\")\n",
        "  print(f\"Rating: {sentiment}\\n\")"
      ],
      "execution_count": 49,
      "outputs": [
        {
          "output_type": "stream",
          "name": "stdout",
          "text": [
            "Text with stopwords: USAirways I have two tight connections in Charlotte and Frankfurt\n",
            "Text without stopwords: USAirways I two tight connections Charlotte Frankfurt\n",
            "Rating: negative\n",
            "\n",
            "Text with stopwords: USAirways Said only way to get on plane about to leave that would make my connection was a $75 fee. Instead of earlier, I am now Late Flightr!\n",
            "Text without stopwords: USAirways Said way get plane leave would make connection $75 fee. Instead earlier, I Late Flightr!\n",
            "Rating: negative\n",
            "\n",
            "Text with stopwords: USAirways thank you! I will be calling you! CheapOairChat\n",
            "Text without stopwords: USAirways thank you! I calling you! CheapOairChat\n",
            "Rating: positive\n",
            "\n",
            "Text with stopwords: USAirways ur \"response\" was: my \"inconvenience was of no matter.\" U wanted me sit for 3 xtra nights in the city w/out comp! donotflyusair\n",
            "Text without stopwords: USAirways ur \"response\" was: \"inconvenience matter.\" U wanted sit 3 xtra nights city w/out comp! donotflyusair\n",
            "Rating: negative\n",
            "\n",
            "Text with stopwords: USAirways I forgot my password and I don't know if my username is correct, and i want to use my miles, what i have to do??\n",
            "Text without stopwords: USAirways I forgot password I know username correct, want use miles, do??\n",
            "Rating: neutral\n",
            "\n"
          ]
        }
      ]
    },
    {
      "cell_type": "markdown",
      "metadata": {
        "id": "KmiPo-VoXAY9"
      },
      "source": [
        "## Split dataset"
      ]
    },
    {
      "cell_type": "code",
      "metadata": {
        "id": "n99nDZAZVArl"
      },
      "source": [
        "import numpy as np\n",
        "np.random.seed(42)\n",
        "perm = np.random.permutation(df.index)\n",
        "m = len(df)\n",
        "train_end = int(0.6 * m)\n",
        "validate_end = int(0.2 * m) + train_end\n",
        "train = df.iloc[perm[:train_end]]\n",
        "validate = df.iloc[perm[train_end:validate_end]]\n",
        "test = df.iloc[perm[validate_end:]]"
      ],
      "execution_count": 11,
      "outputs": []
    },
    {
      "cell_type": "code",
      "metadata": {
        "colab": {
          "base_uri": "https://localhost:8080/"
        },
        "id": "5KAGB8MtXJIY",
        "outputId": "a25a0c2e-d583-4c5e-ecfd-29c5a2e8ef1a"
      },
      "source": [
        "len(train), len(validate), len(test)"
      ],
      "execution_count": 12,
      "outputs": [
        {
          "output_type": "execute_result",
          "data": {
            "text/plain": [
              "(8784, 2928, 2928)"
            ]
          },
          "metadata": {},
          "execution_count": 12
        }
      ]
    },
    {
      "cell_type": "code",
      "metadata": {
        "colab": {
          "base_uri": "https://localhost:8080/"
        },
        "id": "R4up4EsAXPDb",
        "outputId": "4305e5fc-0ca8-4126-fce5-ca436451740a"
      },
      "source": [
        "#Turn dataframes into numpy arrays without stopwords\n",
        "train_sentences = train[\"text_stopwords\"].to_numpy()\n",
        "train_labels = train[\"airline_sentiment\"].to_numpy()\n",
        "val_sentences = validate[\"text_stopwords\"].to_numpy()\n",
        "val_labels = validate[\"airline_sentiment\"].to_numpy()\n",
        "test_sentences = test[\"text_stopwords\"].to_numpy()\n",
        "test_labels = test[\"airline_sentiment\"].to_numpy()\n",
        "train_sentences.shape, val_sentences.shape, test_sentences.shape"
      ],
      "execution_count": 13,
      "outputs": [
        {
          "output_type": "execute_result",
          "data": {
            "text/plain": [
              "((8784,), (2928,), (2928,))"
            ]
          },
          "metadata": {},
          "execution_count": 13
        }
      ]
    },
    {
      "cell_type": "code",
      "metadata": {
        "id": "IoMUg6fLEIFB",
        "outputId": "520a4ad4-e019-410f-ec21-e4ee1748b49a",
        "colab": {
          "base_uri": "https://localhost:8080/"
        }
      },
      "source": [
        "#Turn dataframes into numpy arrays with stopwords\n",
        "train_sentences_with_stopwords = train[\"text\"].to_numpy()\n",
        "val_sentences_with_stopwords = validate[\"text\"].to_numpy()\n",
        "test_sentences_with_stopwords = test[\"text\"].to_numpy()\n",
        "train_sentences_with_stopwords.shape, val_sentences_with_stopwords.shape, test_sentences_with_stopwords.shape"
      ],
      "execution_count": 44,
      "outputs": [
        {
          "output_type": "execute_result",
          "data": {
            "text/plain": [
              "((8784,), (2928,), (2928,))"
            ]
          },
          "metadata": {},
          "execution_count": 44
        }
      ]
    },
    {
      "cell_type": "markdown",
      "metadata": {
        "id": "3Z3zjzG5b_jT"
      },
      "source": [
        "## One-hot encode labels"
      ]
    },
    {
      "cell_type": "code",
      "metadata": {
        "id": "l6i4pSF9a5qr"
      },
      "source": [
        "from sklearn.preprocessing import OneHotEncoder\n",
        "one_hot_encoder = OneHotEncoder(sparse=False)\n",
        "train_labels_one_hot = one_hot_encoder.fit_transform(train_labels.reshape(-1, 1))\n",
        "test_labels_one_hot = one_hot_encoder.fit_transform(test_labels.reshape(-1, 1))\n",
        "val_labels_one_hot = one_hot_encoder.fit_transform(val_labels.reshape(-1, 1))"
      ],
      "execution_count": 14,
      "outputs": []
    },
    {
      "cell_type": "code",
      "metadata": {
        "colab": {
          "base_uri": "https://localhost:8080/"
        },
        "id": "gO9BmWJLcDJj",
        "outputId": "e6760576-15c8-47db-c97b-8f456844645f"
      },
      "source": [
        "train_labels_one_hot[:10]"
      ],
      "execution_count": 15,
      "outputs": [
        {
          "output_type": "execute_result",
          "data": {
            "text/plain": [
              "array([[0., 0., 1.],\n",
              "       [1., 0., 0.],\n",
              "       [1., 0., 0.],\n",
              "       [0., 1., 0.],\n",
              "       [1., 0., 0.],\n",
              "       [1., 0., 0.],\n",
              "       [1., 0., 0.],\n",
              "       [0., 1., 0.],\n",
              "       [1., 0., 0.],\n",
              "       [0., 0., 1.]])"
            ]
          },
          "metadata": {},
          "execution_count": 15
        }
      ]
    },
    {
      "cell_type": "code",
      "metadata": {
        "id": "OiIbxVHaXbma"
      },
      "source": [
        "import tensorflow as tf\n",
        "#Turn data into TensorFlow Datasets\n",
        "train_dataset = tf.data.Dataset.from_tensor_slices((train_sentences, train_labels_one_hot))\n",
        "val_dataset = tf.data.Dataset.from_tensor_slices((val_sentences, val_labels_one_hot))\n",
        "test_dataset = tf.data.Dataset.from_tensor_slices((test_sentences, test_labels_one_hot))\n",
        "\n",
        "#Prefetch dataset\n",
        "train_dataset = train_dataset.batch(32).prefetch(tf.data.AUTOTUNE)\n",
        "val_dataset = val_dataset.batch(32).prefetch(tf.data.AUTOTUNE)\n",
        "test_dataset = test_dataset.batch(32).prefetch(tf.data.AUTOTUNE)"
      ],
      "execution_count": 16,
      "outputs": []
    },
    {
      "cell_type": "code",
      "metadata": {
        "colab": {
          "base_uri": "https://localhost:8080/"
        },
        "id": "B9SO2cv4oNWV",
        "outputId": "8988d760-b715-4749-81bc-8bfbf3dadefd"
      },
      "source": [
        "train_dataset"
      ],
      "execution_count": 17,
      "outputs": [
        {
          "output_type": "execute_result",
          "data": {
            "text/plain": [
              "<PrefetchDataset shapes: ((None,), (None, 3)), types: (tf.string, tf.float64)>"
            ]
          },
          "metadata": {},
          "execution_count": 17
        }
      ]
    },
    {
      "cell_type": "code",
      "metadata": {
        "id": "wgi1uk-VFglc"
      },
      "source": [
        "#Turn data into TensorFlow Datasets\n",
        "train_dataset_with_stopwords = tf.data.Dataset.from_tensor_slices((train_sentences_with_stopwords, train_labels_one_hot))\n",
        "val_dataset_with_stopwords = tf.data.Dataset.from_tensor_slices((val_sentences_with_stopwords, val_labels_one_hot))\n",
        "test_dataset_with_stopwords = tf.data.Dataset.from_tensor_slices((test_sentences_with_stopwords, test_labels_one_hot))\n",
        "\n",
        "#Prefetch dataset\n",
        "train_dataset_with_stopwords = train_dataset_with_stopwords.batch(32).prefetch(tf.data.AUTOTUNE)\n",
        "val_dataset_with_stopwords = val_dataset_with_stopwords.batch(32).prefetch(tf.data.AUTOTUNE)\n",
        "test_dataset_with_stopwords = test_dataset_with_stopwords.batch(32).prefetch(tf.data.AUTOTUNE)"
      ],
      "execution_count": 51,
      "outputs": []
    },
    {
      "cell_type": "code",
      "metadata": {
        "id": "6AwH1cUTF4e_",
        "outputId": "50d22d51-552a-4c30-82cc-c76dff2de8b2",
        "colab": {
          "base_uri": "https://localhost:8080/"
        }
      },
      "source": [
        "train_dataset_with_stopwords"
      ],
      "execution_count": 52,
      "outputs": [
        {
          "output_type": "execute_result",
          "data": {
            "text/plain": [
              "<PrefetchDataset shapes: ((None,), (None, 3)), types: (tf.string, tf.float64)>"
            ]
          },
          "metadata": {},
          "execution_count": 52
        }
      ]
    },
    {
      "cell_type": "markdown",
      "metadata": {
        "id": "8BClSIace565"
      },
      "source": [
        "## Create Text Vectorization layers"
      ]
    },
    {
      "cell_type": "code",
      "metadata": {
        "colab": {
          "base_uri": "https://localhost:8080/"
        },
        "id": "bLwc_L3mZl5T",
        "outputId": "68887113-8175-49d7-d0d9-80497ebd724a"
      },
      "source": [
        "#Find average number of words in training sentences\n",
        "sent_len = [len(sentence.split()) for sentence in train_sentences]\n",
        "avg_sent_len = np.mean(sent_len)\n",
        "avg_sent_len"
      ],
      "execution_count": 18,
      "outputs": [
        {
          "output_type": "execute_result",
          "data": {
            "text/plain": [
              "11.504895264116575"
            ]
          },
          "metadata": {},
          "execution_count": 18
        }
      ]
    },
    {
      "cell_type": "code",
      "metadata": {
        "colab": {
          "base_uri": "https://localhost:8080/",
          "height": 480
        },
        "id": "V03Kru84fKFU",
        "outputId": "479a648b-a6ea-4d95-9ecc-39e0014eaa37"
      },
      "source": [
        "import matplotlib.pyplot as plt\n",
        "plt.figure(figsize=(10,7))\n",
        "plt.hist(sent_len, bins=7)"
      ],
      "execution_count": 19,
      "outputs": [
        {
          "output_type": "execute_result",
          "data": {
            "text/plain": [
              "(array([ 688., 1704., 2360., 2927., 1021.,   81.,    3.]),\n",
              " array([ 1.,  5.,  9., 13., 17., 21., 25., 29.]),\n",
              " <a list of 7 Patch objects>)"
            ]
          },
          "metadata": {},
          "execution_count": 19
        },
        {
          "output_type": "display_data",
          "data": {
            "image/png": "[encoded data removed]",
            "text/plain": [
              "<Figure size 720x504 with 1 Axes>"
            ]
          },
          "metadata": {
            "needs_background": "light"
          }
        }
      ]
    },
    {
      "cell_type": "code",
      "metadata": {
        "colab": {
          "base_uri": "https://localhost:8080/"
        },
        "id": "gGV-6fpjfbnW",
        "outputId": "c931bb33-b793-4ede-a3f8-a459ee9fd153"
      },
      "source": [
        "# How long of a sentence covers 95% of the lengths?\n",
        "output_seq_len = int(np.percentile(sent_len, 95))\n",
        "output_seq_len"
      ],
      "execution_count": 20,
      "outputs": [
        {
          "output_type": "execute_result",
          "data": {
            "text/plain": [
              "18"
            ]
          },
          "metadata": {},
          "execution_count": 20
        }
      ]
    },
    {
      "cell_type": "code",
      "metadata": {
        "id": "Y1u1epcvft5_"
      },
      "source": [
        "from tensorflow.keras.layers.experimental.preprocessing import TextVectorization\n",
        "\n",
        "max_vocab_length = 5000\n",
        "max_length = output_seq_len\n",
        "\n",
        "text_vectorizer = TextVectorization(max_tokens=max_vocab_length,\n",
        "                                    output_mode=\"int\",\n",
        "                                    output_sequence_length=max_length)"
      ],
      "execution_count": 96,
      "outputs": []
    },
    {
      "cell_type": "code",
      "metadata": {
        "id": "ev48GDi_qRWi"
      },
      "source": [
        "#Fit vectorizer to train sentences\n",
        "text_vectorizer.adapt(train_sentences)"
      ],
      "execution_count": 97,
      "outputs": []
    },
    {
      "cell_type": "markdown",
      "metadata": {
        "id": "CGsQmRJHlwMy"
      },
      "source": [
        "## Create Embedding layer"
      ]
    },
    {
      "cell_type": "code",
      "metadata": {
        "id": "Au6SGuJDko6T"
      },
      "source": [
        "from tensorflow.keras import layers\n",
        "\n",
        "embedding = layers.Embedding(input_dim=max_vocab_length,\n",
        "                             output_dim=32,\n",
        "                             embeddings_initializer=\"uniform\",\n",
        "                             input_length=max_length)"
      ],
      "execution_count": 98,
      "outputs": []
    },
    {
      "cell_type": "markdown",
      "metadata": {
        "id": "KKIglvFQmB2R"
      },
      "source": [
        "## Modelling experiments"
      ]
    },
    {
      "cell_type": "code",
      "metadata": {
        "id": "r0wp7YbqmVgr"
      },
      "source": [
        "from helper_functions import plot_training_curve"
      ],
      "execution_count": 99,
      "outputs": []
    },
    {
      "cell_type": "markdown",
      "metadata": {
        "id": "W9d1v72fmRDv"
      },
      "source": [
        "### Model 1: Dense"
      ]
    },
    {
      "cell_type": "code",
      "metadata": {
        "id": "dEq-2Q6hmSR0"
      },
      "source": [
        "# Build the model \n",
        "inputs = layers.Input(shape=(1,), dtype=\"string\")\n",
        "x = text_vectorizer(inputs)\n",
        "x = embedding(x)\n",
        "x = layers.GlobalAveragePooling1D()(x)\n",
        "outputs = layers.Dense(3, activation=\"softmax\")(x)\n",
        "model_1 = tf.keras.Model(inputs, outputs)"
      ],
      "execution_count": 100,
      "outputs": []
    },
    {
      "cell_type": "code",
      "metadata": {
        "id": "AVGsCtoWm4Xz"
      },
      "source": [
        "# Compile the model \n",
        "model_1.compile(loss=\"categorical_crossentropy\", optimizer=\"Adam\", metrics=[\"accuracy\"])"
      ],
      "execution_count": 101,
      "outputs": []
    },
    {
      "cell_type": "code",
      "metadata": {
        "colab": {
          "base_uri": "https://localhost:8080/"
        },
        "id": "v6RDF3DGngmF",
        "outputId": "1c142242-52e4-4a6e-a50e-f3641f788c39"
      },
      "source": [
        "%%time\n",
        "history_model_1 = model_1.fit(train_dataset,\n",
        "                              epochs=10,\n",
        "                              verbose=1,\n",
        "                              validation_data=val_dataset)"
      ],
      "execution_count": 102,
      "outputs": [
        {
          "output_type": "stream",
          "name": "stdout",
          "text": [
            "Epoch 1/10\n",
            "275/275 [==============================] - 2s 5ms/step - loss: 0.9103 - accuracy: 0.6340 - val_loss: 0.8209 - val_accuracy: 0.6069\n",
            "Epoch 2/10\n",
            "275/275 [==============================] - 1s 4ms/step - loss: 0.7085 - accuracy: 0.6835 - val_loss: 0.7180 - val_accuracy: 0.6800\n",
            "Epoch 3/10\n",
            "275/275 [==============================] - 1s 4ms/step - loss: 0.6063 - accuracy: 0.7625 - val_loss: 0.6525 - val_accuracy: 0.7370\n",
            "Epoch 4/10\n",
            "275/275 [==============================] - 1s 4ms/step - loss: 0.5259 - accuracy: 0.8094 - val_loss: 0.6061 - val_accuracy: 0.7565\n",
            "Epoch 5/10\n",
            "275/275 [==============================] - 1s 4ms/step - loss: 0.4618 - accuracy: 0.8348 - val_loss: 0.5778 - val_accuracy: 0.7623\n",
            "Epoch 6/10\n",
            "275/275 [==============================] - 1s 4ms/step - loss: 0.4125 - accuracy: 0.8548 - val_loss: 0.5632 - val_accuracy: 0.7705\n",
            "Epoch 7/10\n",
            "275/275 [==============================] - 1s 4ms/step - loss: 0.3739 - accuracy: 0.8689 - val_loss: 0.5574 - val_accuracy: 0.7715\n",
            "Epoch 8/10\n",
            "275/275 [==============================] - 1s 4ms/step - loss: 0.3427 - accuracy: 0.8802 - val_loss: 0.5574 - val_accuracy: 0.7756\n",
            "Epoch 9/10\n",
            "275/275 [==============================] - 1s 4ms/step - loss: 0.3165 - accuracy: 0.8903 - val_loss: 0.5614 - val_accuracy: 0.7783\n",
            "Epoch 10/10\n",
            "275/275 [==============================] - 1s 4ms/step - loss: 0.2941 - accuracy: 0.8975 - val_loss: 0.5684 - val_accuracy: 0.7766\n",
            "CPU times: user 14.7 s, sys: 2.03 s, total: 16.7 s\n",
            "Wall time: 12.2 s\n"
          ]
        }
      ]
    },
    {
      "cell_type": "code",
      "metadata": {
        "colab": {
          "base_uri": "https://localhost:8080/"
        },
        "id": "3DcKXgjcnthg",
        "outputId": "b60ba7b4-2554-4a93-a1c3-9a3b1760ba03"
      },
      "source": [
        "#Evaluate\n",
        "model_1.evaluate(test_dataset)"
      ],
      "execution_count": 103,
      "outputs": [
        {
          "output_type": "stream",
          "name": "stdout",
          "text": [
            "92/92 [==============================] - 0s 2ms/step - loss: 0.5514 - accuracy: 0.7869\n"
          ]
        },
        {
          "output_type": "execute_result",
          "data": {
            "text/plain": [
              "[0.5514275431632996, 0.7868852615356445]"
            ]
          },
          "metadata": {},
          "execution_count": 103
        }
      ]
    },
    {
      "cell_type": "code",
      "metadata": {
        "colab": {
          "base_uri": "https://localhost:8080/",
          "height": 444
        },
        "id": "vXHaAZPIqilF",
        "outputId": "6339b9e3-408b-4c8b-c14f-42c72dd182a0"
      },
      "source": [
        "#Plot training curves\n",
        "plot_training_curve(history_model_1)"
      ],
      "execution_count": 104,
      "outputs": [
        {
          "output_type": "display_data",
          "data": {
            "image/png": "[encoded data removed]",
            "text/plain": [
              "<Figure size 720x504 with 1 Axes>"
            ]
          },
          "metadata": {
            "needs_background": "light"
          }
        }
      ]
    },
    {
      "cell_type": "markdown",
      "metadata": {
        "id": "hSbO7aVNrGf4"
      },
      "source": [
        "### Model 2: Conv1D"
      ]
    },
    {
      "cell_type": "code",
      "metadata": {
        "id": "qEqiPU7IrJ5C"
      },
      "source": [
        "# Build the model \n",
        "inputs = layers.Input(shape=(1,), dtype=tf.string)\n",
        "x = text_vectorizer(inputs)\n",
        "x = embedding(x)\n",
        "x = layers.Conv1D(filters=8, kernel_size=2, padding=\"same\", activation=\"relu\")(x)\n",
        "x = layers.Dropout(0.5)(x)\n",
        "x = layers.GlobalAveragePooling1D()(x)\n",
        "x = layers.Dropout(0.5)(x)\n",
        "outputs = layers.Dense(3, activation=\"softmax\")(x)\n",
        "model_2 = tf.keras.Model(inputs, outputs)"
      ],
      "execution_count": 105,
      "outputs": []
    },
    {
      "cell_type": "code",
      "metadata": {
        "id": "3ZevP1rGru1r"
      },
      "source": [
        "# Compile the model \n",
        "model_2.compile(loss=\"categorical_crossentropy\", optimizer=\"Adam\", metrics=[\"accuracy\"])"
      ],
      "execution_count": 106,
      "outputs": []
    },
    {
      "cell_type": "code",
      "metadata": {
        "colab": {
          "base_uri": "https://localhost:8080/"
        },
        "id": "LVTnf9rTt0Wf",
        "outputId": "147333d2-fa25-4af6-9440-fc3888a89426"
      },
      "source": [
        "%%time\n",
        "history_model_2 = model_2.fit(train_dataset,\n",
        "                              epochs=500,\n",
        "                              verbose=1,\n",
        "                              validation_data=val_dataset,\n",
        "                              callbacks=[tf.keras.callbacks.ReduceLROnPlateau(monitor=\"val_loss\", patience=5, verbose=1),\n",
        "                                         tf.keras.callbacks.EarlyStopping(monitor=\"val_loss\", patience=10, restore_best_weights=True, verbose=1)])"
      ],
      "execution_count": 107,
      "outputs": [
        {
          "output_type": "stream",
          "name": "stdout",
          "text": [
            "Epoch 1/500\n",
            "275/275 [==============================] - 2s 5ms/step - loss: 0.8348 - accuracy: 0.6171 - val_loss: 0.6874 - val_accuracy: 0.6769\n",
            "Epoch 2/500\n",
            "275/275 [==============================] - 1s 5ms/step - loss: 0.6204 - accuracy: 0.7246 - val_loss: 0.6359 - val_accuracy: 0.7275\n",
            "Epoch 3/500\n",
            "275/275 [==============================] - 1s 5ms/step - loss: 0.5821 - accuracy: 0.7450 - val_loss: 0.6224 - val_accuracy: 0.7415\n",
            "Epoch 4/500\n",
            "275/275 [==============================] - 1s 5ms/step - loss: 0.5558 - accuracy: 0.7589 - val_loss: 0.6160 - val_accuracy: 0.7435\n",
            "Epoch 5/500\n",
            "275/275 [==============================] - 1s 4ms/step - loss: 0.5439 - accuracy: 0.7740 - val_loss: 0.6151 - val_accuracy: 0.7544\n",
            "Epoch 6/500\n",
            "275/275 [==============================] - 1s 5ms/step - loss: 0.5343 - accuracy: 0.7780 - val_loss: 0.6129 - val_accuracy: 0.7599\n",
            "Epoch 7/500\n",
            "275/275 [==============================] - 1s 5ms/step - loss: 0.5205 - accuracy: 0.7875 - val_loss: 0.6220 - val_accuracy: 0.7613\n",
            "Epoch 8/500\n",
            "275/275 [==============================] - 1s 5ms/step - loss: 0.5244 - accuracy: 0.7876 - val_loss: 0.6205 - val_accuracy: 0.7613\n",
            "Epoch 9/500\n",
            "275/275 [==============================] - 1s 5ms/step - loss: 0.5156 - accuracy: 0.7890 - val_loss: 0.6289 - val_accuracy: 0.7596\n",
            "Epoch 10/500\n",
            "275/275 [==============================] - 1s 4ms/step - loss: 0.5076 - accuracy: 0.7903 - val_loss: 0.6389 - val_accuracy: 0.7592\n",
            "Epoch 11/500\n",
            "275/275 [==============================] - 1s 4ms/step - loss: 0.5025 - accuracy: 0.7917 - val_loss: 0.6446 - val_accuracy: 0.7626\n",
            "\n",
            "Epoch 00011: ReduceLROnPlateau reducing learning rate to 0.00010000000474974513.\n",
            "Epoch 12/500\n",
            "275/275 [==============================] - 1s 5ms/step - loss: 0.4957 - accuracy: 0.8016 - val_loss: 0.6426 - val_accuracy: 0.7637\n",
            "Epoch 13/500\n",
            "275/275 [==============================] - 1s 5ms/step - loss: 0.4937 - accuracy: 0.7978 - val_loss: 0.6431 - val_accuracy: 0.7637\n",
            "Epoch 14/500\n",
            "275/275 [==============================] - 1s 5ms/step - loss: 0.4926 - accuracy: 0.8016 - val_loss: 0.6435 - val_accuracy: 0.7633\n",
            "Epoch 15/500\n",
            "275/275 [==============================] - 1s 5ms/step - loss: 0.4969 - accuracy: 0.8011 - val_loss: 0.6444 - val_accuracy: 0.7630\n",
            "Epoch 16/500\n",
            "275/275 [==============================] - 1s 5ms/step - loss: 0.4819 - accuracy: 0.8033 - val_loss: 0.6456 - val_accuracy: 0.7630\n",
            "\n",
            "Epoch 00016: ReduceLROnPlateau reducing learning rate to 1.0000000474974514e-05.\n",
            "Restoring model weights from the end of the best epoch.\n",
            "Epoch 00016: early stopping\n",
            "CPU times: user 27.3 s, sys: 3.34 s, total: 30.6 s\n",
            "Wall time: 29.8 s\n"
          ]
        }
      ]
    },
    {
      "cell_type": "code",
      "metadata": {
        "colab": {
          "base_uri": "https://localhost:8080/"
        },
        "id": "xDgJY1pir1cQ",
        "outputId": "89f18aa9-1dbf-4b73-c859-0b28fddb461c"
      },
      "source": [
        "#Evaluate\n",
        "model_2.evaluate(test_dataset)"
      ],
      "execution_count": 108,
      "outputs": [
        {
          "output_type": "stream",
          "name": "stdout",
          "text": [
            "92/92 [==============================] - 0s 3ms/step - loss: 0.5909 - accuracy: 0.7722\n"
          ]
        },
        {
          "output_type": "execute_result",
          "data": {
            "text/plain": [
              "[0.590924859046936, 0.7721994519233704]"
            ]
          },
          "metadata": {},
          "execution_count": 108
        }
      ]
    },
    {
      "cell_type": "code",
      "metadata": {
        "colab": {
          "base_uri": "https://localhost:8080/",
          "height": 444
        },
        "id": "z-LYsFqir6ba",
        "outputId": "759c91a6-a79a-4e03-9e98-bd25148eb25f"
      },
      "source": [
        "#Plot training curves\n",
        "plot_training_curve(history_model_2)"
      ],
      "execution_count": 109,
      "outputs": [
        {
          "output_type": "display_data",
          "data": {
            "image/png": "[encoded data removed]",
            "text/plain": [
              "<Figure size 720x504 with 1 Axes>"
            ]
          },
          "metadata": {
            "needs_background": "light"
          }
        }
      ]
    },
    {
      "cell_type": "markdown",
      "metadata": {
        "id": "LY9gjqs1ujdZ"
      },
      "source": [
        "### Model 3: LSTM"
      ]
    },
    {
      "cell_type": "code",
      "metadata": {
        "id": "wzrKlMpor8qu"
      },
      "source": [
        "# Build the model \n",
        "inputs = layers.Input(shape=(1,), dtype=tf.string)\n",
        "x = text_vectorizer(inputs)\n",
        "x = embedding(x)\n",
        "x = layers.LSTM(8)(x)\n",
        "x = layers.Dropout(0.5)(x)\n",
        "outputs = layers.Dense(3, activation=\"softmax\")(x)\n",
        "model_3 = tf.keras.Model(inputs, outputs)"
      ],
      "execution_count": 110,
      "outputs": []
    },
    {
      "cell_type": "code",
      "metadata": {
        "id": "_dk_qMZNu3QS"
      },
      "source": [
        "# Compile the model \n",
        "model_3.compile(loss=\"categorical_crossentropy\", optimizer=\"Adam\", metrics=[\"accuracy\"])"
      ],
      "execution_count": 111,
      "outputs": []
    },
    {
      "cell_type": "code",
      "metadata": {
        "colab": {
          "base_uri": "https://localhost:8080/"
        },
        "id": "BZHQsfLSu58O",
        "outputId": "6fa22b8f-b493-4f69-d3ee-922ebdff319c"
      },
      "source": [
        "%%time\n",
        "history_model_3 = model_3.fit(train_dataset,\n",
        "                              epochs=500,\n",
        "                              verbose=1,\n",
        "                              validation_data=val_dataset,\n",
        "                              callbacks=[tf.keras.callbacks.ReduceLROnPlateau(monitor=\"val_loss\", patience=5, verbose=1),\n",
        "                                         tf.keras.callbacks.EarlyStopping(monitor=\"val_loss\", patience=10, restore_best_weights=True, verbose=1)])"
      ],
      "execution_count": 112,
      "outputs": [
        {
          "output_type": "stream",
          "name": "stdout",
          "text": [
            "Epoch 1/500\n",
            "275/275 [==============================] - 4s 8ms/step - loss: 0.6893 - accuracy: 0.7261 - val_loss: 0.6395 - val_accuracy: 0.7749\n",
            "Epoch 2/500\n",
            "275/275 [==============================] - 2s 6ms/step - loss: 0.3882 - accuracy: 0.8703 - val_loss: 0.6640 - val_accuracy: 0.7708\n",
            "Epoch 3/500\n",
            "275/275 [==============================] - 2s 6ms/step - loss: 0.3313 - accuracy: 0.8982 - val_loss: 0.7224 - val_accuracy: 0.7715\n",
            "Epoch 4/500\n",
            "275/275 [==============================] - 2s 6ms/step - loss: 0.2937 - accuracy: 0.9136 - val_loss: 0.7571 - val_accuracy: 0.7620\n",
            "Epoch 5/500\n",
            "275/275 [==============================] - 2s 6ms/step - loss: 0.2737 - accuracy: 0.9235 - val_loss: 0.8264 - val_accuracy: 0.7664\n",
            "Epoch 6/500\n",
            "275/275 [==============================] - 2s 6ms/step - loss: 0.2489 - accuracy: 0.9325 - val_loss: 0.8592 - val_accuracy: 0.7613\n",
            "\n",
            "Epoch 00006: ReduceLROnPlateau reducing learning rate to 0.00010000000474974513.\n",
            "Epoch 7/500\n",
            "275/275 [==============================] - 2s 6ms/step - loss: 0.2239 - accuracy: 0.9372 - val_loss: 0.8969 - val_accuracy: 0.7674\n",
            "Epoch 8/500\n",
            "275/275 [==============================] - 2s 6ms/step - loss: 0.2170 - accuracy: 0.9465 - val_loss: 0.8910 - val_accuracy: 0.7633\n",
            "Epoch 9/500\n",
            "275/275 [==============================] - 2s 6ms/step - loss: 0.2121 - accuracy: 0.9481 - val_loss: 0.9017 - val_accuracy: 0.7640\n",
            "Epoch 10/500\n",
            "275/275 [==============================] - 2s 7ms/step - loss: 0.2132 - accuracy: 0.9477 - val_loss: 0.9044 - val_accuracy: 0.7640\n",
            "Epoch 11/500\n",
            "275/275 [==============================] - 2s 6ms/step - loss: 0.2069 - accuracy: 0.9464 - val_loss: 0.9095 - val_accuracy: 0.7633\n",
            "\n",
            "Epoch 00011: ReduceLROnPlateau reducing learning rate to 1.0000000474974514e-05.\n",
            "Restoring model weights from the end of the best epoch.\n",
            "Epoch 00011: early stopping\n",
            "CPU times: user 25.4 s, sys: 2.51 s, total: 27.9 s\n",
            "Wall time: 25.1 s\n"
          ]
        }
      ]
    },
    {
      "cell_type": "code",
      "metadata": {
        "colab": {
          "base_uri": "https://localhost:8080/"
        },
        "id": "9d-Z-QKXu9aZ",
        "outputId": "195ed7cd-40b4-4b69-aeeb-d5d4d1939081"
      },
      "source": [
        "#Evaluate\n",
        "model_3.evaluate(test_dataset)"
      ],
      "execution_count": 113,
      "outputs": [
        {
          "output_type": "stream",
          "name": "stdout",
          "text": [
            "92/92 [==============================] - 0s 3ms/step - loss: 0.6282 - accuracy: 0.7712\n"
          ]
        },
        {
          "output_type": "execute_result",
          "data": {
            "text/plain": [
              "[0.6281599998474121, 0.7711748480796814]"
            ]
          },
          "metadata": {},
          "execution_count": 113
        }
      ]
    },
    {
      "cell_type": "code",
      "metadata": {
        "colab": {
          "base_uri": "https://localhost:8080/",
          "height": 444
        },
        "id": "SYzb7DpuvAtJ",
        "outputId": "4354eba1-bc07-4ade-b3e2-ca7cef8d1c3a"
      },
      "source": [
        "#Plot training curves\n",
        "plot_training_curve(history_model_3)"
      ],
      "execution_count": 114,
      "outputs": [
        {
          "output_type": "display_data",
          "data": {
            "image/png": "[encoded data removed]",
            "text/plain": [
              "<Figure size 720x504 with 1 Axes>"
            ]
          },
          "metadata": {
            "needs_background": "light"
          }
        }
      ]
    },
    {
      "cell_type": "markdown",
      "metadata": {
        "id": "kN9dV9W6GBYO"
      },
      "source": [
        "### Model 4: GRU"
      ]
    },
    {
      "cell_type": "code",
      "metadata": {
        "id": "aALjy2WMGRVS"
      },
      "source": [
        "# Build the model \n",
        "inputs = layers.Input(shape=(1,), dtype=tf.string)\n",
        "x = text_vectorizer(inputs)\n",
        "x = embedding(x)\n",
        "x = layers.GRU(8)(x)\n",
        "x = layers.Dropout(0.5)(x)\n",
        "outputs = layers.Dense(3, activation=\"softmax\")(x)\n",
        "model_4 = tf.keras.Model(inputs, outputs)"
      ],
      "execution_count": 115,
      "outputs": []
    },
    {
      "cell_type": "code",
      "metadata": {
        "id": "WRd6cb57GWb7"
      },
      "source": [
        "# Compile the model \n",
        "model_4.compile(loss=\"categorical_crossentropy\", optimizer=\"Adam\", metrics=[\"accuracy\"])"
      ],
      "execution_count": 116,
      "outputs": []
    },
    {
      "cell_type": "code",
      "metadata": {
        "id": "OgGxJQ4kGYtK",
        "outputId": "a3d61fdd-4bbd-46b1-ad54-1bdf9f9f6f86",
        "colab": {
          "base_uri": "https://localhost:8080/"
        }
      },
      "source": [
        "%%time\n",
        "history_model_4 = model_4.fit(train_dataset,\n",
        "                              epochs=500,\n",
        "                              verbose=1,\n",
        "                              validation_data=val_dataset,\n",
        "                              callbacks=[tf.keras.callbacks.ReduceLROnPlateau(monitor=\"val_loss\", patience=5, verbose=1),\n",
        "                                         tf.keras.callbacks.EarlyStopping(monitor=\"val_loss\", patience=10, restore_best_weights=True, verbose=1)])"
      ],
      "execution_count": 117,
      "outputs": [
        {
          "output_type": "stream",
          "name": "stdout",
          "text": [
            "Epoch 1/500\n",
            "275/275 [==============================] - 3s 7ms/step - loss: 0.7572 - accuracy: 0.6755 - val_loss: 0.7301 - val_accuracy: 0.6892\n",
            "Epoch 2/500\n",
            "275/275 [==============================] - 2s 6ms/step - loss: 0.4998 - accuracy: 0.7670 - val_loss: 0.7721 - val_accuracy: 0.6865\n",
            "Epoch 3/500\n",
            "275/275 [==============================] - 2s 6ms/step - loss: 0.4487 - accuracy: 0.7903 - val_loss: 0.7909 - val_accuracy: 0.7155\n",
            "Epoch 4/500\n",
            "275/275 [==============================] - 1s 5ms/step - loss: 0.4114 - accuracy: 0.8141 - val_loss: 0.8166 - val_accuracy: 0.7251\n",
            "Epoch 5/500\n",
            "275/275 [==============================] - 2s 6ms/step - loss: 0.3711 - accuracy: 0.8552 - val_loss: 0.8219 - val_accuracy: 0.7572\n",
            "Epoch 6/500\n",
            "275/275 [==============================] - 2s 6ms/step - loss: 0.3163 - accuracy: 0.8930 - val_loss: 0.8350 - val_accuracy: 0.7544\n",
            "\n",
            "Epoch 00006: ReduceLROnPlateau reducing learning rate to 0.00010000000474974513.\n",
            "Epoch 7/500\n",
            "275/275 [==============================] - 1s 5ms/step - loss: 0.2739 - accuracy: 0.9114 - val_loss: 0.8508 - val_accuracy: 0.7647\n",
            "Epoch 8/500\n",
            "275/275 [==============================] - 2s 6ms/step - loss: 0.2635 - accuracy: 0.9140 - val_loss: 0.8518 - val_accuracy: 0.7630\n",
            "Epoch 9/500\n",
            "275/275 [==============================] - 2s 6ms/step - loss: 0.2635 - accuracy: 0.9117 - val_loss: 0.8620 - val_accuracy: 0.7630\n",
            "Epoch 10/500\n",
            "275/275 [==============================] - 2s 6ms/step - loss: 0.2615 - accuracy: 0.9140 - val_loss: 0.8625 - val_accuracy: 0.7613\n",
            "Epoch 11/500\n",
            "275/275 [==============================] - 2s 6ms/step - loss: 0.2557 - accuracy: 0.9170 - val_loss: 0.8670 - val_accuracy: 0.7620\n",
            "\n",
            "Epoch 00011: ReduceLROnPlateau reducing learning rate to 1.0000000474974514e-05.\n",
            "Restoring model weights from the end of the best epoch.\n",
            "Epoch 00011: early stopping\n",
            "CPU times: user 23.4 s, sys: 2.36 s, total: 25.7 s\n",
            "Wall time: 23.6 s\n"
          ]
        }
      ]
    },
    {
      "cell_type": "code",
      "metadata": {
        "id": "VpjMVyw8GeRT",
        "outputId": "f66666cb-2e56-4248-abd0-bae4269f62ab",
        "colab": {
          "base_uri": "https://localhost:8080/"
        }
      },
      "source": [
        "#Evaluate\n",
        "model_4.evaluate(test_dataset)"
      ],
      "execution_count": 118,
      "outputs": [
        {
          "output_type": "stream",
          "name": "stdout",
          "text": [
            "92/92 [==============================] - 0s 3ms/step - loss: 0.7004 - accuracy: 0.7070\n"
          ]
        },
        {
          "output_type": "execute_result",
          "data": {
            "text/plain": [
              "[0.7004159688949585, 0.7069672346115112]"
            ]
          },
          "metadata": {},
          "execution_count": 118
        }
      ]
    },
    {
      "cell_type": "code",
      "metadata": {
        "id": "ByfBSxKpGbwJ",
        "outputId": "a345096f-9e9e-4267-d051-a8b515ece42b",
        "colab": {
          "base_uri": "https://localhost:8080/",
          "height": 444
        }
      },
      "source": [
        "#Plot training curves\n",
        "plot_training_curve(history_model_4)"
      ],
      "execution_count": 119,
      "outputs": [
        {
          "output_type": "display_data",
          "data": {
            "image/png": "[encoded data removed]",
            "text/plain": [
              "<Figure size 720x504 with 1 Axes>"
            ]
          },
          "metadata": {
            "needs_background": "light"
          }
        }
      ]
    },
    {
      "cell_type": "markdown",
      "metadata": {
        "id": "OeF6bm9WGhNa"
      },
      "source": [
        "### Model 5: Feature Extraction"
      ]
    },
    {
      "cell_type": "code",
      "metadata": {
        "id": "lZqWk07RH-c0"
      },
      "source": [
        "import tensorflow_hub as hub\n",
        "tf_hub_embedding_layer = hub.KerasLayer(\"https://tfhub.dev/google/universal-sentence-encoder/4\",\n",
        "                                        trainable=False,\n",
        "                                        name=\"universal_sentence_encoder\")"
      ],
      "execution_count": 120,
      "outputs": []
    },
    {
      "cell_type": "code",
      "metadata": {
        "id": "UVpSOYpVIA2w"
      },
      "source": [
        "inputs = layers.Input(shape=[], dtype=tf.string)\n",
        "pretrained_embedding = tf_hub_embedding_layer(inputs)\n",
        "x = layers.Dropout(0.2)(pretrained_embedding)\n",
        "x = layers.Dense(4, activation=\"relu\",kernel_regularizer=tf.keras.regularizers.l1_l2(l1=1e-5, l2=1e-4),\n",
        "                     bias_regularizer=tf.keras.regularizers.l2(1e-4),\n",
        "                     activity_regularizer=tf.keras.regularizers.l2(1e-5))(x)\n",
        "x = layers.Dropout(0.2)(x)\n",
        "outputs = layers.Dense(3, activation=\"softmax\")(x)\n",
        "model_5 = tf.keras.Model(inputs, outputs)"
      ],
      "execution_count": 190,
      "outputs": []
    },
    {
      "cell_type": "code",
      "metadata": {
        "id": "ST1wSfdwIRUn"
      },
      "source": [
        "# Compile the model \n",
        "model_5.compile(loss=\"categorical_crossentropy\", optimizer=\"Adam\", metrics=[\"accuracy\"])"
      ],
      "execution_count": 191,
      "outputs": []
    },
    {
      "cell_type": "code",
      "metadata": {
        "id": "UEROwaewIZE0",
        "outputId": "7f602842-6833-451e-fe08-0a5df2edb1d3",
        "colab": {
          "base_uri": "https://localhost:8080/"
        }
      },
      "source": [
        "%%time\n",
        "history_model_5 = model_5.fit(train_dataset_with_stopwords,\n",
        "                              epochs=500,\n",
        "                              verbose=1,\n",
        "                              validation_data=val_dataset_with_stopwords,\n",
        "                              callbacks=[tf.keras.callbacks.ReduceLROnPlateau(monitor=\"val_loss\", patience=5, verbose=1),\n",
        "                                         tf.keras.callbacks.EarlyStopping(monitor=\"val_loss\", patience=10, restore_best_weights=True, verbose=1)])"
      ],
      "execution_count": 192,
      "outputs": [
        {
          "output_type": "stream",
          "name": "stdout",
          "text": [
            "Epoch 1/500\n",
            "275/275 [==============================] - 5s 14ms/step - loss: 0.8867 - accuracy: 0.6564 - val_loss: 0.7355 - val_accuracy: 0.6708\n",
            "Epoch 2/500\n",
            "275/275 [==============================] - 3s 12ms/step - loss: 0.6701 - accuracy: 0.7201 - val_loss: 0.6287 - val_accuracy: 0.7439\n",
            "Epoch 3/500\n",
            "275/275 [==============================] - 3s 13ms/step - loss: 0.6131 - accuracy: 0.7491 - val_loss: 0.5896 - val_accuracy: 0.7657\n",
            "Epoch 4/500\n",
            "275/275 [==============================] - 4s 13ms/step - loss: 0.5932 - accuracy: 0.7559 - val_loss: 0.5677 - val_accuracy: 0.7753\n",
            "Epoch 5/500\n",
            "275/275 [==============================] - 4s 13ms/step - loss: 0.5718 - accuracy: 0.7620 - val_loss: 0.5548 - val_accuracy: 0.7783\n",
            "Epoch 6/500\n",
            "275/275 [==============================] - 3s 12ms/step - loss: 0.5624 - accuracy: 0.7739 - val_loss: 0.5418 - val_accuracy: 0.7852\n",
            "Epoch 7/500\n",
            "275/275 [==============================] - 3s 13ms/step - loss: 0.5644 - accuracy: 0.7625 - val_loss: 0.5416 - val_accuracy: 0.7859\n",
            "Epoch 8/500\n",
            "275/275 [==============================] - 3s 13ms/step - loss: 0.5533 - accuracy: 0.7721 - val_loss: 0.5364 - val_accuracy: 0.7886\n",
            "Epoch 9/500\n",
            "275/275 [==============================] - 3s 13ms/step - loss: 0.5549 - accuracy: 0.7708 - val_loss: 0.5340 - val_accuracy: 0.7893\n",
            "Epoch 10/500\n",
            "275/275 [==============================] - 4s 13ms/step - loss: 0.5474 - accuracy: 0.7755 - val_loss: 0.5320 - val_accuracy: 0.7889\n",
            "Epoch 11/500\n",
            "275/275 [==============================] - 4s 13ms/step - loss: 0.5429 - accuracy: 0.7750 - val_loss: 0.5307 - val_accuracy: 0.7886\n",
            "Epoch 12/500\n",
            "275/275 [==============================] - 4s 13ms/step - loss: 0.5422 - accuracy: 0.7773 - val_loss: 0.5276 - val_accuracy: 0.7906\n",
            "Epoch 13/500\n",
            "275/275 [==============================] - 4s 13ms/step - loss: 0.5382 - accuracy: 0.7748 - val_loss: 0.5276 - val_accuracy: 0.7906\n",
            "Epoch 14/500\n",
            "275/275 [==============================] - 3s 13ms/step - loss: 0.5354 - accuracy: 0.7732 - val_loss: 0.5279 - val_accuracy: 0.7903\n",
            "Epoch 15/500\n",
            "275/275 [==============================] - 4s 13ms/step - loss: 0.5355 - accuracy: 0.7776 - val_loss: 0.5260 - val_accuracy: 0.7923\n",
            "Epoch 16/500\n",
            "275/275 [==============================] - 4s 13ms/step - loss: 0.5365 - accuracy: 0.7744 - val_loss: 0.5242 - val_accuracy: 0.7941\n",
            "Epoch 17/500\n",
            "275/275 [==============================] - 3s 13ms/step - loss: 0.5346 - accuracy: 0.7752 - val_loss: 0.5276 - val_accuracy: 0.7917\n",
            "Epoch 18/500\n",
            "275/275 [==============================] - 3s 12ms/step - loss: 0.5374 - accuracy: 0.7753 - val_loss: 0.5264 - val_accuracy: 0.7917\n",
            "Epoch 19/500\n",
            "275/275 [==============================] - 3s 12ms/step - loss: 0.5310 - accuracy: 0.7772 - val_loss: 0.5252 - val_accuracy: 0.7927\n",
            "Epoch 20/500\n",
            "275/275 [==============================] - 4s 13ms/step - loss: 0.5321 - accuracy: 0.7788 - val_loss: 0.5248 - val_accuracy: 0.7958\n",
            "Epoch 21/500\n",
            "275/275 [==============================] - 3s 13ms/step - loss: 0.5357 - accuracy: 0.7747 - val_loss: 0.5233 - val_accuracy: 0.7934\n",
            "Epoch 22/500\n",
            "275/275 [==============================] - 4s 13ms/step - loss: 0.5304 - accuracy: 0.7770 - val_loss: 0.5242 - val_accuracy: 0.7937\n",
            "Epoch 23/500\n",
            "275/275 [==============================] - 3s 12ms/step - loss: 0.5317 - accuracy: 0.7770 - val_loss: 0.5228 - val_accuracy: 0.7917\n",
            "Epoch 24/500\n",
            "275/275 [==============================] - 3s 12ms/step - loss: 0.5285 - accuracy: 0.7799 - val_loss: 0.5234 - val_accuracy: 0.7930\n",
            "Epoch 25/500\n",
            "275/275 [==============================] - 4s 13ms/step - loss: 0.5311 - accuracy: 0.7745 - val_loss: 0.5259 - val_accuracy: 0.7900\n",
            "Epoch 26/500\n",
            "275/275 [==============================] - 4s 13ms/step - loss: 0.5308 - accuracy: 0.7787 - val_loss: 0.5214 - val_accuracy: 0.7913\n",
            "Epoch 27/500\n",
            "275/275 [==============================] - 3s 12ms/step - loss: 0.5263 - accuracy: 0.7802 - val_loss: 0.5237 - val_accuracy: 0.7930\n",
            "Epoch 28/500\n",
            "275/275 [==============================] - 3s 12ms/step - loss: 0.5263 - accuracy: 0.7732 - val_loss: 0.5232 - val_accuracy: 0.7903\n",
            "Epoch 29/500\n",
            "275/275 [==============================] - 4s 13ms/step - loss: 0.5211 - accuracy: 0.7829 - val_loss: 0.5240 - val_accuracy: 0.7923\n",
            "Epoch 30/500\n",
            "275/275 [==============================] - 3s 12ms/step - loss: 0.5283 - accuracy: 0.7761 - val_loss: 0.5242 - val_accuracy: 0.7920\n",
            "Epoch 31/500\n",
            "275/275 [==============================] - 4s 13ms/step - loss: 0.5178 - accuracy: 0.7812 - val_loss: 0.5270 - val_accuracy: 0.7906\n",
            "\n",
            "Epoch 00031: ReduceLROnPlateau reducing learning rate to 0.00010000000474974513.\n",
            "Epoch 32/500\n",
            "275/275 [==============================] - 4s 13ms/step - loss: 0.5177 - accuracy: 0.7824 - val_loss: 0.5241 - val_accuracy: 0.7906\n",
            "Epoch 33/500\n",
            "275/275 [==============================] - 4s 13ms/step - loss: 0.5180 - accuracy: 0.7845 - val_loss: 0.5228 - val_accuracy: 0.7920\n",
            "Epoch 34/500\n",
            "275/275 [==============================] - 4s 14ms/step - loss: 0.5222 - accuracy: 0.7802 - val_loss: 0.5219 - val_accuracy: 0.7923\n",
            "Epoch 35/500\n",
            "275/275 [==============================] - 3s 12ms/step - loss: 0.5196 - accuracy: 0.7811 - val_loss: 0.5219 - val_accuracy: 0.7930\n",
            "Epoch 36/500\n",
            "275/275 [==============================] - 3s 13ms/step - loss: 0.5213 - accuracy: 0.7799 - val_loss: 0.5223 - val_accuracy: 0.7917\n",
            "\n",
            "Epoch 00036: ReduceLROnPlateau reducing learning rate to 1.0000000474974514e-05.\n",
            "Restoring model weights from the end of the best epoch.\n",
            "Epoch 00036: early stopping\n",
            "CPU times: user 3min 6s, sys: 19.1 s, total: 3min 26s\n",
            "Wall time: 2min 39s\n"
          ]
        }
      ]
    },
    {
      "cell_type": "code",
      "metadata": {
        "id": "vZy1PDNHIczM",
        "outputId": "c5ef2264-caf0-4756-8fe1-1ea34de6faf7",
        "colab": {
          "base_uri": "https://localhost:8080/"
        }
      },
      "source": [
        "#Evaluate\n",
        "model_5.evaluate(test_dataset_with_stopwords)"
      ],
      "execution_count": 193,
      "outputs": [
        {
          "output_type": "stream",
          "name": "stdout",
          "text": [
            "92/92 [==============================] - 1s 10ms/step - loss: 0.4886 - accuracy: 0.8050\n"
          ]
        },
        {
          "output_type": "execute_result",
          "data": {
            "text/plain": [
              "[0.48858967423439026, 0.8049863576889038]"
            ]
          },
          "metadata": {},
          "execution_count": 193
        }
      ]
    },
    {
      "cell_type": "code",
      "metadata": {
        "id": "ClWre-meIf8E",
        "outputId": "7dfbaa0a-612f-41ef-f06b-ac68823904ba",
        "colab": {
          "base_uri": "https://localhost:8080/",
          "height": 444
        }
      },
      "source": [
        "#Plot training curves\n",
        "plot_training_curve(history_model_5)"
      ],
      "execution_count": 194,
      "outputs": [
        {
          "output_type": "display_data",
          "data": {
            "image/png": "[encoded data removed]",
            "text/plain": [
              "<Figure size 720x504 with 1 Axes>"
            ]
          },
          "metadata": {
            "needs_background": "light"
          }
        }
      ]
    }
  ]
}