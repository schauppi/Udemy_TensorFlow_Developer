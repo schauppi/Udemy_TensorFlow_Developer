{
  "nbformat": 4,
  "nbformat_minor": 0,
  "metadata": {
    "colab": {
      "name": "nlp_us_airline_tweets.ipynb",
      "provenance": [],
      "authorship_tag": "ABX9TyNoGfNLaC9rfmJvZJqbiFqY",
      "include_colab_link": true
    },
    "kernelspec": {
      "name": "python3",
      "display_name": "Python 3"
    },
    "language_info": {
      "name": "python"
    },
    "accelerator": "GPU"
  },
  "cells": [
    {
      "cell_type": "markdown",
      "metadata": {
        "id": "view-in-github",
        "colab_type": "text"
      },
      "source": [
        "<a href=\"https://colab.research.google.com/github/schauppi/Udemy_TensorFlow_Developer/blob/main/Exam_preparation/nlp_us_airline_tweets.ipynb\" target=\"_parent\"><img src=\"https://colab.research.google.com/assets/colab-badge.svg\" alt=\"Open In Colab\"/></a>"
      ]
    },
    {
      "cell_type": "markdown",
      "metadata": {
        "id": "M3ykxe4YGN21"
      },
      "source": [
        "# US Airline Tweets text classification"
      ]
    },
    {
      "cell_type": "code",
      "metadata": {
        "colab": {
          "base_uri": "https://localhost:8080/"
        },
        "id": "rSgftKddGgUO",
        "outputId": "bf339cda-d989-48e0-f815-3573e62f6958"
      },
      "source": [
        "#Download helper functions file\n",
        "!wget https://raw.githubusercontent.com/schauppi/Udemy_TensorFlow_Developer/main/Exam_preparation/helper_functions.py"
      ],
      "execution_count": 1,
      "outputs": [
        {
          "output_type": "stream",
          "name": "stdout",
          "text": [
            "--2021-09-09 05:54:52--  https://raw.githubusercontent.com/schauppi/Udemy_TensorFlow_Developer/main/Exam_preparation/helper_functions.py\n",
            "Resolving raw.githubusercontent.com (raw.githubusercontent.com)... 185.199.109.133, 185.199.110.133, 185.199.108.133, ...\n",
            "Connecting to raw.githubusercontent.com (raw.githubusercontent.com)|185.199.109.133|:443... connected.\n",
            "HTTP request sent, awaiting response... 200 OK\n",
            "Length: 5005 (4.9K) [text/plain]\n",
            "Saving to: ‘helper_functions.py’\n",
            "\n",
            "\rhelper_functions.py   0%[                    ]       0  --.-KB/s               \rhelper_functions.py 100%[===================>]   4.89K  --.-KB/s    in 0s      \n",
            "\n",
            "2021-09-09 05:54:52 (45.0 MB/s) - ‘helper_functions.py’ saved [5005/5005]\n",
            "\n"
          ]
        }
      ]
    },
    {
      "cell_type": "markdown",
      "metadata": {
        "id": "Fydf_DrTGpOo"
      },
      "source": [
        "## Data preparation"
      ]
    },
    {
      "cell_type": "code",
      "metadata": {
        "colab": {
          "base_uri": "https://localhost:8080/"
        },
        "id": "QewRfbMbGzFh",
        "outputId": "ac501d5d-f5b5-4b6e-9da7-04713898aa21"
      },
      "source": [
        "#Download dataset \n",
        "!wget https://raw.githubusercontent.com/schauppi/Udemy_TensorFlow_Developer/main/Exam_preparation/Datasets/Tweets.csv"
      ],
      "execution_count": 2,
      "outputs": [
        {
          "output_type": "stream",
          "name": "stdout",
          "text": [
            "--2021-09-09 05:54:53--  https://raw.githubusercontent.com/schauppi/Udemy_TensorFlow_Developer/main/Exam_preparation/Datasets/Tweets.csv\n",
            "Resolving raw.githubusercontent.com (raw.githubusercontent.com)... 185.199.108.133, 185.199.111.133, 185.199.109.133, ...\n",
            "Connecting to raw.githubusercontent.com (raw.githubusercontent.com)|185.199.108.133|:443... connected.\n",
            "HTTP request sent, awaiting response... 200 OK\n",
            "Length: 3421431 (3.3M) [text/plain]\n",
            "Saving to: ‘Tweets.csv’\n",
            "\n",
            "Tweets.csv          100%[===================>]   3.26M  --.-KB/s    in 0.07s   \n",
            "\n",
            "2021-09-09 05:54:54 (49.0 MB/s) - ‘Tweets.csv’ saved [3421431/3421431]\n",
            "\n"
          ]
        }
      ]
    },
    {
      "cell_type": "code",
      "metadata": {
        "colab": {
          "base_uri": "https://localhost:8080/",
          "height": 450
        },
        "id": "7eU-yZ1-G4ga",
        "outputId": "1a39326b-dd46-4c3f-c29f-a0997924e9ab"
      },
      "source": [
        "# Load in the dataset \n",
        "import pandas as pd\n",
        "df = pd.read_csv(\"/content/Tweets.csv\")\n",
        "df.head()"
      ],
      "execution_count": 3,
      "outputs": [
        {
          "output_type": "execute_result",
          "data": {
            "text/html": [
              "<div>\n",
              "<style scoped>\n",
              "    .dataframe tbody tr th:only-of-type {\n",
              "        vertical-align: middle;\n",
              "    }\n",
              "\n",
              "    .dataframe tbody tr th {\n",
              "        vertical-align: top;\n",
              "    }\n",
              "\n",
              "    .dataframe thead th {\n",
              "        text-align: right;\n",
              "    }\n",
              "</style>\n",
              "<table border=\"1\" class=\"dataframe\">\n",
              "  <thead>\n",
              "    <tr style=\"text-align: right;\">\n",
              "      <th></th>\n",
              "      <th>tweet_id</th>\n",
              "      <th>airline_sentiment</th>\n",
              "      <th>airline_sentiment_confidence</th>\n",
              "      <th>negativereason</th>\n",
              "      <th>negativereason_confidence</th>\n",
              "      <th>airline</th>\n",
              "      <th>airline_sentiment_gold</th>\n",
              "      <th>name</th>\n",
              "      <th>negativereason_gold</th>\n",
              "      <th>retweet_count</th>\n",
              "      <th>text</th>\n",
              "      <th>tweet_coord</th>\n",
              "      <th>tweet_created</th>\n",
              "      <th>tweet_location</th>\n",
              "      <th>user_timezone</th>\n",
              "    </tr>\n",
              "  </thead>\n",
              "  <tbody>\n",
              "    <tr>\n",
              "      <th>0</th>\n",
              "      <td>570306133677760513</td>\n",
              "      <td>neutral</td>\n",
              "      <td>1.0000</td>\n",
              "      <td>NaN</td>\n",
              "      <td>NaN</td>\n",
              "      <td>Virgin America</td>\n",
              "      <td>NaN</td>\n",
              "      <td>cairdin</td>\n",
              "      <td>NaN</td>\n",
              "      <td>0</td>\n",
              "      <td>@VirginAmerica What @dhepburn said.</td>\n",
              "      <td>NaN</td>\n",
              "      <td>2015-02-24 11:35:52 -0800</td>\n",
              "      <td>NaN</td>\n",
              "      <td>Eastern Time (US &amp; Canada)</td>\n",
              "    </tr>\n",
              "    <tr>\n",
              "      <th>1</th>\n",
              "      <td>570301130888122368</td>\n",
              "      <td>positive</td>\n",
              "      <td>0.3486</td>\n",
              "      <td>NaN</td>\n",
              "      <td>0.0000</td>\n",
              "      <td>Virgin America</td>\n",
              "      <td>NaN</td>\n",
              "      <td>jnardino</td>\n",
              "      <td>NaN</td>\n",
              "      <td>0</td>\n",
              "      <td>@VirginAmerica plus you've added commercials t...</td>\n",
              "      <td>NaN</td>\n",
              "      <td>2015-02-24 11:15:59 -0800</td>\n",
              "      <td>NaN</td>\n",
              "      <td>Pacific Time (US &amp; Canada)</td>\n",
              "    </tr>\n",
              "    <tr>\n",
              "      <th>2</th>\n",
              "      <td>570301083672813571</td>\n",
              "      <td>neutral</td>\n",
              "      <td>0.6837</td>\n",
              "      <td>NaN</td>\n",
              "      <td>NaN</td>\n",
              "      <td>Virgin America</td>\n",
              "      <td>NaN</td>\n",
              "      <td>yvonnalynn</td>\n",
              "      <td>NaN</td>\n",
              "      <td>0</td>\n",
              "      <td>@VirginAmerica I didn't today... Must mean I n...</td>\n",
              "      <td>NaN</td>\n",
              "      <td>2015-02-24 11:15:48 -0800</td>\n",
              "      <td>Lets Play</td>\n",
              "      <td>Central Time (US &amp; Canada)</td>\n",
              "    </tr>\n",
              "    <tr>\n",
              "      <th>3</th>\n",
              "      <td>570301031407624196</td>\n",
              "      <td>negative</td>\n",
              "      <td>1.0000</td>\n",
              "      <td>Bad Flight</td>\n",
              "      <td>0.7033</td>\n",
              "      <td>Virgin America</td>\n",
              "      <td>NaN</td>\n",
              "      <td>jnardino</td>\n",
              "      <td>NaN</td>\n",
              "      <td>0</td>\n",
              "      <td>@VirginAmerica it's really aggressive to blast...</td>\n",
              "      <td>NaN</td>\n",
              "      <td>2015-02-24 11:15:36 -0800</td>\n",
              "      <td>NaN</td>\n",
              "      <td>Pacific Time (US &amp; Canada)</td>\n",
              "    </tr>\n",
              "    <tr>\n",
              "      <th>4</th>\n",
              "      <td>570300817074462722</td>\n",
              "      <td>negative</td>\n",
              "      <td>1.0000</td>\n",
              "      <td>Can't Tell</td>\n",
              "      <td>1.0000</td>\n",
              "      <td>Virgin America</td>\n",
              "      <td>NaN</td>\n",
              "      <td>jnardino</td>\n",
              "      <td>NaN</td>\n",
              "      <td>0</td>\n",
              "      <td>@VirginAmerica and it's a really big bad thing...</td>\n",
              "      <td>NaN</td>\n",
              "      <td>2015-02-24 11:14:45 -0800</td>\n",
              "      <td>NaN</td>\n",
              "      <td>Pacific Time (US &amp; Canada)</td>\n",
              "    </tr>\n",
              "  </tbody>\n",
              "</table>\n",
              "</div>"
            ],
            "text/plain": [
              "             tweet_id  ...               user_timezone\n",
              "0  570306133677760513  ...  Eastern Time (US & Canada)\n",
              "1  570301130888122368  ...  Pacific Time (US & Canada)\n",
              "2  570301083672813571  ...  Central Time (US & Canada)\n",
              "3  570301031407624196  ...  Pacific Time (US & Canada)\n",
              "4  570300817074462722  ...  Pacific Time (US & Canada)\n",
              "\n",
              "[5 rows x 15 columns]"
            ]
          },
          "metadata": {},
          "execution_count": 3
        }
      ]
    },
    {
      "cell_type": "code",
      "metadata": {
        "colab": {
          "base_uri": "https://localhost:8080/"
        },
        "id": "5Q4QGPLkHECi",
        "outputId": "bbbb0146-f87d-47a2-cfcd-e8e6de0dce45"
      },
      "source": [
        "#How many different sentiments\n",
        "df.airline_sentiment.value_counts()"
      ],
      "execution_count": 4,
      "outputs": [
        {
          "output_type": "execute_result",
          "data": {
            "text/plain": [
              "negative    9178\n",
              "neutral     3099\n",
              "positive    2363\n",
              "Name: airline_sentiment, dtype: int64"
            ]
          },
          "metadata": {},
          "execution_count": 4
        }
      ]
    },
    {
      "cell_type": "code",
      "metadata": {
        "colab": {
          "base_uri": "https://localhost:8080/"
        },
        "id": "iUamC50kHSkC",
        "outputId": "26afccbf-c275-4e41-ecc2-7ead7b4a94f2"
      },
      "source": [
        "#Visualize some random examples\n",
        "import random\n",
        "random_index = random.randint(0, len(df)-5)\n",
        "for row in df[[\"text\", \"airline_sentiment\"]][random_index:random_index+5].itertuples():\n",
        "  _, text, sentiment = row\n",
        "  print(f\"Text: {text}\")\n",
        "  print(f\"Rating: {sentiment}\\n\")"
      ],
      "execution_count": 5,
      "outputs": [
        {
          "output_type": "stream",
          "name": "stdout",
          "text": [
            "Text: @USAirways @AmericanAir pissing off thousands of East coast customers.  When the delay is longer than the flight,  you = fail\n",
            "Rating: negative\n",
            "\n",
            "Text: @USAirways please have your people hold flight 599 from Phoenix to San Jose.  We pulling up to the gate! Scheduled to depart at 5:40\n",
            "Rating: neutral\n",
            "\n",
            "Text: @USAirways 2 hours and counting. ..what kind of travel voucher do I get for this??\n",
            "Rating: negative\n",
            "\n",
            "Text: @USAirways we've been waiting at the gate for 2 hrs, why are we now waiting to stow the luggage?\n",
            "Rating: negative\n",
            "\n",
            "Text: @USAirways That's 1h 10m waiting to get my bag, 1h40m of flight delays, plus the 2hrs of delay I had on the way out. Never flying you again.\n",
            "Rating: negative\n",
            "\n"
          ]
        }
      ]
    },
    {
      "cell_type": "markdown",
      "metadata": {
        "id": "ImQ2i4gvV3q_"
      },
      "source": [
        "## Remove different strings"
      ]
    },
    {
      "cell_type": "code",
      "metadata": {
        "colab": {
          "base_uri": "https://localhost:8080/"
        },
        "id": "PSN9YT7IH2wL",
        "outputId": "d8ec111f-3c3b-4d4d-d3f8-9b564efbcb2e"
      },
      "source": [
        "# Remove Smileys, @, # and links\n",
        "import re\n",
        "emoji_pattern = re.compile(\"[\"\n",
        "        u\"\\U0001F600-\\U0001F64F\"  # emoticons\n",
        "        u\"\\U0001F300-\\U0001F5FF\"  # symbols & pictographs\n",
        "        u\"\\U0001F680-\\U0001F6FF\"  # transport & map symbols\n",
        "        u\"\\U0001F1E0-\\U0001F1FF\"  # flags (iOS)\n",
        "                           \"]+\", flags=re.UNICODE)\n",
        "\n",
        "for index, row in enumerate(df[\"text\"]):\n",
        "  row = re.sub(r'http\\S+', '', row)\n",
        "  row = re.sub(r'@', '', row)\n",
        "  row = re.sub(r'#', '', row)\n",
        "  row = emoji_pattern.sub(r'', row)\n",
        "  df[\"text\"][index] = row"
      ],
      "execution_count": 6,
      "outputs": [
        {
          "output_type": "stream",
          "name": "stderr",
          "text": [
            "/usr/local/lib/python3.7/dist-packages/ipykernel_launcher.py:15: SettingWithCopyWarning: \n",
            "A value is trying to be set on a copy of a slice from a DataFrame\n",
            "\n",
            "See the caveats in the documentation: https://pandas.pydata.org/pandas-docs/stable/user_guide/indexing.html#returning-a-view-versus-a-copy\n",
            "  from ipykernel import kernelapp as app\n"
          ]
        }
      ]
    },
    {
      "cell_type": "code",
      "metadata": {
        "colab": {
          "base_uri": "https://localhost:8080/"
        },
        "id": "o7mV9x76MOCg",
        "outputId": "ca250950-20a2-47a3-f394-4b117caa8432"
      },
      "source": [
        "#Visualize some random examples after cleaning\n",
        "import random\n",
        "random_index = random.randint(0, len(df)-5)\n",
        "for row in df[[\"text\", \"airline_sentiment\"]][random_index:random_index+5].itertuples():\n",
        "  _, text, sentiment = row\n",
        "  print(f\"Text: {text}\")\n",
        "  print(f\"Rating: {sentiment}\\n\")"
      ],
      "execution_count": 7,
      "outputs": [
        {
          "output_type": "stream",
          "name": "stdout",
          "text": [
            "Text: united gg8929 I'm sorry United isn't able to keep its word 'cuz their IT is totally inadequate but they still says it's a customer fault!\n",
            "Rating: negative\n",
            "\n",
            "Text: united How can you not know where my bags are?  You knew where they were 6 hours ago. You are killing me!  Worst service. Ever.\n",
            "Rating: negative\n",
            "\n",
            "Text: united Stop pretending you care about the welfare of my daughter. United Airlines had the opportunity to help n failed  United airlines\n",
            "Rating: negative\n",
            "\n",
            "Text: united I have received one previously on the 11th having checked. Odd as you said there was no complaint associated with my e-mail?\n",
            "Rating: negative\n",
            "\n",
            "Text: united ok, I have that, pretty sure I had it before too but will wait and see what happens....\n",
            "Rating: negative\n",
            "\n"
          ]
        }
      ]
    },
    {
      "cell_type": "markdown",
      "metadata": {
        "id": "WQh8eUXaWLpX"
      },
      "source": [
        "## Remove stopwords"
      ]
    },
    {
      "cell_type": "code",
      "metadata": {
        "colab": {
          "base_uri": "https://localhost:8080/"
        },
        "id": "0JSKAa6GWQM-",
        "outputId": "7011b988-1127-4bd1-b9fe-e94760fa20fa"
      },
      "source": [
        "import nltk\n",
        "nltk.download('stopwords')\n",
        "from nltk.corpus import stopwords\n",
        "STOPWORDS = set(stopwords.words('english'))"
      ],
      "execution_count": 8,
      "outputs": [
        {
          "output_type": "stream",
          "name": "stdout",
          "text": [
            "[nltk_data] Downloading package stopwords to /root/nltk_data...\n",
            "[nltk_data]   Unzipping corpora/stopwords.zip.\n"
          ]
        }
      ]
    },
    {
      "cell_type": "code",
      "metadata": {
        "id": "DYI8KvtBWZHB"
      },
      "source": [
        "df[\"text_stopwords\"] = df[\"text\"].apply(lambda x: ' '.join([word for word in x.split() if word not in (STOPWORDS)]))"
      ],
      "execution_count": 9,
      "outputs": []
    },
    {
      "cell_type": "code",
      "metadata": {
        "colab": {
          "base_uri": "https://localhost:8080/"
        },
        "id": "WpcX2QI7WnhL",
        "outputId": "5bbc3ec3-ed46-4f0c-aafe-671e84836e6d"
      },
      "source": [
        "#Visualize some random examples after removing stop words\n",
        "import random\n",
        "random_index = random.randint(0, len(df)-5)\n",
        "for row in df[[\"text_stopwords\", \"text\", \"airline_sentiment\"]][random_index:random_index+5].itertuples():\n",
        "  _, text_without_stopwords, text, sentiment = row\n",
        "  print(f\"Text with stopwords: {text}\")\n",
        "  print(f\"Text without stopwords: {text_without_stopwords}\")\n",
        "  print(f\"Rating: {sentiment}\\n\")"
      ],
      "execution_count": 10,
      "outputs": [
        {
          "output_type": "stream",
          "name": "stdout",
          "text": [
            "Text with stopwords: AmericanAir yes yes yes,so glad to be headed home!\n",
            "Text without stopwords: AmericanAir yes yes yes,so glad headed home!\n",
            "Rating: positive\n",
            "\n",
            "Text with stopwords: AmericanAir don't worry. I'll be sending a letter with what I expect from you for compensation. I fly twice a week w/you guys...for now\n",
            "Text without stopwords: AmericanAir worry. I'll sending letter I expect compensation. I fly twice week w/you guys...for\n",
            "Rating: negative\n",
            "\n",
            "Text with stopwords: AmericanAir thanks!!\n",
            "Text without stopwords: AmericanAir thanks!!\n",
            "Rating: positive\n",
            "\n",
            "Text with stopwords: AmericanAir thanks keep me updated just hope I make either of my connections to Killeen Tx\n",
            "Text without stopwords: AmericanAir thanks keep updated hope I make either connections Killeen Tx\n",
            "Rating: positive\n",
            "\n",
            "Text with stopwords: AmericanAir I have been on hold w/customer service line for 68 minutes.  This after I was on phone with an agent for 35 min b/f call droped\n",
            "Text without stopwords: AmericanAir I hold w/customer service line 68 minutes. This I phone agent 35 min b/f call droped\n",
            "Rating: negative\n",
            "\n"
          ]
        }
      ]
    },
    {
      "cell_type": "markdown",
      "metadata": {
        "id": "KmiPo-VoXAY9"
      },
      "source": [
        "## Split dataset"
      ]
    },
    {
      "cell_type": "code",
      "metadata": {
        "id": "n99nDZAZVArl"
      },
      "source": [
        "import numpy as np\n",
        "np.random.seed(42)\n",
        "perm = np.random.permutation(df.index)\n",
        "m = len(df)\n",
        "train_end = int(0.6 * m)\n",
        "validate_end = int(0.2 * m) + train_end\n",
        "train = df.iloc[perm[:train_end]]\n",
        "validate = df.iloc[perm[train_end:validate_end]]\n",
        "test = df.iloc[perm[validate_end:]]"
      ],
      "execution_count": 11,
      "outputs": []
    },
    {
      "cell_type": "code",
      "metadata": {
        "colab": {
          "base_uri": "https://localhost:8080/"
        },
        "id": "5KAGB8MtXJIY",
        "outputId": "4fba4287-ee36-467e-ea15-a7281e0fb345"
      },
      "source": [
        "len(train), len(validate), len(test)"
      ],
      "execution_count": 12,
      "outputs": [
        {
          "output_type": "execute_result",
          "data": {
            "text/plain": [
              "(8784, 2928, 2928)"
            ]
          },
          "metadata": {},
          "execution_count": 12
        }
      ]
    },
    {
      "cell_type": "code",
      "metadata": {
        "colab": {
          "base_uri": "https://localhost:8080/"
        },
        "id": "R4up4EsAXPDb",
        "outputId": "30b4b0d7-6ed5-4544-cdb0-0ee989b37cb1"
      },
      "source": [
        "#Turn dataframes into numpy arrays without stopwords\n",
        "train_sentences = train[\"text_stopwords\"].to_numpy()\n",
        "train_labels = train[\"airline_sentiment\"].to_numpy()\n",
        "val_sentences = validate[\"text_stopwords\"].to_numpy()\n",
        "val_labels = validate[\"airline_sentiment\"].to_numpy()\n",
        "test_sentences = test[\"text_stopwords\"].to_numpy()\n",
        "test_labels = test[\"airline_sentiment\"].to_numpy()\n",
        "train_sentences.shape, val_sentences.shape, test_sentences.shape"
      ],
      "execution_count": 13,
      "outputs": [
        {
          "output_type": "execute_result",
          "data": {
            "text/plain": [
              "((8784,), (2928,), (2928,))"
            ]
          },
          "metadata": {},
          "execution_count": 13
        }
      ]
    },
    {
      "cell_type": "code",
      "metadata": {
        "id": "IoMUg6fLEIFB",
        "colab": {
          "base_uri": "https://localhost:8080/"
        },
        "outputId": "8181d6fe-f374-4f5a-fa22-a916c1975e2c"
      },
      "source": [
        "#Turn dataframes into numpy arrays with stopwords\n",
        "train_sentences_with_stopwords = train[\"text\"].to_numpy()\n",
        "val_sentences_with_stopwords = validate[\"text\"].to_numpy()\n",
        "test_sentences_with_stopwords = test[\"text\"].to_numpy()\n",
        "train_sentences_with_stopwords.shape, val_sentences_with_stopwords.shape, test_sentences_with_stopwords.shape"
      ],
      "execution_count": 14,
      "outputs": [
        {
          "output_type": "execute_result",
          "data": {
            "text/plain": [
              "((8784,), (2928,), (2928,))"
            ]
          },
          "metadata": {},
          "execution_count": 14
        }
      ]
    },
    {
      "cell_type": "markdown",
      "metadata": {
        "id": "3Z3zjzG5b_jT"
      },
      "source": [
        "## One-hot encode labels"
      ]
    },
    {
      "cell_type": "code",
      "metadata": {
        "id": "l6i4pSF9a5qr"
      },
      "source": [
        "from sklearn.preprocessing import OneHotEncoder\n",
        "one_hot_encoder = OneHotEncoder(sparse=False)\n",
        "train_labels_one_hot = one_hot_encoder.fit_transform(train_labels.reshape(-1, 1))\n",
        "test_labels_one_hot = one_hot_encoder.fit_transform(test_labels.reshape(-1, 1))\n",
        "val_labels_one_hot = one_hot_encoder.fit_transform(val_labels.reshape(-1, 1))"
      ],
      "execution_count": 15,
      "outputs": []
    },
    {
      "cell_type": "code",
      "metadata": {
        "colab": {
          "base_uri": "https://localhost:8080/"
        },
        "id": "gO9BmWJLcDJj",
        "outputId": "38338ebc-d29c-49aa-c941-854aa5e1d570"
      },
      "source": [
        "train_labels_one_hot[:10]"
      ],
      "execution_count": 16,
      "outputs": [
        {
          "output_type": "execute_result",
          "data": {
            "text/plain": [
              "array([[0., 0., 1.],\n",
              "       [1., 0., 0.],\n",
              "       [1., 0., 0.],\n",
              "       [0., 1., 0.],\n",
              "       [1., 0., 0.],\n",
              "       [1., 0., 0.],\n",
              "       [1., 0., 0.],\n",
              "       [0., 1., 0.],\n",
              "       [1., 0., 0.],\n",
              "       [0., 0., 1.]])"
            ]
          },
          "metadata": {},
          "execution_count": 16
        }
      ]
    },
    {
      "cell_type": "code",
      "metadata": {
        "id": "OiIbxVHaXbma"
      },
      "source": [
        "import tensorflow as tf\n",
        "#Turn data into TensorFlow Datasets\n",
        "train_dataset = tf.data.Dataset.from_tensor_slices((train_sentences, train_labels_one_hot))\n",
        "val_dataset = tf.data.Dataset.from_tensor_slices((val_sentences, val_labels_one_hot))\n",
        "test_dataset = tf.data.Dataset.from_tensor_slices((test_sentences, test_labels_one_hot))\n",
        "\n",
        "#Prefetch dataset\n",
        "train_dataset = train_dataset.batch(32).prefetch(tf.data.AUTOTUNE)\n",
        "val_dataset = val_dataset.batch(32).prefetch(tf.data.AUTOTUNE)\n",
        "test_dataset = test_dataset.batch(32).prefetch(tf.data.AUTOTUNE)"
      ],
      "execution_count": 17,
      "outputs": []
    },
    {
      "cell_type": "code",
      "metadata": {
        "colab": {
          "base_uri": "https://localhost:8080/"
        },
        "id": "B9SO2cv4oNWV",
        "outputId": "61a2f196-8a35-41bb-8fc9-fde6bc6939ed"
      },
      "source": [
        "train_dataset"
      ],
      "execution_count": 18,
      "outputs": [
        {
          "output_type": "execute_result",
          "data": {
            "text/plain": [
              "<PrefetchDataset shapes: ((None,), (None, 3)), types: (tf.string, tf.float64)>"
            ]
          },
          "metadata": {},
          "execution_count": 18
        }
      ]
    },
    {
      "cell_type": "code",
      "metadata": {
        "id": "wgi1uk-VFglc"
      },
      "source": [
        "#Turn data into TensorFlow Datasets\n",
        "train_dataset_with_stopwords = tf.data.Dataset.from_tensor_slices((train_sentences_with_stopwords, train_labels_one_hot))\n",
        "val_dataset_with_stopwords = tf.data.Dataset.from_tensor_slices((val_sentences_with_stopwords, val_labels_one_hot))\n",
        "test_dataset_with_stopwords = tf.data.Dataset.from_tensor_slices((test_sentences_with_stopwords, test_labels_one_hot))\n",
        "\n",
        "#Prefetch dataset\n",
        "train_dataset_with_stopwords = train_dataset_with_stopwords.batch(32).prefetch(tf.data.AUTOTUNE)\n",
        "val_dataset_with_stopwords = val_dataset_with_stopwords.batch(32).prefetch(tf.data.AUTOTUNE)\n",
        "test_dataset_with_stopwords = test_dataset_with_stopwords.batch(32).prefetch(tf.data.AUTOTUNE)"
      ],
      "execution_count": 19,
      "outputs": []
    },
    {
      "cell_type": "code",
      "metadata": {
        "id": "6AwH1cUTF4e_",
        "colab": {
          "base_uri": "https://localhost:8080/"
        },
        "outputId": "e63fa736-9512-4279-c409-80a732eeff2f"
      },
      "source": [
        "train_dataset_with_stopwords"
      ],
      "execution_count": 20,
      "outputs": [
        {
          "output_type": "execute_result",
          "data": {
            "text/plain": [
              "<PrefetchDataset shapes: ((None,), (None, 3)), types: (tf.string, tf.float64)>"
            ]
          },
          "metadata": {},
          "execution_count": 20
        }
      ]
    },
    {
      "cell_type": "markdown",
      "metadata": {
        "id": "8BClSIace565"
      },
      "source": [
        "## Create Text Vectorization layers"
      ]
    },
    {
      "cell_type": "code",
      "metadata": {
        "colab": {
          "base_uri": "https://localhost:8080/"
        },
        "id": "bLwc_L3mZl5T",
        "outputId": "d9a70ddf-d0de-4061-d0c4-b09878bf628e"
      },
      "source": [
        "#Find average number of words in training sentences\n",
        "sent_len = [len(sentence.split()) for sentence in train_sentences]\n",
        "avg_sent_len = np.mean(sent_len)\n",
        "avg_sent_len"
      ],
      "execution_count": 21,
      "outputs": [
        {
          "output_type": "execute_result",
          "data": {
            "text/plain": [
              "11.504895264116575"
            ]
          },
          "metadata": {},
          "execution_count": 21
        }
      ]
    },
    {
      "cell_type": "code",
      "metadata": {
        "colab": {
          "base_uri": "https://localhost:8080/",
          "height": 480
        },
        "id": "V03Kru84fKFU",
        "outputId": "33e9efc2-51be-4c1e-c3bb-5d3d7ad695a9"
      },
      "source": [
        "import matplotlib.pyplot as plt\n",
        "plt.figure(figsize=(10,7))\n",
        "plt.hist(sent_len, bins=7)"
      ],
      "execution_count": 22,
      "outputs": [
        {
          "output_type": "execute_result",
          "data": {
            "text/plain": [
              "(array([ 688., 1704., 2360., 2927., 1021.,   81.,    3.]),\n",
              " array([ 1.,  5.,  9., 13., 17., 21., 25., 29.]),\n",
              " <a list of 7 Patch objects>)"
            ]
          },
          "metadata": {},
          "execution_count": 22
        },
        {
          "output_type": "display_data",
          "data": {
            "image/png": "[encoded data removed]",
            "text/plain": [
              "<Figure size 720x504 with 1 Axes>"
            ]
          },
          "metadata": {
            "needs_background": "light"
          }
        }
      ]
    },
    {
      "cell_type": "code",
      "metadata": {
        "colab": {
          "base_uri": "https://localhost:8080/"
        },
        "id": "gGV-6fpjfbnW",
        "outputId": "e4c0e16e-c864-4376-9390-9a010cf8f261"
      },
      "source": [
        "# How long of a sentence covers 95% of the lengths?\n",
        "output_seq_len = int(np.percentile(sent_len, 95))\n",
        "output_seq_len"
      ],
      "execution_count": 23,
      "outputs": [
        {
          "output_type": "execute_result",
          "data": {
            "text/plain": [
              "18"
            ]
          },
          "metadata": {},
          "execution_count": 23
        }
      ]
    },
    {
      "cell_type": "code",
      "metadata": {
        "id": "Y1u1epcvft5_"
      },
      "source": [
        "from tensorflow.keras.layers.experimental.preprocessing import TextVectorization\n",
        "\n",
        "max_vocab_length = 5000\n",
        "max_length = output_seq_len\n",
        "\n",
        "text_vectorizer = TextVectorization(max_tokens=max_vocab_length,\n",
        "                                    output_mode=\"int\",\n",
        "                                    output_sequence_length=max_length)"
      ],
      "execution_count": 24,
      "outputs": []
    },
    {
      "cell_type": "code",
      "metadata": {
        "id": "ev48GDi_qRWi"
      },
      "source": [
        "#Fit vectorizer to train sentences\n",
        "text_vectorizer.adapt(train_sentences)"
      ],
      "execution_count": 25,
      "outputs": []
    },
    {
      "cell_type": "markdown",
      "metadata": {
        "id": "CGsQmRJHlwMy"
      },
      "source": [
        "## Create Embedding layer"
      ]
    },
    {
      "cell_type": "code",
      "metadata": {
        "id": "Au6SGuJDko6T"
      },
      "source": [
        "from tensorflow.keras import layers\n",
        "\n",
        "embedding = layers.Embedding(input_dim=max_vocab_length,\n",
        "                             output_dim=32,\n",
        "                             embeddings_initializer=\"uniform\",\n",
        "                             input_length=max_length)"
      ],
      "execution_count": 26,
      "outputs": []
    },
    {
      "cell_type": "markdown",
      "metadata": {
        "id": "KKIglvFQmB2R"
      },
      "source": [
        "## Modelling experiments"
      ]
    },
    {
      "cell_type": "code",
      "metadata": {
        "id": "r0wp7YbqmVgr"
      },
      "source": [
        "from helper_functions import plot_training_curve"
      ],
      "execution_count": 27,
      "outputs": []
    },
    {
      "cell_type": "markdown",
      "metadata": {
        "id": "W9d1v72fmRDv"
      },
      "source": [
        "### Model 1: Dense"
      ]
    },
    {
      "cell_type": "code",
      "metadata": {
        "id": "dEq-2Q6hmSR0"
      },
      "source": [
        "# Build the model \n",
        "inputs = layers.Input(shape=(1,), dtype=\"string\")\n",
        "x = text_vectorizer(inputs)\n",
        "x = embedding(x)\n",
        "x = layers.GlobalAveragePooling1D()(x)\n",
        "outputs = layers.Dense(3, activation=\"softmax\")(x)\n",
        "model_1 = tf.keras.Model(inputs, outputs)"
      ],
      "execution_count": 28,
      "outputs": []
    },
    {
      "cell_type": "code",
      "metadata": {
        "id": "AVGsCtoWm4Xz"
      },
      "source": [
        "# Compile the model \n",
        "model_1.compile(loss=\"categorical_crossentropy\", optimizer=\"Adam\", metrics=[\"accuracy\"])"
      ],
      "execution_count": 29,
      "outputs": []
    },
    {
      "cell_type": "code",
      "metadata": {
        "colab": {
          "base_uri": "https://localhost:8080/"
        },
        "id": "v6RDF3DGngmF",
        "outputId": "68310c09-dff6-46bb-dc12-37c38a540a2b"
      },
      "source": [
        "%%time\n",
        "history_model_1 = model_1.fit(train_dataset,\n",
        "                              epochs=10,\n",
        "                              verbose=1,\n",
        "                              validation_data=val_dataset)"
      ],
      "execution_count": 30,
      "outputs": [
        {
          "output_type": "stream",
          "name": "stdout",
          "text": [
            "Epoch 1/10\n",
            "275/275 [==============================] - 5s 9ms/step - loss: 0.9171 - accuracy: 0.6239 - val_loss: 0.8221 - val_accuracy: 0.6069\n",
            "Epoch 2/10\n",
            "275/275 [==============================] - 2s 8ms/step - loss: 0.7083 - accuracy: 0.6828 - val_loss: 0.7165 - val_accuracy: 0.6814\n",
            "Epoch 3/10\n",
            "275/275 [==============================] - 2s 8ms/step - loss: 0.6034 - accuracy: 0.7658 - val_loss: 0.6492 - val_accuracy: 0.7404\n",
            "Epoch 4/10\n",
            "275/275 [==============================] - 2s 8ms/step - loss: 0.5218 - accuracy: 0.8118 - val_loss: 0.6031 - val_accuracy: 0.7575\n",
            "Epoch 5/10\n",
            "275/275 [==============================] - 2s 8ms/step - loss: 0.4581 - accuracy: 0.8370 - val_loss: 0.5757 - val_accuracy: 0.7637\n",
            "Epoch 6/10\n",
            "275/275 [==============================] - 2s 8ms/step - loss: 0.4095 - accuracy: 0.8564 - val_loss: 0.5619 - val_accuracy: 0.7684\n",
            "Epoch 7/10\n",
            "275/275 [==============================] - 2s 8ms/step - loss: 0.3717 - accuracy: 0.8690 - val_loss: 0.5567 - val_accuracy: 0.7712\n",
            "Epoch 8/10\n",
            "275/275 [==============================] - 2s 8ms/step - loss: 0.3410 - accuracy: 0.8809 - val_loss: 0.5571 - val_accuracy: 0.7742\n",
            "Epoch 9/10\n",
            "275/275 [==============================] - 2s 8ms/step - loss: 0.3153 - accuracy: 0.8897 - val_loss: 0.5613 - val_accuracy: 0.7780\n",
            "Epoch 10/10\n",
            "275/275 [==============================] - 2s 8ms/step - loss: 0.2931 - accuracy: 0.8980 - val_loss: 0.5685 - val_accuracy: 0.7766\n",
            "CPU times: user 27.1 s, sys: 4.43 s, total: 31.5 s\n",
            "Wall time: 26.4 s\n"
          ]
        }
      ]
    },
    {
      "cell_type": "code",
      "metadata": {
        "colab": {
          "base_uri": "https://localhost:8080/"
        },
        "id": "3DcKXgjcnthg",
        "outputId": "2cb5cd59-13b1-4b46-c068-928a15da9d0f"
      },
      "source": [
        "#Evaluate\n",
        "model_1.evaluate(test_dataset)"
      ],
      "execution_count": 31,
      "outputs": [
        {
          "output_type": "stream",
          "name": "stdout",
          "text": [
            "92/92 [==============================] - 0s 4ms/step - loss: 0.5513 - accuracy: 0.7865\n"
          ]
        },
        {
          "output_type": "execute_result",
          "data": {
            "text/plain": [
              "[0.5512521266937256, 0.7865437269210815]"
            ]
          },
          "metadata": {},
          "execution_count": 31
        }
      ]
    },
    {
      "cell_type": "code",
      "metadata": {
        "colab": {
          "base_uri": "https://localhost:8080/",
          "height": 444
        },
        "id": "vXHaAZPIqilF",
        "outputId": "8cc7703c-f91a-4778-f2c9-e5d726021431"
      },
      "source": [
        "#Plot training curves\n",
        "plot_training_curve(history_model_1)"
      ],
      "execution_count": 32,
      "outputs": [
        {
          "output_type": "display_data",
          "data": {
            "image/png": "[encoded data removed]",
            "text/plain": [
              "<Figure size 720x504 with 1 Axes>"
            ]
          },
          "metadata": {
            "needs_background": "light"
          }
        }
      ]
    },
    {
      "cell_type": "markdown",
      "metadata": {
        "id": "hSbO7aVNrGf4"
      },
      "source": [
        "### Model 2: Conv1D"
      ]
    },
    {
      "cell_type": "code",
      "metadata": {
        "id": "qEqiPU7IrJ5C"
      },
      "source": [
        "# Build the model \n",
        "inputs = layers.Input(shape=(1,), dtype=tf.string)\n",
        "x = text_vectorizer(inputs)\n",
        "x = embedding(x)\n",
        "x = layers.Conv1D(filters=8, kernel_size=2, padding=\"same\", activation=\"relu\")(x)\n",
        "x = layers.Dropout(0.5)(x)\n",
        "x = layers.GlobalAveragePooling1D()(x)\n",
        "x = layers.Dropout(0.5)(x)\n",
        "outputs = layers.Dense(3, activation=\"softmax\")(x)\n",
        "model_2 = tf.keras.Model(inputs, outputs)"
      ],
      "execution_count": 33,
      "outputs": []
    },
    {
      "cell_type": "code",
      "metadata": {
        "id": "3ZevP1rGru1r"
      },
      "source": [
        "# Compile the model \n",
        "model_2.compile(loss=\"categorical_crossentropy\", optimizer=\"Adam\", metrics=[\"accuracy\"])"
      ],
      "execution_count": 34,
      "outputs": []
    },
    {
      "cell_type": "code",
      "metadata": {
        "colab": {
          "base_uri": "https://localhost:8080/"
        },
        "id": "LVTnf9rTt0Wf",
        "outputId": "71e86d5f-94a9-4a81-81db-6463c348868c"
      },
      "source": [
        "%%time\n",
        "history_model_2 = model_2.fit(train_dataset,\n",
        "                              epochs=500,\n",
        "                              verbose=1,\n",
        "                              validation_data=val_dataset,\n",
        "                              callbacks=[tf.keras.callbacks.ReduceLROnPlateau(monitor=\"val_loss\", patience=5, verbose=1),\n",
        "                                         tf.keras.callbacks.EarlyStopping(monitor=\"val_loss\", patience=10, restore_best_weights=True, verbose=1)])"
      ],
      "execution_count": 35,
      "outputs": [
        {
          "output_type": "stream",
          "name": "stdout",
          "text": [
            "Epoch 1/500\n",
            "275/275 [==============================] - 30s 10ms/step - loss: 1.0166 - accuracy: 0.6422 - val_loss: 0.9471 - val_accuracy: 0.7042\n",
            "Epoch 2/500\n",
            "275/275 [==============================] - 2s 9ms/step - loss: 0.8554 - accuracy: 0.7298 - val_loss: 0.8301 - val_accuracy: 0.6947\n",
            "Epoch 3/500\n",
            "275/275 [==============================] - 2s 9ms/step - loss: 0.7589 - accuracy: 0.7317 - val_loss: 0.7676 - val_accuracy: 0.6974\n",
            "Epoch 4/500\n",
            "275/275 [==============================] - 2s 9ms/step - loss: 0.7021 - accuracy: 0.7318 - val_loss: 0.6962 - val_accuracy: 0.7012\n",
            "Epoch 5/500\n",
            "275/275 [==============================] - 2s 9ms/step - loss: 0.6353 - accuracy: 0.7464 - val_loss: 0.6456 - val_accuracy: 0.7237\n",
            "Epoch 6/500\n",
            "275/275 [==============================] - 2s 9ms/step - loss: 0.6158 - accuracy: 0.7565 - val_loss: 0.6292 - val_accuracy: 0.7268\n",
            "Epoch 7/500\n",
            "275/275 [==============================] - 2s 9ms/step - loss: 0.6064 - accuracy: 0.7591 - val_loss: 0.6243 - val_accuracy: 0.7261\n",
            "Epoch 8/500\n",
            "275/275 [==============================] - 2s 9ms/step - loss: 0.5878 - accuracy: 0.7728 - val_loss: 0.6188 - val_accuracy: 0.7298\n",
            "Epoch 9/500\n",
            "275/275 [==============================] - 2s 9ms/step - loss: 0.5887 - accuracy: 0.7646 - val_loss: 0.6217 - val_accuracy: 0.7271\n",
            "Epoch 10/500\n",
            "275/275 [==============================] - 2s 9ms/step - loss: 0.5701 - accuracy: 0.7742 - val_loss: 0.6084 - val_accuracy: 0.7353\n",
            "Epoch 11/500\n",
            "275/275 [==============================] - 2s 9ms/step - loss: 0.5741 - accuracy: 0.7721 - val_loss: 0.6214 - val_accuracy: 0.7285\n",
            "Epoch 12/500\n",
            "275/275 [==============================] - 2s 9ms/step - loss: 0.5625 - accuracy: 0.7771 - val_loss: 0.6152 - val_accuracy: 0.7292\n",
            "Epoch 13/500\n",
            "275/275 [==============================] - 2s 9ms/step - loss: 0.5627 - accuracy: 0.7765 - val_loss: 0.6301 - val_accuracy: 0.7261\n",
            "Epoch 14/500\n",
            "275/275 [==============================] - 2s 9ms/step - loss: 0.5528 - accuracy: 0.7804 - val_loss: 0.6207 - val_accuracy: 0.7278\n",
            "Epoch 15/500\n",
            "275/275 [==============================] - 2s 9ms/step - loss: 0.5418 - accuracy: 0.7827 - val_loss: 0.6147 - val_accuracy: 0.7309\n",
            "\n",
            "Epoch 00015: ReduceLROnPlateau reducing learning rate to 0.00010000000474974513.\n",
            "Epoch 16/500\n",
            "275/275 [==============================] - 2s 9ms/step - loss: 0.5367 - accuracy: 0.7864 - val_loss: 0.6096 - val_accuracy: 0.7346\n",
            "Epoch 17/500\n",
            "275/275 [==============================] - 2s 9ms/step - loss: 0.5306 - accuracy: 0.7903 - val_loss: 0.6092 - val_accuracy: 0.7357\n",
            "Epoch 18/500\n",
            "275/275 [==============================] - 2s 9ms/step - loss: 0.5403 - accuracy: 0.7848 - val_loss: 0.6108 - val_accuracy: 0.7346\n",
            "Epoch 19/500\n",
            "275/275 [==============================] - 2s 9ms/step - loss: 0.5319 - accuracy: 0.7871 - val_loss: 0.6113 - val_accuracy: 0.7346\n",
            "Epoch 20/500\n",
            "275/275 [==============================] - 2s 9ms/step - loss: 0.5338 - accuracy: 0.7854 - val_loss: 0.6089 - val_accuracy: 0.7357\n",
            "\n",
            "Epoch 00020: ReduceLROnPlateau reducing learning rate to 1.0000000474974514e-05.\n",
            "Restoring model weights from the end of the best epoch.\n",
            "Epoch 00020: early stopping\n",
            "CPU times: user 58.6 s, sys: 9.55 s, total: 1min 8s\n",
            "Wall time: 1min 29s\n"
          ]
        }
      ]
    },
    {
      "cell_type": "code",
      "metadata": {
        "colab": {
          "base_uri": "https://localhost:8080/"
        },
        "id": "xDgJY1pir1cQ",
        "outputId": "97d8aecb-ac18-4cbf-b6fc-4441e13700ef"
      },
      "source": [
        "#Evaluate\n",
        "model_2.evaluate(test_dataset)"
      ],
      "execution_count": 36,
      "outputs": [
        {
          "output_type": "stream",
          "name": "stdout",
          "text": [
            "92/92 [==============================] - 0s 4ms/step - loss: 0.5906 - accuracy: 0.7476\n"
          ]
        },
        {
          "output_type": "execute_result",
          "data": {
            "text/plain": [
              "[0.5905648469924927, 0.7476093173027039]"
            ]
          },
          "metadata": {},
          "execution_count": 36
        }
      ]
    },
    {
      "cell_type": "code",
      "metadata": {
        "colab": {
          "base_uri": "https://localhost:8080/",
          "height": 444
        },
        "id": "z-LYsFqir6ba",
        "outputId": "b20be64e-e4c9-45cf-c45b-dde9b0e0677c"
      },
      "source": [
        "#Plot training curves\n",
        "plot_training_curve(history_model_2)"
      ],
      "execution_count": 37,
      "outputs": [
        {
          "output_type": "display_data",
          "data": {
            "image/png": "[encoded data removed]",
            "text/plain": [
              "<Figure size 720x504 with 1 Axes>"
            ]
          },
          "metadata": {
            "needs_background": "light"
          }
        }
      ]
    },
    {
      "cell_type": "markdown",
      "metadata": {
        "id": "LY9gjqs1ujdZ"
      },
      "source": [
        "### Model 3: LSTM"
      ]
    },
    {
      "cell_type": "code",
      "metadata": {
        "id": "wzrKlMpor8qu"
      },
      "source": [
        "# Build the model \n",
        "inputs = layers.Input(shape=(1,), dtype=tf.string)\n",
        "x = text_vectorizer(inputs)\n",
        "x = embedding(x)\n",
        "x = layers.LSTM(8)(x)\n",
        "x = layers.Dropout(0.5)(x)\n",
        "outputs = layers.Dense(3, activation=\"softmax\")(x)\n",
        "model_3 = tf.keras.Model(inputs, outputs)"
      ],
      "execution_count": 38,
      "outputs": []
    },
    {
      "cell_type": "code",
      "metadata": {
        "id": "_dk_qMZNu3QS"
      },
      "source": [
        "# Compile the model \n",
        "model_3.compile(loss=\"categorical_crossentropy\", optimizer=\"Adam\", metrics=[\"accuracy\"])"
      ],
      "execution_count": 39,
      "outputs": []
    },
    {
      "cell_type": "code",
      "metadata": {
        "colab": {
          "base_uri": "https://localhost:8080/"
        },
        "id": "BZHQsfLSu58O",
        "outputId": "684d5f78-d0a7-46c0-cbe4-b1830bf3fb50"
      },
      "source": [
        "%%time\n",
        "history_model_3 = model_3.fit(train_dataset,\n",
        "                              epochs=500,\n",
        "                              verbose=1,\n",
        "                              validation_data=val_dataset,\n",
        "                              callbacks=[tf.keras.callbacks.ReduceLROnPlateau(monitor=\"val_loss\", patience=5, verbose=1),\n",
        "                                         tf.keras.callbacks.EarlyStopping(monitor=\"val_loss\", patience=10, restore_best_weights=True, verbose=1)])"
      ],
      "execution_count": 40,
      "outputs": [
        {
          "output_type": "stream",
          "name": "stdout",
          "text": [
            "Epoch 1/500\n",
            "275/275 [==============================] - 7s 14ms/step - loss: 0.6737 - accuracy: 0.7058 - val_loss: 0.6270 - val_accuracy: 0.7695\n",
            "Epoch 2/500\n",
            "275/275 [==============================] - 3s 12ms/step - loss: 0.3856 - accuracy: 0.8784 - val_loss: 0.6751 - val_accuracy: 0.7661\n",
            "Epoch 3/500\n",
            "275/275 [==============================] - 3s 12ms/step - loss: 0.3170 - accuracy: 0.9052 - val_loss: 0.7440 - val_accuracy: 0.7681\n",
            "Epoch 4/500\n",
            "275/275 [==============================] - 3s 12ms/step - loss: 0.2799 - accuracy: 0.9197 - val_loss: 0.8169 - val_accuracy: 0.7664\n",
            "Epoch 5/500\n",
            "275/275 [==============================] - 3s 12ms/step - loss: 0.2577 - accuracy: 0.9291 - val_loss: 0.8571 - val_accuracy: 0.7643\n",
            "Epoch 6/500\n",
            "275/275 [==============================] - 3s 12ms/step - loss: 0.2346 - accuracy: 0.9373 - val_loss: 0.9074 - val_accuracy: 0.7599\n",
            "\n",
            "Epoch 00006: ReduceLROnPlateau reducing learning rate to 0.00010000000474974513.\n",
            "Epoch 7/500\n",
            "275/275 [==============================] - 3s 12ms/step - loss: 0.2061 - accuracy: 0.9476 - val_loss: 0.9205 - val_accuracy: 0.7633\n",
            "Epoch 8/500\n",
            "275/275 [==============================] - 3s 12ms/step - loss: 0.2079 - accuracy: 0.9483 - val_loss: 0.9224 - val_accuracy: 0.7640\n",
            "Epoch 9/500\n",
            "275/275 [==============================] - 3s 12ms/step - loss: 0.2037 - accuracy: 0.9487 - val_loss: 0.9264 - val_accuracy: 0.7633\n",
            "Epoch 10/500\n",
            "275/275 [==============================] - 3s 12ms/step - loss: 0.2006 - accuracy: 0.9504 - val_loss: 0.9363 - val_accuracy: 0.7630\n",
            "Epoch 11/500\n",
            "275/275 [==============================] - 3s 12ms/step - loss: 0.1978 - accuracy: 0.9512 - val_loss: 0.9453 - val_accuracy: 0.7613\n",
            "\n",
            "Epoch 00011: ReduceLROnPlateau reducing learning rate to 1.0000000474974514e-05.\n",
            "Restoring model weights from the end of the best epoch.\n",
            "Epoch 00011: early stopping\n",
            "CPU times: user 42.1 s, sys: 5.41 s, total: 47.5 s\n",
            "Wall time: 41.6 s\n"
          ]
        }
      ]
    },
    {
      "cell_type": "code",
      "metadata": {
        "colab": {
          "base_uri": "https://localhost:8080/"
        },
        "id": "9d-Z-QKXu9aZ",
        "outputId": "65365696-ea98-452d-8147-2cb9f5387019"
      },
      "source": [
        "#Evaluate\n",
        "model_3.evaluate(test_dataset)"
      ],
      "execution_count": 41,
      "outputs": [
        {
          "output_type": "stream",
          "name": "stdout",
          "text": [
            "92/92 [==============================] - 0s 5ms/step - loss: 0.6071 - accuracy: 0.7807\n"
          ]
        },
        {
          "output_type": "execute_result",
          "data": {
            "text/plain": [
              "[0.6070634126663208, 0.7807376980781555]"
            ]
          },
          "metadata": {},
          "execution_count": 41
        }
      ]
    },
    {
      "cell_type": "code",
      "metadata": {
        "colab": {
          "base_uri": "https://localhost:8080/",
          "height": 444
        },
        "id": "SYzb7DpuvAtJ",
        "outputId": "34f42de7-1d24-44e3-f784-998474518840"
      },
      "source": [
        "#Plot training curves\n",
        "plot_training_curve(history_model_3)"
      ],
      "execution_count": 42,
      "outputs": [
        {
          "output_type": "display_data",
          "data": {
            "image/png": "[encoded data removed]",
            "text/plain": [
              "<Figure size 720x504 with 1 Axes>"
            ]
          },
          "metadata": {
            "needs_background": "light"
          }
        }
      ]
    },
    {
      "cell_type": "markdown",
      "metadata": {
        "id": "kN9dV9W6GBYO"
      },
      "source": [
        "### Model 4: GRU"
      ]
    },
    {
      "cell_type": "code",
      "metadata": {
        "id": "aALjy2WMGRVS"
      },
      "source": [
        "# Build the model \n",
        "inputs = layers.Input(shape=(1,), dtype=tf.string)\n",
        "x = text_vectorizer(inputs)\n",
        "x = embedding(x)\n",
        "x = layers.GRU(8)(x)\n",
        "x = layers.Dropout(0.5)(x)\n",
        "outputs = layers.Dense(3, activation=\"softmax\")(x)\n",
        "model_4 = tf.keras.Model(inputs, outputs)"
      ],
      "execution_count": 43,
      "outputs": []
    },
    {
      "cell_type": "code",
      "metadata": {
        "id": "WRd6cb57GWb7"
      },
      "source": [
        "# Compile the model \n",
        "model_4.compile(loss=\"categorical_crossentropy\", optimizer=\"Adam\", metrics=[\"accuracy\"])"
      ],
      "execution_count": 44,
      "outputs": []
    },
    {
      "cell_type": "code",
      "metadata": {
        "id": "OgGxJQ4kGYtK",
        "colab": {
          "base_uri": "https://localhost:8080/"
        },
        "outputId": "092983d5-8f3d-4204-e2c8-e9a32a24004b"
      },
      "source": [
        "%%time\n",
        "history_model_4 = model_4.fit(train_dataset,\n",
        "                              epochs=500,\n",
        "                              verbose=1,\n",
        "                              validation_data=val_dataset,\n",
        "                              callbacks=[tf.keras.callbacks.ReduceLROnPlateau(monitor=\"val_loss\", patience=5, verbose=1),\n",
        "                                         tf.keras.callbacks.EarlyStopping(monitor=\"val_loss\", patience=10, restore_best_weights=True, verbose=1)])"
      ],
      "execution_count": 45,
      "outputs": [
        {
          "output_type": "stream",
          "name": "stdout",
          "text": [
            "Epoch 1/500\n",
            "275/275 [==============================] - 6s 13ms/step - loss: 0.7310 - accuracy: 0.6837 - val_loss: 0.7151 - val_accuracy: 0.6841\n",
            "Epoch 2/500\n",
            "275/275 [==============================] - 3s 11ms/step - loss: 0.4729 - accuracy: 0.7880 - val_loss: 0.7256 - val_accuracy: 0.7292\n",
            "Epoch 3/500\n",
            "275/275 [==============================] - 3s 12ms/step - loss: 0.4031 - accuracy: 0.8411 - val_loss: 0.7337 - val_accuracy: 0.7568\n",
            "Epoch 4/500\n",
            "275/275 [==============================] - 3s 12ms/step - loss: 0.3267 - accuracy: 0.8878 - val_loss: 0.7631 - val_accuracy: 0.7626\n",
            "Epoch 5/500\n",
            "275/275 [==============================] - 3s 12ms/step - loss: 0.2780 - accuracy: 0.9110 - val_loss: 0.8290 - val_accuracy: 0.7661\n",
            "Epoch 6/500\n",
            "275/275 [==============================] - 3s 12ms/step - loss: 0.2524 - accuracy: 0.9224 - val_loss: 0.8813 - val_accuracy: 0.7579\n",
            "\n",
            "Epoch 00006: ReduceLROnPlateau reducing learning rate to 0.00010000000474974513.\n",
            "Epoch 7/500\n",
            "275/275 [==============================] - 3s 12ms/step - loss: 0.2274 - accuracy: 0.9332 - val_loss: 0.8673 - val_accuracy: 0.7640\n",
            "Epoch 8/500\n",
            "275/275 [==============================] - 3s 12ms/step - loss: 0.2154 - accuracy: 0.9353 - val_loss: 0.8743 - val_accuracy: 0.7602\n",
            "Epoch 9/500\n",
            "275/275 [==============================] - 3s 11ms/step - loss: 0.2158 - accuracy: 0.9370 - val_loss: 0.8795 - val_accuracy: 0.7626\n",
            "Epoch 10/500\n",
            "275/275 [==============================] - 3s 12ms/step - loss: 0.2145 - accuracy: 0.9353 - val_loss: 0.8917 - val_accuracy: 0.7626\n",
            "Epoch 11/500\n",
            "275/275 [==============================] - 3s 12ms/step - loss: 0.2022 - accuracy: 0.9411 - val_loss: 0.8983 - val_accuracy: 0.7626\n",
            "\n",
            "Epoch 00011: ReduceLROnPlateau reducing learning rate to 1.0000000474974514e-05.\n",
            "Restoring model weights from the end of the best epoch.\n",
            "Epoch 00011: early stopping\n",
            "CPU times: user 41 s, sys: 5.18 s, total: 46.2 s\n",
            "Wall time: 44.9 s\n"
          ]
        }
      ]
    },
    {
      "cell_type": "code",
      "metadata": {
        "id": "VpjMVyw8GeRT",
        "colab": {
          "base_uri": "https://localhost:8080/"
        },
        "outputId": "2118dba8-7bea-4878-f9d8-b6edb18374db"
      },
      "source": [
        "#Evaluate\n",
        "model_4.evaluate(test_dataset)"
      ],
      "execution_count": 46,
      "outputs": [
        {
          "output_type": "stream",
          "name": "stdout",
          "text": [
            "92/92 [==============================] - 1s 5ms/step - loss: 0.6840 - accuracy: 0.7090\n"
          ]
        },
        {
          "output_type": "execute_result",
          "data": {
            "text/plain": [
              "[0.6839618682861328, 0.7090163826942444]"
            ]
          },
          "metadata": {},
          "execution_count": 46
        }
      ]
    },
    {
      "cell_type": "code",
      "metadata": {
        "id": "ByfBSxKpGbwJ",
        "colab": {
          "base_uri": "https://localhost:8080/",
          "height": 444
        },
        "outputId": "f37a15df-ee92-492b-c13d-543f611e37c5"
      },
      "source": [
        "#Plot training curves\n",
        "plot_training_curve(history_model_4)"
      ],
      "execution_count": 47,
      "outputs": [
        {
          "output_type": "display_data",
          "data": {
            "image/png": "[encoded data removed]",
            "text/plain": [
              "<Figure size 720x504 with 1 Axes>"
            ]
          },
          "metadata": {
            "needs_background": "light"
          }
        }
      ]
    },
    {
      "cell_type": "markdown",
      "metadata": {
        "id": "OeF6bm9WGhNa"
      },
      "source": [
        "### Model 5: Feature Extraction"
      ]
    },
    {
      "cell_type": "code",
      "metadata": {
        "id": "lZqWk07RH-c0"
      },
      "source": [
        "import tensorflow_hub as hub\n",
        "tf_hub_embedding_layer = hub.KerasLayer(\"https://tfhub.dev/google/universal-sentence-encoder/4\",\n",
        "                                        trainable=False,\n",
        "                                        name=\"universal_sentence_encoder\")"
      ],
      "execution_count": 48,
      "outputs": []
    },
    {
      "cell_type": "code",
      "metadata": {
        "id": "UVpSOYpVIA2w"
      },
      "source": [
        "inputs = layers.Input(shape=[], dtype=tf.string)\n",
        "pretrained_embedding = tf_hub_embedding_layer(inputs)\n",
        "x = layers.Dropout(0.2)(pretrained_embedding)\n",
        "x = layers.Dense(4, activation=\"relu\",kernel_regularizer=tf.keras.regularizers.l1_l2(l1=1e-5, l2=1e-4),\n",
        "                     bias_regularizer=tf.keras.regularizers.l2(1e-4),\n",
        "                     activity_regularizer=tf.keras.regularizers.l2(1e-5))(x)\n",
        "x = layers.Dropout(0.2)(x)\n",
        "outputs = layers.Dense(3, activation=\"softmax\")(x)\n",
        "model_5 = tf.keras.Model(inputs, outputs)"
      ],
      "execution_count": 49,
      "outputs": []
    },
    {
      "cell_type": "code",
      "metadata": {
        "id": "ST1wSfdwIRUn"
      },
      "source": [
        "# Compile the model \n",
        "model_5.compile(loss=\"categorical_crossentropy\", optimizer=\"Adam\", metrics=[\"accuracy\"])"
      ],
      "execution_count": 50,
      "outputs": []
    },
    {
      "cell_type": "code",
      "metadata": {
        "id": "UEROwaewIZE0",
        "colab": {
          "base_uri": "https://localhost:8080/"
        },
        "outputId": "2a6a3594-3f4e-46cd-ba49-a129ced4eea0"
      },
      "source": [
        "%%time\n",
        "history_model_5 = model_5.fit(train_dataset_with_stopwords,\n",
        "                              epochs=500,\n",
        "                              verbose=1,\n",
        "                              validation_data=val_dataset_with_stopwords,\n",
        "                              callbacks=[tf.keras.callbacks.ReduceLROnPlateau(monitor=\"val_loss\", patience=5, verbose=1),\n",
        "                                         tf.keras.callbacks.EarlyStopping(monitor=\"val_loss\", patience=10, restore_best_weights=True, verbose=1)])"
      ],
      "execution_count": 51,
      "outputs": [
        {
          "output_type": "stream",
          "name": "stdout",
          "text": [
            "Epoch 1/500\n",
            "275/275 [==============================] - 10s 25ms/step - loss: 1.0116 - accuracy: 0.6793 - val_loss: 0.9104 - val_accuracy: 0.7326\n",
            "Epoch 2/500\n",
            "275/275 [==============================] - 6s 22ms/step - loss: 0.7778 - accuracy: 0.7509 - val_loss: 0.6675 - val_accuracy: 0.7435\n",
            "Epoch 3/500\n",
            "275/275 [==============================] - 6s 23ms/step - loss: 0.6342 - accuracy: 0.7662 - val_loss: 0.5925 - val_accuracy: 0.7708\n",
            "Epoch 4/500\n",
            "275/275 [==============================] - 6s 23ms/step - loss: 0.5930 - accuracy: 0.7849 - val_loss: 0.5665 - val_accuracy: 0.7804\n",
            "Epoch 5/500\n",
            "275/275 [==============================] - 6s 23ms/step - loss: 0.5764 - accuracy: 0.7881 - val_loss: 0.5555 - val_accuracy: 0.7835\n",
            "Epoch 6/500\n",
            "275/275 [==============================] - 6s 23ms/step - loss: 0.5558 - accuracy: 0.8008 - val_loss: 0.5473 - val_accuracy: 0.7848\n",
            "Epoch 7/500\n",
            "275/275 [==============================] - 6s 23ms/step - loss: 0.5590 - accuracy: 0.7959 - val_loss: 0.5461 - val_accuracy: 0.7848\n",
            "Epoch 8/500\n",
            "275/275 [==============================] - 6s 23ms/step - loss: 0.5436 - accuracy: 0.7991 - val_loss: 0.5404 - val_accuracy: 0.7876\n",
            "Epoch 9/500\n",
            "275/275 [==============================] - 6s 23ms/step - loss: 0.5469 - accuracy: 0.7971 - val_loss: 0.5434 - val_accuracy: 0.7845\n",
            "Epoch 10/500\n",
            "275/275 [==============================] - 6s 23ms/step - loss: 0.5383 - accuracy: 0.8016 - val_loss: 0.5406 - val_accuracy: 0.7886\n",
            "Epoch 11/500\n",
            "275/275 [==============================] - 7s 24ms/step - loss: 0.5414 - accuracy: 0.8009 - val_loss: 0.5436 - val_accuracy: 0.7886\n",
            "Epoch 12/500\n",
            "275/275 [==============================] - 6s 23ms/step - loss: 0.5330 - accuracy: 0.8016 - val_loss: 0.5369 - val_accuracy: 0.7917\n",
            "Epoch 13/500\n",
            "275/275 [==============================] - 6s 23ms/step - loss: 0.5393 - accuracy: 0.7960 - val_loss: 0.5364 - val_accuracy: 0.7944\n",
            "Epoch 14/500\n",
            "275/275 [==============================] - 6s 23ms/step - loss: 0.5272 - accuracy: 0.8077 - val_loss: 0.5398 - val_accuracy: 0.7910\n",
            "Epoch 15/500\n",
            "275/275 [==============================] - 6s 23ms/step - loss: 0.5309 - accuracy: 0.8017 - val_loss: 0.5358 - val_accuracy: 0.7913\n",
            "Epoch 16/500\n",
            "275/275 [==============================] - 6s 23ms/step - loss: 0.5356 - accuracy: 0.8035 - val_loss: 0.5359 - val_accuracy: 0.7910\n",
            "Epoch 17/500\n",
            "275/275 [==============================] - 6s 23ms/step - loss: 0.5248 - accuracy: 0.8048 - val_loss: 0.5358 - val_accuracy: 0.7896\n",
            "Epoch 18/500\n",
            "275/275 [==============================] - 6s 23ms/step - loss: 0.5338 - accuracy: 0.8007 - val_loss: 0.5382 - val_accuracy: 0.7917\n",
            "Epoch 19/500\n",
            "275/275 [==============================] - 6s 23ms/step - loss: 0.5254 - accuracy: 0.8018 - val_loss: 0.5366 - val_accuracy: 0.7900\n",
            "Epoch 20/500\n",
            "275/275 [==============================] - 6s 23ms/step - loss: 0.5191 - accuracy: 0.8074 - val_loss: 0.5379 - val_accuracy: 0.7903\n",
            "\n",
            "Epoch 00020: ReduceLROnPlateau reducing learning rate to 0.00010000000474974513.\n",
            "Epoch 21/500\n",
            "275/275 [==============================] - 6s 23ms/step - loss: 0.5249 - accuracy: 0.8038 - val_loss: 0.5359 - val_accuracy: 0.7920\n",
            "Epoch 22/500\n",
            "275/275 [==============================] - 6s 23ms/step - loss: 0.5154 - accuracy: 0.8071 - val_loss: 0.5343 - val_accuracy: 0.7920\n",
            "Epoch 23/500\n",
            "275/275 [==============================] - 6s 23ms/step - loss: 0.5280 - accuracy: 0.8017 - val_loss: 0.5347 - val_accuracy: 0.7906\n",
            "Epoch 24/500\n",
            "275/275 [==============================] - 6s 23ms/step - loss: 0.5141 - accuracy: 0.8106 - val_loss: 0.5345 - val_accuracy: 0.7920\n",
            "Epoch 25/500\n",
            "275/275 [==============================] - 6s 23ms/step - loss: 0.5173 - accuracy: 0.8059 - val_loss: 0.5342 - val_accuracy: 0.7913\n",
            "Epoch 26/500\n",
            "275/275 [==============================] - 6s 23ms/step - loss: 0.5227 - accuracy: 0.8045 - val_loss: 0.5350 - val_accuracy: 0.7913\n",
            "Epoch 27/500\n",
            "275/275 [==============================] - 7s 25ms/step - loss: 0.5205 - accuracy: 0.8075 - val_loss: 0.5343 - val_accuracy: 0.7920\n",
            "\n",
            "Epoch 00027: ReduceLROnPlateau reducing learning rate to 1.0000000474974514e-05.\n",
            "Epoch 28/500\n",
            "275/275 [==============================] - 6s 23ms/step - loss: 0.5298 - accuracy: 0.8005 - val_loss: 0.5345 - val_accuracy: 0.7920\n",
            "Epoch 29/500\n",
            "275/275 [==============================] - 6s 23ms/step - loss: 0.5171 - accuracy: 0.8100 - val_loss: 0.5344 - val_accuracy: 0.7920\n",
            "Epoch 30/500\n",
            "275/275 [==============================] - 6s 23ms/step - loss: 0.5190 - accuracy: 0.8044 - val_loss: 0.5344 - val_accuracy: 0.7917\n",
            "Epoch 31/500\n",
            "275/275 [==============================] - 6s 23ms/step - loss: 0.5218 - accuracy: 0.8034 - val_loss: 0.5344 - val_accuracy: 0.7917\n",
            "Epoch 32/500\n",
            "275/275 [==============================] - 6s 23ms/step - loss: 0.5198 - accuracy: 0.8056 - val_loss: 0.5344 - val_accuracy: 0.7917\n",
            "\n",
            "Epoch 00032: ReduceLROnPlateau reducing learning rate to 1.0000000656873453e-06.\n",
            "Epoch 33/500\n",
            "275/275 [==============================] - 6s 23ms/step - loss: 0.5187 - accuracy: 0.8078 - val_loss: 0.5344 - val_accuracy: 0.7917\n",
            "Epoch 34/500\n",
            "275/275 [==============================] - 6s 23ms/step - loss: 0.5178 - accuracy: 0.8067 - val_loss: 0.5344 - val_accuracy: 0.7917\n",
            "Epoch 35/500\n",
            "275/275 [==============================] - 6s 23ms/step - loss: 0.5164 - accuracy: 0.8084 - val_loss: 0.5344 - val_accuracy: 0.7917\n",
            "Restoring model weights from the end of the best epoch.\n",
            "Epoch 00035: early stopping\n",
            "CPU times: user 4min 51s, sys: 42.1 s, total: 5min 33s\n",
            "Wall time: 4min 58s\n"
          ]
        }
      ]
    },
    {
      "cell_type": "code",
      "metadata": {
        "id": "vZy1PDNHIczM",
        "colab": {
          "base_uri": "https://localhost:8080/"
        },
        "outputId": "d6606e15-fe9f-492b-cc84-a510ac56680a"
      },
      "source": [
        "#Evaluate\n",
        "model_5.evaluate(test_dataset_with_stopwords)"
      ],
      "execution_count": 52,
      "outputs": [
        {
          "output_type": "stream",
          "name": "stdout",
          "text": [
            "92/92 [==============================] - 2s 17ms/step - loss: 0.4994 - accuracy: 0.8087\n"
          ]
        },
        {
          "output_type": "execute_result",
          "data": {
            "text/plain": [
              "[0.49941298365592957, 0.8087431788444519]"
            ]
          },
          "metadata": {},
          "execution_count": 52
        }
      ]
    },
    {
      "cell_type": "code",
      "metadata": {
        "id": "ClWre-meIf8E",
        "colab": {
          "base_uri": "https://localhost:8080/",
          "height": 444
        },
        "outputId": "debf645b-d749-426b-b45c-3da4562055a9"
      },
      "source": [
        "#Plot training curves\n",
        "plot_training_curve(history_model_5)"
      ],
      "execution_count": 53,
      "outputs": [
        {
          "output_type": "display_data",
          "data": {
            "image/png": "[encoded data removed]",
            "text/plain": [
              "<Figure size 720x504 with 1 Axes>"
            ]
          },
          "metadata": {
            "needs_background": "light"
          }
        }
      ]
    }
  ]
}