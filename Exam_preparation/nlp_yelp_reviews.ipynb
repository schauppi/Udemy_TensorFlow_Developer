{
  "nbformat": 4,
  "nbformat_minor": 0,
  "metadata": {
    "colab": {
      "name": "nlp_yelp_reviews.ipynb",
      "provenance": [],
      "collapsed_sections": [],
      "authorship_tag": "ABX9TyPdRU6kzj3ctGgUWrUUvGNI",
      "include_colab_link": true
    },
    "kernelspec": {
      "name": "python3",
      "display_name": "Python 3"
    },
    "language_info": {
      "name": "python"
    },
    "accelerator": "GPU"
  },
  "cells": [
    {
      "cell_type": "markdown",
      "metadata": {
        "id": "view-in-github",
        "colab_type": "text"
      },
      "source": [
        "<a href=\"https://colab.research.google.com/github/schauppi/Udemy_TensorFlow_Developer/blob/main/Exam_preparation/nlp_yelp_reviews.ipynb\" target=\"_parent\"><img src=\"https://colab.research.google.com/assets/colab-badge.svg\" alt=\"Open In Colab\"/></a>"
      ]
    },
    {
      "cell_type": "markdown",
      "metadata": {
        "id": "VPN6LmRE7aE0"
      },
      "source": [
        "# Yelp Reviews sentiment analysis"
      ]
    },
    {
      "cell_type": "markdown",
      "metadata": {
        "id": "VsRJKE9v7Pdl"
      },
      "source": [
        "## Data preparation"
      ]
    },
    {
      "cell_type": "code",
      "metadata": {
        "colab": {
          "base_uri": "https://localhost:8080/"
        },
        "id": "UYprMYZG7Ulv",
        "outputId": "8e30bac2-cb09-4100-9e83-08e44c1ab655"
      },
      "source": [
        "#Download dataset\n",
        "!wget https://raw.githubusercontent.com/schauppi/Udemy_TensorFlow_Developer/main/Exam_preparation/Datasets/yelp.csv"
      ],
      "execution_count": 186,
      "outputs": [
        {
          "output_type": "stream",
          "name": "stdout",
          "text": [
            "--2021-09-07 11:29:18--  https://raw.githubusercontent.com/schauppi/Udemy_TensorFlow_Developer/main/Exam_preparation/Datasets/yelp.csv\n",
            "Resolving raw.githubusercontent.com (raw.githubusercontent.com)... 185.199.108.133, 185.199.109.133, 185.199.110.133, ...\n",
            "Connecting to raw.githubusercontent.com (raw.githubusercontent.com)|185.199.108.133|:443... connected.\n",
            "HTTP request sent, awaiting response... 200 OK\n",
            "Length: 8091185 (7.7M) [text/plain]\n",
            "Saving to: ‘yelp.csv.1’\n",
            "\n",
            "yelp.csv.1          100%[===================>]   7.72M  --.-KB/s    in 0.1s    \n",
            "\n",
            "2021-09-07 11:29:19 (68.4 MB/s) - ‘yelp.csv.1’ saved [8091185/8091185]\n",
            "\n"
          ]
        }
      ]
    },
    {
      "cell_type": "code",
      "metadata": {
        "colab": {
          "base_uri": "https://localhost:8080/",
          "height": 292
        },
        "id": "A0PqeKzq7fvJ",
        "outputId": "f680603a-b5cd-4f89-b0d3-b50b9349bf6b"
      },
      "source": [
        "# Turn csv into pandas DataFrame\n",
        "import pandas as pd\n",
        "import numpy as np\n",
        "import tensorflow as tf\n",
        "df = pd.read_csv(\"/content/yelp.csv\")\n",
        "df.head()"
      ],
      "execution_count": 187,
      "outputs": [
        {
          "output_type": "execute_result",
          "data": {
            "text/html": [
              "<div>\n",
              "<style scoped>\n",
              "    .dataframe tbody tr th:only-of-type {\n",
              "        vertical-align: middle;\n",
              "    }\n",
              "\n",
              "    .dataframe tbody tr th {\n",
              "        vertical-align: top;\n",
              "    }\n",
              "\n",
              "    .dataframe thead th {\n",
              "        text-align: right;\n",
              "    }\n",
              "</style>\n",
              "<table border=\"1\" class=\"dataframe\">\n",
              "  <thead>\n",
              "    <tr style=\"text-align: right;\">\n",
              "      <th></th>\n",
              "      <th>business_id</th>\n",
              "      <th>date</th>\n",
              "      <th>review_id</th>\n",
              "      <th>stars</th>\n",
              "      <th>text</th>\n",
              "      <th>type</th>\n",
              "      <th>user_id</th>\n",
              "      <th>cool</th>\n",
              "      <th>useful</th>\n",
              "      <th>funny</th>\n",
              "    </tr>\n",
              "  </thead>\n",
              "  <tbody>\n",
              "    <tr>\n",
              "      <th>0</th>\n",
              "      <td>9yKzy9PApeiPPOUJEtnvkg</td>\n",
              "      <td>2011-01-26</td>\n",
              "      <td>fWKvX83p0-ka4JS3dc6E5A</td>\n",
              "      <td>5</td>\n",
              "      <td>My wife took me here on my birthday for breakf...</td>\n",
              "      <td>review</td>\n",
              "      <td>rLtl8ZkDX5vH5nAx9C3q5Q</td>\n",
              "      <td>2</td>\n",
              "      <td>5</td>\n",
              "      <td>0</td>\n",
              "    </tr>\n",
              "    <tr>\n",
              "      <th>1</th>\n",
              "      <td>ZRJwVLyzEJq1VAihDhYiow</td>\n",
              "      <td>2011-07-27</td>\n",
              "      <td>IjZ33sJrzXqU-0X6U8NwyA</td>\n",
              "      <td>5</td>\n",
              "      <td>I have no idea why some people give bad review...</td>\n",
              "      <td>review</td>\n",
              "      <td>0a2KyEL0d3Yb1V6aivbIuQ</td>\n",
              "      <td>0</td>\n",
              "      <td>0</td>\n",
              "      <td>0</td>\n",
              "    </tr>\n",
              "    <tr>\n",
              "      <th>2</th>\n",
              "      <td>6oRAC4uyJCsJl1X0WZpVSA</td>\n",
              "      <td>2012-06-14</td>\n",
              "      <td>IESLBzqUCLdSzSqm0eCSxQ</td>\n",
              "      <td>4</td>\n",
              "      <td>love the gyro plate. Rice is so good and I als...</td>\n",
              "      <td>review</td>\n",
              "      <td>0hT2KtfLiobPvh6cDC8JQg</td>\n",
              "      <td>0</td>\n",
              "      <td>1</td>\n",
              "      <td>0</td>\n",
              "    </tr>\n",
              "    <tr>\n",
              "      <th>3</th>\n",
              "      <td>_1QQZuf4zZOyFCvXc0o6Vg</td>\n",
              "      <td>2010-05-27</td>\n",
              "      <td>G-WvGaISbqqaMHlNnByodA</td>\n",
              "      <td>5</td>\n",
              "      <td>Rosie, Dakota, and I LOVE Chaparral Dog Park!!...</td>\n",
              "      <td>review</td>\n",
              "      <td>uZetl9T0NcROGOyFfughhg</td>\n",
              "      <td>1</td>\n",
              "      <td>2</td>\n",
              "      <td>0</td>\n",
              "    </tr>\n",
              "    <tr>\n",
              "      <th>4</th>\n",
              "      <td>6ozycU1RpktNG2-1BroVtw</td>\n",
              "      <td>2012-01-05</td>\n",
              "      <td>1uJFq2r5QfJG_6ExMRCaGw</td>\n",
              "      <td>5</td>\n",
              "      <td>General Manager Scott Petello is a good egg!!!...</td>\n",
              "      <td>review</td>\n",
              "      <td>vYmM4KTsC8ZfQBg-j5MWkw</td>\n",
              "      <td>0</td>\n",
              "      <td>0</td>\n",
              "      <td>0</td>\n",
              "    </tr>\n",
              "  </tbody>\n",
              "</table>\n",
              "</div>"
            ],
            "text/plain": [
              "              business_id        date  ... useful  funny\n",
              "0  9yKzy9PApeiPPOUJEtnvkg  2011-01-26  ...      5      0\n",
              "1  ZRJwVLyzEJq1VAihDhYiow  2011-07-27  ...      0      0\n",
              "2  6oRAC4uyJCsJl1X0WZpVSA  2012-06-14  ...      1      0\n",
              "3  _1QQZuf4zZOyFCvXc0o6Vg  2010-05-27  ...      2      0\n",
              "4  6ozycU1RpktNG2-1BroVtw  2012-01-05  ...      0      0\n",
              "\n",
              "[5 rows x 10 columns]"
            ]
          },
          "metadata": {},
          "execution_count": 187
        }
      ]
    },
    {
      "cell_type": "code",
      "metadata": {
        "colab": {
          "base_uri": "https://localhost:8080/",
          "height": 292
        },
        "id": "1iXmGiqi7twS",
        "outputId": "05dec4d2-9caa-405f-ff10-a71c26b0d935"
      },
      "source": [
        "#Shuffle the dataframe\n",
        "df_shuffled = df.sample(frac=1, random_state=42)\n",
        "df_shuffled.head()"
      ],
      "execution_count": 188,
      "outputs": [
        {
          "output_type": "execute_result",
          "data": {
            "text/html": [
              "<div>\n",
              "<style scoped>\n",
              "    .dataframe tbody tr th:only-of-type {\n",
              "        vertical-align: middle;\n",
              "    }\n",
              "\n",
              "    .dataframe tbody tr th {\n",
              "        vertical-align: top;\n",
              "    }\n",
              "\n",
              "    .dataframe thead th {\n",
              "        text-align: right;\n",
              "    }\n",
              "</style>\n",
              "<table border=\"1\" class=\"dataframe\">\n",
              "  <thead>\n",
              "    <tr style=\"text-align: right;\">\n",
              "      <th></th>\n",
              "      <th>business_id</th>\n",
              "      <th>date</th>\n",
              "      <th>review_id</th>\n",
              "      <th>stars</th>\n",
              "      <th>text</th>\n",
              "      <th>type</th>\n",
              "      <th>user_id</th>\n",
              "      <th>cool</th>\n",
              "      <th>useful</th>\n",
              "      <th>funny</th>\n",
              "    </tr>\n",
              "  </thead>\n",
              "  <tbody>\n",
              "    <tr>\n",
              "      <th>6252</th>\n",
              "      <td>QVR7dsvBeg8xFt9B-vd1BA</td>\n",
              "      <td>2010-07-22</td>\n",
              "      <td>hwYVJs8Ko4PMjI19QcR57g</td>\n",
              "      <td>4</td>\n",
              "      <td>We got here around midnight last Friday... the...</td>\n",
              "      <td>review</td>\n",
              "      <td>90a6z--_CUrl84aCzZyPsg</td>\n",
              "      <td>5</td>\n",
              "      <td>5</td>\n",
              "      <td>2</td>\n",
              "    </tr>\n",
              "    <tr>\n",
              "      <th>4684</th>\n",
              "      <td>24qSrF_XOrvaHDBy-gLIQg</td>\n",
              "      <td>2012-01-22</td>\n",
              "      <td>0mvthYPKb2ZmKhCADiKSmQ</td>\n",
              "      <td>5</td>\n",
              "      <td>Brought a friend from Louisiana here.  She say...</td>\n",
              "      <td>review</td>\n",
              "      <td>9lJAj_2zCvP2jcEiRjF9oA</td>\n",
              "      <td>0</td>\n",
              "      <td>0</td>\n",
              "      <td>0</td>\n",
              "    </tr>\n",
              "    <tr>\n",
              "      <th>1731</th>\n",
              "      <td>j0Uc-GuOe-x9_N_IK1KPpA</td>\n",
              "      <td>2009-05-09</td>\n",
              "      <td>XJHknNIecha6h0wkBSZB4w</td>\n",
              "      <td>3</td>\n",
              "      <td>Every friday, my dad and I eat here. We order ...</td>\n",
              "      <td>review</td>\n",
              "      <td>0VfJi9Au0rVFVnPKcJpt3Q</td>\n",
              "      <td>0</td>\n",
              "      <td>0</td>\n",
              "      <td>0</td>\n",
              "    </tr>\n",
              "    <tr>\n",
              "      <th>4742</th>\n",
              "      <td>RBiiGw8c7j-0a8nk35JO3w</td>\n",
              "      <td>2010-12-22</td>\n",
              "      <td>z6y3GRpYDqTznVe-0dn--Q</td>\n",
              "      <td>1</td>\n",
              "      <td>My husband and I were really, really disappoin...</td>\n",
              "      <td>review</td>\n",
              "      <td>lwppVF0Yqkuwt-xaEuugqw</td>\n",
              "      <td>2</td>\n",
              "      <td>2</td>\n",
              "      <td>2</td>\n",
              "    </tr>\n",
              "    <tr>\n",
              "      <th>4521</th>\n",
              "      <td>U8VA-RW6LYOhxR-Ygi6eDw</td>\n",
              "      <td>2011-01-17</td>\n",
              "      <td>vhWHdemMvsqVNv5zi2OMiA</td>\n",
              "      <td>5</td>\n",
              "      <td>Love this place!  Was in phoenix 3 weeks for w...</td>\n",
              "      <td>review</td>\n",
              "      <td>Y2R_tlSk4lTHiLXTDsn1rg</td>\n",
              "      <td>0</td>\n",
              "      <td>1</td>\n",
              "      <td>0</td>\n",
              "    </tr>\n",
              "  </tbody>\n",
              "</table>\n",
              "</div>"
            ],
            "text/plain": [
              "                 business_id        date  ... useful  funny\n",
              "6252  QVR7dsvBeg8xFt9B-vd1BA  2010-07-22  ...      5      2\n",
              "4684  24qSrF_XOrvaHDBy-gLIQg  2012-01-22  ...      0      0\n",
              "1731  j0Uc-GuOe-x9_N_IK1KPpA  2009-05-09  ...      0      0\n",
              "4742  RBiiGw8c7j-0a8nk35JO3w  2010-12-22  ...      2      2\n",
              "4521  U8VA-RW6LYOhxR-Ygi6eDw  2011-01-17  ...      1      0\n",
              "\n",
              "[5 rows x 10 columns]"
            ]
          },
          "metadata": {},
          "execution_count": 188
        }
      ]
    },
    {
      "cell_type": "code",
      "metadata": {
        "colab": {
          "base_uri": "https://localhost:8080/"
        },
        "id": "4cU0yABn9TfA",
        "outputId": "e4151abe-7e2f-4a6e-bef4-0346a7f45569"
      },
      "source": [
        "#How many different ratings\n",
        "df_shuffled.stars.value_counts()"
      ],
      "execution_count": 189,
      "outputs": [
        {
          "output_type": "execute_result",
          "data": {
            "text/plain": [
              "4    3526\n",
              "5    3337\n",
              "3    1461\n",
              "2     927\n",
              "1     749\n",
              "Name: stars, dtype: int64"
            ]
          },
          "metadata": {},
          "execution_count": 189
        }
      ]
    },
    {
      "cell_type": "markdown",
      "metadata": {
        "id": "BKlX65TBJ2YL"
      },
      "source": [
        "### Remove Stopwords"
      ]
    },
    {
      "cell_type": "code",
      "metadata": {
        "id": "byWD_eU6GPQk",
        "outputId": "88500855-028f-4ba8-83dc-156c3f764ae7",
        "colab": {
          "base_uri": "https://localhost:8080/"
        }
      },
      "source": [
        "import nltk\n",
        "nltk.download('stopwords')"
      ],
      "execution_count": 286,
      "outputs": [
        {
          "output_type": "stream",
          "name": "stdout",
          "text": [
            "[nltk_data] Downloading package stopwords to /root/nltk_data...\n",
            "[nltk_data]   Package stopwords is already up-to-date!\n"
          ]
        },
        {
          "output_type": "execute_result",
          "data": {
            "text/plain": [
              "True"
            ]
          },
          "metadata": {},
          "execution_count": 286
        }
      ]
    },
    {
      "cell_type": "code",
      "metadata": {
        "id": "2Gg0tRa2HHSo",
        "outputId": "ab24349d-8463-497a-f3d3-384370adc1b5",
        "colab": {
          "base_uri": "https://localhost:8080/"
        }
      },
      "source": [
        "from nltk.corpus import stopwords\n",
        "STOPWORDS = set(stopwords.words('english'))\n",
        "print(len(STOPWORDS))\n",
        "print(STOPWORDS)"
      ],
      "execution_count": 291,
      "outputs": [
        {
          "output_type": "stream",
          "name": "stdout",
          "text": [
            "179\n",
            "{'before', 'they', 'myself', 'in', 'yours', \"she's\", 'being', 'just', \"didn't\", 'ma', 'themselves', 'its', 'most', 've', 'it', \"shan't\", 'and', \"wasn't\", \"couldn't\", 'from', 'over', 'are', 'him', 'as', 'off', 'that', 'to', 'should', 'when', 'until', 'below', 'on', 'their', 'an', 'wasn', 'all', 'having', 'does', 'there', \"should've\", 'm', 'am', 'been', 'have', 'you', \"don't\", 'her', 'about', 't', 'them', 'needn', 'those', 'shouldn', 'who', 'me', 'hadn', 'll', \"hasn't\", 'only', 'hers', 'why', 'very', \"won't\", 'out', 'she', 'has', 'yourself', 'i', 'here', 'where', \"wouldn't\", 'again', 'nor', 'this', 'shan', 'such', \"you're\", 'mustn', \"haven't\", 'can', 'so', 'is', 'under', 'through', 'further', 'between', 'ours', 'now', 'how', 'down', 'himself', 'own', 'd', 'don', 'won', 'wouldn', 'a', 'same', 're', 'had', 'at', 'doesn', 'my', 'did', 'against', 'once', 'no', 'few', 'ain', 's', 'doing', 'what', 'if', \"it's\", 'both', \"doesn't\", 'haven', 'each', 'theirs', 'couldn', 'our', 'during', 'with', 'isn', 'then', 'your', \"weren't\", 'will', 'or', 'we', 'do', 'these', 'by', 'were', \"hadn't\", \"you'll\", 'any', 'the', 'too', 'above', 'not', 'be', 'which', 'whom', 'mightn', 'didn', 'other', \"you'd\", 'yourselves', 'up', 'his', 'some', 'weren', 'for', 'but', 'while', \"that'll\", 'than', \"shouldn't\", 'itself', 'o', 'hasn', 'more', \"mustn't\", 'herself', \"aren't\", 'into', 'he', 'aren', 'ourselves', 'was', \"you've\", \"isn't\", \"needn't\", 'because', 'y', \"mightn't\", 'of', 'after'}\n"
          ]
        }
      ]
    },
    {
      "cell_type": "code",
      "metadata": {
        "id": "ojGJ9ACZH8CK",
        "outputId": "f9708f26-ff28-4c41-ffd2-9ef7e79529d5",
        "colab": {
          "base_uri": "https://localhost:8080/"
        }
      },
      "source": [
        "print(df_shuffled[\"text\"][0])\n",
        "print(len(df_shuffled[\"text\"][0]))"
      ],
      "execution_count": 293,
      "outputs": [
        {
          "output_type": "stream",
          "name": "stdout",
          "text": [
            "My wife took me here on my birthday for breakfast and it was excellent.  The weather was perfect which made sitting outside overlooking their grounds an absolute pleasure.  Our waitress was excellent and our food arrived quickly on the semi-busy Saturday morning.  It looked like the place fills up pretty quickly so the earlier you get here the better.\n",
            "\n",
            "Do yourself a favor and get their Bloody Mary.  It was phenomenal and simply the best I've ever had.  I'm pretty sure they only use ingredients from their garden and blend them fresh when you order it.  It was amazing.\n",
            "\n",
            "While EVERYTHING on the menu looks excellent, I had the white truffle scrambled eggs vegetable skillet and it was tasty and delicious.  It came with 2 pieces of their griddled bread with was amazing and it absolutely made the meal complete.  It was the best \"toast\" I've ever had.\n",
            "\n",
            "Anyway, I can't wait to go back!\n",
            "889\n"
          ]
        }
      ]
    },
    {
      "cell_type": "code",
      "metadata": {
        "id": "flYBrB8UHdM2"
      },
      "source": [
        "df_shuffled[\"text_stopwords\"] = df_shuffled[\"text\"].apply(lambda x: ' '.join([word for word in x.split() if word not in (STOPWORDS)]))"
      ],
      "execution_count": 298,
      "outputs": []
    },
    {
      "cell_type": "code",
      "metadata": {
        "id": "WNI0-yAXIWIf",
        "outputId": "39edf087-9124-46e6-c946-c098b7f08277",
        "colab": {
          "base_uri": "https://localhost:8080/"
        }
      },
      "source": [
        "print(df_shuffled[\"text_stopwords\"][0])\n",
        "print(len(df_shuffled[\"text_stopwords\"][0]))"
      ],
      "execution_count": 299,
      "outputs": [
        {
          "output_type": "stream",
          "name": "stdout",
          "text": [
            "My wife took birthday breakfast excellent. The weather perfect made sitting outside overlooking grounds absolute pleasure. Our waitress excellent food arrived quickly semi-busy Saturday morning. It looked like place fills pretty quickly earlier get better. Do favor get Bloody Mary. It phenomenal simply best I've ever had. I'm pretty sure use ingredients garden blend fresh order it. It amazing. While EVERYTHING menu looks excellent, I white truffle scrambled eggs vegetable skillet tasty delicious. It came 2 pieces griddled bread amazing absolutely made meal complete. It best \"toast\" I've ever had. Anyway, I can't wait go back!\n",
            "633\n"
          ]
        }
      ]
    },
    {
      "cell_type": "markdown",
      "metadata": {
        "id": "vOrw3XTDJ6vA"
      },
      "source": [
        "### Aggregate star rating"
      ]
    },
    {
      "cell_type": "code",
      "metadata": {
        "id": "Cmi1yPoRpEW0"
      },
      "source": [
        "#Create new star rating - if stars == 1 or 2 then 1, 3 = 2, 4 and 5 = 3\n",
        "stars_aggregated = []\n",
        "for row in df_shuffled[\"stars\"]:\n",
        "  if row == 1 or row == 2:\n",
        "    stars_aggregated.append(1)\n",
        "  elif row == 3:\n",
        "    stars_aggregated.append(2)\n",
        "  elif row == 4 or row ==5:\n",
        "    stars_aggregated.append(3)"
      ],
      "execution_count": 300,
      "outputs": []
    },
    {
      "cell_type": "code",
      "metadata": {
        "colab": {
          "base_uri": "https://localhost:8080/"
        },
        "id": "whlRN98dpim5",
        "outputId": "5e8a78b3-295f-432b-eefd-47d2a6880500"
      },
      "source": [
        "len(stars_aggregated)"
      ],
      "execution_count": 301,
      "outputs": [
        {
          "output_type": "execute_result",
          "data": {
            "text/plain": [
              "10000"
            ]
          },
          "metadata": {},
          "execution_count": 301
        }
      ]
    },
    {
      "cell_type": "code",
      "metadata": {
        "id": "S2BR8rRAoz8r"
      },
      "source": [
        "df_shuffled[\"stars_aggregated\"] = stars_aggregated"
      ],
      "execution_count": 302,
      "outputs": []
    },
    {
      "cell_type": "code",
      "metadata": {
        "colab": {
          "base_uri": "https://localhost:8080/"
        },
        "id": "68tCF-LVrT3k",
        "outputId": "a1b3aff1-4a5f-4057-8159-086e75f5c0f2"
      },
      "source": [
        "#How many different ratings\n",
        "df_shuffled.stars_aggregated.value_counts()"
      ],
      "execution_count": 303,
      "outputs": [
        {
          "output_type": "execute_result",
          "data": {
            "text/plain": [
              "3    6863\n",
              "1    1676\n",
              "2    1461\n",
              "Name: stars_aggregated, dtype: int64"
            ]
          },
          "metadata": {},
          "execution_count": 303
        }
      ]
    },
    {
      "cell_type": "code",
      "metadata": {
        "colab": {
          "base_uri": "https://localhost:8080/",
          "height": 640
        },
        "id": "1p1Kzqt7pojw",
        "outputId": "352b52d2-47eb-4903-ef10-20daed4c4803"
      },
      "source": [
        "df_shuffled.head(5)"
      ],
      "execution_count": 304,
      "outputs": [
        {
          "output_type": "execute_result",
          "data": {
            "text/html": [
              "<div>\n",
              "<style scoped>\n",
              "    .dataframe tbody tr th:only-of-type {\n",
              "        vertical-align: middle;\n",
              "    }\n",
              "\n",
              "    .dataframe tbody tr th {\n",
              "        vertical-align: top;\n",
              "    }\n",
              "\n",
              "    .dataframe thead th {\n",
              "        text-align: right;\n",
              "    }\n",
              "</style>\n",
              "<table border=\"1\" class=\"dataframe\">\n",
              "  <thead>\n",
              "    <tr style=\"text-align: right;\">\n",
              "      <th></th>\n",
              "      <th>business_id</th>\n",
              "      <th>date</th>\n",
              "      <th>review_id</th>\n",
              "      <th>stars</th>\n",
              "      <th>text</th>\n",
              "      <th>type</th>\n",
              "      <th>user_id</th>\n",
              "      <th>cool</th>\n",
              "      <th>useful</th>\n",
              "      <th>funny</th>\n",
              "      <th>stars_aggregated</th>\n",
              "      <th>text_stopwords</th>\n",
              "    </tr>\n",
              "  </thead>\n",
              "  <tbody>\n",
              "    <tr>\n",
              "      <th>6252</th>\n",
              "      <td>QVR7dsvBeg8xFt9B-vd1BA</td>\n",
              "      <td>2010-07-22</td>\n",
              "      <td>hwYVJs8Ko4PMjI19QcR57g</td>\n",
              "      <td>4</td>\n",
              "      <td>We got here around midnight last Friday... the...</td>\n",
              "      <td>review</td>\n",
              "      <td>90a6z--_CUrl84aCzZyPsg</td>\n",
              "      <td>5</td>\n",
              "      <td>5</td>\n",
              "      <td>2</td>\n",
              "      <td>3</td>\n",
              "      <td>We got around midnight last Friday... place de...</td>\n",
              "    </tr>\n",
              "    <tr>\n",
              "      <th>4684</th>\n",
              "      <td>24qSrF_XOrvaHDBy-gLIQg</td>\n",
              "      <td>2012-01-22</td>\n",
              "      <td>0mvthYPKb2ZmKhCADiKSmQ</td>\n",
              "      <td>5</td>\n",
              "      <td>Brought a friend from Louisiana here.  She say...</td>\n",
              "      <td>review</td>\n",
              "      <td>9lJAj_2zCvP2jcEiRjF9oA</td>\n",
              "      <td>0</td>\n",
              "      <td>0</td>\n",
              "      <td>0</td>\n",
              "      <td>3</td>\n",
              "      <td>Brought friend Louisiana here. She says crawfi...</td>\n",
              "    </tr>\n",
              "    <tr>\n",
              "      <th>1731</th>\n",
              "      <td>j0Uc-GuOe-x9_N_IK1KPpA</td>\n",
              "      <td>2009-05-09</td>\n",
              "      <td>XJHknNIecha6h0wkBSZB4w</td>\n",
              "      <td>3</td>\n",
              "      <td>Every friday, my dad and I eat here. We order ...</td>\n",
              "      <td>review</td>\n",
              "      <td>0VfJi9Au0rVFVnPKcJpt3Q</td>\n",
              "      <td>0</td>\n",
              "      <td>0</td>\n",
              "      <td>0</td>\n",
              "      <td>2</td>\n",
              "      <td>Every friday, dad I eat here. We order thing.....</td>\n",
              "    </tr>\n",
              "    <tr>\n",
              "      <th>4742</th>\n",
              "      <td>RBiiGw8c7j-0a8nk35JO3w</td>\n",
              "      <td>2010-12-22</td>\n",
              "      <td>z6y3GRpYDqTznVe-0dn--Q</td>\n",
              "      <td>1</td>\n",
              "      <td>My husband and I were really, really disappoin...</td>\n",
              "      <td>review</td>\n",
              "      <td>lwppVF0Yqkuwt-xaEuugqw</td>\n",
              "      <td>2</td>\n",
              "      <td>2</td>\n",
              "      <td>2</td>\n",
              "      <td>1</td>\n",
              "      <td>My husband I really, really disappointed exper...</td>\n",
              "    </tr>\n",
              "    <tr>\n",
              "      <th>4521</th>\n",
              "      <td>U8VA-RW6LYOhxR-Ygi6eDw</td>\n",
              "      <td>2011-01-17</td>\n",
              "      <td>vhWHdemMvsqVNv5zi2OMiA</td>\n",
              "      <td>5</td>\n",
              "      <td>Love this place!  Was in phoenix 3 weeks for w...</td>\n",
              "      <td>review</td>\n",
              "      <td>Y2R_tlSk4lTHiLXTDsn1rg</td>\n",
              "      <td>0</td>\n",
              "      <td>1</td>\n",
              "      <td>0</td>\n",
              "      <td>3</td>\n",
              "      <td>Love place! Was phoenix 3 weeks work. Ate 3 ti...</td>\n",
              "    </tr>\n",
              "  </tbody>\n",
              "</table>\n",
              "</div>"
            ],
            "text/plain": [
              "                 business_id  ...                                     text_stopwords\n",
              "6252  QVR7dsvBeg8xFt9B-vd1BA  ...  We got around midnight last Friday... place de...\n",
              "4684  24qSrF_XOrvaHDBy-gLIQg  ...  Brought friend Louisiana here. She says crawfi...\n",
              "1731  j0Uc-GuOe-x9_N_IK1KPpA  ...  Every friday, dad I eat here. We order thing.....\n",
              "4742  RBiiGw8c7j-0a8nk35JO3w  ...  My husband I really, really disappointed exper...\n",
              "4521  U8VA-RW6LYOhxR-Ygi6eDw  ...  Love place! Was phoenix 3 weeks work. Ate 3 ti...\n",
              "\n",
              "[5 rows x 12 columns]"
            ]
          },
          "metadata": {},
          "execution_count": 304
        }
      ]
    },
    {
      "cell_type": "code",
      "metadata": {
        "colab": {
          "base_uri": "https://localhost:8080/"
        },
        "id": "iYHOK-wd8vxS",
        "outputId": "c4baf731-1ae3-4a77-e620-26107f8eed3c"
      },
      "source": [
        "#get info about the dataframe\n",
        "df_shuffled.info()"
      ],
      "execution_count": 305,
      "outputs": [
        {
          "output_type": "stream",
          "name": "stdout",
          "text": [
            "<class 'pandas.core.frame.DataFrame'>\n",
            "Int64Index: 10000 entries, 6252 to 7270\n",
            "Data columns (total 12 columns):\n",
            " #   Column            Non-Null Count  Dtype \n",
            "---  ------            --------------  ----- \n",
            " 0   business_id       10000 non-null  object\n",
            " 1   date              10000 non-null  object\n",
            " 2   review_id         10000 non-null  object\n",
            " 3   stars             10000 non-null  int64 \n",
            " 4   text              10000 non-null  object\n",
            " 5   type              10000 non-null  object\n",
            " 6   user_id           10000 non-null  object\n",
            " 7   cool              10000 non-null  int64 \n",
            " 8   useful            10000 non-null  int64 \n",
            " 9   funny             10000 non-null  int64 \n",
            " 10  stars_aggregated  10000 non-null  int64 \n",
            " 11  text_stopwords    10000 non-null  object\n",
            "dtypes: int64(5), object(7)\n",
            "memory usage: 1.3+ MB\n"
          ]
        }
      ]
    },
    {
      "cell_type": "code",
      "metadata": {
        "colab": {
          "base_uri": "https://localhost:8080/"
        },
        "id": "sk_ei6rX9wMt",
        "outputId": "b6efc992-ef2e-4c2c-b9a8-a0b7430440e9"
      },
      "source": [
        "#Visualize some random examples\n",
        "import random\n",
        "random_index = random.randint(0, len(df_shuffled)-5)\n",
        "for row in df_shuffled[[\"text_stopwords\", \"stars_aggregated\"]][random_index:random_index+5].itertuples():\n",
        "  _, text, stars = row\n",
        "  print(f\"Text: {text}\")\n",
        "  print(f\"Rating: {stars}\\n\")"
      ],
      "execution_count": 306,
      "outputs": [
        {
          "output_type": "stream",
          "name": "stdout",
          "text": [
            "Text: Great food, clean bit old nice\n",
            "Rating: 3\n",
            "\n",
            "Text: The Westin Kierland beautiful resort located PHOENIX, Scottsdale. Some close friends mine Canada stayed PHOENIX resort days, I've hung rooms generally lounged property. The rooms impressive, beautifully decorated, spacious. We especially enjoyed taking kids small fire pits maintained grounds, guests fine city PHOENIX roast marshmallows. The Kierland tough competition, considering city PHOENIX every one famous resorts Valley, Biltmore, Phoenician Royal Palms. It pretty well tough line-up. No offense Scottsdale, also great resorts Four Seasons. It's famous ones PHOENIX. [For information, please visit: http://phoenix.gov/BNDMAPS/index.html]\n",
            "Rating: 3\n",
            "\n",
            "Text: I fan. But I would like fan, I harping two problems I CC. One parking mentioned reviewers bad service food court. I mean samples handed almost every aisle hassle lines stereotypical fat people line like hippos rotten carcass 'just try sample'. I mean little restaurant inside store hippos line drown peptides sugar grease. The food CC outstanding fast food unbelievably good price. The pizza fresh really tasty 9.99 whole pie, soft-serve yogurt huge portion plastic cup 1.49. The hotdogs terrific. Everything else good cheap too. There problems food quality price. It's service. The service indifferent inconsistent. Somedays ok order pizza picked later party, somedays ok workers claim service never been. Liars. Fat liars. I actually typed lairs accident works too. I'm done review due boredom. I can't stand great business carelessly regresses mean. Brave parking neutral service need good hotdog/pizza/frozen yogurt, great spot.\n",
            "Rating: 3\n",
            "\n",
            "Text: \"No.\" If ask eating Papaya Thai, I say. 0 stars single kinda scattered scruffy staffperson. 0 stars cook cannot prepare offering menu menu describes it. In case, I two remaining untried Thai restaurants within quick reach Valley Metro Limo, Tempe. The half Tampa, since care much Thai, I get chance try one. The limo arrived Southern Mill 5:17 PM, connected another limo Broadway. With traffic, getting McClintock took nearly 15 minutes. On exiting limo, 5:50 PM, I walked back half block restaurant. On entering restaurant, I picked menu rang bell somewhat harried staff person came greet me. He asked I wanted sit, table 1 bench looking directly side huge fish tank...or next table, would leave buffer table seated restaurant. There least 120 seats restaurant. Why fiercely contain people first three tables close door? You must get business fits hurries keeping 3 tables active working you? Then again, telling staffperson surprise me. The Help Wanted sign door indication Help NEEDED! When I seated, staffperson offered bring water. The phone rang off, offered another version \"I staffperson here...\" I looked menu made decision. In menu, $2 charge listed sharing. This goes everything Thai I ever known. The traditional Thai meal everyone enjoying dish served. Because proximity fish tank, I quite close personal fish. The water probably filthy, plexiglass tank helping perception. 6 PM, cellphone chime reminds passing hour. I waiting water staffperson take order. 6:01, staffperson comes, bearing pitcher water (My eyes rolling opposite directions I either overworked stoned) smile. He filled glass asked I ready order. I replied I ordered Som Tom, Thai name green papaya salad. Staffperson replied know Thai names menu items. The phone rang again. Staffperson's attention longer me. The phone, Pavlovian stimuli, taken away. I asked heard me. He replied needed go answer phone. He asked I minded waiting, staffperson. I said I would wait. Off went, pursuit electronic interaction. 6:10 PM, staffperson returns, apologizing telephone delay asking order. I ordered papaya salad without green beans steamed rice side. Staffperson took order went kitchen. The phone rang left table, pace quickening approached phone. 6:18 PM, door opens 2 potential patrons enter. The bell rings staffperson rushes waitstand greet 2 new patrons. 6:20 PM, staffperson returns. He brings salad bowl rice. The salad appears traditional salad ingredients along ingredients business salad. Som Tom cucumber, shredded lettuce cilantro. On sending back initial preparation, staffperson returned original preparation, advising chef stated \"This traditional Thai presentation dish\". I sent order back, citing inconsistencies asking new presentation. 6:25 pm. As I empty water glass, salad I received previously returned, minus cucumber. In asking staffperson new presentation attempt correct original, replied know. I stood left. While advertisement window establishment says \"The Best Curry Valley\", get second chance prove me. For phone activity, one came pick carry-out order. Between somewhat glazed staffperson, I wonder place front drug business.\n",
            "Rating: 1\n",
            "\n",
            "Text: We great lunch enjoyed visit tremendously. Of special note though help I got one guys giving directions Florance via \"adventure route\", It nice spend time me. Thanks great service. If vist juisit make sure take time patio enjoy\n",
            "Rating: 3\n",
            "\n"
          ]
        }
      ]
    },
    {
      "cell_type": "markdown",
      "metadata": {
        "id": "Ls2_7khDKD6T"
      },
      "source": [
        "### Split dataset"
      ]
    },
    {
      "cell_type": "code",
      "metadata": {
        "id": "eReMDKL0Wzt0"
      },
      "source": [
        "np.random.seed(42)\n",
        "perm = np.random.permutation(df_shuffled.index)\n",
        "m = len(df_shuffled)\n",
        "train_end = int(0.6 * m)\n",
        "validate_end = int(0.2 * m) + train_end\n",
        "train = df_shuffled.iloc[perm[:train_end]]\n",
        "validate = df_shuffled.iloc[perm[train_end:validate_end]]\n",
        "test = df_shuffled.iloc[perm[validate_end:]]"
      ],
      "execution_count": 307,
      "outputs": []
    },
    {
      "cell_type": "code",
      "metadata": {
        "colab": {
          "base_uri": "https://localhost:8080/"
        },
        "id": "Dsf3Lf09XlfE",
        "outputId": "99ae7381-47f3-4461-ce88-6cc8343fc20d"
      },
      "source": [
        "len(train), len(validate), len(test)"
      ],
      "execution_count": 308,
      "outputs": [
        {
          "output_type": "execute_result",
          "data": {
            "text/plain": [
              "(6000, 2000, 2000)"
            ]
          },
          "metadata": {},
          "execution_count": 308
        }
      ]
    },
    {
      "cell_type": "code",
      "metadata": {
        "colab": {
          "base_uri": "https://localhost:8080/"
        },
        "id": "JZ2X8ATKYHiR",
        "outputId": "3f32594e-b7b4-422d-e91e-dbd2bff78f1a"
      },
      "source": [
        "#Turn dataframes into numpy arrays\n",
        "train_sentences = train[\"text_stopwords\"].to_numpy()\n",
        "train_labels = train[\"stars_aggregated\"].to_numpy()\n",
        "val_sentences = validate[\"text_stopwords\"].to_numpy()\n",
        "val_labels = validate[\"stars_aggregated\"].to_numpy()\n",
        "test_sentences = test[\"text_stopwords\"].to_numpy()\n",
        "test_labels = test[\"stars_aggregated\"].to_numpy()\n",
        "train_sentences.shape, val_sentences.shape, test_sentences.shape"
      ],
      "execution_count": 309,
      "outputs": [
        {
          "output_type": "execute_result",
          "data": {
            "text/plain": [
              "((6000,), (2000,), (2000,))"
            ]
          },
          "metadata": {},
          "execution_count": 309
        }
      ]
    },
    {
      "cell_type": "markdown",
      "metadata": {
        "id": "saoWBlJmKIhu"
      },
      "source": [
        "### One hot encode labels"
      ]
    },
    {
      "cell_type": "code",
      "metadata": {
        "id": "xpjnC86zECmU"
      },
      "source": [
        "#One hot encode labels\n",
        "from sklearn.preprocessing import OneHotEncoder\n",
        "one_hot_encoder = OneHotEncoder(sparse=False)\n",
        "train_labels_one_hot = one_hot_encoder.fit_transform(train_labels.reshape(-1, 1))\n",
        "test_labels_one_hot = one_hot_encoder.fit_transform(test_labels.reshape(-1, 1))\n",
        "val_labels_one_hot = one_hot_encoder.fit_transform(val_labels.reshape(-1, 1))"
      ],
      "execution_count": 310,
      "outputs": []
    },
    {
      "cell_type": "code",
      "metadata": {
        "colab": {
          "base_uri": "https://localhost:8080/"
        },
        "id": "9qo0fyozEW5R",
        "outputId": "ce2d2c7c-6d8f-4b4d-9959-b7b3dc7005f3"
      },
      "source": [
        "train_labels_one_hot"
      ],
      "execution_count": 311,
      "outputs": [
        {
          "output_type": "execute_result",
          "data": {
            "text/plain": [
              "array([[0., 0., 1.],\n",
              "       [0., 0., 1.],\n",
              "       [0., 0., 1.],\n",
              "       ...,\n",
              "       [0., 0., 1.],\n",
              "       [0., 0., 1.],\n",
              "       [0., 0., 1.]])"
            ]
          },
          "metadata": {},
          "execution_count": 311
        }
      ]
    },
    {
      "cell_type": "code",
      "metadata": {
        "colab": {
          "base_uri": "https://localhost:8080/"
        },
        "id": "pKEwUQOsndu5",
        "outputId": "393f8929-3da3-4deb-abad-eae070c00e9d"
      },
      "source": [
        "z = random.randint(0, 6000)\n",
        "print(train_labels_one_hot[z])\n",
        "print(train_labels[z])"
      ],
      "execution_count": 312,
      "outputs": [
        {
          "output_type": "stream",
          "name": "stdout",
          "text": [
            "[0. 0. 1.]\n",
            "3\n"
          ]
        }
      ]
    },
    {
      "cell_type": "code",
      "metadata": {
        "colab": {
          "base_uri": "https://localhost:8080/"
        },
        "id": "c_pJPvgV8k8j",
        "outputId": "4c7752a6-828a-439c-d69a-0e0eb16210a7"
      },
      "source": [
        "train_sentences[:5], test_sentences[:5], val_sentences[:5]"
      ],
      "execution_count": 313,
      "outputs": [
        {
          "output_type": "execute_result",
          "data": {
            "text/plain": [
              "(array([\"Was Zinc last night say place keeps getting better still. Started crepes again, perfect again. Then shared scallops lamb shank dinner. I'm usually huge fan lamb OR scallops recommended I feeling adventurous. The lamb - AMAZING. Melt mouth wonderful. More like stew anything classic fall bone tender meat creamy cheesy polenta. Their bread perfect French bread too. This time year (winter) festive, buzzy energy good crowd TOO long wait. Make reservations though sure. Oh, Bobby's across way Kierland nice spot pre-dinner drink (400s Hollywood glamour meets The Jetsons cool live jazz parents grandparents would enjoyed back day).\",\n",
              "        'Am ashamed say I filled punch card, twice. Usually get Hook Ladder. But main reason I keep going back...the magical Coke machine Awesomeness.',\n",
              "        'Jesse I lovely evening out- great dishes owner server well. He belts lovely Italian birthday song playing guitar. Very nice',\n",
              "        'Hit miss. Pretty much perfect definition \"HoHo\". My friend I like come shows happy hour (super cheap draft beers wells), well drinks usually little weak cheap I can\\'t blame them. Tuesday\\'s taco day pretty decent deals. Each day week \"special\" far food goes, average average bar food. There games shuffleboard mentioned previous reviews. TVs scattered along sitting area sizeable patio smokers. The bartenders real hit miss part experience. I\\'ve great service, I\\'ve returned sub-par service (it busy). All all, looking place grab cheap beers (we\\'re talking domestics tap) heading The Clubhouse heading somewhere else spend night, stop check least once.',\n",
              "        'I happy service department. Service writer poor attitude towards helping me. Repair work done well budget sad greeter sour whole place.'],\n",
              "       dtype=object),\n",
              " array(['TJ water heater broke started flooding garage. He walked fixing phone able send help house. Very grateful, I continue referring!',\n",
              "        'Cork enigma. What makes enigmatic damn good is... Too good Chandler maybe good valley. The portions right, anybody tells otherwise fat ass glutton (I\\'m 6\\'3, 200lbs. I satisfied). If want large portions though, go lunch/brunches. I\\'ve twice The Lamb Chop, amazing levels, I\\'ve serious lamb rural Bosnia, labeled best country... sure enough cork\\'s stood blow blow. The entrée I experienced buttermilk fried chicken. I amazed lamb first time, I try something \"simple\" order qualify food regards regular places. Let\\'s say chicken regular, outstanding. The appetizers crazy good... anyone say king crab legs? The wine selection top notch. booze selection killin, even make amazing Italian lemon stuff that\\'s like 90% alcohol. make sure designated driver, place inspire winos boozers indulge fullest. Go Cork, damn good!',\n",
              "        'This favorite place go Greek food. The owners Greece frequently several family members present. The food delicious, large portions, friendly service. I wish located Surprise, worth drive.',\n",
              "        'I least 10 times never complaint. The staff friendly, food great, atmosphere lovely. My favorites - LB lavosh spicy cottage cheese. I continue come back Local Breeze again!',\n",
              "        'Best prices huge selection. I love single bottles beer isle mix match 6-pack beer. Some favorite beers I find here.'],\n",
              "       dtype=object),\n",
              " array(['O.K. , I actually like theatre, ? well usually never crowded. Things little old outdated, I hate waiting line, works well .',\n",
              "        'I Soppressata Aged Provolone & Roasted Peppers. It solid sandwich overall. The quality ingredients pretty good, part gets price. $8 + tax? Wow \"supply demand\" stuff I learned Econ class joke. Worth trying once, I think place I\\'ll grabbing lunch regular basis.',\n",
              "        \"I going give Aunty Chiladas 3 stars I gone since I like 10. This place staple valley 51 went etc etc. It definitely looks like needs good asthetic cleaning. Our table chairs sticky pretty dirty outside patio. There chairs miscellaneous items outside restaurant needs TLC. Chips (flour) good salsa black olives (yuk, personal preference) hot stuff tasted like vinegar it. It great patio daytime drinking. Overall food average. I ordered fish tacos good. My accomplice ordered combo typical rice, beans, enchilada, taco etc. The food hot good. It wow factor price good worth money. Holy smokes.......The service awful. I going mention names slow terms business even slower terms service. I hope correlate usually do. C'mon Aunty better this!!!!!! If live neighborhood worth going here. I probably make drive again. Good luck Aunt Chiladas.\",\n",
              "        'Fresh delicious.',\n",
              "        'Delicious, clean, great service! 3 hours later still talking delightful place was. We pulled pork chicken sandwich - moist fresh. Dinner 2 20.00!'],\n",
              "       dtype=object))"
            ]
          },
          "metadata": {},
          "execution_count": 313
        }
      ]
    },
    {
      "cell_type": "code",
      "metadata": {
        "colab": {
          "base_uri": "https://localhost:8080/"
        },
        "id": "DgvhY2Ww8nd7",
        "outputId": "0265a2ff-0d3e-476c-cf03-f4d6ffcc4212"
      },
      "source": [
        "train_labels[:5], test_labels[:5], val_labels[:5]"
      ],
      "execution_count": 314,
      "outputs": [
        {
          "output_type": "execute_result",
          "data": {
            "text/plain": [
              "(array([3, 3, 3, 2, 1]), array([3, 3, 3, 3, 3]), array([3, 2, 2, 3, 3]))"
            ]
          },
          "metadata": {},
          "execution_count": 314
        }
      ]
    },
    {
      "cell_type": "code",
      "metadata": {
        "id": "3vWQ13dxIVuf"
      },
      "source": [
        "#Turn data into TensorFlwo Datasets\n",
        "train_dataset = tf.data.Dataset.from_tensor_slices((train_sentences, train_labels_one_hot))\n",
        "val_dataset = tf.data.Dataset.from_tensor_slices((val_sentences, val_labels_one_hot))\n",
        "test_dataset = tf.data.Dataset.from_tensor_slices((test_sentences, test_labels_one_hot))"
      ],
      "execution_count": 315,
      "outputs": []
    },
    {
      "cell_type": "code",
      "metadata": {
        "id": "_9HYSA9TJpeL"
      },
      "source": [
        "#Prefetch dataset \n",
        "train_dataset = train_dataset.batch(32).prefetch(tf.data.AUTOTUNE)\n",
        "val_dataset = val_dataset.batch(32).prefetch(tf.data.AUTOTUNE)\n",
        "test_dataset = test_dataset.batch(32).prefetch(tf.data.AUTOTUNE)"
      ],
      "execution_count": 316,
      "outputs": []
    },
    {
      "cell_type": "code",
      "metadata": {
        "id": "hwc0u6jQrMih",
        "outputId": "9f7aac6b-f933-4f36-d89b-a87b78dad3df",
        "colab": {
          "base_uri": "https://localhost:8080/"
        }
      },
      "source": [
        "train_dataset"
      ],
      "execution_count": 317,
      "outputs": [
        {
          "output_type": "execute_result",
          "data": {
            "text/plain": [
              "<PrefetchDataset shapes: ((None,), (None, 3)), types: (tf.string, tf.float64)>"
            ]
          },
          "metadata": {},
          "execution_count": 317
        }
      ]
    },
    {
      "cell_type": "code",
      "metadata": {
        "id": "C7jkw0WdiQlw",
        "outputId": "38b4a8d9-456e-4e87-ebfc-acf9b4ee39e4",
        "colab": {
          "base_uri": "https://localhost:8080/"
        }
      },
      "source": [
        "len(train_dataset)"
      ],
      "execution_count": 318,
      "outputs": [
        {
          "output_type": "execute_result",
          "data": {
            "text/plain": [
              "188"
            ]
          },
          "metadata": {},
          "execution_count": 318
        }
      ]
    },
    {
      "cell_type": "markdown",
      "metadata": {
        "id": "pW-VS-Er_ek7"
      },
      "source": [
        "## Create Text Vectorization layer"
      ]
    },
    {
      "cell_type": "code",
      "metadata": {
        "colab": {
          "base_uri": "https://localhost:8080/"
        },
        "id": "64KRq7vTDfCV",
        "outputId": "bc4e306e-9648-41e9-f167-e89de7c19403"
      },
      "source": [
        "#find average number of words in training sentences\n",
        "sent_lens = [len(sentence.split()) for sentence in train_sentences]\n",
        "avg_sent_len = np.mean(sent_lens)\n",
        "avg_sent_len"
      ],
      "execution_count": 319,
      "outputs": [
        {
          "output_type": "execute_result",
          "data": {
            "text/plain": [
              "77.25416666666666"
            ]
          },
          "metadata": {},
          "execution_count": 319
        }
      ]
    },
    {
      "cell_type": "code",
      "metadata": {
        "colab": {
          "base_uri": "https://localhost:8080/",
          "height": 316
        },
        "id": "w7salbAiFVfG",
        "outputId": "e004a075-480a-4412-eaa8-6751db5d762c"
      },
      "source": [
        "import matplotlib.pyplot as plt\n",
        "plt.hist(sent_lens, bins=7)"
      ],
      "execution_count": 320,
      "outputs": [
        {
          "output_type": "execute_result",
          "data": {
            "text/plain": [
              "(array([3931., 1515.,  402.,   97.,   35.,   16.,    4.]),\n",
              " array([  1.,  83., 165., 247., 329., 411., 493., 575.]),\n",
              " <a list of 7 Patch objects>)"
            ]
          },
          "metadata": {},
          "execution_count": 320
        },
        {
          "output_type": "display_data",
          "data": {
            "image/png": "[encoded data removed]",
            "text/plain": [
              "<Figure size 432x288 with 1 Axes>"
            ]
          },
          "metadata": {
            "needs_background": "light"
          }
        }
      ]
    },
    {
      "cell_type": "code",
      "metadata": {
        "colab": {
          "base_uri": "https://localhost:8080/"
        },
        "id": "wzFedExsFqEl",
        "outputId": "3655e3b8-1ff6-4c0c-c66c-d09d24743af3"
      },
      "source": [
        "# How long of a sentence covers 95% of the lengths?\n",
        "output_seq_len = int(np.percentile(sent_lens, 95))\n",
        "output_seq_len"
      ],
      "execution_count": 321,
      "outputs": [
        {
          "output_type": "execute_result",
          "data": {
            "text/plain": [
              "203"
            ]
          },
          "metadata": {},
          "execution_count": 321
        }
      ]
    },
    {
      "cell_type": "code",
      "metadata": {
        "id": "Cn9NQ1wZDzFY"
      },
      "source": [
        "import tensorflow as tf\n",
        "from tensorflow.keras.layers.experimental.preprocessing import TextVectorization\n",
        "\n",
        "max_vocab_length = 10000\n",
        "max_length = output_seq_len\n",
        "\n",
        "#Use default variables\n",
        "text_vectorizer = TextVectorization(max_tokens=max_vocab_length,\n",
        "                                    output_mode=\"int\",\n",
        "                                    output_sequence_length=max_length)"
      ],
      "execution_count": 322,
      "outputs": []
    },
    {
      "cell_type": "code",
      "metadata": {
        "id": "Fk1kfiXh88DH"
      },
      "source": [
        "#Fit vectorizer to train sentences\n",
        "text_vectorizer.adapt(train_sentences)"
      ],
      "execution_count": 323,
      "outputs": []
    },
    {
      "cell_type": "code",
      "metadata": {
        "colab": {
          "base_uri": "https://localhost:8080/"
        },
        "id": "FQxfZRgM9ELH",
        "outputId": "08d6e6dc-78a1-48a7-a4cd-22d9366670e8"
      },
      "source": [
        "#Test vectorizer on random samples\n",
        "random_sentence = random.choice(train_sentences)\n",
        "print(f\"Original text: \\n{random_sentence}\\\n",
        "\\n\\nVectorized version:\")\n",
        "text_vectorizer([random_sentence])"
      ],
      "execution_count": 324,
      "outputs": [
        {
          "output_type": "stream",
          "name": "stdout",
          "text": [
            "Original text: \n",
            "i'd rather go amado's! thing that's good bean dip, i'm saying something nice say.\n",
            "\n",
            "Vectorized version:\n"
          ]
        },
        {
          "output_type": "execute_result",
          "data": {
            "text/plain": [
              "<tf.Tensor: shape=(1, 203), dtype=int64, numpy=\n",
              "array([[196, 514,  12,   1, 123, 158,   4, 965, 842,  22, 753,  92,  24,\n",
              "         69,   0,   0,   0,   0,   0,   0,   0,   0,   0,   0,   0,   0,\n",
              "          0,   0,   0,   0,   0,   0,   0,   0,   0,   0,   0,   0,   0,\n",
              "          0,   0,   0,   0,   0,   0,   0,   0,   0,   0,   0,   0,   0,\n",
              "          0,   0,   0,   0,   0,   0,   0,   0,   0,   0,   0,   0,   0,\n",
              "          0,   0,   0,   0,   0,   0,   0,   0,   0,   0,   0,   0,   0,\n",
              "          0,   0,   0,   0,   0,   0,   0,   0,   0,   0,   0,   0,   0,\n",
              "          0,   0,   0,   0,   0,   0,   0,   0,   0,   0,   0,   0,   0,\n",
              "          0,   0,   0,   0,   0,   0,   0,   0,   0,   0,   0,   0,   0,\n",
              "          0,   0,   0,   0,   0,   0,   0,   0,   0,   0,   0,   0,   0,\n",
              "          0,   0,   0,   0,   0,   0,   0,   0,   0,   0,   0,   0,   0,\n",
              "          0,   0,   0,   0,   0,   0,   0,   0,   0,   0,   0,   0,   0,\n",
              "          0,   0,   0,   0,   0,   0,   0,   0,   0,   0,   0,   0,   0,\n",
              "          0,   0,   0,   0,   0,   0,   0,   0,   0,   0,   0,   0,   0,\n",
              "          0,   0,   0,   0,   0,   0,   0,   0,   0,   0,   0,   0,   0,\n",
              "          0,   0,   0,   0,   0,   0,   0,   0]])>"
            ]
          },
          "metadata": {},
          "execution_count": 324
        }
      ]
    },
    {
      "cell_type": "code",
      "metadata": {
        "colab": {
          "base_uri": "https://localhost:8080/"
        },
        "id": "Zmy26HEy9PaY",
        "outputId": "51ea4814-7256-4219-e38a-5c5e15687bb7"
      },
      "source": [
        "#Check unique tokens in vocabulary\n",
        "words_in_vocab = text_vectorizer.get_vocabulary()\n",
        "print(f\"Number of words in vocab: {len(words_in_vocab)}\")"
      ],
      "execution_count": 325,
      "outputs": [
        {
          "output_type": "stream",
          "name": "stdout",
          "text": [
            "Number of words in vocab: 10000\n"
          ]
        }
      ]
    },
    {
      "cell_type": "markdown",
      "metadata": {
        "id": "dn9pjA1Y9_EU"
      },
      "source": [
        "## Create Embedding layer"
      ]
    },
    {
      "cell_type": "code",
      "metadata": {
        "id": "RY-9Ssd5-KQQ"
      },
      "source": [
        "from tensorflow.keras import layers\n",
        "\n",
        "embedding = layers.Embedding(input_dim=max_vocab_length,\n",
        "                             output_dim=128,\n",
        "                             embeddings_initializer=\"uniform\",\n",
        "                             input_length=max_length)"
      ],
      "execution_count": 326,
      "outputs": []
    },
    {
      "cell_type": "code",
      "metadata": {
        "colab": {
          "base_uri": "https://localhost:8080/"
        },
        "id": "pBNV0eu_-ZmV",
        "outputId": "6a5be174-041b-4f15-c151-dbee0655d898"
      },
      "source": [
        "# Test Embedding layer on random samples\n",
        "random_sentence = random.choice(train_sentences)\n",
        "print(f\"Original text: \\n{random_sentence}\\\n",
        "\\n\\nEmbedded version:\")\n",
        "embedding(text_vectorizer([random_sentence]))"
      ],
      "execution_count": 327,
      "outputs": [
        {
          "output_type": "stream",
          "name": "stdout",
          "text": [
            "Original text: \n",
            "3 friends I went restaurant week. Iruna great ambiance charm. The service top-notch, server made excellent wine recommendations. The desserts amazing. The food ok. Here's had: tapas - tortilla espanola (which complimentary) delicious; chistorra (chorizo cider w/ baby artichokes) also good; pan con tomate surprising seem tapas. rather huge chunks grilled bread work well distribute flavors oily. entrees - trout salsa navarra, eggplant, roasted peppers, onion tomato nicely cooked nice balance flavors. filet mignon tomatoes salbitxada order medium rare delivered well done over-salted. It refired, v2 right temperature still over-salted. glanced patio way looks fantastic. We return try tapas sangria outdoor couches.\n",
            "\n",
            "Embedded version:\n"
          ]
        },
        {
          "output_type": "execute_result",
          "data": {
            "text/plain": [
              "<tf.Tensor: shape=(1, 203, 128), dtype=float32, numpy=\n",
              "array([[[-4.0549733e-02,  7.9969987e-03, -4.5296133e-02, ...,\n",
              "         -3.0604005e-03, -8.1658363e-05,  2.5796000e-02],\n",
              "        [ 3.0817930e-02, -1.2068499e-02, -1.2853753e-02, ...,\n",
              "          5.2326694e-03, -3.8556494e-02,  4.9526915e-03],\n",
              "        [-2.3679292e-02, -3.4403242e-02,  1.5710678e-02, ...,\n",
              "         -4.9291637e-02,  4.1153517e-02, -4.2632427e-02],\n",
              "        ...,\n",
              "        [ 2.7203951e-02,  3.1140652e-02, -2.9220974e-02, ...,\n",
              "         -3.2705702e-02,  2.0541038e-02,  2.0514857e-02],\n",
              "        [ 2.7203951e-02,  3.1140652e-02, -2.9220974e-02, ...,\n",
              "         -3.2705702e-02,  2.0541038e-02,  2.0514857e-02],\n",
              "        [ 2.7203951e-02,  3.1140652e-02, -2.9220974e-02, ...,\n",
              "         -3.2705702e-02,  2.0541038e-02,  2.0514857e-02]]], dtype=float32)>"
            ]
          },
          "metadata": {},
          "execution_count": 327
        }
      ]
    },
    {
      "cell_type": "markdown",
      "metadata": {
        "id": "1psUigwmJp2L"
      },
      "source": [
        "## Create Character level tokenizer"
      ]
    },
    {
      "cell_type": "code",
      "metadata": {
        "id": "mIWScgwJKEWT"
      },
      "source": [
        "#Function for splitting sentences into characters\n",
        "def split_chars(text):\n",
        "  return \" \".join(list(text))"
      ],
      "execution_count": 328,
      "outputs": []
    },
    {
      "cell_type": "code",
      "metadata": {
        "id": "XHGal1v6JyX3",
        "outputId": "60e0b159-c6ed-4e5a-c0b0-27b608e91c0e",
        "colab": {
          "base_uri": "https://localhost:8080/"
        }
      },
      "source": [
        "#Split sequence-level data into character-level data splits\n",
        "train_chars = [split_chars(sentence) for sentence in train_sentences]\n",
        "val_chars = [split_chars(sentence) for sentence in val_sentences]\n",
        "test_chars = [split_chars(sentence) for sentence in test_sentences]\n",
        "print(train_chars[0])"
      ],
      "execution_count": 329,
      "outputs": [
        {
          "output_type": "stream",
          "name": "stdout",
          "text": [
            "W a s   Z i n c   l a s t   n i g h t   s a y   p l a c e   k e e p s   g e t t i n g   b e t t e r   s t i l l .   S t a r t e d   c r e p e s   a g a i n ,   p e r f e c t   a g a i n .   T h e n   s h a r e d   s c a l l o p s   l a m b   s h a n k   d i n n e r .   I ' m   u s u a l l y   h u g e   f a n   l a m b   O R   s c a l l o p s   r e c o m m e n d e d   I   f e e l i n g   a d v e n t u r o u s .   T h e   l a m b   -   A M A Z I N G .   M e l t   m o u t h   w o n d e r f u l .   M o r e   l i k e   s t e w   a n y t h i n g   c l a s s i c   f a l l   b o n e   t e n d e r   m e a t   c r e a m y   c h e e s y   p o l e n t a .   T h e i r   b r e a d   p e r f e c t   F r e n c h   b r e a d   t o o .   T h i s   t i m e   y e a r   ( w i n t e r )   f e s t i v e ,   b u z z y   e n e r g y   g o o d   c r o w d   T O O   l o n g   w a i t .   M a k e   r e s e r v a t i o n s   t h o u g h   s u r e .   O h ,   B o b b y ' s   a c r o s s   w a y   K i e r l a n d   n i c e   s p o t   p r e - d i n n e r   d r i n k   ( 4 0 0 s   H o l l y w o o d   g l a m o u r   m e e t s   T h e   J e t s o n s   c o o l   l i v e   j a z z   p a r e n t s   g r a n d p a r e n t s   w o u l d   e n j o y e d   b a c k   d a y ) .\n"
          ]
        }
      ]
    },
    {
      "cell_type": "code",
      "metadata": {
        "id": "mMNiLDEnKhkh",
        "outputId": "c5e4ca92-a6a0-4334-a7ac-acfe269737fc",
        "colab": {
          "base_uri": "https://localhost:8080/"
        }
      },
      "source": [
        "#What´s the average character length?\n",
        "char_lens = [len(sentence) for sentence in train_sentences]\n",
        "mean_char_len = np.mean(char_lens)\n",
        "mean_char_len"
      ],
      "execution_count": 330,
      "outputs": [
        {
          "output_type": "execute_result",
          "data": {
            "text/plain": [
              "493.47066666666666"
            ]
          },
          "metadata": {},
          "execution_count": 330
        }
      ]
    },
    {
      "cell_type": "code",
      "metadata": {
        "id": "4adl-qwmKv7-",
        "outputId": "0429ab9d-7618-4506-bd80-ceb717d44e44",
        "colab": {
          "base_uri": "https://localhost:8080/",
          "height": 265
        }
      },
      "source": [
        "# Check distribution\n",
        "import matplotlib.pyplot as plt\n",
        "plt.hist(char_lens, bins=7);"
      ],
      "execution_count": 331,
      "outputs": [
        {
          "output_type": "display_data",
          "data": {
            "image/png": "[encoded data removed]",
            "text/plain": [
              "<Figure size 432x288 with 1 Axes>"
            ]
          },
          "metadata": {
            "needs_background": "light"
          }
        }
      ]
    },
    {
      "cell_type": "code",
      "metadata": {
        "id": "I7iruEb2K2Jv",
        "outputId": "0734411d-9f06-4bd8-9d9e-eed111fd9133",
        "colab": {
          "base_uri": "https://localhost:8080/"
        }
      },
      "source": [
        "#What character length covers 95% of sequences\n",
        "output_seq_char_len = int(np.percentile(char_lens, 95))\n",
        "output_seq_char_len"
      ],
      "execution_count": 332,
      "outputs": [
        {
          "output_type": "execute_result",
          "data": {
            "text/plain": [
              "1304"
            ]
          },
          "metadata": {},
          "execution_count": 332
        }
      ]
    },
    {
      "cell_type": "code",
      "metadata": {
        "id": "YYpNPEnLLLV_",
        "outputId": "a653a6e0-b2d6-47ee-f3ba-d0c62a4fd9ac",
        "colab": {
          "base_uri": "https://localhost:8080/",
          "height": 35
        }
      },
      "source": [
        "# Get all keyboard characters for char-level embedding\n",
        "import string\n",
        "alphabet = string.ascii_lowercase + string.digits + string.punctuation\n",
        "alphabet"
      ],
      "execution_count": 333,
      "outputs": [
        {
          "output_type": "execute_result",
          "data": {
            "application/vnd.google.colaboratory.intrinsic+json": {
              "type": "string"
            },
            "text/plain": [
              "'abcdefghijklmnopqrstuvwxyz0123456789!\"#$%&\\'()*+,-./:;<=>?@[\\\\]^_`{|}~'"
            ]
          },
          "metadata": {},
          "execution_count": 333
        }
      ]
    },
    {
      "cell_type": "code",
      "metadata": {
        "id": "wSe9msm4LMj9"
      },
      "source": [
        "#Create char level vectorizer\n",
        "NUM_CHAR_TOKENS = len(alphabet) + 2\n",
        "char_vectorizer = TextVectorization(max_tokens = NUM_CHAR_TOKENS,\n",
        "                                    output_sequence_length=output_seq_char_len,\n",
        "                                    standardize=\"lower_and_strip_punctuation\")"
      ],
      "execution_count": 334,
      "outputs": []
    },
    {
      "cell_type": "markdown",
      "metadata": {
        "id": "CpB9WKB0LpG3"
      },
      "source": [
        "## Create Character level embedding"
      ]
    },
    {
      "cell_type": "code",
      "metadata": {
        "id": "MpBPJDqPLts1"
      },
      "source": [
        "char_embed = layers.Embedding(input_dim=NUM_CHAR_TOKENS,\n",
        "                              output_dim=25, \n",
        "                              mask_zero=False)"
      ],
      "execution_count": 335,
      "outputs": []
    },
    {
      "cell_type": "markdown",
      "metadata": {
        "id": "xM_WEOAi-0R0"
      },
      "source": [
        "## Modelling experiments"
      ]
    },
    {
      "cell_type": "markdown",
      "metadata": {
        "id": "SbBKYPhp_cv8"
      },
      "source": [
        "### Model 1: Dense"
      ]
    },
    {
      "cell_type": "code",
      "metadata": {
        "id": "YozW-6XABj5H"
      },
      "source": [
        "inputs = layers.Input(shape=(1,), dtype=\"string\")\n",
        "x = text_vectorizer(inputs)\n",
        "x = embedding(x)\n",
        "x = layers.GlobalAveragePooling1D()(x)\n",
        "outputs = layers.Dense(3, activation=\"softmax\")(x)\n",
        "model_1 = tf.keras.Model(inputs, outputs)"
      ],
      "execution_count": 336,
      "outputs": []
    },
    {
      "cell_type": "code",
      "metadata": {
        "id": "O0XmZArkB9Dm"
      },
      "source": [
        "model_1.compile(loss=\"categorical_crossentropy\", optimizer=\"Adam\", metrics=[\"accuracy\"])"
      ],
      "execution_count": 337,
      "outputs": []
    },
    {
      "cell_type": "code",
      "metadata": {
        "id": "Uv3daW0rDAag",
        "outputId": "24d11442-85c2-430d-8ca1-a959f630ad7b",
        "colab": {
          "base_uri": "https://localhost:8080/"
        }
      },
      "source": [
        "%%time\n",
        "history_model_1 = model_1.fit(train_dataset,\n",
        "                              epochs=500,\n",
        "                              verbose=0,\n",
        "                              validation_data=val_dataset,\n",
        "                              callbacks=[tf.keras.callbacks.ReduceLROnPlateau(monitor=\"val_loss\", patience=5, verbose=1),\n",
        "                                         tf.keras.callbacks.EarlyStopping(monitor=\"val_loss\", patience=10, restore_best_weights=True, verbose=1)])"
      ],
      "execution_count": 338,
      "outputs": [
        {
          "output_type": "stream",
          "name": "stdout",
          "text": [
            "WARNING:tensorflow:Your input ran out of data; interrupting training. Make sure that your dataset or generator can generate at least `steps_per_epoch * epochs` batches (in this case, 9000 batches). You may need to use the repeat() function when building your dataset.\n"
          ]
        },
        {
          "output_type": "stream",
          "name": "stderr",
          "text": [
            "WARNING:tensorflow:Your input ran out of data; interrupting training. Make sure that your dataset or generator can generate at least `steps_per_epoch * epochs` batches (in this case, 9000 batches). You may need to use the repeat() function when building your dataset.\n"
          ]
        },
        {
          "output_type": "stream",
          "name": "stdout",
          "text": [
            "CPU times: user 2.76 s, sys: 308 ms, total: 3.06 s\n",
            "Wall time: 2.56 s\n"
          ]
        }
      ]
    },
    {
      "cell_type": "code",
      "metadata": {
        "id": "6fAV002aDMDW"
      },
      "source": [
        "def plot_training_curve(history):\n",
        "  plt.figure(figsize=(10,7))\n",
        "  loss = history.history[\"loss\"]\n",
        "  val_loss = history.history[\"val_loss\"]\n",
        "  accuracy = history.history[\"accuracy\"]\n",
        "  val_accuracy = history.history[\"val_accuracy\"]\n",
        "  plt.plot(loss, label=\"loss\")\n",
        "  plt.plot(val_loss, label=\"val_loss\")\n",
        "  plt.legend()\n",
        "  plt.title(\"Training curve\")\n",
        "  plt.figure(figsize=(10,7))\n",
        "  plt.plot(accuracy, label=\"accuracy\")\n",
        "  plt.plot(val_accuracy, label=\"val_accuracy\")\n",
        "  plt.legend()\n",
        "  plt.title(\"Training curve\")"
      ],
      "execution_count": 339,
      "outputs": []
    },
    {
      "cell_type": "code",
      "metadata": {
        "colab": {
          "base_uri": "https://localhost:8080/",
          "height": 871
        },
        "id": "aTUA10Alm5lm",
        "outputId": "3bc8e203-f746-485e-d94c-c4da4975fd32"
      },
      "source": [
        "plot_training_curve(history_model_1)"
      ],
      "execution_count": 340,
      "outputs": [
        {
          "output_type": "display_data",
          "data": {
            "image/png": "[encoded data removed]",
            "text/plain": [
              "<Figure size 720x504 with 1 Axes>"
            ]
          },
          "metadata": {
            "needs_background": "light"
          }
        },
        {
          "output_type": "display_data",
          "data": {
            "image/png": "[encoded data removed]",
            "text/plain": [
              "<Figure size 720x504 with 1 Axes>"
            ]
          },
          "metadata": {
            "needs_background": "light"
          }
        }
      ]
    },
    {
      "cell_type": "code",
      "metadata": {
        "colab": {
          "base_uri": "https://localhost:8080/"
        },
        "id": "LpyUs5JBIG3T",
        "outputId": "fa216d65-fc7f-4106-ab49-e2be2e4be6c5"
      },
      "source": [
        "#Evaluate\n",
        "model_1.evaluate(test_dataset)"
      ],
      "execution_count": 341,
      "outputs": [
        {
          "output_type": "stream",
          "name": "stdout",
          "text": [
            "63/63 [==============================] - 0s 5ms/step - loss: 0.8255 - accuracy: 0.6770\n"
          ]
        },
        {
          "output_type": "execute_result",
          "data": {
            "text/plain": [
              "[0.825497567653656, 0.6769999861717224]"
            ]
          },
          "metadata": {},
          "execution_count": 341
        }
      ]
    },
    {
      "cell_type": "markdown",
      "metadata": {
        "id": "TlE0jbUWMnwZ"
      },
      "source": [
        "### Model 2: Conv1D"
      ]
    },
    {
      "cell_type": "code",
      "metadata": {
        "id": "xn-wO9VONj0k"
      },
      "source": [
        "#Built the model\n",
        "inputs = layers.Input(shape=(1,), dtype=tf.string)\n",
        "text_vectors = text_vectorizer(inputs)\n",
        "embeddings = embedding(text_vectors)\n",
        "x = layers.Conv1D(64, kernel_size=5, padding=\"same\", activation=\"relu\")(embeddings)\n",
        "x = layers.Conv1D(64, kernel_size=5, padding=\"same\", activation=\"relu\")(embeddings)\n",
        "x = layers.GlobalAveragePooling1D()(x)\n",
        "outputs = layers.Dense(3, activation=\"softmax\")(x)\n",
        "model_2 = tf.keras.Model(inputs, outputs)"
      ],
      "execution_count": 342,
      "outputs": []
    },
    {
      "cell_type": "code",
      "metadata": {
        "id": "8lKwqGMXOrLO"
      },
      "source": [
        "#Compile the model \n",
        "model_2.compile(loss=\"categorical_crossentropy\", optimizer=\"Adam\", metrics=[\"accuracy\"])"
      ],
      "execution_count": 343,
      "outputs": []
    },
    {
      "cell_type": "code",
      "metadata": {
        "colab": {
          "base_uri": "https://localhost:8080/"
        },
        "id": "jSE069K7PB9y",
        "outputId": "1c2559a5-8ade-4914-adf0-ac9f7c4a7ea2"
      },
      "source": [
        "#Fit the model \n",
        "%%time\n",
        "history_model_2 = model_2.fit(train_dataset,\n",
        "                              epochs=500,\n",
        "                              verbose=0,\n",
        "                              validation_data=val_dataset,\n",
        "                              callbacks=[tf.keras.callbacks.ReduceLROnPlateau(monitor=\"val_loss\", patience=5, verbose=0),\n",
        "                                         tf.keras.callbacks.EarlyStopping(monitor=\"val_loss\", patience=10, restore_best_weights=True)])"
      ],
      "execution_count": 344,
      "outputs": [
        {
          "output_type": "stream",
          "name": "stdout",
          "text": [
            "WARNING:tensorflow:Your input ran out of data; interrupting training. Make sure that your dataset or generator can generate at least `steps_per_epoch * epochs` batches (in this case, 9000 batches). You may need to use the repeat() function when building your dataset.\n"
          ]
        },
        {
          "output_type": "stream",
          "name": "stderr",
          "text": [
            "WARNING:tensorflow:Your input ran out of data; interrupting training. Make sure that your dataset or generator can generate at least `steps_per_epoch * epochs` batches (in this case, 9000 batches). You may need to use the repeat() function when building your dataset.\n"
          ]
        },
        {
          "output_type": "stream",
          "name": "stdout",
          "text": [
            "CPU times: user 3.16 s, sys: 294 ms, total: 3.46 s\n",
            "Wall time: 3.19 s\n"
          ]
        }
      ]
    },
    {
      "cell_type": "code",
      "metadata": {
        "colab": {
          "base_uri": "https://localhost:8080/",
          "height": 871
        },
        "id": "jfX-Jyv0POam",
        "outputId": "708ee1ce-04ca-49bc-a5f2-16e43bc5b79c"
      },
      "source": [
        "plot_training_curve(history_model_2)"
      ],
      "execution_count": 345,
      "outputs": [
        {
          "output_type": "display_data",
          "data": {
            "image/png": "[encoded data removed]",
            "text/plain": [
              "<Figure size 720x504 with 1 Axes>"
            ]
          },
          "metadata": {
            "needs_background": "light"
          }
        },
        {
          "output_type": "display_data",
          "data": {
            "image/png": "[encoded data removed]",
            "text/plain": [
              "<Figure size 720x504 with 1 Axes>"
            ]
          },
          "metadata": {
            "needs_background": "light"
          }
        }
      ]
    },
    {
      "cell_type": "code",
      "metadata": {
        "colab": {
          "base_uri": "https://localhost:8080/"
        },
        "id": "UVHB1UmNPSS9",
        "outputId": "e375c150-6d43-4f65-d9c7-0613397472bf"
      },
      "source": [
        "#Evaluate\n",
        "model_2.evaluate(test_dataset)"
      ],
      "execution_count": 346,
      "outputs": [
        {
          "output_type": "stream",
          "name": "stdout",
          "text": [
            "63/63 [==============================] - 0s 5ms/step - loss: 0.6268 - accuracy: 0.7420\n"
          ]
        },
        {
          "output_type": "execute_result",
          "data": {
            "text/plain": [
              "[0.626798152923584, 0.7419999837875366]"
            ]
          },
          "metadata": {},
          "execution_count": 346
        }
      ]
    },
    {
      "cell_type": "markdown",
      "metadata": {
        "id": "uJgOXyyxS2rF"
      },
      "source": [
        "### Model 3: Feature extraction GRU"
      ]
    },
    {
      "cell_type": "code",
      "metadata": {
        "id": "e9USR2sETJAB"
      },
      "source": [
        "import tensorflow_hub as hub\n",
        "tf_hub_embedding_layer = hub.KerasLayer(\"https://tfhub.dev/google/universal-sentence-encoder/4\",\n",
        "                                        trainable=False,\n",
        "                                        name=\"universal_sentence_encoder\")"
      ],
      "execution_count": 347,
      "outputs": []
    },
    {
      "cell_type": "code",
      "metadata": {
        "id": "tOjEuuAgTVHM"
      },
      "source": [
        "#Build the model \n",
        "inputs = layers.Input(shape=[], dtype=tf.string)\n",
        "pretrained_embedding = tf_hub_embedding_layer(inputs)\n",
        "x = layers.Lambda(lambda x: tf.expand_dims(x, axis=1))(pretrained_embedding)\n",
        "x = layers.Bidirectional(layers.GRU(128, return_sequences=True))(x)\n",
        "x = layers.Dropout(0.2)(x)\n",
        "x = layers.Bidirectional(layers.GRU(64, return_sequences=True))(x)\n",
        "x = layers.Dropout(0.2)(x)\n",
        "x = layers.Bidirectional(layers.GRU(32))(x)\n",
        "x = layers.Dropout(0.2)(x)\n",
        "outputs = layers.Dense(3, activation=\"softmax\")(x)\n",
        "model_3 = tf.keras.Model(inputs, outputs)"
      ],
      "execution_count": 348,
      "outputs": []
    },
    {
      "cell_type": "code",
      "metadata": {
        "id": "bfErbHk8UoTV"
      },
      "source": [
        "#Compile the model \n",
        "model_3.compile(loss=\"categorical_crossentropy\", metrics=[\"accuracy\"], optimizer=\"Adam\")"
      ],
      "execution_count": 349,
      "outputs": []
    },
    {
      "cell_type": "code",
      "metadata": {
        "colab": {
          "base_uri": "https://localhost:8080/"
        },
        "id": "a98KI7O2Ux6M",
        "outputId": "c105cbb1-01ca-4993-8ac9-a4a2cb8610b3"
      },
      "source": [
        "%%time\n",
        "#Fit the model \n",
        "history_model_3 = model_3.fit(train_dataset,\n",
        "                              epochs=100, \n",
        "                              verbose=0,\n",
        "                              validation_data=val_dataset,\n",
        "                              callbacks=[tf.keras.callbacks.ReduceLROnPlateau(monitor=\"val_loss\", patience=5, verbose=1),\n",
        "                                         tf.keras.callbacks.EarlyStopping(monitor=\"val_loss\", patience=5, restore_best_weights=True, verbose=1)])"
      ],
      "execution_count": 350,
      "outputs": [
        {
          "output_type": "stream",
          "name": "stdout",
          "text": [
            "\n",
            "Epoch 00007: ReduceLROnPlateau reducing learning rate to 0.00010000000474974513.\n",
            "Restoring model weights from the end of the best epoch.\n",
            "Epoch 00007: early stopping\n",
            "CPU times: user 1min 21s, sys: 7.7 s, total: 1min 29s\n",
            "Wall time: 1min 25s\n"
          ]
        }
      ]
    },
    {
      "cell_type": "code",
      "metadata": {
        "colab": {
          "base_uri": "https://localhost:8080/",
          "height": 871
        },
        "id": "JCFhrCK3VB29",
        "outputId": "2c9fa6e6-7693-4327-c999-f65d4784556e"
      },
      "source": [
        "plot_training_curve(history_model_3)"
      ],
      "execution_count": 351,
      "outputs": [
        {
          "output_type": "display_data",
          "data": {
            "image/png": "[encoded data removed]",
            "text/plain": [
              "<Figure size 720x504 with 1 Axes>"
            ]
          },
          "metadata": {
            "needs_background": "light"
          }
        },
        {
          "output_type": "display_data",
          "data": {
            "image/png": "[encoded data removed]",
            "text/plain": [
              "<Figure size 720x504 with 1 Axes>"
            ]
          },
          "metadata": {
            "needs_background": "light"
          }
        }
      ]
    },
    {
      "cell_type": "code",
      "metadata": {
        "colab": {
          "base_uri": "https://localhost:8080/"
        },
        "id": "2aK5ybJmVHki",
        "outputId": "b6e93ad8-f339-4a1d-c24b-b9091b4e4230"
      },
      "source": [
        "#Evaluate\n",
        "model_3.evaluate(test_dataset)"
      ],
      "execution_count": 352,
      "outputs": [
        {
          "output_type": "stream",
          "name": "stdout",
          "text": [
            "63/63 [==============================] - 2s 31ms/step - loss: 0.6001 - accuracy: 0.7590\n"
          ]
        },
        {
          "output_type": "execute_result",
          "data": {
            "text/plain": [
              "[0.6001099944114685, 0.7590000033378601]"
            ]
          },
          "metadata": {},
          "execution_count": 352
        }
      ]
    },
    {
      "cell_type": "markdown",
      "metadata": {
        "id": "Fix1y6lNZW0-"
      },
      "source": [
        "### Model 4: Feature extraction Conv1D"
      ]
    },
    {
      "cell_type": "code",
      "metadata": {
        "id": "MdVItocqZo7V"
      },
      "source": [
        "#Build the model \n",
        "inputs = layers.Input(shape=[], dtype=tf.string)\n",
        "pretrained_embedding = tf_hub_embedding_layer(inputs)\n",
        "x = layers.Lambda(lambda x: tf.expand_dims(x, axis=1))(pretrained_embedding)\n",
        "x = layers.Conv1D(256, kernel_size=5, padding=\"same\", activation=\"relu\")(x)\n",
        "x = layers.Dropout(0.5)(x)\n",
        "x = layers.Conv1D(128, kernel_size=5, padding=\"same\", activation=\"relu\")(x)\n",
        "x = layers.Dropout(0.5)(x)\n",
        "x = layers.Conv1D(64, kernel_size=5, padding=\"same\", activation=\"relu\")(x)\n",
        "x = layers.Dropout(0.5)(x)\n",
        "x = layers.Conv1D(32, kernel_size=5, padding=\"same\", activation=\"relu\")(x)\n",
        "x = layers.Dropout(0.5)(x)\n",
        "x = layers.Conv1D(16, kernel_size=5, padding=\"same\", activation=\"relu\")(x)\n",
        "x = layers.Dropout(0.5)(x)\n",
        "x = layers.GlobalMaxPooling1D()(x)\n",
        "outputs = layers.Dense(3, activation=\"softmax\")(x)\n",
        "model_4 = tf.keras.Model(inputs, outputs)"
      ],
      "execution_count": 353,
      "outputs": []
    },
    {
      "cell_type": "code",
      "metadata": {
        "id": "oDDDAU-lZ7X_"
      },
      "source": [
        "#Compile the model \n",
        "model_4.compile(loss=\"binary_crossentropy\", metrics=[\"accuracy\"], optimizer=\"Adam\")"
      ],
      "execution_count": 354,
      "outputs": []
    },
    {
      "cell_type": "code",
      "metadata": {
        "id": "V1Q7V7-UaOUL",
        "outputId": "faa1b0e5-49a5-4324-9720-153ab7c20b26",
        "colab": {
          "base_uri": "https://localhost:8080/"
        }
      },
      "source": [
        "%%time\n",
        "#Fit the model \n",
        "history_model_4 = model_4.fit(train_dataset,\n",
        "                              epochs=100, \n",
        "                              batch_size=128,\n",
        "                              verbose=0,\n",
        "                              validation_data=val_dataset,\n",
        "                              callbacks=[tf.keras.callbacks.ReduceLROnPlateau(monitor=\"val_loss\", patience=5, verbose=1),\n",
        "                                         tf.keras.callbacks.EarlyStopping(monitor=\"val_loss\", patience=5, restore_best_weights=True, verbose=1)]\n",
        "                                         )"
      ],
      "execution_count": 355,
      "outputs": [
        {
          "output_type": "stream",
          "name": "stdout",
          "text": [
            "\n",
            "Epoch 00012: ReduceLROnPlateau reducing learning rate to 0.00010000000474974513.\n",
            "Restoring model weights from the end of the best epoch.\n",
            "Epoch 00012: early stopping\n",
            "CPU times: user 1min 38s, sys: 8.56 s, total: 1min 46s\n",
            "Wall time: 1min 31s\n"
          ]
        }
      ]
    },
    {
      "cell_type": "code",
      "metadata": {
        "id": "zKxphAx9aW7f",
        "outputId": "73306dc7-0605-4783-f9e8-f31b9c962e6b",
        "colab": {
          "base_uri": "https://localhost:8080/",
          "height": 871
        }
      },
      "source": [
        "plot_training_curve(history_model_4)"
      ],
      "execution_count": 356,
      "outputs": [
        {
          "output_type": "display_data",
          "data": {
            "image/png": "[encoded data removed]",
            "text/plain": [
              "<Figure size 720x504 with 1 Axes>"
            ]
          },
          "metadata": {
            "needs_background": "light"
          }
        },
        {
          "output_type": "display_data",
          "data": {
            "image/png": "[encoded data removed]",
            "text/plain": [
              "<Figure size 720x504 with 1 Axes>"
            ]
          },
          "metadata": {
            "needs_background": "light"
          }
        }
      ]
    },
    {
      "cell_type": "code",
      "metadata": {
        "id": "_mObL8jcaRPe",
        "outputId": "c1e01e38-425e-49b2-a49f-4f6d23009b75",
        "colab": {
          "base_uri": "https://localhost:8080/"
        }
      },
      "source": [
        "#Evaluate\n",
        "model_4.evaluate(test_dataset)"
      ],
      "execution_count": 357,
      "outputs": [
        {
          "output_type": "stream",
          "name": "stdout",
          "text": [
            "63/63 [==============================] - 2s 27ms/step - loss: 0.3682 - accuracy: 0.7590\n"
          ]
        },
        {
          "output_type": "execute_result",
          "data": {
            "text/plain": [
              "[0.36822909116744995, 0.7590000033378601]"
            ]
          },
          "metadata": {},
          "execution_count": 357
        }
      ]
    },
    {
      "cell_type": "markdown",
      "metadata": {
        "id": "YddBStPZ4XnI"
      },
      "source": [
        "### Feature extraction GRU Conv1D"
      ]
    },
    {
      "cell_type": "code",
      "metadata": {
        "id": "L7nIDX5t4b6I"
      },
      "source": [
        "#Build the model \n",
        "inputs = layers.Input(shape=[], dtype=tf.string)\n",
        "pretrained_embedding = tf_hub_embedding_layer(inputs)\n",
        "x = layers.Lambda(lambda x: tf.expand_dims(x, axis=1))(pretrained_embedding)\n",
        "x = layers.Conv1D(512, kernel_size=12, padding=\"same\", activation=\"relu\")(x)\n",
        "x = layers.Dropout(0.6)(x)\n",
        "x = layers.GRU(256, return_sequences=True)(x)\n",
        "x = layers.Dropout(0.6)(x)\n",
        "x = layers.Conv1D(256, kernel_size=12, padding=\"same\", activation=\"relu\")(x)\n",
        "x = layers.GRU(128, return_sequences=True)(x)\n",
        "x = layers.GlobalAveragePooling1D()(x)\n",
        "x = layers.Dropout(0.6)(x)\n",
        "x = layers.Dense(128)(x)\n",
        "x = layers.Dropout(0.6)(x)\n",
        "x = layers.Dense(64)(x)\n",
        "x = layers.Dropout(0.6)(x)\n",
        "x = layers.Dense(32)(x)\n",
        "x = layers.Dropout(0.6)(x)\n",
        "outputs = layers.Dense(3, activation=\"softmax\")(x)\n",
        "model_5 = tf.keras.Model(inputs, outputs)"
      ],
      "execution_count": 389,
      "outputs": []
    },
    {
      "cell_type": "code",
      "metadata": {
        "id": "9tPbi9xH4qPJ"
      },
      "source": [
        "#Compile the model \n",
        "model_5.compile(loss=\"categorical_crossentropy\", metrics=[\"accuracy\"], optimizer=\"Adam\")"
      ],
      "execution_count": 390,
      "outputs": []
    },
    {
      "cell_type": "code",
      "metadata": {
        "id": "cxjkJiDI4t6U",
        "outputId": "b3c13836-f3a7-4715-b94d-19e1eaebc3e3",
        "colab": {
          "base_uri": "https://localhost:8080/"
        }
      },
      "source": [
        "%%time\n",
        "#Fit the model \n",
        "history_model_5 = model_5.fit(train_dataset,\n",
        "                              epochs=100, \n",
        "                              verbose=0,\n",
        "                              validation_data=val_dataset,\n",
        "                              callbacks=[tf.keras.callbacks.ReduceLROnPlateau(monitor=\"val_loss\", patience=5, verbose=1),\n",
        "                                         tf.keras.callbacks.EarlyStopping(monitor=\"val_loss\", patience=5, restore_best_weights=True, verbose=1)]\n",
        "                                         )"
      ],
      "execution_count": 391,
      "outputs": [
        {
          "output_type": "stream",
          "name": "stdout",
          "text": [
            "\n",
            "Epoch 00010: ReduceLROnPlateau reducing learning rate to 0.00010000000474974513.\n",
            "Restoring model weights from the end of the best epoch.\n",
            "Epoch 00010: early stopping\n",
            "CPU times: user 1min 37s, sys: 8 s, total: 1min 45s\n",
            "Wall time: 1min 44s\n"
          ]
        }
      ]
    },
    {
      "cell_type": "code",
      "metadata": {
        "id": "JAhxm8mF4xYL",
        "outputId": "2340ecab-c658-4913-b22f-2bbe2e046411",
        "colab": {
          "base_uri": "https://localhost:8080/",
          "height": 871
        }
      },
      "source": [
        "plot_training_curve(history_model_5)"
      ],
      "execution_count": 392,
      "outputs": [
        {
          "output_type": "display_data",
          "data": {
            "image/png": "[encoded data removed]",
            "text/plain": [
              "<Figure size 720x504 with 1 Axes>"
            ]
          },
          "metadata": {
            "needs_background": "light"
          }
        },
        {
          "output_type": "display_data",
          "data": {
            "image/png": "[encoded data removed]",
            "text/plain": [
              "<Figure size 720x504 with 1 Axes>"
            ]
          },
          "metadata": {
            "needs_background": "light"
          }
        }
      ]
    },
    {
      "cell_type": "code",
      "metadata": {
        "id": "qmcD0Cil40AG",
        "outputId": "535a3288-3660-4fbd-d118-45c19bcac0c5",
        "colab": {
          "base_uri": "https://localhost:8080/"
        }
      },
      "source": [
        "#Evaluate\n",
        "model_5.evaluate(test_dataset)"
      ],
      "execution_count": 393,
      "outputs": [
        {
          "output_type": "stream",
          "name": "stdout",
          "text": [
            "63/63 [==============================] - 2s 34ms/step - loss: 0.6131 - accuracy: 0.7480\n"
          ]
        },
        {
          "output_type": "execute_result",
          "data": {
            "text/plain": [
              "[0.6131190061569214, 0.7480000257492065]"
            ]
          },
          "metadata": {},
          "execution_count": 393
        }
      ]
    }
  ]
}