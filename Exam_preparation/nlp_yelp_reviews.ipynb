{
  "nbformat": 4,
  "nbformat_minor": 0,
  "metadata": {
    "colab": {
      "name": "nlp_yelp_reviews.ipynb",
      "provenance": [],
      "collapsed_sections": [],
      "toc_visible": true,
      "authorship_tag": "ABX9TyOU7l0EO4g1sLm1Hojw5vAb",
      "include_colab_link": true
    },
    "kernelspec": {
      "name": "python3",
      "display_name": "Python 3"
    },
    "language_info": {
      "name": "python"
    },
    "accelerator": "GPU"
  },
  "cells": [
    {
      "cell_type": "markdown",
      "metadata": {
        "id": "view-in-github",
        "colab_type": "text"
      },
      "source": [
        "<a href=\"https://colab.research.google.com/github/schauppi/Udemy_TensorFlow_Developer/blob/main/Exam_preparation/nlp_yelp_reviews.ipynb\" target=\"_parent\"><img src=\"https://colab.research.google.com/assets/colab-badge.svg\" alt=\"Open In Colab\"/></a>"
      ]
    },
    {
      "cell_type": "markdown",
      "metadata": {
        "id": "VPN6LmRE7aE0"
      },
      "source": [
        "# Yelp Reviews sentiment analysis"
      ]
    },
    {
      "cell_type": "code",
      "metadata": {
        "colab": {
          "base_uri": "https://localhost:8080/"
        },
        "id": "UYprMYZG7Ulv",
        "outputId": "07c72f17-f960-4ce3-98c1-ec45d7355583"
      },
      "source": [
        "#Download dataset\n",
        "!wget https://raw.githubusercontent.com/schauppi/Udemy_TensorFlow_Developer/main/Exam_preparation/Datasets/yelp.csv"
      ],
      "execution_count": 1,
      "outputs": [
        {
          "output_type": "stream",
          "name": "stdout",
          "text": [
            "--2021-09-06 13:28:27--  https://raw.githubusercontent.com/schauppi/Udemy_TensorFlow_Developer/main/Exam_preparation/Datasets/yelp.csv\n",
            "Resolving raw.githubusercontent.com (raw.githubusercontent.com)... 185.199.108.133, 185.199.109.133, 185.199.110.133, ...\n",
            "Connecting to raw.githubusercontent.com (raw.githubusercontent.com)|185.199.108.133|:443... connected.\n",
            "HTTP request sent, awaiting response... 200 OK\n",
            "Length: 8091185 (7.7M) [text/plain]\n",
            "Saving to: ‘yelp.csv’\n",
            "\n",
            "yelp.csv            100%[===================>]   7.72M  --.-KB/s    in 0.1s    \n",
            "\n",
            "2021-09-06 13:28:28 (72.3 MB/s) - ‘yelp.csv’ saved [8091185/8091185]\n",
            "\n"
          ]
        }
      ]
    },
    {
      "cell_type": "code",
      "metadata": {
        "colab": {
          "base_uri": "https://localhost:8080/",
          "height": 205
        },
        "id": "A0PqeKzq7fvJ",
        "outputId": "7446822c-0218-4dd1-ef5c-8ff24e1fdb8e"
      },
      "source": [
        "# Turn csv into pandas DataFrame\n",
        "import pandas as pd\n",
        "import numpy as np\n",
        "import tensorflow as tf\n",
        "df = pd.read_csv(\"/content/yelp.csv\")\n",
        "df.head()"
      ],
      "execution_count": 2,
      "outputs": [
        {
          "output_type": "execute_result",
          "data": {
            "text/html": [
              "<div>\n",
              "<style scoped>\n",
              "    .dataframe tbody tr th:only-of-type {\n",
              "        vertical-align: middle;\n",
              "    }\n",
              "\n",
              "    .dataframe tbody tr th {\n",
              "        vertical-align: top;\n",
              "    }\n",
              "\n",
              "    .dataframe thead th {\n",
              "        text-align: right;\n",
              "    }\n",
              "</style>\n",
              "<table border=\"1\" class=\"dataframe\">\n",
              "  <thead>\n",
              "    <tr style=\"text-align: right;\">\n",
              "      <th></th>\n",
              "      <th>business_id</th>\n",
              "      <th>date</th>\n",
              "      <th>review_id</th>\n",
              "      <th>stars</th>\n",
              "      <th>text</th>\n",
              "      <th>type</th>\n",
              "      <th>user_id</th>\n",
              "      <th>cool</th>\n",
              "      <th>useful</th>\n",
              "      <th>funny</th>\n",
              "    </tr>\n",
              "  </thead>\n",
              "  <tbody>\n",
              "    <tr>\n",
              "      <th>0</th>\n",
              "      <td>9yKzy9PApeiPPOUJEtnvkg</td>\n",
              "      <td>2011-01-26</td>\n",
              "      <td>fWKvX83p0-ka4JS3dc6E5A</td>\n",
              "      <td>5</td>\n",
              "      <td>My wife took me here on my birthday for breakf...</td>\n",
              "      <td>review</td>\n",
              "      <td>rLtl8ZkDX5vH5nAx9C3q5Q</td>\n",
              "      <td>2</td>\n",
              "      <td>5</td>\n",
              "      <td>0</td>\n",
              "    </tr>\n",
              "    <tr>\n",
              "      <th>1</th>\n",
              "      <td>ZRJwVLyzEJq1VAihDhYiow</td>\n",
              "      <td>2011-07-27</td>\n",
              "      <td>IjZ33sJrzXqU-0X6U8NwyA</td>\n",
              "      <td>5</td>\n",
              "      <td>I have no idea why some people give bad review...</td>\n",
              "      <td>review</td>\n",
              "      <td>0a2KyEL0d3Yb1V6aivbIuQ</td>\n",
              "      <td>0</td>\n",
              "      <td>0</td>\n",
              "      <td>0</td>\n",
              "    </tr>\n",
              "    <tr>\n",
              "      <th>2</th>\n",
              "      <td>6oRAC4uyJCsJl1X0WZpVSA</td>\n",
              "      <td>2012-06-14</td>\n",
              "      <td>IESLBzqUCLdSzSqm0eCSxQ</td>\n",
              "      <td>4</td>\n",
              "      <td>love the gyro plate. Rice is so good and I als...</td>\n",
              "      <td>review</td>\n",
              "      <td>0hT2KtfLiobPvh6cDC8JQg</td>\n",
              "      <td>0</td>\n",
              "      <td>1</td>\n",
              "      <td>0</td>\n",
              "    </tr>\n",
              "    <tr>\n",
              "      <th>3</th>\n",
              "      <td>_1QQZuf4zZOyFCvXc0o6Vg</td>\n",
              "      <td>2010-05-27</td>\n",
              "      <td>G-WvGaISbqqaMHlNnByodA</td>\n",
              "      <td>5</td>\n",
              "      <td>Rosie, Dakota, and I LOVE Chaparral Dog Park!!...</td>\n",
              "      <td>review</td>\n",
              "      <td>uZetl9T0NcROGOyFfughhg</td>\n",
              "      <td>1</td>\n",
              "      <td>2</td>\n",
              "      <td>0</td>\n",
              "    </tr>\n",
              "    <tr>\n",
              "      <th>4</th>\n",
              "      <td>6ozycU1RpktNG2-1BroVtw</td>\n",
              "      <td>2012-01-05</td>\n",
              "      <td>1uJFq2r5QfJG_6ExMRCaGw</td>\n",
              "      <td>5</td>\n",
              "      <td>General Manager Scott Petello is a good egg!!!...</td>\n",
              "      <td>review</td>\n",
              "      <td>vYmM4KTsC8ZfQBg-j5MWkw</td>\n",
              "      <td>0</td>\n",
              "      <td>0</td>\n",
              "      <td>0</td>\n",
              "    </tr>\n",
              "  </tbody>\n",
              "</table>\n",
              "</div>"
            ],
            "text/plain": [
              "              business_id        date  ... useful  funny\n",
              "0  9yKzy9PApeiPPOUJEtnvkg  2011-01-26  ...      5      0\n",
              "1  ZRJwVLyzEJq1VAihDhYiow  2011-07-27  ...      0      0\n",
              "2  6oRAC4uyJCsJl1X0WZpVSA  2012-06-14  ...      1      0\n",
              "3  _1QQZuf4zZOyFCvXc0o6Vg  2010-05-27  ...      2      0\n",
              "4  6ozycU1RpktNG2-1BroVtw  2012-01-05  ...      0      0\n",
              "\n",
              "[5 rows x 10 columns]"
            ]
          },
          "metadata": {},
          "execution_count": 2
        }
      ]
    },
    {
      "cell_type": "code",
      "metadata": {
        "colab": {
          "base_uri": "https://localhost:8080/",
          "height": 205
        },
        "id": "1iXmGiqi7twS",
        "outputId": "6d1a0324-636f-467d-8882-0519c281a267"
      },
      "source": [
        "#Shuffle the dataframe\n",
        "df_shuffled = df.sample(frac=1, random_state=42)\n",
        "df_shuffled.head()"
      ],
      "execution_count": 195,
      "outputs": [
        {
          "output_type": "execute_result",
          "data": {
            "text/html": [
              "<div>\n",
              "<style scoped>\n",
              "    .dataframe tbody tr th:only-of-type {\n",
              "        vertical-align: middle;\n",
              "    }\n",
              "\n",
              "    .dataframe tbody tr th {\n",
              "        vertical-align: top;\n",
              "    }\n",
              "\n",
              "    .dataframe thead th {\n",
              "        text-align: right;\n",
              "    }\n",
              "</style>\n",
              "<table border=\"1\" class=\"dataframe\">\n",
              "  <thead>\n",
              "    <tr style=\"text-align: right;\">\n",
              "      <th></th>\n",
              "      <th>business_id</th>\n",
              "      <th>date</th>\n",
              "      <th>review_id</th>\n",
              "      <th>stars</th>\n",
              "      <th>text</th>\n",
              "      <th>type</th>\n",
              "      <th>user_id</th>\n",
              "      <th>cool</th>\n",
              "      <th>useful</th>\n",
              "      <th>funny</th>\n",
              "    </tr>\n",
              "  </thead>\n",
              "  <tbody>\n",
              "    <tr>\n",
              "      <th>6252</th>\n",
              "      <td>QVR7dsvBeg8xFt9B-vd1BA</td>\n",
              "      <td>2010-07-22</td>\n",
              "      <td>hwYVJs8Ko4PMjI19QcR57g</td>\n",
              "      <td>4</td>\n",
              "      <td>We got here around midnight last Friday... the...</td>\n",
              "      <td>review</td>\n",
              "      <td>90a6z--_CUrl84aCzZyPsg</td>\n",
              "      <td>5</td>\n",
              "      <td>5</td>\n",
              "      <td>2</td>\n",
              "    </tr>\n",
              "    <tr>\n",
              "      <th>4684</th>\n",
              "      <td>24qSrF_XOrvaHDBy-gLIQg</td>\n",
              "      <td>2012-01-22</td>\n",
              "      <td>0mvthYPKb2ZmKhCADiKSmQ</td>\n",
              "      <td>5</td>\n",
              "      <td>Brought a friend from Louisiana here.  She say...</td>\n",
              "      <td>review</td>\n",
              "      <td>9lJAj_2zCvP2jcEiRjF9oA</td>\n",
              "      <td>0</td>\n",
              "      <td>0</td>\n",
              "      <td>0</td>\n",
              "    </tr>\n",
              "    <tr>\n",
              "      <th>1731</th>\n",
              "      <td>j0Uc-GuOe-x9_N_IK1KPpA</td>\n",
              "      <td>2009-05-09</td>\n",
              "      <td>XJHknNIecha6h0wkBSZB4w</td>\n",
              "      <td>3</td>\n",
              "      <td>Every friday, my dad and I eat here. We order ...</td>\n",
              "      <td>review</td>\n",
              "      <td>0VfJi9Au0rVFVnPKcJpt3Q</td>\n",
              "      <td>0</td>\n",
              "      <td>0</td>\n",
              "      <td>0</td>\n",
              "    </tr>\n",
              "    <tr>\n",
              "      <th>4742</th>\n",
              "      <td>RBiiGw8c7j-0a8nk35JO3w</td>\n",
              "      <td>2010-12-22</td>\n",
              "      <td>z6y3GRpYDqTznVe-0dn--Q</td>\n",
              "      <td>1</td>\n",
              "      <td>My husband and I were really, really disappoin...</td>\n",
              "      <td>review</td>\n",
              "      <td>lwppVF0Yqkuwt-xaEuugqw</td>\n",
              "      <td>2</td>\n",
              "      <td>2</td>\n",
              "      <td>2</td>\n",
              "    </tr>\n",
              "    <tr>\n",
              "      <th>4521</th>\n",
              "      <td>U8VA-RW6LYOhxR-Ygi6eDw</td>\n",
              "      <td>2011-01-17</td>\n",
              "      <td>vhWHdemMvsqVNv5zi2OMiA</td>\n",
              "      <td>5</td>\n",
              "      <td>Love this place!  Was in phoenix 3 weeks for w...</td>\n",
              "      <td>review</td>\n",
              "      <td>Y2R_tlSk4lTHiLXTDsn1rg</td>\n",
              "      <td>0</td>\n",
              "      <td>1</td>\n",
              "      <td>0</td>\n",
              "    </tr>\n",
              "  </tbody>\n",
              "</table>\n",
              "</div>"
            ],
            "text/plain": [
              "                 business_id        date  ... useful  funny\n",
              "6252  QVR7dsvBeg8xFt9B-vd1BA  2010-07-22  ...      5      2\n",
              "4684  24qSrF_XOrvaHDBy-gLIQg  2012-01-22  ...      0      0\n",
              "1731  j0Uc-GuOe-x9_N_IK1KPpA  2009-05-09  ...      0      0\n",
              "4742  RBiiGw8c7j-0a8nk35JO3w  2010-12-22  ...      2      2\n",
              "4521  U8VA-RW6LYOhxR-Ygi6eDw  2011-01-17  ...      1      0\n",
              "\n",
              "[5 rows x 10 columns]"
            ]
          },
          "metadata": {},
          "execution_count": 195
        }
      ]
    },
    {
      "cell_type": "code",
      "metadata": {
        "colab": {
          "base_uri": "https://localhost:8080/"
        },
        "id": "4cU0yABn9TfA",
        "outputId": "ddde822e-24ab-4f9a-c558-bcdc7cd7e15a"
      },
      "source": [
        "#How many different ratings\n",
        "df_shuffled.stars.value_counts()"
      ],
      "execution_count": 196,
      "outputs": [
        {
          "output_type": "execute_result",
          "data": {
            "text/plain": [
              "4    3526\n",
              "5    3337\n",
              "3    1461\n",
              "2     927\n",
              "1     749\n",
              "Name: stars, dtype: int64"
            ]
          },
          "metadata": {},
          "execution_count": 196
        }
      ]
    },
    {
      "cell_type": "code",
      "metadata": {
        "id": "Cmi1yPoRpEW0"
      },
      "source": [
        "#Create new star rating - if stars == 1 or 2 then 1, 3 = 2, 4 and 5 = 3\n",
        "stars_aggregated = []\n",
        "for row in df_shuffled[\"stars\"]:\n",
        "  if row == 1 or row == 2:\n",
        "    stars_aggregated.append(1)\n",
        "  elif row == 3:\n",
        "    stars_aggregated.append(2)\n",
        "  elif row == 4 or row ==5:\n",
        "    stars_aggregated.append(3)"
      ],
      "execution_count": 197,
      "outputs": []
    },
    {
      "cell_type": "code",
      "metadata": {
        "colab": {
          "base_uri": "https://localhost:8080/"
        },
        "id": "whlRN98dpim5",
        "outputId": "de1f79f7-77f9-4eae-dbc8-c99881663480"
      },
      "source": [
        "len(stars_aggregated)"
      ],
      "execution_count": 198,
      "outputs": [
        {
          "output_type": "execute_result",
          "data": {
            "text/plain": [
              "10000"
            ]
          },
          "metadata": {},
          "execution_count": 198
        }
      ]
    },
    {
      "cell_type": "code",
      "metadata": {
        "colab": {
          "base_uri": "https://localhost:8080/"
        },
        "id": "68tCF-LVrT3k",
        "outputId": "561086bb-a4e9-43c0-b53b-d4fe6d7f5fa4"
      },
      "source": [
        "#How many different ratings\n",
        "df_shuffled.stars_aggregated.value_counts()"
      ],
      "execution_count": 217,
      "outputs": [
        {
          "output_type": "execute_result",
          "data": {
            "text/plain": [
              "3    6863\n",
              "1    1676\n",
              "2    1461\n",
              "Name: stars_aggregated, dtype: int64"
            ]
          },
          "metadata": {},
          "execution_count": 217
        }
      ]
    },
    {
      "cell_type": "code",
      "metadata": {
        "id": "S2BR8rRAoz8r"
      },
      "source": [
        "df_shuffled[\"stars_aggregated\"] = stars_aggregated"
      ],
      "execution_count": 199,
      "outputs": []
    },
    {
      "cell_type": "code",
      "metadata": {
        "colab": {
          "base_uri": "https://localhost:8080/",
          "height": 292
        },
        "id": "1p1Kzqt7pojw",
        "outputId": "5ba25b02-28c8-43cc-df45-6e4cdc8306ef"
      },
      "source": [
        "df_shuffled.head(5)"
      ],
      "execution_count": 200,
      "outputs": [
        {
          "output_type": "execute_result",
          "data": {
            "text/html": [
              "<div>\n",
              "<style scoped>\n",
              "    .dataframe tbody tr th:only-of-type {\n",
              "        vertical-align: middle;\n",
              "    }\n",
              "\n",
              "    .dataframe tbody tr th {\n",
              "        vertical-align: top;\n",
              "    }\n",
              "\n",
              "    .dataframe thead th {\n",
              "        text-align: right;\n",
              "    }\n",
              "</style>\n",
              "<table border=\"1\" class=\"dataframe\">\n",
              "  <thead>\n",
              "    <tr style=\"text-align: right;\">\n",
              "      <th></th>\n",
              "      <th>business_id</th>\n",
              "      <th>date</th>\n",
              "      <th>review_id</th>\n",
              "      <th>stars</th>\n",
              "      <th>text</th>\n",
              "      <th>type</th>\n",
              "      <th>user_id</th>\n",
              "      <th>cool</th>\n",
              "      <th>useful</th>\n",
              "      <th>funny</th>\n",
              "      <th>stars_aggregated</th>\n",
              "    </tr>\n",
              "  </thead>\n",
              "  <tbody>\n",
              "    <tr>\n",
              "      <th>6252</th>\n",
              "      <td>QVR7dsvBeg8xFt9B-vd1BA</td>\n",
              "      <td>2010-07-22</td>\n",
              "      <td>hwYVJs8Ko4PMjI19QcR57g</td>\n",
              "      <td>4</td>\n",
              "      <td>We got here around midnight last Friday... the...</td>\n",
              "      <td>review</td>\n",
              "      <td>90a6z--_CUrl84aCzZyPsg</td>\n",
              "      <td>5</td>\n",
              "      <td>5</td>\n",
              "      <td>2</td>\n",
              "      <td>3</td>\n",
              "    </tr>\n",
              "    <tr>\n",
              "      <th>4684</th>\n",
              "      <td>24qSrF_XOrvaHDBy-gLIQg</td>\n",
              "      <td>2012-01-22</td>\n",
              "      <td>0mvthYPKb2ZmKhCADiKSmQ</td>\n",
              "      <td>5</td>\n",
              "      <td>Brought a friend from Louisiana here.  She say...</td>\n",
              "      <td>review</td>\n",
              "      <td>9lJAj_2zCvP2jcEiRjF9oA</td>\n",
              "      <td>0</td>\n",
              "      <td>0</td>\n",
              "      <td>0</td>\n",
              "      <td>3</td>\n",
              "    </tr>\n",
              "    <tr>\n",
              "      <th>1731</th>\n",
              "      <td>j0Uc-GuOe-x9_N_IK1KPpA</td>\n",
              "      <td>2009-05-09</td>\n",
              "      <td>XJHknNIecha6h0wkBSZB4w</td>\n",
              "      <td>3</td>\n",
              "      <td>Every friday, my dad and I eat here. We order ...</td>\n",
              "      <td>review</td>\n",
              "      <td>0VfJi9Au0rVFVnPKcJpt3Q</td>\n",
              "      <td>0</td>\n",
              "      <td>0</td>\n",
              "      <td>0</td>\n",
              "      <td>2</td>\n",
              "    </tr>\n",
              "    <tr>\n",
              "      <th>4742</th>\n",
              "      <td>RBiiGw8c7j-0a8nk35JO3w</td>\n",
              "      <td>2010-12-22</td>\n",
              "      <td>z6y3GRpYDqTznVe-0dn--Q</td>\n",
              "      <td>1</td>\n",
              "      <td>My husband and I were really, really disappoin...</td>\n",
              "      <td>review</td>\n",
              "      <td>lwppVF0Yqkuwt-xaEuugqw</td>\n",
              "      <td>2</td>\n",
              "      <td>2</td>\n",
              "      <td>2</td>\n",
              "      <td>1</td>\n",
              "    </tr>\n",
              "    <tr>\n",
              "      <th>4521</th>\n",
              "      <td>U8VA-RW6LYOhxR-Ygi6eDw</td>\n",
              "      <td>2011-01-17</td>\n",
              "      <td>vhWHdemMvsqVNv5zi2OMiA</td>\n",
              "      <td>5</td>\n",
              "      <td>Love this place!  Was in phoenix 3 weeks for w...</td>\n",
              "      <td>review</td>\n",
              "      <td>Y2R_tlSk4lTHiLXTDsn1rg</td>\n",
              "      <td>0</td>\n",
              "      <td>1</td>\n",
              "      <td>0</td>\n",
              "      <td>3</td>\n",
              "    </tr>\n",
              "  </tbody>\n",
              "</table>\n",
              "</div>"
            ],
            "text/plain": [
              "                 business_id        date  ... funny  stars_aggregated\n",
              "6252  QVR7dsvBeg8xFt9B-vd1BA  2010-07-22  ...     2                 3\n",
              "4684  24qSrF_XOrvaHDBy-gLIQg  2012-01-22  ...     0                 3\n",
              "1731  j0Uc-GuOe-x9_N_IK1KPpA  2009-05-09  ...     0                 2\n",
              "4742  RBiiGw8c7j-0a8nk35JO3w  2010-12-22  ...     2                 1\n",
              "4521  U8VA-RW6LYOhxR-Ygi6eDw  2011-01-17  ...     0                 3\n",
              "\n",
              "[5 rows x 11 columns]"
            ]
          },
          "metadata": {},
          "execution_count": 200
        }
      ]
    },
    {
      "cell_type": "code",
      "metadata": {
        "colab": {
          "base_uri": "https://localhost:8080/"
        },
        "id": "iYHOK-wd8vxS",
        "outputId": "6b656368-4297-4677-c597-a56ac3016a91"
      },
      "source": [
        "#get info about the dataframe\n",
        "df_shuffled.info()"
      ],
      "execution_count": 201,
      "outputs": [
        {
          "output_type": "stream",
          "name": "stdout",
          "text": [
            "<class 'pandas.core.frame.DataFrame'>\n",
            "Int64Index: 10000 entries, 6252 to 7270\n",
            "Data columns (total 11 columns):\n",
            " #   Column            Non-Null Count  Dtype \n",
            "---  ------            --------------  ----- \n",
            " 0   business_id       10000 non-null  object\n",
            " 1   date              10000 non-null  object\n",
            " 2   review_id         10000 non-null  object\n",
            " 3   stars             10000 non-null  int64 \n",
            " 4   text              10000 non-null  object\n",
            " 5   type              10000 non-null  object\n",
            " 6   user_id           10000 non-null  object\n",
            " 7   cool              10000 non-null  int64 \n",
            " 8   useful            10000 non-null  int64 \n",
            " 9   funny             10000 non-null  int64 \n",
            " 10  stars_aggregated  10000 non-null  int64 \n",
            "dtypes: int64(5), object(6)\n",
            "memory usage: 937.5+ KB\n"
          ]
        }
      ]
    },
    {
      "cell_type": "code",
      "metadata": {
        "colab": {
          "base_uri": "https://localhost:8080/"
        },
        "id": "sk_ei6rX9wMt",
        "outputId": "c4139f25-b8fd-4a4b-afc6-84aad6c5c0a9"
      },
      "source": [
        "#Visualize some random examples\n",
        "import random\n",
        "random_index = random.randint(0, len(df_shuffled)-5)\n",
        "for row in df_shuffled[[\"text\", \"stars_aggregated\"]][random_index:random_index+5].itertuples():\n",
        "  _, text, stars = row\n",
        "  print(f\"Text: {text}\")\n",
        "  print(f\"Rating: {stars}\\n\")"
      ],
      "execution_count": 218,
      "outputs": [
        {
          "output_type": "stream",
          "name": "stdout",
          "text": [
            "Text: Kindred Spirits has closed their doors. It is a sad thing that we on the west side of Phoenix cannot support such a friendly and community oriented business, AND one that gave you the option to drop by for a quick coffee or for a more complete dining experience. The live music on the weekends was also something a bit rare for our side of town, and will be missed. Richard and Debra did a marvelous job updating the space, and making it a warm and welcoming place. I am sorry that Youngtown has lost this business.\n",
            "Rating: 3\n",
            "\n",
            "Text: Stopped by here for lunch today... I saw the Burger sign outside and thought I would try it out. WOW!! This place is amazing. The owner/chef was taking the orders and was super helpful and friendly. I had a Paradise CHZ which came with 2 patties, smoked mozzarella lettuce, tomato, caramelized onion as well as cucumber. I also ordered  Sweet Potato Tater Tots I was blown away! BEST BURGERS IN PHOENIX!  Our bill came to $18 for 2 cheese burgers, 2 sides and a soda. \n",
            "It was so amazing I went back for dinner. I bragged to much when I got home that my boyfriend just had to try it. I had the special which was a Roasted Duck Burger (2 beef patties, topped with roasted duck, caramelized onions, bacon, fried egg over easy served with duck au jus) By far the best burger of my life. My boyfriend got the Beach House (2 beef patties. roasted green chili, smoked mozzarella, pico de gallo and jalapeno ranch) He also ordered the seasoned fries. I don't care for fires and I think I could eat 3 orders they were so good. His was so good he ordered another burger. \n",
            "For Desert we shared a Maple Pecan Bacon Milkshake, also to die for. I really think I need one of these every night.\n",
            "From the atmosphere, the music, the staff to the food every thing about PV Burgers was a hit.\n",
            "This is a must go!\n",
            "Rating: 3\n",
            "\n",
            "Text: A bit slow for an airport setting and the staff were blaming each other for an order gone wrong for the customer in front of me...tacky.\n",
            "Rating: 2\n",
            "\n",
            "Text: sslowest drive through ever!!!\n",
            "Rating: 1\n",
            "\n",
            "Text: The Valley Beer Drinkers Meetup Group has been coming here for months - since before the name change - on occasional Wednesdays for $3 craft pints & the fantastic wings special. We've always had a good experience, and the extensive, rotating brew selection keeps the venue fresh.\n",
            "\n",
            "I've been urging the owner to add at least ONE Pilsner to the IPA-heavy menu, and last night he delivered with a quintessential model: Munchener Spaten Pils! It was great.\n",
            "\n",
            "Adding to the experience was the excellent food. Portions were generous and satisfying!. One member ordered the Fish & Onion Rings, and when it arrived, two others immediately ordered their own! I can't remember better fish (pollack here) or more perfect onion rings! Homemade potato chips were remarkable, and the fry cook definitely knows the craft! Diners have many options for sides w/ entrees, which is a generous touch. Only the cole slaw was a bit bland. \n",
            "\n",
            "Service was friendly & generally good, but not attentive enough later in the meal. Thanks for separate checks, too.\n",
            "\n",
            "I really look forward to returning for brews and to further explore the enticing menu!\n",
            "Rating: 3\n",
            "\n"
          ]
        }
      ]
    },
    {
      "cell_type": "code",
      "metadata": {
        "id": "eReMDKL0Wzt0"
      },
      "source": [
        "np.random.seed(42)\n",
        "perm = np.random.permutation(df_shuffled.index)\n",
        "m = len(df_shuffled)\n",
        "train_end = int(0.6 * m)\n",
        "validate_end = int(0.2 * m) + train_end\n",
        "train = df_shuffled.iloc[perm[:train_end]]\n",
        "validate = df_shuffled.iloc[perm[train_end:validate_end]]\n",
        "test = df_shuffled.iloc[perm[validate_end:]]"
      ],
      "execution_count": 214,
      "outputs": []
    },
    {
      "cell_type": "code",
      "metadata": {
        "colab": {
          "base_uri": "https://localhost:8080/"
        },
        "id": "Dsf3Lf09XlfE",
        "outputId": "bac7df55-ee39-4f6f-b63f-c947940222e8"
      },
      "source": [
        "len(train), len(validate), len(test)"
      ],
      "execution_count": 215,
      "outputs": [
        {
          "output_type": "execute_result",
          "data": {
            "text/plain": [
              "(6000, 2000, 2000)"
            ]
          },
          "metadata": {},
          "execution_count": 215
        }
      ]
    },
    {
      "cell_type": "code",
      "metadata": {
        "colab": {
          "base_uri": "https://localhost:8080/"
        },
        "id": "JZ2X8ATKYHiR",
        "outputId": "deb9d885-3485-464f-c2d3-15f8995de3f8"
      },
      "source": [
        "#Turn dataframes into numpy arrays\n",
        "train_sentences = train[\"text\"].to_numpy()\n",
        "train_labels = train[\"stars_aggregated\"].to_numpy()\n",
        "val_sentences = validate[\"text\"].to_numpy()\n",
        "val_labels = validate[\"stars_aggregated\"].to_numpy()\n",
        "test_sentences = test[\"text\"].to_numpy()\n",
        "test_labels = test[\"stars_aggregated\"].to_numpy()\n",
        "train_sentences.shape, val_sentences.shape, test_sentences.shape"
      ],
      "execution_count": 216,
      "outputs": [
        {
          "output_type": "execute_result",
          "data": {
            "text/plain": [
              "((6000,), (2000,), (2000,))"
            ]
          },
          "metadata": {},
          "execution_count": 216
        }
      ]
    },
    {
      "cell_type": "code",
      "metadata": {
        "id": "xpjnC86zECmU"
      },
      "source": [
        "#One hot encode labels\n",
        "from sklearn.preprocessing import OneHotEncoder\n",
        "one_hot_encoder = OneHotEncoder(sparse=False)\n",
        "train_labels_one_hot = one_hot_encoder.fit_transform(train_labels.reshape(-1, 1))\n",
        "test_labels_one_hot = one_hot_encoder.fit_transform(test_labels.reshape(-1, 1))\n",
        "val_labels_one_hot = one_hot_encoder.fit_transform(val_labels.reshape(-1, 1))"
      ],
      "execution_count": 219,
      "outputs": []
    },
    {
      "cell_type": "code",
      "metadata": {
        "colab": {
          "base_uri": "https://localhost:8080/"
        },
        "id": "9qo0fyozEW5R",
        "outputId": "d3bcc48b-5890-422a-ac14-6164e06759be"
      },
      "source": [
        "train_labels_one_hot"
      ],
      "execution_count": 220,
      "outputs": [
        {
          "output_type": "execute_result",
          "data": {
            "text/plain": [
              "array([[0., 0., 1.],\n",
              "       [0., 0., 1.],\n",
              "       [0., 0., 1.],\n",
              "       ...,\n",
              "       [0., 0., 1.],\n",
              "       [0., 0., 1.],\n",
              "       [0., 0., 1.]])"
            ]
          },
          "metadata": {},
          "execution_count": 220
        }
      ]
    },
    {
      "cell_type": "code",
      "metadata": {
        "colab": {
          "base_uri": "https://localhost:8080/"
        },
        "id": "pKEwUQOsndu5",
        "outputId": "09fd3e9a-ab87-4c97-e71e-f8c541956ab3"
      },
      "source": [
        "z = random.randint(0, 6000)\n",
        "print(train_labels_one_hot[z])\n",
        "print(train_labels[z])"
      ],
      "execution_count": 223,
      "outputs": [
        {
          "output_type": "stream",
          "name": "stdout",
          "text": [
            "[0. 1. 0.]\n",
            "2\n"
          ]
        }
      ]
    },
    {
      "cell_type": "code",
      "metadata": {
        "colab": {
          "base_uri": "https://localhost:8080/"
        },
        "id": "c_pJPvgV8k8j",
        "outputId": "00192e75-8cf7-4f9a-b344-9a373d91926a"
      },
      "source": [
        "train_sentences[:5], test_sentences[:5], val_sentences[:5]"
      ],
      "execution_count": 225,
      "outputs": [
        {
          "output_type": "execute_result",
          "data": {
            "text/plain": [
              "(array([\"Was at Zinc again last night and have to say the place keeps getting better still.  Started with the crepes again, perfect again.  Then shared the scallops and lamb shank for dinner.  I'm not usually a huge fan of lamb OR scallops but they were recommended and I was feeling adventurous.  The lamb -  AMAZING.  Melt in your mouth wonderful.  More like a stew than anything with classic fall off the bone tender meat over creamy cheesy polenta.  Their bread is perfect French bread too.  This time of year (winter) there is a festive, buzzy energy with a good crowd but not TOO long of a wait.  Make reservations though for sure.  Oh, and Bobby's across the way in Kierland is a nice spot for a pre-dinner drink (400s Hollywood glamour meets The Jetsons with cool live jazz your parents or grandparents would have enjoyed back in the day).\",\n",
              "        'Am ashamed to say I have filled up my punch card, twice.  Usually get the Hook and Ladder.  But the main reason I keep going back...the magical Coke machine of Awesomeness.',\n",
              "        'Jesse and I had a lovely evening out- we had great dishes and the owner was our server as well. He belts out a lovely Italian birthday song while playing the guitar. Very nice',\n",
              "        'Hit or miss. Pretty much the perfect definition of the \"HoHo\". \\n\\nMy friend and I like to come before shows and for happy hour (super cheap draft beers and wells), the well drinks are usually a little weak but being so cheap I can\\'t blame them.\\n\\nTuesday\\'s are taco day and they have some pretty decent deals. Each day of the week has a \"special\" as far as food goes, it\\'s average to below average bar food.\\n\\nThere are some games and shuffleboard as mentioned in previous reviews. TVs scattered all along the sitting area and a sizeable patio for the smokers.\\n\\nThe bartenders are the real hit or miss part of the experience. I\\'ve been here and had great service, I\\'ve returned to have sub-par service (it wasn\\'t very busy).\\n\\nAll in all, if you\\'re looking for a place to grab some cheap beers (we\\'re talking domestics on tap) before heading into The Clubhouse or heading to somewhere else to spend the night, stop in and check it out at least once.',\n",
              "        'I was not happy with the service department.  Service writer had a poor attitude towards helping me.  Repair work was done well and on budget but it is sad how a greeter can sour you on the whole place.'],\n",
              "       dtype=object),\n",
              " array(['TJ was there for me when my water heater broke and started flooding my garage.  He walked me through fixing it over the phone until he was able to send some help to my house.  Very grateful, and I will continue referring!',\n",
              "        'Cork is an enigma.\\n\\nWhat makes it enigmatic is how damn good it is... Too good for Chandler and maybe too good for the valley.\\n\\nThe portions are just right, and anybody that tells you otherwise is a fat ass or a glutton (I\\'m 6\\'3, 200lbs. and I was satisfied).  If you want large portions though, go to their lunch/brunches.  I\\'ve been there twice and had The Lamb Chop, which was amazing on all levels, and I\\'ve had some serious lamb in rural Bosnia, which has been labeled the best in their country... sure enough cork\\'s stood up blow for blow.  The other entrée I experienced was the buttermilk fried chicken.  I was so amazed by the lamb the first time, that I had to try something more \"simple\" in order to qualify their food in regards to regular places.  Let\\'s just say the chicken was not regular, it was outstanding.  The appetizers are crazy good... can anyone say king crab legs?\\n\\nThe wine selection is top notch.  the booze selection is killin, and they even make this amazing Italian lemon stuff that\\'s like 90% alcohol.  make sure you have a designated driver, because this place will inspire winos and boozers to indulge to their fullest.\\n\\nGo to Cork, because it\\'s that damn good!',\n",
              "        'This is my favorite place to go for Greek food. The owners are from Greece and frequently several family members are present.\\n\\nThe food is delicious, large portions, friendly service. I wish they were located in Surprise, but they are worth the drive.',\n",
              "        'I have been here at least 10 times and have never had a complaint.  The staff is friendly, the food is great, the atmosphere is lovely.  \\n\\nMy favorites - the LB lavosh and spicy cottage cheese.\\n\\nI will continue to come back to Local Breeze again and again!',\n",
              "        'Best prices and a huge selection. I love their single bottles of beer isle where you can mix and match your own 6-pack of beer. Some of my favorite beers I can only find here.'],\n",
              "       dtype=object),\n",
              " array(['O.K. , I actually like this theatre, why ? well because it is usually never crowded. Things are a little old and outdated, but I hate waiting in line, so this works well for me .',\n",
              "        'I had the Soppressata with Aged Provolone & Roasted Peppers.  It was a solid sandwich overall.  The quality of ingredients was pretty good, but the only part that gets me is the price. $8 + tax?  Wow all that \"supply and demand\" stuff I learned in Econ class wasn\\'t a joke.  Worth trying once, but I don\\'t think this is a place I\\'ll be grabbing lunch at on a regular basis.',\n",
              "        \"I am going to give Aunty Chiladas 3 stars only because I have gone there since I was like 10.  This place has been a staple in the valley before the 51 went by etc etc.  It definitely looks like it has been there for a while and needs a good  asthetic cleaning.  Our table and chairs were sticky and it was pretty dirty outside on the patio.  There were chairs and miscellaneous items on the outside of the restaurant and it needs some TLC.\\n\\nChips (flour) are good but salsa has black olives (yuk, personal preference) and the hot stuff tasted like it had vinegar in it.  It has a great patio for daytime drinking.  Overall the food is above average.\\n\\nI ordered the fish tacos and they were good.  My accomplice ordered a combo with your typical rice, beans, enchilada, taco etc.  The food was hot and good.  It didn't have a wow factor but the price was good and worth the money.\\n\\nHoly smokes.......The service was awful.  I am not going to mention any names but it was slow in terms of business and even slower in terms of service.  I hope that they do not correlate but they usually do.  C'mon Aunty you are better than this!!!!!!  \\n\\nIf you live in the neighborhood then it is worth going here.  I probably will not make the drive again.  Good luck Aunt Chiladas.\",\n",
              "        'Fresh and delicious.',\n",
              "        'Delicious, clean, great service! 3 hours later and we are still talking about how delightful this place was. We had the pulled pork and chicken sandwich - both were moist and fresh. Dinner for 2 for 20.00!'],\n",
              "       dtype=object))"
            ]
          },
          "metadata": {},
          "execution_count": 225
        }
      ]
    },
    {
      "cell_type": "code",
      "metadata": {
        "colab": {
          "base_uri": "https://localhost:8080/"
        },
        "id": "DgvhY2Ww8nd7",
        "outputId": "e21ed296-51b8-4d6d-a01f-b83ff3167a84"
      },
      "source": [
        "train_labels[:5], test_labels[:5]"
      ],
      "execution_count": 60,
      "outputs": [
        {
          "output_type": "execute_result",
          "data": {
            "text/plain": [
              "(array([3, 1, 4, 5, 5]), array([4, 4, 1, 1, 3]))"
            ]
          },
          "metadata": {},
          "execution_count": 60
        }
      ]
    },
    {
      "cell_type": "code",
      "metadata": {
        "id": "3vWQ13dxIVuf"
      },
      "source": [
        "#Turn data into TensorFlwo Datasets\n",
        "train_dataset = tf.data.Dataset.from_tensor_slices((train_sentences, train_labels_one_hot))\n",
        "val_dataset = tf.data.Dataset.from_tensor_slices((val_sentences, val_labels_one_hot))\n",
        "test_dataset = tf.data.Dataset.from_tensor_slices((test_sentences, test_labels_one_hot))"
      ],
      "execution_count": 61,
      "outputs": []
    },
    {
      "cell_type": "code",
      "metadata": {
        "id": "_9HYSA9TJpeL"
      },
      "source": [
        "#Prefetch dataset \n",
        "train_dataset = train_dataset.batch(32).prefetch(tf.data.AUTOTUNE)\n",
        "val_dataset = val_dataset.batch(32).prefetch(tf.data.AUTOTUNE)\n",
        "test_dataset = test_dataset.batch(32).prefetch(tf.data.AUTOTUNE)"
      ],
      "execution_count": 62,
      "outputs": []
    },
    {
      "cell_type": "markdown",
      "metadata": {
        "id": "pW-VS-Er_ek7"
      },
      "source": [
        "## Create Text Vectorization layer"
      ]
    },
    {
      "cell_type": "code",
      "metadata": {
        "colab": {
          "base_uri": "https://localhost:8080/"
        },
        "id": "64KRq7vTDfCV",
        "outputId": "a2a486c0-298e-4bf2-891d-b052e9e878cb"
      },
      "source": [
        "#find average number of words in training sentences\n",
        "sent_lens = [len(sentence.split()) for sentence in train_sentences]\n",
        "avg_sent_len = np.mean(sent_lens)\n",
        "avg_sent_len"
      ],
      "execution_count": 121,
      "outputs": [
        {
          "output_type": "execute_result",
          "data": {
            "text/plain": [
              "129.89166666666668"
            ]
          },
          "metadata": {},
          "execution_count": 121
        }
      ]
    },
    {
      "cell_type": "code",
      "metadata": {
        "colab": {
          "base_uri": "https://localhost:8080/",
          "height": 335
        },
        "id": "w7salbAiFVfG",
        "outputId": "fd6d880d-dc45-42e1-df9c-115030b73f8e"
      },
      "source": [
        "import matplotlib.pyplot as plt\n",
        "plt.hist(sent_lens, bins=7)"
      ],
      "execution_count": 64,
      "outputs": [
        {
          "output_type": "execute_result",
          "data": {
            "text/plain": [
              "(array([3873., 1522.,  423.,  116.,   35.,   21.,   10.]),\n",
              " array([  1.        , 135.85714286, 270.71428571, 405.57142857,\n",
              "        540.42857143, 675.28571429, 810.14285714, 945.        ]),\n",
              " <a list of 7 Patch objects>)"
            ]
          },
          "metadata": {},
          "execution_count": 64
        },
        {
          "output_type": "display_data",
          "data": {
            "image/png": "[encoded data removed]",
            "text/plain": [
              "<Figure size 432x288 with 1 Axes>"
            ]
          },
          "metadata": {
            "needs_background": "light"
          }
        }
      ]
    },
    {
      "cell_type": "code",
      "metadata": {
        "colab": {
          "base_uri": "https://localhost:8080/"
        },
        "id": "wzFedExsFqEl",
        "outputId": "d958439c-4de3-4db4-8fa6-7766b6a17ae1"
      },
      "source": [
        "# How long of a sentence covers 95% of the lengths?\n",
        "output_seq_len = int(np.percentile(sent_lens, 95))\n",
        "output_seq_len"
      ],
      "execution_count": 65,
      "outputs": [
        {
          "output_type": "execute_result",
          "data": {
            "text/plain": [
              "352"
            ]
          },
          "metadata": {},
          "execution_count": 65
        }
      ]
    },
    {
      "cell_type": "code",
      "metadata": {
        "id": "Cn9NQ1wZDzFY"
      },
      "source": [
        "import tensorflow as tf\n",
        "from tensorflow.keras.layers.experimental.preprocessing import TextVectorization\n",
        "\n",
        "max_vocab_length = 10000\n",
        "max_length = 200\n",
        "\n",
        "#Use default variables\n",
        "text_vectorizer = TextVectorization(max_tokens=max_vocab_length,\n",
        "                                    output_mode=\"int\",\n",
        "                                    output_sequence_length=max_length)"
      ],
      "execution_count": 128,
      "outputs": []
    },
    {
      "cell_type": "code",
      "metadata": {
        "id": "Fk1kfiXh88DH"
      },
      "source": [
        "#Fit vectorizer to train sentences\n",
        "text_vectorizer.adapt(train_sentences)"
      ],
      "execution_count": 129,
      "outputs": []
    },
    {
      "cell_type": "code",
      "metadata": {
        "colab": {
          "base_uri": "https://localhost:8080/"
        },
        "id": "FQxfZRgM9ELH",
        "outputId": "be1b4f22-1db2-4aed-864a-59fa9174a7e2"
      },
      "source": [
        "#Test vectorizer on random samples\n",
        "random_sentence = random.choice(train_sentences)\n",
        "print(f\"Original text: \\n{random_sentence}\\\n",
        "\\n\\nVectorized version:\")\n",
        "text_vectorizer([random_sentence])"
      ],
      "execution_count": 130,
      "outputs": [
        {
          "output_type": "stream",
          "name": "stdout",
          "text": [
            "Original text: \n",
            "Upper Crust is like Grimaldi's on steroids. The two places have nearly identical decor and the pizza is extremely similar. Upper Crust uses a little more cheese which is nice, but they also use cornmeal on the crust which I am not crazy about. The wings are huge and delicious, especially with the honey BBQ sauce. The meatballs are nothing special (with or without the mozzarella cheese), but Stephanie H would disagree. Happy hour is Monday-Friday 4pm to 7pm and on Wednesdays they offer half off on bottles of wine. \n",
            "\n",
            "Overall, it is a very good pizza and I plan on returning. Next time I'll be giving that pizza cookie a try. I really liked Upper Crust, but Grimaldi's in Old Town is still my favorite for traditional NY style thin crust pizza.\n",
            "\n",
            "Vectorized version:\n"
          ]
        },
        {
          "output_type": "execute_result",
          "data": {
            "text/plain": [
              "<tf.Tensor: shape=(1, 200), dtype=int64, numpy=\n",
              "array([[2502,  612,    9,   36, 3203,   19,    1,    2,  133,  244,   22,\n",
              "        1070, 6754,  419,    3,    2,  127,    9,  554, 1222, 2502,  612,\n",
              "        2780,    4,   77,   67,  123,   63,    9,   78,   16,   20,   72,\n",
              "         376, 9729,   19,    2,  612,   63,    5,  108,   23,  912,   56,\n",
              "           2,  597,   25,  246,    3,  130,  400,   15,    2, 1044,  467,\n",
              "         154,    2, 2242,   25,  258,  265,   15,   46,  306,    2, 1224,\n",
              "         123,   16,    1, 3340,   58, 4699,  149,  188,    9,    1, 4195,\n",
              "           6, 3727,    3,   19, 3578,   20,  475,  327,  126,   19, 1405,\n",
              "           7,  211,  322,   10,    9,    4,   43,   26,  127,    3,    5,\n",
              "         940,   19, 1298,  162,   50,  280,   32,  782,   13,  127, 1134,\n",
              "           4,   98,    5,   55,  390, 2502,  612,   16, 3203,   12,  255,\n",
              "         292,    9,  140,   14,  197,   11, 1056, 1395,  418,  777,  612,\n",
              "         127,    0,    0,    0,    0,    0,    0,    0,    0,    0,    0,\n",
              "           0,    0,    0,    0,    0,    0,    0,    0,    0,    0,    0,\n",
              "           0,    0,    0,    0,    0,    0,    0,    0,    0,    0,    0,\n",
              "           0,    0,    0,    0,    0,    0,    0,    0,    0,    0,    0,\n",
              "           0,    0,    0,    0,    0,    0,    0,    0,    0,    0,    0,\n",
              "           0,    0,    0,    0,    0,    0,    0,    0,    0,    0,    0,\n",
              "           0,    0]])>"
            ]
          },
          "metadata": {},
          "execution_count": 130
        }
      ]
    },
    {
      "cell_type": "code",
      "metadata": {
        "colab": {
          "base_uri": "https://localhost:8080/"
        },
        "id": "Zmy26HEy9PaY",
        "outputId": "cfb93f15-436f-471d-b2c9-ae0257a7c3ce"
      },
      "source": [
        "#Check unique tokens in vocabulary\n",
        "words_in_vocab = text_vectorizer.get_vocabulary()\n",
        "print(f\"Number of words in vocab: {len(words_in_vocab)}\")"
      ],
      "execution_count": 69,
      "outputs": [
        {
          "output_type": "stream",
          "name": "stdout",
          "text": [
            "Number of words in vocab: 10000\n"
          ]
        }
      ]
    },
    {
      "cell_type": "markdown",
      "metadata": {
        "id": "dn9pjA1Y9_EU"
      },
      "source": [
        "## Create Embedding layer"
      ]
    },
    {
      "cell_type": "code",
      "metadata": {
        "id": "RY-9Ssd5-KQQ"
      },
      "source": [
        "from tensorflow.keras import layers\n",
        "\n",
        "embedding = layers.Embedding(input_dim=max_vocab_length,\n",
        "                             output_dim=128,\n",
        "                             embeddings_initializer=\"uniform\",\n",
        "                             input_length=max_length)"
      ],
      "execution_count": 70,
      "outputs": []
    },
    {
      "cell_type": "code",
      "metadata": {
        "colab": {
          "base_uri": "https://localhost:8080/"
        },
        "id": "pBNV0eu_-ZmV",
        "outputId": "a9bba42b-d4f4-4d44-9232-35b3bc57fdfb"
      },
      "source": [
        "# Test Embedding layer on random samples\n",
        "random_sentence = random.choice(train_sentences)\n",
        "print(f\"Original text: \\n{random_sentence}\\\n",
        "\\n\\nEmbedded version:\")\n",
        "embedding(text_vectorizer([random_sentence]))"
      ],
      "execution_count": 71,
      "outputs": [
        {
          "output_type": "stream",
          "name": "stdout",
          "text": [
            "Original text: \n",
            "I wrote a less than stellar review about this place some time ago and decided that my prior awful experience might have been a fluke and as I love great BBQ, decided to give them another go .....  I was right the first time!\n",
            "\n",
            "As before, the food was ho-hum at best, the prices too high vs the product quality but the death blow to me was once again, their customer service or shall I say lack of customer service?\n",
            "\n",
            "We had to ask the bartender if we could get a drink (That's odd) and all the wait staff acted like they were doing us a favor by waiting on us.\n",
            "\n",
            "To top it all off, they had little to no air conditioning so it was brutal to sit through a combination of bad food, crummy service and high heat!!!\n",
            "\n",
            "For me, this place is officially off the books and we sure won't be back. Lesson # 1: \"Your in the service industry, try and acy like it\"\n",
            "\n",
            "As a BBQ fan, I'll try elsewhere ...............\n",
            "\n",
            "Embedded version:\n"
          ]
        },
        {
          "output_type": "execute_result",
          "data": {
            "text/plain": [
              "<tf.Tensor: shape=(1, 347, 128), dtype=float32, numpy=\n",
              "array([[[-0.04692311,  0.03688704,  0.03419974, ..., -0.01339313,\n",
              "         -0.02113156,  0.03712262],\n",
              "        [-0.00368843,  0.03692389,  0.03669659, ..., -0.03648822,\n",
              "         -0.01609354, -0.04189051],\n",
              "        [-0.01889203, -0.01174212,  0.00214241, ..., -0.02437687,\n",
              "          0.04896649, -0.03523253],\n",
              "        ...,\n",
              "        [ 0.00661311,  0.00503385,  0.01214869, ...,  0.00058261,\n",
              "          0.0183217 ,  0.00627559],\n",
              "        [ 0.00661311,  0.00503385,  0.01214869, ...,  0.00058261,\n",
              "          0.0183217 ,  0.00627559],\n",
              "        [ 0.00661311,  0.00503385,  0.01214869, ...,  0.00058261,\n",
              "          0.0183217 ,  0.00627559]]], dtype=float32)>"
            ]
          },
          "metadata": {},
          "execution_count": 71
        }
      ]
    },
    {
      "cell_type": "markdown",
      "metadata": {
        "id": "xM_WEOAi-0R0"
      },
      "source": [
        "## Modelling experiments"
      ]
    },
    {
      "cell_type": "code",
      "metadata": {
        "id": "zJa71MwL_Y-C"
      },
      "source": [
        "# Evaluation function\n",
        "\n",
        "from sklearn.metrics import accuracy_score, precision_recall_fscore_support\n",
        "\n",
        "def calculate_results(y_true, y_pred):\n",
        "  \"\"\"\n",
        "  Calculates model accuracy, precision, recall and f1 score of a binary classification model.\n",
        "\n",
        "  Args:\n",
        "  -----\n",
        "  y_true = true labels in the form of a 1D array\n",
        "  y_pred = predicted labels in the form of a 1D array\n",
        "\n",
        "  Returns a dictionary of accuracy, precision, recall, f1-score.\n",
        "  \"\"\"\n",
        "  # Calculate model accuracy\n",
        "  model_accuracy = accuracy_score(y_true, y_pred) * 100\n",
        "  # Calculate model precision, recall and f1 score using \"weighted\" average\n",
        "  model_precision, model_recall, model_f1, _ = precision_recall_fscore_support(y_true, y_pred, average=\"weighted\")\n",
        "  model_results = {\"accuracy\": model_accuracy,\n",
        "                  \"precision\": model_precision,\n",
        "                  \"recall\": model_recall,\n",
        "                  \"f1\": model_f1}\n",
        "  return model_results"
      ],
      "execution_count": 72,
      "outputs": []
    },
    {
      "cell_type": "markdown",
      "metadata": {
        "id": "SbBKYPhp_cv8"
      },
      "source": [
        "### Model 1: Dense"
      ]
    },
    {
      "cell_type": "code",
      "metadata": {
        "id": "YozW-6XABj5H"
      },
      "source": [
        "inputs = layers.Input(shape=(1,), dtype=\"string\")\n",
        "x = text_vectorizer(inputs)\n",
        "x = embedding(x)\n",
        "x = layers.GlobalAveragePooling1D()(x)\n",
        "outputs = layers.Dense(5, activation=\"softmax\")(x)\n",
        "model_1 = tf.keras.Model(inputs, outputs)"
      ],
      "execution_count": 73,
      "outputs": []
    },
    {
      "cell_type": "code",
      "metadata": {
        "id": "O0XmZArkB9Dm"
      },
      "source": [
        "model_1.compile(loss=\"categorical_crossentropy\", optimizer=\"Adam\", metrics=[\"accuracy\"])"
      ],
      "execution_count": 74,
      "outputs": []
    },
    {
      "cell_type": "code",
      "metadata": {
        "id": "Uv3daW0rDAag"
      },
      "source": [
        "history_model_1 = model_1.fit(train_dataset,\n",
        "                              epochs=500,\n",
        "                              verbose=0,\n",
        "                              validation_data=val_dataset,\n",
        "                              callbacks=[tf.keras.callbacks.ReduceLROnPlateau(monitor=\"val_loss\", patience=5, verbose=0),\n",
        "                                         tf.keras.callbacks.EarlyStopping(monitor=\"val_loss\", patience=10, restore_best_weights=True)])"
      ],
      "execution_count": 75,
      "outputs": []
    },
    {
      "cell_type": "code",
      "metadata": {
        "id": "6fAV002aDMDW"
      },
      "source": [
        "def plot_training_curve(history):\n",
        "  plt.figure(figsize=(10,7))\n",
        "  loss = history.history[\"loss\"]\n",
        "  val_loss = history.history[\"val_loss\"]\n",
        "  accuracy = history.history[\"accuracy\"]\n",
        "  val_accuracy = history.history[\"val_accuracy\"]\n",
        "  plt.plot(loss, label=\"loss\")\n",
        "  plt.plot(val_loss, label=\"val_loss\")\n",
        "  plt.plot(accuracy, label=\"accuracy\")\n",
        "  plt.plot(val_accuracy, label=\"val_accuracy\")\n",
        "  plt.legend()\n",
        "  plt.title(\"Training curve\")"
      ],
      "execution_count": 140,
      "outputs": []
    },
    {
      "cell_type": "code",
      "metadata": {
        "colab": {
          "base_uri": "https://localhost:8080/",
          "height": 444
        },
        "id": "aTUA10Alm5lm",
        "outputId": "14ed4b00-9497-49a4-b03d-478685d2e2d6"
      },
      "source": [
        "plot_training_curve(history_model_1)"
      ],
      "execution_count": 141,
      "outputs": [
        {
          "output_type": "display_data",
          "data": {
            "image/png": "[encoded data removed]",
            "text/plain": [
              "<Figure size 720x504 with 1 Axes>"
            ]
          },
          "metadata": {
            "needs_background": "light"
          }
        }
      ]
    },
    {
      "cell_type": "code",
      "metadata": {
        "colab": {
          "base_uri": "https://localhost:8080/"
        },
        "id": "LpyUs5JBIG3T",
        "outputId": "fcb2ead5-39db-4df7-e03f-8f4fe7e2c52b"
      },
      "source": [
        "#Evaluate\n",
        "model_1.evaluate(test_dataset)"
      ],
      "execution_count": 77,
      "outputs": [
        {
          "output_type": "stream",
          "name": "stdout",
          "text": [
            "63/63 [==============================] - 0s 6ms/step - loss: 1.0721 - accuracy: 0.5280\n"
          ]
        },
        {
          "output_type": "execute_result",
          "data": {
            "text/plain": [
              "[1.072144865989685, 0.527999997138977]"
            ]
          },
          "metadata": {},
          "execution_count": 77
        }
      ]
    },
    {
      "cell_type": "code",
      "metadata": {
        "colab": {
          "base_uri": "https://localhost:8080/"
        },
        "id": "tcrtnzLbHk6b",
        "outputId": "e786868b-2bc3-409f-ec1c-1002a62d3ac2"
      },
      "source": [
        "#Make predictions and get results\n",
        "model_1_pred_probs = model_1.predict(test_dataset)\n",
        "model_1_preds = tf.argmax(model_1_pred_probs, axis=1)\n",
        "model_1_results = calculate_results(test_labels, model_1_preds)\n",
        "model_1_results"
      ],
      "execution_count": 78,
      "outputs": [
        {
          "output_type": "stream",
          "name": "stderr",
          "text": [
            "/usr/local/lib/python3.7/dist-packages/sklearn/metrics/_classification.py:1272: UndefinedMetricWarning: Precision and F-score are ill-defined and being set to 0.0 in labels with no predicted samples. Use `zero_division` parameter to control this behavior.\n",
            "  _warn_prf(average, modifier, msg_start, len(result))\n",
            "/usr/local/lib/python3.7/dist-packages/sklearn/metrics/_classification.py:1272: UndefinedMetricWarning: Recall and F-score are ill-defined and being set to 0.0 in labels with no true samples. Use `zero_division` parameter to control this behavior.\n",
            "  _warn_prf(average, modifier, msg_start, len(result))\n"
          ]
        },
        {
          "output_type": "execute_result",
          "data": {
            "text/plain": [
              "{'accuracy': 22.55,\n",
              " 'f1': 0.1861197036479101,\n",
              " 'precision': 0.1709052590363566,\n",
              " 'recall': 0.2255}"
            ]
          },
          "metadata": {},
          "execution_count": 78
        }
      ]
    },
    {
      "cell_type": "markdown",
      "metadata": {
        "id": "TlE0jbUWMnwZ"
      },
      "source": [
        "### Model 2: Conv1D"
      ]
    },
    {
      "cell_type": "code",
      "metadata": {
        "id": "xn-wO9VONj0k"
      },
      "source": [
        "#Built the model\n",
        "inputs = layers.Input(shape=(1,), dtype=tf.string)\n",
        "text_vectors = text_vectorizer(inputs)\n",
        "embeddings = embedding(text_vectors)\n",
        "x = layers.Conv1D(64, kernel_size=5, padding=\"same\", activation=\"relu\")(embeddings)\n",
        "x = layers.Conv1D(64, kernel_size=5, padding=\"same\", activation=\"relu\")(embeddings)\n",
        "x = layers.GlobalAveragePooling1D()(x)\n",
        "outputs = layers.Dense(5, activation=\"softmax\")(x)\n",
        "model_2 = tf.keras.Model(inputs, outputs)"
      ],
      "execution_count": 79,
      "outputs": []
    },
    {
      "cell_type": "code",
      "metadata": {
        "id": "8lKwqGMXOrLO"
      },
      "source": [
        "#Compile the model \n",
        "model_2.compile(loss=\"categorical_crossentropy\", optimizer=\"Adam\", metrics=[\"accuracy\"])"
      ],
      "execution_count": 80,
      "outputs": []
    },
    {
      "cell_type": "code",
      "metadata": {
        "colab": {
          "base_uri": "https://localhost:8080/"
        },
        "id": "jSE069K7PB9y",
        "outputId": "9bf9d0d1-29a5-408a-ef92-7e107c6d9953"
      },
      "source": [
        "#Fit the model \n",
        "%%time\n",
        "history_model_2 = model_2.fit(train_dataset,\n",
        "                              epochs=500,\n",
        "                              verbose=0,\n",
        "                              validation_data=val_dataset,\n",
        "                              callbacks=[tf.keras.callbacks.ReduceLROnPlateau(monitor=\"val_loss\", patience=5, verbose=0),\n",
        "                                         tf.keras.callbacks.EarlyStopping(monitor=\"val_loss\", patience=10, restore_best_weights=True)])"
      ],
      "execution_count": 81,
      "outputs": [
        {
          "output_type": "stream",
          "name": "stdout",
          "text": [
            "CPU times: user 27.4 s, sys: 3.57 s, total: 30.9 s\n",
            "Wall time: 25.6 s\n"
          ]
        }
      ]
    },
    {
      "cell_type": "code",
      "metadata": {
        "colab": {
          "base_uri": "https://localhost:8080/",
          "height": 461
        },
        "id": "jfX-Jyv0POam",
        "outputId": "a694e657-28d6-4041-83e9-6412c2d6e3e4"
      },
      "source": [
        "plt.figure(figsize=(10,7))\n",
        "loss = history_model_2.history[\"loss\"]\n",
        "val_loss = history_model_2.history[\"val_loss\"]\n",
        "accuracy = history_model_2.history[\"accuracy\"]\n",
        "val_accuracy = history_model_2.history[\"val_accuracy\"]\n",
        "plt.plot(loss, label=\"loss\")\n",
        "plt.plot(val_loss, label=\"val_loss\")\n",
        "plt.plot(accuracy, label=\"accuracy\")\n",
        "plt.plot(val_accuracy, label=\"val_accuracy\")\n",
        "plt.legend()\n",
        "plt.title(\"Training curve\")"
      ],
      "execution_count": 82,
      "outputs": [
        {
          "output_type": "execute_result",
          "data": {
            "text/plain": [
              "Text(0.5, 1.0, 'Training curve')"
            ]
          },
          "metadata": {},
          "execution_count": 82
        },
        {
          "output_type": "display_data",
          "data": {
            "image/png": "[encoded data removed]",
            "text/plain": [
              "<Figure size 720x504 with 1 Axes>"
            ]
          },
          "metadata": {
            "needs_background": "light"
          }
        }
      ]
    },
    {
      "cell_type": "code",
      "metadata": {
        "colab": {
          "base_uri": "https://localhost:8080/"
        },
        "id": "UVHB1UmNPSS9",
        "outputId": "29df4e6c-64b0-4bd1-ceab-4185cfa1538b"
      },
      "source": [
        "#Evaluate\n",
        "model_2.evaluate(test_dataset)"
      ],
      "execution_count": 83,
      "outputs": [
        {
          "output_type": "stream",
          "name": "stdout",
          "text": [
            "63/63 [==============================] - 0s 7ms/step - loss: 1.0885 - accuracy: 0.5350\n"
          ]
        },
        {
          "output_type": "execute_result",
          "data": {
            "text/plain": [
              "[1.088480830192566, 0.5350000262260437]"
            ]
          },
          "metadata": {},
          "execution_count": 83
        }
      ]
    },
    {
      "cell_type": "code",
      "metadata": {
        "colab": {
          "base_uri": "https://localhost:8080/"
        },
        "id": "ArUddsvUPZf_",
        "outputId": "8f09897c-0718-4629-8d9c-26e363dd7310"
      },
      "source": [
        "#Make predictions and get results\n",
        "model_2_pred_probs = model_2.predict(test_dataset)\n",
        "model_2_preds = tf.argmax(model_2_pred_probs, axis=1)\n",
        "model_2_results = calculate_results(test_labels, model_2_preds)\n",
        "model_2_results"
      ],
      "execution_count": 84,
      "outputs": [
        {
          "output_type": "stream",
          "name": "stderr",
          "text": [
            "/usr/local/lib/python3.7/dist-packages/sklearn/metrics/_classification.py:1272: UndefinedMetricWarning: Precision and F-score are ill-defined and being set to 0.0 in labels with no predicted samples. Use `zero_division` parameter to control this behavior.\n",
            "  _warn_prf(average, modifier, msg_start, len(result))\n",
            "/usr/local/lib/python3.7/dist-packages/sklearn/metrics/_classification.py:1272: UndefinedMetricWarning: Recall and F-score are ill-defined and being set to 0.0 in labels with no true samples. Use `zero_division` parameter to control this behavior.\n",
            "  _warn_prf(average, modifier, msg_start, len(result))\n"
          ]
        },
        {
          "output_type": "execute_result",
          "data": {
            "text/plain": [
              "{'accuracy': 22.3,\n",
              " 'f1': 0.1833282045533476,\n",
              " 'precision': 0.16384374509040986,\n",
              " 'recall': 0.223}"
            ]
          },
          "metadata": {},
          "execution_count": 84
        }
      ]
    },
    {
      "cell_type": "markdown",
      "metadata": {
        "id": "uJgOXyyxS2rF"
      },
      "source": [
        "### Model 3: Feature extraction with pretrained token embeddings"
      ]
    },
    {
      "cell_type": "code",
      "metadata": {
        "id": "e9USR2sETJAB"
      },
      "source": [
        "import tensorflow_hub as hub\n",
        "tf_hub_embedding_layer = hub.KerasLayer(\"https://tfhub.dev/google/universal-sentence-encoder/4\",\n",
        "                                        trainable=False,\n",
        "                                        name=\"universal_sentence_encoder\")"
      ],
      "execution_count": 85,
      "outputs": []
    },
    {
      "cell_type": "code",
      "metadata": {
        "id": "tOjEuuAgTVHM"
      },
      "source": [
        "#Build the model \n",
        "inputs = layers.Input(shape=[], dtype=tf.string)\n",
        "pretrained_embedding = tf_hub_embedding_layer(inputs)\n",
        "x = layers.Lambda(lambda x: tf.expand_dims(x, axis=1))(pretrained_embedding)\n",
        "x = layers.GRU(128)(x)\n",
        "x = layers.Dense(128, activation=\"relu\")(x)\n",
        "x = layers.Dense(64, activation=\"relu\")(x)\n",
        "outputs = layers.Dense(5, activation=\"softmax\")(x)\n",
        "model_3 = tf.keras.Model(inputs, outputs)"
      ],
      "execution_count": 134,
      "outputs": []
    },
    {
      "cell_type": "code",
      "metadata": {
        "id": "bfErbHk8UoTV"
      },
      "source": [
        "#Compile the model \n",
        "model_3.compile(loss=\"categorical_crossentropy\", metrics=[\"accuracy\"], optimizer=\"Adam\")"
      ],
      "execution_count": 135,
      "outputs": []
    },
    {
      "cell_type": "code",
      "metadata": {
        "colab": {
          "base_uri": "https://localhost:8080/"
        },
        "id": "a98KI7O2Ux6M",
        "outputId": "9ece46f0-1526-48eb-8e89-d30a3cea9b83"
      },
      "source": [
        "%%time\n",
        "#Fit the model \n",
        "history_model_3 = model_3.fit(train_dataset, \n",
        "                              epochs=500, \n",
        "                              verbose=0,\n",
        "                              validation_data=val_dataset,\n",
        "                              callbacks=[tf.keras.callbacks.ReduceLROnPlateau(monitor=\"val_loss\", patience=5, verbose=0),\n",
        "                                         tf.keras.callbacks.EarlyStopping(monitor=\"val_loss\", patience=10, restore_best_weights=True)])"
      ],
      "execution_count": 136,
      "outputs": [
        {
          "output_type": "stream",
          "name": "stdout",
          "text": [
            "CPU times: user 3min 16s, sys: 17.2 s, total: 3min 34s\n",
            "Wall time: 2min 50s\n"
          ]
        }
      ]
    },
    {
      "cell_type": "code",
      "metadata": {
        "colab": {
          "base_uri": "https://localhost:8080/",
          "height": 461
        },
        "id": "JCFhrCK3VB29",
        "outputId": "5569bf65-64c9-44c2-8977-a60bcc083a54"
      },
      "source": [
        "plt.figure(figsize=(10,7))\n",
        "loss = history_model_3.history[\"loss\"]\n",
        "val_loss = history_model_3.history[\"val_loss\"]\n",
        "accuracy = history_model_3.history[\"accuracy\"]\n",
        "val_accuracy = history_model_3.history[\"val_accuracy\"]\n",
        "plt.plot(loss, label=\"loss\")\n",
        "plt.plot(val_loss, label=\"val_loss\")\n",
        "plt.plot(accuracy, label=\"accuracy\")\n",
        "plt.plot(val_accuracy, label=\"val_accuracy\")\n",
        "plt.legend()\n",
        "plt.title(\"Training curve\")"
      ],
      "execution_count": 137,
      "outputs": [
        {
          "output_type": "execute_result",
          "data": {
            "text/plain": [
              "Text(0.5, 1.0, 'Training curve')"
            ]
          },
          "metadata": {},
          "execution_count": 137
        },
        {
          "output_type": "display_data",
          "data": {
            "image/png": "[encoded data removed]",
            "text/plain": [
              "<Figure size 720x504 with 1 Axes>"
            ]
          },
          "metadata": {
            "needs_background": "light"
          }
        }
      ]
    },
    {
      "cell_type": "code",
      "metadata": {
        "colab": {
          "base_uri": "https://localhost:8080/"
        },
        "id": "2aK5ybJmVHki",
        "outputId": "669e2db1-4315-45cc-bbb9-e44dc75cd5c2"
      },
      "source": [
        "#Evaluate\n",
        "model_3.evaluate(test_dataset)"
      ],
      "execution_count": 138,
      "outputs": [
        {
          "output_type": "stream",
          "name": "stdout",
          "text": [
            "63/63 [==============================] - 3s 41ms/step - loss: 1.0590 - accuracy: 0.5165\n"
          ]
        },
        {
          "output_type": "execute_result",
          "data": {
            "text/plain": [
              "[1.0589864253997803, 0.5164999961853027]"
            ]
          },
          "metadata": {},
          "execution_count": 138
        }
      ]
    },
    {
      "cell_type": "code",
      "metadata": {
        "colab": {
          "base_uri": "https://localhost:8080/"
        },
        "id": "bQc44XJVVLqp",
        "outputId": "636a8c26-4689-4965-d5bb-958376371b82"
      },
      "source": [
        "#Make predictions and get results\n",
        "model_3_pred_probs = model_3.predict(test_dataset)\n",
        "model_3_preds = tf.argmax(model_3_pred_probs, axis=1)\n",
        "model_3_results = calculate_results(test_labels, model_3_preds)\n",
        "model_3_results"
      ],
      "execution_count": 139,
      "outputs": [
        {
          "output_type": "stream",
          "name": "stderr",
          "text": [
            "/usr/local/lib/python3.7/dist-packages/sklearn/metrics/_classification.py:1272: UndefinedMetricWarning: Precision and F-score are ill-defined and being set to 0.0 in labels with no predicted samples. Use `zero_division` parameter to control this behavior.\n",
            "  _warn_prf(average, modifier, msg_start, len(result))\n",
            "/usr/local/lib/python3.7/dist-packages/sklearn/metrics/_classification.py:1272: UndefinedMetricWarning: Recall and F-score are ill-defined and being set to 0.0 in labels with no true samples. Use `zero_division` parameter to control this behavior.\n",
            "  _warn_prf(average, modifier, msg_start, len(result))\n"
          ]
        },
        {
          "output_type": "execute_result",
          "data": {
            "text/plain": [
              "{'accuracy': 20.849999999999998,\n",
              " 'f1': 0.17758291162797374,\n",
              " 'precision': 0.16607902920296078,\n",
              " 'recall': 0.2085}"
            ]
          },
          "metadata": {},
          "execution_count": 139
        }
      ]
    },
    {
      "cell_type": "code",
      "metadata": {
        "id": "_8ea8gkoVPkn"
      },
      "source": [
        ""
      ],
      "execution_count": 91,
      "outputs": []
    }
  ]
}