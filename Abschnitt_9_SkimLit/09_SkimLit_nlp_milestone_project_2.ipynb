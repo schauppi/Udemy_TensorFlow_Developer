{
  "nbformat": 4,
  "nbformat_minor": 0,
  "metadata": {
    "colab": {
      "name": "09_SkimLit_nlp_milestone_project_2.ipynb",
      "provenance": [],
      "authorship_tag": "ABX9TyOV1J4Bk5dgRdabwNHq6yA8",
      "include_colab_link": true
    },
    "kernelspec": {
      "name": "python3",
      "display_name": "Python 3"
    },
    "language_info": {
      "name": "python"
    },
    "accelerator": "GPU"
  },
  "cells": [
    {
      "cell_type": "markdown",
      "metadata": {
        "id": "view-in-github",
        "colab_type": "text"
      },
      "source": [
        "<a href=\"https://colab.research.google.com/github/schauppi/Udemy_TensorFlow_Developer/blob/main/Abschnitt_9_SkimLit/09_SkimLit_nlp_milestone_project_2.ipynb\" target=\"_parent\"><img src=\"https://colab.research.google.com/assets/colab-badge.svg\" alt=\"Open In Colab\"/></a>"
      ]
    },
    {
      "cell_type": "markdown",
      "metadata": {
        "id": "eeMH6uqoR25o"
      },
      "source": [
        "# Milestone Project 2: SkimLit\n",
        "\n",
        "The purpose of this notebook is to build an NLP model to make reading medical abstracts easier.\n",
        "\n"
      ]
    },
    {
      "cell_type": "markdown",
      "metadata": {
        "id": "RA51J5SPRu2T"
      },
      "source": [
        "## Confirm access to a GPU"
      ]
    },
    {
      "cell_type": "code",
      "metadata": {
        "colab": {
          "base_uri": "https://localhost:8080/"
        },
        "id": "gBiWiE2HT1nk",
        "outputId": "6620cf27-4c57-4872-9c30-b1d9869e7dc5"
      },
      "source": [
        "!nvidia-smi"
      ],
      "execution_count": 1,
      "outputs": [
        {
          "output_type": "stream",
          "text": [
            "Fri Aug 20 08:54:49 2021       \n",
            "+-----------------------------------------------------------------------------+\n",
            "| NVIDIA-SMI 470.57.02    Driver Version: 460.32.03    CUDA Version: 11.2     |\n",
            "|-------------------------------+----------------------+----------------------+\n",
            "| GPU  Name        Persistence-M| Bus-Id        Disp.A | Volatile Uncorr. ECC |\n",
            "| Fan  Temp  Perf  Pwr:Usage/Cap|         Memory-Usage | GPU-Util  Compute M. |\n",
            "|                               |                      |               MIG M. |\n",
            "|===============================+======================+======================|\n",
            "|   0  Tesla T4            Off  | 00000000:00:04.0 Off |                    0 |\n",
            "| N/A   35C    P8     9W /  70W |      0MiB / 15109MiB |      0%      Default |\n",
            "|                               |                      |                  N/A |\n",
            "+-------------------------------+----------------------+----------------------+\n",
            "                                                                               \n",
            "+-----------------------------------------------------------------------------+\n",
            "| Processes:                                                                  |\n",
            "|  GPU   GI   CI        PID   Type   Process name                  GPU Memory |\n",
            "|        ID   ID                                                   Usage      |\n",
            "|=============================================================================|\n",
            "|  No running processes found                                                 |\n",
            "+-----------------------------------------------------------------------------+\n"
          ],
          "name": "stdout"
        }
      ]
    },
    {
      "cell_type": "markdown",
      "metadata": {
        "id": "R_UewuBJT24X"
      },
      "source": [
        "## Get data\n",
        "\n",
        "Since we´ll be replicating the paper above (PubMed 200k RCT), let´s download the dataset they used.\n",
        "\n",
        "We can do so from the authors GitHub: https://github.com/Franck-Dernoncourt/pubmed-rct.git"
      ]
    },
    {
      "cell_type": "code",
      "metadata": {
        "colab": {
          "base_uri": "https://localhost:8080/"
        },
        "id": "81EYeWqjUYHz",
        "outputId": "1324fa17-5a90-44ea-90fc-ae1702970b23"
      },
      "source": [
        "!git clone https://github.com/Franck-Dernoncourt/pubmed-rct.git\n",
        "!ls pubmed-rct"
      ],
      "execution_count": 2,
      "outputs": [
        {
          "output_type": "stream",
          "text": [
            "Cloning into 'pubmed-rct'...\n",
            "remote: Enumerating objects: 33, done.\u001b[K\n",
            "remote: Counting objects: 100% (3/3), done.\u001b[K\n",
            "remote: Compressing objects: 100% (3/3), done.\u001b[K\n",
            "remote: Total 33 (delta 0), reused 0 (delta 0), pack-reused 30\u001b[K\n",
            "Unpacking objects: 100% (33/33), done.\n",
            "PubMed_200k_RCT\n",
            "PubMed_200k_RCT_numbers_replaced_with_at_sign\n",
            "PubMed_20k_RCT\n",
            "PubMed_20k_RCT_numbers_replaced_with_at_sign\n",
            "README.md\n"
          ],
          "name": "stdout"
        }
      ]
    },
    {
      "cell_type": "code",
      "metadata": {
        "colab": {
          "base_uri": "https://localhost:8080/"
        },
        "id": "PkyLywEcUgSG",
        "outputId": "b6582cd8-c05e-46e0-ee2e-8bb2c9003193"
      },
      "source": [
        "# Check what files are in the PubMed_20K dataset \n",
        "!ls pubmed-rct/PubMed_20k_RCT_numbers_replaced_with_at_sign/"
      ],
      "execution_count": 3,
      "outputs": [
        {
          "output_type": "stream",
          "text": [
            "dev.txt  test.txt  train.txt\n"
          ],
          "name": "stdout"
        }
      ]
    },
    {
      "cell_type": "code",
      "metadata": {
        "id": "NY4Fo5RFVCHd"
      },
      "source": [
        "# Start our experiments using the 20k dataset with numbers replaced by \"@\" sign \n",
        "data_dir = \"/content/pubmed-rct/PubMed_20k_RCT_numbers_replaced_with_at_sign/\""
      ],
      "execution_count": 4,
      "outputs": []
    },
    {
      "cell_type": "code",
      "metadata": {
        "id": "FmlydIZM4FY8",
        "colab": {
          "base_uri": "https://localhost:8080/"
        },
        "outputId": "590a4f18-190d-4352-8168-7d6ac13724f2"
      },
      "source": [
        "#Check all of the filenames in the target directory\n",
        "import os\n",
        "filenames = [data_dir + filename for filename in os.listdir(data_dir)]\n",
        "filenames"
      ],
      "execution_count": 5,
      "outputs": [
        {
          "output_type": "execute_result",
          "data": {
            "text/plain": [
              "['/content/pubmed-rct/PubMed_20k_RCT_numbers_replaced_with_at_sign/test.txt',\n",
              " '/content/pubmed-rct/PubMed_20k_RCT_numbers_replaced_with_at_sign/dev.txt',\n",
              " '/content/pubmed-rct/PubMed_20k_RCT_numbers_replaced_with_at_sign/train.txt']"
            ]
          },
          "metadata": {},
          "execution_count": 5
        }
      ]
    },
    {
      "cell_type": "markdown",
      "metadata": {
        "id": "cZXePhPy4Pkh"
      },
      "source": [
        "## Preprocess data\n",
        "\n",
        "Now we´ve gpt some text data, it´s time to become one with it.\n",
        "\n",
        "And one of the best ways to become on with the data is to...\n",
        "\n",
        "> Visualize, visualize, visualize\n",
        "\n",
        "So with that in mind, let´s write a function to read in all of the lines on a target text file."
      ]
    },
    {
      "cell_type": "code",
      "metadata": {
        "id": "qGXU8pdD5LhE"
      },
      "source": [
        "# Create function to read lines of a document\n",
        "def get_lines(filename):\n",
        "  \"\"\"\n",
        "  Read filename (a text filename) and returns the lines of text as a list\n",
        "\n",
        "  Args:\n",
        "    filename: a string containing the target filepath.\n",
        "\n",
        "  Returns:\n",
        "    A list of strings with one string per line from the target filename.\n",
        "  \"\"\"\n",
        "  with open(filename, \"r\") as f:\n",
        "    return f.readlines()"
      ],
      "execution_count": 6,
      "outputs": []
    },
    {
      "cell_type": "code",
      "metadata": {
        "id": "X1jW3B6r5x2n",
        "colab": {
          "base_uri": "https://localhost:8080/"
        },
        "outputId": "33b50fa2-8464-4ead-d5fd-5b1e5b0f0ec5"
      },
      "source": [
        "# Let´s read in the training lines\n",
        "train_lines = get_lines(data_dir+\"train.txt\") #read the lines with the training file\n",
        "train_lines[:20]"
      ],
      "execution_count": 7,
      "outputs": [
        {
          "output_type": "execute_result",
          "data": {
            "text/plain": [
              "['###24293578\\n',\n",
              " 'OBJECTIVE\\tTo investigate the efficacy of @ weeks of daily low-dose oral prednisolone in improving pain , mobility , and systemic low-grade inflammation in the short term and whether the effect would be sustained at @ weeks in older adults with moderate to severe knee osteoarthritis ( OA ) .\\n',\n",
              " 'METHODS\\tA total of @ patients with primary knee OA were randomized @:@ ; @ received @ mg/day of prednisolone and @ received placebo for @ weeks .\\n',\n",
              " 'METHODS\\tOutcome measures included pain reduction and improvement in function scores and systemic inflammation markers .\\n',\n",
              " 'METHODS\\tPain was assessed using the visual analog pain scale ( @-@ mm ) .\\n',\n",
              " 'METHODS\\tSecondary outcome measures included the Western Ontario and McMaster Universities Osteoarthritis Index scores , patient global assessment ( PGA ) of the severity of knee OA , and @-min walk distance ( @MWD ) .\\n',\n",
              " 'METHODS\\tSerum levels of interleukin @ ( IL-@ ) , IL-@ , tumor necrosis factor ( TNF ) - , and high-sensitivity C-reactive protein ( hsCRP ) were measured .\\n',\n",
              " 'RESULTS\\tThere was a clinically relevant reduction in the intervention group compared to the placebo group for knee pain , physical function , PGA , and @MWD at @ weeks .\\n',\n",
              " 'RESULTS\\tThe mean difference between treatment arms ( @ % CI ) was @ ( @-@ @ ) , p < @ ; @ ( @-@ @ ) , p < @ ; @ ( @-@ @ ) , p < @ ; and @ ( @-@ @ ) , p < @ , respectively .\\n',\n",
              " 'RESULTS\\tFurther , there was a clinically relevant reduction in the serum levels of IL-@ , IL-@ , TNF - , and hsCRP at @ weeks in the intervention group when compared to the placebo group .\\n',\n",
              " 'RESULTS\\tThese differences remained significant at @ weeks .\\n',\n",
              " 'RESULTS\\tThe Outcome Measures in Rheumatology Clinical Trials-Osteoarthritis Research Society International responder rate was @ % in the intervention group and @ % in the placebo group ( p < @ ) .\\n',\n",
              " 'CONCLUSIONS\\tLow-dose oral prednisolone had both a short-term and a longer sustained effect resulting in less knee pain , better physical function , and attenuation of systemic inflammation in older patients with knee OA ( ClinicalTrials.gov identifier NCT@ ) .\\n',\n",
              " '\\n',\n",
              " '###24854809\\n',\n",
              " 'BACKGROUND\\tEmotional eating is associated with overeating and the development of obesity .\\n',\n",
              " 'BACKGROUND\\tYet , empirical evidence for individual ( trait ) differences in emotional eating and cognitive mechanisms that contribute to eating during sad mood remain equivocal .\\n',\n",
              " 'OBJECTIVE\\tThe aim of this study was to test if attention bias for food moderates the effect of self-reported emotional eating during sad mood ( vs neutral mood ) on actual food intake .\\n',\n",
              " 'OBJECTIVE\\tIt was expected that emotional eating is predictive of elevated attention for food and higher food intake after an experimentally induced sad mood and that attentional maintenance on food predicts food intake during a sad versus a neutral mood .\\n',\n",
              " 'METHODS\\tParticipants ( N = @ ) were randomly assigned to one of the two experimental mood induction conditions ( sad/neutral ) .\\n']"
            ]
          },
          "metadata": {},
          "execution_count": 7
        }
      ]
    },
    {
      "cell_type": "code",
      "metadata": {
        "id": "JHOoX1Ra6DlF",
        "colab": {
          "base_uri": "https://localhost:8080/"
        },
        "outputId": "ce409a8a-e02c-4213-838b-ef0b51ab91f9"
      },
      "source": [
        "len(train_lines)"
      ],
      "execution_count": 8,
      "outputs": [
        {
          "output_type": "execute_result",
          "data": {
            "text/plain": [
              "210040"
            ]
          },
          "metadata": {},
          "execution_count": 8
        }
      ]
    },
    {
      "cell_type": "markdown",
      "metadata": {
        "id": "9c6AkTOT6qOs"
      },
      "source": [
        "# Let´s think about how we want out data to look... \n",
        "\n",
        "How I think our data would be best represented...\n",
        "\n",
        "```\n",
        "[{'line_number': 0, \n",
        "  'target': 'BACKGROUND', \n",
        "  'text': \"Emotional eating is associated with overeating and the development of obesity .\\n\"\n",
        "  'total_lines': 11}\n",
        "  ...]\n",
        "```"
      ]
    },
    {
      "cell_type": "code",
      "metadata": {
        "id": "m6Nnz6pt6uiV"
      },
      "source": [
        "def  preprocess_text_with_line_numbers(filename):\n",
        "  \"\"\"\n",
        "  Returns a list of dictionaries of bastract line data.\n",
        "\n",
        "  Takes in filename, reads it contents and sorts through each line, extracting\n",
        "  thing like the target label, the text of the sentence, how many sentences are in the current\n",
        "  abstract and what sentence number the target line is\n",
        "  \"\"\"\n",
        "\n",
        "  input_lines = get_lines(filename) #get all lines from filename\n",
        "  abstract_lines = \"\" #create an empty abstract\n",
        "  abstract_samples = [] #create an empty list of abstracts\n",
        "\n",
        "  # Loop through each line in the target file\n",
        "  for line in input_lines:\n",
        "    if line.startswith(\"###\"): #check to see if the line is an ID line\n",
        "      abstract_id = line\n",
        "      abstract_lines = \"\" #reset the abstract string if the lines is an ID line\n",
        "    elif line.isspace(): #check to see if line is a new line\n",
        "      abstract_line_split = abstract_lines.splitlines() #split abstract lines in separate lines\n",
        "\n",
        "      #Iterate through each line in a single abstract and count them at the same time\n",
        "      for abstract_line_number, abstract_line in enumerate(abstract_line_split):\n",
        "        line_data = {} #create an empty dict for each line\n",
        "        target_text_split = abstract_line.split(\"\\t\") #split target label from text\n",
        "        line_data[\"target\"] = target_text_split[0] #get target label\n",
        "        line_data[\"text\"] = target_text_split[1].lower() #get target text and lower it\n",
        "        line_data[\"line_number\"] = abstract_line_number #what number line doeas the line appear in the abstract?\n",
        "        line_data[\"total_lines\"] = len(abstract_line_split) -1 #how many total lines are there in the target abstract (starts with 0 - therfore minus 1)\n",
        "        abstract_samples.append(line_data) #add line data to abstract sample list\n",
        "      \n",
        "    else: #if the above conditions aren´t fulfilled, the line contain a labelled sentence\n",
        "      abstract_lines += line\n",
        "\n",
        "  return abstract_samples"
      ],
      "execution_count": 9,
      "outputs": []
    },
    {
      "cell_type": "code",
      "metadata": {
        "id": "95OUBDv6K6dJ",
        "colab": {
          "base_uri": "https://localhost:8080/"
        },
        "outputId": "bc19c6ab-141e-41e0-9d04-8e308661f908"
      },
      "source": [
        "#Get data from file and preprocess it\n",
        "train_samples = preprocess_text_with_line_numbers(data_dir + \"train.txt\")\n",
        "val_samples = preprocess_text_with_line_numbers(data_dir + \"dev.txt\")\n",
        "test_samples = preprocess_text_with_line_numbers(data_dir + \"test.txt\")\n",
        "len(train_samples), len(val_samples), len(test_samples)"
      ],
      "execution_count": 10,
      "outputs": [
        {
          "output_type": "execute_result",
          "data": {
            "text/plain": [
              "(180040, 30212, 30135)"
            ]
          },
          "metadata": {},
          "execution_count": 10
        }
      ]
    },
    {
      "cell_type": "code",
      "metadata": {
        "id": "Ssgs0UOmLXBH",
        "colab": {
          "base_uri": "https://localhost:8080/"
        },
        "outputId": "2aea22ce-fe1f-4d5d-9f3d-5d149ec40e67"
      },
      "source": [
        "#Check the first abstract of our training data\n",
        "train_samples[:12]"
      ],
      "execution_count": 11,
      "outputs": [
        {
          "output_type": "execute_result",
          "data": {
            "text/plain": [
              "[{'line_number': 0,\n",
              "  'target': 'OBJECTIVE',\n",
              "  'text': 'to investigate the efficacy of @ weeks of daily low-dose oral prednisolone in improving pain , mobility , and systemic low-grade inflammation in the short term and whether the effect would be sustained at @ weeks in older adults with moderate to severe knee osteoarthritis ( oa ) .',\n",
              "  'total_lines': 11},\n",
              " {'line_number': 1,\n",
              "  'target': 'METHODS',\n",
              "  'text': 'a total of @ patients with primary knee oa were randomized @:@ ; @ received @ mg/day of prednisolone and @ received placebo for @ weeks .',\n",
              "  'total_lines': 11},\n",
              " {'line_number': 2,\n",
              "  'target': 'METHODS',\n",
              "  'text': 'outcome measures included pain reduction and improvement in function scores and systemic inflammation markers .',\n",
              "  'total_lines': 11},\n",
              " {'line_number': 3,\n",
              "  'target': 'METHODS',\n",
              "  'text': 'pain was assessed using the visual analog pain scale ( @-@ mm ) .',\n",
              "  'total_lines': 11},\n",
              " {'line_number': 4,\n",
              "  'target': 'METHODS',\n",
              "  'text': 'secondary outcome measures included the western ontario and mcmaster universities osteoarthritis index scores , patient global assessment ( pga ) of the severity of knee oa , and @-min walk distance ( @mwd ) .',\n",
              "  'total_lines': 11},\n",
              " {'line_number': 5,\n",
              "  'target': 'METHODS',\n",
              "  'text': 'serum levels of interleukin @ ( il-@ ) , il-@ , tumor necrosis factor ( tnf ) - , and high-sensitivity c-reactive protein ( hscrp ) were measured .',\n",
              "  'total_lines': 11},\n",
              " {'line_number': 6,\n",
              "  'target': 'RESULTS',\n",
              "  'text': 'there was a clinically relevant reduction in the intervention group compared to the placebo group for knee pain , physical function , pga , and @mwd at @ weeks .',\n",
              "  'total_lines': 11},\n",
              " {'line_number': 7,\n",
              "  'target': 'RESULTS',\n",
              "  'text': 'the mean difference between treatment arms ( @ % ci ) was @ ( @-@ @ ) , p < @ ; @ ( @-@ @ ) , p < @ ; @ ( @-@ @ ) , p < @ ; and @ ( @-@ @ ) , p < @ , respectively .',\n",
              "  'total_lines': 11},\n",
              " {'line_number': 8,\n",
              "  'target': 'RESULTS',\n",
              "  'text': 'further , there was a clinically relevant reduction in the serum levels of il-@ , il-@ , tnf - , and hscrp at @ weeks in the intervention group when compared to the placebo group .',\n",
              "  'total_lines': 11},\n",
              " {'line_number': 9,\n",
              "  'target': 'RESULTS',\n",
              "  'text': 'these differences remained significant at @ weeks .',\n",
              "  'total_lines': 11},\n",
              " {'line_number': 10,\n",
              "  'target': 'RESULTS',\n",
              "  'text': 'the outcome measures in rheumatology clinical trials-osteoarthritis research society international responder rate was @ % in the intervention group and @ % in the placebo group ( p < @ ) .',\n",
              "  'total_lines': 11},\n",
              " {'line_number': 11,\n",
              "  'target': 'CONCLUSIONS',\n",
              "  'text': 'low-dose oral prednisolone had both a short-term and a longer sustained effect resulting in less knee pain , better physical function , and attenuation of systemic inflammation in older patients with knee oa ( clinicaltrials.gov identifier nct@ ) .',\n",
              "  'total_lines': 11}]"
            ]
          },
          "metadata": {},
          "execution_count": 11
        }
      ]
    },
    {
      "cell_type": "markdown",
      "metadata": {
        "id": "1FHhFNTHLgoj"
      },
      "source": [
        "Now that our data is the format of a list of dictionaries, how about we turn into a DataFram to further visualize"
      ]
    },
    {
      "cell_type": "code",
      "metadata": {
        "id": "EU-8Ah2iMPC2",
        "colab": {
          "base_uri": "https://localhost:8080/",
          "height": 486
        },
        "outputId": "697b7749-ea73-4e37-9003-0d7df305951f"
      },
      "source": [
        "import pandas as pd\n",
        "train_df = pd.DataFrame(train_samples)\n",
        "val_df = pd.DataFrame(val_samples)\n",
        "test_df = pd.DataFrame(test_samples)\n",
        "train_df.head(14)"
      ],
      "execution_count": 12,
      "outputs": [
        {
          "output_type": "execute_result",
          "data": {
            "text/html": [
              "<div>\n",
              "<style scoped>\n",
              "    .dataframe tbody tr th:only-of-type {\n",
              "        vertical-align: middle;\n",
              "    }\n",
              "\n",
              "    .dataframe tbody tr th {\n",
              "        vertical-align: top;\n",
              "    }\n",
              "\n",
              "    .dataframe thead th {\n",
              "        text-align: right;\n",
              "    }\n",
              "</style>\n",
              "<table border=\"1\" class=\"dataframe\">\n",
              "  <thead>\n",
              "    <tr style=\"text-align: right;\">\n",
              "      <th></th>\n",
              "      <th>target</th>\n",
              "      <th>text</th>\n",
              "      <th>line_number</th>\n",
              "      <th>total_lines</th>\n",
              "    </tr>\n",
              "  </thead>\n",
              "  <tbody>\n",
              "    <tr>\n",
              "      <th>0</th>\n",
              "      <td>OBJECTIVE</td>\n",
              "      <td>to investigate the efficacy of @ weeks of dail...</td>\n",
              "      <td>0</td>\n",
              "      <td>11</td>\n",
              "    </tr>\n",
              "    <tr>\n",
              "      <th>1</th>\n",
              "      <td>METHODS</td>\n",
              "      <td>a total of @ patients with primary knee oa wer...</td>\n",
              "      <td>1</td>\n",
              "      <td>11</td>\n",
              "    </tr>\n",
              "    <tr>\n",
              "      <th>2</th>\n",
              "      <td>METHODS</td>\n",
              "      <td>outcome measures included pain reduction and i...</td>\n",
              "      <td>2</td>\n",
              "      <td>11</td>\n",
              "    </tr>\n",
              "    <tr>\n",
              "      <th>3</th>\n",
              "      <td>METHODS</td>\n",
              "      <td>pain was assessed using the visual analog pain...</td>\n",
              "      <td>3</td>\n",
              "      <td>11</td>\n",
              "    </tr>\n",
              "    <tr>\n",
              "      <th>4</th>\n",
              "      <td>METHODS</td>\n",
              "      <td>secondary outcome measures included the wester...</td>\n",
              "      <td>4</td>\n",
              "      <td>11</td>\n",
              "    </tr>\n",
              "    <tr>\n",
              "      <th>5</th>\n",
              "      <td>METHODS</td>\n",
              "      <td>serum levels of interleukin @ ( il-@ ) , il-@ ...</td>\n",
              "      <td>5</td>\n",
              "      <td>11</td>\n",
              "    </tr>\n",
              "    <tr>\n",
              "      <th>6</th>\n",
              "      <td>RESULTS</td>\n",
              "      <td>there was a clinically relevant reduction in t...</td>\n",
              "      <td>6</td>\n",
              "      <td>11</td>\n",
              "    </tr>\n",
              "    <tr>\n",
              "      <th>7</th>\n",
              "      <td>RESULTS</td>\n",
              "      <td>the mean difference between treatment arms ( @...</td>\n",
              "      <td>7</td>\n",
              "      <td>11</td>\n",
              "    </tr>\n",
              "    <tr>\n",
              "      <th>8</th>\n",
              "      <td>RESULTS</td>\n",
              "      <td>further , there was a clinically relevant redu...</td>\n",
              "      <td>8</td>\n",
              "      <td>11</td>\n",
              "    </tr>\n",
              "    <tr>\n",
              "      <th>9</th>\n",
              "      <td>RESULTS</td>\n",
              "      <td>these differences remained significant at @ we...</td>\n",
              "      <td>9</td>\n",
              "      <td>11</td>\n",
              "    </tr>\n",
              "    <tr>\n",
              "      <th>10</th>\n",
              "      <td>RESULTS</td>\n",
              "      <td>the outcome measures in rheumatology clinical ...</td>\n",
              "      <td>10</td>\n",
              "      <td>11</td>\n",
              "    </tr>\n",
              "    <tr>\n",
              "      <th>11</th>\n",
              "      <td>CONCLUSIONS</td>\n",
              "      <td>low-dose oral prednisolone had both a short-te...</td>\n",
              "      <td>11</td>\n",
              "      <td>11</td>\n",
              "    </tr>\n",
              "    <tr>\n",
              "      <th>12</th>\n",
              "      <td>BACKGROUND</td>\n",
              "      <td>emotional eating is associated with overeating...</td>\n",
              "      <td>0</td>\n",
              "      <td>10</td>\n",
              "    </tr>\n",
              "    <tr>\n",
              "      <th>13</th>\n",
              "      <td>BACKGROUND</td>\n",
              "      <td>yet , empirical evidence for individual ( trai...</td>\n",
              "      <td>1</td>\n",
              "      <td>10</td>\n",
              "    </tr>\n",
              "  </tbody>\n",
              "</table>\n",
              "</div>"
            ],
            "text/plain": [
              "         target  ... total_lines\n",
              "0     OBJECTIVE  ...          11\n",
              "1       METHODS  ...          11\n",
              "2       METHODS  ...          11\n",
              "3       METHODS  ...          11\n",
              "4       METHODS  ...          11\n",
              "5       METHODS  ...          11\n",
              "6       RESULTS  ...          11\n",
              "7       RESULTS  ...          11\n",
              "8       RESULTS  ...          11\n",
              "9       RESULTS  ...          11\n",
              "10      RESULTS  ...          11\n",
              "11  CONCLUSIONS  ...          11\n",
              "12   BACKGROUND  ...          10\n",
              "13   BACKGROUND  ...          10\n",
              "\n",
              "[14 rows x 4 columns]"
            ]
          },
          "metadata": {},
          "execution_count": 12
        }
      ]
    },
    {
      "cell_type": "code",
      "metadata": {
        "id": "Emxoq5M5MaQq",
        "colab": {
          "base_uri": "https://localhost:8080/"
        },
        "outputId": "593acb0d-1128-4d9d-ba99-4a3dab9de0e8"
      },
      "source": [
        "# Distribution of labels in training data\n",
        "train_df.target.value_counts()"
      ],
      "execution_count": 13,
      "outputs": [
        {
          "output_type": "execute_result",
          "data": {
            "text/plain": [
              "METHODS        59353\n",
              "RESULTS        57953\n",
              "CONCLUSIONS    27168\n",
              "BACKGROUND     21727\n",
              "OBJECTIVE      13839\n",
              "Name: target, dtype: int64"
            ]
          },
          "metadata": {},
          "execution_count": 13
        }
      ]
    },
    {
      "cell_type": "code",
      "metadata": {
        "id": "9oprBhwRMzs5",
        "colab": {
          "base_uri": "https://localhost:8080/",
          "height": 285
        },
        "outputId": "d0237822-9e34-4576-806c-99f01b4d8d1d"
      },
      "source": [
        "# Check len of different lines\n",
        "train_df.total_lines.plot.hist()"
      ],
      "execution_count": 14,
      "outputs": [
        {
          "output_type": "execute_result",
          "data": {
            "text/plain": [
              "<matplotlib.axes._subplots.AxesSubplot at 0x7fdf3059d7d0>"
            ]
          },
          "metadata": {},
          "execution_count": 14
        },
        {
          "output_type": "display_data",
          "data": {
            "image/png": "[encoded data removed]",
            "text/plain": [
              "<Figure size 432x288 with 1 Axes>"
            ]
          },
          "metadata": {
            "needs_background": "light"
          }
        }
      ]
    },
    {
      "cell_type": "markdown",
      "metadata": {
        "id": "rfNVpb1ENDSe"
      },
      "source": [
        "### Get list of sentences"
      ]
    },
    {
      "cell_type": "code",
      "metadata": {
        "id": "mLC0G-RKNMnt",
        "colab": {
          "base_uri": "https://localhost:8080/"
        },
        "outputId": "9c4e7248-4f15-49cd-d144-9da89389c379"
      },
      "source": [
        "# Convert abstract text lines into lists\n",
        "train_sentences = train_df[\"text\"].tolist()\n",
        "val_sentences = val_df[\"text\"].tolist()\n",
        "test_sentences = test_df[\"text\"].tolist()\n",
        "len(train_sentences), len(val_sentences), len(test_sentences)"
      ],
      "execution_count": 15,
      "outputs": [
        {
          "output_type": "execute_result",
          "data": {
            "text/plain": [
              "(180040, 30212, 30135)"
            ]
          },
          "metadata": {},
          "execution_count": 15
        }
      ]
    },
    {
      "cell_type": "code",
      "metadata": {
        "id": "23CaH0PzNcxk",
        "colab": {
          "base_uri": "https://localhost:8080/"
        },
        "outputId": "f72e8bc0-a7ee-4b7f-a50a-6b9f9744cc12"
      },
      "source": [
        "#First 10 sentences\n",
        "train_sentences[:10]"
      ],
      "execution_count": 16,
      "outputs": [
        {
          "output_type": "execute_result",
          "data": {
            "text/plain": [
              "['to investigate the efficacy of @ weeks of daily low-dose oral prednisolone in improving pain , mobility , and systemic low-grade inflammation in the short term and whether the effect would be sustained at @ weeks in older adults with moderate to severe knee osteoarthritis ( oa ) .',\n",
              " 'a total of @ patients with primary knee oa were randomized @:@ ; @ received @ mg/day of prednisolone and @ received placebo for @ weeks .',\n",
              " 'outcome measures included pain reduction and improvement in function scores and systemic inflammation markers .',\n",
              " 'pain was assessed using the visual analog pain scale ( @-@ mm ) .',\n",
              " 'secondary outcome measures included the western ontario and mcmaster universities osteoarthritis index scores , patient global assessment ( pga ) of the severity of knee oa , and @-min walk distance ( @mwd ) .',\n",
              " 'serum levels of interleukin @ ( il-@ ) , il-@ , tumor necrosis factor ( tnf ) - , and high-sensitivity c-reactive protein ( hscrp ) were measured .',\n",
              " 'there was a clinically relevant reduction in the intervention group compared to the placebo group for knee pain , physical function , pga , and @mwd at @ weeks .',\n",
              " 'the mean difference between treatment arms ( @ % ci ) was @ ( @-@ @ ) , p < @ ; @ ( @-@ @ ) , p < @ ; @ ( @-@ @ ) , p < @ ; and @ ( @-@ @ ) , p < @ , respectively .',\n",
              " 'further , there was a clinically relevant reduction in the serum levels of il-@ , il-@ , tnf - , and hscrp at @ weeks in the intervention group when compared to the placebo group .',\n",
              " 'these differences remained significant at @ weeks .']"
            ]
          },
          "metadata": {},
          "execution_count": 16
        }
      ]
    },
    {
      "cell_type": "markdown",
      "metadata": {
        "id": "tQZOcbxqNqwI"
      },
      "source": [
        "## Make numeric labels (ML models require numeric labels)"
      ]
    },
    {
      "cell_type": "code",
      "metadata": {
        "id": "6bkEu8GtORih",
        "colab": {
          "base_uri": "https://localhost:8080/"
        },
        "outputId": "0cb6c48f-1e96-4bf7-e60e-59c5cae24c20"
      },
      "source": [
        "#One hot encode labels\n",
        "from sklearn.preprocessing import OneHotEncoder\n",
        "one_hot_encoder = OneHotEncoder(sparse=False) #we want non-sparse matrix\n",
        "train_labels_one_hot = one_hot_encoder.fit_transform(train_df[\"target\"].to_numpy().reshape(-1,1))\n",
        "val_labels_one_hot = one_hot_encoder.fit_transform(val_df[\"target\"].to_numpy().reshape(-1,1))\n",
        "test_labels_one_hot = one_hot_encoder.fit_transform(test_df[\"target\"].to_numpy().reshape(-1, 1))\n",
        "\n",
        "train_labels_one_hot"
      ],
      "execution_count": 17,
      "outputs": [
        {
          "output_type": "execute_result",
          "data": {
            "text/plain": [
              "array([[0., 0., 0., 1., 0.],\n",
              "       [0., 0., 1., 0., 0.],\n",
              "       [0., 0., 1., 0., 0.],\n",
              "       ...,\n",
              "       [0., 0., 0., 0., 1.],\n",
              "       [0., 1., 0., 0., 0.],\n",
              "       [0., 1., 0., 0., 0.]])"
            ]
          },
          "metadata": {},
          "execution_count": 17
        }
      ]
    },
    {
      "cell_type": "markdown",
      "metadata": {
        "id": "FbrpE3d7P4YF"
      },
      "source": [
        "### Label encode labels"
      ]
    },
    {
      "cell_type": "code",
      "metadata": {
        "id": "FiiOSr2wOqKN",
        "colab": {
          "base_uri": "https://localhost:8080/"
        },
        "outputId": "4b891124-951c-4f95-f0db-c9302d6b8962"
      },
      "source": [
        "# Extract labels (\"target columns\") and encode them into intergers\n",
        "from sklearn.preprocessing import LabelEncoder\n",
        "label_encoder = LabelEncoder()\n",
        "train_labels_encoded = label_encoder.fit_transform(train_df[\"target\"].to_numpy().reshape(-1, 1))\n",
        "val_labels_encoded = label_encoder.fit_transform(val_df[\"target\"].to_numpy().reshape(-1, 1))\n",
        "test_labels_encoded = label_encoder.fit_transform(test_df[\"target\"].to_numpy().reshape(-1,1))\n",
        "\n",
        "train_labels_encoded"
      ],
      "execution_count": 18,
      "outputs": [
        {
          "output_type": "stream",
          "text": [
            "/usr/local/lib/python3.7/dist-packages/sklearn/preprocessing/_label.py:251: DataConversionWarning: A column-vector y was passed when a 1d array was expected. Please change the shape of y to (n_samples, ), for example using ravel().\n",
            "  y = column_or_1d(y, warn=True)\n"
          ],
          "name": "stderr"
        },
        {
          "output_type": "execute_result",
          "data": {
            "text/plain": [
              "array([3, 2, 2, ..., 4, 1, 1])"
            ]
          },
          "metadata": {},
          "execution_count": 18
        }
      ]
    },
    {
      "cell_type": "code",
      "metadata": {
        "id": "JEsrog4JPYem",
        "colab": {
          "base_uri": "https://localhost:8080/"
        },
        "outputId": "cbfe8d21-9002-4422-b325-09f80393a617"
      },
      "source": [
        "# Get class names and number of classes from LabelEncoder instance\n",
        "num_classes = len(label_encoder.classes_)\n",
        "class_names = label_encoder.classes_\n",
        "num_classes, class_names"
      ],
      "execution_count": 19,
      "outputs": [
        {
          "output_type": "execute_result",
          "data": {
            "text/plain": [
              "(5, array(['BACKGROUND', 'CONCLUSIONS', 'METHODS', 'OBJECTIVE', 'RESULTS'],\n",
              "       dtype=object))"
            ]
          },
          "metadata": {},
          "execution_count": 19
        }
      ]
    },
    {
      "cell_type": "markdown",
      "metadata": {
        "id": "35Md-_r0aF-I"
      },
      "source": [
        "## Starting a series of modelling experiments...\n",
        "\n",
        "As usual, we´re going to be trying out a bunch of different models and seeing which one works best."
      ]
    },
    {
      "cell_type": "markdown",
      "metadata": {
        "id": "kbpYFqdHRMQC"
      },
      "source": [
        "## Model 0: Getting a baseline"
      ]
    },
    {
      "cell_type": "code",
      "metadata": {
        "id": "0ec0pWXIaFIm",
        "colab": {
          "base_uri": "https://localhost:8080/"
        },
        "outputId": "2ad7209e-213e-49ff-bbb7-05fbdacd1ce3"
      },
      "source": [
        "from sklearn.feature_extraction.text import TfidfVectorizer\n",
        "from sklearn.naive_bayes import MultinomialNB\n",
        "from sklearn.pipeline import Pipeline\n",
        "\n",
        "#Create a pipeline\n",
        "model_0 = Pipeline([\n",
        "    (\"tf-idf\", TfidfVectorizer()),\n",
        "    (\"clf\", MultinomialNB())\n",
        "])\n",
        "\n",
        "#Fit the pipeline to the training data\n",
        "model_0.fit(train_sentences, train_labels_encoded)"
      ],
      "execution_count": 20,
      "outputs": [
        {
          "output_type": "execute_result",
          "data": {
            "text/plain": [
              "Pipeline(memory=None,\n",
              "         steps=[('tf-idf',\n",
              "                 TfidfVectorizer(analyzer='word', binary=False,\n",
              "                                 decode_error='strict',\n",
              "                                 dtype=<class 'numpy.float64'>,\n",
              "                                 encoding='utf-8', input='content',\n",
              "                                 lowercase=True, max_df=1.0, max_features=None,\n",
              "                                 min_df=1, ngram_range=(1, 1), norm='l2',\n",
              "                                 preprocessor=None, smooth_idf=True,\n",
              "                                 stop_words=None, strip_accents=None,\n",
              "                                 sublinear_tf=False,\n",
              "                                 token_pattern='(?u)\\\\b\\\\w\\\\w+\\\\b',\n",
              "                                 tokenizer=None, use_idf=True,\n",
              "                                 vocabulary=None)),\n",
              "                ('clf',\n",
              "                 MultinomialNB(alpha=1.0, class_prior=None, fit_prior=True))],\n",
              "         verbose=False)"
            ]
          },
          "metadata": {},
          "execution_count": 20
        }
      ]
    },
    {
      "cell_type": "code",
      "metadata": {
        "id": "5aETOfRma9EM",
        "colab": {
          "base_uri": "https://localhost:8080/"
        },
        "outputId": "9a847bac-15b0-4bab-ce7a-8eb1a643d867"
      },
      "source": [
        "#Evaluate the baseline model\n",
        "model_0.score(val_sentences, val_labels_encoded)"
      ],
      "execution_count": 21,
      "outputs": [
        {
          "output_type": "execute_result",
          "data": {
            "text/plain": [
              "0.7218323844829869"
            ]
          },
          "metadata": {},
          "execution_count": 21
        }
      ]
    },
    {
      "cell_type": "code",
      "metadata": {
        "id": "LUkYk77RbmHy",
        "colab": {
          "base_uri": "https://localhost:8080/"
        },
        "outputId": "401e4025-1d25-4208-9f13-0e821fbf7bf4"
      },
      "source": [
        "#Make predictions using our baseline model\n",
        "baseline_preds = model_0.predict(val_sentences)\n",
        "baseline_preds"
      ],
      "execution_count": 22,
      "outputs": [
        {
          "output_type": "execute_result",
          "data": {
            "text/plain": [
              "array([4, 1, 3, ..., 4, 4, 1])"
            ]
          },
          "metadata": {},
          "execution_count": 22
        }
      ]
    },
    {
      "cell_type": "markdown",
      "metadata": {
        "id": "n3FRns92bwfQ"
      },
      "source": [
        "Download helper function script"
      ]
    },
    {
      "cell_type": "code",
      "metadata": {
        "id": "VyTu1hF0b4Y5",
        "colab": {
          "base_uri": "https://localhost:8080/"
        },
        "outputId": "abb6c0aa-7c1f-452e-a747-6d8d23f1314c"
      },
      "source": [
        "!wget https://raw.githubusercontent.com/mrdbourke/tensorflow-deep-learning/main/extras/helper_functions.py"
      ],
      "execution_count": 23,
      "outputs": [
        {
          "output_type": "stream",
          "text": [
            "--2021-08-20 08:55:13--  https://raw.githubusercontent.com/mrdbourke/tensorflow-deep-learning/main/extras/helper_functions.py\n",
            "Resolving raw.githubusercontent.com (raw.githubusercontent.com)... 185.199.108.133, 185.199.111.133, 185.199.109.133, ...\n",
            "Connecting to raw.githubusercontent.com (raw.githubusercontent.com)|185.199.108.133|:443... connected.\n",
            "HTTP request sent, awaiting response... 200 OK\n",
            "Length: 10246 (10K) [text/plain]\n",
            "Saving to: ‘helper_functions.py’\n",
            "\n",
            "\rhelper_functions.py   0%[                    ]       0  --.-KB/s               \rhelper_functions.py 100%[===================>]  10.01K  --.-KB/s    in 0s      \n",
            "\n",
            "2021-08-20 08:55:13 (103 MB/s) - ‘helper_functions.py’ saved [10246/10246]\n",
            "\n"
          ],
          "name": "stdout"
        }
      ]
    },
    {
      "cell_type": "code",
      "metadata": {
        "id": "Oy8uij-Cb_aM"
      },
      "source": [
        "from helper_functions import calculate_results"
      ],
      "execution_count": 24,
      "outputs": []
    },
    {
      "cell_type": "code",
      "metadata": {
        "id": "DN9Ynr9LcRf5",
        "colab": {
          "base_uri": "https://localhost:8080/"
        },
        "outputId": "0f01e6aa-de12-4da6-ceec-16b844df5490"
      },
      "source": [
        "#Calculate baseline results\n",
        "baseline_results = calculate_results(val_labels_encoded, baseline_preds)\n",
        "baseline_results"
      ],
      "execution_count": 25,
      "outputs": [
        {
          "output_type": "execute_result",
          "data": {
            "text/plain": [
              "{'accuracy': 72.1832384482987,\n",
              " 'f1': 0.6989250353450294,\n",
              " 'precision': 0.7186466952323352,\n",
              " 'recall': 0.7218323844829869}"
            ]
          },
          "metadata": {},
          "execution_count": 25
        }
      ]
    },
    {
      "cell_type": "markdown",
      "metadata": {
        "id": "rBUWlGBNcYQU"
      },
      "source": [
        "## Preparing our data for deep sequence models\n",
        "\n",
        "Before we start building deeper models, we´ve got to create vectorization and embedding layers"
      ]
    },
    {
      "cell_type": "code",
      "metadata": {
        "id": "_84V3GI_dPtt"
      },
      "source": [
        "import numpy as np\n",
        "import tensorflow as tf\n",
        "from tensorflow.keras import layers"
      ],
      "execution_count": 26,
      "outputs": []
    },
    {
      "cell_type": "code",
      "metadata": {
        "id": "PytKX8RIdT3S",
        "colab": {
          "base_uri": "https://localhost:8080/"
        },
        "outputId": "0495e41c-4b92-4715-dd7e-931c8c21881e"
      },
      "source": [
        "# How long is each sentence on average\n",
        "sent_lens = [len(sentence.split()) for sentence in train_sentences]\n",
        "avg_sent_len = np.mean(sent_lens)\n",
        "avg_sent_len"
      ],
      "execution_count": 27,
      "outputs": [
        {
          "output_type": "execute_result",
          "data": {
            "text/plain": [
              "26.338269273494777"
            ]
          },
          "metadata": {},
          "execution_count": 27
        }
      ]
    },
    {
      "cell_type": "code",
      "metadata": {
        "id": "ksSAE9sxdsBB",
        "colab": {
          "base_uri": "https://localhost:8080/",
          "height": 0
        },
        "outputId": "f90558a0-c017-4a9e-dc90-704f3870c6e7"
      },
      "source": [
        "# What´s the distribution look like?\n",
        "import matplotlib.pyplot as plt\n",
        "plt.hist(sent_lens, bins=20)"
      ],
      "execution_count": 28,
      "outputs": [
        {
          "output_type": "execute_result",
          "data": {
            "text/plain": [
              "(array([4.2075e+04, 8.3771e+04, 3.6877e+04, 1.0945e+04, 3.9310e+03,\n",
              "        1.4450e+03, 5.6000e+02, 2.2600e+02, 1.0100e+02, 4.5000e+01,\n",
              "        2.0000e+01, 1.2000e+01, 9.0000e+00, 1.0000e+01, 6.0000e+00,\n",
              "        2.0000e+00, 3.0000e+00, 0.0000e+00, 1.0000e+00, 1.0000e+00]),\n",
              " array([  1.  ,  15.75,  30.5 ,  45.25,  60.  ,  74.75,  89.5 , 104.25,\n",
              "        119.  , 133.75, 148.5 , 163.25, 178.  , 192.75, 207.5 , 222.25,\n",
              "        237.  , 251.75, 266.5 , 281.25, 296.  ]),\n",
              " <a list of 20 Patch objects>)"
            ]
          },
          "metadata": {},
          "execution_count": 28
        },
        {
          "output_type": "display_data",
          "data": {
            "image/png": "[encoded data removed]",
            "text/plain": [
              "<Figure size 432x288 with 1 Axes>"
            ]
          },
          "metadata": {
            "needs_background": "light"
          }
        }
      ]
    },
    {
      "cell_type": "code",
      "metadata": {
        "id": "amXJnjmPdtSh",
        "colab": {
          "base_uri": "https://localhost:8080/"
        },
        "outputId": "60f42ba5-5c20-4190-e0ad-f302ab0a2732"
      },
      "source": [
        "# How long of a sentence length cover 95% of examples?\n",
        "output_seq_len = int(np.percentile(sent_lens,95))\n",
        "output_seq_len"
      ],
      "execution_count": 29,
      "outputs": [
        {
          "output_type": "execute_result",
          "data": {
            "text/plain": [
              "55"
            ]
          },
          "metadata": {},
          "execution_count": 29
        }
      ]
    },
    {
      "cell_type": "code",
      "metadata": {
        "id": "vzh7u6X6fCvj",
        "colab": {
          "base_uri": "https://localhost:8080/"
        },
        "outputId": "3e6854ce-4858-4630-d8c4-94ff970f22eb"
      },
      "source": [
        "# Maximum sequence length in the training set \n",
        "max(sent_lens)"
      ],
      "execution_count": 30,
      "outputs": [
        {
          "output_type": "execute_result",
          "data": {
            "text/plain": [
              "296"
            ]
          },
          "metadata": {},
          "execution_count": 30
        }
      ]
    },
    {
      "cell_type": "markdown",
      "metadata": {
        "id": "ZgAXXzoHfS84"
      },
      "source": [
        "### Create text vectorizer layer\n",
        "\n",
        "Layer which maps our text to numbers"
      ]
    },
    {
      "cell_type": "code",
      "metadata": {
        "id": "Fr_Apv3cfxxp"
      },
      "source": [
        "# How many words are in our voca? (taken from tabe 2 in original paper)\n",
        "max_tokens = 68000"
      ],
      "execution_count": 31,
      "outputs": []
    },
    {
      "cell_type": "code",
      "metadata": {
        "id": "gF78oCd3gqXC"
      },
      "source": [
        "#Create text vectorizer\n",
        "from tensorflow.keras.layers.experimental.preprocessing import TextVectorization\n",
        "\n",
        "text_vectorizer = TextVectorization(max_tokens=max_tokens, #number of words in vocab\n",
        "                                    output_sequence_length=output_seq_len) #desired output length"
      ],
      "execution_count": 32,
      "outputs": []
    },
    {
      "cell_type": "code",
      "metadata": {
        "id": "aRZXWjwPg0aD"
      },
      "source": [
        "#Adapt text vectorizer to training sentences\n",
        "text_vectorizer.adapt(train_sentences)"
      ],
      "execution_count": 33,
      "outputs": []
    },
    {
      "cell_type": "code",
      "metadata": {
        "id": "d6nJNZ9ohZym",
        "colab": {
          "base_uri": "https://localhost:8080/"
        },
        "outputId": "2c1cca68-3416-42b4-9cee-4ec8753382e8"
      },
      "source": [
        "# Test out text vectorizer on random sentences\n",
        "import random\n",
        "target_sentence = random.choice(train_sentences)\n",
        "print(f\"Text:\\n{target_sentence}\")\n",
        "print(f\"\\nLength of text: {len(target_sentence.split())}\")\n",
        "print(f\"\\nVectorized text: {text_vectorizer([target_sentence])}\")"
      ],
      "execution_count": 34,
      "outputs": [
        {
          "output_type": "stream",
          "text": [
            "Text:\n",
            "scenarios of implementing such a strategy in the dutch screening or health care system are currently being discussed with various stakeholders .\n",
            "\n",
            "Length of text: 22\n",
            "\n",
            "Vectorized text: [[3229    4 3263  345    8  606    5    2 2496  387   16   97   77  355\n",
            "    58 1325  571 3341    7 1139 7150    0    0    0    0    0    0    0\n",
            "     0    0    0    0    0    0    0    0    0    0    0    0    0    0\n",
            "     0    0    0    0    0    0    0    0    0    0    0    0    0]]\n"
          ],
          "name": "stdout"
        }
      ]
    },
    {
      "cell_type": "code",
      "metadata": {
        "id": "kAOaJ1VBh5J7",
        "colab": {
          "base_uri": "https://localhost:8080/"
        },
        "outputId": "03610dba-96b6-4413-81d3-139890931923"
      },
      "source": [
        "# How many words in our training vocabulary\n",
        "rct_20k_text_vocab = text_vectorizer.get_vocabulary()\n",
        "print(f\"Number of words in vocab: {len(rct_20k_text_vocab)}\")\n",
        "print(f\"Most common words in the vocab: {rct_20k_text_vocab[:5]}\")\n",
        "print(f\"Least common words in the vocab: {rct_20k_text_vocab[-5:]}\")"
      ],
      "execution_count": 35,
      "outputs": [
        {
          "output_type": "stream",
          "text": [
            "Number of words in vocab: 64841\n",
            "Most common words in the vocab: ['', '[UNK]', 'the', 'and', 'of']\n",
            "Least common words in the vocab: ['aainduced', 'aaigroup', 'aachener', 'aachen', 'aaacp']\n"
          ],
          "name": "stdout"
        }
      ]
    },
    {
      "cell_type": "code",
      "metadata": {
        "id": "K0mKCthgi-FL",
        "colab": {
          "base_uri": "https://localhost:8080/"
        },
        "outputId": "bc473fb6-c9a8-438b-f235-e0a22660efaa"
      },
      "source": [
        "# get the config of our text vectorizer\n",
        "text_vectorizer.get_config()"
      ],
      "execution_count": 36,
      "outputs": [
        {
          "output_type": "execute_result",
          "data": {
            "text/plain": [
              "{'batch_input_shape': (None,),\n",
              " 'dtype': 'string',\n",
              " 'max_tokens': 68000,\n",
              " 'name': 'text_vectorization',\n",
              " 'ngrams': None,\n",
              " 'output_mode': 'int',\n",
              " 'output_sequence_length': 55,\n",
              " 'pad_to_max_tokens': False,\n",
              " 'split': 'whitespace',\n",
              " 'standardize': 'lower_and_strip_punctuation',\n",
              " 'trainable': True}"
            ]
          },
          "metadata": {},
          "execution_count": 36
        }
      ]
    },
    {
      "cell_type": "markdown",
      "metadata": {
        "id": "ZjacACGVjPP7"
      },
      "source": [
        "### Create custom text embedding"
      ]
    },
    {
      "cell_type": "code",
      "metadata": {
        "id": "fFpMLh0focVR"
      },
      "source": [
        "# Create token embedding layer\n",
        "token_embed = layers.Embedding(input_dim=len(rct_20k_text_vocab), #vocab length\n",
        "                               output_dim=128, #embedding dimension has a huge impact to the amount of model parameters\n",
        "                               mask_zero=True, #use masking to handle variable sequence length - more efficient\n",
        "                               name=\"token_embedding\")"
      ],
      "execution_count": 37,
      "outputs": []
    },
    {
      "cell_type": "code",
      "metadata": {
        "id": "mWjjpkkYpTTi",
        "colab": {
          "base_uri": "https://localhost:8080/"
        },
        "outputId": "bb1b8a54-f9b6-4be0-9aca-a9d03e7ddc9e"
      },
      "source": [
        "# Show example embedding\n",
        "print(f\"Sentence before vectorization:\\n {target_sentence}\\n\")\n",
        "vectorized_sentence = text_vectorizer([target_sentence])\n",
        "print(f\"Sentence after vectorization :\\n {vectorized_sentence}\")\n",
        "embedded_sentence = token_embed(vectorized_sentence)\n",
        "print(f\"Sentence after embedding:\\n {embedded_sentence}\")\n",
        "print(f\"Embedded sentence shape: {embedded_sentence.shape}\")"
      ],
      "execution_count": 38,
      "outputs": [
        {
          "output_type": "stream",
          "text": [
            "Sentence before vectorization:\n",
            " scenarios of implementing such a strategy in the dutch screening or health care system are currently being discussed with various stakeholders .\n",
            "\n",
            "Sentence after vectorization :\n",
            " [[3229    4 3263  345    8  606    5    2 2496  387   16   97   77  355\n",
            "    58 1325  571 3341    7 1139 7150    0    0    0    0    0    0    0\n",
            "     0    0    0    0    0    0    0    0    0    0    0    0    0    0\n",
            "     0    0    0    0    0    0    0    0    0    0    0    0    0]]\n",
            "Sentence after embedding:\n",
            " [[[ 0.04167995  0.03134197 -0.01108661 ... -0.02768364 -0.01570012\n",
            "    0.00777984]\n",
            "  [ 0.01759312  0.01600785 -0.0193491  ...  0.03376235 -0.04480448\n",
            "    0.03848255]\n",
            "  [ 0.02254227  0.03804567 -0.00582469 ... -0.02860291  0.04661075\n",
            "    0.02978161]\n",
            "  ...\n",
            "  [-0.04591805 -0.00091623  0.03032395 ... -0.040532   -0.0384893\n",
            "   -0.00548769]\n",
            "  [-0.04591805 -0.00091623  0.03032395 ... -0.040532   -0.0384893\n",
            "   -0.00548769]\n",
            "  [-0.04591805 -0.00091623  0.03032395 ... -0.040532   -0.0384893\n",
            "   -0.00548769]]]\n",
            "Embedded sentence shape: (1, 55, 128)\n"
          ],
          "name": "stdout"
        }
      ]
    },
    {
      "cell_type": "markdown",
      "metadata": {
        "id": "-Fh7JPTDp7hZ"
      },
      "source": [
        "## Creating datasets\n",
        "\n",
        "We´re going to setup our data to run as fast as possible with the TensorFlow tf.data API"
      ]
    },
    {
      "cell_type": "code",
      "metadata": {
        "id": "zwaounT28ioO",
        "colab": {
          "base_uri": "https://localhost:8080/"
        },
        "outputId": "69c0109a-69d0-4be6-8e56-37aed8a5e3c8"
      },
      "source": [
        "#Turn our data into TensorFlow Datasets\n",
        "train_dataset = tf.data.Dataset.from_tensor_slices((train_sentences, train_labels_one_hot))\n",
        "valid_dataset = tf.data.Dataset.from_tensor_slices((val_sentences, val_labels_one_hot))\n",
        "test_dataset = tf.data.Dataset.from_tensor_slices((test_sentences, test_labels_one_hot))\n",
        "\n",
        "train_dataset"
      ],
      "execution_count": 39,
      "outputs": [
        {
          "output_type": "execute_result",
          "data": {
            "text/plain": [
              "<TensorSliceDataset shapes: ((), (5,)), types: (tf.string, tf.float64)>"
            ]
          },
          "metadata": {},
          "execution_count": 39
        }
      ]
    },
    {
      "cell_type": "code",
      "metadata": {
        "id": "srwXLV039Dwi",
        "colab": {
          "base_uri": "https://localhost:8080/"
        },
        "outputId": "c051c16f-55aa-4860-ff97-f0dd401c225f"
      },
      "source": [
        "#Take the TensorSliceDataset´s and turn the into prefetched Datasets\n",
        "train_dataset = train_dataset.batch(32).prefetch(tf.data.AUTOTUNE)\n",
        "valid_dataset = valid_dataset.batch(32).prefetch(tf.data.AUTOTUNE)\n",
        "test_dataset = test_dataset.batch(32).prefetch(tf.data.AUTOTUNE)\n",
        "\n",
        "train_dataset"
      ],
      "execution_count": 40,
      "outputs": [
        {
          "output_type": "execute_result",
          "data": {
            "text/plain": [
              "<PrefetchDataset shapes: ((None,), (None, 5)), types: (tf.string, tf.float64)>"
            ]
          },
          "metadata": {},
          "execution_count": 40
        }
      ]
    },
    {
      "cell_type": "markdown",
      "metadata": {
        "id": "l3o63taM_SSm"
      },
      "source": [
        "## Model 1: Conv1D with token embeddings"
      ]
    },
    {
      "cell_type": "code",
      "metadata": {
        "id": "67YR4WO8LaRn"
      },
      "source": [
        "#Create 1D conv model to precess sequences\n",
        "inputs = layers.Input(shape=(1,), dtype=tf.string)\n",
        "text_vectors = text_vectorizer(inputs)\n",
        "token_embeddings = token_embed(text_vectors)\n",
        "x = layers.Conv1D(64, kernel_size=5, padding=\"same\", activation=\"relu\")(token_embeddings)\n",
        "x = layers.GlobalAveragePooling1D()(x)\n",
        "outputs = layers.Dense(num_classes, activation=\"softmax\")(x)\n",
        "model_1 = tf.keras.Model(inputs, outputs)"
      ],
      "execution_count": 41,
      "outputs": []
    },
    {
      "cell_type": "code",
      "metadata": {
        "id": "Mi8KpbVoMPyC"
      },
      "source": [
        "#compile the model\n",
        "model_1.compile(loss=\"categorical_crossentropy\", optimizer=\"Adam\", metrics=[\"accuracy\"])"
      ],
      "execution_count": 42,
      "outputs": []
    },
    {
      "cell_type": "code",
      "metadata": {
        "id": "3APqNSWGMgpM",
        "colab": {
          "base_uri": "https://localhost:8080/"
        },
        "outputId": "488d7606-7c7f-460d-c41b-7b0c810fc57e"
      },
      "source": [
        "model_1.summary()"
      ],
      "execution_count": 43,
      "outputs": [
        {
          "output_type": "stream",
          "text": [
            "Model: \"model\"\n",
            "_________________________________________________________________\n",
            "Layer (type)                 Output Shape              Param #   \n",
            "=================================================================\n",
            "input_1 (InputLayer)         [(None, 1)]               0         \n",
            "_________________________________________________________________\n",
            "text_vectorization (TextVect (None, 55)                0         \n",
            "_________________________________________________________________\n",
            "token_embedding (Embedding)  (None, 55, 128)           8299648   \n",
            "_________________________________________________________________\n",
            "conv1d (Conv1D)              (None, 55, 64)            41024     \n",
            "_________________________________________________________________\n",
            "global_average_pooling1d (Gl (None, 64)                0         \n",
            "_________________________________________________________________\n",
            "dense (Dense)                (None, 5)                 325       \n",
            "=================================================================\n",
            "Total params: 8,340,997\n",
            "Trainable params: 8,340,997\n",
            "Non-trainable params: 0\n",
            "_________________________________________________________________\n"
          ],
          "name": "stdout"
        }
      ]
    },
    {
      "cell_type": "code",
      "metadata": {
        "id": "1jX3O23QMmvJ",
        "colab": {
          "base_uri": "https://localhost:8080/"
        },
        "outputId": "def120f4-1ef0-4cb6-cd14-d97d24f44b07"
      },
      "source": [
        "# Fit the model\n",
        "history_model_1 = model_1.fit(train_dataset,steps_per_epoch=int(0.1*len(train_dataset)),\n",
        "                              epochs=3,\n",
        "                              validation_data=valid_dataset,\n",
        "                              validation_steps=int(0.1*len(valid_dataset)))"
      ],
      "execution_count": 44,
      "outputs": [
        {
          "output_type": "stream",
          "text": [
            "Epoch 1/3\n",
            "562/562 [==============================] - 36s 8ms/step - loss: 0.9155 - accuracy: 0.6347 - val_loss: 0.6861 - val_accuracy: 0.7374\n",
            "Epoch 2/3\n",
            "562/562 [==============================] - 4s 8ms/step - loss: 0.6534 - accuracy: 0.7592 - val_loss: 0.6239 - val_accuracy: 0.7726\n",
            "Epoch 3/3\n",
            "562/562 [==============================] - 4s 8ms/step - loss: 0.6125 - accuracy: 0.7768 - val_loss: 0.5917 - val_accuracy: 0.7859\n"
          ],
          "name": "stdout"
        }
      ]
    },
    {
      "cell_type": "code",
      "metadata": {
        "id": "5wMitaRbNoCX",
        "colab": {
          "base_uri": "https://localhost:8080/"
        },
        "outputId": "63026faf-4b08-4de2-c9c7-525d7e03e003"
      },
      "source": [
        "# Evaluate on whole validation dataset\n",
        "model_1.evaluate(valid_dataset)"
      ],
      "execution_count": 45,
      "outputs": [
        {
          "output_type": "stream",
          "text": [
            "945/945 [==============================] - 3s 3ms/step - loss: 0.5929 - accuracy: 0.7876\n"
          ],
          "name": "stdout"
        },
        {
          "output_type": "execute_result",
          "data": {
            "text/plain": [
              "[0.5929479002952576, 0.7876340746879578]"
            ]
          },
          "metadata": {},
          "execution_count": 45
        }
      ]
    },
    {
      "cell_type": "code",
      "metadata": {
        "id": "iVjJYYV0OPMu",
        "colab": {
          "base_uri": "https://localhost:8080/"
        },
        "outputId": "0d3cde36-e5d9-4c2b-b890-5ea47374c0e3"
      },
      "source": [
        "# Make predictions (our model predicts prediction probabilities)\n",
        "model_1_pred_probs = model_1.predict(valid_dataset)\n",
        "model_1_pred_probs, model_1_pred_probs.shape"
      ],
      "execution_count": 46,
      "outputs": [
        {
          "output_type": "execute_result",
          "data": {
            "text/plain": [
              "(array([[4.67411250e-01, 1.81510061e-01, 7.46657327e-02, 2.49796405e-01,\n",
              "         2.66165268e-02],\n",
              "        [4.45767075e-01, 2.94736117e-01, 1.53169530e-02, 2.32763916e-01,\n",
              "         1.14159519e-02],\n",
              "        [1.19244054e-01, 4.71818307e-03, 1.42951310e-03, 8.74548793e-01,\n",
              "         5.94178600e-05],\n",
              "        ...,\n",
              "        [3.68818223e-06, 5.00875991e-04, 4.48371982e-04, 2.11017687e-06,\n",
              "         9.99044955e-01],\n",
              "        [4.83167879e-02, 4.59475130e-01, 1.05099037e-01, 5.94637841e-02,\n",
              "         3.27645332e-01],\n",
              "        [1.82569370e-01, 6.76066637e-01, 4.56586592e-02, 4.59321141e-02,\n",
              "         4.97730933e-02]], dtype=float32), (30212, 5))"
            ]
          },
          "metadata": {},
          "execution_count": 46
        }
      ]
    },
    {
      "cell_type": "code",
      "metadata": {
        "id": "AG_msmBVOcPl",
        "colab": {
          "base_uri": "https://localhost:8080/"
        },
        "outputId": "b621c7be-713e-479b-e72d-79c2f625fc81"
      },
      "source": [
        "#Convert pred probs to classes \n",
        "model_1_preds = tf.argmax(model_1_pred_probs, axis=1)\n",
        "model_1_preds"
      ],
      "execution_count": 47,
      "outputs": [
        {
          "output_type": "execute_result",
          "data": {
            "text/plain": [
              "<tf.Tensor: shape=(30212,), dtype=int64, numpy=array([0, 0, 3, ..., 4, 1, 1])>"
            ]
          },
          "metadata": {},
          "execution_count": 47
        }
      ]
    },
    {
      "cell_type": "code",
      "metadata": {
        "id": "bfH0nLMPOwMW",
        "colab": {
          "base_uri": "https://localhost:8080/"
        },
        "outputId": "d87f8a71-552a-4b7e-c1fd-021f3b1939b0"
      },
      "source": [
        "# Calculate model_1 results\n",
        "model_1_results = calculate_results(val_labels_encoded, model_1_preds)\n",
        "model_1_results"
      ],
      "execution_count": 48,
      "outputs": [
        {
          "output_type": "execute_result",
          "data": {
            "text/plain": [
              "{'accuracy': 78.76340526942937,\n",
              " 'f1': 0.7850544749298518,\n",
              " 'precision': 0.7842702746069542,\n",
              " 'recall': 0.7876340526942937}"
            ]
          },
          "metadata": {},
          "execution_count": 48
        }
      ]
    },
    {
      "cell_type": "markdown",
      "metadata": {
        "id": "zCRl0zLkO6mX"
      },
      "source": [
        "## Model 2: Feature extraction with pretrained token embeddings"
      ]
    },
    {
      "cell_type": "code",
      "metadata": {
        "id": "ZZI9fJJJPgAE"
      },
      "source": [
        "# Download pretrained TensorFlow Hub USE\n",
        "import tensorflow_hub as hub\n",
        "tf_hub_embedding_layer = hub.KerasLayer(\"https://tfhub.dev/google/universal-sentence-encoder/4\", trainable=False,\n",
        "                                       name=\"universal_sentence_encoder\")"
      ],
      "execution_count": 49,
      "outputs": []
    },
    {
      "cell_type": "code",
      "metadata": {
        "id": "NLk_1Y98RfPw",
        "colab": {
          "base_uri": "https://localhost:8080/"
        },
        "outputId": "d939d6a3-533a-41b4-c3e0-a4bd4d08e590"
      },
      "source": [
        "#Test out embedding\n",
        "random_train_sentence = random.choice(train_sentences)\n",
        "print(f\"Random sentence:\\n{random_train_sentence}\")\n",
        "use_embedded_sentence = tf_hub_embedding_layer([random_train_sentence])\n",
        "print(f\"Sentence after embedding:\\n{use_embedded_sentence[0][:30]}\\n\")\n",
        "print(f\"Length of sentence embedding: {len(use_embedded_sentence[0])}\")"
      ],
      "execution_count": 50,
      "outputs": [
        {
          "output_type": "stream",
          "text": [
            "Random sentence:\n",
            "a total of @ consecutive people with epilepsy were enrolled from the epilepsy clinic of a tertiary care hospital in north india .\n",
            "Sentence after embedding:\n",
            "[-0.0356731   0.06976033  0.01791667 -0.07122005  0.00345451  0.06765463\n",
            "  0.00969753  0.02238892  0.01144036 -0.06706045  0.0832843   0.06462184\n",
            " -0.03516258  0.05317726  0.04571813 -0.00656716 -0.08378866 -0.0028788\n",
            " -0.06514843 -0.05506721 -0.05628474 -0.00431261  0.06424575  0.02625145\n",
            " -0.0160864  -0.056775    0.01024947  0.05945393 -0.02139491  0.00157114]\n",
            "\n",
            "Length of sentence embedding: 512\n"
          ],
          "name": "stdout"
        }
      ]
    },
    {
      "cell_type": "markdown",
      "metadata": {
        "id": "TowrDa-6SF3H"
      },
      "source": [
        "## Building an fitting an NLP feature extraction model using pretrained embeddings"
      ]
    },
    {
      "cell_type": "code",
      "metadata": {
        "id": "tPmSzFh3sDNC"
      },
      "source": [
        "#Build the model\n",
        "inputs = layers.Input(shape=[], dtype=tf.string)\n",
        "pretrained_embedding = tf_hub_embedding_layer(inputs)\n",
        "x = layers.Dense(128, activation=\"relu\")(pretrained_embedding)\n",
        "outputs = layers.Dense(num_classes, activation=\"softmax\")(x)\n",
        "model_2 = tf.keras.Model(inputs, outputs, name=\"model_2_USE_feature_extractor\")"
      ],
      "execution_count": 51,
      "outputs": []
    },
    {
      "cell_type": "code",
      "metadata": {
        "id": "aHeAEF-xs2SO"
      },
      "source": [
        "#Compile the mpdel\n",
        "model_2.compile(loss=\"categorical_crossentropy\", optimizer=\"Adam\", metrics=[\"accuracy\"])"
      ],
      "execution_count": 52,
      "outputs": []
    },
    {
      "cell_type": "code",
      "metadata": {
        "id": "tvb6Bxe4tAwf",
        "colab": {
          "base_uri": "https://localhost:8080/"
        },
        "outputId": "8d8b4d4b-178b-418d-e5e9-0267b5fe95ce"
      },
      "source": [
        "#Fit the model\n",
        "history_model_2 = model_2.fit(train_dataset, epochs=3,\n",
        "                              steps_per_epoch=int(0.1*len(train_dataset)),\n",
        "                              validation_data=valid_dataset, \n",
        "                              validation_steps=int(0.1*len(valid_dataset)))"
      ],
      "execution_count": 53,
      "outputs": [
        {
          "output_type": "stream",
          "text": [
            "Epoch 1/3\n",
            "562/562 [==============================] - 8s 12ms/step - loss: 0.9130 - accuracy: 0.6511 - val_loss: 0.7965 - val_accuracy: 0.6895\n",
            "Epoch 2/3\n",
            "562/562 [==============================] - 6s 11ms/step - loss: 0.7684 - accuracy: 0.7026 - val_loss: 0.7543 - val_accuracy: 0.7051\n",
            "Epoch 3/3\n",
            "562/562 [==============================] - 6s 11ms/step - loss: 0.7521 - accuracy: 0.7133 - val_loss: 0.7371 - val_accuracy: 0.7151\n"
          ],
          "name": "stdout"
        }
      ]
    },
    {
      "cell_type": "code",
      "metadata": {
        "id": "Tic4vhcetkG_",
        "colab": {
          "base_uri": "https://localhost:8080/"
        },
        "outputId": "902ffb88-edcf-41e2-9087-18bce1ca3233"
      },
      "source": [
        "# Evaluate on the whole validation set\n",
        "model_2.evaluate(valid_dataset)"
      ],
      "execution_count": 54,
      "outputs": [
        {
          "output_type": "stream",
          "text": [
            "945/945 [==============================] - 9s 9ms/step - loss: 0.7406 - accuracy: 0.7147\n"
          ],
          "name": "stdout"
        },
        {
          "output_type": "execute_result",
          "data": {
            "text/plain": [
              "[0.7405902147293091, 0.7147160172462463]"
            ]
          },
          "metadata": {},
          "execution_count": 54
        }
      ]
    },
    {
      "cell_type": "code",
      "metadata": {
        "id": "7-7QIGQIt9Ra",
        "colab": {
          "base_uri": "https://localhost:8080/"
        },
        "outputId": "87b12c14-5ca9-46ce-ec0e-49722435a820"
      },
      "source": [
        "# Make predictions\n",
        "model_2_pred_probs = model_2.predict(valid_dataset)\n",
        "model_2_pred_probs"
      ],
      "execution_count": 55,
      "outputs": [
        {
          "output_type": "execute_result",
          "data": {
            "text/plain": [
              "array([[3.9955875e-01, 3.8330820e-01, 2.6949840e-03, 2.0563364e-01,\n",
              "        8.8044629e-03],\n",
              "       [3.2505840e-01, 5.4507518e-01, 4.6847202e-03, 1.2241491e-01,\n",
              "        2.7667517e-03],\n",
              "       [2.2697653e-01, 1.3712128e-01, 2.0997364e-02, 5.7613933e-01,\n",
              "        3.8765471e-02],\n",
              "       ...,\n",
              "       [1.5921070e-03, 4.7629634e-03, 5.6708504e-02, 8.3990203e-04,\n",
              "        9.3609649e-01],\n",
              "       [3.9957347e-03, 4.5414783e-02, 1.9665946e-01, 1.5340467e-03,\n",
              "        7.5239593e-01],\n",
              "       [1.5042873e-01, 2.8687552e-01, 5.0261599e-01, 6.7594973e-03,\n",
              "        5.3320300e-02]], dtype=float32)"
            ]
          },
          "metadata": {},
          "execution_count": 55
        }
      ]
    },
    {
      "cell_type": "code",
      "metadata": {
        "id": "8dAiYe54uEoj",
        "colab": {
          "base_uri": "https://localhost:8080/"
        },
        "outputId": "73de2ede-b374-45de-c298-be22700cb027"
      },
      "source": [
        "#convert prediction probabilities\n",
        "model_2_preds = tf.argmax(model_2_pred_probs, axis=1)\n",
        "model_2_preds"
      ],
      "execution_count": 56,
      "outputs": [
        {
          "output_type": "execute_result",
          "data": {
            "text/plain": [
              "<tf.Tensor: shape=(30212,), dtype=int64, numpy=array([0, 1, 3, ..., 4, 4, 2])>"
            ]
          },
          "metadata": {},
          "execution_count": 56
        }
      ]
    },
    {
      "cell_type": "code",
      "metadata": {
        "id": "9BYtwIRDuP0Y",
        "colab": {
          "base_uri": "https://localhost:8080/"
        },
        "outputId": "0023266a-5bb5-4a7e-b62d-78ec3633a36b"
      },
      "source": [
        "#Calculate Results\n",
        "model_2_results = calculate_results(val_labels_encoded, model_2_preds)\n",
        "model_2_results"
      ],
      "execution_count": 57,
      "outputs": [
        {
          "output_type": "execute_result",
          "data": {
            "text/plain": [
              "{'accuracy': 71.47160068846816,\n",
              " 'f1': 0.7118438483369793,\n",
              " 'precision': 0.7151991355431538,\n",
              " 'recall': 0.7147160068846816}"
            ]
          },
          "metadata": {},
          "execution_count": 57
        }
      ]
    },
    {
      "cell_type": "markdown",
      "metadata": {
        "id": "PRyzxcBXuZ-v"
      },
      "source": [
        "## Model 3: Conv1D with character embeddings\n",
        "\n",
        "Each character get´s turned into a feature vector"
      ]
    },
    {
      "cell_type": "markdown",
      "metadata": {
        "id": "2klFLUV33ePf"
      },
      "source": [
        "### Creating a character-level tokenizer"
      ]
    },
    {
      "cell_type": "code",
      "metadata": {
        "id": "2H89VoB-4SX7",
        "colab": {
          "base_uri": "https://localhost:8080/",
          "height": 0
        },
        "outputId": "9402e5c5-1ce7-441a-fb7c-5206d53e127e"
      },
      "source": [
        "# Make funktion to split sentences into characters\n",
        "def split_chars(text):\n",
        "  return \" \".join(list(text))\n",
        "\n",
        "# Test splitting nono-chracter-level sequence into character\n",
        "split_chars(random_train_sentence)"
      ],
      "execution_count": 58,
      "outputs": [
        {
          "output_type": "execute_result",
          "data": {
            "application/vnd.google.colaboratory.intrinsic+json": {
              "type": "string"
            },
            "text/plain": [
              "'a   t o t a l   o f   @   c o n s e c u t i v e   p e o p l e   w i t h   e p i l e p s y   w e r e   e n r o l l e d   f r o m   t h e   e p i l e p s y   c l i n i c   o f   a   t e r t i a r y   c a r e   h o s p i t a l   i n   n o r t h   i n d i a   .'"
            ]
          },
          "metadata": {},
          "execution_count": 58
        }
      ]
    },
    {
      "cell_type": "code",
      "metadata": {
        "id": "YLeEaKB54rRj",
        "colab": {
          "base_uri": "https://localhost:8080/"
        },
        "outputId": "426b5438-a242-4dc2-e874-81f42641d6ca"
      },
      "source": [
        "#Split data into characters\n",
        "train_chars = [split_chars(sentence) for sentence in train_sentences]\n",
        "val_chars = [split_chars(sentence) for sentence in val_sentences]\n",
        "test_chars = [split_chars(sentence) for sentence in test_sentences]\n",
        "train_chars[:5]"
      ],
      "execution_count": 59,
      "outputs": [
        {
          "output_type": "execute_result",
          "data": {
            "text/plain": [
              "['t o   i n v e s t i g a t e   t h e   e f f i c a c y   o f   @   w e e k s   o f   d a i l y   l o w - d o s e   o r a l   p r e d n i s o l o n e   i n   i m p r o v i n g   p a i n   ,   m o b i l i t y   ,   a n d   s y s t e m i c   l o w - g r a d e   i n f l a m m a t i o n   i n   t h e   s h o r t   t e r m   a n d   w h e t h e r   t h e   e f f e c t   w o u l d   b e   s u s t a i n e d   a t   @   w e e k s   i n   o l d e r   a d u l t s   w i t h   m o d e r a t e   t o   s e v e r e   k n e e   o s t e o a r t h r i t i s   (   o a   )   .',\n",
              " 'a   t o t a l   o f   @   p a t i e n t s   w i t h   p r i m a r y   k n e e   o a   w e r e   r a n d o m i z e d   @ : @   ;   @   r e c e i v e d   @   m g / d a y   o f   p r e d n i s o l o n e   a n d   @   r e c e i v e d   p l a c e b o   f o r   @   w e e k s   .',\n",
              " 'o u t c o m e   m e a s u r e s   i n c l u d e d   p a i n   r e d u c t i o n   a n d   i m p r o v e m e n t   i n   f u n c t i o n   s c o r e s   a n d   s y s t e m i c   i n f l a m m a t i o n   m a r k e r s   .',\n",
              " 'p a i n   w a s   a s s e s s e d   u s i n g   t h e   v i s u a l   a n a l o g   p a i n   s c a l e   (   @ - @   m m   )   .',\n",
              " 's e c o n d a r y   o u t c o m e   m e a s u r e s   i n c l u d e d   t h e   w e s t e r n   o n t a r i o   a n d   m c m a s t e r   u n i v e r s i t i e s   o s t e o a r t h r i t i s   i n d e x   s c o r e s   ,   p a t i e n t   g l o b a l   a s s e s s m e n t   (   p g a   )   o f   t h e   s e v e r i t y   o f   k n e e   o a   ,   a n d   @ - m i n   w a l k   d i s t a n c e   (   @ m w d   )   .']"
            ]
          },
          "metadata": {},
          "execution_count": 59
        }
      ]
    },
    {
      "cell_type": "code",
      "metadata": {
        "id": "8wbE64Ea5F0p",
        "colab": {
          "base_uri": "https://localhost:8080/"
        },
        "outputId": "0e814892-2b2d-4777-8c18-595474c5d295"
      },
      "source": [
        "# What´s the average character length?\n",
        "char_lens = [len(sentence) for sentence in train_sentences]\n",
        "mean_char_len = np.mean(char_lens)\n",
        "mean_char_len"
      ],
      "execution_count": 60,
      "outputs": [
        {
          "output_type": "execute_result",
          "data": {
            "text/plain": [
              "149.3662574983337"
            ]
          },
          "metadata": {},
          "execution_count": 60
        }
      ]
    },
    {
      "cell_type": "code",
      "metadata": {
        "id": "N_2JhPzW5WlE",
        "colab": {
          "base_uri": "https://localhost:8080/",
          "height": 0
        },
        "outputId": "de33acb1-a34a-465a-c11c-cf7b25421314"
      },
      "source": [
        "# Check the distribution of our sequences of character level\n",
        "import matplotlib.pyplot as plt\n",
        "plt.hist(char_lens, bins=7)"
      ],
      "execution_count": 61,
      "outputs": [
        {
          "output_type": "execute_result",
          "data": {
            "text/plain": [
              "(array([1.41175e+05, 3.71110e+04, 1.60000e+03, 1.27000e+02, 2.10000e+01,\n",
              "        5.00000e+00, 1.00000e+00]),\n",
              " array([1.00000000e+00, 1.98857143e+02, 3.96714286e+02, 5.94571429e+02,\n",
              "        7.92428571e+02, 9.90285714e+02, 1.18814286e+03, 1.38600000e+03]),\n",
              " <a list of 7 Patch objects>)"
            ]
          },
          "metadata": {},
          "execution_count": 61
        },
        {
          "output_type": "display_data",
          "data": {
            "image/png": "[encoded data removed]",
            "text/plain": [
              "<Figure size 432x288 with 1 Axes>"
            ]
          },
          "metadata": {
            "needs_background": "light"
          }
        }
      ]
    },
    {
      "cell_type": "code",
      "metadata": {
        "id": "hxubOOXe5uuY",
        "colab": {
          "base_uri": "https://localhost:8080/"
        },
        "outputId": "bfcdbd07-188d-4174-cb3e-3d709cbb942b"
      },
      "source": [
        "# Find what character length covers 96% of sequences\n",
        "output_seq_char_len = int(np.percentile(char_lens, 95))\n",
        "output_seq_char_len"
      ],
      "execution_count": 62,
      "outputs": [
        {
          "output_type": "execute_result",
          "data": {
            "text/plain": [
              "290"
            ]
          },
          "metadata": {},
          "execution_count": 62
        }
      ]
    },
    {
      "cell_type": "code",
      "metadata": {
        "id": "qxIOFOjr6K6l",
        "colab": {
          "base_uri": "https://localhost:8080/",
          "height": 0
        },
        "outputId": "95d15c38-43f6-4141-ca53-dadc4b417efb"
      },
      "source": [
        "# Get all keyboard character\n",
        "import string\n",
        "alphabet = string.ascii_lowercase + string.digits + string.punctuation\n",
        "alphabet"
      ],
      "execution_count": 63,
      "outputs": [
        {
          "output_type": "execute_result",
          "data": {
            "application/vnd.google.colaboratory.intrinsic+json": {
              "type": "string"
            },
            "text/plain": [
              "'abcdefghijklmnopqrstuvwxyz0123456789!\"#$%&\\'()*+,-./:;<=>?@[\\\\]^_`{|}~'"
            ]
          },
          "metadata": {},
          "execution_count": 63
        }
      ]
    },
    {
      "cell_type": "code",
      "metadata": {
        "id": "X5FvyRrt7VV7"
      },
      "source": [
        "# create char-level token vectorizer instance\n",
        "NUM_CHAR_TOKENS = len(alphabet) + 2 # add 2 for space and OOV token\n",
        "char_vectorizer = TextVectorization(max_tokens=NUM_CHAR_TOKENS,\n",
        "                                    output_sequence_length=output_seq_char_len,\n",
        "                                    standardize=\"lower_and_strip_punctuation\", \n",
        "                                    name=\"char_vectorizer\")"
      ],
      "execution_count": 64,
      "outputs": []
    },
    {
      "cell_type": "code",
      "metadata": {
        "id": "_vuPpo3a7sMf"
      },
      "source": [
        "#Adapt character vectorizer to training character\n",
        "char_vectorizer.adapt(train_chars)"
      ],
      "execution_count": 65,
      "outputs": []
    },
    {
      "cell_type": "code",
      "metadata": {
        "id": "xLiHQ2ko8YFK",
        "colab": {
          "base_uri": "https://localhost:8080/"
        },
        "outputId": "82fba24a-d607-424b-9180-99ddfa7ace8a"
      },
      "source": [
        "#Check character vocab stats\n",
        "char_vocab = char_vectorizer.get_vocabulary()\n",
        "print(f\"Number of different characters in character vocab: {len(char_vocab)}\")\n",
        "print(f\"5 most common characters: {char_vocab[:5]}\")\n",
        "print(f\"5 least common character: {char_vocab[-5:]}\")"
      ],
      "execution_count": 66,
      "outputs": [
        {
          "output_type": "stream",
          "text": [
            "Number of different characters in character vocab: 28\n",
            "5 most common characters: ['', '[UNK]', 'e', 't', 'i']\n",
            "5 least common character: ['k', 'x', 'z', 'q', 'j']\n"
          ],
          "name": "stdout"
        }
      ]
    },
    {
      "cell_type": "code",
      "metadata": {
        "id": "CgeAWzjF84ZC",
        "colab": {
          "base_uri": "https://localhost:8080/"
        },
        "outputId": "a9a2cd6f-12c9-4416-d464-b1bfc0fcd5b3"
      },
      "source": [
        "# Test out character vectorizer\n",
        "random_train_chars = random.choice(train_chars)\n",
        "print(f\"Charified text: \\n {random_train_chars}\")\n",
        "print(f\"Length of random_train_char: {len(random_train_chars.split())}\")\n",
        "vectorized_chars = char_vectorizer([random_train_chars])\n",
        "print(f\"\\Vectorized chars:\\n {vectorized_chars}\")\n",
        "print(f\"\\nLength of vectorized chars: {len(vectorized_chars[0])}\")"
      ],
      "execution_count": 67,
      "outputs": [
        {
          "output_type": "stream",
          "text": [
            "Charified text: \n",
            " p a t i e n t s   (   n   =   @ , @   )   w e r e   a g e d   @   t o   @   y e a r s   ,   p r e s e n t i n g   w i t h   h y p e r t e n s i o n   ,   d y s l i p i d e m i a   ,   o r   d i a b e t e s   m e l l i t u s   r e c r u i t e d   b y   p r i m a r y   c a r e   p h y s i c i a n s   a t   @   c l i n i c s   i n   j a p a n   b e t w e e n   m a r c h   @   a n d   j u n e   @   ,   a n d   w e r e   f o l l o w e d   u p   f o r   u p   t o   @   y e a r s   ,   w i t h   l a s t   f o l l o w - u p   i n   m a y   @   .\n",
            "Length of random_train_char: 217\n",
            "\\Vectorized chars:\n",
            " [[14  5  3  4  2  6  3  9  6 20  2  8  2  5 18  2 10  3  7 19  2  5  8  9\n",
            "  14  8  2  9  2  6  3  4  6 18 20  4  3 13 13 19 14  2  8  3  2  6  9  4\n",
            "   7  6 10 19  9 12  4 14  4 10  2 15  4  5  7  8 10  4  5 22  2  3  2  9\n",
            "  15  2 12 12  4  3 16  9  8  2 11  8 16  4  3  2 10 22 19 14  8  4 15  5\n",
            "   8 19 11  5  8  2 14 13 19  9  4 11  4  5  6  9  5  3 11 12  4  6  4 11\n",
            "   9  4  6 27  5 14  5  6 22  2  3 20  2  2  6 15  5  8 11 13  5  6 10 27\n",
            "  16  6  2  5  6 10 20  2  8  2 17  7 12 12  7 20  2 10 16 14 17  7  8 16\n",
            "  14  3  7 19  2  5  8  9 20  4  3 13 12  5  9  3 17  7 12 12  7 20 16 14\n",
            "   4  6 15  5 19  0  0  0  0  0  0  0  0  0  0  0  0  0  0  0  0  0  0  0\n",
            "   0  0  0  0  0  0  0  0  0  0  0  0  0  0  0  0  0  0  0  0  0  0  0  0\n",
            "   0  0  0  0  0  0  0  0  0  0  0  0  0  0  0  0  0  0  0  0  0  0  0  0\n",
            "   0  0  0  0  0  0  0  0  0  0  0  0  0  0  0  0  0  0  0  0  0  0  0  0\n",
            "   0  0]]\n",
            "\n",
            "Length of vectorized chars: 290\n"
          ],
          "name": "stdout"
        }
      ]
    },
    {
      "cell_type": "markdown",
      "metadata": {
        "id": "bphiWkLN-It0"
      },
      "source": [
        "### Creating a character level embedding"
      ]
    },
    {
      "cell_type": "code",
      "metadata": {
        "id": "tDj7nj2L-1V5"
      },
      "source": [
        "#Create char embedding layer\n",
        "char_embed = layers.Embedding(input_dim=len(char_vocab),\n",
        "                              output_dim=25,#get this outout dim from research paper\n",
        "                              mask_zero=True,\n",
        "                              name=\"char_embed\")"
      ],
      "execution_count": 68,
      "outputs": []
    },
    {
      "cell_type": "code",
      "metadata": {
        "id": "SGiCTkYz_Xmj",
        "colab": {
          "base_uri": "https://localhost:8080/"
        },
        "outputId": "36b1b071-b903-4363-bb52-34ba91ac5161"
      },
      "source": [
        "#Test out character embedding layer\n",
        "print(f\"Charified text:\\n {random_train_chars}\")\n",
        "char_embed_example = char_embed(char_vectorizer([random_train_chars]))\n",
        "print(f\"Embedded chars (after vectorization):\\n {char_embed_example}\\n\")\n",
        "print(f\"Character embedding shape: {char_embed_example.shape}\")"
      ],
      "execution_count": 69,
      "outputs": [
        {
          "output_type": "stream",
          "text": [
            "Charified text:\n",
            " p a t i e n t s   (   n   =   @ , @   )   w e r e   a g e d   @   t o   @   y e a r s   ,   p r e s e n t i n g   w i t h   h y p e r t e n s i o n   ,   d y s l i p i d e m i a   ,   o r   d i a b e t e s   m e l l i t u s   r e c r u i t e d   b y   p r i m a r y   c a r e   p h y s i c i a n s   a t   @   c l i n i c s   i n   j a p a n   b e t w e e n   m a r c h   @   a n d   j u n e   @   ,   a n d   w e r e   f o l l o w e d   u p   f o r   u p   t o   @   y e a r s   ,   w i t h   l a s t   f o l l o w - u p   i n   m a y   @   .\n",
            "Embedded chars (after vectorization):\n",
            " [[[ 0.02925613  0.00299927 -0.02093896 ...  0.0200086   0.00968815\n",
            "    0.02927328]\n",
            "  [-0.04385784  0.00129021  0.04963234 ...  0.02699945  0.02127869\n",
            "    0.00503736]\n",
            "  [ 0.03125485 -0.0401331   0.029514   ...  0.02619145  0.03981717\n",
            "    0.00575843]\n",
            "  ...\n",
            "  [-0.04419884 -0.04042646  0.00167444 ...  0.04709018  0.03339798\n",
            "    0.00955804]\n",
            "  [-0.04419884 -0.04042646  0.00167444 ...  0.04709018  0.03339798\n",
            "    0.00955804]\n",
            "  [-0.04419884 -0.04042646  0.00167444 ...  0.04709018  0.03339798\n",
            "    0.00955804]]]\n",
            "\n",
            "Character embedding shape: (1, 290, 25)\n"
          ],
          "name": "stdout"
        }
      ]
    },
    {
      "cell_type": "markdown",
      "metadata": {
        "id": "LAOLrKf8_wIX"
      },
      "source": [
        "## Building a Conv1D model to fit on character embeddings"
      ]
    },
    {
      "cell_type": "code",
      "metadata": {
        "id": "cG4oanZvAVod"
      },
      "source": [
        "#Build the model\n",
        "inputs = layers.Input(shape=(1,), dtype=\"string\")\n",
        "char_vectors = char_vectorizer(inputs)\n",
        "char_embeddings = char_embed(char_vectors)\n",
        "x = layers.Conv1D(64, kernel_size=5, padding=\"same\", activation=\"relu\")(char_embeddings)\n",
        "x = layers.GlobalMaxPooling1D()(x)\n",
        "outputs = layers.Dense(num_classes, activation=\"softmax\")(x)\n",
        "model_3 = tf.keras.Model(inputs, outputs)"
      ],
      "execution_count": 70,
      "outputs": []
    },
    {
      "cell_type": "code",
      "metadata": {
        "id": "ioE0Kc8ZBK3R"
      },
      "source": [
        "#Compile the model\n",
        "model_3.compile(loss=\"categorical_crossentropy\", optimizer=\"Adam\", metrics=[\"accuracy\"])"
      ],
      "execution_count": 71,
      "outputs": []
    },
    {
      "cell_type": "code",
      "metadata": {
        "id": "ifcK7bdiBmwA",
        "colab": {
          "base_uri": "https://localhost:8080/"
        },
        "outputId": "c77f35c1-6884-40a2-d286-d0a6283ff421"
      },
      "source": [
        "#create cgar level datasets\n",
        "train_char_dataset = tf.data.Dataset.from_tensor_slices((train_chars, train_labels_one_hot)).batch(32).prefetch(tf.data.AUTOTUNE)\n",
        "valid_char_dataset = tf.data.Dataset.from_tensor_slices((val_chars, val_labels_one_hot)).batch(32).prefetch(tf.data.AUTOTUNE)\n",
        "test_char_dataset = tf.data.Dataset.from_tensor_slices((test_chars, test_labels_one_hot)).batch(32).prefetch(tf.data.AUTOTUNE)\n",
        "train_char_dataset"
      ],
      "execution_count": 72,
      "outputs": [
        {
          "output_type": "execute_result",
          "data": {
            "text/plain": [
              "<PrefetchDataset shapes: ((None,), (None, 5)), types: (tf.string, tf.float64)>"
            ]
          },
          "metadata": {},
          "execution_count": 72
        }
      ]
    },
    {
      "cell_type": "code",
      "metadata": {
        "id": "Gijm8p9bCQzP",
        "colab": {
          "base_uri": "https://localhost:8080/"
        },
        "outputId": "09967a49-68c5-4e96-8a80-5417de03b991"
      },
      "source": [
        "#Fit the model on chars only\n",
        "history_model_3 = model_3.fit(train_char_dataset,\n",
        "                            steps_per_epoch=int(0.1*len(train_char_dataset)),\n",
        "                            epochs=3,\n",
        "                            validation_data=valid_char_dataset,\n",
        "                            validation_steps=int(0.1*len(valid_char_dataset)))"
      ],
      "execution_count": 73,
      "outputs": [
        {
          "output_type": "stream",
          "text": [
            "Epoch 1/3\n",
            "562/562 [==============================] - 4s 5ms/step - loss: 1.2836 - accuracy: 0.4804 - val_loss: 1.0666 - val_accuracy: 0.5805\n",
            "Epoch 2/3\n",
            "562/562 [==============================] - 3s 5ms/step - loss: 1.0160 - accuracy: 0.5941 - val_loss: 0.9566 - val_accuracy: 0.6190\n",
            "Epoch 3/3\n",
            "562/562 [==============================] - 3s 5ms/step - loss: 0.9294 - accuracy: 0.6351 - val_loss: 0.8768 - val_accuracy: 0.6609\n"
          ],
          "name": "stdout"
        }
      ]
    },
    {
      "cell_type": "code",
      "metadata": {
        "id": "U-bASozbCsOe",
        "colab": {
          "base_uri": "https://localhost:8080/"
        },
        "outputId": "4608aef4-d34f-403e-915d-ad07f7219ea8"
      },
      "source": [
        "#Make predictions with character model only\n",
        "model_3_preds_probs = model_3.predict(valid_char_dataset)\n",
        "model_3_preds_probs"
      ],
      "execution_count": 74,
      "outputs": [
        {
          "output_type": "execute_result",
          "data": {
            "text/plain": [
              "array([[0.15977643, 0.18194386, 0.2886221 , 0.31028852, 0.05936904],\n",
              "       [0.2054278 , 0.55068505, 0.02758986, 0.15081432, 0.065483  ],\n",
              "       [0.12895888, 0.28177378, 0.30070677, 0.15096056, 0.13759999],\n",
              "       ...,\n",
              "       [0.01658702, 0.03665575, 0.07760967, 0.02459767, 0.84454983],\n",
              "       [0.01371901, 0.04061836, 0.19280456, 0.01914542, 0.7337127 ],\n",
              "       [0.514102  , 0.3029358 , 0.11435943, 0.05315598, 0.01544677]],\n",
              "      dtype=float32)"
            ]
          },
          "metadata": {},
          "execution_count": 74
        }
      ]
    },
    {
      "cell_type": "code",
      "metadata": {
        "id": "DXjC4x67DElc",
        "colab": {
          "base_uri": "https://localhost:8080/"
        },
        "outputId": "657abb6a-4b2a-4ab7-8a86-e5ff09c7670c"
      },
      "source": [
        "#Convert prediction probs to class labels\n",
        "model_3_preds = tf.argmax(model_3_preds_probs, axis=1)\n",
        "model_3_preds"
      ],
      "execution_count": 75,
      "outputs": [
        {
          "output_type": "execute_result",
          "data": {
            "text/plain": [
              "<tf.Tensor: shape=(30212,), dtype=int64, numpy=array([3, 1, 2, ..., 4, 4, 0])>"
            ]
          },
          "metadata": {},
          "execution_count": 75
        }
      ]
    },
    {
      "cell_type": "code",
      "metadata": {
        "id": "mLd6e1xoDLup",
        "colab": {
          "base_uri": "https://localhost:8080/"
        },
        "outputId": "705703bc-5e1f-43aa-cc11-dbb4a8afc449"
      },
      "source": [
        "#Calculate the results\n",
        "model_3_results = calculate_results(val_labels_encoded,\n",
        "                                    model_3_preds)\n",
        "\n",
        "model_3_results"
      ],
      "execution_count": 76,
      "outputs": [
        {
          "output_type": "execute_result",
          "data": {
            "text/plain": [
              "{'accuracy': 65.33827618164968,\n",
              " 'f1': 0.6426188687153028,\n",
              " 'precision': 0.6444536290278997,\n",
              " 'recall': 0.6533827618164968}"
            ]
          },
          "metadata": {},
          "execution_count": 76
        }
      ]
    },
    {
      "cell_type": "markdown",
      "metadata": {
        "id": "cDBeT_50_VeE"
      },
      "source": [
        "## Model 4: Combining pretrained token embeddings + character embeddings (hybrid embedding layer\n",
        "\n",
        "1. Create a token-level embedding model (similar to model 1)\n",
        "2. Create a character-level model (similar to model 3 with modifications)\n",
        "3. Combine 1 & 2 with a concatenate layer\n",
        "4. Build a series of output layers on top of 3 similar to Figure 1 and section 4.2 in research paper\n",
        "5. Construct a model which takes token and character-level sequences as input and produces sequence label probabilities as output"
      ]
    },
    {
      "cell_type": "code",
      "metadata": {
        "id": "c67LDKqTARpC"
      },
      "source": [
        "# 1. Setup token inputs/model\n",
        "token_inputs = layers.Input(shape=[], dtype=tf.string, name=\"token_input\")\n",
        "token_embeddings = tf_hub_embedding_layer(token_inputs)\n",
        "token_outputs = layers.Dense(128, activation=\"relu\")(token_embeddings)\n",
        "token_model = tf.keras.Model(token_inputs, token_outputs)"
      ],
      "execution_count": 77,
      "outputs": []
    },
    {
      "cell_type": "code",
      "metadata": {
        "id": "C2Fdru0oBJOj"
      },
      "source": [
        "# 2. Setup char inputs/model\n",
        "char_inputs = layers.Input(shape=(1,), dtype=tf.string, name=\"char_input\")\n",
        "char_vectors = char_vectorizer(char_inputs)\n",
        "char_embeddings = char_embed(char_vectors)\n",
        "char_bi_lstm = layers.Bidirectional(layers.LSTM(24))(char_embeddings) #24 Because this is a multiple of 8 - better for speed\n",
        "char_model = tf.keras.Model(char_inputs, char_bi_lstm)"
      ],
      "execution_count": 78,
      "outputs": []
    },
    {
      "cell_type": "code",
      "metadata": {
        "id": "o_F8Y8bOBQ3p"
      },
      "source": [
        "# 3. Concatenate token and char inputs\n",
        "token_char_concat = layers.Concatenate(name=\"token_char_hybrid\")([token_model.output, char_model.output])"
      ],
      "execution_count": 79,
      "outputs": []
    },
    {
      "cell_type": "code",
      "metadata": {
        "id": "91WtUYdoClzq"
      },
      "source": [
        "# 4. Create output layers - adding in Dropout\n",
        "combined_dropout = layers.Dropout(0.5)(token_char_concat)\n",
        "combined_dense = layers.Dense(128, activation=\"relu\")(combined_dropout)\n",
        "final_dropout = layers.Dropout(0.5)(combined_dense)\n",
        "output_layer = layers.Dense(num_classes, activation=\"softmax\")(final_dropout)"
      ],
      "execution_count": 80,
      "outputs": []
    },
    {
      "cell_type": "code",
      "metadata": {
        "id": "DB0LE-LbDea_"
      },
      "source": [
        "# 5. Construct model with char and token inputs\n",
        "model_4 = tf.keras.Model(inputs=[token_model.input, char_model.inputs],\n",
        "                         outputs=output_layer,\n",
        "                         name=\"model_4_token_and_char_embeddings\")"
      ],
      "execution_count": 81,
      "outputs": []
    },
    {
      "cell_type": "code",
      "metadata": {
        "id": "T7M2KSxQD4GZ",
        "colab": {
          "base_uri": "https://localhost:8080/"
        },
        "outputId": "c0e9e7e9-287a-4192-a17c-9076393d4514"
      },
      "source": [
        "model_4.summary()"
      ],
      "execution_count": 82,
      "outputs": [
        {
          "output_type": "stream",
          "text": [
            "Model: \"model_4_token_and_char_embeddings\"\n",
            "__________________________________________________________________________________________________\n",
            "Layer (type)                    Output Shape         Param #     Connected to                     \n",
            "==================================================================================================\n",
            "char_input (InputLayer)         [(None, 1)]          0                                            \n",
            "__________________________________________________________________________________________________\n",
            "token_input (InputLayer)        [(None,)]            0                                            \n",
            "__________________________________________________________________________________________________\n",
            "char_vectorizer (TextVectorizat (None, 290)          0           char_input[0][0]                 \n",
            "__________________________________________________________________________________________________\n",
            "universal_sentence_encoder (Ker (None, 512)          256797824   token_input[0][0]                \n",
            "__________________________________________________________________________________________________\n",
            "char_embed (Embedding)          (None, 290, 25)      700         char_vectorizer[1][0]            \n",
            "__________________________________________________________________________________________________\n",
            "dense_4 (Dense)                 (None, 128)          65664       universal_sentence_encoder[1][0] \n",
            "__________________________________________________________________________________________________\n",
            "bidirectional (Bidirectional)   (None, 48)           9600        char_embed[1][0]                 \n",
            "__________________________________________________________________________________________________\n",
            "token_char_hybrid (Concatenate) (None, 176)          0           dense_4[0][0]                    \n",
            "                                                                 bidirectional[0][0]              \n",
            "__________________________________________________________________________________________________\n",
            "dropout (Dropout)               (None, 176)          0           token_char_hybrid[0][0]          \n",
            "__________________________________________________________________________________________________\n",
            "dense_5 (Dense)                 (None, 128)          22656       dropout[0][0]                    \n",
            "__________________________________________________________________________________________________\n",
            "dropout_1 (Dropout)             (None, 128)          0           dense_5[0][0]                    \n",
            "__________________________________________________________________________________________________\n",
            "dense_6 (Dense)                 (None, 5)            645         dropout_1[0][0]                  \n",
            "==================================================================================================\n",
            "Total params: 256,897,089\n",
            "Trainable params: 99,265\n",
            "Non-trainable params: 256,797,824\n",
            "__________________________________________________________________________________________________\n"
          ],
          "name": "stdout"
        }
      ]
    },
    {
      "cell_type": "code",
      "metadata": {
        "id": "ipRfN0vUEIKP",
        "colab": {
          "base_uri": "https://localhost:8080/",
          "height": 0
        },
        "outputId": "fe33da59-facd-409a-cabb-f402ebc2af02"
      },
      "source": [
        "# Plot hybrid token and character model\n",
        "tf.keras.utils.plot_model(model_4, show_shapes=True)"
      ],
      "execution_count": 83,
      "outputs": [
        {
          "output_type": "execute_result",
          "data": {
            "image/png": "[encoded data removed]",
            "text/plain": [
              "<IPython.core.display.Image object>"
            ]
          },
          "metadata": {},
          "execution_count": 83
        }
      ]
    },
    {
      "cell_type": "code",
      "metadata": {
        "id": "EQ6VncVVEosX"
      },
      "source": [
        "# Compile token char model\n",
        "model_4.compile(loss=\"categorical_crossentropy\", optimizer=\"Adam\", metrics=[\"accuracy\"])"
      ],
      "execution_count": 84,
      "outputs": []
    },
    {
      "cell_type": "markdown",
      "metadata": {
        "id": "7ri75gCyFugX"
      },
      "source": [
        "### Combining token and character data into a tf.data Dataset"
      ]
    },
    {
      "cell_type": "code",
      "metadata": {
        "id": "7CRxohOsGW50"
      },
      "source": [
        "# Combine chars and tokens into a dataset\n",
        "train_char_token_data = tf.data.Dataset.from_tensor_slices((train_sentences, train_chars)) #make data\n",
        "train_char_token_labels = tf.data.Dataset.from_tensor_slices(train_labels_one_hot) #make labels\n",
        "train_char_token_dataset = tf.data.Dataset.zip((train_char_token_data, train_char_token_labels)) #combine data and labels\n",
        "\n",
        "#Prefetch and batch train data\n",
        "train_char_token_dataset = train_char_token_dataset.batch(32).prefetch(tf.data.AUTOTUNE)"
      ],
      "execution_count": 85,
      "outputs": []
    },
    {
      "cell_type": "code",
      "metadata": {
        "id": "PDXHjbgxHB09"
      },
      "source": [
        "#Repeat the steps for validation data\n",
        "val_char_token_data = tf.data.Dataset.from_tensor_slices((val_sentences, val_chars)) #make data\n",
        "val_char_token_labels = tf.data.Dataset.from_tensor_slices(val_labels_one_hot) #make labels\n",
        "val_char_token_dataset = tf.data.Dataset.zip((val_char_token_data, val_char_token_labels)) #combine data and labels\n",
        "\n",
        "#Prefetch and batch train data\n",
        "val_char_token_dataset = val_char_token_dataset.batch(32).prefetch(tf.data.AUTOTUNE)"
      ],
      "execution_count": 86,
      "outputs": []
    },
    {
      "cell_type": "code",
      "metadata": {
        "id": "JvgFQ6bjH4LZ",
        "colab": {
          "base_uri": "https://localhost:8080/"
        },
        "outputId": "9f810cd3-1f59-40d3-acda-67bc4f6c843d"
      },
      "source": [
        "#Check out our training char and token embedding dataset\n",
        "train_char_token_dataset, val_char_token_dataset"
      ],
      "execution_count": 87,
      "outputs": [
        {
          "output_type": "execute_result",
          "data": {
            "text/plain": [
              "(<PrefetchDataset shapes: (((None,), (None,)), (None, 5)), types: ((tf.string, tf.string), tf.float64)>,\n",
              " <PrefetchDataset shapes: (((None,), (None,)), (None, 5)), types: ((tf.string, tf.string), tf.float64)>)"
            ]
          },
          "metadata": {},
          "execution_count": 87
        }
      ]
    },
    {
      "cell_type": "markdown",
      "metadata": {
        "id": "qpwsV-FwLwqx"
      },
      "source": [
        "### Fitting a model on token and character-level sequences"
      ]
    },
    {
      "cell_type": "code",
      "metadata": {
        "id": "1wrziyCsIEho",
        "colab": {
          "base_uri": "https://localhost:8080/"
        },
        "outputId": "5b475e43-f249-4a83-94c9-17946bbb4ea6"
      },
      "source": [
        "#Fit the model on tokens and chars\n",
        "history_model_4 = model_4.fit(train_char_token_dataset,\n",
        "                              steps_per_epoch=int(0.1*len(train_char_token_dataset)),\n",
        "                              epochs=3,\n",
        "                              validation_data=val_char_token_dataset,\n",
        "                              validation_steps=int(0.1*len(val_char_token_dataset)))"
      ],
      "execution_count": 88,
      "outputs": [
        {
          "output_type": "stream",
          "text": [
            "Epoch 1/3\n",
            "562/562 [==============================] - 34s 47ms/step - loss: 0.9828 - accuracy: 0.6075 - val_loss: 0.7827 - val_accuracy: 0.7005\n",
            "Epoch 2/3\n",
            "562/562 [==============================] - 24s 43ms/step - loss: 0.8022 - accuracy: 0.6891 - val_loss: 0.7202 - val_accuracy: 0.7244\n",
            "Epoch 3/3\n",
            "562/562 [==============================] - 22s 39ms/step - loss: 0.7709 - accuracy: 0.7064 - val_loss: 0.6947 - val_accuracy: 0.7367\n"
          ],
          "name": "stdout"
        }
      ]
    },
    {
      "cell_type": "code",
      "metadata": {
        "id": "NOvLAL0EMLox",
        "colab": {
          "base_uri": "https://localhost:8080/"
        },
        "outputId": "d02f1eb0-d075-43ef-b5d6-936bd2056f90"
      },
      "source": [
        "# Evaluate on the whole validation dataset\n",
        "model_4.evaluate(val_char_token_dataset)"
      ],
      "execution_count": 89,
      "outputs": [
        {
          "output_type": "stream",
          "text": [
            "945/945 [==============================] - 19s 20ms/step - loss: 0.7018 - accuracy: 0.7324\n"
          ],
          "name": "stdout"
        },
        {
          "output_type": "execute_result",
          "data": {
            "text/plain": [
              "[0.701834499835968, 0.7324241995811462]"
            ]
          },
          "metadata": {},
          "execution_count": 89
        }
      ]
    },
    {
      "cell_type": "code",
      "metadata": {
        "id": "AL_XeOTOM2rq",
        "colab": {
          "base_uri": "https://localhost:8080/"
        },
        "outputId": "0b094d73-b87a-4816-f3c2-9dcd2fbdd489"
      },
      "source": [
        "#Make preductions\n",
        "model_4_pred_probs = model_4.predict(val_char_token_dataset)\n",
        "model_4_pred_probs"
      ],
      "execution_count": 90,
      "outputs": [
        {
          "output_type": "execute_result",
          "data": {
            "text/plain": [
              "array([[4.8251548e-01, 2.9537088e-01, 5.8444459e-03, 2.0559110e-01,\n",
              "        1.0678094e-02],\n",
              "       [3.1649524e-01, 5.4581285e-01, 3.2022146e-03, 1.3179621e-01,\n",
              "        2.6934948e-03],\n",
              "       [2.6267815e-01, 9.1452636e-02, 4.6727341e-02, 5.6893438e-01,\n",
              "        3.0207450e-02],\n",
              "       ...,\n",
              "       [1.0397678e-03, 1.0509318e-02, 8.4373020e-02, 4.7885251e-04,\n",
              "        9.0359908e-01],\n",
              "       [8.4843468e-03, 5.2972376e-02, 2.4060673e-01, 3.9370856e-03,\n",
              "        6.9399947e-01],\n",
              "       [2.1882324e-01, 2.7796677e-01, 4.1488343e-01, 2.3419194e-02,\n",
              "        6.4907432e-02]], dtype=float32)"
            ]
          },
          "metadata": {},
          "execution_count": 90
        }
      ]
    },
    {
      "cell_type": "code",
      "metadata": {
        "id": "6E3o_iryM9VX",
        "colab": {
          "base_uri": "https://localhost:8080/"
        },
        "outputId": "6870e1d6-ed46-4dbe-f26d-850ab1102dac"
      },
      "source": [
        "# Convert to predictions probabilities into labels\n",
        "model_4_preds = tf.argmax(model_4_pred_probs, axis=1)\n",
        "model_4_preds"
      ],
      "execution_count": 91,
      "outputs": [
        {
          "output_type": "execute_result",
          "data": {
            "text/plain": [
              "<tf.Tensor: shape=(30212,), dtype=int64, numpy=array([0, 1, 3, ..., 4, 4, 2])>"
            ]
          },
          "metadata": {},
          "execution_count": 91
        }
      ]
    },
    {
      "cell_type": "code",
      "metadata": {
        "id": "z5SKbEOVNRJy",
        "colab": {
          "base_uri": "https://localhost:8080/"
        },
        "outputId": "0e61cc9c-d0b9-421b-8610-c83bf8de8185"
      },
      "source": [
        "# Get results of token-char-hybrid model\n",
        "model_4_results = calculate_results(val_labels_encoded,\n",
        "                                    model_4_preds)\n",
        "model_4_results"
      ],
      "execution_count": 92,
      "outputs": [
        {
          "output_type": "execute_result",
          "data": {
            "text/plain": [
              "{'accuracy': 73.24242023037203,\n",
              " 'f1': 0.7298572286271806,\n",
              " 'precision': 0.7339975411621177,\n",
              " 'recall': 0.7324242023037204}"
            ]
          },
          "metadata": {},
          "execution_count": 92
        }
      ]
    },
    {
      "cell_type": "markdown",
      "metadata": {
        "id": "9Y8AgMRqPzW_"
      },
      "source": [
        "## Model 5: Transfer learning with pretrained token embeddings + character embeddings + positional embeddings"
      ]
    },
    {
      "cell_type": "code",
      "metadata": {
        "id": "bq8RSRZKP6_r",
        "colab": {
          "base_uri": "https://localhost:8080/",
          "height": 205
        },
        "outputId": "096aa3e7-6dc7-4d80-e1ce-5ca4f9142cb5"
      },
      "source": [
        "train_df.head()"
      ],
      "execution_count": 93,
      "outputs": [
        {
          "output_type": "execute_result",
          "data": {
            "text/html": [
              "<div>\n",
              "<style scoped>\n",
              "    .dataframe tbody tr th:only-of-type {\n",
              "        vertical-align: middle;\n",
              "    }\n",
              "\n",
              "    .dataframe tbody tr th {\n",
              "        vertical-align: top;\n",
              "    }\n",
              "\n",
              "    .dataframe thead th {\n",
              "        text-align: right;\n",
              "    }\n",
              "</style>\n",
              "<table border=\"1\" class=\"dataframe\">\n",
              "  <thead>\n",
              "    <tr style=\"text-align: right;\">\n",
              "      <th></th>\n",
              "      <th>target</th>\n",
              "      <th>text</th>\n",
              "      <th>line_number</th>\n",
              "      <th>total_lines</th>\n",
              "    </tr>\n",
              "  </thead>\n",
              "  <tbody>\n",
              "    <tr>\n",
              "      <th>0</th>\n",
              "      <td>OBJECTIVE</td>\n",
              "      <td>to investigate the efficacy of @ weeks of dail...</td>\n",
              "      <td>0</td>\n",
              "      <td>11</td>\n",
              "    </tr>\n",
              "    <tr>\n",
              "      <th>1</th>\n",
              "      <td>METHODS</td>\n",
              "      <td>a total of @ patients with primary knee oa wer...</td>\n",
              "      <td>1</td>\n",
              "      <td>11</td>\n",
              "    </tr>\n",
              "    <tr>\n",
              "      <th>2</th>\n",
              "      <td>METHODS</td>\n",
              "      <td>outcome measures included pain reduction and i...</td>\n",
              "      <td>2</td>\n",
              "      <td>11</td>\n",
              "    </tr>\n",
              "    <tr>\n",
              "      <th>3</th>\n",
              "      <td>METHODS</td>\n",
              "      <td>pain was assessed using the visual analog pain...</td>\n",
              "      <td>3</td>\n",
              "      <td>11</td>\n",
              "    </tr>\n",
              "    <tr>\n",
              "      <th>4</th>\n",
              "      <td>METHODS</td>\n",
              "      <td>secondary outcome measures included the wester...</td>\n",
              "      <td>4</td>\n",
              "      <td>11</td>\n",
              "    </tr>\n",
              "  </tbody>\n",
              "</table>\n",
              "</div>"
            ],
            "text/plain": [
              "      target  ... total_lines\n",
              "0  OBJECTIVE  ...          11\n",
              "1    METHODS  ...          11\n",
              "2    METHODS  ...          11\n",
              "3    METHODS  ...          11\n",
              "4    METHODS  ...          11\n",
              "\n",
              "[5 rows x 4 columns]"
            ]
          },
          "metadata": {},
          "execution_count": 93
        }
      ]
    },
    {
      "cell_type": "markdown",
      "metadata": {
        "id": "zx-82vlicyek"
      },
      "source": [
        "Any engineered features used to train a model need to be available at test time. In our case, line numbers and total lines are available. "
      ]
    },
    {
      "cell_type": "markdown",
      "metadata": {
        "id": "jqFuegpGeC9L"
      },
      "source": [
        "### Create positinal embeddings"
      ]
    },
    {
      "cell_type": "code",
      "metadata": {
        "id": "xuAYLySmeL6q",
        "colab": {
          "base_uri": "https://localhost:8080/"
        },
        "outputId": "53261f7b-f2f0-4cc4-f7f1-435a84bebee9"
      },
      "source": [
        "# How many different line numbers are there?\n",
        "train_df[\"line_number\"].value_counts()"
      ],
      "execution_count": 94,
      "outputs": [
        {
          "output_type": "execute_result",
          "data": {
            "text/plain": [
              "0     15000\n",
              "1     15000\n",
              "2     15000\n",
              "3     15000\n",
              "4     14992\n",
              "5     14949\n",
              "6     14758\n",
              "7     14279\n",
              "8     13346\n",
              "9     11981\n",
              "10    10041\n",
              "11     7892\n",
              "12     5853\n",
              "13     4152\n",
              "14     2835\n",
              "15     1861\n",
              "16     1188\n",
              "17      751\n",
              "18      462\n",
              "19      286\n",
              "20      162\n",
              "21      101\n",
              "22       66\n",
              "23       33\n",
              "24       22\n",
              "25       14\n",
              "26        7\n",
              "27        4\n",
              "28        3\n",
              "29        1\n",
              "30        1\n",
              "Name: line_number, dtype: int64"
            ]
          },
          "metadata": {},
          "execution_count": 94
        }
      ]
    },
    {
      "cell_type": "code",
      "metadata": {
        "id": "8QoJ15-eeUtV",
        "colab": {
          "base_uri": "https://localhost:8080/",
          "height": 0
        },
        "outputId": "e21974fa-3e73-491b-e3e7-ecd5ed786052"
      },
      "source": [
        "# Check the distribution of \"line_number\" column\n",
        "train_df.line_number.plot.hist()"
      ],
      "execution_count": 95,
      "outputs": [
        {
          "output_type": "execute_result",
          "data": {
            "text/plain": [
              "<matplotlib.axes._subplots.AxesSubplot at 0x7fde879bc090>"
            ]
          },
          "metadata": {},
          "execution_count": 95
        },
        {
          "output_type": "display_data",
          "data": {
            "image/png": "[encoded data removed]",
            "text/plain": [
              "<Figure size 432x288 with 1 Axes>"
            ]
          },
          "metadata": {
            "needs_background": "light"
          }
        }
      ]
    },
    {
      "cell_type": "code",
      "metadata": {
        "id": "5Mc4EETeevKz",
        "colab": {
          "base_uri": "https://localhost:8080/"
        },
        "outputId": "250e5cf0-4a2c-43d3-ff38-3a56297751fc"
      },
      "source": [
        "# Use TensorFlow to create one-hot-encoded tensors of our line_number column\n",
        "train_line_numbers_one_hot = tf.one_hot(train_df[\"line_number\"].to_numpy(), depth=15)\n",
        "val_line_numbers_one_hot = tf.one_hot(val_df[\"line_number\"].to_numpy(), depth=15)\n",
        "test_line_numbers_one_hot = tf.one_hot(test_df[\"line_number\"].to_numpy(), depth=15)\n",
        "train_line_numbers_one_hot[:10], train_line_numbers_one_hot"
      ],
      "execution_count": 96,
      "outputs": [
        {
          "output_type": "execute_result",
          "data": {
            "text/plain": [
              "(<tf.Tensor: shape=(10, 15), dtype=float32, numpy=\n",
              " array([[1., 0., 0., 0., 0., 0., 0., 0., 0., 0., 0., 0., 0., 0., 0.],\n",
              "        [0., 1., 0., 0., 0., 0., 0., 0., 0., 0., 0., 0., 0., 0., 0.],\n",
              "        [0., 0., 1., 0., 0., 0., 0., 0., 0., 0., 0., 0., 0., 0., 0.],\n",
              "        [0., 0., 0., 1., 0., 0., 0., 0., 0., 0., 0., 0., 0., 0., 0.],\n",
              "        [0., 0., 0., 0., 1., 0., 0., 0., 0., 0., 0., 0., 0., 0., 0.],\n",
              "        [0., 0., 0., 0., 0., 1., 0., 0., 0., 0., 0., 0., 0., 0., 0.],\n",
              "        [0., 0., 0., 0., 0., 0., 1., 0., 0., 0., 0., 0., 0., 0., 0.],\n",
              "        [0., 0., 0., 0., 0., 0., 0., 1., 0., 0., 0., 0., 0., 0., 0.],\n",
              "        [0., 0., 0., 0., 0., 0., 0., 0., 1., 0., 0., 0., 0., 0., 0.],\n",
              "        [0., 0., 0., 0., 0., 0., 0., 0., 0., 1., 0., 0., 0., 0., 0.]],\n",
              "       dtype=float32)>, <tf.Tensor: shape=(180040, 15), dtype=float32, numpy=\n",
              " array([[1., 0., 0., ..., 0., 0., 0.],\n",
              "        [0., 1., 0., ..., 0., 0., 0.],\n",
              "        [0., 0., 1., ..., 0., 0., 0.],\n",
              "        ...,\n",
              "        [0., 0., 0., ..., 0., 0., 0.],\n",
              "        [0., 0., 0., ..., 0., 0., 0.],\n",
              "        [0., 0., 0., ..., 0., 0., 0.]], dtype=float32)>)"
            ]
          },
          "metadata": {},
          "execution_count": 96
        }
      ]
    },
    {
      "cell_type": "code",
      "metadata": {
        "id": "_G-mAZ6EfR1e",
        "colab": {
          "base_uri": "https://localhost:8080/"
        },
        "outputId": "b81bf6ea-83f7-4f47-8b21-611eccaf8036"
      },
      "source": [
        "# How many different number of lines are there?\n",
        "train_df[\"total_lines\"].value_counts()"
      ],
      "execution_count": 97,
      "outputs": [
        {
          "output_type": "execute_result",
          "data": {
            "text/plain": [
              "11    24468\n",
              "10    23639\n",
              "12    22113\n",
              "9     19400\n",
              "13    18438\n",
              "14    14610\n",
              "8     12285\n",
              "15    10768\n",
              "7      7464\n",
              "16     7429\n",
              "17     5202\n",
              "6      3353\n",
              "18     3344\n",
              "19     2480\n",
              "20     1281\n",
              "5      1146\n",
              "21      770\n",
              "22      759\n",
              "23      264\n",
              "4       215\n",
              "24      200\n",
              "25      182\n",
              "26       81\n",
              "28       58\n",
              "3        32\n",
              "30       31\n",
              "27       28\n",
              "Name: total_lines, dtype: int64"
            ]
          },
          "metadata": {},
          "execution_count": 97
        }
      ]
    },
    {
      "cell_type": "code",
      "metadata": {
        "id": "Lm2c_W2ageom",
        "colab": {
          "base_uri": "https://localhost:8080/",
          "height": 0
        },
        "outputId": "611023aa-85fd-4d9a-ee3c-cc3692eeea3b"
      },
      "source": [
        "# Check the distribution of \"total_lines\" column\n",
        "train_df.total_lines.plot.hist()"
      ],
      "execution_count": 98,
      "outputs": [
        {
          "output_type": "execute_result",
          "data": {
            "text/plain": [
              "<matplotlib.axes._subplots.AxesSubplot at 0x7fde871018d0>"
            ]
          },
          "metadata": {},
          "execution_count": 98
        },
        {
          "output_type": "display_data",
          "data": {
            "image/png": "[encoded data removed]",
            "text/plain": [
              "<Figure size 432x288 with 1 Axes>"
            ]
          },
          "metadata": {
            "needs_background": "light"
          }
        }
      ]
    },
    {
      "cell_type": "code",
      "metadata": {
        "id": "kZGyG_aUgkqN",
        "colab": {
          "base_uri": "https://localhost:8080/"
        },
        "outputId": "09863843-c24f-49bb-ec34-f0f90083c6f3"
      },
      "source": [
        "# Check the coverage of a \"total_lines\" value of 20\n",
        "np.percentile(train_df[\"total_lines\"], 98)"
      ],
      "execution_count": 99,
      "outputs": [
        {
          "output_type": "execute_result",
          "data": {
            "text/plain": [
              "20.0"
            ]
          },
          "metadata": {},
          "execution_count": 99
        }
      ]
    },
    {
      "cell_type": "code",
      "metadata": {
        "id": "6xJhifnGhEai",
        "colab": {
          "base_uri": "https://localhost:8080/"
        },
        "outputId": "e71541f9-82ee-47b6-fa22-83dfab9c0d14"
      },
      "source": [
        "# Use TensorFlow to create one-hot-encoded tensors of our \"total_lines\" features\n",
        "train_total_lines_one_hot = tf.one_hot(train_df[\"total_lines\"].to_numpy(), depth=20)\n",
        "val_total_lines_one_hot = tf.one_hot(val_df[\"total_lines\"].to_numpy(), depth=20)\n",
        "test_total_lines_one_hot = tf.one_hot(test_df[\"total_lines\"].to_numpy(), depth=20)\n",
        "train_total_lines_one_hot[:10], train_total_lines_one_hot.shape"
      ],
      "execution_count": 100,
      "outputs": [
        {
          "output_type": "execute_result",
          "data": {
            "text/plain": [
              "(<tf.Tensor: shape=(10, 20), dtype=float32, numpy=\n",
              " array([[0., 0., 0., 0., 0., 0., 0., 0., 0., 0., 0., 1., 0., 0., 0., 0.,\n",
              "         0., 0., 0., 0.],\n",
              "        [0., 0., 0., 0., 0., 0., 0., 0., 0., 0., 0., 1., 0., 0., 0., 0.,\n",
              "         0., 0., 0., 0.],\n",
              "        [0., 0., 0., 0., 0., 0., 0., 0., 0., 0., 0., 1., 0., 0., 0., 0.,\n",
              "         0., 0., 0., 0.],\n",
              "        [0., 0., 0., 0., 0., 0., 0., 0., 0., 0., 0., 1., 0., 0., 0., 0.,\n",
              "         0., 0., 0., 0.],\n",
              "        [0., 0., 0., 0., 0., 0., 0., 0., 0., 0., 0., 1., 0., 0., 0., 0.,\n",
              "         0., 0., 0., 0.],\n",
              "        [0., 0., 0., 0., 0., 0., 0., 0., 0., 0., 0., 1., 0., 0., 0., 0.,\n",
              "         0., 0., 0., 0.],\n",
              "        [0., 0., 0., 0., 0., 0., 0., 0., 0., 0., 0., 1., 0., 0., 0., 0.,\n",
              "         0., 0., 0., 0.],\n",
              "        [0., 0., 0., 0., 0., 0., 0., 0., 0., 0., 0., 1., 0., 0., 0., 0.,\n",
              "         0., 0., 0., 0.],\n",
              "        [0., 0., 0., 0., 0., 0., 0., 0., 0., 0., 0., 1., 0., 0., 0., 0.,\n",
              "         0., 0., 0., 0.],\n",
              "        [0., 0., 0., 0., 0., 0., 0., 0., 0., 0., 0., 1., 0., 0., 0., 0.,\n",
              "         0., 0., 0., 0.]], dtype=float32)>, TensorShape([180040, 20]))"
            ]
          },
          "metadata": {},
          "execution_count": 100
        }
      ]
    },
    {
      "cell_type": "markdown",
      "metadata": {
        "id": "Jo1en9ZNhgKh"
      },
      "source": [
        "### Building a tribrid embedding model\n",
        "\n",
        "1. Create a token-level model\n",
        "2. Create a chracter-level model\n",
        "3. Create a model for the \"line_number\" feature\n",
        "4. Create a model for the \"total_lines\" feature\n",
        "5. Combine the outputs of 1 & 2\n",
        "6. Combine the outputs of 3, 4, 5\n",
        "7. Create an output layer to accept the tribried embedding and output label probabilities\n",
        "8. Combine the inputs of 1, 2, 3, 4 and outputs of into a Model"
      ]
    },
    {
      "cell_type": "code",
      "metadata": {
        "id": "9lUNqD8GjwyS"
      },
      "source": [
        "# 1. Token inputs\n",
        "token_inputs = layers.Input(shape=[], dtype=\"string\", name=\"token_inputs\")\n",
        "token_embeddings = tf_hub_embedding_layer(token_inputs)\n",
        "token_outputs = layers.Dense(128, activation=\"relu\")(token_embeddings)\n",
        "token_model = tf.keras.Model(token_inputs, token_outputs)"
      ],
      "execution_count": 101,
      "outputs": []
    },
    {
      "cell_type": "code",
      "metadata": {
        "id": "P4INPgsQkJ87"
      },
      "source": [
        "# 2. Char Inputs\n",
        "char_inputs = layers.Input(shape=(1, ), dtype=\"string\", name=\"char_inputs\")\n",
        "char_vectors = char_vectorizer(char_inputs)\n",
        "char_embeddings = char_embed(char_vectors)\n",
        "char_bi_lstm = layers.Bidirectional(layers.LSTM(24))(char_embeddings)\n",
        "char_model = tf.keras.Model(char_inputs, char_bi_lstm)"
      ],
      "execution_count": 102,
      "outputs": []
    },
    {
      "cell_type": "code",
      "metadata": {
        "id": "EIhg4LXckQJx"
      },
      "source": [
        "# 3 Line numbers model\n",
        "line_number_inputs = layers.Input(shape=(15, ), dtype=tf.float32, name=\"line_number_input\")\n",
        "x = layers.Dense(32, activation=\"relu\")(line_number_inputs)\n",
        "line_number_model = tf.keras.Model(line_number_inputs, x)"
      ],
      "execution_count": 103,
      "outputs": []
    },
    {
      "cell_type": "code",
      "metadata": {
        "id": "gJINvv78mNzt"
      },
      "source": [
        "# 4 Total lines model\n",
        "total_lines_inputs = layers.Input(shape=(20, ), dtype=tf.float32, name=\"total_lines_input\")\n",
        "y = layers.Dense(32, activation=\"relu\")(total_lines_inputs)\n",
        "total_line_model = tf.keras.Model(total_lines_inputs, y)"
      ],
      "execution_count": 104,
      "outputs": []
    },
    {
      "cell_type": "code",
      "metadata": {
        "id": "fvOeBFLVmoET"
      },
      "source": [
        "# 5 Combine token and char embeddings\n",
        "combined_embeddings = layers.Concatenate(name=\"char_token_hybrid_embedding\")([token_model.output, char_model.output])"
      ],
      "execution_count": 105,
      "outputs": []
    },
    {
      "cell_type": "code",
      "metadata": {
        "id": "n0byc4nlnjN5"
      },
      "source": [
        "z = layers.Dense(256, activation=\"relu\")(combined_embeddings)\n",
        "z = layers.Dropout(0.5)(z)"
      ],
      "execution_count": 106,
      "outputs": []
    },
    {
      "cell_type": "code",
      "metadata": {
        "id": "Qj1TudyWnAUe"
      },
      "source": [
        "# 6 Combine positional embedding with combined token and char embeddings\n",
        "tribrid_embeddings = layers.Concatenate(name=\"cchar_token_positional_embedding\")([line_number_model.output, total_line_model.output, z])"
      ],
      "execution_count": 107,
      "outputs": []
    },
    {
      "cell_type": "code",
      "metadata": {
        "id": "zZAWf7v2n43m"
      },
      "source": [
        "# 7 Create output layer\n",
        "output_layer = layers.Dense(5, activation=\"softmax\", name=\"output_layer\")(tribrid_embeddings)"
      ],
      "execution_count": 108,
      "outputs": []
    },
    {
      "cell_type": "code",
      "metadata": {
        "id": "fHEf9N5moNy1"
      },
      "source": [
        "# 8 Put together model with all kind of inputs\n",
        "model_5 = tf.keras.Model(inputs=[line_number_model.input,\n",
        "                                 total_line_model.input,\n",
        "                                 token_model.input,\n",
        "                                 char_model.input],\n",
        "                         outputs=output_layer, name=\"model_5_tribrid_embedding_model\")"
      ],
      "execution_count": 109,
      "outputs": []
    },
    {
      "cell_type": "code",
      "metadata": {
        "id": "Up2IejdloncA",
        "colab": {
          "base_uri": "https://localhost:8080/"
        },
        "outputId": "7115babf-9fea-4d3e-bdd1-541f6c8fa673"
      },
      "source": [
        "#Get summary\n",
        "model_5.summary()"
      ],
      "execution_count": 110,
      "outputs": [
        {
          "output_type": "stream",
          "text": [
            "Model: \"model_5_tribrid_embedding_model\"\n",
            "__________________________________________________________________________________________________\n",
            "Layer (type)                    Output Shape         Param #     Connected to                     \n",
            "==================================================================================================\n",
            "char_inputs (InputLayer)        [(None, 1)]          0                                            \n",
            "__________________________________________________________________________________________________\n",
            "token_inputs (InputLayer)       [(None,)]            0                                            \n",
            "__________________________________________________________________________________________________\n",
            "char_vectorizer (TextVectorizat (None, 290)          0           char_inputs[0][0]                \n",
            "__________________________________________________________________________________________________\n",
            "universal_sentence_encoder (Ker (None, 512)          256797824   token_inputs[0][0]               \n",
            "__________________________________________________________________________________________________\n",
            "char_embed (Embedding)          (None, 290, 25)      700         char_vectorizer[2][0]            \n",
            "__________________________________________________________________________________________________\n",
            "dense_7 (Dense)                 (None, 128)          65664       universal_sentence_encoder[2][0] \n",
            "__________________________________________________________________________________________________\n",
            "bidirectional_1 (Bidirectional) (None, 48)           9600        char_embed[2][0]                 \n",
            "__________________________________________________________________________________________________\n",
            "char_token_hybrid_embedding (Co (None, 176)          0           dense_7[0][0]                    \n",
            "                                                                 bidirectional_1[0][0]            \n",
            "__________________________________________________________________________________________________\n",
            "line_number_input (InputLayer)  [(None, 15)]         0                                            \n",
            "__________________________________________________________________________________________________\n",
            "total_lines_input (InputLayer)  [(None, 20)]         0                                            \n",
            "__________________________________________________________________________________________________\n",
            "dense_10 (Dense)                (None, 256)          45312       char_token_hybrid_embedding[0][0]\n",
            "__________________________________________________________________________________________________\n",
            "dense_8 (Dense)                 (None, 32)           512         line_number_input[0][0]          \n",
            "__________________________________________________________________________________________________\n",
            "dense_9 (Dense)                 (None, 32)           672         total_lines_input[0][0]          \n",
            "__________________________________________________________________________________________________\n",
            "dropout_2 (Dropout)             (None, 256)          0           dense_10[0][0]                   \n",
            "__________________________________________________________________________________________________\n",
            "cchar_token_positional_embeddin (None, 320)          0           dense_8[0][0]                    \n",
            "                                                                 dense_9[0][0]                    \n",
            "                                                                 dropout_2[0][0]                  \n",
            "__________________________________________________________________________________________________\n",
            "output_layer (Dense)            (None, 5)            1605        cchar_token_positional_embedding[\n",
            "==================================================================================================\n",
            "Total params: 256,921,889\n",
            "Trainable params: 124,065\n",
            "Non-trainable params: 256,797,824\n",
            "__________________________________________________________________________________________________\n"
          ],
          "name": "stdout"
        }
      ]
    },
    {
      "cell_type": "code",
      "metadata": {
        "id": "avKm5m4ypEhz",
        "colab": {
          "base_uri": "https://localhost:8080/",
          "height": 443
        },
        "outputId": "590d6455-475d-4f76-8573-704470ad92c1"
      },
      "source": [
        "tf.keras.utils.plot_model(model_5, show_shapes=True)"
      ],
      "execution_count": 111,
      "outputs": [
        {
          "output_type": "execute_result",
          "data": {
            "image/png": "[encoded data removed]",
            "text/plain": [
              "<IPython.core.display.Image object>"
            ]
          },
          "metadata": {},
          "execution_count": 111
        }
      ]
    },
    {
      "cell_type": "code",
      "metadata": {
        "id": "PbOZpOIcpWyE"
      },
      "source": [
        "#Compile the model\n",
        "model_5.compile(loss=tf.keras.losses.CategoricalCrossentropy(label_smoothing=0.2), optimizer=\"Adam\", metrics=[\"accuracy\"])"
      ],
      "execution_count": 112,
      "outputs": []
    },
    {
      "cell_type": "markdown",
      "metadata": {
        "id": "dFZlSipTqYgh"
      },
      "source": [
        "### Create tribrid embedding datasets using tf.data"
      ]
    },
    {
      "cell_type": "code",
      "metadata": {
        "id": "8HQPfuxxr8YC"
      },
      "source": [
        "# Create training and validation datasets (with all four kinds of input data)\n",
        "train_char_token_pos_data = tf.data.Dataset.from_tensor_slices((train_line_numbers_one_hot, \n",
        "                                                           train_total_lines_one_hot,\n",
        "                                                           train_sentences,\n",
        "                                                           train_chars))\n",
        "\n",
        "train_char_token_pos_labels = tf.data.Dataset.from_tensor_slices(train_labels_one_hot)\n",
        "train_char_token_pos_dataset = tf.data.Dataset.zip((train_char_token_pos_data, train_char_token_pos_labels))\n",
        "train_char_token_pos_dataset = train_char_token_pos_dataset.batch(32).prefetch(tf.data.AUTOTUNE)\n",
        "\n",
        "#Same for validation data\n",
        "\n",
        "val_char_token_pos_data = tf.data.Dataset.from_tensor_slices((val_line_numbers_one_hot, \n",
        "                                                           val_total_lines_one_hot,\n",
        "                                                           val_sentences,\n",
        "                                                           val_chars))\n",
        "\n",
        "val_char_token_pos_labels = tf.data.Dataset.from_tensor_slices(val_labels_one_hot)\n",
        "val_char_token_pos_dataset = tf.data.Dataset.zip((val_char_token_pos_data, val_char_token_pos_labels))\n",
        "val_char_token_pos_dataset = val_char_token_pos_dataset.batch(32).prefetch(tf.data.AUTOTUNE)"
      ],
      "execution_count": 113,
      "outputs": []
    },
    {
      "cell_type": "code",
      "metadata": {
        "id": "T8e5Avz8ssDG",
        "colab": {
          "base_uri": "https://localhost:8080/"
        },
        "outputId": "cc81d580-5e04-4945-d8ce-9bae011c5c85"
      },
      "source": [
        "#Check input shapes\n",
        "train_char_token_pos_dataset, val_char_token_pos_dataset"
      ],
      "execution_count": 114,
      "outputs": [
        {
          "output_type": "execute_result",
          "data": {
            "text/plain": [
              "(<PrefetchDataset shapes: (((None, 15), (None, 20), (None,), (None,)), (None, 5)), types: ((tf.float32, tf.float32, tf.string, tf.string), tf.float64)>,\n",
              " <PrefetchDataset shapes: (((None, 15), (None, 20), (None,), (None,)), (None, 5)), types: ((tf.float32, tf.float32, tf.string, tf.string), tf.float64)>)"
            ]
          },
          "metadata": {},
          "execution_count": 114
        }
      ]
    },
    {
      "cell_type": "markdown",
      "metadata": {
        "id": "dXY47LLxyfOE"
      },
      "source": [
        "# Fitting, evaluating and make predictions"
      ]
    },
    {
      "cell_type": "code",
      "metadata": {
        "id": "Av6FmslAymBO",
        "outputId": "3f4df2e9-3688-431e-ad0e-519985f34a4b",
        "colab": {
          "base_uri": "https://localhost:8080/"
        }
      },
      "source": [
        "history_model_5 = model_5.fit(train_char_token_pos_dataset,\n",
        "                              steps_per_epoch=int(0.1*len(train_char_token_pos_dataset)),\n",
        "                              epochs=3,\n",
        "                              validation_data=val_char_token_pos_dataset,\n",
        "                              validation_steps=int(0.1*len(val_char_token_pos_dataset)))"
      ],
      "execution_count": 116,
      "outputs": [
        {
          "output_type": "stream",
          "text": [
            "Epoch 1/3\n",
            "562/562 [==============================] - 34s 48ms/step - loss: 1.0985 - accuracy: 0.7212 - val_loss: 0.9826 - val_accuracy: 0.8068\n",
            "Epoch 2/3\n",
            "562/562 [==============================] - 25s 44ms/step - loss: 0.9647 - accuracy: 0.8154 - val_loss: 0.9490 - val_accuracy: 0.8275\n",
            "Epoch 3/3\n",
            "562/562 [==============================] - 22s 40ms/step - loss: 0.9493 - accuracy: 0.8228 - val_loss: 0.9389 - val_accuracy: 0.8321\n"
          ],
          "name": "stdout"
        }
      ]
    },
    {
      "cell_type": "code",
      "metadata": {
        "id": "pPCaYoIyy68_",
        "outputId": "65d0414b-9cd9-4408-fdcc-b2eb4d9b6a94",
        "colab": {
          "base_uri": "https://localhost:8080/"
        }
      },
      "source": [
        "#Make predicions\n",
        "model_5_pred_probs = model_5.predict(val_char_token_pos_dataset)\n",
        "model_5_pred_probs"
      ],
      "execution_count": 117,
      "outputs": [
        {
          "output_type": "execute_result",
          "data": {
            "text/plain": [
              "array([[0.5441208 , 0.0932525 , 0.01125771, 0.33369735, 0.01767162],\n",
              "       [0.56178856, 0.0972449 , 0.03800661, 0.293347  , 0.00961288],\n",
              "       [0.26916328, 0.09891409, 0.13670284, 0.43014497, 0.06507475],\n",
              "       ...,\n",
              "       [0.03360846, 0.10769735, 0.04882731, 0.03159868, 0.77826816],\n",
              "       [0.03193644, 0.27652872, 0.08003299, 0.02608142, 0.5854204 ],\n",
              "       [0.25631022, 0.5246673 , 0.10808089, 0.04877758, 0.06216399]],\n",
              "      dtype=float32)"
            ]
          },
          "metadata": {},
          "execution_count": 117
        }
      ]
    },
    {
      "cell_type": "code",
      "metadata": {
        "id": "oVre-RdgzWhu",
        "outputId": "40eb3953-320d-4ee1-ae1e-fa528b660283",
        "colab": {
          "base_uri": "https://localhost:8080/"
        }
      },
      "source": [
        "#Convert pred probs to pred labels\n",
        "model_5_preds = tf.argmax(model_5_pred_probs, axis=1)\n",
        "model_5_preds"
      ],
      "execution_count": 118,
      "outputs": [
        {
          "output_type": "execute_result",
          "data": {
            "text/plain": [
              "<tf.Tensor: shape=(30212,), dtype=int64, numpy=array([0, 0, 3, ..., 4, 4, 1])>"
            ]
          },
          "metadata": {},
          "execution_count": 118
        }
      ]
    },
    {
      "cell_type": "code",
      "metadata": {
        "id": "tS8Ya6Yszeh_",
        "outputId": "b656e5bc-7816-4bfd-dd5f-99deb84fdc98",
        "colab": {
          "base_uri": "https://localhost:8080/"
        }
      },
      "source": [
        "#Calculate results\n",
        "model_5_results = calculate_results(val_labels_encoded, model_5_preds)\n",
        "model_5_results"
      ],
      "execution_count": 120,
      "outputs": [
        {
          "output_type": "execute_result",
          "data": {
            "text/plain": [
              "{'accuracy': 83.34767641996558,\n",
              " 'f1': 0.832256801149542,\n",
              " 'precision': 0.8327563924917049,\n",
              " 'recall': 0.8334767641996558}"
            ]
          },
          "metadata": {},
          "execution_count": 120
        }
      ]
    },
    {
      "cell_type": "markdown",
      "metadata": {
        "id": "GTjTED7kzpie"
      },
      "source": [
        "## Compare model results "
      ]
    },
    {
      "cell_type": "code",
      "metadata": {
        "id": "LlDLTl_U1Tye",
        "outputId": "e6b7559e-5ed8-4755-909a-833f5e22520a",
        "colab": {
          "base_uri": "https://localhost:8080/",
          "height": 236
        }
      },
      "source": [
        "#Combine model results into a dataframe\n",
        "all_model_results = pd.DataFrame({\"model_0_baseline\": baseline_results,\n",
        "                                  \"model_1_costum_token_embedding\": model_1_results,\n",
        "                                  \"model_2_pretrained_token_embedding\": model_2_results,\n",
        "                                  \"model_3_costum_char_embedding\":model_3_results,\n",
        "                                  \"model_4_hybrid_char_token_embedding\": model_4_results,\n",
        "                                  \"model_5_pos_char_token_embedding\": model_5_results})\n",
        "\n",
        "all_model_results = all_model_results.transpose()\n",
        "all_model_results"
      ],
      "execution_count": 121,
      "outputs": [
        {
          "output_type": "execute_result",
          "data": {
            "text/html": [
              "<div>\n",
              "<style scoped>\n",
              "    .dataframe tbody tr th:only-of-type {\n",
              "        vertical-align: middle;\n",
              "    }\n",
              "\n",
              "    .dataframe tbody tr th {\n",
              "        vertical-align: top;\n",
              "    }\n",
              "\n",
              "    .dataframe thead th {\n",
              "        text-align: right;\n",
              "    }\n",
              "</style>\n",
              "<table border=\"1\" class=\"dataframe\">\n",
              "  <thead>\n",
              "    <tr style=\"text-align: right;\">\n",
              "      <th></th>\n",
              "      <th>accuracy</th>\n",
              "      <th>precision</th>\n",
              "      <th>recall</th>\n",
              "      <th>f1</th>\n",
              "    </tr>\n",
              "  </thead>\n",
              "  <tbody>\n",
              "    <tr>\n",
              "      <th>model_0_baseline</th>\n",
              "      <td>72.183238</td>\n",
              "      <td>0.718647</td>\n",
              "      <td>0.721832</td>\n",
              "      <td>0.698925</td>\n",
              "    </tr>\n",
              "    <tr>\n",
              "      <th>model_1_costum_token_embedding</th>\n",
              "      <td>78.763405</td>\n",
              "      <td>0.784270</td>\n",
              "      <td>0.787634</td>\n",
              "      <td>0.785054</td>\n",
              "    </tr>\n",
              "    <tr>\n",
              "      <th>model_2_pretrained_token_embedding</th>\n",
              "      <td>71.471601</td>\n",
              "      <td>0.715199</td>\n",
              "      <td>0.714716</td>\n",
              "      <td>0.711844</td>\n",
              "    </tr>\n",
              "    <tr>\n",
              "      <th>model_3_costum_char_embedding</th>\n",
              "      <td>65.338276</td>\n",
              "      <td>0.644454</td>\n",
              "      <td>0.653383</td>\n",
              "      <td>0.642619</td>\n",
              "    </tr>\n",
              "    <tr>\n",
              "      <th>model_4_hybrid_char_token_embedding</th>\n",
              "      <td>73.242420</td>\n",
              "      <td>0.733998</td>\n",
              "      <td>0.732424</td>\n",
              "      <td>0.729857</td>\n",
              "    </tr>\n",
              "    <tr>\n",
              "      <th>model_5_pos_char_token_embedding</th>\n",
              "      <td>83.347676</td>\n",
              "      <td>0.832756</td>\n",
              "      <td>0.833477</td>\n",
              "      <td>0.832257</td>\n",
              "    </tr>\n",
              "  </tbody>\n",
              "</table>\n",
              "</div>"
            ],
            "text/plain": [
              "                                      accuracy  precision    recall        f1\n",
              "model_0_baseline                     72.183238   0.718647  0.721832  0.698925\n",
              "model_1_costum_token_embedding       78.763405   0.784270  0.787634  0.785054\n",
              "model_2_pretrained_token_embedding   71.471601   0.715199  0.714716  0.711844\n",
              "model_3_costum_char_embedding        65.338276   0.644454  0.653383  0.642619\n",
              "model_4_hybrid_char_token_embedding  73.242420   0.733998  0.732424  0.729857\n",
              "model_5_pos_char_token_embedding     83.347676   0.832756  0.833477  0.832257"
            ]
          },
          "metadata": {},
          "execution_count": 121
        }
      ]
    },
    {
      "cell_type": "code",
      "metadata": {
        "id": "LP2v1yLr12jH"
      },
      "source": [
        "#Reduce the accuracy to same scale\n",
        "all_model_results[\"accuracy\"] = all_model_results[\"accuracy\"]/100"
      ],
      "execution_count": 122,
      "outputs": []
    },
    {
      "cell_type": "code",
      "metadata": {
        "id": "b3bn0G1z2QY0",
        "outputId": "d0b5c24e-af6b-4a4c-8c7b-26c1aeda56b7",
        "colab": {
          "base_uri": "https://localhost:8080/",
          "height": 636
        }
      },
      "source": [
        "#Plot and compare all model results\n",
        "all_model_results.plot(kind=\"bar\", figsize=(10,7)).legend(bbox_to_anchor=(1.0,1.0))"
      ],
      "execution_count": 123,
      "outputs": [
        {
          "output_type": "execute_result",
          "data": {
            "text/plain": [
              "<matplotlib.legend.Legend at 0x7fdd8595bbd0>"
            ]
          },
          "metadata": {},
          "execution_count": 123
        },
        {
          "output_type": "display_data",
          "data": {
            "image/png": "[encoded data removed]",
            "text/plain": [
              "<Figure size 720x504 with 1 Axes>"
            ]
          },
          "metadata": {
            "needs_background": "light"
          }
        }
      ]
    },
    {
      "cell_type": "code",
      "metadata": {
        "id": "Q2lkH_G32ZDZ",
        "outputId": "f121073b-da68-4ff6-f8b7-4ee5cbacdec3",
        "colab": {
          "base_uri": "https://localhost:8080/",
          "height": 636
        }
      },
      "source": [
        "#Sort the model by f1-score\n",
        "all_model_results.sort_values(\"f1\", ascending=True)[\"f1\"].plot(kind=\"bar\", figsize=(10,7))"
      ],
      "execution_count": 142,
      "outputs": [
        {
          "output_type": "execute_result",
          "data": {
            "text/plain": [
              "<matplotlib.axes._subplots.AxesSubplot at 0x7fdd80966710>"
            ]
          },
          "metadata": {},
          "execution_count": 142
        },
        {
          "output_type": "display_data",
          "data": {
            "image/png": "[encoded data removed]",
            "text/plain": [
              "<Figure size 720x504 with 1 Axes>"
            ]
          },
          "metadata": {
            "needs_background": "light"
          }
        }
      ]
    }
  ]
}