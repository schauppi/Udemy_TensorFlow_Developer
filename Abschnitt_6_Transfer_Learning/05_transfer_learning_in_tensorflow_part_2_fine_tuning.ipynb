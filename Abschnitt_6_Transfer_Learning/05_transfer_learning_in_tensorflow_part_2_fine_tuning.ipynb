{
  "nbformat": 4,
  "nbformat_minor": 0,
  "metadata": {
    "colab": {
      "name": "05_transfer_learning_in_tensorflow_part_2_fine_tuning.ipynb",
      "provenance": [],
      "authorship_tag": "ABX9TyNvdscq2+HE+pF+Z78q7/xH",
      "include_colab_link": true
    },
    "kernelspec": {
      "name": "python3",
      "display_name": "Python 3"
    },
    "language_info": {
      "name": "python"
    },
    "accelerator": "GPU"
  },
  "cells": [
    {
      "cell_type": "markdown",
      "metadata": {
        "id": "view-in-github",
        "colab_type": "text"
      },
      "source": [
        "<a href=\"https://colab.research.google.com/github/schauppi/Udemy_TensorFlow_Developer/blob/main/Abschnitt_6_Transfer_Learning/05_transfer_learning_in_tensorflow_part_2_fine_tuning.ipynb\" target=\"_parent\"><img src=\"https://colab.research.google.com/assets/colab-badge.svg\" alt=\"Open In Colab\"/></a>"
      ]
    },
    {
      "cell_type": "markdown",
      "metadata": {
        "id": "qtOy-pE2KDjp"
      },
      "source": [
        "# Transfer Leaning in TensorFlow Part 2: Fine-tuning\n"
      ]
    },
    {
      "cell_type": "code",
      "metadata": {
        "colab": {
          "base_uri": "https://localhost:8080/"
        },
        "id": "p7eHHuQVKKfo",
        "outputId": "03fa846b-6d68-4f1f-be96-d9601e1d3785"
      },
      "source": [
        "!nvidia-smi"
      ],
      "execution_count": 1,
      "outputs": [
        {
          "output_type": "stream",
          "text": [
            "Sat Jul 31 11:19:29 2021       \n",
            "+-----------------------------------------------------------------------------+\n",
            "| NVIDIA-SMI 470.42.01    Driver Version: 460.32.03    CUDA Version: 11.2     |\n",
            "|-------------------------------+----------------------+----------------------+\n",
            "| GPU  Name        Persistence-M| Bus-Id        Disp.A | Volatile Uncorr. ECC |\n",
            "| Fan  Temp  Perf  Pwr:Usage/Cap|         Memory-Usage | GPU-Util  Compute M. |\n",
            "|                               |                      |               MIG M. |\n",
            "|===============================+======================+======================|\n",
            "|   0  Tesla T4            Off  | 00000000:00:04.0 Off |                    0 |\n",
            "| N/A   54C    P8    10W /  70W |      0MiB / 15109MiB |      0%      Default |\n",
            "|                               |                      |                  N/A |\n",
            "+-------------------------------+----------------------+----------------------+\n",
            "                                                                               \n",
            "+-----------------------------------------------------------------------------+\n",
            "| Processes:                                                                  |\n",
            "|  GPU   GI   CI        PID   Type   Process name                  GPU Memory |\n",
            "|        ID   ID                                                   Usage      |\n",
            "|=============================================================================|\n",
            "|  No running processes found                                                 |\n",
            "+-----------------------------------------------------------------------------+\n"
          ],
          "name": "stdout"
        }
      ]
    },
    {
      "cell_type": "markdown",
      "metadata": {
        "id": "xBp8YAXEKU0O"
      },
      "source": [
        "## Creating helper functions"
      ]
    },
    {
      "cell_type": "code",
      "metadata": {
        "colab": {
          "base_uri": "https://localhost:8080/"
        },
        "id": "PT8sxQ__KP0C",
        "outputId": "53697efd-e464-4433-b3b8-a5befdb5f00b"
      },
      "source": [
        "!wget https://raw.githubusercontent.com/mrdbourke/tensorflow-deep-learning/main/extras/helper_functions.py"
      ],
      "execution_count": 2,
      "outputs": [
        {
          "output_type": "stream",
          "text": [
            "--2021-07-31 11:19:30--  https://raw.githubusercontent.com/mrdbourke/tensorflow-deep-learning/main/extras/helper_functions.py\n",
            "Resolving raw.githubusercontent.com (raw.githubusercontent.com)... 185.199.108.133, 185.199.109.133, 185.199.110.133, ...\n",
            "Connecting to raw.githubusercontent.com (raw.githubusercontent.com)|185.199.108.133|:443... connected.\n",
            "HTTP request sent, awaiting response... 200 OK\n",
            "Length: 10246 (10K) [text/plain]\n",
            "Saving to: ‘helper_functions.py’\n",
            "\n",
            "\rhelper_functions.py   0%[                    ]       0  --.-KB/s               \rhelper_functions.py 100%[===================>]  10.01K  --.-KB/s    in 0s      \n",
            "\n",
            "2021-07-31 11:19:31 (70.4 MB/s) - ‘helper_functions.py’ saved [10246/10246]\n",
            "\n"
          ],
          "name": "stdout"
        }
      ]
    },
    {
      "cell_type": "code",
      "metadata": {
        "id": "bKrAIS7lKzYG"
      },
      "source": [
        "#Import helper functions we´re going to use in this notebook\n",
        "from helper_functions import create_tensorboard_callback, plot_loss_curves, unzip_data, walk_through_dir"
      ],
      "execution_count": 3,
      "outputs": []
    },
    {
      "cell_type": "markdown",
      "metadata": {
        "id": "RoA69kTlLrFP"
      },
      "source": [
        "## Let´s get some data\n",
        "\n",
        "This time weé going to see how we can use the pretrained models with tf.keras.applications ans apply them to out own problem."
      ]
    },
    {
      "cell_type": "code",
      "metadata": {
        "colab": {
          "base_uri": "https://localhost:8080/"
        },
        "id": "X4vz0e1YLNY-",
        "outputId": "5f0f2a5c-ed3a-4ece-f5a2-7cfd9bb61300"
      },
      "source": [
        "#get 10% of training data from 10_food_classes_10_percent\n",
        "!wget https://storage.googleapis.com/ztm_tf_course/food_vision/10_food_classes_10_percent.zip"
      ],
      "execution_count": 4,
      "outputs": [
        {
          "output_type": "stream",
          "text": [
            "--2021-07-31 11:19:33--  https://storage.googleapis.com/ztm_tf_course/food_vision/10_food_classes_10_percent.zip\n",
            "Resolving storage.googleapis.com (storage.googleapis.com)... 142.251.2.128, 74.125.137.128, 142.250.141.128, ...\n",
            "Connecting to storage.googleapis.com (storage.googleapis.com)|142.251.2.128|:443... connected.\n",
            "HTTP request sent, awaiting response... 200 OK\n",
            "Length: 168546183 (161M) [application/zip]\n",
            "Saving to: ‘10_food_classes_10_percent.zip’\n",
            "\n",
            "10_food_classes_10_ 100%[===================>] 160.74M   260MB/s    in 0.6s    \n",
            "\n",
            "2021-07-31 11:19:34 (260 MB/s) - ‘10_food_classes_10_percent.zip’ saved [168546183/168546183]\n",
            "\n"
          ],
          "name": "stdout"
        }
      ]
    },
    {
      "cell_type": "code",
      "metadata": {
        "id": "OTQ8mFjFMNpj"
      },
      "source": [
        "#Unzip data using the helper function\n",
        "unzip_data(\"10_food_classes_10_percent.zip\")"
      ],
      "execution_count": 5,
      "outputs": []
    },
    {
      "cell_type": "code",
      "metadata": {
        "colab": {
          "base_uri": "https://localhost:8080/"
        },
        "id": "RHB0fVHAMoEG",
        "outputId": "8d92b98e-a61e-43cb-b0bc-e9d05741249d"
      },
      "source": [
        "#Check out how many images and subdirectories are in our dataset \n",
        "walk_through_dir(\"10_food_classes_10_percent\")"
      ],
      "execution_count": 6,
      "outputs": [
        {
          "output_type": "stream",
          "text": [
            "There are 2 directories and 0 images in '10_food_classes_10_percent'.\n",
            "There are 10 directories and 0 images in '10_food_classes_10_percent/train'.\n",
            "There are 0 directories and 75 images in '10_food_classes_10_percent/train/ice_cream'.\n",
            "There are 0 directories and 75 images in '10_food_classes_10_percent/train/chicken_curry'.\n",
            "There are 0 directories and 75 images in '10_food_classes_10_percent/train/ramen'.\n",
            "There are 0 directories and 75 images in '10_food_classes_10_percent/train/hamburger'.\n",
            "There are 0 directories and 75 images in '10_food_classes_10_percent/train/grilled_salmon'.\n",
            "There are 0 directories and 75 images in '10_food_classes_10_percent/train/chicken_wings'.\n",
            "There are 0 directories and 75 images in '10_food_classes_10_percent/train/sushi'.\n",
            "There are 0 directories and 75 images in '10_food_classes_10_percent/train/fried_rice'.\n",
            "There are 0 directories and 75 images in '10_food_classes_10_percent/train/steak'.\n",
            "There are 0 directories and 75 images in '10_food_classes_10_percent/train/pizza'.\n",
            "There are 10 directories and 0 images in '10_food_classes_10_percent/test'.\n",
            "There are 0 directories and 250 images in '10_food_classes_10_percent/test/ice_cream'.\n",
            "There are 0 directories and 250 images in '10_food_classes_10_percent/test/chicken_curry'.\n",
            "There are 0 directories and 250 images in '10_food_classes_10_percent/test/ramen'.\n",
            "There are 0 directories and 250 images in '10_food_classes_10_percent/test/hamburger'.\n",
            "There are 0 directories and 250 images in '10_food_classes_10_percent/test/grilled_salmon'.\n",
            "There are 0 directories and 250 images in '10_food_classes_10_percent/test/chicken_wings'.\n",
            "There are 0 directories and 250 images in '10_food_classes_10_percent/test/sushi'.\n",
            "There are 0 directories and 250 images in '10_food_classes_10_percent/test/fried_rice'.\n",
            "There are 0 directories and 250 images in '10_food_classes_10_percent/test/steak'.\n",
            "There are 0 directories and 250 images in '10_food_classes_10_percent/test/pizza'.\n"
          ],
          "name": "stdout"
        }
      ]
    },
    {
      "cell_type": "code",
      "metadata": {
        "id": "3vn5rQpIMuTK"
      },
      "source": [
        "#Create training an test directory paths\n",
        "train_dir = \"10_food_classes_10_percent/train\"\n",
        "test_dir = \"10_food_classes_10_percent/test\""
      ],
      "execution_count": 7,
      "outputs": []
    },
    {
      "cell_type": "code",
      "metadata": {
        "colab": {
          "base_uri": "https://localhost:8080/"
        },
        "id": "FKHXViV-NBTP",
        "outputId": "aa440d6e-3b4c-44de-b56e-15637b07ab41"
      },
      "source": [
        "import tensorflow as tf\n",
        "from tensorflow.keras.preprocessing import image_dataset_from_directory\n",
        "\n",
        "IMG_SIZE = (224,224)\n",
        "BATCH_SIZE=32\n",
        "train_data_10_percent = image_dataset_from_directory(train_dir,\n",
        "                                                     image_size=IMG_SIZE,\n",
        "                                                     label_mode=\"categorical\",\n",
        "                                                     batch_size=BATCH_SIZE)\n",
        "\n",
        "test_data_10_percent = image_dataset_from_directory(test_dir,\n",
        "                                                    image_size=IMG_SIZE,\n",
        "                                                    label_mode=\"categorical\",\n",
        "                                                    batch_size=BATCH_SIZE)"
      ],
      "execution_count": 8,
      "outputs": [
        {
          "output_type": "stream",
          "text": [
            "Found 750 files belonging to 10 classes.\n",
            "Found 2500 files belonging to 10 classes.\n"
          ],
          "name": "stdout"
        }
      ]
    },
    {
      "cell_type": "code",
      "metadata": {
        "colab": {
          "base_uri": "https://localhost:8080/"
        },
        "id": "xHPPZ5b4Nt92",
        "outputId": "414b605f-140a-4428-efe6-e68218e66bb1"
      },
      "source": [
        "train_data_10_percent"
      ],
      "execution_count": 9,
      "outputs": [
        {
          "output_type": "execute_result",
          "data": {
            "text/plain": [
              "<BatchDataset shapes: ((None, 224, 224, 3), (None, 10)), types: (tf.float32, tf.float32)>"
            ]
          },
          "metadata": {
            "tags": []
          },
          "execution_count": 9
        }
      ]
    },
    {
      "cell_type": "code",
      "metadata": {
        "colab": {
          "base_uri": "https://localhost:8080/"
        },
        "id": "4l_UDAIVOhub",
        "outputId": "298c0911-4878-4ce7-d90d-3acb33bec454"
      },
      "source": [
        "#Check out the class names of our dataset\n",
        "train_data_10_percent.class_names"
      ],
      "execution_count": 10,
      "outputs": [
        {
          "output_type": "execute_result",
          "data": {
            "text/plain": [
              "['chicken_curry',\n",
              " 'chicken_wings',\n",
              " 'fried_rice',\n",
              " 'grilled_salmon',\n",
              " 'hamburger',\n",
              " 'ice_cream',\n",
              " 'pizza',\n",
              " 'ramen',\n",
              " 'steak',\n",
              " 'sushi']"
            ]
          },
          "metadata": {
            "tags": []
          },
          "execution_count": 10
        }
      ]
    },
    {
      "cell_type": "code",
      "metadata": {
        "colab": {
          "base_uri": "https://localhost:8080/"
        },
        "id": "bDZEGanUPFr6",
        "outputId": "ac79ef84-ed8a-4ecb-8c5a-13eaec17057c"
      },
      "source": [
        "#see an example of a batch of data\n",
        "for images, labels in train_data_10_percent.take(1):\n",
        "  print(images, labels)"
      ],
      "execution_count": 11,
      "outputs": [
        {
          "output_type": "stream",
          "text": [
            "tf.Tensor(\n",
            "[[[[2.37000000e+02 2.22000000e+02 1.93000000e+02]\n",
            "   [2.35255096e+02 2.20852036e+02 1.91852036e+02]\n",
            "   [2.32505096e+02 2.18505096e+02 1.89933670e+02]\n",
            "   ...\n",
            "   [2.38280624e+02 2.24709152e+02 1.87494888e+02]\n",
            "   [2.39000000e+02 2.25000000e+02 1.90000000e+02]\n",
            "   [2.40000000e+02 2.26000000e+02 1.91000000e+02]]\n",
            "\n",
            "  [[2.54908157e+02 2.45025513e+02 2.11234695e+02]\n",
            "   [2.51928558e+02 2.40719391e+02 2.08719391e+02]\n",
            "   [2.49341843e+02 2.38341843e+02 2.06372452e+02]\n",
            "   ...\n",
            "   [2.38015305e+02 2.24015305e+02 1.85015305e+02]\n",
            "   [2.38071442e+02 2.24071442e+02 1.85214294e+02]\n",
            "   [2.39357178e+02 2.25357178e+02 1.87693848e+02]]\n",
            "\n",
            "  [[2.55000000e+02 2.49214279e+02 2.11571426e+02]\n",
            "   [2.55000000e+02 2.49214279e+02 2.11571426e+02]\n",
            "   [2.54954086e+02 2.49336731e+02 2.11954086e+02]\n",
            "   ...\n",
            "   [2.37214264e+02 2.24214264e+02 1.81785690e+02]\n",
            "   [2.38015305e+02 2.24602051e+02 1.82244873e+02]\n",
            "   [2.39862259e+02 2.24938797e+02 1.82795868e+02]]\n",
            "\n",
            "  ...\n",
            "\n",
            "  [[1.89928619e+02 8.35714035e+01 4.75101891e+01]\n",
            "   [1.88127548e+02 8.12856903e+01 3.98978958e+01]\n",
            "   [1.91102036e+02 8.75765457e+01 3.65305672e+01]\n",
            "   ...\n",
            "   [2.55000000e+02 2.37643097e+02 1.90714722e+02]\n",
            "   [2.52699051e+02 2.38995148e+02 1.93612610e+02]\n",
            "   [2.54724533e+02 2.50087128e+02 2.05087158e+02]]\n",
            "\n",
            "  [[1.85836777e+02 7.98367844e+01 4.00765572e+01]\n",
            "   [1.93857147e+02 8.87908173e+01 4.21326523e+01]\n",
            "   [1.95602081e+02 9.24439468e+01 4.05867653e+01]\n",
            "   ...\n",
            "   [2.32402893e+02 2.14918167e+02 1.70418198e+02]\n",
            "   [2.42076538e+02 2.30081650e+02 1.87933655e+02]\n",
            "   [2.49295868e+02 2.44724457e+02 2.02295837e+02]]\n",
            "\n",
            "  [[1.91586792e+02 8.85867920e+01 4.51275635e+01]\n",
            "   [1.97637924e+02 9.26379242e+01 4.48522072e+01]\n",
            "   [2.03918488e+02 1.03908340e+02 4.89848480e+01]\n",
            "   ...\n",
            "   [2.11805786e+02 1.86810776e+02 1.40025070e+02]\n",
            "   [2.12040359e+02 1.93280106e+02 1.46825974e+02]\n",
            "   [2.36479813e+02 2.23306259e+02 1.74949081e+02]]]\n",
            "\n",
            "\n",
            " [[[0.00000000e+00 1.94244254e+00 0.00000000e+00]\n",
            "   [0.00000000e+00 1.71428561e+00 0.00000000e+00]\n",
            "   [0.00000000e+00 2.21221304e+00 0.00000000e+00]\n",
            "   ...\n",
            "   [7.86002274e+01 6.62766190e+01 5.80511551e+01]\n",
            "   [7.69352722e+01 6.81377640e+01 5.76012459e+01]\n",
            "   [7.95875397e+01 7.33340454e+01 6.01705704e+01]]\n",
            "\n",
            "  [[0.00000000e+00 1.00000000e+00 0.00000000e+00]\n",
            "   [0.00000000e+00 1.00000000e+00 0.00000000e+00]\n",
            "   [0.00000000e+00 1.77455378e+00 0.00000000e+00]\n",
            "   ...\n",
            "   [7.44825668e+01 6.60553207e+01 5.64272461e+01]\n",
            "   [7.40180206e+01 6.78705444e+01 5.42142868e+01]\n",
            "   [7.51428528e+01 7.19285736e+01 5.70000000e+01]]\n",
            "\n",
            "  [[1.78571415e+00 7.85714149e-01 6.00000000e+00]\n",
            "   [1.00000000e+00 1.57142830e+00 5.88440704e+00]\n",
            "   [1.00000000e+00 1.73740423e+00 3.88233399e+00]\n",
            "   ...\n",
            "   [7.12059479e+01 6.62625961e+01 5.35862083e+01]\n",
            "   [7.22205200e+01 6.94348068e+01 5.44348030e+01]\n",
            "   [7.98707809e+01 7.92993469e+01 6.12993507e+01]]\n",
            "\n",
            "  ...\n",
            "\n",
            "  [[1.03294899e+02 8.97880325e+01 8.53086472e+01]\n",
            "   [1.00506737e+02 8.75067368e+01 8.13772736e+01]\n",
            "   [1.00788666e+02 8.65714722e+01 7.91800613e+01]\n",
            "   ...\n",
            "   [1.24531464e+02 1.03509064e+02 8.66862183e+01]\n",
            "   [1.26357208e+02 1.03785736e+02 8.71706848e+01]\n",
            "   [1.28783340e+02 1.03426125e+02 8.62118607e+01]]\n",
            "\n",
            "  [[1.01645088e+02 8.59746475e+01 8.49859772e+01]\n",
            "   [1.00140800e+02 8.51408005e+01 8.20205765e+01]\n",
            "   [1.04241096e+02 8.69174347e+01 8.28348770e+01]\n",
            "   ...\n",
            "   [1.27309433e+02 1.00715622e+02 8.80125275e+01]\n",
            "   [1.32073532e+02 1.02928558e+02 8.91294556e+01]\n",
            "   [1.29509171e+02 9.83548889e+01 8.50967941e+01]]\n",
            "\n",
            "  [[1.05679466e+02 8.76794662e+01 8.76794662e+01]\n",
            "   [1.01612900e+02 8.36128998e+01 8.35296783e+01]\n",
            "   [1.05312325e+02 8.57632217e+01 8.46988220e+01]\n",
            "   ...\n",
            "   [1.28562286e+02 9.99503021e+01 8.81757660e+01]\n",
            "   [1.30423340e+02 9.66360168e+01 8.65712891e+01]\n",
            "   [1.33870956e+02 9.57649994e+01 8.69954224e+01]]]\n",
            "\n",
            "\n",
            " [[[2.20000000e+01 0.00000000e+00 2.50000000e+01]\n",
            "   [2.25969391e+01 0.00000000e+00 2.55969391e+01]\n",
            "   [2.30000000e+01 0.00000000e+00 2.60000000e+01]\n",
            "   ...\n",
            "   [2.30000000e+01 0.00000000e+00 2.60000000e+01]\n",
            "   [2.30000000e+01 0.00000000e+00 2.60000000e+01]\n",
            "   [2.30000000e+01 0.00000000e+00 2.80000000e+01]]\n",
            "\n",
            "  [[2.00000000e+01 0.00000000e+00 2.50000000e+01]\n",
            "   [2.09336739e+01 9.33673680e-01 2.59336739e+01]\n",
            "   [2.10306129e+01 9.84693944e-01 2.60000000e+01]\n",
            "   ...\n",
            "   [2.14285278e+01 7.85736084e-01 2.60000000e+01]\n",
            "   [2.10000000e+01 1.00000000e+00 2.80000000e+01]\n",
            "   [2.30000000e+01 0.00000000e+00 2.80000000e+01]]\n",
            "\n",
            "  [[1.62091827e+01 0.00000000e+00 2.57857132e+01]\n",
            "   [1.73571434e+01 0.00000000e+00 2.57857132e+01]\n",
            "   [1.83571434e+01 7.85714149e-01 2.67857132e+01]\n",
            "   ...\n",
            "   [1.97857132e+01 2.14285851e-01 2.66632996e+01]\n",
            "   [2.00000000e+01 0.00000000e+00 2.70000000e+01]\n",
            "   [2.00000000e+01 0.00000000e+00 2.70000000e+01]]\n",
            "\n",
            "  ...\n",
            "\n",
            "  [[2.00000000e+01 0.00000000e+00 2.77857361e+01]\n",
            "   [2.01989594e+01 1.98959410e-01 2.79846954e+01]\n",
            "   [2.04285507e+01 1.47444153e+00 2.88775406e+01]\n",
            "   ...\n",
            "   [6.97458935e+00 0.00000000e+00 2.62142639e+01]\n",
            "   [7.44389629e+00 1.53073678e-02 2.64285278e+01]\n",
            "   [6.93364716e+00 7.65303001e-02 2.64285278e+01]]\n",
            "\n",
            "  [[2.11428833e+01 1.21432495e+00 2.66632557e+01]\n",
            "   [2.11428833e+01 1.21432495e+00 2.61326504e+01]\n",
            "   [2.01428833e+01 2.14324951e-01 2.50000000e+01]\n",
            "   ...\n",
            "   [1.32143250e+01 0.00000000e+00 2.60714417e+01]\n",
            "   [1.22143250e+01 0.00000000e+00 2.50714417e+01]\n",
            "   [1.21888075e+01 0.00000000e+00 2.50459251e+01]]\n",
            "\n",
            "  [[2.53571777e+01 6.35717773e+00 2.60000000e+01]\n",
            "   [2.53571777e+01 6.35717773e+00 2.60000000e+01]\n",
            "   [2.49286423e+01 7.57660770e+00 2.55612793e+01]\n",
            "   ...\n",
            "   [1.94337082e+01 7.19352543e-01 2.70765305e+01]\n",
            "   [1.82857361e+01 0.00000000e+00 2.59285583e+01]\n",
            "   [1.73571777e+01 0.00000000e+00 2.50000000e+01]]]\n",
            "\n",
            "\n",
            " ...\n",
            "\n",
            "\n",
            " [[[3.67295914e+01 4.07295914e+01 4.24438782e+01]\n",
            "   [2.96938763e+01 3.46683693e+01 2.95510197e+01]\n",
            "   [3.66377563e+01 4.11428566e+01 3.90561218e+01]\n",
            "   ...\n",
            "   [2.00764580e+01 2.50764580e+01 1.90764580e+01]\n",
            "   [2.39285583e+01 2.89285583e+01 2.49285583e+01]\n",
            "   [1.95867920e+01 2.35867920e+01 2.25867920e+01]]\n",
            "\n",
            "  [[3.41173477e+01 3.81173477e+01 3.90255089e+01]\n",
            "   [3.11275501e+01 3.59897957e+01 3.24030571e+01]\n",
            "   [3.26581612e+01 3.66581612e+01 3.60561256e+01]\n",
            "   ...\n",
            "   [2.16274872e+01 2.66274872e+01 2.06274872e+01]\n",
            "   [2.37856884e+01 2.87856884e+01 2.47856884e+01]\n",
            "   [1.83367748e+01 2.23367748e+01 2.13367748e+01]]\n",
            "\n",
            "  [[2.99234695e+01 3.39234695e+01 3.30765305e+01]\n",
            "   [3.38724518e+01 3.78724518e+01 3.83316307e+01]\n",
            "   [3.56632690e+01 3.96632690e+01 3.86632690e+01]\n",
            "   ...\n",
            "   [2.22142429e+01 2.72142429e+01 2.12142429e+01]\n",
            "   [2.36428318e+01 2.86428318e+01 2.46428318e+01]\n",
            "   [2.04286766e+01 2.44286766e+01 2.34286766e+01]]\n",
            "\n",
            "  ...\n",
            "\n",
            "  [[4.73826408e+01 5.13826408e+01 5.09438591e+01]\n",
            "   [4.52550659e+01 4.92550659e+01 4.82550659e+01]\n",
            "   [4.78571510e+01 5.18571510e+01 5.08571510e+01]\n",
            "   ...\n",
            "   [0.00000000e+00 0.00000000e+00 0.00000000e+00]\n",
            "   [0.00000000e+00 0.00000000e+00 0.00000000e+00]\n",
            "   [3.57177734e-01 3.57177734e-01 3.57177734e-01]]\n",
            "\n",
            "  [[4.70918503e+01 5.20204391e+01 4.82346725e+01]\n",
            "   [4.27959328e+01 4.68622627e+01 4.56632805e+01]\n",
            "   [5.01020699e+01 5.41020699e+01 5.31020699e+01]\n",
            "   ...\n",
            "   [0.00000000e+00 0.00000000e+00 0.00000000e+00]\n",
            "   [0.00000000e+00 0.00000000e+00 0.00000000e+00]\n",
            "   [3.57177734e-01 3.57177734e-01 3.57177734e-01]]\n",
            "\n",
            "  [[4.07092133e+01 4.57092133e+01 3.97092133e+01]\n",
            "   [5.14336624e+01 5.64336624e+01 5.23418274e+01]\n",
            "   [5.32908096e+01 5.72908096e+01 5.62908096e+01]\n",
            "   ...\n",
            "   [0.00000000e+00 0.00000000e+00 0.00000000e+00]\n",
            "   [0.00000000e+00 0.00000000e+00 0.00000000e+00]\n",
            "   [3.57177734e-01 3.57177734e-01 3.57177734e-01]]]\n",
            "\n",
            "\n",
            " [[[1.80000000e+01 1.10000000e+01 1.80000000e+01]\n",
            "   [1.77857132e+01 1.07857141e+01 1.77857132e+01]\n",
            "   [1.60765305e+01 9.50510216e+00 1.62908173e+01]\n",
            "   ...\n",
            "   [3.65714073e+01 3.45714073e+01 3.59999352e+01]\n",
            "   [4.03316269e+01 3.63316269e+01 3.73316269e+01]\n",
            "   [3.72856445e+01 3.32856445e+01 3.42856445e+01]]\n",
            "\n",
            "  [[1.91887760e+01 1.21887760e+01 1.91887760e+01]\n",
            "   [1.80000000e+01 1.10000000e+01 1.80000000e+01]\n",
            "   [1.76581631e+01 1.10867357e+01 1.78724499e+01]\n",
            "   ...\n",
            "   [3.67857361e+01 3.47857361e+01 3.62142639e+01]\n",
            "   [4.10000000e+01 3.70000000e+01 3.80000000e+01]\n",
            "   [4.04999657e+01 3.64999657e+01 3.74999657e+01]]\n",
            "\n",
            "  [[2.30714264e+01 1.60714283e+01 2.30714264e+01]\n",
            "   [2.06275501e+01 1.36275501e+01 2.06275501e+01]\n",
            "   [2.05714283e+01 1.40000000e+01 2.07857132e+01]\n",
            "   ...\n",
            "   [3.93571854e+01 3.73571854e+01 3.87857132e+01]\n",
            "   [4.17704048e+01 3.77704048e+01 3.87704048e+01]\n",
            "   [4.17857132e+01 3.77857132e+01 3.87857132e+01]]\n",
            "\n",
            "  ...\n",
            "\n",
            "  [[2.14846077e+01 1.21990252e+01 1.04132891e+01]\n",
            "   [2.40353107e+01 1.47497272e+01 1.29639912e+01]\n",
            "   [2.04690647e+01 8.84673691e+00 1.00151091e+01]\n",
            "   ...\n",
            "   [2.54000000e+02 2.54000000e+02 2.54000000e+02]\n",
            "   [2.54984695e+02 2.54984695e+02 2.54984695e+02]\n",
            "   [2.54709213e+02 2.54709213e+02 2.54709213e+02]]\n",
            "\n",
            "  [[1.53163185e+01 9.23977375e+00 1.12652893e+01]\n",
            "   [1.85662880e+01 1.44234037e+01 1.54948454e+01]\n",
            "   [1.89846916e+01 1.30969563e+01 1.50714417e+01]\n",
            "   ...\n",
            "   [2.55000000e+02 2.55000000e+02 2.55000000e+02]\n",
            "   [2.54066345e+02 2.54066345e+02 2.54066345e+02]\n",
            "   [2.49520126e+02 2.49520126e+02 2.49520126e+02]]\n",
            "\n",
            "  [[1.86581860e+01 6.94383001e+00 1.33010082e+01]\n",
            "   [1.81684055e+01 9.02554893e+00 1.40969772e+01]\n",
            "   [1.78570728e+01 1.20713587e+01 1.60713577e+01]\n",
            "   ...\n",
            "   [2.55000000e+02 2.55000000e+02 2.55000000e+02]\n",
            "   [2.55000000e+02 2.55000000e+02 2.55000000e+02]\n",
            "   [2.43300644e+02 2.43300644e+02 2.43300644e+02]]]\n",
            "\n",
            "\n",
            " [[[2.54000000e+02 2.54000000e+02 2.54000000e+02]\n",
            "   [2.54000000e+02 2.54000000e+02 2.54000000e+02]\n",
            "   [2.54000000e+02 2.54000000e+02 2.54000000e+02]\n",
            "   ...\n",
            "   [2.52000000e+02 2.54000000e+02 2.53000000e+02]\n",
            "   [2.52000000e+02 2.54000000e+02 2.53000000e+02]\n",
            "   [2.52000000e+02 2.54000000e+02 2.53000000e+02]]\n",
            "\n",
            "  [[2.54000000e+02 2.54000000e+02 2.54000000e+02]\n",
            "   [2.54000000e+02 2.54000000e+02 2.54000000e+02]\n",
            "   [2.54000000e+02 2.54000000e+02 2.54000000e+02]\n",
            "   ...\n",
            "   [2.52928574e+02 2.54928574e+02 2.53928574e+02]\n",
            "   [2.52928574e+02 2.54928574e+02 2.53928574e+02]\n",
            "   [2.52928574e+02 2.54928574e+02 2.53928574e+02]]\n",
            "\n",
            "  [[2.54000000e+02 2.54000000e+02 2.54000000e+02]\n",
            "   [2.54000000e+02 2.54000000e+02 2.54000000e+02]\n",
            "   [2.54000000e+02 2.54000000e+02 2.54000000e+02]\n",
            "   ...\n",
            "   [2.53000000e+02 2.55000000e+02 2.54000000e+02]\n",
            "   [2.53000000e+02 2.55000000e+02 2.54000000e+02]\n",
            "   [2.53000000e+02 2.55000000e+02 2.54000000e+02]]\n",
            "\n",
            "  ...\n",
            "\n",
            "  [[2.54000000e+02 2.54000000e+02 2.54000000e+02]\n",
            "   [2.54000000e+02 2.54000000e+02 2.54000000e+02]\n",
            "   [2.54000000e+02 2.54000000e+02 2.54000000e+02]\n",
            "   ...\n",
            "   [2.54000000e+02 2.54000000e+02 2.54000000e+02]\n",
            "   [2.54000000e+02 2.54000000e+02 2.54000000e+02]\n",
            "   [2.54000000e+02 2.54000000e+02 2.54000000e+02]]\n",
            "\n",
            "  [[2.54000000e+02 2.54000000e+02 2.54000000e+02]\n",
            "   [2.54000000e+02 2.54000000e+02 2.54000000e+02]\n",
            "   [2.54000000e+02 2.54000000e+02 2.54000000e+02]\n",
            "   ...\n",
            "   [2.54000000e+02 2.54000000e+02 2.54000000e+02]\n",
            "   [2.54000000e+02 2.54000000e+02 2.54000000e+02]\n",
            "   [2.54000000e+02 2.54000000e+02 2.54000000e+02]]\n",
            "\n",
            "  [[2.54000000e+02 2.54000000e+02 2.54000000e+02]\n",
            "   [2.54000000e+02 2.54000000e+02 2.54000000e+02]\n",
            "   [2.54000000e+02 2.54000000e+02 2.54000000e+02]\n",
            "   ...\n",
            "   [2.54000000e+02 2.54000000e+02 2.54000000e+02]\n",
            "   [2.54000000e+02 2.54000000e+02 2.54000000e+02]\n",
            "   [2.54000000e+02 2.54000000e+02 2.54000000e+02]]]], shape=(32, 224, 224, 3), dtype=float32) tf.Tensor(\n",
            "[[0. 1. 0. 0. 0. 0. 0. 0. 0. 0.]\n",
            " [0. 0. 0. 0. 0. 0. 0. 0. 1. 0.]\n",
            " [0. 0. 0. 0. 0. 1. 0. 0. 0. 0.]\n",
            " [0. 0. 0. 0. 0. 0. 1. 0. 0. 0.]\n",
            " [0. 0. 0. 0. 0. 0. 0. 1. 0. 0.]\n",
            " [0. 0. 0. 0. 0. 0. 0. 1. 0. 0.]\n",
            " [0. 0. 0. 0. 0. 0. 0. 0. 0. 1.]\n",
            " [1. 0. 0. 0. 0. 0. 0. 0. 0. 0.]\n",
            " [0. 0. 0. 0. 0. 0. 1. 0. 0. 0.]\n",
            " [0. 0. 1. 0. 0. 0. 0. 0. 0. 0.]\n",
            " [0. 0. 1. 0. 0. 0. 0. 0. 0. 0.]\n",
            " [0. 0. 1. 0. 0. 0. 0. 0. 0. 0.]\n",
            " [0. 0. 0. 0. 0. 0. 0. 0. 1. 0.]\n",
            " [0. 0. 0. 0. 0. 0. 0. 1. 0. 0.]\n",
            " [0. 0. 0. 0. 0. 0. 0. 1. 0. 0.]\n",
            " [0. 0. 0. 0. 0. 0. 1. 0. 0. 0.]\n",
            " [0. 0. 0. 1. 0. 0. 0. 0. 0. 0.]\n",
            " [0. 0. 1. 0. 0. 0. 0. 0. 0. 0.]\n",
            " [0. 0. 0. 0. 0. 0. 0. 1. 0. 0.]\n",
            " [0. 1. 0. 0. 0. 0. 0. 0. 0. 0.]\n",
            " [0. 0. 0. 0. 0. 0. 1. 0. 0. 0.]\n",
            " [0. 0. 0. 1. 0. 0. 0. 0. 0. 0.]\n",
            " [0. 0. 0. 0. 0. 0. 0. 0. 0. 1.]\n",
            " [0. 0. 0. 0. 0. 0. 0. 0. 1. 0.]\n",
            " [0. 1. 0. 0. 0. 0. 0. 0. 0. 0.]\n",
            " [0. 0. 0. 0. 0. 0. 0. 1. 0. 0.]\n",
            " [0. 0. 0. 0. 0. 0. 0. 1. 0. 0.]\n",
            " [1. 0. 0. 0. 0. 0. 0. 0. 0. 0.]\n",
            " [0. 0. 0. 0. 1. 0. 0. 0. 0. 0.]\n",
            " [0. 0. 1. 0. 0. 0. 0. 0. 0. 0.]\n",
            " [0. 0. 0. 0. 0. 0. 0. 0. 1. 0.]\n",
            " [0. 0. 0. 0. 0. 0. 0. 0. 1. 0.]], shape=(32, 10), dtype=float32)\n"
          ],
          "name": "stdout"
        }
      ]
    },
    {
      "cell_type": "markdown",
      "metadata": {
        "id": "b1xYQXt-d4MY"
      },
      "source": [
        "## Model 0: Building a transfer learning model using the Keras Functional API"
      ]
    },
    {
      "cell_type": "code",
      "metadata": {
        "id": "HYLcOHMoPOfV",
        "colab": {
          "base_uri": "https://localhost:8080/"
        },
        "outputId": "52b454a3-56cd-4dce-bfa4-c2fc96e63fcc"
      },
      "source": [
        "#1. Create a base model with tf.keras.applications\n",
        "base_model = tf.keras.applications.EfficientNetB0(include_top=False)\n",
        "\n",
        "# 2. Freeze the base model (the underlying pre-trained patterns aren´t updated during training)\n",
        "base_model.trainable = False\n",
        "\n",
        "# 3. Create inputs into out model\n",
        "inputs = tf.keras.layers.Input(shape=(224,224,3), name=\"input_layer\")\n",
        "\n",
        "# 4. If using a model like ResNet50V2 you will need to normalize inputs (don´t needed for EfficientNets)\n",
        "#x = tf.keras.layers.experimental.preprocessing.Rescaling(1./255)(inputs)\n",
        "\n",
        "# 5. Pass the inputs to the base model\n",
        "x = base_model(inputs)\n",
        "print(f\"Shape after passing inputs through base model: {x.shape}\")\n",
        "\n",
        "# 6. Average pool the outputs of the base model\n",
        "x = tf.keras.layers.GlobalAveragePooling2D(name=\"global_average_pooling_layer\")(x)\n",
        "print(f\"Shape after GlobalAveragePooling2D: {x.shape}\")\n",
        "\n",
        "# 7. Create the output activation layer\n",
        "outputs = tf.keras.layers.Dense(10, activation=\"softmax\", name=\"output_layer\")(x)\n",
        "\n",
        "# 8. Combine the inputs with the outputs into a model\n",
        "model_0 = tf.keras.Model(inputs, outputs)\n",
        "\n",
        "# 9. Compile the model\n",
        "model_0.compile(optimizer=\"Adam\", metrics=[\"accuracy\"], loss=\"categorical_crossentropy\")\n",
        "\n",
        "# 10. Fit the model\n",
        "history_0 = model_0.fit(train_data_10_percent,\n",
        "                        epochs=5,\n",
        "                        steps_per_epoch=len(train_data_10_percent),\n",
        "                        validation_data=test_data_10_percent,\n",
        "                        validation_steps=int(0.25 * len(test_data_10_percent)),\n",
        "                        callbacks=[create_tensorboard_callback(dir_name=\"transfer_learning\", experiment_name=\"10_percent_feature_extraction\")])"
      ],
      "execution_count": 12,
      "outputs": [
        {
          "output_type": "stream",
          "text": [
            "Downloading data from https://storage.googleapis.com/keras-applications/efficientnetb0_notop.h5\n",
            "16711680/16705208 [==============================] - 0s 0us/step\n",
            "Shape after passing inputs through base model: (None, 7, 7, 1280)\n",
            "Shape after GlobalAveragePooling2D: (None, 1280)\n",
            "Saving TensorBoard log files to: transfer_learning/10_percent_feature_extraction/20210731-111945\n",
            "Epoch 1/5\n"
          ],
          "name": "stdout"
        },
        {
          "output_type": "stream",
          "text": [
            "/usr/local/lib/python3.7/dist-packages/tensorflow/python/keras/utils/generic_utils.py:497: CustomMaskWarning: Custom mask layers require a config and must override get_config. When loading, the custom mask layer must be passed to the custom_objects argument.\n",
            "  category=CustomMaskWarning)\n"
          ],
          "name": "stderr"
        },
        {
          "output_type": "stream",
          "text": [
            "24/24 [==============================] - 42s 315ms/step - loss: 1.8913 - accuracy: 0.4227 - val_loss: 1.3555 - val_accuracy: 0.6809\n",
            "Epoch 2/5\n",
            "24/24 [==============================] - 5s 210ms/step - loss: 1.1436 - accuracy: 0.7613 - val_loss: 0.9471 - val_accuracy: 0.7714\n",
            "Epoch 3/5\n",
            "24/24 [==============================] - 5s 203ms/step - loss: 0.8439 - accuracy: 0.8107 - val_loss: 0.7724 - val_accuracy: 0.7961\n",
            "Epoch 4/5\n",
            "24/24 [==============================] - 5s 199ms/step - loss: 0.6852 - accuracy: 0.8560 - val_loss: 0.6873 - val_accuracy: 0.8076\n",
            "Epoch 5/5\n",
            "24/24 [==============================] - 5s 203ms/step - loss: 0.5849 - accuracy: 0.8693 - val_loss: 0.6509 - val_accuracy: 0.8059\n"
          ],
          "name": "stdout"
        }
      ]
    },
    {
      "cell_type": "code",
      "metadata": {
        "id": "VZKHp4W5hQM8",
        "colab": {
          "base_uri": "https://localhost:8080/"
        },
        "outputId": "d8408e1b-9efc-401d-8d54-ac5b76422771"
      },
      "source": [
        "# Evaluate on the full test dataset \n",
        "model_0.evaluate(test_data_10_percent)"
      ],
      "execution_count": 13,
      "outputs": [
        {
          "output_type": "stream",
          "text": [
            "79/79 [==============================] - 9s 114ms/step - loss: 0.6057 - accuracy: 0.8396\n"
          ],
          "name": "stdout"
        },
        {
          "output_type": "execute_result",
          "data": {
            "text/plain": [
              "[0.6056987047195435, 0.8396000266075134]"
            ]
          },
          "metadata": {
            "tags": []
          },
          "execution_count": 13
        }
      ]
    },
    {
      "cell_type": "code",
      "metadata": {
        "id": "JTiPyFTHhqvk",
        "colab": {
          "base_uri": "https://localhost:8080/"
        },
        "outputId": "37dee2ac-3d13-478d-8e8c-419385720355"
      },
      "source": [
        "# Check the layers in our base model\n",
        "for layer_number, layer in enumerate(base_model.layers):\n",
        "  print(layer_number, layer.name)"
      ],
      "execution_count": 14,
      "outputs": [
        {
          "output_type": "stream",
          "text": [
            "0 input_1\n",
            "1 rescaling\n",
            "2 normalization\n",
            "3 stem_conv_pad\n",
            "4 stem_conv\n",
            "5 stem_bn\n",
            "6 stem_activation\n",
            "7 block1a_dwconv\n",
            "8 block1a_bn\n",
            "9 block1a_activation\n",
            "10 block1a_se_squeeze\n",
            "11 block1a_se_reshape\n",
            "12 block1a_se_reduce\n",
            "13 block1a_se_expand\n",
            "14 block1a_se_excite\n",
            "15 block1a_project_conv\n",
            "16 block1a_project_bn\n",
            "17 block2a_expand_conv\n",
            "18 block2a_expand_bn\n",
            "19 block2a_expand_activation\n",
            "20 block2a_dwconv_pad\n",
            "21 block2a_dwconv\n",
            "22 block2a_bn\n",
            "23 block2a_activation\n",
            "24 block2a_se_squeeze\n",
            "25 block2a_se_reshape\n",
            "26 block2a_se_reduce\n",
            "27 block2a_se_expand\n",
            "28 block2a_se_excite\n",
            "29 block2a_project_conv\n",
            "30 block2a_project_bn\n",
            "31 block2b_expand_conv\n",
            "32 block2b_expand_bn\n",
            "33 block2b_expand_activation\n",
            "34 block2b_dwconv\n",
            "35 block2b_bn\n",
            "36 block2b_activation\n",
            "37 block2b_se_squeeze\n",
            "38 block2b_se_reshape\n",
            "39 block2b_se_reduce\n",
            "40 block2b_se_expand\n",
            "41 block2b_se_excite\n",
            "42 block2b_project_conv\n",
            "43 block2b_project_bn\n",
            "44 block2b_drop\n",
            "45 block2b_add\n",
            "46 block3a_expand_conv\n",
            "47 block3a_expand_bn\n",
            "48 block3a_expand_activation\n",
            "49 block3a_dwconv_pad\n",
            "50 block3a_dwconv\n",
            "51 block3a_bn\n",
            "52 block3a_activation\n",
            "53 block3a_se_squeeze\n",
            "54 block3a_se_reshape\n",
            "55 block3a_se_reduce\n",
            "56 block3a_se_expand\n",
            "57 block3a_se_excite\n",
            "58 block3a_project_conv\n",
            "59 block3a_project_bn\n",
            "60 block3b_expand_conv\n",
            "61 block3b_expand_bn\n",
            "62 block3b_expand_activation\n",
            "63 block3b_dwconv\n",
            "64 block3b_bn\n",
            "65 block3b_activation\n",
            "66 block3b_se_squeeze\n",
            "67 block3b_se_reshape\n",
            "68 block3b_se_reduce\n",
            "69 block3b_se_expand\n",
            "70 block3b_se_excite\n",
            "71 block3b_project_conv\n",
            "72 block3b_project_bn\n",
            "73 block3b_drop\n",
            "74 block3b_add\n",
            "75 block4a_expand_conv\n",
            "76 block4a_expand_bn\n",
            "77 block4a_expand_activation\n",
            "78 block4a_dwconv_pad\n",
            "79 block4a_dwconv\n",
            "80 block4a_bn\n",
            "81 block4a_activation\n",
            "82 block4a_se_squeeze\n",
            "83 block4a_se_reshape\n",
            "84 block4a_se_reduce\n",
            "85 block4a_se_expand\n",
            "86 block4a_se_excite\n",
            "87 block4a_project_conv\n",
            "88 block4a_project_bn\n",
            "89 block4b_expand_conv\n",
            "90 block4b_expand_bn\n",
            "91 block4b_expand_activation\n",
            "92 block4b_dwconv\n",
            "93 block4b_bn\n",
            "94 block4b_activation\n",
            "95 block4b_se_squeeze\n",
            "96 block4b_se_reshape\n",
            "97 block4b_se_reduce\n",
            "98 block4b_se_expand\n",
            "99 block4b_se_excite\n",
            "100 block4b_project_conv\n",
            "101 block4b_project_bn\n",
            "102 block4b_drop\n",
            "103 block4b_add\n",
            "104 block4c_expand_conv\n",
            "105 block4c_expand_bn\n",
            "106 block4c_expand_activation\n",
            "107 block4c_dwconv\n",
            "108 block4c_bn\n",
            "109 block4c_activation\n",
            "110 block4c_se_squeeze\n",
            "111 block4c_se_reshape\n",
            "112 block4c_se_reduce\n",
            "113 block4c_se_expand\n",
            "114 block4c_se_excite\n",
            "115 block4c_project_conv\n",
            "116 block4c_project_bn\n",
            "117 block4c_drop\n",
            "118 block4c_add\n",
            "119 block5a_expand_conv\n",
            "120 block5a_expand_bn\n",
            "121 block5a_expand_activation\n",
            "122 block5a_dwconv\n",
            "123 block5a_bn\n",
            "124 block5a_activation\n",
            "125 block5a_se_squeeze\n",
            "126 block5a_se_reshape\n",
            "127 block5a_se_reduce\n",
            "128 block5a_se_expand\n",
            "129 block5a_se_excite\n",
            "130 block5a_project_conv\n",
            "131 block5a_project_bn\n",
            "132 block5b_expand_conv\n",
            "133 block5b_expand_bn\n",
            "134 block5b_expand_activation\n",
            "135 block5b_dwconv\n",
            "136 block5b_bn\n",
            "137 block5b_activation\n",
            "138 block5b_se_squeeze\n",
            "139 block5b_se_reshape\n",
            "140 block5b_se_reduce\n",
            "141 block5b_se_expand\n",
            "142 block5b_se_excite\n",
            "143 block5b_project_conv\n",
            "144 block5b_project_bn\n",
            "145 block5b_drop\n",
            "146 block5b_add\n",
            "147 block5c_expand_conv\n",
            "148 block5c_expand_bn\n",
            "149 block5c_expand_activation\n",
            "150 block5c_dwconv\n",
            "151 block5c_bn\n",
            "152 block5c_activation\n",
            "153 block5c_se_squeeze\n",
            "154 block5c_se_reshape\n",
            "155 block5c_se_reduce\n",
            "156 block5c_se_expand\n",
            "157 block5c_se_excite\n",
            "158 block5c_project_conv\n",
            "159 block5c_project_bn\n",
            "160 block5c_drop\n",
            "161 block5c_add\n",
            "162 block6a_expand_conv\n",
            "163 block6a_expand_bn\n",
            "164 block6a_expand_activation\n",
            "165 block6a_dwconv_pad\n",
            "166 block6a_dwconv\n",
            "167 block6a_bn\n",
            "168 block6a_activation\n",
            "169 block6a_se_squeeze\n",
            "170 block6a_se_reshape\n",
            "171 block6a_se_reduce\n",
            "172 block6a_se_expand\n",
            "173 block6a_se_excite\n",
            "174 block6a_project_conv\n",
            "175 block6a_project_bn\n",
            "176 block6b_expand_conv\n",
            "177 block6b_expand_bn\n",
            "178 block6b_expand_activation\n",
            "179 block6b_dwconv\n",
            "180 block6b_bn\n",
            "181 block6b_activation\n",
            "182 block6b_se_squeeze\n",
            "183 block6b_se_reshape\n",
            "184 block6b_se_reduce\n",
            "185 block6b_se_expand\n",
            "186 block6b_se_excite\n",
            "187 block6b_project_conv\n",
            "188 block6b_project_bn\n",
            "189 block6b_drop\n",
            "190 block6b_add\n",
            "191 block6c_expand_conv\n",
            "192 block6c_expand_bn\n",
            "193 block6c_expand_activation\n",
            "194 block6c_dwconv\n",
            "195 block6c_bn\n",
            "196 block6c_activation\n",
            "197 block6c_se_squeeze\n",
            "198 block6c_se_reshape\n",
            "199 block6c_se_reduce\n",
            "200 block6c_se_expand\n",
            "201 block6c_se_excite\n",
            "202 block6c_project_conv\n",
            "203 block6c_project_bn\n",
            "204 block6c_drop\n",
            "205 block6c_add\n",
            "206 block6d_expand_conv\n",
            "207 block6d_expand_bn\n",
            "208 block6d_expand_activation\n",
            "209 block6d_dwconv\n",
            "210 block6d_bn\n",
            "211 block6d_activation\n",
            "212 block6d_se_squeeze\n",
            "213 block6d_se_reshape\n",
            "214 block6d_se_reduce\n",
            "215 block6d_se_expand\n",
            "216 block6d_se_excite\n",
            "217 block6d_project_conv\n",
            "218 block6d_project_bn\n",
            "219 block6d_drop\n",
            "220 block6d_add\n",
            "221 block7a_expand_conv\n",
            "222 block7a_expand_bn\n",
            "223 block7a_expand_activation\n",
            "224 block7a_dwconv\n",
            "225 block7a_bn\n",
            "226 block7a_activation\n",
            "227 block7a_se_squeeze\n",
            "228 block7a_se_reshape\n",
            "229 block7a_se_reduce\n",
            "230 block7a_se_expand\n",
            "231 block7a_se_excite\n",
            "232 block7a_project_conv\n",
            "233 block7a_project_bn\n",
            "234 top_conv\n",
            "235 top_bn\n",
            "236 top_activation\n"
          ],
          "name": "stdout"
        }
      ]
    },
    {
      "cell_type": "code",
      "metadata": {
        "id": "6-nbKvqwiCd-",
        "colab": {
          "base_uri": "https://localhost:8080/"
        },
        "outputId": "60eacaf5-e404-40ef-c2f6-861f5f2fcab4"
      },
      "source": [
        "# Get a summary of the base model\n",
        "base_model.summary()"
      ],
      "execution_count": 15,
      "outputs": [
        {
          "output_type": "stream",
          "text": [
            "Model: \"efficientnetb0\"\n",
            "__________________________________________________________________________________________________\n",
            "Layer (type)                    Output Shape         Param #     Connected to                     \n",
            "==================================================================================================\n",
            "input_1 (InputLayer)            [(None, None, None,  0                                            \n",
            "__________________________________________________________________________________________________\n",
            "rescaling (Rescaling)           (None, None, None, 3 0           input_1[0][0]                    \n",
            "__________________________________________________________________________________________________\n",
            "normalization (Normalization)   (None, None, None, 3 7           rescaling[0][0]                  \n",
            "__________________________________________________________________________________________________\n",
            "stem_conv_pad (ZeroPadding2D)   (None, None, None, 3 0           normalization[0][0]              \n",
            "__________________________________________________________________________________________________\n",
            "stem_conv (Conv2D)              (None, None, None, 3 864         stem_conv_pad[0][0]              \n",
            "__________________________________________________________________________________________________\n",
            "stem_bn (BatchNormalization)    (None, None, None, 3 128         stem_conv[0][0]                  \n",
            "__________________________________________________________________________________________________\n",
            "stem_activation (Activation)    (None, None, None, 3 0           stem_bn[0][0]                    \n",
            "__________________________________________________________________________________________________\n",
            "block1a_dwconv (DepthwiseConv2D (None, None, None, 3 288         stem_activation[0][0]            \n",
            "__________________________________________________________________________________________________\n",
            "block1a_bn (BatchNormalization) (None, None, None, 3 128         block1a_dwconv[0][0]             \n",
            "__________________________________________________________________________________________________\n",
            "block1a_activation (Activation) (None, None, None, 3 0           block1a_bn[0][0]                 \n",
            "__________________________________________________________________________________________________\n",
            "block1a_se_squeeze (GlobalAvera (None, 32)           0           block1a_activation[0][0]         \n",
            "__________________________________________________________________________________________________\n",
            "block1a_se_reshape (Reshape)    (None, 1, 1, 32)     0           block1a_se_squeeze[0][0]         \n",
            "__________________________________________________________________________________________________\n",
            "block1a_se_reduce (Conv2D)      (None, 1, 1, 8)      264         block1a_se_reshape[0][0]         \n",
            "__________________________________________________________________________________________________\n",
            "block1a_se_expand (Conv2D)      (None, 1, 1, 32)     288         block1a_se_reduce[0][0]          \n",
            "__________________________________________________________________________________________________\n",
            "block1a_se_excite (Multiply)    (None, None, None, 3 0           block1a_activation[0][0]         \n",
            "                                                                 block1a_se_expand[0][0]          \n",
            "__________________________________________________________________________________________________\n",
            "block1a_project_conv (Conv2D)   (None, None, None, 1 512         block1a_se_excite[0][0]          \n",
            "__________________________________________________________________________________________________\n",
            "block1a_project_bn (BatchNormal (None, None, None, 1 64          block1a_project_conv[0][0]       \n",
            "__________________________________________________________________________________________________\n",
            "block2a_expand_conv (Conv2D)    (None, None, None, 9 1536        block1a_project_bn[0][0]         \n",
            "__________________________________________________________________________________________________\n",
            "block2a_expand_bn (BatchNormali (None, None, None, 9 384         block2a_expand_conv[0][0]        \n",
            "__________________________________________________________________________________________________\n",
            "block2a_expand_activation (Acti (None, None, None, 9 0           block2a_expand_bn[0][0]          \n",
            "__________________________________________________________________________________________________\n",
            "block2a_dwconv_pad (ZeroPadding (None, None, None, 9 0           block2a_expand_activation[0][0]  \n",
            "__________________________________________________________________________________________________\n",
            "block2a_dwconv (DepthwiseConv2D (None, None, None, 9 864         block2a_dwconv_pad[0][0]         \n",
            "__________________________________________________________________________________________________\n",
            "block2a_bn (BatchNormalization) (None, None, None, 9 384         block2a_dwconv[0][0]             \n",
            "__________________________________________________________________________________________________\n",
            "block2a_activation (Activation) (None, None, None, 9 0           block2a_bn[0][0]                 \n",
            "__________________________________________________________________________________________________\n",
            "block2a_se_squeeze (GlobalAvera (None, 96)           0           block2a_activation[0][0]         \n",
            "__________________________________________________________________________________________________\n",
            "block2a_se_reshape (Reshape)    (None, 1, 1, 96)     0           block2a_se_squeeze[0][0]         \n",
            "__________________________________________________________________________________________________\n",
            "block2a_se_reduce (Conv2D)      (None, 1, 1, 4)      388         block2a_se_reshape[0][0]         \n",
            "__________________________________________________________________________________________________\n",
            "block2a_se_expand (Conv2D)      (None, 1, 1, 96)     480         block2a_se_reduce[0][0]          \n",
            "__________________________________________________________________________________________________\n",
            "block2a_se_excite (Multiply)    (None, None, None, 9 0           block2a_activation[0][0]         \n",
            "                                                                 block2a_se_expand[0][0]          \n",
            "__________________________________________________________________________________________________\n",
            "block2a_project_conv (Conv2D)   (None, None, None, 2 2304        block2a_se_excite[0][0]          \n",
            "__________________________________________________________________________________________________\n",
            "block2a_project_bn (BatchNormal (None, None, None, 2 96          block2a_project_conv[0][0]       \n",
            "__________________________________________________________________________________________________\n",
            "block2b_expand_conv (Conv2D)    (None, None, None, 1 3456        block2a_project_bn[0][0]         \n",
            "__________________________________________________________________________________________________\n",
            "block2b_expand_bn (BatchNormali (None, None, None, 1 576         block2b_expand_conv[0][0]        \n",
            "__________________________________________________________________________________________________\n",
            "block2b_expand_activation (Acti (None, None, None, 1 0           block2b_expand_bn[0][0]          \n",
            "__________________________________________________________________________________________________\n",
            "block2b_dwconv (DepthwiseConv2D (None, None, None, 1 1296        block2b_expand_activation[0][0]  \n",
            "__________________________________________________________________________________________________\n",
            "block2b_bn (BatchNormalization) (None, None, None, 1 576         block2b_dwconv[0][0]             \n",
            "__________________________________________________________________________________________________\n",
            "block2b_activation (Activation) (None, None, None, 1 0           block2b_bn[0][0]                 \n",
            "__________________________________________________________________________________________________\n",
            "block2b_se_squeeze (GlobalAvera (None, 144)          0           block2b_activation[0][0]         \n",
            "__________________________________________________________________________________________________\n",
            "block2b_se_reshape (Reshape)    (None, 1, 1, 144)    0           block2b_se_squeeze[0][0]         \n",
            "__________________________________________________________________________________________________\n",
            "block2b_se_reduce (Conv2D)      (None, 1, 1, 6)      870         block2b_se_reshape[0][0]         \n",
            "__________________________________________________________________________________________________\n",
            "block2b_se_expand (Conv2D)      (None, 1, 1, 144)    1008        block2b_se_reduce[0][0]          \n",
            "__________________________________________________________________________________________________\n",
            "block2b_se_excite (Multiply)    (None, None, None, 1 0           block2b_activation[0][0]         \n",
            "                                                                 block2b_se_expand[0][0]          \n",
            "__________________________________________________________________________________________________\n",
            "block2b_project_conv (Conv2D)   (None, None, None, 2 3456        block2b_se_excite[0][0]          \n",
            "__________________________________________________________________________________________________\n",
            "block2b_project_bn (BatchNormal (None, None, None, 2 96          block2b_project_conv[0][0]       \n",
            "__________________________________________________________________________________________________\n",
            "block2b_drop (Dropout)          (None, None, None, 2 0           block2b_project_bn[0][0]         \n",
            "__________________________________________________________________________________________________\n",
            "block2b_add (Add)               (None, None, None, 2 0           block2b_drop[0][0]               \n",
            "                                                                 block2a_project_bn[0][0]         \n",
            "__________________________________________________________________________________________________\n",
            "block3a_expand_conv (Conv2D)    (None, None, None, 1 3456        block2b_add[0][0]                \n",
            "__________________________________________________________________________________________________\n",
            "block3a_expand_bn (BatchNormali (None, None, None, 1 576         block3a_expand_conv[0][0]        \n",
            "__________________________________________________________________________________________________\n",
            "block3a_expand_activation (Acti (None, None, None, 1 0           block3a_expand_bn[0][0]          \n",
            "__________________________________________________________________________________________________\n",
            "block3a_dwconv_pad (ZeroPadding (None, None, None, 1 0           block3a_expand_activation[0][0]  \n",
            "__________________________________________________________________________________________________\n",
            "block3a_dwconv (DepthwiseConv2D (None, None, None, 1 3600        block3a_dwconv_pad[0][0]         \n",
            "__________________________________________________________________________________________________\n",
            "block3a_bn (BatchNormalization) (None, None, None, 1 576         block3a_dwconv[0][0]             \n",
            "__________________________________________________________________________________________________\n",
            "block3a_activation (Activation) (None, None, None, 1 0           block3a_bn[0][0]                 \n",
            "__________________________________________________________________________________________________\n",
            "block3a_se_squeeze (GlobalAvera (None, 144)          0           block3a_activation[0][0]         \n",
            "__________________________________________________________________________________________________\n",
            "block3a_se_reshape (Reshape)    (None, 1, 1, 144)    0           block3a_se_squeeze[0][0]         \n",
            "__________________________________________________________________________________________________\n",
            "block3a_se_reduce (Conv2D)      (None, 1, 1, 6)      870         block3a_se_reshape[0][0]         \n",
            "__________________________________________________________________________________________________\n",
            "block3a_se_expand (Conv2D)      (None, 1, 1, 144)    1008        block3a_se_reduce[0][0]          \n",
            "__________________________________________________________________________________________________\n",
            "block3a_se_excite (Multiply)    (None, None, None, 1 0           block3a_activation[0][0]         \n",
            "                                                                 block3a_se_expand[0][0]          \n",
            "__________________________________________________________________________________________________\n",
            "block3a_project_conv (Conv2D)   (None, None, None, 4 5760        block3a_se_excite[0][0]          \n",
            "__________________________________________________________________________________________________\n",
            "block3a_project_bn (BatchNormal (None, None, None, 4 160         block3a_project_conv[0][0]       \n",
            "__________________________________________________________________________________________________\n",
            "block3b_expand_conv (Conv2D)    (None, None, None, 2 9600        block3a_project_bn[0][0]         \n",
            "__________________________________________________________________________________________________\n",
            "block3b_expand_bn (BatchNormali (None, None, None, 2 960         block3b_expand_conv[0][0]        \n",
            "__________________________________________________________________________________________________\n",
            "block3b_expand_activation (Acti (None, None, None, 2 0           block3b_expand_bn[0][0]          \n",
            "__________________________________________________________________________________________________\n",
            "block3b_dwconv (DepthwiseConv2D (None, None, None, 2 6000        block3b_expand_activation[0][0]  \n",
            "__________________________________________________________________________________________________\n",
            "block3b_bn (BatchNormalization) (None, None, None, 2 960         block3b_dwconv[0][0]             \n",
            "__________________________________________________________________________________________________\n",
            "block3b_activation (Activation) (None, None, None, 2 0           block3b_bn[0][0]                 \n",
            "__________________________________________________________________________________________________\n",
            "block3b_se_squeeze (GlobalAvera (None, 240)          0           block3b_activation[0][0]         \n",
            "__________________________________________________________________________________________________\n",
            "block3b_se_reshape (Reshape)    (None, 1, 1, 240)    0           block3b_se_squeeze[0][0]         \n",
            "__________________________________________________________________________________________________\n",
            "block3b_se_reduce (Conv2D)      (None, 1, 1, 10)     2410        block3b_se_reshape[0][0]         \n",
            "__________________________________________________________________________________________________\n",
            "block3b_se_expand (Conv2D)      (None, 1, 1, 240)    2640        block3b_se_reduce[0][0]          \n",
            "__________________________________________________________________________________________________\n",
            "block3b_se_excite (Multiply)    (None, None, None, 2 0           block3b_activation[0][0]         \n",
            "                                                                 block3b_se_expand[0][0]          \n",
            "__________________________________________________________________________________________________\n",
            "block3b_project_conv (Conv2D)   (None, None, None, 4 9600        block3b_se_excite[0][0]          \n",
            "__________________________________________________________________________________________________\n",
            "block3b_project_bn (BatchNormal (None, None, None, 4 160         block3b_project_conv[0][0]       \n",
            "__________________________________________________________________________________________________\n",
            "block3b_drop (Dropout)          (None, None, None, 4 0           block3b_project_bn[0][0]         \n",
            "__________________________________________________________________________________________________\n",
            "block3b_add (Add)               (None, None, None, 4 0           block3b_drop[0][0]               \n",
            "                                                                 block3a_project_bn[0][0]         \n",
            "__________________________________________________________________________________________________\n",
            "block4a_expand_conv (Conv2D)    (None, None, None, 2 9600        block3b_add[0][0]                \n",
            "__________________________________________________________________________________________________\n",
            "block4a_expand_bn (BatchNormali (None, None, None, 2 960         block4a_expand_conv[0][0]        \n",
            "__________________________________________________________________________________________________\n",
            "block4a_expand_activation (Acti (None, None, None, 2 0           block4a_expand_bn[0][0]          \n",
            "__________________________________________________________________________________________________\n",
            "block4a_dwconv_pad (ZeroPadding (None, None, None, 2 0           block4a_expand_activation[0][0]  \n",
            "__________________________________________________________________________________________________\n",
            "block4a_dwconv (DepthwiseConv2D (None, None, None, 2 2160        block4a_dwconv_pad[0][0]         \n",
            "__________________________________________________________________________________________________\n",
            "block4a_bn (BatchNormalization) (None, None, None, 2 960         block4a_dwconv[0][0]             \n",
            "__________________________________________________________________________________________________\n",
            "block4a_activation (Activation) (None, None, None, 2 0           block4a_bn[0][0]                 \n",
            "__________________________________________________________________________________________________\n",
            "block4a_se_squeeze (GlobalAvera (None, 240)          0           block4a_activation[0][0]         \n",
            "__________________________________________________________________________________________________\n",
            "block4a_se_reshape (Reshape)    (None, 1, 1, 240)    0           block4a_se_squeeze[0][0]         \n",
            "__________________________________________________________________________________________________\n",
            "block4a_se_reduce (Conv2D)      (None, 1, 1, 10)     2410        block4a_se_reshape[0][0]         \n",
            "__________________________________________________________________________________________________\n",
            "block4a_se_expand (Conv2D)      (None, 1, 1, 240)    2640        block4a_se_reduce[0][0]          \n",
            "__________________________________________________________________________________________________\n",
            "block4a_se_excite (Multiply)    (None, None, None, 2 0           block4a_activation[0][0]         \n",
            "                                                                 block4a_se_expand[0][0]          \n",
            "__________________________________________________________________________________________________\n",
            "block4a_project_conv (Conv2D)   (None, None, None, 8 19200       block4a_se_excite[0][0]          \n",
            "__________________________________________________________________________________________________\n",
            "block4a_project_bn (BatchNormal (None, None, None, 8 320         block4a_project_conv[0][0]       \n",
            "__________________________________________________________________________________________________\n",
            "block4b_expand_conv (Conv2D)    (None, None, None, 4 38400       block4a_project_bn[0][0]         \n",
            "__________________________________________________________________________________________________\n",
            "block4b_expand_bn (BatchNormali (None, None, None, 4 1920        block4b_expand_conv[0][0]        \n",
            "__________________________________________________________________________________________________\n",
            "block4b_expand_activation (Acti (None, None, None, 4 0           block4b_expand_bn[0][0]          \n",
            "__________________________________________________________________________________________________\n",
            "block4b_dwconv (DepthwiseConv2D (None, None, None, 4 4320        block4b_expand_activation[0][0]  \n",
            "__________________________________________________________________________________________________\n",
            "block4b_bn (BatchNormalization) (None, None, None, 4 1920        block4b_dwconv[0][0]             \n",
            "__________________________________________________________________________________________________\n",
            "block4b_activation (Activation) (None, None, None, 4 0           block4b_bn[0][0]                 \n",
            "__________________________________________________________________________________________________\n",
            "block4b_se_squeeze (GlobalAvera (None, 480)          0           block4b_activation[0][0]         \n",
            "__________________________________________________________________________________________________\n",
            "block4b_se_reshape (Reshape)    (None, 1, 1, 480)    0           block4b_se_squeeze[0][0]         \n",
            "__________________________________________________________________________________________________\n",
            "block4b_se_reduce (Conv2D)      (None, 1, 1, 20)     9620        block4b_se_reshape[0][0]         \n",
            "__________________________________________________________________________________________________\n",
            "block4b_se_expand (Conv2D)      (None, 1, 1, 480)    10080       block4b_se_reduce[0][0]          \n",
            "__________________________________________________________________________________________________\n",
            "block4b_se_excite (Multiply)    (None, None, None, 4 0           block4b_activation[0][0]         \n",
            "                                                                 block4b_se_expand[0][0]          \n",
            "__________________________________________________________________________________________________\n",
            "block4b_project_conv (Conv2D)   (None, None, None, 8 38400       block4b_se_excite[0][0]          \n",
            "__________________________________________________________________________________________________\n",
            "block4b_project_bn (BatchNormal (None, None, None, 8 320         block4b_project_conv[0][0]       \n",
            "__________________________________________________________________________________________________\n",
            "block4b_drop (Dropout)          (None, None, None, 8 0           block4b_project_bn[0][0]         \n",
            "__________________________________________________________________________________________________\n",
            "block4b_add (Add)               (None, None, None, 8 0           block4b_drop[0][0]               \n",
            "                                                                 block4a_project_bn[0][0]         \n",
            "__________________________________________________________________________________________________\n",
            "block4c_expand_conv (Conv2D)    (None, None, None, 4 38400       block4b_add[0][0]                \n",
            "__________________________________________________________________________________________________\n",
            "block4c_expand_bn (BatchNormali (None, None, None, 4 1920        block4c_expand_conv[0][0]        \n",
            "__________________________________________________________________________________________________\n",
            "block4c_expand_activation (Acti (None, None, None, 4 0           block4c_expand_bn[0][0]          \n",
            "__________________________________________________________________________________________________\n",
            "block4c_dwconv (DepthwiseConv2D (None, None, None, 4 4320        block4c_expand_activation[0][0]  \n",
            "__________________________________________________________________________________________________\n",
            "block4c_bn (BatchNormalization) (None, None, None, 4 1920        block4c_dwconv[0][0]             \n",
            "__________________________________________________________________________________________________\n",
            "block4c_activation (Activation) (None, None, None, 4 0           block4c_bn[0][0]                 \n",
            "__________________________________________________________________________________________________\n",
            "block4c_se_squeeze (GlobalAvera (None, 480)          0           block4c_activation[0][0]         \n",
            "__________________________________________________________________________________________________\n",
            "block4c_se_reshape (Reshape)    (None, 1, 1, 480)    0           block4c_se_squeeze[0][0]         \n",
            "__________________________________________________________________________________________________\n",
            "block4c_se_reduce (Conv2D)      (None, 1, 1, 20)     9620        block4c_se_reshape[0][0]         \n",
            "__________________________________________________________________________________________________\n",
            "block4c_se_expand (Conv2D)      (None, 1, 1, 480)    10080       block4c_se_reduce[0][0]          \n",
            "__________________________________________________________________________________________________\n",
            "block4c_se_excite (Multiply)    (None, None, None, 4 0           block4c_activation[0][0]         \n",
            "                                                                 block4c_se_expand[0][0]          \n",
            "__________________________________________________________________________________________________\n",
            "block4c_project_conv (Conv2D)   (None, None, None, 8 38400       block4c_se_excite[0][0]          \n",
            "__________________________________________________________________________________________________\n",
            "block4c_project_bn (BatchNormal (None, None, None, 8 320         block4c_project_conv[0][0]       \n",
            "__________________________________________________________________________________________________\n",
            "block4c_drop (Dropout)          (None, None, None, 8 0           block4c_project_bn[0][0]         \n",
            "__________________________________________________________________________________________________\n",
            "block4c_add (Add)               (None, None, None, 8 0           block4c_drop[0][0]               \n",
            "                                                                 block4b_add[0][0]                \n",
            "__________________________________________________________________________________________________\n",
            "block5a_expand_conv (Conv2D)    (None, None, None, 4 38400       block4c_add[0][0]                \n",
            "__________________________________________________________________________________________________\n",
            "block5a_expand_bn (BatchNormali (None, None, None, 4 1920        block5a_expand_conv[0][0]        \n",
            "__________________________________________________________________________________________________\n",
            "block5a_expand_activation (Acti (None, None, None, 4 0           block5a_expand_bn[0][0]          \n",
            "__________________________________________________________________________________________________\n",
            "block5a_dwconv (DepthwiseConv2D (None, None, None, 4 12000       block5a_expand_activation[0][0]  \n",
            "__________________________________________________________________________________________________\n",
            "block5a_bn (BatchNormalization) (None, None, None, 4 1920        block5a_dwconv[0][0]             \n",
            "__________________________________________________________________________________________________\n",
            "block5a_activation (Activation) (None, None, None, 4 0           block5a_bn[0][0]                 \n",
            "__________________________________________________________________________________________________\n",
            "block5a_se_squeeze (GlobalAvera (None, 480)          0           block5a_activation[0][0]         \n",
            "__________________________________________________________________________________________________\n",
            "block5a_se_reshape (Reshape)    (None, 1, 1, 480)    0           block5a_se_squeeze[0][0]         \n",
            "__________________________________________________________________________________________________\n",
            "block5a_se_reduce (Conv2D)      (None, 1, 1, 20)     9620        block5a_se_reshape[0][0]         \n",
            "__________________________________________________________________________________________________\n",
            "block5a_se_expand (Conv2D)      (None, 1, 1, 480)    10080       block5a_se_reduce[0][0]          \n",
            "__________________________________________________________________________________________________\n",
            "block5a_se_excite (Multiply)    (None, None, None, 4 0           block5a_activation[0][0]         \n",
            "                                                                 block5a_se_expand[0][0]          \n",
            "__________________________________________________________________________________________________\n",
            "block5a_project_conv (Conv2D)   (None, None, None, 1 53760       block5a_se_excite[0][0]          \n",
            "__________________________________________________________________________________________________\n",
            "block5a_project_bn (BatchNormal (None, None, None, 1 448         block5a_project_conv[0][0]       \n",
            "__________________________________________________________________________________________________\n",
            "block5b_expand_conv (Conv2D)    (None, None, None, 6 75264       block5a_project_bn[0][0]         \n",
            "__________________________________________________________________________________________________\n",
            "block5b_expand_bn (BatchNormali (None, None, None, 6 2688        block5b_expand_conv[0][0]        \n",
            "__________________________________________________________________________________________________\n",
            "block5b_expand_activation (Acti (None, None, None, 6 0           block5b_expand_bn[0][0]          \n",
            "__________________________________________________________________________________________________\n",
            "block5b_dwconv (DepthwiseConv2D (None, None, None, 6 16800       block5b_expand_activation[0][0]  \n",
            "__________________________________________________________________________________________________\n",
            "block5b_bn (BatchNormalization) (None, None, None, 6 2688        block5b_dwconv[0][0]             \n",
            "__________________________________________________________________________________________________\n",
            "block5b_activation (Activation) (None, None, None, 6 0           block5b_bn[0][0]                 \n",
            "__________________________________________________________________________________________________\n",
            "block5b_se_squeeze (GlobalAvera (None, 672)          0           block5b_activation[0][0]         \n",
            "__________________________________________________________________________________________________\n",
            "block5b_se_reshape (Reshape)    (None, 1, 1, 672)    0           block5b_se_squeeze[0][0]         \n",
            "__________________________________________________________________________________________________\n",
            "block5b_se_reduce (Conv2D)      (None, 1, 1, 28)     18844       block5b_se_reshape[0][0]         \n",
            "__________________________________________________________________________________________________\n",
            "block5b_se_expand (Conv2D)      (None, 1, 1, 672)    19488       block5b_se_reduce[0][0]          \n",
            "__________________________________________________________________________________________________\n",
            "block5b_se_excite (Multiply)    (None, None, None, 6 0           block5b_activation[0][0]         \n",
            "                                                                 block5b_se_expand[0][0]          \n",
            "__________________________________________________________________________________________________\n",
            "block5b_project_conv (Conv2D)   (None, None, None, 1 75264       block5b_se_excite[0][0]          \n",
            "__________________________________________________________________________________________________\n",
            "block5b_project_bn (BatchNormal (None, None, None, 1 448         block5b_project_conv[0][0]       \n",
            "__________________________________________________________________________________________________\n",
            "block5b_drop (Dropout)          (None, None, None, 1 0           block5b_project_bn[0][0]         \n",
            "__________________________________________________________________________________________________\n",
            "block5b_add (Add)               (None, None, None, 1 0           block5b_drop[0][0]               \n",
            "                                                                 block5a_project_bn[0][0]         \n",
            "__________________________________________________________________________________________________\n",
            "block5c_expand_conv (Conv2D)    (None, None, None, 6 75264       block5b_add[0][0]                \n",
            "__________________________________________________________________________________________________\n",
            "block5c_expand_bn (BatchNormali (None, None, None, 6 2688        block5c_expand_conv[0][0]        \n",
            "__________________________________________________________________________________________________\n",
            "block5c_expand_activation (Acti (None, None, None, 6 0           block5c_expand_bn[0][0]          \n",
            "__________________________________________________________________________________________________\n",
            "block5c_dwconv (DepthwiseConv2D (None, None, None, 6 16800       block5c_expand_activation[0][0]  \n",
            "__________________________________________________________________________________________________\n",
            "block5c_bn (BatchNormalization) (None, None, None, 6 2688        block5c_dwconv[0][0]             \n",
            "__________________________________________________________________________________________________\n",
            "block5c_activation (Activation) (None, None, None, 6 0           block5c_bn[0][0]                 \n",
            "__________________________________________________________________________________________________\n",
            "block5c_se_squeeze (GlobalAvera (None, 672)          0           block5c_activation[0][0]         \n",
            "__________________________________________________________________________________________________\n",
            "block5c_se_reshape (Reshape)    (None, 1, 1, 672)    0           block5c_se_squeeze[0][0]         \n",
            "__________________________________________________________________________________________________\n",
            "block5c_se_reduce (Conv2D)      (None, 1, 1, 28)     18844       block5c_se_reshape[0][0]         \n",
            "__________________________________________________________________________________________________\n",
            "block5c_se_expand (Conv2D)      (None, 1, 1, 672)    19488       block5c_se_reduce[0][0]          \n",
            "__________________________________________________________________________________________________\n",
            "block5c_se_excite (Multiply)    (None, None, None, 6 0           block5c_activation[0][0]         \n",
            "                                                                 block5c_se_expand[0][0]          \n",
            "__________________________________________________________________________________________________\n",
            "block5c_project_conv (Conv2D)   (None, None, None, 1 75264       block5c_se_excite[0][0]          \n",
            "__________________________________________________________________________________________________\n",
            "block5c_project_bn (BatchNormal (None, None, None, 1 448         block5c_project_conv[0][0]       \n",
            "__________________________________________________________________________________________________\n",
            "block5c_drop (Dropout)          (None, None, None, 1 0           block5c_project_bn[0][0]         \n",
            "__________________________________________________________________________________________________\n",
            "block5c_add (Add)               (None, None, None, 1 0           block5c_drop[0][0]               \n",
            "                                                                 block5b_add[0][0]                \n",
            "__________________________________________________________________________________________________\n",
            "block6a_expand_conv (Conv2D)    (None, None, None, 6 75264       block5c_add[0][0]                \n",
            "__________________________________________________________________________________________________\n",
            "block6a_expand_bn (BatchNormali (None, None, None, 6 2688        block6a_expand_conv[0][0]        \n",
            "__________________________________________________________________________________________________\n",
            "block6a_expand_activation (Acti (None, None, None, 6 0           block6a_expand_bn[0][0]          \n",
            "__________________________________________________________________________________________________\n",
            "block6a_dwconv_pad (ZeroPadding (None, None, None, 6 0           block6a_expand_activation[0][0]  \n",
            "__________________________________________________________________________________________________\n",
            "block6a_dwconv (DepthwiseConv2D (None, None, None, 6 16800       block6a_dwconv_pad[0][0]         \n",
            "__________________________________________________________________________________________________\n",
            "block6a_bn (BatchNormalization) (None, None, None, 6 2688        block6a_dwconv[0][0]             \n",
            "__________________________________________________________________________________________________\n",
            "block6a_activation (Activation) (None, None, None, 6 0           block6a_bn[0][0]                 \n",
            "__________________________________________________________________________________________________\n",
            "block6a_se_squeeze (GlobalAvera (None, 672)          0           block6a_activation[0][0]         \n",
            "__________________________________________________________________________________________________\n",
            "block6a_se_reshape (Reshape)    (None, 1, 1, 672)    0           block6a_se_squeeze[0][0]         \n",
            "__________________________________________________________________________________________________\n",
            "block6a_se_reduce (Conv2D)      (None, 1, 1, 28)     18844       block6a_se_reshape[0][0]         \n",
            "__________________________________________________________________________________________________\n",
            "block6a_se_expand (Conv2D)      (None, 1, 1, 672)    19488       block6a_se_reduce[0][0]          \n",
            "__________________________________________________________________________________________________\n",
            "block6a_se_excite (Multiply)    (None, None, None, 6 0           block6a_activation[0][0]         \n",
            "                                                                 block6a_se_expand[0][0]          \n",
            "__________________________________________________________________________________________________\n",
            "block6a_project_conv (Conv2D)   (None, None, None, 1 129024      block6a_se_excite[0][0]          \n",
            "__________________________________________________________________________________________________\n",
            "block6a_project_bn (BatchNormal (None, None, None, 1 768         block6a_project_conv[0][0]       \n",
            "__________________________________________________________________________________________________\n",
            "block6b_expand_conv (Conv2D)    (None, None, None, 1 221184      block6a_project_bn[0][0]         \n",
            "__________________________________________________________________________________________________\n",
            "block6b_expand_bn (BatchNormali (None, None, None, 1 4608        block6b_expand_conv[0][0]        \n",
            "__________________________________________________________________________________________________\n",
            "block6b_expand_activation (Acti (None, None, None, 1 0           block6b_expand_bn[0][0]          \n",
            "__________________________________________________________________________________________________\n",
            "block6b_dwconv (DepthwiseConv2D (None, None, None, 1 28800       block6b_expand_activation[0][0]  \n",
            "__________________________________________________________________________________________________\n",
            "block6b_bn (BatchNormalization) (None, None, None, 1 4608        block6b_dwconv[0][0]             \n",
            "__________________________________________________________________________________________________\n",
            "block6b_activation (Activation) (None, None, None, 1 0           block6b_bn[0][0]                 \n",
            "__________________________________________________________________________________________________\n",
            "block6b_se_squeeze (GlobalAvera (None, 1152)         0           block6b_activation[0][0]         \n",
            "__________________________________________________________________________________________________\n",
            "block6b_se_reshape (Reshape)    (None, 1, 1, 1152)   0           block6b_se_squeeze[0][0]         \n",
            "__________________________________________________________________________________________________\n",
            "block6b_se_reduce (Conv2D)      (None, 1, 1, 48)     55344       block6b_se_reshape[0][0]         \n",
            "__________________________________________________________________________________________________\n",
            "block6b_se_expand (Conv2D)      (None, 1, 1, 1152)   56448       block6b_se_reduce[0][0]          \n",
            "__________________________________________________________________________________________________\n",
            "block6b_se_excite (Multiply)    (None, None, None, 1 0           block6b_activation[0][0]         \n",
            "                                                                 block6b_se_expand[0][0]          \n",
            "__________________________________________________________________________________________________\n",
            "block6b_project_conv (Conv2D)   (None, None, None, 1 221184      block6b_se_excite[0][0]          \n",
            "__________________________________________________________________________________________________\n",
            "block6b_project_bn (BatchNormal (None, None, None, 1 768         block6b_project_conv[0][0]       \n",
            "__________________________________________________________________________________________________\n",
            "block6b_drop (Dropout)          (None, None, None, 1 0           block6b_project_bn[0][0]         \n",
            "__________________________________________________________________________________________________\n",
            "block6b_add (Add)               (None, None, None, 1 0           block6b_drop[0][0]               \n",
            "                                                                 block6a_project_bn[0][0]         \n",
            "__________________________________________________________________________________________________\n",
            "block6c_expand_conv (Conv2D)    (None, None, None, 1 221184      block6b_add[0][0]                \n",
            "__________________________________________________________________________________________________\n",
            "block6c_expand_bn (BatchNormali (None, None, None, 1 4608        block6c_expand_conv[0][0]        \n",
            "__________________________________________________________________________________________________\n",
            "block6c_expand_activation (Acti (None, None, None, 1 0           block6c_expand_bn[0][0]          \n",
            "__________________________________________________________________________________________________\n",
            "block6c_dwconv (DepthwiseConv2D (None, None, None, 1 28800       block6c_expand_activation[0][0]  \n",
            "__________________________________________________________________________________________________\n",
            "block6c_bn (BatchNormalization) (None, None, None, 1 4608        block6c_dwconv[0][0]             \n",
            "__________________________________________________________________________________________________\n",
            "block6c_activation (Activation) (None, None, None, 1 0           block6c_bn[0][0]                 \n",
            "__________________________________________________________________________________________________\n",
            "block6c_se_squeeze (GlobalAvera (None, 1152)         0           block6c_activation[0][0]         \n",
            "__________________________________________________________________________________________________\n",
            "block6c_se_reshape (Reshape)    (None, 1, 1, 1152)   0           block6c_se_squeeze[0][0]         \n",
            "__________________________________________________________________________________________________\n",
            "block6c_se_reduce (Conv2D)      (None, 1, 1, 48)     55344       block6c_se_reshape[0][0]         \n",
            "__________________________________________________________________________________________________\n",
            "block6c_se_expand (Conv2D)      (None, 1, 1, 1152)   56448       block6c_se_reduce[0][0]          \n",
            "__________________________________________________________________________________________________\n",
            "block6c_se_excite (Multiply)    (None, None, None, 1 0           block6c_activation[0][0]         \n",
            "                                                                 block6c_se_expand[0][0]          \n",
            "__________________________________________________________________________________________________\n",
            "block6c_project_conv (Conv2D)   (None, None, None, 1 221184      block6c_se_excite[0][0]          \n",
            "__________________________________________________________________________________________________\n",
            "block6c_project_bn (BatchNormal (None, None, None, 1 768         block6c_project_conv[0][0]       \n",
            "__________________________________________________________________________________________________\n",
            "block6c_drop (Dropout)          (None, None, None, 1 0           block6c_project_bn[0][0]         \n",
            "__________________________________________________________________________________________________\n",
            "block6c_add (Add)               (None, None, None, 1 0           block6c_drop[0][0]               \n",
            "                                                                 block6b_add[0][0]                \n",
            "__________________________________________________________________________________________________\n",
            "block6d_expand_conv (Conv2D)    (None, None, None, 1 221184      block6c_add[0][0]                \n",
            "__________________________________________________________________________________________________\n",
            "block6d_expand_bn (BatchNormali (None, None, None, 1 4608        block6d_expand_conv[0][0]        \n",
            "__________________________________________________________________________________________________\n",
            "block6d_expand_activation (Acti (None, None, None, 1 0           block6d_expand_bn[0][0]          \n",
            "__________________________________________________________________________________________________\n",
            "block6d_dwconv (DepthwiseConv2D (None, None, None, 1 28800       block6d_expand_activation[0][0]  \n",
            "__________________________________________________________________________________________________\n",
            "block6d_bn (BatchNormalization) (None, None, None, 1 4608        block6d_dwconv[0][0]             \n",
            "__________________________________________________________________________________________________\n",
            "block6d_activation (Activation) (None, None, None, 1 0           block6d_bn[0][0]                 \n",
            "__________________________________________________________________________________________________\n",
            "block6d_se_squeeze (GlobalAvera (None, 1152)         0           block6d_activation[0][0]         \n",
            "__________________________________________________________________________________________________\n",
            "block6d_se_reshape (Reshape)    (None, 1, 1, 1152)   0           block6d_se_squeeze[0][0]         \n",
            "__________________________________________________________________________________________________\n",
            "block6d_se_reduce (Conv2D)      (None, 1, 1, 48)     55344       block6d_se_reshape[0][0]         \n",
            "__________________________________________________________________________________________________\n",
            "block6d_se_expand (Conv2D)      (None, 1, 1, 1152)   56448       block6d_se_reduce[0][0]          \n",
            "__________________________________________________________________________________________________\n",
            "block6d_se_excite (Multiply)    (None, None, None, 1 0           block6d_activation[0][0]         \n",
            "                                                                 block6d_se_expand[0][0]          \n",
            "__________________________________________________________________________________________________\n",
            "block6d_project_conv (Conv2D)   (None, None, None, 1 221184      block6d_se_excite[0][0]          \n",
            "__________________________________________________________________________________________________\n",
            "block6d_project_bn (BatchNormal (None, None, None, 1 768         block6d_project_conv[0][0]       \n",
            "__________________________________________________________________________________________________\n",
            "block6d_drop (Dropout)          (None, None, None, 1 0           block6d_project_bn[0][0]         \n",
            "__________________________________________________________________________________________________\n",
            "block6d_add (Add)               (None, None, None, 1 0           block6d_drop[0][0]               \n",
            "                                                                 block6c_add[0][0]                \n",
            "__________________________________________________________________________________________________\n",
            "block7a_expand_conv (Conv2D)    (None, None, None, 1 221184      block6d_add[0][0]                \n",
            "__________________________________________________________________________________________________\n",
            "block7a_expand_bn (BatchNormali (None, None, None, 1 4608        block7a_expand_conv[0][0]        \n",
            "__________________________________________________________________________________________________\n",
            "block7a_expand_activation (Acti (None, None, None, 1 0           block7a_expand_bn[0][0]          \n",
            "__________________________________________________________________________________________________\n",
            "block7a_dwconv (DepthwiseConv2D (None, None, None, 1 10368       block7a_expand_activation[0][0]  \n",
            "__________________________________________________________________________________________________\n",
            "block7a_bn (BatchNormalization) (None, None, None, 1 4608        block7a_dwconv[0][0]             \n",
            "__________________________________________________________________________________________________\n",
            "block7a_activation (Activation) (None, None, None, 1 0           block7a_bn[0][0]                 \n",
            "__________________________________________________________________________________________________\n",
            "block7a_se_squeeze (GlobalAvera (None, 1152)         0           block7a_activation[0][0]         \n",
            "__________________________________________________________________________________________________\n",
            "block7a_se_reshape (Reshape)    (None, 1, 1, 1152)   0           block7a_se_squeeze[0][0]         \n",
            "__________________________________________________________________________________________________\n",
            "block7a_se_reduce (Conv2D)      (None, 1, 1, 48)     55344       block7a_se_reshape[0][0]         \n",
            "__________________________________________________________________________________________________\n",
            "block7a_se_expand (Conv2D)      (None, 1, 1, 1152)   56448       block7a_se_reduce[0][0]          \n",
            "__________________________________________________________________________________________________\n",
            "block7a_se_excite (Multiply)    (None, None, None, 1 0           block7a_activation[0][0]         \n",
            "                                                                 block7a_se_expand[0][0]          \n",
            "__________________________________________________________________________________________________\n",
            "block7a_project_conv (Conv2D)   (None, None, None, 3 368640      block7a_se_excite[0][0]          \n",
            "__________________________________________________________________________________________________\n",
            "block7a_project_bn (BatchNormal (None, None, None, 3 1280        block7a_project_conv[0][0]       \n",
            "__________________________________________________________________________________________________\n",
            "top_conv (Conv2D)               (None, None, None, 1 409600      block7a_project_bn[0][0]         \n",
            "__________________________________________________________________________________________________\n",
            "top_bn (BatchNormalization)     (None, None, None, 1 5120        top_conv[0][0]                   \n",
            "__________________________________________________________________________________________________\n",
            "top_activation (Activation)     (None, None, None, 1 0           top_bn[0][0]                     \n",
            "==================================================================================================\n",
            "Total params: 4,049,571\n",
            "Trainable params: 0\n",
            "Non-trainable params: 4,049,571\n",
            "__________________________________________________________________________________________________\n"
          ],
          "name": "stdout"
        }
      ]
    },
    {
      "cell_type": "code",
      "metadata": {
        "id": "bsc_YD-IiKCF",
        "colab": {
          "base_uri": "https://localhost:8080/"
        },
        "outputId": "94cb40c2-7724-492d-d96f-26b698ec8b92"
      },
      "source": [
        "# Summary of whole model\n",
        "model_0.summary()"
      ],
      "execution_count": 16,
      "outputs": [
        {
          "output_type": "stream",
          "text": [
            "Model: \"model\"\n",
            "_________________________________________________________________\n",
            "Layer (type)                 Output Shape              Param #   \n",
            "=================================================================\n",
            "input_layer (InputLayer)     [(None, 224, 224, 3)]     0         \n",
            "_________________________________________________________________\n",
            "efficientnetb0 (Functional)  (None, None, None, 1280)  4049571   \n",
            "_________________________________________________________________\n",
            "global_average_pooling_layer (None, 1280)              0         \n",
            "_________________________________________________________________\n",
            "output_layer (Dense)         (None, 10)                12810     \n",
            "=================================================================\n",
            "Total params: 4,062,381\n",
            "Trainable params: 12,810\n",
            "Non-trainable params: 4,049,571\n",
            "_________________________________________________________________\n"
          ],
          "name": "stdout"
        }
      ]
    },
    {
      "cell_type": "code",
      "metadata": {
        "id": "ZifsNKJ4ibPs",
        "colab": {
          "base_uri": "https://localhost:8080/",
          "height": 573
        },
        "outputId": "2a77bbaf-3c43-4a90-845e-0c44c45d4430"
      },
      "source": [
        "# Check out our models´2 training curves\n",
        "plot_loss_curves(history_0)"
      ],
      "execution_count": 17,
      "outputs": [
        {
          "output_type": "display_data",
          "data": {
            "image/png": "[encoded data removed]",
            "text/plain": [
              "<Figure size 432x288 with 1 Axes>"
            ]
          },
          "metadata": {
            "tags": [],
            "needs_background": "light"
          }
        },
        {
          "output_type": "display_data",
          "data": {
            "image/png": "[encoded data removed]",
            "text/plain": [
              "<Figure size 432x288 with 1 Axes>"
            ]
          },
          "metadata": {
            "tags": [],
            "needs_background": "light"
          }
        }
      ]
    },
    {
      "cell_type": "markdown",
      "metadata": {
        "id": "9ZDexQwdjr9i"
      },
      "source": [
        "## Getting a feature vector from a trained model\n",
        "\n",
        "Let´s demonstrate the Global Average Pooling 2D layer..\n",
        "\n",
        "We have a tensor ofter our model goes through base_model of shape (None, 7, 7, 1289)...\n",
        "\n",
        "After GlobalAveragePooling2D it turns into (None, 1280).\n",
        "\n",
        "Let´s use a tensor of shape (1,4,4,3=´) and then pass it to Global Average Pooling 2D)"
      ]
    },
    {
      "cell_type": "code",
      "metadata": {
        "id": "1zShbZ5Hir_E",
        "colab": {
          "base_uri": "https://localhost:8080/"
        },
        "outputId": "8ab7ade8-aaef-4eff-da42-f57675005a8a"
      },
      "source": [
        "# Define the input shape\n",
        "input_shape = (1,4,4,3)\n",
        "\n",
        "# Create a random tensor\n",
        "tf.random.set_seed(42)\n",
        "input_tensor = tf.random.normal(input_shape)\n",
        "print(f\"Random input tensor: \\n {input_tensor}\\n\")\n",
        "\n",
        "# Pass the random tensor through a random global average pooling 2D layer\n",
        "global_average_pooled_tensor = tf.keras.layers.GlobalAveragePooling2D()(input_tensor)\n",
        "print(f\"2D global average pooled random tensor:\\n {global_average_pooled_tensor}\\n\")\n",
        "\n",
        "# Check the shape of the different tensors\n",
        "print(f\"Shape of the input tensor: {input_tensor.shape}\")\n",
        "print(f\"Shape of Global Average Pooled 2D tensor: {global_average_pooled_tensor.shape}\")"
      ],
      "execution_count": 18,
      "outputs": [
        {
          "output_type": "stream",
          "text": [
            "Random input tensor: \n",
            " [[[[ 0.3274685  -0.8426258   0.3194337 ]\n",
            "   [-1.4075519  -2.3880599  -1.0392479 ]\n",
            "   [-0.5573232   0.539707    1.6994323 ]\n",
            "   [ 0.28893656 -1.5066116  -0.2645474 ]]\n",
            "\n",
            "  [[-0.59722406 -1.9171132  -0.62044144]\n",
            "   [ 0.8504023  -0.40604794 -3.0258412 ]\n",
            "   [ 0.9058464   0.29855987 -0.22561555]\n",
            "   [-0.7616443  -1.8917141  -0.93847126]]\n",
            "\n",
            "  [[ 0.77852213 -0.47338897  0.97772694]\n",
            "   [ 0.24694404  0.20573747 -0.5256233 ]\n",
            "   [ 0.32410017  0.02545409 -0.10638497]\n",
            "   [-0.6369475   1.1603122   0.2507359 ]]\n",
            "\n",
            "  [[-0.41728503  0.4012578  -1.4145443 ]\n",
            "   [-0.5931857  -1.6617213   0.33567193]\n",
            "   [ 0.10815629  0.23479682 -0.56668764]\n",
            "   [-0.35819843  0.88698614  0.52744764]]]]\n",
            "\n",
            "2D global average pooled random tensor:\n",
            " [[-0.09368646 -0.45840448 -0.2885598 ]]\n",
            "\n",
            "Shape of the input tensor: (1, 4, 4, 3)\n",
            "Shape of Global Average Pooled 2D tensor: (1, 3)\n"
          ],
          "name": "stdout"
        }
      ]
    },
    {
      "cell_type": "code",
      "metadata": {
        "id": "Dh6SyrgYkzSx",
        "colab": {
          "base_uri": "https://localhost:8080/"
        },
        "outputId": "8be34acf-f0cf-49b2-8268-6ac4e6dc886c"
      },
      "source": [
        "# Let´s replicate the GlobalAveragePool2D layer\n",
        "tf.reduce_mean(input_tensor, axis=[1,2])"
      ],
      "execution_count": 19,
      "outputs": [
        {
          "output_type": "execute_result",
          "data": {
            "text/plain": [
              "<tf.Tensor: shape=(1, 3), dtype=float32, numpy=array([[-0.09368646, -0.45840448, -0.2885598 ]], dtype=float32)>"
            ]
          },
          "metadata": {
            "tags": []
          },
          "execution_count": 19
        }
      ]
    },
    {
      "cell_type": "markdown",
      "metadata": {
        "id": "DsLbMNVXpvJu"
      },
      "source": [
        "## Running a series of transfer learning experiments\n",
        "\n",
        "Experiments:\n",
        "\n",
        "1. model_1 - use feature extraction transfer learning with 1% of the training data with data augmentation\n",
        "2. model_2 - use feature extraction transfer learning with 10% of the training with data augmentation\n",
        "3. model_3 - use fine-tuning transfer learning on 10% of the training data with data augmentation\n",
        "4. model_4 - use fine-tuning transfer learning on 100% of the training data with data augmentation"
      ]
    },
    {
      "cell_type": "markdown",
      "metadata": {
        "id": "Mc-DKLmlrbMv"
      },
      "source": [
        "## Getting and preprocessing data for model_1"
      ]
    },
    {
      "cell_type": "code",
      "metadata": {
        "id": "Q1pQ_ocdmVE5",
        "colab": {
          "base_uri": "https://localhost:8080/"
        },
        "outputId": "a43ae264-4eb6-4d3d-de8c-4c4313f57382"
      },
      "source": [
        "# Download and unzip data - preprocessed from Food101\n",
        "!wget https://storage.googleapis.com/ztm_tf_course/food_vision/10_food_classes_1_percent.zip\n",
        "unzip_data(\"10_food_classes_1_percent.zip\")"
      ],
      "execution_count": 20,
      "outputs": [
        {
          "output_type": "stream",
          "text": [
            "--2021-07-31 11:21:18--  https://storage.googleapis.com/ztm_tf_course/food_vision/10_food_classes_1_percent.zip\n",
            "Resolving storage.googleapis.com (storage.googleapis.com)... 142.250.101.128, 142.250.141.128, 142.251.2.128, ...\n",
            "Connecting to storage.googleapis.com (storage.googleapis.com)|142.250.101.128|:443... connected.\n",
            "HTTP request sent, awaiting response... 200 OK\n",
            "Length: 133612354 (127M) [application/zip]\n",
            "Saving to: ‘10_food_classes_1_percent.zip’\n",
            "\n",
            "10_food_classes_1_p 100%[===================>] 127.42M   254MB/s    in 0.5s    \n",
            "\n",
            "2021-07-31 11:21:18 (254 MB/s) - ‘10_food_classes_1_percent.zip’ saved [133612354/133612354]\n",
            "\n"
          ],
          "name": "stdout"
        }
      ]
    },
    {
      "cell_type": "code",
      "metadata": {
        "id": "qmyezutiq05p"
      },
      "source": [
        "#Create training and test dirs\n",
        "train_dir_1_percent = \"10_food_classes_1_percent/train\"\n",
        "test_dir = \"10_food_classes_1_percent/test\""
      ],
      "execution_count": 21,
      "outputs": []
    },
    {
      "cell_type": "code",
      "metadata": {
        "id": "XB1sON1yrDwq",
        "colab": {
          "base_uri": "https://localhost:8080/"
        },
        "outputId": "90b4551d-95a3-4d75-c947-99c5bcc45768"
      },
      "source": [
        "#How many images?\n",
        "walk_through_dir(\"10_food_classes_1_percent\")"
      ],
      "execution_count": 22,
      "outputs": [
        {
          "output_type": "stream",
          "text": [
            "There are 2 directories and 0 images in '10_food_classes_1_percent'.\n",
            "There are 10 directories and 0 images in '10_food_classes_1_percent/train'.\n",
            "There are 0 directories and 7 images in '10_food_classes_1_percent/train/ice_cream'.\n",
            "There are 0 directories and 7 images in '10_food_classes_1_percent/train/chicken_curry'.\n",
            "There are 0 directories and 7 images in '10_food_classes_1_percent/train/ramen'.\n",
            "There are 0 directories and 7 images in '10_food_classes_1_percent/train/hamburger'.\n",
            "There are 0 directories and 7 images in '10_food_classes_1_percent/train/grilled_salmon'.\n",
            "There are 0 directories and 7 images in '10_food_classes_1_percent/train/chicken_wings'.\n",
            "There are 0 directories and 7 images in '10_food_classes_1_percent/train/sushi'.\n",
            "There are 0 directories and 7 images in '10_food_classes_1_percent/train/fried_rice'.\n",
            "There are 0 directories and 7 images in '10_food_classes_1_percent/train/steak'.\n",
            "There are 0 directories and 7 images in '10_food_classes_1_percent/train/pizza'.\n",
            "There are 10 directories and 0 images in '10_food_classes_1_percent/test'.\n",
            "There are 0 directories and 250 images in '10_food_classes_1_percent/test/ice_cream'.\n",
            "There are 0 directories and 250 images in '10_food_classes_1_percent/test/chicken_curry'.\n",
            "There are 0 directories and 250 images in '10_food_classes_1_percent/test/ramen'.\n",
            "There are 0 directories and 250 images in '10_food_classes_1_percent/test/hamburger'.\n",
            "There are 0 directories and 250 images in '10_food_classes_1_percent/test/grilled_salmon'.\n",
            "There are 0 directories and 250 images in '10_food_classes_1_percent/test/chicken_wings'.\n",
            "There are 0 directories and 250 images in '10_food_classes_1_percent/test/sushi'.\n",
            "There are 0 directories and 250 images in '10_food_classes_1_percent/test/fried_rice'.\n",
            "There are 0 directories and 250 images in '10_food_classes_1_percent/test/steak'.\n",
            "There are 0 directories and 250 images in '10_food_classes_1_percent/test/pizza'.\n"
          ],
          "name": "stdout"
        }
      ]
    },
    {
      "cell_type": "code",
      "metadata": {
        "id": "gfhDzG-MrLNX",
        "colab": {
          "base_uri": "https://localhost:8080/"
        },
        "outputId": "ec3037c0-e992-4ccf-d6ac-54601fef2ade"
      },
      "source": [
        "#Setup data loaders\n",
        "IMG_SIZE = (224,224)\n",
        "train_data_1_percent = tf.keras.preprocessing.image_dataset_from_directory(train_dir_1_percent,\n",
        "                                                                           label_mode=\"categorical\",\n",
        "                                                                           image_size=IMG_SIZE,\n",
        "                                                                           batch_size=BATCH_SIZE)\n",
        "\n",
        "test_data = tf.keras.preprocessing.image_dataset_from_directory(test_dir,\n",
        "                                                                label_mode=\"categorical\",\n",
        "                                                                image_size=IMG_SIZE,\n",
        "                                                                batch_size=BATCH_SIZE)"
      ],
      "execution_count": 23,
      "outputs": [
        {
          "output_type": "stream",
          "text": [
            "Found 70 files belonging to 10 classes.\n",
            "Found 2500 files belonging to 10 classes.\n"
          ],
          "name": "stdout"
        }
      ]
    },
    {
      "cell_type": "markdown",
      "metadata": {
        "id": "EYIO-ovtsPrQ"
      },
      "source": [
        "## Adding data augmentation right into the model\n",
        "\n",
        "To add data augmentation right into our models, we can use the layers inside:\n",
        "\n",
        "* tf.keras.layers.experimental.preprocessing()"
      ]
    },
    {
      "cell_type": "code",
      "metadata": {
        "id": "nGJaL76Sr9Tp"
      },
      "source": [
        "import tensorflow as tf\n",
        "from tensorflow import keras\n",
        "from tensorflow.keras import layers\n",
        "from tensorflow.keras.layers.experimental import preprocessing\n",
        "\n",
        "#Create data augmentation stage\n",
        "data_augmentation = keras.Sequential([\n",
        "                                      preprocessing.RandomFlip(\"horizontal\"),\n",
        "                                      preprocessing.RandomRotation(0.2),\n",
        "                                      preprocessing.RandomZoom(0.2),\n",
        "                                      preprocessing.RandomHeight(0.2),\n",
        "                                      preprocessing.RandomWidth(0.2),\n",
        "], name=\"data_augmentation\")"
      ],
      "execution_count": 24,
      "outputs": []
    },
    {
      "cell_type": "markdown",
      "metadata": {
        "id": "sDr-aMFfvAWg"
      },
      "source": [
        "### Visualize our data augmentation layer (and see what happens to our data)"
      ]
    },
    {
      "cell_type": "code",
      "metadata": {
        "id": "aV7fYuUAtZZ-",
        "colab": {
          "base_uri": "https://localhost:8080/",
          "height": 0
        },
        "outputId": "006a8b38-3af7-47ae-a188-a24f8df14a31"
      },
      "source": [
        "#View a random image and compare it to its augmented version\n",
        "import matplotlib.pyplot as plt\n",
        "import matplotlib.image as mpimp\n",
        "import os\n",
        "import random\n",
        "target_class = random.choice(train_data_1_percent.class_names)\n",
        "target_dir = \"10_food_classes_1_percent/train/\" + target_class\n",
        "random_image = random.choice(os.listdir(target_dir))\n",
        "random_image_path = target_dir + \"/\" + random_image\n",
        "\n",
        "#Read in the random image\n",
        "img = mpimp.imread(random_image_path)\n",
        "plt.title(f\"Original random image from class: {target_class}\")\n",
        "plt.axis(False)\n",
        "plt.imshow(img)\n",
        "\n",
        "# Now let´s plot our augmented random image\n",
        "augmented_img = data_augmentation(tf.expand_dims(img, axis=0))\n",
        "plt.figure()\n",
        "plt.title(f\"Augmented random image from class: {target_class}\")\n",
        "plt.axis(False)\n",
        "plt.imshow(tf.squeeze(augmented_img)/255.)"
      ],
      "execution_count": 25,
      "outputs": [
        {
          "output_type": "execute_result",
          "data": {
            "text/plain": [
              "<matplotlib.image.AxesImage at 0x7f620e5c71d0>"
            ]
          },
          "metadata": {
            "tags": []
          },
          "execution_count": 25
        },
        {
          "output_type": "display_data",
          "data": {
            "image/png": "[encoded data removed]",
            "text/plain": [
              "<Figure size 432x288 with 1 Axes>"
            ]
          },
          "metadata": {
            "tags": [],
            "needs_background": "light"
          }
        },
        {
          "output_type": "display_data",
          "data": {
            "image/png": "[encoded data removed]",
            "text/plain": [
              "<Figure size 432x288 with 1 Axes>"
            ]
          },
          "metadata": {
            "tags": [],
            "needs_background": "light"
          }
        }
      ]
    },
    {
      "cell_type": "markdown",
      "metadata": {
        "id": "RVEyD3lh_U0U"
      },
      "source": [
        "## Model 1: Feature extraction transfer learning on 1% of the data with data augmentation"
      ]
    },
    {
      "cell_type": "code",
      "metadata": {
        "id": "mFHxAAkdvL0q",
        "colab": {
          "base_uri": "https://localhost:8080/"
        },
        "outputId": "dc153f0e-9710-48af-c53a-2935710637d8"
      },
      "source": [
        "\n",
        "# Setup input shape and base model, freezing the base model layers\n",
        "input_shape = (224, 224, 3)\n",
        "base_model = tf.keras.applications.EfficientNetB0(include_top=False)\n",
        "base_model.trainable = False\n",
        "\n",
        "# Create input layer\n",
        "inputs = layers.Input(shape=input_shape, name=\"input_layer\")\n",
        "\n",
        "# Add in data augmentation Sequential model as a layer\n",
        "x = data_augmentation(inputs)\n",
        "\n",
        "# Give base_model inputs (after augmentation) and don't train it\n",
        "x = base_model(x, training=False)\n",
        "\n",
        "# Pool output features of base model\n",
        "x = layers.GlobalAveragePooling2D(name=\"global_average_pooling_layer\")(x)\n",
        "\n",
        "# Put a dense layer on as the output\n",
        "outputs = layers.Dense(10, activation=\"softmax\", name=\"output_layer\")(x)\n",
        "\n",
        "# Make a model with inputs and outputs\n",
        "model_1 = keras.Model(inputs, outputs)\n",
        "\n",
        "# Compile the model\n",
        "model_1.compile(loss=\"categorical_crossentropy\",\n",
        "              optimizer=tf.keras.optimizers.Adam(),\n",
        "              metrics=[\"accuracy\"])\n",
        "\n",
        "# Fit the model\n",
        "history_1_percent = model_1.fit(train_data_1_percent,\n",
        "                    epochs=5,\n",
        "                    steps_per_epoch=len(train_data_1_percent),\n",
        "                    validation_data=test_data,\n",
        "                    validation_steps=int(0.25* len(test_data)), # validate for less steps\n",
        "                    # Track model training logs\n",
        "                    callbacks=[create_tensorboard_callback(\"transfer_learning\", \"1_percent_data_aug\")])"
      ],
      "execution_count": 26,
      "outputs": [
        {
          "output_type": "stream",
          "text": [
            "Saving TensorBoard log files to: transfer_learning/1_percent_data_aug/20210731-112123\n"
          ],
          "name": "stdout"
        },
        {
          "output_type": "stream",
          "text": [
            "/usr/local/lib/python3.7/dist-packages/tensorflow/python/keras/utils/generic_utils.py:497: CustomMaskWarning: Custom mask layers require a config and must override get_config. When loading, the custom mask layer must be passed to the custom_objects argument.\n",
            "  category=CustomMaskWarning)\n"
          ],
          "name": "stderr"
        },
        {
          "output_type": "stream",
          "text": [
            "Epoch 1/5\n",
            "3/3 [==============================] - 11s 3s/step - loss: 2.4477 - accuracy: 0.0571 - val_loss: 2.2351 - val_accuracy: 0.1530\n",
            "Epoch 2/5\n",
            "3/3 [==============================] - 4s 2s/step - loss: 2.1890 - accuracy: 0.1714 - val_loss: 2.1250 - val_accuracy: 0.2516\n",
            "Epoch 3/5\n",
            "3/3 [==============================] - 4s 2s/step - loss: 1.9793 - accuracy: 0.3714 - val_loss: 2.0212 - val_accuracy: 0.3076\n",
            "Epoch 4/5\n",
            "3/3 [==============================] - 3s 2s/step - loss: 1.7957 - accuracy: 0.4857 - val_loss: 1.9204 - val_accuracy: 0.3931\n",
            "Epoch 5/5\n",
            "3/3 [==============================] - 4s 2s/step - loss: 1.7013 - accuracy: 0.6000 - val_loss: 1.8374 - val_accuracy: 0.4490\n"
          ],
          "name": "stdout"
        }
      ]
    },
    {
      "cell_type": "code",
      "metadata": {
        "id": "rlthiHLh_ovg",
        "colab": {
          "base_uri": "https://localhost:8080/"
        },
        "outputId": "a2966203-2539-422c-9dd0-a3d335803db1"
      },
      "source": [
        "#Check out a model summary\n",
        "model_1.summary()"
      ],
      "execution_count": 27,
      "outputs": [
        {
          "output_type": "stream",
          "text": [
            "Model: \"model_1\"\n",
            "_________________________________________________________________\n",
            "Layer (type)                 Output Shape              Param #   \n",
            "=================================================================\n",
            "input_layer (InputLayer)     [(None, 224, 224, 3)]     0         \n",
            "_________________________________________________________________\n",
            "data_augmentation (Sequentia (None, None, None, 3)     0         \n",
            "_________________________________________________________________\n",
            "efficientnetb0 (Functional)  (None, None, None, 1280)  4049571   \n",
            "_________________________________________________________________\n",
            "global_average_pooling_layer (None, 1280)              0         \n",
            "_________________________________________________________________\n",
            "output_layer (Dense)         (None, 10)                12810     \n",
            "=================================================================\n",
            "Total params: 4,062,381\n",
            "Trainable params: 12,810\n",
            "Non-trainable params: 4,049,571\n",
            "_________________________________________________________________\n"
          ],
          "name": "stdout"
        }
      ]
    },
    {
      "cell_type": "code",
      "metadata": {
        "id": "VxVHGhr6DHPc",
        "colab": {
          "base_uri": "https://localhost:8080/"
        },
        "outputId": "6cf48828-5c50-481f-9035-087ae2168999"
      },
      "source": [
        "#Evaluate on the full test data set \n",
        "results_1_percent_data_aug = model_1.evaluate(test_data)"
      ],
      "execution_count": 28,
      "outputs": [
        {
          "output_type": "stream",
          "text": [
            "79/79 [==============================] - 9s 109ms/step - loss: 1.8496 - accuracy: 0.4396\n"
          ],
          "name": "stdout"
        }
      ]
    },
    {
      "cell_type": "code",
      "metadata": {
        "id": "MunXOlXdDOtw",
        "colab": {
          "base_uri": "https://localhost:8080/",
          "height": 573
        },
        "outputId": "3bba5be7-5995-4947-963f-c2716aef2549"
      },
      "source": [
        "# How do the model with 1% of the data augmentation loss curves look like?\n",
        "plot_loss_curves(history_1_percent)"
      ],
      "execution_count": 29,
      "outputs": [
        {
          "output_type": "display_data",
          "data": {
            "image/png": "[encoded data removed]",
            "text/plain": [
              "<Figure size 432x288 with 1 Axes>"
            ]
          },
          "metadata": {
            "tags": [],
            "needs_background": "light"
          }
        },
        {
          "output_type": "display_data",
          "data": {
            "image/png": "[encoded data removed]",
            "text/plain": [
              "<Figure size 432x288 with 1 Axes>"
            ]
          },
          "metadata": {
            "tags": [],
            "needs_background": "light"
          }
        }
      ]
    },
    {
      "cell_type": "markdown",
      "metadata": {
        "id": "K1Y_kG12Et1z"
      },
      "source": [
        "## Model 2: feature extraction transfer learning model with 10% of data and data augmentation"
      ]
    },
    {
      "cell_type": "code",
      "metadata": {
        "id": "nRz-zjEGDsgT"
      },
      "source": [
        "#get 10 percent of data\n",
        "train_data_10_percent = \"10_food_classes_10_percent/train/\"\n",
        "test_dir = \"10_food_classes_10_percent/test/\""
      ],
      "execution_count": 30,
      "outputs": []
    },
    {
      "cell_type": "code",
      "metadata": {
        "id": "B-CBvFVYGBYK",
        "colab": {
          "base_uri": "https://localhost:8080/"
        },
        "outputId": "9688efe3-23bb-4238-b5ac-6e064d260b58"
      },
      "source": [
        "#How many images in directory?\n",
        "walk_through_dir(\"10_food_classes_10_percent\")"
      ],
      "execution_count": 31,
      "outputs": [
        {
          "output_type": "stream",
          "text": [
            "There are 2 directories and 0 images in '10_food_classes_10_percent'.\n",
            "There are 10 directories and 0 images in '10_food_classes_10_percent/train'.\n",
            "There are 0 directories and 75 images in '10_food_classes_10_percent/train/ice_cream'.\n",
            "There are 0 directories and 75 images in '10_food_classes_10_percent/train/chicken_curry'.\n",
            "There are 0 directories and 75 images in '10_food_classes_10_percent/train/ramen'.\n",
            "There are 0 directories and 75 images in '10_food_classes_10_percent/train/hamburger'.\n",
            "There are 0 directories and 75 images in '10_food_classes_10_percent/train/grilled_salmon'.\n",
            "There are 0 directories and 75 images in '10_food_classes_10_percent/train/chicken_wings'.\n",
            "There are 0 directories and 75 images in '10_food_classes_10_percent/train/sushi'.\n",
            "There are 0 directories and 75 images in '10_food_classes_10_percent/train/fried_rice'.\n",
            "There are 0 directories and 75 images in '10_food_classes_10_percent/train/steak'.\n",
            "There are 0 directories and 75 images in '10_food_classes_10_percent/train/pizza'.\n",
            "There are 10 directories and 0 images in '10_food_classes_10_percent/test'.\n",
            "There are 0 directories and 250 images in '10_food_classes_10_percent/test/ice_cream'.\n",
            "There are 0 directories and 250 images in '10_food_classes_10_percent/test/chicken_curry'.\n",
            "There are 0 directories and 250 images in '10_food_classes_10_percent/test/ramen'.\n",
            "There are 0 directories and 250 images in '10_food_classes_10_percent/test/hamburger'.\n",
            "There are 0 directories and 250 images in '10_food_classes_10_percent/test/grilled_salmon'.\n",
            "There are 0 directories and 250 images in '10_food_classes_10_percent/test/chicken_wings'.\n",
            "There are 0 directories and 250 images in '10_food_classes_10_percent/test/sushi'.\n",
            "There are 0 directories and 250 images in '10_food_classes_10_percent/test/fried_rice'.\n",
            "There are 0 directories and 250 images in '10_food_classes_10_percent/test/steak'.\n",
            "There are 0 directories and 250 images in '10_food_classes_10_percent/test/pizza'.\n"
          ],
          "name": "stdout"
        }
      ]
    },
    {
      "cell_type": "code",
      "metadata": {
        "id": "OpiN8cFxFJ1Y",
        "colab": {
          "base_uri": "https://localhost:8080/"
        },
        "outputId": "0e19689f-2eb6-4926-f5e1-9f79fbacb979"
      },
      "source": [
        "#Set data inputs\n",
        "import tensorflow as tf\n",
        "IMG_SIZE = (224,224)\n",
        "\n",
        "train_data_10_percent = tf.keras.preprocessing.image_dataset_from_directory(train_data_10_percent, \n",
        "                                                                            label_mode=\"categorical\",\n",
        "                                                                            image_size=IMG_SIZE)\n",
        "\n",
        "test_data = tf.keras.preprocessing.image_dataset_from_directory(test_dir,\n",
        "                                                                label_mode=\"categorical\",\n",
        "                                                                image_size=IMG_SIZE)"
      ],
      "execution_count": 32,
      "outputs": [
        {
          "output_type": "stream",
          "text": [
            "Found 750 files belonging to 10 classes.\n",
            "Found 2500 files belonging to 10 classes.\n"
          ],
          "name": "stdout"
        }
      ]
    },
    {
      "cell_type": "code",
      "metadata": {
        "id": "PURIAlhpFniT"
      },
      "source": [
        "#Create model 2 with data augmentation build in\n",
        "from tensorflow.keras import layers\n",
        "from tensorflow.keras.layers.experimental import preprocessing\n",
        "from tensorflow.keras.models import Sequential\n",
        "\n",
        "#Build data augmentation layer\n",
        "data_augmentation = Sequential([\n",
        "                                preprocessing.RandomFlip(\"horizontal\"),\n",
        "                                preprocessing.RandomHeight(0.2),\n",
        "                                preprocessing.RandomWidth(0.2),\n",
        "                                preprocessing.RandomZoom(0.2),\n",
        "                                preprocessing.RandomRotation(0.2)\n",
        "],name=\"data_augmentation\")\n",
        "\n",
        "#Setup the input shape to our model\n",
        "input_shape = (224,224,3)\n",
        "\n",
        "#Create a frozen base model (backbone)\n",
        "base_model = tf.keras.applications.EfficientNetB0(include_top=False)\n",
        "base_model.trainable = False\n",
        "\n",
        "#Create the inputs and outputs \n",
        "inputs = layers.Input(shape=input_shape, name=\"input_layer\")\n",
        "x = data_augmentation(inputs)\n",
        "x = base_model(x, training=False)\n",
        "x = layers.GlobalAveragePooling2D(name=\"global_average_pooling_2D\")(x)\n",
        "outputs = layers.Dense(10, activation=\"softmax\")(x)\n",
        "\n",
        "#Make the model with inputs and outputs\n",
        "model_2 = keras.Model(inputs, outputs)\n",
        "\n",
        "#Compile the model\n",
        "model_2.compile(loss=\"categorical_crossentropy\", optimizer=\"Adam\", metrics=[\"accuracy\"])"
      ],
      "execution_count": 33,
      "outputs": []
    },
    {
      "cell_type": "code",
      "metadata": {
        "id": "MEHdRcCzG5LS",
        "colab": {
          "base_uri": "https://localhost:8080/"
        },
        "outputId": "7b17b29f-866f-4ea5-8458-d570c911d76b"
      },
      "source": [
        "model_2.summary()"
      ],
      "execution_count": 34,
      "outputs": [
        {
          "output_type": "stream",
          "text": [
            "Model: \"model_2\"\n",
            "_________________________________________________________________\n",
            "Layer (type)                 Output Shape              Param #   \n",
            "=================================================================\n",
            "input_layer (InputLayer)     [(None, 224, 224, 3)]     0         \n",
            "_________________________________________________________________\n",
            "data_augmentation (Sequentia (None, None, None, 3)     0         \n",
            "_________________________________________________________________\n",
            "efficientnetb0 (Functional)  (None, None, None, 1280)  4049571   \n",
            "_________________________________________________________________\n",
            "global_average_pooling_2D (G (None, 1280)              0         \n",
            "_________________________________________________________________\n",
            "dense (Dense)                (None, 10)                12810     \n",
            "=================================================================\n",
            "Total params: 4,062,381\n",
            "Trainable params: 12,810\n",
            "Non-trainable params: 4,049,571\n",
            "_________________________________________________________________\n"
          ],
          "name": "stdout"
        }
      ]
    },
    {
      "cell_type": "markdown",
      "metadata": {
        "id": "dCXU-gyQJb7I"
      },
      "source": [
        "### Creating a model checkpoint callback\n",
        "\n",
        "The ModelCheckpoint callback intermediately saves our model (the full model or just the wheights) during training. This is useful so we can come and start where we left off."
      ]
    },
    {
      "cell_type": "code",
      "metadata": {
        "id": "uMVs4Q0fIRaE"
      },
      "source": [
        "#Set checkpoint path\n",
        "checkpoint_path = \"ten_percent_model_checkpoints_weights/checkpoint.ckpt\"\n",
        "\n",
        "#Create a ModelCheckpoint callback that saves the model´s weights only\n",
        "checkpoint_callback = tf.keras.callbacks.ModelCheckpoint(filepath=checkpoint_path, \n",
        "                                                         save_weights_only=True, \n",
        "                                                         save_best_only=False, \n",
        "                                                         save_freq=\"epoch\" #save ebery epoch\n",
        "                                                         ,verbose=1)"
      ],
      "execution_count": 35,
      "outputs": []
    },
    {
      "cell_type": "markdown",
      "metadata": {
        "id": "i8r-cSLWLRIl"
      },
      "source": [
        "### Fit model 2 passing in the ModelCheckpoint callback"
      ]
    },
    {
      "cell_type": "code",
      "metadata": {
        "id": "ON__60NUK9H0",
        "colab": {
          "base_uri": "https://localhost:8080/"
        },
        "outputId": "a9462b02-c53d-4277-fa00-5dc498060724"
      },
      "source": [
        "# Fit the model saving checkpoints every epoch\n",
        "initial_epochs = 5\n",
        "history_10_percent_data_aug = model_2.fit(train_data_10_percent,\n",
        "                                          epochs=initial_epochs,\n",
        "                                          steps_per_epoch=len(train_data_10_percent),\n",
        "                                          validation_data = test_data,\n",
        "                                          validation_steps=int(0.25 * len(test_data)),\n",
        "                                          callbacks=[create_tensorboard_callback(\"transfer_learning\", \"10_percent_data_aug\"), checkpoint_callback])"
      ],
      "execution_count": 36,
      "outputs": [
        {
          "output_type": "stream",
          "text": [
            "Saving TensorBoard log files to: transfer_learning/10_percent_data_aug/20210731-112212\n",
            "Epoch 1/5\n"
          ],
          "name": "stdout"
        },
        {
          "output_type": "stream",
          "text": [
            "/usr/local/lib/python3.7/dist-packages/tensorflow/python/keras/utils/generic_utils.py:497: CustomMaskWarning: Custom mask layers require a config and must override get_config. When loading, the custom mask layer must be passed to the custom_objects argument.\n",
            "  category=CustomMaskWarning)\n"
          ],
          "name": "stderr"
        },
        {
          "output_type": "stream",
          "text": [
            "24/24 [==============================] - 20s 615ms/step - loss: 1.9833 - accuracy: 0.3427 - val_loss: 1.5217 - val_accuracy: 0.6102\n",
            "\n",
            "Epoch 00001: saving model to ten_percent_model_checkpoints_weights/checkpoint.ckpt\n",
            "Epoch 2/5\n",
            "24/24 [==============================] - 10s 409ms/step - loss: 1.3678 - accuracy: 0.6507 - val_loss: 1.0803 - val_accuracy: 0.7533\n",
            "\n",
            "Epoch 00002: saving model to ten_percent_model_checkpoints_weights/checkpoint.ckpt\n",
            "Epoch 3/5\n",
            "24/24 [==============================] - 11s 427ms/step - loss: 1.0364 - accuracy: 0.7440 - val_loss: 0.8720 - val_accuracy: 0.7862\n",
            "\n",
            "Epoch 00003: saving model to ten_percent_model_checkpoints_weights/checkpoint.ckpt\n",
            "Epoch 4/5\n",
            "24/24 [==============================] - 10s 420ms/step - loss: 0.9077 - accuracy: 0.7693 - val_loss: 0.7583 - val_accuracy: 0.7944\n",
            "\n",
            "Epoch 00004: saving model to ten_percent_model_checkpoints_weights/checkpoint.ckpt\n",
            "Epoch 5/5\n",
            "24/24 [==============================] - 9s 371ms/step - loss: 0.7799 - accuracy: 0.7933 - val_loss: 0.7011 - val_accuracy: 0.8207\n",
            "\n",
            "Epoch 00005: saving model to ten_percent_model_checkpoints_weights/checkpoint.ckpt\n"
          ],
          "name": "stdout"
        }
      ]
    },
    {
      "cell_type": "code",
      "metadata": {
        "id": "_AeZiVDwL2Xo",
        "colab": {
          "base_uri": "https://localhost:8080/",
          "height": 590
        },
        "outputId": "284ba421-486b-4fac-c034-a70c693c5f42"
      },
      "source": [
        "results_10_percent_data_aug = model_2.evaluate(test_data)\n",
        "plot_loss_curves(history_10_percent_data_aug)"
      ],
      "execution_count": 37,
      "outputs": [
        {
          "output_type": "stream",
          "text": [
            "79/79 [==============================] - 9s 109ms/step - loss: 0.6924 - accuracy: 0.8136\n"
          ],
          "name": "stdout"
        },
        {
          "output_type": "display_data",
          "data": {
            "image/png": "[encoded data removed]",
            "text/plain": [
              "<Figure size 432x288 with 1 Axes>"
            ]
          },
          "metadata": {
            "tags": [],
            "needs_background": "light"
          }
        },
        {
          "output_type": "display_data",
          "data": {
            "image/png": "[encoded data removed]",
            "text/plain": [
              "<Figure size 432x288 with 1 Axes>"
            ]
          },
          "metadata": {
            "tags": [],
            "needs_background": "light"
          }
        }
      ]
    },
    {
      "cell_type": "markdown",
      "metadata": {
        "id": "1sDKpU4xNDbi"
      },
      "source": [
        "### Loading in checkpointed weights"
      ]
    },
    {
      "cell_type": "code",
      "metadata": {
        "id": "hoMpKh8hMFug",
        "colab": {
          "base_uri": "https://localhost:8080/"
        },
        "outputId": "afb9380c-1c65-4de1-bf96-4583f06f294a"
      },
      "source": [
        "# Load in saved model weights and evaluate model\n",
        "print(checkpoint_path)\n",
        "model_2.load_weights(checkpoint_path)\n",
        "\n",
        "#Evaluate model_2 with loaded weights\n",
        "loaded_weights_model_results = model_2.evaluate(test_data)"
      ],
      "execution_count": 38,
      "outputs": [
        {
          "output_type": "stream",
          "text": [
            "ten_percent_model_checkpoints_weights/checkpoint.ckpt\n",
            "79/79 [==============================] - 9s 107ms/step - loss: 0.6924 - accuracy: 0.8136\n"
          ],
          "name": "stdout"
        }
      ]
    },
    {
      "cell_type": "code",
      "metadata": {
        "id": "UU6o1gCQNiUY",
        "colab": {
          "base_uri": "https://localhost:8080/"
        },
        "outputId": "b6cfb759-677a-494d-fa07-6c0c4aac378e"
      },
      "source": [
        "# Check to see if loaded model results are very close to our previous non-loaded model results\n",
        "import numpy as np\n",
        "np.isclose(np.array(results_10_percent_data_aug), np.array(loaded_weights_model_results))"
      ],
      "execution_count": 39,
      "outputs": [
        {
          "output_type": "execute_result",
          "data": {
            "text/plain": [
              "array([ True,  True])"
            ]
          },
          "metadata": {
            "tags": []
          },
          "execution_count": 39
        }
      ]
    },
    {
      "cell_type": "code",
      "metadata": {
        "id": "MH8BZEkIOEka",
        "colab": {
          "base_uri": "https://localhost:8080/"
        },
        "outputId": "c5f5f632-ed9d-43f5-d766-20884f798b98"
      },
      "source": [
        "#Check the difference between the two results\n",
        "print(np.array(results_10_percent_data_aug) - np.array(loaded_weights_model_results))"
      ],
      "execution_count": 40,
      "outputs": [
        {
          "output_type": "stream",
          "text": [
            "[1.1920929e-07 0.0000000e+00]\n"
          ],
          "name": "stdout"
        }
      ]
    },
    {
      "cell_type": "markdown",
      "metadata": {
        "id": "0_8JwS8CPTYq"
      },
      "source": [
        "## Model 3: Fine-tuning an existing model on 10 percent of the data\n",
        "\n",
        "Fine-tuning usually works best after training a feature extraction model for a few epochs with a large amount of custom data.\n",
        "\n",
        "Model 3 is a fine tuned version of Model 2"
      ]
    },
    {
      "cell_type": "code",
      "metadata": {
        "id": "cNgjDhYSORH3",
        "colab": {
          "base_uri": "https://localhost:8080/"
        },
        "outputId": "f99ca819-8064-485c-ed17-79706d5aa0a9"
      },
      "source": [
        "#Layers in loaded model\n",
        "model_2.layers"
      ],
      "execution_count": 41,
      "outputs": [
        {
          "output_type": "execute_result",
          "data": {
            "text/plain": [
              "[<tensorflow.python.keras.engine.input_layer.InputLayer at 0x7f6112df3890>,\n",
              " <tensorflow.python.keras.engine.sequential.Sequential at 0x7f620e778050>,\n",
              " <tensorflow.python.keras.engine.functional.Functional at 0x7f6112aaf510>,\n",
              " <tensorflow.python.keras.layers.pooling.GlobalAveragePooling2D at 0x7f620c36e250>,\n",
              " <tensorflow.python.keras.layers.core.Dense at 0x7f61129efed0>]"
            ]
          },
          "metadata": {
            "tags": []
          },
          "execution_count": 41
        }
      ]
    },
    {
      "cell_type": "code",
      "metadata": {
        "id": "Rn06vMWvQfqr",
        "colab": {
          "base_uri": "https://localhost:8080/"
        },
        "outputId": "f89d9647-b5ef-434f-9077-6e6e5fc5e63b"
      },
      "source": [
        "#Are these layers trainable?\n",
        "for layer in model_2.layers:\n",
        "  print(layer, layer.trainable)"
      ],
      "execution_count": 42,
      "outputs": [
        {
          "output_type": "stream",
          "text": [
            "<tensorflow.python.keras.engine.input_layer.InputLayer object at 0x7f6112df3890> True\n",
            "<tensorflow.python.keras.engine.sequential.Sequential object at 0x7f620e778050> True\n",
            "<tensorflow.python.keras.engine.functional.Functional object at 0x7f6112aaf510> False\n",
            "<tensorflow.python.keras.layers.pooling.GlobalAveragePooling2D object at 0x7f620c36e250> True\n",
            "<tensorflow.python.keras.layers.core.Dense object at 0x7f61129efed0> True\n"
          ],
          "name": "stdout"
        }
      ]
    },
    {
      "cell_type": "code",
      "metadata": {
        "id": "1UFIzvsxQkz5",
        "colab": {
          "base_uri": "https://localhost:8080/"
        },
        "outputId": "c43335ef-b91c-487f-aa67-4bf632cdfa77"
      },
      "source": [
        "for i, layer in enumerate(model_2.layers[2].layers):\n",
        "  print(i, layer, layer.name, layer.trainable)"
      ],
      "execution_count": 43,
      "outputs": [
        {
          "output_type": "stream",
          "text": [
            "0 <tensorflow.python.keras.engine.input_layer.InputLayer object at 0x7f6112df33d0> input_3 False\n",
            "1 <tensorflow.python.keras.layers.preprocessing.image_preprocessing.Rescaling object at 0x7f6112df3450> rescaling_2 False\n",
            "2 <tensorflow.python.keras.layers.preprocessing.normalization.Normalization object at 0x7f6112e2fed0> normalization_2 False\n",
            "3 <tensorflow.python.keras.layers.convolutional.ZeroPadding2D object at 0x7f620e704a90> stem_conv_pad False\n",
            "4 <tensorflow.python.keras.layers.convolutional.Conv2D object at 0x7f6112e920d0> stem_conv False\n",
            "5 <tensorflow.python.keras.layers.normalization_v2.BatchNormalization object at 0x7f620e1aafd0> stem_bn False\n",
            "6 <tensorflow.python.keras.layers.core.Activation object at 0x7f620e704e50> stem_activation False\n",
            "7 <tensorflow.python.keras.layers.convolutional.DepthwiseConv2D object at 0x7f61125a6090> block1a_dwconv False\n",
            "8 <tensorflow.python.keras.layers.normalization_v2.BatchNormalization object at 0x7f61125a6fd0> block1a_bn False\n",
            "9 <tensorflow.python.keras.layers.core.Activation object at 0x7f61125a1f10> block1a_activation False\n",
            "10 <tensorflow.python.keras.layers.pooling.GlobalAveragePooling2D object at 0x7f620e7048d0> block1a_se_squeeze False\n",
            "11 <tensorflow.python.keras.layers.core.Reshape object at 0x7f620e704610> block1a_se_reshape False\n",
            "12 <tensorflow.python.keras.layers.convolutional.Conv2D object at 0x7f620e704d50> block1a_se_reduce False\n",
            "13 <tensorflow.python.keras.layers.convolutional.Conv2D object at 0x7f620c242150> block1a_se_expand False\n",
            "14 <tensorflow.python.keras.layers.merge.Multiply object at 0x7f6112d9b590> block1a_se_excite False\n",
            "15 <tensorflow.python.keras.layers.convolutional.Conv2D object at 0x7f6112da2cd0> block1a_project_conv False\n",
            "16 <tensorflow.python.keras.layers.normalization_v2.BatchNormalization object at 0x7f6112da2050> block1a_project_bn False\n",
            "17 <tensorflow.python.keras.layers.convolutional.Conv2D object at 0x7f6112db8150> block2a_expand_conv False\n",
            "18 <tensorflow.python.keras.layers.normalization_v2.BatchNormalization object at 0x7f6112db1f90> block2a_expand_bn False\n",
            "19 <tensorflow.python.keras.layers.core.Activation object at 0x7f6112d47ad0> block2a_expand_activation False\n",
            "20 <tensorflow.python.keras.layers.convolutional.ZeroPadding2D object at 0x7f6112d47b90> block2a_dwconv_pad False\n",
            "21 <tensorflow.python.keras.layers.convolutional.DepthwiseConv2D object at 0x7f6112d3e610> block2a_dwconv False\n",
            "22 <tensorflow.python.keras.layers.normalization_v2.BatchNormalization object at 0x7f6112d5c5d0> block2a_bn False\n",
            "23 <tensorflow.python.keras.layers.core.Activation object at 0x7f6112d4eb10> block2a_activation False\n",
            "24 <tensorflow.python.keras.layers.pooling.GlobalAveragePooling2D object at 0x7f6112dc4e90> block2a_se_squeeze False\n",
            "25 <tensorflow.python.keras.layers.core.Reshape object at 0x7f6112d61710> block2a_se_reshape False\n",
            "26 <tensorflow.python.keras.layers.convolutional.Conv2D object at 0x7f6112d72b50> block2a_se_reduce False\n",
            "27 <tensorflow.python.keras.layers.convolutional.Conv2D object at 0x7f6112d3e750> block2a_se_expand False\n",
            "28 <tensorflow.python.keras.layers.merge.Multiply object at 0x7f6112d727d0> block2a_se_excite False\n",
            "29 <tensorflow.python.keras.layers.convolutional.Conv2D object at 0x7f6112d78610> block2a_project_conv False\n",
            "30 <tensorflow.python.keras.layers.normalization_v2.BatchNormalization object at 0x7f6112d6a350> block2a_project_bn False\n",
            "31 <tensorflow.python.keras.layers.convolutional.Conv2D object at 0x7f6112d06890> block2b_expand_conv False\n",
            "32 <tensorflow.python.keras.layers.normalization_v2.BatchNormalization object at 0x7f6112d208d0> block2b_expand_bn False\n",
            "33 <tensorflow.python.keras.layers.core.Activation object at 0x7f6112d209d0> block2b_expand_activation False\n",
            "34 <tensorflow.python.keras.layers.convolutional.DepthwiseConv2D object at 0x7f6112d13a50> block2b_dwconv False\n",
            "35 <tensorflow.python.keras.layers.normalization_v2.BatchNormalization object at 0x7f6112d65ed0> block2b_bn False\n",
            "36 <tensorflow.python.keras.layers.core.Activation object at 0x7f6112d47990> block2b_activation False\n",
            "37 <tensorflow.python.keras.layers.pooling.GlobalAveragePooling2D object at 0x7f6112d5cb50> block2b_se_squeeze False\n",
            "38 <tensorflow.python.keras.layers.core.Reshape object at 0x7f6112dadb90> block2b_se_reshape False\n",
            "39 <tensorflow.python.keras.layers.convolutional.Conv2D object at 0x7f6112d6a150> block2b_se_reduce False\n",
            "40 <tensorflow.python.keras.layers.convolutional.Conv2D object at 0x7f6112d13910> block2b_se_expand False\n",
            "41 <tensorflow.python.keras.layers.merge.Multiply object at 0x7f6112d8ea90> block2b_se_excite False\n",
            "42 <tensorflow.python.keras.layers.convolutional.Conv2D object at 0x7f61125a11d0> block2b_project_conv False\n",
            "43 <tensorflow.python.keras.layers.normalization_v2.BatchNormalization object at 0x7f61125a1590> block2b_project_bn False\n",
            "44 <tensorflow.python.keras.layers.core.Dropout object at 0x7f6112cbb590> block2b_drop False\n",
            "45 <tensorflow.python.keras.layers.merge.Add object at 0x7f620e2452d0> block2b_add False\n",
            "46 <tensorflow.python.keras.layers.convolutional.Conv2D object at 0x7f6112cc3f10> block3a_expand_conv False\n",
            "47 <tensorflow.python.keras.layers.normalization_v2.BatchNormalization object at 0x7f6112ccd8d0> block3a_expand_bn False\n",
            "48 <tensorflow.python.keras.layers.core.Activation object at 0x7f6112d2f350> block3a_expand_activation False\n",
            "49 <tensorflow.python.keras.layers.convolutional.ZeroPadding2D object at 0x7f6112cc38d0> block3a_dwconv_pad False\n",
            "50 <tensorflow.python.keras.layers.convolutional.DepthwiseConv2D object at 0x7f6112d42c50> block3a_dwconv False\n",
            "51 <tensorflow.python.keras.layers.normalization_v2.BatchNormalization object at 0x7f6112cda290> block3a_bn False\n",
            "52 <tensorflow.python.keras.layers.core.Activation object at 0x7f6112cd1e90> block3a_activation False\n",
            "53 <tensorflow.python.keras.layers.pooling.GlobalAveragePooling2D object at 0x7f6112ce1410> block3a_se_squeeze False\n",
            "54 <tensorflow.python.keras.layers.core.Reshape object at 0x7f6112cc39d0> block3a_se_reshape False\n",
            "55 <tensorflow.python.keras.layers.convolutional.Conv2D object at 0x7f6112cf20d0> block3a_se_reduce False\n",
            "56 <tensorflow.python.keras.layers.convolutional.Conv2D object at 0x7f6112cc3b50> block3a_se_expand False\n",
            "57 <tensorflow.python.keras.layers.merge.Multiply object at 0x7f6112cf24d0> block3a_se_excite False\n",
            "58 <tensorflow.python.keras.layers.convolutional.Conv2D object at 0x7f6112cd1350> block3a_project_conv False\n",
            "59 <tensorflow.python.keras.layers.normalization_v2.BatchNormalization object at 0x7f6112cf2e90> block3a_project_bn False\n",
            "60 <tensorflow.python.keras.layers.convolutional.Conv2D object at 0x7f6112c8e610> block3b_expand_conv False\n",
            "61 <tensorflow.python.keras.layers.normalization_v2.BatchNormalization object at 0x7f6112c89e50> block3b_expand_bn False\n",
            "62 <tensorflow.python.keras.layers.core.Activation object at 0x7f6112c97790> block3b_expand_activation False\n",
            "63 <tensorflow.python.keras.layers.convolutional.DepthwiseConv2D object at 0x7f6112c97dd0> block3b_dwconv False\n",
            "64 <tensorflow.python.keras.layers.normalization_v2.BatchNormalization object at 0x7f6112cda210> block3b_bn False\n",
            "65 <tensorflow.python.keras.layers.core.Activation object at 0x7f6112cb2910> block3b_activation False\n",
            "66 <tensorflow.python.keras.layers.pooling.GlobalAveragePooling2D object at 0x7f6112cb2d10> block3b_se_squeeze False\n",
            "67 <tensorflow.python.keras.layers.core.Reshape object at 0x7f6112cb6c10> block3b_se_reshape False\n",
            "68 <tensorflow.python.keras.layers.convolutional.Conv2D object at 0x7f6112ca6fd0> block3b_se_reduce False\n",
            "69 <tensorflow.python.keras.layers.convolutional.Conv2D object at 0x7f6112c97650> block3b_se_expand False\n",
            "70 <tensorflow.python.keras.layers.merge.Multiply object at 0x7f6112c4ed10> block3b_se_excite False\n",
            "71 <tensorflow.python.keras.layers.convolutional.Conv2D object at 0x7f6112c45c50> block3b_project_conv False\n",
            "72 <tensorflow.python.keras.layers.normalization_v2.BatchNormalization object at 0x7f6112c451d0> block3b_project_bn False\n",
            "73 <tensorflow.python.keras.layers.core.Dropout object at 0x7f6112c59d50> block3b_drop False\n",
            "74 <tensorflow.python.keras.layers.merge.Add object at 0x7f6112c56ad0> block3b_add False\n",
            "75 <tensorflow.python.keras.layers.convolutional.Conv2D object at 0x7f6112c6b050> block4a_expand_conv False\n",
            "76 <tensorflow.python.keras.layers.normalization_v2.BatchNormalization object at 0x7f6112c77ad0> block4a_expand_bn False\n",
            "77 <tensorflow.python.keras.layers.core.Activation object at 0x7f6112c77b10> block4a_expand_activation False\n",
            "78 <tensorflow.python.keras.layers.convolutional.ZeroPadding2D object at 0x7f6112c6ee50> block4a_dwconv_pad False\n",
            "79 <tensorflow.python.keras.layers.convolutional.DepthwiseConv2D object at 0x7f6112c59b50> block4a_dwconv False\n",
            "80 <tensorflow.python.keras.layers.normalization_v2.BatchNormalization object at 0x7f620c499b50> block4a_bn False\n",
            "81 <tensorflow.python.keras.layers.core.Activation object at 0x7f620c499dd0> block4a_activation False\n",
            "82 <tensorflow.python.keras.layers.pooling.GlobalAveragePooling2D object at 0x7f620c3e9950> block4a_se_squeeze False\n",
            "83 <tensorflow.python.keras.layers.core.Reshape object at 0x7f620e57b5d0> block4a_se_reshape False\n",
            "84 <tensorflow.python.keras.layers.convolutional.Conv2D object at 0x7f620e580450> block4a_se_reduce False\n",
            "85 <tensorflow.python.keras.layers.convolutional.Conv2D object at 0x7f620e6094d0> block4a_se_expand False\n",
            "86 <tensorflow.python.keras.layers.merge.Multiply object at 0x7f620c548250> block4a_se_excite False\n",
            "87 <tensorflow.python.keras.layers.convolutional.Conv2D object at 0x7f620e462a90> block4a_project_conv False\n",
            "88 <tensorflow.python.keras.layers.normalization_v2.BatchNormalization object at 0x7f620e60a6d0> block4a_project_bn False\n",
            "89 <tensorflow.python.keras.layers.convolutional.Conv2D object at 0x7f620c2ed490> block4b_expand_conv False\n",
            "90 <tensorflow.python.keras.layers.normalization_v2.BatchNormalization object at 0x7f620e09c090> block4b_expand_bn False\n",
            "91 <tensorflow.python.keras.layers.core.Activation object at 0x7f620e52f290> block4b_expand_activation False\n",
            "92 <tensorflow.python.keras.layers.convolutional.DepthwiseConv2D object at 0x7f61f41ad890> block4b_dwconv False\n",
            "93 <tensorflow.python.keras.layers.normalization_v2.BatchNormalization object at 0x7f61f4260390> block4b_bn False\n",
            "94 <tensorflow.python.keras.layers.core.Activation object at 0x7f620dca4fd0> block4b_activation False\n",
            "95 <tensorflow.python.keras.layers.pooling.GlobalAveragePooling2D object at 0x7f61f40a7d90> block4b_se_squeeze False\n",
            "96 <tensorflow.python.keras.layers.core.Reshape object at 0x7f617605ca90> block4b_se_reshape False\n",
            "97 <tensorflow.python.keras.layers.convolutional.Conv2D object at 0x7f617610efd0> block4b_se_reduce False\n",
            "98 <tensorflow.python.keras.layers.convolutional.Conv2D object at 0x7f6112f8a450> block4b_se_expand False\n",
            "99 <tensorflow.python.keras.layers.merge.Multiply object at 0x7f620e542310> block4b_se_excite False\n",
            "100 <tensorflow.python.keras.layers.convolutional.Conv2D object at 0x7f6112f41c90> block4b_project_conv False\n",
            "101 <tensorflow.python.keras.layers.normalization_v2.BatchNormalization object at 0x7f6112ca1210> block4b_project_bn False\n",
            "102 <tensorflow.python.keras.layers.core.Dropout object at 0x7f6112c6e0d0> block4b_drop False\n",
            "103 <tensorflow.python.keras.layers.merge.Add object at 0x7f6112e23490> block4b_add False\n",
            "104 <tensorflow.python.keras.layers.convolutional.Conv2D object at 0x7f620dd0c910> block4c_expand_conv False\n",
            "105 <tensorflow.python.keras.layers.normalization_v2.BatchNormalization object at 0x7f6112e190d0> block4c_expand_bn False\n",
            "106 <tensorflow.python.keras.layers.core.Activation object at 0x7f6112de8850> block4c_expand_activation False\n",
            "107 <tensorflow.python.keras.layers.convolutional.DepthwiseConv2D object at 0x7f6112e92890> block4c_dwconv False\n",
            "108 <tensorflow.python.keras.layers.normalization_v2.BatchNormalization object at 0x7f6112fadad0> block4c_bn False\n",
            "109 <tensorflow.python.keras.layers.core.Activation object at 0x7f620e7b0310> block4c_activation False\n",
            "110 <tensorflow.python.keras.layers.pooling.GlobalAveragePooling2D object at 0x7f620e4a3e10> block4c_se_squeeze False\n",
            "111 <tensorflow.python.keras.layers.core.Reshape object at 0x7f6112e2fc50> block4c_se_reshape False\n",
            "112 <tensorflow.python.keras.layers.convolutional.Conv2D object at 0x7f620c24b0d0> block4c_se_reduce False\n",
            "113 <tensorflow.python.keras.layers.convolutional.Conv2D object at 0x7f6112e51190> block4c_se_expand False\n",
            "114 <tensorflow.python.keras.layers.merge.Multiply object at 0x7f6112eec650> block4c_se_excite False\n",
            "115 <tensorflow.python.keras.layers.convolutional.Conv2D object at 0x7f6112e3e5d0> block4c_project_conv False\n",
            "116 <tensorflow.python.keras.layers.normalization_v2.BatchNormalization object at 0x7f6112e71190> block4c_project_bn False\n",
            "117 <tensorflow.python.keras.layers.core.Dropout object at 0x7f6112eec390> block4c_drop False\n",
            "118 <tensorflow.python.keras.layers.merge.Add object at 0x7f620e7e4dd0> block4c_add False\n",
            "119 <tensorflow.python.keras.layers.convolutional.Conv2D object at 0x7f6112e5a250> block5a_expand_conv False\n",
            "120 <tensorflow.python.keras.layers.normalization_v2.BatchNormalization object at 0x7f620e7e40d0> block5a_expand_bn False\n",
            "121 <tensorflow.python.keras.layers.core.Activation object at 0x7f6112e48a10> block5a_expand_activation False\n",
            "122 <tensorflow.python.keras.layers.convolutional.DepthwiseConv2D object at 0x7f6112eb3250> block5a_dwconv False\n",
            "123 <tensorflow.python.keras.layers.normalization_v2.BatchNormalization object at 0x7f6112cb6910> block5a_bn False\n",
            "124 <tensorflow.python.keras.layers.core.Activation object at 0x7f6112e02c10> block5a_activation False\n",
            "125 <tensorflow.python.keras.layers.pooling.GlobalAveragePooling2D object at 0x7f6112c6ead0> block5a_se_squeeze False\n",
            "126 <tensorflow.python.keras.layers.core.Reshape object at 0x7f620c32e250> block5a_se_reshape False\n",
            "127 <tensorflow.python.keras.layers.convolutional.Conv2D object at 0x7f620e455f50> block5a_se_reduce False\n",
            "128 <tensorflow.python.keras.layers.convolutional.Conv2D object at 0x7f61f41609d0> block5a_se_expand False\n",
            "129 <tensorflow.python.keras.layers.merge.Multiply object at 0x7f6112ee58d0> block5a_se_excite False\n",
            "130 <tensorflow.python.keras.layers.convolutional.Conv2D object at 0x7f61761a3d90> block5a_project_conv False\n",
            "131 <tensorflow.python.keras.layers.normalization_v2.BatchNormalization object at 0x7f6112eefd50> block5a_project_bn False\n",
            "132 <tensorflow.python.keras.layers.convolutional.Conv2D object at 0x7f620e00ee50> block5b_expand_conv False\n",
            "133 <tensorflow.python.keras.layers.normalization_v2.BatchNormalization object at 0x7f6112ce9450> block5b_expand_bn False\n",
            "134 <tensorflow.python.keras.layers.core.Activation object at 0x7f61f440f590> block5b_expand_activation False\n",
            "135 <tensorflow.python.keras.layers.convolutional.DepthwiseConv2D object at 0x7f620ddaafd0> block5b_dwconv False\n",
            "136 <tensorflow.python.keras.layers.normalization_v2.BatchNormalization object at 0x7f6112e09610> block5b_bn False\n",
            "137 <tensorflow.python.keras.layers.core.Activation object at 0x7f6112d03790> block5b_activation False\n",
            "138 <tensorflow.python.keras.layers.pooling.GlobalAveragePooling2D object at 0x7f6112cd65d0> block5b_se_squeeze False\n",
            "139 <tensorflow.python.keras.layers.core.Reshape object at 0x7f6112bfcbd0> block5b_se_reshape False\n",
            "140 <tensorflow.python.keras.layers.convolutional.Conv2D object at 0x7f6112cf2410> block5b_se_reduce False\n",
            "141 <tensorflow.python.keras.layers.convolutional.Conv2D object at 0x7f6112cd6390> block5b_se_expand False\n",
            "142 <tensorflow.python.keras.layers.merge.Multiply object at 0x7f6112eabc10> block5b_se_excite False\n",
            "143 <tensorflow.python.keras.layers.convolutional.Conv2D object at 0x7f6112e9ba90> block5b_project_conv False\n",
            "144 <tensorflow.python.keras.layers.normalization_v2.BatchNormalization object at 0x7f6112ea2190> block5b_project_bn False\n",
            "145 <tensorflow.python.keras.layers.core.Dropout object at 0x7f6112bfd850> block5b_drop False\n",
            "146 <tensorflow.python.keras.layers.merge.Add object at 0x7f6112c02b90> block5b_add False\n",
            "147 <tensorflow.python.keras.layers.convolutional.Conv2D object at 0x7f6112c08090> block5c_expand_conv False\n",
            "148 <tensorflow.python.keras.layers.normalization_v2.BatchNormalization object at 0x7f6112bfd490> block5c_expand_bn False\n",
            "149 <tensorflow.python.keras.layers.core.Activation object at 0x7f6112c0cad0> block5c_expand_activation False\n",
            "150 <tensorflow.python.keras.layers.convolutional.DepthwiseConv2D object at 0x7f6112c1d710> block5c_dwconv False\n",
            "151 <tensorflow.python.keras.layers.normalization_v2.BatchNormalization object at 0x7f6112c17d10> block5c_bn False\n",
            "152 <tensorflow.python.keras.layers.core.Activation object at 0x7f6112c23a90> block5c_activation False\n",
            "153 <tensorflow.python.keras.layers.pooling.GlobalAveragePooling2D object at 0x7f6112c31810> block5c_se_squeeze False\n",
            "154 <tensorflow.python.keras.layers.core.Reshape object at 0x7f6112c314d0> block5c_se_reshape False\n",
            "155 <tensorflow.python.keras.layers.convolutional.Conv2D object at 0x7f6112c2d510> block5c_se_reduce False\n",
            "156 <tensorflow.python.keras.layers.convolutional.Conv2D object at 0x7f6112c367d0> block5c_se_expand False\n",
            "157 <tensorflow.python.keras.layers.merge.Multiply object at 0x7f6112c17c90> block5c_se_excite False\n",
            "158 <tensorflow.python.keras.layers.convolutional.Conv2D object at 0x7f6112c23410> block5c_project_conv False\n",
            "159 <tensorflow.python.keras.layers.normalization_v2.BatchNormalization object at 0x7f6112bcd790> block5c_project_bn False\n",
            "160 <tensorflow.python.keras.layers.core.Dropout object at 0x7f6112bd4f90> block5c_drop False\n",
            "161 <tensorflow.python.keras.layers.merge.Add object at 0x7f6112bceb50> block5c_add False\n",
            "162 <tensorflow.python.keras.layers.convolutional.Conv2D object at 0x7f6112bc8d50> block6a_expand_conv False\n",
            "163 <tensorflow.python.keras.layers.normalization_v2.BatchNormalization object at 0x7f6112d6a110> block6a_expand_bn False\n",
            "164 <tensorflow.python.keras.layers.core.Activation object at 0x7f620ddaa9d0> block6a_expand_activation False\n",
            "165 <tensorflow.python.keras.layers.convolutional.ZeroPadding2D object at 0x7f6112d19a50> block6a_dwconv_pad False\n",
            "166 <tensorflow.python.keras.layers.convolutional.DepthwiseConv2D object at 0x7f620e4cc6d0> block6a_dwconv False\n",
            "167 <tensorflow.python.keras.layers.normalization_v2.BatchNormalization object at 0x7f6112e92550> block6a_bn False\n",
            "168 <tensorflow.python.keras.layers.core.Activation object at 0x7f620e48ec90> block6a_activation False\n",
            "169 <tensorflow.python.keras.layers.pooling.GlobalAveragePooling2D object at 0x7f6112be0d50> block6a_se_squeeze False\n",
            "170 <tensorflow.python.keras.layers.core.Reshape object at 0x7f6112be4790> block6a_se_reshape False\n",
            "171 <tensorflow.python.keras.layers.convolutional.Conv2D object at 0x7f6112e5a590> block6a_se_reduce False\n",
            "172 <tensorflow.python.keras.layers.convolutional.Conv2D object at 0x7f6112be7990> block6a_se_expand False\n",
            "173 <tensorflow.python.keras.layers.merge.Multiply object at 0x7f6112bf9350> block6a_se_excite False\n",
            "174 <tensorflow.python.keras.layers.convolutional.Conv2D object at 0x7f6112b831d0> block6a_project_conv False\n",
            "175 <tensorflow.python.keras.layers.normalization_v2.BatchNormalization object at 0x7f6112b7c550> block6a_project_bn False\n",
            "176 <tensorflow.python.keras.layers.convolutional.Conv2D object at 0x7f6112b87850> block6b_expand_conv False\n",
            "177 <tensorflow.python.keras.layers.normalization_v2.BatchNormalization object at 0x7f6112b97c50> block6b_expand_bn False\n",
            "178 <tensorflow.python.keras.layers.core.Activation object at 0x7f6112b94650> block6b_expand_activation False\n",
            "179 <tensorflow.python.keras.layers.convolutional.DepthwiseConv2D object at 0x7f6112b7cd10> block6b_dwconv False\n",
            "180 <tensorflow.python.keras.layers.normalization_v2.BatchNormalization object at 0x7f6112ba7c90> block6b_bn False\n",
            "181 <tensorflow.python.keras.layers.core.Activation object at 0x7f6112ba0810> block6b_activation False\n",
            "182 <tensorflow.python.keras.layers.pooling.GlobalAveragePooling2D object at 0x7f6112b9ded0> block6b_se_squeeze False\n",
            "183 <tensorflow.python.keras.layers.core.Reshape object at 0x7f6112b3c650> block6b_se_reshape False\n",
            "184 <tensorflow.python.keras.layers.convolutional.Conv2D object at 0x7f6112b87bd0> block6b_se_reduce False\n",
            "185 <tensorflow.python.keras.layers.convolutional.Conv2D object at 0x7f6112bb6510> block6b_se_expand False\n",
            "186 <tensorflow.python.keras.layers.merge.Multiply object at 0x7f6112b4cd90> block6b_se_excite False\n",
            "187 <tensorflow.python.keras.layers.convolutional.Conv2D object at 0x7f6112b55c10> block6b_project_conv False\n",
            "188 <tensorflow.python.keras.layers.normalization_v2.BatchNormalization object at 0x7f6112b51a90> block6b_project_bn False\n",
            "189 <tensorflow.python.keras.layers.core.Dropout object at 0x7f6112b5f9d0> block6b_drop False\n",
            "190 <tensorflow.python.keras.layers.merge.Add object at 0x7f6112b64cd0> block6b_add False\n",
            "191 <tensorflow.python.keras.layers.convolutional.Conv2D object at 0x7f6112dc4f10> block6c_expand_conv False\n",
            "192 <tensorflow.python.keras.layers.normalization_v2.BatchNormalization object at 0x7f6112b5f5d0> block6c_expand_bn False\n",
            "193 <tensorflow.python.keras.layers.core.Activation object at 0x7f6112b6fad0> block6c_expand_activation False\n",
            "194 <tensorflow.python.keras.layers.convolutional.DepthwiseConv2D object at 0x7f6112afd090> block6c_dwconv False\n",
            "195 <tensorflow.python.keras.layers.normalization_v2.BatchNormalization object at 0x7f6112b5b590> block6c_bn False\n",
            "196 <tensorflow.python.keras.layers.core.Activation object at 0x7f6112b0d110> block6c_activation False\n",
            "197 <tensorflow.python.keras.layers.pooling.GlobalAveragePooling2D object at 0x7f6112b5f890> block6c_se_squeeze False\n",
            "198 <tensorflow.python.keras.layers.core.Reshape object at 0x7f6112b6cc50> block6c_se_reshape False\n",
            "199 <tensorflow.python.keras.layers.convolutional.Conv2D object at 0x7f6112b18a50> block6c_se_reduce False\n",
            "200 <tensorflow.python.keras.layers.convolutional.Conv2D object at 0x7f6112b24450> block6c_se_expand False\n",
            "201 <tensorflow.python.keras.layers.merge.Multiply object at 0x7f6112b21790> block6c_se_excite False\n",
            "202 <tensorflow.python.keras.layers.convolutional.Conv2D object at 0x7f6112b1ccd0> block6c_project_conv False\n",
            "203 <tensorflow.python.keras.layers.normalization_v2.BatchNormalization object at 0x7f6112b663d0> block6c_project_bn False\n",
            "204 <tensorflow.python.keras.layers.core.Dropout object at 0x7f6112b42610> block6c_drop False\n",
            "205 <tensorflow.python.keras.layers.merge.Add object at 0x7f6112bb6e10> block6c_add False\n",
            "206 <tensorflow.python.keras.layers.convolutional.Conv2D object at 0x7f6112bab6d0> block6d_expand_conv False\n",
            "207 <tensorflow.python.keras.layers.normalization_v2.BatchNormalization object at 0x7f6112bef090> block6d_expand_bn False\n",
            "208 <tensorflow.python.keras.layers.core.Activation object at 0x7f6112be0450> block6d_expand_activation False\n",
            "209 <tensorflow.python.keras.layers.convolutional.DepthwiseConv2D object at 0x7f6112beb3d0> block6d_dwconv False\n",
            "210 <tensorflow.python.keras.layers.normalization_v2.BatchNormalization object at 0x7f6112b31690> block6d_bn False\n",
            "211 <tensorflow.python.keras.layers.core.Activation object at 0x7f6112b35250> block6d_activation False\n",
            "212 <tensorflow.python.keras.layers.pooling.GlobalAveragePooling2D object at 0x7f6112b35c90> block6d_se_squeeze False\n",
            "213 <tensorflow.python.keras.layers.core.Reshape object at 0x7f6112b396d0> block6d_se_reshape False\n",
            "214 <tensorflow.python.keras.layers.convolutional.Conv2D object at 0x7f6112abd390> block6d_se_reduce False\n",
            "215 <tensorflow.python.keras.layers.convolutional.Conv2D object at 0x7f6112ac1f10> block6d_se_expand False\n",
            "216 <tensorflow.python.keras.layers.merge.Multiply object at 0x7f6112acb090> block6d_se_excite False\n",
            "217 <tensorflow.python.keras.layers.convolutional.Conv2D object at 0x7f6112acb9d0> block6d_project_conv False\n",
            "218 <tensorflow.python.keras.layers.normalization_v2.BatchNormalization object at 0x7f6112ad7210> block6d_project_bn False\n",
            "219 <tensorflow.python.keras.layers.core.Dropout object at 0x7f6112acb410> block6d_drop False\n",
            "220 <tensorflow.python.keras.layers.merge.Add object at 0x7f6112adb790> block6d_add False\n",
            "221 <tensorflow.python.keras.layers.convolutional.Conv2D object at 0x7f6112ae8250> block7a_expand_conv False\n",
            "222 <tensorflow.python.keras.layers.normalization_v2.BatchNormalization object at 0x7f6112aed850> block7a_expand_bn False\n",
            "223 <tensorflow.python.keras.layers.core.Activation object at 0x7f6112adbb50> block7a_expand_activation False\n",
            "224 <tensorflow.python.keras.layers.convolutional.DepthwiseConv2D object at 0x7f6112af1250> block7a_dwconv False\n",
            "225 <tensorflow.python.keras.layers.normalization_v2.BatchNormalization object at 0x7f6112a7ac10> block7a_bn False\n",
            "226 <tensorflow.python.keras.layers.core.Activation object at 0x7f6112af1a50> block7a_activation False\n",
            "227 <tensorflow.python.keras.layers.pooling.GlobalAveragePooling2D object at 0x7f6112a7fa90> block7a_se_squeeze False\n",
            "228 <tensorflow.python.keras.layers.core.Reshape object at 0x7f6112a8f5d0> block7a_se_reshape False\n",
            "229 <tensorflow.python.keras.layers.convolutional.Conv2D object at 0x7f6112adbed0> block7a_se_reduce False\n",
            "230 <tensorflow.python.keras.layers.convolutional.Conv2D object at 0x7f6112a96b50> block7a_se_expand False\n",
            "231 <tensorflow.python.keras.layers.merge.Multiply object at 0x7f6112a9ed10> block7a_se_excite False\n",
            "232 <tensorflow.python.keras.layers.convolutional.Conv2D object at 0x7f6112aa8b90> block7a_project_conv False\n",
            "233 <tensorflow.python.keras.layers.normalization_v2.BatchNormalization object at 0x7f6112aad210> block7a_project_bn False\n",
            "234 <tensorflow.python.keras.layers.convolutional.Conv2D object at 0x7f620e70b5d0> top_conv False\n",
            "235 <tensorflow.python.keras.layers.normalization_v2.BatchNormalization object at 0x7f6112ab8d10> top_bn False\n",
            "236 <tensorflow.python.keras.layers.core.Activation object at 0x7f6112a3cb50> top_activation False\n"
          ],
          "name": "stdout"
        }
      ]
    },
    {
      "cell_type": "code",
      "metadata": {
        "id": "ILNwDrvJRAnh",
        "colab": {
          "base_uri": "https://localhost:8080/"
        },
        "outputId": "ec3e721f-4df7-4725-d6ac-2a53c912d250"
      },
      "source": [
        "#How many trainable variables in our base model?\n",
        "print(len(model_2.layers[2].trainable_variables))"
      ],
      "execution_count": 44,
      "outputs": [
        {
          "output_type": "stream",
          "text": [
            "0\n"
          ],
          "name": "stdout"
        }
      ]
    },
    {
      "cell_type": "code",
      "metadata": {
        "id": "tM1Q3D1vRbbH"
      },
      "source": [
        "#To begin fine-tuning, let´s start by setting the last 10 layers of our base_model.trainable = True\n",
        "base_model.trainable = True\n",
        "\n",
        "#Freeze all layers except for the last 10\n",
        "for layer in base_model.layers[:-10]:\n",
        "  layer.trainable = False\n",
        "\n",
        "#Recompile (we have tp recompile our models every time we make a change)\n",
        "model_2.compile(loss=\"categorical_crossentropy\", optimizer=keras.optimizers.Adam(learning_rate=0.0001), metrics=[\"accuracy\"])"
      ],
      "execution_count": 45,
      "outputs": []
    },
    {
      "cell_type": "code",
      "metadata": {
        "id": "I1Oeg-i1R_ty",
        "colab": {
          "base_uri": "https://localhost:8080/"
        },
        "outputId": "2e60db7a-84c6-4ab4-ac0a-2e04bb65e7e6"
      },
      "source": [
        "#Check which layers are tuneable (trainable)\n",
        "for layer_number, layer in enumerate(model_2.layers[2].layers):\n",
        "  print(layer_number, layer.name, layer.trainable)"
      ],
      "execution_count": 46,
      "outputs": [
        {
          "output_type": "stream",
          "text": [
            "0 input_3 False\n",
            "1 rescaling_2 False\n",
            "2 normalization_2 False\n",
            "3 stem_conv_pad False\n",
            "4 stem_conv False\n",
            "5 stem_bn False\n",
            "6 stem_activation False\n",
            "7 block1a_dwconv False\n",
            "8 block1a_bn False\n",
            "9 block1a_activation False\n",
            "10 block1a_se_squeeze False\n",
            "11 block1a_se_reshape False\n",
            "12 block1a_se_reduce False\n",
            "13 block1a_se_expand False\n",
            "14 block1a_se_excite False\n",
            "15 block1a_project_conv False\n",
            "16 block1a_project_bn False\n",
            "17 block2a_expand_conv False\n",
            "18 block2a_expand_bn False\n",
            "19 block2a_expand_activation False\n",
            "20 block2a_dwconv_pad False\n",
            "21 block2a_dwconv False\n",
            "22 block2a_bn False\n",
            "23 block2a_activation False\n",
            "24 block2a_se_squeeze False\n",
            "25 block2a_se_reshape False\n",
            "26 block2a_se_reduce False\n",
            "27 block2a_se_expand False\n",
            "28 block2a_se_excite False\n",
            "29 block2a_project_conv False\n",
            "30 block2a_project_bn False\n",
            "31 block2b_expand_conv False\n",
            "32 block2b_expand_bn False\n",
            "33 block2b_expand_activation False\n",
            "34 block2b_dwconv False\n",
            "35 block2b_bn False\n",
            "36 block2b_activation False\n",
            "37 block2b_se_squeeze False\n",
            "38 block2b_se_reshape False\n",
            "39 block2b_se_reduce False\n",
            "40 block2b_se_expand False\n",
            "41 block2b_se_excite False\n",
            "42 block2b_project_conv False\n",
            "43 block2b_project_bn False\n",
            "44 block2b_drop False\n",
            "45 block2b_add False\n",
            "46 block3a_expand_conv False\n",
            "47 block3a_expand_bn False\n",
            "48 block3a_expand_activation False\n",
            "49 block3a_dwconv_pad False\n",
            "50 block3a_dwconv False\n",
            "51 block3a_bn False\n",
            "52 block3a_activation False\n",
            "53 block3a_se_squeeze False\n",
            "54 block3a_se_reshape False\n",
            "55 block3a_se_reduce False\n",
            "56 block3a_se_expand False\n",
            "57 block3a_se_excite False\n",
            "58 block3a_project_conv False\n",
            "59 block3a_project_bn False\n",
            "60 block3b_expand_conv False\n",
            "61 block3b_expand_bn False\n",
            "62 block3b_expand_activation False\n",
            "63 block3b_dwconv False\n",
            "64 block3b_bn False\n",
            "65 block3b_activation False\n",
            "66 block3b_se_squeeze False\n",
            "67 block3b_se_reshape False\n",
            "68 block3b_se_reduce False\n",
            "69 block3b_se_expand False\n",
            "70 block3b_se_excite False\n",
            "71 block3b_project_conv False\n",
            "72 block3b_project_bn False\n",
            "73 block3b_drop False\n",
            "74 block3b_add False\n",
            "75 block4a_expand_conv False\n",
            "76 block4a_expand_bn False\n",
            "77 block4a_expand_activation False\n",
            "78 block4a_dwconv_pad False\n",
            "79 block4a_dwconv False\n",
            "80 block4a_bn False\n",
            "81 block4a_activation False\n",
            "82 block4a_se_squeeze False\n",
            "83 block4a_se_reshape False\n",
            "84 block4a_se_reduce False\n",
            "85 block4a_se_expand False\n",
            "86 block4a_se_excite False\n",
            "87 block4a_project_conv False\n",
            "88 block4a_project_bn False\n",
            "89 block4b_expand_conv False\n",
            "90 block4b_expand_bn False\n",
            "91 block4b_expand_activation False\n",
            "92 block4b_dwconv False\n",
            "93 block4b_bn False\n",
            "94 block4b_activation False\n",
            "95 block4b_se_squeeze False\n",
            "96 block4b_se_reshape False\n",
            "97 block4b_se_reduce False\n",
            "98 block4b_se_expand False\n",
            "99 block4b_se_excite False\n",
            "100 block4b_project_conv False\n",
            "101 block4b_project_bn False\n",
            "102 block4b_drop False\n",
            "103 block4b_add False\n",
            "104 block4c_expand_conv False\n",
            "105 block4c_expand_bn False\n",
            "106 block4c_expand_activation False\n",
            "107 block4c_dwconv False\n",
            "108 block4c_bn False\n",
            "109 block4c_activation False\n",
            "110 block4c_se_squeeze False\n",
            "111 block4c_se_reshape False\n",
            "112 block4c_se_reduce False\n",
            "113 block4c_se_expand False\n",
            "114 block4c_se_excite False\n",
            "115 block4c_project_conv False\n",
            "116 block4c_project_bn False\n",
            "117 block4c_drop False\n",
            "118 block4c_add False\n",
            "119 block5a_expand_conv False\n",
            "120 block5a_expand_bn False\n",
            "121 block5a_expand_activation False\n",
            "122 block5a_dwconv False\n",
            "123 block5a_bn False\n",
            "124 block5a_activation False\n",
            "125 block5a_se_squeeze False\n",
            "126 block5a_se_reshape False\n",
            "127 block5a_se_reduce False\n",
            "128 block5a_se_expand False\n",
            "129 block5a_se_excite False\n",
            "130 block5a_project_conv False\n",
            "131 block5a_project_bn False\n",
            "132 block5b_expand_conv False\n",
            "133 block5b_expand_bn False\n",
            "134 block5b_expand_activation False\n",
            "135 block5b_dwconv False\n",
            "136 block5b_bn False\n",
            "137 block5b_activation False\n",
            "138 block5b_se_squeeze False\n",
            "139 block5b_se_reshape False\n",
            "140 block5b_se_reduce False\n",
            "141 block5b_se_expand False\n",
            "142 block5b_se_excite False\n",
            "143 block5b_project_conv False\n",
            "144 block5b_project_bn False\n",
            "145 block5b_drop False\n",
            "146 block5b_add False\n",
            "147 block5c_expand_conv False\n",
            "148 block5c_expand_bn False\n",
            "149 block5c_expand_activation False\n",
            "150 block5c_dwconv False\n",
            "151 block5c_bn False\n",
            "152 block5c_activation False\n",
            "153 block5c_se_squeeze False\n",
            "154 block5c_se_reshape False\n",
            "155 block5c_se_reduce False\n",
            "156 block5c_se_expand False\n",
            "157 block5c_se_excite False\n",
            "158 block5c_project_conv False\n",
            "159 block5c_project_bn False\n",
            "160 block5c_drop False\n",
            "161 block5c_add False\n",
            "162 block6a_expand_conv False\n",
            "163 block6a_expand_bn False\n",
            "164 block6a_expand_activation False\n",
            "165 block6a_dwconv_pad False\n",
            "166 block6a_dwconv False\n",
            "167 block6a_bn False\n",
            "168 block6a_activation False\n",
            "169 block6a_se_squeeze False\n",
            "170 block6a_se_reshape False\n",
            "171 block6a_se_reduce False\n",
            "172 block6a_se_expand False\n",
            "173 block6a_se_excite False\n",
            "174 block6a_project_conv False\n",
            "175 block6a_project_bn False\n",
            "176 block6b_expand_conv False\n",
            "177 block6b_expand_bn False\n",
            "178 block6b_expand_activation False\n",
            "179 block6b_dwconv False\n",
            "180 block6b_bn False\n",
            "181 block6b_activation False\n",
            "182 block6b_se_squeeze False\n",
            "183 block6b_se_reshape False\n",
            "184 block6b_se_reduce False\n",
            "185 block6b_se_expand False\n",
            "186 block6b_se_excite False\n",
            "187 block6b_project_conv False\n",
            "188 block6b_project_bn False\n",
            "189 block6b_drop False\n",
            "190 block6b_add False\n",
            "191 block6c_expand_conv False\n",
            "192 block6c_expand_bn False\n",
            "193 block6c_expand_activation False\n",
            "194 block6c_dwconv False\n",
            "195 block6c_bn False\n",
            "196 block6c_activation False\n",
            "197 block6c_se_squeeze False\n",
            "198 block6c_se_reshape False\n",
            "199 block6c_se_reduce False\n",
            "200 block6c_se_expand False\n",
            "201 block6c_se_excite False\n",
            "202 block6c_project_conv False\n",
            "203 block6c_project_bn False\n",
            "204 block6c_drop False\n",
            "205 block6c_add False\n",
            "206 block6d_expand_conv False\n",
            "207 block6d_expand_bn False\n",
            "208 block6d_expand_activation False\n",
            "209 block6d_dwconv False\n",
            "210 block6d_bn False\n",
            "211 block6d_activation False\n",
            "212 block6d_se_squeeze False\n",
            "213 block6d_se_reshape False\n",
            "214 block6d_se_reduce False\n",
            "215 block6d_se_expand False\n",
            "216 block6d_se_excite False\n",
            "217 block6d_project_conv False\n",
            "218 block6d_project_bn False\n",
            "219 block6d_drop False\n",
            "220 block6d_add False\n",
            "221 block7a_expand_conv False\n",
            "222 block7a_expand_bn False\n",
            "223 block7a_expand_activation False\n",
            "224 block7a_dwconv False\n",
            "225 block7a_bn False\n",
            "226 block7a_activation False\n",
            "227 block7a_se_squeeze True\n",
            "228 block7a_se_reshape True\n",
            "229 block7a_se_reduce True\n",
            "230 block7a_se_expand True\n",
            "231 block7a_se_excite True\n",
            "232 block7a_project_conv True\n",
            "233 block7a_project_bn True\n",
            "234 top_conv True\n",
            "235 top_bn True\n",
            "236 top_activation True\n"
          ],
          "name": "stdout"
        }
      ]
    },
    {
      "cell_type": "code",
      "metadata": {
        "id": "r2p-qGCKSmQm",
        "colab": {
          "base_uri": "https://localhost:8080/"
        },
        "outputId": "f234b03c-4b41-4fdc-c869-bfa5fe988c7e"
      },
      "source": [
        "#Now we´ve unfrozen some of the layers closer to the top, how many trainable variables are in our model?\n",
        "print(len(model_2.trainable_variables))"
      ],
      "execution_count": 47,
      "outputs": [
        {
          "output_type": "stream",
          "text": [
            "12\n"
          ],
          "name": "stdout"
        }
      ]
    },
    {
      "cell_type": "code",
      "metadata": {
        "id": "UhdOYWc0UFmx",
        "colab": {
          "base_uri": "https://localhost:8080/"
        },
        "outputId": "e387b0ed-94a5-4980-c9ea-158c09610b2c"
      },
      "source": [
        "#Fine tune for another 5 epochs\n",
        "fine_tune_epochs = initial_epochs + 5\n",
        "\n",
        "#Refit the model (same as model_2 except with more trainable layers)\n",
        "history_fine_10_percent_data_augt = model_2.fit(train_data_10_percent,\n",
        "                                                epochs=fine_tune_epochs,\n",
        "                                                validation_data=test_data,\n",
        "                                                validation_steps=int(0.25 * len(test_data)),\n",
        "                                                initial_epoch=history_10_percent_data_aug.epoch[-1] #start training from the previous last epoch\n",
        "                                                ,callbacks=[create_tensorboard_callback(\"transfer_learning\", \"10_percent_fine_tune_last_10\")])"
      ],
      "execution_count": 48,
      "outputs": [
        {
          "output_type": "stream",
          "text": [
            "Saving TensorBoard log files to: transfer_learning/10_percent_fine_tune_last_10/20210731-112344\n",
            "Epoch 5/10\n"
          ],
          "name": "stdout"
        },
        {
          "output_type": "stream",
          "text": [
            "/usr/local/lib/python3.7/dist-packages/tensorflow/python/keras/utils/generic_utils.py:497: CustomMaskWarning: Custom mask layers require a config and must override get_config. When loading, the custom mask layer must be passed to the custom_objects argument.\n",
            "  category=CustomMaskWarning)\n"
          ],
          "name": "stderr"
        },
        {
          "output_type": "stream",
          "text": [
            "24/24 [==============================] - 19s 503ms/step - loss: 0.6763 - accuracy: 0.8200 - val_loss: 0.5449 - val_accuracy: 0.8289\n",
            "Epoch 6/10\n",
            "24/24 [==============================] - 11s 427ms/step - loss: 0.5422 - accuracy: 0.8373 - val_loss: 0.5456 - val_accuracy: 0.8174\n",
            "Epoch 7/10\n",
            "24/24 [==============================] - 9s 365ms/step - loss: 0.5110 - accuracy: 0.8427 - val_loss: 0.5261 - val_accuracy: 0.8240\n",
            "Epoch 8/10\n",
            "24/24 [==============================] - 10s 406ms/step - loss: 0.4772 - accuracy: 0.8587 - val_loss: 0.5233 - val_accuracy: 0.8109\n",
            "Epoch 9/10\n",
            "24/24 [==============================] - 9s 385ms/step - loss: 0.4280 - accuracy: 0.8720 - val_loss: 0.4737 - val_accuracy: 0.8289\n",
            "Epoch 10/10\n",
            "24/24 [==============================] - 9s 359ms/step - loss: 0.3923 - accuracy: 0.8813 - val_loss: 0.4900 - val_accuracy: 0.8273\n"
          ],
          "name": "stdout"
        }
      ]
    },
    {
      "cell_type": "code",
      "metadata": {
        "id": "_A5XTmZmViG4",
        "colab": {
          "base_uri": "https://localhost:8080/"
        },
        "outputId": "9f3bdbc5-c885-40f0-f68c-e1eede1bee6a"
      },
      "source": [
        "# Evaluate the fine-tuned model (model_3 which is actually model_2 fine-tuned for another 5 epochs)\n",
        "results_fine_tune_10_percent = model_2.evaluate(test_data)"
      ],
      "execution_count": 50,
      "outputs": [
        {
          "output_type": "stream",
          "text": [
            "79/79 [==============================] - 9s 109ms/step - loss: 0.4832 - accuracy: 0.8340\n"
          ],
          "name": "stdout"
        }
      ]
    },
    {
      "cell_type": "code",
      "metadata": {
        "id": "DFQPdaNXVEoE",
        "outputId": "6fd43985-6b59-457f-964e-24f849d79167",
        "colab": {
          "base_uri": "https://localhost:8080/",
          "height": 573
        }
      },
      "source": [
        "#Check out the loss curves of our fine tuned-model\n",
        "plot_loss_curves(history_fine_10_percent_data_augt)"
      ],
      "execution_count": 51,
      "outputs": [
        {
          "output_type": "display_data",
          "data": {
            "image/png": "[encoded data removed]",
            "text/plain": [
              "<Figure size 432x288 with 1 Axes>"
            ]
          },
          "metadata": {
            "tags": [],
            "needs_background": "light"
          }
        },
        {
          "output_type": "display_data",
          "data": {
            "image/png": "[encoded data removed]",
            "text/plain": [
              "<Figure size 432x288 with 1 Axes>"
            ]
          },
          "metadata": {
            "tags": [],
            "needs_background": "light"
          }
        }
      ]
    },
    {
      "cell_type": "markdown",
      "metadata": {
        "id": "Cn_FSP_yVSRd"
      },
      "source": [
        "The plot_loss_curves function works great with models which have only been fit once, however, we want samething to compare one series of running fit() with another"
      ]
    },
    {
      "cell_type": "code",
      "metadata": {
        "id": "fFRB-EnkVNLe"
      },
      "source": [
        "#Let´s create a function to compare training histories\n",
        "def compare_historys(original_history, new_history, initial_epochs=5):\n",
        "  \"\"\"\n",
        "  Compares two TensorFlow History objects.\n",
        "  \"\"\"\n",
        "  #Get original history measurements\n",
        "  acc = original_history.history[\"accuracy\"]\n",
        "  loss = original_history.history[\"loss\"]\n",
        "\n",
        "  val_acc = original_history.history[\"val_accuracy\"]\n",
        "  val_loss = original_history.history[\"val_loss\"]\n",
        "\n",
        "  #Combine original history\n",
        "  total_acc = acc + new_history.history[\"accuracy\"]\n",
        "  total_loss = loss + new_history.history[\"loss\"]\n",
        "\n",
        "  total_val_acc = val_acc + new_history.history[\"val_accuracy\"]\n",
        "  total_val_loss = val_loss + new_history.history[\"val_loss\"]\n",
        "\n",
        "  #Make plots for accuracy\n",
        "  plt.figure(figsize=(8,8))\n",
        "  plt.subplot(2,1,1)\n",
        "  plt.plot(total_acc, label=\"Training Accuracy\")\n",
        "  plt.plot(total_val_acc, label=\"Validation Accuracy\")\n",
        "  plt.plot([initial_epochs-1, initial_epochs-1], plt.ylim(), label=\"Start Fine Tuning\")\n",
        "  plt.legend(loc=\"lower right\")\n",
        "  plt.title(\"Training and Validation Accuracy\")\n",
        "\n",
        "  #Make plots for loss\n",
        "  plt.figure(figsize=(8,8))\n",
        "  plt.subplot(2,1,2)\n",
        "  plt.plot(total_loss, label=\"Training Loss\")\n",
        "  plt.plot(total_val_loss, label=\"Validation Loss\")\n",
        "  plt.plot([initial_epochs-1, initial_epochs-1], plt.ylim(), label=\"Start Fine Tuning\")\n",
        "  plt.legend(loc=\"upper right\")\n",
        "  plt.title(\"Training and Validation Loss\")"
      ],
      "execution_count": 60,
      "outputs": []
    },
    {
      "cell_type": "code",
      "metadata": {
        "id": "Nh_jI4r8W0G7",
        "outputId": "bb6b10be-5b3f-40f7-8a7a-410400450954",
        "colab": {
          "base_uri": "https://localhost:8080/",
          "height": 507
        }
      },
      "source": [
        "compare_historys(history_10_percent_data_aug, history_fine_10_percent_data_augt, initial_epochs=5)"
      ],
      "execution_count": 61,
      "outputs": [
        {
          "output_type": "display_data",
          "data": {
            "image/png": "[encoded data removed]",
            "text/plain": [
              "<Figure size 576x576 with 1 Axes>"
            ]
          },
          "metadata": {
            "tags": [],
            "needs_background": "light"
          }
        },
        {
          "output_type": "display_data",
          "data": {
            "image/png": "[encoded data removed]",
            "text/plain": [
              "<Figure size 576x576 with 1 Axes>"
            ]
          },
          "metadata": {
            "tags": [],
            "needs_background": "light"
          }
        }
      ]
    },
    {
      "cell_type": "markdown",
      "metadata": {
        "id": "Nqk3ee83Zjp7"
      },
      "source": [
        "## Model 4: Fine-tuning an existing model on the full data"
      ]
    },
    {
      "cell_type": "code",
      "metadata": {
        "id": "SGNo439iW4yw",
        "outputId": "443f0ada-73c8-466e-985f-70cf2d3ccaac",
        "colab": {
          "base_uri": "https://localhost:8080/"
        }
      },
      "source": [
        "#Download and unzip 10 classes of Food101 data with all images\n",
        "!wget https://storage.googleapis.com/ztm_tf_course/food_vision/10_food_classes_all_data.zip\n",
        "unzip_data(\"10_food_classes_all_data.zip\")"
      ],
      "execution_count": 63,
      "outputs": [
        {
          "output_type": "stream",
          "text": [
            "--2021-07-31 11:52:13--  https://storage.googleapis.com/ztm_tf_course/food_vision/10_food_classes_all_data.zip\n",
            "Resolving storage.googleapis.com (storage.googleapis.com)... 142.250.101.128, 142.250.141.128, 142.251.2.128, ...\n",
            "Connecting to storage.googleapis.com (storage.googleapis.com)|142.250.101.128|:443... connected.\n",
            "HTTP request sent, awaiting response... 200 OK\n",
            "Length: 519183241 (495M) [application/zip]\n",
            "Saving to: ‘10_food_classes_all_data.zip.1’\n",
            "\n",
            "10_food_classes_all 100%[===================>] 495.13M   256MB/s    in 1.9s    \n",
            "\n",
            "2021-07-31 11:52:15 (256 MB/s) - ‘10_food_classes_all_data.zip.1’ saved [519183241/519183241]\n",
            "\n"
          ],
          "name": "stdout"
        }
      ]
    },
    {
      "cell_type": "code",
      "metadata": {
        "id": "nhIaV7AuaBic"
      },
      "source": [
        "#Setup training and test dir\n",
        "train_dir_all_data = \"10_food_classes_all_data/train\"\n",
        "test_dir = \"10_food_classes_all_data/test\""
      ],
      "execution_count": 64,
      "outputs": []
    },
    {
      "cell_type": "code",
      "metadata": {
        "id": "_IgoHg5JaVaA",
        "outputId": "37abf27e-9e9e-42bd-b7b2-bb9db5d37293",
        "colab": {
          "base_uri": "https://localhost:8080/"
        }
      },
      "source": [
        "#How many images are we workung with\n",
        "walk_through_dir(\"10_food_classes_all_data\")"
      ],
      "execution_count": 65,
      "outputs": [
        {
          "output_type": "stream",
          "text": [
            "There are 2 directories and 0 images in '10_food_classes_all_data'.\n",
            "There are 10 directories and 0 images in '10_food_classes_all_data/train'.\n",
            "There are 0 directories and 750 images in '10_food_classes_all_data/train/ice_cream'.\n",
            "There are 0 directories and 750 images in '10_food_classes_all_data/train/chicken_curry'.\n",
            "There are 0 directories and 750 images in '10_food_classes_all_data/train/ramen'.\n",
            "There are 0 directories and 750 images in '10_food_classes_all_data/train/hamburger'.\n",
            "There are 0 directories and 750 images in '10_food_classes_all_data/train/grilled_salmon'.\n",
            "There are 0 directories and 750 images in '10_food_classes_all_data/train/chicken_wings'.\n",
            "There are 0 directories and 750 images in '10_food_classes_all_data/train/sushi'.\n",
            "There are 0 directories and 750 images in '10_food_classes_all_data/train/fried_rice'.\n",
            "There are 0 directories and 750 images in '10_food_classes_all_data/train/steak'.\n",
            "There are 0 directories and 750 images in '10_food_classes_all_data/train/pizza'.\n",
            "There are 10 directories and 0 images in '10_food_classes_all_data/test'.\n",
            "There are 0 directories and 250 images in '10_food_classes_all_data/test/ice_cream'.\n",
            "There are 0 directories and 250 images in '10_food_classes_all_data/test/chicken_curry'.\n",
            "There are 0 directories and 250 images in '10_food_classes_all_data/test/ramen'.\n",
            "There are 0 directories and 250 images in '10_food_classes_all_data/test/hamburger'.\n",
            "There are 0 directories and 250 images in '10_food_classes_all_data/test/grilled_salmon'.\n",
            "There are 0 directories and 250 images in '10_food_classes_all_data/test/chicken_wings'.\n",
            "There are 0 directories and 250 images in '10_food_classes_all_data/test/sushi'.\n",
            "There are 0 directories and 250 images in '10_food_classes_all_data/test/fried_rice'.\n",
            "There are 0 directories and 250 images in '10_food_classes_all_data/test/steak'.\n",
            "There are 0 directories and 250 images in '10_food_classes_all_data/test/pizza'.\n"
          ],
          "name": "stdout"
        }
      ]
    },
    {
      "cell_type": "code",
      "metadata": {
        "id": "fH1GdItYaaOr",
        "outputId": "66eaf3e7-00ac-4316-b5de-5ea94c2e1f35",
        "colab": {
          "base_uri": "https://localhost:8080/"
        }
      },
      "source": [
        "# Setup data inputs\n",
        "import tensorflow as tf\n",
        "IMG_SIZE = (224,224)\n",
        "train_data_10_classes_full = tf.keras.preprocessing.image_dataset_from_directory(train_dir_all_data,\n",
        "                                                                                 label_mode=\"categorical\",\n",
        "                                                                                 image_size=IMG_SIZE)\n",
        "\n",
        "test_data = tf.keras.preprocessing.image_dataset_from_directory(test_dir, \n",
        "                                                                label_mode=\"categorical\",\n",
        "                                                                image_size=IMG_SIZE)"
      ],
      "execution_count": 67,
      "outputs": [
        {
          "output_type": "stream",
          "text": [
            "Found 7500 files belonging to 10 classes.\n",
            "Found 2500 files belonging to 10 classes.\n"
          ],
          "name": "stdout"
        }
      ]
    },
    {
      "cell_type": "code",
      "metadata": {
        "id": "WwfVjYMxbHPj",
        "outputId": "15027f47-312f-46f2-8da7-b67859d727cb",
        "colab": {
          "base_uri": "https://localhost:8080/"
        }
      },
      "source": [
        "# Evaluate model 2 (this is the fine-tuned on 10 percent of data version)\n",
        "model_2.evaluate(test_data)"
      ],
      "execution_count": 68,
      "outputs": [
        {
          "output_type": "stream",
          "text": [
            "79/79 [==============================] - 9s 110ms/step - loss: 0.4832 - accuracy: 0.8340\n"
          ],
          "name": "stdout"
        },
        {
          "output_type": "execute_result",
          "data": {
            "text/plain": [
              "[0.48318803310394287, 0.8339999914169312]"
            ]
          },
          "metadata": {
            "tags": []
          },
          "execution_count": 68
        }
      ]
    },
    {
      "cell_type": "code",
      "metadata": {
        "id": "J-S8LyUQbnhd",
        "outputId": "89c829bb-6bea-4408-caab-9c2789612911",
        "colab": {
          "base_uri": "https://localhost:8080/"
        }
      },
      "source": [
        "results_fine_tune_10_percent"
      ],
      "execution_count": 69,
      "outputs": [
        {
          "output_type": "execute_result",
          "data": {
            "text/plain": [
              "[0.4831879734992981, 0.8339999914169312]"
            ]
          },
          "metadata": {
            "tags": []
          },
          "execution_count": 69
        }
      ]
    },
    {
      "cell_type": "markdown",
      "metadata": {
        "id": "gZWrfI48b-Rz"
      },
      "source": [
        "To train a fine-tuning model (model_4) we need to revert model_2 back to its feature extraction weights."
      ]
    },
    {
      "cell_type": "code",
      "metadata": {
        "id": "x7N9_NJ3bsh9",
        "outputId": "2f73edf8-72c6-47ae-e467-378c65491ae8",
        "colab": {
          "base_uri": "https://localhost:8080/"
        }
      },
      "source": [
        "# Load weights from checkpoint, that way we can fine-tune from the same stage the 10 percent data model is fine tuned\n",
        "model_2.load_weights(checkpoint_path)"
      ],
      "execution_count": 71,
      "outputs": [
        {
          "output_type": "execute_result",
          "data": {
            "text/plain": [
              "<tensorflow.python.training.tracking.util.CheckpointLoadStatus at 0x7f6083fa9150>"
            ]
          },
          "metadata": {
            "tags": []
          },
          "execution_count": 71
        }
      ]
    },
    {
      "cell_type": "code",
      "metadata": {
        "id": "lgY8bOSmcLC0",
        "outputId": "b9fba670-424e-4ef0-ec35-9c072f09494d",
        "colab": {
          "base_uri": "https://localhost:8080/"
        }
      },
      "source": [
        "#Let´s evaluate model_2\n",
        "model_2.evaluate(test_data)"
      ],
      "execution_count": 72,
      "outputs": [
        {
          "output_type": "stream",
          "text": [
            "79/79 [==============================] - 9s 107ms/step - loss: 0.6924 - accuracy: 0.8136\n"
          ],
          "name": "stdout"
        },
        {
          "output_type": "execute_result",
          "data": {
            "text/plain": [
              "[0.6924232840538025, 0.8136000037193298]"
            ]
          },
          "metadata": {
            "tags": []
          },
          "execution_count": 72
        }
      ]
    },
    {
      "cell_type": "code",
      "metadata": {
        "id": "B5GfZAopcd0X",
        "outputId": "c1682b34-59da-403f-b5d9-20bcdd528db9",
        "colab": {
          "base_uri": "https://localhost:8080/"
        }
      },
      "source": [
        "#Check to see if our model_2 has been reverted back tp featur eextraction results\n",
        "results_10_percent_data_aug"
      ],
      "execution_count": 73,
      "outputs": [
        {
          "output_type": "execute_result",
          "data": {
            "text/plain": [
              "[0.6924232244491577, 0.8136000037193298]"
            ]
          },
          "metadata": {
            "tags": []
          },
          "execution_count": 73
        }
      ]
    },
    {
      "cell_type": "markdown",
      "metadata": {
        "id": "9v3q2TNhc44L"
      },
      "source": [
        "What we´ve done so far:\n",
        "1. Trained a feature extraction transfer learning model for 5 epochs on 10% of the data with data augmentation (model_2) and we saved the model´s weights using \"ModelCheckpoint\" callback.\n",
        "2. Fine-tuned the same model on the same 10% of the data for a further 5 pichs with the top 10 layers of the base model unfrozen (model_3)\n",
        "3. Saved the results and training logs each time\n",
        "4. Reloaded the model from step 1 to do the same steps as step 2 except we´re going to use all of the data (model_4)"
      ]
    },
    {
      "cell_type": "code",
      "metadata": {
        "id": "D9uwSEPLcph8",
        "outputId": "8f66bd06-cdfb-4ec8-dfe9-726774a1e1a5",
        "colab": {
          "base_uri": "https://localhost:8080/"
        }
      },
      "source": [
        "# Check which layers are tunable in the whole model\n",
        "for layer_number, layer in enumerate(model_2.layers):\n",
        "  print(layer_number, layer.name, layer.trainable)"
      ],
      "execution_count": 74,
      "outputs": [
        {
          "output_type": "stream",
          "text": [
            "0 input_layer True\n",
            "1 data_augmentation True\n",
            "2 efficientnetb0 True\n",
            "3 global_average_pooling_2D True\n",
            "4 dense True\n"
          ],
          "name": "stdout"
        }
      ]
    },
    {
      "cell_type": "code",
      "metadata": {
        "id": "faWA2eIOdzHF",
        "outputId": "f1719b3b-d3a4-44ff-f16b-7b306329f309",
        "colab": {
          "base_uri": "https://localhost:8080/"
        }
      },
      "source": [
        "# Let´s drill into our base-model and see what layers are trainable\n",
        "for layer_number, layer in enumerate(model_2.layers[2].layers):\n",
        "  print(layer_number, layer.name, layer.trainable)"
      ],
      "execution_count": 76,
      "outputs": [
        {
          "output_type": "stream",
          "text": [
            "0 input_3 False\n",
            "1 rescaling_2 False\n",
            "2 normalization_2 False\n",
            "3 stem_conv_pad False\n",
            "4 stem_conv False\n",
            "5 stem_bn False\n",
            "6 stem_activation False\n",
            "7 block1a_dwconv False\n",
            "8 block1a_bn False\n",
            "9 block1a_activation False\n",
            "10 block1a_se_squeeze False\n",
            "11 block1a_se_reshape False\n",
            "12 block1a_se_reduce False\n",
            "13 block1a_se_expand False\n",
            "14 block1a_se_excite False\n",
            "15 block1a_project_conv False\n",
            "16 block1a_project_bn False\n",
            "17 block2a_expand_conv False\n",
            "18 block2a_expand_bn False\n",
            "19 block2a_expand_activation False\n",
            "20 block2a_dwconv_pad False\n",
            "21 block2a_dwconv False\n",
            "22 block2a_bn False\n",
            "23 block2a_activation False\n",
            "24 block2a_se_squeeze False\n",
            "25 block2a_se_reshape False\n",
            "26 block2a_se_reduce False\n",
            "27 block2a_se_expand False\n",
            "28 block2a_se_excite False\n",
            "29 block2a_project_conv False\n",
            "30 block2a_project_bn False\n",
            "31 block2b_expand_conv False\n",
            "32 block2b_expand_bn False\n",
            "33 block2b_expand_activation False\n",
            "34 block2b_dwconv False\n",
            "35 block2b_bn False\n",
            "36 block2b_activation False\n",
            "37 block2b_se_squeeze False\n",
            "38 block2b_se_reshape False\n",
            "39 block2b_se_reduce False\n",
            "40 block2b_se_expand False\n",
            "41 block2b_se_excite False\n",
            "42 block2b_project_conv False\n",
            "43 block2b_project_bn False\n",
            "44 block2b_drop False\n",
            "45 block2b_add False\n",
            "46 block3a_expand_conv False\n",
            "47 block3a_expand_bn False\n",
            "48 block3a_expand_activation False\n",
            "49 block3a_dwconv_pad False\n",
            "50 block3a_dwconv False\n",
            "51 block3a_bn False\n",
            "52 block3a_activation False\n",
            "53 block3a_se_squeeze False\n",
            "54 block3a_se_reshape False\n",
            "55 block3a_se_reduce False\n",
            "56 block3a_se_expand False\n",
            "57 block3a_se_excite False\n",
            "58 block3a_project_conv False\n",
            "59 block3a_project_bn False\n",
            "60 block3b_expand_conv False\n",
            "61 block3b_expand_bn False\n",
            "62 block3b_expand_activation False\n",
            "63 block3b_dwconv False\n",
            "64 block3b_bn False\n",
            "65 block3b_activation False\n",
            "66 block3b_se_squeeze False\n",
            "67 block3b_se_reshape False\n",
            "68 block3b_se_reduce False\n",
            "69 block3b_se_expand False\n",
            "70 block3b_se_excite False\n",
            "71 block3b_project_conv False\n",
            "72 block3b_project_bn False\n",
            "73 block3b_drop False\n",
            "74 block3b_add False\n",
            "75 block4a_expand_conv False\n",
            "76 block4a_expand_bn False\n",
            "77 block4a_expand_activation False\n",
            "78 block4a_dwconv_pad False\n",
            "79 block4a_dwconv False\n",
            "80 block4a_bn False\n",
            "81 block4a_activation False\n",
            "82 block4a_se_squeeze False\n",
            "83 block4a_se_reshape False\n",
            "84 block4a_se_reduce False\n",
            "85 block4a_se_expand False\n",
            "86 block4a_se_excite False\n",
            "87 block4a_project_conv False\n",
            "88 block4a_project_bn False\n",
            "89 block4b_expand_conv False\n",
            "90 block4b_expand_bn False\n",
            "91 block4b_expand_activation False\n",
            "92 block4b_dwconv False\n",
            "93 block4b_bn False\n",
            "94 block4b_activation False\n",
            "95 block4b_se_squeeze False\n",
            "96 block4b_se_reshape False\n",
            "97 block4b_se_reduce False\n",
            "98 block4b_se_expand False\n",
            "99 block4b_se_excite False\n",
            "100 block4b_project_conv False\n",
            "101 block4b_project_bn False\n",
            "102 block4b_drop False\n",
            "103 block4b_add False\n",
            "104 block4c_expand_conv False\n",
            "105 block4c_expand_bn False\n",
            "106 block4c_expand_activation False\n",
            "107 block4c_dwconv False\n",
            "108 block4c_bn False\n",
            "109 block4c_activation False\n",
            "110 block4c_se_squeeze False\n",
            "111 block4c_se_reshape False\n",
            "112 block4c_se_reduce False\n",
            "113 block4c_se_expand False\n",
            "114 block4c_se_excite False\n",
            "115 block4c_project_conv False\n",
            "116 block4c_project_bn False\n",
            "117 block4c_drop False\n",
            "118 block4c_add False\n",
            "119 block5a_expand_conv False\n",
            "120 block5a_expand_bn False\n",
            "121 block5a_expand_activation False\n",
            "122 block5a_dwconv False\n",
            "123 block5a_bn False\n",
            "124 block5a_activation False\n",
            "125 block5a_se_squeeze False\n",
            "126 block5a_se_reshape False\n",
            "127 block5a_se_reduce False\n",
            "128 block5a_se_expand False\n",
            "129 block5a_se_excite False\n",
            "130 block5a_project_conv False\n",
            "131 block5a_project_bn False\n",
            "132 block5b_expand_conv False\n",
            "133 block5b_expand_bn False\n",
            "134 block5b_expand_activation False\n",
            "135 block5b_dwconv False\n",
            "136 block5b_bn False\n",
            "137 block5b_activation False\n",
            "138 block5b_se_squeeze False\n",
            "139 block5b_se_reshape False\n",
            "140 block5b_se_reduce False\n",
            "141 block5b_se_expand False\n",
            "142 block5b_se_excite False\n",
            "143 block5b_project_conv False\n",
            "144 block5b_project_bn False\n",
            "145 block5b_drop False\n",
            "146 block5b_add False\n",
            "147 block5c_expand_conv False\n",
            "148 block5c_expand_bn False\n",
            "149 block5c_expand_activation False\n",
            "150 block5c_dwconv False\n",
            "151 block5c_bn False\n",
            "152 block5c_activation False\n",
            "153 block5c_se_squeeze False\n",
            "154 block5c_se_reshape False\n",
            "155 block5c_se_reduce False\n",
            "156 block5c_se_expand False\n",
            "157 block5c_se_excite False\n",
            "158 block5c_project_conv False\n",
            "159 block5c_project_bn False\n",
            "160 block5c_drop False\n",
            "161 block5c_add False\n",
            "162 block6a_expand_conv False\n",
            "163 block6a_expand_bn False\n",
            "164 block6a_expand_activation False\n",
            "165 block6a_dwconv_pad False\n",
            "166 block6a_dwconv False\n",
            "167 block6a_bn False\n",
            "168 block6a_activation False\n",
            "169 block6a_se_squeeze False\n",
            "170 block6a_se_reshape False\n",
            "171 block6a_se_reduce False\n",
            "172 block6a_se_expand False\n",
            "173 block6a_se_excite False\n",
            "174 block6a_project_conv False\n",
            "175 block6a_project_bn False\n",
            "176 block6b_expand_conv False\n",
            "177 block6b_expand_bn False\n",
            "178 block6b_expand_activation False\n",
            "179 block6b_dwconv False\n",
            "180 block6b_bn False\n",
            "181 block6b_activation False\n",
            "182 block6b_se_squeeze False\n",
            "183 block6b_se_reshape False\n",
            "184 block6b_se_reduce False\n",
            "185 block6b_se_expand False\n",
            "186 block6b_se_excite False\n",
            "187 block6b_project_conv False\n",
            "188 block6b_project_bn False\n",
            "189 block6b_drop False\n",
            "190 block6b_add False\n",
            "191 block6c_expand_conv False\n",
            "192 block6c_expand_bn False\n",
            "193 block6c_expand_activation False\n",
            "194 block6c_dwconv False\n",
            "195 block6c_bn False\n",
            "196 block6c_activation False\n",
            "197 block6c_se_squeeze False\n",
            "198 block6c_se_reshape False\n",
            "199 block6c_se_reduce False\n",
            "200 block6c_se_expand False\n",
            "201 block6c_se_excite False\n",
            "202 block6c_project_conv False\n",
            "203 block6c_project_bn False\n",
            "204 block6c_drop False\n",
            "205 block6c_add False\n",
            "206 block6d_expand_conv False\n",
            "207 block6d_expand_bn False\n",
            "208 block6d_expand_activation False\n",
            "209 block6d_dwconv False\n",
            "210 block6d_bn False\n",
            "211 block6d_activation False\n",
            "212 block6d_se_squeeze False\n",
            "213 block6d_se_reshape False\n",
            "214 block6d_se_reduce False\n",
            "215 block6d_se_expand False\n",
            "216 block6d_se_excite False\n",
            "217 block6d_project_conv False\n",
            "218 block6d_project_bn False\n",
            "219 block6d_drop False\n",
            "220 block6d_add False\n",
            "221 block7a_expand_conv False\n",
            "222 block7a_expand_bn False\n",
            "223 block7a_expand_activation False\n",
            "224 block7a_dwconv False\n",
            "225 block7a_bn False\n",
            "226 block7a_activation False\n",
            "227 block7a_se_squeeze True\n",
            "228 block7a_se_reshape True\n",
            "229 block7a_se_reduce True\n",
            "230 block7a_se_expand True\n",
            "231 block7a_se_excite True\n",
            "232 block7a_project_conv True\n",
            "233 block7a_project_bn True\n",
            "234 top_conv True\n",
            "235 top_bn True\n",
            "236 top_activation True\n"
          ],
          "name": "stdout"
        }
      ]
    },
    {
      "cell_type": "code",
      "metadata": {
        "id": "g9904KsceKGL"
      },
      "source": [
        "# Compile\n",
        "model_2.compile(loss=\"categorical_crossentropy\",\n",
        "                optimizer=tf.keras.optimizers.Adam(learning_rate=0.0001), metrics=[\"accuracy\"])"
      ],
      "execution_count": 79,
      "outputs": []
    },
    {
      "cell_type": "code",
      "metadata": {
        "id": "_xfNiKgAe9pC",
        "outputId": "5e911fab-5b2b-428e-e0c8-d606d4e24cd1",
        "colab": {
          "base_uri": "https://localhost:8080/"
        }
      },
      "source": [
        "#Continue to train and fine-tune the model to out data (100%)\n",
        "fine_tune_epochs = initial_epochs + 5\n",
        "\n",
        "history_fine_10_classes_full = model_2.fit(train_data_10_classes_full,\n",
        "                                           epochs=fine_tune_epochs,\n",
        "                                           validation_data=test_data,\n",
        "                                           validation_steps=int(0.25 * len(test_data)),\n",
        "                                           initial_epoch=history_10_percent_data_aug.epoch[-1],\n",
        "                                           callbacks=[create_tensorboard_callback(dir_name=\"transfer_learning\", experiment_name=\"full_10_classea-Fine_tune_last_10\")])"
      ],
      "execution_count": 83,
      "outputs": [
        {
          "output_type": "stream",
          "text": [
            "Saving TensorBoard log files to: transfer_learning/full_10_classea-Fine_tune_last_10/20210731-122018\n",
            "Epoch 5/10\n"
          ],
          "name": "stdout"
        },
        {
          "output_type": "stream",
          "text": [
            "/usr/local/lib/python3.7/dist-packages/tensorflow/python/keras/utils/generic_utils.py:497: CustomMaskWarning: Custom mask layers require a config and must override get_config. When loading, the custom mask layer must be passed to the custom_objects argument.\n",
            "  category=CustomMaskWarning)\n"
          ],
          "name": "stderr"
        },
        {
          "output_type": "stream",
          "text": [
            "235/235 [==============================] - 59s 250ms/step - loss: 0.5900 - accuracy: 0.8067 - val_loss: 0.3901 - val_accuracy: 0.8783\n",
            "Epoch 6/10\n",
            "235/235 [==============================] - 54s 228ms/step - loss: 0.5241 - accuracy: 0.8297 - val_loss: 0.3847 - val_accuracy: 0.8750\n",
            "Epoch 7/10\n",
            "235/235 [==============================] - 50s 213ms/step - loss: 0.4893 - accuracy: 0.8441 - val_loss: 0.3526 - val_accuracy: 0.8865\n",
            "Epoch 8/10\n",
            "235/235 [==============================] - 49s 206ms/step - loss: 0.4404 - accuracy: 0.8576 - val_loss: 0.3704 - val_accuracy: 0.8882\n",
            "Epoch 9/10\n",
            "235/235 [==============================] - 46s 193ms/step - loss: 0.4186 - accuracy: 0.8636 - val_loss: 0.3311 - val_accuracy: 0.8964\n",
            "Epoch 10/10\n",
            "235/235 [==============================] - 46s 193ms/step - loss: 0.3866 - accuracy: 0.8700 - val_loss: 0.3243 - val_accuracy: 0.8964\n"
          ],
          "name": "stdout"
        }
      ]
    },
    {
      "cell_type": "code",
      "metadata": {
        "id": "Mly8yZpFf-gD",
        "outputId": "4c70eece-c01a-4765-fb8e-d99c64183bb7",
        "colab": {
          "base_uri": "https://localhost:8080/"
        }
      },
      "source": [
        "# Let´s evaluate on all of the test data\n",
        "results_fine_tune_full_data = model_2.evaluate(test_data)\n",
        "results_fine_tune_full_data"
      ],
      "execution_count": 84,
      "outputs": [
        {
          "output_type": "stream",
          "text": [
            "79/79 [==============================] - 9s 107ms/step - loss: 0.2856 - accuracy: 0.9100\n"
          ],
          "name": "stdout"
        },
        {
          "output_type": "execute_result",
          "data": {
            "text/plain": [
              "[0.2856001853942871, 0.9100000262260437]"
            ]
          },
          "metadata": {
            "tags": []
          },
          "execution_count": 84
        }
      ]
    },
    {
      "cell_type": "code",
      "metadata": {
        "id": "TE9dPL7Ng8rC",
        "outputId": "b2bd7b3d-21de-4b52-b6bd-240ef27edb8c",
        "colab": {
          "base_uri": "https://localhost:8080/",
          "height": 507
        }
      },
      "source": [
        "#How did fine-tuning go with more data?\n",
        "compare_historys(original_history=history_10_percent_data_aug, new_history=history_fine_10_classes_full, initial_epochs=5)"
      ],
      "execution_count": 85,
      "outputs": [
        {
          "output_type": "display_data",
          "data": {
            "image/png": "[encoded data removed]",
            "text/plain": [
              "<Figure size 576x576 with 1 Axes>"
            ]
          },
          "metadata": {
            "tags": [],
            "needs_background": "light"
          }
        },
        {
          "output_type": "display_data",
          "data": {
            "image/png": "[encoded data removed]",
            "text/plain": [
              "<Figure size 576x576 with 1 Axes>"
            ]
          },
          "metadata": {
            "tags": [],
            "needs_background": "light"
          }
        }
      ]
    },
    {
      "cell_type": "markdown",
      "metadata": {
        "id": "BeJFZKIZjf7J"
      },
      "source": [
        "## Viewing our experiment data on TensorBoard"
      ]
    },
    {
      "cell_type": "code",
      "metadata": {
        "id": "hThEoqf1haP6"
      },
      "source": [
        "# View tensorboard logs of transfer learning modelling experiments\n",
        "#Upload TensorBoard dev records\n",
        "!tensorboard dev upload --logdir ./transfer_learning --name \"Transfer Learning Experiments with 10 Food101 Classes\" --description \"A series of diffierent transfer learning experiments\" --one_shot #exits the uploader once its finished uploading"
      ],
      "execution_count": null,
      "outputs": []
    },
    {
      "cell_type": "markdown",
      "metadata": {
        "id": "ju4GB2TQkqwQ"
      },
      "source": [
        "My experiment results available here: https://tensorboard.dev/experiment/5y2FVVPOTkaJ2jNe8GvKsg/#scalars"
      ]
    },
    {
      "cell_type": "code",
      "metadata": {
        "id": "QJ-6IZQnkWoa"
      },
      "source": [
        ""
      ],
      "execution_count": null,
      "outputs": []
    }
  ]
}