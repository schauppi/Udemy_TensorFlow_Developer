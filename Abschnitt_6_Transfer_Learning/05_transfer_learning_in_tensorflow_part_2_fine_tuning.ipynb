{
  "nbformat": 4,
  "nbformat_minor": 0,
  "metadata": {
    "colab": {
      "name": "05_transfer_learning_in_tensorflow_part_2_fine_tuning.ipynb",
      "provenance": [],
      "authorship_tag": "ABX9TyNO6dMei2K3X1u33M5l4oKQ",
      "include_colab_link": true
    },
    "kernelspec": {
      "name": "python3",
      "display_name": "Python 3"
    },
    "language_info": {
      "name": "python"
    },
    "accelerator": "GPU"
  },
  "cells": [
    {
      "cell_type": "markdown",
      "metadata": {
        "id": "view-in-github",
        "colab_type": "text"
      },
      "source": [
        "<a href=\"https://colab.research.google.com/github/schauppi/Udemy_TensorFlow_Developer/blob/main/Abschnitt_6_Transfer_Learning/05_transfer_learning_in_tensorflow_part_2_fine_tuning.ipynb\" target=\"_parent\"><img src=\"https://colab.research.google.com/assets/colab-badge.svg\" alt=\"Open In Colab\"/></a>"
      ]
    },
    {
      "cell_type": "markdown",
      "metadata": {
        "id": "qtOy-pE2KDjp"
      },
      "source": [
        "# Transfer Leaning in TensorFlow Part 2: Fine-tuning\n"
      ]
    },
    {
      "cell_type": "code",
      "metadata": {
        "colab": {
          "base_uri": "https://localhost:8080/"
        },
        "id": "p7eHHuQVKKfo",
        "outputId": "98139b67-119a-4496-e96e-87e3bf665674"
      },
      "source": [
        "!nvidia-smi"
      ],
      "execution_count": 1,
      "outputs": [
        {
          "output_type": "stream",
          "text": [
            "Sat Jul 17 11:10:23 2021       \n",
            "+-----------------------------------------------------------------------------+\n",
            "| NVIDIA-SMI 470.42.01    Driver Version: 460.32.03    CUDA Version: 11.2     |\n",
            "|-------------------------------+----------------------+----------------------+\n",
            "| GPU  Name        Persistence-M| Bus-Id        Disp.A | Volatile Uncorr. ECC |\n",
            "| Fan  Temp  Perf  Pwr:Usage/Cap|         Memory-Usage | GPU-Util  Compute M. |\n",
            "|                               |                      |               MIG M. |\n",
            "|===============================+======================+======================|\n",
            "|   0  Tesla T4            Off  | 00000000:00:04.0 Off |                    0 |\n",
            "| N/A   51C    P8    10W /  70W |      0MiB / 15109MiB |      0%      Default |\n",
            "|                               |                      |                  N/A |\n",
            "+-------------------------------+----------------------+----------------------+\n",
            "                                                                               \n",
            "+-----------------------------------------------------------------------------+\n",
            "| Processes:                                                                  |\n",
            "|  GPU   GI   CI        PID   Type   Process name                  GPU Memory |\n",
            "|        ID   ID                                                   Usage      |\n",
            "|=============================================================================|\n",
            "|  No running processes found                                                 |\n",
            "+-----------------------------------------------------------------------------+\n"
          ],
          "name": "stdout"
        }
      ]
    },
    {
      "cell_type": "markdown",
      "metadata": {
        "id": "xBp8YAXEKU0O"
      },
      "source": [
        "## Creating helper functions"
      ]
    },
    {
      "cell_type": "code",
      "metadata": {
        "colab": {
          "base_uri": "https://localhost:8080/"
        },
        "id": "PT8sxQ__KP0C",
        "outputId": "a3f98b6d-ad2e-403b-e95d-9ccf45392c66"
      },
      "source": [
        "!wget https://raw.githubusercontent.com/mrdbourke/tensorflow-deep-learning/main/extras/helper_functions.py"
      ],
      "execution_count": 2,
      "outputs": [
        {
          "output_type": "stream",
          "text": [
            "--2021-07-17 11:12:49--  https://raw.githubusercontent.com/mrdbourke/tensorflow-deep-learning/main/extras/helper_functions.py\n",
            "Resolving raw.githubusercontent.com (raw.githubusercontent.com)... 185.199.108.133, 185.199.109.133, 185.199.110.133, ...\n",
            "Connecting to raw.githubusercontent.com (raw.githubusercontent.com)|185.199.108.133|:443... connected.\n",
            "HTTP request sent, awaiting response... 200 OK\n",
            "Length: 10246 (10K) [text/plain]\n",
            "Saving to: ‘helper_functions.py’\n",
            "\n",
            "\rhelper_functions.py   0%[                    ]       0  --.-KB/s               \rhelper_functions.py 100%[===================>]  10.01K  --.-KB/s    in 0s      \n",
            "\n",
            "2021-07-17 11:12:49 (91.1 MB/s) - ‘helper_functions.py’ saved [10246/10246]\n",
            "\n"
          ],
          "name": "stdout"
        }
      ]
    },
    {
      "cell_type": "code",
      "metadata": {
        "id": "bKrAIS7lKzYG"
      },
      "source": [
        "#Import helper functions we´re going to use in this notebook\n",
        "from helper_functions import create_tensorboard_callback, plot_loss_curves, unzip_data, walk_through_dir"
      ],
      "execution_count": 4,
      "outputs": []
    },
    {
      "cell_type": "markdown",
      "metadata": {
        "id": "RoA69kTlLrFP"
      },
      "source": [
        "## Let´s get some data\n",
        "\n",
        "This time weé going to see how we can use the pretrained models with tf.keras.applications ans apply them to out own problem."
      ]
    },
    {
      "cell_type": "code",
      "metadata": {
        "colab": {
          "base_uri": "https://localhost:8080/"
        },
        "id": "X4vz0e1YLNY-",
        "outputId": "1e4ea1f2-6920-4996-8196-0c7e33c5aed9"
      },
      "source": [
        "#get 10% of training data from 10_food_classes_10_percent\n",
        "!wget https://storage.googleapis.com/ztm_tf_course/food_vision/10_food_classes_10_percent.zip"
      ],
      "execution_count": 9,
      "outputs": [
        {
          "output_type": "stream",
          "text": [
            "--2021-07-17 11:20:24--  https://storage.googleapis.com/ztm_tf_course/food_vision/10_food_classes_10_percent.zip\n",
            "Resolving storage.googleapis.com (storage.googleapis.com)... 172.217.12.240, 172.217.15.112, 172.217.164.144, ...\n",
            "Connecting to storage.googleapis.com (storage.googleapis.com)|172.217.12.240|:443... connected.\n",
            "HTTP request sent, awaiting response... 200 OK\n",
            "Length: 168546183 (161M) [application/zip]\n",
            "Saving to: ‘10_food_classes_10_percent.zip’\n",
            "\n",
            "10_food_classes_10_ 100%[===================>] 160.74M   141MB/s    in 1.1s    \n",
            "\n",
            "2021-07-17 11:20:26 (141 MB/s) - ‘10_food_classes_10_percent.zip’ saved [168546183/168546183]\n",
            "\n"
          ],
          "name": "stdout"
        }
      ]
    },
    {
      "cell_type": "code",
      "metadata": {
        "id": "OTQ8mFjFMNpj"
      },
      "source": [
        "#Unzip data using the helper function\n",
        "unzip_data(\"10_food_classes_10_percent.zip\")"
      ],
      "execution_count": 10,
      "outputs": []
    },
    {
      "cell_type": "code",
      "metadata": {
        "colab": {
          "base_uri": "https://localhost:8080/"
        },
        "id": "RHB0fVHAMoEG",
        "outputId": "9d12cdc4-7618-4d4f-dd2f-9a17a67995d5"
      },
      "source": [
        "#Check out how many images and subdirectories are in our dataset \n",
        "walk_through_dir(\"10_food_classes_10_percent\")"
      ],
      "execution_count": 13,
      "outputs": [
        {
          "output_type": "stream",
          "text": [
            "There are 2 directories and 0 images in '10_food_classes_10_percent'.\n",
            "There are 10 directories and 0 images in '10_food_classes_10_percent/test'.\n",
            "There are 0 directories and 250 images in '10_food_classes_10_percent/test/hamburger'.\n",
            "There are 0 directories and 250 images in '10_food_classes_10_percent/test/grilled_salmon'.\n",
            "There are 0 directories and 250 images in '10_food_classes_10_percent/test/pizza'.\n",
            "There are 0 directories and 250 images in '10_food_classes_10_percent/test/chicken_curry'.\n",
            "There are 0 directories and 250 images in '10_food_classes_10_percent/test/sushi'.\n",
            "There are 0 directories and 250 images in '10_food_classes_10_percent/test/ice_cream'.\n",
            "There are 0 directories and 250 images in '10_food_classes_10_percent/test/fried_rice'.\n",
            "There are 0 directories and 250 images in '10_food_classes_10_percent/test/chicken_wings'.\n",
            "There are 0 directories and 250 images in '10_food_classes_10_percent/test/steak'.\n",
            "There are 0 directories and 250 images in '10_food_classes_10_percent/test/ramen'.\n",
            "There are 10 directories and 0 images in '10_food_classes_10_percent/train'.\n",
            "There are 0 directories and 75 images in '10_food_classes_10_percent/train/hamburger'.\n",
            "There are 0 directories and 75 images in '10_food_classes_10_percent/train/grilled_salmon'.\n",
            "There are 0 directories and 75 images in '10_food_classes_10_percent/train/pizza'.\n",
            "There are 0 directories and 75 images in '10_food_classes_10_percent/train/chicken_curry'.\n",
            "There are 0 directories and 75 images in '10_food_classes_10_percent/train/sushi'.\n",
            "There are 0 directories and 75 images in '10_food_classes_10_percent/train/ice_cream'.\n",
            "There are 0 directories and 75 images in '10_food_classes_10_percent/train/fried_rice'.\n",
            "There are 0 directories and 75 images in '10_food_classes_10_percent/train/chicken_wings'.\n",
            "There are 0 directories and 75 images in '10_food_classes_10_percent/train/steak'.\n",
            "There are 0 directories and 75 images in '10_food_classes_10_percent/train/ramen'.\n"
          ],
          "name": "stdout"
        }
      ]
    },
    {
      "cell_type": "code",
      "metadata": {
        "id": "3vn5rQpIMuTK"
      },
      "source": [
        "#Create training an test directory paths\n",
        "train_dir = \"10_food_classes_10_percent/train\"\n",
        "test_dir = \"10_food_classes_10_percent/test\""
      ],
      "execution_count": 14,
      "outputs": []
    },
    {
      "cell_type": "code",
      "metadata": {
        "colab": {
          "base_uri": "https://localhost:8080/"
        },
        "id": "FKHXViV-NBTP",
        "outputId": "8e0d4a15-a6c2-4e04-8a86-5c33bd69e02f"
      },
      "source": [
        "import tensorflow as tf\n",
        "from tensorflow.keras.preprocessing import image_dataset_from_directory\n",
        "\n",
        "IMG_SIZE = (224,224)\n",
        "BATCH_SIZE=32\n",
        "train_data_10_percent = image_dataset_from_directory(train_dir,\n",
        "                                                     image_size=IMG_SIZE,\n",
        "                                                     label_mode=\"categorical\",\n",
        "                                                     batch_size=BATCH_SIZE)\n",
        "\n",
        "test_data_10_percent = image_dataset_from_directory(test_dir,\n",
        "                                                    image_size=IMG_SIZE,\n",
        "                                                    label_mode=\"categorical\",\n",
        "                                                    batch_size=BATCH_SIZE)"
      ],
      "execution_count": 19,
      "outputs": [
        {
          "output_type": "stream",
          "text": [
            "Found 750 files belonging to 10 classes.\n",
            "Found 2500 files belonging to 10 classes.\n"
          ],
          "name": "stdout"
        }
      ]
    },
    {
      "cell_type": "code",
      "metadata": {
        "colab": {
          "base_uri": "https://localhost:8080/"
        },
        "id": "xHPPZ5b4Nt92",
        "outputId": "b4338cb7-ab68-4606-be38-3bf523add3c9"
      },
      "source": [
        "train_data_10_percent"
      ],
      "execution_count": 20,
      "outputs": [
        {
          "output_type": "execute_result",
          "data": {
            "text/plain": [
              "<BatchDataset shapes: ((None, 224, 224, 3), (None, 10)), types: (tf.float32, tf.float32)>"
            ]
          },
          "metadata": {
            "tags": []
          },
          "execution_count": 20
        }
      ]
    },
    {
      "cell_type": "code",
      "metadata": {
        "colab": {
          "base_uri": "https://localhost:8080/"
        },
        "id": "4l_UDAIVOhub",
        "outputId": "0c94c513-3132-456f-e071-3bf11a8557c6"
      },
      "source": [
        "#Check out the class names of our dataset\n",
        "train_data_10_percent.class_names"
      ],
      "execution_count": 21,
      "outputs": [
        {
          "output_type": "execute_result",
          "data": {
            "text/plain": [
              "['chicken_curry',\n",
              " 'chicken_wings',\n",
              " 'fried_rice',\n",
              " 'grilled_salmon',\n",
              " 'hamburger',\n",
              " 'ice_cream',\n",
              " 'pizza',\n",
              " 'ramen',\n",
              " 'steak',\n",
              " 'sushi']"
            ]
          },
          "metadata": {
            "tags": []
          },
          "execution_count": 21
        }
      ]
    },
    {
      "cell_type": "code",
      "metadata": {
        "colab": {
          "base_uri": "https://localhost:8080/"
        },
        "id": "bDZEGanUPFr6",
        "outputId": "3730b64f-7a88-4557-8ad6-e4474af76d9b"
      },
      "source": [
        "#see an example of a batch of data\n",
        "for images, labels in train_data_10_percent.take(1):\n",
        "  print(images, labels)"
      ],
      "execution_count": 26,
      "outputs": [
        {
          "output_type": "stream",
          "text": [
            "tf.Tensor(\n",
            "[[[[2.47000000e+02 2.34000000e+02 2.18000000e+02]\n",
            "   [2.47000000e+02 2.34000000e+02 2.18000000e+02]\n",
            "   [2.47000000e+02 2.34000000e+02 2.18000000e+02]\n",
            "   ...\n",
            "   [2.47000000e+02 2.34000000e+02 2.18000000e+02]\n",
            "   [2.47000000e+02 2.34000000e+02 2.18000000e+02]\n",
            "   [2.47000000e+02 2.34000000e+02 2.18000000e+02]]\n",
            "\n",
            "  [[2.47000000e+02 2.34000000e+02 2.18000000e+02]\n",
            "   [2.47000000e+02 2.34000000e+02 2.18000000e+02]\n",
            "   [2.47000000e+02 2.34000000e+02 2.18000000e+02]\n",
            "   ...\n",
            "   [2.47000000e+02 2.34000000e+02 2.18000000e+02]\n",
            "   [2.47000000e+02 2.34000000e+02 2.18000000e+02]\n",
            "   [2.47000000e+02 2.34000000e+02 2.18000000e+02]]\n",
            "\n",
            "  [[2.47000000e+02 2.34000000e+02 2.18000000e+02]\n",
            "   [2.47000000e+02 2.34000000e+02 2.18000000e+02]\n",
            "   [2.47000000e+02 2.34000000e+02 2.18000000e+02]\n",
            "   ...\n",
            "   [2.47000000e+02 2.34000000e+02 2.18000000e+02]\n",
            "   [2.47000000e+02 2.34000000e+02 2.18000000e+02]\n",
            "   [2.47000000e+02 2.34000000e+02 2.18000000e+02]]\n",
            "\n",
            "  ...\n",
            "\n",
            "  [[2.47000000e+02 2.34000000e+02 2.18000000e+02]\n",
            "   [2.47000000e+02 2.34000000e+02 2.18000000e+02]\n",
            "   [2.47000000e+02 2.34000000e+02 2.18000000e+02]\n",
            "   ...\n",
            "   [2.47000000e+02 2.34000000e+02 2.18000000e+02]\n",
            "   [2.47000000e+02 2.34000000e+02 2.18000000e+02]\n",
            "   [2.47000000e+02 2.34000000e+02 2.18000000e+02]]\n",
            "\n",
            "  [[2.47000000e+02 2.34000000e+02 2.18000000e+02]\n",
            "   [2.47000000e+02 2.34000000e+02 2.18000000e+02]\n",
            "   [2.47000000e+02 2.34000000e+02 2.18000000e+02]\n",
            "   ...\n",
            "   [2.47000000e+02 2.34000000e+02 2.18000000e+02]\n",
            "   [2.47000000e+02 2.34000000e+02 2.18000000e+02]\n",
            "   [2.47000000e+02 2.34000000e+02 2.18000000e+02]]\n",
            "\n",
            "  [[2.47000000e+02 2.34000000e+02 2.18000000e+02]\n",
            "   [2.47000000e+02 2.34000000e+02 2.18000000e+02]\n",
            "   [2.47000000e+02 2.34000000e+02 2.18000000e+02]\n",
            "   ...\n",
            "   [2.47000000e+02 2.34000000e+02 2.18000000e+02]\n",
            "   [2.47000000e+02 2.34000000e+02 2.18000000e+02]\n",
            "   [2.47000000e+02 2.34000000e+02 2.18000000e+02]]]\n",
            "\n",
            "\n",
            " [[[2.00000000e+00 2.00000000e+00 2.00000000e+00]\n",
            "   [1.04591823e+00 1.04591823e+00 1.04591823e+00]\n",
            "   [3.57142806e-01 3.57142806e-01 2.35714293e+00]\n",
            "   ...\n",
            "   [1.00000000e+00 1.00000000e+00 3.00000000e+00]\n",
            "   [1.00000000e+00 1.00000000e+00 3.00000000e+00]\n",
            "   [1.00000000e+00 1.00000000e+00 3.00000000e+00]]\n",
            "\n",
            "  [[3.02551007e+00 3.02551007e+00 3.02551007e+00]\n",
            "   [1.07142830e+00 1.07142830e+00 1.07142830e+00]\n",
            "   [0.00000000e+00 0.00000000e+00 4.28571701e-01]\n",
            "   ...\n",
            "   [1.00000000e+00 1.00000000e+00 3.00000000e+00]\n",
            "   [1.00000000e+00 1.00000000e+00 3.00000000e+00]\n",
            "   [1.00000000e+00 1.00000000e+00 3.00000000e+00]]\n",
            "\n",
            "  [[1.57142866e+00 1.57142866e+00 1.14285696e+00]\n",
            "   [1.01530612e+00 1.01530612e+00 1.01530612e+00]\n",
            "   [1.16836739e+00 1.16836739e+00 1.16836739e+00]\n",
            "   ...\n",
            "   [1.00000000e+00 1.00000000e+00 3.00000000e+00]\n",
            "   [1.00000000e+00 1.00000000e+00 3.00000000e+00]\n",
            "   [1.00000000e+00 1.00000000e+00 3.00000000e+00]]\n",
            "\n",
            "  ...\n",
            "\n",
            "  [[1.64285278e+01 1.64285278e+01 1.80000000e+01]\n",
            "   [1.72142639e+01 1.72142639e+01 1.87857361e+01]\n",
            "   [1.60458927e+01 1.60458927e+01 1.72806206e+01]\n",
            "   ...\n",
            "   [1.02816429e+02 1.07005280e+02 1.04153137e+02]\n",
            "   [6.02803459e+01 6.52803421e+01 6.12803459e+01]\n",
            "   [4.59833908e+01 5.09833908e+01 4.69833908e+01]]\n",
            "\n",
            "  [[1.60000000e+01 1.60000000e+01 1.80000000e+01]\n",
            "   [1.60663395e+01 1.60663395e+01 1.80663395e+01]\n",
            "   [1.57857141e+01 1.57857141e+01 1.77857132e+01]\n",
            "   ...\n",
            "   [6.55095139e+01 6.90809860e+01 6.76524582e+01]\n",
            "   [6.13821907e+01 6.53821945e+01 6.43821945e+01]\n",
            "   [2.59953785e+01 2.99953785e+01 2.89953785e+01]]\n",
            "\n",
            "  [[1.56428223e+01 1.46428223e+01 1.96428223e+01]\n",
            "   [1.59744873e+01 1.49744873e+01 1.99744873e+01]\n",
            "   [1.49234619e+01 1.49234619e+01 1.69234619e+01]\n",
            "   ...\n",
            "   [4.39690857e+01 4.75405579e+01 4.61120300e+01]\n",
            "   [3.97086983e+01 4.37086983e+01 4.27086983e+01]\n",
            "   [4.11387863e+01 4.51387863e+01 4.61387863e+01]]]\n",
            "\n",
            "\n",
            " [[[1.60647964e+02 1.46647964e+02 1.19647957e+02]\n",
            "   [1.42265305e+02 1.27311226e+02 1.04173470e+02]\n",
            "   [1.40846939e+02 1.24489799e+02 1.02285713e+02]\n",
            "   ...\n",
            "   [1.91429443e+01 3.47093239e+01 1.21480169e+01]\n",
            "   [2.32398014e+01 4.15510178e+01 1.85459652e+01]\n",
            "   [2.89695168e+01 4.60970459e+01 3.10410156e+01]]\n",
            "\n",
            "  [[1.49857147e+02 1.35857147e+02 1.06948975e+02]\n",
            "   [1.50035721e+02 1.34964294e+02 1.06244896e+02]\n",
            "   [1.47147949e+02 1.30403061e+02 9.98622437e+01]\n",
            "   ...\n",
            "   [2.21582279e+01 3.18572521e+01 7.37251282e+00]\n",
            "   [2.97907906e+01 4.20050888e+01 2.02092228e+01]\n",
            "   [3.12807446e+01 4.34236031e+01 2.99236717e+01]]\n",
            "\n",
            "  [[1.71989792e+02 1.57698990e+02 1.22071434e+02]\n",
            "   [1.60836731e+02 1.45892853e+02 1.06178566e+02]\n",
            "   [1.60494888e+02 1.43020416e+02 9.83061218e+01]\n",
            "   ...\n",
            "   [2.39491005e+01 3.40716019e+01 1.11430101e+01]\n",
            "   [3.88010483e+01 5.29592285e+01 3.61735802e+01]\n",
            "   [5.72861671e+01 7.22097015e+01 6.49954834e+01]]\n",
            "\n",
            "  ...\n",
            "\n",
            "  [[1.60596924e+02 1.49168396e+02 1.44872574e+02]\n",
            "   [1.42923447e+02 1.29112305e+02 1.20811333e+02]\n",
            "   [1.28785736e+02 1.11739845e+02 1.00714371e+02]\n",
            "   ...\n",
            "   [8.97808228e+01 7.53777084e+01 9.71123199e+01]\n",
            "   [9.50868073e+01 7.69592361e+01 8.86989899e+01]\n",
            "   [9.70001831e+01 7.64185638e+01 7.94235916e+01]]\n",
            "\n",
            "  [[1.46857162e+02 1.40571457e+02 1.45857208e+02]\n",
            "   [1.30045975e+02 1.21255196e+02 1.22484802e+02]\n",
            "   [1.27168396e+02 1.15898018e+02 1.09311295e+02]\n",
            "   ...\n",
            "   [8.91582489e+01 7.53725128e+01 9.24592056e+01]\n",
            "   [9.62143250e+01 7.80714417e+01 9.00051041e+01]\n",
            "   [9.37346725e+01 7.26887436e+01 8.11632004e+01]]\n",
            "\n",
            "  [[1.62531082e+02 1.59403519e+02 1.70786209e+02]\n",
            "   [1.61403687e+02 1.55781265e+02 1.60735413e+02]\n",
            "   [1.41418625e+02 1.31765625e+02 1.28908478e+02]\n",
            "   ...\n",
            "   [1.07622864e+02 9.40513916e+01 1.07112595e+02]\n",
            "   [1.11566544e+02 9.34236603e+01 1.05423660e+02]\n",
            "   [1.03556290e+02 8.15562897e+01 9.35562897e+01]]]\n",
            "\n",
            "\n",
            " ...\n",
            "\n",
            "\n",
            " [[[7.01173477e+01 9.74744949e+01 1.19545921e+02]\n",
            "   [7.23826523e+01 9.97397995e+01 1.21811226e+02]\n",
            "   [6.46683655e+01 9.06785736e+01 1.16454086e+02]\n",
            "   ...\n",
            "   [6.70917177e+00 1.17091722e+01 7.28058290e+00]\n",
            "   [5.64285707e+00 1.06428576e+01 4.64285707e+00]\n",
            "   [7.28570986e+00 1.22857103e+01 6.28570986e+00]]\n",
            "\n",
            "  [[9.21377563e+01 1.17280617e+02 1.21780617e+02]\n",
            "   [9.31581650e+01 1.18229591e+02 1.23933678e+02]\n",
            "   [9.49387817e+01 1.17821426e+02 1.28392853e+02]\n",
            "   ...\n",
            "   [7.71427727e+00 1.27142773e+01 6.71427727e+00]\n",
            "   [6.99489927e+00 1.19948988e+01 5.99489927e+00]\n",
            "   [9.64285278e+00 1.46428528e+01 8.64285278e+00]]\n",
            "\n",
            "  [[1.20709190e+02 1.42989792e+02 1.39285721e+02]\n",
            "   [1.19872452e+02 1.42602036e+02 1.37413269e+02]\n",
            "   [1.24734695e+02 1.47239792e+02 1.44857147e+02]\n",
            "   ...\n",
            "   [8.95407104e+00 1.39540710e+01 7.95407104e+00]\n",
            "   [7.07141113e+00 1.20714111e+01 6.07141113e+00]\n",
            "   [7.13775444e+00 1.21377544e+01 6.13775444e+00]]\n",
            "\n",
            "  ...\n",
            "\n",
            "  [[1.80209000e+02 1.80795776e+02 1.37515091e+02]\n",
            "   [1.83423340e+02 1.84295822e+02 1.43336548e+02]\n",
            "   [1.84596893e+02 1.88168335e+02 1.52739716e+02]\n",
            "   ...\n",
            "   [5.80203896e+01 9.73975945e+00 3.21423340e+00]\n",
            "   [5.38877487e+01 6.67348480e+00 1.10201275e+00]\n",
            "   [5.12754211e+01 5.63262749e+00 8.46891463e-01]]\n",
            "\n",
            "  [[1.68413284e+02 1.73622482e+02 1.23147972e+02]\n",
            "   [1.75617401e+02 1.81683731e+02 1.33760223e+02]\n",
            "   [1.80602020e+02 1.85816299e+02 1.44928528e+02]\n",
            "   ...\n",
            "   [6.31887512e+01 9.27042675e+00 2.08672071e+00]\n",
            "   [5.90867157e+01 9.93366051e+00 2.92855835e+00]\n",
            "   [5.47142944e+01 7.66326427e+00 1.68877923e+00]]\n",
            "\n",
            "  [[1.61096664e+02 1.70096664e+02 1.14637436e+02]\n",
            "   [1.73902878e+02 1.82234543e+02 1.30714081e+02]\n",
            "   [1.70137573e+02 1.75780426e+02 1.33066147e+02]\n",
            "   ...\n",
            "   [6.75765991e+01 1.10051908e+01 1.87250686e+00]\n",
            "   [5.86478081e+01 8.29075241e+00 9.59081531e-01]\n",
            "   [5.55153198e+01 6.26018810e+00 1.51531827e+00]]]\n",
            "\n",
            "\n",
            " [[[5.35408173e+01 1.65408173e+01 7.54081631e+00]\n",
            "   [5.36632652e+01 1.56632652e+01 6.66326523e+00]\n",
            "   [5.49234695e+01 1.69234695e+01 7.92346907e+00]\n",
            "   ...\n",
            "   [2.37857361e+01 1.00000000e+01 1.21426392e+00]\n",
            "   [2.81888103e+01 1.11888103e+01 3.18881011e+00]\n",
            "   [2.85713234e+01 1.15713243e+01 3.57132387e+00]]\n",
            "\n",
            "  [[5.18316307e+01 1.38316326e+01 2.83163190e+00]\n",
            "   [5.30816307e+01 1.50816326e+01 4.08163214e+00]\n",
            "   [5.11581650e+01 1.31581640e+01 2.15816355e+00]\n",
            "   ...\n",
            "   [2.45867767e+01 1.08010406e+01 2.01530457e+00]\n",
            "   [2.72857533e+01 1.02857533e+01 2.28575325e+00]\n",
            "   [2.83315601e+01 1.13315601e+01 3.33156013e+00]]\n",
            "\n",
            "  [[5.48520432e+01 1.64234676e+01 5.63775539e+00]\n",
            "   [5.35714302e+01 1.51428576e+01 4.35714340e+00]\n",
            "   [5.53265305e+01 1.51887751e+01 5.23469353e+00]\n",
            "   ...\n",
            "   [2.45714951e+01 1.07857580e+01 2.00002193e+00]\n",
            "   [2.51428833e+01 8.14288330e+00 1.42883301e-01]\n",
            "   [2.76428223e+01 1.06428223e+01 2.64282227e+00]]\n",
            "\n",
            "  ...\n",
            "\n",
            "  [[2.12092342e+01 8.20923519e+00 2.80619979e-01]\n",
            "   [1.91989594e+01 6.19895935e+00 0.00000000e+00]\n",
            "   [2.03826141e+01 7.38261414e+00 3.36722314e-01]\n",
            "   ...\n",
            "   [4.21426392e+00 5.96882701e-01 0.00000000e+00]\n",
            "   [3.27039814e+00 2.27039814e+00 0.00000000e+00]\n",
            "   [2.78055596e+00 1.78055584e+00 0.00000000e+00]]\n",
            "\n",
            "  [[1.97857265e+01 9.85716915e+00 0.00000000e+00]\n",
            "   [1.61428699e+01 6.14286995e+00 0.00000000e+00]\n",
            "   [1.92857285e+01 9.28572750e+00 2.85727501e-01]\n",
            "   ...\n",
            "   [4.49996948e+00 7.14233398e-01 0.00000000e+00]\n",
            "   [3.00510383e+00 2.00510383e+00 0.00000000e+00]\n",
            "   [2.66833973e+00 1.66833961e+00 0.00000000e+00]]\n",
            "\n",
            "  [[2.28418846e+01 1.38418837e+01 1.27563462e-01]\n",
            "   [1.94286060e+01 9.42860603e+00 0.00000000e+00]\n",
            "   [2.09234619e+01 1.09234619e+01 1.13774776e+00]\n",
            "   ...\n",
            "   [6.42852783e+00 2.64279175e+00 0.00000000e+00]\n",
            "   [3.40310192e+00 2.40310192e+00 0.00000000e+00]\n",
            "   [4.00000000e+00 3.00000000e+00 0.00000000e+00]]]\n",
            "\n",
            "\n",
            " [[[2.88571434e+01 2.78571434e+01 2.28571434e+01]\n",
            "   [2.90459194e+01 2.80459194e+01 2.30459194e+01]\n",
            "   [1.44795923e+01 1.34795923e+01 8.47959232e+00]\n",
            "   ...\n",
            "   [2.00000000e+00 2.00000000e+00 2.00000000e+00]\n",
            "   [3.00000000e+00 3.00000000e+00 3.00000000e+00]\n",
            "   [3.00000000e+00 3.00000000e+00 3.00000000e+00]]\n",
            "\n",
            "  [[3.05459175e+01 2.95459175e+01 2.45459175e+01]\n",
            "   [2.37397957e+01 2.27397957e+01 1.77397957e+01]\n",
            "   [1.00612249e+01 9.06122494e+00 4.06122494e+00]\n",
            "   ...\n",
            "   [2.00000000e+00 2.00000000e+00 2.00000000e+00]\n",
            "   [2.06633878e+00 2.06633878e+00 2.06633878e+00]\n",
            "   [2.95408416e+00 2.95408416e+00 2.95408416e+00]]\n",
            "\n",
            "  [[3.71020432e+01 3.61020432e+01 3.11020412e+01]\n",
            "   [2.68979588e+01 2.58979588e+01 2.08979588e+01]\n",
            "   [1.53112259e+01 1.43112259e+01 9.31122589e+00]\n",
            "   ...\n",
            "   [1.21428561e+00 1.21428561e+00 1.21428561e+00]\n",
            "   [2.00000000e+00 2.00000000e+00 2.00000000e+00]\n",
            "   [2.07653809e+00 2.07653809e+00 2.07653809e+00]]\n",
            "\n",
            "  ...\n",
            "\n",
            "  [[3.88571510e+01 3.98571510e+01 3.48571510e+01]\n",
            "   [4.10000000e+01 4.20000000e+01 3.70000000e+01]\n",
            "   [4.32142792e+01 4.42142792e+01 3.92142792e+01]\n",
            "   ...\n",
            "   [1.90382645e+02 2.10382645e+02 2.19382645e+02]\n",
            "   [1.89000000e+02 2.09000000e+02 2.18000000e+02]\n",
            "   [1.89214294e+02 2.09214294e+02 2.18214294e+02]]\n",
            "\n",
            "  [[3.96428566e+01 4.06428566e+01 3.56428566e+01]\n",
            "   [4.10000000e+01 4.20000000e+01 3.70000000e+01]\n",
            "   [4.24285736e+01 4.34285736e+01 3.84285736e+01]\n",
            "   ...\n",
            "   [1.89341782e+02 2.09341782e+02 2.18341782e+02]\n",
            "   [1.88071411e+02 2.08071411e+02 2.17071411e+02]\n",
            "   [1.89071411e+02 2.09071411e+02 2.18071411e+02]]\n",
            "\n",
            "  [[3.96428566e+01 4.06428566e+01 3.56428566e+01]\n",
            "   [4.10000000e+01 4.20000000e+01 3.70000000e+01]\n",
            "   [4.24285736e+01 4.34285736e+01 3.84285736e+01]\n",
            "   ...\n",
            "   [1.90576492e+02 2.10576492e+02 2.19576492e+02]\n",
            "   [1.88688782e+02 2.08688782e+02 2.17688782e+02]\n",
            "   [1.90000031e+02 2.10000031e+02 2.19000031e+02]]]], shape=(32, 224, 224, 3), dtype=float32) tf.Tensor(\n",
            "[[0. 0. 0. 0. 0. 0. 0. 0. 0. 1.]\n",
            " [0. 0. 0. 0. 0. 1. 0. 0. 0. 0.]\n",
            " [1. 0. 0. 0. 0. 0. 0. 0. 0. 0.]\n",
            " [0. 0. 0. 0. 0. 0. 0. 0. 0. 1.]\n",
            " [0. 0. 0. 0. 0. 0. 0. 0. 1. 0.]\n",
            " [1. 0. 0. 0. 0. 0. 0. 0. 0. 0.]\n",
            " [0. 0. 0. 0. 0. 0. 1. 0. 0. 0.]\n",
            " [0. 0. 0. 0. 1. 0. 0. 0. 0. 0.]\n",
            " [0. 0. 0. 0. 0. 1. 0. 0. 0. 0.]\n",
            " [0. 0. 0. 0. 1. 0. 0. 0. 0. 0.]\n",
            " [0. 0. 0. 0. 0. 1. 0. 0. 0. 0.]\n",
            " [0. 0. 0. 1. 0. 0. 0. 0. 0. 0.]\n",
            " [0. 0. 0. 0. 0. 0. 1. 0. 0. 0.]\n",
            " [0. 0. 0. 1. 0. 0. 0. 0. 0. 0.]\n",
            " [0. 0. 0. 0. 0. 1. 0. 0. 0. 0.]\n",
            " [1. 0. 0. 0. 0. 0. 0. 0. 0. 0.]\n",
            " [0. 0. 1. 0. 0. 0. 0. 0. 0. 0.]\n",
            " [0. 0. 0. 0. 0. 0. 0. 0. 1. 0.]\n",
            " [0. 0. 0. 0. 0. 0. 0. 0. 1. 0.]\n",
            " [0. 0. 0. 0. 0. 0. 0. 0. 0. 1.]\n",
            " [0. 0. 0. 0. 0. 0. 0. 1. 0. 0.]\n",
            " [0. 0. 0. 0. 1. 0. 0. 0. 0. 0.]\n",
            " [0. 0. 0. 0. 0. 0. 1. 0. 0. 0.]\n",
            " [0. 0. 0. 0. 1. 0. 0. 0. 0. 0.]\n",
            " [0. 0. 0. 0. 0. 0. 1. 0. 0. 0.]\n",
            " [0. 0. 0. 0. 0. 1. 0. 0. 0. 0.]\n",
            " [1. 0. 0. 0. 0. 0. 0. 0. 0. 0.]\n",
            " [0. 0. 0. 0. 0. 1. 0. 0. 0. 0.]\n",
            " [0. 0. 0. 0. 0. 0. 0. 0. 0. 1.]\n",
            " [0. 0. 0. 0. 0. 0. 0. 0. 0. 1.]\n",
            " [0. 0. 0. 0. 0. 1. 0. 0. 0. 0.]\n",
            " [0. 0. 0. 1. 0. 0. 0. 0. 0. 0.]], shape=(32, 10), dtype=float32)\n"
          ],
          "name": "stdout"
        }
      ]
    },
    {
      "cell_type": "code",
      "metadata": {
        "id": "HYLcOHMoPOfV"
      },
      "source": [
        ""
      ],
      "execution_count": null,
      "outputs": []
    }
  ]
}