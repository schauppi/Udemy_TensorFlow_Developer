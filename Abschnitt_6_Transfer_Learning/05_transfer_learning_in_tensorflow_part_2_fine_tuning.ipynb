{
  "nbformat": 4,
  "nbformat_minor": 0,
  "metadata": {
    "colab": {
      "name": "05_transfer_learning_in_tensorflow_part_2_fine_tuning.ipynb",
      "provenance": [],
      "authorship_tag": "ABX9TyPBMmhTGSB8FIoFrD23+A/0",
      "include_colab_link": true
    },
    "kernelspec": {
      "name": "python3",
      "display_name": "Python 3"
    },
    "language_info": {
      "name": "python"
    },
    "accelerator": "GPU"
  },
  "cells": [
    {
      "cell_type": "markdown",
      "metadata": {
        "id": "view-in-github",
        "colab_type": "text"
      },
      "source": [
        "<a href=\"https://colab.research.google.com/github/schauppi/Udemy_TensorFlow_Developer/blob/main/Abschnitt_6_Transfer_Learning/05_transfer_learning_in_tensorflow_part_2_fine_tuning.ipynb\" target=\"_parent\"><img src=\"https://colab.research.google.com/assets/colab-badge.svg\" alt=\"Open In Colab\"/></a>"
      ]
    },
    {
      "cell_type": "markdown",
      "metadata": {
        "id": "qtOy-pE2KDjp"
      },
      "source": [
        "# Transfer Leaning in TensorFlow Part 2: Fine-tuning\n"
      ]
    },
    {
      "cell_type": "code",
      "metadata": {
        "colab": {
          "base_uri": "https://localhost:8080/"
        },
        "id": "p7eHHuQVKKfo",
        "outputId": "5c7ce84c-35d2-44e8-b9bd-f25d8afdf654"
      },
      "source": [
        "!nvidia-smi"
      ],
      "execution_count": 1,
      "outputs": [
        {
          "output_type": "stream",
          "text": [
            "Wed Jul 21 12:08:32 2021       \n",
            "+-----------------------------------------------------------------------------+\n",
            "| NVIDIA-SMI 470.42.01    Driver Version: 460.32.03    CUDA Version: 11.2     |\n",
            "|-------------------------------+----------------------+----------------------+\n",
            "| GPU  Name        Persistence-M| Bus-Id        Disp.A | Volatile Uncorr. ECC |\n",
            "| Fan  Temp  Perf  Pwr:Usage/Cap|         Memory-Usage | GPU-Util  Compute M. |\n",
            "|                               |                      |               MIG M. |\n",
            "|===============================+======================+======================|\n",
            "|   0  Tesla T4            Off  | 00000000:00:04.0 Off |                    0 |\n",
            "| N/A   67C    P8    11W /  70W |      0MiB / 15109MiB |      0%      Default |\n",
            "|                               |                      |                  N/A |\n",
            "+-------------------------------+----------------------+----------------------+\n",
            "                                                                               \n",
            "+-----------------------------------------------------------------------------+\n",
            "| Processes:                                                                  |\n",
            "|  GPU   GI   CI        PID   Type   Process name                  GPU Memory |\n",
            "|        ID   ID                                                   Usage      |\n",
            "|=============================================================================|\n",
            "|  No running processes found                                                 |\n",
            "+-----------------------------------------------------------------------------+\n"
          ],
          "name": "stdout"
        }
      ]
    },
    {
      "cell_type": "markdown",
      "metadata": {
        "id": "xBp8YAXEKU0O"
      },
      "source": [
        "## Creating helper functions"
      ]
    },
    {
      "cell_type": "code",
      "metadata": {
        "colab": {
          "base_uri": "https://localhost:8080/"
        },
        "id": "PT8sxQ__KP0C",
        "outputId": "05ef05bb-c64e-4b26-8aa4-3b85bd3f4418"
      },
      "source": [
        "!wget https://raw.githubusercontent.com/mrdbourke/tensorflow-deep-learning/main/extras/helper_functions.py"
      ],
      "execution_count": 2,
      "outputs": [
        {
          "output_type": "stream",
          "text": [
            "--2021-07-21 12:08:33--  https://raw.githubusercontent.com/mrdbourke/tensorflow-deep-learning/main/extras/helper_functions.py\n",
            "Resolving raw.githubusercontent.com (raw.githubusercontent.com)... 185.199.110.133, 185.199.109.133, 185.199.108.133, ...\n",
            "Connecting to raw.githubusercontent.com (raw.githubusercontent.com)|185.199.110.133|:443... connected.\n",
            "HTTP request sent, awaiting response... 200 OK\n",
            "Length: 10246 (10K) [text/plain]\n",
            "Saving to: ‘helper_functions.py’\n",
            "\n",
            "\rhelper_functions.py   0%[                    ]       0  --.-KB/s               \rhelper_functions.py 100%[===================>]  10.01K  --.-KB/s    in 0s      \n",
            "\n",
            "2021-07-21 12:08:33 (76.5 MB/s) - ‘helper_functions.py’ saved [10246/10246]\n",
            "\n"
          ],
          "name": "stdout"
        }
      ]
    },
    {
      "cell_type": "code",
      "metadata": {
        "id": "bKrAIS7lKzYG"
      },
      "source": [
        "#Import helper functions we´re going to use in this notebook\n",
        "from helper_functions import create_tensorboard_callback, plot_loss_curves, unzip_data, walk_through_dir"
      ],
      "execution_count": 3,
      "outputs": []
    },
    {
      "cell_type": "markdown",
      "metadata": {
        "id": "RoA69kTlLrFP"
      },
      "source": [
        "## Let´s get some data\n",
        "\n",
        "This time weé going to see how we can use the pretrained models with tf.keras.applications ans apply them to out own problem."
      ]
    },
    {
      "cell_type": "code",
      "metadata": {
        "colab": {
          "base_uri": "https://localhost:8080/"
        },
        "id": "X4vz0e1YLNY-",
        "outputId": "45847e87-ca14-4b9b-b1d5-a8413c5fbb0d"
      },
      "source": [
        "#get 10% of training data from 10_food_classes_10_percent\n",
        "!wget https://storage.googleapis.com/ztm_tf_course/food_vision/10_food_classes_10_percent.zip"
      ],
      "execution_count": 4,
      "outputs": [
        {
          "output_type": "stream",
          "text": [
            "--2021-07-21 12:08:35--  https://storage.googleapis.com/ztm_tf_course/food_vision/10_food_classes_10_percent.zip\n",
            "Resolving storage.googleapis.com (storage.googleapis.com)... 74.125.142.128, 172.253.117.128, 74.125.195.128, ...\n",
            "Connecting to storage.googleapis.com (storage.googleapis.com)|74.125.142.128|:443... connected.\n",
            "HTTP request sent, awaiting response... 200 OK\n",
            "Length: 168546183 (161M) [application/zip]\n",
            "Saving to: ‘10_food_classes_10_percent.zip’\n",
            "\n",
            "10_food_classes_10_ 100%[===================>] 160.74M   201MB/s    in 0.8s    \n",
            "\n",
            "2021-07-21 12:08:36 (201 MB/s) - ‘10_food_classes_10_percent.zip’ saved [168546183/168546183]\n",
            "\n"
          ],
          "name": "stdout"
        }
      ]
    },
    {
      "cell_type": "code",
      "metadata": {
        "id": "OTQ8mFjFMNpj"
      },
      "source": [
        "#Unzip data using the helper function\n",
        "unzip_data(\"10_food_classes_10_percent.zip\")"
      ],
      "execution_count": 5,
      "outputs": []
    },
    {
      "cell_type": "code",
      "metadata": {
        "colab": {
          "base_uri": "https://localhost:8080/"
        },
        "id": "RHB0fVHAMoEG",
        "outputId": "d15355a6-4f39-4644-ba9e-a7c01af30ad6"
      },
      "source": [
        "#Check out how many images and subdirectories are in our dataset \n",
        "walk_through_dir(\"10_food_classes_10_percent\")"
      ],
      "execution_count": 6,
      "outputs": [
        {
          "output_type": "stream",
          "text": [
            "There are 2 directories and 0 images in '10_food_classes_10_percent'.\n",
            "There are 10 directories and 0 images in '10_food_classes_10_percent/train'.\n",
            "There are 0 directories and 75 images in '10_food_classes_10_percent/train/chicken_wings'.\n",
            "There are 0 directories and 75 images in '10_food_classes_10_percent/train/sushi'.\n",
            "There are 0 directories and 75 images in '10_food_classes_10_percent/train/steak'.\n",
            "There are 0 directories and 75 images in '10_food_classes_10_percent/train/pizza'.\n",
            "There are 0 directories and 75 images in '10_food_classes_10_percent/train/ice_cream'.\n",
            "There are 0 directories and 75 images in '10_food_classes_10_percent/train/ramen'.\n",
            "There are 0 directories and 75 images in '10_food_classes_10_percent/train/fried_rice'.\n",
            "There are 0 directories and 75 images in '10_food_classes_10_percent/train/chicken_curry'.\n",
            "There are 0 directories and 75 images in '10_food_classes_10_percent/train/grilled_salmon'.\n",
            "There are 0 directories and 75 images in '10_food_classes_10_percent/train/hamburger'.\n",
            "There are 10 directories and 0 images in '10_food_classes_10_percent/test'.\n",
            "There are 0 directories and 250 images in '10_food_classes_10_percent/test/chicken_wings'.\n",
            "There are 0 directories and 250 images in '10_food_classes_10_percent/test/sushi'.\n",
            "There are 0 directories and 250 images in '10_food_classes_10_percent/test/steak'.\n",
            "There are 0 directories and 250 images in '10_food_classes_10_percent/test/pizza'.\n",
            "There are 0 directories and 250 images in '10_food_classes_10_percent/test/ice_cream'.\n",
            "There are 0 directories and 250 images in '10_food_classes_10_percent/test/ramen'.\n",
            "There are 0 directories and 250 images in '10_food_classes_10_percent/test/fried_rice'.\n",
            "There are 0 directories and 250 images in '10_food_classes_10_percent/test/chicken_curry'.\n",
            "There are 0 directories and 250 images in '10_food_classes_10_percent/test/grilled_salmon'.\n",
            "There are 0 directories and 250 images in '10_food_classes_10_percent/test/hamburger'.\n"
          ],
          "name": "stdout"
        }
      ]
    },
    {
      "cell_type": "code",
      "metadata": {
        "id": "3vn5rQpIMuTK"
      },
      "source": [
        "#Create training an test directory paths\n",
        "train_dir = \"10_food_classes_10_percent/train\"\n",
        "test_dir = \"10_food_classes_10_percent/test\""
      ],
      "execution_count": 7,
      "outputs": []
    },
    {
      "cell_type": "code",
      "metadata": {
        "colab": {
          "base_uri": "https://localhost:8080/"
        },
        "id": "FKHXViV-NBTP",
        "outputId": "62875479-f5fe-4d3a-9dbd-49cb9e55c6e9"
      },
      "source": [
        "import tensorflow as tf\n",
        "from tensorflow.keras.preprocessing import image_dataset_from_directory\n",
        "\n",
        "IMG_SIZE = (224,224)\n",
        "BATCH_SIZE=32\n",
        "train_data_10_percent = image_dataset_from_directory(train_dir,\n",
        "                                                     image_size=IMG_SIZE,\n",
        "                                                     label_mode=\"categorical\",\n",
        "                                                     batch_size=BATCH_SIZE)\n",
        "\n",
        "test_data_10_percent = image_dataset_from_directory(test_dir,\n",
        "                                                    image_size=IMG_SIZE,\n",
        "                                                    label_mode=\"categorical\",\n",
        "                                                    batch_size=BATCH_SIZE)"
      ],
      "execution_count": 8,
      "outputs": [
        {
          "output_type": "stream",
          "text": [
            "Found 750 files belonging to 10 classes.\n",
            "Found 2500 files belonging to 10 classes.\n"
          ],
          "name": "stdout"
        }
      ]
    },
    {
      "cell_type": "code",
      "metadata": {
        "colab": {
          "base_uri": "https://localhost:8080/"
        },
        "id": "xHPPZ5b4Nt92",
        "outputId": "cd56a2f1-e8ce-401b-e15b-0de6a2551065"
      },
      "source": [
        "train_data_10_percent"
      ],
      "execution_count": 9,
      "outputs": [
        {
          "output_type": "execute_result",
          "data": {
            "text/plain": [
              "<BatchDataset shapes: ((None, 224, 224, 3), (None, 10)), types: (tf.float32, tf.float32)>"
            ]
          },
          "metadata": {
            "tags": []
          },
          "execution_count": 9
        }
      ]
    },
    {
      "cell_type": "code",
      "metadata": {
        "colab": {
          "base_uri": "https://localhost:8080/"
        },
        "id": "4l_UDAIVOhub",
        "outputId": "85c1584f-4115-40c2-df22-fa77e32c697d"
      },
      "source": [
        "#Check out the class names of our dataset\n",
        "train_data_10_percent.class_names"
      ],
      "execution_count": 10,
      "outputs": [
        {
          "output_type": "execute_result",
          "data": {
            "text/plain": [
              "['chicken_curry',\n",
              " 'chicken_wings',\n",
              " 'fried_rice',\n",
              " 'grilled_salmon',\n",
              " 'hamburger',\n",
              " 'ice_cream',\n",
              " 'pizza',\n",
              " 'ramen',\n",
              " 'steak',\n",
              " 'sushi']"
            ]
          },
          "metadata": {
            "tags": []
          },
          "execution_count": 10
        }
      ]
    },
    {
      "cell_type": "code",
      "metadata": {
        "colab": {
          "base_uri": "https://localhost:8080/"
        },
        "id": "bDZEGanUPFr6",
        "outputId": "41e4ac4f-677b-4389-e659-5bf776b87a41"
      },
      "source": [
        "#see an example of a batch of data\n",
        "for images, labels in train_data_10_percent.take(1):\n",
        "  print(images, labels)"
      ],
      "execution_count": 11,
      "outputs": [
        {
          "output_type": "stream",
          "text": [
            "tf.Tensor(\n",
            "[[[[1.38484695e+02 1.24229591e+02 1.24357140e+02]\n",
            "   [1.37551025e+02 1.25474495e+02 1.27500008e+02]\n",
            "   [1.41642853e+02 1.30642853e+02 1.37071426e+02]\n",
            "   ...\n",
            "   [1.36806229e+02 7.66633682e+01 7.10919342e+01]\n",
            "   [1.23571205e+02 7.72651825e+01 6.48824997e+01]\n",
            "   [8.62853622e+01 5.75712547e+01 3.92854691e+01]]\n",
            "\n",
            "  [[1.33163269e+02 1.16306122e+02 1.16331627e+02]\n",
            "   [1.33005096e+02 1.17852043e+02 1.20714287e+02]\n",
            "   [1.35816330e+02 1.23244896e+02 1.30459183e+02]\n",
            "   ...\n",
            "   [9.15152588e+01 5.30867348e+01 5.65152817e+01]\n",
            "   [7.96835403e+01 5.30356674e+01 5.03111496e+01]\n",
            "   [5.42649956e+01 4.33110542e+01 3.53110161e+01]]\n",
            "\n",
            "  [[1.42214294e+02 1.21928574e+02 1.23071426e+02]\n",
            "   [1.40397949e+02 1.24183678e+02 1.27112251e+02]\n",
            "   [1.40928558e+02 1.28188782e+02 1.35739792e+02]\n",
            "   ...\n",
            "   [5.83366356e+01 4.21683273e+01 5.07397346e+01]\n",
            "   [5.45663376e+01 4.67398682e+01 5.04082108e+01]\n",
            "   [5.12038918e+01 5.11376457e+01 5.01376076e+01]]\n",
            "\n",
            "  ...\n",
            "\n",
            "  [[7.41377640e+01 3.99948845e+01 2.08571262e+01]\n",
            "   [6.82295914e+01 3.51989784e+01 1.61989784e+01]\n",
            "   [6.40000000e+01 3.34285736e+01 1.58571434e+01]\n",
            "   ...\n",
            "   [1.67765320e+02 1.39551056e+02 1.03193848e+02]\n",
            "   [1.69755112e+02 1.43755112e+02 1.06755119e+02]\n",
            "   [1.64994873e+02 1.39209167e+02 1.01566284e+02]]\n",
            "\n",
            "  [[7.61020660e+01 3.91938820e+01 2.01479759e+01]\n",
            "   [7.46531754e+01 3.96531448e+01 2.07194729e+01]\n",
            "   [6.97041855e+01 3.91327591e+01 2.15613308e+01]\n",
            "   ...\n",
            "   [1.71642914e+02 1.43428650e+02 1.07071442e+02]\n",
            "   [1.69999908e+02 1.43999908e+02 1.06999908e+02]\n",
            "   [1.64494888e+02 1.39494888e+02 9.94948883e+01]]\n",
            "\n",
            "  [[7.87857056e+01 4.10153008e+01 2.20153008e+01]\n",
            "   [7.00408401e+01 3.48979874e+01 1.59694157e+01]\n",
            "   [7.56938705e+01 4.48469353e+01 2.68469372e+01]\n",
            "   ...\n",
            "   [1.64714294e+02 1.36500031e+02 1.00142822e+02]\n",
            "   [1.55663269e+02 1.30663269e+02 9.06632614e+01]\n",
            "   [1.59474701e+02 1.34474701e+02 9.44746933e+01]]]\n",
            "\n",
            "\n",
            " [[[2.53826523e+02 2.36372452e+02 2.53698975e+02]\n",
            "   [2.53571426e+02 2.39000000e+02 2.53903061e+02]\n",
            "   [2.53290817e+02 2.43066330e+02 2.54081635e+02]\n",
            "   ...\n",
            "   [2.20443832e+02 1.73801041e+02 1.77015305e+02]\n",
            "   [2.41005096e+02 1.96311264e+02 1.99193893e+02]\n",
            "   [2.48612518e+02 2.09199310e+02 2.10199310e+02]]\n",
            "\n",
            "  [[2.42239807e+02 2.24714279e+02 2.42857147e+02]\n",
            "   [2.41132645e+02 2.27066330e+02 2.42066330e+02]\n",
            "   [2.42913269e+02 2.31285706e+02 2.45071426e+02]\n",
            "   ...\n",
            "   [2.21173264e+02 1.74530472e+02 1.77744736e+02]\n",
            "   [2.15433731e+02 1.70648056e+02 1.73576614e+02]\n",
            "   [2.33857498e+02 1.93857498e+02 1.93857498e+02]]\n",
            "\n",
            "  [[2.45933670e+02 2.32714279e+02 2.45714279e+02]\n",
            "   [2.46500000e+02 2.35928574e+02 2.45785706e+02]\n",
            "   [2.46836731e+02 2.39285706e+02 2.47928558e+02]\n",
            "   ...\n",
            "   [2.27836456e+02 1.81193665e+02 1.83790573e+02]\n",
            "   [2.03459229e+02 1.59403137e+02 1.60816391e+02]\n",
            "   [2.19520645e+02 1.79520645e+02 1.79520645e+02]]\n",
            "\n",
            "  ...\n",
            "\n",
            "  [[1.65607101e+02 1.63392807e+02 1.88035690e+02]\n",
            "   [1.56433670e+02 1.55790787e+02 1.82290802e+02]\n",
            "   [1.51597000e+02 1.51025574e+02 1.82025574e+02]\n",
            "   ...\n",
            "   [1.85448914e+02 1.36448914e+02 1.29448914e+02]\n",
            "   [1.81300949e+02 1.36285645e+02 1.31872421e+02]\n",
            "   [1.80270248e+02 1.36270248e+02 1.33698837e+02]]\n",
            "\n",
            "  [[1.61673462e+02 1.58673462e+02 1.87530640e+02]\n",
            "   [1.54413254e+02 1.51413254e+02 1.80403061e+02]\n",
            "   [1.55999985e+02 1.55428558e+02 1.86428558e+02]\n",
            "   ...\n",
            "   [1.79724289e+02 1.30525330e+02 1.24586655e+02]\n",
            "   [1.80647919e+02 1.32989731e+02 1.31198990e+02]\n",
            "   [1.76596680e+02 1.32596680e+02 1.33453857e+02]]\n",
            "\n",
            "  [[1.58076553e+02 1.55076553e+02 1.86076553e+02]\n",
            "   [1.51127563e+02 1.48127563e+02 1.79127563e+02]\n",
            "   [1.46265335e+02 1.45479614e+02 1.77908188e+02]\n",
            "   ...\n",
            "   [1.79438629e+02 1.30224365e+02 1.24367310e+02]\n",
            "   [1.77811188e+02 1.29954071e+02 1.30096954e+02]\n",
            "   [1.77443695e+02 1.32443695e+02 1.36729401e+02]]]\n",
            "\n",
            "\n",
            " [[[3.15000000e+01 3.18571415e+01 2.25714283e+01]\n",
            "   [2.55714283e+01 2.55714283e+01 1.62857132e+01]\n",
            "   [1.78571415e+01 1.54234686e+01 8.43367290e+00]\n",
            "   ...\n",
            "   [1.22918381e+02 1.26719421e+02 1.25214371e+02]\n",
            "   [1.24357140e+02 1.29071426e+02 1.27714287e+02]\n",
            "   [1.26357178e+02 1.31071457e+02 1.29714325e+02]]\n",
            "\n",
            "  [[2.86173458e+01 2.18316307e+01 1.19030600e+01]\n",
            "   [2.50765305e+01 1.64336720e+01 7.43367195e+00]\n",
            "   [1.87704067e+01 9.91326427e+00 2.84183645e+00]\n",
            "   ...\n",
            "   [1.17714325e+02 1.17857185e+02 1.15898003e+02]\n",
            "   [1.20214294e+02 1.20357155e+02 1.20285728e+02]\n",
            "   [1.24428604e+02 1.24571465e+02 1.22642891e+02]]\n",
            "\n",
            "  [[2.19285698e+01 1.27142859e+01 8.35714340e+00]\n",
            "   [2.01989803e+01 1.09846935e+01 6.62755156e+00]\n",
            "   [1.71683674e+01 7.61734676e+00 3.42857170e+00]\n",
            "   ...\n",
            "   [1.11423523e+02 1.09142853e+02 1.00903076e+02]\n",
            "   [1.14000015e+02 1.10785728e+02 1.02928581e+02]\n",
            "   [1.18642929e+02 1.15428642e+02 1.07571495e+02]]\n",
            "\n",
            "  ...\n",
            "\n",
            "  [[1.25326576e+02 4.13265762e+01 1.48980494e+01]\n",
            "   [1.18673576e+02 3.27041855e+01 5.68888092e+00]\n",
            "   [1.26668373e+02 3.96683731e+01 1.16683712e+01]\n",
            "   ...\n",
            "   [2.00790955e+02 1.84362427e+02 1.05076843e+02]\n",
            "   [2.09122543e+02 1.94908279e+02 1.18734962e+02]\n",
            "   [2.08285797e+02 1.94500061e+02 1.21785950e+02]]\n",
            "\n",
            "  [[1.15076561e+02 3.12908821e+01 3.21944118e+00]\n",
            "   [1.15484558e+02 3.18417702e+01 3.91320944e+00]\n",
            "   [1.19785637e+02 3.60714035e+01 8.17346191e+00]\n",
            "   ...\n",
            "   [2.13040894e+02 1.95826630e+02 1.24969566e+02]\n",
            "   [2.02336792e+02 1.91275558e+02 1.27556221e+02]\n",
            "   [2.07836594e+02 1.98122360e+02 1.37908157e+02]]\n",
            "\n",
            "  [[1.15683556e+02 4.01683006e+01 7.78560877e+00]\n",
            "   [1.03295761e+02 2.70101128e+01 2.80638576e-01]\n",
            "   [1.08944008e+02 3.36583595e+01 8.29103374e+00]\n",
            "   ...\n",
            "   [2.00576340e+02 1.83719254e+02 1.09867203e+02]\n",
            "   [2.03908157e+02 1.93785797e+02 1.27668465e+02]\n",
            "   [2.01127579e+02 1.96301132e+02 1.34428711e+02]]]\n",
            "\n",
            "\n",
            " ...\n",
            "\n",
            "\n",
            " [[[1.77260208e+02 1.04260208e+02 3.62602043e+01]\n",
            "   [1.78051025e+02 1.04051018e+02 3.90510216e+01]\n",
            "   [1.77448975e+02 1.03448982e+02 3.88775520e+01]\n",
            "   ...\n",
            "   [1.52647934e+02 1.18647926e+02 8.32193985e+01]\n",
            "   [1.48142868e+02 1.13142868e+02 8.11428680e+01]\n",
            "   [1.47714218e+02 1.12714218e+02 8.07142181e+01]]\n",
            "\n",
            "  [[1.83285721e+02 1.10285721e+02 4.22857132e+01]\n",
            "   [1.80785721e+02 1.07785721e+02 3.97857170e+01]\n",
            "   [1.84158173e+02 1.10943871e+02 4.35867348e+01]\n",
            "   ...\n",
            "   [1.64658142e+02 1.30658142e+02 9.52296143e+01]\n",
            "   [1.56367325e+02 1.22367325e+02 8.73673248e+01]\n",
            "   [1.52928497e+02 1.18928505e+02 8.39285049e+01]]\n",
            "\n",
            "  [[1.80290817e+02 1.07290817e+02 3.82908173e+01]\n",
            "   [1.80729599e+02 1.07729591e+02 3.87295952e+01]\n",
            "   [1.82214279e+02 1.09214287e+02 4.03826523e+01]\n",
            "   ...\n",
            "   [1.80096939e+02 1.45882660e+02 1.08668373e+02]\n",
            "   [1.71015289e+02 1.36800995e+02 9.94999619e+01]\n",
            "   [1.68076508e+02 1.33862213e+02 9.62142181e+01]]\n",
            "\n",
            "  ...\n",
            "\n",
            "  [[1.41194046e+02 8.56225662e+01 3.88368301e+01]\n",
            "   [1.36826553e+02 8.26581879e+01 3.67143097e+01]\n",
            "   [1.36301102e+02 8.25153656e+01 3.72806396e+01]\n",
            "   ...\n",
            "   [2.14377701e+02 1.91331802e+02 1.60469528e+02]\n",
            "   [2.17744965e+02 1.93173492e+02 1.62173492e+02]\n",
            "   [2.21352036e+02 1.96780563e+02 1.65780563e+02]]\n",
            "\n",
            "  [[1.43545944e+02 8.55459442e+01 3.95459366e+01]\n",
            "   [1.41933670e+02 8.56581421e+01 3.87959061e+01]\n",
            "   [1.42117310e+02 8.57142334e+01 4.05152550e+01]\n",
            "   ...\n",
            "   [2.19612305e+02 1.95040833e+02 1.64040833e+02]\n",
            "   [2.17270462e+02 1.92270462e+02 1.61270462e+02]\n",
            "   [2.20831696e+02 1.96831696e+02 1.62831696e+02]]\n",
            "\n",
            "  [[1.54699127e+02 9.66991348e+01 4.86991310e+01]\n",
            "   [1.46188873e+02 8.81888733e+01 4.21888771e+01]\n",
            "   [1.41566605e+02 8.47910309e+01 3.85002441e+01]\n",
            "   ...\n",
            "   [2.17300995e+02 1.92729523e+02 1.61729523e+02]\n",
            "   [2.22719254e+02 1.98719254e+02 1.64719254e+02]\n",
            "   [2.19326691e+02 1.95326691e+02 1.61326691e+02]]]\n",
            "\n",
            "\n",
            " [[[3.35714293e+00 3.35714293e+00 3.35714293e+00]\n",
            "   [3.35714293e+00 3.35714293e+00 3.35714293e+00]\n",
            "   [3.35714293e+00 3.35714293e+00 3.35714293e+00]\n",
            "   ...\n",
            "   [4.06427917e+01 1.42852783e+00 3.92347717e+00]\n",
            "   [3.24999733e+01 6.42857194e-01 1.57141554e+00]\n",
            "   [2.96428566e+01 6.42857194e-01 2.64285707e+00]]\n",
            "\n",
            "  [[3.92857170e+00 3.92857170e+00 3.92857170e+00]\n",
            "   [3.92857170e+00 3.92857170e+00 3.92857170e+00]\n",
            "   [3.92857170e+00 3.92857170e+00 3.92857170e+00]\n",
            "   ...\n",
            "   [3.86427917e+01 2.00000000e+00 3.78573608e+00]\n",
            "   [3.47193642e+01 2.86224627e+00 5.79080486e+00]\n",
            "   [3.19285717e+01 2.92857170e+00 4.92857170e+00]]\n",
            "\n",
            "  [[6.00000000e+00 6.00000000e+00 6.00000000e+00]\n",
            "   [6.00000000e+00 6.00000000e+00 6.00000000e+00]\n",
            "   [6.00000000e+00 6.00000000e+00 6.00000000e+00]\n",
            "   ...\n",
            "   [3.90000000e+01 4.66329956e+00 5.49494934e+00]\n",
            "   [3.51989784e+01 5.19897699e+00 7.19897699e+00]\n",
            "   [3.39234619e+01 3.92346191e+00 5.92346191e+00]]\n",
            "\n",
            "  ...\n",
            "\n",
            "  [[1.10566269e+02 1.59785629e+02 1.87571304e+02]\n",
            "   [1.09642815e+02 1.59658096e+02 1.87158051e+02]\n",
            "   [1.11811188e+02 1.61428513e+02 1.89071320e+02]\n",
            "   ...\n",
            "   [0.00000000e+00 3.00000000e+00 1.49493527e+00]\n",
            "   [0.00000000e+00 3.01530743e+00 1.01530743e+00]\n",
            "   [0.00000000e+00 4.00000000e+00 2.00000000e+00]]\n",
            "\n",
            "  [[1.11000000e+02 1.54785675e+02 1.81857117e+02]\n",
            "   [1.05285713e+02 1.50994873e+02 1.77005051e+02]\n",
            "   [1.10857147e+02 1.56316315e+02 1.80984680e+02]\n",
            "   ...\n",
            "   [1.98956549e-01 2.12751484e+00 0.00000000e+00]\n",
            "   [0.00000000e+00 1.93366230e+00 9.33662236e-01]\n",
            "   [0.00000000e+00 2.42861938e+00 1.42861938e+00]]\n",
            "\n",
            "  [[1.06316200e+02 1.46316193e+02 1.72316193e+02]\n",
            "   [1.07423492e+02 1.48617310e+02 1.73066315e+02]\n",
            "   [1.11198959e+02 1.52637680e+02 1.76918320e+02]\n",
            "   ...\n",
            "   [2.86241889e+00 3.07668281e+00 1.27565038e+00]\n",
            "   [3.57177734e-01 2.35717773e+00 1.35717773e+00]\n",
            "   [6.42822266e-01 1.64282227e+00 3.64282227e+00]]]\n",
            "\n",
            "\n",
            " [[[1.37897949e+02 5.76989784e+01 4.25969391e+01]\n",
            "   [1.39581635e+02 6.75357208e+01 5.00102043e+01]\n",
            "   [1.54989792e+02 8.88469391e+01 7.09948959e+01]\n",
            "   ...\n",
            "   [3.36376991e+01 3.12805538e+01 2.03519840e+01]\n",
            "   [3.36173935e+01 3.36173935e+01 2.36173954e+01]\n",
            "   [3.88724709e+01 3.88724709e+01 2.93316307e+01]]\n",
            "\n",
            "  [[1.39897949e+02 5.69030609e+01 3.92346954e+01]\n",
            "   [1.29647964e+02 5.42857132e+01 3.51530609e+01]\n",
            "   [1.41255112e+02 6.97397919e+01 5.02091866e+01]\n",
            "   ...\n",
            "   [3.74132233e+01 3.43417931e+01 2.76275082e+01]\n",
            "   [3.50663376e+01 3.49949112e+01 2.72806244e+01]\n",
            "   [3.59285698e+01 3.52602348e+01 2.93366699e+01]]\n",
            "\n",
            "  [[1.43632660e+02 5.63469391e+01 3.71377563e+01]\n",
            "   [1.36459183e+02 5.85867348e+01 3.57602043e+01]\n",
            "   [1.36632660e+02 6.13520393e+01 3.86122437e+01]\n",
            "   ...\n",
            "   [3.84489937e+01 3.44489937e+01 3.30204201e+01]\n",
            "   [3.65714302e+01 3.55714302e+01 3.31428566e+01]\n",
            "   [3.57857132e+01 3.47857132e+01 3.23571434e+01]]\n",
            "\n",
            "  ...\n",
            "\n",
            "  [[1.74214294e+02 1.80000000e+02 1.76000000e+02]\n",
            "   [1.74214294e+02 1.80000000e+02 1.76000000e+02]\n",
            "   [1.73168381e+02 1.78954086e+02 1.74954086e+02]\n",
            "   ...\n",
            "   [1.41954086e+02 9.00918274e+01 5.10459137e+01]\n",
            "   [1.41515274e+02 8.94846573e+01 4.97142639e+01]\n",
            "   [1.39785706e+02 8.73571167e+01 4.77857056e+01]]\n",
            "\n",
            "  [[1.74071411e+02 1.79071411e+02 1.75071411e+02]\n",
            "   [1.74071411e+02 1.79071411e+02 1.75071411e+02]\n",
            "   [1.72857132e+02 1.77857132e+02 1.73857132e+02]\n",
            "   ...\n",
            "   [1.41586777e+02 9.02295685e+01 5.10153008e+01]\n",
            "   [1.40000000e+02 8.59999390e+01 4.81326485e+01]\n",
            "   [1.39596924e+02 8.09539719e+01 4.73316727e+01]]\n",
            "\n",
            "  [[1.72071442e+02 1.74071442e+02 1.69071442e+02]\n",
            "   [1.71739807e+02 1.73739807e+02 1.68739807e+02]\n",
            "   [1.69857162e+02 1.71857162e+02 1.66857162e+02]\n",
            "   ...\n",
            "   [1.39591980e+02 8.85102539e+01 5.00307350e+01]\n",
            "   [1.45433624e+02 8.72856445e+01 5.43621902e+01]\n",
            "   [1.41056030e+02 7.57703247e+01 4.90560303e+01]]]], shape=(32, 224, 224, 3), dtype=float32) tf.Tensor(\n",
            "[[0. 1. 0. 0. 0. 0. 0. 0. 0. 0.]\n",
            " [0. 1. 0. 0. 0. 0. 0. 0. 0. 0.]\n",
            " [0. 0. 0. 1. 0. 0. 0. 0. 0. 0.]\n",
            " [0. 1. 0. 0. 0. 0. 0. 0. 0. 0.]\n",
            " [0. 0. 0. 0. 0. 0. 0. 0. 1. 0.]\n",
            " [0. 0. 0. 0. 0. 0. 0. 0. 0. 1.]\n",
            " [0. 1. 0. 0. 0. 0. 0. 0. 0. 0.]\n",
            " [0. 0. 1. 0. 0. 0. 0. 0. 0. 0.]\n",
            " [0. 0. 0. 0. 0. 0. 1. 0. 0. 0.]\n",
            " [0. 0. 0. 1. 0. 0. 0. 0. 0. 0.]\n",
            " [0. 0. 0. 0. 0. 0. 0. 0. 1. 0.]\n",
            " [0. 1. 0. 0. 0. 0. 0. 0. 0. 0.]\n",
            " [0. 0. 0. 0. 0. 0. 0. 0. 0. 1.]\n",
            " [0. 0. 0. 0. 0. 0. 0. 1. 0. 0.]\n",
            " [0. 0. 0. 0. 0. 0. 1. 0. 0. 0.]\n",
            " [0. 1. 0. 0. 0. 0. 0. 0. 0. 0.]\n",
            " [0. 0. 0. 1. 0. 0. 0. 0. 0. 0.]\n",
            " [0. 0. 1. 0. 0. 0. 0. 0. 0. 0.]\n",
            " [0. 0. 0. 0. 0. 0. 1. 0. 0. 0.]\n",
            " [0. 0. 1. 0. 0. 0. 0. 0. 0. 0.]\n",
            " [0. 0. 0. 0. 0. 0. 0. 0. 1. 0.]\n",
            " [0. 0. 0. 1. 0. 0. 0. 0. 0. 0.]\n",
            " [0. 0. 0. 0. 1. 0. 0. 0. 0. 0.]\n",
            " [0. 0. 0. 0. 0. 0. 0. 0. 0. 1.]\n",
            " [0. 0. 0. 0. 0. 1. 0. 0. 0. 0.]\n",
            " [0. 0. 0. 0. 0. 1. 0. 0. 0. 0.]\n",
            " [0. 0. 0. 0. 0. 1. 0. 0. 0. 0.]\n",
            " [0. 0. 0. 0. 0. 1. 0. 0. 0. 0.]\n",
            " [0. 0. 0. 0. 1. 0. 0. 0. 0. 0.]\n",
            " [0. 0. 0. 0. 0. 0. 0. 0. 0. 1.]\n",
            " [0. 0. 0. 0. 0. 0. 0. 0. 0. 1.]\n",
            " [0. 1. 0. 0. 0. 0. 0. 0. 0. 0.]], shape=(32, 10), dtype=float32)\n"
          ],
          "name": "stdout"
        }
      ]
    },
    {
      "cell_type": "markdown",
      "metadata": {
        "id": "b1xYQXt-d4MY"
      },
      "source": [
        "## Model 0: Building a transfer learning model using the Keras Functional API"
      ]
    },
    {
      "cell_type": "code",
      "metadata": {
        "id": "HYLcOHMoPOfV",
        "outputId": "ab8c7951-a286-46d3-862f-6e043a4a94c6",
        "colab": {
          "base_uri": "https://localhost:8080/"
        }
      },
      "source": [
        "#1. Create a base model with tf.keras.applications\n",
        "base_model = tf.keras.applications.EfficientNetB0(include_top=False)\n",
        "\n",
        "# 2. Freeze the base model (the underlying pre-trained patterns aren´t updated during training)\n",
        "base_model.trainable = False\n",
        "\n",
        "# 3. Create inputs into out model\n",
        "inputs = tf.keras.layers.Input(shape=(224,224,3), name=\"input_layer\")\n",
        "\n",
        "# 4. If using a model like ResNet50V2 you will need to normalize inputs (don´t needed for EfficientNets)\n",
        "#x = tf.keras.layers.experimental.preprocessing.Rescaling(1./255)(inputs)\n",
        "\n",
        "# 5. Pass the inputs to the base model\n",
        "x = base_model(inputs)\n",
        "print(f\"Shape after passing inputs through base model: {x.shape}\")\n",
        "\n",
        "# 6. Average pool the outputs of the base model\n",
        "x = tf.keras.layers.GlobalAveragePooling2D(name=\"global_average_pooling_layer\")(x)\n",
        "print(f\"Shape after GlobalAveragePooling2D: {x.shape}\")\n",
        "\n",
        "# 7. Create the output activation layer\n",
        "outputs = tf.keras.layers.Dense(10, activation=\"softmax\", name=\"output_layer\")(x)\n",
        "\n",
        "# 8. Combine the inputs with the outputs into a model\n",
        "model_0 = tf.keras.Model(inputs, outputs)\n",
        "\n",
        "# 9. Compile the model\n",
        "model_0.compile(optimizer=\"Adam\", metrics=[\"accuracy\"], loss=\"categorical_crossentropy\")\n",
        "\n",
        "# 10. Fit the model\n",
        "history_0 = model_0.fit(train_data_10_percent,\n",
        "                        epochs=5,\n",
        "                        steps_per_epoch=len(train_data_10_percent),\n",
        "                        validation_data=test_data_10_percent,\n",
        "                        validation_steps=int(0.25 * len(test_data_10_percent)),\n",
        "                        callbacks=[create_tensorboard_callback(dir_name=\"transfer_learning\", experiment_name=\"10_percent_feature_extraction\")])"
      ],
      "execution_count": 12,
      "outputs": [
        {
          "output_type": "stream",
          "text": [
            "Downloading data from https://storage.googleapis.com/keras-applications/efficientnetb0_notop.h5\n",
            "16711680/16705208 [==============================] - 0s 0us/step\n",
            "Shape after passing inputs through base model: (None, 7, 7, 1280)\n",
            "Shape after GlobalAveragePooling2D: (None, 1280)\n",
            "Saving TensorBoard log files to: transfer_learning/10_percent_feature_extraction/20210721-120848\n",
            "Epoch 1/5\n"
          ],
          "name": "stdout"
        },
        {
          "output_type": "stream",
          "text": [
            "/usr/local/lib/python3.7/dist-packages/tensorflow/python/keras/utils/generic_utils.py:497: CustomMaskWarning: Custom mask layers require a config and must override get_config. When loading, the custom mask layer must be passed to the custom_objects argument.\n",
            "  category=CustomMaskWarning)\n"
          ],
          "name": "stderr"
        },
        {
          "output_type": "stream",
          "text": [
            "24/24 [==============================] - 42s 308ms/step - loss: 1.9360 - accuracy: 0.3560 - val_loss: 1.3696 - val_accuracy: 0.6760\n",
            "Epoch 2/5\n",
            "24/24 [==============================] - 5s 202ms/step - loss: 1.1712 - accuracy: 0.7267 - val_loss: 0.8988 - val_accuracy: 0.8191\n",
            "Epoch 3/5\n",
            "24/24 [==============================] - 5s 207ms/step - loss: 0.8626 - accuracy: 0.8013 - val_loss: 0.7171 - val_accuracy: 0.8503\n",
            "Epoch 4/5\n",
            "24/24 [==============================] - 5s 210ms/step - loss: 0.7032 - accuracy: 0.8387 - val_loss: 0.6262 - val_accuracy: 0.8586\n",
            "Epoch 5/5\n",
            "24/24 [==============================] - 5s 209ms/step - loss: 0.6040 - accuracy: 0.8453 - val_loss: 0.5623 - val_accuracy: 0.8750\n"
          ],
          "name": "stdout"
        }
      ]
    },
    {
      "cell_type": "code",
      "metadata": {
        "id": "VZKHp4W5hQM8",
        "outputId": "d19ed1ea-9610-41d4-ff4d-d500b84f02e1",
        "colab": {
          "base_uri": "https://localhost:8080/"
        }
      },
      "source": [
        "# Evaluate on the full test dataset \n",
        "model_0.evaluate(test_data_10_percent)"
      ],
      "execution_count": 13,
      "outputs": [
        {
          "output_type": "stream",
          "text": [
            "79/79 [==============================] - 9s 110ms/step - loss: 0.6184 - accuracy: 0.8472\n"
          ],
          "name": "stdout"
        },
        {
          "output_type": "execute_result",
          "data": {
            "text/plain": [
              "[0.6183578372001648, 0.8471999764442444]"
            ]
          },
          "metadata": {
            "tags": []
          },
          "execution_count": 13
        }
      ]
    },
    {
      "cell_type": "code",
      "metadata": {
        "id": "JTiPyFTHhqvk",
        "outputId": "73ebe0ce-517a-48ff-9551-19e09e358d7d",
        "colab": {
          "base_uri": "https://localhost:8080/"
        }
      },
      "source": [
        "# Check the layers in our base model\n",
        "for layer_number, layer in enumerate(base_model.layers):\n",
        "  print(layer_number, layer.name)"
      ],
      "execution_count": 14,
      "outputs": [
        {
          "output_type": "stream",
          "text": [
            "0 input_1\n",
            "1 rescaling\n",
            "2 normalization\n",
            "3 stem_conv_pad\n",
            "4 stem_conv\n",
            "5 stem_bn\n",
            "6 stem_activation\n",
            "7 block1a_dwconv\n",
            "8 block1a_bn\n",
            "9 block1a_activation\n",
            "10 block1a_se_squeeze\n",
            "11 block1a_se_reshape\n",
            "12 block1a_se_reduce\n",
            "13 block1a_se_expand\n",
            "14 block1a_se_excite\n",
            "15 block1a_project_conv\n",
            "16 block1a_project_bn\n",
            "17 block2a_expand_conv\n",
            "18 block2a_expand_bn\n",
            "19 block2a_expand_activation\n",
            "20 block2a_dwconv_pad\n",
            "21 block2a_dwconv\n",
            "22 block2a_bn\n",
            "23 block2a_activation\n",
            "24 block2a_se_squeeze\n",
            "25 block2a_se_reshape\n",
            "26 block2a_se_reduce\n",
            "27 block2a_se_expand\n",
            "28 block2a_se_excite\n",
            "29 block2a_project_conv\n",
            "30 block2a_project_bn\n",
            "31 block2b_expand_conv\n",
            "32 block2b_expand_bn\n",
            "33 block2b_expand_activation\n",
            "34 block2b_dwconv\n",
            "35 block2b_bn\n",
            "36 block2b_activation\n",
            "37 block2b_se_squeeze\n",
            "38 block2b_se_reshape\n",
            "39 block2b_se_reduce\n",
            "40 block2b_se_expand\n",
            "41 block2b_se_excite\n",
            "42 block2b_project_conv\n",
            "43 block2b_project_bn\n",
            "44 block2b_drop\n",
            "45 block2b_add\n",
            "46 block3a_expand_conv\n",
            "47 block3a_expand_bn\n",
            "48 block3a_expand_activation\n",
            "49 block3a_dwconv_pad\n",
            "50 block3a_dwconv\n",
            "51 block3a_bn\n",
            "52 block3a_activation\n",
            "53 block3a_se_squeeze\n",
            "54 block3a_se_reshape\n",
            "55 block3a_se_reduce\n",
            "56 block3a_se_expand\n",
            "57 block3a_se_excite\n",
            "58 block3a_project_conv\n",
            "59 block3a_project_bn\n",
            "60 block3b_expand_conv\n",
            "61 block3b_expand_bn\n",
            "62 block3b_expand_activation\n",
            "63 block3b_dwconv\n",
            "64 block3b_bn\n",
            "65 block3b_activation\n",
            "66 block3b_se_squeeze\n",
            "67 block3b_se_reshape\n",
            "68 block3b_se_reduce\n",
            "69 block3b_se_expand\n",
            "70 block3b_se_excite\n",
            "71 block3b_project_conv\n",
            "72 block3b_project_bn\n",
            "73 block3b_drop\n",
            "74 block3b_add\n",
            "75 block4a_expand_conv\n",
            "76 block4a_expand_bn\n",
            "77 block4a_expand_activation\n",
            "78 block4a_dwconv_pad\n",
            "79 block4a_dwconv\n",
            "80 block4a_bn\n",
            "81 block4a_activation\n",
            "82 block4a_se_squeeze\n",
            "83 block4a_se_reshape\n",
            "84 block4a_se_reduce\n",
            "85 block4a_se_expand\n",
            "86 block4a_se_excite\n",
            "87 block4a_project_conv\n",
            "88 block4a_project_bn\n",
            "89 block4b_expand_conv\n",
            "90 block4b_expand_bn\n",
            "91 block4b_expand_activation\n",
            "92 block4b_dwconv\n",
            "93 block4b_bn\n",
            "94 block4b_activation\n",
            "95 block4b_se_squeeze\n",
            "96 block4b_se_reshape\n",
            "97 block4b_se_reduce\n",
            "98 block4b_se_expand\n",
            "99 block4b_se_excite\n",
            "100 block4b_project_conv\n",
            "101 block4b_project_bn\n",
            "102 block4b_drop\n",
            "103 block4b_add\n",
            "104 block4c_expand_conv\n",
            "105 block4c_expand_bn\n",
            "106 block4c_expand_activation\n",
            "107 block4c_dwconv\n",
            "108 block4c_bn\n",
            "109 block4c_activation\n",
            "110 block4c_se_squeeze\n",
            "111 block4c_se_reshape\n",
            "112 block4c_se_reduce\n",
            "113 block4c_se_expand\n",
            "114 block4c_se_excite\n",
            "115 block4c_project_conv\n",
            "116 block4c_project_bn\n",
            "117 block4c_drop\n",
            "118 block4c_add\n",
            "119 block5a_expand_conv\n",
            "120 block5a_expand_bn\n",
            "121 block5a_expand_activation\n",
            "122 block5a_dwconv\n",
            "123 block5a_bn\n",
            "124 block5a_activation\n",
            "125 block5a_se_squeeze\n",
            "126 block5a_se_reshape\n",
            "127 block5a_se_reduce\n",
            "128 block5a_se_expand\n",
            "129 block5a_se_excite\n",
            "130 block5a_project_conv\n",
            "131 block5a_project_bn\n",
            "132 block5b_expand_conv\n",
            "133 block5b_expand_bn\n",
            "134 block5b_expand_activation\n",
            "135 block5b_dwconv\n",
            "136 block5b_bn\n",
            "137 block5b_activation\n",
            "138 block5b_se_squeeze\n",
            "139 block5b_se_reshape\n",
            "140 block5b_se_reduce\n",
            "141 block5b_se_expand\n",
            "142 block5b_se_excite\n",
            "143 block5b_project_conv\n",
            "144 block5b_project_bn\n",
            "145 block5b_drop\n",
            "146 block5b_add\n",
            "147 block5c_expand_conv\n",
            "148 block5c_expand_bn\n",
            "149 block5c_expand_activation\n",
            "150 block5c_dwconv\n",
            "151 block5c_bn\n",
            "152 block5c_activation\n",
            "153 block5c_se_squeeze\n",
            "154 block5c_se_reshape\n",
            "155 block5c_se_reduce\n",
            "156 block5c_se_expand\n",
            "157 block5c_se_excite\n",
            "158 block5c_project_conv\n",
            "159 block5c_project_bn\n",
            "160 block5c_drop\n",
            "161 block5c_add\n",
            "162 block6a_expand_conv\n",
            "163 block6a_expand_bn\n",
            "164 block6a_expand_activation\n",
            "165 block6a_dwconv_pad\n",
            "166 block6a_dwconv\n",
            "167 block6a_bn\n",
            "168 block6a_activation\n",
            "169 block6a_se_squeeze\n",
            "170 block6a_se_reshape\n",
            "171 block6a_se_reduce\n",
            "172 block6a_se_expand\n",
            "173 block6a_se_excite\n",
            "174 block6a_project_conv\n",
            "175 block6a_project_bn\n",
            "176 block6b_expand_conv\n",
            "177 block6b_expand_bn\n",
            "178 block6b_expand_activation\n",
            "179 block6b_dwconv\n",
            "180 block6b_bn\n",
            "181 block6b_activation\n",
            "182 block6b_se_squeeze\n",
            "183 block6b_se_reshape\n",
            "184 block6b_se_reduce\n",
            "185 block6b_se_expand\n",
            "186 block6b_se_excite\n",
            "187 block6b_project_conv\n",
            "188 block6b_project_bn\n",
            "189 block6b_drop\n",
            "190 block6b_add\n",
            "191 block6c_expand_conv\n",
            "192 block6c_expand_bn\n",
            "193 block6c_expand_activation\n",
            "194 block6c_dwconv\n",
            "195 block6c_bn\n",
            "196 block6c_activation\n",
            "197 block6c_se_squeeze\n",
            "198 block6c_se_reshape\n",
            "199 block6c_se_reduce\n",
            "200 block6c_se_expand\n",
            "201 block6c_se_excite\n",
            "202 block6c_project_conv\n",
            "203 block6c_project_bn\n",
            "204 block6c_drop\n",
            "205 block6c_add\n",
            "206 block6d_expand_conv\n",
            "207 block6d_expand_bn\n",
            "208 block6d_expand_activation\n",
            "209 block6d_dwconv\n",
            "210 block6d_bn\n",
            "211 block6d_activation\n",
            "212 block6d_se_squeeze\n",
            "213 block6d_se_reshape\n",
            "214 block6d_se_reduce\n",
            "215 block6d_se_expand\n",
            "216 block6d_se_excite\n",
            "217 block6d_project_conv\n",
            "218 block6d_project_bn\n",
            "219 block6d_drop\n",
            "220 block6d_add\n",
            "221 block7a_expand_conv\n",
            "222 block7a_expand_bn\n",
            "223 block7a_expand_activation\n",
            "224 block7a_dwconv\n",
            "225 block7a_bn\n",
            "226 block7a_activation\n",
            "227 block7a_se_squeeze\n",
            "228 block7a_se_reshape\n",
            "229 block7a_se_reduce\n",
            "230 block7a_se_expand\n",
            "231 block7a_se_excite\n",
            "232 block7a_project_conv\n",
            "233 block7a_project_bn\n",
            "234 top_conv\n",
            "235 top_bn\n",
            "236 top_activation\n"
          ],
          "name": "stdout"
        }
      ]
    },
    {
      "cell_type": "code",
      "metadata": {
        "id": "6-nbKvqwiCd-",
        "outputId": "000b5457-2238-44b9-e1cf-187bdaa30e83",
        "colab": {
          "base_uri": "https://localhost:8080/"
        }
      },
      "source": [
        "# Get a summary of the base model\n",
        "base_model.summary()"
      ],
      "execution_count": 15,
      "outputs": [
        {
          "output_type": "stream",
          "text": [
            "Model: \"efficientnetb0\"\n",
            "__________________________________________________________________________________________________\n",
            "Layer (type)                    Output Shape         Param #     Connected to                     \n",
            "==================================================================================================\n",
            "input_1 (InputLayer)            [(None, None, None,  0                                            \n",
            "__________________________________________________________________________________________________\n",
            "rescaling (Rescaling)           (None, None, None, 3 0           input_1[0][0]                    \n",
            "__________________________________________________________________________________________________\n",
            "normalization (Normalization)   (None, None, None, 3 7           rescaling[0][0]                  \n",
            "__________________________________________________________________________________________________\n",
            "stem_conv_pad (ZeroPadding2D)   (None, None, None, 3 0           normalization[0][0]              \n",
            "__________________________________________________________________________________________________\n",
            "stem_conv (Conv2D)              (None, None, None, 3 864         stem_conv_pad[0][0]              \n",
            "__________________________________________________________________________________________________\n",
            "stem_bn (BatchNormalization)    (None, None, None, 3 128         stem_conv[0][0]                  \n",
            "__________________________________________________________________________________________________\n",
            "stem_activation (Activation)    (None, None, None, 3 0           stem_bn[0][0]                    \n",
            "__________________________________________________________________________________________________\n",
            "block1a_dwconv (DepthwiseConv2D (None, None, None, 3 288         stem_activation[0][0]            \n",
            "__________________________________________________________________________________________________\n",
            "block1a_bn (BatchNormalization) (None, None, None, 3 128         block1a_dwconv[0][0]             \n",
            "__________________________________________________________________________________________________\n",
            "block1a_activation (Activation) (None, None, None, 3 0           block1a_bn[0][0]                 \n",
            "__________________________________________________________________________________________________\n",
            "block1a_se_squeeze (GlobalAvera (None, 32)           0           block1a_activation[0][0]         \n",
            "__________________________________________________________________________________________________\n",
            "block1a_se_reshape (Reshape)    (None, 1, 1, 32)     0           block1a_se_squeeze[0][0]         \n",
            "__________________________________________________________________________________________________\n",
            "block1a_se_reduce (Conv2D)      (None, 1, 1, 8)      264         block1a_se_reshape[0][0]         \n",
            "__________________________________________________________________________________________________\n",
            "block1a_se_expand (Conv2D)      (None, 1, 1, 32)     288         block1a_se_reduce[0][0]          \n",
            "__________________________________________________________________________________________________\n",
            "block1a_se_excite (Multiply)    (None, None, None, 3 0           block1a_activation[0][0]         \n",
            "                                                                 block1a_se_expand[0][0]          \n",
            "__________________________________________________________________________________________________\n",
            "block1a_project_conv (Conv2D)   (None, None, None, 1 512         block1a_se_excite[0][0]          \n",
            "__________________________________________________________________________________________________\n",
            "block1a_project_bn (BatchNormal (None, None, None, 1 64          block1a_project_conv[0][0]       \n",
            "__________________________________________________________________________________________________\n",
            "block2a_expand_conv (Conv2D)    (None, None, None, 9 1536        block1a_project_bn[0][0]         \n",
            "__________________________________________________________________________________________________\n",
            "block2a_expand_bn (BatchNormali (None, None, None, 9 384         block2a_expand_conv[0][0]        \n",
            "__________________________________________________________________________________________________\n",
            "block2a_expand_activation (Acti (None, None, None, 9 0           block2a_expand_bn[0][0]          \n",
            "__________________________________________________________________________________________________\n",
            "block2a_dwconv_pad (ZeroPadding (None, None, None, 9 0           block2a_expand_activation[0][0]  \n",
            "__________________________________________________________________________________________________\n",
            "block2a_dwconv (DepthwiseConv2D (None, None, None, 9 864         block2a_dwconv_pad[0][0]         \n",
            "__________________________________________________________________________________________________\n",
            "block2a_bn (BatchNormalization) (None, None, None, 9 384         block2a_dwconv[0][0]             \n",
            "__________________________________________________________________________________________________\n",
            "block2a_activation (Activation) (None, None, None, 9 0           block2a_bn[0][0]                 \n",
            "__________________________________________________________________________________________________\n",
            "block2a_se_squeeze (GlobalAvera (None, 96)           0           block2a_activation[0][0]         \n",
            "__________________________________________________________________________________________________\n",
            "block2a_se_reshape (Reshape)    (None, 1, 1, 96)     0           block2a_se_squeeze[0][0]         \n",
            "__________________________________________________________________________________________________\n",
            "block2a_se_reduce (Conv2D)      (None, 1, 1, 4)      388         block2a_se_reshape[0][0]         \n",
            "__________________________________________________________________________________________________\n",
            "block2a_se_expand (Conv2D)      (None, 1, 1, 96)     480         block2a_se_reduce[0][0]          \n",
            "__________________________________________________________________________________________________\n",
            "block2a_se_excite (Multiply)    (None, None, None, 9 0           block2a_activation[0][0]         \n",
            "                                                                 block2a_se_expand[0][0]          \n",
            "__________________________________________________________________________________________________\n",
            "block2a_project_conv (Conv2D)   (None, None, None, 2 2304        block2a_se_excite[0][0]          \n",
            "__________________________________________________________________________________________________\n",
            "block2a_project_bn (BatchNormal (None, None, None, 2 96          block2a_project_conv[0][0]       \n",
            "__________________________________________________________________________________________________\n",
            "block2b_expand_conv (Conv2D)    (None, None, None, 1 3456        block2a_project_bn[0][0]         \n",
            "__________________________________________________________________________________________________\n",
            "block2b_expand_bn (BatchNormali (None, None, None, 1 576         block2b_expand_conv[0][0]        \n",
            "__________________________________________________________________________________________________\n",
            "block2b_expand_activation (Acti (None, None, None, 1 0           block2b_expand_bn[0][0]          \n",
            "__________________________________________________________________________________________________\n",
            "block2b_dwconv (DepthwiseConv2D (None, None, None, 1 1296        block2b_expand_activation[0][0]  \n",
            "__________________________________________________________________________________________________\n",
            "block2b_bn (BatchNormalization) (None, None, None, 1 576         block2b_dwconv[0][0]             \n",
            "__________________________________________________________________________________________________\n",
            "block2b_activation (Activation) (None, None, None, 1 0           block2b_bn[0][0]                 \n",
            "__________________________________________________________________________________________________\n",
            "block2b_se_squeeze (GlobalAvera (None, 144)          0           block2b_activation[0][0]         \n",
            "__________________________________________________________________________________________________\n",
            "block2b_se_reshape (Reshape)    (None, 1, 1, 144)    0           block2b_se_squeeze[0][0]         \n",
            "__________________________________________________________________________________________________\n",
            "block2b_se_reduce (Conv2D)      (None, 1, 1, 6)      870         block2b_se_reshape[0][0]         \n",
            "__________________________________________________________________________________________________\n",
            "block2b_se_expand (Conv2D)      (None, 1, 1, 144)    1008        block2b_se_reduce[0][0]          \n",
            "__________________________________________________________________________________________________\n",
            "block2b_se_excite (Multiply)    (None, None, None, 1 0           block2b_activation[0][0]         \n",
            "                                                                 block2b_se_expand[0][0]          \n",
            "__________________________________________________________________________________________________\n",
            "block2b_project_conv (Conv2D)   (None, None, None, 2 3456        block2b_se_excite[0][0]          \n",
            "__________________________________________________________________________________________________\n",
            "block2b_project_bn (BatchNormal (None, None, None, 2 96          block2b_project_conv[0][0]       \n",
            "__________________________________________________________________________________________________\n",
            "block2b_drop (Dropout)          (None, None, None, 2 0           block2b_project_bn[0][0]         \n",
            "__________________________________________________________________________________________________\n",
            "block2b_add (Add)               (None, None, None, 2 0           block2b_drop[0][0]               \n",
            "                                                                 block2a_project_bn[0][0]         \n",
            "__________________________________________________________________________________________________\n",
            "block3a_expand_conv (Conv2D)    (None, None, None, 1 3456        block2b_add[0][0]                \n",
            "__________________________________________________________________________________________________\n",
            "block3a_expand_bn (BatchNormali (None, None, None, 1 576         block3a_expand_conv[0][0]        \n",
            "__________________________________________________________________________________________________\n",
            "block3a_expand_activation (Acti (None, None, None, 1 0           block3a_expand_bn[0][0]          \n",
            "__________________________________________________________________________________________________\n",
            "block3a_dwconv_pad (ZeroPadding (None, None, None, 1 0           block3a_expand_activation[0][0]  \n",
            "__________________________________________________________________________________________________\n",
            "block3a_dwconv (DepthwiseConv2D (None, None, None, 1 3600        block3a_dwconv_pad[0][0]         \n",
            "__________________________________________________________________________________________________\n",
            "block3a_bn (BatchNormalization) (None, None, None, 1 576         block3a_dwconv[0][0]             \n",
            "__________________________________________________________________________________________________\n",
            "block3a_activation (Activation) (None, None, None, 1 0           block3a_bn[0][0]                 \n",
            "__________________________________________________________________________________________________\n",
            "block3a_se_squeeze (GlobalAvera (None, 144)          0           block3a_activation[0][0]         \n",
            "__________________________________________________________________________________________________\n",
            "block3a_se_reshape (Reshape)    (None, 1, 1, 144)    0           block3a_se_squeeze[0][0]         \n",
            "__________________________________________________________________________________________________\n",
            "block3a_se_reduce (Conv2D)      (None, 1, 1, 6)      870         block3a_se_reshape[0][0]         \n",
            "__________________________________________________________________________________________________\n",
            "block3a_se_expand (Conv2D)      (None, 1, 1, 144)    1008        block3a_se_reduce[0][0]          \n",
            "__________________________________________________________________________________________________\n",
            "block3a_se_excite (Multiply)    (None, None, None, 1 0           block3a_activation[0][0]         \n",
            "                                                                 block3a_se_expand[0][0]          \n",
            "__________________________________________________________________________________________________\n",
            "block3a_project_conv (Conv2D)   (None, None, None, 4 5760        block3a_se_excite[0][0]          \n",
            "__________________________________________________________________________________________________\n",
            "block3a_project_bn (BatchNormal (None, None, None, 4 160         block3a_project_conv[0][0]       \n",
            "__________________________________________________________________________________________________\n",
            "block3b_expand_conv (Conv2D)    (None, None, None, 2 9600        block3a_project_bn[0][0]         \n",
            "__________________________________________________________________________________________________\n",
            "block3b_expand_bn (BatchNormali (None, None, None, 2 960         block3b_expand_conv[0][0]        \n",
            "__________________________________________________________________________________________________\n",
            "block3b_expand_activation (Acti (None, None, None, 2 0           block3b_expand_bn[0][0]          \n",
            "__________________________________________________________________________________________________\n",
            "block3b_dwconv (DepthwiseConv2D (None, None, None, 2 6000        block3b_expand_activation[0][0]  \n",
            "__________________________________________________________________________________________________\n",
            "block3b_bn (BatchNormalization) (None, None, None, 2 960         block3b_dwconv[0][0]             \n",
            "__________________________________________________________________________________________________\n",
            "block3b_activation (Activation) (None, None, None, 2 0           block3b_bn[0][0]                 \n",
            "__________________________________________________________________________________________________\n",
            "block3b_se_squeeze (GlobalAvera (None, 240)          0           block3b_activation[0][0]         \n",
            "__________________________________________________________________________________________________\n",
            "block3b_se_reshape (Reshape)    (None, 1, 1, 240)    0           block3b_se_squeeze[0][0]         \n",
            "__________________________________________________________________________________________________\n",
            "block3b_se_reduce (Conv2D)      (None, 1, 1, 10)     2410        block3b_se_reshape[0][0]         \n",
            "__________________________________________________________________________________________________\n",
            "block3b_se_expand (Conv2D)      (None, 1, 1, 240)    2640        block3b_se_reduce[0][0]          \n",
            "__________________________________________________________________________________________________\n",
            "block3b_se_excite (Multiply)    (None, None, None, 2 0           block3b_activation[0][0]         \n",
            "                                                                 block3b_se_expand[0][0]          \n",
            "__________________________________________________________________________________________________\n",
            "block3b_project_conv (Conv2D)   (None, None, None, 4 9600        block3b_se_excite[0][0]          \n",
            "__________________________________________________________________________________________________\n",
            "block3b_project_bn (BatchNormal (None, None, None, 4 160         block3b_project_conv[0][0]       \n",
            "__________________________________________________________________________________________________\n",
            "block3b_drop (Dropout)          (None, None, None, 4 0           block3b_project_bn[0][0]         \n",
            "__________________________________________________________________________________________________\n",
            "block3b_add (Add)               (None, None, None, 4 0           block3b_drop[0][0]               \n",
            "                                                                 block3a_project_bn[0][0]         \n",
            "__________________________________________________________________________________________________\n",
            "block4a_expand_conv (Conv2D)    (None, None, None, 2 9600        block3b_add[0][0]                \n",
            "__________________________________________________________________________________________________\n",
            "block4a_expand_bn (BatchNormali (None, None, None, 2 960         block4a_expand_conv[0][0]        \n",
            "__________________________________________________________________________________________________\n",
            "block4a_expand_activation (Acti (None, None, None, 2 0           block4a_expand_bn[0][0]          \n",
            "__________________________________________________________________________________________________\n",
            "block4a_dwconv_pad (ZeroPadding (None, None, None, 2 0           block4a_expand_activation[0][0]  \n",
            "__________________________________________________________________________________________________\n",
            "block4a_dwconv (DepthwiseConv2D (None, None, None, 2 2160        block4a_dwconv_pad[0][0]         \n",
            "__________________________________________________________________________________________________\n",
            "block4a_bn (BatchNormalization) (None, None, None, 2 960         block4a_dwconv[0][0]             \n",
            "__________________________________________________________________________________________________\n",
            "block4a_activation (Activation) (None, None, None, 2 0           block4a_bn[0][0]                 \n",
            "__________________________________________________________________________________________________\n",
            "block4a_se_squeeze (GlobalAvera (None, 240)          0           block4a_activation[0][0]         \n",
            "__________________________________________________________________________________________________\n",
            "block4a_se_reshape (Reshape)    (None, 1, 1, 240)    0           block4a_se_squeeze[0][0]         \n",
            "__________________________________________________________________________________________________\n",
            "block4a_se_reduce (Conv2D)      (None, 1, 1, 10)     2410        block4a_se_reshape[0][0]         \n",
            "__________________________________________________________________________________________________\n",
            "block4a_se_expand (Conv2D)      (None, 1, 1, 240)    2640        block4a_se_reduce[0][0]          \n",
            "__________________________________________________________________________________________________\n",
            "block4a_se_excite (Multiply)    (None, None, None, 2 0           block4a_activation[0][0]         \n",
            "                                                                 block4a_se_expand[0][0]          \n",
            "__________________________________________________________________________________________________\n",
            "block4a_project_conv (Conv2D)   (None, None, None, 8 19200       block4a_se_excite[0][0]          \n",
            "__________________________________________________________________________________________________\n",
            "block4a_project_bn (BatchNormal (None, None, None, 8 320         block4a_project_conv[0][0]       \n",
            "__________________________________________________________________________________________________\n",
            "block4b_expand_conv (Conv2D)    (None, None, None, 4 38400       block4a_project_bn[0][0]         \n",
            "__________________________________________________________________________________________________\n",
            "block4b_expand_bn (BatchNormali (None, None, None, 4 1920        block4b_expand_conv[0][0]        \n",
            "__________________________________________________________________________________________________\n",
            "block4b_expand_activation (Acti (None, None, None, 4 0           block4b_expand_bn[0][0]          \n",
            "__________________________________________________________________________________________________\n",
            "block4b_dwconv (DepthwiseConv2D (None, None, None, 4 4320        block4b_expand_activation[0][0]  \n",
            "__________________________________________________________________________________________________\n",
            "block4b_bn (BatchNormalization) (None, None, None, 4 1920        block4b_dwconv[0][0]             \n",
            "__________________________________________________________________________________________________\n",
            "block4b_activation (Activation) (None, None, None, 4 0           block4b_bn[0][0]                 \n",
            "__________________________________________________________________________________________________\n",
            "block4b_se_squeeze (GlobalAvera (None, 480)          0           block4b_activation[0][0]         \n",
            "__________________________________________________________________________________________________\n",
            "block4b_se_reshape (Reshape)    (None, 1, 1, 480)    0           block4b_se_squeeze[0][0]         \n",
            "__________________________________________________________________________________________________\n",
            "block4b_se_reduce (Conv2D)      (None, 1, 1, 20)     9620        block4b_se_reshape[0][0]         \n",
            "__________________________________________________________________________________________________\n",
            "block4b_se_expand (Conv2D)      (None, 1, 1, 480)    10080       block4b_se_reduce[0][0]          \n",
            "__________________________________________________________________________________________________\n",
            "block4b_se_excite (Multiply)    (None, None, None, 4 0           block4b_activation[0][0]         \n",
            "                                                                 block4b_se_expand[0][0]          \n",
            "__________________________________________________________________________________________________\n",
            "block4b_project_conv (Conv2D)   (None, None, None, 8 38400       block4b_se_excite[0][0]          \n",
            "__________________________________________________________________________________________________\n",
            "block4b_project_bn (BatchNormal (None, None, None, 8 320         block4b_project_conv[0][0]       \n",
            "__________________________________________________________________________________________________\n",
            "block4b_drop (Dropout)          (None, None, None, 8 0           block4b_project_bn[0][0]         \n",
            "__________________________________________________________________________________________________\n",
            "block4b_add (Add)               (None, None, None, 8 0           block4b_drop[0][0]               \n",
            "                                                                 block4a_project_bn[0][0]         \n",
            "__________________________________________________________________________________________________\n",
            "block4c_expand_conv (Conv2D)    (None, None, None, 4 38400       block4b_add[0][0]                \n",
            "__________________________________________________________________________________________________\n",
            "block4c_expand_bn (BatchNormali (None, None, None, 4 1920        block4c_expand_conv[0][0]        \n",
            "__________________________________________________________________________________________________\n",
            "block4c_expand_activation (Acti (None, None, None, 4 0           block4c_expand_bn[0][0]          \n",
            "__________________________________________________________________________________________________\n",
            "block4c_dwconv (DepthwiseConv2D (None, None, None, 4 4320        block4c_expand_activation[0][0]  \n",
            "__________________________________________________________________________________________________\n",
            "block4c_bn (BatchNormalization) (None, None, None, 4 1920        block4c_dwconv[0][0]             \n",
            "__________________________________________________________________________________________________\n",
            "block4c_activation (Activation) (None, None, None, 4 0           block4c_bn[0][0]                 \n",
            "__________________________________________________________________________________________________\n",
            "block4c_se_squeeze (GlobalAvera (None, 480)          0           block4c_activation[0][0]         \n",
            "__________________________________________________________________________________________________\n",
            "block4c_se_reshape (Reshape)    (None, 1, 1, 480)    0           block4c_se_squeeze[0][0]         \n",
            "__________________________________________________________________________________________________\n",
            "block4c_se_reduce (Conv2D)      (None, 1, 1, 20)     9620        block4c_se_reshape[0][0]         \n",
            "__________________________________________________________________________________________________\n",
            "block4c_se_expand (Conv2D)      (None, 1, 1, 480)    10080       block4c_se_reduce[0][0]          \n",
            "__________________________________________________________________________________________________\n",
            "block4c_se_excite (Multiply)    (None, None, None, 4 0           block4c_activation[0][0]         \n",
            "                                                                 block4c_se_expand[0][0]          \n",
            "__________________________________________________________________________________________________\n",
            "block4c_project_conv (Conv2D)   (None, None, None, 8 38400       block4c_se_excite[0][0]          \n",
            "__________________________________________________________________________________________________\n",
            "block4c_project_bn (BatchNormal (None, None, None, 8 320         block4c_project_conv[0][0]       \n",
            "__________________________________________________________________________________________________\n",
            "block4c_drop (Dropout)          (None, None, None, 8 0           block4c_project_bn[0][0]         \n",
            "__________________________________________________________________________________________________\n",
            "block4c_add (Add)               (None, None, None, 8 0           block4c_drop[0][0]               \n",
            "                                                                 block4b_add[0][0]                \n",
            "__________________________________________________________________________________________________\n",
            "block5a_expand_conv (Conv2D)    (None, None, None, 4 38400       block4c_add[0][0]                \n",
            "__________________________________________________________________________________________________\n",
            "block5a_expand_bn (BatchNormali (None, None, None, 4 1920        block5a_expand_conv[0][0]        \n",
            "__________________________________________________________________________________________________\n",
            "block5a_expand_activation (Acti (None, None, None, 4 0           block5a_expand_bn[0][0]          \n",
            "__________________________________________________________________________________________________\n",
            "block5a_dwconv (DepthwiseConv2D (None, None, None, 4 12000       block5a_expand_activation[0][0]  \n",
            "__________________________________________________________________________________________________\n",
            "block5a_bn (BatchNormalization) (None, None, None, 4 1920        block5a_dwconv[0][0]             \n",
            "__________________________________________________________________________________________________\n",
            "block5a_activation (Activation) (None, None, None, 4 0           block5a_bn[0][0]                 \n",
            "__________________________________________________________________________________________________\n",
            "block5a_se_squeeze (GlobalAvera (None, 480)          0           block5a_activation[0][0]         \n",
            "__________________________________________________________________________________________________\n",
            "block5a_se_reshape (Reshape)    (None, 1, 1, 480)    0           block5a_se_squeeze[0][0]         \n",
            "__________________________________________________________________________________________________\n",
            "block5a_se_reduce (Conv2D)      (None, 1, 1, 20)     9620        block5a_se_reshape[0][0]         \n",
            "__________________________________________________________________________________________________\n",
            "block5a_se_expand (Conv2D)      (None, 1, 1, 480)    10080       block5a_se_reduce[0][0]          \n",
            "__________________________________________________________________________________________________\n",
            "block5a_se_excite (Multiply)    (None, None, None, 4 0           block5a_activation[0][0]         \n",
            "                                                                 block5a_se_expand[0][0]          \n",
            "__________________________________________________________________________________________________\n",
            "block5a_project_conv (Conv2D)   (None, None, None, 1 53760       block5a_se_excite[0][0]          \n",
            "__________________________________________________________________________________________________\n",
            "block5a_project_bn (BatchNormal (None, None, None, 1 448         block5a_project_conv[0][0]       \n",
            "__________________________________________________________________________________________________\n",
            "block5b_expand_conv (Conv2D)    (None, None, None, 6 75264       block5a_project_bn[0][0]         \n",
            "__________________________________________________________________________________________________\n",
            "block5b_expand_bn (BatchNormali (None, None, None, 6 2688        block5b_expand_conv[0][0]        \n",
            "__________________________________________________________________________________________________\n",
            "block5b_expand_activation (Acti (None, None, None, 6 0           block5b_expand_bn[0][0]          \n",
            "__________________________________________________________________________________________________\n",
            "block5b_dwconv (DepthwiseConv2D (None, None, None, 6 16800       block5b_expand_activation[0][0]  \n",
            "__________________________________________________________________________________________________\n",
            "block5b_bn (BatchNormalization) (None, None, None, 6 2688        block5b_dwconv[0][0]             \n",
            "__________________________________________________________________________________________________\n",
            "block5b_activation (Activation) (None, None, None, 6 0           block5b_bn[0][0]                 \n",
            "__________________________________________________________________________________________________\n",
            "block5b_se_squeeze (GlobalAvera (None, 672)          0           block5b_activation[0][0]         \n",
            "__________________________________________________________________________________________________\n",
            "block5b_se_reshape (Reshape)    (None, 1, 1, 672)    0           block5b_se_squeeze[0][0]         \n",
            "__________________________________________________________________________________________________\n",
            "block5b_se_reduce (Conv2D)      (None, 1, 1, 28)     18844       block5b_se_reshape[0][0]         \n",
            "__________________________________________________________________________________________________\n",
            "block5b_se_expand (Conv2D)      (None, 1, 1, 672)    19488       block5b_se_reduce[0][0]          \n",
            "__________________________________________________________________________________________________\n",
            "block5b_se_excite (Multiply)    (None, None, None, 6 0           block5b_activation[0][0]         \n",
            "                                                                 block5b_se_expand[0][0]          \n",
            "__________________________________________________________________________________________________\n",
            "block5b_project_conv (Conv2D)   (None, None, None, 1 75264       block5b_se_excite[0][0]          \n",
            "__________________________________________________________________________________________________\n",
            "block5b_project_bn (BatchNormal (None, None, None, 1 448         block5b_project_conv[0][0]       \n",
            "__________________________________________________________________________________________________\n",
            "block5b_drop (Dropout)          (None, None, None, 1 0           block5b_project_bn[0][0]         \n",
            "__________________________________________________________________________________________________\n",
            "block5b_add (Add)               (None, None, None, 1 0           block5b_drop[0][0]               \n",
            "                                                                 block5a_project_bn[0][0]         \n",
            "__________________________________________________________________________________________________\n",
            "block5c_expand_conv (Conv2D)    (None, None, None, 6 75264       block5b_add[0][0]                \n",
            "__________________________________________________________________________________________________\n",
            "block5c_expand_bn (BatchNormali (None, None, None, 6 2688        block5c_expand_conv[0][0]        \n",
            "__________________________________________________________________________________________________\n",
            "block5c_expand_activation (Acti (None, None, None, 6 0           block5c_expand_bn[0][0]          \n",
            "__________________________________________________________________________________________________\n",
            "block5c_dwconv (DepthwiseConv2D (None, None, None, 6 16800       block5c_expand_activation[0][0]  \n",
            "__________________________________________________________________________________________________\n",
            "block5c_bn (BatchNormalization) (None, None, None, 6 2688        block5c_dwconv[0][0]             \n",
            "__________________________________________________________________________________________________\n",
            "block5c_activation (Activation) (None, None, None, 6 0           block5c_bn[0][0]                 \n",
            "__________________________________________________________________________________________________\n",
            "block5c_se_squeeze (GlobalAvera (None, 672)          0           block5c_activation[0][0]         \n",
            "__________________________________________________________________________________________________\n",
            "block5c_se_reshape (Reshape)    (None, 1, 1, 672)    0           block5c_se_squeeze[0][0]         \n",
            "__________________________________________________________________________________________________\n",
            "block5c_se_reduce (Conv2D)      (None, 1, 1, 28)     18844       block5c_se_reshape[0][0]         \n",
            "__________________________________________________________________________________________________\n",
            "block5c_se_expand (Conv2D)      (None, 1, 1, 672)    19488       block5c_se_reduce[0][0]          \n",
            "__________________________________________________________________________________________________\n",
            "block5c_se_excite (Multiply)    (None, None, None, 6 0           block5c_activation[0][0]         \n",
            "                                                                 block5c_se_expand[0][0]          \n",
            "__________________________________________________________________________________________________\n",
            "block5c_project_conv (Conv2D)   (None, None, None, 1 75264       block5c_se_excite[0][0]          \n",
            "__________________________________________________________________________________________________\n",
            "block5c_project_bn (BatchNormal (None, None, None, 1 448         block5c_project_conv[0][0]       \n",
            "__________________________________________________________________________________________________\n",
            "block5c_drop (Dropout)          (None, None, None, 1 0           block5c_project_bn[0][0]         \n",
            "__________________________________________________________________________________________________\n",
            "block5c_add (Add)               (None, None, None, 1 0           block5c_drop[0][0]               \n",
            "                                                                 block5b_add[0][0]                \n",
            "__________________________________________________________________________________________________\n",
            "block6a_expand_conv (Conv2D)    (None, None, None, 6 75264       block5c_add[0][0]                \n",
            "__________________________________________________________________________________________________\n",
            "block6a_expand_bn (BatchNormali (None, None, None, 6 2688        block6a_expand_conv[0][0]        \n",
            "__________________________________________________________________________________________________\n",
            "block6a_expand_activation (Acti (None, None, None, 6 0           block6a_expand_bn[0][0]          \n",
            "__________________________________________________________________________________________________\n",
            "block6a_dwconv_pad (ZeroPadding (None, None, None, 6 0           block6a_expand_activation[0][0]  \n",
            "__________________________________________________________________________________________________\n",
            "block6a_dwconv (DepthwiseConv2D (None, None, None, 6 16800       block6a_dwconv_pad[0][0]         \n",
            "__________________________________________________________________________________________________\n",
            "block6a_bn (BatchNormalization) (None, None, None, 6 2688        block6a_dwconv[0][0]             \n",
            "__________________________________________________________________________________________________\n",
            "block6a_activation (Activation) (None, None, None, 6 0           block6a_bn[0][0]                 \n",
            "__________________________________________________________________________________________________\n",
            "block6a_se_squeeze (GlobalAvera (None, 672)          0           block6a_activation[0][0]         \n",
            "__________________________________________________________________________________________________\n",
            "block6a_se_reshape (Reshape)    (None, 1, 1, 672)    0           block6a_se_squeeze[0][0]         \n",
            "__________________________________________________________________________________________________\n",
            "block6a_se_reduce (Conv2D)      (None, 1, 1, 28)     18844       block6a_se_reshape[0][0]         \n",
            "__________________________________________________________________________________________________\n",
            "block6a_se_expand (Conv2D)      (None, 1, 1, 672)    19488       block6a_se_reduce[0][0]          \n",
            "__________________________________________________________________________________________________\n",
            "block6a_se_excite (Multiply)    (None, None, None, 6 0           block6a_activation[0][0]         \n",
            "                                                                 block6a_se_expand[0][0]          \n",
            "__________________________________________________________________________________________________\n",
            "block6a_project_conv (Conv2D)   (None, None, None, 1 129024      block6a_se_excite[0][0]          \n",
            "__________________________________________________________________________________________________\n",
            "block6a_project_bn (BatchNormal (None, None, None, 1 768         block6a_project_conv[0][0]       \n",
            "__________________________________________________________________________________________________\n",
            "block6b_expand_conv (Conv2D)    (None, None, None, 1 221184      block6a_project_bn[0][0]         \n",
            "__________________________________________________________________________________________________\n",
            "block6b_expand_bn (BatchNormali (None, None, None, 1 4608        block6b_expand_conv[0][0]        \n",
            "__________________________________________________________________________________________________\n",
            "block6b_expand_activation (Acti (None, None, None, 1 0           block6b_expand_bn[0][0]          \n",
            "__________________________________________________________________________________________________\n",
            "block6b_dwconv (DepthwiseConv2D (None, None, None, 1 28800       block6b_expand_activation[0][0]  \n",
            "__________________________________________________________________________________________________\n",
            "block6b_bn (BatchNormalization) (None, None, None, 1 4608        block6b_dwconv[0][0]             \n",
            "__________________________________________________________________________________________________\n",
            "block6b_activation (Activation) (None, None, None, 1 0           block6b_bn[0][0]                 \n",
            "__________________________________________________________________________________________________\n",
            "block6b_se_squeeze (GlobalAvera (None, 1152)         0           block6b_activation[0][0]         \n",
            "__________________________________________________________________________________________________\n",
            "block6b_se_reshape (Reshape)    (None, 1, 1, 1152)   0           block6b_se_squeeze[0][0]         \n",
            "__________________________________________________________________________________________________\n",
            "block6b_se_reduce (Conv2D)      (None, 1, 1, 48)     55344       block6b_se_reshape[0][0]         \n",
            "__________________________________________________________________________________________________\n",
            "block6b_se_expand (Conv2D)      (None, 1, 1, 1152)   56448       block6b_se_reduce[0][0]          \n",
            "__________________________________________________________________________________________________\n",
            "block6b_se_excite (Multiply)    (None, None, None, 1 0           block6b_activation[0][0]         \n",
            "                                                                 block6b_se_expand[0][0]          \n",
            "__________________________________________________________________________________________________\n",
            "block6b_project_conv (Conv2D)   (None, None, None, 1 221184      block6b_se_excite[0][0]          \n",
            "__________________________________________________________________________________________________\n",
            "block6b_project_bn (BatchNormal (None, None, None, 1 768         block6b_project_conv[0][0]       \n",
            "__________________________________________________________________________________________________\n",
            "block6b_drop (Dropout)          (None, None, None, 1 0           block6b_project_bn[0][0]         \n",
            "__________________________________________________________________________________________________\n",
            "block6b_add (Add)               (None, None, None, 1 0           block6b_drop[0][0]               \n",
            "                                                                 block6a_project_bn[0][0]         \n",
            "__________________________________________________________________________________________________\n",
            "block6c_expand_conv (Conv2D)    (None, None, None, 1 221184      block6b_add[0][0]                \n",
            "__________________________________________________________________________________________________\n",
            "block6c_expand_bn (BatchNormali (None, None, None, 1 4608        block6c_expand_conv[0][0]        \n",
            "__________________________________________________________________________________________________\n",
            "block6c_expand_activation (Acti (None, None, None, 1 0           block6c_expand_bn[0][0]          \n",
            "__________________________________________________________________________________________________\n",
            "block6c_dwconv (DepthwiseConv2D (None, None, None, 1 28800       block6c_expand_activation[0][0]  \n",
            "__________________________________________________________________________________________________\n",
            "block6c_bn (BatchNormalization) (None, None, None, 1 4608        block6c_dwconv[0][0]             \n",
            "__________________________________________________________________________________________________\n",
            "block6c_activation (Activation) (None, None, None, 1 0           block6c_bn[0][0]                 \n",
            "__________________________________________________________________________________________________\n",
            "block6c_se_squeeze (GlobalAvera (None, 1152)         0           block6c_activation[0][0]         \n",
            "__________________________________________________________________________________________________\n",
            "block6c_se_reshape (Reshape)    (None, 1, 1, 1152)   0           block6c_se_squeeze[0][0]         \n",
            "__________________________________________________________________________________________________\n",
            "block6c_se_reduce (Conv2D)      (None, 1, 1, 48)     55344       block6c_se_reshape[0][0]         \n",
            "__________________________________________________________________________________________________\n",
            "block6c_se_expand (Conv2D)      (None, 1, 1, 1152)   56448       block6c_se_reduce[0][0]          \n",
            "__________________________________________________________________________________________________\n",
            "block6c_se_excite (Multiply)    (None, None, None, 1 0           block6c_activation[0][0]         \n",
            "                                                                 block6c_se_expand[0][0]          \n",
            "__________________________________________________________________________________________________\n",
            "block6c_project_conv (Conv2D)   (None, None, None, 1 221184      block6c_se_excite[0][0]          \n",
            "__________________________________________________________________________________________________\n",
            "block6c_project_bn (BatchNormal (None, None, None, 1 768         block6c_project_conv[0][0]       \n",
            "__________________________________________________________________________________________________\n",
            "block6c_drop (Dropout)          (None, None, None, 1 0           block6c_project_bn[0][0]         \n",
            "__________________________________________________________________________________________________\n",
            "block6c_add (Add)               (None, None, None, 1 0           block6c_drop[0][0]               \n",
            "                                                                 block6b_add[0][0]                \n",
            "__________________________________________________________________________________________________\n",
            "block6d_expand_conv (Conv2D)    (None, None, None, 1 221184      block6c_add[0][0]                \n",
            "__________________________________________________________________________________________________\n",
            "block6d_expand_bn (BatchNormali (None, None, None, 1 4608        block6d_expand_conv[0][0]        \n",
            "__________________________________________________________________________________________________\n",
            "block6d_expand_activation (Acti (None, None, None, 1 0           block6d_expand_bn[0][0]          \n",
            "__________________________________________________________________________________________________\n",
            "block6d_dwconv (DepthwiseConv2D (None, None, None, 1 28800       block6d_expand_activation[0][0]  \n",
            "__________________________________________________________________________________________________\n",
            "block6d_bn (BatchNormalization) (None, None, None, 1 4608        block6d_dwconv[0][0]             \n",
            "__________________________________________________________________________________________________\n",
            "block6d_activation (Activation) (None, None, None, 1 0           block6d_bn[0][0]                 \n",
            "__________________________________________________________________________________________________\n",
            "block6d_se_squeeze (GlobalAvera (None, 1152)         0           block6d_activation[0][0]         \n",
            "__________________________________________________________________________________________________\n",
            "block6d_se_reshape (Reshape)    (None, 1, 1, 1152)   0           block6d_se_squeeze[0][0]         \n",
            "__________________________________________________________________________________________________\n",
            "block6d_se_reduce (Conv2D)      (None, 1, 1, 48)     55344       block6d_se_reshape[0][0]         \n",
            "__________________________________________________________________________________________________\n",
            "block6d_se_expand (Conv2D)      (None, 1, 1, 1152)   56448       block6d_se_reduce[0][0]          \n",
            "__________________________________________________________________________________________________\n",
            "block6d_se_excite (Multiply)    (None, None, None, 1 0           block6d_activation[0][0]         \n",
            "                                                                 block6d_se_expand[0][0]          \n",
            "__________________________________________________________________________________________________\n",
            "block6d_project_conv (Conv2D)   (None, None, None, 1 221184      block6d_se_excite[0][0]          \n",
            "__________________________________________________________________________________________________\n",
            "block6d_project_bn (BatchNormal (None, None, None, 1 768         block6d_project_conv[0][0]       \n",
            "__________________________________________________________________________________________________\n",
            "block6d_drop (Dropout)          (None, None, None, 1 0           block6d_project_bn[0][0]         \n",
            "__________________________________________________________________________________________________\n",
            "block6d_add (Add)               (None, None, None, 1 0           block6d_drop[0][0]               \n",
            "                                                                 block6c_add[0][0]                \n",
            "__________________________________________________________________________________________________\n",
            "block7a_expand_conv (Conv2D)    (None, None, None, 1 221184      block6d_add[0][0]                \n",
            "__________________________________________________________________________________________________\n",
            "block7a_expand_bn (BatchNormali (None, None, None, 1 4608        block7a_expand_conv[0][0]        \n",
            "__________________________________________________________________________________________________\n",
            "block7a_expand_activation (Acti (None, None, None, 1 0           block7a_expand_bn[0][0]          \n",
            "__________________________________________________________________________________________________\n",
            "block7a_dwconv (DepthwiseConv2D (None, None, None, 1 10368       block7a_expand_activation[0][0]  \n",
            "__________________________________________________________________________________________________\n",
            "block7a_bn (BatchNormalization) (None, None, None, 1 4608        block7a_dwconv[0][0]             \n",
            "__________________________________________________________________________________________________\n",
            "block7a_activation (Activation) (None, None, None, 1 0           block7a_bn[0][0]                 \n",
            "__________________________________________________________________________________________________\n",
            "block7a_se_squeeze (GlobalAvera (None, 1152)         0           block7a_activation[0][0]         \n",
            "__________________________________________________________________________________________________\n",
            "block7a_se_reshape (Reshape)    (None, 1, 1, 1152)   0           block7a_se_squeeze[0][0]         \n",
            "__________________________________________________________________________________________________\n",
            "block7a_se_reduce (Conv2D)      (None, 1, 1, 48)     55344       block7a_se_reshape[0][0]         \n",
            "__________________________________________________________________________________________________\n",
            "block7a_se_expand (Conv2D)      (None, 1, 1, 1152)   56448       block7a_se_reduce[0][0]          \n",
            "__________________________________________________________________________________________________\n",
            "block7a_se_excite (Multiply)    (None, None, None, 1 0           block7a_activation[0][0]         \n",
            "                                                                 block7a_se_expand[0][0]          \n",
            "__________________________________________________________________________________________________\n",
            "block7a_project_conv (Conv2D)   (None, None, None, 3 368640      block7a_se_excite[0][0]          \n",
            "__________________________________________________________________________________________________\n",
            "block7a_project_bn (BatchNormal (None, None, None, 3 1280        block7a_project_conv[0][0]       \n",
            "__________________________________________________________________________________________________\n",
            "top_conv (Conv2D)               (None, None, None, 1 409600      block7a_project_bn[0][0]         \n",
            "__________________________________________________________________________________________________\n",
            "top_bn (BatchNormalization)     (None, None, None, 1 5120        top_conv[0][0]                   \n",
            "__________________________________________________________________________________________________\n",
            "top_activation (Activation)     (None, None, None, 1 0           top_bn[0][0]                     \n",
            "==================================================================================================\n",
            "Total params: 4,049,571\n",
            "Trainable params: 0\n",
            "Non-trainable params: 4,049,571\n",
            "__________________________________________________________________________________________________\n"
          ],
          "name": "stdout"
        }
      ]
    },
    {
      "cell_type": "code",
      "metadata": {
        "id": "bsc_YD-IiKCF",
        "outputId": "90f39af9-8353-4939-cf44-88619de3d1b1",
        "colab": {
          "base_uri": "https://localhost:8080/"
        }
      },
      "source": [
        "# Summary of whole model\n",
        "model_0.summary()"
      ],
      "execution_count": 16,
      "outputs": [
        {
          "output_type": "stream",
          "text": [
            "Model: \"model\"\n",
            "_________________________________________________________________\n",
            "Layer (type)                 Output Shape              Param #   \n",
            "=================================================================\n",
            "input_layer (InputLayer)     [(None, 224, 224, 3)]     0         \n",
            "_________________________________________________________________\n",
            "efficientnetb0 (Functional)  (None, None, None, 1280)  4049571   \n",
            "_________________________________________________________________\n",
            "global_average_pooling_layer (None, 1280)              0         \n",
            "_________________________________________________________________\n",
            "output_layer (Dense)         (None, 10)                12810     \n",
            "=================================================================\n",
            "Total params: 4,062,381\n",
            "Trainable params: 12,810\n",
            "Non-trainable params: 4,049,571\n",
            "_________________________________________________________________\n"
          ],
          "name": "stdout"
        }
      ]
    },
    {
      "cell_type": "code",
      "metadata": {
        "id": "ZifsNKJ4ibPs",
        "outputId": "7c12ca85-6160-4fa6-edf0-82fc6b2831d7",
        "colab": {
          "base_uri": "https://localhost:8080/",
          "height": 573
        }
      },
      "source": [
        "# Check out our models´2 training curves\n",
        "plot_loss_curves(history_0)"
      ],
      "execution_count": 17,
      "outputs": [
        {
          "output_type": "display_data",
          "data": {
            "image/png": "[encoded data removed]",
            "text/plain": [
              "<Figure size 432x288 with 1 Axes>"
            ]
          },
          "metadata": {
            "tags": [],
            "needs_background": "light"
          }
        },
        {
          "output_type": "display_data",
          "data": {
            "image/png": "[encoded data removed]",
            "text/plain": [
              "<Figure size 432x288 with 1 Axes>"
            ]
          },
          "metadata": {
            "tags": [],
            "needs_background": "light"
          }
        }
      ]
    },
    {
      "cell_type": "markdown",
      "metadata": {
        "id": "9ZDexQwdjr9i"
      },
      "source": [
        "## Getting a feature vector from a trained model\n",
        "\n",
        "Let´s demonstrate the Global Average Pooling 2D layer..\n",
        "\n",
        "We have a tensor ofter our model goes through base_model of shape (None, 7, 7, 1289)...\n",
        "\n",
        "After GlobalAveragePooling2D it turns into (None, 1280).\n",
        "\n",
        "Let´s use a tensor of shape (1,4,4,3=´) and then pass it to Global Average Pooling 2D)"
      ]
    },
    {
      "cell_type": "code",
      "metadata": {
        "id": "1zShbZ5Hir_E",
        "outputId": "3fe9c6f0-77fe-4094-eeac-cf8238195d1b",
        "colab": {
          "base_uri": "https://localhost:8080/"
        }
      },
      "source": [
        "# Define the input shape\n",
        "input_shape = (1,4,4,3)\n",
        "\n",
        "# Create a random tensor\n",
        "tf.random.set_seed(42)\n",
        "input_tensor = tf.random.normal(input_shape)\n",
        "print(f\"Random input tensor: \\n {input_tensor}\\n\")\n",
        "\n",
        "# Pass the random tensor through a random global average pooling 2D layer\n",
        "global_average_pooled_tensor = tf.keras.layers.GlobalAveragePooling2D()(input_tensor)\n",
        "print(f\"2D global average pooled random tensor:\\n {global_average_pooled_tensor}\\n\")\n",
        "\n",
        "# Check the shape of the different tensors\n",
        "print(f\"Shape of the input tensor: {input_tensor.shape}\")\n",
        "print(f\"Shape of Global Average Pooled 2D tensor: {global_average_pooled_tensor.shape}\")"
      ],
      "execution_count": 18,
      "outputs": [
        {
          "output_type": "stream",
          "text": [
            "Random input tensor: \n",
            " [[[[ 0.3274685  -0.8426258   0.3194337 ]\n",
            "   [-1.4075519  -2.3880599  -1.0392479 ]\n",
            "   [-0.5573232   0.539707    1.6994323 ]\n",
            "   [ 0.28893656 -1.5066116  -0.2645474 ]]\n",
            "\n",
            "  [[-0.59722406 -1.9171132  -0.62044144]\n",
            "   [ 0.8504023  -0.40604794 -3.0258412 ]\n",
            "   [ 0.9058464   0.29855987 -0.22561555]\n",
            "   [-0.7616443  -1.8917141  -0.93847126]]\n",
            "\n",
            "  [[ 0.77852213 -0.47338897  0.97772694]\n",
            "   [ 0.24694404  0.20573747 -0.5256233 ]\n",
            "   [ 0.32410017  0.02545409 -0.10638497]\n",
            "   [-0.6369475   1.1603122   0.2507359 ]]\n",
            "\n",
            "  [[-0.41728503  0.4012578  -1.4145443 ]\n",
            "   [-0.5931857  -1.6617213   0.33567193]\n",
            "   [ 0.10815629  0.23479682 -0.56668764]\n",
            "   [-0.35819843  0.88698614  0.52744764]]]]\n",
            "\n",
            "2D global average pooled random tensor:\n",
            " [[-0.09368646 -0.45840448 -0.2885598 ]]\n",
            "\n",
            "Shape of the input tensor: (1, 4, 4, 3)\n",
            "Shape of Global Average Pooled 2D tensor: (1, 3)\n"
          ],
          "name": "stdout"
        }
      ]
    },
    {
      "cell_type": "code",
      "metadata": {
        "id": "Dh6SyrgYkzSx",
        "outputId": "dc823e52-ae31-4b56-c379-1411668ccbfe",
        "colab": {
          "base_uri": "https://localhost:8080/"
        }
      },
      "source": [
        "# Let´s replicate the GlobalAveragePool2D layer\n",
        "tf.reduce_mean(input_tensor, axis=[1,2])"
      ],
      "execution_count": 19,
      "outputs": [
        {
          "output_type": "execute_result",
          "data": {
            "text/plain": [
              "<tf.Tensor: shape=(1, 3), dtype=float32, numpy=array([[-0.09368646, -0.45840448, -0.2885598 ]], dtype=float32)>"
            ]
          },
          "metadata": {
            "tags": []
          },
          "execution_count": 19
        }
      ]
    },
    {
      "cell_type": "markdown",
      "metadata": {
        "id": "DsLbMNVXpvJu"
      },
      "source": [
        "## Running a series of transfer learning experiments\n",
        "\n",
        "Experiments:\n",
        "\n",
        "1. model_1 - use feature extraction transfer learning with 1% of the training data with data augmentation\n",
        "2. model_2 - use feature extraction transfer learning with 10% of the training with data augmentation\n",
        "3. model_3 - use fine-tuning transfer learning on 10% of the training data with data augmentation\n",
        "4. model_4 - use fine-tuning transfer learning on 100% of the training data with data augmentation"
      ]
    },
    {
      "cell_type": "markdown",
      "metadata": {
        "id": "Mc-DKLmlrbMv"
      },
      "source": [
        "## Getting and preprocessing data for model_1"
      ]
    },
    {
      "cell_type": "code",
      "metadata": {
        "id": "Q1pQ_ocdmVE5",
        "outputId": "eed140b0-b3a6-4335-a673-86b2d349eb70",
        "colab": {
          "base_uri": "https://localhost:8080/"
        }
      },
      "source": [
        "# Download and unzip data - preprocessed from Food101\n",
        "!wget https://storage.googleapis.com/ztm_tf_course/food_vision/10_food_classes_1_percent.zip\n",
        "unzip_data(\"10_food_classes_1_percent.zip\")"
      ],
      "execution_count": 20,
      "outputs": [
        {
          "output_type": "stream",
          "text": [
            "--2021-07-21 12:10:15--  https://storage.googleapis.com/ztm_tf_course/food_vision/10_food_classes_1_percent.zip\n",
            "Resolving storage.googleapis.com (storage.googleapis.com)... 74.125.142.128, 172.253.117.128, 74.125.195.128, ...\n",
            "Connecting to storage.googleapis.com (storage.googleapis.com)|74.125.142.128|:443... connected.\n",
            "HTTP request sent, awaiting response... 200 OK\n",
            "Length: 133612354 (127M) [application/zip]\n",
            "Saving to: ‘10_food_classes_1_percent.zip’\n",
            "\n",
            "10_food_classes_1_p 100%[===================>] 127.42M   219MB/s    in 0.6s    \n",
            "\n",
            "2021-07-21 12:10:16 (219 MB/s) - ‘10_food_classes_1_percent.zip’ saved [133612354/133612354]\n",
            "\n"
          ],
          "name": "stdout"
        }
      ]
    },
    {
      "cell_type": "code",
      "metadata": {
        "id": "qmyezutiq05p"
      },
      "source": [
        "#Create training and test dirs\n",
        "train_dir_1_percent = \"10_food_classes_1_percent/train\"\n",
        "test_dir = \"10_food_classes_1_percent/test\""
      ],
      "execution_count": 21,
      "outputs": []
    },
    {
      "cell_type": "code",
      "metadata": {
        "id": "XB1sON1yrDwq",
        "outputId": "3c958c3c-f3ce-4be6-f713-659ef6e89deb",
        "colab": {
          "base_uri": "https://localhost:8080/"
        }
      },
      "source": [
        "#How many images?\n",
        "walk_through_dir(\"10_food_classes_1_percent\")"
      ],
      "execution_count": 22,
      "outputs": [
        {
          "output_type": "stream",
          "text": [
            "There are 2 directories and 0 images in '10_food_classes_1_percent'.\n",
            "There are 10 directories and 0 images in '10_food_classes_1_percent/train'.\n",
            "There are 0 directories and 7 images in '10_food_classes_1_percent/train/chicken_wings'.\n",
            "There are 0 directories and 7 images in '10_food_classes_1_percent/train/sushi'.\n",
            "There are 0 directories and 7 images in '10_food_classes_1_percent/train/steak'.\n",
            "There are 0 directories and 7 images in '10_food_classes_1_percent/train/pizza'.\n",
            "There are 0 directories and 7 images in '10_food_classes_1_percent/train/ice_cream'.\n",
            "There are 0 directories and 7 images in '10_food_classes_1_percent/train/ramen'.\n",
            "There are 0 directories and 7 images in '10_food_classes_1_percent/train/fried_rice'.\n",
            "There are 0 directories and 7 images in '10_food_classes_1_percent/train/chicken_curry'.\n",
            "There are 0 directories and 7 images in '10_food_classes_1_percent/train/grilled_salmon'.\n",
            "There are 0 directories and 7 images in '10_food_classes_1_percent/train/hamburger'.\n",
            "There are 10 directories and 0 images in '10_food_classes_1_percent/test'.\n",
            "There are 0 directories and 250 images in '10_food_classes_1_percent/test/chicken_wings'.\n",
            "There are 0 directories and 250 images in '10_food_classes_1_percent/test/sushi'.\n",
            "There are 0 directories and 250 images in '10_food_classes_1_percent/test/steak'.\n",
            "There are 0 directories and 250 images in '10_food_classes_1_percent/test/pizza'.\n",
            "There are 0 directories and 250 images in '10_food_classes_1_percent/test/ice_cream'.\n",
            "There are 0 directories and 250 images in '10_food_classes_1_percent/test/ramen'.\n",
            "There are 0 directories and 250 images in '10_food_classes_1_percent/test/fried_rice'.\n",
            "There are 0 directories and 250 images in '10_food_classes_1_percent/test/chicken_curry'.\n",
            "There are 0 directories and 250 images in '10_food_classes_1_percent/test/grilled_salmon'.\n",
            "There are 0 directories and 250 images in '10_food_classes_1_percent/test/hamburger'.\n"
          ],
          "name": "stdout"
        }
      ]
    },
    {
      "cell_type": "code",
      "metadata": {
        "id": "gfhDzG-MrLNX",
        "outputId": "5d584dfa-0890-4e25-debc-4a24b7ca7c98",
        "colab": {
          "base_uri": "https://localhost:8080/"
        }
      },
      "source": [
        "#Setup data loaders\n",
        "IMG_SIZE = (224,224)\n",
        "train_data_1_percent = tf.keras.preprocessing.image_dataset_from_directory(train_dir_1_percent,\n",
        "                                                                           label_mode=\"categorical\",\n",
        "                                                                           image_size=IMG_SIZE,\n",
        "                                                                           batch_size=BATCH_SIZE)\n",
        "\n",
        "test_data = tf.keras.preprocessing.image_dataset_from_directory(test_dir,\n",
        "                                                                label_mode=\"categorical\",\n",
        "                                                                image_size=IMG_SIZE,\n",
        "                                                                batch_size=BATCH_SIZE)"
      ],
      "execution_count": 23,
      "outputs": [
        {
          "output_type": "stream",
          "text": [
            "Found 70 files belonging to 10 classes.\n",
            "Found 2500 files belonging to 10 classes.\n"
          ],
          "name": "stdout"
        }
      ]
    },
    {
      "cell_type": "markdown",
      "metadata": {
        "id": "EYIO-ovtsPrQ"
      },
      "source": [
        "## Adding data augmentation right into the model\n",
        "\n",
        "To add data augmentation right into our models, we can use the layers inside:\n",
        "\n",
        "* tf.keras.layers.experimental.preprocessing()"
      ]
    },
    {
      "cell_type": "code",
      "metadata": {
        "id": "nGJaL76Sr9Tp"
      },
      "source": [
        "import tensorflow as tf\n",
        "from tensorflow import keras\n",
        "from tensorflow.keras import layers\n",
        "from tensorflow.keras.layers.experimental import preprocessing\n",
        "\n",
        "#Create data augmentation stage\n",
        "data_augmentation = keras.Sequential([\n",
        "                                      preprocessing.RandomFlip(\"horizontal\"),\n",
        "                                      preprocessing.RandomRotation(0.2),\n",
        "                                      preprocessing.RandomZoom(0.2),\n",
        "                                      preprocessing.RandomHeight(0.2),\n",
        "                                      preprocessing.RandomWidth(0.2),\n",
        "], name=\"data_augmentation\")"
      ],
      "execution_count": 24,
      "outputs": []
    },
    {
      "cell_type": "markdown",
      "metadata": {
        "id": "sDr-aMFfvAWg"
      },
      "source": [
        "### Visualize our data augmentation layer (and see what happens to our data)"
      ]
    },
    {
      "cell_type": "code",
      "metadata": {
        "id": "aV7fYuUAtZZ-",
        "outputId": "e276b287-0c39-41ca-dc04-afc4cfc35a75",
        "colab": {
          "base_uri": "https://localhost:8080/",
          "height": 528
        }
      },
      "source": [
        "#View a random image and compare it to its augmented version\n",
        "import matplotlib.pyplot as plt\n",
        "import matplotlib.image as mpimp\n",
        "import os\n",
        "import random\n",
        "target_class = random.choice(train_data_1_percent.class_names)\n",
        "target_dir = \"10_food_classes_1_percent/train/\" + target_class\n",
        "random_image = random.choice(os.listdir(target_dir))\n",
        "random_image_path = target_dir + \"/\" + random_image\n",
        "\n",
        "#Read in the random image\n",
        "img = mpimp.imread(random_image_path)\n",
        "plt.title(f\"Original random image from class: {target_class}\")\n",
        "plt.axis(False)\n",
        "plt.imshow(img)\n",
        "\n",
        "# Now let´s plot our augmented random image\n",
        "augmented_img = data_augmentation(tf.expand_dims(img, axis=0))\n",
        "plt.figure()\n",
        "plt.title(f\"Augmented random image from class: {target_class}\")\n",
        "plt.axis(False)\n",
        "plt.imshow(tf.squeeze(augmented_img)/255.)"
      ],
      "execution_count": 26,
      "outputs": [
        {
          "output_type": "execute_result",
          "data": {
            "text/plain": [
              "<matplotlib.image.AxesImage at 0x7fc398ff3a10>"
            ]
          },
          "metadata": {
            "tags": []
          },
          "execution_count": 26
        },
        {
          "output_type": "display_data",
          "data": {
            "image/png": "[encoded data removed]",
            "text/plain": [
              "<Figure size 432x288 with 1 Axes>"
            ]
          },
          "metadata": {
            "tags": [],
            "needs_background": "light"
          }
        },
        {
          "output_type": "display_data",
          "data": {
            "image/png": "[encoded data removed]",
            "text/plain": [
              "<Figure size 432x288 with 1 Axes>"
            ]
          },
          "metadata": {
            "tags": [],
            "needs_background": "light"
          }
        }
      ]
    },
    {
      "cell_type": "markdown",
      "metadata": {
        "id": "RVEyD3lh_U0U"
      },
      "source": [
        "## Model 1: Feature extraction transfer learning on 1% of the data with data augmentation"
      ]
    },
    {
      "cell_type": "code",
      "metadata": {
        "id": "mFHxAAkdvL0q",
        "outputId": "a140f392-72fc-4eb5-9e8f-7965b7c06b51",
        "colab": {
          "base_uri": "https://localhost:8080/"
        }
      },
      "source": [
        "\n",
        "# Setup input shape and base model, freezing the base model layers\n",
        "input_shape = (224, 224, 3)\n",
        "base_model = tf.keras.applications.EfficientNetB0(include_top=False)\n",
        "base_model.trainable = False\n",
        "\n",
        "# Create input layer\n",
        "inputs = layers.Input(shape=input_shape, name=\"input_layer\")\n",
        "\n",
        "# Add in data augmentation Sequential model as a layer\n",
        "x = data_augmentation(inputs)\n",
        "\n",
        "# Give base_model inputs (after augmentation) and don't train it\n",
        "x = base_model(x, training=False)\n",
        "\n",
        "# Pool output features of base model\n",
        "x = layers.GlobalAveragePooling2D(name=\"global_average_pooling_layer\")(x)\n",
        "\n",
        "# Put a dense layer on as the output\n",
        "outputs = layers.Dense(10, activation=\"softmax\", name=\"output_layer\")(x)\n",
        "\n",
        "# Make a model with inputs and outputs\n",
        "model_1 = keras.Model(inputs, outputs)\n",
        "\n",
        "# Compile the model\n",
        "model_1.compile(loss=\"categorical_crossentropy\",\n",
        "              optimizer=tf.keras.optimizers.Adam(),\n",
        "              metrics=[\"accuracy\"])\n",
        "\n",
        "# Fit the model\n",
        "history_1_percent = model_1.fit(train_data_1_percent,\n",
        "                    epochs=5,\n",
        "                    steps_per_epoch=len(train_data_1_percent),\n",
        "                    validation_data=test_data,\n",
        "                    validation_steps=int(0.25* len(test_data)), # validate for less steps\n",
        "                    # Track model training logs\n",
        "                    callbacks=[create_tensorboard_callback(\"transfer_learning\", \"1_percent_data_aug\")])"
      ],
      "execution_count": 31,
      "outputs": [
        {
          "output_type": "stream",
          "text": [
            "Saving TensorBoard log files to: transfer_learning/1_percent_data_aug/20210721-122800\n",
            "Epoch 1/5\n"
          ],
          "name": "stdout"
        },
        {
          "output_type": "stream",
          "text": [
            "/usr/local/lib/python3.7/dist-packages/tensorflow/python/keras/utils/generic_utils.py:497: CustomMaskWarning: Custom mask layers require a config and must override get_config. When loading, the custom mask layer must be passed to the custom_objects argument.\n",
            "  category=CustomMaskWarning)\n"
          ],
          "name": "stderr"
        },
        {
          "output_type": "stream",
          "text": [
            "3/3 [==============================] - 11s 3s/step - loss: 2.3798 - accuracy: 0.1000 - val_loss: 2.2172 - val_accuracy: 0.1875\n",
            "Epoch 2/5\n",
            "3/3 [==============================] - 4s 1s/step - loss: 2.0841 - accuracy: 0.3286 - val_loss: 2.0979 - val_accuracy: 0.2681\n",
            "Epoch 3/5\n",
            "3/3 [==============================] - 4s 2s/step - loss: 2.0090 - accuracy: 0.3857 - val_loss: 1.9971 - val_accuracy: 0.3388\n",
            "Epoch 4/5\n",
            "3/3 [==============================] - 3s 1s/step - loss: 1.7673 - accuracy: 0.5857 - val_loss: 1.9002 - val_accuracy: 0.4046\n",
            "Epoch 5/5\n",
            "3/3 [==============================] - 4s 2s/step - loss: 1.6040 - accuracy: 0.7143 - val_loss: 1.8321 - val_accuracy: 0.4622\n"
          ],
          "name": "stdout"
        }
      ]
    },
    {
      "cell_type": "code",
      "metadata": {
        "id": "rlthiHLh_ovg",
        "outputId": "293c00f2-14f4-4a76-cf70-4cbb1d0f8db9",
        "colab": {
          "base_uri": "https://localhost:8080/"
        }
      },
      "source": [
        "#Check out a model summary\n",
        "model_1.summary()"
      ],
      "execution_count": 32,
      "outputs": [
        {
          "output_type": "stream",
          "text": [
            "Model: \"model_1\"\n",
            "_________________________________________________________________\n",
            "Layer (type)                 Output Shape              Param #   \n",
            "=================================================================\n",
            "input_layer (InputLayer)     [(None, 224, 224, 3)]     0         \n",
            "_________________________________________________________________\n",
            "data_augmentation (Sequentia (None, None, None, 3)     0         \n",
            "_________________________________________________________________\n",
            "efficientnetb0 (Functional)  (None, None, None, 1280)  4049571   \n",
            "_________________________________________________________________\n",
            "global_average_pooling_layer (None, 1280)              0         \n",
            "_________________________________________________________________\n",
            "output_layer (Dense)         (None, 10)                12810     \n",
            "=================================================================\n",
            "Total params: 4,062,381\n",
            "Trainable params: 12,810\n",
            "Non-trainable params: 4,049,571\n",
            "_________________________________________________________________\n"
          ],
          "name": "stdout"
        }
      ]
    },
    {
      "cell_type": "code",
      "metadata": {
        "id": "VxVHGhr6DHPc",
        "outputId": "b7bb8e32-0ba0-4dc2-c28f-c81a74194b62",
        "colab": {
          "base_uri": "https://localhost:8080/"
        }
      },
      "source": [
        "#Evaluate on the full test data set \n",
        "results_1_percent_data_aug = model_1.evaluate(test_data)"
      ],
      "execution_count": 34,
      "outputs": [
        {
          "output_type": "stream",
          "text": [
            "79/79 [==============================] - 9s 104ms/step - loss: 1.8109 - accuracy: 0.4784\n"
          ],
          "name": "stdout"
        }
      ]
    },
    {
      "cell_type": "code",
      "metadata": {
        "id": "MunXOlXdDOtw",
        "outputId": "f3a9056f-d8b6-4682-e4fd-87684812a96d",
        "colab": {
          "base_uri": "https://localhost:8080/",
          "height": 573
        }
      },
      "source": [
        "# How do the model with 1% of the data augmentation loss curves look like?\n",
        "plot_loss_curves(history_1_percent)"
      ],
      "execution_count": 36,
      "outputs": [
        {
          "output_type": "display_data",
          "data": {
            "image/png": "[encoded data removed]",
            "text/plain": [
              "<Figure size 432x288 with 1 Axes>"
            ]
          },
          "metadata": {
            "tags": [],
            "needs_background": "light"
          }
        },
        {
          "output_type": "display_data",
          "data": {
            "image/png": "[encoded data removed]",
            "text/plain": [
              "<Figure size 432x288 with 1 Axes>"
            ]
          },
          "metadata": {
            "tags": [],
            "needs_background": "light"
          }
        }
      ]
    },
    {
      "cell_type": "markdown",
      "metadata": {
        "id": "K1Y_kG12Et1z"
      },
      "source": [
        "## Model 2: feature extraction transfer learning model with 10% of data and data augmentation"
      ]
    },
    {
      "cell_type": "code",
      "metadata": {
        "id": "nRz-zjEGDsgT"
      },
      "source": [
        "#get 10 percent of data\n",
        "train_data_10_percent = \"10_food_classes_10_percent/train/\"\n",
        "test_dir = \"10_food_classes_10_percent/test/\""
      ],
      "execution_count": 41,
      "outputs": []
    },
    {
      "cell_type": "code",
      "metadata": {
        "id": "B-CBvFVYGBYK",
        "outputId": "63fdea7d-26ae-480e-d4e9-cf1bfc7528a6",
        "colab": {
          "base_uri": "https://localhost:8080/"
        }
      },
      "source": [
        "#How many images in directory?\n",
        "walk_through_dir(\"10_food_classes_10_percent\")"
      ],
      "execution_count": 44,
      "outputs": [
        {
          "output_type": "stream",
          "text": [
            "There are 2 directories and 0 images in '10_food_classes_10_percent'.\n",
            "There are 10 directories and 0 images in '10_food_classes_10_percent/train'.\n",
            "There are 0 directories and 75 images in '10_food_classes_10_percent/train/chicken_wings'.\n",
            "There are 0 directories and 75 images in '10_food_classes_10_percent/train/sushi'.\n",
            "There are 0 directories and 75 images in '10_food_classes_10_percent/train/steak'.\n",
            "There are 0 directories and 75 images in '10_food_classes_10_percent/train/pizza'.\n",
            "There are 0 directories and 75 images in '10_food_classes_10_percent/train/ice_cream'.\n",
            "There are 0 directories and 75 images in '10_food_classes_10_percent/train/ramen'.\n",
            "There are 0 directories and 75 images in '10_food_classes_10_percent/train/fried_rice'.\n",
            "There are 0 directories and 75 images in '10_food_classes_10_percent/train/chicken_curry'.\n",
            "There are 0 directories and 75 images in '10_food_classes_10_percent/train/grilled_salmon'.\n",
            "There are 0 directories and 75 images in '10_food_classes_10_percent/train/hamburger'.\n",
            "There are 10 directories and 0 images in '10_food_classes_10_percent/test'.\n",
            "There are 0 directories and 250 images in '10_food_classes_10_percent/test/chicken_wings'.\n",
            "There are 0 directories and 250 images in '10_food_classes_10_percent/test/sushi'.\n",
            "There are 0 directories and 250 images in '10_food_classes_10_percent/test/steak'.\n",
            "There are 0 directories and 250 images in '10_food_classes_10_percent/test/pizza'.\n",
            "There are 0 directories and 250 images in '10_food_classes_10_percent/test/ice_cream'.\n",
            "There are 0 directories and 250 images in '10_food_classes_10_percent/test/ramen'.\n",
            "There are 0 directories and 250 images in '10_food_classes_10_percent/test/fried_rice'.\n",
            "There are 0 directories and 250 images in '10_food_classes_10_percent/test/chicken_curry'.\n",
            "There are 0 directories and 250 images in '10_food_classes_10_percent/test/grilled_salmon'.\n",
            "There are 0 directories and 250 images in '10_food_classes_10_percent/test/hamburger'.\n"
          ],
          "name": "stdout"
        }
      ]
    },
    {
      "cell_type": "code",
      "metadata": {
        "id": "OpiN8cFxFJ1Y",
        "outputId": "87be396e-f9bc-435e-d45a-02c4598e8bb8",
        "colab": {
          "base_uri": "https://localhost:8080/"
        }
      },
      "source": [
        "#Set data inputs\n",
        "import tensorflow as tf\n",
        "IMG_SIZE = (224,224)\n",
        "\n",
        "train_data_10_percent = tf.keras.preprocessing.image_dataset_from_directory(train_data_10_percent, \n",
        "                                                                            label_mode=\"categorical\",\n",
        "                                                                            image_size=IMG_SIZE)\n",
        "\n",
        "test_data = tf.keras.preprocessing.image_dataset_from_directory(test_dir,\n",
        "                                                                label_mode=\"categorical\",\n",
        "                                                                image_size=IMG_SIZE)"
      ],
      "execution_count": 42,
      "outputs": [
        {
          "output_type": "stream",
          "text": [
            "Found 750 files belonging to 10 classes.\n",
            "Found 2500 files belonging to 10 classes.\n"
          ],
          "name": "stdout"
        }
      ]
    },
    {
      "cell_type": "code",
      "metadata": {
        "id": "PURIAlhpFniT"
      },
      "source": [
        "#Create model 2 with data augmentation build in\n",
        "from tensorflow.keras import layers\n",
        "from tensorflow.keras.layers.experimental import preprocessing\n",
        "from tensorflow.keras.models import Sequential\n",
        "\n",
        "#Build data augmentation layer\n",
        "data_augmentation = Sequential([\n",
        "                                preprocessing.RandomFlip(\"horizontal\"),\n",
        "                                preprocessing.RandomHeight(0.2),\n",
        "                                preprocessing.RandomWidth(0.2),\n",
        "                                preprocessing.RandomZoom(0.2),\n",
        "                                preprocessing.RandomRotation(0.2)\n",
        "],name=\"data_augmentation\")\n",
        "\n",
        "#Setup the inpur shape to our model\n",
        "input_shape = (224,224,3)\n",
        "\n",
        "#Create a frozen base model (backbone)\n",
        "base_model = tf.keras.applications.EfficientNetB0(include_top=False)\n",
        "base_model.trainable = False\n",
        "\n",
        "#Create the inputs and outputs \n",
        "inputs = layers.Input(shape=input_shape, name=\"input_layer\")\n",
        "x = data_augmentation(inputs)\n",
        "x = base_model(x, training=False)\n",
        "x = layers.GlobalAveragePooling2D(name=\"global_average_pooling_2D\")(x)\n",
        "outputs = layers.Dense(10, activation=\"softmax\")(x)\n",
        "\n",
        "#Make the model with inputs and outputs\n",
        "model_2 = keras.Model(inputs, outputs)\n",
        "\n",
        "#Compile the model\n",
        "model_2.compile(loss=\"categorical_crossentropy\", optimizer=\"Adam\", metrics=[\"accuracy\"])"
      ],
      "execution_count": 51,
      "outputs": []
    },
    {
      "cell_type": "code",
      "metadata": {
        "id": "MEHdRcCzG5LS",
        "outputId": "af64174e-7208-43fa-80e3-18519d450862",
        "colab": {
          "base_uri": "https://localhost:8080/"
        }
      },
      "source": [
        "model_2.summary()"
      ],
      "execution_count": 52,
      "outputs": [
        {
          "output_type": "stream",
          "text": [
            "Model: \"model_3\"\n",
            "_________________________________________________________________\n",
            "Layer (type)                 Output Shape              Param #   \n",
            "=================================================================\n",
            "input_layer (InputLayer)     [(None, 224, 224, 3)]     0         \n",
            "_________________________________________________________________\n",
            "data_augmentation (Sequentia (None, None, None, 3)     0         \n",
            "_________________________________________________________________\n",
            "efficientnetb0 (Functional)  (None, None, None, 1280)  4049571   \n",
            "_________________________________________________________________\n",
            "global_average_pooling_2D (G (None, 1280)              0         \n",
            "_________________________________________________________________\n",
            "dense_1 (Dense)              (None, 10)                12810     \n",
            "=================================================================\n",
            "Total params: 4,062,381\n",
            "Trainable params: 12,810\n",
            "Non-trainable params: 4,049,571\n",
            "_________________________________________________________________\n"
          ],
          "name": "stdout"
        }
      ]
    },
    {
      "cell_type": "markdown",
      "metadata": {
        "id": "dCXU-gyQJb7I"
      },
      "source": [
        "### Creating a model checkpoint callback\n",
        "\n",
        "The ModelCheckpoint callback intermediately saves our model (the full model or just the wheights) during training. This is useful so we can come and start where we left off."
      ]
    },
    {
      "cell_type": "code",
      "metadata": {
        "id": "uMVs4Q0fIRaE"
      },
      "source": [
        "#Set checkpoint path\n",
        "checkpoint_path = \"ten_percent_model_checkpoints_weights/checkpoint.ckpt\"\n",
        "\n",
        "#Create a ModelCheckpoint callback that saves the model´s weights only\n",
        "checkpoint_callback = tf.keras.callbacks.ModelCheckpoint(filepath=checkpoint_path, \n",
        "                                                         save_weights_only=True, \n",
        "                                                         save_best_only=False, \n",
        "                                                         save_freq=\"epoch\" #save ebery epoch\n",
        "                                                         ,verbose=1)"
      ],
      "execution_count": 54,
      "outputs": []
    },
    {
      "cell_type": "markdown",
      "metadata": {
        "id": "i8r-cSLWLRIl"
      },
      "source": [
        "### Fit model 2 passing in the ModelCheckpoint callback"
      ]
    },
    {
      "cell_type": "code",
      "metadata": {
        "id": "ON__60NUK9H0",
        "outputId": "8de170ce-28a6-47c9-c121-32937a80d1d8",
        "colab": {
          "base_uri": "https://localhost:8080/"
        }
      },
      "source": [
        "# Fit the model saving checkpoints every epoch\n",
        "initial_epochs = 5\n",
        "history_10_percent_data_aug = model_2.fit(train_data_10_percent,\n",
        "                                          epochs=initial_epochs,\n",
        "                                          steps_per_epoch=len(train_data_10_percent),\n",
        "                                          validation_data = test_data,\n",
        "                                          validation_steps=int(0.25 * len(test_data)),\n",
        "                                          callbacks=[create_tensorboard_callback(\"transfer_learning\", \"10_percent_data_aug\"), checkpoint_callback])"
      ],
      "execution_count": 55,
      "outputs": [
        {
          "output_type": "stream",
          "text": [
            "Saving TensorBoard log files to: transfer_learning/10_percent_data_aug/20210721-130924\n",
            "Epoch 1/5\n"
          ],
          "name": "stdout"
        },
        {
          "output_type": "stream",
          "text": [
            "/usr/local/lib/python3.7/dist-packages/tensorflow/python/keras/utils/generic_utils.py:497: CustomMaskWarning: Custom mask layers require a config and must override get_config. When loading, the custom mask layer must be passed to the custom_objects argument.\n",
            "  category=CustomMaskWarning)\n"
          ],
          "name": "stderr"
        },
        {
          "output_type": "stream",
          "text": [
            "24/24 [==============================] - 19s 575ms/step - loss: 2.0680 - accuracy: 0.3000 - val_loss: 1.5295 - val_accuracy: 0.6332\n",
            "\n",
            "Epoch 00001: saving model to ten_percent_model_checkpoints_weights/checkpoint.ckpt\n",
            "Epoch 2/5\n",
            "24/24 [==============================] - 10s 419ms/step - loss: 1.4036 - accuracy: 0.6547 - val_loss: 1.1016 - val_accuracy: 0.7434\n",
            "\n",
            "Epoch 00002: saving model to ten_percent_model_checkpoints_weights/checkpoint.ckpt\n",
            "Epoch 3/5\n",
            "24/24 [==============================] - 11s 429ms/step - loss: 1.1026 - accuracy: 0.7240 - val_loss: 0.8769 - val_accuracy: 0.7812\n",
            "\n",
            "Epoch 00003: saving model to ten_percent_model_checkpoints_weights/checkpoint.ckpt\n",
            "Epoch 4/5\n",
            "24/24 [==============================] - 10s 397ms/step - loss: 0.9341 - accuracy: 0.7640 - val_loss: 0.7957 - val_accuracy: 0.7845\n",
            "\n",
            "Epoch 00004: saving model to ten_percent_model_checkpoints_weights/checkpoint.ckpt\n",
            "Epoch 5/5\n",
            "24/24 [==============================] - 9s 376ms/step - loss: 0.8293 - accuracy: 0.7840 - val_loss: 0.7092 - val_accuracy: 0.8141\n",
            "\n",
            "Epoch 00005: saving model to ten_percent_model_checkpoints_weights/checkpoint.ckpt\n"
          ],
          "name": "stdout"
        }
      ]
    },
    {
      "cell_type": "code",
      "metadata": {
        "id": "_AeZiVDwL2Xo",
        "outputId": "99b5cb01-468d-474b-aff0-e0a40774cdcf",
        "colab": {
          "base_uri": "https://localhost:8080/",
          "height": 590
        }
      },
      "source": [
        "results_10_percent_data_aug = model_2.evaluate(test_data)\n",
        "plot_loss_curves(history_10_percent_data_aug)"
      ],
      "execution_count": 57,
      "outputs": [
        {
          "output_type": "stream",
          "text": [
            "79/79 [==============================] - 9s 107ms/step - loss: 0.7014 - accuracy: 0.8180\n"
          ],
          "name": "stdout"
        },
        {
          "output_type": "display_data",
          "data": {
            "image/png": "[encoded data removed]",
            "text/plain": [
              "<Figure size 432x288 with 1 Axes>"
            ]
          },
          "metadata": {
            "tags": [],
            "needs_background": "light"
          }
        },
        {
          "output_type": "display_data",
          "data": {
            "image/png": "[encoded data removed]",
            "text/plain": [
              "<Figure size 432x288 with 1 Axes>"
            ]
          },
          "metadata": {
            "tags": [],
            "needs_background": "light"
          }
        }
      ]
    },
    {
      "cell_type": "markdown",
      "metadata": {
        "id": "1sDKpU4xNDbi"
      },
      "source": [
        "### Loading in checkpointed weights"
      ]
    },
    {
      "cell_type": "code",
      "metadata": {
        "id": "hoMpKh8hMFug",
        "outputId": "663ef996-2600-47a5-b7af-0524cb4baf5b",
        "colab": {
          "base_uri": "https://localhost:8080/"
        }
      },
      "source": [
        "# Load in saved model weights and evaluate model\n",
        "print(checkpoint_path)\n",
        "model_2.load_weights(checkpoint_path)\n",
        "\n",
        "#Evaluate model_2 with loaded weights\n",
        "loaded_weights_model_results = model_2.evaluate(test_data)"
      ],
      "execution_count": 58,
      "outputs": [
        {
          "output_type": "stream",
          "text": [
            "ten_percent_model_checkpoints_weights/checkpoint.ckpt\n",
            "79/79 [==============================] - 9s 109ms/step - loss: 0.7014 - accuracy: 0.8180\n"
          ],
          "name": "stdout"
        }
      ]
    },
    {
      "cell_type": "code",
      "metadata": {
        "id": "UU6o1gCQNiUY",
        "outputId": "407b70c0-5523-4987-d565-a87073d51bd5",
        "colab": {
          "base_uri": "https://localhost:8080/"
        }
      },
      "source": [
        "# Check to see if loaded model results are very close to our previous non-loaded model results\n",
        "import numpy as np\n",
        "np.isclose(np.array(results_10_percent_data_aug), np.array(loaded_weights_model_results))"
      ],
      "execution_count": 60,
      "outputs": [
        {
          "output_type": "execute_result",
          "data": {
            "text/plain": [
              "array([ True,  True])"
            ]
          },
          "metadata": {
            "tags": []
          },
          "execution_count": 60
        }
      ]
    },
    {
      "cell_type": "code",
      "metadata": {
        "id": "MH8BZEkIOEka",
        "outputId": "cedcb58a-34d2-4db7-9aae-62809dc7cec9",
        "colab": {
          "base_uri": "https://localhost:8080/"
        }
      },
      "source": [
        "#Check the difference between the two results\n",
        "print(np.array(results_10_percent_data_aug) - np.array(loaded_weights_model_results))"
      ],
      "execution_count": 61,
      "outputs": [
        {
          "output_type": "stream",
          "text": [
            "[-1.78813934e-07  0.00000000e+00]\n"
          ],
          "name": "stdout"
        }
      ]
    },
    {
      "cell_type": "markdown",
      "metadata": {
        "id": "0_8JwS8CPTYq"
      },
      "source": [
        "## Model 3: Fine-tuning an existing model on 10 percent of the data\n",
        "\n",
        "Fine-tuning usually works best after training a feature extraction model for a few epochs with a large amount of custom data.\n",
        "\n",
        "Model 3 is a fine tuned version of Model 2"
      ]
    },
    {
      "cell_type": "code",
      "metadata": {
        "id": "cNgjDhYSORH3",
        "outputId": "00aa9a7f-e39c-4ed7-ca65-7f528e672bb1",
        "colab": {
          "base_uri": "https://localhost:8080/"
        }
      },
      "source": [
        "#Layers in loaded model\n",
        "model_2.layers"
      ],
      "execution_count": 62,
      "outputs": [
        {
          "output_type": "execute_result",
          "data": {
            "text/plain": [
              "[<tensorflow.python.keras.engine.input_layer.InputLayer at 0x7fc29a06c2d0>,\n",
              " <tensorflow.python.keras.engine.sequential.Sequential at 0x7fc29a02e110>,\n",
              " <tensorflow.python.keras.engine.functional.Functional at 0x7fc297e369d0>,\n",
              " <tensorflow.python.keras.layers.pooling.GlobalAveragePooling2D at 0x7fc297dfadd0>,\n",
              " <tensorflow.python.keras.layers.core.Dense at 0x7fc297d9c710>]"
            ]
          },
          "metadata": {
            "tags": []
          },
          "execution_count": 62
        }
      ]
    },
    {
      "cell_type": "code",
      "metadata": {
        "id": "Rn06vMWvQfqr",
        "outputId": "03924557-d685-4560-d6af-1b6692471352",
        "colab": {
          "base_uri": "https://localhost:8080/"
        }
      },
      "source": [
        "#Are these layers trainable?\n",
        "for layer in model_2.layers:\n",
        "  print(layer, layer.trainable)"
      ],
      "execution_count": 64,
      "outputs": [
        {
          "output_type": "stream",
          "text": [
            "<tensorflow.python.keras.engine.input_layer.InputLayer object at 0x7fc29a06c2d0> True\n",
            "<tensorflow.python.keras.engine.sequential.Sequential object at 0x7fc29a02e110> True\n",
            "<tensorflow.python.keras.engine.functional.Functional object at 0x7fc297e369d0> False\n",
            "<tensorflow.python.keras.layers.pooling.GlobalAveragePooling2D object at 0x7fc297dfadd0> True\n",
            "<tensorflow.python.keras.layers.core.Dense object at 0x7fc297d9c710> True\n"
          ],
          "name": "stdout"
        }
      ]
    },
    {
      "cell_type": "code",
      "metadata": {
        "id": "1UFIzvsxQkz5",
        "outputId": "cdd4129f-d618-4148-f73c-82ffc55834e1",
        "colab": {
          "base_uri": "https://localhost:8080/"
        }
      },
      "source": [
        "for i, layer in enumerate(model_2.layers[2].layers):\n",
        "  print(i, layer, layer.name, layer.trainable)"
      ],
      "execution_count": 65,
      "outputs": [
        {
          "output_type": "stream",
          "text": [
            "0 <tensorflow.python.keras.engine.input_layer.InputLayer object at 0x7fc29a07d190> input_6 False\n",
            "1 <tensorflow.python.keras.layers.preprocessing.image_preprocessing.Rescaling object at 0x7fc29a08f850> rescaling_5 False\n",
            "2 <tensorflow.python.keras.layers.preprocessing.normalization.Normalization object at 0x7fc29a0221d0> normalization_5 False\n",
            "3 <tensorflow.python.keras.layers.convolutional.ZeroPadding2D object at 0x7fc29a08fd10> stem_conv_pad False\n",
            "4 <tensorflow.python.keras.layers.convolutional.Conv2D object at 0x7fc29a51fbd0> stem_conv False\n",
            "5 <tensorflow.python.keras.layers.normalization_v2.BatchNormalization object at 0x7fc29a4822d0> stem_bn False\n",
            "6 <tensorflow.python.keras.layers.core.Activation object at 0x7fc29a022d10> stem_activation False\n",
            "7 <tensorflow.python.keras.layers.convolutional.DepthwiseConv2D object at 0x7fc29a055c50> block1a_dwconv False\n",
            "8 <tensorflow.python.keras.layers.normalization_v2.BatchNormalization object at 0x7fc29a0552d0> block1a_bn False\n",
            "9 <tensorflow.python.keras.layers.core.Activation object at 0x7fc29a05e550> block1a_activation False\n",
            "10 <tensorflow.python.keras.layers.pooling.GlobalAveragePooling2D object at 0x7fc29a04b290> block1a_se_squeeze False\n",
            "11 <tensorflow.python.keras.layers.core.Reshape object at 0x7fc29a066f50> block1a_se_reshape False\n",
            "12 <tensorflow.python.keras.layers.convolutional.Conv2D object at 0x7fc299fea550> block1a_se_reduce False\n",
            "13 <tensorflow.python.keras.layers.convolutional.Conv2D object at 0x7fc29a044fd0> block1a_se_expand False\n",
            "14 <tensorflow.python.keras.layers.merge.Multiply object at 0x7fc299fea0d0> block1a_se_excite False\n",
            "15 <tensorflow.python.keras.layers.convolutional.Conv2D object at 0x7fc29a00a290> block1a_project_conv False\n",
            "16 <tensorflow.python.keras.layers.normalization_v2.BatchNormalization object at 0x7fc299fdaf50> block1a_project_bn False\n",
            "17 <tensorflow.python.keras.layers.convolutional.Conv2D object at 0x7fc299ff0b10> block2a_expand_conv False\n",
            "18 <tensorflow.python.keras.layers.normalization_v2.BatchNormalization object at 0x7fc29821af10> block2a_expand_bn False\n",
            "19 <tensorflow.python.keras.layers.core.Activation object at 0x7fc29a00ad90> block2a_expand_activation False\n",
            "20 <tensorflow.python.keras.layers.convolutional.ZeroPadding2D object at 0x7fc29821ad50> block2a_dwconv_pad False\n",
            "21 <tensorflow.python.keras.layers.convolutional.DepthwiseConv2D object at 0x7fc29822ea10> block2a_dwconv False\n",
            "22 <tensorflow.python.keras.layers.normalization_v2.BatchNormalization object at 0x7fc299fdae90> block2a_bn False\n",
            "23 <tensorflow.python.keras.layers.core.Activation object at 0x7fc299fe24d0> block2a_activation False\n",
            "24 <tensorflow.python.keras.layers.pooling.GlobalAveragePooling2D object at 0x7fc29822e410> block2a_se_squeeze False\n",
            "25 <tensorflow.python.keras.layers.core.Reshape object at 0x7fc298246e50> block2a_se_reshape False\n",
            "26 <tensorflow.python.keras.layers.convolutional.Conv2D object at 0x7fc29823dd50> block2a_se_reduce False\n",
            "27 <tensorflow.python.keras.layers.convolutional.Conv2D object at 0x7fc29821a790> block2a_se_expand False\n",
            "28 <tensorflow.python.keras.layers.merge.Multiply object at 0x7fc2981dac10> block2a_se_excite False\n",
            "29 <tensorflow.python.keras.layers.convolutional.Conv2D object at 0x7fc298241f90> block2a_project_conv False\n",
            "30 <tensorflow.python.keras.layers.normalization_v2.BatchNormalization object at 0x7fc298241b50> block2a_project_bn False\n",
            "31 <tensorflow.python.keras.layers.convolutional.Conv2D object at 0x7fc29a08fdd0> block2b_expand_conv False\n",
            "32 <tensorflow.python.keras.layers.normalization_v2.BatchNormalization object at 0x7fc29823d150> block2b_expand_bn False\n",
            "33 <tensorflow.python.keras.layers.core.Activation object at 0x7fc2981ea350> block2b_expand_activation False\n",
            "34 <tensorflow.python.keras.layers.convolutional.DepthwiseConv2D object at 0x7fc2981f0290> block2b_dwconv False\n",
            "35 <tensorflow.python.keras.layers.normalization_v2.BatchNormalization object at 0x7fc29824d910> block2b_bn False\n",
            "36 <tensorflow.python.keras.layers.core.Activation object at 0x7fc299ff8390> block2b_activation False\n",
            "37 <tensorflow.python.keras.layers.pooling.GlobalAveragePooling2D object at 0x7fc2982417d0> block2b_se_squeeze False\n",
            "38 <tensorflow.python.keras.layers.core.Reshape object at 0x7fc29822e5d0> block2b_se_reshape False\n",
            "39 <tensorflow.python.keras.layers.convolutional.Conv2D object at 0x7fc29a03f650> block2b_se_reduce False\n",
            "40 <tensorflow.python.keras.layers.convolutional.Conv2D object at 0x7fc2981ea9d0> block2b_se_expand False\n",
            "41 <tensorflow.python.keras.layers.merge.Multiply object at 0x7fc29a03f8d0> block2b_se_excite False\n",
            "42 <tensorflow.python.keras.layers.convolutional.Conv2D object at 0x7fc298211c10> block2b_project_conv False\n",
            "43 <tensorflow.python.keras.layers.normalization_v2.BatchNormalization object at 0x7fc2981ffc90> block2b_project_bn False\n",
            "44 <tensorflow.python.keras.layers.core.Dropout object at 0x7fc2981ffed0> block2b_drop False\n",
            "45 <tensorflow.python.keras.layers.merge.Add object at 0x7fc298211a90> block2b_add False\n",
            "46 <tensorflow.python.keras.layers.convolutional.Conv2D object at 0x7fc29819ce10> block3a_expand_conv False\n",
            "47 <tensorflow.python.keras.layers.normalization_v2.BatchNormalization object at 0x7fc2981aae90> block3a_expand_bn False\n",
            "48 <tensorflow.python.keras.layers.core.Activation object at 0x7fc2981a1750> block3a_expand_activation False\n",
            "49 <tensorflow.python.keras.layers.convolutional.ZeroPadding2D object at 0x7fc29820c7d0> block3a_dwconv_pad False\n",
            "50 <tensorflow.python.keras.layers.convolutional.DepthwiseConv2D object at 0x7fc298211710> block3a_dwconv False\n",
            "51 <tensorflow.python.keras.layers.normalization_v2.BatchNormalization object at 0x7fc29824d050> block3a_bn False\n",
            "52 <tensorflow.python.keras.layers.core.Activation object at 0x7fc2981b9850> block3a_activation False\n",
            "53 <tensorflow.python.keras.layers.pooling.GlobalAveragePooling2D object at 0x7fc298206d50> block3a_se_squeeze False\n",
            "54 <tensorflow.python.keras.layers.core.Reshape object at 0x7fc29a00ab50> block3a_se_reshape False\n",
            "55 <tensorflow.python.keras.layers.convolutional.Conv2D object at 0x7fc2981bfa50> block3a_se_reduce False\n",
            "56 <tensorflow.python.keras.layers.convolutional.Conv2D object at 0x7fc2981aa690> block3a_se_expand False\n",
            "57 <tensorflow.python.keras.layers.merge.Multiply object at 0x7fc2981c63d0> block3a_se_excite False\n",
            "58 <tensorflow.python.keras.layers.convolutional.Conv2D object at 0x7fc2981af850> block3a_project_conv False\n",
            "59 <tensorflow.python.keras.layers.normalization_v2.BatchNormalization object at 0x7fc2981c1cd0> block3a_project_bn False\n",
            "60 <tensorflow.python.keras.layers.convolutional.Conv2D object at 0x7fc298167990> block3b_expand_conv False\n",
            "61 <tensorflow.python.keras.layers.normalization_v2.BatchNormalization object at 0x7fc2981bfa90> block3b_expand_bn False\n",
            "62 <tensorflow.python.keras.layers.core.Activation object at 0x7fc298167890> block3b_expand_activation False\n",
            "63 <tensorflow.python.keras.layers.convolutional.DepthwiseConv2D object at 0x7fc298171150> block3b_dwconv False\n",
            "64 <tensorflow.python.keras.layers.normalization_v2.BatchNormalization object at 0x7fc298189b10> block3b_bn False\n",
            "65 <tensorflow.python.keras.layers.core.Activation object at 0x7fc29817d090> block3b_activation False\n",
            "66 <tensorflow.python.keras.layers.pooling.GlobalAveragePooling2D object at 0x7fc298167850> block3b_se_squeeze False\n",
            "67 <tensorflow.python.keras.layers.core.Reshape object at 0x7fc298167310> block3b_se_reshape False\n",
            "68 <tensorflow.python.keras.layers.convolutional.Conv2D object at 0x7fc29811eb90> block3b_se_reduce False\n",
            "69 <tensorflow.python.keras.layers.convolutional.Conv2D object at 0x7fc29816bfd0> block3b_se_expand False\n",
            "70 <tensorflow.python.keras.layers.merge.Multiply object at 0x7fc29811e3d0> block3b_se_excite False\n",
            "71 <tensorflow.python.keras.layers.convolutional.Conv2D object at 0x7fc29817dfd0> block3b_project_conv False\n",
            "72 <tensorflow.python.keras.layers.normalization_v2.BatchNormalization object at 0x7fc29811e9d0> block3b_project_bn False\n",
            "73 <tensorflow.python.keras.layers.core.Dropout object at 0x7fc29812f090> block3b_drop False\n",
            "74 <tensorflow.python.keras.layers.merge.Add object at 0x7fc298136f10> block3b_add False\n",
            "75 <tensorflow.python.keras.layers.convolutional.Conv2D object at 0x7fc29814cb90> block4a_expand_conv False\n",
            "76 <tensorflow.python.keras.layers.normalization_v2.BatchNormalization object at 0x7fc29814ca90> block4a_expand_bn False\n",
            "77 <tensorflow.python.keras.layers.core.Activation object at 0x7fc298136510> block4a_expand_activation False\n",
            "78 <tensorflow.python.keras.layers.convolutional.ZeroPadding2D object at 0x7fc298194ed0> block4a_dwconv_pad False\n",
            "79 <tensorflow.python.keras.layers.convolutional.DepthwiseConv2D object at 0x7fc2981aa0d0> block4a_dwconv False\n",
            "80 <tensorflow.python.keras.layers.normalization_v2.BatchNormalization object at 0x7fc298115610> block4a_bn False\n",
            "81 <tensorflow.python.keras.layers.core.Activation object at 0x7fc2981c1e90> block4a_activation False\n",
            "82 <tensorflow.python.keras.layers.pooling.GlobalAveragePooling2D object at 0x7fc2981cf690> block4a_se_squeeze False\n",
            "83 <tensorflow.python.keras.layers.core.Reshape object at 0x7fc2981cf590> block4a_se_reshape False\n",
            "84 <tensorflow.python.keras.layers.convolutional.Conv2D object at 0x7fc2981fbe10> block4a_se_reduce False\n",
            "85 <tensorflow.python.keras.layers.convolutional.Conv2D object at 0x7fc29815e790> block4a_se_expand False\n",
            "86 <tensorflow.python.keras.layers.merge.Multiply object at 0x7fc2981f6b50> block4a_se_excite False\n",
            "87 <tensorflow.python.keras.layers.convolutional.Conv2D object at 0x7fc29a00dc10> block4a_project_conv False\n",
            "88 <tensorflow.python.keras.layers.normalization_v2.BatchNormalization object at 0x7fc29815cf10> block4a_project_bn False\n",
            "89 <tensorflow.python.keras.layers.convolutional.Conv2D object at 0x7fc2980e27d0> block4b_expand_conv False\n",
            "90 <tensorflow.python.keras.layers.normalization_v2.BatchNormalization object at 0x7fc2980f0a10> block4b_expand_bn False\n",
            "91 <tensorflow.python.keras.layers.core.Activation object at 0x7fc2980f0890> block4b_expand_activation False\n",
            "92 <tensorflow.python.keras.layers.convolutional.DepthwiseConv2D object at 0x7fc2980e7910> block4b_dwconv False\n",
            "93 <tensorflow.python.keras.layers.normalization_v2.BatchNormalization object at 0x7fc29811e490> block4b_bn False\n",
            "94 <tensorflow.python.keras.layers.core.Activation object at 0x7fc2980fc0d0> block4b_activation False\n",
            "95 <tensorflow.python.keras.layers.pooling.GlobalAveragePooling2D object at 0x7fc2981022d0> block4b_se_squeeze False\n",
            "96 <tensorflow.python.keras.layers.core.Reshape object at 0x7fc298102c10> block4b_se_reshape False\n",
            "97 <tensorflow.python.keras.layers.convolutional.Conv2D object at 0x7fc2980f5610> block4b_se_reduce False\n",
            "98 <tensorflow.python.keras.layers.convolutional.Conv2D object at 0x7fc2980e2c90> block4b_se_expand False\n",
            "99 <tensorflow.python.keras.layers.merge.Multiply object at 0x7fc29810be90> block4b_se_excite False\n",
            "100 <tensorflow.python.keras.layers.convolutional.Conv2D object at 0x7fc29809ef90> block4b_project_conv False\n",
            "101 <tensorflow.python.keras.layers.normalization_v2.BatchNormalization object at 0x7fc298113850> block4b_project_bn False\n",
            "102 <tensorflow.python.keras.layers.core.Dropout object at 0x7fc2980acc10> block4b_drop False\n",
            "103 <tensorflow.python.keras.layers.merge.Add object at 0x7fc2980a7b50> block4b_add False\n",
            "104 <tensorflow.python.keras.layers.convolutional.Conv2D object at 0x7fc2980b0810> block4c_expand_conv False\n",
            "105 <tensorflow.python.keras.layers.normalization_v2.BatchNormalization object at 0x7fc2980c4590> block4c_expand_bn False\n",
            "106 <tensorflow.python.keras.layers.core.Activation object at 0x7fc2980c4a90> block4c_expand_activation False\n",
            "107 <tensorflow.python.keras.layers.convolutional.DepthwiseConv2D object at 0x7fc2980bb5d0> block4c_dwconv False\n",
            "108 <tensorflow.python.keras.layers.normalization_v2.BatchNormalization object at 0x7fc2980d4310> block4c_bn False\n",
            "109 <tensorflow.python.keras.layers.core.Activation object at 0x7fc2980d4410> block4c_activation False\n",
            "110 <tensorflow.python.keras.layers.pooling.GlobalAveragePooling2D object at 0x7fc2980bb1d0> block4c_se_squeeze False\n",
            "111 <tensorflow.python.keras.layers.core.Reshape object at 0x7fc2980c94d0> block4c_se_reshape False\n",
            "112 <tensorflow.python.keras.layers.convolutional.Conv2D object at 0x7fc298058d50> block4c_se_reduce False\n",
            "113 <tensorflow.python.keras.layers.convolutional.Conv2D object at 0x7fc2980bb7d0> block4c_se_expand False\n",
            "114 <tensorflow.python.keras.layers.merge.Multiply object at 0x7fc298065c10> block4c_se_excite False\n",
            "115 <tensorflow.python.keras.layers.convolutional.Conv2D object at 0x7fc29805f510> block4c_project_conv False\n",
            "116 <tensorflow.python.keras.layers.normalization_v2.BatchNormalization object at 0x7fc29806b350> block4c_project_bn False\n",
            "117 <tensorflow.python.keras.layers.core.Dropout object at 0x7fc29807cb10> block4c_drop False\n",
            "118 <tensorflow.python.keras.layers.merge.Add object at 0x7fc2980a3290> block4c_add False\n",
            "119 <tensorflow.python.keras.layers.convolutional.Conv2D object at 0x7fc2980906d0> block5a_expand_conv False\n",
            "120 <tensorflow.python.keras.layers.normalization_v2.BatchNormalization object at 0x7fc298090610> block5a_expand_bn False\n",
            "121 <tensorflow.python.keras.layers.core.Activation object at 0x7fc2980763d0> block5a_expand_activation False\n",
            "122 <tensorflow.python.keras.layers.convolutional.DepthwiseConv2D object at 0x7fc298090650> block5a_dwconv False\n",
            "123 <tensorflow.python.keras.layers.normalization_v2.BatchNormalization object at 0x7fc29810b090> block5a_bn False\n",
            "124 <tensorflow.python.keras.layers.core.Activation object at 0x7fc298083d90> block5a_activation False\n",
            "125 <tensorflow.python.keras.layers.pooling.GlobalAveragePooling2D object at 0x7fc298107490> block5a_se_squeeze False\n",
            "126 <tensorflow.python.keras.layers.core.Reshape object at 0x7fc298088790> block5a_se_reshape False\n",
            "127 <tensorflow.python.keras.layers.convolutional.Conv2D object at 0x7fc2980e7590> block5a_se_reduce False\n",
            "128 <tensorflow.python.keras.layers.convolutional.Conv2D object at 0x7fc29816bd10> block5a_se_expand False\n",
            "129 <tensorflow.python.keras.layers.merge.Multiply object at 0x7fc2980249d0> block5a_se_excite False\n",
            "130 <tensorflow.python.keras.layers.convolutional.Conv2D object at 0x7fc298017c10> block5a_project_conv False\n",
            "131 <tensorflow.python.keras.layers.normalization_v2.BatchNormalization object at 0x7fc2980f0650> block5a_project_bn False\n",
            "132 <tensorflow.python.keras.layers.convolutional.Conv2D object at 0x7fc29802f210> block5b_expand_conv False\n",
            "133 <tensorflow.python.keras.layers.normalization_v2.BatchNormalization object at 0x7fc29802ac90> block5b_expand_bn False\n",
            "134 <tensorflow.python.keras.layers.core.Activation object at 0x7fc29803d390> block5b_expand_activation False\n",
            "135 <tensorflow.python.keras.layers.convolutional.DepthwiseConv2D object at 0x7fc298033050> block5b_dwconv False\n",
            "136 <tensorflow.python.keras.layers.normalization_v2.BatchNormalization object at 0x7fc298044490> block5b_bn False\n",
            "137 <tensorflow.python.keras.layers.core.Activation object at 0x7fc298050750> block5b_activation False\n",
            "138 <tensorflow.python.keras.layers.pooling.GlobalAveragePooling2D object at 0x7fc297fd5490> block5b_se_squeeze False\n",
            "139 <tensorflow.python.keras.layers.core.Reshape object at 0x7fc297fd53d0> block5b_se_reshape False\n",
            "140 <tensorflow.python.keras.layers.convolutional.Conv2D object at 0x7fc298044f50> block5b_se_reduce False\n",
            "141 <tensorflow.python.keras.layers.convolutional.Conv2D object at 0x7fc298033450> block5b_se_expand False\n",
            "142 <tensorflow.python.keras.layers.merge.Multiply object at 0x7fc297fedb90> block5b_se_excite False\n",
            "143 <tensorflow.python.keras.layers.convolutional.Conv2D object at 0x7fc297fe9d50> block5b_project_conv False\n",
            "144 <tensorflow.python.keras.layers.normalization_v2.BatchNormalization object at 0x7fc297fe3fd0> block5b_project_bn False\n",
            "145 <tensorflow.python.keras.layers.core.Dropout object at 0x7fc297ffc7d0> block5b_drop False\n",
            "146 <tensorflow.python.keras.layers.merge.Add object at 0x7fc2980888d0> block5b_add False\n",
            "147 <tensorflow.python.keras.layers.convolutional.Conv2D object at 0x7fc297ff7710> block5c_expand_conv False\n",
            "148 <tensorflow.python.keras.layers.normalization_v2.BatchNormalization object at 0x7fc297f96950> block5c_expand_bn False\n",
            "149 <tensorflow.python.keras.layers.core.Activation object at 0x7fc29800c810> block5c_expand_activation False\n",
            "150 <tensorflow.python.keras.layers.convolutional.DepthwiseConv2D object at 0x7fc298003e50> block5c_dwconv False\n",
            "151 <tensorflow.python.keras.layers.normalization_v2.BatchNormalization object at 0x7fc297fa86d0> block5c_bn False\n",
            "152 <tensorflow.python.keras.layers.core.Activation object at 0x7fc297ff7a10> block5c_activation False\n",
            "153 <tensorflow.python.keras.layers.pooling.GlobalAveragePooling2D object at 0x7fc298003290> block5c_se_squeeze False\n",
            "154 <tensorflow.python.keras.layers.core.Reshape object at 0x7fc297f9ba90> block5c_se_reshape False\n",
            "155 <tensorflow.python.keras.layers.convolutional.Conv2D object at 0x7fc297fabb10> block5c_se_reduce False\n",
            "156 <tensorflow.python.keras.layers.convolutional.Conv2D object at 0x7fc29800cb90> block5c_se_expand False\n",
            "157 <tensorflow.python.keras.layers.merge.Multiply object at 0x7fc297fa9050> block5c_se_excite False\n",
            "158 <tensorflow.python.keras.layers.convolutional.Conv2D object at 0x7fc297fb1550> block5c_project_conv False\n",
            "159 <tensorflow.python.keras.layers.normalization_v2.BatchNormalization object at 0x7fc297fa9a10> block5c_project_bn False\n",
            "160 <tensorflow.python.keras.layers.core.Dropout object at 0x7fc297fcd150> block5c_drop False\n",
            "161 <tensorflow.python.keras.layers.merge.Add object at 0x7fc297ff7290> block5c_add False\n",
            "162 <tensorflow.python.keras.layers.convolutional.Conv2D object at 0x7fc297f69750> block6a_expand_conv False\n",
            "163 <tensorflow.python.keras.layers.normalization_v2.BatchNormalization object at 0x7fc297fd4a50> block6a_expand_bn False\n",
            "164 <tensorflow.python.keras.layers.core.Activation object at 0x7fc297f67ad0> block6a_expand_activation False\n",
            "165 <tensorflow.python.keras.layers.convolutional.ZeroPadding2D object at 0x7fc297fb1210> block6a_dwconv_pad False\n",
            "166 <tensorflow.python.keras.layers.convolutional.DepthwiseConv2D object at 0x7fc297fab810> block6a_dwconv False\n",
            "167 <tensorflow.python.keras.layers.normalization_v2.BatchNormalization object at 0x7fc297fab250> block6a_bn False\n",
            "168 <tensorflow.python.keras.layers.core.Activation object at 0x7fc297fda610> block6a_activation False\n",
            "169 <tensorflow.python.keras.layers.pooling.GlobalAveragePooling2D object at 0x7fc297fd5850> block6a_se_squeeze False\n",
            "170 <tensorflow.python.keras.layers.core.Reshape object at 0x7fc297fd5b10> block6a_se_reshape False\n",
            "171 <tensorflow.python.keras.layers.convolutional.Conv2D object at 0x7fc2981ffb10> block6a_se_reduce False\n",
            "172 <tensorflow.python.keras.layers.convolutional.Conv2D object at 0x7fc297f69f50> block6a_se_expand False\n",
            "173 <tensorflow.python.keras.layers.merge.Multiply object at 0x7fc29821ec10> block6a_se_excite False\n",
            "174 <tensorflow.python.keras.layers.convolutional.Conv2D object at 0x7fc298107510> block6a_project_conv False\n",
            "175 <tensorflow.python.keras.layers.normalization_v2.BatchNormalization object at 0x7fc29802a8d0> block6a_project_bn False\n",
            "176 <tensorflow.python.keras.layers.convolutional.Conv2D object at 0x7fc297f7f850> block6b_expand_conv False\n",
            "177 <tensorflow.python.keras.layers.normalization_v2.BatchNormalization object at 0x7fc298044890> block6b_expand_bn False\n",
            "178 <tensorflow.python.keras.layers.core.Activation object at 0x7fc297f7f710> block6b_expand_activation False\n",
            "179 <tensorflow.python.keras.layers.convolutional.DepthwiseConv2D object at 0x7fc297f81d90> block6b_dwconv False\n",
            "180 <tensorflow.python.keras.layers.normalization_v2.BatchNormalization object at 0x7fc297f1ea50> block6b_bn False\n",
            "181 <tensorflow.python.keras.layers.core.Activation object at 0x7fc297f1ea90> block6b_activation False\n",
            "182 <tensorflow.python.keras.layers.pooling.GlobalAveragePooling2D object at 0x7fc297f7f290> block6b_se_squeeze False\n",
            "183 <tensorflow.python.keras.layers.core.Reshape object at 0x7fc297f8d7d0> block6b_se_reshape False\n",
            "184 <tensorflow.python.keras.layers.convolutional.Conv2D object at 0x7fc297f33d90> block6b_se_reduce False\n",
            "185 <tensorflow.python.keras.layers.convolutional.Conv2D object at 0x7fc297f81ed0> block6b_se_expand False\n",
            "186 <tensorflow.python.keras.layers.merge.Multiply object at 0x7fc297f3fad0> block6b_se_excite False\n",
            "187 <tensorflow.python.keras.layers.convolutional.Conv2D object at 0x7fc297f91dd0> block6b_project_conv False\n",
            "188 <tensorflow.python.keras.layers.normalization_v2.BatchNormalization object at 0x7fc297f33550> block6b_project_bn False\n",
            "189 <tensorflow.python.keras.layers.core.Dropout object at 0x7fc297f3be90> block6b_drop False\n",
            "190 <tensorflow.python.keras.layers.merge.Add object at 0x7fc297f4be90> block6b_add False\n",
            "191 <tensorflow.python.keras.layers.convolutional.Conv2D object at 0x7fc297edf2d0> block6c_expand_conv False\n",
            "192 <tensorflow.python.keras.layers.normalization_v2.BatchNormalization object at 0x7fc297edfa50> block6c_expand_bn False\n",
            "193 <tensorflow.python.keras.layers.core.Activation object at 0x7fc297f50ed0> block6c_expand_activation False\n",
            "194 <tensorflow.python.keras.layers.convolutional.DepthwiseConv2D object at 0x7fc297edf5d0> block6c_dwconv False\n",
            "195 <tensorflow.python.keras.layers.normalization_v2.BatchNormalization object at 0x7fc297eeb590> block6c_bn False\n",
            "196 <tensorflow.python.keras.layers.core.Activation object at 0x7fc297ef13d0> block6c_activation False\n",
            "197 <tensorflow.python.keras.layers.pooling.GlobalAveragePooling2D object at 0x7fc297ef9cd0> block6c_se_squeeze False\n",
            "198 <tensorflow.python.keras.layers.core.Reshape object at 0x7fc297edce10> block6c_se_reshape False\n",
            "199 <tensorflow.python.keras.layers.convolutional.Conv2D object at 0x7fc297f06c90> block6c_se_reduce False\n",
            "200 <tensorflow.python.keras.layers.convolutional.Conv2D object at 0x7fc297ee72d0> block6c_se_expand False\n",
            "201 <tensorflow.python.keras.layers.merge.Multiply object at 0x7fc297f06d90> block6c_se_excite False\n",
            "202 <tensorflow.python.keras.layers.convolutional.Conv2D object at 0x7fc297f0f450> block6c_project_conv False\n",
            "203 <tensorflow.python.keras.layers.normalization_v2.BatchNormalization object at 0x7fc297f06990> block6c_project_bn False\n",
            "204 <tensorflow.python.keras.layers.core.Dropout object at 0x7fc297eaa8d0> block6c_drop False\n",
            "205 <tensorflow.python.keras.layers.merge.Add object at 0x7fc297f0f9d0> block6c_add False\n",
            "206 <tensorflow.python.keras.layers.convolutional.Conv2D object at 0x7fc297ebc610> block6d_expand_conv False\n",
            "207 <tensorflow.python.keras.layers.normalization_v2.BatchNormalization object at 0x7fc297ea4710> block6d_expand_bn False\n",
            "208 <tensorflow.python.keras.layers.core.Activation object at 0x7fc297ed1050> block6d_expand_activation False\n",
            "209 <tensorflow.python.keras.layers.convolutional.DepthwiseConv2D object at 0x7fc297ed1090> block6d_dwconv False\n",
            "210 <tensorflow.python.keras.layers.normalization_v2.BatchNormalization object at 0x7fc297e57050> block6d_bn False\n",
            "211 <tensorflow.python.keras.layers.core.Activation object at 0x7fc297f33dd0> block6d_activation False\n",
            "212 <tensorflow.python.keras.layers.pooling.GlobalAveragePooling2D object at 0x7fc297f3be50> block6d_se_squeeze False\n",
            "213 <tensorflow.python.keras.layers.core.Reshape object at 0x7fc297f17790> block6d_se_reshape False\n",
            "214 <tensorflow.python.keras.layers.convolutional.Conv2D object at 0x7fc297f60910> block6d_se_reduce False\n",
            "215 <tensorflow.python.keras.layers.convolutional.Conv2D object at 0x7fc297e57310> block6d_se_expand False\n",
            "216 <tensorflow.python.keras.layers.merge.Multiply object at 0x7fc298141d50> block6d_se_excite False\n",
            "217 <tensorflow.python.keras.layers.convolutional.Conv2D object at 0x7fc297ed1b90> block6d_project_conv False\n",
            "218 <tensorflow.python.keras.layers.normalization_v2.BatchNormalization object at 0x7fc297ef1210> block6d_project_bn False\n",
            "219 <tensorflow.python.keras.layers.core.Dropout object at 0x7fc297efea90> block6d_drop False\n",
            "220 <tensorflow.python.keras.layers.merge.Add object at 0x7fc297f20610> block6d_add False\n",
            "221 <tensorflow.python.keras.layers.convolutional.Conv2D object at 0x7fc297e61610> block7a_expand_conv False\n",
            "222 <tensorflow.python.keras.layers.normalization_v2.BatchNormalization object at 0x7fc297f20b90> block7a_expand_bn False\n",
            "223 <tensorflow.python.keras.layers.core.Activation object at 0x7fc297ff4410> block7a_expand_activation False\n",
            "224 <tensorflow.python.keras.layers.convolutional.DepthwiseConv2D object at 0x7fc297e6fad0> block7a_dwconv False\n",
            "225 <tensorflow.python.keras.layers.normalization_v2.BatchNormalization object at 0x7fc297e6ce90> block7a_bn False\n",
            "226 <tensorflow.python.keras.layers.core.Activation object at 0x7fc297e6fa90> block7a_activation False\n",
            "227 <tensorflow.python.keras.layers.pooling.GlobalAveragePooling2D object at 0x7fc297e76c50> block7a_se_squeeze False\n",
            "228 <tensorflow.python.keras.layers.core.Reshape object at 0x7fc297e781d0> block7a_se_reshape False\n",
            "229 <tensorflow.python.keras.layers.convolutional.Conv2D object at 0x7fc297e7c4d0> block7a_se_reduce False\n",
            "230 <tensorflow.python.keras.layers.convolutional.Conv2D object at 0x7fc29815e090> block7a_se_expand False\n",
            "231 <tensorflow.python.keras.layers.merge.Multiply object at 0x7fc297e84850> block7a_se_excite False\n",
            "232 <tensorflow.python.keras.layers.convolutional.Conv2D object at 0x7fc297e8e450> block7a_project_conv False\n",
            "233 <tensorflow.python.keras.layers.normalization_v2.BatchNormalization object at 0x7fc297e8e410> block7a_project_bn False\n",
            "234 <tensorflow.python.keras.layers.convolutional.Conv2D object at 0x7fc29a044c50> top_conv False\n",
            "235 <tensorflow.python.keras.layers.normalization_v2.BatchNormalization object at 0x7fc297e244d0> top_bn False\n",
            "236 <tensorflow.python.keras.layers.core.Activation object at 0x7fc297e1f190> top_activation False\n"
          ],
          "name": "stdout"
        }
      ]
    },
    {
      "cell_type": "code",
      "metadata": {
        "id": "ILNwDrvJRAnh",
        "outputId": "cca5296b-b824-405a-ada0-ec07e60aa043",
        "colab": {
          "base_uri": "https://localhost:8080/"
        }
      },
      "source": [
        "#How many trainable variables in our base model?\n",
        "print(len(model_2.layers[2].trainable_variables))"
      ],
      "execution_count": 66,
      "outputs": [
        {
          "output_type": "stream",
          "text": [
            "0\n"
          ],
          "name": "stdout"
        }
      ]
    },
    {
      "cell_type": "code",
      "metadata": {
        "id": "tM1Q3D1vRbbH"
      },
      "source": [
        "#To begin fine-tuning, let´s start by setting the last 10 layers of our base_model.trainable = True\n",
        "base_model.trainable = True\n",
        "\n",
        "#Freeze all layers except for the last 10\n",
        "for layer in base_model.layers[:-10]:\n",
        "  layer.trainable = False\n",
        "\n",
        "#Recompile (we have tp recompile our models every time we make a change)\n",
        "model_2.compile(loss=\"categorical_crossentropy\", optimizer=keras.optimizers.Adam(learning_rate=0.0001), metrics=[\"accuracy\"])"
      ],
      "execution_count": 74,
      "outputs": []
    },
    {
      "cell_type": "code",
      "metadata": {
        "id": "I1Oeg-i1R_ty",
        "outputId": "d759d5d6-365a-4620-d977-4ad23aa6961a",
        "colab": {
          "base_uri": "https://localhost:8080/"
        }
      },
      "source": [
        "#Check which layers are tuneable (trainable)\n",
        "for layer_number, layer in enumerate(model_2.layers[2].layers):\n",
        "  print(layer_number, layer.name, layer.trainable)"
      ],
      "execution_count": 75,
      "outputs": [
        {
          "output_type": "stream",
          "text": [
            "0 input_6 False\n",
            "1 rescaling_5 False\n",
            "2 normalization_5 False\n",
            "3 stem_conv_pad False\n",
            "4 stem_conv False\n",
            "5 stem_bn False\n",
            "6 stem_activation False\n",
            "7 block1a_dwconv False\n",
            "8 block1a_bn False\n",
            "9 block1a_activation False\n",
            "10 block1a_se_squeeze False\n",
            "11 block1a_se_reshape False\n",
            "12 block1a_se_reduce False\n",
            "13 block1a_se_expand False\n",
            "14 block1a_se_excite False\n",
            "15 block1a_project_conv False\n",
            "16 block1a_project_bn False\n",
            "17 block2a_expand_conv False\n",
            "18 block2a_expand_bn False\n",
            "19 block2a_expand_activation False\n",
            "20 block2a_dwconv_pad False\n",
            "21 block2a_dwconv False\n",
            "22 block2a_bn False\n",
            "23 block2a_activation False\n",
            "24 block2a_se_squeeze False\n",
            "25 block2a_se_reshape False\n",
            "26 block2a_se_reduce False\n",
            "27 block2a_se_expand False\n",
            "28 block2a_se_excite False\n",
            "29 block2a_project_conv False\n",
            "30 block2a_project_bn False\n",
            "31 block2b_expand_conv False\n",
            "32 block2b_expand_bn False\n",
            "33 block2b_expand_activation False\n",
            "34 block2b_dwconv False\n",
            "35 block2b_bn False\n",
            "36 block2b_activation False\n",
            "37 block2b_se_squeeze False\n",
            "38 block2b_se_reshape False\n",
            "39 block2b_se_reduce False\n",
            "40 block2b_se_expand False\n",
            "41 block2b_se_excite False\n",
            "42 block2b_project_conv False\n",
            "43 block2b_project_bn False\n",
            "44 block2b_drop False\n",
            "45 block2b_add False\n",
            "46 block3a_expand_conv False\n",
            "47 block3a_expand_bn False\n",
            "48 block3a_expand_activation False\n",
            "49 block3a_dwconv_pad False\n",
            "50 block3a_dwconv False\n",
            "51 block3a_bn False\n",
            "52 block3a_activation False\n",
            "53 block3a_se_squeeze False\n",
            "54 block3a_se_reshape False\n",
            "55 block3a_se_reduce False\n",
            "56 block3a_se_expand False\n",
            "57 block3a_se_excite False\n",
            "58 block3a_project_conv False\n",
            "59 block3a_project_bn False\n",
            "60 block3b_expand_conv False\n",
            "61 block3b_expand_bn False\n",
            "62 block3b_expand_activation False\n",
            "63 block3b_dwconv False\n",
            "64 block3b_bn False\n",
            "65 block3b_activation False\n",
            "66 block3b_se_squeeze False\n",
            "67 block3b_se_reshape False\n",
            "68 block3b_se_reduce False\n",
            "69 block3b_se_expand False\n",
            "70 block3b_se_excite False\n",
            "71 block3b_project_conv False\n",
            "72 block3b_project_bn False\n",
            "73 block3b_drop False\n",
            "74 block3b_add False\n",
            "75 block4a_expand_conv False\n",
            "76 block4a_expand_bn False\n",
            "77 block4a_expand_activation False\n",
            "78 block4a_dwconv_pad False\n",
            "79 block4a_dwconv False\n",
            "80 block4a_bn False\n",
            "81 block4a_activation False\n",
            "82 block4a_se_squeeze False\n",
            "83 block4a_se_reshape False\n",
            "84 block4a_se_reduce False\n",
            "85 block4a_se_expand False\n",
            "86 block4a_se_excite False\n",
            "87 block4a_project_conv False\n",
            "88 block4a_project_bn False\n",
            "89 block4b_expand_conv False\n",
            "90 block4b_expand_bn False\n",
            "91 block4b_expand_activation False\n",
            "92 block4b_dwconv False\n",
            "93 block4b_bn False\n",
            "94 block4b_activation False\n",
            "95 block4b_se_squeeze False\n",
            "96 block4b_se_reshape False\n",
            "97 block4b_se_reduce False\n",
            "98 block4b_se_expand False\n",
            "99 block4b_se_excite False\n",
            "100 block4b_project_conv False\n",
            "101 block4b_project_bn False\n",
            "102 block4b_drop False\n",
            "103 block4b_add False\n",
            "104 block4c_expand_conv False\n",
            "105 block4c_expand_bn False\n",
            "106 block4c_expand_activation False\n",
            "107 block4c_dwconv False\n",
            "108 block4c_bn False\n",
            "109 block4c_activation False\n",
            "110 block4c_se_squeeze False\n",
            "111 block4c_se_reshape False\n",
            "112 block4c_se_reduce False\n",
            "113 block4c_se_expand False\n",
            "114 block4c_se_excite False\n",
            "115 block4c_project_conv False\n",
            "116 block4c_project_bn False\n",
            "117 block4c_drop False\n",
            "118 block4c_add False\n",
            "119 block5a_expand_conv False\n",
            "120 block5a_expand_bn False\n",
            "121 block5a_expand_activation False\n",
            "122 block5a_dwconv False\n",
            "123 block5a_bn False\n",
            "124 block5a_activation False\n",
            "125 block5a_se_squeeze False\n",
            "126 block5a_se_reshape False\n",
            "127 block5a_se_reduce False\n",
            "128 block5a_se_expand False\n",
            "129 block5a_se_excite False\n",
            "130 block5a_project_conv False\n",
            "131 block5a_project_bn False\n",
            "132 block5b_expand_conv False\n",
            "133 block5b_expand_bn False\n",
            "134 block5b_expand_activation False\n",
            "135 block5b_dwconv False\n",
            "136 block5b_bn False\n",
            "137 block5b_activation False\n",
            "138 block5b_se_squeeze False\n",
            "139 block5b_se_reshape False\n",
            "140 block5b_se_reduce False\n",
            "141 block5b_se_expand False\n",
            "142 block5b_se_excite False\n",
            "143 block5b_project_conv False\n",
            "144 block5b_project_bn False\n",
            "145 block5b_drop False\n",
            "146 block5b_add False\n",
            "147 block5c_expand_conv False\n",
            "148 block5c_expand_bn False\n",
            "149 block5c_expand_activation False\n",
            "150 block5c_dwconv False\n",
            "151 block5c_bn False\n",
            "152 block5c_activation False\n",
            "153 block5c_se_squeeze False\n",
            "154 block5c_se_reshape False\n",
            "155 block5c_se_reduce False\n",
            "156 block5c_se_expand False\n",
            "157 block5c_se_excite False\n",
            "158 block5c_project_conv False\n",
            "159 block5c_project_bn False\n",
            "160 block5c_drop False\n",
            "161 block5c_add False\n",
            "162 block6a_expand_conv False\n",
            "163 block6a_expand_bn False\n",
            "164 block6a_expand_activation False\n",
            "165 block6a_dwconv_pad False\n",
            "166 block6a_dwconv False\n",
            "167 block6a_bn False\n",
            "168 block6a_activation False\n",
            "169 block6a_se_squeeze False\n",
            "170 block6a_se_reshape False\n",
            "171 block6a_se_reduce False\n",
            "172 block6a_se_expand False\n",
            "173 block6a_se_excite False\n",
            "174 block6a_project_conv False\n",
            "175 block6a_project_bn False\n",
            "176 block6b_expand_conv False\n",
            "177 block6b_expand_bn False\n",
            "178 block6b_expand_activation False\n",
            "179 block6b_dwconv False\n",
            "180 block6b_bn False\n",
            "181 block6b_activation False\n",
            "182 block6b_se_squeeze False\n",
            "183 block6b_se_reshape False\n",
            "184 block6b_se_reduce False\n",
            "185 block6b_se_expand False\n",
            "186 block6b_se_excite False\n",
            "187 block6b_project_conv False\n",
            "188 block6b_project_bn False\n",
            "189 block6b_drop False\n",
            "190 block6b_add False\n",
            "191 block6c_expand_conv False\n",
            "192 block6c_expand_bn False\n",
            "193 block6c_expand_activation False\n",
            "194 block6c_dwconv False\n",
            "195 block6c_bn False\n",
            "196 block6c_activation False\n",
            "197 block6c_se_squeeze False\n",
            "198 block6c_se_reshape False\n",
            "199 block6c_se_reduce False\n",
            "200 block6c_se_expand False\n",
            "201 block6c_se_excite False\n",
            "202 block6c_project_conv False\n",
            "203 block6c_project_bn False\n",
            "204 block6c_drop False\n",
            "205 block6c_add False\n",
            "206 block6d_expand_conv False\n",
            "207 block6d_expand_bn False\n",
            "208 block6d_expand_activation False\n",
            "209 block6d_dwconv False\n",
            "210 block6d_bn False\n",
            "211 block6d_activation False\n",
            "212 block6d_se_squeeze False\n",
            "213 block6d_se_reshape False\n",
            "214 block6d_se_reduce False\n",
            "215 block6d_se_expand False\n",
            "216 block6d_se_excite False\n",
            "217 block6d_project_conv False\n",
            "218 block6d_project_bn False\n",
            "219 block6d_drop False\n",
            "220 block6d_add False\n",
            "221 block7a_expand_conv False\n",
            "222 block7a_expand_bn False\n",
            "223 block7a_expand_activation False\n",
            "224 block7a_dwconv False\n",
            "225 block7a_bn False\n",
            "226 block7a_activation False\n",
            "227 block7a_se_squeeze True\n",
            "228 block7a_se_reshape True\n",
            "229 block7a_se_reduce True\n",
            "230 block7a_se_expand True\n",
            "231 block7a_se_excite True\n",
            "232 block7a_project_conv True\n",
            "233 block7a_project_bn True\n",
            "234 top_conv True\n",
            "235 top_bn True\n",
            "236 top_activation True\n"
          ],
          "name": "stdout"
        }
      ]
    },
    {
      "cell_type": "code",
      "metadata": {
        "id": "r2p-qGCKSmQm",
        "outputId": "d1d0dbd7-78bb-4cda-b993-fc0ffc90be53",
        "colab": {
          "base_uri": "https://localhost:8080/"
        }
      },
      "source": [
        "#Now we´ve unfrozen some of the layers closer to the top, how many trainable variables are in our model?\n",
        "print(len(model_2.trainable_variables))"
      ],
      "execution_count": 76,
      "outputs": [
        {
          "output_type": "stream",
          "text": [
            "12\n"
          ],
          "name": "stdout"
        }
      ]
    },
    {
      "cell_type": "code",
      "metadata": {
        "id": "UhdOYWc0UFmx",
        "outputId": "985e2e48-c8ea-4629-f013-85f38c363947",
        "colab": {
          "base_uri": "https://localhost:8080/"
        }
      },
      "source": [
        "#Fine tune for another 5 epochs\n",
        "fine_tune_epochs = initial_epochs + 5\n",
        "\n",
        "#Refit the model (same as model_2 except with more trainable layers)\n",
        "history_fine_10_percent_data_augt = model_2.fit(train_data_10_percent,\n",
        "                                                epochs=fine_tune_epochs,\n",
        "                                                validation_data=test_data,\n",
        "                                                validation_steps=int(0.25 * len(test_data)),\n",
        "                                                initial_epoch=history_10_percent_data_aug.epoch[-1] #start training from the previous last epoch\n",
        "                                                ,callbacks=[create_tensorboard_callback(\"transfer_learning\", \"10_percent_fine_tune_last_10\")])"
      ],
      "execution_count": 78,
      "outputs": [
        {
          "output_type": "stream",
          "text": [
            "Saving TensorBoard log files to: transfer_learning/10_percent_fine_tune_last_10/20210721-135143\n",
            "Epoch 5/10\n"
          ],
          "name": "stdout"
        },
        {
          "output_type": "stream",
          "text": [
            "/usr/local/lib/python3.7/dist-packages/tensorflow/python/keras/utils/generic_utils.py:497: CustomMaskWarning: Custom mask layers require a config and must override get_config. When loading, the custom mask layer must be passed to the custom_objects argument.\n",
            "  category=CustomMaskWarning)\n"
          ],
          "name": "stderr"
        },
        {
          "output_type": "stream",
          "text": [
            "24/24 [==============================] - 20s 545ms/step - loss: 0.7009 - accuracy: 0.8133 - val_loss: 0.5574 - val_accuracy: 0.8306\n",
            "Epoch 6/10\n",
            "24/24 [==============================] - 10s 397ms/step - loss: 0.5606 - accuracy: 0.8333 - val_loss: 0.5183 - val_accuracy: 0.8207\n",
            "Epoch 7/10\n",
            "24/24 [==============================] - 9s 354ms/step - loss: 0.5254 - accuracy: 0.8400 - val_loss: 0.5279 - val_accuracy: 0.8092\n",
            "Epoch 8/10\n",
            "24/24 [==============================] - 9s 360ms/step - loss: 0.4481 - accuracy: 0.8680 - val_loss: 0.5313 - val_accuracy: 0.8174\n",
            "Epoch 9/10\n",
            "24/24 [==============================] - 9s 373ms/step - loss: 0.3934 - accuracy: 0.8947 - val_loss: 0.5352 - val_accuracy: 0.8174\n",
            "Epoch 10/10\n",
            "24/24 [==============================] - 9s 361ms/step - loss: 0.3899 - accuracy: 0.8867 - val_loss: 0.5077 - val_accuracy: 0.8207\n"
          ],
          "name": "stdout"
        }
      ]
    },
    {
      "cell_type": "code",
      "metadata": {
        "id": "_A5XTmZmViG4",
        "outputId": "c842ecf1-f2d6-433b-99b9-ce46e8cb1e8f",
        "colab": {
          "base_uri": "https://localhost:8080/"
        }
      },
      "source": [
        "# Evaluate the fine-tuned model (model_3 which is actually model_2 fine-tuned for another 5 epochs)\n",
        "results_fine_tune_10_percent = model_2.evaluate(test_data)"
      ],
      "execution_count": 79,
      "outputs": [
        {
          "output_type": "stream",
          "text": [
            "79/79 [==============================] - 9s 104ms/step - loss: 0.4899 - accuracy: 0.8352\n"
          ],
          "name": "stdout"
        }
      ]
    }
  ]
}