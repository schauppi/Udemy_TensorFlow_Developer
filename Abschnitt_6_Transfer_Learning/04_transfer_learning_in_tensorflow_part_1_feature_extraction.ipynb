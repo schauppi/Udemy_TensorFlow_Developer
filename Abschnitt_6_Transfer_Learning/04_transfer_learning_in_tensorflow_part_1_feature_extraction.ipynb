{
  "nbformat": 4,
  "nbformat_minor": 0,
  "metadata": {
    "colab": {
      "name": "04_transfer_learning_in_tensorflow_part_1_feature_extraction.ipynb",
      "provenance": [],
      "collapsed_sections": [],
      "authorship_tag": "ABX9TyNA8cRKdaTxjbwCVeBwMI+x",
      "include_colab_link": true
    },
    "kernelspec": {
      "name": "python3",
      "display_name": "Python 3"
    },
    "language_info": {
      "name": "python"
    },
    "accelerator": "GPU"
  },
  "cells": [
    {
      "cell_type": "markdown",
      "metadata": {
        "id": "view-in-github",
        "colab_type": "text"
      },
      "source": [
        "<a href=\"https://colab.research.google.com/github/schauppi/Udemy_TensorFlow_Developer/blob/main/Abschnitt_6_Transfer_Learning/04_transfer_learning_in_tensorflow_part_1_feature_extraction.ipynb\" target=\"_parent\"><img src=\"https://colab.research.google.com/assets/colab-badge.svg\" alt=\"Open In Colab\"/></a>"
      ]
    },
    {
      "cell_type": "markdown",
      "metadata": {
        "id": "T5uj9-Mi2Jpq"
      },
      "source": [
        "# Transfer Learning with TensorFlow Part 1: Feature Extraction\n",
        "\n",
        "Transfer learning is leveraging a working models existing architecture and learned patterns for our own problem.\n",
        "\n",
        "There are two main benefits:\n",
        "1. Can leverage an existing neural network architecture proven to work on problems similar to our own. \n",
        "2. Can leverage a working neural network architecture which has already learned patterns on similar data to our own, then we can adapt those patterns to our own data."
      ]
    },
    {
      "cell_type": "code",
      "metadata": {
        "colab": {
          "base_uri": "https://localhost:8080/"
        },
        "id": "-c1QvRhn14RQ",
        "outputId": "6d1b9ca9-f116-4055-b90c-4d7fc368b94f"
      },
      "source": [
        "!nvidia-smi"
      ],
      "execution_count": 1,
      "outputs": [
        {
          "output_type": "stream",
          "text": [
            "Fri Jul 16 11:28:00 2021       \n",
            "+-----------------------------------------------------------------------------+\n",
            "| NVIDIA-SMI 470.42.01    Driver Version: 460.32.03    CUDA Version: 11.2     |\n",
            "|-------------------------------+----------------------+----------------------+\n",
            "| GPU  Name        Persistence-M| Bus-Id        Disp.A | Volatile Uncorr. ECC |\n",
            "| Fan  Temp  Perf  Pwr:Usage/Cap|         Memory-Usage | GPU-Util  Compute M. |\n",
            "|                               |                      |               MIG M. |\n",
            "|===============================+======================+======================|\n",
            "|   0  Tesla T4            Off  | 00000000:00:04.0 Off |                    0 |\n",
            "| N/A   65C    P8    10W /  70W |      0MiB / 15109MiB |      0%      Default |\n",
            "|                               |                      |                  N/A |\n",
            "+-------------------------------+----------------------+----------------------+\n",
            "                                                                               \n",
            "+-----------------------------------------------------------------------------+\n",
            "| Processes:                                                                  |\n",
            "|  GPU   GI   CI        PID   Type   Process name                  GPU Memory |\n",
            "|        ID   ID                                                   Usage      |\n",
            "|=============================================================================|\n",
            "|  No running processes found                                                 |\n",
            "+-----------------------------------------------------------------------------+\n"
          ],
          "name": "stdout"
        }
      ]
    },
    {
      "cell_type": "markdown",
      "metadata": {
        "id": "zeX4fjKB2656"
      },
      "source": [
        "## Download and becoming on with the data"
      ]
    },
    {
      "cell_type": "code",
      "metadata": {
        "colab": {
          "base_uri": "https://localhost:8080/"
        },
        "id": "qD2dbAYH2zlA",
        "outputId": "8033ffc4-6ba8-4937-ca8a-42edf7de7748"
      },
      "source": [
        "#Get the data (10% of 10 food classes from Food101)\n",
        "\n",
        "import zipfile\n",
        "#Download the data\n",
        "!wget https://storage.googleapis.com/ztm_tf_course/food_vision/10_food_classes_10_percent.zip\n",
        "\n",
        "#Unzip the downloaded file\n",
        "zip_ref = zipfile.ZipFile(\"10_food_classes_10_percent.zip\")\n",
        "zip_ref.extractall()\n",
        "zip_ref.close()"
      ],
      "execution_count": 2,
      "outputs": [
        {
          "output_type": "stream",
          "text": [
            "--2021-07-16 11:28:04--  https://storage.googleapis.com/ztm_tf_course/food_vision/10_food_classes_10_percent.zip\n",
            "Resolving storage.googleapis.com (storage.googleapis.com)... 172.253.115.128, 172.253.122.128, 172.217.164.176, ...\n",
            "Connecting to storage.googleapis.com (storage.googleapis.com)|172.253.115.128|:443... connected.\n",
            "HTTP request sent, awaiting response... 200 OK\n",
            "Length: 168546183 (161M) [application/zip]\n",
            "Saving to: ‘10_food_classes_10_percent.zip’\n",
            "\n",
            "10_food_classes_10_ 100%[===================>] 160.74M   146MB/s    in 1.1s    \n",
            "\n",
            "2021-07-16 11:28:05 (146 MB/s) - ‘10_food_classes_10_percent.zip’ saved [168546183/168546183]\n",
            "\n"
          ],
          "name": "stdout"
        }
      ]
    },
    {
      "cell_type": "code",
      "metadata": {
        "colab": {
          "base_uri": "https://localhost:8080/"
        },
        "id": "b6M2CyGp3pCM",
        "outputId": "1ba6e57b-2574-4888-ab17-82e67aea9a4d"
      },
      "source": [
        "#How many images in each folder?\n",
        "import os\n",
        "\n",
        "for dirpath, dirnames, filenames in os.walk(\"10_food_classes_10_percent\"):\n",
        "  print(f\"Ther are {len (dirnames)} directories and {len(filenames)} images in '{dirpath}'.\")"
      ],
      "execution_count": 3,
      "outputs": [
        {
          "output_type": "stream",
          "text": [
            "Ther are 2 directories and 0 images in '10_food_classes_10_percent'.\n",
            "Ther are 10 directories and 0 images in '10_food_classes_10_percent/test'.\n",
            "Ther are 0 directories and 250 images in '10_food_classes_10_percent/test/steak'.\n",
            "Ther are 0 directories and 250 images in '10_food_classes_10_percent/test/chicken_wings'.\n",
            "Ther are 0 directories and 250 images in '10_food_classes_10_percent/test/grilled_salmon'.\n",
            "Ther are 0 directories and 250 images in '10_food_classes_10_percent/test/ramen'.\n",
            "Ther are 0 directories and 250 images in '10_food_classes_10_percent/test/sushi'.\n",
            "Ther are 0 directories and 250 images in '10_food_classes_10_percent/test/fried_rice'.\n",
            "Ther are 0 directories and 250 images in '10_food_classes_10_percent/test/ice_cream'.\n",
            "Ther are 0 directories and 250 images in '10_food_classes_10_percent/test/hamburger'.\n",
            "Ther are 0 directories and 250 images in '10_food_classes_10_percent/test/chicken_curry'.\n",
            "Ther are 0 directories and 250 images in '10_food_classes_10_percent/test/pizza'.\n",
            "Ther are 10 directories and 0 images in '10_food_classes_10_percent/train'.\n",
            "Ther are 0 directories and 75 images in '10_food_classes_10_percent/train/steak'.\n",
            "Ther are 0 directories and 75 images in '10_food_classes_10_percent/train/chicken_wings'.\n",
            "Ther are 0 directories and 75 images in '10_food_classes_10_percent/train/grilled_salmon'.\n",
            "Ther are 0 directories and 75 images in '10_food_classes_10_percent/train/ramen'.\n",
            "Ther are 0 directories and 75 images in '10_food_classes_10_percent/train/sushi'.\n",
            "Ther are 0 directories and 75 images in '10_food_classes_10_percent/train/fried_rice'.\n",
            "Ther are 0 directories and 75 images in '10_food_classes_10_percent/train/ice_cream'.\n",
            "Ther are 0 directories and 75 images in '10_food_classes_10_percent/train/hamburger'.\n",
            "Ther are 0 directories and 75 images in '10_food_classes_10_percent/train/chicken_curry'.\n",
            "Ther are 0 directories and 75 images in '10_food_classes_10_percent/train/pizza'.\n"
          ],
          "name": "stdout"
        }
      ]
    },
    {
      "cell_type": "markdown",
      "metadata": {
        "id": "7if3I7hY5RGK"
      },
      "source": [
        "## Creating data loaders (preparing the data)\n",
        "\n",
        "We´ll use the ImageDataGenerator class to load in our image in batches"
      ]
    },
    {
      "cell_type": "code",
      "metadata": {
        "colab": {
          "base_uri": "https://localhost:8080/"
        },
        "id": "nGzt-EJD49o2",
        "outputId": "6cbb45b5-b442-424b-dd39-dcc28dabf091"
      },
      "source": [
        "#Setup data inputs\n",
        "from tensorflow.keras.preprocessing.image import ImageDataGenerator\n",
        "\n",
        "IMAGE_SHAPE = (224,224)\n",
        "BATCH_SIZE = 32\n",
        "\n",
        "train_dir = \"10_food_classes_10_percent/train/\"\n",
        "test_dir = \"10_food_classes_10_percent/test/\"\n",
        "\n",
        "train_datagen = ImageDataGenerator(rescale=1/255.)\n",
        "test_datagen = ImageDataGenerator(rescale=1/255.)\n",
        "\n",
        "print(\"Training images:\")\n",
        "train_data_10_percent = train_datagen.flow_from_directory(train_dir, \n",
        "                                                          target_size=IMAGE_SHAPE,\n",
        "                                                          batch_size=BATCH_SIZE,\n",
        "                                                          class_mode=\"categorical\")\n",
        "print(\"Testing images:\")\n",
        "test_data = test_datagen.flow_from_directory(test_dir,\n",
        "                                             target_size=IMAGE_SHAPE,\n",
        "                                             batch_size=BATCH_SIZE,\n",
        "                                             class_mode=\"categorical\")"
      ],
      "execution_count": 4,
      "outputs": [
        {
          "output_type": "stream",
          "text": [
            "Training images:\n",
            "Found 750 images belonging to 10 classes.\n",
            "Testing images:\n",
            "Found 2500 images belonging to 10 classes.\n"
          ],
          "name": "stdout"
        }
      ]
    },
    {
      "cell_type": "markdown",
      "metadata": {
        "id": "2xFvjK1G6_vj"
      },
      "source": [
        "## Setting up callbacks (things to run whilst our model trains)\n",
        "\n",
        "Callbacks are extra functionality you cab add to your models to be performed during or after training. Some of the most popular callbacks:\n",
        "\n",
        "* Tracking experiments with the TensorBoard callback\n",
        "* Model checkpoint with the ModelCheckpoint callback\n",
        "* Stopping a model from training with the EarlyStoppingCallback"
      ]
    },
    {
      "cell_type": "code",
      "metadata": {
        "id": "e5jcr_hC6RVa"
      },
      "source": [
        "#Create TensorBoard callback (functionized because we need to create a new one for each model)\n",
        "import datetime\n",
        "\n",
        "def create_tensorboard_callback(dir_name, experiment_name):\n",
        "  log_dir = dir_name + \"/\" + experiment_name + \"/\" + datetime.datetime.now().strftime(\"%Y%m%d-%H%M%S\")\n",
        "  tensorboard_callback = tf.keras.callbacks.TensorBoard(log_dir=log_dir)\n",
        "  print(f\"Saving TensorBoard log files to: {log_dir}\")\n",
        "  return tensorboard_callback"
      ],
      "execution_count": 5,
      "outputs": []
    },
    {
      "cell_type": "markdown",
      "metadata": {
        "id": "tKIbQc3OAbC5"
      },
      "source": [
        "##Creating models using TensorFlow Hub\n",
        "\n",
        "We can acess pretrained models on https://tfhub.dev/\n",
        "\n",
        "model link: https://tfhub.dev/tensorflow/efficientnet/b0/feature-vector/1"
      ]
    },
    {
      "cell_type": "code",
      "metadata": {
        "id": "dJxt1Z1x8-6M"
      },
      "source": [
        "#Let´s compare the following two models\n",
        "efficientnet_url = \"https://tfhub.dev/tensorflow/efficientnet/b0/feature-vector/1\"\n",
        "\n",
        "resnet_url = \"https://tfhub.dev/google/imagenet/resnet_v2_50/feature_vector/5\""
      ],
      "execution_count": 6,
      "outputs": []
    },
    {
      "cell_type": "code",
      "metadata": {
        "id": "YpyQZIzxDy2t"
      },
      "source": [
        "# Import dependecies\n",
        "import tensorflow as tf\n",
        "import tensorflow_hub as hub\n",
        "from tensorflow.keras import layers"
      ],
      "execution_count": 7,
      "outputs": []
    },
    {
      "cell_type": "code",
      "metadata": {
        "colab": {
          "base_uri": "https://localhost:8080/"
        },
        "id": "bTSuoKqwFcdL",
        "outputId": "5c608232-2510-49f5-e8a6-3adf475e3b08"
      },
      "source": [
        "IMAGE_SHAPE + (3,)"
      ],
      "execution_count": 8,
      "outputs": [
        {
          "output_type": "execute_result",
          "data": {
            "text/plain": [
              "(224, 224, 3)"
            ]
          },
          "metadata": {
            "tags": []
          },
          "execution_count": 8
        }
      ]
    },
    {
      "cell_type": "code",
      "metadata": {
        "id": "ir3cO-KYETsT"
      },
      "source": [
        "#Let´s make a create_model() function to create a model from a URL\n",
        "def create_model(model_url, num_classes=10):\n",
        "  \"\"\"\n",
        "  Takes a TensorFlow Hub URL and creates a Keras Sequential model with it.\n",
        "\n",
        "  Args:\n",
        "    model_url (str): A TensorFlow Hub feature extraction URL\n",
        "    num_classes (int): Number of output neurons in the output layer, should be equal to number of target classes, default 10.\n",
        "\n",
        "  Returns:\n",
        "    An uncompiled Keras Sequential model with model_url as feature extractor layer and Dense output layer with num_classes output neurons.\n",
        "  \"\"\"\n",
        "  #Download the pretrained model and save it as a Keras layer\n",
        "  feature_extractor_layer = hub.KerasLayer(model_url,\n",
        "                                           trainable=False,\n",
        "                                           name=\"feature_extraction_layer\",\n",
        "                                           input_shape=IMAGE_SHAPE + (3,))\n",
        "  #Create our model\n",
        "  model = tf.keras.Sequential([\n",
        "                               feature_extractor_layer,\n",
        "                               layers.Dense(num_classes, activation=\"softmax\", name=\"output_layer\")\n",
        "  ])\n",
        "\n",
        "  return model"
      ],
      "execution_count": 9,
      "outputs": []
    },
    {
      "cell_type": "markdown",
      "metadata": {
        "id": "og9iXzh3F6Cj"
      },
      "source": [
        "### Creating ResNet TensorFlow Hub Feature Extraction model"
      ]
    },
    {
      "cell_type": "code",
      "metadata": {
        "id": "MHQhYW5XF3XC"
      },
      "source": [
        "#Create Resnet model\n",
        "resnet_model = create_model(resnet_url, num_classes=train_data_10_percent.num_classes)"
      ],
      "execution_count": 10,
      "outputs": []
    },
    {
      "cell_type": "code",
      "metadata": {
        "colab": {
          "base_uri": "https://localhost:8080/"
        },
        "id": "KFA9tZbPGfTS",
        "outputId": "89c9154f-1716-49cb-fc63-31daed3f914a"
      },
      "source": [
        "resnet_model.summary()"
      ],
      "execution_count": 11,
      "outputs": [
        {
          "output_type": "stream",
          "text": [
            "Model: \"sequential\"\n",
            "_________________________________________________________________\n",
            "Layer (type)                 Output Shape              Param #   \n",
            "=================================================================\n",
            "feature_extraction_layer (Ke (None, 2048)              23564800  \n",
            "_________________________________________________________________\n",
            "output_layer (Dense)         (None, 10)                20490     \n",
            "=================================================================\n",
            "Total params: 23,585,290\n",
            "Trainable params: 20,490\n",
            "Non-trainable params: 23,564,800\n",
            "_________________________________________________________________\n"
          ],
          "name": "stdout"
        }
      ]
    },
    {
      "cell_type": "code",
      "metadata": {
        "id": "iKKKPJq2GgpY"
      },
      "source": [
        "#Compile our resnet model\n",
        "resnet_model.compile(loss=\"categorical_crossentropy\", optimizer=\"Adam\", metrics=[\"accuracy\"])"
      ],
      "execution_count": 12,
      "outputs": []
    },
    {
      "cell_type": "code",
      "metadata": {
        "colab": {
          "base_uri": "https://localhost:8080/"
        },
        "id": "CLobx22OG1pR",
        "outputId": "67e608a6-d1c2-4676-db44-40dfbeeb02a1"
      },
      "source": [
        "#Let´s fir our resnet model to the data (10 percent of 10 classes)\n",
        "resnet_history = resnet_model.fit(train_data_10_percent, epochs=5, steps_per_epoch=len(train_data_10_percent), validation_data=test_data, callbacks=[create_tensorboard_callback(dir_name=\"tensorflow_hub\", experiment_name=\"resnet50V2\")])"
      ],
      "execution_count": 16,
      "outputs": [
        {
          "output_type": "stream",
          "text": [
            "Saving TensorBoard log files to: tensorflow_hub/resnet50V2/20210716-113405\n",
            "Epoch 1/5\n",
            "24/24 [==============================] - 52s 810ms/step - loss: 1.8742 - accuracy: 0.3640 - val_loss: 1.1574 - val_accuracy: 0.6204\n",
            "Epoch 2/5\n",
            "24/24 [==============================] - 16s 667ms/step - loss: 0.9077 - accuracy: 0.7333 - val_loss: 0.8688 - val_accuracy: 0.7248\n",
            "Epoch 3/5\n",
            "24/24 [==============================] - 15s 662ms/step - loss: 0.6459 - accuracy: 0.8227 - val_loss: 0.7578 - val_accuracy: 0.7512\n",
            "Epoch 4/5\n",
            "24/24 [==============================] - 15s 658ms/step - loss: 0.4870 - accuracy: 0.8693 - val_loss: 0.7137 - val_accuracy: 0.7648\n",
            "Epoch 5/5\n",
            "24/24 [==============================] - 15s 663ms/step - loss: 0.3930 - accuracy: 0.9027 - val_loss: 0.6705 - val_accuracy: 0.7840\n"
          ],
          "name": "stdout"
        }
      ]
    },
    {
      "cell_type": "code",
      "metadata": {
        "id": "BORvMavaFSnx"
      },
      "source": [
        "#Let´s create a function to plot our loss curves\n",
        "import matplotlib.pyplot as plt\n",
        "\n",
        "#Plot the validation and training curves\n",
        "def plot_loss_curves(history):\n",
        "  \"\"\"\n",
        "  Return separate loss curves for training and validation metrics.\n",
        "  Args:\n",
        "    history: TensorFlow History object.\n",
        "  Returns:\n",
        "    Plots of training/validation loss accuracy metrics\n",
        "  \"\"\"\n",
        "  loss = history.history[\"loss\"]\n",
        "  val_loss = history.history[\"val_loss\"]\n",
        "\n",
        "  accuracy = history.history[\"accuracy\"]\n",
        "  val_accuracy = history.history[\"val_accuracy\"]\n",
        "\n",
        "  epochs = range(len(history.history[\"loss\"]))\n",
        "\n",
        "  #Plot loss\n",
        "  plt.plot(epochs, loss, label=\"training_loss\")\n",
        "  plt.plot(epochs, val_loss, label=(\"val_loss\"))\n",
        "  plt.title(\"Loss\")\n",
        "  plt.xlabel(\"Epochs\")\n",
        "  plt.legend()\n",
        "\n",
        "  #Plot Accuracy\n",
        "  plt.figure()\n",
        "  plt.plot(epochs, accuracy, label=\"training_accuracy\")\n",
        "  plt.plot(epochs, val_accuracy, label=\"val_accuracy\")\n",
        "  plt.title(\"Accuracy\")\n",
        "  plt.xlabel(\"Epochs\")\n",
        "  plt.legend()"
      ],
      "execution_count": 21,
      "outputs": []
    },
    {
      "cell_type": "code",
      "metadata": {
        "colab": {
          "base_uri": "https://localhost:8080/",
          "height": 573
        },
        "id": "jUO96UXQKPDQ",
        "outputId": "cadc58b2-1215-4243-aa47-5c793a2ebe4e"
      },
      "source": [
        "plot_loss_curves(resnet_history)"
      ],
      "execution_count": 22,
      "outputs": [
        {
          "output_type": "display_data",
          "data": {
            "image/png": "[encoded data removed]",
            "text/plain": [
              "<Figure size 432x288 with 1 Axes>"
            ]
          },
          "metadata": {
            "tags": [],
            "needs_background": "light"
          }
        },
        {
          "output_type": "display_data",
          "data": {
            "image/png": "[encoded data removed]",
            "text/plain": [
              "<Figure size 432x288 with 1 Axes>"
            ]
          },
          "metadata": {
            "tags": [],
            "needs_background": "light"
          }
        }
      ]
    },
    {
      "cell_type": "markdown",
      "metadata": {
        "id": "CZIeulYRKfwc"
      },
      "source": [
        "### Creating and testing EfficientNetB0 TensorFLow Hub Feature Extraction model"
      ]
    },
    {
      "cell_type": "code",
      "metadata": {
        "colab": {
          "base_uri": "https://localhost:8080/"
        },
        "id": "znwY_MRbKUE5",
        "outputId": "3c252a0d-e98d-4826-d9b3-35b7d7cebab5"
      },
      "source": [
        "# Create EfficientNetB0 feature extractor model\n",
        "efficientnet_model = create_model(efficientnet_url, train_data_10_percent.num_classes)\n",
        "\n",
        "#Compile EfficientNet model\n",
        "efficientnet_model.compile(loss=\"categorical_crossentropy\", optimizer=\"Adam\", metrics=[\"accuracy\"])\n",
        "\n",
        "#Fit EfficientNet model \n",
        "efficientnet_history = efficientnet_model.fit(train_data_10_percent, epochs=5, steps_per_epoch=len(train_data_10_percent), validation_data=test_data, validation_steps=len(test_data), \n",
        "                                              callbacks=[create_tensorboard_callback(dir_name=\"tensorflow_hub\", experiment_name=\"efficientnetb0\")])"
      ],
      "execution_count": 24,
      "outputs": [
        {
          "output_type": "stream",
          "text": [
            "Saving TensorBoard log files to: tensorflow_hub/efficientnetb0/20210716-115944\n",
            "Epoch 1/5\n",
            "24/24 [==============================] - 25s 770ms/step - loss: 1.9504 - accuracy: 0.3827 - val_loss: 1.3552 - val_accuracy: 0.7280\n",
            "Epoch 2/5\n",
            "24/24 [==============================] - 15s 627ms/step - loss: 1.0995 - accuracy: 0.7640 - val_loss: 0.8904 - val_accuracy: 0.8236\n",
            "Epoch 3/5\n",
            "24/24 [==============================] - 15s 627ms/step - loss: 0.7773 - accuracy: 0.8373 - val_loss: 0.7106 - val_accuracy: 0.8424\n",
            "Epoch 4/5\n",
            "24/24 [==============================] - 15s 628ms/step - loss: 0.6199 - accuracy: 0.8493 - val_loss: 0.6199 - val_accuracy: 0.8544\n",
            "Epoch 5/5\n",
            "24/24 [==============================] - 15s 625ms/step - loss: 0.5233 - accuracy: 0.8907 - val_loss: 0.5644 - val_accuracy: 0.8656\n"
          ],
          "name": "stdout"
        }
      ]
    },
    {
      "cell_type": "code",
      "metadata": {
        "colab": {
          "base_uri": "https://localhost:8080/",
          "height": 573
        },
        "id": "PnAMg1u9MDuY",
        "outputId": "e13627e6-3b8e-453a-ffbe-d74491e2a119"
      },
      "source": [
        "plot_loss_curves(efficientnet_history)"
      ],
      "execution_count": 25,
      "outputs": [
        {
          "output_type": "display_data",
          "data": {
            "image/png": "[encoded data removed]",
            "text/plain": [
              "<Figure size 432x288 with 1 Axes>"
            ]
          },
          "metadata": {
            "tags": [],
            "needs_background": "light"
          }
        },
        {
          "output_type": "display_data",
          "data": {
            "image/png": "[encoded data removed]",
            "text/plain": [
              "<Figure size 432x288 with 1 Axes>"
            ]
          },
          "metadata": {
            "tags": [],
            "needs_background": "light"
          }
        }
      ]
    },
    {
      "cell_type": "code",
      "metadata": {
        "colab": {
          "base_uri": "https://localhost:8080/"
        },
        "id": "a_uu7jiwLsU0",
        "outputId": "6d29806d-ded4-4592-9c01-144a0a74e620"
      },
      "source": [
        "efficientnet_model.summary()"
      ],
      "execution_count": 26,
      "outputs": [
        {
          "output_type": "stream",
          "text": [
            "Model: \"sequential_2\"\n",
            "_________________________________________________________________\n",
            "Layer (type)                 Output Shape              Param #   \n",
            "=================================================================\n",
            "feature_extraction_layer (Ke (None, 1280)              4049564   \n",
            "_________________________________________________________________\n",
            "output_layer (Dense)         (None, 10)                12810     \n",
            "=================================================================\n",
            "Total params: 4,062,374\n",
            "Trainable params: 12,810\n",
            "Non-trainable params: 4,049,564\n",
            "_________________________________________________________________\n"
          ],
          "name": "stdout"
        }
      ]
    },
    {
      "cell_type": "markdown",
      "metadata": {
        "id": "gyRxadvKNu0R"
      },
      "source": [
        "## Different typer of transfer learning\n",
        "\n",
        "## Different typer of transfer learning\n",
        "* \"As is\" transfer learning - using an existing model with no changes what so ever (e.g using ImageNet model on 1000 ImageNet classes)\n",
        "* \"Feature ectraction\" transfer learning - use the prelearned pattern of an existing model (e.g EfficientNetB0 trained on ImageNet) and adjust the output layer for your own problem\n",
        "* \"Fine-tuning\" transfer learning - use the prelearned patterns of an existing model and \"fine-tune\" many or all of the underlying layers (oncluding new output layers)"
      ]
    },
    {
      "cell_type": "code",
      "metadata": {
        "colab": {
          "base_uri": "https://localhost:8080/"
        },
        "id": "4xMwiUhUOMyx",
        "outputId": "10fa787b-7a71-4b2b-b017-bfed298815b8"
      },
      "source": [
        "#How man layers does our efficientnetb0 feature extractor have?\n",
        "len(efficientnet_model.layers[0].weights)"
      ],
      "execution_count": 31,
      "outputs": [
        {
          "output_type": "execute_result",
          "data": {
            "text/plain": [
              "309"
            ]
          },
          "metadata": {
            "tags": []
          },
          "execution_count": 31
        }
      ]
    },
    {
      "cell_type": "markdown",
      "metadata": {
        "id": "6wa9lR4hQIKY"
      },
      "source": [
        "## Comparing our models results using TensorBoard"
      ]
    },
    {
      "cell_type": "code",
      "metadata": {
        "id": "bOj8-v33Oz2l"
      },
      "source": [
        "#Upload TensorBoard  dev records\n",
        "#!tensorboard dev upload --logdir ./tensorflow_hub/ --name \"EfficientNetB0 vs. ResNet50V2\" --description \"Comparing two different TF Hub feature ectraction model architectures\" --one_shot"
      ],
      "execution_count": 37,
      "outputs": []
    },
    {
      "cell_type": "code",
      "metadata": {
        "id": "qaX4vG5dRhs_"
      },
      "source": [
        "#Check out what TensorBoard experiments you have\n",
        "#!tensorboard dev list"
      ],
      "execution_count": 38,
      "outputs": []
    }
  ]
}