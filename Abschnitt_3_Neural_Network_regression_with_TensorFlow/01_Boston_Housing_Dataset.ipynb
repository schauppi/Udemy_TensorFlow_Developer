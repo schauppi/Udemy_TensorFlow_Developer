{
  "nbformat": 4,
  "nbformat_minor": 0,
  "metadata": {
    "colab": {
      "name": "01_Boston_Housing_Dataset.ipynb",
      "provenance": [],
      "collapsed_sections": [],
      "authorship_tag": "ABX9TyO8BFT5OZXAJC1hkyGRhER3",
      "include_colab_link": true
    },
    "kernelspec": {
      "name": "python3",
      "display_name": "Python 3"
    },
    "language_info": {
      "name": "python"
    },
    "accelerator": "GPU"
  },
  "cells": [
    {
      "cell_type": "markdown",
      "metadata": {
        "id": "view-in-github",
        "colab_type": "text"
      },
      "source": [
        "<a href=\"https://colab.research.google.com/github/schauppi/Udemy_TensorFlow_Developer/blob/main/Abschnitt_3_Neural_Network_regression_with_TensorFlow/01_Boston_Housing_Dataset.ipynb\" target=\"_parent\"><img src=\"https://colab.research.google.com/assets/colab-badge.svg\" alt=\"Open In Colab\"/></a>"
      ]
    },
    {
      "cell_type": "code",
      "metadata": {
        "colab": {
          "base_uri": "https://localhost:8080/"
        },
        "id": "cpS0dM8Z8QHQ",
        "outputId": "458281a5-d266-42e7-e995-d41a9a36dd9b"
      },
      "source": [
        "import tensorflow as tf\n",
        "from tensorflow import keras\n",
        "import pandas as pd\n",
        "import matplotlib.pyplot as plt\n",
        "print(tf.__version__)"
      ],
      "execution_count": 14,
      "outputs": [
        {
          "output_type": "stream",
          "text": [
            "2.5.0\n"
          ],
          "name": "stdout"
        }
      ]
    },
    {
      "cell_type": "code",
      "metadata": {
        "id": "EXCNbIuh8eB3",
        "outputId": "df183616-c601-432c-8c6c-c93890ae5e6f",
        "colab": {
          "base_uri": "https://localhost:8080/"
        }
      },
      "source": [
        "#Load the dataset\n",
        "(x_train, y_train), (x_test, y_test) = tf.keras.datasets.boston_housing.load_data(\n",
        "    path='boston_housing.npz', test_split=0.2, seed=113\n",
        ")"
      ],
      "execution_count": 3,
      "outputs": [
        {
          "output_type": "stream",
          "text": [
            "Downloading data from https://storage.googleapis.com/tensorflow/tf-keras-datasets/boston_housing.npz\n",
            "57344/57026 [==============================] - 0s 0us/step\n"
          ],
          "name": "stdout"
        }
      ]
    },
    {
      "cell_type": "code",
      "metadata": {
        "colab": {
          "base_uri": "https://localhost:8080/"
        },
        "id": "3y9S9p7n8sM6",
        "outputId": "4d45316c-df16-40dc-8ffb-3bea3696ef39"
      },
      "source": [
        "#print shapes of the data\n",
        "print(x_train.shape)\n",
        "print(y_train.shape)\n",
        "print(x_test.shape)\n",
        "print(y_test.shape)"
      ],
      "execution_count": 4,
      "outputs": [
        {
          "output_type": "stream",
          "text": [
            "(404, 13)\n",
            "(404,)\n",
            "(102, 13)\n",
            "(102,)\n"
          ],
          "name": "stdout"
        }
      ]
    },
    {
      "cell_type": "code",
      "metadata": {
        "id": "cdXjcJM4sTqn"
      },
      "source": [
        "#Convert NumPy Arrays to Tensors\n",
        "x_train = tf.constant(x_train)\n",
        "x_test = tf.constant(x_test)"
      ],
      "execution_count": 8,
      "outputs": []
    },
    {
      "cell_type": "code",
      "metadata": {
        "id": "Qb07wAA_rw3a"
      },
      "source": [
        "#set seed\n",
        "tf.random.set_seed(42)"
      ],
      "execution_count": 9,
      "outputs": []
    },
    {
      "cell_type": "code",
      "metadata": {
        "id": "h9uoOFlgsDnx"
      },
      "source": [
        "#Build the model\n",
        "model_1 = keras.Sequential([\n",
        "                            keras.layers.Dense(100, activation=\"relu\"),\n",
        "                            keras.layers.Dense(50, activation=\"relu\"),\n",
        "                            keras.layers.Dense(25, activation=\"relu\"),\n",
        "                            keras.layers.Dense(1)\n",
        "])\n",
        "\n",
        "#Compile the model\n",
        "model_1.compile(loss=\"mae\", optimizer=\"Adam\", metrics=[\"mae\"])\n",
        "\n",
        "#Fit the model\n",
        "history = model_1.fit(x_train, y_train, epochs=100, verbose=0)"
      ],
      "execution_count": 11,
      "outputs": []
    },
    {
      "cell_type": "code",
      "metadata": {
        "id": "_yRxG-oGs30A",
        "outputId": "66546c9c-b3dd-4a00-d456-574141a97d4c",
        "colab": {
          "base_uri": "https://localhost:8080/",
          "height": 296
        }
      },
      "source": [
        "#Plot the training curve\n",
        "pd.DataFrame(history.history).plot()\n",
        "plt.ylabel(\"loss\")\n",
        "plt.xlabel(\"epochs\")"
      ],
      "execution_count": 15,
      "outputs": [
        {
          "output_type": "execute_result",
          "data": {
            "text/plain": [
              "Text(0.5, 0, 'epochs')"
            ]
          },
          "metadata": {
            "tags": []
          },
          "execution_count": 15
        },
        {
          "output_type": "display_data",
          "data": {
            "image/png": "[encoded data removed]",
            "text/plain": [
              "<Figure size 432x288 with 1 Axes>"
            ]
          },
          "metadata": {
            "tags": [],
            "needs_background": "light"
          }
        }
      ]
    },
    {
      "cell_type": "code",
      "metadata": {
        "id": "dZVKZ1oytHmB",
        "outputId": "4e2c402e-4953-44c7-cc0b-261f23f6a5c9",
        "colab": {
          "base_uri": "https://localhost:8080/"
        }
      },
      "source": [
        "#Evaluate the model\n",
        "model_1.evaluate(x_test, y_test)"
      ],
      "execution_count": 30,
      "outputs": [
        {
          "output_type": "stream",
          "text": [
            "4/4 [==============================] - 0s 2ms/step - loss: 3.6798 - mae: 3.6798\n"
          ],
          "name": "stdout"
        },
        {
          "output_type": "execute_result",
          "data": {
            "text/plain": [
              "[3.679760217666626, 3.679760217666626]"
            ]
          },
          "metadata": {
            "tags": []
          },
          "execution_count": 30
        }
      ]
    },
    {
      "cell_type": "code",
      "metadata": {
        "id": "3KRYK9DvuN88"
      },
      "source": [
        "#few predictions from model\n",
        "y_pred_1 = model_1.predict(x_test)"
      ],
      "execution_count": 33,
      "outputs": []
    },
    {
      "cell_type": "code",
      "metadata": {
        "id": "hYKq5WrUt3z_"
      },
      "source": [
        "#calculate mse and mae\n",
        "mae_1 = tf.metrics.mean_absolute_error(y_test, tf.squeeze(tf.constant(y_pred_1)))\n",
        "mse_1 = tf.metrics.mean_squared_error(y_test, tf.squeeze(tf.constant(y_pred_1)))"
      ],
      "execution_count": 37,
      "outputs": []
    },
    {
      "cell_type": "code",
      "metadata": {
        "id": "jRJuYxlrtU8T"
      },
      "source": [
        "#Build the model\n",
        "model_2 = keras.Sequential([\n",
        "                            keras.layers.Dense(100, activation=\"relu\"),\n",
        "                            keras.layers.Dense(50, activation=\"relu\"),\n",
        "                            keras.layers.Dense(25, activation=\"relu\"),\n",
        "                            keras.layers.Dense(12, activation=\"relu\"), \n",
        "                            keras.layers.Dense(1)\n",
        "])\n",
        "\n",
        "#Compile the model\n",
        "model_2.compile(loss=\"mae\", optimizer=\"Adam\", metrics=[\"mae\"])\n",
        "\n",
        "#Fit the model\n",
        "history = model_2.fit(x_train, y_train, epochs=150, verbose=0)"
      ],
      "execution_count": 42,
      "outputs": []
    },
    {
      "cell_type": "code",
      "metadata": {
        "id": "ybCLnPa6to4f",
        "outputId": "a5023a31-e927-46d7-d389-f336ab5dd9ea",
        "colab": {
          "base_uri": "https://localhost:8080/",
          "height": 296
        }
      },
      "source": [
        "#Plot the training curve\n",
        "pd.DataFrame(history.history).plot()\n",
        "plt.ylabel(\"loss\")\n",
        "plt.xlabel(\"epochs\")"
      ],
      "execution_count": 43,
      "outputs": [
        {
          "output_type": "execute_result",
          "data": {
            "text/plain": [
              "Text(0.5, 0, 'epochs')"
            ]
          },
          "metadata": {
            "tags": []
          },
          "execution_count": 43
        },
        {
          "output_type": "display_data",
          "data": {
            "image/png": "[encoded data removed]",
            "text/plain": [
              "<Figure size 432x288 with 1 Axes>"
            ]
          },
          "metadata": {
            "tags": [],
            "needs_background": "light"
          }
        }
      ]
    },
    {
      "cell_type": "code",
      "metadata": {
        "id": "owssjRihtrji",
        "outputId": "cb6b597d-7583-4cbf-ab12-8fc4a25a1f97",
        "colab": {
          "base_uri": "https://localhost:8080/"
        }
      },
      "source": [
        "#Evaluate the model\n",
        "model_2.evaluate(x_test, y_test)"
      ],
      "execution_count": 44,
      "outputs": [
        {
          "output_type": "stream",
          "text": [
            "4/4 [==============================] - 0s 3ms/step - loss: 3.8072 - mae: 3.8072\n"
          ],
          "name": "stdout"
        },
        {
          "output_type": "execute_result",
          "data": {
            "text/plain": [
              "[3.8071982860565186, 3.8071982860565186]"
            ]
          },
          "metadata": {
            "tags": []
          },
          "execution_count": 44
        }
      ]
    },
    {
      "cell_type": "code",
      "metadata": {
        "id": "NCeTTDDPtvGo"
      },
      "source": [
        "#few predictions from model\n",
        "y_pred_2 = model_2.predict(x_test)"
      ],
      "execution_count": 45,
      "outputs": []
    },
    {
      "cell_type": "code",
      "metadata": {
        "id": "3kXnSrUHvU-e"
      },
      "source": [
        "#calculate mse and mae\n",
        "mae_2 = tf.metrics.mean_absolute_error(y_test, tf.squeeze(tf.constant(y_pred_2)))\n",
        "mse_2 = tf.metrics.mean_squared_error(y_test, tf.squeeze(tf.constant(y_pred_2)))"
      ],
      "execution_count": 46,
      "outputs": []
    },
    {
      "cell_type": "code",
      "metadata": {
        "id": "SzuDLE1CvbKK"
      },
      "source": [
        "#Build the model\n",
        "model_3 = keras.Sequential([\n",
        "                            keras.layers.Dense(200, activation=\"relu\"),\n",
        "                            keras.layers.Dense(150, activation=\"relu\"),\n",
        "                            keras.layers.Dense(100, activation=\"relu\"),\n",
        "                            keras.layers.Dense(50, activation=\"relu\"),\n",
        "                            keras.layers.Dense(25, activation=\"relu\"),\n",
        "                            keras.layers.Dense(12, activation=\"relu\"), \n",
        "                            keras.layers.Dense(1)\n",
        "])\n",
        "\n",
        "#Compile the model\n",
        "model_3.compile(loss=\"mae\", optimizer=\"Adam\", metrics=[\"mae\"])\n",
        "\n",
        "#Fit the model\n",
        "history = model_3.fit(x_train, y_train, epochs=200, verbose=0)"
      ],
      "execution_count": 64,
      "outputs": []
    },
    {
      "cell_type": "code",
      "metadata": {
        "id": "p4kcFaQhvfSL",
        "outputId": "8727bd13-9d2a-475e-f417-19649c4f49e7",
        "colab": {
          "base_uri": "https://localhost:8080/"
        }
      },
      "source": [
        "#Evaluate the model\n",
        "model_3.evaluate(x_test, y_test)"
      ],
      "execution_count": 65,
      "outputs": [
        {
          "output_type": "stream",
          "text": [
            "4/4 [==============================] - 0s 3ms/step - loss: 3.2219 - mae: 3.2219\n"
          ],
          "name": "stdout"
        },
        {
          "output_type": "execute_result",
          "data": {
            "text/plain": [
              "[3.221921443939209, 3.221921443939209]"
            ]
          },
          "metadata": {
            "tags": []
          },
          "execution_count": 65
        }
      ]
    },
    {
      "cell_type": "code",
      "metadata": {
        "id": "GQWQYlFjvlgH",
        "outputId": "a19cd113-e478-407f-e7c3-e5b06625da19",
        "colab": {
          "base_uri": "https://localhost:8080/",
          "height": 296
        }
      },
      "source": [
        "#Plot the training curve\n",
        "pd.DataFrame(history.history).plot()\n",
        "plt.ylabel(\"loss\")\n",
        "plt.xlabel(\"epochs\")"
      ],
      "execution_count": 66,
      "outputs": [
        {
          "output_type": "execute_result",
          "data": {
            "text/plain": [
              "Text(0.5, 0, 'epochs')"
            ]
          },
          "metadata": {
            "tags": []
          },
          "execution_count": 66
        },
        {
          "output_type": "display_data",
          "data": {
            "image/png": "[encoded data removed]",
            "text/plain": [
              "<Figure size 432x288 with 1 Axes>"
            ]
          },
          "metadata": {
            "tags": [],
            "needs_background": "light"
          }
        }
      ]
    },
    {
      "cell_type": "code",
      "metadata": {
        "id": "mm68JKSCvrsA"
      },
      "source": [
        "#few predictions from model\n",
        "y_pred_3 = model_3.predict(x_test)"
      ],
      "execution_count": 67,
      "outputs": []
    },
    {
      "cell_type": "code",
      "metadata": {
        "id": "NkbeU-ZAwJbj"
      },
      "source": [
        "#calculate mse and mae\n",
        "mae_3 = tf.metrics.mean_absolute_error(y_test, tf.squeeze(tf.constant(y_pred_3)))\n",
        "mse_3 = tf.metrics.mean_squared_error(y_test, tf.squeeze(tf.constant(y_pred_3)))"
      ],
      "execution_count": 68,
      "outputs": []
    },
    {
      "cell_type": "code",
      "metadata": {
        "id": "7HpDQh1NwOog"
      },
      "source": [
        "#Build the model\n",
        "model_4 = keras.Sequential([\n",
        "                            keras.layers.Dense(200, activation=\"relu\"),\n",
        "                            keras.layers.Dense(150, activation=\"relu\"),\n",
        "                            keras.layers.Dense(100, activation=\"relu\"),\n",
        "                            keras.layers.Dense(50, activation=\"relu\"),\n",
        "                            keras.layers.Dense(25, activation=\"relu\"),\n",
        "                            keras.layers.Dense(12, activation=\"relu\"), \n",
        "                            keras.layers.Dense(1)\n",
        "])\n",
        "\n",
        "#Compile the model\n",
        "model_4.compile(loss=\"mae\", optimizer=keras.optimizers.Adam(learning_rate=0.0001), metrics=[\"mae\"])\n",
        "\n",
        "#Fit the model\n",
        "history = model_4.fit(x_train, y_train, epochs=1500, verbose=0)"
      ],
      "execution_count": 92,
      "outputs": []
    },
    {
      "cell_type": "code",
      "metadata": {
        "id": "t79V28Gfwclo",
        "outputId": "9be51980-d525-4516-dfc2-7c2956a39365",
        "colab": {
          "base_uri": "https://localhost:8080/"
        }
      },
      "source": [
        "#Evaluate the model\n",
        "model_4.evaluate(x_test, y_test)"
      ],
      "execution_count": 93,
      "outputs": [
        {
          "output_type": "stream",
          "text": [
            "4/4 [==============================] - 0s 3ms/step - loss: 3.0389 - mae: 3.0389\n"
          ],
          "name": "stdout"
        },
        {
          "output_type": "execute_result",
          "data": {
            "text/plain": [
              "[3.038877010345459, 3.038877010345459]"
            ]
          },
          "metadata": {
            "tags": []
          },
          "execution_count": 93
        }
      ]
    },
    {
      "cell_type": "code",
      "metadata": {
        "id": "7A0kp8iIwhgF",
        "outputId": "79bd988e-a109-4f4c-fde0-6898f9a91d45",
        "colab": {
          "base_uri": "https://localhost:8080/",
          "height": 296
        }
      },
      "source": [
        "#Plot the training curve\n",
        "pd.DataFrame(history.history).plot()\n",
        "plt.ylabel(\"loss\")\n",
        "plt.xlabel(\"epochs\")"
      ],
      "execution_count": 94,
      "outputs": [
        {
          "output_type": "execute_result",
          "data": {
            "text/plain": [
              "Text(0.5, 0, 'epochs')"
            ]
          },
          "metadata": {
            "tags": []
          },
          "execution_count": 94
        },
        {
          "output_type": "display_data",
          "data": {
            "image/png": "[encoded data removed]",
            "text/plain": [
              "<Figure size 432x288 with 1 Axes>"
            ]
          },
          "metadata": {
            "tags": [],
            "needs_background": "light"
          }
        }
      ]
    },
    {
      "cell_type": "code",
      "metadata": {
        "id": "_38eFUtAxeBI"
      },
      "source": [
        "#few predictions from model\n",
        "y_pred_4 = model_4.predict(x_test)"
      ],
      "execution_count": 96,
      "outputs": []
    },
    {
      "cell_type": "code",
      "metadata": {
        "id": "R15umJB4wkXm"
      },
      "source": [
        "#calculate mse and mae\n",
        "mae_4 = tf.metrics.mean_absolute_error(y_test, tf.squeeze(tf.constant(y_pred_4)))\n",
        "mse_4 = tf.metrics.mean_squared_error(y_test, tf.squeeze(tf.constant(y_pred_4)))"
      ],
      "execution_count": 97,
      "outputs": []
    },
    {
      "cell_type": "code",
      "metadata": {
        "id": "WU6VxbO0xajU"
      },
      "source": [
        "#Build the model\n",
        "model_5 = keras.Sequential([\n",
        "                            keras.layers.Dense(250, activation=\"relu\"),\n",
        "                            keras.layers.Dense(200, activation=\"relu\"),\n",
        "                            keras.layers.Dense(150, activation=\"relu\"),\n",
        "                            keras.layers.Dense(100, activation=\"relu\"),\n",
        "                            keras.layers.Dense(50, activation=\"relu\"),\n",
        "                            keras.layers.Dense(25, activation=\"relu\"),\n",
        "                            keras.layers.Dense(12, activation=\"relu\"), \n",
        "                            keras.layers.Dense(1)\n",
        "])\n",
        "\n",
        "#Compile the model\n",
        "model_5.compile(loss=\"mae\", optimizer=keras.optimizers.Adam(learning_rate=0.01), metrics=[\"mae\"])\n",
        "\n",
        "#Fit the model\n",
        "history = model_5.fit(x_train, y_train, epochs=1000, verbose=0)"
      ],
      "execution_count": 118,
      "outputs": []
    },
    {
      "cell_type": "code",
      "metadata": {
        "id": "C-hOoya4yGjh",
        "outputId": "2e7e54e8-4432-45c3-be72-afc43df7a36f",
        "colab": {
          "base_uri": "https://localhost:8080/"
        }
      },
      "source": [
        "#Evaluate the model\n",
        "model_5.evaluate(x_test, y_test)"
      ],
      "execution_count": 119,
      "outputs": [
        {
          "output_type": "stream",
          "text": [
            "4/4 [==============================] - 0s 3ms/step - loss: 2.9894 - mae: 2.9894\n"
          ],
          "name": "stdout"
        },
        {
          "output_type": "execute_result",
          "data": {
            "text/plain": [
              "[2.989429473876953, 2.989429473876953]"
            ]
          },
          "metadata": {
            "tags": []
          },
          "execution_count": 119
        }
      ]
    },
    {
      "cell_type": "code",
      "metadata": {
        "id": "CfLMx7alyL9n",
        "outputId": "93fc6717-feca-46f9-8d2a-8b234a5ecafa",
        "colab": {
          "base_uri": "https://localhost:8080/",
          "height": 296
        }
      },
      "source": [
        "#Plot the training curve\n",
        "pd.DataFrame(history.history).plot()\n",
        "plt.ylabel(\"loss\")\n",
        "plt.xlabel(\"epochs\")"
      ],
      "execution_count": 120,
      "outputs": [
        {
          "output_type": "execute_result",
          "data": {
            "text/plain": [
              "Text(0.5, 0, 'epochs')"
            ]
          },
          "metadata": {
            "tags": []
          },
          "execution_count": 120
        },
        {
          "output_type": "display_data",
          "data": {
            "image/png": "[encoded data removed]",
            "text/plain": [
              "<Figure size 432x288 with 1 Axes>"
            ]
          },
          "metadata": {
            "tags": [],
            "needs_background": "light"
          }
        }
      ]
    },
    {
      "cell_type": "code",
      "metadata": {
        "id": "z9K6p5f_yPUf"
      },
      "source": [
        "#few predictions from model\n",
        "y_pred_5 = model_5.predict(x_test)"
      ],
      "execution_count": 121,
      "outputs": []
    },
    {
      "cell_type": "code",
      "metadata": {
        "id": "VRNiZ_-qyRNA"
      },
      "source": [
        "#calculate mse and mae\n",
        "mae_5 = tf.metrics.mean_absolute_error(y_test, tf.squeeze(tf.constant(y_pred_5)))\n",
        "mse_5 = tf.metrics.mean_squared_error(y_test, tf.squeeze(tf.constant(y_pred_5)))"
      ],
      "execution_count": 122,
      "outputs": []
    },
    {
      "cell_type": "code",
      "metadata": {
        "id": "_rWvOFD80xtk"
      },
      "source": [
        "#Build the model\n",
        "model_6 = keras.Sequential([\n",
        "                            keras.layers.Dense(400, activation=\"relu\"),\n",
        "                            keras.layers.Dense(350, activation=\"relu\"),\n",
        "                            keras.layers.Dense(300, activation=\"relu\"),\n",
        "                            keras.layers.Dense(250, activation=\"relu\"),\n",
        "                            keras.layers.Dense(200, activation=\"relu\"),\n",
        "                            keras.layers.Dense(150, activation=\"relu\"),\n",
        "                            keras.layers.Dense(100, activation=\"relu\"),\n",
        "                            keras.layers.Dense(50, activation=\"relu\"),\n",
        "                            keras.layers.Dense(25, activation=\"relu\"),\n",
        "                            keras.layers.Dense(12, activation=\"relu\"), \n",
        "                            keras.layers.Dense(1)\n",
        "])\n",
        "\n",
        "#Compile the model\n",
        "model_6.compile(loss=\"mae\", optimizer=keras.optimizers.Adam(learning_rate=0.001), metrics=[\"mae\"])\n",
        "\n",
        "#Fit the model\n",
        "history = model_6.fit(x_train, y_train, epochs=1500, verbose=0)"
      ],
      "execution_count": 145,
      "outputs": []
    },
    {
      "cell_type": "code",
      "metadata": {
        "id": "VYpw_3Zk0xwL",
        "outputId": "6170a53f-c357-4772-cc0c-6bbb62f06c85",
        "colab": {
          "base_uri": "https://localhost:8080/"
        }
      },
      "source": [
        "#Evaluate the model\n",
        "model_6.evaluate(x_test, y_test)"
      ],
      "execution_count": 146,
      "outputs": [
        {
          "output_type": "stream",
          "text": [
            "4/4 [==============================] - 0s 3ms/step - loss: 3.2173 - mae: 3.2173\n"
          ],
          "name": "stdout"
        },
        {
          "output_type": "execute_result",
          "data": {
            "text/plain": [
              "[3.217313289642334, 3.217313289642334]"
            ]
          },
          "metadata": {
            "tags": []
          },
          "execution_count": 146
        }
      ]
    },
    {
      "cell_type": "code",
      "metadata": {
        "id": "CApSy29Q0xzS",
        "outputId": "e3924658-a8df-4502-8e4a-37d81ab5e9df",
        "colab": {
          "base_uri": "https://localhost:8080/",
          "height": 296
        }
      },
      "source": [
        "#Plot the training curve\n",
        "pd.DataFrame(history.history).plot()\n",
        "plt.ylabel(\"loss\")\n",
        "plt.xlabel(\"epochs\")"
      ],
      "execution_count": 147,
      "outputs": [
        {
          "output_type": "execute_result",
          "data": {
            "text/plain": [
              "Text(0.5, 0, 'epochs')"
            ]
          },
          "metadata": {
            "tags": []
          },
          "execution_count": 147
        },
        {
          "output_type": "display_data",
          "data": {
            "image/png": "[encoded data removed]",
            "text/plain": [
              "<Figure size 432x288 with 1 Axes>"
            ]
          },
          "metadata": {
            "tags": [],
            "needs_background": "light"
          }
        }
      ]
    },
    {
      "cell_type": "code",
      "metadata": {
        "id": "Yv0Xnvdw0x1H"
      },
      "source": [
        "#few predictions from model\n",
        "y_pred_6 = model_6.predict(x_test)"
      ],
      "execution_count": 148,
      "outputs": []
    },
    {
      "cell_type": "code",
      "metadata": {
        "id": "BZY3hlk80x3e"
      },
      "source": [
        "#calculate mse and mae\n",
        "mae_6 = tf.metrics.mean_absolute_error(y_test, tf.squeeze(tf.constant(y_pred_6)))\n",
        "mse_6 = tf.metrics.mean_squared_error(y_test, tf.squeeze(tf.constant(y_pred_6)))"
      ],
      "execution_count": 149,
      "outputs": []
    },
    {
      "cell_type": "code",
      "metadata": {
        "id": "JJhJNhEByU0h",
        "outputId": "262f0abe-95ab-4b3f-964e-a395a948b902",
        "colab": {
          "base_uri": "https://localhost:8080/",
          "height": 235
        }
      },
      "source": [
        "model_results = [[\"model_1\", mae_1.numpy(), mse_1.numpy()],\n",
        "                 [\"model_2\", mae_2.numpy(), mse_2.numpy()],\n",
        "                 [\"model_3\", mae_3.numpy(), mse_3.numpy()],\n",
        "                 [\"model_4\", mae_4.numpy(), mse_4.numpy()],\n",
        "                 [\"model_5\", mae_5.numpy(), mse_5.numpy()],\n",
        "                 [\"model_6\", mae_6.numpy(), mse_6.numpy()]]\n",
        "\n",
        "all_results = pd.DataFrame(model_results, columns=([\"model\", \"mae\", \"mse\"]))\n",
        "all_results"
      ],
      "execution_count": 150,
      "outputs": [
        {
          "output_type": "execute_result",
          "data": {
            "text/html": [
              "<div>\n",
              "<style scoped>\n",
              "    .dataframe tbody tr th:only-of-type {\n",
              "        vertical-align: middle;\n",
              "    }\n",
              "\n",
              "    .dataframe tbody tr th {\n",
              "        vertical-align: top;\n",
              "    }\n",
              "\n",
              "    .dataframe thead th {\n",
              "        text-align: right;\n",
              "    }\n",
              "</style>\n",
              "<table border=\"1\" class=\"dataframe\">\n",
              "  <thead>\n",
              "    <tr style=\"text-align: right;\">\n",
              "      <th></th>\n",
              "      <th>model</th>\n",
              "      <th>mae</th>\n",
              "      <th>mse</th>\n",
              "    </tr>\n",
              "  </thead>\n",
              "  <tbody>\n",
              "    <tr>\n",
              "      <th>0</th>\n",
              "      <td>model_1</td>\n",
              "      <td>3.679760</td>\n",
              "      <td>28.477755</td>\n",
              "    </tr>\n",
              "    <tr>\n",
              "      <th>1</th>\n",
              "      <td>model_2</td>\n",
              "      <td>3.807198</td>\n",
              "      <td>30.196011</td>\n",
              "    </tr>\n",
              "    <tr>\n",
              "      <th>2</th>\n",
              "      <td>model_3</td>\n",
              "      <td>3.221921</td>\n",
              "      <td>29.047550</td>\n",
              "    </tr>\n",
              "    <tr>\n",
              "      <th>3</th>\n",
              "      <td>model_4</td>\n",
              "      <td>3.038877</td>\n",
              "      <td>22.901636</td>\n",
              "    </tr>\n",
              "    <tr>\n",
              "      <th>4</th>\n",
              "      <td>model_5</td>\n",
              "      <td>2.989429</td>\n",
              "      <td>18.887705</td>\n",
              "    </tr>\n",
              "    <tr>\n",
              "      <th>5</th>\n",
              "      <td>model_6</td>\n",
              "      <td>3.217313</td>\n",
              "      <td>25.978857</td>\n",
              "    </tr>\n",
              "  </tbody>\n",
              "</table>\n",
              "</div>"
            ],
            "text/plain": [
              "     model       mae        mse\n",
              "0  model_1  3.679760  28.477755\n",
              "1  model_2  3.807198  30.196011\n",
              "2  model_3  3.221921  29.047550\n",
              "3  model_4  3.038877  22.901636\n",
              "4  model_5  2.989429  18.887705\n",
              "5  model_6  3.217313  25.978857"
            ]
          },
          "metadata": {
            "tags": []
          },
          "execution_count": 150
        }
      ]
    }
  ]
}