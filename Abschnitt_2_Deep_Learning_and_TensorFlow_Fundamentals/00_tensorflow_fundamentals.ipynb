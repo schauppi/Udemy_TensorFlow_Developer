{
  "nbformat": 4,
  "nbformat_minor": 0,
  "metadata": {
    "colab": {
      "name": "00_tensorflow_fundamentals.ipynb",
      "provenance": [],
      "collapsed_sections": [],
      "authorship_tag": "ABX9TyN48A0Sys2XiNe8Qd/W9+38",
      "include_colab_link": true
    },
    "kernelspec": {
      "name": "python3",
      "display_name": "Python 3"
    },
    "language_info": {
      "name": "python"
    },
    "accelerator": "GPU"
  },
  "cells": [
    {
      "cell_type": "markdown",
      "metadata": {
        "id": "view-in-github",
        "colab_type": "text"
      },
      "source": [
        "<a href=\"https://colab.research.google.com/github/schauppi/Udemy_TensorFlow_Developer/blob/schauppi/Abschnitt_2_Deep_Learning_and_TensorFlow_Fundamentals/00_tensorflow_fundamentals.ipynb\" target=\"_parent\"><img src=\"https://colab.research.google.com/assets/colab-badge.svg\" alt=\"Open In Colab\"/></a>"
      ]
    },
    {
      "cell_type": "code",
      "metadata": {
        "colab": {
          "base_uri": "https://localhost:8080/"
        },
        "id": "ylsI2J2iXDyj",
        "outputId": "75e9ee1a-7b7f-4532-93fa-47716c821aed"
      },
      "source": [
        "import tensorflow as tf\n",
        "print(tf.__version__)"
      ],
      "execution_count": 1,
      "outputs": [
        {
          "output_type": "stream",
          "text": [
            "2.5.0\n"
          ],
          "name": "stdout"
        }
      ]
    },
    {
      "cell_type": "markdown",
      "metadata": {
        "id": "u_J7nKzNZgCf"
      },
      "source": [
        "Get Information about function - click in function an press shift + command + space"
      ]
    },
    {
      "cell_type": "code",
      "metadata": {
        "colab": {
          "base_uri": "https://localhost:8080/"
        },
        "id": "kghbFsNwYzzl",
        "outputId": "9f5c98c0-448b-4da8-ba8d-f875078166b2"
      },
      "source": [
        "#create tensor with tf.constant()\n",
        "scalar = tf.constant(7)\n",
        "scalar"
      ],
      "execution_count": 2,
      "outputs": [
        {
          "output_type": "execute_result",
          "data": {
            "text/plain": [
              "<tf.Tensor: shape=(), dtype=int32, numpy=7>"
            ]
          },
          "metadata": {
            "tags": []
          },
          "execution_count": 2
        }
      ]
    },
    {
      "cell_type": "code",
      "metadata": {
        "colab": {
          "base_uri": "https://localhost:8080/"
        },
        "id": "3B56RHt8ZMJY",
        "outputId": "14a5ae0a-d023-4405-e0bf-5e72a6220a01"
      },
      "source": [
        "#Check the number of dimensions of a tensor (ndim = number of dimensions)\n",
        "scalar.ndim"
      ],
      "execution_count": 3,
      "outputs": [
        {
          "output_type": "execute_result",
          "data": {
            "text/plain": [
              "0"
            ]
          },
          "metadata": {
            "tags": []
          },
          "execution_count": 3
        }
      ]
    },
    {
      "cell_type": "code",
      "metadata": {
        "colab": {
          "base_uri": "https://localhost:8080/"
        },
        "id": "_q6zGfVyZ8ld",
        "outputId": "d9ce9031-47dd-4741-9f55-324d4e8d7b11"
      },
      "source": [
        "#create a vector\n",
        "vector = tf.constant([10, 10])\n",
        "vector"
      ],
      "execution_count": 4,
      "outputs": [
        {
          "output_type": "execute_result",
          "data": {
            "text/plain": [
              "<tf.Tensor: shape=(2,), dtype=int32, numpy=array([10, 10], dtype=int32)>"
            ]
          },
          "metadata": {
            "tags": []
          },
          "execution_count": 4
        }
      ]
    },
    {
      "cell_type": "code",
      "metadata": {
        "colab": {
          "base_uri": "https://localhost:8080/"
        },
        "id": "R8-oeZKNaFBE",
        "outputId": "6bc300da-4478-4616-a532-47ec42bb2845"
      },
      "source": [
        "#check the dimensions of our vector\n",
        "vector.ndim"
      ],
      "execution_count": 5,
      "outputs": [
        {
          "output_type": "execute_result",
          "data": {
            "text/plain": [
              "1"
            ]
          },
          "metadata": {
            "tags": []
          },
          "execution_count": 5
        }
      ]
    },
    {
      "cell_type": "code",
      "metadata": {
        "colab": {
          "base_uri": "https://localhost:8080/"
        },
        "id": "BBUa8-LXaHaP",
        "outputId": "0d7b8246-66ef-4dec-a413-1916617a06ba"
      },
      "source": [
        "#create a matrix (has more than 1 dimension)\n",
        "matrix = tf.constant([[10, 7], [7, 10]])\n",
        "matrix"
      ],
      "execution_count": 6,
      "outputs": [
        {
          "output_type": "execute_result",
          "data": {
            "text/plain": [
              "<tf.Tensor: shape=(2, 2), dtype=int32, numpy=\n",
              "array([[10,  7],\n",
              "       [ 7, 10]], dtype=int32)>"
            ]
          },
          "metadata": {
            "tags": []
          },
          "execution_count": 6
        }
      ]
    },
    {
      "cell_type": "code",
      "metadata": {
        "colab": {
          "base_uri": "https://localhost:8080/"
        },
        "id": "_g9wI-khaaXS",
        "outputId": "02f01320-5ed5-41ca-c73f-3a5f53169666"
      },
      "source": [
        "matrix.ndim"
      ],
      "execution_count": 7,
      "outputs": [
        {
          "output_type": "execute_result",
          "data": {
            "text/plain": [
              "2"
            ]
          },
          "metadata": {
            "tags": []
          },
          "execution_count": 7
        }
      ]
    },
    {
      "cell_type": "markdown",
      "metadata": {
        "id": "7-HtOMYQbMSJ"
      },
      "source": [
        "Higher number in the Datatype means more accurate (more exact) saving of the number - which means it needs more disk space on the computer. float16 needs less space on disk than float32\n"
      ]
    },
    {
      "cell_type": "code",
      "metadata": {
        "colab": {
          "base_uri": "https://localhost:8080/"
        },
        "id": "XYa0TX24aiKR",
        "outputId": "6457d985-cd4a-41ed-8ebf-524ae2beeb1b"
      },
      "source": [
        "#create another matrix\n",
        "another_matrix = tf.constant([[10., 7.], \n",
        "                              [3., 2.], \n",
        "                              [8., 9.]], dtype=tf.float16) #specify datatype\n",
        "another_matrix"
      ],
      "execution_count": 8,
      "outputs": [
        {
          "output_type": "execute_result",
          "data": {
            "text/plain": [
              "<tf.Tensor: shape=(3, 2), dtype=float16, numpy=\n",
              "array([[10.,  7.],\n",
              "       [ 3.,  2.],\n",
              "       [ 8.,  9.]], dtype=float16)>"
            ]
          },
          "metadata": {
            "tags": []
          },
          "execution_count": 8
        }
      ]
    },
    {
      "cell_type": "code",
      "metadata": {
        "colab": {
          "base_uri": "https://localhost:8080/"
        },
        "id": "ZNW69snlbXOy",
        "outputId": "13e58c82-5199-4e27-d77c-4d517c29c9f1"
      },
      "source": [
        "#Number of dimension of another_matrix\n",
        "another_matrix.ndim"
      ],
      "execution_count": 9,
      "outputs": [
        {
          "output_type": "execute_result",
          "data": {
            "text/plain": [
              "2"
            ]
          },
          "metadata": {
            "tags": []
          },
          "execution_count": 9
        }
      ]
    },
    {
      "cell_type": "code",
      "metadata": {
        "colab": {
          "base_uri": "https://localhost:8080/"
        },
        "id": "yVdROkrpb6wU",
        "outputId": "c76bf4b9-9c4a-4429-ed6c-7a38cba950ac"
      },
      "source": [
        "#create a tensor\n",
        "tensor = tf.constant([[[1, 2, 3], \n",
        "                       [4, 5, 6]], \n",
        "                     [[7, 8, 9], \n",
        "                       [10, 11, 12]],\n",
        "                     [[13, 14, 15], \n",
        "                       [16, 17, 18]]])\n",
        "tensor"
      ],
      "execution_count": 10,
      "outputs": [
        {
          "output_type": "execute_result",
          "data": {
            "text/plain": [
              "<tf.Tensor: shape=(3, 2, 3), dtype=int32, numpy=\n",
              "array([[[ 1,  2,  3],\n",
              "        [ 4,  5,  6]],\n",
              "\n",
              "       [[ 7,  8,  9],\n",
              "        [10, 11, 12]],\n",
              "\n",
              "       [[13, 14, 15],\n",
              "        [16, 17, 18]]], dtype=int32)>"
            ]
          },
          "metadata": {
            "tags": []
          },
          "execution_count": 10
        }
      ]
    },
    {
      "cell_type": "code",
      "metadata": {
        "colab": {
          "base_uri": "https://localhost:8080/"
        },
        "id": "yEt5aHRjcM_F",
        "outputId": "b3af8090-42ff-44f9-897a-6950772ee640"
      },
      "source": [
        "tensor.ndim"
      ],
      "execution_count": 11,
      "outputs": [
        {
          "output_type": "execute_result",
          "data": {
            "text/plain": [
              "3"
            ]
          },
          "metadata": {
            "tags": []
          },
          "execution_count": 11
        }
      ]
    },
    {
      "cell_type": "markdown",
      "metadata": {
        "id": "ZNHto2yxcH_q"
      },
      "source": [
        "Scalar - 0 Dimensions <br>\n",
        "Vector - 1 Dimensions <br>\n",
        "Matrix - 2 Dimensions <br>\n",
        "Tensor - 3 Dimensions<br>"
      ]
    },
    {
      "cell_type": "markdown",
      "metadata": {
        "id": "nc7lLfJveQQI"
      },
      "source": [
        "New Code Cell: <br>\n",
        "Command - M - B"
      ]
    },
    {
      "cell_type": "markdown",
      "metadata": {
        "id": "aZqulcqLedyh"
      },
      "source": [
        "###Creating tensors with tf.Variable"
      ]
    },
    {
      "cell_type": "code",
      "metadata": {
        "colab": {
          "base_uri": "https://localhost:8080/"
        },
        "id": "NXIXiUx1dTb7",
        "outputId": "751b2296-6209-4e2b-dffc-0aea211bb637"
      },
      "source": [
        "#Create the same tensor with tf.Variable() as above\n",
        "changeable_tensor = tf.Variable([10, 7])\n",
        "unchangeable_tensor = tf.constant([10, 7])\n",
        "changeable_tensor, unchangeable_tensor"
      ],
      "execution_count": 12,
      "outputs": [
        {
          "output_type": "execute_result",
          "data": {
            "text/plain": [
              "(<tf.Variable 'Variable:0' shape=(2,) dtype=int32, numpy=array([10,  7], dtype=int32)>,\n",
              " <tf.Tensor: shape=(2,), dtype=int32, numpy=array([10,  7], dtype=int32)>)"
            ]
          },
          "metadata": {
            "tags": []
          },
          "execution_count": 12
        }
      ]
    },
    {
      "cell_type": "code",
      "metadata": {
        "id": "Pz57jAOAeOat"
      },
      "source": [
        "#Try to changhe one of the elements in changeable tensor\n",
        "#changeable_tensor[0] = 7\n",
        "#changeable_tensor"
      ],
      "execution_count": 13,
      "outputs": []
    },
    {
      "cell_type": "code",
      "metadata": {
        "id": "q832X0_UeZAc",
        "colab": {
          "base_uri": "https://localhost:8080/"
        },
        "outputId": "5bfcf91c-621b-477b-d937-34c891b6ea5b"
      },
      "source": [
        "#try .assign()\n",
        "changeable_tensor[0].assign(7)\n",
        "changeable_tensor"
      ],
      "execution_count": 14,
      "outputs": [
        {
          "output_type": "execute_result",
          "data": {
            "text/plain": [
              "<tf.Variable 'Variable:0' shape=(2,) dtype=int32, numpy=array([7, 7], dtype=int32)>"
            ]
          },
          "metadata": {
            "tags": []
          },
          "execution_count": 14
        }
      ]
    },
    {
      "cell_type": "code",
      "metadata": {
        "id": "0X-qaozOeO-e"
      },
      "source": [
        "#change unchangeable tensor\n",
        "#unchangeable_tensor[0].assign(7)\n",
        "#unchangeable_tensor"
      ],
      "execution_count": 15,
      "outputs": []
    },
    {
      "cell_type": "markdown",
      "metadata": {
        "id": "wT8WPy3Tgd_2"
      },
      "source": [
        "###Creating random Tensors\n",
        "Random tensors are tensors of some abitrary size which contain random numbers"
      ]
    },
    {
      "cell_type": "code",
      "metadata": {
        "id": "8uSfUQOpgfr3",
        "colab": {
          "base_uri": "https://localhost:8080/"
        },
        "outputId": "8ad23510-2340-431b-9b95-45e69a4a951b"
      },
      "source": [
        "#Create two random (but the same) tensors\n",
        "random_1 = tf.random.Generator.from_seed(42) #set seed for reproduceibility\n",
        "random_1 = random_1.normal(shape=(3, 2))\n",
        "random_1"
      ],
      "execution_count": 16,
      "outputs": [
        {
          "output_type": "execute_result",
          "data": {
            "text/plain": [
              "<tf.Tensor: shape=(3, 2), dtype=float32, numpy=\n",
              "array([[-0.7565803 , -0.06854702],\n",
              "       [ 0.07595026, -1.2573844 ],\n",
              "       [-0.23193765, -1.8107855 ]], dtype=float32)>"
            ]
          },
          "metadata": {
            "tags": []
          },
          "execution_count": 16
        }
      ]
    },
    {
      "cell_type": "code",
      "metadata": {
        "colab": {
          "base_uri": "https://localhost:8080/"
        },
        "id": "JTcpfuaKio7l",
        "outputId": "8df419a5-243f-488b-d281-4a8ab6a2a404"
      },
      "source": [
        "random_2 = tf.random.Generator.from_seed(42)\n",
        "random_2 = random_2.normal(shape=(3, 2))\n",
        "random_2"
      ],
      "execution_count": 17,
      "outputs": [
        {
          "output_type": "execute_result",
          "data": {
            "text/plain": [
              "<tf.Tensor: shape=(3, 2), dtype=float32, numpy=\n",
              "array([[-0.7565803 , -0.06854702],\n",
              "       [ 0.07595026, -1.2573844 ],\n",
              "       [-0.23193765, -1.8107855 ]], dtype=float32)>"
            ]
          },
          "metadata": {
            "tags": []
          },
          "execution_count": 17
        }
      ]
    },
    {
      "cell_type": "code",
      "metadata": {
        "colab": {
          "base_uri": "https://localhost:8080/"
        },
        "id": "Vo92jnAOi9oq",
        "outputId": "26ac54e9-513e-43a1-a461-0ecba228c180"
      },
      "source": [
        "#Are the tensors equal?\n",
        "random_1, random_2, random_1 == random_2"
      ],
      "execution_count": 18,
      "outputs": [
        {
          "output_type": "execute_result",
          "data": {
            "text/plain": [
              "(<tf.Tensor: shape=(3, 2), dtype=float32, numpy=\n",
              " array([[-0.7565803 , -0.06854702],\n",
              "        [ 0.07595026, -1.2573844 ],\n",
              "        [-0.23193765, -1.8107855 ]], dtype=float32)>,\n",
              " <tf.Tensor: shape=(3, 2), dtype=float32, numpy=\n",
              " array([[-0.7565803 , -0.06854702],\n",
              "        [ 0.07595026, -1.2573844 ],\n",
              "        [-0.23193765, -1.8107855 ]], dtype=float32)>,\n",
              " <tf.Tensor: shape=(3, 2), dtype=bool, numpy=\n",
              " array([[ True,  True],\n",
              "        [ True,  True],\n",
              "        [ True,  True]])>)"
            ]
          },
          "metadata": {
            "tags": []
          },
          "execution_count": 18
        }
      ]
    },
    {
      "cell_type": "markdown",
      "metadata": {
        "id": "t4q12HNHkSFa"
      },
      "source": [
        "###Shuffle the order of elements in tensor"
      ]
    },
    {
      "cell_type": "code",
      "metadata": {
        "id": "BLkS5GN0kWEN",
        "colab": {
          "base_uri": "https://localhost:8080/"
        },
        "outputId": "cd4d9c3c-6995-45d5-fe9d-ab0bac576b86"
      },
      "source": [
        "#Shuffle a tensor (valuable for when you want to shuffle your data so the inherent order wont affect training)\n",
        "not_shuffled = tf.constant([[10, 7], \n",
        "                            [3, 4], \n",
        "                            [2, 5]])\n",
        "not_shuffled"
      ],
      "execution_count": 19,
      "outputs": [
        {
          "output_type": "execute_result",
          "data": {
            "text/plain": [
              "<tf.Tensor: shape=(3, 2), dtype=int32, numpy=\n",
              "array([[10,  7],\n",
              "       [ 3,  4],\n",
              "       [ 2,  5]], dtype=int32)>"
            ]
          },
          "metadata": {
            "tags": []
          },
          "execution_count": 19
        }
      ]
    },
    {
      "cell_type": "code",
      "metadata": {
        "id": "CPyPIAZUk8WT",
        "colab": {
          "base_uri": "https://localhost:8080/"
        },
        "outputId": "05529371-c433-4d55-c988-cf2d57be674b"
      },
      "source": [
        "not_shuffled.ndim"
      ],
      "execution_count": 20,
      "outputs": [
        {
          "output_type": "execute_result",
          "data": {
            "text/plain": [
              "2"
            ]
          },
          "metadata": {
            "tags": []
          },
          "execution_count": 20
        }
      ]
    },
    {
      "cell_type": "code",
      "metadata": {
        "id": "u2LMJexElIRB",
        "colab": {
          "base_uri": "https://localhost:8080/"
        },
        "outputId": "9ed86d9b-18ce-42af-dd8d-5316884a0541"
      },
      "source": [
        "#shuffled along first dimension\n",
        "tf.random.shuffle(not_shuffled)"
      ],
      "execution_count": 21,
      "outputs": [
        {
          "output_type": "execute_result",
          "data": {
            "text/plain": [
              "<tf.Tensor: shape=(3, 2), dtype=int32, numpy=\n",
              "array([[10,  7],\n",
              "       [ 3,  4],\n",
              "       [ 2,  5]], dtype=int32)>"
            ]
          },
          "metadata": {
            "tags": []
          },
          "execution_count": 21
        }
      ]
    },
    {
      "cell_type": "code",
      "metadata": {
        "colab": {
          "base_uri": "https://localhost:8080/"
        },
        "id": "zhlvy0qzlSHT",
        "outputId": "cb43c6d9-901e-438a-b5de-080c66b121b0"
      },
      "source": [
        "#shuffle our non-shuffled tensor\n",
        "tf.random.shuffle(not_shuffled, seed=42)"
      ],
      "execution_count": 22,
      "outputs": [
        {
          "output_type": "execute_result",
          "data": {
            "text/plain": [
              "<tf.Tensor: shape=(3, 2), dtype=int32, numpy=\n",
              "array([[ 2,  5],\n",
              "       [ 3,  4],\n",
              "       [10,  7]], dtype=int32)>"
            ]
          },
          "metadata": {
            "tags": []
          },
          "execution_count": 22
        }
      ]
    },
    {
      "cell_type": "code",
      "metadata": {
        "id": "KNin6VnDmTAk",
        "colab": {
          "base_uri": "https://localhost:8080/"
        },
        "outputId": "0c5d7621-4db9-4f89-d2f1-059d9bf48b66"
      },
      "source": [
        "not_shuffled"
      ],
      "execution_count": 23,
      "outputs": [
        {
          "output_type": "execute_result",
          "data": {
            "text/plain": [
              "<tf.Tensor: shape=(3, 2), dtype=int32, numpy=\n",
              "array([[10,  7],\n",
              "       [ 3,  4],\n",
              "       [ 2,  5]], dtype=int32)>"
            ]
          },
          "metadata": {
            "tags": []
          },
          "execution_count": 23
        }
      ]
    },
    {
      "cell_type": "markdown",
      "metadata": {
        "id": "CYW3b93jmfnq"
      },
      "source": [
        "If we want out shuffled tensors to be in the same order, we´ve got use the global level random seed as well as the operation level random seed:\n",
        "\n",
        "> Rule 4: If both the global and the operation seed are set: Both seeds are used in conjunction to determine the random sequence."
      ]
    },
    {
      "cell_type": "code",
      "metadata": {
        "id": "N8r0GqM4mvN8",
        "colab": {
          "base_uri": "https://localhost:8080/"
        },
        "outputId": "c73f97c5-a98d-465a-a7e1-5bd3a580ae3a"
      },
      "source": [
        "tf.random.set_seed(42) #global level random seed\n",
        "tf.random.shuffle(not_shuffled, seed=42) #operation level random seed"
      ],
      "execution_count": 24,
      "outputs": [
        {
          "output_type": "execute_result",
          "data": {
            "text/plain": [
              "<tf.Tensor: shape=(3, 2), dtype=int32, numpy=\n",
              "array([[10,  7],\n",
              "       [ 3,  4],\n",
              "       [ 2,  5]], dtype=int32)>"
            ]
          },
          "metadata": {
            "tags": []
          },
          "execution_count": 24
        }
      ]
    },
    {
      "cell_type": "markdown",
      "metadata": {
        "id": "Vib86hqcnRgW"
      },
      "source": [
        "###Other ways to make tensors"
      ]
    },
    {
      "cell_type": "code",
      "metadata": {
        "id": "vDyQ9Ip1nN9P",
        "colab": {
          "base_uri": "https://localhost:8080/"
        },
        "outputId": "48d0eb90-b202-4eb0-dcee-258e35fd100d"
      },
      "source": [
        "#Create a tensor of all ones\n",
        "tf.ones([10, 7])"
      ],
      "execution_count": 25,
      "outputs": [
        {
          "output_type": "execute_result",
          "data": {
            "text/plain": [
              "<tf.Tensor: shape=(10, 7), dtype=float32, numpy=\n",
              "array([[1., 1., 1., 1., 1., 1., 1.],\n",
              "       [1., 1., 1., 1., 1., 1., 1.],\n",
              "       [1., 1., 1., 1., 1., 1., 1.],\n",
              "       [1., 1., 1., 1., 1., 1., 1.],\n",
              "       [1., 1., 1., 1., 1., 1., 1.],\n",
              "       [1., 1., 1., 1., 1., 1., 1.],\n",
              "       [1., 1., 1., 1., 1., 1., 1.],\n",
              "       [1., 1., 1., 1., 1., 1., 1.],\n",
              "       [1., 1., 1., 1., 1., 1., 1.],\n",
              "       [1., 1., 1., 1., 1., 1., 1.]], dtype=float32)>"
            ]
          },
          "metadata": {
            "tags": []
          },
          "execution_count": 25
        }
      ]
    },
    {
      "cell_type": "code",
      "metadata": {
        "id": "mziNFHNsndkC",
        "colab": {
          "base_uri": "https://localhost:8080/"
        },
        "outputId": "2043350d-0614-4d31-a904-c353a5356638"
      },
      "source": [
        "#Create a tensor of all zeros\n",
        "tf.zeros([10, 7])"
      ],
      "execution_count": 26,
      "outputs": [
        {
          "output_type": "execute_result",
          "data": {
            "text/plain": [
              "<tf.Tensor: shape=(10, 7), dtype=float32, numpy=\n",
              "array([[0., 0., 0., 0., 0., 0., 0.],\n",
              "       [0., 0., 0., 0., 0., 0., 0.],\n",
              "       [0., 0., 0., 0., 0., 0., 0.],\n",
              "       [0., 0., 0., 0., 0., 0., 0.],\n",
              "       [0., 0., 0., 0., 0., 0., 0.],\n",
              "       [0., 0., 0., 0., 0., 0., 0.],\n",
              "       [0., 0., 0., 0., 0., 0., 0.],\n",
              "       [0., 0., 0., 0., 0., 0., 0.],\n",
              "       [0., 0., 0., 0., 0., 0., 0.],\n",
              "       [0., 0., 0., 0., 0., 0., 0.]], dtype=float32)>"
            ]
          },
          "metadata": {
            "tags": []
          },
          "execution_count": 26
        }
      ]
    },
    {
      "cell_type": "markdown",
      "metadata": {
        "id": "tZV_EV3hn201"
      },
      "source": [
        "###Turn numpy arrays into tensors\n",
        "\n",
        "The main difference between NumPy arrays and Tensorfs is taht tensors can be run on a GPU"
      ]
    },
    {
      "cell_type": "code",
      "metadata": {
        "id": "JVzt9sIknm4y",
        "colab": {
          "base_uri": "https://localhost:8080/"
        },
        "outputId": "8de3e253-7e42-4603-c57d-9aa9a5cd9baf"
      },
      "source": [
        "import numpy as np\n",
        "numpy_A = np.arange(1, 25, dtype=np.int32) #create a NumPy array between 1 and 25\n",
        "numpy_A"
      ],
      "execution_count": 27,
      "outputs": [
        {
          "output_type": "execute_result",
          "data": {
            "text/plain": [
              "array([ 1,  2,  3,  4,  5,  6,  7,  8,  9, 10, 11, 12, 13, 14, 15, 16, 17,\n",
              "       18, 19, 20, 21, 22, 23, 24], dtype=int32)"
            ]
          },
          "metadata": {
            "tags": []
          },
          "execution_count": 27
        }
      ]
    },
    {
      "cell_type": "code",
      "metadata": {
        "id": "9ibnZbGkoAYf",
        "colab": {
          "base_uri": "https://localhost:8080/"
        },
        "outputId": "a65b2347-a6bb-45bc-b246-9f84239d6334"
      },
      "source": [
        "A = tf.constant(numpy_A, shape=(2, 3, 4))\n",
        "A"
      ],
      "execution_count": 28,
      "outputs": [
        {
          "output_type": "execute_result",
          "data": {
            "text/plain": [
              "<tf.Tensor: shape=(2, 3, 4), dtype=int32, numpy=\n",
              "array([[[ 1,  2,  3,  4],\n",
              "        [ 5,  6,  7,  8],\n",
              "        [ 9, 10, 11, 12]],\n",
              "\n",
              "       [[13, 14, 15, 16],\n",
              "        [17, 18, 19, 20],\n",
              "        [21, 22, 23, 24]]], dtype=int32)>"
            ]
          },
          "metadata": {
            "tags": []
          },
          "execution_count": 28
        }
      ]
    },
    {
      "cell_type": "code",
      "metadata": {
        "id": "rOtTs6vEoY7C",
        "colab": {
          "base_uri": "https://localhost:8080/"
        },
        "outputId": "bbdf05cd-77b8-469f-9b61-2bb19a43c6a0"
      },
      "source": [
        "B = tf.constant(numpy_A)\n",
        "B"
      ],
      "execution_count": 29,
      "outputs": [
        {
          "output_type": "execute_result",
          "data": {
            "text/plain": [
              "<tf.Tensor: shape=(24,), dtype=int32, numpy=\n",
              "array([ 1,  2,  3,  4,  5,  6,  7,  8,  9, 10, 11, 12, 13, 14, 15, 16, 17,\n",
              "       18, 19, 20, 21, 22, 23, 24], dtype=int32)>"
            ]
          },
          "metadata": {
            "tags": []
          },
          "execution_count": 29
        }
      ]
    },
    {
      "cell_type": "markdown",
      "metadata": {
        "id": "fE8H2GFwpIHo"
      },
      "source": [
        "###Getting informations from tensors\n",
        "\n",
        "* Shape\n",
        "* Rank\n",
        "* Axis or dimensions\n",
        "* Size"
      ]
    },
    {
      "cell_type": "code",
      "metadata": {
        "id": "10rEUByspGEF",
        "colab": {
          "base_uri": "https://localhost:8080/"
        },
        "outputId": "38f87a9c-14d6-4332-9dd6-22bb7da9fa86"
      },
      "source": [
        "#Create a rank 4 tensor (4 dimensions)\n",
        "rank_4_tensor = tf.zeros([2, 3, 4, 5])\n",
        "rank_4_tensor"
      ],
      "execution_count": 30,
      "outputs": [
        {
          "output_type": "execute_result",
          "data": {
            "text/plain": [
              "<tf.Tensor: shape=(2, 3, 4, 5), dtype=float32, numpy=\n",
              "array([[[[0., 0., 0., 0., 0.],\n",
              "         [0., 0., 0., 0., 0.],\n",
              "         [0., 0., 0., 0., 0.],\n",
              "         [0., 0., 0., 0., 0.]],\n",
              "\n",
              "        [[0., 0., 0., 0., 0.],\n",
              "         [0., 0., 0., 0., 0.],\n",
              "         [0., 0., 0., 0., 0.],\n",
              "         [0., 0., 0., 0., 0.]],\n",
              "\n",
              "        [[0., 0., 0., 0., 0.],\n",
              "         [0., 0., 0., 0., 0.],\n",
              "         [0., 0., 0., 0., 0.],\n",
              "         [0., 0., 0., 0., 0.]]],\n",
              "\n",
              "\n",
              "       [[[0., 0., 0., 0., 0.],\n",
              "         [0., 0., 0., 0., 0.],\n",
              "         [0., 0., 0., 0., 0.],\n",
              "         [0., 0., 0., 0., 0.]],\n",
              "\n",
              "        [[0., 0., 0., 0., 0.],\n",
              "         [0., 0., 0., 0., 0.],\n",
              "         [0., 0., 0., 0., 0.],\n",
              "         [0., 0., 0., 0., 0.]],\n",
              "\n",
              "        [[0., 0., 0., 0., 0.],\n",
              "         [0., 0., 0., 0., 0.],\n",
              "         [0., 0., 0., 0., 0.],\n",
              "         [0., 0., 0., 0., 0.]]]], dtype=float32)>"
            ]
          },
          "metadata": {
            "tags": []
          },
          "execution_count": 30
        }
      ]
    },
    {
      "cell_type": "code",
      "metadata": {
        "id": "Wg9VfCM0pKE1",
        "colab": {
          "base_uri": "https://localhost:8080/"
        },
        "outputId": "4a6f428f-808d-407b-a1e8-4365d9abc2bc"
      },
      "source": [
        "rank_4_tensor[0]"
      ],
      "execution_count": 31,
      "outputs": [
        {
          "output_type": "execute_result",
          "data": {
            "text/plain": [
              "<tf.Tensor: shape=(3, 4, 5), dtype=float32, numpy=\n",
              "array([[[0., 0., 0., 0., 0.],\n",
              "        [0., 0., 0., 0., 0.],\n",
              "        [0., 0., 0., 0., 0.],\n",
              "        [0., 0., 0., 0., 0.]],\n",
              "\n",
              "       [[0., 0., 0., 0., 0.],\n",
              "        [0., 0., 0., 0., 0.],\n",
              "        [0., 0., 0., 0., 0.],\n",
              "        [0., 0., 0., 0., 0.]],\n",
              "\n",
              "       [[0., 0., 0., 0., 0.],\n",
              "        [0., 0., 0., 0., 0.],\n",
              "        [0., 0., 0., 0., 0.],\n",
              "        [0., 0., 0., 0., 0.]]], dtype=float32)>"
            ]
          },
          "metadata": {
            "tags": []
          },
          "execution_count": 31
        }
      ]
    },
    {
      "cell_type": "code",
      "metadata": {
        "id": "Qm3KJbUtrevu",
        "colab": {
          "base_uri": "https://localhost:8080/"
        },
        "outputId": "69297426-8b5c-4b79-93ec-ab9d99d66e07"
      },
      "source": [
        "rank_4_tensor.shape, rank_4_tensor.ndim, tf.size(rank_4_tensor)"
      ],
      "execution_count": 32,
      "outputs": [
        {
          "output_type": "execute_result",
          "data": {
            "text/plain": [
              "(TensorShape([2, 3, 4, 5]), 4, <tf.Tensor: shape=(), dtype=int32, numpy=120>)"
            ]
          },
          "metadata": {
            "tags": []
          },
          "execution_count": 32
        }
      ]
    },
    {
      "cell_type": "code",
      "metadata": {
        "id": "US7PMmKIrt1O",
        "colab": {
          "base_uri": "https://localhost:8080/"
        },
        "outputId": "a5e5cf88-f9e2-4e03-e7f9-6e3b4c8bb955"
      },
      "source": [
        "#Get various attributes of our tensor\n",
        "print(\"Datatype of every element:\", rank_4_tensor.dtype)\n",
        "print(\"Number of dimensions (rank):\", rank_4_tensor.ndim)\n",
        "print(\"Shape of tensor:\", rank_4_tensor.shape)\n",
        "print(\"Elements along the 0 axis:\", rank_4_tensor.shape[0])\n",
        "print(\"Elements along the last axis:\", rank_4_tensor.shape[-1])\n",
        "print(\"Total number of elements in our tensor:\", tf.size(rank_4_tensor))\n",
        "print(\"Total number of elements in our tensor:\", tf.size(rank_4_tensor).numpy())"
      ],
      "execution_count": 33,
      "outputs": [
        {
          "output_type": "stream",
          "text": [
            "Datatype of every element: <dtype: 'float32'>\n",
            "Number of dimensions (rank): 4\n",
            "Shape of tensor: (2, 3, 4, 5)\n",
            "Elements along the 0 axis: 2\n",
            "Elements along the last axis: 5\n",
            "Total number of elements in our tensor: tf.Tensor(120, shape=(), dtype=int32)\n",
            "Total number of elements in our tensor: 120\n"
          ],
          "name": "stdout"
        }
      ]
    },
    {
      "cell_type": "markdown",
      "metadata": {
        "id": "GBUAyu42m-E5"
      },
      "source": [
        "###Indexing tensors\n",
        "\n",
        "Tensors can be indexed just like Python lists"
      ]
    },
    {
      "cell_type": "code",
      "metadata": {
        "id": "LiHWpEF_saLa",
        "colab": {
          "base_uri": "https://localhost:8080/"
        },
        "outputId": "bda8a831-a1f6-4bc6-8b72-3e7edd04bf4b"
      },
      "source": [
        "#Get the first 2 elements of each dimension\n",
        "rank_4_tensor[:2, :2, :2, :2]"
      ],
      "execution_count": 34,
      "outputs": [
        {
          "output_type": "execute_result",
          "data": {
            "text/plain": [
              "<tf.Tensor: shape=(2, 2, 2, 2), dtype=float32, numpy=\n",
              "array([[[[0., 0.],\n",
              "         [0., 0.]],\n",
              "\n",
              "        [[0., 0.],\n",
              "         [0., 0.]]],\n",
              "\n",
              "\n",
              "       [[[0., 0.],\n",
              "         [0., 0.]],\n",
              "\n",
              "        [[0., 0.],\n",
              "         [0., 0.]]]], dtype=float32)>"
            ]
          },
          "metadata": {
            "tags": []
          },
          "execution_count": 34
        }
      ]
    },
    {
      "cell_type": "code",
      "metadata": {
        "id": "WYSTC_0RnbKm",
        "colab": {
          "base_uri": "https://localhost:8080/"
        },
        "outputId": "fd192ecd-e6ed-42db-9975-0418a9d4696f"
      },
      "source": [
        "#Get the first element from each dimension from each index except for the final one\n",
        "rank_4_tensor[:1, :1, :1, :]"
      ],
      "execution_count": 35,
      "outputs": [
        {
          "output_type": "execute_result",
          "data": {
            "text/plain": [
              "<tf.Tensor: shape=(1, 1, 1, 5), dtype=float32, numpy=array([[[[0., 0., 0., 0., 0.]]]], dtype=float32)>"
            ]
          },
          "metadata": {
            "tags": []
          },
          "execution_count": 35
        }
      ]
    },
    {
      "cell_type": "code",
      "metadata": {
        "id": "tCJsV-Ifn9dU",
        "colab": {
          "base_uri": "https://localhost:8080/"
        },
        "outputId": "0a93e669-36ca-494b-e3b0-f1aece26d94b"
      },
      "source": [
        "rank_4_tensor.shape"
      ],
      "execution_count": 36,
      "outputs": [
        {
          "output_type": "execute_result",
          "data": {
            "text/plain": [
              "TensorShape([2, 3, 4, 5])"
            ]
          },
          "metadata": {
            "tags": []
          },
          "execution_count": 36
        }
      ]
    },
    {
      "cell_type": "code",
      "metadata": {
        "id": "TNxAFYcQoTq6",
        "colab": {
          "base_uri": "https://localhost:8080/"
        },
        "outputId": "8310530d-9f2a-456a-dfcd-96c21f2cf610"
      },
      "source": [
        "#Create a rank 2 tensor (2 dimensions)\n",
        "rank_2_tensor = tf.constant([[10,7],\n",
        "                            [3, 4]])\n",
        "\n",
        "rank_2_tensor.shape, rank_4_tensor.ndim"
      ],
      "execution_count": 37,
      "outputs": [
        {
          "output_type": "execute_result",
          "data": {
            "text/plain": [
              "(TensorShape([2, 2]), 4)"
            ]
          },
          "metadata": {
            "tags": []
          },
          "execution_count": 37
        }
      ]
    },
    {
      "cell_type": "code",
      "metadata": {
        "id": "A33wFerfogjV",
        "colab": {
          "base_uri": "https://localhost:8080/"
        },
        "outputId": "adc201d3-2c2a-4c0f-97bd-f8cee54dde5f"
      },
      "source": [
        "#Get the last item of each row of our rank 2 tensor\n",
        "rank_2_tensor[:, -1]"
      ],
      "execution_count": 38,
      "outputs": [
        {
          "output_type": "execute_result",
          "data": {
            "text/plain": [
              "<tf.Tensor: shape=(2,), dtype=int32, numpy=array([7, 4], dtype=int32)>"
            ]
          },
          "metadata": {
            "tags": []
          },
          "execution_count": 38
        }
      ]
    },
    {
      "cell_type": "code",
      "metadata": {
        "id": "ZjXtbMDwowsT",
        "colab": {
          "base_uri": "https://localhost:8080/"
        },
        "outputId": "adf54746-f298-46c9-e4de-0447a3eea0ca"
      },
      "source": [
        "#Add in extra dimension to our rank 2 tensor\n",
        "rank_3_tensor = rank_2_tensor[..., tf.newaxis] #add new axis on the end\n",
        "rank_3_tensor"
      ],
      "execution_count": 39,
      "outputs": [
        {
          "output_type": "execute_result",
          "data": {
            "text/plain": [
              "<tf.Tensor: shape=(2, 2, 1), dtype=int32, numpy=\n",
              "array([[[10],\n",
              "        [ 7]],\n",
              "\n",
              "       [[ 3],\n",
              "        [ 4]]], dtype=int32)>"
            ]
          },
          "metadata": {
            "tags": []
          },
          "execution_count": 39
        }
      ]
    },
    {
      "cell_type": "code",
      "metadata": {
        "id": "xJpGUdN2pCqf",
        "colab": {
          "base_uri": "https://localhost:8080/"
        },
        "outputId": "9b033696-8e71-46f3-8c23-8a60ba7cdc49"
      },
      "source": [
        "#Alternative to tf.newaxis\n",
        "tf.expand_dims(rank_2_tensor, axis=-1) #-1 means expand last axis\n"
      ],
      "execution_count": 40,
      "outputs": [
        {
          "output_type": "execute_result",
          "data": {
            "text/plain": [
              "<tf.Tensor: shape=(2, 2, 1), dtype=int32, numpy=\n",
              "array([[[10],\n",
              "        [ 7]],\n",
              "\n",
              "       [[ 3],\n",
              "        [ 4]]], dtype=int32)>"
            ]
          },
          "metadata": {
            "tags": []
          },
          "execution_count": 40
        }
      ]
    },
    {
      "cell_type": "code",
      "metadata": {
        "id": "qRlPOAk2pg9V",
        "colab": {
          "base_uri": "https://localhost:8080/"
        },
        "outputId": "97b14120-3cb5-47ce-edf1-0a6b3a14a2fe"
      },
      "source": [
        "tf.expand_dims(rank_2_tensor, axis=0) #expand the 0-axis"
      ],
      "execution_count": 41,
      "outputs": [
        {
          "output_type": "execute_result",
          "data": {
            "text/plain": [
              "<tf.Tensor: shape=(1, 2, 2), dtype=int32, numpy=\n",
              "array([[[10,  7],\n",
              "        [ 3,  4]]], dtype=int32)>"
            ]
          },
          "metadata": {
            "tags": []
          },
          "execution_count": 41
        }
      ]
    },
    {
      "cell_type": "code",
      "metadata": {
        "id": "9ambOovgpuW2",
        "colab": {
          "base_uri": "https://localhost:8080/"
        },
        "outputId": "c0fbd1db-7206-4247-a919-60799f994a46"
      },
      "source": [
        "tf.expand_dims(rank_2_tensor, axis=1)"
      ],
      "execution_count": 42,
      "outputs": [
        {
          "output_type": "execute_result",
          "data": {
            "text/plain": [
              "<tf.Tensor: shape=(2, 1, 2), dtype=int32, numpy=\n",
              "array([[[10,  7]],\n",
              "\n",
              "       [[ 3,  4]]], dtype=int32)>"
            ]
          },
          "metadata": {
            "tags": []
          },
          "execution_count": 42
        }
      ]
    },
    {
      "cell_type": "code",
      "metadata": {
        "id": "e7gaDYJ_pyfb",
        "colab": {
          "base_uri": "https://localhost:8080/"
        },
        "outputId": "8fb72820-5349-4fd8-a073-f6de6eb34e58"
      },
      "source": [
        "rank_2_tensor"
      ],
      "execution_count": 43,
      "outputs": [
        {
          "output_type": "execute_result",
          "data": {
            "text/plain": [
              "<tf.Tensor: shape=(2, 2), dtype=int32, numpy=\n",
              "array([[10,  7],\n",
              "       [ 3,  4]], dtype=int32)>"
            ]
          },
          "metadata": {
            "tags": []
          },
          "execution_count": 43
        }
      ]
    },
    {
      "cell_type": "markdown",
      "metadata": {
        "id": "l0eVYDJ3p6q8"
      },
      "source": [
        "###Manipulating tensors (tensor operations)\n",
        "\n",
        "**Basic operations\n",
        "\n",
        "+, -, *, /"
      ]
    },
    {
      "cell_type": "code",
      "metadata": {
        "id": "QlrmeKO9p1B0",
        "colab": {
          "base_uri": "https://localhost:8080/"
        },
        "outputId": "bec76963-5431-48c1-c618-96edc0a6862a"
      },
      "source": [
        "#You can add values to a tensor using the addition operator\n",
        "tensor = tf.constant([[10, 7],\n",
        "                      [3,4]])\n",
        "\n",
        "tensor + 10"
      ],
      "execution_count": 44,
      "outputs": [
        {
          "output_type": "execute_result",
          "data": {
            "text/plain": [
              "<tf.Tensor: shape=(2, 2), dtype=int32, numpy=\n",
              "array([[20, 17],\n",
              "       [13, 14]], dtype=int32)>"
            ]
          },
          "metadata": {
            "tags": []
          },
          "execution_count": 44
        }
      ]
    },
    {
      "cell_type": "code",
      "metadata": {
        "id": "uKSC4ztywE48",
        "colab": {
          "base_uri": "https://localhost:8080/"
        },
        "outputId": "77649d1f-d008-48b9-edbd-f3043c86f118"
      },
      "source": [
        "#Original tensor is unchanged\n",
        "tensor"
      ],
      "execution_count": 45,
      "outputs": [
        {
          "output_type": "execute_result",
          "data": {
            "text/plain": [
              "<tf.Tensor: shape=(2, 2), dtype=int32, numpy=\n",
              "array([[10,  7],\n",
              "       [ 3,  4]], dtype=int32)>"
            ]
          },
          "metadata": {
            "tags": []
          },
          "execution_count": 45
        }
      ]
    },
    {
      "cell_type": "code",
      "metadata": {
        "id": "SdcwEQ88wGII",
        "colab": {
          "base_uri": "https://localhost:8080/"
        },
        "outputId": "93e46924-a016-41b9-b1b3-d9ae194da6bf"
      },
      "source": [
        "#Multiplication\n",
        "tensor * 10"
      ],
      "execution_count": 46,
      "outputs": [
        {
          "output_type": "execute_result",
          "data": {
            "text/plain": [
              "<tf.Tensor: shape=(2, 2), dtype=int32, numpy=\n",
              "array([[100,  70],\n",
              "       [ 30,  40]], dtype=int32)>"
            ]
          },
          "metadata": {
            "tags": []
          },
          "execution_count": 46
        }
      ]
    },
    {
      "cell_type": "code",
      "metadata": {
        "id": "lx9Si5AdwckQ",
        "colab": {
          "base_uri": "https://localhost:8080/"
        },
        "outputId": "90b73256-5eb2-44e3-c5c9-153fdc4e83a6"
      },
      "source": [
        "#Subtraction\n",
        "tensor -10"
      ],
      "execution_count": 47,
      "outputs": [
        {
          "output_type": "execute_result",
          "data": {
            "text/plain": [
              "<tf.Tensor: shape=(2, 2), dtype=int32, numpy=\n",
              "array([[ 0, -3],\n",
              "       [-7, -6]], dtype=int32)>"
            ]
          },
          "metadata": {
            "tags": []
          },
          "execution_count": 47
        }
      ]
    },
    {
      "cell_type": "code",
      "metadata": {
        "id": "fyKev7vxwfKN",
        "colab": {
          "base_uri": "https://localhost:8080/"
        },
        "outputId": "783cb95d-1f99-4c38-c21b-aeb02eb26640"
      },
      "source": [
        "#We can use the tensorflow built in function too\n",
        "#Faster than the other one\n",
        "tf.multiply(tensor, 10)"
      ],
      "execution_count": 48,
      "outputs": [
        {
          "output_type": "execute_result",
          "data": {
            "text/plain": [
              "<tf.Tensor: shape=(2, 2), dtype=int32, numpy=\n",
              "array([[100,  70],\n",
              "       [ 30,  40]], dtype=int32)>"
            ]
          },
          "metadata": {
            "tags": []
          },
          "execution_count": 48
        }
      ]
    },
    {
      "cell_type": "markdown",
      "metadata": {
        "id": "8DNxRx0_xL2p"
      },
      "source": [
        "###Matrix multiplication\n",
        "\n",
        "Most common operations in ML"
      ]
    },
    {
      "cell_type": "code",
      "metadata": {
        "id": "SU6-S1jLxJ0A",
        "colab": {
          "base_uri": "https://localhost:8080/"
        },
        "outputId": "5b0c0742-634b-4979-8364-e8ed8d93f230"
      },
      "source": [
        "#Matrix multiplication in tensorflow\n",
        "print(tensor)\n",
        "tf.matmul(tensor, tensor)"
      ],
      "execution_count": 49,
      "outputs": [
        {
          "output_type": "stream",
          "text": [
            "tf.Tensor(\n",
            "[[10  7]\n",
            " [ 3  4]], shape=(2, 2), dtype=int32)\n"
          ],
          "name": "stdout"
        },
        {
          "output_type": "execute_result",
          "data": {
            "text/plain": [
              "<tf.Tensor: shape=(2, 2), dtype=int32, numpy=\n",
              "array([[121,  98],\n",
              "       [ 42,  37]], dtype=int32)>"
            ]
          },
          "metadata": {
            "tags": []
          },
          "execution_count": 49
        }
      ]
    },
    {
      "cell_type": "code",
      "metadata": {
        "id": "EzdkK81c3RNj",
        "colab": {
          "base_uri": "https://localhost:8080/"
        },
        "outputId": "9592ea66-14c8-42fb-f5bb-9fb620ee56cb"
      },
      "source": [
        "#Matrix multiplication with Python operator \"@\"\n",
        "tensor @ tensor"
      ],
      "execution_count": 50,
      "outputs": [
        {
          "output_type": "execute_result",
          "data": {
            "text/plain": [
              "<tf.Tensor: shape=(2, 2), dtype=int32, numpy=\n",
              "array([[121,  98],\n",
              "       [ 42,  37]], dtype=int32)>"
            ]
          },
          "metadata": {
            "tags": []
          },
          "execution_count": 50
        }
      ]
    },
    {
      "cell_type": "code",
      "metadata": {
        "id": "hTahmFB13goj"
      },
      "source": [
        "tensor_a = tf.constant([[1,2,5], \n",
        "              [7,2,1],\n",
        "              [3,3,3]])"
      ],
      "execution_count": 51,
      "outputs": []
    },
    {
      "cell_type": "code",
      "metadata": {
        "id": "VKM49OxV3sgX"
      },
      "source": [
        "tensor_b = tf.constant([[3, 5],\n",
        "                        [6, 7],\n",
        "                        [1, 8]])"
      ],
      "execution_count": 52,
      "outputs": []
    },
    {
      "cell_type": "code",
      "metadata": {
        "id": "v_0aMAU739jJ",
        "colab": {
          "base_uri": "https://localhost:8080/"
        },
        "outputId": "c3de4b45-537f-44fa-eafd-f6b90fea823a"
      },
      "source": [
        "tf.matmul(tensor_a,tensor_b)"
      ],
      "execution_count": 53,
      "outputs": [
        {
          "output_type": "execute_result",
          "data": {
            "text/plain": [
              "<tf.Tensor: shape=(3, 2), dtype=int32, numpy=\n",
              "array([[20, 59],\n",
              "       [34, 57],\n",
              "       [30, 60]], dtype=int32)>"
            ]
          },
          "metadata": {
            "tags": []
          },
          "execution_count": 53
        }
      ]
    },
    {
      "cell_type": "code",
      "metadata": {
        "id": "-kiclhZp4DTl",
        "colab": {
          "base_uri": "https://localhost:8080/"
        },
        "outputId": "55444032-2c5a-415b-fa42-07182a7e49a6"
      },
      "source": [
        "print(tensor_a.shape)\n",
        "print(tensor_b.shape)"
      ],
      "execution_count": 54,
      "outputs": [
        {
          "output_type": "stream",
          "text": [
            "(3, 3)\n",
            "(3, 2)\n"
          ],
          "name": "stdout"
        }
      ]
    },
    {
      "cell_type": "code",
      "metadata": {
        "id": "UmHkbv5k4vRU"
      },
      "source": [
        "tensor_c = tf.constant([[1,2],\n",
        "                        [3,4],\n",
        "                        [5,6]])"
      ],
      "execution_count": 55,
      "outputs": []
    },
    {
      "cell_type": "code",
      "metadata": {
        "id": "z_buoTqfQLsT",
        "colab": {
          "base_uri": "https://localhost:8080/"
        },
        "outputId": "2caafb21-6e52-4dca-85e3-bcb0ce60b7d5"
      },
      "source": [
        "#change shape of tensor_c\n",
        "tensor_d = tf.reshape(tensor_c, shape=(2,3))\n",
        "tensor_d"
      ],
      "execution_count": 56,
      "outputs": [
        {
          "output_type": "execute_result",
          "data": {
            "text/plain": [
              "<tf.Tensor: shape=(2, 3), dtype=int32, numpy=\n",
              "array([[1, 2, 3],\n",
              "       [4, 5, 6]], dtype=int32)>"
            ]
          },
          "metadata": {
            "tags": []
          },
          "execution_count": 56
        }
      ]
    },
    {
      "cell_type": "code",
      "metadata": {
        "id": "Uzcm0C91QOQn",
        "colab": {
          "base_uri": "https://localhost:8080/"
        },
        "outputId": "4b1beedc-26c2-493e-a754-e5acee8aa509"
      },
      "source": [
        "tf.matmul(tensor_c, tensor_d)"
      ],
      "execution_count": 57,
      "outputs": [
        {
          "output_type": "execute_result",
          "data": {
            "text/plain": [
              "<tf.Tensor: shape=(3, 3), dtype=int32, numpy=\n",
              "array([[ 9, 12, 15],\n",
              "       [19, 26, 33],\n",
              "       [29, 40, 51]], dtype=int32)>"
            ]
          },
          "metadata": {
            "tags": []
          },
          "execution_count": 57
        }
      ]
    },
    {
      "cell_type": "code",
      "metadata": {
        "id": "bWS_pdE5Qmou",
        "colab": {
          "base_uri": "https://localhost:8080/"
        },
        "outputId": "0c95b27c-d7bf-4d57-8f5c-5863c2588ab3"
      },
      "source": [
        "#matrix multiplication is possible - right dimensions\n",
        "tensor_c.shape, tensor_d.shape"
      ],
      "execution_count": 58,
      "outputs": [
        {
          "output_type": "execute_result",
          "data": {
            "text/plain": [
              "(TensorShape([3, 2]), TensorShape([2, 3]))"
            ]
          },
          "metadata": {
            "tags": []
          },
          "execution_count": 58
        }
      ]
    },
    {
      "cell_type": "code",
      "metadata": {
        "id": "PB4dJY6PQ2x3",
        "colab": {
          "base_uri": "https://localhost:8080/"
        },
        "outputId": "e04e7350-d846-4554-847b-52406c88317a"
      },
      "source": [
        "#Can do the same with transpose\n",
        "#Flips rows and columns\n",
        "tf.transpose(tensor_c)"
      ],
      "execution_count": 59,
      "outputs": [
        {
          "output_type": "execute_result",
          "data": {
            "text/plain": [
              "<tf.Tensor: shape=(2, 3), dtype=int32, numpy=\n",
              "array([[1, 3, 5],\n",
              "       [2, 4, 6]], dtype=int32)>"
            ]
          },
          "metadata": {
            "tags": []
          },
          "execution_count": 59
        }
      ]
    },
    {
      "cell_type": "code",
      "metadata": {
        "id": "Z-lc1HRWRpDF",
        "colab": {
          "base_uri": "https://localhost:8080/"
        },
        "outputId": "0ee5e056-370c-4e8f-c8f2-3b38b2e474c9"
      },
      "source": [
        "#Try matrix multiplication with transpose\n",
        "tf.matmul(tf.transpose(tensor_c), tf.transpose(tensor_d))"
      ],
      "execution_count": 60,
      "outputs": [
        {
          "output_type": "execute_result",
          "data": {
            "text/plain": [
              "<tf.Tensor: shape=(2, 2), dtype=int32, numpy=\n",
              "array([[22, 49],\n",
              "       [28, 64]], dtype=int32)>"
            ]
          },
          "metadata": {
            "tags": []
          },
          "execution_count": 60
        }
      ]
    },
    {
      "cell_type": "markdown",
      "metadata": {
        "id": "C78Pv-ZlSxCK"
      },
      "source": [
        "###The dot product\n",
        "Matrix multiplication is also referred as the dot product. <br>\n",
        "You can perform matrix multiplication with: <br>\n",
        "* `tf.matmul()`\n",
        "* `tf.tensordot()`"
      ]
    },
    {
      "cell_type": "code",
      "metadata": {
        "id": "sUPanrBtSJQu",
        "colab": {
          "base_uri": "https://localhost:8080/"
        },
        "outputId": "939b1abe-9309-4bf4-f3a6-1275368d6a9f"
      },
      "source": [
        "#Perform the dot product on tensor_c and tensor_d\n",
        "print(tensor_c.shape)\n",
        "print(tensor_d.shape)"
      ],
      "execution_count": 61,
      "outputs": [
        {
          "output_type": "stream",
          "text": [
            "(3, 2)\n",
            "(2, 3)\n"
          ],
          "name": "stdout"
        }
      ]
    },
    {
      "cell_type": "code",
      "metadata": {
        "id": "gCdlaEXcTYAv",
        "colab": {
          "base_uri": "https://localhost:8080/"
        },
        "outputId": "eaec7793-a016-4d94-d28b-cc49f5bdbb5c"
      },
      "source": [
        "tf.tensordot(tensor_c, tensor_d, axes=1)"
      ],
      "execution_count": 62,
      "outputs": [
        {
          "output_type": "execute_result",
          "data": {
            "text/plain": [
              "<tf.Tensor: shape=(3, 3), dtype=int32, numpy=\n",
              "array([[ 9, 12, 15],\n",
              "       [19, 26, 33],\n",
              "       [29, 40, 51]], dtype=int32)>"
            ]
          },
          "metadata": {
            "tags": []
          },
          "execution_count": 62
        }
      ]
    },
    {
      "cell_type": "code",
      "metadata": {
        "id": "WjRme2IdTfmI",
        "colab": {
          "base_uri": "https://localhost:8080/"
        },
        "outputId": "2901dd9b-e030-49ae-c344-1c4f6dc98cdd"
      },
      "source": [
        "#Perform matrix multiplication bewteen tensor_c, tensor_d (transposed)\n",
        "tf.matmul(tf.transpose(tensor_c), tf.transpose(tensor_d))"
      ],
      "execution_count": 63,
      "outputs": [
        {
          "output_type": "execute_result",
          "data": {
            "text/plain": [
              "<tf.Tensor: shape=(2, 2), dtype=int32, numpy=\n",
              "array([[22, 49],\n",
              "       [28, 64]], dtype=int32)>"
            ]
          },
          "metadata": {
            "tags": []
          },
          "execution_count": 63
        }
      ]
    },
    {
      "cell_type": "code",
      "metadata": {
        "id": "N2TaJCuAUBf-",
        "colab": {
          "base_uri": "https://localhost:8080/"
        },
        "outputId": "dba71017-52fd-49b8-a879-3aae40e1e5f7"
      },
      "source": [
        "#Perform matrix multiplication bewteen tensor_c, tensor_d (reshaped)\n",
        "tf.matmul(tf.reshape(tensor_c, shape=(2,3)), tf.reshape(tensor_d, shape=(3,2)))"
      ],
      "execution_count": 64,
      "outputs": [
        {
          "output_type": "execute_result",
          "data": {
            "text/plain": [
              "<tf.Tensor: shape=(2, 2), dtype=int32, numpy=\n",
              "array([[22, 28],\n",
              "       [49, 64]], dtype=int32)>"
            ]
          },
          "metadata": {
            "tags": []
          },
          "execution_count": 64
        }
      ]
    },
    {
      "cell_type": "code",
      "metadata": {
        "id": "Yv5kcXi8USzh",
        "colab": {
          "base_uri": "https://localhost:8080/"
        },
        "outputId": "16c24d6e-399e-4215-aa68-52c9cd6353db"
      },
      "source": [
        "#Check the vakues of tensor_c, reshaped tensor_c and transposed tensor_c\n",
        "print(\"Normal: \", \"\\n\", tensor_c) # \"\\n\" is for new line\n",
        "print(\"reshaped: \", \"\\n\", tf.reshape(tensor_c, shape=(2,3)))\n",
        "print(\"transposed: \", \"\\n\", tf.transpose(tensor_c))"
      ],
      "execution_count": 65,
      "outputs": [
        {
          "output_type": "stream",
          "text": [
            "Normal:  \n",
            " tf.Tensor(\n",
            "[[1 2]\n",
            " [3 4]\n",
            " [5 6]], shape=(3, 2), dtype=int32)\n",
            "reshaped:  \n",
            " tf.Tensor(\n",
            "[[1 2 3]\n",
            " [4 5 6]], shape=(2, 3), dtype=int32)\n",
            "transposed:  \n",
            " tf.Tensor(\n",
            "[[1 3 5]\n",
            " [2 4 6]], shape=(2, 3), dtype=int32)\n"
          ],
          "name": "stdout"
        }
      ]
    },
    {
      "cell_type": "markdown",
      "metadata": {
        "id": "Qt2Rz1CHWSpw"
      },
      "source": [
        "###Transpose the tensors when one of the axis doesn´t line up rather than reshaping it!!!!!!!! "
      ]
    },
    {
      "cell_type": "markdown",
      "metadata": {
        "id": "tOW_QoidWnSU"
      },
      "source": [
        "###Change the datatype of a tensor\n",
        "Reducing the amount of used memory per tensor"
      ]
    },
    {
      "cell_type": "code",
      "metadata": {
        "id": "CU37Gjq3UvFF",
        "colab": {
          "base_uri": "https://localhost:8080/"
        },
        "outputId": "67b73369-2f35-4484-946f-01aa6145418c"
      },
      "source": [
        "#Create a new tensor with default datatype (float32)\n",
        "B = tf.constant([1.7, 7.4])\n",
        "B.dtype"
      ],
      "execution_count": 66,
      "outputs": [
        {
          "output_type": "execute_result",
          "data": {
            "text/plain": [
              "tf.float32"
            ]
          },
          "metadata": {
            "tags": []
          },
          "execution_count": 66
        }
      ]
    },
    {
      "cell_type": "code",
      "metadata": {
        "id": "aDu0T9feW4Wt",
        "colab": {
          "base_uri": "https://localhost:8080/"
        },
        "outputId": "b52e1058-0672-4e35-9314-66bd0ea569b6"
      },
      "source": [
        "C = tf.constant([7,10])\n",
        "C.dtype"
      ],
      "execution_count": 67,
      "outputs": [
        {
          "output_type": "execute_result",
          "data": {
            "text/plain": [
              "tf.int32"
            ]
          },
          "metadata": {
            "tags": []
          },
          "execution_count": 67
        }
      ]
    },
    {
      "cell_type": "code",
      "metadata": {
        "id": "Ndr_JWlyW6t9",
        "colab": {
          "base_uri": "https://localhost:8080/"
        },
        "outputId": "594516ae-fd85-4584-caa8-43b56b55169b"
      },
      "source": [
        "#Change from float32 to float16 - reduced precision - more computation speed\n",
        "B = tf.cast(B, dtype=tf.float16)\n",
        "B.dtype"
      ],
      "execution_count": 68,
      "outputs": [
        {
          "output_type": "execute_result",
          "data": {
            "text/plain": [
              "tf.float16"
            ]
          },
          "metadata": {
            "tags": []
          },
          "execution_count": 68
        }
      ]
    },
    {
      "cell_type": "code",
      "metadata": {
        "id": "PkCHE5_6Xpz4",
        "colab": {
          "base_uri": "https://localhost:8080/"
        },
        "outputId": "0818a7ef-8896-4a4d-c916-d3eebfb19219"
      },
      "source": [
        "C = tf.cast(B, dtype=tf.int16)\n",
        "C.dtype"
      ],
      "execution_count": 69,
      "outputs": [
        {
          "output_type": "execute_result",
          "data": {
            "text/plain": [
              "tf.int16"
            ]
          },
          "metadata": {
            "tags": []
          },
          "execution_count": 69
        }
      ]
    },
    {
      "cell_type": "markdown",
      "metadata": {
        "id": "fkJR_o-KYOSI"
      },
      "source": [
        "###Aggregating tensor\n",
        "\n",
        "Aggregating tensors = condensing them from multiple values down to a smaller amount of values"
      ]
    },
    {
      "cell_type": "code",
      "metadata": {
        "id": "xO45GTEOXzjh",
        "colab": {
          "base_uri": "https://localhost:8080/"
        },
        "outputId": "3a2c118e-d155-46b9-b340-1f0da6f9124e"
      },
      "source": [
        "#Get the absolute values\n",
        "D = tf.constant([-7, -10])\n",
        "D"
      ],
      "execution_count": 70,
      "outputs": [
        {
          "output_type": "execute_result",
          "data": {
            "text/plain": [
              "<tf.Tensor: shape=(2,), dtype=int32, numpy=array([ -7, -10], dtype=int32)>"
            ]
          },
          "metadata": {
            "tags": []
          },
          "execution_count": 70
        }
      ]
    },
    {
      "cell_type": "code",
      "metadata": {
        "id": "q80AvRg4x0mB",
        "colab": {
          "base_uri": "https://localhost:8080/"
        },
        "outputId": "63bced04-8b2b-406e-dcbc-9638e9f707a7"
      },
      "source": [
        "#Get the absolute values\n",
        "#turn negative into positive values\n",
        "tf.abs(D)"
      ],
      "execution_count": 71,
      "outputs": [
        {
          "output_type": "execute_result",
          "data": {
            "text/plain": [
              "<tf.Tensor: shape=(2,), dtype=int32, numpy=array([ 7, 10], dtype=int32)>"
            ]
          },
          "metadata": {
            "tags": []
          },
          "execution_count": 71
        }
      ]
    },
    {
      "cell_type": "markdown",
      "metadata": {
        "id": "v93StX5QyF19"
      },
      "source": [
        "Let#s go through the following forms of aggregation:\n",
        "* Get the minimumü\n",
        "* Get the maximum\n",
        "* Get the mean of tensor\n",
        "* Get the sum of a tensor"
      ]
    },
    {
      "cell_type": "code",
      "metadata": {
        "id": "276sIDaex6Hc",
        "colab": {
          "base_uri": "https://localhost:8080/"
        },
        "outputId": "c8dc9bc9-6c5a-4f9c-fb3d-ee9268114df3"
      },
      "source": [
        "#Creating a random tensor with values between 0 and 100 of size 50\n",
        "E = tf.constant(np.random.randint(0, 100, size=50))\n",
        "E"
      ],
      "execution_count": 72,
      "outputs": [
        {
          "output_type": "execute_result",
          "data": {
            "text/plain": [
              "<tf.Tensor: shape=(50,), dtype=int64, numpy=\n",
              "array([15, 55, 84, 94, 66, 68, 91, 10, 51, 90, 24, 99, 65, 97,  2, 42, 12,\n",
              "       50, 97, 29, 96, 76, 27, 63,  1, 50, 87, 65, 54, 41, 69, 55, 57, 28,\n",
              "       94, 63, 97,  0, 18, 79, 97, 74, 42, 13, 19, 78, 93, 80,  3, 50])>"
            ]
          },
          "metadata": {
            "tags": []
          },
          "execution_count": 72
        }
      ]
    },
    {
      "cell_type": "code",
      "metadata": {
        "id": "yIuEXRdoyPPo",
        "colab": {
          "base_uri": "https://localhost:8080/"
        },
        "outputId": "8e51cdd9-4443-452b-ea9a-94cf7138c2a2"
      },
      "source": [
        "tf.size(E), tf.shape, E.ndim"
      ],
      "execution_count": 73,
      "outputs": [
        {
          "output_type": "execute_result",
          "data": {
            "text/plain": [
              "(<tf.Tensor: shape=(), dtype=int32, numpy=50>,\n",
              " <function tensorflow.python.ops.array_ops.shape_v2>,\n",
              " 1)"
            ]
          },
          "metadata": {
            "tags": []
          },
          "execution_count": 73
        }
      ]
    },
    {
      "cell_type": "code",
      "metadata": {
        "id": "d_xT0D22ywKJ",
        "colab": {
          "base_uri": "https://localhost:8080/"
        },
        "outputId": "0034f9eb-dcd4-41a0-9b47-d71b80f70a1c"
      },
      "source": [
        "#Find the minimum\n",
        "tf.reduce_min(E)"
      ],
      "execution_count": 74,
      "outputs": [
        {
          "output_type": "execute_result",
          "data": {
            "text/plain": [
              "<tf.Tensor: shape=(), dtype=int64, numpy=0>"
            ]
          },
          "metadata": {
            "tags": []
          },
          "execution_count": 74
        }
      ]
    },
    {
      "cell_type": "code",
      "metadata": {
        "id": "dNKbOk1ryzWC",
        "colab": {
          "base_uri": "https://localhost:8080/"
        },
        "outputId": "47f35095-9e3d-442d-d36b-2bd11e71d8f8"
      },
      "source": [
        "#Find the maximim\n",
        "tf.reduce_max(E)"
      ],
      "execution_count": 75,
      "outputs": [
        {
          "output_type": "execute_result",
          "data": {
            "text/plain": [
              "<tf.Tensor: shape=(), dtype=int64, numpy=99>"
            ]
          },
          "metadata": {
            "tags": []
          },
          "execution_count": 75
        }
      ]
    },
    {
      "cell_type": "code",
      "metadata": {
        "id": "CDk51Yyky8PP",
        "colab": {
          "base_uri": "https://localhost:8080/"
        },
        "outputId": "2f147757-2715-4b1b-da2b-445bbd198662"
      },
      "source": [
        "#Find the mean\n",
        "tf.reduce_mean(E)"
      ],
      "execution_count": 76,
      "outputs": [
        {
          "output_type": "execute_result",
          "data": {
            "text/plain": [
              "<tf.Tensor: shape=(), dtype=int64, numpy=56>"
            ]
          },
          "metadata": {
            "tags": []
          },
          "execution_count": 76
        }
      ]
    },
    {
      "cell_type": "code",
      "metadata": {
        "id": "8Sn0vBMAzBF6",
        "colab": {
          "base_uri": "https://localhost:8080/"
        },
        "outputId": "fd92b24f-083e-4367-c2c1-cb5e3eb55ae9"
      },
      "source": [
        "#Find the sum\n",
        "tf.reduce_sum(E)"
      ],
      "execution_count": 77,
      "outputs": [
        {
          "output_type": "execute_result",
          "data": {
            "text/plain": [
              "<tf.Tensor: shape=(), dtype=int64, numpy=2810>"
            ]
          },
          "metadata": {
            "tags": []
          },
          "execution_count": 77
        }
      ]
    },
    {
      "cell_type": "code",
      "metadata": {
        "id": "G6JlObBrzGTT",
        "colab": {
          "base_uri": "https://localhost:8080/"
        },
        "outputId": "2e599fab-b53c-43ed-9f21-e19a49c9be0d"
      },
      "source": [
        "import tensorflow_probability as tfp\n",
        "#Find the variance\n",
        "print(tfp.stats.variance(E))\n",
        "print(tf.math.reduce_variance(tf.cast(E, dtype=tf.float32)))"
      ],
      "execution_count": 78,
      "outputs": [
        {
          "output_type": "stream",
          "text": [
            "tf.Tensor(959, shape=(), dtype=int64)\n",
            "tf.Tensor(959.12, shape=(), dtype=float32)\n"
          ],
          "name": "stdout"
        }
      ]
    },
    {
      "cell_type": "code",
      "metadata": {
        "id": "IARoxFvVzPRy",
        "colab": {
          "base_uri": "https://localhost:8080/"
        },
        "outputId": "1cb901b8-300b-4971-f666-8021048948f6"
      },
      "source": [
        "#Find the standard deviation\n",
        "tf.math.reduce_std(tf.cast(E, dtype=tf.float32))"
      ],
      "execution_count": 79,
      "outputs": [
        {
          "output_type": "execute_result",
          "data": {
            "text/plain": [
              "<tf.Tensor: shape=(), dtype=float32, numpy=30.969662>"
            ]
          },
          "metadata": {
            "tags": []
          },
          "execution_count": 79
        }
      ]
    },
    {
      "cell_type": "markdown",
      "metadata": {
        "id": "rbqUfbV616Kt"
      },
      "source": [
        "###Find the positional maximum and minimum"
      ]
    },
    {
      "cell_type": "code",
      "metadata": {
        "id": "XUpAF4tVznRg",
        "colab": {
          "base_uri": "https://localhost:8080/"
        },
        "outputId": "8293302b-e13b-41f6-dbd2-22750d88f095"
      },
      "source": [
        "#Create a new tensor for finding positional minumim and maximum\n",
        "tf.random.set_seed(42)\n",
        "F = tf.random.uniform(shape=[50])\n",
        "F"
      ],
      "execution_count": 80,
      "outputs": [
        {
          "output_type": "execute_result",
          "data": {
            "text/plain": [
              "<tf.Tensor: shape=(50,), dtype=float32, numpy=\n",
              "array([0.6645621 , 0.44100678, 0.3528825 , 0.46448255, 0.03366041,\n",
              "       0.68467236, 0.74011743, 0.8724445 , 0.22632635, 0.22319686,\n",
              "       0.3103881 , 0.7223358 , 0.13318717, 0.5480639 , 0.5746088 ,\n",
              "       0.8996835 , 0.00946367, 0.5212307 , 0.6345445 , 0.1993283 ,\n",
              "       0.72942245, 0.54583454, 0.10756552, 0.6767061 , 0.6602763 ,\n",
              "       0.33695042, 0.60141766, 0.21062577, 0.8527372 , 0.44062173,\n",
              "       0.9485276 , 0.23752594, 0.81179297, 0.5263394 , 0.494308  ,\n",
              "       0.21612847, 0.8457197 , 0.8718841 , 0.3083862 , 0.6868038 ,\n",
              "       0.23764038, 0.7817228 , 0.9671384 , 0.06870162, 0.79873943,\n",
              "       0.66028714, 0.5871513 , 0.16461694, 0.7381023 , 0.32054043],\n",
              "      dtype=float32)>"
            ]
          },
          "metadata": {
            "tags": []
          },
          "execution_count": 80
        }
      ]
    },
    {
      "cell_type": "code",
      "metadata": {
        "id": "J3rSAq9p4Kzk",
        "colab": {
          "base_uri": "https://localhost:8080/"
        },
        "outputId": "212a3c95-030e-4aff-ada7-01f39128347e"
      },
      "source": [
        "#Find the positional maximum\n",
        "tf.argmax(F)"
      ],
      "execution_count": 81,
      "outputs": [
        {
          "output_type": "execute_result",
          "data": {
            "text/plain": [
              "<tf.Tensor: shape=(), dtype=int64, numpy=42>"
            ]
          },
          "metadata": {
            "tags": []
          },
          "execution_count": 81
        }
      ]
    },
    {
      "cell_type": "code",
      "metadata": {
        "id": "jHAa7mBy41C5",
        "colab": {
          "base_uri": "https://localhost:8080/"
        },
        "outputId": "28c98eb0-ef05-4da5-ed64-a5293f627663"
      },
      "source": [
        "#index on our largest value position\n",
        "F[tf.argmax(F)]"
      ],
      "execution_count": 82,
      "outputs": [
        {
          "output_type": "execute_result",
          "data": {
            "text/plain": [
              "<tf.Tensor: shape=(), dtype=float32, numpy=0.9671384>"
            ]
          },
          "metadata": {
            "tags": []
          },
          "execution_count": 82
        }
      ]
    },
    {
      "cell_type": "code",
      "metadata": {
        "id": "wplipDUQ4-N9",
        "colab": {
          "base_uri": "https://localhost:8080/"
        },
        "outputId": "33b63431-2304-4c6d-afab-879c8a5319e4"
      },
      "source": [
        "#Find the max value of F\n",
        "tf.reduce_max(F)"
      ],
      "execution_count": 83,
      "outputs": [
        {
          "output_type": "execute_result",
          "data": {
            "text/plain": [
              "<tf.Tensor: shape=(), dtype=float32, numpy=0.9671384>"
            ]
          },
          "metadata": {
            "tags": []
          },
          "execution_count": 83
        }
      ]
    },
    {
      "cell_type": "code",
      "metadata": {
        "id": "-i77sBef5Twz",
        "colab": {
          "base_uri": "https://localhost:8080/"
        },
        "outputId": "a6e85f04-3c2f-4b2b-e80d-67eb4c462805"
      },
      "source": [
        "#Check for equality\n",
        "tf.reduce_max(F) == F[tf.argmax(F)]"
      ],
      "execution_count": 84,
      "outputs": [
        {
          "output_type": "execute_result",
          "data": {
            "text/plain": [
              "<tf.Tensor: shape=(), dtype=bool, numpy=True>"
            ]
          },
          "metadata": {
            "tags": []
          },
          "execution_count": 84
        }
      ]
    },
    {
      "cell_type": "code",
      "metadata": {
        "id": "vmPZLh6j4reH",
        "colab": {
          "base_uri": "https://localhost:8080/"
        },
        "outputId": "a10315ac-ea4c-4086-c882-53eb640e041f"
      },
      "source": [
        "#Find the positional minimum\n",
        "tf.argmin(F)"
      ],
      "execution_count": 85,
      "outputs": [
        {
          "output_type": "execute_result",
          "data": {
            "text/plain": [
              "<tf.Tensor: shape=(), dtype=int64, numpy=16>"
            ]
          },
          "metadata": {
            "tags": []
          },
          "execution_count": 85
        }
      ]
    },
    {
      "cell_type": "code",
      "metadata": {
        "id": "cCGG80mX4wB3",
        "colab": {
          "base_uri": "https://localhost:8080/"
        },
        "outputId": "546d8175-cc2e-4ca6-d622-49e080a71ae6"
      },
      "source": [
        "#index on our smallest value position\n",
        "F[tf.argmin(F)]"
      ],
      "execution_count": 86,
      "outputs": [
        {
          "output_type": "execute_result",
          "data": {
            "text/plain": [
              "<tf.Tensor: shape=(), dtype=float32, numpy=0.009463668>"
            ]
          },
          "metadata": {
            "tags": []
          },
          "execution_count": 86
        }
      ]
    },
    {
      "cell_type": "code",
      "metadata": {
        "id": "NlxAd2NB5Ifx",
        "colab": {
          "base_uri": "https://localhost:8080/"
        },
        "outputId": "7e13f677-db0a-4310-eca6-27e97031681c"
      },
      "source": [
        "#Find the max value of F\n",
        "tf.reduce_min(F)"
      ],
      "execution_count": 87,
      "outputs": [
        {
          "output_type": "execute_result",
          "data": {
            "text/plain": [
              "<tf.Tensor: shape=(), dtype=float32, numpy=0.009463668>"
            ]
          },
          "metadata": {
            "tags": []
          },
          "execution_count": 87
        }
      ]
    },
    {
      "cell_type": "code",
      "metadata": {
        "id": "uv1_V8Cg5PYU",
        "colab": {
          "base_uri": "https://localhost:8080/"
        },
        "outputId": "f0ae023a-287e-4eaa-a522-b10913618ab7"
      },
      "source": [
        "#Check for equality\n",
        "tf.reduce_min(F) == F[tf.argmin(F)]"
      ],
      "execution_count": 88,
      "outputs": [
        {
          "output_type": "execute_result",
          "data": {
            "text/plain": [
              "<tf.Tensor: shape=(), dtype=bool, numpy=True>"
            ]
          },
          "metadata": {
            "tags": []
          },
          "execution_count": 88
        }
      ]
    },
    {
      "cell_type": "markdown",
      "metadata": {
        "id": "DMvcKibq6De8"
      },
      "source": [
        "###Squeezing a tensor (removing all single dimensions)"
      ]
    },
    {
      "cell_type": "code",
      "metadata": {
        "id": "wbPM32755ppb",
        "colab": {
          "base_uri": "https://localhost:8080/"
        },
        "outputId": "7da24317-15fb-4d32-f347-f4e83287c90d"
      },
      "source": [
        "#Create a tensor to get started\n",
        "tf.random.set_seed(42)\n",
        "G = tf.constant(tf.random.uniform(shape=[50]), shape=(1,1,1,1,50))\n",
        "G"
      ],
      "execution_count": 89,
      "outputs": [
        {
          "output_type": "execute_result",
          "data": {
            "text/plain": [
              "<tf.Tensor: shape=(1, 1, 1, 1, 50), dtype=float32, numpy=\n",
              "array([[[[[0.6645621 , 0.44100678, 0.3528825 , 0.46448255, 0.03366041,\n",
              "           0.68467236, 0.74011743, 0.8724445 , 0.22632635, 0.22319686,\n",
              "           0.3103881 , 0.7223358 , 0.13318717, 0.5480639 , 0.5746088 ,\n",
              "           0.8996835 , 0.00946367, 0.5212307 , 0.6345445 , 0.1993283 ,\n",
              "           0.72942245, 0.54583454, 0.10756552, 0.6767061 , 0.6602763 ,\n",
              "           0.33695042, 0.60141766, 0.21062577, 0.8527372 , 0.44062173,\n",
              "           0.9485276 , 0.23752594, 0.81179297, 0.5263394 , 0.494308  ,\n",
              "           0.21612847, 0.8457197 , 0.8718841 , 0.3083862 , 0.6868038 ,\n",
              "           0.23764038, 0.7817228 , 0.9671384 , 0.06870162, 0.79873943,\n",
              "           0.66028714, 0.5871513 , 0.16461694, 0.7381023 , 0.32054043]]]]],\n",
              "      dtype=float32)>"
            ]
          },
          "metadata": {
            "tags": []
          },
          "execution_count": 89
        }
      ]
    },
    {
      "cell_type": "code",
      "metadata": {
        "id": "-w85jzM66QtF",
        "colab": {
          "base_uri": "https://localhost:8080/"
        },
        "outputId": "1ba242b9-9c24-4e26-e38b-7b31e9deadb0"
      },
      "source": [
        "#print shape and dims\n",
        "G.shape, G.ndim"
      ],
      "execution_count": 90,
      "outputs": [
        {
          "output_type": "execute_result",
          "data": {
            "text/plain": [
              "(TensorShape([1, 1, 1, 1, 50]), 5)"
            ]
          },
          "metadata": {
            "tags": []
          },
          "execution_count": 90
        }
      ]
    },
    {
      "cell_type": "code",
      "metadata": {
        "id": "W4_6wjGM6XnI",
        "colab": {
          "base_uri": "https://localhost:8080/"
        },
        "outputId": "84ffda08-4f0e-4f29-e111-cf42f00c8969"
      },
      "source": [
        "G_squeezed = tf.squeeze(G)\n",
        "G_squeezed.shape"
      ],
      "execution_count": 91,
      "outputs": [
        {
          "output_type": "execute_result",
          "data": {
            "text/plain": [
              "TensorShape([50])"
            ]
          },
          "metadata": {
            "tags": []
          },
          "execution_count": 91
        }
      ]
    },
    {
      "cell_type": "markdown",
      "metadata": {
        "id": "Ux7pJ6YH6x98"
      },
      "source": [
        "###One-hot encoding tensors"
      ]
    },
    {
      "cell_type": "code",
      "metadata": {
        "id": "fW0tB73c6k2o",
        "colab": {
          "base_uri": "https://localhost:8080/"
        },
        "outputId": "bdc5426c-d181-42e9-c853-4f4a59ed6993"
      },
      "source": [
        "#Create a list of indices\n",
        "some_list = [0,2,3,4] #could be red, green, blue, purple\n",
        "\n",
        "#One hot encode our list of indices\n",
        "tf.one_hot(some_list, 4)"
      ],
      "execution_count": 92,
      "outputs": [
        {
          "output_type": "execute_result",
          "data": {
            "text/plain": [
              "<tf.Tensor: shape=(4, 4), dtype=float32, numpy=\n",
              "array([[1., 0., 0., 0.],\n",
              "       [0., 0., 1., 0.],\n",
              "       [0., 0., 0., 1.],\n",
              "       [0., 0., 0., 0.]], dtype=float32)>"
            ]
          },
          "metadata": {
            "tags": []
          },
          "execution_count": 92
        }
      ]
    },
    {
      "cell_type": "code",
      "metadata": {
        "id": "bTza7i8Y7cVD",
        "colab": {
          "base_uri": "https://localhost:8080/"
        },
        "outputId": "aa82284d-a569-40ab-dc9e-8ba77a2be3bd"
      },
      "source": [
        "#Specify costum values for one hot encoding\n",
        "#on_value for 1\n",
        "#off_value for 0\n",
        "tf.one_hot(some_list, depth=4, on_value=\"i love deep learning\", off_value=\"i love machine learning\")"
      ],
      "execution_count": 93,
      "outputs": [
        {
          "output_type": "execute_result",
          "data": {
            "text/plain": [
              "<tf.Tensor: shape=(4, 4), dtype=string, numpy=\n",
              "array([[b'i love deep learning', b'i love machine learning',\n",
              "        b'i love machine learning', b'i love machine learning'],\n",
              "       [b'i love machine learning', b'i love machine learning',\n",
              "        b'i love deep learning', b'i love machine learning'],\n",
              "       [b'i love machine learning', b'i love machine learning',\n",
              "        b'i love machine learning', b'i love deep learning'],\n",
              "       [b'i love machine learning', b'i love machine learning',\n",
              "        b'i love machine learning', b'i love machine learning']],\n",
              "      dtype=object)>"
            ]
          },
          "metadata": {
            "tags": []
          },
          "execution_count": 93
        }
      ]
    },
    {
      "cell_type": "markdown",
      "metadata": {
        "id": "uqTaJ4T38j-p"
      },
      "source": [
        "###Squaring, log, square root"
      ]
    },
    {
      "cell_type": "code",
      "metadata": {
        "id": "DqZ9iaHd8iYL",
        "colab": {
          "base_uri": "https://localhost:8080/"
        },
        "outputId": "b3ca5052-8f81-4c29-c222-5622ce76cd6e"
      },
      "source": [
        "H = tf.range(1, 10)\n",
        "H"
      ],
      "execution_count": 94,
      "outputs": [
        {
          "output_type": "execute_result",
          "data": {
            "text/plain": [
              "<tf.Tensor: shape=(9,), dtype=int32, numpy=array([1, 2, 3, 4, 5, 6, 7, 8, 9], dtype=int32)>"
            ]
          },
          "metadata": {
            "tags": []
          },
          "execution_count": 94
        }
      ]
    },
    {
      "cell_type": "code",
      "metadata": {
        "id": "wR2zot8h8nuy",
        "colab": {
          "base_uri": "https://localhost:8080/"
        },
        "outputId": "0db4ed06-ddaf-483e-c83a-045ec51ac024"
      },
      "source": [
        "tf.square(H)"
      ],
      "execution_count": 95,
      "outputs": [
        {
          "output_type": "execute_result",
          "data": {
            "text/plain": [
              "<tf.Tensor: shape=(9,), dtype=int32, numpy=array([ 1,  4,  9, 16, 25, 36, 49, 64, 81], dtype=int32)>"
            ]
          },
          "metadata": {
            "tags": []
          },
          "execution_count": 95
        }
      ]
    },
    {
      "cell_type": "code",
      "metadata": {
        "id": "uExE4Nll8qQh",
        "colab": {
          "base_uri": "https://localhost:8080/"
        },
        "outputId": "d3cc9f36-0d5c-43b3-d6f1-c61497ffd5ba"
      },
      "source": [
        "#Finde the squareroot\n",
        "tf.sqrt(tf.cast(H, dtype=tf.float32))"
      ],
      "execution_count": 96,
      "outputs": [
        {
          "output_type": "execute_result",
          "data": {
            "text/plain": [
              "<tf.Tensor: shape=(9,), dtype=float32, numpy=\n",
              "array([1.       , 1.4142135, 1.7320508, 2.       , 2.236068 , 2.4494898,\n",
              "       2.6457512, 2.828427 , 3.       ], dtype=float32)>"
            ]
          },
          "metadata": {
            "tags": []
          },
          "execution_count": 96
        }
      ]
    },
    {
      "cell_type": "code",
      "metadata": {
        "id": "mzJ0mbiX8wS6",
        "colab": {
          "base_uri": "https://localhost:8080/"
        },
        "outputId": "c2923c36-4e7d-450f-8599-20d45e8092f9"
      },
      "source": [
        "#Find the log\n",
        "tf.math.log(tf.cast(H, dtype=tf.float32))"
      ],
      "execution_count": 97,
      "outputs": [
        {
          "output_type": "execute_result",
          "data": {
            "text/plain": [
              "<tf.Tensor: shape=(9,), dtype=float32, numpy=\n",
              "array([0.       , 0.6931472, 1.0986123, 1.3862944, 1.609438 , 1.7917595,\n",
              "       1.9459102, 2.0794415, 2.1972246], dtype=float32)>"
            ]
          },
          "metadata": {
            "tags": []
          },
          "execution_count": 97
        }
      ]
    },
    {
      "cell_type": "markdown",
      "metadata": {
        "id": "p2rhsBQN9fgM"
      },
      "source": [
        "###Tensors and NumPy\n",
        "\n",
        "TensorFlow interacts beautifully with NumPy arrays"
      ]
    },
    {
      "cell_type": "code",
      "metadata": {
        "id": "InAV-mN39EmG",
        "colab": {
          "base_uri": "https://localhost:8080/"
        },
        "outputId": "2d6de334-e0f8-4582-8652-23170b11adce"
      },
      "source": [
        "#Create a tensor directly from a NumPy array\n",
        "J = tf.constant(np.array([3., 7., 10.]))\n",
        "J"
      ],
      "execution_count": 98,
      "outputs": [
        {
          "output_type": "execute_result",
          "data": {
            "text/plain": [
              "<tf.Tensor: shape=(3,), dtype=float64, numpy=array([ 3.,  7., 10.])>"
            ]
          },
          "metadata": {
            "tags": []
          },
          "execution_count": 98
        }
      ]
    },
    {
      "cell_type": "code",
      "metadata": {
        "id": "3vfpC6809zfy",
        "colab": {
          "base_uri": "https://localhost:8080/"
        },
        "outputId": "a9cd9b46-54d5-434f-babe-6dc9b71511d8"
      },
      "source": [
        "#Convert our tensor back to a NumPy array\n",
        "np.array(J), type(np.array(J))"
      ],
      "execution_count": 99,
      "outputs": [
        {
          "output_type": "execute_result",
          "data": {
            "text/plain": [
              "(array([ 3.,  7., 10.]), numpy.ndarray)"
            ]
          },
          "metadata": {
            "tags": []
          },
          "execution_count": 99
        }
      ]
    },
    {
      "cell_type": "code",
      "metadata": {
        "id": "IieAGljb96H8",
        "colab": {
          "base_uri": "https://localhost:8080/"
        },
        "outputId": "ca702fe0-b478-4de2-a100-eb3bd08de05d"
      },
      "source": [
        "#Convert tensor J to a NumPy array\n",
        "J.numpy(), type(J.numpy())"
      ],
      "execution_count": 100,
      "outputs": [
        {
          "output_type": "execute_result",
          "data": {
            "text/plain": [
              "(array([ 3.,  7., 10.]), numpy.ndarray)"
            ]
          },
          "metadata": {
            "tags": []
          },
          "execution_count": 100
        }
      ]
    },
    {
      "cell_type": "code",
      "metadata": {
        "id": "2y7xw53v-Cm8",
        "colab": {
          "base_uri": "https://localhost:8080/"
        },
        "outputId": "f8b042a4-9fdd-4986-b85d-e0398cb7e008"
      },
      "source": [
        "J = tf.constant([3.])\n",
        "J.numpy()[0]"
      ],
      "execution_count": 101,
      "outputs": [
        {
          "output_type": "execute_result",
          "data": {
            "text/plain": [
              "3.0"
            ]
          },
          "metadata": {
            "tags": []
          },
          "execution_count": 101
        }
      ]
    },
    {
      "cell_type": "code",
      "metadata": {
        "id": "XMH-kCAQ-Gi3"
      },
      "source": [
        "#The default types of each are slightly different\n",
        "numpy_J = tf.constant([np.array([3., 7., 10.])])\n",
        "tensor_J = tf.constant([3., 7., 10.])"
      ],
      "execution_count": 102,
      "outputs": []
    },
    {
      "cell_type": "code",
      "metadata": {
        "id": "j6havEnn-QW7",
        "colab": {
          "base_uri": "https://localhost:8080/"
        },
        "outputId": "bffbb88c-8bf4-4eb1-ed7b-02584e1b5997"
      },
      "source": [
        "#Check th datatypes of each\n",
        "numpy_J.dtype, tensor_J.dtype"
      ],
      "execution_count": 103,
      "outputs": [
        {
          "output_type": "execute_result",
          "data": {
            "text/plain": [
              "(tf.float64, tf.float32)"
            ]
          },
          "metadata": {
            "tags": []
          },
          "execution_count": 103
        }
      ]
    },
    {
      "cell_type": "markdown",
      "metadata": {
        "id": "g2K5fOYD-4Dt"
      },
      "source": [
        "###Finding access to GPUs"
      ]
    },
    {
      "cell_type": "code",
      "metadata": {
        "id": "azCWAins-l1Y",
        "colab": {
          "base_uri": "https://localhost:8080/"
        },
        "outputId": "42204d86-e488-47f0-e17f-16b9080bc0cb"
      },
      "source": [
        "tf.config.list_physical_devices()"
      ],
      "execution_count": 104,
      "outputs": [
        {
          "output_type": "execute_result",
          "data": {
            "text/plain": [
              "[PhysicalDevice(name='/physical_device:CPU:0', device_type='CPU'),\n",
              " PhysicalDevice(name='/physical_device:GPU:0', device_type='GPU')]"
            ]
          },
          "metadata": {
            "tags": []
          },
          "execution_count": 104
        }
      ]
    },
    {
      "cell_type": "code",
      "metadata": {
        "id": "PnINZet8_gE1",
        "colab": {
          "base_uri": "https://localhost:8080/"
        },
        "outputId": "5c919e32-0239-4a23-da91-9ea8b6a350c1"
      },
      "source": [
        "!nvidia-smi"
      ],
      "execution_count": 105,
      "outputs": [
        {
          "output_type": "stream",
          "text": [
            "Tue Jun 22 05:23:01 2021       \n",
            "+-----------------------------------------------------------------------------+\n",
            "| NVIDIA-SMI 465.27       Driver Version: 460.32.03    CUDA Version: 11.2     |\n",
            "|-------------------------------+----------------------+----------------------+\n",
            "| GPU  Name        Persistence-M| Bus-Id        Disp.A | Volatile Uncorr. ECC |\n",
            "| Fan  Temp  Perf  Pwr:Usage/Cap|         Memory-Usage | GPU-Util  Compute M. |\n",
            "|                               |                      |               MIG M. |\n",
            "|===============================+======================+======================|\n",
            "|   0  Tesla K80           Off  | 00000000:00:04.0 Off |                    0 |\n",
            "| N/A   48C    P0    69W / 149W |    124MiB / 11441MiB |      0%      Default |\n",
            "|                               |                      |                  N/A |\n",
            "+-------------------------------+----------------------+----------------------+\n",
            "                                                                               \n",
            "+-----------------------------------------------------------------------------+\n",
            "| Processes:                                                                  |\n",
            "|  GPU   GI   CI        PID   Type   Process name                  GPU Memory |\n",
            "|        ID   ID                                                   Usage      |\n",
            "|=============================================================================|\n",
            "+-----------------------------------------------------------------------------+\n"
          ],
          "name": "stdout"
        }
      ]
    },
    {
      "cell_type": "markdown",
      "metadata": {
        "id": "wdDtubZVByxj"
      },
      "source": [
        "###Tensorflow Fundamentals Exercised\n",
        "* Create a vector, scalar, matrix and tensor with values of your choosing using tf.constant().\n",
        "* Find the shape, rank and size of the tensors you created in 1.\n",
        "* Create two tensors containing random values between 0 and 1 with shape [5, 300].\n",
        "* Multiply the two tensors you created in 3 using matrix multiplication.\n",
        "* Multiply the two tensors you created in 3 using dot product.\n",
        "* Create a tensor with random values between 0 and 1 with shape [224, 224, 3].\n",
        "* Find the min and max values of the tensor you created in 6 along the first axis.\n",
        "* Created a tensor with random values of shape [1, 224, 224, 3] then squeeze it to change the shape to [224, 224, 3].\n",
        "* Create a tensor with shape [10] using your own choice of values, then find the index which has the maximum value.\n",
        "* One-hot encode the tensor you created in 9."
      ]
    },
    {
      "cell_type": "markdown",
      "metadata": {
        "id": "qjYQKISiwbki"
      },
      "source": [
        "###Create a vector, scalar, matrix and tensor with values of your choosing using tf.constant()"
      ]
    },
    {
      "cell_type": "code",
      "metadata": {
        "id": "axNwVJjVAUvF",
        "colab": {
          "base_uri": "https://localhost:8080/"
        },
        "outputId": "dd869268-1ef7-47c7-c51e-61b5c76bff62"
      },
      "source": [
        "#create vector\n",
        "scalar = tf.constant(7)\n",
        "print(scalar)\n",
        "\n",
        "#create vector\n",
        "vector = tf.constant([7])\n",
        "print(vector)\n",
        "\n",
        "#create matrix\n",
        "matrix = tf.constant([[1,2], [3,4]])\n",
        "print(matrix)"
      ],
      "execution_count": 106,
      "outputs": [
        {
          "output_type": "stream",
          "text": [
            "tf.Tensor(7, shape=(), dtype=int32)\n",
            "tf.Tensor([7], shape=(1,), dtype=int32)\n",
            "tf.Tensor(\n",
            "[[1 2]\n",
            " [3 4]], shape=(2, 2), dtype=int32)\n"
          ],
          "name": "stdout"
        }
      ]
    },
    {
      "cell_type": "markdown",
      "metadata": {
        "id": "GIEpHwCAwgZJ"
      },
      "source": [
        "###Find the shape, rank and size of the tensors you created in 1"
      ]
    },
    {
      "cell_type": "code",
      "metadata": {
        "id": "gqdIZGf_ucxx",
        "colab": {
          "base_uri": "https://localhost:8080/"
        },
        "outputId": "b57bd5f9-68b9-4a37-b8c3-f3802c0f451c"
      },
      "source": [
        "print(matrix.ndim)\n",
        "print(tf.size(matrix))\n",
        "print(matrix.shape)"
      ],
      "execution_count": 107,
      "outputs": [
        {
          "output_type": "stream",
          "text": [
            "2\n",
            "tf.Tensor(4, shape=(), dtype=int32)\n",
            "(2, 2)\n"
          ],
          "name": "stdout"
        }
      ]
    },
    {
      "cell_type": "markdown",
      "metadata": {
        "id": "kpO2zF7wwjvd"
      },
      "source": [
        "###Create two tensors containing random values between 0 and 1 with shape [5, 300]"
      ]
    },
    {
      "cell_type": "code",
      "metadata": {
        "id": "C06RX3k2uypK",
        "colab": {
          "base_uri": "https://localhost:8080/"
        },
        "outputId": "c5019161-bb80-4f96-b1e2-179d66325517"
      },
      "source": [
        "tensor_1 = tf.constant(tf.random.uniform(shape=[50,300], minval=0, maxval=1))\n",
        "print(tensor_1)\n",
        "tensor_2 = tf.constant(tf.random.uniform(shape=[50,300], minval=0, maxval=1))\n",
        "print(tensor_2)"
      ],
      "execution_count": 108,
      "outputs": [
        {
          "output_type": "stream",
          "text": [
            "tf.Tensor(\n",
            "[[0.68789124 0.48447883 0.9309944  ... 0.6920762  0.33180213 0.9212563 ]\n",
            " [0.27369928 0.10631859 0.6218617  ... 0.4382149  0.30427706 0.51477313]\n",
            " [0.00920248 0.37280262 0.8177401  ... 0.56786287 0.49201214 0.9892651 ]\n",
            " ...\n",
            " [0.83354497 0.11110961 0.420676   ... 0.5283648  0.1310749  0.8483708 ]\n",
            " [0.61427987 0.89050007 0.27781367 ... 0.5425198  0.17730272 0.3554529 ]\n",
            " [0.5246377  0.36258972 0.33949232 ... 0.1667664  0.8322053  0.04326892]], shape=(50, 300), dtype=float32)\n",
            "tf.Tensor(\n",
            "[[0.7413678  0.62854624 0.01738465 ... 0.4851334  0.21059811 0.25082767]\n",
            " [0.10842848 0.48783147 0.8240961  ... 0.9204427  0.36046863 0.28176582]\n",
            " [0.7326695  0.46489418 0.13622475 ... 0.28130388 0.63987684 0.9987265 ]\n",
            " ...\n",
            " [0.11655915 0.38626802 0.32354367 ... 0.5217807  0.06398892 0.9092667 ]\n",
            " [0.29225266 0.04703093 0.8679844  ... 0.0200516  0.7871276  0.40332377]\n",
            " [0.65785706 0.19310594 0.5748143  ... 0.03380525 0.12031174 0.8517132 ]], shape=(50, 300), dtype=float32)\n"
          ],
          "name": "stdout"
        }
      ]
    },
    {
      "cell_type": "markdown",
      "metadata": {
        "id": "eHw4z1X9xf2M"
      },
      "source": [
        "###Multiply the two tensors you created in 3 using matrix multiplication"
      ]
    },
    {
      "cell_type": "code",
      "metadata": {
        "id": "-SqqSfvpu9yp",
        "colab": {
          "base_uri": "https://localhost:8080/"
        },
        "outputId": "e566a4c0-282c-4190-8995-bb4cdb9964b2"
      },
      "source": [
        "tf.random.set_seed(1234)\n",
        "matrix_multi = tf.matmul(tensor_1, tf.transpose(tensor_2))\n",
        "print(matrix_multi)"
      ],
      "execution_count": 109,
      "outputs": [
        {
          "output_type": "stream",
          "text": [
            "tf.Tensor(\n",
            "[[75.714    80.878235 78.32846  ... 80.58822  83.28697  76.763306]\n",
            " [70.12709  72.09944  70.167786 ... 69.75135  75.17779  70.47235 ]\n",
            " [75.16001  79.5286   76.74643  ... 73.9922   79.984146 73.7327  ]\n",
            " ...\n",
            " [72.37535  76.05791  73.22189  ... 77.37426  72.99757  72.62574 ]\n",
            " [76.61093  80.478485 75.25897  ... 77.5425   77.82142  74.24006 ]\n",
            " [73.53443  76.40046  75.19704  ... 72.95517  79.16423  72.65778 ]], shape=(50, 50), dtype=float32)\n"
          ],
          "name": "stdout"
        }
      ]
    },
    {
      "cell_type": "markdown",
      "metadata": {
        "id": "38UkB8InyO2D"
      },
      "source": [
        "###Multiply the two tensors you created in 3 using dot product"
      ]
    },
    {
      "cell_type": "code",
      "metadata": {
        "id": "9NenDC6cx9Q-",
        "colab": {
          "base_uri": "https://localhost:8080/"
        },
        "outputId": "4ade59cd-1a63-4ed7-b9b3-a6db4b652ae7"
      },
      "source": [
        "tf.random.set_seed(1234)\n",
        "matrix_dot = tf.tensordot(tensor_1, tf.transpose(tensor_2), axes=1)\n",
        "print(matrix_dot)"
      ],
      "execution_count": 110,
      "outputs": [
        {
          "output_type": "stream",
          "text": [
            "tf.Tensor(\n",
            "[[75.714    80.878235 78.32846  ... 80.58822  83.28697  76.763306]\n",
            " [70.12709  72.09944  70.167786 ... 69.75135  75.17779  70.47235 ]\n",
            " [75.16001  79.5286   76.74643  ... 73.9922   79.984146 73.7327  ]\n",
            " ...\n",
            " [72.37535  76.05791  73.22189  ... 77.37426  72.99757  72.62574 ]\n",
            " [76.61093  80.478485 75.25897  ... 77.5425   77.82142  74.24006 ]\n",
            " [73.53443  76.40046  75.19704  ... 72.95517  79.16423  72.65778 ]], shape=(50, 50), dtype=float32)\n"
          ],
          "name": "stdout"
        }
      ]
    },
    {
      "cell_type": "markdown",
      "metadata": {
        "id": "qaCK6pgIzSVB"
      },
      "source": [
        "###Create a tensor with random values between 0 and 1 with shape [224, 224, 3]"
      ]
    },
    {
      "cell_type": "code",
      "metadata": {
        "id": "ZzElO908yY8u",
        "colab": {
          "base_uri": "https://localhost:8080/"
        },
        "outputId": "4861a69c-91c3-4eda-8d20-82c9c4ed3814"
      },
      "source": [
        "tensor_3 = tf.constant(tf.random.uniform(shape=[224,224,3], minval=0, maxval=1))\n",
        "print(tensor_3)"
      ],
      "execution_count": 111,
      "outputs": [
        {
          "output_type": "stream",
          "text": [
            "tf.Tensor(\n",
            "[[[0.5380393  0.36461866 0.5816301 ]\n",
            "  [0.24382842 0.43033564 0.90619123]\n",
            "  [0.50722075 0.35881782 0.77884936]\n",
            "  ...\n",
            "  [0.5746206  0.8632326  0.8085412 ]\n",
            "  [0.12119198 0.26296294 0.05733931]\n",
            "  [0.38312852 0.48981524 0.68126893]]\n",
            "\n",
            " [[0.30451202 0.26725948 0.7330991 ]\n",
            "  [0.8781712  0.65569675 0.39801586]\n",
            "  [0.98396707 0.6020279  0.26392293]\n",
            "  ...\n",
            "  [0.5596489  0.78849614 0.8329747 ]\n",
            "  [0.28106558 0.9601054  0.7251078 ]\n",
            "  [0.3270409  0.8734678  0.07738113]]\n",
            "\n",
            " [[0.18192935 0.90353334 0.8836374 ]\n",
            "  [0.06883824 0.36333668 0.24951184]\n",
            "  [0.46099746 0.04057145 0.64243996]\n",
            "  ...\n",
            "  [0.24614263 0.38722718 0.4179963 ]\n",
            "  [0.23417139 0.8029907  0.33339262]\n",
            "  [0.6024494  0.511412   0.15787125]]\n",
            "\n",
            " ...\n",
            "\n",
            " [[0.37629282 0.9682566  0.37950146]\n",
            "  [0.5244905  0.88207376 0.17441678]\n",
            "  [0.08850217 0.15611136 0.42080653]\n",
            "  ...\n",
            "  [0.8007796  0.26307034 0.8369194 ]\n",
            "  [0.26619232 0.13737118 0.20590186]\n",
            "  [0.4170382  0.6604624  0.12922215]]\n",
            "\n",
            " [[0.2813158  0.74858916 0.60384583]\n",
            "  [0.74963343 0.08841097 0.71880996]\n",
            "  [0.6970111  0.21144259 0.5774095 ]\n",
            "  ...\n",
            "  [0.15618515 0.40751243 0.4824685 ]\n",
            "  [0.22592783 0.31315506 0.7698077 ]\n",
            "  [0.83087194 0.5826942  0.7005261 ]]\n",
            "\n",
            " [[0.74677837 0.24540377 0.62149096]\n",
            "  [0.42032325 0.9639386  0.83741283]\n",
            "  [0.16933072 0.16092479 0.00120676]\n",
            "  ...\n",
            "  [0.21506596 0.66993475 0.7312155 ]\n",
            "  [0.27471566 0.21149457 0.5073843 ]\n",
            "  [0.4002024  0.14864266 0.31453836]]], shape=(224, 224, 3), dtype=float32)\n"
          ],
          "name": "stdout"
        }
      ]
    },
    {
      "cell_type": "markdown",
      "metadata": {
        "id": "DNR7RTr7z7m4"
      },
      "source": [
        "###Find the min and max values of the tensor you created in 6 along the first axis"
      ]
    },
    {
      "cell_type": "code",
      "metadata": {
        "id": "TuwuKFjCzr5v"
      },
      "source": [
        "min_val = tf.math.reduce_min(tensor_3, axis=1)\n",
        "max_val = tf.math.reduce_max(tensor_3, axis=1)"
      ],
      "execution_count": 113,
      "outputs": []
    },
    {
      "cell_type": "markdown",
      "metadata": {
        "id": "D--nmYq2Ldi0"
      },
      "source": [
        "###Created a tensor with random values of shape [1, 224, 224, 3] then squeeze it to change the shape to [224, 224, 3]"
      ]
    },
    {
      "cell_type": "code",
      "metadata": {
        "id": "9DysSAicLNpS",
        "outputId": "10b0ec19-70d6-4595-f22e-079d537a66de",
        "colab": {
          "base_uri": "https://localhost:8080/"
        }
      },
      "source": [
        "tensor_4 = tf.constant(tf.random.uniform(shape=[1, 224, 224, 3]))\n",
        "print(tensor_4.shape)"
      ],
      "execution_count": 116,
      "outputs": [
        {
          "output_type": "stream",
          "text": [
            "(1, 224, 224, 3)\n"
          ],
          "name": "stdout"
        }
      ]
    },
    {
      "cell_type": "code",
      "metadata": {
        "id": "MZNlsdR8LvTv",
        "outputId": "e34d789f-8e9d-4bab-e966-fb98377cc5b0",
        "colab": {
          "base_uri": "https://localhost:8080/"
        }
      },
      "source": [
        "tensor_5 = tf.squeeze(tensor_4, axis=0)\n",
        "tensor_5.shape"
      ],
      "execution_count": 119,
      "outputs": [
        {
          "output_type": "execute_result",
          "data": {
            "text/plain": [
              "TensorShape([224, 224, 3])"
            ]
          },
          "metadata": {
            "tags": []
          },
          "execution_count": 119
        }
      ]
    },
    {
      "cell_type": "markdown",
      "metadata": {
        "id": "5zZ59GgcMWrE"
      },
      "source": [
        "###Create a tensor with shape [10] using your own choice of values, then find the index which has the maximum value"
      ]
    },
    {
      "cell_type": "code",
      "metadata": {
        "id": "_I-QczNeMIiL",
        "outputId": "75b0582b-2b31-4df3-9bd5-96206f07ae06",
        "colab": {
          "base_uri": "https://localhost:8080/"
        }
      },
      "source": [
        "tensor_6 = tf.constant(tf.random.uniform(shape=[10]))\n",
        "tensor_6"
      ],
      "execution_count": 121,
      "outputs": [
        {
          "output_type": "execute_result",
          "data": {
            "text/plain": [
              "<tf.Tensor: shape=(10,), dtype=float32, numpy=\n",
              "array([0.3780992 , 0.96316934, 0.834532  , 0.95775867, 0.21412337,\n",
              "       0.38249242, 0.90228665, 0.17687273, 0.93950915, 0.39746428],\n",
              "      dtype=float32)>"
            ]
          },
          "metadata": {
            "tags": []
          },
          "execution_count": 121
        }
      ]
    },
    {
      "cell_type": "code",
      "metadata": {
        "id": "CO901Ao5MdGU",
        "outputId": "2c095823-6f52-40a1-daea-13d8c46716a9",
        "colab": {
          "base_uri": "https://localhost:8080/"
        }
      },
      "source": [
        "tensor_6[tf.argmax(tensor_6)]"
      ],
      "execution_count": 123,
      "outputs": [
        {
          "output_type": "execute_result",
          "data": {
            "text/plain": [
              "<tf.Tensor: shape=(), dtype=float32, numpy=0.96316934>"
            ]
          },
          "metadata": {
            "tags": []
          },
          "execution_count": 123
        }
      ]
    },
    {
      "cell_type": "markdown",
      "metadata": {
        "id": "esthiFOJNJ59"
      },
      "source": [
        "###One-hot encode the tensor you created in 9"
      ]
    },
    {
      "cell_type": "code",
      "metadata": {
        "id": "tn93kkvENcCP"
      },
      "source": [
        "tensor_7 = tf.cast(tensor_6, dtype=tf.int32)"
      ],
      "execution_count": 131,
      "outputs": []
    },
    {
      "cell_type": "code",
      "metadata": {
        "id": "T_MU-v_VN2YV",
        "outputId": "c68b5952-5645-49d1-b5f2-1b2e7a316892",
        "colab": {
          "base_uri": "https://localhost:8080/"
        }
      },
      "source": [
        "tf.one_hot(tensor_7, depth=5)"
      ],
      "execution_count": 132,
      "outputs": [
        {
          "output_type": "execute_result",
          "data": {
            "text/plain": [
              "<tf.Tensor: shape=(10, 5), dtype=float32, numpy=\n",
              "array([[1., 0., 0., 0., 0.],\n",
              "       [1., 0., 0., 0., 0.],\n",
              "       [1., 0., 0., 0., 0.],\n",
              "       [1., 0., 0., 0., 0.],\n",
              "       [1., 0., 0., 0., 0.],\n",
              "       [1., 0., 0., 0., 0.],\n",
              "       [1., 0., 0., 0., 0.],\n",
              "       [1., 0., 0., 0., 0.],\n",
              "       [1., 0., 0., 0., 0.],\n",
              "       [1., 0., 0., 0., 0.]], dtype=float32)>"
            ]
          },
          "metadata": {
            "tags": []
          },
          "execution_count": 132
        }
      ]
    },
    {
      "cell_type": "code",
      "metadata": {
        "id": "AbAWmsI_OWiA",
        "outputId": "d4f3883d-9eb7-4a5a-bdb9-8b6e3fe64a20",
        "colab": {
          "base_uri": "https://localhost:8080/"
        }
      },
      "source": [
        "tensor_8 = tf.random.uniform(shape=[10], minval=1, maxval=5, dtype=tf.int64)\n",
        "tensor_8"
      ],
      "execution_count": 143,
      "outputs": [
        {
          "output_type": "execute_result",
          "data": {
            "text/plain": [
              "<tf.Tensor: shape=(10,), dtype=int64, numpy=array([3, 2, 4, 2, 2, 3, 4, 3, 3, 4])>"
            ]
          },
          "metadata": {
            "tags": []
          },
          "execution_count": 143
        }
      ]
    },
    {
      "cell_type": "code",
      "metadata": {
        "id": "1mj6-VWhOnDb",
        "outputId": "d0ba07c4-e188-4244-c732-6beccc10795e",
        "colab": {
          "base_uri": "https://localhost:8080/"
        }
      },
      "source": [
        "tf.one_hot(tensor_8, depth=5)"
      ],
      "execution_count": 146,
      "outputs": [
        {
          "output_type": "execute_result",
          "data": {
            "text/plain": [
              "<tf.Tensor: shape=(10, 5), dtype=float32, numpy=\n",
              "array([[0., 0., 0., 1., 0.],\n",
              "       [0., 0., 1., 0., 0.],\n",
              "       [0., 0., 0., 0., 1.],\n",
              "       [0., 0., 1., 0., 0.],\n",
              "       [0., 0., 1., 0., 0.],\n",
              "       [0., 0., 0., 1., 0.],\n",
              "       [0., 0., 0., 0., 1.],\n",
              "       [0., 0., 0., 1., 0.],\n",
              "       [0., 0., 0., 1., 0.],\n",
              "       [0., 0., 0., 0., 1.]], dtype=float32)>"
            ]
          },
          "metadata": {
            "tags": []
          },
          "execution_count": 146
        }
      ]
    }
  ]
}