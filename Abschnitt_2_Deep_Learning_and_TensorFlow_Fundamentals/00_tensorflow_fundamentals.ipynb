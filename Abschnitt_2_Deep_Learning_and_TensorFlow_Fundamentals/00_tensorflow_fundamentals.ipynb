{
  "nbformat": 4,
  "nbformat_minor": 0,
  "metadata": {
    "colab": {
      "name": "00_tensorflow_fundamentals.ipynb",
      "provenance": [],
      "collapsed_sections": [],
      "authorship_tag": "ABX9TyPrZQIzjXu8+H9Dh01yeo3B",
      "include_colab_link": true
    },
    "kernelspec": {
      "name": "python3",
      "display_name": "Python 3"
    },
    "language_info": {
      "name": "python"
    },
    "accelerator": "GPU"
  },
  "cells": [
    {
      "cell_type": "markdown",
      "metadata": {
        "id": "view-in-github",
        "colab_type": "text"
      },
      "source": [
        "<a href=\"https://colab.research.google.com/github/schauppi/Udemy_TensorFlow_Developer/blob/schauppi/Abschnitt_2_Deep_Learning_and_TensorFlow_Fundamentals/00_tensorflow_fundamentals.ipynb\" target=\"_parent\"><img src=\"https://colab.research.google.com/assets/colab-badge.svg\" alt=\"Open In Colab\"/></a>"
      ]
    },
    {
      "cell_type": "code",
      "metadata": {
        "colab": {
          "base_uri": "https://localhost:8080/"
        },
        "id": "ylsI2J2iXDyj",
        "outputId": "09edbee8-4feb-418f-8d66-07dcd0291a7d"
      },
      "source": [
        "import tensorflow as tf\n",
        "print(tf.__version__)"
      ],
      "execution_count": 1,
      "outputs": [
        {
          "output_type": "stream",
          "text": [
            "2.5.0\n"
          ],
          "name": "stdout"
        }
      ]
    },
    {
      "cell_type": "markdown",
      "metadata": {
        "id": "u_J7nKzNZgCf"
      },
      "source": [
        "Get Information about function - click in function an press shift + command + space"
      ]
    },
    {
      "cell_type": "code",
      "metadata": {
        "colab": {
          "base_uri": "https://localhost:8080/"
        },
        "id": "kghbFsNwYzzl",
        "outputId": "df7c098d-092b-4ae7-c57d-7758d0a8eff6"
      },
      "source": [
        "#create tensor with tf.constant()\n",
        "scalar = tf.constant(7)\n",
        "scalar"
      ],
      "execution_count": 2,
      "outputs": [
        {
          "output_type": "execute_result",
          "data": {
            "text/plain": [
              "<tf.Tensor: shape=(), dtype=int32, numpy=7>"
            ]
          },
          "metadata": {
            "tags": []
          },
          "execution_count": 2
        }
      ]
    },
    {
      "cell_type": "code",
      "metadata": {
        "colab": {
          "base_uri": "https://localhost:8080/"
        },
        "id": "3B56RHt8ZMJY",
        "outputId": "a35aeaa2-0dcd-4192-c6ce-8d429a054951"
      },
      "source": [
        "#Check the number of dimensions of a tensor (ndim = number of dimensions)\n",
        "scalar.ndim"
      ],
      "execution_count": 3,
      "outputs": [
        {
          "output_type": "execute_result",
          "data": {
            "text/plain": [
              "0"
            ]
          },
          "metadata": {
            "tags": []
          },
          "execution_count": 3
        }
      ]
    },
    {
      "cell_type": "code",
      "metadata": {
        "colab": {
          "base_uri": "https://localhost:8080/"
        },
        "id": "_q6zGfVyZ8ld",
        "outputId": "4466062f-24c3-49a3-cd23-a13a6483e692"
      },
      "source": [
        "#create a vector\n",
        "vector = tf.constant([10, 10])\n",
        "vector"
      ],
      "execution_count": 4,
      "outputs": [
        {
          "output_type": "execute_result",
          "data": {
            "text/plain": [
              "<tf.Tensor: shape=(2,), dtype=int32, numpy=array([10, 10], dtype=int32)>"
            ]
          },
          "metadata": {
            "tags": []
          },
          "execution_count": 4
        }
      ]
    },
    {
      "cell_type": "code",
      "metadata": {
        "colab": {
          "base_uri": "https://localhost:8080/"
        },
        "id": "R8-oeZKNaFBE",
        "outputId": "62282d99-37fb-4247-f471-06a0940a180c"
      },
      "source": [
        "#check the dimensions of our vector\n",
        "vector.ndim"
      ],
      "execution_count": 5,
      "outputs": [
        {
          "output_type": "execute_result",
          "data": {
            "text/plain": [
              "1"
            ]
          },
          "metadata": {
            "tags": []
          },
          "execution_count": 5
        }
      ]
    },
    {
      "cell_type": "code",
      "metadata": {
        "colab": {
          "base_uri": "https://localhost:8080/"
        },
        "id": "BBUa8-LXaHaP",
        "outputId": "04763903-3cf5-49ef-f408-3ddf0cf3ef1d"
      },
      "source": [
        "#create a matrix (has more than 1 dimension)\n",
        "matrix = tf.constant([[10, 7], [7, 10]])\n",
        "matrix"
      ],
      "execution_count": 6,
      "outputs": [
        {
          "output_type": "execute_result",
          "data": {
            "text/plain": [
              "<tf.Tensor: shape=(2, 2), dtype=int32, numpy=\n",
              "array([[10,  7],\n",
              "       [ 7, 10]], dtype=int32)>"
            ]
          },
          "metadata": {
            "tags": []
          },
          "execution_count": 6
        }
      ]
    },
    {
      "cell_type": "code",
      "metadata": {
        "colab": {
          "base_uri": "https://localhost:8080/"
        },
        "id": "_g9wI-khaaXS",
        "outputId": "2117fd6d-f852-407d-91c8-49df7af3b036"
      },
      "source": [
        "matrix.ndim"
      ],
      "execution_count": 7,
      "outputs": [
        {
          "output_type": "execute_result",
          "data": {
            "text/plain": [
              "2"
            ]
          },
          "metadata": {
            "tags": []
          },
          "execution_count": 7
        }
      ]
    },
    {
      "cell_type": "markdown",
      "metadata": {
        "id": "7-HtOMYQbMSJ"
      },
      "source": [
        "Higher number in the Datatype means more accurate (more exact) saving of the number - which means it needs more disk space on the computer. float16 needs less space on disk than float32\n"
      ]
    },
    {
      "cell_type": "code",
      "metadata": {
        "colab": {
          "base_uri": "https://localhost:8080/"
        },
        "id": "XYa0TX24aiKR",
        "outputId": "0da8f364-877a-453d-ea7a-44ac71eb3b33"
      },
      "source": [
        "#create another matrix\n",
        "another_matrix = tf.constant([[10., 7.], \n",
        "                              [3., 2.], \n",
        "                              [8., 9.]], dtype=tf.float16) #specify datatype\n",
        "another_matrix"
      ],
      "execution_count": 8,
      "outputs": [
        {
          "output_type": "execute_result",
          "data": {
            "text/plain": [
              "<tf.Tensor: shape=(3, 2), dtype=float16, numpy=\n",
              "array([[10.,  7.],\n",
              "       [ 3.,  2.],\n",
              "       [ 8.,  9.]], dtype=float16)>"
            ]
          },
          "metadata": {
            "tags": []
          },
          "execution_count": 8
        }
      ]
    },
    {
      "cell_type": "code",
      "metadata": {
        "colab": {
          "base_uri": "https://localhost:8080/"
        },
        "id": "ZNW69snlbXOy",
        "outputId": "4e15f686-173e-4e7b-f55c-a80410451d8b"
      },
      "source": [
        "#Number of dimension of another_matrix\n",
        "another_matrix.ndim"
      ],
      "execution_count": 9,
      "outputs": [
        {
          "output_type": "execute_result",
          "data": {
            "text/plain": [
              "2"
            ]
          },
          "metadata": {
            "tags": []
          },
          "execution_count": 9
        }
      ]
    },
    {
      "cell_type": "code",
      "metadata": {
        "colab": {
          "base_uri": "https://localhost:8080/"
        },
        "id": "yVdROkrpb6wU",
        "outputId": "be913052-ae78-4005-8687-0bb45db4f549"
      },
      "source": [
        "#create a tensor\n",
        "tensor = tf.constant([[[1, 2, 3], \n",
        "                       [4, 5, 6]], \n",
        "                     [[7, 8, 9], \n",
        "                       [10, 11, 12]],\n",
        "                     [[13, 14, 15], \n",
        "                       [16, 17, 18]]])\n",
        "tensor"
      ],
      "execution_count": 10,
      "outputs": [
        {
          "output_type": "execute_result",
          "data": {
            "text/plain": [
              "<tf.Tensor: shape=(3, 2, 3), dtype=int32, numpy=\n",
              "array([[[ 1,  2,  3],\n",
              "        [ 4,  5,  6]],\n",
              "\n",
              "       [[ 7,  8,  9],\n",
              "        [10, 11, 12]],\n",
              "\n",
              "       [[13, 14, 15],\n",
              "        [16, 17, 18]]], dtype=int32)>"
            ]
          },
          "metadata": {
            "tags": []
          },
          "execution_count": 10
        }
      ]
    },
    {
      "cell_type": "code",
      "metadata": {
        "colab": {
          "base_uri": "https://localhost:8080/"
        },
        "id": "yEt5aHRjcM_F",
        "outputId": "53877c64-7b08-4590-fea0-b665b3ae67c5"
      },
      "source": [
        "tensor.ndim"
      ],
      "execution_count": 11,
      "outputs": [
        {
          "output_type": "execute_result",
          "data": {
            "text/plain": [
              "3"
            ]
          },
          "metadata": {
            "tags": []
          },
          "execution_count": 11
        }
      ]
    },
    {
      "cell_type": "markdown",
      "metadata": {
        "id": "ZNHto2yxcH_q"
      },
      "source": [
        "Scalar - 0 Dimensions <br>\n",
        "Vector - 1 Dimensions <br>\n",
        "Matrix - 2 Dimensions <br>\n",
        "Tensor - 3 Dimensions<br>"
      ]
    },
    {
      "cell_type": "markdown",
      "metadata": {
        "id": "nc7lLfJveQQI"
      },
      "source": [
        "New Code Cell: <br>\n",
        "Command - M - B"
      ]
    },
    {
      "cell_type": "markdown",
      "metadata": {
        "id": "aZqulcqLedyh"
      },
      "source": [
        "###Creating tensors with tf.Variable"
      ]
    },
    {
      "cell_type": "code",
      "metadata": {
        "colab": {
          "base_uri": "https://localhost:8080/"
        },
        "id": "NXIXiUx1dTb7",
        "outputId": "5c2f561f-bb95-4431-e7c4-2f989075e8ec"
      },
      "source": [
        "#Create the same tensor with tf.Variable() as above\n",
        "changeable_tensor = tf.Variable([10, 7])\n",
        "unchangeable_tensor = tf.constant([10, 7])\n",
        "changeable_tensor, unchangeable_tensor"
      ],
      "execution_count": 12,
      "outputs": [
        {
          "output_type": "execute_result",
          "data": {
            "text/plain": [
              "(<tf.Variable 'Variable:0' shape=(2,) dtype=int32, numpy=array([10,  7], dtype=int32)>,\n",
              " <tf.Tensor: shape=(2,), dtype=int32, numpy=array([10,  7], dtype=int32)>)"
            ]
          },
          "metadata": {
            "tags": []
          },
          "execution_count": 12
        }
      ]
    },
    {
      "cell_type": "code",
      "metadata": {
        "id": "Pz57jAOAeOat"
      },
      "source": [
        "#Try to changhe one of the elements in changeable tensor\n",
        "#changeable_tensor[0] = 7\n",
        "#changeable_tensor"
      ],
      "execution_count": 13,
      "outputs": []
    },
    {
      "cell_type": "code",
      "metadata": {
        "id": "q832X0_UeZAc",
        "colab": {
          "base_uri": "https://localhost:8080/"
        },
        "outputId": "2dad7cc8-86f4-4143-c5d6-685a81d5d668"
      },
      "source": [
        "#try .assign()\n",
        "changeable_tensor[0].assign(7)\n",
        "changeable_tensor"
      ],
      "execution_count": 14,
      "outputs": [
        {
          "output_type": "execute_result",
          "data": {
            "text/plain": [
              "<tf.Variable 'Variable:0' shape=(2,) dtype=int32, numpy=array([7, 7], dtype=int32)>"
            ]
          },
          "metadata": {
            "tags": []
          },
          "execution_count": 14
        }
      ]
    },
    {
      "cell_type": "code",
      "metadata": {
        "id": "0X-qaozOeO-e"
      },
      "source": [
        "#change unchangeable tensor\n",
        "#unchangeable_tensor[0].assign(7)\n",
        "#unchangeable_tensor"
      ],
      "execution_count": 15,
      "outputs": []
    },
    {
      "cell_type": "markdown",
      "metadata": {
        "id": "wT8WPy3Tgd_2"
      },
      "source": [
        "###Creating random Tensors\n",
        "Random tensors are tensors of some abitrary size which contain random numbers"
      ]
    },
    {
      "cell_type": "code",
      "metadata": {
        "id": "8uSfUQOpgfr3",
        "colab": {
          "base_uri": "https://localhost:8080/"
        },
        "outputId": "8b1b997c-dbf7-4332-8dd2-0594adb6cc7f"
      },
      "source": [
        "#Create two random (but the same) tensors\n",
        "random_1 = tf.random.Generator.from_seed(42) #set seed for reproduceibility\n",
        "random_1 = random_1.normal(shape=(3, 2))\n",
        "random_1"
      ],
      "execution_count": 16,
      "outputs": [
        {
          "output_type": "execute_result",
          "data": {
            "text/plain": [
              "<tf.Tensor: shape=(3, 2), dtype=float32, numpy=\n",
              "array([[-0.7565803 , -0.06854702],\n",
              "       [ 0.07595026, -1.2573844 ],\n",
              "       [-0.23193765, -1.8107855 ]], dtype=float32)>"
            ]
          },
          "metadata": {
            "tags": []
          },
          "execution_count": 16
        }
      ]
    },
    {
      "cell_type": "code",
      "metadata": {
        "colab": {
          "base_uri": "https://localhost:8080/"
        },
        "id": "JTcpfuaKio7l",
        "outputId": "7ed79ec8-9a07-493e-8641-ea6475165a37"
      },
      "source": [
        "random_2 = tf.random.Generator.from_seed(42)\n",
        "random_2 = random_2.normal(shape=(3, 2))\n",
        "random_2"
      ],
      "execution_count": 17,
      "outputs": [
        {
          "output_type": "execute_result",
          "data": {
            "text/plain": [
              "<tf.Tensor: shape=(3, 2), dtype=float32, numpy=\n",
              "array([[-0.7565803 , -0.06854702],\n",
              "       [ 0.07595026, -1.2573844 ],\n",
              "       [-0.23193765, -1.8107855 ]], dtype=float32)>"
            ]
          },
          "metadata": {
            "tags": []
          },
          "execution_count": 17
        }
      ]
    },
    {
      "cell_type": "code",
      "metadata": {
        "colab": {
          "base_uri": "https://localhost:8080/"
        },
        "id": "Vo92jnAOi9oq",
        "outputId": "5ef6ea8b-419b-4a92-9626-f067dba020a5"
      },
      "source": [
        "#Are the tensors equal?\n",
        "random_1, random_2, random_1 == random_2"
      ],
      "execution_count": 18,
      "outputs": [
        {
          "output_type": "execute_result",
          "data": {
            "text/plain": [
              "(<tf.Tensor: shape=(3, 2), dtype=float32, numpy=\n",
              " array([[-0.7565803 , -0.06854702],\n",
              "        [ 0.07595026, -1.2573844 ],\n",
              "        [-0.23193765, -1.8107855 ]], dtype=float32)>,\n",
              " <tf.Tensor: shape=(3, 2), dtype=float32, numpy=\n",
              " array([[-0.7565803 , -0.06854702],\n",
              "        [ 0.07595026, -1.2573844 ],\n",
              "        [-0.23193765, -1.8107855 ]], dtype=float32)>,\n",
              " <tf.Tensor: shape=(3, 2), dtype=bool, numpy=\n",
              " array([[ True,  True],\n",
              "        [ True,  True],\n",
              "        [ True,  True]])>)"
            ]
          },
          "metadata": {
            "tags": []
          },
          "execution_count": 18
        }
      ]
    },
    {
      "cell_type": "markdown",
      "metadata": {
        "id": "t4q12HNHkSFa"
      },
      "source": [
        "###Shuffle the order of elements in tensor"
      ]
    },
    {
      "cell_type": "code",
      "metadata": {
        "id": "BLkS5GN0kWEN",
        "colab": {
          "base_uri": "https://localhost:8080/"
        },
        "outputId": "b28fa2d5-970c-46ae-ecbb-6eff1402cb11"
      },
      "source": [
        "#Shuffle a tensor (valuable for when you want to shuffle your data so the inherent order wont affect training)\n",
        "not_shuffled = tf.constant([[10, 7], \n",
        "                            [3, 4], \n",
        "                            [2, 5]])\n",
        "not_shuffled"
      ],
      "execution_count": 19,
      "outputs": [
        {
          "output_type": "execute_result",
          "data": {
            "text/plain": [
              "<tf.Tensor: shape=(3, 2), dtype=int32, numpy=\n",
              "array([[10,  7],\n",
              "       [ 3,  4],\n",
              "       [ 2,  5]], dtype=int32)>"
            ]
          },
          "metadata": {
            "tags": []
          },
          "execution_count": 19
        }
      ]
    },
    {
      "cell_type": "code",
      "metadata": {
        "id": "CPyPIAZUk8WT",
        "colab": {
          "base_uri": "https://localhost:8080/"
        },
        "outputId": "61b4fda1-ce4a-471c-e971-837a00f775b8"
      },
      "source": [
        "not_shuffled.ndim"
      ],
      "execution_count": 20,
      "outputs": [
        {
          "output_type": "execute_result",
          "data": {
            "text/plain": [
              "2"
            ]
          },
          "metadata": {
            "tags": []
          },
          "execution_count": 20
        }
      ]
    },
    {
      "cell_type": "code",
      "metadata": {
        "id": "u2LMJexElIRB",
        "colab": {
          "base_uri": "https://localhost:8080/"
        },
        "outputId": "56c3e818-8399-4a85-ec21-0abb8664ba13"
      },
      "source": [
        "#shuffled along first dimension\n",
        "tf.random.shuffle(not_shuffled)"
      ],
      "execution_count": 21,
      "outputs": [
        {
          "output_type": "execute_result",
          "data": {
            "text/plain": [
              "<tf.Tensor: shape=(3, 2), dtype=int32, numpy=\n",
              "array([[ 2,  5],\n",
              "       [10,  7],\n",
              "       [ 3,  4]], dtype=int32)>"
            ]
          },
          "metadata": {
            "tags": []
          },
          "execution_count": 21
        }
      ]
    },
    {
      "cell_type": "code",
      "metadata": {
        "colab": {
          "base_uri": "https://localhost:8080/"
        },
        "id": "zhlvy0qzlSHT",
        "outputId": "eed358a0-bda5-4aa9-8c8e-b5fc6db8f14d"
      },
      "source": [
        "#shuffle our non-shuffled tensor\n",
        "tf.random.shuffle(not_shuffled, seed=42)"
      ],
      "execution_count": 22,
      "outputs": [
        {
          "output_type": "execute_result",
          "data": {
            "text/plain": [
              "<tf.Tensor: shape=(3, 2), dtype=int32, numpy=\n",
              "array([[ 2,  5],\n",
              "       [ 3,  4],\n",
              "       [10,  7]], dtype=int32)>"
            ]
          },
          "metadata": {
            "tags": []
          },
          "execution_count": 22
        }
      ]
    },
    {
      "cell_type": "code",
      "metadata": {
        "id": "KNin6VnDmTAk",
        "colab": {
          "base_uri": "https://localhost:8080/"
        },
        "outputId": "9022f255-e44f-4c68-9313-0ceec95bc860"
      },
      "source": [
        "not_shuffled"
      ],
      "execution_count": 23,
      "outputs": [
        {
          "output_type": "execute_result",
          "data": {
            "text/plain": [
              "<tf.Tensor: shape=(3, 2), dtype=int32, numpy=\n",
              "array([[10,  7],\n",
              "       [ 3,  4],\n",
              "       [ 2,  5]], dtype=int32)>"
            ]
          },
          "metadata": {
            "tags": []
          },
          "execution_count": 23
        }
      ]
    },
    {
      "cell_type": "markdown",
      "metadata": {
        "id": "CYW3b93jmfnq"
      },
      "source": [
        "If we want out shuffled tensors to be in the same order, we´ve got use the global level random seed as well as the operation level random seed:\n",
        "\n",
        "> Rule 4: If both the global and the operation seed are set: Both seeds are used in conjunction to determine the random sequence."
      ]
    },
    {
      "cell_type": "code",
      "metadata": {
        "id": "N8r0GqM4mvN8",
        "colab": {
          "base_uri": "https://localhost:8080/"
        },
        "outputId": "c7661b81-ce50-409a-c9c8-cc7d2af54155"
      },
      "source": [
        "tf.random.set_seed(42) #global level random seed\n",
        "tf.random.shuffle(not_shuffled, seed=42) #operation level random seed"
      ],
      "execution_count": 24,
      "outputs": [
        {
          "output_type": "execute_result",
          "data": {
            "text/plain": [
              "<tf.Tensor: shape=(3, 2), dtype=int32, numpy=\n",
              "array([[10,  7],\n",
              "       [ 3,  4],\n",
              "       [ 2,  5]], dtype=int32)>"
            ]
          },
          "metadata": {
            "tags": []
          },
          "execution_count": 24
        }
      ]
    },
    {
      "cell_type": "markdown",
      "metadata": {
        "id": "Vib86hqcnRgW"
      },
      "source": [
        "###Other ways to make tensors"
      ]
    },
    {
      "cell_type": "code",
      "metadata": {
        "id": "vDyQ9Ip1nN9P",
        "colab": {
          "base_uri": "https://localhost:8080/"
        },
        "outputId": "c49cecac-6bbb-495f-f15e-bb9823b2c1e1"
      },
      "source": [
        "#Create a tensor of all ones\n",
        "tf.ones([10, 7])"
      ],
      "execution_count": 25,
      "outputs": [
        {
          "output_type": "execute_result",
          "data": {
            "text/plain": [
              "<tf.Tensor: shape=(10, 7), dtype=float32, numpy=\n",
              "array([[1., 1., 1., 1., 1., 1., 1.],\n",
              "       [1., 1., 1., 1., 1., 1., 1.],\n",
              "       [1., 1., 1., 1., 1., 1., 1.],\n",
              "       [1., 1., 1., 1., 1., 1., 1.],\n",
              "       [1., 1., 1., 1., 1., 1., 1.],\n",
              "       [1., 1., 1., 1., 1., 1., 1.],\n",
              "       [1., 1., 1., 1., 1., 1., 1.],\n",
              "       [1., 1., 1., 1., 1., 1., 1.],\n",
              "       [1., 1., 1., 1., 1., 1., 1.],\n",
              "       [1., 1., 1., 1., 1., 1., 1.]], dtype=float32)>"
            ]
          },
          "metadata": {
            "tags": []
          },
          "execution_count": 25
        }
      ]
    },
    {
      "cell_type": "code",
      "metadata": {
        "id": "mziNFHNsndkC",
        "colab": {
          "base_uri": "https://localhost:8080/"
        },
        "outputId": "41612d05-6627-4643-b446-96adb1dda481"
      },
      "source": [
        "#Create a tensor of all zeros\n",
        "tf.zeros([10, 7])"
      ],
      "execution_count": 26,
      "outputs": [
        {
          "output_type": "execute_result",
          "data": {
            "text/plain": [
              "<tf.Tensor: shape=(10, 7), dtype=float32, numpy=\n",
              "array([[0., 0., 0., 0., 0., 0., 0.],\n",
              "       [0., 0., 0., 0., 0., 0., 0.],\n",
              "       [0., 0., 0., 0., 0., 0., 0.],\n",
              "       [0., 0., 0., 0., 0., 0., 0.],\n",
              "       [0., 0., 0., 0., 0., 0., 0.],\n",
              "       [0., 0., 0., 0., 0., 0., 0.],\n",
              "       [0., 0., 0., 0., 0., 0., 0.],\n",
              "       [0., 0., 0., 0., 0., 0., 0.],\n",
              "       [0., 0., 0., 0., 0., 0., 0.],\n",
              "       [0., 0., 0., 0., 0., 0., 0.]], dtype=float32)>"
            ]
          },
          "metadata": {
            "tags": []
          },
          "execution_count": 26
        }
      ]
    },
    {
      "cell_type": "markdown",
      "metadata": {
        "id": "tZV_EV3hn201"
      },
      "source": [
        "###Turn numpy arrays into tensors\n",
        "\n",
        "The main difference between NumPy arrays and Tensorfs is taht tensors can be run on a GPU"
      ]
    },
    {
      "cell_type": "code",
      "metadata": {
        "id": "JVzt9sIknm4y",
        "colab": {
          "base_uri": "https://localhost:8080/"
        },
        "outputId": "024f2ae8-4617-41d8-b53f-9c045d460c66"
      },
      "source": [
        "import numpy as np\n",
        "numpy_A = np.arange(1, 25, dtype=np.int32) #create a NumPy array between 1 and 25\n",
        "numpy_A"
      ],
      "execution_count": 27,
      "outputs": [
        {
          "output_type": "execute_result",
          "data": {
            "text/plain": [
              "array([ 1,  2,  3,  4,  5,  6,  7,  8,  9, 10, 11, 12, 13, 14, 15, 16, 17,\n",
              "       18, 19, 20, 21, 22, 23, 24], dtype=int32)"
            ]
          },
          "metadata": {
            "tags": []
          },
          "execution_count": 27
        }
      ]
    },
    {
      "cell_type": "code",
      "metadata": {
        "id": "9ibnZbGkoAYf",
        "colab": {
          "base_uri": "https://localhost:8080/"
        },
        "outputId": "18917cc5-51ea-4339-9cee-e4f5020b957f"
      },
      "source": [
        "A = tf.constant(numpy_A, shape=(2, 3, 4))\n",
        "A"
      ],
      "execution_count": 28,
      "outputs": [
        {
          "output_type": "execute_result",
          "data": {
            "text/plain": [
              "<tf.Tensor: shape=(2, 3, 4), dtype=int32, numpy=\n",
              "array([[[ 1,  2,  3,  4],\n",
              "        [ 5,  6,  7,  8],\n",
              "        [ 9, 10, 11, 12]],\n",
              "\n",
              "       [[13, 14, 15, 16],\n",
              "        [17, 18, 19, 20],\n",
              "        [21, 22, 23, 24]]], dtype=int32)>"
            ]
          },
          "metadata": {
            "tags": []
          },
          "execution_count": 28
        }
      ]
    },
    {
      "cell_type": "code",
      "metadata": {
        "id": "rOtTs6vEoY7C",
        "colab": {
          "base_uri": "https://localhost:8080/"
        },
        "outputId": "87b8f19b-2201-46e6-86e6-ee2fdfb27e06"
      },
      "source": [
        "B = tf.constant(numpy_A)\n",
        "B"
      ],
      "execution_count": 29,
      "outputs": [
        {
          "output_type": "execute_result",
          "data": {
            "text/plain": [
              "<tf.Tensor: shape=(24,), dtype=int32, numpy=\n",
              "array([ 1,  2,  3,  4,  5,  6,  7,  8,  9, 10, 11, 12, 13, 14, 15, 16, 17,\n",
              "       18, 19, 20, 21, 22, 23, 24], dtype=int32)>"
            ]
          },
          "metadata": {
            "tags": []
          },
          "execution_count": 29
        }
      ]
    },
    {
      "cell_type": "markdown",
      "metadata": {
        "id": "fE8H2GFwpIHo"
      },
      "source": [
        "###Getting informations from tensors\n",
        "\n",
        "* Shape\n",
        "* Rank\n",
        "* Axis or dimensions\n",
        "* Size"
      ]
    },
    {
      "cell_type": "code",
      "metadata": {
        "id": "10rEUByspGEF",
        "colab": {
          "base_uri": "https://localhost:8080/"
        },
        "outputId": "02ad2eb6-bc0f-4465-f6e4-b3f04ad9a1d7"
      },
      "source": [
        "#Create a rank 4 tensor (4 dimensions)\n",
        "rank_4_tensor = tf.zeros([2, 3, 4, 5])\n",
        "rank_4_tensor"
      ],
      "execution_count": 30,
      "outputs": [
        {
          "output_type": "execute_result",
          "data": {
            "text/plain": [
              "<tf.Tensor: shape=(2, 3, 4, 5), dtype=float32, numpy=\n",
              "array([[[[0., 0., 0., 0., 0.],\n",
              "         [0., 0., 0., 0., 0.],\n",
              "         [0., 0., 0., 0., 0.],\n",
              "         [0., 0., 0., 0., 0.]],\n",
              "\n",
              "        [[0., 0., 0., 0., 0.],\n",
              "         [0., 0., 0., 0., 0.],\n",
              "         [0., 0., 0., 0., 0.],\n",
              "         [0., 0., 0., 0., 0.]],\n",
              "\n",
              "        [[0., 0., 0., 0., 0.],\n",
              "         [0., 0., 0., 0., 0.],\n",
              "         [0., 0., 0., 0., 0.],\n",
              "         [0., 0., 0., 0., 0.]]],\n",
              "\n",
              "\n",
              "       [[[0., 0., 0., 0., 0.],\n",
              "         [0., 0., 0., 0., 0.],\n",
              "         [0., 0., 0., 0., 0.],\n",
              "         [0., 0., 0., 0., 0.]],\n",
              "\n",
              "        [[0., 0., 0., 0., 0.],\n",
              "         [0., 0., 0., 0., 0.],\n",
              "         [0., 0., 0., 0., 0.],\n",
              "         [0., 0., 0., 0., 0.]],\n",
              "\n",
              "        [[0., 0., 0., 0., 0.],\n",
              "         [0., 0., 0., 0., 0.],\n",
              "         [0., 0., 0., 0., 0.],\n",
              "         [0., 0., 0., 0., 0.]]]], dtype=float32)>"
            ]
          },
          "metadata": {
            "tags": []
          },
          "execution_count": 30
        }
      ]
    },
    {
      "cell_type": "code",
      "metadata": {
        "id": "Wg9VfCM0pKE1",
        "colab": {
          "base_uri": "https://localhost:8080/"
        },
        "outputId": "71d0f735-4f07-4688-bdfa-a653271e5c87"
      },
      "source": [
        "rank_4_tensor[0]"
      ],
      "execution_count": 31,
      "outputs": [
        {
          "output_type": "execute_result",
          "data": {
            "text/plain": [
              "<tf.Tensor: shape=(3, 4, 5), dtype=float32, numpy=\n",
              "array([[[0., 0., 0., 0., 0.],\n",
              "        [0., 0., 0., 0., 0.],\n",
              "        [0., 0., 0., 0., 0.],\n",
              "        [0., 0., 0., 0., 0.]],\n",
              "\n",
              "       [[0., 0., 0., 0., 0.],\n",
              "        [0., 0., 0., 0., 0.],\n",
              "        [0., 0., 0., 0., 0.],\n",
              "        [0., 0., 0., 0., 0.]],\n",
              "\n",
              "       [[0., 0., 0., 0., 0.],\n",
              "        [0., 0., 0., 0., 0.],\n",
              "        [0., 0., 0., 0., 0.],\n",
              "        [0., 0., 0., 0., 0.]]], dtype=float32)>"
            ]
          },
          "metadata": {
            "tags": []
          },
          "execution_count": 31
        }
      ]
    },
    {
      "cell_type": "code",
      "metadata": {
        "id": "Qm3KJbUtrevu",
        "colab": {
          "base_uri": "https://localhost:8080/"
        },
        "outputId": "80a6768a-0d9b-4ef4-fd09-11ca1752e416"
      },
      "source": [
        "rank_4_tensor.shape, rank_4_tensor.ndim, tf.size(rank_4_tensor)"
      ],
      "execution_count": 32,
      "outputs": [
        {
          "output_type": "execute_result",
          "data": {
            "text/plain": [
              "(TensorShape([2, 3, 4, 5]), 4, <tf.Tensor: shape=(), dtype=int32, numpy=120>)"
            ]
          },
          "metadata": {
            "tags": []
          },
          "execution_count": 32
        }
      ]
    },
    {
      "cell_type": "code",
      "metadata": {
        "id": "US7PMmKIrt1O",
        "colab": {
          "base_uri": "https://localhost:8080/"
        },
        "outputId": "64dc8e28-0800-4efb-884f-9f46472eb253"
      },
      "source": [
        "#Get various attributes of our tensor\n",
        "print(\"Datatype of every element:\", rank_4_tensor.dtype)\n",
        "print(\"Number of dimensions (rank):\", rank_4_tensor.ndim)\n",
        "print(\"Shape of tensor:\", rank_4_tensor.shape)\n",
        "print(\"Elements along the 0 axis:\", rank_4_tensor.shape[0])\n",
        "print(\"Elements along the last axis:\", rank_4_tensor.shape[-1])\n",
        "print(\"Total number of elements in our tensor:\", tf.size(rank_4_tensor))\n",
        "print(\"Total number of elements in our tensor:\", tf.size(rank_4_tensor).numpy())"
      ],
      "execution_count": 33,
      "outputs": [
        {
          "output_type": "stream",
          "text": [
            "Datatype of every element: <dtype: 'float32'>\n",
            "Number of dimensions (rank): 4\n",
            "Shape of tensor: (2, 3, 4, 5)\n",
            "Elements along the 0 axis: 2\n",
            "Elements along the last axis: 5\n",
            "Total number of elements in our tensor: tf.Tensor(120, shape=(), dtype=int32)\n",
            "Total number of elements in our tensor: 120\n"
          ],
          "name": "stdout"
        }
      ]
    },
    {
      "cell_type": "markdown",
      "metadata": {
        "id": "GBUAyu42m-E5"
      },
      "source": [
        "###Indexing tensors\n",
        "\n",
        "Tensors can be indexed just like Python lists"
      ]
    },
    {
      "cell_type": "code",
      "metadata": {
        "id": "LiHWpEF_saLa",
        "colab": {
          "base_uri": "https://localhost:8080/"
        },
        "outputId": "1527a38c-d0c9-452e-ffdf-5fe9d85d3be6"
      },
      "source": [
        "#Get the first 2 elements of each dimension\n",
        "rank_4_tensor[:2, :2, :2, :2]"
      ],
      "execution_count": 34,
      "outputs": [
        {
          "output_type": "execute_result",
          "data": {
            "text/plain": [
              "<tf.Tensor: shape=(2, 2, 2, 2), dtype=float32, numpy=\n",
              "array([[[[0., 0.],\n",
              "         [0., 0.]],\n",
              "\n",
              "        [[0., 0.],\n",
              "         [0., 0.]]],\n",
              "\n",
              "\n",
              "       [[[0., 0.],\n",
              "         [0., 0.]],\n",
              "\n",
              "        [[0., 0.],\n",
              "         [0., 0.]]]], dtype=float32)>"
            ]
          },
          "metadata": {
            "tags": []
          },
          "execution_count": 34
        }
      ]
    },
    {
      "cell_type": "code",
      "metadata": {
        "id": "WYSTC_0RnbKm",
        "colab": {
          "base_uri": "https://localhost:8080/"
        },
        "outputId": "78dcc0af-e50a-4afe-bff2-201623bacdad"
      },
      "source": [
        "#Get the first element from each dimension from each index except for the final one\n",
        "rank_4_tensor[:1, :1, :1, :]"
      ],
      "execution_count": 35,
      "outputs": [
        {
          "output_type": "execute_result",
          "data": {
            "text/plain": [
              "<tf.Tensor: shape=(1, 1, 1, 5), dtype=float32, numpy=array([[[[0., 0., 0., 0., 0.]]]], dtype=float32)>"
            ]
          },
          "metadata": {
            "tags": []
          },
          "execution_count": 35
        }
      ]
    },
    {
      "cell_type": "code",
      "metadata": {
        "id": "tCJsV-Ifn9dU",
        "colab": {
          "base_uri": "https://localhost:8080/"
        },
        "outputId": "fab46ba2-fcf0-448b-98bb-0a33aa80267a"
      },
      "source": [
        "rank_4_tensor.shape"
      ],
      "execution_count": 36,
      "outputs": [
        {
          "output_type": "execute_result",
          "data": {
            "text/plain": [
              "TensorShape([2, 3, 4, 5])"
            ]
          },
          "metadata": {
            "tags": []
          },
          "execution_count": 36
        }
      ]
    },
    {
      "cell_type": "code",
      "metadata": {
        "id": "TNxAFYcQoTq6",
        "colab": {
          "base_uri": "https://localhost:8080/"
        },
        "outputId": "6fa67927-920f-4ace-a78b-1621d194ebdb"
      },
      "source": [
        "#Create a rank 2 tensor (2 dimensions)\n",
        "rank_2_tensor = tf.constant([[10,7],\n",
        "                            [3, 4]])\n",
        "\n",
        "rank_2_tensor.shape, rank_4_tensor.ndim"
      ],
      "execution_count": 37,
      "outputs": [
        {
          "output_type": "execute_result",
          "data": {
            "text/plain": [
              "(TensorShape([2, 2]), 4)"
            ]
          },
          "metadata": {
            "tags": []
          },
          "execution_count": 37
        }
      ]
    },
    {
      "cell_type": "code",
      "metadata": {
        "id": "A33wFerfogjV",
        "colab": {
          "base_uri": "https://localhost:8080/"
        },
        "outputId": "255c9a41-893a-4ca5-ee89-d3bfdd20fd5a"
      },
      "source": [
        "#Get the last item of each row of our rank 2 tensor\n",
        "rank_2_tensor[:, -1]"
      ],
      "execution_count": 38,
      "outputs": [
        {
          "output_type": "execute_result",
          "data": {
            "text/plain": [
              "<tf.Tensor: shape=(2,), dtype=int32, numpy=array([7, 4], dtype=int32)>"
            ]
          },
          "metadata": {
            "tags": []
          },
          "execution_count": 38
        }
      ]
    },
    {
      "cell_type": "code",
      "metadata": {
        "id": "ZjXtbMDwowsT",
        "colab": {
          "base_uri": "https://localhost:8080/"
        },
        "outputId": "33a75d96-9927-4f82-a925-fba0bd066a67"
      },
      "source": [
        "#Add in extra dimension to our rank 2 tensor\n",
        "rank_3_tensor = rank_2_tensor[..., tf.newaxis] #add new axis on the end\n",
        "rank_3_tensor"
      ],
      "execution_count": 39,
      "outputs": [
        {
          "output_type": "execute_result",
          "data": {
            "text/plain": [
              "<tf.Tensor: shape=(2, 2, 1), dtype=int32, numpy=\n",
              "array([[[10],\n",
              "        [ 7]],\n",
              "\n",
              "       [[ 3],\n",
              "        [ 4]]], dtype=int32)>"
            ]
          },
          "metadata": {
            "tags": []
          },
          "execution_count": 39
        }
      ]
    },
    {
      "cell_type": "code",
      "metadata": {
        "id": "xJpGUdN2pCqf",
        "colab": {
          "base_uri": "https://localhost:8080/"
        },
        "outputId": "4ca6ea10-b740-4d5a-9ca8-c746ea0c4b46"
      },
      "source": [
        "#Alternative to tf.newaxis\n",
        "tf.expand_dims(rank_2_tensor, axis=-1) #-1 means expand last axis\n"
      ],
      "execution_count": 40,
      "outputs": [
        {
          "output_type": "execute_result",
          "data": {
            "text/plain": [
              "<tf.Tensor: shape=(2, 2, 1), dtype=int32, numpy=\n",
              "array([[[10],\n",
              "        [ 7]],\n",
              "\n",
              "       [[ 3],\n",
              "        [ 4]]], dtype=int32)>"
            ]
          },
          "metadata": {
            "tags": []
          },
          "execution_count": 40
        }
      ]
    },
    {
      "cell_type": "code",
      "metadata": {
        "id": "qRlPOAk2pg9V",
        "colab": {
          "base_uri": "https://localhost:8080/"
        },
        "outputId": "5533b2cd-4cd4-4fb9-f122-0f42aedbd91a"
      },
      "source": [
        "tf.expand_dims(rank_2_tensor, axis=0) #expand the 0-axis"
      ],
      "execution_count": 41,
      "outputs": [
        {
          "output_type": "execute_result",
          "data": {
            "text/plain": [
              "<tf.Tensor: shape=(1, 2, 2), dtype=int32, numpy=\n",
              "array([[[10,  7],\n",
              "        [ 3,  4]]], dtype=int32)>"
            ]
          },
          "metadata": {
            "tags": []
          },
          "execution_count": 41
        }
      ]
    },
    {
      "cell_type": "code",
      "metadata": {
        "id": "9ambOovgpuW2",
        "colab": {
          "base_uri": "https://localhost:8080/"
        },
        "outputId": "944088e8-8bfa-41cb-ed39-66f45e892b9a"
      },
      "source": [
        "tf.expand_dims(rank_2_tensor, axis=1)"
      ],
      "execution_count": 42,
      "outputs": [
        {
          "output_type": "execute_result",
          "data": {
            "text/plain": [
              "<tf.Tensor: shape=(2, 1, 2), dtype=int32, numpy=\n",
              "array([[[10,  7]],\n",
              "\n",
              "       [[ 3,  4]]], dtype=int32)>"
            ]
          },
          "metadata": {
            "tags": []
          },
          "execution_count": 42
        }
      ]
    },
    {
      "cell_type": "code",
      "metadata": {
        "id": "e7gaDYJ_pyfb",
        "colab": {
          "base_uri": "https://localhost:8080/"
        },
        "outputId": "107ee393-25ef-419d-b867-40c1e3eedb59"
      },
      "source": [
        "rank_2_tensor"
      ],
      "execution_count": 43,
      "outputs": [
        {
          "output_type": "execute_result",
          "data": {
            "text/plain": [
              "<tf.Tensor: shape=(2, 2), dtype=int32, numpy=\n",
              "array([[10,  7],\n",
              "       [ 3,  4]], dtype=int32)>"
            ]
          },
          "metadata": {
            "tags": []
          },
          "execution_count": 43
        }
      ]
    },
    {
      "cell_type": "markdown",
      "metadata": {
        "id": "l0eVYDJ3p6q8"
      },
      "source": [
        "###Manipulating tensors (tensor operations)\n",
        "\n",
        "**Basic operations\n",
        "\n",
        "+, -, *, /"
      ]
    },
    {
      "cell_type": "code",
      "metadata": {
        "id": "QlrmeKO9p1B0",
        "colab": {
          "base_uri": "https://localhost:8080/"
        },
        "outputId": "cb14fcb3-a82b-41d1-c1c1-642fc2aa9c97"
      },
      "source": [
        "#You can add values to a tensor using the addition operator\n",
        "tensor = tf.constant([[10, 7],\n",
        "                      [3,4]])\n",
        "\n",
        "tensor + 10"
      ],
      "execution_count": 44,
      "outputs": [
        {
          "output_type": "execute_result",
          "data": {
            "text/plain": [
              "<tf.Tensor: shape=(2, 2), dtype=int32, numpy=\n",
              "array([[20, 17],\n",
              "       [13, 14]], dtype=int32)>"
            ]
          },
          "metadata": {
            "tags": []
          },
          "execution_count": 44
        }
      ]
    },
    {
      "cell_type": "code",
      "metadata": {
        "id": "uKSC4ztywE48",
        "colab": {
          "base_uri": "https://localhost:8080/"
        },
        "outputId": "fa5698ce-0d29-456d-cc3a-700c9474168f"
      },
      "source": [
        "#Original tensor is unchanged\n",
        "tensor"
      ],
      "execution_count": 45,
      "outputs": [
        {
          "output_type": "execute_result",
          "data": {
            "text/plain": [
              "<tf.Tensor: shape=(2, 2), dtype=int32, numpy=\n",
              "array([[10,  7],\n",
              "       [ 3,  4]], dtype=int32)>"
            ]
          },
          "metadata": {
            "tags": []
          },
          "execution_count": 45
        }
      ]
    },
    {
      "cell_type": "code",
      "metadata": {
        "id": "SdcwEQ88wGII",
        "colab": {
          "base_uri": "https://localhost:8080/"
        },
        "outputId": "12556d28-b32d-48f9-eca7-d91116d9c3f5"
      },
      "source": [
        "#Multiplication\n",
        "tensor * 10"
      ],
      "execution_count": 46,
      "outputs": [
        {
          "output_type": "execute_result",
          "data": {
            "text/plain": [
              "<tf.Tensor: shape=(2, 2), dtype=int32, numpy=\n",
              "array([[100,  70],\n",
              "       [ 30,  40]], dtype=int32)>"
            ]
          },
          "metadata": {
            "tags": []
          },
          "execution_count": 46
        }
      ]
    },
    {
      "cell_type": "code",
      "metadata": {
        "id": "lx9Si5AdwckQ",
        "colab": {
          "base_uri": "https://localhost:8080/"
        },
        "outputId": "4d5a67b7-1c7f-440d-be2f-fc3f9068c42b"
      },
      "source": [
        "#Subtraction\n",
        "tensor -10"
      ],
      "execution_count": 47,
      "outputs": [
        {
          "output_type": "execute_result",
          "data": {
            "text/plain": [
              "<tf.Tensor: shape=(2, 2), dtype=int32, numpy=\n",
              "array([[ 0, -3],\n",
              "       [-7, -6]], dtype=int32)>"
            ]
          },
          "metadata": {
            "tags": []
          },
          "execution_count": 47
        }
      ]
    },
    {
      "cell_type": "code",
      "metadata": {
        "id": "fyKev7vxwfKN",
        "colab": {
          "base_uri": "https://localhost:8080/"
        },
        "outputId": "e55022cc-0193-4ae6-c55b-02a16a5d174e"
      },
      "source": [
        "#We can use the tensorflow built in function too\n",
        "#Faster than the other one\n",
        "tf.multiply(tensor, 10)"
      ],
      "execution_count": 48,
      "outputs": [
        {
          "output_type": "execute_result",
          "data": {
            "text/plain": [
              "<tf.Tensor: shape=(2, 2), dtype=int32, numpy=\n",
              "array([[100,  70],\n",
              "       [ 30,  40]], dtype=int32)>"
            ]
          },
          "metadata": {
            "tags": []
          },
          "execution_count": 48
        }
      ]
    },
    {
      "cell_type": "markdown",
      "metadata": {
        "id": "8DNxRx0_xL2p"
      },
      "source": [
        "###Matrix multiplication\n",
        "\n",
        "Most common operations in ML"
      ]
    },
    {
      "cell_type": "code",
      "metadata": {
        "id": "SU6-S1jLxJ0A",
        "colab": {
          "base_uri": "https://localhost:8080/"
        },
        "outputId": "9bc0f0ed-6158-4257-97f3-8384b2ab29ef"
      },
      "source": [
        "#Matrix multiplication in tensorflow\n",
        "print(tensor)\n",
        "tf.matmul(tensor, tensor)"
      ],
      "execution_count": 49,
      "outputs": [
        {
          "output_type": "stream",
          "text": [
            "tf.Tensor(\n",
            "[[10  7]\n",
            " [ 3  4]], shape=(2, 2), dtype=int32)\n"
          ],
          "name": "stdout"
        },
        {
          "output_type": "execute_result",
          "data": {
            "text/plain": [
              "<tf.Tensor: shape=(2, 2), dtype=int32, numpy=\n",
              "array([[121,  98],\n",
              "       [ 42,  37]], dtype=int32)>"
            ]
          },
          "metadata": {
            "tags": []
          },
          "execution_count": 49
        }
      ]
    },
    {
      "cell_type": "code",
      "metadata": {
        "id": "EzdkK81c3RNj",
        "colab": {
          "base_uri": "https://localhost:8080/"
        },
        "outputId": "f95645d7-613d-4af3-8158-314462649292"
      },
      "source": [
        "#Matrix multiplication with Python operator \"@\"\n",
        "tensor @ tensor"
      ],
      "execution_count": 50,
      "outputs": [
        {
          "output_type": "execute_result",
          "data": {
            "text/plain": [
              "<tf.Tensor: shape=(2, 2), dtype=int32, numpy=\n",
              "array([[121,  98],\n",
              "       [ 42,  37]], dtype=int32)>"
            ]
          },
          "metadata": {
            "tags": []
          },
          "execution_count": 50
        }
      ]
    },
    {
      "cell_type": "code",
      "metadata": {
        "id": "hTahmFB13goj"
      },
      "source": [
        "tensor_a = tf.constant([[1,2,5], \n",
        "              [7,2,1],\n",
        "              [3,3,3]])"
      ],
      "execution_count": 51,
      "outputs": []
    },
    {
      "cell_type": "code",
      "metadata": {
        "id": "VKM49OxV3sgX"
      },
      "source": [
        "tensor_b = tf.constant([[3, 5],\n",
        "                        [6, 7],\n",
        "                        [1, 8]])"
      ],
      "execution_count": 52,
      "outputs": []
    },
    {
      "cell_type": "code",
      "metadata": {
        "id": "v_0aMAU739jJ",
        "colab": {
          "base_uri": "https://localhost:8080/"
        },
        "outputId": "c86014d7-3da9-4a38-cf03-7b46a0ea8d28"
      },
      "source": [
        "tf.matmul(tensor_a,tensor_b)"
      ],
      "execution_count": 53,
      "outputs": [
        {
          "output_type": "execute_result",
          "data": {
            "text/plain": [
              "<tf.Tensor: shape=(3, 2), dtype=int32, numpy=\n",
              "array([[20, 59],\n",
              "       [34, 57],\n",
              "       [30, 60]], dtype=int32)>"
            ]
          },
          "metadata": {
            "tags": []
          },
          "execution_count": 53
        }
      ]
    },
    {
      "cell_type": "code",
      "metadata": {
        "id": "-kiclhZp4DTl",
        "colab": {
          "base_uri": "https://localhost:8080/"
        },
        "outputId": "c0c30ea1-ca9f-491c-a268-c556749a4492"
      },
      "source": [
        "print(tensor_a.shape)\n",
        "print(tensor_b.shape)"
      ],
      "execution_count": 54,
      "outputs": [
        {
          "output_type": "stream",
          "text": [
            "(3, 3)\n",
            "(3, 2)\n"
          ],
          "name": "stdout"
        }
      ]
    },
    {
      "cell_type": "code",
      "metadata": {
        "id": "UmHkbv5k4vRU"
      },
      "source": [
        "tensor_c = tf.constant([[1,2],\n",
        "                        [3,4],\n",
        "                        [5,6]])"
      ],
      "execution_count": 55,
      "outputs": []
    },
    {
      "cell_type": "code",
      "metadata": {
        "id": "z_buoTqfQLsT",
        "colab": {
          "base_uri": "https://localhost:8080/"
        },
        "outputId": "895df415-b762-420f-d619-b2652a834bfa"
      },
      "source": [
        "#change shape of tensor_c\n",
        "tensor_d = tf.reshape(tensor_c, shape=(2,3))\n",
        "tensor_d"
      ],
      "execution_count": 56,
      "outputs": [
        {
          "output_type": "execute_result",
          "data": {
            "text/plain": [
              "<tf.Tensor: shape=(2, 3), dtype=int32, numpy=\n",
              "array([[1, 2, 3],\n",
              "       [4, 5, 6]], dtype=int32)>"
            ]
          },
          "metadata": {
            "tags": []
          },
          "execution_count": 56
        }
      ]
    },
    {
      "cell_type": "code",
      "metadata": {
        "id": "Uzcm0C91QOQn",
        "colab": {
          "base_uri": "https://localhost:8080/"
        },
        "outputId": "40076351-a729-433b-bcd6-84c5f6724598"
      },
      "source": [
        "tf.matmul(tensor_c, tensor_d)"
      ],
      "execution_count": 57,
      "outputs": [
        {
          "output_type": "execute_result",
          "data": {
            "text/plain": [
              "<tf.Tensor: shape=(3, 3), dtype=int32, numpy=\n",
              "array([[ 9, 12, 15],\n",
              "       [19, 26, 33],\n",
              "       [29, 40, 51]], dtype=int32)>"
            ]
          },
          "metadata": {
            "tags": []
          },
          "execution_count": 57
        }
      ]
    },
    {
      "cell_type": "code",
      "metadata": {
        "id": "bWS_pdE5Qmou",
        "colab": {
          "base_uri": "https://localhost:8080/"
        },
        "outputId": "47965e59-8047-487c-86b1-acd279866abf"
      },
      "source": [
        "#matrix multiplication is possible - right dimensions\n",
        "tensor_c.shape, tensor_d.shape"
      ],
      "execution_count": 58,
      "outputs": [
        {
          "output_type": "execute_result",
          "data": {
            "text/plain": [
              "(TensorShape([3, 2]), TensorShape([2, 3]))"
            ]
          },
          "metadata": {
            "tags": []
          },
          "execution_count": 58
        }
      ]
    },
    {
      "cell_type": "code",
      "metadata": {
        "id": "PB4dJY6PQ2x3",
        "colab": {
          "base_uri": "https://localhost:8080/"
        },
        "outputId": "a67b527d-de75-47af-dd67-84d056b2d7f2"
      },
      "source": [
        "#Can do the same with transpose\n",
        "#Flips rows and columns\n",
        "tf.transpose(tensor_c)"
      ],
      "execution_count": 59,
      "outputs": [
        {
          "output_type": "execute_result",
          "data": {
            "text/plain": [
              "<tf.Tensor: shape=(2, 3), dtype=int32, numpy=\n",
              "array([[1, 3, 5],\n",
              "       [2, 4, 6]], dtype=int32)>"
            ]
          },
          "metadata": {
            "tags": []
          },
          "execution_count": 59
        }
      ]
    },
    {
      "cell_type": "code",
      "metadata": {
        "id": "Z-lc1HRWRpDF",
        "colab": {
          "base_uri": "https://localhost:8080/"
        },
        "outputId": "0d939a34-1fa0-4052-87ca-3e8901bb4af3"
      },
      "source": [
        "#Try matrix multiplication with transpose\n",
        "tf.matmul(tf.transpose(tensor_c), tf.transpose(tensor_d))"
      ],
      "execution_count": 60,
      "outputs": [
        {
          "output_type": "execute_result",
          "data": {
            "text/plain": [
              "<tf.Tensor: shape=(2, 2), dtype=int32, numpy=\n",
              "array([[22, 49],\n",
              "       [28, 64]], dtype=int32)>"
            ]
          },
          "metadata": {
            "tags": []
          },
          "execution_count": 60
        }
      ]
    },
    {
      "cell_type": "markdown",
      "metadata": {
        "id": "C78Pv-ZlSxCK"
      },
      "source": [
        "###The dot product\n",
        "Matrix multiplication is also referred as the dot product. <br>\n",
        "You can perform matrix multiplication with: <br>\n",
        "* `tf.matmul()`\n",
        "* `tf.tensordot()`"
      ]
    },
    {
      "cell_type": "code",
      "metadata": {
        "id": "sUPanrBtSJQu",
        "colab": {
          "base_uri": "https://localhost:8080/"
        },
        "outputId": "4c947de6-06dc-4da0-bb1e-6f25403ea89d"
      },
      "source": [
        "#Perform the dot product on tensor_c and tensor_d\n",
        "print(tensor_c.shape)\n",
        "print(tensor_d.shape)"
      ],
      "execution_count": 61,
      "outputs": [
        {
          "output_type": "stream",
          "text": [
            "(3, 2)\n",
            "(2, 3)\n"
          ],
          "name": "stdout"
        }
      ]
    },
    {
      "cell_type": "code",
      "metadata": {
        "id": "gCdlaEXcTYAv",
        "colab": {
          "base_uri": "https://localhost:8080/"
        },
        "outputId": "94b24da1-9233-40f2-bd93-69857ec35514"
      },
      "source": [
        "tf.tensordot(tensor_c, tensor_d, axes=1)"
      ],
      "execution_count": 62,
      "outputs": [
        {
          "output_type": "execute_result",
          "data": {
            "text/plain": [
              "<tf.Tensor: shape=(3, 3), dtype=int32, numpy=\n",
              "array([[ 9, 12, 15],\n",
              "       [19, 26, 33],\n",
              "       [29, 40, 51]], dtype=int32)>"
            ]
          },
          "metadata": {
            "tags": []
          },
          "execution_count": 62
        }
      ]
    },
    {
      "cell_type": "code",
      "metadata": {
        "id": "WjRme2IdTfmI",
        "colab": {
          "base_uri": "https://localhost:8080/"
        },
        "outputId": "e3e5270f-65c9-42a6-f6f2-c2b66d5c594c"
      },
      "source": [
        "#Perform matrix multiplication bewteen tensor_c, tensor_d (transposed)\n",
        "tf.matmul(tf.transpose(tensor_c), tf.transpose(tensor_d))"
      ],
      "execution_count": 63,
      "outputs": [
        {
          "output_type": "execute_result",
          "data": {
            "text/plain": [
              "<tf.Tensor: shape=(2, 2), dtype=int32, numpy=\n",
              "array([[22, 49],\n",
              "       [28, 64]], dtype=int32)>"
            ]
          },
          "metadata": {
            "tags": []
          },
          "execution_count": 63
        }
      ]
    },
    {
      "cell_type": "code",
      "metadata": {
        "id": "N2TaJCuAUBf-",
        "colab": {
          "base_uri": "https://localhost:8080/"
        },
        "outputId": "f9396935-69df-4974-cb2d-fe0f0f4e1bec"
      },
      "source": [
        "#Perform matrix multiplication bewteen tensor_c, tensor_d (reshaped)\n",
        "tf.matmul(tf.reshape(tensor_c, shape=(2,3)), tf.reshape(tensor_d, shape=(3,2)))"
      ],
      "execution_count": 64,
      "outputs": [
        {
          "output_type": "execute_result",
          "data": {
            "text/plain": [
              "<tf.Tensor: shape=(2, 2), dtype=int32, numpy=\n",
              "array([[22, 28],\n",
              "       [49, 64]], dtype=int32)>"
            ]
          },
          "metadata": {
            "tags": []
          },
          "execution_count": 64
        }
      ]
    },
    {
      "cell_type": "code",
      "metadata": {
        "id": "Yv5kcXi8USzh",
        "colab": {
          "base_uri": "https://localhost:8080/"
        },
        "outputId": "04a66795-0862-4d61-8b0a-a24693ba467d"
      },
      "source": [
        "#Check the vakues of tensor_c, reshaped tensor_c and transposed tensor_c\n",
        "print(\"Normal: \", \"\\n\", tensor_c) # \"\\n\" is for new line\n",
        "print(\"reshaped: \", \"\\n\", tf.reshape(tensor_c, shape=(2,3)))\n",
        "print(\"transposed: \", \"\\n\", tf.transpose(tensor_c))"
      ],
      "execution_count": 65,
      "outputs": [
        {
          "output_type": "stream",
          "text": [
            "Normal:  \n",
            " tf.Tensor(\n",
            "[[1 2]\n",
            " [3 4]\n",
            " [5 6]], shape=(3, 2), dtype=int32)\n",
            "reshaped:  \n",
            " tf.Tensor(\n",
            "[[1 2 3]\n",
            " [4 5 6]], shape=(2, 3), dtype=int32)\n",
            "transposed:  \n",
            " tf.Tensor(\n",
            "[[1 3 5]\n",
            " [2 4 6]], shape=(2, 3), dtype=int32)\n"
          ],
          "name": "stdout"
        }
      ]
    },
    {
      "cell_type": "markdown",
      "metadata": {
        "id": "Qt2Rz1CHWSpw"
      },
      "source": [
        "###Transpose the tensors when one of the axis doesn´t line up rather than reshaping it!!!!!!!! "
      ]
    },
    {
      "cell_type": "markdown",
      "metadata": {
        "id": "tOW_QoidWnSU"
      },
      "source": [
        "###Change the datatype of a tensor\n",
        "Reducing the amount of used memory per tensor"
      ]
    },
    {
      "cell_type": "code",
      "metadata": {
        "id": "CU37Gjq3UvFF",
        "colab": {
          "base_uri": "https://localhost:8080/"
        },
        "outputId": "b0eeacbe-d597-4fe2-b366-3d64d13fab2d"
      },
      "source": [
        "#Create a new tensor with default datatype (float32)\n",
        "B = tf.constant([1.7, 7.4])\n",
        "B.dtype"
      ],
      "execution_count": 66,
      "outputs": [
        {
          "output_type": "execute_result",
          "data": {
            "text/plain": [
              "tf.float32"
            ]
          },
          "metadata": {
            "tags": []
          },
          "execution_count": 66
        }
      ]
    },
    {
      "cell_type": "code",
      "metadata": {
        "id": "aDu0T9feW4Wt",
        "colab": {
          "base_uri": "https://localhost:8080/"
        },
        "outputId": "f72f521b-cbf8-4b22-d7f0-fd9feb6f82c7"
      },
      "source": [
        "C = tf.constant([7,10])\n",
        "C.dtype"
      ],
      "execution_count": 67,
      "outputs": [
        {
          "output_type": "execute_result",
          "data": {
            "text/plain": [
              "tf.int32"
            ]
          },
          "metadata": {
            "tags": []
          },
          "execution_count": 67
        }
      ]
    },
    {
      "cell_type": "code",
      "metadata": {
        "id": "Ndr_JWlyW6t9",
        "colab": {
          "base_uri": "https://localhost:8080/"
        },
        "outputId": "d77466f5-0497-49ca-cd1c-75cc62a1cc7d"
      },
      "source": [
        "#Change from float32 to float16 - reduced precision - more computation speed\n",
        "B = tf.cast(B, dtype=tf.float16)\n",
        "B.dtype"
      ],
      "execution_count": 68,
      "outputs": [
        {
          "output_type": "execute_result",
          "data": {
            "text/plain": [
              "tf.float16"
            ]
          },
          "metadata": {
            "tags": []
          },
          "execution_count": 68
        }
      ]
    },
    {
      "cell_type": "code",
      "metadata": {
        "id": "PkCHE5_6Xpz4",
        "colab": {
          "base_uri": "https://localhost:8080/"
        },
        "outputId": "b01cc04d-dd57-4cd4-b964-6fab1a91502a"
      },
      "source": [
        "C = tf.cast(B, dtype=tf.int16)\n",
        "C.dtype"
      ],
      "execution_count": 69,
      "outputs": [
        {
          "output_type": "execute_result",
          "data": {
            "text/plain": [
              "tf.int16"
            ]
          },
          "metadata": {
            "tags": []
          },
          "execution_count": 69
        }
      ]
    },
    {
      "cell_type": "markdown",
      "metadata": {
        "id": "fkJR_o-KYOSI"
      },
      "source": [
        "###Aggregating tensor\n",
        "\n",
        "Aggregating tensors = condensing them from multiple values down to a smaller amount of values"
      ]
    },
    {
      "cell_type": "code",
      "metadata": {
        "id": "xO45GTEOXzjh",
        "colab": {
          "base_uri": "https://localhost:8080/"
        },
        "outputId": "3645544e-b058-4252-fefa-51ec63a60812"
      },
      "source": [
        "#Get the absolute values\n",
        "D = tf.constant([-7, -10])\n",
        "D"
      ],
      "execution_count": 70,
      "outputs": [
        {
          "output_type": "execute_result",
          "data": {
            "text/plain": [
              "<tf.Tensor: shape=(2,), dtype=int32, numpy=array([ -7, -10], dtype=int32)>"
            ]
          },
          "metadata": {
            "tags": []
          },
          "execution_count": 70
        }
      ]
    },
    {
      "cell_type": "code",
      "metadata": {
        "id": "q80AvRg4x0mB",
        "colab": {
          "base_uri": "https://localhost:8080/"
        },
        "outputId": "94360328-f434-425c-8d35-a3e1ef405164"
      },
      "source": [
        "#Get the absolute values\n",
        "#turn negative into positive values\n",
        "tf.abs(D)"
      ],
      "execution_count": 71,
      "outputs": [
        {
          "output_type": "execute_result",
          "data": {
            "text/plain": [
              "<tf.Tensor: shape=(2,), dtype=int32, numpy=array([ 7, 10], dtype=int32)>"
            ]
          },
          "metadata": {
            "tags": []
          },
          "execution_count": 71
        }
      ]
    },
    {
      "cell_type": "markdown",
      "metadata": {
        "id": "v93StX5QyF19"
      },
      "source": [
        "Let#s go through the following forms of aggregation:\n",
        "* Get the minimumü\n",
        "* Get the maximum\n",
        "* Get the mean of tensor\n",
        "* Get the sum of a tensor"
      ]
    },
    {
      "cell_type": "code",
      "metadata": {
        "id": "276sIDaex6Hc",
        "colab": {
          "base_uri": "https://localhost:8080/"
        },
        "outputId": "fedbb0cd-289a-4df0-c5d1-d909e65864c1"
      },
      "source": [
        "#Creating a random tensor with values between 0 and 100 of size 50\n",
        "E = tf.constant(np.random.randint(0, 100, size=50))\n",
        "E"
      ],
      "execution_count": 72,
      "outputs": [
        {
          "output_type": "execute_result",
          "data": {
            "text/plain": [
              "<tf.Tensor: shape=(50,), dtype=int64, numpy=\n",
              "array([40, 21, 35, 17, 38, 31, 94, 86, 84, 34, 20, 54, 43, 56, 58, 14, 17,\n",
              "       14, 57,  4, 77, 19, 77, 95, 28,  8, 18, 86, 26, 96, 54, 94, 38, 79,\n",
              "       34, 16, 33, 72, 62, 71, 38, 24,  3, 79, 70,  1, 65, 72, 17, 23])>"
            ]
          },
          "metadata": {
            "tags": []
          },
          "execution_count": 72
        }
      ]
    },
    {
      "cell_type": "code",
      "metadata": {
        "id": "yIuEXRdoyPPo",
        "colab": {
          "base_uri": "https://localhost:8080/"
        },
        "outputId": "c05eae71-8b81-4eda-a60a-1a080567c597"
      },
      "source": [
        "tf.size(E), tf.shape, E.ndim"
      ],
      "execution_count": 73,
      "outputs": [
        {
          "output_type": "execute_result",
          "data": {
            "text/plain": [
              "(<tf.Tensor: shape=(), dtype=int32, numpy=50>,\n",
              " <function tensorflow.python.ops.array_ops.shape_v2>,\n",
              " 1)"
            ]
          },
          "metadata": {
            "tags": []
          },
          "execution_count": 73
        }
      ]
    },
    {
      "cell_type": "code",
      "metadata": {
        "id": "d_xT0D22ywKJ",
        "colab": {
          "base_uri": "https://localhost:8080/"
        },
        "outputId": "4ba205b0-0bec-4ed3-e0b2-1904c6e40f32"
      },
      "source": [
        "#Find the minimum\n",
        "tf.reduce_min(E)"
      ],
      "execution_count": 74,
      "outputs": [
        {
          "output_type": "execute_result",
          "data": {
            "text/plain": [
              "<tf.Tensor: shape=(), dtype=int64, numpy=1>"
            ]
          },
          "metadata": {
            "tags": []
          },
          "execution_count": 74
        }
      ]
    },
    {
      "cell_type": "code",
      "metadata": {
        "id": "dNKbOk1ryzWC",
        "colab": {
          "base_uri": "https://localhost:8080/"
        },
        "outputId": "04f6a79c-7128-4681-b64b-4a70077d65a2"
      },
      "source": [
        "#Find the maximim\n",
        "tf.reduce_max(E)"
      ],
      "execution_count": 75,
      "outputs": [
        {
          "output_type": "execute_result",
          "data": {
            "text/plain": [
              "<tf.Tensor: shape=(), dtype=int64, numpy=96>"
            ]
          },
          "metadata": {
            "tags": []
          },
          "execution_count": 75
        }
      ]
    },
    {
      "cell_type": "code",
      "metadata": {
        "id": "CDk51Yyky8PP",
        "colab": {
          "base_uri": "https://localhost:8080/"
        },
        "outputId": "97dd60a3-6e1b-47ee-93de-fcbd180850e4"
      },
      "source": [
        "#Find the mean\n",
        "tf.reduce_mean(E)"
      ],
      "execution_count": 76,
      "outputs": [
        {
          "output_type": "execute_result",
          "data": {
            "text/plain": [
              "<tf.Tensor: shape=(), dtype=int64, numpy=45>"
            ]
          },
          "metadata": {
            "tags": []
          },
          "execution_count": 76
        }
      ]
    },
    {
      "cell_type": "code",
      "metadata": {
        "id": "8Sn0vBMAzBF6",
        "colab": {
          "base_uri": "https://localhost:8080/"
        },
        "outputId": "5c4ad7a7-4248-45f9-8eb6-d85039240e94"
      },
      "source": [
        "#Find the sum\n",
        "tf.reduce_sum(E)"
      ],
      "execution_count": 77,
      "outputs": [
        {
          "output_type": "execute_result",
          "data": {
            "text/plain": [
              "<tf.Tensor: shape=(), dtype=int64, numpy=2292>"
            ]
          },
          "metadata": {
            "tags": []
          },
          "execution_count": 77
        }
      ]
    },
    {
      "cell_type": "code",
      "metadata": {
        "id": "G6JlObBrzGTT",
        "colab": {
          "base_uri": "https://localhost:8080/"
        },
        "outputId": "6dbb7054-46eb-4e7a-c2a3-bb2b830a660d"
      },
      "source": [
        "import tensorflow_probability as tfp\n",
        "#Find the variance\n",
        "print(tfp.stats.variance(E))\n",
        "print(tf.math.reduce_variance(tf.cast(E, dtype=tf.float32)))"
      ],
      "execution_count": 78,
      "outputs": [
        {
          "output_type": "stream",
          "text": [
            "tf.Tensor(801, shape=(), dtype=int64)\n",
            "tf.Tensor(801.1744, shape=(), dtype=float32)\n"
          ],
          "name": "stdout"
        }
      ]
    },
    {
      "cell_type": "code",
      "metadata": {
        "id": "IARoxFvVzPRy",
        "colab": {
          "base_uri": "https://localhost:8080/"
        },
        "outputId": "8ea68d40-862d-4a74-8c3b-fde3f3b2c839"
      },
      "source": [
        "#Find the standard deviation\n",
        "tf.math.reduce_std(tf.cast(E, dtype=tf.float32))"
      ],
      "execution_count": 79,
      "outputs": [
        {
          "output_type": "execute_result",
          "data": {
            "text/plain": [
              "<tf.Tensor: shape=(), dtype=float32, numpy=28.305023>"
            ]
          },
          "metadata": {
            "tags": []
          },
          "execution_count": 79
        }
      ]
    },
    {
      "cell_type": "markdown",
      "metadata": {
        "id": "rbqUfbV616Kt"
      },
      "source": [
        "###Find the positional maximum and minimum"
      ]
    },
    {
      "cell_type": "code",
      "metadata": {
        "id": "XUpAF4tVznRg",
        "colab": {
          "base_uri": "https://localhost:8080/"
        },
        "outputId": "4d994d0f-14c5-476e-e17a-ecfbba8e5ea5"
      },
      "source": [
        "#Create a new tensor for finding positional minumim and maximum\n",
        "tf.random.set_seed(42)\n",
        "F = tf.random.uniform(shape=[50])\n",
        "F"
      ],
      "execution_count": 80,
      "outputs": [
        {
          "output_type": "execute_result",
          "data": {
            "text/plain": [
              "<tf.Tensor: shape=(50,), dtype=float32, numpy=\n",
              "array([0.6645621 , 0.44100678, 0.3528825 , 0.46448255, 0.03366041,\n",
              "       0.68467236, 0.74011743, 0.8724445 , 0.22632635, 0.22319686,\n",
              "       0.3103881 , 0.7223358 , 0.13318717, 0.5480639 , 0.5746088 ,\n",
              "       0.8996835 , 0.00946367, 0.5212307 , 0.6345445 , 0.1993283 ,\n",
              "       0.72942245, 0.54583454, 0.10756552, 0.6767061 , 0.6602763 ,\n",
              "       0.33695042, 0.60141766, 0.21062577, 0.8527372 , 0.44062173,\n",
              "       0.9485276 , 0.23752594, 0.81179297, 0.5263394 , 0.494308  ,\n",
              "       0.21612847, 0.8457197 , 0.8718841 , 0.3083862 , 0.6868038 ,\n",
              "       0.23764038, 0.7817228 , 0.9671384 , 0.06870162, 0.79873943,\n",
              "       0.66028714, 0.5871513 , 0.16461694, 0.7381023 , 0.32054043],\n",
              "      dtype=float32)>"
            ]
          },
          "metadata": {
            "tags": []
          },
          "execution_count": 80
        }
      ]
    },
    {
      "cell_type": "code",
      "metadata": {
        "id": "J3rSAq9p4Kzk",
        "colab": {
          "base_uri": "https://localhost:8080/"
        },
        "outputId": "e65b3313-1a35-4665-ae5d-e67eca81a8bd"
      },
      "source": [
        "#Find the positional maximum\n",
        "tf.argmax(F)"
      ],
      "execution_count": 81,
      "outputs": [
        {
          "output_type": "execute_result",
          "data": {
            "text/plain": [
              "<tf.Tensor: shape=(), dtype=int64, numpy=42>"
            ]
          },
          "metadata": {
            "tags": []
          },
          "execution_count": 81
        }
      ]
    },
    {
      "cell_type": "code",
      "metadata": {
        "id": "jHAa7mBy41C5",
        "colab": {
          "base_uri": "https://localhost:8080/"
        },
        "outputId": "8e80a809-0711-495f-d262-2424e8427c38"
      },
      "source": [
        "#index on our largest value position\n",
        "F[tf.argmax(F)]"
      ],
      "execution_count": 82,
      "outputs": [
        {
          "output_type": "execute_result",
          "data": {
            "text/plain": [
              "<tf.Tensor: shape=(), dtype=float32, numpy=0.9671384>"
            ]
          },
          "metadata": {
            "tags": []
          },
          "execution_count": 82
        }
      ]
    },
    {
      "cell_type": "code",
      "metadata": {
        "id": "wplipDUQ4-N9",
        "colab": {
          "base_uri": "https://localhost:8080/"
        },
        "outputId": "9c8d1aeb-51b4-4473-b332-9bce54d0323f"
      },
      "source": [
        "#Find the max value of F\n",
        "tf.reduce_max(F)"
      ],
      "execution_count": 83,
      "outputs": [
        {
          "output_type": "execute_result",
          "data": {
            "text/plain": [
              "<tf.Tensor: shape=(), dtype=float32, numpy=0.9671384>"
            ]
          },
          "metadata": {
            "tags": []
          },
          "execution_count": 83
        }
      ]
    },
    {
      "cell_type": "code",
      "metadata": {
        "id": "-i77sBef5Twz",
        "colab": {
          "base_uri": "https://localhost:8080/"
        },
        "outputId": "51864992-47ca-4f61-bd26-b6d7d78b50ba"
      },
      "source": [
        "#Check for equality\n",
        "tf.reduce_max(F) == F[tf.argmax(F)]"
      ],
      "execution_count": 84,
      "outputs": [
        {
          "output_type": "execute_result",
          "data": {
            "text/plain": [
              "<tf.Tensor: shape=(), dtype=bool, numpy=True>"
            ]
          },
          "metadata": {
            "tags": []
          },
          "execution_count": 84
        }
      ]
    },
    {
      "cell_type": "code",
      "metadata": {
        "id": "vmPZLh6j4reH",
        "colab": {
          "base_uri": "https://localhost:8080/"
        },
        "outputId": "b7b592c0-428a-4753-ac5b-2ba4a178f568"
      },
      "source": [
        "#Find the positional minimum\n",
        "tf.argmin(F)"
      ],
      "execution_count": 85,
      "outputs": [
        {
          "output_type": "execute_result",
          "data": {
            "text/plain": [
              "<tf.Tensor: shape=(), dtype=int64, numpy=16>"
            ]
          },
          "metadata": {
            "tags": []
          },
          "execution_count": 85
        }
      ]
    },
    {
      "cell_type": "code",
      "metadata": {
        "id": "cCGG80mX4wB3",
        "colab": {
          "base_uri": "https://localhost:8080/"
        },
        "outputId": "7368d59e-4143-4fe7-af2e-bfd60053ed91"
      },
      "source": [
        "#index on our smallest value position\n",
        "F[tf.argmin(F)]"
      ],
      "execution_count": 86,
      "outputs": [
        {
          "output_type": "execute_result",
          "data": {
            "text/plain": [
              "<tf.Tensor: shape=(), dtype=float32, numpy=0.009463668>"
            ]
          },
          "metadata": {
            "tags": []
          },
          "execution_count": 86
        }
      ]
    },
    {
      "cell_type": "code",
      "metadata": {
        "id": "NlxAd2NB5Ifx",
        "colab": {
          "base_uri": "https://localhost:8080/"
        },
        "outputId": "b3360d9b-7ecc-4c82-88ae-372ddcf54b87"
      },
      "source": [
        "#Find the max value of F\n",
        "tf.reduce_min(F)"
      ],
      "execution_count": 87,
      "outputs": [
        {
          "output_type": "execute_result",
          "data": {
            "text/plain": [
              "<tf.Tensor: shape=(), dtype=float32, numpy=0.009463668>"
            ]
          },
          "metadata": {
            "tags": []
          },
          "execution_count": 87
        }
      ]
    },
    {
      "cell_type": "code",
      "metadata": {
        "id": "uv1_V8Cg5PYU",
        "colab": {
          "base_uri": "https://localhost:8080/"
        },
        "outputId": "bbe3ed87-2e39-4ba5-8f21-f573da867072"
      },
      "source": [
        "#Check for equality\n",
        "tf.reduce_min(F) == F[tf.argmin(F)]"
      ],
      "execution_count": 88,
      "outputs": [
        {
          "output_type": "execute_result",
          "data": {
            "text/plain": [
              "<tf.Tensor: shape=(), dtype=bool, numpy=True>"
            ]
          },
          "metadata": {
            "tags": []
          },
          "execution_count": 88
        }
      ]
    },
    {
      "cell_type": "markdown",
      "metadata": {
        "id": "DMvcKibq6De8"
      },
      "source": [
        "###Squeezing a tensor (removing all single dimensions)"
      ]
    },
    {
      "cell_type": "code",
      "metadata": {
        "id": "wbPM32755ppb",
        "colab": {
          "base_uri": "https://localhost:8080/"
        },
        "outputId": "90934041-f792-4c3d-c654-8e26ee00c54e"
      },
      "source": [
        "#Create a tensor to get started\n",
        "tf.random.set_seed(42)\n",
        "G = tf.constant(tf.random.uniform(shape=[50]), shape=(1,1,1,1,50))\n",
        "G"
      ],
      "execution_count": 89,
      "outputs": [
        {
          "output_type": "execute_result",
          "data": {
            "text/plain": [
              "<tf.Tensor: shape=(1, 1, 1, 1, 50), dtype=float32, numpy=\n",
              "array([[[[[0.6645621 , 0.44100678, 0.3528825 , 0.46448255, 0.03366041,\n",
              "           0.68467236, 0.74011743, 0.8724445 , 0.22632635, 0.22319686,\n",
              "           0.3103881 , 0.7223358 , 0.13318717, 0.5480639 , 0.5746088 ,\n",
              "           0.8996835 , 0.00946367, 0.5212307 , 0.6345445 , 0.1993283 ,\n",
              "           0.72942245, 0.54583454, 0.10756552, 0.6767061 , 0.6602763 ,\n",
              "           0.33695042, 0.60141766, 0.21062577, 0.8527372 , 0.44062173,\n",
              "           0.9485276 , 0.23752594, 0.81179297, 0.5263394 , 0.494308  ,\n",
              "           0.21612847, 0.8457197 , 0.8718841 , 0.3083862 , 0.6868038 ,\n",
              "           0.23764038, 0.7817228 , 0.9671384 , 0.06870162, 0.79873943,\n",
              "           0.66028714, 0.5871513 , 0.16461694, 0.7381023 , 0.32054043]]]]],\n",
              "      dtype=float32)>"
            ]
          },
          "metadata": {
            "tags": []
          },
          "execution_count": 89
        }
      ]
    },
    {
      "cell_type": "code",
      "metadata": {
        "id": "-w85jzM66QtF",
        "colab": {
          "base_uri": "https://localhost:8080/"
        },
        "outputId": "7b7db240-24a4-4bb2-b1a6-2ef4ee2768c8"
      },
      "source": [
        "#print shape and dims\n",
        "G.shape, G.ndim"
      ],
      "execution_count": 90,
      "outputs": [
        {
          "output_type": "execute_result",
          "data": {
            "text/plain": [
              "(TensorShape([1, 1, 1, 1, 50]), 5)"
            ]
          },
          "metadata": {
            "tags": []
          },
          "execution_count": 90
        }
      ]
    },
    {
      "cell_type": "code",
      "metadata": {
        "id": "W4_6wjGM6XnI",
        "colab": {
          "base_uri": "https://localhost:8080/"
        },
        "outputId": "13820563-71a6-4c63-ff74-335c56e53ee2"
      },
      "source": [
        "G_squeezed = tf.squeeze(G)\n",
        "G_squeezed.shape"
      ],
      "execution_count": 91,
      "outputs": [
        {
          "output_type": "execute_result",
          "data": {
            "text/plain": [
              "TensorShape([50])"
            ]
          },
          "metadata": {
            "tags": []
          },
          "execution_count": 91
        }
      ]
    },
    {
      "cell_type": "markdown",
      "metadata": {
        "id": "Ux7pJ6YH6x98"
      },
      "source": [
        "###One-hot encoding tensors"
      ]
    },
    {
      "cell_type": "code",
      "metadata": {
        "id": "fW0tB73c6k2o",
        "colab": {
          "base_uri": "https://localhost:8080/"
        },
        "outputId": "13ecb608-329f-4804-81a8-c8942c4ae117"
      },
      "source": [
        "#Create a list of indices\n",
        "some_list = [0,2,3,4] #could be red, green, blue, purple\n",
        "\n",
        "#One hot encode our list of indices\n",
        "tf.one_hot(some_list, 4)"
      ],
      "execution_count": 92,
      "outputs": [
        {
          "output_type": "execute_result",
          "data": {
            "text/plain": [
              "<tf.Tensor: shape=(4, 4), dtype=float32, numpy=\n",
              "array([[1., 0., 0., 0.],\n",
              "       [0., 0., 1., 0.],\n",
              "       [0., 0., 0., 1.],\n",
              "       [0., 0., 0., 0.]], dtype=float32)>"
            ]
          },
          "metadata": {
            "tags": []
          },
          "execution_count": 92
        }
      ]
    },
    {
      "cell_type": "code",
      "metadata": {
        "id": "bTza7i8Y7cVD",
        "colab": {
          "base_uri": "https://localhost:8080/"
        },
        "outputId": "75a236ab-03da-4c24-ee96-5b5d5be84376"
      },
      "source": [
        "#Specify costum values for one hot encoding\n",
        "#on_value for 1\n",
        "#off_value for 0\n",
        "tf.one_hot(some_list, depth=4, on_value=\"i love deep learning\", off_value=\"i love machine learning\")"
      ],
      "execution_count": 93,
      "outputs": [
        {
          "output_type": "execute_result",
          "data": {
            "text/plain": [
              "<tf.Tensor: shape=(4, 4), dtype=string, numpy=\n",
              "array([[b'i love deep learning', b'i love machine learning',\n",
              "        b'i love machine learning', b'i love machine learning'],\n",
              "       [b'i love machine learning', b'i love machine learning',\n",
              "        b'i love deep learning', b'i love machine learning'],\n",
              "       [b'i love machine learning', b'i love machine learning',\n",
              "        b'i love machine learning', b'i love deep learning'],\n",
              "       [b'i love machine learning', b'i love machine learning',\n",
              "        b'i love machine learning', b'i love machine learning']],\n",
              "      dtype=object)>"
            ]
          },
          "metadata": {
            "tags": []
          },
          "execution_count": 93
        }
      ]
    },
    {
      "cell_type": "markdown",
      "metadata": {
        "id": "uqTaJ4T38j-p"
      },
      "source": [
        "###Squaring, log, square root"
      ]
    },
    {
      "cell_type": "code",
      "metadata": {
        "id": "DqZ9iaHd8iYL",
        "colab": {
          "base_uri": "https://localhost:8080/"
        },
        "outputId": "15944222-cc09-4a2b-9d1e-e11a5ac4b3fa"
      },
      "source": [
        "H = tf.range(1, 10)\n",
        "H"
      ],
      "execution_count": 94,
      "outputs": [
        {
          "output_type": "execute_result",
          "data": {
            "text/plain": [
              "<tf.Tensor: shape=(9,), dtype=int32, numpy=array([1, 2, 3, 4, 5, 6, 7, 8, 9], dtype=int32)>"
            ]
          },
          "metadata": {
            "tags": []
          },
          "execution_count": 94
        }
      ]
    },
    {
      "cell_type": "code",
      "metadata": {
        "id": "wR2zot8h8nuy",
        "colab": {
          "base_uri": "https://localhost:8080/"
        },
        "outputId": "2db6f58b-0e4d-4208-9406-40d5346cf3a4"
      },
      "source": [
        "tf.square(H)"
      ],
      "execution_count": 95,
      "outputs": [
        {
          "output_type": "execute_result",
          "data": {
            "text/plain": [
              "<tf.Tensor: shape=(9,), dtype=int32, numpy=array([ 1,  4,  9, 16, 25, 36, 49, 64, 81], dtype=int32)>"
            ]
          },
          "metadata": {
            "tags": []
          },
          "execution_count": 95
        }
      ]
    },
    {
      "cell_type": "code",
      "metadata": {
        "id": "uExE4Nll8qQh",
        "colab": {
          "base_uri": "https://localhost:8080/"
        },
        "outputId": "23d2b798-dd17-4dc6-95eb-3e9c52fe9c90"
      },
      "source": [
        "#Finde the squareroot\n",
        "tf.sqrt(tf.cast(H, dtype=tf.float32))"
      ],
      "execution_count": 96,
      "outputs": [
        {
          "output_type": "execute_result",
          "data": {
            "text/plain": [
              "<tf.Tensor: shape=(9,), dtype=float32, numpy=\n",
              "array([1.       , 1.4142135, 1.7320508, 2.       , 2.236068 , 2.4494898,\n",
              "       2.6457512, 2.828427 , 3.       ], dtype=float32)>"
            ]
          },
          "metadata": {
            "tags": []
          },
          "execution_count": 96
        }
      ]
    },
    {
      "cell_type": "code",
      "metadata": {
        "id": "mzJ0mbiX8wS6",
        "colab": {
          "base_uri": "https://localhost:8080/"
        },
        "outputId": "3f3eb3a8-7e12-4ca3-958e-65c5bbd88773"
      },
      "source": [
        "#Find the log\n",
        "tf.math.log(tf.cast(H, dtype=tf.float32))"
      ],
      "execution_count": 97,
      "outputs": [
        {
          "output_type": "execute_result",
          "data": {
            "text/plain": [
              "<tf.Tensor: shape=(9,), dtype=float32, numpy=\n",
              "array([0.       , 0.6931472, 1.0986123, 1.3862944, 1.609438 , 1.7917595,\n",
              "       1.9459102, 2.0794415, 2.1972246], dtype=float32)>"
            ]
          },
          "metadata": {
            "tags": []
          },
          "execution_count": 97
        }
      ]
    },
    {
      "cell_type": "markdown",
      "metadata": {
        "id": "p2rhsBQN9fgM"
      },
      "source": [
        "###Tensors and NumPy\n",
        "\n",
        "TensorFlow interacts beautifully with NumPy arrays"
      ]
    },
    {
      "cell_type": "code",
      "metadata": {
        "id": "InAV-mN39EmG",
        "colab": {
          "base_uri": "https://localhost:8080/"
        },
        "outputId": "1ce1ac1d-c605-441d-d25d-1e2e199fd034"
      },
      "source": [
        "#Create a tensor directly from a NumPy array\n",
        "J = tf.constant(np.array([3., 7., 10.]))\n",
        "J"
      ],
      "execution_count": 98,
      "outputs": [
        {
          "output_type": "execute_result",
          "data": {
            "text/plain": [
              "<tf.Tensor: shape=(3,), dtype=float64, numpy=array([ 3.,  7., 10.])>"
            ]
          },
          "metadata": {
            "tags": []
          },
          "execution_count": 98
        }
      ]
    },
    {
      "cell_type": "code",
      "metadata": {
        "id": "3vfpC6809zfy",
        "colab": {
          "base_uri": "https://localhost:8080/"
        },
        "outputId": "471632a3-f55e-4cd9-93b4-667321680559"
      },
      "source": [
        "#Convert our tensor back to a NumPy array\n",
        "np.array(J), type(np.array(J))"
      ],
      "execution_count": 99,
      "outputs": [
        {
          "output_type": "execute_result",
          "data": {
            "text/plain": [
              "(array([ 3.,  7., 10.]), numpy.ndarray)"
            ]
          },
          "metadata": {
            "tags": []
          },
          "execution_count": 99
        }
      ]
    },
    {
      "cell_type": "code",
      "metadata": {
        "id": "IieAGljb96H8",
        "colab": {
          "base_uri": "https://localhost:8080/"
        },
        "outputId": "559a0f17-d67c-48dc-c2e2-b39ef69a839d"
      },
      "source": [
        "#Convert tensor J to a NumPy array\n",
        "J.numpy(), type(J.numpy())"
      ],
      "execution_count": 100,
      "outputs": [
        {
          "output_type": "execute_result",
          "data": {
            "text/plain": [
              "(array([ 3.,  7., 10.]), numpy.ndarray)"
            ]
          },
          "metadata": {
            "tags": []
          },
          "execution_count": 100
        }
      ]
    },
    {
      "cell_type": "code",
      "metadata": {
        "id": "2y7xw53v-Cm8",
        "colab": {
          "base_uri": "https://localhost:8080/"
        },
        "outputId": "38cc3fb0-e92e-4d85-ecc5-62afa1c017c2"
      },
      "source": [
        "J = tf.constant([3.])\n",
        "J.numpy()[0]"
      ],
      "execution_count": 101,
      "outputs": [
        {
          "output_type": "execute_result",
          "data": {
            "text/plain": [
              "3.0"
            ]
          },
          "metadata": {
            "tags": []
          },
          "execution_count": 101
        }
      ]
    },
    {
      "cell_type": "code",
      "metadata": {
        "id": "XMH-kCAQ-Gi3"
      },
      "source": [
        "#The default types of each are slightly different\n",
        "numpy_J = tf.constant([np.array([3., 7., 10.])])\n",
        "tensor_J = tf.constant([3., 7., 10.])"
      ],
      "execution_count": 102,
      "outputs": []
    },
    {
      "cell_type": "code",
      "metadata": {
        "id": "j6havEnn-QW7",
        "colab": {
          "base_uri": "https://localhost:8080/"
        },
        "outputId": "51fedbc9-34d3-4adf-ddfd-8614b0fd3cc5"
      },
      "source": [
        "#Check th datatypes of each\n",
        "numpy_J.dtype, tensor_J.dtype"
      ],
      "execution_count": 103,
      "outputs": [
        {
          "output_type": "execute_result",
          "data": {
            "text/plain": [
              "(tf.float64, tf.float32)"
            ]
          },
          "metadata": {
            "tags": []
          },
          "execution_count": 103
        }
      ]
    },
    {
      "cell_type": "markdown",
      "metadata": {
        "id": "g2K5fOYD-4Dt"
      },
      "source": [
        "###Finding access to GPUs"
      ]
    },
    {
      "cell_type": "code",
      "metadata": {
        "id": "azCWAins-l1Y",
        "colab": {
          "base_uri": "https://localhost:8080/"
        },
        "outputId": "fd868ee1-5595-4f42-f6bc-0acf1ccbac60"
      },
      "source": [
        "tf.config.list_physical_devices()"
      ],
      "execution_count": 104,
      "outputs": [
        {
          "output_type": "execute_result",
          "data": {
            "text/plain": [
              "[PhysicalDevice(name='/physical_device:CPU:0', device_type='CPU'),\n",
              " PhysicalDevice(name='/physical_device:GPU:0', device_type='GPU')]"
            ]
          },
          "metadata": {
            "tags": []
          },
          "execution_count": 104
        }
      ]
    },
    {
      "cell_type": "code",
      "metadata": {
        "id": "PnINZet8_gE1",
        "colab": {
          "base_uri": "https://localhost:8080/"
        },
        "outputId": "7f0a18af-0443-48b2-ec3c-abc54fc75399"
      },
      "source": [
        "!nvidia-smi"
      ],
      "execution_count": 105,
      "outputs": [
        {
          "output_type": "stream",
          "text": [
            "Tue Jun 15 12:50:43 2021       \n",
            "+-----------------------------------------------------------------------------+\n",
            "| NVIDIA-SMI 465.27       Driver Version: 460.32.03    CUDA Version: 11.2     |\n",
            "|-------------------------------+----------------------+----------------------+\n",
            "| GPU  Name        Persistence-M| Bus-Id        Disp.A | Volatile Uncorr. ECC |\n",
            "| Fan  Temp  Perf  Pwr:Usage/Cap|         Memory-Usage | GPU-Util  Compute M. |\n",
            "|                               |                      |               MIG M. |\n",
            "|===============================+======================+======================|\n",
            "|   0  Tesla K80           Off  | 00000000:00:04.0 Off |                    0 |\n",
            "| N/A   66C    P0    72W / 149W |    124MiB / 11441MiB |      0%      Default |\n",
            "|                               |                      |                  N/A |\n",
            "+-------------------------------+----------------------+----------------------+\n",
            "                                                                               \n",
            "+-----------------------------------------------------------------------------+\n",
            "| Processes:                                                                  |\n",
            "|  GPU   GI   CI        PID   Type   Process name                  GPU Memory |\n",
            "|        ID   ID                                                   Usage      |\n",
            "|=============================================================================|\n",
            "+-----------------------------------------------------------------------------+\n"
          ],
          "name": "stdout"
        }
      ]
    },
    {
      "cell_type": "markdown",
      "metadata": {
        "id": "wdDtubZVByxj"
      },
      "source": [
        "###Tensorflow Fundamentals Exercised\n",
        "* Create a vector, scalar, matrix and tensor with values of your choosing using tf.constant().\n",
        "* Find the shape, rank and size of the tensors you created in 1.\n",
        "* Create two tensors containing random values between 0 and 1 with shape [5, 300].\n",
        "* Multiply the two tensors you created in 3 using matrix multiplication.\n",
        "* Multiply the two tensors you created in 3 using dot product.\n",
        "* Create a tensor with random values between 0 and 1 with shape [224, 224, 3].\n",
        "* Find the min and max values of the tensor you created in 6 along the first axis.\n",
        "* Created a tensor with random values of shape [1, 224, 224, 3] then squeeze it to change the shape to [224, 224, 3].\n",
        "* Create a tensor with shape [10] using your own choice of values, then find the index which has the maximum value.\n",
        "* One-hot encode the tensor you created in 9."
      ]
    },
    {
      "cell_type": "markdown",
      "metadata": {
        "id": "qjYQKISiwbki"
      },
      "source": [
        "###Create a vector, scalar, matrix and tensor with values of your choosing using tf.constant()"
      ]
    },
    {
      "cell_type": "code",
      "metadata": {
        "id": "axNwVJjVAUvF",
        "outputId": "f29ce350-5cd2-4f9c-9833-13ad243d00ea",
        "colab": {
          "base_uri": "https://localhost:8080/"
        }
      },
      "source": [
        "#create vector\n",
        "scalar = tf.constant(7)\n",
        "print(scalar)\n",
        "\n",
        "#create vector\n",
        "vector = tf.constant([7])\n",
        "print(vector)\n",
        "\n",
        "#create matrix\n",
        "matrix = tf.constant([[1,2], [3,4]])\n",
        "print(matrix)"
      ],
      "execution_count": 110,
      "outputs": [
        {
          "output_type": "stream",
          "text": [
            "tf.Tensor(7, shape=(), dtype=int32)\n",
            "tf.Tensor([7], shape=(1,), dtype=int32)\n",
            "tf.Tensor(\n",
            "[[1 2]\n",
            " [3 4]], shape=(2, 2), dtype=int32)\n"
          ],
          "name": "stdout"
        }
      ]
    },
    {
      "cell_type": "markdown",
      "metadata": {
        "id": "GIEpHwCAwgZJ"
      },
      "source": [
        "###Find the shape, rank and size of the tensors you created in 1"
      ]
    },
    {
      "cell_type": "code",
      "metadata": {
        "id": "gqdIZGf_ucxx",
        "outputId": "be87ad97-88bc-4f57-d01b-69ecdd91264e",
        "colab": {
          "base_uri": "https://localhost:8080/"
        }
      },
      "source": [
        "print(matrix.ndim)\n",
        "print(tf.size(matrix))\n",
        "print(matrix.shape)"
      ],
      "execution_count": 114,
      "outputs": [
        {
          "output_type": "stream",
          "text": [
            "2\n",
            "tf.Tensor(4, shape=(), dtype=int32)\n",
            "(2, 2)\n"
          ],
          "name": "stdout"
        }
      ]
    },
    {
      "cell_type": "markdown",
      "metadata": {
        "id": "kpO2zF7wwjvd"
      },
      "source": [
        "###Create two tensors containing random values between 0 and 1 with shape [5, 300]"
      ]
    },
    {
      "cell_type": "code",
      "metadata": {
        "id": "C06RX3k2uypK",
        "outputId": "fd5ebbc3-1ffd-463d-d023-ad625e2dd965",
        "colab": {
          "base_uri": "https://localhost:8080/"
        }
      },
      "source": [
        "tensor_1 = tf.constant(tf.random.uniform(shape=[50,300], minval=0, maxval=1))\n",
        "print(tensor_1)\n",
        "tensor_2 = tf.constant(tf.random.uniform(shape=[50,300], minval=0, maxval=1))\n",
        "print(tensor_2)"
      ],
      "execution_count": 117,
      "outputs": [
        {
          "output_type": "stream",
          "text": [
            "tf.Tensor(\n",
            "[[0.7402308  0.33938193 0.5692506  ... 0.08656633 0.19666708 0.7110305 ]\n",
            " [0.13257599 0.81292987 0.01284087 ... 0.02695906 0.2927854  0.06227863]\n",
            " [0.282601   0.47868013 0.77569485 ... 0.28239357 0.632112   0.44452012]\n",
            " ...\n",
            " [0.6731651  0.63108253 0.2098962  ... 0.37547696 0.82709694 0.635648  ]\n",
            " [0.52541363 0.2578931  0.4899907  ... 0.11915755 0.1498146  0.562603  ]\n",
            " [0.905437   0.05022049 0.35830045 ... 0.27568126 0.49763584 0.0979948 ]], shape=(50, 300), dtype=float32)\n",
            "tf.Tensor(\n",
            "[[0.803156   0.49777734 0.37054038 ... 0.42893624 0.49179256 0.39297235]\n",
            " [0.14517438 0.72666824 0.80103934 ... 0.832801   0.649397   0.29312778]\n",
            " [0.4216962  0.6768439  0.5627917  ... 0.56929183 0.90308595 0.31530714]\n",
            " ...\n",
            " [0.68566203 0.07046258 0.71720064 ... 0.25159955 0.10929298 0.10233796]\n",
            " [0.6045923  0.69994485 0.47038162 ... 0.45403755 0.05333316 0.87795544]\n",
            " [0.71405685 0.7551999  0.31251216 ... 0.43226135 0.6497493  0.5724485 ]], shape=(50, 300), dtype=float32)\n"
          ],
          "name": "stdout"
        }
      ]
    },
    {
      "cell_type": "markdown",
      "metadata": {
        "id": "eHw4z1X9xf2M"
      },
      "source": [
        "###Multiply the two tensors you created in 3 using matrix multiplication"
      ]
    },
    {
      "cell_type": "code",
      "metadata": {
        "id": "-SqqSfvpu9yp",
        "outputId": "70eabb67-9ae7-4434-8c10-bb4fd0431694",
        "colab": {
          "base_uri": "https://localhost:8080/"
        }
      },
      "source": [
        "tf.random.set_seed(1234)\n",
        "matrix_multi = tf.matmul(tensor_1, tf.transpose(tensor_2))\n",
        "print(matrix_multi)"
      ],
      "execution_count": 123,
      "outputs": [
        {
          "output_type": "stream",
          "text": [
            "tf.Tensor(\n",
            "[[72.34167  73.84326  71.99728  ... 72.9375   77.68646  72.77771 ]\n",
            " [76.29978  75.77642  71.65504  ... 77.434494 81.19283  73.778595]\n",
            " [72.809166 75.741    71.19902  ... 75.02624  82.39215  74.73723 ]\n",
            " ...\n",
            " [72.10935  74.11469  69.927505 ... 73.14264  77.64272  72.30599 ]\n",
            " [71.04971  74.01509  68.65893  ... 73.12417  76.789505 68.16754 ]\n",
            " [66.24061  71.672745 65.98588  ... 66.07761  71.06752  64.51675 ]], shape=(50, 50), dtype=float32)\n"
          ],
          "name": "stdout"
        }
      ]
    },
    {
      "cell_type": "markdown",
      "metadata": {
        "id": "38UkB8InyO2D"
      },
      "source": [
        "###Multiply the two tensors you created in 3 using dot product"
      ]
    },
    {
      "cell_type": "code",
      "metadata": {
        "id": "9NenDC6cx9Q-",
        "outputId": "fa77dcfc-4af2-497c-d8be-161226f280c4",
        "colab": {
          "base_uri": "https://localhost:8080/"
        }
      },
      "source": [
        "tf.random.set_seed(1234)\n",
        "matrix_dot = tf.tensordot(tensor_1, tf.transpose(tensor_2), axes=1)\n",
        "print(matrix_dot)"
      ],
      "execution_count": 124,
      "outputs": [
        {
          "output_type": "stream",
          "text": [
            "tf.Tensor(\n",
            "[[72.34167  73.84326  71.99728  ... 72.9375   77.68646  72.77771 ]\n",
            " [76.29978  75.77642  71.65504  ... 77.434494 81.19283  73.778595]\n",
            " [72.809166 75.741    71.19902  ... 75.02624  82.39215  74.73723 ]\n",
            " ...\n",
            " [72.10935  74.11469  69.927505 ... 73.14264  77.64272  72.30599 ]\n",
            " [71.04971  74.01509  68.65893  ... 73.12417  76.789505 68.16754 ]\n",
            " [66.24061  71.672745 65.98588  ... 66.07761  71.06752  64.51675 ]], shape=(50, 50), dtype=float32)\n"
          ],
          "name": "stdout"
        }
      ]
    },
    {
      "cell_type": "markdown",
      "metadata": {
        "id": "qaCK6pgIzSVB"
      },
      "source": [
        "###Create a tensor with random values between 0 and 1 with shape [224, 224, 3]"
      ]
    },
    {
      "cell_type": "code",
      "metadata": {
        "id": "ZzElO908yY8u",
        "outputId": "5b187754-e0d8-427e-9482-af8f1efefe18",
        "colab": {
          "base_uri": "https://localhost:8080/"
        }
      },
      "source": [
        "tensor_3 = tf.constant(tf.random.uniform(shape=[224,224,3], minval=0, maxval=1))\n",
        "print(tensor_3)"
      ],
      "execution_count": 126,
      "outputs": [
        {
          "output_type": "stream",
          "text": [
            "tf.Tensor(\n",
            "[[[0.3253647  0.1387006  0.64804935]\n",
            "  [0.30401838 0.33676326 0.13018048]\n",
            "  [0.7057973  0.7185966  0.3901472 ]\n",
            "  ...\n",
            "  [0.11343074 0.44401324 0.88350356]\n",
            "  [0.76211643 0.56195986 0.23219168]\n",
            "  [0.60954213 0.02942538 0.27947807]]\n",
            "\n",
            " [[0.822415   0.04287624 0.40232813]\n",
            "  [0.2146796  0.06664944 0.9121816 ]\n",
            "  [0.92641497 0.773713   0.09135592]\n",
            "  ...\n",
            "  [0.04299641 0.5321299  0.28902447]\n",
            "  [0.9597702  0.7267437  0.42682052]\n",
            "  [0.62111163 0.8335587  0.2011472 ]]\n",
            "\n",
            " [[0.8877653  0.50776553 0.7931104 ]\n",
            "  [0.22299576 0.9477774  0.72566867]\n",
            "  [0.7311107  0.28840888 0.5135741 ]\n",
            "  ...\n",
            "  [0.30247498 0.2670051  0.18891227]\n",
            "  [0.9113382  0.90087795 0.11917937]\n",
            "  [0.35887015 0.6951184  0.02325928]]\n",
            "\n",
            " ...\n",
            "\n",
            " [[0.97974646 0.7118156  0.70094335]\n",
            "  [0.99933124 0.60229826 0.5093076 ]\n",
            "  [0.31926906 0.38613808 0.6251074 ]\n",
            "  ...\n",
            "  [0.70401514 0.4881605  0.5254494 ]\n",
            "  [0.5722859  0.21217358 0.9073545 ]\n",
            "  [0.85335386 0.24797952 0.9291222 ]]\n",
            "\n",
            " [[0.71573305 0.3047166  0.77831364]\n",
            "  [0.8654884  0.6861677  0.3660512 ]\n",
            "  [0.52997375 0.7375386  0.04346144]\n",
            "  ...\n",
            "  [0.4929788  0.03692341 0.70746386]\n",
            "  [0.8131541  0.32248414 0.9707366 ]\n",
            "  [0.49017012 0.01581645 0.33525395]]\n",
            "\n",
            " [[0.41770685 0.80609345 0.49851882]\n",
            "  [0.8363097  0.11234748 0.99799895]\n",
            "  [0.07611799 0.7859415  0.6137216 ]\n",
            "  ...\n",
            "  [0.43867862 0.6126617  0.35625994]\n",
            "  [0.3198465  0.5592301  0.6757878 ]\n",
            "  [0.54807687 0.6332023  0.8778846 ]]], shape=(224, 224, 3), dtype=float32)\n"
          ],
          "name": "stdout"
        }
      ]
    },
    {
      "cell_type": "markdown",
      "metadata": {
        "id": "DNR7RTr7z7m4"
      },
      "source": [
        "###Find the min and max values of the tensor you created in 6 along the first axis"
      ]
    },
    {
      "cell_type": "code",
      "metadata": {
        "id": "TuwuKFjCzr5v"
      },
      "source": [
        ""
      ],
      "execution_count": null,
      "outputs": []
    }
  ]
}